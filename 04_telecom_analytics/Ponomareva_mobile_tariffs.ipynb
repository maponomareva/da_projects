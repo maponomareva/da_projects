{
 "cells": [
  {
   "cell_type": "markdown",
   "metadata": {},
   "source": [
    "# Определение перспективного тарифа для телеком компании\n",
    "\n",
    "Целью настоящего исследования является определение более прибыльного тарифа из двух тарифных планов компании «Мегалайн» —  «Смарт» и «Ультра». Результаты будут использованы для корректировки рекламного бюджета. Материалом исследования служат данные 500 клиентов «Мегалайна» по использованию услуг компании за 2018 год.\n",
    "\n",
    "Задачи исследования:\n",
    "1. Изучить активность пользователей за 2018 год и их демографические характеристики;\n",
    "2. Проанализировать, сколько минут разговора, сообщений и интернет-трафика требуется пользователям разных тарифов;\n",
    "3. Выявить, какой тариф в среднем приносит большую выручку;\n",
    "4. Проверить наличие различий в средней выручке от клиентов из Москвы и из других регионов."
   ]
  },
  {
   "cell_type": "markdown",
   "metadata": {
    "toc": true
   },
   "source": [
    "<h1>Оглавление<span class=\"tocSkip\"></span></h1>\n",
    "<div class=\"toc\"><ul class=\"toc-item\"><li><span><a href=\"#Изучение-данных-из-файлов\" data-toc-modified-id=\"Изучение-данных-из-файлов-1\"><span class=\"toc-item-num\">1&nbsp;&nbsp;</span>Изучение данных из файлов</a></span><ul class=\"toc-item\"><li><span><a href=\"#Вывод\" data-toc-modified-id=\"Вывод-1.1\"><span class=\"toc-item-num\">1.1&nbsp;&nbsp;</span>Вывод</a></span></li></ul></li><li><span><a href=\"#Предобработка-данных-и-добавление-результатов-дополнительных-расчётов\" data-toc-modified-id=\"Предобработка-данных-и-добавление-результатов-дополнительных-расчётов-2\"><span class=\"toc-item-num\">2&nbsp;&nbsp;</span>Предобработка данных и добавление результатов дополнительных расчётов</a></span><ul class=\"toc-item\"><li><span><a href=\"#Подготовка-данных-(замена-типов,-заполнение-пропусков-и-т.д.)\" data-toc-modified-id=\"Подготовка-данных-(замена-типов,-заполнение-пропусков-и-т.д.)-2.1\"><span class=\"toc-item-num\">2.1&nbsp;&nbsp;</span>Подготовка данных (замена типов, заполнение пропусков и т.д.)</a></span></li><li><span><a href=\"#Подготовка-пользовательских-данных-(звонки,-смс,-объем-трафика-и-т.д.)\" data-toc-modified-id=\"Подготовка-пользовательских-данных-(звонки,-смс,-объем-трафика-и-т.д.)-2.2\"><span class=\"toc-item-num\">2.2&nbsp;&nbsp;</span>Подготовка пользовательских данных (звонки, смс, объем трафика и т.д.)</a></span></li><li><span><a href=\"#Вывод\" data-toc-modified-id=\"Вывод-2.3\"><span class=\"toc-item-num\">2.3&nbsp;&nbsp;</span>Вывод</a></span></li></ul></li><li><span><a href=\"#Статистический-анализ-данных\" data-toc-modified-id=\"Статистический-анализ-данных-3\"><span class=\"toc-item-num\">3&nbsp;&nbsp;</span>Статистический анализ данных</a></span><ul class=\"toc-item\"><li><span><a href=\"#Использование-минут-разговора\" data-toc-modified-id=\"Использование-минут-разговора-3.1\"><span class=\"toc-item-num\">3.1&nbsp;&nbsp;</span>Использование минут разговора</a></span></li><li><span><a href=\"#Отправка-сообщений\" data-toc-modified-id=\"Отправка-сообщений-3.2\"><span class=\"toc-item-num\">3.2&nbsp;&nbsp;</span>Отправка сообщений</a></span></li><li><span><a href=\"#Использование-интернет-трафика\" data-toc-modified-id=\"Использование-интернет-трафика-3.3\"><span class=\"toc-item-num\">3.3&nbsp;&nbsp;</span>Использование интернет-трафика</a></span></li><li><span><a href=\"#Вывод\" data-toc-modified-id=\"Вывод-3.4\"><span class=\"toc-item-num\">3.4&nbsp;&nbsp;</span>Вывод</a></span></li></ul></li><li><span><a href=\"#Проверка-гипотез\" data-toc-modified-id=\"Проверка-гипотез-4\"><span class=\"toc-item-num\">4&nbsp;&nbsp;</span>Проверка гипотез</a></span><ul class=\"toc-item\"><li><span><a href=\"#Тест-№1:-средняя-выручка-по-тарифам\" data-toc-modified-id=\"Тест-№1:-средняя-выручка-по-тарифам-4.1\"><span class=\"toc-item-num\">4.1&nbsp;&nbsp;</span>Тест №1: средняя выручка по тарифам</a></span><ul class=\"toc-item\"><li><span><a href=\"#Результаты-теста-№1\" data-toc-modified-id=\"Результаты-теста-№1-4.1.1\"><span class=\"toc-item-num\">4.1.1&nbsp;&nbsp;</span>Результаты теста №1</a></span></li></ul></li><li><span><a href=\"#Тест-№2\" data-toc-modified-id=\"Тест-№2-4.2\"><span class=\"toc-item-num\">4.2&nbsp;&nbsp;</span>Тест №2</a></span><ul class=\"toc-item\"><li><span><a href=\"#Результаты-теста-№2\" data-toc-modified-id=\"Результаты-теста-№2-4.2.1\"><span class=\"toc-item-num\">4.2.1&nbsp;&nbsp;</span>Результаты теста №2</a></span></li></ul></li></ul></li><li><span><a href=\"#Общий-вывод\" data-toc-modified-id=\"Общий-вывод-5\"><span class=\"toc-item-num\">5&nbsp;&nbsp;</span>Общий вывод</a></span></li></ul></div>"
   ]
  },
  {
   "cell_type": "markdown",
   "metadata": {},
   "source": [
    "## Изучение данных из файлов"
   ]
  },
  {
   "cell_type": "code",
   "execution_count": 1,
   "metadata": {},
   "outputs": [],
   "source": [
    "#импорт библиотек\n",
    "import pandas as pd\n",
    "import numpy as np\n",
    "import math as mt\n",
    "import matplotlib.pyplot as plt\n",
    "import seaborn as sns\n",
    "from scipy import stats as st\n",
    "from functools import reduce"
   ]
  },
  {
   "cell_type": "code",
   "execution_count": 2,
   "metadata": {},
   "outputs": [],
   "source": [
    "#открытие файлов\n",
    "df_calls = pd.read_csv('/datasets/calls.csv') \n",
    "df_internet = pd.read_csv('/datasets/internet.csv', index_col=0)\n",
    "df_messages = pd.read_csv('/datasets/messages.csv')\n",
    "df_tariffs = pd.read_csv('/datasets/tariffs.csv')\n",
    "df_users = pd.read_csv('/datasets/users.csv')"
   ]
  },
  {
   "cell_type": "markdown",
   "metadata": {},
   "source": [
    "Изучим данные в каждой таблице."
   ]
  },
  {
   "cell_type": "code",
   "execution_count": 3,
   "metadata": {},
   "outputs": [
    {
     "name": "stdout",
     "output_type": "stream",
     "text": [
      "<class 'pandas.core.frame.DataFrame'>\n",
      "RangeIndex: 202607 entries, 0 to 202606\n",
      "Data columns (total 4 columns):\n",
      "id           202607 non-null object\n",
      "call_date    202607 non-null object\n",
      "duration     202607 non-null float64\n",
      "user_id      202607 non-null int64\n",
      "dtypes: float64(1), int64(1), object(2)\n",
      "memory usage: 6.2+ MB\n"
     ]
    },
    {
     "data": {
      "text/html": [
       "<div>\n",
       "<style scoped>\n",
       "    .dataframe tbody tr th:only-of-type {\n",
       "        vertical-align: middle;\n",
       "    }\n",
       "\n",
       "    .dataframe tbody tr th {\n",
       "        vertical-align: top;\n",
       "    }\n",
       "\n",
       "    .dataframe thead th {\n",
       "        text-align: right;\n",
       "    }\n",
       "</style>\n",
       "<table border=\"1\" class=\"dataframe\">\n",
       "  <thead>\n",
       "    <tr style=\"text-align: right;\">\n",
       "      <th></th>\n",
       "      <th>id</th>\n",
       "      <th>call_date</th>\n",
       "      <th>duration</th>\n",
       "      <th>user_id</th>\n",
       "    </tr>\n",
       "  </thead>\n",
       "  <tbody>\n",
       "    <tr>\n",
       "      <td>198083</td>\n",
       "      <td>1485_10</td>\n",
       "      <td>2018-12-31</td>\n",
       "      <td>7.27</td>\n",
       "      <td>1485</td>\n",
       "    </tr>\n",
       "    <tr>\n",
       "      <td>194820</td>\n",
       "      <td>1477_568</td>\n",
       "      <td>2018-09-02</td>\n",
       "      <td>9.70</td>\n",
       "      <td>1477</td>\n",
       "    </tr>\n",
       "    <tr>\n",
       "      <td>6733</td>\n",
       "      <td>1018_521</td>\n",
       "      <td>2018-07-15</td>\n",
       "      <td>12.05</td>\n",
       "      <td>1018</td>\n",
       "    </tr>\n",
       "  </tbody>\n",
       "</table>\n",
       "</div>"
      ],
      "text/plain": [
       "              id   call_date  duration  user_id\n",
       "198083   1485_10  2018-12-31      7.27     1485\n",
       "194820  1477_568  2018-09-02      9.70     1477\n",
       "6733    1018_521  2018-07-15     12.05     1018"
      ]
     },
     "execution_count": 3,
     "metadata": {},
     "output_type": "execute_result"
    }
   ],
   "source": [
    "df_calls.info()\n",
    "df_calls.sample(3)"
   ]
  },
  {
   "cell_type": "markdown",
   "metadata": {},
   "source": [
    "В таблице df_calls содержится информация о звонках: идентификационный номер, дата, длительность звонка в минутах и идентификатор пользователя, сделавшего звонок. Видим, что формат даты - object, для удобства работы лучше изменить его на datetime. Пропущенных значений в датафрейме нет."
   ]
  },
  {
   "cell_type": "code",
   "execution_count": 4,
   "metadata": {},
   "outputs": [
    {
     "name": "stdout",
     "output_type": "stream",
     "text": [
      "<class 'pandas.core.frame.DataFrame'>\n",
      "Int64Index: 149396 entries, 0 to 149395\n",
      "Data columns (total 4 columns):\n",
      "id              149396 non-null object\n",
      "mb_used         149396 non-null float64\n",
      "session_date    149396 non-null object\n",
      "user_id         149396 non-null int64\n",
      "dtypes: float64(1), int64(1), object(2)\n",
      "memory usage: 5.7+ MB\n"
     ]
    },
    {
     "data": {
      "text/html": [
       "<div>\n",
       "<style scoped>\n",
       "    .dataframe tbody tr th:only-of-type {\n",
       "        vertical-align: middle;\n",
       "    }\n",
       "\n",
       "    .dataframe tbody tr th {\n",
       "        vertical-align: top;\n",
       "    }\n",
       "\n",
       "    .dataframe thead th {\n",
       "        text-align: right;\n",
       "    }\n",
       "</style>\n",
       "<table border=\"1\" class=\"dataframe\">\n",
       "  <thead>\n",
       "    <tr style=\"text-align: right;\">\n",
       "      <th></th>\n",
       "      <th>id</th>\n",
       "      <th>mb_used</th>\n",
       "      <th>session_date</th>\n",
       "      <th>user_id</th>\n",
       "    </tr>\n",
       "  </thead>\n",
       "  <tbody>\n",
       "    <tr>\n",
       "      <td>70902</td>\n",
       "      <td>1240_570</td>\n",
       "      <td>296.56</td>\n",
       "      <td>2018-11-13</td>\n",
       "      <td>1240</td>\n",
       "    </tr>\n",
       "    <tr>\n",
       "      <td>16371</td>\n",
       "      <td>1056_175</td>\n",
       "      <td>200.16</td>\n",
       "      <td>2018-10-12</td>\n",
       "      <td>1056</td>\n",
       "    </tr>\n",
       "    <tr>\n",
       "      <td>126743</td>\n",
       "      <td>1425_272</td>\n",
       "      <td>9.72</td>\n",
       "      <td>2018-07-03</td>\n",
       "      <td>1425</td>\n",
       "    </tr>\n",
       "  </tbody>\n",
       "</table>\n",
       "</div>"
      ],
      "text/plain": [
       "              id  mb_used session_date  user_id\n",
       "70902   1240_570   296.56   2018-11-13     1240\n",
       "16371   1056_175   200.16   2018-10-12     1056\n",
       "126743  1425_272     9.72   2018-07-03     1425"
      ]
     },
     "execution_count": 4,
     "metadata": {},
     "output_type": "execute_result"
    }
   ],
   "source": [
    "df_internet.info()\n",
    "df_internet.sample(3)"
   ]
  },
  {
   "cell_type": "markdown",
   "metadata": {},
   "source": [
    "Таблица df_internet содержит информацию об интернет-сессиях: номер сессии, объём потраченного интернет-трафика в мегабайтах, дату и идентификатор пользователя. Формат даты здесь тоже нужно изменить. Пропущенных значений в датафрейме нет."
   ]
  },
  {
   "cell_type": "code",
   "execution_count": 5,
   "metadata": {},
   "outputs": [
    {
     "name": "stdout",
     "output_type": "stream",
     "text": [
      "<class 'pandas.core.frame.DataFrame'>\n",
      "RangeIndex: 123036 entries, 0 to 123035\n",
      "Data columns (total 3 columns):\n",
      "id              123036 non-null object\n",
      "message_date    123036 non-null object\n",
      "user_id         123036 non-null int64\n",
      "dtypes: int64(1), object(2)\n",
      "memory usage: 2.8+ MB\n"
     ]
    },
    {
     "data": {
      "text/html": [
       "<div>\n",
       "<style scoped>\n",
       "    .dataframe tbody tr th:only-of-type {\n",
       "        vertical-align: middle;\n",
       "    }\n",
       "\n",
       "    .dataframe tbody tr th {\n",
       "        vertical-align: top;\n",
       "    }\n",
       "\n",
       "    .dataframe thead th {\n",
       "        text-align: right;\n",
       "    }\n",
       "</style>\n",
       "<table border=\"1\" class=\"dataframe\">\n",
       "  <thead>\n",
       "    <tr style=\"text-align: right;\">\n",
       "      <th></th>\n",
       "      <th>id</th>\n",
       "      <th>message_date</th>\n",
       "      <th>user_id</th>\n",
       "    </tr>\n",
       "  </thead>\n",
       "  <tbody>\n",
       "    <tr>\n",
       "      <td>101841</td>\n",
       "      <td>1416_158</td>\n",
       "      <td>2018-10-12</td>\n",
       "      <td>1416</td>\n",
       "    </tr>\n",
       "    <tr>\n",
       "      <td>62164</td>\n",
       "      <td>1273_22</td>\n",
       "      <td>2018-06-08</td>\n",
       "      <td>1273</td>\n",
       "    </tr>\n",
       "    <tr>\n",
       "      <td>18819</td>\n",
       "      <td>1083_8</td>\n",
       "      <td>2018-06-29</td>\n",
       "      <td>1083</td>\n",
       "    </tr>\n",
       "  </tbody>\n",
       "</table>\n",
       "</div>"
      ],
      "text/plain": [
       "              id message_date  user_id\n",
       "101841  1416_158   2018-10-12     1416\n",
       "62164    1273_22   2018-06-08     1273\n",
       "18819     1083_8   2018-06-29     1083"
      ]
     },
     "execution_count": 5,
     "metadata": {},
     "output_type": "execute_result"
    }
   ],
   "source": [
    "df_messages.info()\n",
    "df_messages.sample(3)"
   ]
  },
  {
   "cell_type": "markdown",
   "metadata": {},
   "source": [
    "В таблице df_messages собрана информация о сообщениях: id, дата сообщения и идентификатор пользователя. Как и в предыдущих датафреймах, нужно изменить формат даты. Пропущенных значений нет. "
   ]
  },
  {
   "cell_type": "code",
   "execution_count": 6,
   "metadata": {},
   "outputs": [
    {
     "name": "stdout",
     "output_type": "stream",
     "text": [
      "<class 'pandas.core.frame.DataFrame'>\n",
      "RangeIndex: 2 entries, 0 to 1\n",
      "Data columns (total 8 columns):\n",
      "messages_included        2 non-null int64\n",
      "mb_per_month_included    2 non-null int64\n",
      "minutes_included         2 non-null int64\n",
      "rub_monthly_fee          2 non-null int64\n",
      "rub_per_gb               2 non-null int64\n",
      "rub_per_message          2 non-null int64\n",
      "rub_per_minute           2 non-null int64\n",
      "tariff_name              2 non-null object\n",
      "dtypes: int64(7), object(1)\n",
      "memory usage: 256.0+ bytes\n"
     ]
    },
    {
     "data": {
      "text/html": [
       "<div>\n",
       "<style scoped>\n",
       "    .dataframe tbody tr th:only-of-type {\n",
       "        vertical-align: middle;\n",
       "    }\n",
       "\n",
       "    .dataframe tbody tr th {\n",
       "        vertical-align: top;\n",
       "    }\n",
       "\n",
       "    .dataframe thead th {\n",
       "        text-align: right;\n",
       "    }\n",
       "</style>\n",
       "<table border=\"1\" class=\"dataframe\">\n",
       "  <thead>\n",
       "    <tr style=\"text-align: right;\">\n",
       "      <th></th>\n",
       "      <th>messages_included</th>\n",
       "      <th>mb_per_month_included</th>\n",
       "      <th>minutes_included</th>\n",
       "      <th>rub_monthly_fee</th>\n",
       "      <th>rub_per_gb</th>\n",
       "      <th>rub_per_message</th>\n",
       "      <th>rub_per_minute</th>\n",
       "      <th>tariff_name</th>\n",
       "    </tr>\n",
       "  </thead>\n",
       "  <tbody>\n",
       "    <tr>\n",
       "      <td>0</td>\n",
       "      <td>50</td>\n",
       "      <td>15360</td>\n",
       "      <td>500</td>\n",
       "      <td>550</td>\n",
       "      <td>200</td>\n",
       "      <td>3</td>\n",
       "      <td>3</td>\n",
       "      <td>smart</td>\n",
       "    </tr>\n",
       "    <tr>\n",
       "      <td>1</td>\n",
       "      <td>1000</td>\n",
       "      <td>30720</td>\n",
       "      <td>3000</td>\n",
       "      <td>1950</td>\n",
       "      <td>150</td>\n",
       "      <td>1</td>\n",
       "      <td>1</td>\n",
       "      <td>ultra</td>\n",
       "    </tr>\n",
       "  </tbody>\n",
       "</table>\n",
       "</div>"
      ],
      "text/plain": [
       "   messages_included  mb_per_month_included  minutes_included  \\\n",
       "0                 50                  15360               500   \n",
       "1               1000                  30720              3000   \n",
       "\n",
       "   rub_monthly_fee  rub_per_gb  rub_per_message  rub_per_minute tariff_name  \n",
       "0              550         200                3               3       smart  \n",
       "1             1950         150                1               1       ultra  "
      ]
     },
     "metadata": {},
     "output_type": "display_data"
    }
   ],
   "source": [
    "df_tariffs.info()\n",
    "display(df_tariffs)"
   ]
  },
  {
   "cell_type": "markdown",
   "metadata": {},
   "source": [
    "В таблице df_tariffs собраны характеристики двух тарифов, которые мы будем сравнивать.\n",
    "1. Тариф «Смарт»:\n",
    "- Ежемесячная плата: 550 рублей;\n",
    "- Включено 500 минут разговора, 50 сообщений и 15 Гб интернет-трафика;\n",
    "- Услуги сверх тарифного пакета: 1 минута разговора - 3 рубля; 1 сообщение - 3 рубля; 1 Гб интернет-трафика - 200 рублей.\n",
    "2. Тариф «Ультра»:\n",
    "- Ежемесячная плата: 1950 рублей;\n",
    "- Включено 3000 минут разговора, 1000 сообщений и 30 Гб интернет-трафика;\n",
    "- Услуги сверх тарифного пакета: 1 минута разговора - 1 рубль; 1 сообщение - 1 рубль; 1 Гб интернет-трафика - 150 рублей.\n",
    "\n",
    "Для расчётов стоит помнить, что «Мегалайн» всегда округляет секунды до минут, а мегабайты — до гигабайт. Каждый звонок округляется отдельно: даже если он длился 1 секунду, будет засчитан за 1 минуту. Для интернет-трафика округляется общая сумма за месяц."
   ]
  },
  {
   "cell_type": "code",
   "execution_count": 7,
   "metadata": {},
   "outputs": [
    {
     "name": "stdout",
     "output_type": "stream",
     "text": [
      "<class 'pandas.core.frame.DataFrame'>\n",
      "RangeIndex: 500 entries, 0 to 499\n",
      "Data columns (total 8 columns):\n",
      "user_id       500 non-null int64\n",
      "age           500 non-null int64\n",
      "churn_date    38 non-null object\n",
      "city          500 non-null object\n",
      "first_name    500 non-null object\n",
      "last_name     500 non-null object\n",
      "reg_date      500 non-null object\n",
      "tariff        500 non-null object\n",
      "dtypes: int64(2), object(6)\n",
      "memory usage: 31.4+ KB\n"
     ]
    },
    {
     "data": {
      "text/html": [
       "<div>\n",
       "<style scoped>\n",
       "    .dataframe tbody tr th:only-of-type {\n",
       "        vertical-align: middle;\n",
       "    }\n",
       "\n",
       "    .dataframe tbody tr th {\n",
       "        vertical-align: top;\n",
       "    }\n",
       "\n",
       "    .dataframe thead th {\n",
       "        text-align: right;\n",
       "    }\n",
       "</style>\n",
       "<table border=\"1\" class=\"dataframe\">\n",
       "  <thead>\n",
       "    <tr style=\"text-align: right;\">\n",
       "      <th></th>\n",
       "      <th>user_id</th>\n",
       "      <th>age</th>\n",
       "      <th>churn_date</th>\n",
       "      <th>city</th>\n",
       "      <th>first_name</th>\n",
       "      <th>last_name</th>\n",
       "      <th>reg_date</th>\n",
       "      <th>tariff</th>\n",
       "    </tr>\n",
       "  </thead>\n",
       "  <tbody>\n",
       "    <tr>\n",
       "      <td>318</td>\n",
       "      <td>1318</td>\n",
       "      <td>53</td>\n",
       "      <td>NaN</td>\n",
       "      <td>Курган</td>\n",
       "      <td>Марьяна</td>\n",
       "      <td>Анищенко</td>\n",
       "      <td>2018-03-22</td>\n",
       "      <td>ultra</td>\n",
       "    </tr>\n",
       "    <tr>\n",
       "      <td>24</td>\n",
       "      <td>1024</td>\n",
       "      <td>73</td>\n",
       "      <td>NaN</td>\n",
       "      <td>Санкт-Петербург</td>\n",
       "      <td>Иулиан</td>\n",
       "      <td>Антипов</td>\n",
       "      <td>2018-10-31</td>\n",
       "      <td>ultra</td>\n",
       "    </tr>\n",
       "    <tr>\n",
       "      <td>259</td>\n",
       "      <td>1259</td>\n",
       "      <td>33</td>\n",
       "      <td>NaN</td>\n",
       "      <td>Санкт-Петербург</td>\n",
       "      <td>Эмилия</td>\n",
       "      <td>Третьякова</td>\n",
       "      <td>2018-11-04</td>\n",
       "      <td>ultra</td>\n",
       "    </tr>\n",
       "  </tbody>\n",
       "</table>\n",
       "</div>"
      ],
      "text/plain": [
       "     user_id  age churn_date             city first_name   last_name  \\\n",
       "318     1318   53        NaN           Курган    Марьяна    Анищенко   \n",
       "24      1024   73        NaN  Санкт-Петербург     Иулиан     Антипов   \n",
       "259     1259   33        NaN  Санкт-Петербург     Эмилия  Третьякова   \n",
       "\n",
       "       reg_date tariff  \n",
       "318  2018-03-22  ultra  \n",
       "24   2018-10-31  ultra  \n",
       "259  2018-11-04  ultra  "
      ]
     },
     "execution_count": 7,
     "metadata": {},
     "output_type": "execute_result"
    }
   ],
   "source": [
    "df_users.info()\n",
    "df_users.sample(3)"
   ]
  },
  {
   "cell_type": "markdown",
   "metadata": {},
   "source": [
    "Таблица users содержит информацию о пользователях: уникальный идентификатор пользователя (столбец, который присутствует во всех датафреймах, кроме тарифов, и по которому мы сможем объединять таблицы), имя, фамилию пользователя, возраст, город проживания, дату подключения тарифа и дату прекращения пользования тарифом (в обеих колонках формат нужно изменить на datetime), название тарифного плана. В столбце churn_date достаточно большое (462) количество пропусков, и в рамках нашего исследования это хороший знак - если дата прекращения пользования тарифом не указана, то тариф ещё действовал на момент выгрузки данных, значит, всего 38 пользователей из 500 остались недовольны предоставленным пакетом услуг."
   ]
  },
  {
   "cell_type": "markdown",
   "metadata": {},
   "source": [
    "### Вывод"
   ]
  },
  {
   "cell_type": "markdown",
   "metadata": {},
   "source": [
    "Нам были предоставлены 5 файлов с информацией о пользовании услугами компании «Мегалайн»: статистика по звонкам, сообщениям и использовании мобильного интернета. В датафреймах есть общий столбец user_id, по которому мы сможем объединить все данные. После первичного анализа была выявлена необходимость проведения некоторой предобработки данных: например, изменения формата дат."
   ]
  },
  {
   "cell_type": "markdown",
   "metadata": {},
   "source": [
    "## Предобработка данных и добавление результатов дополнительных расчётов"
   ]
  },
  {
   "cell_type": "markdown",
   "metadata": {},
   "source": [
    "### Подготовка данных (замена типов, заполнение пропусков и т.д.)"
   ]
  },
  {
   "cell_type": "markdown",
   "metadata": {},
   "source": [
    "**Звонки**"
   ]
  },
  {
   "cell_type": "code",
   "execution_count": 8,
   "metadata": {},
   "outputs": [],
   "source": [
    "df_calls['call_date'] = pd.to_datetime(df_calls['call_date'], format='%Y-%m-%d') #изменим формат даты"
   ]
  },
  {
   "cell_type": "markdown",
   "metadata": {},
   "source": [
    "Поскольку мы будем исследовать пользование тарифом по месяцам, добавим соответствующий столбец в датафрейм. "
   ]
  },
  {
   "cell_type": "code",
   "execution_count": 9,
   "metadata": {},
   "outputs": [],
   "source": [
    "df_calls['month'] = pd.DatetimeIndex(df_calls['call_date']).month  "
   ]
  },
  {
   "cell_type": "code",
   "execution_count": 10,
   "metadata": {},
   "outputs": [
    {
     "name": "stdout",
     "output_type": "stream",
     "text": [
      "<class 'pandas.core.frame.DataFrame'>\n",
      "RangeIndex: 202607 entries, 0 to 202606\n",
      "Data columns (total 5 columns):\n",
      "id           202607 non-null object\n",
      "call_date    202607 non-null datetime64[ns]\n",
      "duration     202607 non-null float64\n",
      "user_id      202607 non-null int64\n",
      "month        202607 non-null int64\n",
      "dtypes: datetime64[ns](1), float64(1), int64(2), object(1)\n",
      "memory usage: 7.7+ MB\n"
     ]
    }
   ],
   "source": [
    "df_calls.info() #посмотрим на краткую сводку"
   ]
  },
  {
   "cell_type": "code",
   "execution_count": 11,
   "metadata": {},
   "outputs": [
    {
     "data": {
      "text/plain": [
       "0"
      ]
     },
     "execution_count": 11,
     "metadata": {},
     "output_type": "execute_result"
    }
   ],
   "source": [
    "df_calls.duplicated().sum() #проверим наличие дубликатов"
   ]
  },
  {
   "cell_type": "code",
   "execution_count": 12,
   "metadata": {},
   "outputs": [
    {
     "data": {
      "text/html": [
       "<div>\n",
       "<style scoped>\n",
       "    .dataframe tbody tr th:only-of-type {\n",
       "        vertical-align: middle;\n",
       "    }\n",
       "\n",
       "    .dataframe tbody tr th {\n",
       "        vertical-align: top;\n",
       "    }\n",
       "\n",
       "    .dataframe thead th {\n",
       "        text-align: right;\n",
       "    }\n",
       "</style>\n",
       "<table border=\"1\" class=\"dataframe\">\n",
       "  <thead>\n",
       "    <tr style=\"text-align: right;\">\n",
       "      <th></th>\n",
       "      <th>duration</th>\n",
       "      <th>user_id</th>\n",
       "      <th>month</th>\n",
       "    </tr>\n",
       "  </thead>\n",
       "  <tbody>\n",
       "    <tr>\n",
       "      <td>count</td>\n",
       "      <td>202607.000000</td>\n",
       "      <td>202607.000000</td>\n",
       "      <td>202607.000000</td>\n",
       "    </tr>\n",
       "    <tr>\n",
       "      <td>mean</td>\n",
       "      <td>6.755887</td>\n",
       "      <td>1253.940619</td>\n",
       "      <td>8.574067</td>\n",
       "    </tr>\n",
       "    <tr>\n",
       "      <td>std</td>\n",
       "      <td>5.843365</td>\n",
       "      <td>144.722751</td>\n",
       "      <td>2.787093</td>\n",
       "    </tr>\n",
       "    <tr>\n",
       "      <td>min</td>\n",
       "      <td>0.000000</td>\n",
       "      <td>1000.000000</td>\n",
       "      <td>1.000000</td>\n",
       "    </tr>\n",
       "    <tr>\n",
       "      <td>25%</td>\n",
       "      <td>1.300000</td>\n",
       "      <td>1126.000000</td>\n",
       "      <td>7.000000</td>\n",
       "    </tr>\n",
       "    <tr>\n",
       "      <td>50%</td>\n",
       "      <td>6.000000</td>\n",
       "      <td>1260.000000</td>\n",
       "      <td>9.000000</td>\n",
       "    </tr>\n",
       "    <tr>\n",
       "      <td>75%</td>\n",
       "      <td>10.700000</td>\n",
       "      <td>1379.000000</td>\n",
       "      <td>11.000000</td>\n",
       "    </tr>\n",
       "    <tr>\n",
       "      <td>max</td>\n",
       "      <td>38.000000</td>\n",
       "      <td>1499.000000</td>\n",
       "      <td>12.000000</td>\n",
       "    </tr>\n",
       "  </tbody>\n",
       "</table>\n",
       "</div>"
      ],
      "text/plain": [
       "            duration        user_id          month\n",
       "count  202607.000000  202607.000000  202607.000000\n",
       "mean        6.755887    1253.940619       8.574067\n",
       "std         5.843365     144.722751       2.787093\n",
       "min         0.000000    1000.000000       1.000000\n",
       "25%         1.300000    1126.000000       7.000000\n",
       "50%         6.000000    1260.000000       9.000000\n",
       "75%        10.700000    1379.000000      11.000000\n",
       "max        38.000000    1499.000000      12.000000"
      ]
     },
     "execution_count": 12,
     "metadata": {},
     "output_type": "execute_result"
    }
   ],
   "source": [
    "df_calls.describe() #посмотрим на статистические показатели"
   ]
  },
  {
   "cell_type": "markdown",
   "metadata": {},
   "source": [
    "Продолжительность звонков варьируется от нуля до 38 минут. Поскольку «Мегалайн» всегда округляет секунды до минут, переведём значения в целочисленный формат и проверим, присутствуют ли в данных какие-то аномалии."
   ]
  },
  {
   "cell_type": "code",
   "execution_count": 13,
   "metadata": {},
   "outputs": [],
   "source": [
    "df_calls['duration'] = np.ceil(df_calls['duration']).astype('int')"
   ]
  },
  {
   "cell_type": "code",
   "execution_count": 14,
   "metadata": {},
   "outputs": [
    {
     "data": {
      "image/png": "[encoded data removed]",
      "text/plain": [
       "<Figure size 432x288 with 1 Axes>"
      ]
     },
     "metadata": {
      "needs_background": "light"
     },
     "output_type": "display_data"
    }
   ],
   "source": [
    "df_calls['duration'].hist(bins=40); #построим гистограмму продолжительности звонков"
   ]
  },
  {
   "cell_type": "markdown",
   "metadata": {},
   "source": [
    "Плавность распределения нарушает высокий пик звонков с нулевой продолжительностью - почти 40 тысяч значений. Поскольку мы уже округлили секунды, нулями могут быть обозначены звонки, по которым тарификация так и не началась, например, если их пропустили или \"сбросили\". Проверим, как они распределены по пользователям."
   ]
  },
  {
   "cell_type": "code",
   "execution_count": 15,
   "metadata": {},
   "outputs": [
    {
     "data": {
      "text/plain": [
       "user_id\n",
       "1377    336\n",
       "1168    308\n",
       "1453    295\n",
       "1375    290\n",
       "1196    262\n",
       "Name: duration, dtype: int64"
      ]
     },
     "execution_count": 15,
     "metadata": {},
     "output_type": "execute_result"
    }
   ],
   "source": [
    "df_calls[df_calls['duration'] == 0].groupby('user_id')['duration'].count().sort_values(ascending=False).head()"
   ]
  },
  {
   "cell_type": "code",
   "execution_count": 16,
   "metadata": {},
   "outputs": [
    {
     "data": {
      "text/plain": [
       "user_id\n",
       "1377    1760\n",
       "1168    1692\n",
       "1375    1560\n",
       "1453    1440\n",
       "1196    1240\n",
       "Name: duration, dtype: int64"
      ]
     },
     "execution_count": 16,
     "metadata": {},
     "output_type": "execute_result"
    }
   ],
   "source": [
    "df_calls.groupby('user_id')['duration'].count().sort_values(ascending=False).head() "
   ]
  },
  {
   "cell_type": "markdown",
   "metadata": {},
   "source": [
    "Лидерами по числу нулевых звонков являются пользователи, которые в целом часто звонят, поэтому большое количество пропущенных звонков выглядит реалистично. Нулевые звонки не влияют на расходование месячного пакета, но будут полезны при подсчёте количества совершённых звонков и оценке востребованности данной услуги, поэтому не будем удалять эти значения из датафрейма."
   ]
  },
  {
   "cell_type": "markdown",
   "metadata": {},
   "source": [
    "**Интернет**"
   ]
  },
  {
   "cell_type": "code",
   "execution_count": 17,
   "metadata": {},
   "outputs": [],
   "source": [
    "df_internet['session_date'] = pd.to_datetime(df_internet['session_date'], format='%Y-%m-%d') #изменим формат даты"
   ]
  },
  {
   "cell_type": "code",
   "execution_count": 18,
   "metadata": {},
   "outputs": [],
   "source": [
    "df_internet['month'] = pd.DatetimeIndex(df_internet['session_date']).month #выделим из даты месяц"
   ]
  },
  {
   "cell_type": "code",
   "execution_count": 19,
   "metadata": {},
   "outputs": [
    {
     "name": "stdout",
     "output_type": "stream",
     "text": [
      "<class 'pandas.core.frame.DataFrame'>\n",
      "Int64Index: 149396 entries, 0 to 149395\n",
      "Data columns (total 5 columns):\n",
      "id              149396 non-null object\n",
      "mb_used         149396 non-null float64\n",
      "session_date    149396 non-null datetime64[ns]\n",
      "user_id         149396 non-null int64\n",
      "month           149396 non-null int64\n",
      "dtypes: datetime64[ns](1), float64(1), int64(2), object(1)\n",
      "memory usage: 6.8+ MB\n"
     ]
    }
   ],
   "source": [
    "df_internet.info() #посмотрим на краткую сводку"
   ]
  },
  {
   "cell_type": "code",
   "execution_count": 20,
   "metadata": {},
   "outputs": [
    {
     "data": {
      "text/plain": [
       "0"
      ]
     },
     "execution_count": 20,
     "metadata": {},
     "output_type": "execute_result"
    }
   ],
   "source": [
    "df_internet.duplicated().sum() #проверим наличие дубликатов"
   ]
  },
  {
   "cell_type": "code",
   "execution_count": 21,
   "metadata": {},
   "outputs": [
    {
     "data": {
      "text/html": [
       "<div>\n",
       "<style scoped>\n",
       "    .dataframe tbody tr th:only-of-type {\n",
       "        vertical-align: middle;\n",
       "    }\n",
       "\n",
       "    .dataframe tbody tr th {\n",
       "        vertical-align: top;\n",
       "    }\n",
       "\n",
       "    .dataframe thead th {\n",
       "        text-align: right;\n",
       "    }\n",
       "</style>\n",
       "<table border=\"1\" class=\"dataframe\">\n",
       "  <thead>\n",
       "    <tr style=\"text-align: right;\">\n",
       "      <th></th>\n",
       "      <th>mb_used</th>\n",
       "      <th>user_id</th>\n",
       "      <th>month</th>\n",
       "    </tr>\n",
       "  </thead>\n",
       "  <tbody>\n",
       "    <tr>\n",
       "      <td>count</td>\n",
       "      <td>149396.000000</td>\n",
       "      <td>149396.000000</td>\n",
       "      <td>149396.000000</td>\n",
       "    </tr>\n",
       "    <tr>\n",
       "      <td>mean</td>\n",
       "      <td>370.192426</td>\n",
       "      <td>1252.099842</td>\n",
       "      <td>8.563315</td>\n",
       "    </tr>\n",
       "    <tr>\n",
       "      <td>std</td>\n",
       "      <td>278.300951</td>\n",
       "      <td>144.050823</td>\n",
       "      <td>2.788717</td>\n",
       "    </tr>\n",
       "    <tr>\n",
       "      <td>min</td>\n",
       "      <td>0.000000</td>\n",
       "      <td>1000.000000</td>\n",
       "      <td>1.000000</td>\n",
       "    </tr>\n",
       "    <tr>\n",
       "      <td>25%</td>\n",
       "      <td>138.187500</td>\n",
       "      <td>1130.000000</td>\n",
       "      <td>7.000000</td>\n",
       "    </tr>\n",
       "    <tr>\n",
       "      <td>50%</td>\n",
       "      <td>348.015000</td>\n",
       "      <td>1251.000000</td>\n",
       "      <td>9.000000</td>\n",
       "    </tr>\n",
       "    <tr>\n",
       "      <td>75%</td>\n",
       "      <td>559.552500</td>\n",
       "      <td>1380.000000</td>\n",
       "      <td>11.000000</td>\n",
       "    </tr>\n",
       "    <tr>\n",
       "      <td>max</td>\n",
       "      <td>1724.830000</td>\n",
       "      <td>1499.000000</td>\n",
       "      <td>12.000000</td>\n",
       "    </tr>\n",
       "  </tbody>\n",
       "</table>\n",
       "</div>"
      ],
      "text/plain": [
       "             mb_used        user_id          month\n",
       "count  149396.000000  149396.000000  149396.000000\n",
       "mean      370.192426    1252.099842       8.563315\n",
       "std       278.300951     144.050823       2.788717\n",
       "min         0.000000    1000.000000       1.000000\n",
       "25%       138.187500    1130.000000       7.000000\n",
       "50%       348.015000    1251.000000       9.000000\n",
       "75%       559.552500    1380.000000      11.000000\n",
       "max      1724.830000    1499.000000      12.000000"
      ]
     },
     "execution_count": 21,
     "metadata": {},
     "output_type": "execute_result"
    }
   ],
   "source": [
    "df_internet.describe() #посмотрим на статистические показатели"
   ]
  },
  {
   "cell_type": "code",
   "execution_count": 22,
   "metadata": {},
   "outputs": [
    {
     "data": {
      "image/png": "[encoded data removed]",
      "text/plain": [
       "<Figure size 432x288 with 1 Axes>"
      ]
     },
     "metadata": {
      "needs_background": "light"
     },
     "output_type": "display_data"
    }
   ],
   "source": [
    "df_internet['mb_used'].hist(bins=50); #посмотрим на распределение использования трафика"
   ]
  },
  {
   "cell_type": "code",
   "execution_count": 23,
   "metadata": {},
   "outputs": [
    {
     "data": {
      "text/plain": [
       "19598"
      ]
     },
     "execution_count": 23,
     "metadata": {},
     "output_type": "execute_result"
    }
   ],
   "source": [
    "df_internet.loc[df_internet['mb_used'] == 0, 'mb_used'].count() #посчитаем количество нулевых значений"
   ]
  },
  {
   "cell_type": "markdown",
   "metadata": {},
   "source": [
    "Аналогично таблице со звонками, мы видим большое количество интернет-сессий с нулевой тарификацией. Возможно, они появились в логах из-за ошибок подключения или во время переключения между разными сетями. В данном случае нас не интересует количество сессий, только общий объём потраченного трафика, поэтому удалим пропущенные значения. "
   ]
  },
  {
   "cell_type": "code",
   "execution_count": 24,
   "metadata": {},
   "outputs": [],
   "source": [
    "df_internet = df_internet.query('mb_used > 0').reset_index()"
   ]
  },
  {
   "cell_type": "code",
   "execution_count": 25,
   "metadata": {},
   "outputs": [
    {
     "name": "stdout",
     "output_type": "stream",
     "text": [
      "<class 'pandas.core.frame.DataFrame'>\n",
      "RangeIndex: 129798 entries, 0 to 129797\n",
      "Data columns (total 6 columns):\n",
      "index           129798 non-null int64\n",
      "id              129798 non-null object\n",
      "mb_used         129798 non-null float64\n",
      "session_date    129798 non-null datetime64[ns]\n",
      "user_id         129798 non-null int64\n",
      "month           129798 non-null int64\n",
      "dtypes: datetime64[ns](1), float64(1), int64(3), object(1)\n",
      "memory usage: 5.9+ MB\n"
     ]
    }
   ],
   "source": [
    "df_internet.info() #посмотрим на сводку по получившемуся датафрейму"
   ]
  },
  {
   "cell_type": "markdown",
   "metadata": {},
   "source": [
    "**Сообщения**"
   ]
  },
  {
   "cell_type": "code",
   "execution_count": 26,
   "metadata": {},
   "outputs": [],
   "source": [
    "df_messages['message_date'] = pd.to_datetime(df_messages['message_date'], format='%Y-%m-%d') #изменим формат даты"
   ]
  },
  {
   "cell_type": "code",
   "execution_count": 27,
   "metadata": {},
   "outputs": [],
   "source": [
    "df_messages['month'] = pd.DatetimeIndex(df_messages['message_date']).month #выделим из даты месяц"
   ]
  },
  {
   "cell_type": "code",
   "execution_count": 28,
   "metadata": {},
   "outputs": [
    {
     "name": "stdout",
     "output_type": "stream",
     "text": [
      "<class 'pandas.core.frame.DataFrame'>\n",
      "RangeIndex: 123036 entries, 0 to 123035\n",
      "Data columns (total 4 columns):\n",
      "id              123036 non-null object\n",
      "message_date    123036 non-null datetime64[ns]\n",
      "user_id         123036 non-null int64\n",
      "month           123036 non-null int64\n",
      "dtypes: datetime64[ns](1), int64(2), object(1)\n",
      "memory usage: 3.8+ MB\n"
     ]
    }
   ],
   "source": [
    "df_messages.info() #посмотрим на краткую сводку"
   ]
  },
  {
   "cell_type": "code",
   "execution_count": 29,
   "metadata": {},
   "outputs": [
    {
     "data": {
      "text/plain": [
       "0"
      ]
     },
     "execution_count": 29,
     "metadata": {},
     "output_type": "execute_result"
    }
   ],
   "source": [
    "df_messages.duplicated().sum() #проверим наличие дубликатов"
   ]
  },
  {
   "cell_type": "markdown",
   "metadata": {},
   "source": [
    "С данными по сообщениям всё в порядке."
   ]
  },
  {
   "cell_type": "markdown",
   "metadata": {},
   "source": [
    "**Пользователи**"
   ]
  },
  {
   "cell_type": "code",
   "execution_count": 30,
   "metadata": {},
   "outputs": [],
   "source": [
    "#изменим формат дат\n",
    "df_users['churn_date'] = pd.to_datetime(df_users['churn_date'], format='%Y-%m-%d')\n",
    "df_users['reg_date'] = pd.to_datetime(df_users['reg_date'], format='%Y-%m-%d')"
   ]
  },
  {
   "cell_type": "code",
   "execution_count": 31,
   "metadata": {},
   "outputs": [
    {
     "name": "stdout",
     "output_type": "stream",
     "text": [
      "<class 'pandas.core.frame.DataFrame'>\n",
      "RangeIndex: 500 entries, 0 to 499\n",
      "Data columns (total 8 columns):\n",
      "user_id       500 non-null int64\n",
      "age           500 non-null int64\n",
      "churn_date    38 non-null datetime64[ns]\n",
      "city          500 non-null object\n",
      "first_name    500 non-null object\n",
      "last_name     500 non-null object\n",
      "reg_date      500 non-null datetime64[ns]\n",
      "tariff        500 non-null object\n",
      "dtypes: datetime64[ns](2), int64(2), object(4)\n",
      "memory usage: 31.4+ KB\n"
     ]
    }
   ],
   "source": [
    "df_users.info() #посмотрим на краткую сводку"
   ]
  },
  {
   "cell_type": "code",
   "execution_count": 32,
   "metadata": {},
   "outputs": [
    {
     "data": {
      "text/plain": [
       "0"
      ]
     },
     "execution_count": 32,
     "metadata": {},
     "output_type": "execute_result"
    }
   ],
   "source": [
    "df_users.duplicated().sum() #проверим наличие дубликатов"
   ]
  },
  {
   "cell_type": "code",
   "execution_count": 33,
   "metadata": {},
   "outputs": [
    {
     "data": {
      "text/html": [
       "<div>\n",
       "<style scoped>\n",
       "    .dataframe tbody tr th:only-of-type {\n",
       "        vertical-align: middle;\n",
       "    }\n",
       "\n",
       "    .dataframe tbody tr th {\n",
       "        vertical-align: top;\n",
       "    }\n",
       "\n",
       "    .dataframe thead th {\n",
       "        text-align: right;\n",
       "    }\n",
       "</style>\n",
       "<table border=\"1\" class=\"dataframe\">\n",
       "  <thead>\n",
       "    <tr style=\"text-align: right;\">\n",
       "      <th></th>\n",
       "      <th>user_id</th>\n",
       "      <th>age</th>\n",
       "    </tr>\n",
       "  </thead>\n",
       "  <tbody>\n",
       "    <tr>\n",
       "      <td>count</td>\n",
       "      <td>500.000000</td>\n",
       "      <td>500.00000</td>\n",
       "    </tr>\n",
       "    <tr>\n",
       "      <td>mean</td>\n",
       "      <td>1249.500000</td>\n",
       "      <td>46.58800</td>\n",
       "    </tr>\n",
       "    <tr>\n",
       "      <td>std</td>\n",
       "      <td>144.481833</td>\n",
       "      <td>16.66763</td>\n",
       "    </tr>\n",
       "    <tr>\n",
       "      <td>min</td>\n",
       "      <td>1000.000000</td>\n",
       "      <td>18.00000</td>\n",
       "    </tr>\n",
       "    <tr>\n",
       "      <td>25%</td>\n",
       "      <td>1124.750000</td>\n",
       "      <td>32.00000</td>\n",
       "    </tr>\n",
       "    <tr>\n",
       "      <td>50%</td>\n",
       "      <td>1249.500000</td>\n",
       "      <td>46.00000</td>\n",
       "    </tr>\n",
       "    <tr>\n",
       "      <td>75%</td>\n",
       "      <td>1374.250000</td>\n",
       "      <td>62.00000</td>\n",
       "    </tr>\n",
       "    <tr>\n",
       "      <td>max</td>\n",
       "      <td>1499.000000</td>\n",
       "      <td>75.00000</td>\n",
       "    </tr>\n",
       "  </tbody>\n",
       "</table>\n",
       "</div>"
      ],
      "text/plain": [
       "           user_id        age\n",
       "count   500.000000  500.00000\n",
       "mean   1249.500000   46.58800\n",
       "std     144.481833   16.66763\n",
       "min    1000.000000   18.00000\n",
       "25%    1124.750000   32.00000\n",
       "50%    1249.500000   46.00000\n",
       "75%    1374.250000   62.00000\n",
       "max    1499.000000   75.00000"
      ]
     },
     "execution_count": 33,
     "metadata": {},
     "output_type": "execute_result"
    }
   ],
   "source": [
    "df_users.describe() #посмотрим на статистические показатели"
   ]
  },
  {
   "cell_type": "markdown",
   "metadata": {},
   "source": [
    "В возрасте клиентов - от 18 до 75 лет - также не обнаружено подозрительных значений."
   ]
  },
  {
   "cell_type": "markdown",
   "metadata": {},
   "source": [
    "### Подготовка пользовательских данных (звонки, смс, объем трафика и т.д.)"
   ]
  },
  {
   "cell_type": "markdown",
   "metadata": {},
   "source": [
    "Вычислим по месяцам для каждого пользователя количество сделанных звонков и израсходованных минут разговора."
   ]
  },
  {
   "cell_type": "code",
   "execution_count": 34,
   "metadata": {},
   "outputs": [
    {
     "data": {
      "text/html": [
       "<div>\n",
       "<style scoped>\n",
       "    .dataframe tbody tr th:only-of-type {\n",
       "        vertical-align: middle;\n",
       "    }\n",
       "\n",
       "    .dataframe tbody tr th {\n",
       "        vertical-align: top;\n",
       "    }\n",
       "\n",
       "    .dataframe thead th {\n",
       "        text-align: right;\n",
       "    }\n",
       "</style>\n",
       "<table border=\"1\" class=\"dataframe\">\n",
       "  <thead>\n",
       "    <tr style=\"text-align: right;\">\n",
       "      <th></th>\n",
       "      <th>user_id</th>\n",
       "      <th>month</th>\n",
       "      <th>calls_count</th>\n",
       "      <th>total_duration</th>\n",
       "    </tr>\n",
       "  </thead>\n",
       "  <tbody>\n",
       "    <tr>\n",
       "      <td>1646</td>\n",
       "      <td>1264</td>\n",
       "      <td>8</td>\n",
       "      <td>67</td>\n",
       "      <td>451</td>\n",
       "    </tr>\n",
       "    <tr>\n",
       "      <td>72</td>\n",
       "      <td>1009</td>\n",
       "      <td>12</td>\n",
       "      <td>32</td>\n",
       "      <td>229</td>\n",
       "    </tr>\n",
       "    <tr>\n",
       "      <td>1756</td>\n",
       "      <td>1282</td>\n",
       "      <td>2</td>\n",
       "      <td>98</td>\n",
       "      <td>747</td>\n",
       "    </tr>\n",
       "  </tbody>\n",
       "</table>\n",
       "</div>"
      ],
      "text/plain": [
       "      user_id  month  calls_count  total_duration\n",
       "1646     1264      8           67             451\n",
       "72       1009     12           32             229\n",
       "1756     1282      2           98             747"
      ]
     },
     "execution_count": 34,
     "metadata": {},
     "output_type": "execute_result"
    }
   ],
   "source": [
    "user_calls = df_calls.groupby(['user_id', 'month'], as_index=False).agg({'id':'count', 'duration':'sum'})\\\n",
    ".rename(columns={'duration':'total_duration','id':'calls_count'})\n",
    "user_calls.sample(3)"
   ]
  },
  {
   "cell_type": "markdown",
   "metadata": {},
   "source": [
    "Также вычислим для каждого пользователя количество отправленных сообщений по месяцам. "
   ]
  },
  {
   "cell_type": "code",
   "execution_count": 35,
   "metadata": {},
   "outputs": [
    {
     "data": {
      "text/html": [
       "<div>\n",
       "<style scoped>\n",
       "    .dataframe tbody tr th:only-of-type {\n",
       "        vertical-align: middle;\n",
       "    }\n",
       "\n",
       "    .dataframe tbody tr th {\n",
       "        vertical-align: top;\n",
       "    }\n",
       "\n",
       "    .dataframe thead th {\n",
       "        text-align: right;\n",
       "    }\n",
       "</style>\n",
       "<table border=\"1\" class=\"dataframe\">\n",
       "  <thead>\n",
       "    <tr style=\"text-align: right;\">\n",
       "      <th></th>\n",
       "      <th>user_id</th>\n",
       "      <th>month</th>\n",
       "      <th>sms_count</th>\n",
       "    </tr>\n",
       "  </thead>\n",
       "  <tbody>\n",
       "    <tr>\n",
       "      <td>2218</td>\n",
       "      <td>1412</td>\n",
       "      <td>9</td>\n",
       "      <td>54</td>\n",
       "    </tr>\n",
       "    <tr>\n",
       "      <td>2124</td>\n",
       "      <td>1396</td>\n",
       "      <td>7</td>\n",
       "      <td>89</td>\n",
       "    </tr>\n",
       "    <tr>\n",
       "      <td>2187</td>\n",
       "      <td>1408</td>\n",
       "      <td>6</td>\n",
       "      <td>8</td>\n",
       "    </tr>\n",
       "  </tbody>\n",
       "</table>\n",
       "</div>"
      ],
      "text/plain": [
       "      user_id  month  sms_count\n",
       "2218     1412      9         54\n",
       "2124     1396      7         89\n",
       "2187     1408      6          8"
      ]
     },
     "execution_count": 35,
     "metadata": {},
     "output_type": "execute_result"
    }
   ],
   "source": [
    "user_messages = df_messages.groupby(['user_id', 'month'], as_index=False)['id'].count().rename(columns={'id':'sms_count'})\n",
    "user_messages.sample(3)"
   ]
  },
  {
   "cell_type": "markdown",
   "metadata": {},
   "source": [
    "Посчитаем объем израсходованного пользователями интернет-трафика по месяцам."
   ]
  },
  {
   "cell_type": "code",
   "execution_count": 36,
   "metadata": {},
   "outputs": [
    {
     "data": {
      "text/html": [
       "<div>\n",
       "<style scoped>\n",
       "    .dataframe tbody tr th:only-of-type {\n",
       "        vertical-align: middle;\n",
       "    }\n",
       "\n",
       "    .dataframe tbody tr th {\n",
       "        vertical-align: top;\n",
       "    }\n",
       "\n",
       "    .dataframe thead th {\n",
       "        text-align: right;\n",
       "    }\n",
       "</style>\n",
       "<table border=\"1\" class=\"dataframe\">\n",
       "  <thead>\n",
       "    <tr style=\"text-align: right;\">\n",
       "      <th></th>\n",
       "      <th>user_id</th>\n",
       "      <th>month</th>\n",
       "      <th>mb_used</th>\n",
       "    </tr>\n",
       "  </thead>\n",
       "  <tbody>\n",
       "    <tr>\n",
       "      <td>1092</td>\n",
       "      <td>1173</td>\n",
       "      <td>6</td>\n",
       "      <td>11687.01</td>\n",
       "    </tr>\n",
       "    <tr>\n",
       "      <td>557</td>\n",
       "      <td>1089</td>\n",
       "      <td>3</td>\n",
       "      <td>17495.18</td>\n",
       "    </tr>\n",
       "    <tr>\n",
       "      <td>696</td>\n",
       "      <td>1109</td>\n",
       "      <td>11</td>\n",
       "      <td>15345.94</td>\n",
       "    </tr>\n",
       "  </tbody>\n",
       "</table>\n",
       "</div>"
      ],
      "text/plain": [
       "      user_id  month   mb_used\n",
       "1092     1173      6  11687.01\n",
       "557      1089      3  17495.18\n",
       "696      1109     11  15345.94"
      ]
     },
     "execution_count": 36,
     "metadata": {},
     "output_type": "execute_result"
    }
   ],
   "source": [
    "user_internet = df_internet.groupby(['user_id', 'month'], as_index=False)['mb_used'].sum()\n",
    "user_internet.sample(3)"
   ]
  },
  {
   "cell_type": "markdown",
   "metadata": {},
   "source": [
    "Теперь узнаем помесячную выручку с каждого пользователя. Сначала соберём необходимые для расчётов данные в один датафрейм."
   ]
  },
  {
   "cell_type": "code",
   "execution_count": 37,
   "metadata": {},
   "outputs": [],
   "source": [
    "df_tariffs = df_tariffs.rename(columns={'tariff_name':'tariff'})"
   ]
  },
  {
   "cell_type": "code",
   "execution_count": 38,
   "metadata": {},
   "outputs": [],
   "source": [
    "data = reduce(lambda left,right: pd.merge(left,right,on=['user_id', 'month'], how='outer'), \n",
    "              [user_calls, user_messages, user_internet]).merge(df_users, on='user_id', how='outer') \\\n",
    "              .merge(df_tariffs, on='tariff', how='outer')"
   ]
  },
  {
   "cell_type": "code",
   "execution_count": 39,
   "metadata": {},
   "outputs": [
    {
     "name": "stdout",
     "output_type": "stream",
     "text": [
      "<class 'pandas.core.frame.DataFrame'>\n",
      "Int64Index: 3216 entries, 0 to 3215\n",
      "Data columns (total 20 columns):\n",
      "user_id                  3216 non-null int64\n",
      "month                    3214 non-null float64\n",
      "calls_count              3174 non-null float64\n",
      "total_duration           3174 non-null float64\n",
      "sms_count                2717 non-null float64\n",
      "mb_used                  3201 non-null float64\n",
      "age                      3216 non-null int64\n",
      "churn_date               189 non-null datetime64[ns]\n",
      "city                     3216 non-null object\n",
      "first_name               3216 non-null object\n",
      "last_name                3216 non-null object\n",
      "reg_date                 3216 non-null datetime64[ns]\n",
      "tariff                   3216 non-null object\n",
      "messages_included        3216 non-null int64\n",
      "mb_per_month_included    3216 non-null int64\n",
      "minutes_included         3216 non-null int64\n",
      "rub_monthly_fee          3216 non-null int64\n",
      "rub_per_gb               3216 non-null int64\n",
      "rub_per_message          3216 non-null int64\n",
      "rub_per_minute           3216 non-null int64\n",
      "dtypes: datetime64[ns](2), float64(5), int64(9), object(4)\n",
      "memory usage: 527.6+ KB\n"
     ]
    }
   ],
   "source": [
    "data.info() #посмотрим сводку по получившейся таблице"
   ]
  },
  {
   "cell_type": "markdown",
   "metadata": {},
   "source": [
    "Мы видим, что в сведенной таблице появились пропуски в столбцах со значениями продолжительности звонков, отправленных сообщений и использованного веб-трафика. Они означают, что по конкретному месяцу нет данных о том, что клиент использовал конкретную услугу. Интересно, что возникло два пропуска в самом столбце month: посмотрим на эти строки."
   ]
  },
  {
   "cell_type": "code",
   "execution_count": 40,
   "metadata": {},
   "outputs": [
    {
     "data": {
      "text/html": [
       "<div>\n",
       "<style scoped>\n",
       "    .dataframe tbody tr th:only-of-type {\n",
       "        vertical-align: middle;\n",
       "    }\n",
       "\n",
       "    .dataframe tbody tr th {\n",
       "        vertical-align: top;\n",
       "    }\n",
       "\n",
       "    .dataframe thead th {\n",
       "        text-align: right;\n",
       "    }\n",
       "</style>\n",
       "<table border=\"1\" class=\"dataframe\">\n",
       "  <thead>\n",
       "    <tr style=\"text-align: right;\">\n",
       "      <th></th>\n",
       "      <th>user_id</th>\n",
       "      <th>month</th>\n",
       "      <th>calls_count</th>\n",
       "      <th>total_duration</th>\n",
       "      <th>sms_count</th>\n",
       "      <th>mb_used</th>\n",
       "      <th>age</th>\n",
       "      <th>churn_date</th>\n",
       "      <th>city</th>\n",
       "      <th>first_name</th>\n",
       "      <th>last_name</th>\n",
       "      <th>reg_date</th>\n",
       "      <th>tariff</th>\n",
       "      <th>messages_included</th>\n",
       "      <th>mb_per_month_included</th>\n",
       "      <th>minutes_included</th>\n",
       "      <th>rub_monthly_fee</th>\n",
       "      <th>rub_per_gb</th>\n",
       "      <th>rub_per_message</th>\n",
       "      <th>rub_per_minute</th>\n",
       "    </tr>\n",
       "  </thead>\n",
       "  <tbody>\n",
       "    <tr>\n",
       "      <td>985</td>\n",
       "      <td>1128</td>\n",
       "      <td>NaN</td>\n",
       "      <td>NaN</td>\n",
       "      <td>NaN</td>\n",
       "      <td>NaN</td>\n",
       "      <td>NaN</td>\n",
       "      <td>51</td>\n",
       "      <td>2018-12-23</td>\n",
       "      <td>Волжский</td>\n",
       "      <td>Ксения</td>\n",
       "      <td>Агаева</td>\n",
       "      <td>2018-12-15</td>\n",
       "      <td>ultra</td>\n",
       "      <td>1000</td>\n",
       "      <td>30720</td>\n",
       "      <td>3000</td>\n",
       "      <td>1950</td>\n",
       "      <td>150</td>\n",
       "      <td>1</td>\n",
       "      <td>1</td>\n",
       "    </tr>\n",
       "    <tr>\n",
       "      <td>3215</td>\n",
       "      <td>1371</td>\n",
       "      <td>NaN</td>\n",
       "      <td>NaN</td>\n",
       "      <td>NaN</td>\n",
       "      <td>NaN</td>\n",
       "      <td>NaN</td>\n",
       "      <td>50</td>\n",
       "      <td>2018-12-30</td>\n",
       "      <td>Омск</td>\n",
       "      <td>Ириней</td>\n",
       "      <td>Трофимов</td>\n",
       "      <td>2018-12-25</td>\n",
       "      <td>smart</td>\n",
       "      <td>50</td>\n",
       "      <td>15360</td>\n",
       "      <td>500</td>\n",
       "      <td>550</td>\n",
       "      <td>200</td>\n",
       "      <td>3</td>\n",
       "      <td>3</td>\n",
       "    </tr>\n",
       "  </tbody>\n",
       "</table>\n",
       "</div>"
      ],
      "text/plain": [
       "      user_id  month  calls_count  total_duration  sms_count  mb_used  age  \\\n",
       "985      1128    NaN          NaN             NaN        NaN      NaN   51   \n",
       "3215     1371    NaN          NaN             NaN        NaN      NaN   50   \n",
       "\n",
       "     churn_date      city first_name last_name   reg_date tariff  \\\n",
       "985  2018-12-23  Волжский     Ксения    Агаева 2018-12-15  ultra   \n",
       "3215 2018-12-30      Омск     Ириней  Трофимов 2018-12-25  smart   \n",
       "\n",
       "      messages_included  mb_per_month_included  minutes_included  \\\n",
       "985                1000                  30720              3000   \n",
       "3215                 50                  15360               500   \n",
       "\n",
       "      rub_monthly_fee  rub_per_gb  rub_per_message  rub_per_minute  \n",
       "985              1950         150                1               1  \n",
       "3215              550         200                3               3  "
      ]
     },
     "execution_count": 40,
     "metadata": {},
     "output_type": "execute_result"
    }
   ],
   "source": [
    "data[data['month'].isna() == True]"
   ]
  },
  {
   "cell_type": "markdown",
   "metadata": {},
   "source": [
    "В нашей выборке есть два пользователя, по которым вообще нет данных о совершенных звонках, отправленных сообщениях или использованном интернете. Тарифы у них разные, но у обоих указана дата прекращения использования (декабрьская и достаточно близкая к дате регистрации). Возможно, они получили новый телефон в подарок на Новый год, а потом решили, что новая сим-карта им не нужна. В любом случае, качество предоставленных услуг вряд ли повлияло на уход указанных клиентов, поэтому мы можем удалить эти строки, чтобы они не мешали в дальнейших расчётах."
   ]
  },
  {
   "cell_type": "code",
   "execution_count": 41,
   "metadata": {},
   "outputs": [],
   "source": [
    "data.dropna(subset = ['month'], inplace = True) "
   ]
  },
  {
   "cell_type": "markdown",
   "metadata": {},
   "source": [
    "Остальные пропуски в звонках, сообщениях и интернете заменим на нули. "
   ]
  },
  {
   "cell_type": "code",
   "execution_count": 42,
   "metadata": {},
   "outputs": [],
   "source": [
    "data['total_duration'] = data['total_duration'].fillna(0).astype('int')\n",
    "data['calls_count'] = data['calls_count'].fillna(0).astype('int')\n",
    "data['sms_count'] = data['sms_count'].fillna(0).astype('int')\n",
    "data['mb_used'] = data['mb_used'].fillna(0).apply(np.ceil).astype('int')"
   ]
  },
  {
   "cell_type": "code",
   "execution_count": 43,
   "metadata": {},
   "outputs": [
    {
     "data": {
      "text/plain": [
       "user_id                     0\n",
       "month                       0\n",
       "calls_count                 0\n",
       "total_duration              0\n",
       "sms_count                   0\n",
       "mb_used                     0\n",
       "age                         0\n",
       "churn_date               3027\n",
       "city                        0\n",
       "first_name                  0\n",
       "last_name                   0\n",
       "reg_date                    0\n",
       "tariff                      0\n",
       "messages_included           0\n",
       "mb_per_month_included       0\n",
       "minutes_included            0\n",
       "rub_monthly_fee             0\n",
       "rub_per_gb                  0\n",
       "rub_per_message             0\n",
       "rub_per_minute              0\n",
       "dtype: int64"
      ]
     },
     "execution_count": 43,
     "metadata": {},
     "output_type": "execute_result"
    }
   ],
   "source": [
    "data.isna().sum() #проверим замену пропусков"
   ]
  },
  {
   "cell_type": "markdown",
   "metadata": {},
   "source": [
    "Данные подготовлены, теперь можно вычислять выручку. Напишем функцию для подсчёта абонентской платы и сверх тарифных затрат."
   ]
  },
  {
   "cell_type": "code",
   "execution_count": 44,
   "metadata": {},
   "outputs": [],
   "source": [
    "def revenue(row):\n",
    "    sms = np.where(row['sms_count'] > row['messages_included'], \n",
    "                (row['sms_count'] - row['messages_included']) * row['rub_per_message'], 0)\n",
    "    gb = np.where(row['mb_used'] > row['mb_per_month_included'], \n",
    "                np.ceil((row['mb_used'] - row['mb_per_month_included']) / 1024) * row['rub_per_gb'], 0)\n",
    "    calls = np.where(row['total_duration'] > row['minutes_included'], \n",
    "                (row['total_duration'] - row['minutes_included']) * row['rub_per_minute'], 0)\n",
    "    return row['rub_monthly_fee'] + sms + gb + calls"
   ]
  },
  {
   "cell_type": "code",
   "execution_count": 45,
   "metadata": {},
   "outputs": [],
   "source": [
    "data['total_payment'] = data.apply(revenue, axis=1) #применим написанную функцию и добавим столбец в датафрейм"
   ]
  },
  {
   "cell_type": "code",
   "execution_count": 46,
   "metadata": {},
   "outputs": [
    {
     "data": {
      "text/html": [
       "<div>\n",
       "<style scoped>\n",
       "    .dataframe tbody tr th:only-of-type {\n",
       "        vertical-align: middle;\n",
       "    }\n",
       "\n",
       "    .dataframe tbody tr th {\n",
       "        vertical-align: top;\n",
       "    }\n",
       "\n",
       "    .dataframe thead th {\n",
       "        text-align: right;\n",
       "    }\n",
       "</style>\n",
       "<table border=\"1\" class=\"dataframe\">\n",
       "  <thead>\n",
       "    <tr style=\"text-align: right;\">\n",
       "      <th></th>\n",
       "      <th>3189</th>\n",
       "      <th>613</th>\n",
       "      <th>1954</th>\n",
       "    </tr>\n",
       "  </thead>\n",
       "  <tbody>\n",
       "    <tr>\n",
       "      <td>user_id</td>\n",
       "      <td>1496</td>\n",
       "      <td>1350</td>\n",
       "      <td>1209</td>\n",
       "    </tr>\n",
       "    <tr>\n",
       "      <td>month</td>\n",
       "      <td>3</td>\n",
       "      <td>8</td>\n",
       "      <td>10</td>\n",
       "    </tr>\n",
       "    <tr>\n",
       "      <td>calls_count</td>\n",
       "      <td>79</td>\n",
       "      <td>4</td>\n",
       "      <td>38</td>\n",
       "    </tr>\n",
       "    <tr>\n",
       "      <td>total_duration</td>\n",
       "      <td>557</td>\n",
       "      <td>35</td>\n",
       "      <td>322</td>\n",
       "    </tr>\n",
       "    <tr>\n",
       "      <td>sms_count</td>\n",
       "      <td>46</td>\n",
       "      <td>2</td>\n",
       "      <td>66</td>\n",
       "    </tr>\n",
       "    <tr>\n",
       "      <td>mb_used</td>\n",
       "      <td>24959</td>\n",
       "      <td>1620</td>\n",
       "      <td>21646</td>\n",
       "    </tr>\n",
       "    <tr>\n",
       "      <td>age</td>\n",
       "      <td>36</td>\n",
       "      <td>40</td>\n",
       "      <td>27</td>\n",
       "    </tr>\n",
       "    <tr>\n",
       "      <td>churn_date</td>\n",
       "      <td>NaT</td>\n",
       "      <td>NaT</td>\n",
       "      <td>NaT</td>\n",
       "    </tr>\n",
       "    <tr>\n",
       "      <td>city</td>\n",
       "      <td>Вологда</td>\n",
       "      <td>Омск</td>\n",
       "      <td>Омск</td>\n",
       "    </tr>\n",
       "    <tr>\n",
       "      <td>first_name</td>\n",
       "      <td>Трифон</td>\n",
       "      <td>Варвара</td>\n",
       "      <td>Альбин</td>\n",
       "    </tr>\n",
       "    <tr>\n",
       "      <td>last_name</td>\n",
       "      <td>Блохин</td>\n",
       "      <td>Козырева</td>\n",
       "      <td>Сорокин</td>\n",
       "    </tr>\n",
       "    <tr>\n",
       "      <td>reg_date</td>\n",
       "      <td>2018-01-27 00:00:00</td>\n",
       "      <td>2018-08-30 00:00:00</td>\n",
       "      <td>2018-06-02 00:00:00</td>\n",
       "    </tr>\n",
       "    <tr>\n",
       "      <td>tariff</td>\n",
       "      <td>smart</td>\n",
       "      <td>ultra</td>\n",
       "      <td>smart</td>\n",
       "    </tr>\n",
       "    <tr>\n",
       "      <td>messages_included</td>\n",
       "      <td>50</td>\n",
       "      <td>1000</td>\n",
       "      <td>50</td>\n",
       "    </tr>\n",
       "    <tr>\n",
       "      <td>mb_per_month_included</td>\n",
       "      <td>15360</td>\n",
       "      <td>30720</td>\n",
       "      <td>15360</td>\n",
       "    </tr>\n",
       "    <tr>\n",
       "      <td>minutes_included</td>\n",
       "      <td>500</td>\n",
       "      <td>3000</td>\n",
       "      <td>500</td>\n",
       "    </tr>\n",
       "    <tr>\n",
       "      <td>rub_monthly_fee</td>\n",
       "      <td>550</td>\n",
       "      <td>1950</td>\n",
       "      <td>550</td>\n",
       "    </tr>\n",
       "    <tr>\n",
       "      <td>rub_per_gb</td>\n",
       "      <td>200</td>\n",
       "      <td>150</td>\n",
       "      <td>200</td>\n",
       "    </tr>\n",
       "    <tr>\n",
       "      <td>rub_per_message</td>\n",
       "      <td>3</td>\n",
       "      <td>1</td>\n",
       "      <td>3</td>\n",
       "    </tr>\n",
       "    <tr>\n",
       "      <td>rub_per_minute</td>\n",
       "      <td>3</td>\n",
       "      <td>1</td>\n",
       "      <td>3</td>\n",
       "    </tr>\n",
       "    <tr>\n",
       "      <td>total_payment</td>\n",
       "      <td>2721</td>\n",
       "      <td>1950</td>\n",
       "      <td>1998</td>\n",
       "    </tr>\n",
       "  </tbody>\n",
       "</table>\n",
       "</div>"
      ],
      "text/plain": [
       "                                      3189                 613   \\\n",
       "user_id                               1496                 1350   \n",
       "month                                    3                    8   \n",
       "calls_count                             79                    4   \n",
       "total_duration                         557                   35   \n",
       "sms_count                               46                    2   \n",
       "mb_used                              24959                 1620   \n",
       "age                                     36                   40   \n",
       "churn_date                             NaT                  NaT   \n",
       "city                               Вологда                 Омск   \n",
       "first_name                          Трифон              Варвара   \n",
       "last_name                           Блохин             Козырева   \n",
       "reg_date               2018-01-27 00:00:00  2018-08-30 00:00:00   \n",
       "tariff                               smart                ultra   \n",
       "messages_included                       50                 1000   \n",
       "mb_per_month_included                15360                30720   \n",
       "minutes_included                       500                 3000   \n",
       "rub_monthly_fee                        550                 1950   \n",
       "rub_per_gb                             200                  150   \n",
       "rub_per_message                          3                    1   \n",
       "rub_per_minute                           3                    1   \n",
       "total_payment                         2721                 1950   \n",
       "\n",
       "                                      1954  \n",
       "user_id                               1209  \n",
       "month                                   10  \n",
       "calls_count                             38  \n",
       "total_duration                         322  \n",
       "sms_count                               66  \n",
       "mb_used                              21646  \n",
       "age                                     27  \n",
       "churn_date                             NaT  \n",
       "city                                  Омск  \n",
       "first_name                          Альбин  \n",
       "last_name                          Сорокин  \n",
       "reg_date               2018-06-02 00:00:00  \n",
       "tariff                               smart  \n",
       "messages_included                       50  \n",
       "mb_per_month_included                15360  \n",
       "minutes_included                       500  \n",
       "rub_monthly_fee                        550  \n",
       "rub_per_gb                             200  \n",
       "rub_per_message                          3  \n",
       "rub_per_minute                           3  \n",
       "total_payment                         1998  "
      ]
     },
     "execution_count": 46,
     "metadata": {},
     "output_type": "execute_result"
    }
   ],
   "source": [
    "data.sample(3).T"
   ]
  },
  {
   "cell_type": "markdown",
   "metadata": {},
   "source": [
    "### Вывод"
   ]
  },
  {
   "cell_type": "markdown",
   "metadata": {},
   "source": [
    "Мы привели в порядок формат дат и посчитали для каждого пользователя по месяцам количество сделанных звонков, количество отправленных сообщений, объём израсходованного интернет-трафика, а также вычислили помесячную выручку с каждого пользователя с учётом платы за тарифный план. В выборке также было обнаружено 2 пользователя, которые не пользовались никакими услугами и достаточно быстро отказались от своих тарифов, очевидно, по причинам, не связанным с качеством связи."
   ]
  },
  {
   "cell_type": "markdown",
   "metadata": {},
   "source": [
    "## Статистический анализ данных"
   ]
  },
  {
   "cell_type": "markdown",
   "metadata": {},
   "source": [
    "Продолжим изучать поведение пользователей. Выясним, сколько минут, сообщений и какой объём интернет-трафика обычно требуется в месяц пользователям каждого тарифа."
   ]
  },
  {
   "cell_type": "code",
   "execution_count": 47,
   "metadata": {},
   "outputs": [],
   "source": [
    "pd.options.display.float_format = '{:,.3f}'.format #для удобства округлим числа до тысячных"
   ]
  },
  {
   "cell_type": "code",
   "execution_count": 48,
   "metadata": {},
   "outputs": [],
   "source": [
    "def visualization(column, nb, subj, xlabel): #автоматизируем построение графиков\n",
    "    fig, axes = plt.subplots(1, 2, constrained_layout=True, figsize=(16, 5))\n",
    "\n",
    "    sns.distplot(data.loc[data['tariff']=='ultra',  column], bins=nb, ax=axes[0], label='Тариф \"Ультра\"')\n",
    "    sns.distplot(data.loc[data['tariff']=='smart',  column], bins=nb, ax=axes[0], label='Тариф \"Смарт\"')\n",
    "    axes[0].set_title('Использование пакета ' + subj, fontsize=15)\n",
    "    axes[0].set_xlabel(xlabel, fontsize=12)\n",
    "    axes[0].set_ylabel('Плотность частоты', fontsize=12)\n",
    "    axes[0].legend()\n",
    "\n",
    "    sns.boxplot(y=\"tariff\", x=column, data=data, orient=\"h\")\n",
    "    axes[1].set_title('Диаграммы размаха для использования пакета ' + subj, fontsize=15)\n",
    "    axes[1].set_xlabel(xlabel, fontsize=12)\n",
    "    axes[1].set_ylabel('Тарифы', fontsize=12)"
   ]
  },
  {
   "cell_type": "markdown",
   "metadata": {},
   "source": [
    "Посчитаем среднее арифметическое, дисперсию и стандартное отклонение для интересующих метрик."
   ]
  },
  {
   "cell_type": "code",
   "execution_count": 49,
   "metadata": {},
   "outputs": [
    {
     "data": {
      "text/html": [
       "<div>\n",
       "<style scoped>\n",
       "    .dataframe tbody tr th:only-of-type {\n",
       "        vertical-align: middle;\n",
       "    }\n",
       "\n",
       "    .dataframe tbody tr th {\n",
       "        vertical-align: top;\n",
       "    }\n",
       "\n",
       "    .dataframe thead tr th {\n",
       "        text-align: left;\n",
       "    }\n",
       "</style>\n",
       "<table border=\"1\" class=\"dataframe\">\n",
       "  <thead>\n",
       "    <tr>\n",
       "      <th></th>\n",
       "      <th colspan=\"2\" halign=\"left\">mean</th>\n",
       "      <th colspan=\"2\" halign=\"left\">var</th>\n",
       "      <th colspan=\"2\" halign=\"left\">std</th>\n",
       "    </tr>\n",
       "    <tr>\n",
       "      <th>tariff</th>\n",
       "      <th>smart</th>\n",
       "      <th>ultra</th>\n",
       "      <th>smart</th>\n",
       "      <th>ultra</th>\n",
       "      <th>smart</th>\n",
       "      <th>ultra</th>\n",
       "    </tr>\n",
       "  </thead>\n",
       "  <tbody>\n",
       "    <tr>\n",
       "      <td>mb_used</td>\n",
       "      <td>16,208.873</td>\n",
       "      <td>19,469.309</td>\n",
       "      <td>34,462,562.806</td>\n",
       "      <td>101,751,557.966</td>\n",
       "      <td>5,870.482</td>\n",
       "      <td>10,087.198</td>\n",
       "    </tr>\n",
       "    <tr>\n",
       "      <td>sms_count</td>\n",
       "      <td>33.384</td>\n",
       "      <td>49.363</td>\n",
       "      <td>796.813</td>\n",
       "      <td>2,285.266</td>\n",
       "      <td>28.228</td>\n",
       "      <td>47.804</td>\n",
       "    </tr>\n",
       "    <tr>\n",
       "      <td>total_duration</td>\n",
       "      <td>417.935</td>\n",
       "      <td>526.623</td>\n",
       "      <td>36,219.316</td>\n",
       "      <td>100,873.633</td>\n",
       "      <td>190.314</td>\n",
       "      <td>317.606</td>\n",
       "    </tr>\n",
       "  </tbody>\n",
       "</table>\n",
       "</div>"
      ],
      "text/plain": [
       "                     mean                       var                       std  \\\n",
       "tariff              smart      ultra          smart           ultra     smart   \n",
       "mb_used        16,208.873 19,469.309 34,462,562.806 101,751,557.966 5,870.482   \n",
       "sms_count          33.384     49.363        796.813       2,285.266    28.228   \n",
       "total_duration    417.935    526.623     36,219.316     100,873.633   190.314   \n",
       "\n",
       "                           \n",
       "tariff              ultra  \n",
       "mb_used        10,087.198  \n",
       "sms_count          47.804  \n",
       "total_duration    317.606  "
      ]
     },
     "execution_count": 49,
     "metadata": {},
     "output_type": "execute_result"
    }
   ],
   "source": [
    "data.pivot_table(columns='tariff', values=['total_duration','sms_count', 'mb_used'], aggfunc=['mean', 'var', 'std'])"
   ]
  },
  {
   "cell_type": "markdown",
   "metadata": {},
   "source": [
    "Пользователи тарифа \"Ультра\" в среднем тратят больше звонков, сообщений и мегабайт интернета, что ожидаемо. Дисперсия и стандартное отклонение по всем показателям также в разы выше, чем на тарифе \"Смарт\". Построим графики, чтобы наглядно показать разброс значений."
   ]
  },
  {
   "cell_type": "markdown",
   "metadata": {},
   "source": [
    "### Использование минут разговора"
   ]
  },
  {
   "cell_type": "code",
   "execution_count": 50,
   "metadata": {},
   "outputs": [
    {
     "data": {
      "image/png": "[encoded data removed]",
      "text/plain": [
       "<Figure size 1152x360 with 2 Axes>"
      ]
     },
     "metadata": {
      "needs_background": "light"
     },
     "output_type": "display_data"
    }
   ],
   "source": [
    "visualization('total_duration', 50, 'минут', 'Потраченные минуты')"
   ]
  },
  {
   "cell_type": "markdown",
   "metadata": {},
   "source": [
    "В тариф \"Смарт\" включено 500 минут разговора. Среднее использование составляет 418 минут, большинство пользователей тратят от 250 до 580 минут, то есть более чем на половину используют пакет или немного превышают лимит. Распределение смещено влево, люди чаще укладываются в лимит (хотя стоит отметить, что график в диапазоне от 600 до 800 минут достаточно плотный, т.е. есть пользователи, которым требуется больше минут разговора), выделяется небольшой пик клиентов, которые вообще не совершают звонки. Разговоры продолжительностью свыше 950 минут редки и на диаграмме размаха отмечены как выбросы."
   ]
  },
  {
   "cell_type": "markdown",
   "metadata": {},
   "source": [
    "В тариф «Ультра» включено 3000 минут разговора, но большинство пользователей не тратит даже трети пакета: среднее использование составляет 527 минут, большая часть значений лежит в диапазоне от нуля до 850 минут, причём лидируют \"нулевые\" звонки. Распределение не похоже на нормальное и сильно смещено влево."
   ]
  },
  {
   "cell_type": "markdown",
   "metadata": {},
   "source": [
    "### Отправка сообщений"
   ]
  },
  {
   "cell_type": "code",
   "execution_count": 51,
   "metadata": {},
   "outputs": [
    {
     "data": {
      "image/png": "[encoded data removed]",
      "text/plain": [
       "<Figure size 1152x360 with 2 Axes>"
      ]
     },
     "metadata": {
      "needs_background": "light"
     },
     "output_type": "display_data"
    }
   ],
   "source": [
    "visualization('sms_count', 30, 'сообщений', 'Потраченные сообщения')"
   ]
  },
  {
   "cell_type": "markdown",
   "metadata": {},
   "source": [
    "Хотя пользователи тарифа \"Смарт\" в среднем отправляют 33 сообщения при бесплатно доступных 50, гистограмма показывает, что многие клиенты вообще не пользуются этой услугой. Те, кто отправляет сообщения, в основном укладываются в доступный лимит: значения выше 50 лежат за пределами третьего квартиля, датасет сильно скошен влево."
   ]
  },
  {
   "cell_type": "markdown",
   "metadata": {},
   "source": [
    "Распределение использования пакета сообщений по тарифу «Ультра» похожее: из доступных 1000 сообщений тратится максимум одна пятая часть, график сильно смещён влево. Размер первого и второго квартиля значительно меньше, чем третьего и четвёртого, так как пользователи, которые всё-таки пользуются услугой отправки сообщений, делают это относительно активно, поэтому среднее число отправленных сообщений по выборке составляет 49 при подавляющем большинстве нулевых значений. "
   ]
  },
  {
   "cell_type": "markdown",
   "metadata": {},
   "source": [
    "### Использование интернет-трафика"
   ]
  },
  {
   "cell_type": "code",
   "execution_count": 52,
   "metadata": {},
   "outputs": [
    {
     "data": {
      "image/png": "[encoded data removed]",
      "text/plain": [
       "<Figure size 1152x360 with 2 Axes>"
      ]
     },
     "metadata": {
      "needs_background": "light"
     },
     "output_type": "display_data"
    }
   ],
   "source": [
    "visualization('mb_used', 20, 'интернета', 'Потраченный трафик, MB')"
   ]
  },
  {
   "cell_type": "markdown",
   "metadata": {},
   "source": [
    "В тариф \"Смарт\" включено 15 Гб интернет-трафика, и как раз примерно на это значение приходится вершина гистограммы распределения, которое близко к нормальному. Похоже, что в тарифе \"Смарт\" интернет - самая востребованная услуга: большинство клиентов используют доступный пакет полностью и часто выходят за его границы. Диаграмма размаха показывает, что четвёртый квартиль заканчивается примерно на 30 Гб (т.е. превышает лимит трафика в два раза), низкое использование интернета (меньше 2 Гб) также является нехарактерным для выборки."
   ]
  },
  {
   "cell_type": "markdown",
   "metadata": {},
   "source": [
    "Пользователи тарифа \"Ультра\" тоже активнее пользуются интернетом, чем звонками или сообщениями, и в основном укладываются в доступный лимит: из 30 Гб интернет-трафика в среднем используют 19-20 Гб, верхняя граница третьего квартиля также не доходит до 30 Гб, распределение смещено влево."
   ]
  },
  {
   "cell_type": "markdown",
   "metadata": {},
   "source": [
    "### Вывод"
   ]
  },
  {
   "cell_type": "markdown",
   "metadata": {},
   "source": [
    "По результатам анализа можно выделить следующие особенности поведения пользователей:\n",
    "- Самой используемой услугой является мобильный интернет, причём на тарифе \"Смарт\" пользователи часто превышают доступный лимит (вплоть до двухкратного превышения), значит, приносят дополнительную выручку. Пользователям тарифа \"Ультра\" в большинстве хватает месячного пакета;\n",
    "- Пользователи тарифа \"Смарт\" достаточно активно звонят, в основном находясь в пределах доступного лимита, но выделяется прослойка клиентов, которым требуется на 100-300 минут больше (т.е. они тоже приносят дополнительный доход). На тарифе \"Ультра\" много клиентов, которые вообще не совершают звонки, те, кто пользуется этой услугой, обычно тратят не больше трети пакета;\n",
    "- Самой непопулярной услугой на обоих тарифах является отправка сообщений. Число пользователей тарифа \"Смарт\", превышающих лимит сообщений, невелико, на тарифе \"Ультра\" такие клиенты отсутствуют."
   ]
  },
  {
   "cell_type": "markdown",
   "metadata": {},
   "source": [
    "## Проверка гипотез"
   ]
  },
  {
   "cell_type": "markdown",
   "metadata": {},
   "source": [
    "### Тест №1: средняя выручка по тарифам"
   ]
  },
  {
   "cell_type": "markdown",
   "metadata": {},
   "source": [
    "Проверим несколько статистических гипотез. Во-первых, предположим, что средняя выручка с тарифа \"Ультра\" равна средней выручке с тарифа \"Смарт\" - это будет нулевая гипотеза. Альтернативная гипотеза: средняя выручка с тарифов \"Ультра\" и \"Смарт\" различается. Сформируем два массива для сравнения. Поскольку данные по тарифам не зависят друг от друга, будем использовать метод *scipy.stats.ttest_ind*. Пороговое значение alpha возьмём стандартное - 5%, по 2,5% c каждой стороны распределения."
   ]
  },
  {
   "cell_type": "code",
   "execution_count": 53,
   "metadata": {},
   "outputs": [],
   "source": [
    "smart = data.loc[data['tariff'] == 'smart', 'total_payment']\n",
    "ultra = data.loc[data['tariff'] == 'ultra', 'total_payment']"
   ]
  },
  {
   "cell_type": "code",
   "execution_count": 54,
   "metadata": {},
   "outputs": [],
   "source": [
    "alpha = 0.05"
   ]
  },
  {
   "cell_type": "markdown",
   "metadata": {},
   "source": [
    "Проведём статистический тест Левена, чтобы отпределить, можно ли считать равными дисперсии двух выборок (чтобы понять, какой параметр equal_var использовать для метода ttest_ind). Нулевая гипотеза: дисперсии выборок smart и ultra равны. Альтернативная гипотеза: дисперсии выборок smart и ultra различаются. "
   ]
  },
  {
   "cell_type": "code",
   "execution_count": 55,
   "metadata": {},
   "outputs": [
    {
     "data": {
      "text/plain": [
       "LeveneResult(statistic=604.5068994427307, pvalue=1.8783148636310733e-122)"
      ]
     },
     "execution_count": 55,
     "metadata": {},
     "output_type": "execute_result"
    }
   ],
   "source": [
    "st.levene(smart, ultra)"
   ]
  },
  {
   "cell_type": "markdown",
   "metadata": {},
   "source": [
    "Получившаяся p-value намного меньше значения alpha, значит, отвергаем нулевую гипотезу: нельзя считать дисперсию по выборкам одинаковой. Будем использовать equal_var = False."
   ]
  },
  {
   "cell_type": "code",
   "execution_count": 56,
   "metadata": {},
   "outputs": [
    {
     "name": "stdout",
     "output_type": "stream",
     "text": [
      "p-значение: 4.2606313931076085e-250\n",
      "Отвергаем нулевую гипотезу\n"
     ]
    }
   ],
   "source": [
    "results = st.ttest_ind(smart, ultra, equal_var = False) \n",
    "print('p-значение:', results.pvalue)\n",
    "\n",
    "if results.pvalue < alpha:\n",
    "    print ('Отвергаем нулевую гипотезу')\n",
    "else:\n",
    "    print ('Не получилось отвергнуть нулевую гипотезу')"
   ]
  },
  {
   "cell_type": "markdown",
   "metadata": {},
   "source": [
    "По результатам теста нулевая гипотеза была отвергнута, значит, со статистической вероятностью средняя выручка с тарифов \"Ультра\" и \"Смарт\" различается. Выше мы рассматривали распределения по использованию минут, сообщений и мобильного интернета и пришли к выводу, что пользователи тарифа \"Смарт\" чаще выходят за границы месячного пакета для всех услуг, то есть несут дополнительные затраты, следовательно, есть вероятность, что выручка с этого тарифа выше. Сформулируем альтернативную гипотезу номер два: средняя выручка с тарифа \"Смарт\" больше, чем с тарифа «Ультра». Нулевая гипотеза остаётся прежней. Проведём односторонний тест."
   ]
  },
  {
   "cell_type": "code",
   "execution_count": 57,
   "metadata": {},
   "outputs": [
    {
     "name": "stdout",
     "output_type": "stream",
     "text": [
      "p-значение: 2.1303156965538042e-250\n",
      "Не получилось отвергнуть нулевую гипотезу\n"
     ]
    }
   ],
   "source": [
    "results = st.ttest_ind(smart, ultra, equal_var = False) \n",
    "print('p-значение:', results.pvalue / 2)\n",
    "\n",
    "if results.pvalue / 2 < alpha and smart.mean() > ultra.mean():\n",
    "    print ('Отвергаем нулевую гипотезу')\n",
    "else:\n",
    "    print ('Не получилось отвергнуть нулевую гипотезу')"
   ]
  },
  {
   "cell_type": "markdown",
   "metadata": {},
   "source": [
    "Наше предположение не оправдалось: в одностороннем тесте среднее тарифа \"Ультра\" оказалось выше, и нулевую гипотезу отвергнуть не удалось. Посмотрим, какие средние значения выручки получились в нашей выборке."
   ]
  },
  {
   "cell_type": "code",
   "execution_count": 58,
   "metadata": {},
   "outputs": [
    {
     "name": "stdout",
     "output_type": "stream",
     "text": [
      "Средняя выручка с тарифа \"Смарт\": 1289.9735307312696\n",
      "Средняя выручка с тарифа \"Ультра\": 2070.1522842639592\n"
     ]
    }
   ],
   "source": [
    "print('Средняя выручка с тарифа \"Смарт\":', smart.mean())\n",
    "print('Средняя выручка с тарифа \"Ультра\":', ultra.mean())"
   ]
  },
  {
   "cell_type": "markdown",
   "metadata": {},
   "source": [
    "Как мы видим, средняя выручка с тарифа \"Ультра\" значительно выше, чем на тарифе \"Смарт\"."
   ]
  },
  {
   "cell_type": "markdown",
   "metadata": {},
   "source": [
    "#### Результаты теста №1"
   ]
  },
  {
   "cell_type": "markdown",
   "metadata": {},
   "source": [
    "Принята альтернативная гипотеза: средняя выручка с тарифов \"Ультра\" и \"Смарт\" различается. Данные показывают, что различие в пользу более дорогого тарифа \"Ультра\"."
   ]
  },
  {
   "cell_type": "markdown",
   "metadata": {},
   "source": [
    "### Тест №2"
   ]
  },
  {
   "cell_type": "markdown",
   "metadata": {},
   "source": [
    "Предположим, что географический фактор может влиять на стоимость используемых услуг. Сформулируем нулевую гипотезу так: средняя выручка для пользователей из Москвы не отличается от выручки для пользователей из других регионов. Альтернативная гипотеза: средняя выручка по Москве отличается от выручки с регионов."
   ]
  },
  {
   "cell_type": "code",
   "execution_count": 59,
   "metadata": {},
   "outputs": [
    {
     "data": {
      "text/plain": [
       "array(['Краснодар', 'Москва', 'Новокузнецк', 'Иваново', 'Омск', 'Уфа',\n",
       "       'Томск', 'Санкт-Петербург', 'Тверь', 'Ярославль', 'Тюмень',\n",
       "       'Ростов-на-Дону', 'Калуга', 'Тула', 'Волгоград', 'Саранск',\n",
       "       'Иркутск', 'Череповец', 'Новосибирск', 'Брянск', 'Тольятти',\n",
       "       'Нижний Тагил', 'Воронеж', 'Махачкала', 'Пермь', 'Сургут', 'Пенза',\n",
       "       'Мурманск', 'Набережные Челны', 'Самара', 'Нижний Новгород',\n",
       "       'Кемерово', 'Кострома', 'Оренбург', 'Магнитогорск', 'Астрахань',\n",
       "       'Нижневартовск', 'Челябинск', 'Курган', 'Красноярск',\n",
       "       'Владивосток', 'Смоленск', 'Владимир', 'Казань', 'Саратов',\n",
       "       'Севастополь', 'Рязань', 'Екатеринбург', 'Стерлитамак',\n",
       "       'Ульяновск', 'Балашиха', 'Барнаул', 'Киров', 'Сочи', 'Вологда',\n",
       "       'Чебоксары', 'Чита', 'Петрозаводск', 'Хабаровск', 'Ставрополь',\n",
       "       'Улан-Удэ', 'Курск', 'Якутск', 'Химки', 'Владикавказ', 'Ижевск',\n",
       "       'Орёл', 'Белгород', 'Архангельск', 'Липецк', 'Волжский', 'Тамбов',\n",
       "       'Калининград', 'Новороссийск', 'Грозный', 'Подольск'], dtype=object)"
      ]
     },
     "execution_count": 59,
     "metadata": {},
     "output_type": "execute_result"
    }
   ],
   "source": [
    "data['city'].unique() #проверим, какие города представлены в выборке"
   ]
  },
  {
   "cell_type": "code",
   "execution_count": 60,
   "metadata": {},
   "outputs": [],
   "source": [
    "data['city'] = data['city'].where(data['city'] == 'Москва', 'Регионы') #выполним выборочную замену названий"
   ]
  },
  {
   "cell_type": "markdown",
   "metadata": {},
   "source": [
    "Предыдущий тест показал, что выручка с разных тарифов различается, поэтому для корректности исследования проведём сравнение выручки для Москвы и регионов с учётом тарифа. Подготовим 4 выборки. Пороговое значение alpha оставим 5%."
   ]
  },
  {
   "cell_type": "code",
   "execution_count": 61,
   "metadata": {},
   "outputs": [],
   "source": [
    "moscow_smart = data.query('tariff == \"smart\" & city == \"Москва\"')['total_payment']\n",
    "moscow_ultra = data.query('tariff == \"ultra\" & city == \"Москва\"')['total_payment']\n",
    "regions_smart = data.query('tariff == \"smart\" & city == \"Регионы\"')['total_payment']\n",
    "regions_ultra = data.query('tariff == \"ultra\" & city == \"Регионы\"')['total_payment']"
   ]
  },
  {
   "cell_type": "code",
   "execution_count": 62,
   "metadata": {},
   "outputs": [
    {
     "name": "stdout",
     "output_type": "stream",
     "text": [
      "p-значение: 0.15468343176376667\n",
      "Не получилось отвергнуть нулевую гипотезу для тарифа \"Смарт\"\n"
     ]
    }
   ],
   "source": [
    "results = st.ttest_ind(moscow_smart, regions_smart, equal_var = False) \n",
    "print('p-значение:', results.pvalue)\n",
    "\n",
    "if results.pvalue < alpha:\n",
    "    print ('Отвергаем нулевую гипотезу для тарифа \"Смарт\"')\n",
    "else:\n",
    "    print ('Не получилось отвергнуть нулевую гипотезу для тарифа \"Смарт\"')"
   ]
  },
  {
   "cell_type": "code",
   "execution_count": 63,
   "metadata": {},
   "outputs": [
    {
     "name": "stdout",
     "output_type": "stream",
     "text": [
      "p-значение: 0.8544997530689904\n",
      "Не получилось отвергнуть нулевую гипотезу для тарифа \"Ультра\"\n"
     ]
    }
   ],
   "source": [
    "results = st.ttest_ind(moscow_ultra, regions_ultra, equal_var = False) \n",
    "print('p-значение:', results.pvalue)\n",
    "\n",
    "if results.pvalue < alpha:\n",
    "    print ('Отвергаем нулевую гипотезу для тарифа \"Ультра\"')\n",
    "else:\n",
    "    print ('Не получилось отвергнуть нулевую гипотезу для тарифа \"Ультра\"')"
   ]
  },
  {
   "cell_type": "markdown",
   "metadata": {},
   "source": [
    "Как мы видим, по результатам обоих тестов нулевую гипотезу отвергуть не получилось, то есть средняя выручка с пользователей из Москвы статистически не отличается от выручки по остальным регионам. Проверим, какие средние значения выручки были в наших выборках."
   ]
  },
  {
   "cell_type": "code",
   "execution_count": 64,
   "metadata": {},
   "outputs": [
    {
     "data": {
      "text/html": [
       "<div>\n",
       "<style scoped>\n",
       "    .dataframe tbody tr th:only-of-type {\n",
       "        vertical-align: middle;\n",
       "    }\n",
       "\n",
       "    .dataframe tbody tr th {\n",
       "        vertical-align: top;\n",
       "    }\n",
       "\n",
       "    .dataframe thead tr th {\n",
       "        text-align: left;\n",
       "    }\n",
       "\n",
       "    .dataframe thead tr:last-of-type th {\n",
       "        text-align: right;\n",
       "    }\n",
       "</style>\n",
       "<table border=\"1\" class=\"dataframe\">\n",
       "  <thead>\n",
       "    <tr>\n",
       "      <th></th>\n",
       "      <th colspan=\"2\" halign=\"left\">count</th>\n",
       "      <th colspan=\"2\" halign=\"left\">mean</th>\n",
       "    </tr>\n",
       "    <tr>\n",
       "      <th>city</th>\n",
       "      <th>Москва</th>\n",
       "      <th>Регионы</th>\n",
       "      <th>Москва</th>\n",
       "      <th>Регионы</th>\n",
       "    </tr>\n",
       "    <tr>\n",
       "      <th>tariff</th>\n",
       "      <th></th>\n",
       "      <th></th>\n",
       "      <th></th>\n",
       "      <th></th>\n",
       "    </tr>\n",
       "  </thead>\n",
       "  <tbody>\n",
       "    <tr>\n",
       "      <td>smart</td>\n",
       "      <td>386</td>\n",
       "      <td>1843</td>\n",
       "      <td>1,239.358</td>\n",
       "      <td>1,300.575</td>\n",
       "    </tr>\n",
       "    <tr>\n",
       "      <td>ultra</td>\n",
       "      <td>225</td>\n",
       "      <td>760</td>\n",
       "      <td>2,074.000</td>\n",
       "      <td>2,069.013</td>\n",
       "    </tr>\n",
       "  </tbody>\n",
       "</table>\n",
       "</div>"
      ],
      "text/plain": [
       "        count              mean          \n",
       "city   Москва Регионы    Москва   Регионы\n",
       "tariff                                   \n",
       "smart     386    1843 1,239.358 1,300.575\n",
       "ultra     225     760 2,074.000 2,069.013"
      ]
     },
     "execution_count": 64,
     "metadata": {},
     "output_type": "execute_result"
    }
   ],
   "source": [
    "data.pivot_table(index='tariff', columns='city', values='total_payment', aggfunc=['count', 'mean'])"
   ]
  },
  {
   "cell_type": "markdown",
   "metadata": {},
   "source": [
    "Из сводной таблицы видно, что разница в средней выручке по местоположению пользователя минимальна. Больше пользователей предпочитают бюджетный тариф \"Смарт\", но более дорогой тариф \"Ультра\" тоже хорошо представлен как в Москве, так и в регионах."
   ]
  },
  {
   "cell_type": "markdown",
   "metadata": {},
   "source": [
    "#### Результаты теста №2"
   ]
  },
  {
   "cell_type": "markdown",
   "metadata": {},
   "source": [
    "Принята нулевая гипотеза: средняя выручка для пользователей из Москвы не отличается от выручки для пользователей из других регионов."
   ]
  },
  {
   "cell_type": "markdown",
   "metadata": {},
   "source": [
    "## Общий вывод"
   ]
  },
  {
   "cell_type": "markdown",
   "metadata": {},
   "source": [
    "В настоящем исследовании была проанализирована статистика использования двух тарифных планов компании \"Мегалайн\". Для каждого клиента мы посчитали по месяцам количество сделанных звонков, отправленных сообщений, объём израсходованного интернет-трафика, затем вычислили помесячную выручку с каждого пользователя с учётом платы за тарифный план. \n",
    "\n",
    "Были выявлены следующие особенности поведения пользователей:\n",
    "1. На обоих тарифах самой популярной услугой является мобильный интернет. Пользователи тарифа \"Смарт\" в среднем используют в месяц 15-16 Гб (в тариф включено 15), пользователи тарифа \"Ультра\" в среднем используют 19-20 Гб (в тариф включено 30).\n",
    "2. На втором месте по используемости находятся звонки. На тарифе \"Смарт\" в среднем тратят от 250 до 580 минут (при 500 включённых), есть пользователи, которые на 100-300 пунктов превышают доступный лимит. На тарифе \"Ультра\" большая часть месячных разговоров не превышает 850 минут при включённых 3000. На обоих тарифах присутствуют пользователи, которые вообще не пользуются звонками, на \"Ультре\" таких клиентов больше.\n",
    "3. Самой непопулярной услугой на обоих тарифах является отправка сообщений. Многие клиенты вообще не пользуются этой услугой. Пользователи тарифа \"Смарт\" в среднем отправляют 33 сообщения из бесплатно доступных 50; пользователи тарифа \"Ультра\" в среднем отправляют всего 49 сообщений из 1000.\n",
    "\n",
    "Мы проверили две статистические гипотезы касательно средней выручки и получили следующие результаты:\n",
    "1. Средняя выручка с тарифов \"Ультра\" и \"Смарт\" различается в пользу тарифа \"Ультра\".\n",
    "2. Средняя выручка для пользователей из Москвы не отличается от выручки для пользователей из других регионов.\n",
    "\n",
    "По результатам исследования мы можем сделать следующие рекомендации компании \"Мегалайн\":\n",
    "1. В рекламной кампании сделать упор на более дорогостоящий тариф \"Ультра\". В качестве его конкурентного преимущества можно указать большой доступный пакет мобильного интернета.\n",
    "2. Пересмотреть размеры пакета сообщений (возможно, в пользу звонков), так как эта услуга является невостребованной."
   ]
  },
  {
   "cell_type": "code",
   "execution_count": null,
   "metadata": {},
   "outputs": [],
   "source": []
  }
 ],
 "metadata": {
  "ExecuteTimeLog": [
   {
    "duration": 1314,
    "start_time": "2021-08-11T22:07:53.853Z"
   },
   {
    "duration": 485,
    "start_time": "2021-08-11T22:11:47.472Z"
   },
   {
    "duration": 477,
    "start_time": "2021-08-11T22:11:59.427Z"
   },
   {
    "duration": 21,
    "start_time": "2021-08-11T22:12:07.311Z"
   },
   {
    "duration": 20,
    "start_time": "2021-08-11T22:12:31.836Z"
   },
   {
    "duration": 14,
    "start_time": "2021-08-11T22:12:46.356Z"
   },
   {
    "duration": 15,
    "start_time": "2021-08-11T22:12:58.399Z"
   },
   {
    "duration": 18,
    "start_time": "2021-08-11T22:13:09.378Z"
   },
   {
    "duration": 42,
    "start_time": "2021-08-11T22:14:17.460Z"
   },
   {
    "duration": 35,
    "start_time": "2021-08-11T22:14:38.335Z"
   },
   {
    "duration": 27,
    "start_time": "2021-08-11T22:14:53.678Z"
   },
   {
    "duration": 8,
    "start_time": "2021-08-11T22:15:13.248Z"
   },
   {
    "duration": 9,
    "start_time": "2021-08-11T22:15:33.394Z"
   },
   {
    "duration": 4,
    "start_time": "2021-08-12T07:53:36.980Z"
   },
   {
    "duration": 410,
    "start_time": "2021-08-12T09:40:33.066Z"
   },
   {
    "duration": 1580,
    "start_time": "2021-08-12T09:40:36.384Z"
   },
   {
    "duration": 523,
    "start_time": "2021-08-12T09:40:40.598Z"
   },
   {
    "duration": 46,
    "start_time": "2021-08-12T09:40:41.318Z"
   },
   {
    "duration": 40,
    "start_time": "2021-08-12T09:40:53.634Z"
   },
   {
    "duration": 356,
    "start_time": "2021-08-12T09:41:04.227Z"
   },
   {
    "duration": 42,
    "start_time": "2021-08-12T09:41:35.897Z"
   },
   {
    "duration": 41,
    "start_time": "2021-08-12T09:41:42.987Z"
   },
   {
    "duration": 39,
    "start_time": "2021-08-12T10:04:04.327Z"
   },
   {
    "duration": 36,
    "start_time": "2021-08-12T10:04:14.334Z"
   },
   {
    "duration": 32,
    "start_time": "2021-08-12T10:05:51.645Z"
   },
   {
    "duration": 1221,
    "start_time": "2021-08-12T10:06:20.445Z"
   },
   {
    "duration": 283,
    "start_time": "2021-08-12T10:06:44.489Z"
   },
   {
    "duration": 17,
    "start_time": "2021-08-12T10:06:58.210Z"
   },
   {
    "duration": 20,
    "start_time": "2021-08-12T10:07:22.382Z"
   },
   {
    "duration": 40,
    "start_time": "2021-08-12T10:25:34.752Z"
   },
   {
    "duration": 4,
    "start_time": "2021-08-12T12:19:50.503Z"
   },
   {
    "duration": 528,
    "start_time": "2021-08-12T12:19:51.294Z"
   },
   {
    "duration": 43,
    "start_time": "2021-08-12T12:19:52.773Z"
   },
   {
    "duration": 30,
    "start_time": "2021-08-12T12:21:18.987Z"
   },
   {
    "duration": 26,
    "start_time": "2021-08-12T12:21:25.652Z"
   },
   {
    "duration": 40,
    "start_time": "2021-08-12T12:25:21.814Z"
   },
   {
    "duration": 13,
    "start_time": "2021-08-12T12:32:49.688Z"
   },
   {
    "duration": 12,
    "start_time": "2021-08-12T12:33:08.956Z"
   },
   {
    "duration": 12,
    "start_time": "2021-08-12T12:34:06.926Z"
   },
   {
    "duration": 8,
    "start_time": "2021-08-12T12:51:32.894Z"
   },
   {
    "duration": 7743,
    "start_time": "2021-08-12T12:51:40.382Z"
   },
   {
    "duration": 315,
    "start_time": "2021-08-12T13:04:29.093Z"
   },
   {
    "duration": 2023,
    "start_time": "2021-08-12T13:04:36.348Z"
   },
   {
    "duration": 1879,
    "start_time": "2021-08-12T13:04:53.266Z"
   },
   {
    "duration": 7503,
    "start_time": "2021-08-12T13:04:58.150Z"
   },
   {
    "duration": 6523,
    "start_time": "2021-08-12T13:34:26.760Z"
   },
   {
    "duration": 7,
    "start_time": "2021-08-12T13:35:57.140Z"
   },
   {
    "duration": 7,
    "start_time": "2021-08-12T13:36:07.246Z"
   },
   {
    "duration": 7,
    "start_time": "2021-08-12T13:36:13.275Z"
   },
   {
    "duration": 22,
    "start_time": "2021-08-12T13:36:36.842Z"
   },
   {
    "duration": 18,
    "start_time": "2021-08-12T13:47:33.484Z"
   },
   {
    "duration": 17,
    "start_time": "2021-08-12T14:01:43.279Z"
   },
   {
    "duration": 21,
    "start_time": "2021-08-12T14:01:45.798Z"
   },
   {
    "duration": 7,
    "start_time": "2021-08-12T14:20:10.621Z"
   },
   {
    "duration": 272,
    "start_time": "2021-08-12T15:33:02.690Z"
   },
   {
    "duration": 276,
    "start_time": "2021-08-12T15:33:15.663Z"
   },
   {
    "duration": 269,
    "start_time": "2021-08-12T15:33:34.601Z"
   },
   {
    "duration": 258,
    "start_time": "2021-08-12T15:33:51.787Z"
   },
   {
    "duration": 22,
    "start_time": "2021-08-12T15:33:57.905Z"
   },
   {
    "duration": 9,
    "start_time": "2021-08-12T15:34:05.632Z"
   },
   {
    "duration": 1356,
    "start_time": "2021-08-13T02:47:27.752Z"
   },
   {
    "duration": 544,
    "start_time": "2021-08-13T02:47:29.114Z"
   },
   {
    "duration": 50,
    "start_time": "2021-08-13T02:47:29.661Z"
   },
   {
    "duration": 68,
    "start_time": "2021-08-13T02:47:29.714Z"
   },
   {
    "duration": 34,
    "start_time": "2021-08-13T02:47:29.785Z"
   },
   {
    "duration": 50,
    "start_time": "2021-08-13T02:47:29.823Z"
   },
   {
    "duration": 26,
    "start_time": "2021-08-13T02:47:29.877Z"
   },
   {
    "duration": 90,
    "start_time": "2021-08-13T02:47:29.907Z"
   },
   {
    "duration": 396,
    "start_time": "2021-08-13T02:51:14.959Z"
   },
   {
    "duration": 443,
    "start_time": "2021-08-13T02:51:50.083Z"
   },
   {
    "duration": 439,
    "start_time": "2021-08-13T02:52:07.495Z"
   },
   {
    "duration": 38,
    "start_time": "2021-08-13T02:52:35.388Z"
   },
   {
    "duration": 1131,
    "start_time": "2021-08-13T02:54:04.736Z"
   },
   {
    "duration": 38,
    "start_time": "2021-08-13T02:54:24.638Z"
   },
   {
    "duration": 36,
    "start_time": "2021-08-13T02:54:53.857Z"
   },
   {
    "duration": 26,
    "start_time": "2021-08-13T02:55:11.926Z"
   },
   {
    "duration": 38,
    "start_time": "2021-08-13T02:55:33.050Z"
   },
   {
    "duration": 37,
    "start_time": "2021-08-13T02:55:34.139Z"
   },
   {
    "duration": 45,
    "start_time": "2021-08-13T02:55:41.088Z"
   },
   {
    "duration": 327,
    "start_time": "2021-08-13T02:57:21.768Z"
   },
   {
    "duration": 376,
    "start_time": "2021-08-13T02:57:48.740Z"
   },
   {
    "duration": 29,
    "start_time": "2021-08-13T03:02:05.922Z"
   },
   {
    "duration": 365,
    "start_time": "2021-08-13T03:02:26.274Z"
   },
   {
    "duration": 9,
    "start_time": "2021-08-13T03:02:37.048Z"
   },
   {
    "duration": 209,
    "start_time": "2021-08-13T03:02:37.954Z"
   },
   {
    "duration": 290,
    "start_time": "2021-08-13T03:04:56.298Z"
   },
   {
    "duration": 11,
    "start_time": "2021-08-13T03:05:03.625Z"
   },
   {
    "duration": 219,
    "start_time": "2021-08-13T03:05:05.015Z"
   },
   {
    "duration": 35,
    "start_time": "2021-08-13T09:27:29.312Z"
   },
   {
    "duration": 265,
    "start_time": "2021-08-13T09:30:41.076Z"
   },
   {
    "duration": 270,
    "start_time": "2021-08-13T09:31:53.838Z"
   },
   {
    "duration": 1814,
    "start_time": "2021-08-13T09:33:45.727Z"
   },
   {
    "duration": 531,
    "start_time": "2021-08-13T09:33:59.224Z"
   },
   {
    "duration": 256,
    "start_time": "2021-08-13T09:48:25.237Z"
   },
   {
    "duration": 295,
    "start_time": "2021-08-13T09:48:32.263Z"
   },
   {
    "duration": 290,
    "start_time": "2021-08-13T09:48:46.445Z"
   },
   {
    "duration": 9,
    "start_time": "2021-08-13T09:55:09.548Z"
   },
   {
    "duration": 19,
    "start_time": "2021-08-13T09:55:10.897Z"
   },
   {
    "duration": 37,
    "start_time": "2021-08-13T09:55:12.826Z"
   },
   {
    "duration": 407,
    "start_time": "2021-08-13T09:55:15.072Z"
   },
   {
    "duration": 7,
    "start_time": "2021-08-13T09:55:28.839Z"
   },
   {
    "duration": 33,
    "start_time": "2021-08-13T09:55:36.947Z"
   },
   {
    "duration": 10,
    "start_time": "2021-08-13T09:56:28.101Z"
   },
   {
    "duration": 34,
    "start_time": "2021-08-13T09:56:29.900Z"
   },
   {
    "duration": 4,
    "start_time": "2021-08-13T09:56:39.526Z"
   },
   {
    "duration": 508,
    "start_time": "2021-08-13T09:56:40.096Z"
   },
   {
    "duration": 40,
    "start_time": "2021-08-13T09:57:03.848Z"
   },
   {
    "duration": 21,
    "start_time": "2021-08-13T09:57:31.317Z"
   },
   {
    "duration": 38,
    "start_time": "2021-08-13T09:57:33.850Z"
   },
   {
    "duration": 6,
    "start_time": "2021-08-13T09:57:45.472Z"
   },
   {
    "duration": 35,
    "start_time": "2021-08-13T09:57:47.854Z"
   },
   {
    "duration": 6,
    "start_time": "2021-08-13T10:06:47.800Z"
   },
   {
    "duration": 406,
    "start_time": "2021-08-13T10:07:07.465Z"
   },
   {
    "duration": 31,
    "start_time": "2021-08-13T10:07:39.067Z"
   },
   {
    "duration": 36,
    "start_time": "2021-08-13T10:11:23.734Z"
   },
   {
    "duration": 11,
    "start_time": "2021-08-13T10:11:28.414Z"
   },
   {
    "duration": 32,
    "start_time": "2021-08-13T10:11:29.050Z"
   },
   {
    "duration": 263,
    "start_time": "2021-08-13T10:13:15.847Z"
   },
   {
    "duration": 102,
    "start_time": "2021-08-13T10:13:22.031Z"
   },
   {
    "duration": 93,
    "start_time": "2021-08-13T10:13:27.493Z"
   },
   {
    "duration": 62,
    "start_time": "2021-08-13T10:13:39.831Z"
   },
   {
    "duration": 93,
    "start_time": "2021-08-13T10:14:07.049Z"
   },
   {
    "duration": 98,
    "start_time": "2021-08-13T10:15:54.848Z"
   },
   {
    "duration": 59,
    "start_time": "2021-08-13T10:16:22.182Z"
   },
   {
    "duration": 32,
    "start_time": "2021-08-13T10:16:38.220Z"
   },
   {
    "duration": 27,
    "start_time": "2021-08-13T10:20:40.357Z"
   },
   {
    "duration": 21,
    "start_time": "2021-08-13T10:21:02.307Z"
   },
   {
    "duration": 23,
    "start_time": "2021-08-13T10:22:08.261Z"
   },
   {
    "duration": 29,
    "start_time": "2021-08-13T10:22:16.813Z"
   },
   {
    "duration": 17,
    "start_time": "2021-08-13T10:22:17.802Z"
   },
   {
    "duration": 291,
    "start_time": "2021-08-13T10:22:23.892Z"
   },
   {
    "duration": 58,
    "start_time": "2021-08-13T10:22:30.816Z"
   },
   {
    "duration": 31,
    "start_time": "2021-08-13T10:22:32.264Z"
   },
   {
    "duration": 9,
    "start_time": "2021-08-13T10:22:40.639Z"
   },
   {
    "duration": 19,
    "start_time": "2021-08-13T10:22:41.367Z"
   },
   {
    "duration": 14,
    "start_time": "2021-08-13T10:23:19.211Z"
   },
   {
    "duration": 52,
    "start_time": "2021-08-13T10:23:24.264Z"
   },
   {
    "duration": 54,
    "start_time": "2021-08-13T10:23:59.914Z"
   },
   {
    "duration": 21,
    "start_time": "2021-08-13T10:24:00.849Z"
   },
   {
    "duration": 16,
    "start_time": "2021-08-13T10:25:22.020Z"
   },
   {
    "duration": 19,
    "start_time": "2021-08-13T11:04:25.631Z"
   },
   {
    "duration": 7,
    "start_time": "2021-08-13T11:04:46.270Z"
   },
   {
    "duration": 9,
    "start_time": "2021-08-13T11:05:16.779Z"
   },
   {
    "duration": 8,
    "start_time": "2021-08-13T11:05:42.983Z"
   },
   {
    "duration": 17,
    "start_time": "2021-08-13T11:07:00.670Z"
   },
   {
    "duration": 8,
    "start_time": "2021-08-13T11:07:38.893Z"
   },
   {
    "duration": 22,
    "start_time": "2021-08-13T11:08:01.542Z"
   },
   {
    "duration": 57,
    "start_time": "2021-08-13T11:08:36.108Z"
   },
   {
    "duration": 23,
    "start_time": "2021-08-13T11:11:55.109Z"
   },
   {
    "duration": 24,
    "start_time": "2021-08-13T14:55:47.956Z"
   },
   {
    "duration": 57,
    "start_time": "2021-08-13T14:56:31.810Z"
   },
   {
    "duration": 24,
    "start_time": "2021-08-13T14:57:35.088Z"
   },
   {
    "duration": 1333,
    "start_time": "2021-08-13T14:58:34.583Z"
   },
   {
    "duration": 536,
    "start_time": "2021-08-13T14:58:35.919Z"
   },
   {
    "duration": 48,
    "start_time": "2021-08-13T14:58:36.459Z"
   },
   {
    "duration": 60,
    "start_time": "2021-08-13T14:58:36.510Z"
   },
   {
    "duration": 31,
    "start_time": "2021-08-13T14:58:36.572Z"
   },
   {
    "duration": 47,
    "start_time": "2021-08-13T14:58:36.607Z"
   },
   {
    "duration": 21,
    "start_time": "2021-08-13T14:58:36.657Z"
   },
   {
    "duration": 76,
    "start_time": "2021-08-13T14:58:36.682Z"
   },
   {
    "duration": 22,
    "start_time": "2021-08-13T14:58:36.762Z"
   },
   {
    "duration": 147,
    "start_time": "2021-08-13T14:58:36.787Z"
   },
   {
    "duration": 43,
    "start_time": "2021-08-13T14:58:36.937Z"
   },
   {
    "duration": 5,
    "start_time": "2021-08-13T14:58:36.982Z"
   },
   {
    "duration": 36,
    "start_time": "2021-08-13T14:58:36.990Z"
   },
   {
    "duration": 32,
    "start_time": "2021-08-13T14:58:37.029Z"
   },
   {
    "duration": 13,
    "start_time": "2021-08-13T14:58:37.065Z"
   },
   {
    "duration": 87,
    "start_time": "2021-08-13T14:58:37.081Z"
   },
   {
    "duration": 31,
    "start_time": "2021-08-13T14:58:37.170Z"
   },
   {
    "duration": 24,
    "start_time": "2021-08-13T14:58:37.204Z"
   },
   {
    "duration": 38,
    "start_time": "2021-08-13T14:58:37.231Z"
   },
   {
    "duration": 54,
    "start_time": "2021-08-13T14:58:37.272Z"
   },
   {
    "duration": 31,
    "start_time": "2021-08-13T14:58:37.329Z"
   },
   {
    "duration": 14,
    "start_time": "2021-08-13T14:58:37.363Z"
   },
   {
    "duration": 11,
    "start_time": "2021-08-13T14:58:37.383Z"
   },
   {
    "duration": 66,
    "start_time": "2021-08-13T14:58:37.397Z"
   },
   {
    "duration": 401,
    "start_time": "2021-08-13T19:07:37.024Z"
   },
   {
    "duration": 1516,
    "start_time": "2021-08-13T19:07:51.147Z"
   },
   {
    "duration": 577,
    "start_time": "2021-08-13T19:07:52.667Z"
   },
   {
    "duration": 49,
    "start_time": "2021-08-13T19:07:53.248Z"
   },
   {
    "duration": 43,
    "start_time": "2021-08-13T19:07:53.300Z"
   },
   {
    "duration": 65,
    "start_time": "2021-08-13T19:07:53.346Z"
   },
   {
    "duration": 23,
    "start_time": "2021-08-13T19:07:53.414Z"
   },
   {
    "duration": 56,
    "start_time": "2021-08-13T19:07:53.440Z"
   },
   {
    "duration": 53,
    "start_time": "2021-08-13T19:07:53.501Z"
   },
   {
    "duration": 41,
    "start_time": "2021-08-13T19:07:53.557Z"
   },
   {
    "duration": 31,
    "start_time": "2021-08-13T19:07:53.600Z"
   },
   {
    "duration": 143,
    "start_time": "2021-08-13T19:07:53.633Z"
   },
   {
    "duration": 50,
    "start_time": "2021-08-13T19:07:53.782Z"
   },
   {
    "duration": 6,
    "start_time": "2021-08-13T19:07:53.834Z"
   },
   {
    "duration": 69,
    "start_time": "2021-08-13T19:07:53.843Z"
   },
   {
    "duration": 17,
    "start_time": "2021-08-13T19:07:53.916Z"
   },
   {
    "duration": 11,
    "start_time": "2021-08-13T19:07:53.935Z"
   },
   {
    "duration": 82,
    "start_time": "2021-08-13T19:07:53.948Z"
   },
   {
    "duration": 30,
    "start_time": "2021-08-13T19:07:54.032Z"
   },
   {
    "duration": 54,
    "start_time": "2021-08-13T19:07:54.065Z"
   },
   {
    "duration": 15,
    "start_time": "2021-08-13T19:07:54.121Z"
   },
   {
    "duration": 82,
    "start_time": "2021-08-13T19:07:54.139Z"
   },
   {
    "duration": 9,
    "start_time": "2021-08-13T19:07:54.224Z"
   },
   {
    "duration": 11,
    "start_time": "2021-08-13T19:07:54.237Z"
   },
   {
    "duration": 12,
    "start_time": "2021-08-13T19:07:54.250Z"
   },
   {
    "duration": 44,
    "start_time": "2021-08-13T19:07:54.264Z"
   },
   {
    "duration": 34,
    "start_time": "2021-08-13T20:01:22.141Z"
   },
   {
    "duration": 45,
    "start_time": "2021-08-13T20:01:28.701Z"
   },
   {
    "duration": 29,
    "start_time": "2021-08-13T20:02:16.663Z"
   },
   {
    "duration": 31,
    "start_time": "2021-08-13T20:02:17.675Z"
   },
   {
    "duration": 52,
    "start_time": "2021-08-13T20:02:23.964Z"
   },
   {
    "duration": 22,
    "start_time": "2021-08-13T20:04:56.259Z"
   },
   {
    "duration": 441,
    "start_time": "2021-08-13T20:04:57.605Z"
   },
   {
    "duration": 88,
    "start_time": "2021-08-13T20:04:58.656Z"
   },
   {
    "duration": 55,
    "start_time": "2021-08-13T20:05:00.206Z"
   },
   {
    "duration": 262,
    "start_time": "2021-08-13T20:05:54.356Z"
   },
   {
    "duration": 8,
    "start_time": "2021-08-13T20:06:23.614Z"
   },
   {
    "duration": 20,
    "start_time": "2021-08-13T20:06:24.450Z"
   },
   {
    "duration": 15,
    "start_time": "2021-08-13T20:06:30.361Z"
   },
   {
    "duration": 18,
    "start_time": "2021-08-13T20:06:46.361Z"
   },
   {
    "duration": 16,
    "start_time": "2021-08-13T20:06:47.258Z"
   },
   {
    "duration": 52,
    "start_time": "2021-08-13T20:06:49.742Z"
   },
   {
    "duration": 233,
    "start_time": "2021-08-13T20:08:07.192Z"
   },
   {
    "duration": 20,
    "start_time": "2021-08-13T20:08:10.870Z"
   },
   {
    "duration": 6523,
    "start_time": "2021-08-13T20:11:07.511Z"
   },
   {
    "duration": 102,
    "start_time": "2021-08-13T20:11:41.022Z"
   },
   {
    "duration": 56,
    "start_time": "2021-08-13T20:13:24.253Z"
   },
   {
    "duration": 50,
    "start_time": "2021-08-13T20:14:28.459Z"
   },
   {
    "duration": 49,
    "start_time": "2021-08-13T20:15:11.597Z"
   },
   {
    "duration": 142,
    "start_time": "2021-08-13T20:15:20.959Z"
   },
   {
    "duration": 39,
    "start_time": "2021-08-13T20:19:07.736Z"
   },
   {
    "duration": 41,
    "start_time": "2021-08-13T20:21:53.151Z"
   },
   {
    "duration": 40,
    "start_time": "2021-08-13T20:23:10.424Z"
   },
   {
    "duration": 967,
    "start_time": "2021-08-14T08:48:34.996Z"
   },
   {
    "duration": 351,
    "start_time": "2021-08-14T08:48:35.965Z"
   },
   {
    "duration": 30,
    "start_time": "2021-08-14T08:48:36.318Z"
   },
   {
    "duration": 22,
    "start_time": "2021-08-14T08:48:36.350Z"
   },
   {
    "duration": 18,
    "start_time": "2021-08-14T08:48:36.373Z"
   },
   {
    "duration": 8,
    "start_time": "2021-08-14T08:48:36.393Z"
   },
   {
    "duration": 13,
    "start_time": "2021-08-14T08:48:36.403Z"
   },
   {
    "duration": 28,
    "start_time": "2021-08-14T08:48:36.418Z"
   },
   {
    "duration": 21,
    "start_time": "2021-08-14T08:48:36.448Z"
   },
   {
    "duration": 18,
    "start_time": "2021-08-14T08:48:36.491Z"
   },
   {
    "duration": 87,
    "start_time": "2021-08-14T08:48:36.510Z"
   },
   {
    "duration": 31,
    "start_time": "2021-08-14T08:48:36.598Z"
   },
   {
    "duration": 4,
    "start_time": "2021-08-14T08:48:36.630Z"
   },
   {
    "duration": 20,
    "start_time": "2021-08-14T08:48:36.635Z"
   },
   {
    "duration": 35,
    "start_time": "2021-08-14T08:48:36.657Z"
   },
   {
    "duration": 12,
    "start_time": "2021-08-14T08:48:36.693Z"
   },
   {
    "duration": 8,
    "start_time": "2021-08-14T08:48:36.707Z"
   },
   {
    "duration": 33,
    "start_time": "2021-08-14T08:48:36.716Z"
   },
   {
    "duration": 46,
    "start_time": "2021-08-14T08:48:36.750Z"
   },
   {
    "duration": 17,
    "start_time": "2021-08-14T08:48:36.797Z"
   },
   {
    "duration": 13,
    "start_time": "2021-08-14T08:48:36.815Z"
   },
   {
    "duration": 10,
    "start_time": "2021-08-14T08:48:36.830Z"
   },
   {
    "duration": 58,
    "start_time": "2021-08-14T08:48:36.842Z"
   },
   {
    "duration": 5,
    "start_time": "2021-08-14T08:48:36.902Z"
   },
   {
    "duration": 8,
    "start_time": "2021-08-14T08:48:36.909Z"
   },
   {
    "duration": 7,
    "start_time": "2021-08-14T08:48:36.918Z"
   },
   {
    "duration": 13,
    "start_time": "2021-08-14T08:48:36.926Z"
   },
   {
    "duration": 55,
    "start_time": "2021-08-14T08:48:36.940Z"
   },
   {
    "duration": 10,
    "start_time": "2021-08-14T08:51:50.961Z"
   },
   {
    "duration": 22,
    "start_time": "2021-08-14T08:53:17.738Z"
   },
   {
    "duration": 5,
    "start_time": "2021-08-14T08:53:53.827Z"
   },
   {
    "duration": 5,
    "start_time": "2021-08-14T08:54:08.847Z"
   },
   {
    "duration": 22,
    "start_time": "2021-08-14T08:54:49.706Z"
   },
   {
    "duration": 12,
    "start_time": "2021-08-14T08:58:03.413Z"
   },
   {
    "duration": 18,
    "start_time": "2021-08-14T09:13:16.892Z"
   },
   {
    "duration": 310,
    "start_time": "2021-08-14T09:26:28.658Z"
   },
   {
    "duration": 20,
    "start_time": "2021-08-14T09:26:54.857Z"
   },
   {
    "duration": 261,
    "start_time": "2021-08-14T09:27:03.246Z"
   },
   {
    "duration": 233,
    "start_time": "2021-08-14T09:27:08.882Z"
   },
   {
    "duration": 20,
    "start_time": "2021-08-14T09:27:15.374Z"
   },
   {
    "duration": 20,
    "start_time": "2021-08-14T09:27:27.281Z"
   },
   {
    "duration": 18,
    "start_time": "2021-08-14T09:42:33.810Z"
   },
   {
    "duration": 20,
    "start_time": "2021-08-14T09:42:47.482Z"
   },
   {
    "duration": 20,
    "start_time": "2021-08-14T09:50:00.163Z"
   },
   {
    "duration": 19,
    "start_time": "2021-08-14T10:51:29.031Z"
   },
   {
    "duration": 26,
    "start_time": "2021-08-14T11:12:25.806Z"
   },
   {
    "duration": 27,
    "start_time": "2021-08-14T11:12:40.047Z"
   },
   {
    "duration": 84,
    "start_time": "2021-08-14T11:13:15.794Z"
   },
   {
    "duration": 76,
    "start_time": "2021-08-14T11:13:33.070Z"
   },
   {
    "duration": 18,
    "start_time": "2021-08-14T11:13:52.581Z"
   },
   {
    "duration": 22,
    "start_time": "2021-08-14T11:14:25.614Z"
   },
   {
    "duration": 17,
    "start_time": "2021-08-14T11:29:56.255Z"
   },
   {
    "duration": 11,
    "start_time": "2021-08-14T11:30:07.499Z"
   },
   {
    "duration": 11,
    "start_time": "2021-08-14T11:30:33.712Z"
   },
   {
    "duration": 18,
    "start_time": "2021-08-14T11:31:07.868Z"
   },
   {
    "duration": 18,
    "start_time": "2021-08-14T11:33:10.334Z"
   },
   {
    "duration": 14,
    "start_time": "2021-08-14T11:35:21.291Z"
   },
   {
    "duration": 6,
    "start_time": "2021-08-14T11:36:12.345Z"
   },
   {
    "duration": 1138,
    "start_time": "2021-08-14T13:18:06.702Z"
   },
   {
    "duration": 396,
    "start_time": "2021-08-14T13:18:07.842Z"
   },
   {
    "duration": 50,
    "start_time": "2021-08-14T13:18:08.243Z"
   },
   {
    "duration": 54,
    "start_time": "2021-08-14T13:18:08.295Z"
   },
   {
    "duration": 32,
    "start_time": "2021-08-14T13:18:08.351Z"
   },
   {
    "duration": 15,
    "start_time": "2021-08-14T13:18:08.385Z"
   },
   {
    "duration": 13,
    "start_time": "2021-08-14T13:18:08.402Z"
   },
   {
    "duration": 30,
    "start_time": "2021-08-14T13:18:08.441Z"
   },
   {
    "duration": 22,
    "start_time": "2021-08-14T13:18:08.472Z"
   },
   {
    "duration": 18,
    "start_time": "2021-08-14T13:18:08.495Z"
   },
   {
    "duration": 109,
    "start_time": "2021-08-14T13:18:08.515Z"
   },
   {
    "duration": 47,
    "start_time": "2021-08-14T13:18:08.626Z"
   },
   {
    "duration": 5,
    "start_time": "2021-08-14T13:18:08.676Z"
   },
   {
    "duration": 21,
    "start_time": "2021-08-14T13:18:08.684Z"
   },
   {
    "duration": 45,
    "start_time": "2021-08-14T13:18:08.706Z"
   },
   {
    "duration": 23,
    "start_time": "2021-08-14T13:18:08.753Z"
   },
   {
    "duration": 8,
    "start_time": "2021-08-14T13:18:08.778Z"
   },
   {
    "duration": 60,
    "start_time": "2021-08-14T13:18:08.787Z"
   },
   {
    "duration": 33,
    "start_time": "2021-08-14T13:18:08.849Z"
   },
   {
    "duration": 22,
    "start_time": "2021-08-14T13:18:08.884Z"
   },
   {
    "duration": 34,
    "start_time": "2021-08-14T13:18:08.908Z"
   },
   {
    "duration": 21,
    "start_time": "2021-08-14T13:18:08.946Z"
   },
   {
    "duration": 39,
    "start_time": "2021-08-14T13:18:08.970Z"
   },
   {
    "duration": 33,
    "start_time": "2021-08-14T13:18:09.011Z"
   },
   {
    "duration": 9,
    "start_time": "2021-08-14T13:18:09.047Z"
   },
   {
    "duration": 14,
    "start_time": "2021-08-14T13:18:09.058Z"
   },
   {
    "duration": 23,
    "start_time": "2021-08-14T13:18:09.074Z"
   },
   {
    "duration": 46,
    "start_time": "2021-08-14T13:18:09.099Z"
   },
   {
    "duration": 33,
    "start_time": "2021-08-14T13:18:09.147Z"
   },
   {
    "duration": 21,
    "start_time": "2021-08-14T13:18:09.182Z"
   },
   {
    "duration": 14,
    "start_time": "2021-08-14T13:18:09.205Z"
   },
   {
    "duration": 320,
    "start_time": "2021-08-14T13:21:41.005Z"
   },
   {
    "duration": 27,
    "start_time": "2021-08-14T13:23:53.035Z"
   },
   {
    "duration": 31,
    "start_time": "2021-08-14T13:24:11.795Z"
   },
   {
    "duration": 27,
    "start_time": "2021-08-14T13:24:25.459Z"
   },
   {
    "duration": 27,
    "start_time": "2021-08-14T13:24:49.961Z"
   },
   {
    "duration": 27,
    "start_time": "2021-08-14T13:29:05.893Z"
   },
   {
    "duration": 14,
    "start_time": "2021-08-14T13:29:37.916Z"
   },
   {
    "duration": 15,
    "start_time": "2021-08-14T13:29:50.374Z"
   },
   {
    "duration": 27,
    "start_time": "2021-08-14T13:30:04.945Z"
   },
   {
    "duration": 17,
    "start_time": "2021-08-14T13:30:29.908Z"
   },
   {
    "duration": 26,
    "start_time": "2021-08-14T13:30:43.651Z"
   },
   {
    "duration": 15,
    "start_time": "2021-08-14T13:30:48.469Z"
   },
   {
    "duration": 28,
    "start_time": "2021-08-14T13:30:53.987Z"
   },
   {
    "duration": 21,
    "start_time": "2021-08-14T13:30:58.032Z"
   },
   {
    "duration": 18,
    "start_time": "2021-08-14T13:31:11.414Z"
   },
   {
    "duration": 251,
    "start_time": "2021-08-14T13:31:54.322Z"
   },
   {
    "duration": 500,
    "start_time": "2021-08-14T13:32:01.635Z"
   },
   {
    "duration": 297,
    "start_time": "2021-08-14T13:32:37.122Z"
   },
   {
    "duration": 255,
    "start_time": "2021-08-14T13:32:48.454Z"
   },
   {
    "duration": 24,
    "start_time": "2021-08-14T13:33:41.459Z"
   },
   {
    "duration": 16,
    "start_time": "2021-08-14T13:33:50.458Z"
   },
   {
    "duration": 6229,
    "start_time": "2021-08-14T13:34:02.646Z"
   },
   {
    "duration": -52016,
    "start_time": "2021-08-14T13:35:00.892Z"
   },
   {
    "duration": 6594,
    "start_time": "2021-08-14T13:34:30.682Z"
   },
   {
    "duration": 31,
    "start_time": "2021-08-14T13:34:49.073Z"
   },
   {
    "duration": 22,
    "start_time": "2021-08-14T13:35:00.416Z"
   },
   {
    "duration": 26,
    "start_time": "2021-08-14T13:35:27.630Z"
   },
   {
    "duration": 21,
    "start_time": "2021-08-14T13:35:33.045Z"
   },
   {
    "duration": 18,
    "start_time": "2021-08-14T13:35:40.540Z"
   },
   {
    "duration": 17,
    "start_time": "2021-08-14T13:36:02.261Z"
   },
   {
    "duration": 27,
    "start_time": "2021-08-14T13:37:35.874Z"
   },
   {
    "duration": 305,
    "start_time": "2021-08-14T13:37:59.543Z"
   },
   {
    "duration": 23,
    "start_time": "2021-08-14T13:38:12.770Z"
   },
   {
    "duration": 27,
    "start_time": "2021-08-14T13:38:33.718Z"
   },
   {
    "duration": 16,
    "start_time": "2021-08-14T13:39:54.002Z"
   },
   {
    "duration": 16,
    "start_time": "2021-08-14T13:40:16.348Z"
   },
   {
    "duration": 21,
    "start_time": "2021-08-14T13:42:40.111Z"
   },
   {
    "duration": 16,
    "start_time": "2021-08-14T13:43:16.082Z"
   },
   {
    "duration": 21,
    "start_time": "2021-08-14T13:43:54.915Z"
   },
   {
    "duration": 8,
    "start_time": "2021-08-14T13:44:14.020Z"
   },
   {
    "duration": 11,
    "start_time": "2021-08-14T13:45:21.910Z"
   },
   {
    "duration": 13,
    "start_time": "2021-08-14T13:49:07.770Z"
   },
   {
    "duration": 97,
    "start_time": "2021-08-14T13:51:49.445Z"
   },
   {
    "duration": 88,
    "start_time": "2021-08-14T13:51:58.954Z"
   },
   {
    "duration": 18,
    "start_time": "2021-08-14T13:52:03.741Z"
   },
   {
    "duration": 24,
    "start_time": "2021-08-14T13:52:07.846Z"
   },
   {
    "duration": 31,
    "start_time": "2021-08-14T13:54:54.768Z"
   },
   {
    "duration": 25,
    "start_time": "2021-08-14T13:55:17.325Z"
   },
   {
    "duration": 21,
    "start_time": "2021-08-14T13:55:30.205Z"
   },
   {
    "duration": 32,
    "start_time": "2021-08-14T13:56:09.914Z"
   },
   {
    "duration": 23,
    "start_time": "2021-08-14T13:56:40.437Z"
   },
   {
    "duration": 20,
    "start_time": "2021-08-14T13:57:01.098Z"
   },
   {
    "duration": 17,
    "start_time": "2021-08-14T13:58:19.513Z"
   },
   {
    "duration": 22,
    "start_time": "2021-08-14T13:58:20.547Z"
   },
   {
    "duration": 286,
    "start_time": "2021-08-14T14:01:09.487Z"
   },
   {
    "duration": 253,
    "start_time": "2021-08-14T14:01:17.856Z"
   },
   {
    "duration": 243,
    "start_time": "2021-08-14T14:01:28.330Z"
   },
   {
    "duration": 19,
    "start_time": "2021-08-14T14:01:40.632Z"
   },
   {
    "duration": 20,
    "start_time": "2021-08-14T14:58:28.977Z"
   },
   {
    "duration": 12,
    "start_time": "2021-08-14T14:59:25.591Z"
   },
   {
    "duration": 8,
    "start_time": "2021-08-14T15:00:08.796Z"
   },
   {
    "duration": 9,
    "start_time": "2021-08-14T15:03:36.747Z"
   },
   {
    "duration": 291,
    "start_time": "2021-08-14T15:04:19.273Z"
   },
   {
    "duration": 4,
    "start_time": "2021-08-14T15:04:46.509Z"
   },
   {
    "duration": 20,
    "start_time": "2021-08-14T15:04:52.606Z"
   },
   {
    "duration": 25,
    "start_time": "2021-08-14T15:04:59.809Z"
   },
   {
    "duration": 279,
    "start_time": "2021-08-14T15:05:46.693Z"
   },
   {
    "duration": 994,
    "start_time": "2021-08-14T15:06:06.816Z"
   },
   {
    "duration": 364,
    "start_time": "2021-08-14T15:06:07.812Z"
   },
   {
    "duration": 33,
    "start_time": "2021-08-14T15:06:08.179Z"
   },
   {
    "duration": 24,
    "start_time": "2021-08-14T15:06:08.215Z"
   },
   {
    "duration": 21,
    "start_time": "2021-08-14T15:06:08.241Z"
   },
   {
    "duration": 11,
    "start_time": "2021-08-14T15:06:08.264Z"
   },
   {
    "duration": 20,
    "start_time": "2021-08-14T15:06:08.277Z"
   },
   {
    "duration": 59,
    "start_time": "2021-08-14T15:06:08.300Z"
   },
   {
    "duration": 22,
    "start_time": "2021-08-14T15:06:08.361Z"
   },
   {
    "duration": 18,
    "start_time": "2021-08-14T15:06:08.385Z"
   },
   {
    "duration": 102,
    "start_time": "2021-08-14T15:06:08.405Z"
   },
   {
    "duration": 42,
    "start_time": "2021-08-14T15:06:08.509Z"
   },
   {
    "duration": 4,
    "start_time": "2021-08-14T15:06:08.553Z"
   },
   {
    "duration": 27,
    "start_time": "2021-08-14T15:06:08.558Z"
   },
   {
    "duration": 16,
    "start_time": "2021-08-14T15:06:08.587Z"
   },
   {
    "duration": 14,
    "start_time": "2021-08-14T15:06:08.604Z"
   },
   {
    "duration": 24,
    "start_time": "2021-08-14T15:06:08.620Z"
   },
   {
    "duration": 38,
    "start_time": "2021-08-14T15:06:08.645Z"
   },
   {
    "duration": 29,
    "start_time": "2021-08-14T15:06:08.685Z"
   },
   {
    "duration": 36,
    "start_time": "2021-08-14T15:06:08.716Z"
   },
   {
    "duration": 15,
    "start_time": "2021-08-14T15:06:08.753Z"
   },
   {
    "duration": 12,
    "start_time": "2021-08-14T15:06:08.770Z"
   },
   {
    "duration": 60,
    "start_time": "2021-08-14T15:06:08.785Z"
   },
   {
    "duration": 6,
    "start_time": "2021-08-14T15:06:08.847Z"
   },
   {
    "duration": 9,
    "start_time": "2021-08-14T15:06:08.855Z"
   },
   {
    "duration": 18,
    "start_time": "2021-08-14T15:06:08.866Z"
   },
   {
    "duration": 14,
    "start_time": "2021-08-14T15:06:08.886Z"
   },
   {
    "duration": 55,
    "start_time": "2021-08-14T15:06:08.902Z"
   },
   {
    "duration": 22,
    "start_time": "2021-08-14T15:06:08.959Z"
   },
   {
    "duration": 19,
    "start_time": "2021-08-14T15:06:08.983Z"
   },
   {
    "duration": 79,
    "start_time": "2021-08-14T15:06:09.004Z"
   },
   {
    "duration": -52482,
    "start_time": "2021-08-14T15:07:01.567Z"
   },
   {
    "duration": -52483,
    "start_time": "2021-08-14T15:07:01.569Z"
   },
   {
    "duration": -52485,
    "start_time": "2021-08-14T15:07:01.572Z"
   },
   {
    "duration": 7335,
    "start_time": "2021-08-14T15:11:02.364Z"
   },
   {
    "duration": 1089,
    "start_time": "2021-08-14T15:11:49.237Z"
   },
   {
    "duration": 394,
    "start_time": "2021-08-14T15:11:50.328Z"
   },
   {
    "duration": 36,
    "start_time": "2021-08-14T15:11:50.724Z"
   },
   {
    "duration": 27,
    "start_time": "2021-08-14T15:11:50.762Z"
   },
   {
    "duration": 22,
    "start_time": "2021-08-14T15:11:50.790Z"
   },
   {
    "duration": 31,
    "start_time": "2021-08-14T15:11:50.814Z"
   },
   {
    "duration": 30,
    "start_time": "2021-08-14T15:11:50.847Z"
   },
   {
    "duration": 37,
    "start_time": "2021-08-14T15:11:50.879Z"
   },
   {
    "duration": 29,
    "start_time": "2021-08-14T15:11:50.919Z"
   },
   {
    "duration": 18,
    "start_time": "2021-08-14T15:11:50.950Z"
   },
   {
    "duration": 98,
    "start_time": "2021-08-14T15:11:50.970Z"
   },
   {
    "duration": 33,
    "start_time": "2021-08-14T15:11:51.072Z"
   },
   {
    "duration": 5,
    "start_time": "2021-08-14T15:11:51.107Z"
   },
   {
    "duration": 48,
    "start_time": "2021-08-14T15:11:51.113Z"
   },
   {
    "duration": 26,
    "start_time": "2021-08-14T15:11:51.163Z"
   },
   {
    "duration": 28,
    "start_time": "2021-08-14T15:11:51.191Z"
   },
   {
    "duration": 8,
    "start_time": "2021-08-14T15:11:51.221Z"
   },
   {
    "duration": 49,
    "start_time": "2021-08-14T15:11:51.230Z"
   },
   {
    "duration": 28,
    "start_time": "2021-08-14T15:11:51.281Z"
   },
   {
    "duration": 31,
    "start_time": "2021-08-14T15:11:51.310Z"
   },
   {
    "duration": 17,
    "start_time": "2021-08-14T15:11:51.343Z"
   },
   {
    "duration": 13,
    "start_time": "2021-08-14T15:11:51.362Z"
   },
   {
    "duration": 40,
    "start_time": "2021-08-14T15:11:51.377Z"
   },
   {
    "duration": 27,
    "start_time": "2021-08-14T15:11:51.419Z"
   },
   {
    "duration": 10,
    "start_time": "2021-08-14T15:11:51.448Z"
   },
   {
    "duration": 31,
    "start_time": "2021-08-14T15:11:51.459Z"
   },
   {
    "duration": 22,
    "start_time": "2021-08-14T15:11:51.493Z"
   },
   {
    "duration": 49,
    "start_time": "2021-08-14T15:11:51.517Z"
   },
   {
    "duration": 23,
    "start_time": "2021-08-14T15:11:51.567Z"
   },
   {
    "duration": 24,
    "start_time": "2021-08-14T15:11:51.592Z"
   },
   {
    "duration": 4,
    "start_time": "2021-08-14T15:11:51.618Z"
   },
   {
    "duration": 30,
    "start_time": "2021-08-14T15:11:51.640Z"
   },
   {
    "duration": 24,
    "start_time": "2021-08-14T15:11:51.671Z"
   },
   {
    "duration": 4,
    "start_time": "2021-08-14T15:20:54.845Z"
   },
   {
    "duration": 21,
    "start_time": "2021-08-14T15:20:55.761Z"
   },
   {
    "duration": 24,
    "start_time": "2021-08-14T15:20:56.994Z"
   },
   {
    "duration": 5,
    "start_time": "2021-08-14T15:22:18.979Z"
   },
   {
    "duration": 4,
    "start_time": "2021-08-14T15:22:40.604Z"
   },
   {
    "duration": 5,
    "start_time": "2021-08-14T15:23:31.960Z"
   },
   {
    "duration": 6,
    "start_time": "2021-08-14T15:23:42.118Z"
   },
   {
    "duration": 323,
    "start_time": "2021-08-14T15:23:58.400Z"
   },
   {
    "duration": 242,
    "start_time": "2021-08-14T15:24:12.249Z"
   },
   {
    "duration": 21,
    "start_time": "2021-08-14T15:24:17.527Z"
   },
   {
    "duration": 7065,
    "start_time": "2021-08-14T15:26:53.885Z"
   },
   {
    "duration": 269,
    "start_time": "2021-08-14T15:27:31.661Z"
   },
   {
    "duration": 954,
    "start_time": "2021-08-14T15:27:40.851Z"
   },
   {
    "duration": 363,
    "start_time": "2021-08-14T15:27:41.808Z"
   },
   {
    "duration": 34,
    "start_time": "2021-08-14T15:27:42.176Z"
   },
   {
    "duration": 25,
    "start_time": "2021-08-14T15:27:42.212Z"
   },
   {
    "duration": 21,
    "start_time": "2021-08-14T15:27:42.239Z"
   },
   {
    "duration": 10,
    "start_time": "2021-08-14T15:27:42.262Z"
   },
   {
    "duration": 16,
    "start_time": "2021-08-14T15:27:42.275Z"
   },
   {
    "duration": 48,
    "start_time": "2021-08-14T15:27:42.293Z"
   },
   {
    "duration": 22,
    "start_time": "2021-08-14T15:27:42.342Z"
   },
   {
    "duration": 18,
    "start_time": "2021-08-14T15:27:42.365Z"
   },
   {
    "duration": 96,
    "start_time": "2021-08-14T15:27:42.384Z"
   },
   {
    "duration": 32,
    "start_time": "2021-08-14T15:27:42.481Z"
   },
   {
    "duration": 3,
    "start_time": "2021-08-14T15:27:42.515Z"
   },
   {
    "duration": 37,
    "start_time": "2021-08-14T15:27:42.520Z"
   },
   {
    "duration": 16,
    "start_time": "2021-08-14T15:27:42.559Z"
   },
   {
    "duration": 14,
    "start_time": "2021-08-14T15:27:42.576Z"
   },
   {
    "duration": 7,
    "start_time": "2021-08-14T15:27:42.591Z"
   },
   {
    "duration": 51,
    "start_time": "2021-08-14T15:27:42.600Z"
   },
   {
    "duration": 26,
    "start_time": "2021-08-14T15:27:42.653Z"
   },
   {
    "duration": 16,
    "start_time": "2021-08-14T15:27:42.680Z"
   },
   {
    "duration": 15,
    "start_time": "2021-08-14T15:27:42.698Z"
   },
   {
    "duration": 34,
    "start_time": "2021-08-14T15:27:42.717Z"
   },
   {
    "duration": 34,
    "start_time": "2021-08-14T15:27:42.753Z"
   },
   {
    "duration": 7,
    "start_time": "2021-08-14T15:27:42.789Z"
   },
   {
    "duration": 15,
    "start_time": "2021-08-14T15:27:42.798Z"
   },
   {
    "duration": 29,
    "start_time": "2021-08-14T15:27:42.815Z"
   },
   {
    "duration": 15,
    "start_time": "2021-08-14T15:27:42.846Z"
   },
   {
    "duration": 47,
    "start_time": "2021-08-14T15:27:42.862Z"
   },
   {
    "duration": 36,
    "start_time": "2021-08-14T15:27:42.911Z"
   },
   {
    "duration": 19,
    "start_time": "2021-08-14T15:27:42.948Z"
   },
   {
    "duration": 3,
    "start_time": "2021-08-14T15:27:42.968Z"
   },
   {
    "duration": 25,
    "start_time": "2021-08-14T15:27:42.972Z"
   },
   {
    "duration": 24,
    "start_time": "2021-08-14T15:27:42.999Z"
   },
   {
    "duration": 33,
    "start_time": "2021-08-14T15:27:43.025Z"
   },
   {
    "duration": 5,
    "start_time": "2021-08-14T15:29:37.275Z"
   },
   {
    "duration": 6,
    "start_time": "2021-08-14T15:29:48.920Z"
   },
   {
    "duration": 5,
    "start_time": "2021-08-14T15:29:57.800Z"
   },
   {
    "duration": 7,
    "start_time": "2021-08-14T15:30:17.785Z"
   },
   {
    "duration": 21,
    "start_time": "2021-08-14T15:30:43.564Z"
   },
   {
    "duration": 24,
    "start_time": "2021-08-14T15:30:45.174Z"
   },
   {
    "duration": 7,
    "start_time": "2021-08-14T15:31:12.002Z"
   },
   {
    "duration": 12,
    "start_time": "2021-08-14T15:31:13.299Z"
   },
   {
    "duration": 5,
    "start_time": "2021-08-14T15:31:36.149Z"
   },
   {
    "duration": 4,
    "start_time": "2021-08-14T15:31:49.155Z"
   },
   {
    "duration": 13,
    "start_time": "2021-08-14T15:32:01.537Z"
   },
   {
    "duration": 14,
    "start_time": "2021-08-14T15:32:02.555Z"
   },
   {
    "duration": 4,
    "start_time": "2021-08-14T15:32:14.588Z"
   },
   {
    "duration": 22,
    "start_time": "2021-08-14T15:32:23.830Z"
   },
   {
    "duration": 20,
    "start_time": "2021-08-14T15:32:24.765Z"
   },
   {
    "duration": 4,
    "start_time": "2021-08-14T15:32:31.396Z"
   },
   {
    "duration": 4796,
    "start_time": "2021-08-14T15:34:46.092Z"
   },
   {
    "duration": 273,
    "start_time": "2021-08-14T15:34:57.277Z"
   },
   {
    "duration": 6,
    "start_time": "2021-08-14T15:35:06.558Z"
   },
   {
    "duration": 7,
    "start_time": "2021-08-14T15:35:25.518Z"
   },
   {
    "duration": 7,
    "start_time": "2021-08-14T15:35:45.331Z"
   },
   {
    "duration": 16,
    "start_time": "2021-08-14T15:36:51.781Z"
   },
   {
    "duration": 21,
    "start_time": "2021-08-14T15:36:52.833Z"
   },
   {
    "duration": 17,
    "start_time": "2021-08-14T15:37:05.124Z"
   },
   {
    "duration": 21,
    "start_time": "2021-08-14T15:37:06.092Z"
   },
   {
    "duration": 19,
    "start_time": "2021-08-14T15:37:59.377Z"
   },
   {
    "duration": 22,
    "start_time": "2021-08-14T15:38:00.565Z"
   },
   {
    "duration": 4,
    "start_time": "2021-08-14T15:38:11.038Z"
   },
   {
    "duration": 27,
    "start_time": "2021-08-14T15:39:36.635Z"
   },
   {
    "duration": 25,
    "start_time": "2021-08-14T15:39:37.501Z"
   },
   {
    "duration": 8,
    "start_time": "2021-08-14T15:39:55.068Z"
   },
   {
    "duration": 19,
    "start_time": "2021-08-14T15:40:23.657Z"
   },
   {
    "duration": 7,
    "start_time": "2021-08-14T15:40:30.832Z"
   },
   {
    "duration": 13,
    "start_time": "2021-08-14T15:41:44.208Z"
   },
   {
    "duration": 13,
    "start_time": "2021-08-14T15:48:55.044Z"
   },
   {
    "duration": 6507,
    "start_time": "2021-08-14T15:50:39.030Z"
   },
   {
    "duration": 1029,
    "start_time": "2021-08-14T15:51:28.321Z"
   },
   {
    "duration": 364,
    "start_time": "2021-08-14T15:51:29.352Z"
   },
   {
    "duration": 32,
    "start_time": "2021-08-14T15:51:29.719Z"
   },
   {
    "duration": 22,
    "start_time": "2021-08-14T15:51:29.753Z"
   },
   {
    "duration": 19,
    "start_time": "2021-08-14T15:51:29.777Z"
   },
   {
    "duration": 10,
    "start_time": "2021-08-14T15:51:29.797Z"
   },
   {
    "duration": 39,
    "start_time": "2021-08-14T15:51:29.810Z"
   },
   {
    "duration": 29,
    "start_time": "2021-08-14T15:51:29.851Z"
   },
   {
    "duration": 21,
    "start_time": "2021-08-14T15:51:29.882Z"
   },
   {
    "duration": 37,
    "start_time": "2021-08-14T15:51:29.905Z"
   },
   {
    "duration": 81,
    "start_time": "2021-08-14T15:51:29.944Z"
   },
   {
    "duration": 42,
    "start_time": "2021-08-14T15:51:30.027Z"
   },
   {
    "duration": 4,
    "start_time": "2021-08-14T15:51:30.071Z"
   },
   {
    "duration": 37,
    "start_time": "2021-08-14T15:51:30.077Z"
   },
   {
    "duration": 27,
    "start_time": "2021-08-14T15:51:30.116Z"
   },
   {
    "duration": 13,
    "start_time": "2021-08-14T15:51:30.144Z"
   },
   {
    "duration": 9,
    "start_time": "2021-08-14T15:51:30.159Z"
   },
   {
    "duration": 47,
    "start_time": "2021-08-14T15:51:30.169Z"
   },
   {
    "duration": 34,
    "start_time": "2021-08-14T15:51:30.218Z"
   },
   {
    "duration": 18,
    "start_time": "2021-08-14T15:51:30.254Z"
   },
   {
    "duration": 21,
    "start_time": "2021-08-14T15:51:30.274Z"
   },
   {
    "duration": 21,
    "start_time": "2021-08-14T15:51:30.298Z"
   },
   {
    "duration": 52,
    "start_time": "2021-08-14T15:51:30.321Z"
   },
   {
    "duration": 9,
    "start_time": "2021-08-14T15:51:30.375Z"
   },
   {
    "duration": 27,
    "start_time": "2021-08-14T15:51:30.385Z"
   },
   {
    "duration": 28,
    "start_time": "2021-08-14T15:51:30.414Z"
   },
   {
    "duration": 36,
    "start_time": "2021-08-14T15:51:30.444Z"
   },
   {
    "duration": 64,
    "start_time": "2021-08-14T15:51:30.481Z"
   },
   {
    "duration": 21,
    "start_time": "2021-08-14T15:51:30.547Z"
   },
   {
    "duration": 23,
    "start_time": "2021-08-14T15:51:30.570Z"
   },
   {
    "duration": 13,
    "start_time": "2021-08-14T15:51:30.595Z"
   },
   {
    "duration": 35,
    "start_time": "2021-08-14T15:51:30.610Z"
   },
   {
    "duration": 8,
    "start_time": "2021-08-14T15:51:30.647Z"
   },
   {
    "duration": 22,
    "start_time": "2021-08-14T15:51:30.657Z"
   },
   {
    "duration": 6,
    "start_time": "2021-08-14T15:53:21.720Z"
   },
   {
    "duration": 8,
    "start_time": "2021-08-14T15:53:29.287Z"
   },
   {
    "duration": 6,
    "start_time": "2021-08-14T15:53:45.864Z"
   },
   {
    "duration": 369,
    "start_time": "2021-08-14T15:54:00.274Z"
   },
   {
    "duration": 9,
    "start_time": "2021-08-14T15:54:13.843Z"
   },
   {
    "duration": 15,
    "start_time": "2021-08-14T15:59:15.204Z"
   },
   {
    "duration": 13,
    "start_time": "2021-08-14T15:59:28.178Z"
   },
   {
    "duration": 8,
    "start_time": "2021-08-14T16:21:00.045Z"
   },
   {
    "duration": 295,
    "start_time": "2021-08-14T16:21:36.373Z"
   },
   {
    "duration": 256,
    "start_time": "2021-08-14T16:22:01.843Z"
   },
   {
    "duration": 6,
    "start_time": "2021-08-14T16:22:18.773Z"
   },
   {
    "duration": 6,
    "start_time": "2021-08-14T16:22:21.872Z"
   },
   {
    "duration": 8,
    "start_time": "2021-08-14T16:22:31.891Z"
   },
   {
    "duration": 5,
    "start_time": "2021-08-14T16:27:23.300Z"
   },
   {
    "duration": 7,
    "start_time": "2021-08-14T16:27:24.848Z"
   },
   {
    "duration": 5,
    "start_time": "2021-08-14T16:28:22.081Z"
   },
   {
    "duration": 7,
    "start_time": "2021-08-14T16:28:23.683Z"
   },
   {
    "duration": 7,
    "start_time": "2021-08-14T16:29:08.203Z"
   },
   {
    "duration": 22,
    "start_time": "2021-08-14T16:50:47.572Z"
   },
   {
    "duration": 15,
    "start_time": "2021-08-14T16:50:54.818Z"
   },
   {
    "duration": 6,
    "start_time": "2021-08-14T16:51:38.691Z"
   },
   {
    "duration": 7,
    "start_time": "2021-08-14T16:51:40.047Z"
   },
   {
    "duration": 14,
    "start_time": "2021-08-14T16:51:42.943Z"
   },
   {
    "duration": 254,
    "start_time": "2021-08-14T16:52:53.307Z"
   },
   {
    "duration": 315,
    "start_time": "2021-08-14T16:52:59.254Z"
   },
   {
    "duration": 268,
    "start_time": "2021-08-14T16:53:11.149Z"
   },
   {
    "duration": 6,
    "start_time": "2021-08-14T16:53:15.778Z"
   },
   {
    "duration": 6,
    "start_time": "2021-08-14T16:53:17.200Z"
   },
   {
    "duration": 15,
    "start_time": "2021-08-14T16:53:20.496Z"
   },
   {
    "duration": 7,
    "start_time": "2021-08-14T16:58:47.303Z"
   },
   {
    "duration": 7,
    "start_time": "2021-08-14T16:58:48.097Z"
   },
   {
    "duration": 14,
    "start_time": "2021-08-14T16:58:55.741Z"
   },
   {
    "duration": 4,
    "start_time": "2021-08-14T17:00:26.903Z"
   },
   {
    "duration": 3717,
    "start_time": "2021-08-14T17:00:57.966Z"
   },
   {
    "duration": 205,
    "start_time": "2021-08-14T17:02:34.277Z"
   },
   {
    "duration": 25,
    "start_time": "2021-08-14T17:02:47.233Z"
   },
   {
    "duration": 16,
    "start_time": "2021-08-14T17:03:19.403Z"
   },
   {
    "duration": 10,
    "start_time": "2021-08-14T17:03:27.150Z"
   },
   {
    "duration": 986,
    "start_time": "2021-08-14T17:04:08.293Z"
   },
   {
    "duration": 374,
    "start_time": "2021-08-14T17:04:09.281Z"
   },
   {
    "duration": 32,
    "start_time": "2021-08-14T17:04:09.659Z"
   },
   {
    "duration": 23,
    "start_time": "2021-08-14T17:04:09.693Z"
   },
   {
    "duration": 31,
    "start_time": "2021-08-14T17:04:09.717Z"
   },
   {
    "duration": 13,
    "start_time": "2021-08-14T17:04:09.749Z"
   },
   {
    "duration": 30,
    "start_time": "2021-08-14T17:04:09.764Z"
   },
   {
    "duration": 32,
    "start_time": "2021-08-14T17:04:09.796Z"
   },
   {
    "duration": 22,
    "start_time": "2021-08-14T17:04:09.830Z"
   },
   {
    "duration": 18,
    "start_time": "2021-08-14T17:04:09.854Z"
   },
   {
    "duration": 104,
    "start_time": "2021-08-14T17:04:09.875Z"
   },
   {
    "duration": 33,
    "start_time": "2021-08-14T17:04:09.981Z"
   },
   {
    "duration": 4,
    "start_time": "2021-08-14T17:04:10.015Z"
   },
   {
    "duration": 36,
    "start_time": "2021-08-14T17:04:10.021Z"
   },
   {
    "duration": 16,
    "start_time": "2021-08-14T17:04:10.059Z"
   },
   {
    "duration": 14,
    "start_time": "2021-08-14T17:04:10.077Z"
   },
   {
    "duration": 7,
    "start_time": "2021-08-14T17:04:10.093Z"
   },
   {
    "duration": 55,
    "start_time": "2021-08-14T17:04:10.102Z"
   },
   {
    "duration": 26,
    "start_time": "2021-08-14T17:04:10.159Z"
   },
   {
    "duration": 17,
    "start_time": "2021-08-14T17:04:10.186Z"
   },
   {
    "duration": 15,
    "start_time": "2021-08-14T17:04:10.204Z"
   },
   {
    "duration": 10,
    "start_time": "2021-08-14T17:04:10.242Z"
   },
   {
    "duration": 31,
    "start_time": "2021-08-14T17:04:10.254Z"
   },
   {
    "duration": 6,
    "start_time": "2021-08-14T17:04:10.287Z"
   },
   {
    "duration": 9,
    "start_time": "2021-08-14T17:04:10.294Z"
   },
   {
    "duration": 19,
    "start_time": "2021-08-14T17:04:10.304Z"
   },
   {
    "duration": 24,
    "start_time": "2021-08-14T17:04:10.324Z"
   },
   {
    "duration": 33,
    "start_time": "2021-08-14T17:04:10.349Z"
   },
   {
    "duration": 19,
    "start_time": "2021-08-14T17:04:10.383Z"
   },
   {
    "duration": 38,
    "start_time": "2021-08-14T17:04:10.404Z"
   },
   {
    "duration": 3,
    "start_time": "2021-08-14T17:04:10.443Z"
   },
   {
    "duration": 26,
    "start_time": "2021-08-14T17:04:10.448Z"
   },
   {
    "duration": 7,
    "start_time": "2021-08-14T17:04:10.476Z"
   },
   {
    "duration": 32,
    "start_time": "2021-08-14T17:04:10.485Z"
   },
   {
    "duration": 16,
    "start_time": "2021-08-14T17:04:10.519Z"
   },
   {
    "duration": 13,
    "start_time": "2021-08-14T17:04:10.537Z"
   },
   {
    "duration": 33,
    "start_time": "2021-08-14T17:04:10.552Z"
   },
   {
    "duration": 22,
    "start_time": "2021-08-14T17:04:10.587Z"
   },
   {
    "duration": 11,
    "start_time": "2021-08-14T17:04:10.611Z"
   },
   {
    "duration": 229,
    "start_time": "2021-08-14T17:04:10.624Z"
   },
   {
    "duration": 10,
    "start_time": "2021-08-14T17:04:10.854Z"
   },
   {
    "duration": 6,
    "start_time": "2021-08-14T17:05:58.271Z"
   },
   {
    "duration": 6,
    "start_time": "2021-08-14T17:05:59.687Z"
   },
   {
    "duration": 7,
    "start_time": "2021-08-14T17:06:00.608Z"
   },
   {
    "duration": 18,
    "start_time": "2021-08-14T17:06:03.670Z"
   },
   {
    "duration": 4,
    "start_time": "2021-08-14T17:06:18.721Z"
   },
   {
    "duration": 200,
    "start_time": "2021-08-14T17:06:19.767Z"
   },
   {
    "duration": 11,
    "start_time": "2021-08-14T17:06:21.247Z"
   },
   {
    "duration": 207,
    "start_time": "2021-08-14T17:07:05.279Z"
   },
   {
    "duration": 10,
    "start_time": "2021-08-14T17:07:06.420Z"
   },
   {
    "duration": 11,
    "start_time": "2021-08-14T17:07:15.369Z"
   },
   {
    "duration": 10,
    "start_time": "2021-08-14T17:07:22.585Z"
   },
   {
    "duration": 27,
    "start_time": "2021-08-14T17:23:41.985Z"
   },
   {
    "duration": 406,
    "start_time": "2021-08-14T17:34:16.536Z"
   },
   {
    "duration": 24,
    "start_time": "2021-08-14T17:34:43.329Z"
   },
   {
    "duration": 34,
    "start_time": "2021-08-14T17:35:35.831Z"
   },
   {
    "duration": 17,
    "start_time": "2021-08-14T17:36:14.242Z"
   },
   {
    "duration": 37,
    "start_time": "2021-08-14T17:36:50.451Z"
   },
   {
    "duration": 260,
    "start_time": "2021-08-14T17:37:33.905Z"
   },
   {
    "duration": 28,
    "start_time": "2021-08-14T17:37:44.548Z"
   },
   {
    "duration": 201,
    "start_time": "2021-08-14T18:18:55.860Z"
   },
   {
    "duration": 29,
    "start_time": "2021-08-14T18:19:45.149Z"
   },
   {
    "duration": 31,
    "start_time": "2021-08-14T18:23:19.018Z"
   },
   {
    "duration": 23,
    "start_time": "2021-08-14T18:24:37.025Z"
   },
   {
    "duration": 3,
    "start_time": "2021-08-14T18:24:51.760Z"
   },
   {
    "duration": 29,
    "start_time": "2021-08-14T18:24:52.453Z"
   },
   {
    "duration": 3,
    "start_time": "2021-08-14T18:25:13.926Z"
   },
   {
    "duration": 26,
    "start_time": "2021-08-14T18:25:15.150Z"
   },
   {
    "duration": 3,
    "start_time": "2021-08-14T18:25:28.321Z"
   },
   {
    "duration": 29,
    "start_time": "2021-08-14T18:25:29.834Z"
   },
   {
    "duration": 3,
    "start_time": "2021-08-14T18:25:47.945Z"
   },
   {
    "duration": 28,
    "start_time": "2021-08-14T18:25:48.912Z"
   },
   {
    "duration": 6,
    "start_time": "2021-08-14T18:28:43.861Z"
   },
   {
    "duration": 254,
    "start_time": "2021-08-14T18:29:41.549Z"
   },
   {
    "duration": 6,
    "start_time": "2021-08-14T18:29:54.224Z"
   },
   {
    "duration": 6,
    "start_time": "2021-08-14T18:30:14.770Z"
   },
   {
    "duration": 45,
    "start_time": "2021-08-14T18:30:24.468Z"
   },
   {
    "duration": 3,
    "start_time": "2021-08-14T18:30:49.456Z"
   },
   {
    "duration": 29,
    "start_time": "2021-08-14T18:30:50.524Z"
   },
   {
    "duration": 3,
    "start_time": "2021-08-14T18:32:37.597Z"
   },
   {
    "duration": 30,
    "start_time": "2021-08-14T18:32:38.427Z"
   },
   {
    "duration": 2,
    "start_time": "2021-08-14T18:35:34.056Z"
   },
   {
    "duration": 31,
    "start_time": "2021-08-14T18:35:34.824Z"
   },
   {
    "duration": 3,
    "start_time": "2021-08-14T18:35:47.522Z"
   },
   {
    "duration": 30,
    "start_time": "2021-08-14T18:35:48.208Z"
   },
   {
    "duration": 266,
    "start_time": "2021-08-14T18:53:30.581Z"
   },
   {
    "duration": 256,
    "start_time": "2021-08-14T18:53:55.354Z"
   },
   {
    "duration": 282,
    "start_time": "2021-08-14T18:54:56.642Z"
   },
   {
    "duration": 179,
    "start_time": "2021-08-14T18:55:08.201Z"
   },
   {
    "duration": 400,
    "start_time": "2021-08-14T18:55:20.247Z"
   },
   {
    "duration": 172,
    "start_time": "2021-08-14T18:55:30.106Z"
   },
   {
    "duration": 172,
    "start_time": "2021-08-14T18:58:15.598Z"
   },
   {
    "duration": 87,
    "start_time": "2021-08-14T18:59:29.817Z"
   },
   {
    "duration": 197,
    "start_time": "2021-08-14T18:59:43.122Z"
   },
   {
    "duration": 181,
    "start_time": "2021-08-14T18:59:56.730Z"
   },
   {
    "duration": 216,
    "start_time": "2021-08-14T19:00:11.717Z"
   },
   {
    "duration": 278,
    "start_time": "2021-08-14T19:00:20.566Z"
   },
   {
    "duration": 304,
    "start_time": "2021-08-14T19:00:32.817Z"
   },
   {
    "duration": 304,
    "start_time": "2021-08-14T19:01:37.298Z"
   },
   {
    "duration": 305,
    "start_time": "2021-08-14T19:01:59.025Z"
   },
   {
    "duration": 286,
    "start_time": "2021-08-14T19:02:06.431Z"
   },
   {
    "duration": 303,
    "start_time": "2021-08-14T19:02:11.963Z"
   },
   {
    "duration": 323,
    "start_time": "2021-08-14T19:02:20.689Z"
   },
   {
    "duration": 1398,
    "start_time": "2021-08-15T05:20:08.332Z"
   },
   {
    "duration": 547,
    "start_time": "2021-08-15T05:20:09.733Z"
   },
   {
    "duration": 46,
    "start_time": "2021-08-15T05:20:10.283Z"
   },
   {
    "duration": 40,
    "start_time": "2021-08-15T05:20:10.332Z"
   },
   {
    "duration": 30,
    "start_time": "2021-08-15T05:20:10.375Z"
   },
   {
    "duration": 17,
    "start_time": "2021-08-15T05:20:10.407Z"
   },
   {
    "duration": 20,
    "start_time": "2021-08-15T05:20:10.456Z"
   },
   {
    "duration": 74,
    "start_time": "2021-08-15T05:20:10.480Z"
   },
   {
    "duration": 31,
    "start_time": "2021-08-15T05:20:10.558Z"
   },
   {
    "duration": 27,
    "start_time": "2021-08-15T05:20:10.591Z"
   },
   {
    "duration": 147,
    "start_time": "2021-08-15T05:20:10.622Z"
   },
   {
    "duration": 46,
    "start_time": "2021-08-15T05:20:10.771Z"
   },
   {
    "duration": 6,
    "start_time": "2021-08-15T05:20:10.820Z"
   },
   {
    "duration": 55,
    "start_time": "2021-08-15T05:20:10.828Z"
   },
   {
    "duration": 24,
    "start_time": "2021-08-15T05:20:10.885Z"
   },
   {
    "duration": 44,
    "start_time": "2021-08-15T05:20:10.912Z"
   },
   {
    "duration": 12,
    "start_time": "2021-08-15T05:20:10.958Z"
   },
   {
    "duration": 62,
    "start_time": "2021-08-15T05:20:10.972Z"
   },
   {
    "duration": 39,
    "start_time": "2021-08-15T05:20:11.054Z"
   },
   {
    "duration": 24,
    "start_time": "2021-08-15T05:20:11.096Z"
   },
   {
    "duration": 45,
    "start_time": "2021-08-15T05:20:11.122Z"
   },
   {
    "duration": 16,
    "start_time": "2021-08-15T05:20:11.169Z"
   },
   {
    "duration": 75,
    "start_time": "2021-08-15T05:20:11.191Z"
   },
   {
    "duration": 9,
    "start_time": "2021-08-15T05:20:11.269Z"
   },
   {
    "duration": 13,
    "start_time": "2021-08-15T05:20:11.280Z"
   },
   {
    "duration": 22,
    "start_time": "2021-08-15T05:20:11.295Z"
   },
   {
    "duration": 41,
    "start_time": "2021-08-15T05:20:11.319Z"
   },
   {
    "duration": 51,
    "start_time": "2021-08-15T05:20:11.363Z"
   },
   {
    "duration": 59,
    "start_time": "2021-08-15T05:20:11.417Z"
   },
   {
    "duration": 25,
    "start_time": "2021-08-15T05:20:11.479Z"
   },
   {
    "duration": 5,
    "start_time": "2021-08-15T05:20:11.506Z"
   },
   {
    "duration": 60,
    "start_time": "2021-08-15T05:20:11.513Z"
   },
   {
    "duration": 12,
    "start_time": "2021-08-15T05:20:11.575Z"
   },
   {
    "duration": 23,
    "start_time": "2021-08-15T05:20:11.589Z"
   },
   {
    "duration": 14,
    "start_time": "2021-08-15T05:20:11.615Z"
   },
   {
    "duration": 30,
    "start_time": "2021-08-15T05:20:11.631Z"
   },
   {
    "duration": 19,
    "start_time": "2021-08-15T05:20:11.664Z"
   },
   {
    "duration": 20,
    "start_time": "2021-08-15T05:20:11.686Z"
   },
   {
    "duration": 358,
    "start_time": "2021-08-15T05:20:11.709Z"
   },
   {
    "duration": 16,
    "start_time": "2021-08-15T05:20:12.070Z"
   },
   {
    "duration": 11,
    "start_time": "2021-08-15T05:20:12.089Z"
   },
   {
    "duration": 65,
    "start_time": "2021-08-15T05:20:12.103Z"
   },
   {
    "duration": 392,
    "start_time": "2021-08-15T05:20:12.170Z"
   },
   {
    "duration": 380,
    "start_time": "2021-08-15T05:20:59.694Z"
   },
   {
    "duration": 396,
    "start_time": "2021-08-15T05:29:48.235Z"
   },
   {
    "duration": 410,
    "start_time": "2021-08-15T05:30:01.262Z"
   },
   {
    "duration": 437,
    "start_time": "2021-08-15T05:30:26.406Z"
   },
   {
    "duration": 551,
    "start_time": "2021-08-15T05:30:39.260Z"
   },
   {
    "duration": 408,
    "start_time": "2021-08-15T05:30:51.807Z"
   },
   {
    "duration": 392,
    "start_time": "2021-08-15T05:30:59.923Z"
   },
   {
    "duration": 460,
    "start_time": "2021-08-15T05:31:26.049Z"
   },
   {
    "duration": 404,
    "start_time": "2021-08-15T05:32:56.573Z"
   },
   {
    "duration": 243,
    "start_time": "2021-08-15T05:33:48.477Z"
   },
   {
    "duration": 258,
    "start_time": "2021-08-15T05:34:44.238Z"
   },
   {
    "duration": 61,
    "start_time": "2021-08-15T05:35:43.751Z"
   },
   {
    "duration": 121,
    "start_time": "2021-08-15T05:37:09.611Z"
   },
   {
    "duration": 323,
    "start_time": "2021-08-15T05:37:30.615Z"
   },
   {
    "duration": 281,
    "start_time": "2021-08-15T05:37:55.607Z"
   },
   {
    "duration": 238,
    "start_time": "2021-08-15T05:38:11.695Z"
   },
   {
    "duration": 5,
    "start_time": "2021-08-15T05:38:19.007Z"
   },
   {
    "duration": 245,
    "start_time": "2021-08-15T05:39:28.223Z"
   },
   {
    "duration": 275,
    "start_time": "2021-08-15T05:39:54.165Z"
   },
   {
    "duration": 243,
    "start_time": "2021-08-15T05:40:03.289Z"
   },
   {
    "duration": 104,
    "start_time": "2021-08-15T05:40:19.679Z"
   },
   {
    "duration": 405,
    "start_time": "2021-08-15T05:40:24.886Z"
   },
   {
    "duration": 59,
    "start_time": "2021-08-15T05:57:55.890Z"
   },
   {
    "duration": 413,
    "start_time": "2021-08-15T06:03:20.437Z"
   },
   {
    "duration": 13,
    "start_time": "2021-08-15T06:04:52.854Z"
   },
   {
    "duration": 17,
    "start_time": "2021-08-15T06:06:01.823Z"
   },
   {
    "duration": 17,
    "start_time": "2021-08-15T06:06:12.294Z"
   },
   {
    "duration": 17,
    "start_time": "2021-08-15T06:06:55.583Z"
   },
   {
    "duration": 557,
    "start_time": "2021-08-15T06:09:57.404Z"
   },
   {
    "duration": 450,
    "start_time": "2021-08-15T06:22:27.382Z"
   },
   {
    "duration": 393,
    "start_time": "2021-08-15T06:22:46.087Z"
   },
   {
    "duration": 418,
    "start_time": "2021-08-15T06:22:57.314Z"
   },
   {
    "duration": 278,
    "start_time": "2021-08-15T06:23:42.539Z"
   },
   {
    "duration": 455,
    "start_time": "2021-08-15T06:38:02.334Z"
   },
   {
    "duration": 5,
    "start_time": "2021-08-15T06:48:05.644Z"
   },
   {
    "duration": 449,
    "start_time": "2021-08-15T06:48:54.558Z"
   },
   {
    "duration": 88,
    "start_time": "2021-08-15T06:54:06.538Z"
   },
   {
    "duration": 4,
    "start_time": "2021-08-15T06:54:11.417Z"
   },
   {
    "duration": 5,
    "start_time": "2021-08-15T06:54:57.605Z"
   },
   {
    "duration": 5,
    "start_time": "2021-08-15T06:54:58.451Z"
   },
   {
    "duration": 50,
    "start_time": "2021-08-15T06:56:50.880Z"
   },
   {
    "duration": 50,
    "start_time": "2021-08-15T06:57:52.235Z"
   },
   {
    "duration": 4,
    "start_time": "2021-08-15T06:58:10.908Z"
   },
   {
    "duration": 48,
    "start_time": "2021-08-15T06:58:20.039Z"
   },
   {
    "duration": 460,
    "start_time": "2021-08-15T06:58:44.652Z"
   },
   {
    "duration": 379,
    "start_time": "2021-08-15T06:58:49.958Z"
   },
   {
    "duration": 241,
    "start_time": "2021-08-15T06:59:47.045Z"
   },
   {
    "duration": 5,
    "start_time": "2021-08-15T07:00:09.510Z"
   },
   {
    "duration": 250,
    "start_time": "2021-08-15T07:00:15.146Z"
   },
   {
    "duration": 4,
    "start_time": "2021-08-15T07:00:44.234Z"
   },
   {
    "duration": 242,
    "start_time": "2021-08-15T07:00:50.012Z"
   },
   {
    "duration": 4,
    "start_time": "2021-08-15T07:01:00.466Z"
   },
   {
    "duration": 239,
    "start_time": "2021-08-15T07:01:06.284Z"
   },
   {
    "duration": 256,
    "start_time": "2021-08-15T07:02:21.247Z"
   },
   {
    "duration": 257,
    "start_time": "2021-08-15T07:03:34.649Z"
   },
   {
    "duration": 244,
    "start_time": "2021-08-15T07:04:05.379Z"
   },
   {
    "duration": 240,
    "start_time": "2021-08-15T07:04:08.163Z"
   },
   {
    "duration": 5,
    "start_time": "2021-08-15T07:05:30.349Z"
   },
   {
    "duration": 378,
    "start_time": "2021-08-15T07:05:37.701Z"
   },
   {
    "duration": 520,
    "start_time": "2021-08-15T07:05:42.201Z"
   },
   {
    "duration": 6,
    "start_time": "2021-08-15T07:06:27.359Z"
   },
   {
    "duration": 240,
    "start_time": "2021-08-15T07:06:53.839Z"
   },
   {
    "duration": 441,
    "start_time": "2021-08-15T07:07:28.281Z"
   },
   {
    "duration": 243,
    "start_time": "2021-08-15T07:07:30.295Z"
   },
   {
    "duration": 5,
    "start_time": "2021-08-15T07:10:50.064Z"
   },
   {
    "duration": 95,
    "start_time": "2021-08-15T07:11:09.339Z"
   },
   {
    "duration": 436,
    "start_time": "2021-08-15T07:11:15.840Z"
   },
   {
    "duration": 447,
    "start_time": "2021-08-15T07:11:50.354Z"
   },
   {
    "duration": 240,
    "start_time": "2021-08-15T07:11:52.680Z"
   },
   {
    "duration": 597,
    "start_time": "2021-08-15T07:12:47.284Z"
   },
   {
    "duration": 451,
    "start_time": "2021-08-15T07:13:02.246Z"
   },
   {
    "duration": 443,
    "start_time": "2021-08-15T07:13:14.764Z"
   },
   {
    "duration": 5,
    "start_time": "2021-08-15T07:13:54.922Z"
   },
   {
    "duration": 259,
    "start_time": "2021-08-15T07:14:06.710Z"
   },
   {
    "duration": 406,
    "start_time": "2021-08-15T07:14:13.112Z"
   },
   {
    "duration": 5,
    "start_time": "2021-08-15T07:15:02.337Z"
   },
   {
    "duration": 434,
    "start_time": "2021-08-15T07:15:11.264Z"
   },
   {
    "duration": 5,
    "start_time": "2021-08-15T07:15:40.685Z"
   },
   {
    "duration": 238,
    "start_time": "2021-08-15T07:15:46.026Z"
   },
   {
    "duration": 430,
    "start_time": "2021-08-15T07:16:04.553Z"
   },
   {
    "duration": 431,
    "start_time": "2021-08-15T07:17:47.074Z"
   },
   {
    "duration": 234,
    "start_time": "2021-08-15T07:18:50.580Z"
   },
   {
    "duration": 417,
    "start_time": "2021-08-15T07:20:39.543Z"
   },
   {
    "duration": 384,
    "start_time": "2021-08-15T07:20:50.249Z"
   },
   {
    "duration": 541,
    "start_time": "2021-08-15T07:20:58.607Z"
   },
   {
    "duration": 391,
    "start_time": "2021-08-15T07:23:14.340Z"
   },
   {
    "duration": 413,
    "start_time": "2021-08-15T07:23:39.020Z"
   },
   {
    "duration": 392,
    "start_time": "2021-08-15T07:23:50.172Z"
   },
   {
    "duration": 241,
    "start_time": "2021-08-15T07:24:21.809Z"
   },
   {
    "duration": 355,
    "start_time": "2021-08-15T07:35:35.871Z"
   },
   {
    "duration": 224,
    "start_time": "2021-08-15T07:38:25.105Z"
   },
   {
    "duration": 7255,
    "start_time": "2021-08-15T07:51:36.641Z"
   },
   {
    "duration": 7014,
    "start_time": "2021-08-15T07:51:56.253Z"
   },
   {
    "duration": 7,
    "start_time": "2021-08-15T07:52:07.064Z"
   },
   {
    "duration": 10,
    "start_time": "2021-08-15T07:54:09.315Z"
   },
   {
    "duration": 385,
    "start_time": "2021-08-15T08:17:47.028Z"
   },
   {
    "duration": 263,
    "start_time": "2021-08-15T08:18:34.566Z"
   },
   {
    "duration": 390,
    "start_time": "2021-08-15T08:18:40.485Z"
   },
   {
    "duration": 408,
    "start_time": "2021-08-15T08:19:27.050Z"
   },
   {
    "duration": 389,
    "start_time": "2021-08-15T08:21:02.397Z"
   },
   {
    "duration": 242,
    "start_time": "2021-08-15T08:21:03.791Z"
   },
   {
    "duration": 245,
    "start_time": "2021-08-15T08:21:33.803Z"
   },
   {
    "duration": 364,
    "start_time": "2021-08-15T08:23:44.914Z"
   },
   {
    "duration": 628,
    "start_time": "2021-08-15T08:23:57.307Z"
   },
   {
    "duration": 231,
    "start_time": "2021-08-15T08:24:36.921Z"
   },
   {
    "duration": 382,
    "start_time": "2021-08-15T08:25:01.100Z"
   },
   {
    "duration": 364,
    "start_time": "2021-08-15T08:38:25.329Z"
   },
   {
    "duration": 262,
    "start_time": "2021-08-15T08:38:32.781Z"
   },
   {
    "duration": 1477,
    "start_time": "2021-08-15T09:14:47.128Z"
   },
   {
    "duration": 551,
    "start_time": "2021-08-15T09:14:48.608Z"
   },
   {
    "duration": 53,
    "start_time": "2021-08-15T09:14:49.165Z"
   },
   {
    "duration": 64,
    "start_time": "2021-08-15T09:14:49.220Z"
   },
   {
    "duration": 31,
    "start_time": "2021-08-15T09:14:49.287Z"
   },
   {
    "duration": 49,
    "start_time": "2021-08-15T09:14:49.320Z"
   },
   {
    "duration": 34,
    "start_time": "2021-08-15T09:14:49.375Z"
   },
   {
    "duration": 71,
    "start_time": "2021-08-15T09:14:49.413Z"
   },
   {
    "duration": 34,
    "start_time": "2021-08-15T09:14:49.487Z"
   },
   {
    "duration": 52,
    "start_time": "2021-08-15T09:14:49.524Z"
   },
   {
    "duration": 139,
    "start_time": "2021-08-15T09:14:49.579Z"
   },
   {
    "duration": 68,
    "start_time": "2021-08-15T09:14:49.721Z"
   },
   {
    "duration": 7,
    "start_time": "2021-08-15T09:14:49.793Z"
   },
   {
    "duration": 53,
    "start_time": "2021-08-15T09:14:49.802Z"
   },
   {
    "duration": 24,
    "start_time": "2021-08-15T09:14:49.858Z"
   },
   {
    "duration": 20,
    "start_time": "2021-08-15T09:14:49.884Z"
   },
   {
    "duration": 12,
    "start_time": "2021-08-15T09:14:49.906Z"
   },
   {
    "duration": 85,
    "start_time": "2021-08-15T09:14:49.920Z"
   },
   {
    "duration": 61,
    "start_time": "2021-08-15T09:14:50.007Z"
   },
   {
    "duration": 24,
    "start_time": "2021-08-15T09:14:50.070Z"
   },
   {
    "duration": 21,
    "start_time": "2021-08-15T09:14:50.097Z"
   },
   {
    "duration": 40,
    "start_time": "2021-08-15T09:14:50.123Z"
   },
   {
    "duration": 52,
    "start_time": "2021-08-15T09:14:50.166Z"
   },
   {
    "duration": 9,
    "start_time": "2021-08-15T09:14:50.221Z"
   },
   {
    "duration": 10,
    "start_time": "2021-08-15T09:14:50.255Z"
   },
   {
    "duration": 23,
    "start_time": "2021-08-15T09:14:50.268Z"
   },
   {
    "duration": 38,
    "start_time": "2021-08-15T09:14:50.294Z"
   },
   {
    "duration": 63,
    "start_time": "2021-08-15T09:14:50.335Z"
   },
   {
    "duration": 31,
    "start_time": "2021-08-15T09:14:50.401Z"
   },
   {
    "duration": 42,
    "start_time": "2021-08-15T09:14:50.434Z"
   },
   {
    "duration": 15,
    "start_time": "2021-08-15T09:14:50.479Z"
   },
   {
    "duration": 46,
    "start_time": "2021-08-15T09:14:50.497Z"
   },
   {
    "duration": 17,
    "start_time": "2021-08-15T09:14:50.546Z"
   },
   {
    "duration": 26,
    "start_time": "2021-08-15T09:14:50.565Z"
   },
   {
    "duration": 22,
    "start_time": "2021-08-15T09:14:50.593Z"
   },
   {
    "duration": 15,
    "start_time": "2021-08-15T09:14:50.618Z"
   },
   {
    "duration": 25,
    "start_time": "2021-08-15T09:14:50.636Z"
   },
   {
    "duration": 11,
    "start_time": "2021-08-15T09:14:50.664Z"
   },
   {
    "duration": 383,
    "start_time": "2021-08-15T09:14:50.678Z"
   },
   {
    "duration": 17,
    "start_time": "2021-08-15T09:14:51.064Z"
   },
   {
    "duration": 19,
    "start_time": "2021-08-15T09:14:51.084Z"
   },
   {
    "duration": 25,
    "start_time": "2021-08-15T09:14:51.106Z"
   },
   {
    "duration": 22,
    "start_time": "2021-08-15T09:14:51.134Z"
   },
   {
    "duration": 70,
    "start_time": "2021-08-15T09:14:51.159Z"
   },
   {
    "duration": 448,
    "start_time": "2021-08-15T09:14:51.232Z"
   },
   {
    "duration": 246,
    "start_time": "2021-08-15T09:14:51.683Z"
   },
   {
    "duration": 552,
    "start_time": "2021-08-15T09:14:51.932Z"
   },
   {
    "duration": 259,
    "start_time": "2021-08-15T09:14:52.487Z"
   },
   {
    "duration": 394,
    "start_time": "2021-08-15T09:14:52.748Z"
   },
   {
    "duration": 249,
    "start_time": "2021-08-15T09:14:53.144Z"
   },
   {
    "duration": 384,
    "start_time": "2021-08-15T09:14:53.395Z"
   },
   {
    "duration": 464,
    "start_time": "2021-08-15T09:14:53.781Z"
   },
   {
    "duration": 450,
    "start_time": "2021-08-15T09:14:54.251Z"
   },
   {
    "duration": 261,
    "start_time": "2021-08-15T09:14:54.703Z"
   },
   {
    "duration": 390,
    "start_time": "2021-08-15T09:14:54.966Z"
   },
   {
    "duration": 244,
    "start_time": "2021-08-15T09:14:55.358Z"
   },
   {
    "duration": 1352,
    "start_time": "2021-08-15T13:40:12.663Z"
   },
   {
    "duration": 513,
    "start_time": "2021-08-15T13:40:14.017Z"
   },
   {
    "duration": 46,
    "start_time": "2021-08-15T13:40:14.533Z"
   },
   {
    "duration": 37,
    "start_time": "2021-08-15T13:40:14.582Z"
   },
   {
    "duration": 54,
    "start_time": "2021-08-15T13:40:14.622Z"
   },
   {
    "duration": 17,
    "start_time": "2021-08-15T13:40:14.679Z"
   },
   {
    "duration": 55,
    "start_time": "2021-08-15T13:40:14.699Z"
   },
   {
    "duration": 45,
    "start_time": "2021-08-15T13:40:14.758Z"
   },
   {
    "duration": 58,
    "start_time": "2021-08-15T13:40:14.807Z"
   },
   {
    "duration": 26,
    "start_time": "2021-08-15T13:40:14.868Z"
   },
   {
    "duration": 160,
    "start_time": "2021-08-15T13:40:14.897Z"
   },
   {
    "duration": 46,
    "start_time": "2021-08-15T13:40:15.060Z"
   },
   {
    "duration": 6,
    "start_time": "2021-08-15T13:40:15.108Z"
   },
   {
    "duration": 57,
    "start_time": "2021-08-15T13:40:15.117Z"
   },
   {
    "duration": 25,
    "start_time": "2021-08-15T13:40:15.176Z"
   },
   {
    "duration": 20,
    "start_time": "2021-08-15T13:40:15.203Z"
   },
   {
    "duration": 32,
    "start_time": "2021-08-15T13:40:15.225Z"
   },
   {
    "duration": 59,
    "start_time": "2021-08-15T13:40:15.260Z"
   },
   {
    "duration": 57,
    "start_time": "2021-08-15T13:40:15.321Z"
   },
   {
    "duration": 25,
    "start_time": "2021-08-15T13:40:15.380Z"
   },
   {
    "duration": 21,
    "start_time": "2021-08-15T13:40:15.407Z"
   },
   {
    "duration": 37,
    "start_time": "2021-08-15T13:40:15.430Z"
   },
   {
    "duration": 51,
    "start_time": "2021-08-15T13:40:15.473Z"
   },
   {
    "duration": 33,
    "start_time": "2021-08-15T13:40:15.528Z"
   },
   {
    "duration": 15,
    "start_time": "2021-08-15T13:40:15.564Z"
   },
   {
    "duration": 10,
    "start_time": "2021-08-15T13:40:15.582Z"
   },
   {
    "duration": 22,
    "start_time": "2021-08-15T13:40:15.594Z"
   },
   {
    "duration": 81,
    "start_time": "2021-08-15T13:40:15.618Z"
   },
   {
    "duration": 52,
    "start_time": "2021-08-15T13:40:15.701Z"
   },
   {
    "duration": 24,
    "start_time": "2021-08-15T13:40:15.756Z"
   },
   {
    "duration": 4,
    "start_time": "2021-08-15T13:40:15.782Z"
   },
   {
    "duration": 35,
    "start_time": "2021-08-15T13:40:15.789Z"
   },
   {
    "duration": 38,
    "start_time": "2021-08-15T13:40:15.826Z"
   },
   {
    "duration": 23,
    "start_time": "2021-08-15T13:40:15.867Z"
   },
   {
    "duration": 15,
    "start_time": "2021-08-15T13:40:15.892Z"
   },
   {
    "duration": 10,
    "start_time": "2021-08-15T13:40:15.909Z"
   },
   {
    "duration": 9,
    "start_time": "2021-08-15T13:40:15.955Z"
   },
   {
    "duration": 6,
    "start_time": "2021-08-15T13:40:15.967Z"
   },
   {
    "duration": 388,
    "start_time": "2021-08-15T13:40:15.975Z"
   },
   {
    "duration": 18,
    "start_time": "2021-08-15T13:40:16.365Z"
   },
   {
    "duration": 4,
    "start_time": "2021-08-15T13:40:16.385Z"
   },
   {
    "duration": 6,
    "start_time": "2021-08-15T13:40:16.392Z"
   },
   {
    "duration": 5,
    "start_time": "2021-08-15T13:40:16.401Z"
   },
   {
    "duration": 88,
    "start_time": "2021-08-15T13:40:16.408Z"
   },
   {
    "duration": 474,
    "start_time": "2021-08-15T13:40:16.498Z"
   },
   {
    "duration": 253,
    "start_time": "2021-08-15T13:40:16.974Z"
   },
   {
    "duration": 454,
    "start_time": "2021-08-15T13:40:17.230Z"
   },
   {
    "duration": 255,
    "start_time": "2021-08-15T13:40:17.686Z"
   },
   {
    "duration": 387,
    "start_time": "2021-08-15T13:40:17.944Z"
   },
   {
    "duration": 255,
    "start_time": "2021-08-15T13:40:18.333Z"
   },
   {
    "duration": 387,
    "start_time": "2021-08-15T13:40:18.591Z"
   },
   {
    "duration": 237,
    "start_time": "2021-08-15T13:40:18.981Z"
   },
   {
    "duration": 456,
    "start_time": "2021-08-15T13:40:19.221Z"
   },
   {
    "duration": 266,
    "start_time": "2021-08-15T13:40:19.680Z"
   },
   {
    "duration": 364,
    "start_time": "2021-08-15T13:40:19.954Z"
   },
   {
    "duration": 242,
    "start_time": "2021-08-15T13:40:20.320Z"
   },
   {
    "duration": 8,
    "start_time": "2021-08-15T14:11:29.399Z"
   },
   {
    "duration": 110,
    "start_time": "2021-08-15T14:12:14.808Z"
   },
   {
    "duration": 11,
    "start_time": "2021-08-15T14:12:19.356Z"
   },
   {
    "duration": 18,
    "start_time": "2021-08-15T14:12:39.437Z"
   },
   {
    "duration": 5,
    "start_time": "2021-08-15T14:12:56.119Z"
   },
   {
    "duration": 7,
    "start_time": "2021-08-15T14:13:17.771Z"
   },
   {
    "duration": 15,
    "start_time": "2021-08-15T14:13:24.777Z"
   },
   {
    "duration": 16,
    "start_time": "2021-08-15T14:13:38.891Z"
   },
   {
    "duration": 7,
    "start_time": "2021-08-15T14:15:41.474Z"
   },
   {
    "duration": 5,
    "start_time": "2021-08-15T14:17:33.002Z"
   },
   {
    "duration": 8,
    "start_time": "2021-08-15T14:19:43.747Z"
   },
   {
    "duration": 9,
    "start_time": "2021-08-15T14:24:37.085Z"
   },
   {
    "duration": 7,
    "start_time": "2021-08-15T14:24:40.889Z"
   },
   {
    "duration": 6,
    "start_time": "2021-08-15T14:24:55.102Z"
   },
   {
    "duration": 7,
    "start_time": "2021-08-15T14:24:58.419Z"
   },
   {
    "duration": 7,
    "start_time": "2021-08-15T14:25:03.530Z"
   },
   {
    "duration": 6,
    "start_time": "2021-08-15T14:31:00.240Z"
   },
   {
    "duration": 7,
    "start_time": "2021-08-15T14:31:49.327Z"
   },
   {
    "duration": 410,
    "start_time": "2021-08-15T14:32:05.998Z"
   },
   {
    "duration": 335,
    "start_time": "2021-08-15T14:32:31.667Z"
   },
   {
    "duration": 7,
    "start_time": "2021-08-15T14:33:02.066Z"
   },
   {
    "duration": 3,
    "start_time": "2021-08-15T14:33:03.188Z"
   },
   {
    "duration": 7,
    "start_time": "2021-08-15T14:33:03.954Z"
   },
   {
    "duration": 260,
    "start_time": "2021-08-15T14:33:06.854Z"
   },
   {
    "duration": 9,
    "start_time": "2021-08-15T14:33:24.458Z"
   },
   {
    "duration": 7,
    "start_time": "2021-08-15T14:33:28.556Z"
   },
   {
    "duration": 8,
    "start_time": "2021-08-15T14:33:35.727Z"
   },
   {
    "duration": 8,
    "start_time": "2021-08-15T14:34:58.545Z"
   },
   {
    "duration": 6,
    "start_time": "2021-08-15T14:35:07.533Z"
   },
   {
    "duration": 6,
    "start_time": "2021-08-15T14:35:13.986Z"
   },
   {
    "duration": 8,
    "start_time": "2021-08-15T14:36:14.046Z"
   },
   {
    "duration": 7,
    "start_time": "2021-08-15T14:36:57.790Z"
   },
   {
    "duration": 10,
    "start_time": "2021-08-15T14:37:57.200Z"
   },
   {
    "duration": 9,
    "start_time": "2021-08-15T14:38:00.722Z"
   },
   {
    "duration": 4,
    "start_time": "2021-08-15T14:38:08.652Z"
   },
   {
    "duration": 7,
    "start_time": "2021-08-15T14:38:09.378Z"
   },
   {
    "duration": 8,
    "start_time": "2021-08-15T14:38:11.242Z"
   },
   {
    "duration": 7,
    "start_time": "2021-08-15T14:44:05.285Z"
   },
   {
    "duration": 6,
    "start_time": "2021-08-15T14:46:38.639Z"
   },
   {
    "duration": 12,
    "start_time": "2021-08-15T14:46:55.444Z"
   },
   {
    "duration": 254,
    "start_time": "2021-08-15T14:47:12.120Z"
   },
   {
    "duration": 7,
    "start_time": "2021-08-15T14:48:05.276Z"
   },
   {
    "duration": 6,
    "start_time": "2021-08-15T14:48:27.519Z"
   },
   {
    "duration": 7,
    "start_time": "2021-08-15T14:48:34.178Z"
   },
   {
    "duration": 8,
    "start_time": "2021-08-15T14:51:02.278Z"
   },
   {
    "duration": 6,
    "start_time": "2021-08-15T14:51:12.151Z"
   },
   {
    "duration": 8,
    "start_time": "2021-08-15T14:51:59.821Z"
   },
   {
    "duration": 7,
    "start_time": "2021-08-15T14:52:04.523Z"
   },
   {
    "duration": 7,
    "start_time": "2021-08-15T15:29:55.259Z"
   },
   {
    "duration": 12,
    "start_time": "2021-08-15T15:33:01.940Z"
   },
   {
    "duration": 7,
    "start_time": "2021-08-15T15:33:12.540Z"
   },
   {
    "duration": 95,
    "start_time": "2021-08-15T15:37:29.464Z"
   },
   {
    "duration": 10,
    "start_time": "2021-08-15T15:37:40.183Z"
   },
   {
    "duration": 18,
    "start_time": "2021-08-15T15:37:49.799Z"
   },
   {
    "duration": 7,
    "start_time": "2021-08-15T15:38:09.505Z"
   },
   {
    "duration": 48,
    "start_time": "2021-08-15T15:38:11.071Z"
   },
   {
    "duration": 9,
    "start_time": "2021-08-15T15:38:31.926Z"
   },
   {
    "duration": 44,
    "start_time": "2021-08-15T15:38:33.071Z"
   },
   {
    "duration": 25,
    "start_time": "2021-08-15T15:40:01.834Z"
   },
   {
    "duration": 46,
    "start_time": "2021-08-15T15:42:18.228Z"
   },
   {
    "duration": 24,
    "start_time": "2021-08-15T15:42:42.189Z"
   },
   {
    "duration": 7,
    "start_time": "2021-08-15T15:42:43.172Z"
   },
   {
    "duration": 23,
    "start_time": "2021-08-15T15:43:01.377Z"
   },
   {
    "duration": 7,
    "start_time": "2021-08-15T15:43:07.690Z"
   },
   {
    "duration": 8,
    "start_time": "2021-08-15T15:43:21.936Z"
   },
   {
    "duration": 7,
    "start_time": "2021-08-15T15:48:44.262Z"
   },
   {
    "duration": 7,
    "start_time": "2021-08-15T15:49:20.056Z"
   },
   {
    "duration": 86,
    "start_time": "2021-08-15T15:52:22.075Z"
   },
   {
    "duration": 43,
    "start_time": "2021-08-15T15:52:31.877Z"
   },
   {
    "duration": 42,
    "start_time": "2021-08-15T15:53:05.914Z"
   },
   {
    "duration": 44,
    "start_time": "2021-08-15T15:53:19.145Z"
   },
   {
    "duration": 42,
    "start_time": "2021-08-15T15:56:24.068Z"
   },
   {
    "duration": 103,
    "start_time": "2021-08-15T16:02:07.602Z"
   },
   {
    "duration": 83,
    "start_time": "2021-08-15T16:02:17.601Z"
   },
   {
    "duration": 48,
    "start_time": "2021-08-15T16:02:23.804Z"
   },
   {
    "duration": 10,
    "start_time": "2021-08-15T16:02:54.206Z"
   },
   {
    "duration": 47,
    "start_time": "2021-08-15T16:06:33.492Z"
   },
   {
    "duration": 11,
    "start_time": "2021-08-15T16:06:51.111Z"
   },
   {
    "duration": 13,
    "start_time": "2021-08-15T16:06:58.098Z"
   },
   {
    "duration": 10,
    "start_time": "2021-08-15T16:07:12.267Z"
   },
   {
    "duration": 8,
    "start_time": "2021-08-15T16:07:30.270Z"
   },
   {
    "duration": 1397,
    "start_time": "2021-08-15T17:19:32.420Z"
   },
   {
    "duration": 511,
    "start_time": "2021-08-15T17:19:33.820Z"
   },
   {
    "duration": 47,
    "start_time": "2021-08-15T17:19:34.334Z"
   },
   {
    "duration": 37,
    "start_time": "2021-08-15T17:19:34.383Z"
   },
   {
    "duration": 58,
    "start_time": "2021-08-15T17:19:34.422Z"
   },
   {
    "duration": 16,
    "start_time": "2021-08-15T17:19:34.483Z"
   },
   {
    "duration": 54,
    "start_time": "2021-08-15T17:19:34.502Z"
   },
   {
    "duration": 49,
    "start_time": "2021-08-15T17:19:34.560Z"
   },
   {
    "duration": 53,
    "start_time": "2021-08-15T17:19:34.612Z"
   },
   {
    "duration": 26,
    "start_time": "2021-08-15T17:19:34.667Z"
   },
   {
    "duration": 141,
    "start_time": "2021-08-15T17:19:34.696Z"
   },
   {
    "duration": 51,
    "start_time": "2021-08-15T17:19:34.839Z"
   },
   {
    "duration": 6,
    "start_time": "2021-08-15T17:19:34.893Z"
   },
   {
    "duration": 53,
    "start_time": "2021-08-15T17:19:34.901Z"
   },
   {
    "duration": 24,
    "start_time": "2021-08-15T17:19:34.957Z"
   },
   {
    "duration": 19,
    "start_time": "2021-08-15T17:19:34.983Z"
   },
   {
    "duration": 12,
    "start_time": "2021-08-15T17:19:35.004Z"
   },
   {
    "duration": 88,
    "start_time": "2021-08-15T17:19:35.019Z"
   },
   {
    "duration": 62,
    "start_time": "2021-08-15T17:19:35.109Z"
   },
   {
    "duration": 25,
    "start_time": "2021-08-15T17:19:35.173Z"
   },
   {
    "duration": 21,
    "start_time": "2021-08-15T17:19:35.201Z"
   },
   {
    "duration": 43,
    "start_time": "2021-08-15T17:19:35.224Z"
   },
   {
    "duration": 51,
    "start_time": "2021-08-15T17:19:35.273Z"
   },
   {
    "duration": 8,
    "start_time": "2021-08-15T17:19:35.328Z"
   },
   {
    "duration": 10,
    "start_time": "2021-08-15T17:19:35.355Z"
   },
   {
    "duration": 14,
    "start_time": "2021-08-15T17:19:35.367Z"
   },
   {
    "duration": 24,
    "start_time": "2021-08-15T17:19:35.384Z"
   },
   {
    "duration": 89,
    "start_time": "2021-08-15T17:19:35.410Z"
   },
   {
    "duration": 31,
    "start_time": "2021-08-15T17:19:35.501Z"
   },
   {
    "duration": 41,
    "start_time": "2021-08-15T17:19:35.534Z"
   },
   {
    "duration": 5,
    "start_time": "2021-08-15T17:19:35.578Z"
   },
   {
    "duration": 37,
    "start_time": "2021-08-15T17:19:35.585Z"
   },
   {
    "duration": 37,
    "start_time": "2021-08-15T17:19:35.625Z"
   },
   {
    "duration": 24,
    "start_time": "2021-08-15T17:19:35.665Z"
   },
   {
    "duration": 13,
    "start_time": "2021-08-15T17:19:35.692Z"
   },
   {
    "duration": 12,
    "start_time": "2021-08-15T17:19:35.707Z"
   },
   {
    "duration": 39,
    "start_time": "2021-08-15T17:19:35.722Z"
   },
   {
    "duration": 9,
    "start_time": "2021-08-15T17:19:35.763Z"
   },
   {
    "duration": 380,
    "start_time": "2021-08-15T17:19:35.774Z"
   },
   {
    "duration": 17,
    "start_time": "2021-08-15T17:19:36.157Z"
   },
   {
    "duration": 12,
    "start_time": "2021-08-15T17:19:36.177Z"
   },
   {
    "duration": 11,
    "start_time": "2021-08-15T17:19:36.191Z"
   },
   {
    "duration": 23,
    "start_time": "2021-08-15T17:19:36.205Z"
   },
   {
    "duration": 66,
    "start_time": "2021-08-15T17:19:36.230Z"
   },
   {
    "duration": 448,
    "start_time": "2021-08-15T17:19:36.298Z"
   },
   {
    "duration": 253,
    "start_time": "2021-08-15T17:19:36.749Z"
   },
   {
    "duration": 465,
    "start_time": "2021-08-15T17:19:37.004Z"
   },
   {
    "duration": 252,
    "start_time": "2021-08-15T17:19:37.471Z"
   },
   {
    "duration": 400,
    "start_time": "2021-08-15T17:19:37.726Z"
   },
   {
    "duration": 258,
    "start_time": "2021-08-15T17:19:38.128Z"
   },
   {
    "duration": 476,
    "start_time": "2021-08-15T17:19:38.389Z"
   },
   {
    "duration": 411,
    "start_time": "2021-08-15T17:19:38.868Z"
   },
   {
    "duration": 478,
    "start_time": "2021-08-15T17:19:39.282Z"
   },
   {
    "duration": 276,
    "start_time": "2021-08-15T17:19:39.763Z"
   },
   {
    "duration": 372,
    "start_time": "2021-08-15T17:19:40.042Z"
   },
   {
    "duration": 242,
    "start_time": "2021-08-15T17:19:40.416Z"
   },
   {
    "duration": 7,
    "start_time": "2021-08-15T17:19:40.660Z"
   },
   {
    "duration": 13,
    "start_time": "2021-08-15T17:19:40.669Z"
   },
   {
    "duration": 20,
    "start_time": "2021-08-15T17:19:40.684Z"
   },
   {
    "duration": 17,
    "start_time": "2021-08-15T17:19:40.706Z"
   },
   {
    "duration": 12,
    "start_time": "2021-08-15T17:19:40.726Z"
   },
   {
    "duration": 7,
    "start_time": "2021-08-15T17:19:40.755Z"
   },
   {
    "duration": 18,
    "start_time": "2021-08-15T17:19:40.764Z"
   },
   {
    "duration": 24,
    "start_time": "2021-08-15T17:19:40.784Z"
   },
   {
    "duration": 7,
    "start_time": "2021-08-15T17:19:40.811Z"
   },
   {
    "duration": 34,
    "start_time": "2021-08-15T17:19:40.820Z"
   },
   {
    "duration": 41,
    "start_time": "2021-08-15T17:19:40.857Z"
   },
   {
    "duration": 1324,
    "start_time": "2021-08-15T17:21:47.486Z"
   },
   {
    "duration": 506,
    "start_time": "2021-08-15T17:21:48.812Z"
   },
   {
    "duration": 45,
    "start_time": "2021-08-15T17:21:49.321Z"
   },
   {
    "duration": 36,
    "start_time": "2021-08-15T17:21:49.368Z"
   },
   {
    "duration": 55,
    "start_time": "2021-08-15T17:21:49.406Z"
   },
   {
    "duration": 16,
    "start_time": "2021-08-15T17:21:49.464Z"
   },
   {
    "duration": 23,
    "start_time": "2021-08-15T17:21:49.483Z"
   },
   {
    "duration": 88,
    "start_time": "2021-08-15T17:21:49.508Z"
   },
   {
    "duration": 32,
    "start_time": "2021-08-15T17:21:49.600Z"
   },
   {
    "duration": 42,
    "start_time": "2021-08-15T17:21:49.635Z"
   },
   {
    "duration": 142,
    "start_time": "2021-08-15T17:21:49.680Z"
   },
   {
    "duration": 55,
    "start_time": "2021-08-15T17:21:49.824Z"
   },
   {
    "duration": 8,
    "start_time": "2021-08-15T17:21:49.881Z"
   },
   {
    "duration": 29,
    "start_time": "2021-08-15T17:21:49.891Z"
   },
   {
    "duration": 52,
    "start_time": "2021-08-15T17:21:49.923Z"
   },
   {
    "duration": 20,
    "start_time": "2021-08-15T17:21:49.977Z"
   },
   {
    "duration": 11,
    "start_time": "2021-08-15T17:21:49.999Z"
   },
   {
    "duration": 93,
    "start_time": "2021-08-15T17:21:50.013Z"
   },
   {
    "duration": 52,
    "start_time": "2021-08-15T17:21:50.108Z"
   },
   {
    "duration": 25,
    "start_time": "2021-08-15T17:21:50.163Z"
   },
   {
    "duration": 21,
    "start_time": "2021-08-15T17:21:50.190Z"
   },
   {
    "duration": 42,
    "start_time": "2021-08-15T17:21:50.213Z"
   },
   {
    "duration": 53,
    "start_time": "2021-08-15T17:21:50.257Z"
   },
   {
    "duration": 10,
    "start_time": "2021-08-15T17:21:50.312Z"
   },
   {
    "duration": 37,
    "start_time": "2021-08-15T17:21:50.324Z"
   },
   {
    "duration": 10,
    "start_time": "2021-08-15T17:21:50.363Z"
   },
   {
    "duration": 23,
    "start_time": "2021-08-15T17:21:50.380Z"
   },
   {
    "duration": 91,
    "start_time": "2021-08-15T17:21:50.406Z"
   },
   {
    "duration": 30,
    "start_time": "2021-08-15T17:21:50.499Z"
   },
   {
    "duration": 39,
    "start_time": "2021-08-15T17:21:50.531Z"
   },
   {
    "duration": 5,
    "start_time": "2021-08-15T17:21:50.573Z"
   },
   {
    "duration": 39,
    "start_time": "2021-08-15T17:21:50.581Z"
   },
   {
    "duration": 38,
    "start_time": "2021-08-15T17:21:50.622Z"
   },
   {
    "duration": 24,
    "start_time": "2021-08-15T17:21:50.662Z"
   },
   {
    "duration": 13,
    "start_time": "2021-08-15T17:21:50.689Z"
   },
   {
    "duration": 13,
    "start_time": "2021-08-15T17:21:50.705Z"
   },
   {
    "duration": 37,
    "start_time": "2021-08-15T17:21:50.721Z"
   },
   {
    "duration": 11,
    "start_time": "2021-08-15T17:21:50.760Z"
   },
   {
    "duration": 363,
    "start_time": "2021-08-15T17:21:50.773Z"
   },
   {
    "duration": 27,
    "start_time": "2021-08-15T17:21:51.139Z"
   },
   {
    "duration": 9,
    "start_time": "2021-08-15T17:21:51.169Z"
   },
   {
    "duration": 25,
    "start_time": "2021-08-15T17:21:51.181Z"
   },
   {
    "duration": 19,
    "start_time": "2021-08-15T17:21:51.208Z"
   },
   {
    "duration": 70,
    "start_time": "2021-08-15T17:21:51.229Z"
   },
   {
    "duration": 460,
    "start_time": "2021-08-15T17:21:51.301Z"
   },
   {
    "duration": 254,
    "start_time": "2021-08-15T17:21:51.764Z"
   },
   {
    "duration": 446,
    "start_time": "2021-08-15T17:21:52.021Z"
   },
   {
    "duration": 251,
    "start_time": "2021-08-15T17:21:52.470Z"
   },
   {
    "duration": 390,
    "start_time": "2021-08-15T17:21:52.723Z"
   },
   {
    "duration": 257,
    "start_time": "2021-08-15T17:21:53.116Z"
   },
   {
    "duration": 376,
    "start_time": "2021-08-15T17:21:53.376Z"
   },
   {
    "duration": 301,
    "start_time": "2021-08-15T17:21:53.755Z"
   },
   {
    "duration": 500,
    "start_time": "2021-08-15T17:21:54.059Z"
   },
   {
    "duration": 253,
    "start_time": "2021-08-15T17:21:54.561Z"
   },
   {
    "duration": 363,
    "start_time": "2021-08-15T17:21:54.817Z"
   },
   {
    "duration": 237,
    "start_time": "2021-08-15T17:21:55.182Z"
   },
   {
    "duration": 7,
    "start_time": "2021-08-15T17:21:55.421Z"
   },
   {
    "duration": 28,
    "start_time": "2021-08-15T17:21:55.430Z"
   },
   {
    "duration": 30,
    "start_time": "2021-08-15T17:21:55.460Z"
   },
   {
    "duration": 19,
    "start_time": "2021-08-15T17:21:55.492Z"
   },
   {
    "duration": 18,
    "start_time": "2021-08-15T17:21:55.513Z"
   },
   {
    "duration": 17,
    "start_time": "2021-08-15T17:21:55.533Z"
   },
   {
    "duration": 21,
    "start_time": "2021-08-15T17:21:55.553Z"
   },
   {
    "duration": 36,
    "start_time": "2021-08-15T17:21:55.576Z"
   },
   {
    "duration": 17,
    "start_time": "2021-08-15T17:21:55.614Z"
   },
   {
    "duration": 17,
    "start_time": "2021-08-15T17:21:55.633Z"
   },
   {
    "duration": 52,
    "start_time": "2021-08-15T17:21:55.653Z"
   },
   {
    "duration": 1081,
    "start_time": "2021-08-15T18:16:44.878Z"
   },
   {
    "duration": 429,
    "start_time": "2021-08-15T18:16:45.961Z"
   },
   {
    "duration": 34,
    "start_time": "2021-08-15T18:16:46.392Z"
   },
   {
    "duration": 26,
    "start_time": "2021-08-15T18:16:46.428Z"
   },
   {
    "duration": 36,
    "start_time": "2021-08-15T18:16:46.455Z"
   },
   {
    "duration": 10,
    "start_time": "2021-08-15T18:16:46.493Z"
   },
   {
    "duration": 15,
    "start_time": "2021-08-15T18:16:46.504Z"
   },
   {
    "duration": 32,
    "start_time": "2021-08-15T18:16:46.522Z"
   },
   {
    "duration": 51,
    "start_time": "2021-08-15T18:16:46.555Z"
   },
   {
    "duration": 19,
    "start_time": "2021-08-15T18:16:46.608Z"
   },
   {
    "duration": 104,
    "start_time": "2021-08-15T18:16:46.629Z"
   },
   {
    "duration": 36,
    "start_time": "2021-08-15T18:16:46.735Z"
   },
   {
    "duration": 5,
    "start_time": "2021-08-15T18:16:46.784Z"
   },
   {
    "duration": 23,
    "start_time": "2021-08-15T18:16:46.790Z"
   },
   {
    "duration": 17,
    "start_time": "2021-08-15T18:16:46.815Z"
   },
   {
    "duration": 14,
    "start_time": "2021-08-15T18:16:46.834Z"
   },
   {
    "duration": 8,
    "start_time": "2021-08-15T18:16:46.850Z"
   },
   {
    "duration": 60,
    "start_time": "2021-08-15T18:16:46.860Z"
   },
   {
    "duration": 28,
    "start_time": "2021-08-15T18:16:46.922Z"
   },
   {
    "duration": 37,
    "start_time": "2021-08-15T18:16:46.952Z"
   },
   {
    "duration": 15,
    "start_time": "2021-08-15T18:16:46.991Z"
   },
   {
    "duration": 12,
    "start_time": "2021-08-15T18:16:47.007Z"
   },
   {
    "duration": 36,
    "start_time": "2021-08-15T18:16:47.023Z"
   },
   {
    "duration": 6,
    "start_time": "2021-08-15T18:16:47.085Z"
   },
   {
    "duration": 17,
    "start_time": "2021-08-15T18:16:47.093Z"
   },
   {
    "duration": 8,
    "start_time": "2021-08-15T18:16:47.111Z"
   },
   {
    "duration": 19,
    "start_time": "2021-08-15T18:16:47.120Z"
   },
   {
    "duration": 49,
    "start_time": "2021-08-15T18:16:47.141Z"
   },
   {
    "duration": 23,
    "start_time": "2021-08-15T18:16:47.191Z"
   },
   {
    "duration": 18,
    "start_time": "2021-08-15T18:16:47.216Z"
   },
   {
    "duration": 3,
    "start_time": "2021-08-15T18:16:47.236Z"
   },
   {
    "duration": 49,
    "start_time": "2021-08-15T18:16:47.241Z"
   },
   {
    "duration": 8,
    "start_time": "2021-08-15T18:16:47.292Z"
   },
   {
    "duration": 17,
    "start_time": "2021-08-15T18:16:47.302Z"
   },
   {
    "duration": 8,
    "start_time": "2021-08-15T18:16:47.320Z"
   },
   {
    "duration": 9,
    "start_time": "2021-08-15T18:16:47.329Z"
   },
   {
    "duration": 6,
    "start_time": "2021-08-15T18:16:47.340Z"
   },
   {
    "duration": 36,
    "start_time": "2021-08-15T18:16:47.348Z"
   },
   {
    "duration": 202,
    "start_time": "2021-08-15T18:16:47.385Z"
   },
   {
    "duration": 12,
    "start_time": "2021-08-15T18:16:47.589Z"
   },
   {
    "duration": 7,
    "start_time": "2021-08-15T18:16:47.603Z"
   },
   {
    "duration": 7,
    "start_time": "2021-08-15T18:16:47.612Z"
   },
   {
    "duration": 5,
    "start_time": "2021-08-15T18:16:47.621Z"
   },
   {
    "duration": 31,
    "start_time": "2021-08-15T18:16:47.628Z"
   },
   {
    "duration": 309,
    "start_time": "2021-08-15T18:16:47.661Z"
   },
   {
    "duration": 161,
    "start_time": "2021-08-15T18:16:47.971Z"
   },
   {
    "duration": 293,
    "start_time": "2021-08-15T18:16:48.134Z"
   },
   {
    "duration": 157,
    "start_time": "2021-08-15T18:16:48.429Z"
   },
   {
    "duration": 250,
    "start_time": "2021-08-15T18:16:48.588Z"
   },
   {
    "duration": 161,
    "start_time": "2021-08-15T18:16:48.840Z"
   },
   {
    "duration": 232,
    "start_time": "2021-08-15T18:16:49.003Z"
   },
   {
    "duration": 218,
    "start_time": "2021-08-15T18:16:49.236Z"
   },
   {
    "duration": 239,
    "start_time": "2021-08-15T18:16:49.455Z"
   },
   {
    "duration": 162,
    "start_time": "2021-08-15T18:16:49.696Z"
   },
   {
    "duration": 237,
    "start_time": "2021-08-15T18:16:49.859Z"
   },
   {
    "duration": 154,
    "start_time": "2021-08-15T18:16:50.097Z"
   },
   {
    "duration": 4,
    "start_time": "2021-08-15T18:16:50.253Z"
   },
   {
    "duration": 5,
    "start_time": "2021-08-15T18:16:50.259Z"
   },
   {
    "duration": 20,
    "start_time": "2021-08-15T18:16:50.266Z"
   },
   {
    "duration": 8,
    "start_time": "2021-08-15T18:16:50.287Z"
   },
   {
    "duration": 9,
    "start_time": "2021-08-15T18:16:50.297Z"
   },
   {
    "duration": 5,
    "start_time": "2021-08-15T18:16:50.308Z"
   },
   {
    "duration": 6,
    "start_time": "2021-08-15T18:16:50.315Z"
   },
   {
    "duration": 16,
    "start_time": "2021-08-15T18:16:50.323Z"
   },
   {
    "duration": 4,
    "start_time": "2021-08-15T18:16:50.341Z"
   },
   {
    "duration": 42,
    "start_time": "2021-08-15T18:16:50.347Z"
   },
   {
    "duration": 30,
    "start_time": "2021-08-15T18:16:50.390Z"
   },
   {
    "duration": 17,
    "start_time": "2021-08-15T18:26:05.115Z"
   },
   {
    "duration": 2,
    "start_time": "2021-08-15T18:26:50.012Z"
   },
   {
    "duration": 14,
    "start_time": "2021-08-15T18:26:50.820Z"
   },
   {
    "duration": 15,
    "start_time": "2021-08-15T18:27:04.001Z"
   },
   {
    "duration": 1381,
    "start_time": "2021-08-16T07:17:47.327Z"
   },
   {
    "duration": 896,
    "start_time": "2021-08-16T07:18:17.171Z"
   },
   {
    "duration": 50,
    "start_time": "2021-08-16T07:18:21.378Z"
   },
   {
    "duration": 41,
    "start_time": "2021-08-16T07:18:29.420Z"
   },
   {
    "duration": 35,
    "start_time": "2021-08-16T07:18:38.913Z"
   },
   {
    "duration": 33,
    "start_time": "2021-08-16T07:19:38.031Z"
   },
   {
    "duration": 17,
    "start_time": "2021-08-16T07:19:42.214Z"
   },
   {
    "duration": 24,
    "start_time": "2021-08-16T07:19:44.190Z"
   },
   {
    "duration": 46,
    "start_time": "2021-08-16T07:19:52.062Z"
   },
   {
    "duration": 33,
    "start_time": "2021-08-16T07:19:53.716Z"
   },
   {
    "duration": 26,
    "start_time": "2021-08-16T07:19:54.569Z"
   },
   {
    "duration": 140,
    "start_time": "2021-08-16T07:19:55.600Z"
   },
   {
    "duration": 47,
    "start_time": "2021-08-16T07:19:56.828Z"
   },
   {
    "duration": 6,
    "start_time": "2021-08-16T07:19:59.521Z"
   },
   {
    "duration": 482,
    "start_time": "2021-08-16T07:21:29.439Z"
   },
   {
    "duration": 7,
    "start_time": "2021-08-16T07:26:35.543Z"
   },
   {
    "duration": 3,
    "start_time": "2021-08-16T07:27:50.492Z"
   },
   {
    "duration": 565,
    "start_time": "2021-08-16T07:28:53.163Z"
   },
   {
    "duration": 573,
    "start_time": "2021-08-16T07:29:15.578Z"
   },
   {
    "duration": 426,
    "start_time": "2021-08-16T07:29:28.178Z"
   },
   {
    "duration": 23,
    "start_time": "2021-08-16T07:30:17.160Z"
   },
   {
    "duration": 18,
    "start_time": "2021-08-16T07:31:25.469Z"
   },
   {
    "duration": 25,
    "start_time": "2021-08-16T07:32:35.276Z"
   },
   {
    "duration": 320,
    "start_time": "2021-08-16T07:33:14.343Z"
   },
   {
    "duration": 407,
    "start_time": "2021-08-16T07:33:54.117Z"
   },
   {
    "duration": 422,
    "start_time": "2021-08-16T07:35:25.073Z"
   },
   {
    "duration": 390,
    "start_time": "2021-08-16T07:35:31.078Z"
   },
   {
    "duration": 409,
    "start_time": "2021-08-16T07:35:40.060Z"
   },
   {
    "duration": 498,
    "start_time": "2021-08-16T07:36:10.172Z"
   },
   {
    "duration": 387,
    "start_time": "2021-08-16T07:36:16.260Z"
   },
   {
    "duration": 465,
    "start_time": "2021-08-16T07:36:22.457Z"
   },
   {
    "duration": 405,
    "start_time": "2021-08-16T07:36:29.067Z"
   },
   {
    "duration": 15,
    "start_time": "2021-08-16T07:36:50.638Z"
   },
   {
    "duration": 397,
    "start_time": "2021-08-16T07:43:13.427Z"
   },
   {
    "duration": 359,
    "start_time": "2021-08-16T07:43:37.182Z"
   },
   {
    "duration": 393,
    "start_time": "2021-08-16T07:43:43.132Z"
   },
   {
    "duration": 406,
    "start_time": "2021-08-16T07:43:52.834Z"
   },
   {
    "duration": 37,
    "start_time": "2021-08-16T07:44:05.817Z"
   },
   {
    "duration": 429,
    "start_time": "2021-08-16T07:45:01.871Z"
   },
   {
    "duration": 405,
    "start_time": "2021-08-16T07:45:25.824Z"
   },
   {
    "duration": 387,
    "start_time": "2021-08-16T07:45:49.980Z"
   },
   {
    "duration": 351,
    "start_time": "2021-08-16T07:46:05.837Z"
   },
   {
    "duration": 12,
    "start_time": "2021-08-16T07:46:12.838Z"
   },
   {
    "duration": 13,
    "start_time": "2021-08-16T07:46:22.762Z"
   },
   {
    "duration": 14,
    "start_time": "2021-08-16T07:46:28.354Z"
   },
   {
    "duration": 34,
    "start_time": "2021-08-16T07:46:38.539Z"
   },
   {
    "duration": 29,
    "start_time": "2021-08-16T07:47:11.890Z"
   },
   {
    "duration": 33,
    "start_time": "2021-08-16T07:47:27.984Z"
   },
   {
    "duration": 25,
    "start_time": "2021-08-16T07:48:47.864Z"
   },
   {
    "duration": 27,
    "start_time": "2021-08-16T07:49:06.730Z"
   },
   {
    "duration": 508,
    "start_time": "2021-08-16T07:49:58.197Z"
   },
   {
    "duration": 24,
    "start_time": "2021-08-16T07:50:15.726Z"
   },
   {
    "duration": 27,
    "start_time": "2021-08-16T07:50:23.106Z"
   },
   {
    "duration": 34,
    "start_time": "2021-08-16T08:04:18.257Z"
   },
   {
    "duration": 410,
    "start_time": "2021-08-16T08:06:25.892Z"
   },
   {
    "duration": 377,
    "start_time": "2021-08-16T08:06:35.805Z"
   },
   {
    "duration": 398,
    "start_time": "2021-08-16T08:06:45.263Z"
   },
   {
    "duration": 1604,
    "start_time": "2021-08-16T08:35:11.058Z"
   },
   {
    "duration": 567,
    "start_time": "2021-08-16T08:35:12.665Z"
   },
   {
    "duration": 46,
    "start_time": "2021-08-16T08:35:13.235Z"
   },
   {
    "duration": 35,
    "start_time": "2021-08-16T08:35:13.284Z"
   },
   {
    "duration": 30,
    "start_time": "2021-08-16T08:35:13.321Z"
   },
   {
    "duration": 17,
    "start_time": "2021-08-16T08:35:13.354Z"
   },
   {
    "duration": 21,
    "start_time": "2021-08-16T08:35:13.401Z"
   },
   {
    "duration": 76,
    "start_time": "2021-08-16T08:35:13.426Z"
   },
   {
    "duration": 34,
    "start_time": "2021-08-16T08:35:13.505Z"
   },
   {
    "duration": 29,
    "start_time": "2021-08-16T08:35:13.542Z"
   },
   {
    "duration": 148,
    "start_time": "2021-08-16T08:35:13.602Z"
   },
   {
    "duration": 60,
    "start_time": "2021-08-16T08:35:13.753Z"
   },
   {
    "duration": 3,
    "start_time": "2021-08-16T08:35:13.816Z"
   },
   {
    "duration": 12,
    "start_time": "2021-08-16T08:35:13.822Z"
   },
   {
    "duration": 443,
    "start_time": "2021-08-16T08:35:13.837Z"
   },
   {
    "duration": 40,
    "start_time": "2021-08-16T08:35:14.283Z"
   },
   {
    "duration": 27,
    "start_time": "2021-08-16T08:35:14.326Z"
   },
   {
    "duration": 51,
    "start_time": "2021-08-16T08:35:14.355Z"
   },
   {
    "duration": 24,
    "start_time": "2021-08-16T08:35:14.409Z"
   },
   {
    "duration": 18,
    "start_time": "2021-08-16T08:35:14.436Z"
   },
   {
    "duration": 446,
    "start_time": "2021-08-16T08:35:14.457Z"
   },
   {
    "duration": 3,
    "start_time": "2021-08-16T08:35:14.905Z"
   },
   {
    "duration": 60,
    "start_time": "2021-08-16T08:35:14.915Z"
   },
   {
    "duration": 43,
    "start_time": "2021-08-16T08:35:15.003Z"
   },
   {
    "duration": 26,
    "start_time": "2021-08-16T08:35:15.049Z"
   },
   {
    "duration": 41,
    "start_time": "2021-08-16T08:35:15.078Z"
   },
   {
    "duration": 16,
    "start_time": "2021-08-16T08:35:15.122Z"
   },
   {
    "duration": 83,
    "start_time": "2021-08-16T08:35:15.140Z"
   },
   {
    "duration": 9,
    "start_time": "2021-08-16T08:35:15.226Z"
   },
   {
    "duration": 18,
    "start_time": "2021-08-16T08:35:15.238Z"
   },
   {
    "duration": 46,
    "start_time": "2021-08-16T08:35:15.260Z"
   },
   {
    "duration": 34,
    "start_time": "2021-08-16T08:35:15.310Z"
   },
   {
    "duration": 96,
    "start_time": "2021-08-16T08:35:15.348Z"
   },
   {
    "duration": 67,
    "start_time": "2021-08-16T08:35:15.447Z"
   },
   {
    "duration": 25,
    "start_time": "2021-08-16T08:35:15.517Z"
   },
   {
    "duration": 5,
    "start_time": "2021-08-16T08:35:15.545Z"
   },
   {
    "duration": 70,
    "start_time": "2021-08-16T08:35:15.552Z"
   },
   {
    "duration": 12,
    "start_time": "2021-08-16T08:35:15.625Z"
   },
   {
    "duration": 27,
    "start_time": "2021-08-16T08:35:15.639Z"
   },
   {
    "duration": 35,
    "start_time": "2021-08-16T08:35:15.669Z"
   },
   {
    "duration": 11,
    "start_time": "2021-08-16T08:35:15.707Z"
   },
   {
    "duration": 13,
    "start_time": "2021-08-16T08:35:15.720Z"
   },
   {
    "duration": 7,
    "start_time": "2021-08-16T08:35:15.735Z"
   },
   {
    "duration": 416,
    "start_time": "2021-08-16T08:35:15.745Z"
   },
   {
    "duration": 36,
    "start_time": "2021-08-16T08:35:16.164Z"
   },
   {
    "duration": 6,
    "start_time": "2021-08-16T08:35:16.203Z"
   },
   {
    "duration": 10,
    "start_time": "2021-08-16T08:35:16.212Z"
   },
   {
    "duration": 13,
    "start_time": "2021-08-16T08:35:16.225Z"
   },
   {
    "duration": 111,
    "start_time": "2021-08-16T08:35:16.241Z"
   },
   {
    "duration": 748,
    "start_time": "2021-08-16T08:35:16.356Z"
   },
   {
    "duration": 385,
    "start_time": "2021-08-16T08:35:17.108Z"
   },
   {
    "duration": 793,
    "start_time": "2021-08-16T08:35:17.496Z"
   },
   {
    "duration": 397,
    "start_time": "2021-08-16T08:35:18.292Z"
   },
   {
    "duration": 822,
    "start_time": "2021-08-16T08:35:18.693Z"
   },
   {
    "duration": 385,
    "start_time": "2021-08-16T08:35:19.518Z"
   },
   {
    "duration": 602,
    "start_time": "2021-08-16T08:35:19.906Z"
   },
   {
    "duration": 364,
    "start_time": "2021-08-16T08:35:20.512Z"
   },
   {
    "duration": 400,
    "start_time": "2021-08-16T08:35:20.879Z"
   },
   {
    "duration": 264,
    "start_time": "2021-08-16T08:35:21.281Z"
   },
   {
    "duration": 386,
    "start_time": "2021-08-16T08:35:21.547Z"
   },
   {
    "duration": 255,
    "start_time": "2021-08-16T08:35:21.936Z"
   },
   {
    "duration": 10,
    "start_time": "2021-08-16T08:35:22.194Z"
   },
   {
    "duration": 19,
    "start_time": "2021-08-16T08:35:22.207Z"
   },
   {
    "duration": 31,
    "start_time": "2021-08-16T08:35:22.229Z"
   },
   {
    "duration": 31,
    "start_time": "2021-08-16T08:35:22.263Z"
   },
   {
    "duration": 20,
    "start_time": "2021-08-16T08:35:22.297Z"
   },
   {
    "duration": 32,
    "start_time": "2021-08-16T08:35:22.319Z"
   },
   {
    "duration": 28,
    "start_time": "2021-08-16T08:35:22.358Z"
   },
   {
    "duration": 29,
    "start_time": "2021-08-16T08:35:22.388Z"
   },
   {
    "duration": 35,
    "start_time": "2021-08-16T08:35:22.419Z"
   },
   {
    "duration": 32,
    "start_time": "2021-08-16T08:35:22.457Z"
   },
   {
    "duration": 63,
    "start_time": "2021-08-16T08:35:22.492Z"
   },
   {
    "duration": 41,
    "start_time": "2021-08-16T08:53:36.670Z"
   },
   {
    "duration": 13,
    "start_time": "2021-08-16T08:54:01.929Z"
   },
   {
    "duration": 16,
    "start_time": "2021-08-16T08:54:29.620Z"
   },
   {
    "duration": 22,
    "start_time": "2021-08-16T08:56:00.982Z"
   },
   {
    "duration": 17,
    "start_time": "2021-08-16T08:56:12.643Z"
   },
   {
    "duration": 497,
    "start_time": "2021-08-16T08:56:51.980Z"
   },
   {
    "duration": 17,
    "start_time": "2021-08-16T08:57:05.210Z"
   },
   {
    "duration": 18,
    "start_time": "2021-08-16T08:57:16.164Z"
   },
   {
    "duration": 15,
    "start_time": "2021-08-16T08:57:42.724Z"
   },
   {
    "duration": 17,
    "start_time": "2021-08-16T08:57:59.095Z"
   },
   {
    "duration": 15,
    "start_time": "2021-08-16T08:58:06.228Z"
   },
   {
    "duration": 35,
    "start_time": "2021-08-16T08:58:51.368Z"
   },
   {
    "duration": 26,
    "start_time": "2021-08-16T08:59:05.666Z"
   },
   {
    "duration": 17,
    "start_time": "2021-08-16T08:59:09.115Z"
   },
   {
    "duration": 17,
    "start_time": "2021-08-16T09:08:14.352Z"
   },
   {
    "duration": 14,
    "start_time": "2021-08-16T09:08:16.088Z"
   },
   {
    "duration": 27,
    "start_time": "2021-08-16T09:08:33.685Z"
   },
   {
    "duration": 19,
    "start_time": "2021-08-16T09:08:34.633Z"
   },
   {
    "duration": 407,
    "start_time": "2021-08-16T09:14:57.493Z"
   },
   {
    "duration": 371,
    "start_time": "2021-08-16T09:15:05.385Z"
   },
   {
    "duration": 447,
    "start_time": "2021-08-16T09:15:14.064Z"
   },
   {
    "duration": 393,
    "start_time": "2021-08-16T09:15:18.898Z"
   },
   {
    "duration": 19,
    "start_time": "2021-08-16T09:16:00.312Z"
   },
   {
    "duration": 405,
    "start_time": "2021-08-16T09:17:26.621Z"
   },
   {
    "duration": 22,
    "start_time": "2021-08-16T09:28:05.230Z"
   },
   {
    "duration": 2876,
    "start_time": "2021-08-16T09:28:38.365Z"
   },
   {
    "duration": 10,
    "start_time": "2021-08-16T09:29:12.473Z"
   },
   {
    "duration": 8,
    "start_time": "2021-08-16T09:30:18.582Z"
   },
   {
    "duration": 7,
    "start_time": "2021-08-16T09:30:25.449Z"
   },
   {
    "duration": 7,
    "start_time": "2021-08-16T09:30:31.493Z"
   },
   {
    "duration": 8,
    "start_time": "2021-08-16T09:30:36.309Z"
   },
   {
    "duration": 9,
    "start_time": "2021-08-16T09:31:11.465Z"
   },
   {
    "duration": 17,
    "start_time": "2021-08-16T09:37:51.480Z"
   },
   {
    "duration": 21,
    "start_time": "2021-08-16T09:38:17.025Z"
   },
   {
    "duration": 33,
    "start_time": "2021-08-16T09:38:26.331Z"
   },
   {
    "duration": 30,
    "start_time": "2021-08-16T09:39:32.088Z"
   },
   {
    "duration": 21,
    "start_time": "2021-08-16T09:39:42.682Z"
   },
   {
    "duration": 28,
    "start_time": "2021-08-16T09:39:43.856Z"
   },
   {
    "duration": 19,
    "start_time": "2021-08-16T09:40:13.277Z"
   },
   {
    "duration": 17,
    "start_time": "2021-08-16T09:40:14.245Z"
   },
   {
    "duration": 25,
    "start_time": "2021-08-16T09:40:56.082Z"
   },
   {
    "duration": 14,
    "start_time": "2021-08-16T09:40:59.335Z"
   },
   {
    "duration": 26,
    "start_time": "2021-08-16T09:41:00.000Z"
   },
   {
    "duration": 15,
    "start_time": "2021-08-16T09:41:00.702Z"
   },
   {
    "duration": 59,
    "start_time": "2021-08-16T09:41:01.631Z"
   },
   {
    "duration": 49,
    "start_time": "2021-08-16T09:43:16.214Z"
   },
   {
    "duration": 35,
    "start_time": "2021-08-16T09:43:27.434Z"
   },
   {
    "duration": 5,
    "start_time": "2021-08-16T09:44:59.659Z"
   },
   {
    "duration": 32,
    "start_time": "2021-08-16T09:45:31.256Z"
   },
   {
    "duration": 4,
    "start_time": "2021-08-16T09:47:12.989Z"
   },
   {
    "duration": 20,
    "start_time": "2021-08-16T09:47:52.297Z"
   },
   {
    "duration": 19,
    "start_time": "2021-08-16T09:48:01.110Z"
   },
   {
    "duration": 20,
    "start_time": "2021-08-16T09:49:15.423Z"
   },
   {
    "duration": 16,
    "start_time": "2021-08-16T09:49:19.909Z"
   },
   {
    "duration": 1880,
    "start_time": "2021-08-16T09:49:31.703Z"
   },
   {
    "duration": 564,
    "start_time": "2021-08-16T09:49:33.587Z"
   },
   {
    "duration": 71,
    "start_time": "2021-08-16T09:49:34.156Z"
   },
   {
    "duration": 71,
    "start_time": "2021-08-16T09:49:34.231Z"
   },
   {
    "duration": 34,
    "start_time": "2021-08-16T09:49:34.305Z"
   },
   {
    "duration": 26,
    "start_time": "2021-08-16T09:49:34.342Z"
   },
   {
    "duration": 24,
    "start_time": "2021-08-16T09:49:34.402Z"
   },
   {
    "duration": 78,
    "start_time": "2021-08-16T09:49:34.432Z"
   },
   {
    "duration": 36,
    "start_time": "2021-08-16T09:49:34.514Z"
   },
   {
    "duration": 51,
    "start_time": "2021-08-16T09:49:34.553Z"
   },
   {
    "duration": 131,
    "start_time": "2021-08-16T09:49:34.608Z"
   },
   {
    "duration": 63,
    "start_time": "2021-08-16T09:49:34.742Z"
   },
   {
    "duration": 4,
    "start_time": "2021-08-16T09:49:34.807Z"
   },
   {
    "duration": 21,
    "start_time": "2021-08-16T09:49:34.813Z"
   },
   {
    "duration": 420,
    "start_time": "2021-08-16T09:49:34.837Z"
   },
   {
    "duration": 20,
    "start_time": "2021-08-16T09:49:35.260Z"
   },
   {
    "duration": 29,
    "start_time": "2021-08-16T09:49:35.283Z"
   },
   {
    "duration": 29,
    "start_time": "2021-08-16T09:49:35.314Z"
   },
   {
    "duration": 57,
    "start_time": "2021-08-16T09:49:35.346Z"
   },
   {
    "duration": 19,
    "start_time": "2021-08-16T09:49:35.406Z"
   },
   {
    "duration": 3,
    "start_time": "2021-08-16T09:49:35.428Z"
   },
   {
    "duration": 91,
    "start_time": "2021-08-16T09:49:35.434Z"
   },
   {
    "duration": 40,
    "start_time": "2021-08-16T09:49:35.531Z"
   },
   {
    "duration": 453,
    "start_time": "2021-08-16T09:49:35.575Z"
   },
   {
    "duration": 9,
    "start_time": "2021-08-16T09:49:36.030Z"
   },
   {
    "duration": 25,
    "start_time": "2021-08-16T09:49:36.042Z"
   },
   {
    "duration": 45,
    "start_time": "2021-08-16T09:49:36.069Z"
   },
   {
    "duration": 28,
    "start_time": "2021-08-16T09:49:36.117Z"
   },
   {
    "duration": 22,
    "start_time": "2021-08-16T09:49:36.148Z"
   },
   {
    "duration": 45,
    "start_time": "2021-08-16T09:49:36.173Z"
   },
   {
    "duration": 56,
    "start_time": "2021-08-16T09:49:36.220Z"
   },
   {
    "duration": 10,
    "start_time": "2021-08-16T09:49:36.302Z"
   },
   {
    "duration": 13,
    "start_time": "2021-08-16T09:49:36.315Z"
   },
   {
    "duration": 18,
    "start_time": "2021-08-16T09:49:36.332Z"
   },
   {
    "duration": 57,
    "start_time": "2021-08-16T09:49:36.352Z"
   },
   {
    "duration": 45,
    "start_time": "2021-08-16T09:49:36.412Z"
   },
   {
    "duration": 55,
    "start_time": "2021-08-16T09:49:36.460Z"
   },
   {
    "duration": 23,
    "start_time": "2021-08-16T09:49:36.518Z"
   },
   {
    "duration": 5,
    "start_time": "2021-08-16T09:49:36.544Z"
   },
   {
    "duration": 66,
    "start_time": "2021-08-16T09:49:36.551Z"
   },
   {
    "duration": 36,
    "start_time": "2021-08-16T09:49:36.619Z"
   },
   {
    "duration": 457,
    "start_time": "2021-08-16T09:49:36.658Z"
   },
   {
    "duration": -151,
    "start_time": "2021-08-16T09:49:37.270Z"
   },
   {
    "duration": -157,
    "start_time": "2021-08-16T09:49:37.278Z"
   },
   {
    "duration": -158,
    "start_time": "2021-08-16T09:49:37.281Z"
   },
   {
    "duration": -162,
    "start_time": "2021-08-16T09:49:37.287Z"
   },
   {
    "duration": -162,
    "start_time": "2021-08-16T09:49:37.290Z"
   },
   {
    "duration": -163,
    "start_time": "2021-08-16T09:49:37.293Z"
   },
   {
    "duration": -164,
    "start_time": "2021-08-16T09:49:37.296Z"
   },
   {
    "duration": -166,
    "start_time": "2021-08-16T09:49:37.300Z"
   },
   {
    "duration": -166,
    "start_time": "2021-08-16T09:49:37.303Z"
   },
   {
    "duration": -169,
    "start_time": "2021-08-16T09:49:37.307Z"
   },
   {
    "duration": -170,
    "start_time": "2021-08-16T09:49:37.310Z"
   },
   {
    "duration": -172,
    "start_time": "2021-08-16T09:49:37.313Z"
   },
   {
    "duration": -178,
    "start_time": "2021-08-16T09:49:37.321Z"
   },
   {
    "duration": -179,
    "start_time": "2021-08-16T09:49:37.324Z"
   },
   {
    "duration": -182,
    "start_time": "2021-08-16T09:49:37.328Z"
   },
   {
    "duration": -188,
    "start_time": "2021-08-16T09:49:37.336Z"
   },
   {
    "duration": -190,
    "start_time": "2021-08-16T09:49:37.339Z"
   },
   {
    "duration": -191,
    "start_time": "2021-08-16T09:49:37.342Z"
   },
   {
    "duration": -193,
    "start_time": "2021-08-16T09:49:37.346Z"
   },
   {
    "duration": -196,
    "start_time": "2021-08-16T09:49:37.350Z"
   },
   {
    "duration": -197,
    "start_time": "2021-08-16T09:49:37.353Z"
   },
   {
    "duration": -151,
    "start_time": "2021-08-16T09:49:37.357Z"
   },
   {
    "duration": -152,
    "start_time": "2021-08-16T09:49:37.360Z"
   },
   {
    "duration": -158,
    "start_time": "2021-08-16T09:49:37.368Z"
   },
   {
    "duration": -160,
    "start_time": "2021-08-16T09:49:37.371Z"
   },
   {
    "duration": -162,
    "start_time": "2021-08-16T09:49:37.374Z"
   },
   {
    "duration": -164,
    "start_time": "2021-08-16T09:49:37.378Z"
   },
   {
    "duration": -166,
    "start_time": "2021-08-16T09:49:37.381Z"
   },
   {
    "duration": -167,
    "start_time": "2021-08-16T09:49:37.384Z"
   },
   {
    "duration": -180,
    "start_time": "2021-08-16T09:49:37.398Z"
   },
   {
    "duration": -183,
    "start_time": "2021-08-16T09:49:37.402Z"
   },
   {
    "duration": -184,
    "start_time": "2021-08-16T09:49:37.405Z"
   },
   {
    "duration": -185,
    "start_time": "2021-08-16T09:49:37.408Z"
   },
   {
    "duration": -189,
    "start_time": "2021-08-16T09:49:37.413Z"
   },
   {
    "duration": -190,
    "start_time": "2021-08-16T09:49:37.416Z"
   },
   {
    "duration": -193,
    "start_time": "2021-08-16T09:49:37.420Z"
   },
   {
    "duration": 30,
    "start_time": "2021-08-16T09:50:17.348Z"
   },
   {
    "duration": 21,
    "start_time": "2021-08-16T09:50:19.272Z"
   },
   {
    "duration": 27,
    "start_time": "2021-08-16T09:50:40.093Z"
   },
   {
    "duration": 39,
    "start_time": "2021-08-16T09:51:21.313Z"
   },
   {
    "duration": 42,
    "start_time": "2021-08-16T09:51:22.459Z"
   },
   {
    "duration": 44,
    "start_time": "2021-08-16T09:51:47.651Z"
   },
   {
    "duration": 37,
    "start_time": "2021-08-16T09:52:38.513Z"
   },
   {
    "duration": 47,
    "start_time": "2021-08-16T09:52:39.573Z"
   },
   {
    "duration": 35,
    "start_time": "2021-08-16T09:53:23.976Z"
   },
   {
    "duration": 43,
    "start_time": "2021-08-16T09:53:30.429Z"
   },
   {
    "duration": 14,
    "start_time": "2021-08-16T09:53:53.408Z"
   },
   {
    "duration": 1583,
    "start_time": "2021-08-16T09:54:26.436Z"
   },
   {
    "duration": 856,
    "start_time": "2021-08-16T09:54:28.023Z"
   },
   {
    "duration": 72,
    "start_time": "2021-08-16T09:54:28.884Z"
   },
   {
    "duration": 57,
    "start_time": "2021-08-16T09:54:28.960Z"
   },
   {
    "duration": 31,
    "start_time": "2021-08-16T09:54:29.020Z"
   },
   {
    "duration": 48,
    "start_time": "2021-08-16T09:54:29.053Z"
   },
   {
    "duration": 21,
    "start_time": "2021-08-16T09:54:29.103Z"
   },
   {
    "duration": 73,
    "start_time": "2021-08-16T09:54:29.128Z"
   },
   {
    "duration": 33,
    "start_time": "2021-08-16T09:54:29.204Z"
   },
   {
    "duration": 26,
    "start_time": "2021-08-16T09:54:29.240Z"
   },
   {
    "duration": 145,
    "start_time": "2021-08-16T09:54:29.300Z"
   },
   {
    "duration": 65,
    "start_time": "2021-08-16T09:54:29.447Z"
   },
   {
    "duration": 3,
    "start_time": "2021-08-16T09:54:29.515Z"
   },
   {
    "duration": 9,
    "start_time": "2021-08-16T09:54:29.520Z"
   },
   {
    "duration": 524,
    "start_time": "2021-08-16T09:54:29.531Z"
   },
   {
    "duration": 22,
    "start_time": "2021-08-16T09:54:30.057Z"
   },
   {
    "duration": 20,
    "start_time": "2021-08-16T09:54:30.082Z"
   },
   {
    "duration": 32,
    "start_time": "2021-08-16T09:54:30.105Z"
   },
   {
    "duration": 25,
    "start_time": "2021-08-16T09:54:30.140Z"
   },
   {
    "duration": 19,
    "start_time": "2021-08-16T09:54:30.168Z"
   },
   {
    "duration": 11,
    "start_time": "2021-08-16T09:54:30.190Z"
   },
   {
    "duration": 62,
    "start_time": "2021-08-16T09:54:30.204Z"
   },
   {
    "duration": 52,
    "start_time": "2021-08-16T09:54:30.273Z"
   },
   {
    "duration": 452,
    "start_time": "2021-08-16T09:54:30.330Z"
   },
   {
    "duration": 7,
    "start_time": "2021-08-16T09:54:30.786Z"
   },
   {
    "duration": 28,
    "start_time": "2021-08-16T09:54:30.801Z"
   },
   {
    "duration": 17,
    "start_time": "2021-08-16T09:54:30.832Z"
   },
   {
    "duration": 35,
    "start_time": "2021-08-16T09:54:30.852Z"
   },
   {
    "duration": 22,
    "start_time": "2021-08-16T09:54:30.889Z"
   },
   {
    "duration": 27,
    "start_time": "2021-08-16T09:54:30.913Z"
   },
   {
    "duration": 79,
    "start_time": "2021-08-16T09:54:30.943Z"
   },
   {
    "duration": 9,
    "start_time": "2021-08-16T09:54:31.024Z"
   },
   {
    "duration": 68,
    "start_time": "2021-08-16T09:54:31.036Z"
   },
   {
    "duration": 32,
    "start_time": "2021-08-16T09:54:31.108Z"
   },
   {
    "duration": 60,
    "start_time": "2021-08-16T09:54:31.142Z"
   },
   {
    "duration": 57,
    "start_time": "2021-08-16T09:54:31.205Z"
   },
   {
    "duration": 35,
    "start_time": "2021-08-16T09:54:31.265Z"
   },
   {
    "duration": 31,
    "start_time": "2021-08-16T09:54:31.303Z"
   },
   {
    "duration": 7,
    "start_time": "2021-08-16T09:54:31.338Z"
   },
   {
    "duration": 127,
    "start_time": "2021-08-16T09:54:31.348Z"
   },
   {
    "duration": -462,
    "start_time": "2021-08-16T09:54:31.940Z"
   },
   {
    "duration": -464,
    "start_time": "2021-08-16T09:54:31.943Z"
   },
   {
    "duration": -466,
    "start_time": "2021-08-16T09:54:31.947Z"
   },
   {
    "duration": -469,
    "start_time": "2021-08-16T09:54:31.951Z"
   },
   {
    "duration": -470,
    "start_time": "2021-08-16T09:54:31.954Z"
   },
   {
    "duration": -472,
    "start_time": "2021-08-16T09:54:31.958Z"
   },
   {
    "duration": -473,
    "start_time": "2021-08-16T09:54:31.960Z"
   },
   {
    "duration": -475,
    "start_time": "2021-08-16T09:54:31.964Z"
   },
   {
    "duration": -478,
    "start_time": "2021-08-16T09:54:31.968Z"
   },
   {
    "duration": -479,
    "start_time": "2021-08-16T09:54:31.971Z"
   },
   {
    "duration": -481,
    "start_time": "2021-08-16T09:54:31.974Z"
   },
   {
    "duration": -481,
    "start_time": "2021-08-16T09:54:31.976Z"
   },
   {
    "duration": -484,
    "start_time": "2021-08-16T09:54:31.980Z"
   },
   {
    "duration": -581,
    "start_time": "2021-08-16T09:54:32.079Z"
   },
   {
    "duration": -599,
    "start_time": "2021-08-16T09:54:32.099Z"
   },
   {
    "duration": -601,
    "start_time": "2021-08-16T09:54:32.102Z"
   },
   {
    "duration": -609,
    "start_time": "2021-08-16T09:54:32.112Z"
   },
   {
    "duration": -612,
    "start_time": "2021-08-16T09:54:32.116Z"
   },
   {
    "duration": -612,
    "start_time": "2021-08-16T09:54:32.118Z"
   },
   {
    "duration": -614,
    "start_time": "2021-08-16T09:54:32.121Z"
   },
   {
    "duration": -615,
    "start_time": "2021-08-16T09:54:32.124Z"
   },
   {
    "duration": -617,
    "start_time": "2021-08-16T09:54:32.127Z"
   },
   {
    "duration": -618,
    "start_time": "2021-08-16T09:54:32.130Z"
   },
   {
    "duration": -620,
    "start_time": "2021-08-16T09:54:32.133Z"
   },
   {
    "duration": -621,
    "start_time": "2021-08-16T09:54:32.136Z"
   },
   {
    "duration": -621,
    "start_time": "2021-08-16T09:54:32.138Z"
   },
   {
    "duration": -623,
    "start_time": "2021-08-16T09:54:32.141Z"
   },
   {
    "duration": -625,
    "start_time": "2021-08-16T09:54:32.144Z"
   },
   {
    "duration": -626,
    "start_time": "2021-08-16T09:54:32.147Z"
   },
   {
    "duration": -628,
    "start_time": "2021-08-16T09:54:32.150Z"
   },
   {
    "duration": -629,
    "start_time": "2021-08-16T09:54:32.153Z"
   },
   {
    "duration": -630,
    "start_time": "2021-08-16T09:54:32.156Z"
   },
   {
    "duration": -632,
    "start_time": "2021-08-16T09:54:32.159Z"
   },
   {
    "duration": -634,
    "start_time": "2021-08-16T09:54:32.163Z"
   },
   {
    "duration": -636,
    "start_time": "2021-08-16T09:54:32.166Z"
   },
   {
    "duration": -637,
    "start_time": "2021-08-16T09:54:32.169Z"
   },
   {
    "duration": 35,
    "start_time": "2021-08-16T09:55:19.769Z"
   },
   {
    "duration": 14,
    "start_time": "2021-08-16T09:55:22.920Z"
   },
   {
    "duration": 36,
    "start_time": "2021-08-16T09:55:30.280Z"
   },
   {
    "duration": 14,
    "start_time": "2021-08-16T09:55:33.043Z"
   },
   {
    "duration": 1464,
    "start_time": "2021-08-16T09:56:08.902Z"
   },
   {
    "duration": 596,
    "start_time": "2021-08-16T09:56:10.368Z"
   },
   {
    "duration": 50,
    "start_time": "2021-08-16T09:56:10.967Z"
   },
   {
    "duration": 36,
    "start_time": "2021-08-16T09:56:11.020Z"
   },
   {
    "duration": 55,
    "start_time": "2021-08-16T09:56:11.059Z"
   },
   {
    "duration": 17,
    "start_time": "2021-08-16T09:56:11.117Z"
   },
   {
    "duration": 27,
    "start_time": "2021-08-16T09:56:11.137Z"
   },
   {
    "duration": 79,
    "start_time": "2021-08-16T09:56:11.168Z"
   },
   {
    "duration": 49,
    "start_time": "2021-08-16T09:56:11.251Z"
   },
   {
    "duration": 27,
    "start_time": "2021-08-16T09:56:11.303Z"
   },
   {
    "duration": 150,
    "start_time": "2021-08-16T09:56:11.332Z"
   },
   {
    "duration": 57,
    "start_time": "2021-08-16T09:56:11.485Z"
   },
   {
    "duration": 4,
    "start_time": "2021-08-16T09:56:11.545Z"
   },
   {
    "duration": 16,
    "start_time": "2021-08-16T09:56:11.552Z"
   },
   {
    "duration": 452,
    "start_time": "2021-08-16T09:56:11.570Z"
   },
   {
    "duration": 22,
    "start_time": "2021-08-16T09:56:12.025Z"
   },
   {
    "duration": 12,
    "start_time": "2021-08-16T09:56:12.050Z"
   },
   {
    "duration": 64,
    "start_time": "2021-08-16T09:56:12.064Z"
   },
   {
    "duration": 28,
    "start_time": "2021-08-16T09:56:12.130Z"
   },
   {
    "duration": 57,
    "start_time": "2021-08-16T09:56:12.160Z"
   },
   {
    "duration": 3,
    "start_time": "2021-08-16T09:56:12.221Z"
   },
   {
    "duration": 121,
    "start_time": "2021-08-16T09:56:12.228Z"
   },
   {
    "duration": 61,
    "start_time": "2021-08-16T09:56:12.358Z"
   },
   {
    "duration": 428,
    "start_time": "2021-08-16T09:56:12.424Z"
   },
   {
    "duration": 9,
    "start_time": "2021-08-16T09:56:12.854Z"
   },
   {
    "duration": 43,
    "start_time": "2021-08-16T09:56:12.865Z"
   },
   {
    "duration": 16,
    "start_time": "2021-08-16T09:56:12.911Z"
   },
   {
    "duration": 25,
    "start_time": "2021-08-16T09:56:12.930Z"
   },
   {
    "duration": 45,
    "start_time": "2021-08-16T09:56:12.958Z"
   },
   {
    "duration": 17,
    "start_time": "2021-08-16T09:56:13.006Z"
   },
   {
    "duration": 79,
    "start_time": "2021-08-16T09:56:13.025Z"
   },
   {
    "duration": 9,
    "start_time": "2021-08-16T09:56:13.107Z"
   },
   {
    "duration": 13,
    "start_time": "2021-08-16T09:56:13.119Z"
   },
   {
    "duration": 13,
    "start_time": "2021-08-16T09:56:13.135Z"
   },
   {
    "duration": 57,
    "start_time": "2021-08-16T09:56:13.151Z"
   },
   {
    "duration": 42,
    "start_time": "2021-08-16T09:56:13.210Z"
   },
   {
    "duration": 60,
    "start_time": "2021-08-16T09:56:13.254Z"
   },
   {
    "duration": 25,
    "start_time": "2021-08-16T09:56:13.318Z"
   },
   {
    "duration": 6,
    "start_time": "2021-08-16T09:56:13.346Z"
   },
   {
    "duration": 67,
    "start_time": "2021-08-16T09:56:13.354Z"
   },
   {
    "duration": 3,
    "start_time": "2021-08-16T09:56:13.424Z"
   },
   {
    "duration": 17,
    "start_time": "2021-08-16T09:56:13.429Z"
   },
   {
    "duration": 61,
    "start_time": "2021-08-16T09:56:13.450Z"
   },
   {
    "duration": 10,
    "start_time": "2021-08-16T09:56:13.514Z"
   },
   {
    "duration": 13,
    "start_time": "2021-08-16T09:56:13.527Z"
   },
   {
    "duration": 12,
    "start_time": "2021-08-16T09:56:13.543Z"
   },
   {
    "duration": 42,
    "start_time": "2021-08-16T09:56:13.559Z"
   },
   {
    "duration": 725,
    "start_time": "2021-08-16T09:56:13.605Z"
   },
   {
    "duration": 25,
    "start_time": "2021-08-16T09:56:14.333Z"
   },
   {
    "duration": 4,
    "start_time": "2021-08-16T09:56:14.361Z"
   },
   {
    "duration": 33,
    "start_time": "2021-08-16T09:56:14.368Z"
   },
   {
    "duration": 14,
    "start_time": "2021-08-16T09:56:14.404Z"
   },
   {
    "duration": 82,
    "start_time": "2021-08-16T09:56:14.421Z"
   },
   {
    "duration": 731,
    "start_time": "2021-08-16T09:56:14.506Z"
   },
   {
    "duration": 397,
    "start_time": "2021-08-16T09:56:15.240Z"
   },
   {
    "duration": 748,
    "start_time": "2021-08-16T09:56:15.641Z"
   },
   {
    "duration": 264,
    "start_time": "2021-08-16T09:56:16.392Z"
   },
   {
    "duration": 411,
    "start_time": "2021-08-16T09:56:16.659Z"
   },
   {
    "duration": 340,
    "start_time": "2021-08-16T09:56:17.073Z"
   },
   {
    "duration": 388,
    "start_time": "2021-08-16T09:56:17.416Z"
   },
   {
    "duration": 245,
    "start_time": "2021-08-16T09:56:17.806Z"
   },
   {
    "duration": 398,
    "start_time": "2021-08-16T09:56:18.054Z"
   },
   {
    "duration": 269,
    "start_time": "2021-08-16T09:56:18.455Z"
   },
   {
    "duration": 386,
    "start_time": "2021-08-16T09:56:18.726Z"
   },
   {
    "duration": 260,
    "start_time": "2021-08-16T09:56:19.115Z"
   },
   {
    "duration": 7,
    "start_time": "2021-08-16T09:56:19.377Z"
   },
   {
    "duration": 16,
    "start_time": "2021-08-16T09:56:19.387Z"
   },
   {
    "duration": 9,
    "start_time": "2021-08-16T09:56:19.414Z"
   },
   {
    "duration": 10,
    "start_time": "2021-08-16T09:56:19.427Z"
   },
   {
    "duration": 8,
    "start_time": "2021-08-16T09:56:19.440Z"
   },
   {
    "duration": 52,
    "start_time": "2021-08-16T09:56:19.450Z"
   },
   {
    "duration": 8,
    "start_time": "2021-08-16T09:56:19.505Z"
   },
   {
    "duration": 26,
    "start_time": "2021-08-16T09:56:19.516Z"
   },
   {
    "duration": 7,
    "start_time": "2021-08-16T09:56:19.545Z"
   },
   {
    "duration": 46,
    "start_time": "2021-08-16T09:56:19.554Z"
   },
   {
    "duration": 46,
    "start_time": "2021-08-16T09:56:19.603Z"
   },
   {
    "duration": 1857,
    "start_time": "2021-08-16T09:58:27.743Z"
   },
   {
    "duration": 734,
    "start_time": "2021-08-16T09:58:29.604Z"
   },
   {
    "duration": 88,
    "start_time": "2021-08-16T09:58:30.343Z"
   },
   {
    "duration": 58,
    "start_time": "2021-08-16T09:58:30.436Z"
   },
   {
    "duration": 51,
    "start_time": "2021-08-16T09:58:30.502Z"
   },
   {
    "duration": 20,
    "start_time": "2021-08-16T09:58:30.555Z"
   },
   {
    "duration": 46,
    "start_time": "2021-08-16T09:58:30.577Z"
   },
   {
    "duration": 59,
    "start_time": "2021-08-16T09:58:30.626Z"
   },
   {
    "duration": 34,
    "start_time": "2021-08-16T09:58:30.690Z"
   },
   {
    "duration": 26,
    "start_time": "2021-08-16T09:58:30.728Z"
   },
   {
    "duration": 143,
    "start_time": "2021-08-16T09:58:30.757Z"
   },
   {
    "duration": 49,
    "start_time": "2021-08-16T09:58:30.903Z"
   },
   {
    "duration": 3,
    "start_time": "2021-08-16T09:58:30.954Z"
   },
   {
    "duration": 43,
    "start_time": "2021-08-16T09:58:30.960Z"
   },
   {
    "duration": 760,
    "start_time": "2021-08-16T09:58:31.006Z"
   },
   {
    "duration": 46,
    "start_time": "2021-08-16T09:58:31.769Z"
   },
   {
    "duration": 15,
    "start_time": "2021-08-16T09:58:31.818Z"
   },
   {
    "duration": 64,
    "start_time": "2021-08-16T09:58:31.836Z"
   },
   {
    "duration": 28,
    "start_time": "2021-08-16T09:58:31.903Z"
   },
   {
    "duration": 21,
    "start_time": "2021-08-16T09:58:31.934Z"
   },
   {
    "duration": 4,
    "start_time": "2021-08-16T09:58:31.958Z"
   },
   {
    "duration": 101,
    "start_time": "2021-08-16T09:58:31.966Z"
   },
   {
    "duration": 65,
    "start_time": "2021-08-16T09:58:32.071Z"
   },
   {
    "duration": 469,
    "start_time": "2021-08-16T09:58:32.139Z"
   },
   {
    "duration": 10,
    "start_time": "2021-08-16T09:58:32.612Z"
   },
   {
    "duration": 24,
    "start_time": "2021-08-16T09:58:32.626Z"
   },
   {
    "duration": 50,
    "start_time": "2021-08-16T09:58:32.657Z"
   },
   {
    "duration": 27,
    "start_time": "2021-08-16T09:58:32.711Z"
   },
   {
    "duration": 23,
    "start_time": "2021-08-16T09:58:32.741Z"
   },
   {
    "duration": 43,
    "start_time": "2021-08-16T09:58:32.766Z"
   },
   {
    "duration": 58,
    "start_time": "2021-08-16T09:58:32.811Z"
   },
   {
    "duration": 35,
    "start_time": "2021-08-16T09:58:32.872Z"
   },
   {
    "duration": 22,
    "start_time": "2021-08-16T09:58:32.909Z"
   },
   {
    "duration": 16,
    "start_time": "2021-08-16T09:58:32.934Z"
   },
   {
    "duration": 64,
    "start_time": "2021-08-16T09:58:32.954Z"
   },
   {
    "duration": 89,
    "start_time": "2021-08-16T09:58:33.021Z"
   },
   {
    "duration": 58,
    "start_time": "2021-08-16T09:58:33.113Z"
   },
   {
    "duration": 56,
    "start_time": "2021-08-16T09:58:33.175Z"
   },
   {
    "duration": 7,
    "start_time": "2021-08-16T09:58:33.235Z"
   },
   {
    "duration": 72,
    "start_time": "2021-08-16T09:58:33.246Z"
   },
   {
    "duration": 5,
    "start_time": "2021-08-16T09:58:33.320Z"
   },
   {
    "duration": 20,
    "start_time": "2021-08-16T09:58:33.328Z"
   },
   {
    "duration": 25,
    "start_time": "2021-08-16T09:58:33.351Z"
   },
   {
    "duration": 9,
    "start_time": "2021-08-16T09:58:33.402Z"
   },
   {
    "duration": 23,
    "start_time": "2021-08-16T09:58:33.413Z"
   },
   {
    "duration": 25,
    "start_time": "2021-08-16T09:58:33.440Z"
   },
   {
    "duration": 33,
    "start_time": "2021-08-16T09:58:33.468Z"
   },
   {
    "duration": 589,
    "start_time": "2021-08-16T09:58:33.504Z"
   },
   {
    "duration": 27,
    "start_time": "2021-08-16T09:58:34.096Z"
   },
   {
    "duration": 5,
    "start_time": "2021-08-16T09:58:34.127Z"
   },
   {
    "duration": 7,
    "start_time": "2021-08-16T09:58:34.136Z"
   },
   {
    "duration": 6,
    "start_time": "2021-08-16T09:58:34.147Z"
   },
   {
    "duration": 52,
    "start_time": "2021-08-16T09:58:34.200Z"
   },
   {
    "duration": 593,
    "start_time": "2021-08-16T09:58:34.255Z"
   },
   {
    "duration": 352,
    "start_time": "2021-08-16T09:58:34.852Z"
   },
   {
    "duration": 609,
    "start_time": "2021-08-16T09:58:35.207Z"
   },
   {
    "duration": 361,
    "start_time": "2021-08-16T09:58:35.819Z"
   },
   {
    "duration": 459,
    "start_time": "2021-08-16T09:58:36.183Z"
   },
   {
    "duration": 359,
    "start_time": "2021-08-16T09:58:36.644Z"
   },
   {
    "duration": 644,
    "start_time": "2021-08-16T09:58:37.005Z"
   },
   {
    "duration": 252,
    "start_time": "2021-08-16T09:58:37.652Z"
   },
   {
    "duration": 414,
    "start_time": "2021-08-16T09:58:37.907Z"
   },
   {
    "duration": 416,
    "start_time": "2021-08-16T09:58:38.324Z"
   },
   {
    "duration": 390,
    "start_time": "2021-08-16T09:58:38.742Z"
   },
   {
    "duration": 261,
    "start_time": "2021-08-16T09:58:39.135Z"
   },
   {
    "duration": 10,
    "start_time": "2021-08-16T09:58:39.400Z"
   },
   {
    "duration": 23,
    "start_time": "2021-08-16T09:58:39.413Z"
   },
   {
    "duration": 38,
    "start_time": "2021-08-16T09:58:39.439Z"
   },
   {
    "duration": 46,
    "start_time": "2021-08-16T09:58:39.480Z"
   },
   {
    "duration": 22,
    "start_time": "2021-08-16T09:58:39.529Z"
   },
   {
    "duration": 25,
    "start_time": "2021-08-16T09:58:39.555Z"
   },
   {
    "duration": 21,
    "start_time": "2021-08-16T09:58:39.583Z"
   },
   {
    "duration": 46,
    "start_time": "2021-08-16T09:58:39.608Z"
   },
   {
    "duration": 8,
    "start_time": "2021-08-16T09:58:39.657Z"
   },
   {
    "duration": 10,
    "start_time": "2021-08-16T09:58:39.669Z"
   },
   {
    "duration": 45,
    "start_time": "2021-08-16T09:58:39.702Z"
   },
   {
    "duration": 11,
    "start_time": "2021-08-16T09:59:38.018Z"
   },
   {
    "duration": 9,
    "start_time": "2021-08-16T10:00:04.476Z"
   },
   {
    "duration": 9,
    "start_time": "2021-08-16T10:00:19.440Z"
   },
   {
    "duration": 1460,
    "start_time": "2021-08-16T10:02:01.330Z"
   },
   {
    "duration": 578,
    "start_time": "2021-08-16T10:02:02.793Z"
   },
   {
    "duration": 62,
    "start_time": "2021-08-16T10:02:03.374Z"
   },
   {
    "duration": 68,
    "start_time": "2021-08-16T10:02:03.440Z"
   },
   {
    "duration": 30,
    "start_time": "2021-08-16T10:02:03.511Z"
   },
   {
    "duration": 16,
    "start_time": "2021-08-16T10:02:03.544Z"
   },
   {
    "duration": 55,
    "start_time": "2021-08-16T10:02:03.563Z"
   },
   {
    "duration": 53,
    "start_time": "2021-08-16T10:02:03.621Z"
   },
   {
    "duration": 55,
    "start_time": "2021-08-16T10:02:03.678Z"
   },
   {
    "duration": 26,
    "start_time": "2021-08-16T10:02:03.736Z"
   },
   {
    "duration": 161,
    "start_time": "2021-08-16T10:02:03.764Z"
   },
   {
    "duration": 47,
    "start_time": "2021-08-16T10:02:03.927Z"
   },
   {
    "duration": 25,
    "start_time": "2021-08-16T10:02:03.976Z"
   },
   {
    "duration": 12,
    "start_time": "2021-08-16T10:02:04.003Z"
   },
   {
    "duration": 428,
    "start_time": "2021-08-16T10:02:04.018Z"
   },
   {
    "duration": 21,
    "start_time": "2021-08-16T10:02:04.448Z"
   },
   {
    "duration": 34,
    "start_time": "2021-08-16T10:02:04.471Z"
   },
   {
    "duration": 30,
    "start_time": "2021-08-16T10:02:04.508Z"
   },
   {
    "duration": 24,
    "start_time": "2021-08-16T10:02:04.541Z"
   },
   {
    "duration": 46,
    "start_time": "2021-08-16T10:02:04.568Z"
   },
   {
    "duration": 3,
    "start_time": "2021-08-16T10:02:04.617Z"
   },
   {
    "duration": 81,
    "start_time": "2021-08-16T10:02:04.622Z"
   },
   {
    "duration": 40,
    "start_time": "2021-08-16T10:02:04.706Z"
   },
   {
    "duration": 446,
    "start_time": "2021-08-16T10:02:04.749Z"
   },
   {
    "duration": 8,
    "start_time": "2021-08-16T10:02:05.202Z"
   },
   {
    "duration": 21,
    "start_time": "2021-08-16T10:02:05.214Z"
   },
   {
    "duration": 16,
    "start_time": "2021-08-16T10:02:05.242Z"
   },
   {
    "duration": 62,
    "start_time": "2021-08-16T10:02:05.262Z"
   },
   {
    "duration": 23,
    "start_time": "2021-08-16T10:02:05.327Z"
   },
   {
    "duration": 47,
    "start_time": "2021-08-16T10:02:05.353Z"
   },
   {
    "duration": 59,
    "start_time": "2021-08-16T10:02:05.403Z"
   },
   {
    "duration": 10,
    "start_time": "2021-08-16T10:02:05.465Z"
   },
   {
    "duration": 12,
    "start_time": "2021-08-16T10:02:05.502Z"
   },
   {
    "duration": 14,
    "start_time": "2021-08-16T10:02:05.517Z"
   },
   {
    "duration": 64,
    "start_time": "2021-08-16T10:02:05.535Z"
   },
   {
    "duration": 45,
    "start_time": "2021-08-16T10:02:05.603Z"
   },
   {
    "duration": 61,
    "start_time": "2021-08-16T10:02:05.651Z"
   },
   {
    "duration": 28,
    "start_time": "2021-08-16T10:02:05.715Z"
   },
   {
    "duration": 6,
    "start_time": "2021-08-16T10:02:05.746Z"
   },
   {
    "duration": 17,
    "start_time": "2021-08-16T10:02:05.755Z"
   },
   {
    "duration": 51,
    "start_time": "2021-08-16T10:02:05.802Z"
   },
   {
    "duration": 19,
    "start_time": "2021-08-16T10:02:05.857Z"
   },
   {
    "duration": 57,
    "start_time": "2021-08-16T10:02:05.879Z"
   },
   {
    "duration": 11,
    "start_time": "2021-08-16T10:02:05.940Z"
   },
   {
    "duration": 47,
    "start_time": "2021-08-16T10:02:05.954Z"
   },
   {
    "duration": 13,
    "start_time": "2021-08-16T10:02:06.004Z"
   },
   {
    "duration": 13,
    "start_time": "2021-08-16T10:02:06.020Z"
   },
   {
    "duration": 725,
    "start_time": "2021-08-16T10:02:06.036Z"
   },
   {
    "duration": 39,
    "start_time": "2021-08-16T10:02:06.764Z"
   },
   {
    "duration": 15,
    "start_time": "2021-08-16T10:02:06.806Z"
   },
   {
    "duration": 33,
    "start_time": "2021-08-16T10:02:06.824Z"
   },
   {
    "duration": 26,
    "start_time": "2021-08-16T10:02:06.860Z"
   },
   {
    "duration": 100,
    "start_time": "2021-08-16T10:02:06.890Z"
   },
   {
    "duration": 781,
    "start_time": "2021-08-16T10:02:06.994Z"
   },
   {
    "duration": 274,
    "start_time": "2021-08-16T10:02:07.779Z"
   },
   {
    "duration": 471,
    "start_time": "2021-08-16T10:02:08.056Z"
   },
   {
    "duration": 263,
    "start_time": "2021-08-16T10:02:08.530Z"
   },
   {
    "duration": 414,
    "start_time": "2021-08-16T10:02:08.800Z"
   },
   {
    "duration": 342,
    "start_time": "2021-08-16T10:02:09.217Z"
   },
   {
    "duration": 398,
    "start_time": "2021-08-16T10:02:09.562Z"
   },
   {
    "duration": 246,
    "start_time": "2021-08-16T10:02:09.963Z"
   },
   {
    "duration": 403,
    "start_time": "2021-08-16T10:02:10.211Z"
   },
   {
    "duration": 268,
    "start_time": "2021-08-16T10:02:10.617Z"
   },
   {
    "duration": 602,
    "start_time": "2021-08-16T10:02:10.887Z"
   },
   {
    "duration": 404,
    "start_time": "2021-08-16T10:02:11.493Z"
   },
   {
    "duration": 10,
    "start_time": "2021-08-16T10:02:11.902Z"
   },
   {
    "duration": 5,
    "start_time": "2021-08-16T10:02:11.915Z"
   },
   {
    "duration": 10,
    "start_time": "2021-08-16T10:02:11.923Z"
   },
   {
    "duration": 14,
    "start_time": "2021-08-16T10:02:11.936Z"
   },
   {
    "duration": 49,
    "start_time": "2021-08-16T10:02:11.953Z"
   },
   {
    "duration": 7,
    "start_time": "2021-08-16T10:02:12.006Z"
   },
   {
    "duration": 10,
    "start_time": "2021-08-16T10:02:12.016Z"
   },
   {
    "duration": 26,
    "start_time": "2021-08-16T10:02:12.029Z"
   },
   {
    "duration": 7,
    "start_time": "2021-08-16T10:02:12.058Z"
   },
   {
    "duration": 10,
    "start_time": "2021-08-16T10:02:12.102Z"
   },
   {
    "duration": 50,
    "start_time": "2021-08-16T10:02:12.115Z"
   },
   {
    "duration": 37,
    "start_time": "2021-08-16T10:04:12.152Z"
   },
   {
    "duration": 16,
    "start_time": "2021-08-16T10:04:14.592Z"
   },
   {
    "duration": 24,
    "start_time": "2021-08-16T10:04:20.244Z"
   },
   {
    "duration": 9,
    "start_time": "2021-08-16T10:04:27.864Z"
   },
   {
    "duration": 12,
    "start_time": "2021-08-16T10:04:30.519Z"
   },
   {
    "duration": 36,
    "start_time": "2021-08-16T10:16:24.258Z"
   },
   {
    "duration": 15,
    "start_time": "2021-08-16T10:16:28.913Z"
   },
   {
    "duration": 24,
    "start_time": "2021-08-16T10:16:41.027Z"
   },
   {
    "duration": 10,
    "start_time": "2021-08-16T10:16:59.883Z"
   },
   {
    "duration": 12,
    "start_time": "2021-08-16T10:17:01.892Z"
   },
   {
    "duration": 11,
    "start_time": "2021-08-16T10:17:03.543Z"
   },
   {
    "duration": 7,
    "start_time": "2021-08-16T10:17:09.328Z"
   },
   {
    "duration": 377,
    "start_time": "2021-08-16T10:17:10.442Z"
   },
   {
    "duration": 20,
    "start_time": "2021-08-16T10:17:16.287Z"
   },
   {
    "duration": 16,
    "start_time": "2021-08-16T10:18:53.772Z"
   },
   {
    "duration": 16,
    "start_time": "2021-08-16T10:20:45.913Z"
   },
   {
    "duration": 6,
    "start_time": "2021-08-16T10:31:16.460Z"
   },
   {
    "duration": 6,
    "start_time": "2021-08-16T10:32:03.275Z"
   },
   {
    "duration": 32,
    "start_time": "2021-08-16T10:32:14.411Z"
   },
   {
    "duration": 4923,
    "start_time": "2021-08-16T10:36:31.862Z"
   },
   {
    "duration": 777,
    "start_time": "2021-08-16T10:37:09.179Z"
   },
   {
    "duration": 7,
    "start_time": "2021-08-16T10:37:30.278Z"
   },
   {
    "duration": 10,
    "start_time": "2021-08-16T10:37:33.722Z"
   },
   {
    "duration": 30,
    "start_time": "2021-08-16T10:37:58.565Z"
   },
   {
    "duration": 4,
    "start_time": "2021-08-16T10:38:17.230Z"
   },
   {
    "duration": 651,
    "start_time": "2021-08-16T10:38:18.280Z"
   },
   {
    "duration": 40,
    "start_time": "2021-08-16T10:38:19.996Z"
   },
   {
    "duration": 636,
    "start_time": "2021-08-16T10:40:21.658Z"
   },
   {
    "duration": 44,
    "start_time": "2021-08-16T10:40:31.423Z"
   },
   {
    "duration": 6,
    "start_time": "2021-08-16T10:41:23.197Z"
   },
   {
    "duration": 651,
    "start_time": "2021-08-16T10:41:24.222Z"
   },
   {
    "duration": 41,
    "start_time": "2021-08-16T10:41:25.911Z"
   },
   {
    "duration": 30,
    "start_time": "2021-08-16T10:41:38.148Z"
   },
   {
    "duration": 36,
    "start_time": "2021-08-16T10:41:49.935Z"
   },
   {
    "duration": 35,
    "start_time": "2021-08-16T10:42:07.175Z"
   },
   {
    "duration": 35,
    "start_time": "2021-08-16T10:42:22.714Z"
   },
   {
    "duration": 6,
    "start_time": "2021-08-16T10:43:36.081Z"
   },
   {
    "duration": 669,
    "start_time": "2021-08-16T10:43:42.751Z"
   },
   {
    "duration": 6,
    "start_time": "2021-08-16T10:46:26.892Z"
   },
   {
    "duration": 640,
    "start_time": "2021-08-16T10:46:28.031Z"
   },
   {
    "duration": 16,
    "start_time": "2021-08-16T10:46:29.315Z"
   },
   {
    "duration": 47,
    "start_time": "2021-08-16T10:48:35.967Z"
   },
   {
    "duration": 1359,
    "start_time": "2021-08-16T10:48:50.194Z"
   },
   {
    "duration": 524,
    "start_time": "2021-08-16T10:48:51.556Z"
   },
   {
    "duration": 47,
    "start_time": "2021-08-16T10:48:52.083Z"
   },
   {
    "duration": 33,
    "start_time": "2021-08-16T10:48:52.133Z"
   },
   {
    "duration": 48,
    "start_time": "2021-08-16T10:48:52.169Z"
   },
   {
    "duration": 16,
    "start_time": "2021-08-16T10:48:52.220Z"
   },
   {
    "duration": 26,
    "start_time": "2021-08-16T10:48:52.238Z"
   },
   {
    "duration": 71,
    "start_time": "2021-08-16T10:48:52.268Z"
   },
   {
    "duration": 32,
    "start_time": "2021-08-16T10:48:52.342Z"
   },
   {
    "duration": 45,
    "start_time": "2021-08-16T10:48:52.376Z"
   },
   {
    "duration": 133,
    "start_time": "2021-08-16T10:48:52.424Z"
   },
   {
    "duration": 58,
    "start_time": "2021-08-16T10:48:52.561Z"
   },
   {
    "duration": 4,
    "start_time": "2021-08-16T10:48:52.621Z"
   },
   {
    "duration": 13,
    "start_time": "2021-08-16T10:48:52.627Z"
   },
   {
    "duration": 418,
    "start_time": "2021-08-16T10:48:52.642Z"
   },
   {
    "duration": 20,
    "start_time": "2021-08-16T10:48:53.063Z"
   },
   {
    "duration": 12,
    "start_time": "2021-08-16T10:48:53.100Z"
   },
   {
    "duration": 41,
    "start_time": "2021-08-16T10:48:53.115Z"
   },
   {
    "duration": 25,
    "start_time": "2021-08-16T10:48:53.158Z"
   },
   {
    "duration": 18,
    "start_time": "2021-08-16T10:48:53.201Z"
   },
   {
    "duration": 3,
    "start_time": "2021-08-16T10:48:53.222Z"
   },
   {
    "duration": 83,
    "start_time": "2021-08-16T10:48:53.228Z"
   },
   {
    "duration": 39,
    "start_time": "2021-08-16T10:48:53.320Z"
   },
   {
    "duration": 438,
    "start_time": "2021-08-16T10:48:53.364Z"
   },
   {
    "duration": 10,
    "start_time": "2021-08-16T10:48:53.806Z"
   },
   {
    "duration": 27,
    "start_time": "2021-08-16T10:48:53.819Z"
   },
   {
    "duration": 19,
    "start_time": "2021-08-16T10:48:53.848Z"
   },
   {
    "duration": 56,
    "start_time": "2021-08-16T10:48:53.870Z"
   },
   {
    "duration": 25,
    "start_time": "2021-08-16T10:48:53.929Z"
   },
   {
    "duration": 46,
    "start_time": "2021-08-16T10:48:53.956Z"
   },
   {
    "duration": 57,
    "start_time": "2021-08-16T10:48:54.005Z"
   },
   {
    "duration": 9,
    "start_time": "2021-08-16T10:48:54.065Z"
   },
   {
    "duration": 32,
    "start_time": "2021-08-16T10:48:54.076Z"
   },
   {
    "duration": 22,
    "start_time": "2021-08-16T10:48:54.111Z"
   },
   {
    "duration": 22,
    "start_time": "2021-08-16T10:48:54.136Z"
   },
   {
    "duration": 74,
    "start_time": "2021-08-16T10:48:54.161Z"
   },
   {
    "duration": 31,
    "start_time": "2021-08-16T10:48:54.238Z"
   },
   {
    "duration": 43,
    "start_time": "2021-08-16T10:48:54.272Z"
   },
   {
    "duration": 5,
    "start_time": "2021-08-16T10:48:54.319Z"
   },
   {
    "duration": 14,
    "start_time": "2021-08-16T10:48:54.327Z"
   },
   {
    "duration": 61,
    "start_time": "2021-08-16T10:48:54.344Z"
   },
   {
    "duration": 15,
    "start_time": "2021-08-16T10:48:54.408Z"
   },
   {
    "duration": 24,
    "start_time": "2021-08-16T10:48:54.426Z"
   },
   {
    "duration": 9,
    "start_time": "2021-08-16T10:48:54.453Z"
   },
   {
    "duration": 45,
    "start_time": "2021-08-16T10:48:54.465Z"
   },
   {
    "duration": 12,
    "start_time": "2021-08-16T10:48:54.513Z"
   },
   {
    "duration": 4,
    "start_time": "2021-08-16T10:48:54.527Z"
   },
   {
    "duration": 8,
    "start_time": "2021-08-16T10:48:54.534Z"
   },
   {
    "duration": 700,
    "start_time": "2021-08-16T10:48:54.544Z"
   },
   {
    "duration": 18,
    "start_time": "2021-08-16T10:48:55.247Z"
   },
   {
    "duration": 32,
    "start_time": "2021-08-16T10:48:55.269Z"
   },
   {
    "duration": 8,
    "start_time": "2021-08-16T10:48:55.303Z"
   },
   {
    "duration": 7,
    "start_time": "2021-08-16T10:48:55.313Z"
   },
   {
    "duration": 50,
    "start_time": "2021-08-16T10:48:55.323Z"
   },
   {
    "duration": 464,
    "start_time": "2021-08-16T10:48:55.376Z"
   },
   {
    "duration": 253,
    "start_time": "2021-08-16T10:48:55.843Z"
   },
   {
    "duration": 452,
    "start_time": "2021-08-16T10:48:56.101Z"
   },
   {
    "duration": 255,
    "start_time": "2021-08-16T10:48:56.556Z"
   },
   {
    "duration": 509,
    "start_time": "2021-08-16T10:48:56.813Z"
   },
   {
    "duration": 252,
    "start_time": "2021-08-16T10:48:57.325Z"
   },
   {
    "duration": 374,
    "start_time": "2021-08-16T10:48:57.579Z"
   },
   {
    "duration": 233,
    "start_time": "2021-08-16T10:48:57.956Z"
   },
   {
    "duration": 378,
    "start_time": "2021-08-16T10:48:58.192Z"
   },
   {
    "duration": 263,
    "start_time": "2021-08-16T10:48:58.572Z"
   },
   {
    "duration": 366,
    "start_time": "2021-08-16T10:48:58.837Z"
   },
   {
    "duration": 248,
    "start_time": "2021-08-16T10:48:59.206Z"
   },
   {
    "duration": 8,
    "start_time": "2021-08-16T10:48:59.456Z"
   },
   {
    "duration": 3,
    "start_time": "2021-08-16T10:48:59.473Z"
   },
   {
    "duration": 32,
    "start_time": "2021-08-16T10:48:59.478Z"
   },
   {
    "duration": 18,
    "start_time": "2021-08-16T10:48:59.513Z"
   },
   {
    "duration": 16,
    "start_time": "2021-08-16T10:48:59.535Z"
   },
   {
    "duration": 16,
    "start_time": "2021-08-16T10:48:59.554Z"
   },
   {
    "duration": 18,
    "start_time": "2021-08-16T10:48:59.573Z"
   },
   {
    "duration": 34,
    "start_time": "2021-08-16T10:48:59.593Z"
   },
   {
    "duration": 7,
    "start_time": "2021-08-16T10:48:59.629Z"
   },
   {
    "duration": 22,
    "start_time": "2021-08-16T10:48:59.638Z"
   },
   {
    "duration": 57,
    "start_time": "2021-08-16T10:48:59.663Z"
   },
   {
    "duration": 935,
    "start_time": "2021-08-16T10:56:35.134Z"
   },
   {
    "duration": 211,
    "start_time": "2021-08-16T10:56:59.628Z"
   },
   {
    "duration": 684,
    "start_time": "2021-08-16T10:57:36.830Z"
   },
   {
    "duration": 646,
    "start_time": "2021-08-16T10:58:04.725Z"
   },
   {
    "duration": 739,
    "start_time": "2021-08-16T10:59:37.998Z"
   },
   {
    "duration": 722,
    "start_time": "2021-08-16T11:00:07.513Z"
   },
   {
    "duration": 1305,
    "start_time": "2021-08-16T11:00:29.389Z"
   },
   {
    "duration": 1157,
    "start_time": "2021-08-16T11:00:50.754Z"
   },
   {
    "duration": 1090,
    "start_time": "2021-08-16T11:01:04.704Z"
   },
   {
    "duration": 663,
    "start_time": "2021-08-16T11:01:22.915Z"
   },
   {
    "duration": 698,
    "start_time": "2021-08-16T11:03:15.983Z"
   },
   {
    "duration": 681,
    "start_time": "2021-08-16T11:03:24.561Z"
   },
   {
    "duration": 858,
    "start_time": "2021-08-16T11:03:43.458Z"
   },
   {
    "duration": 766,
    "start_time": "2021-08-16T11:03:52.956Z"
   },
   {
    "duration": 1128,
    "start_time": "2021-08-16T11:04:12.709Z"
   },
   {
    "duration": 1191,
    "start_time": "2021-08-16T11:05:19.053Z"
   },
   {
    "duration": 899,
    "start_time": "2021-08-16T11:05:40.026Z"
   },
   {
    "duration": 833,
    "start_time": "2021-08-16T11:05:52.426Z"
   },
   {
    "duration": 1411,
    "start_time": "2021-08-16T11:06:00.016Z"
   },
   {
    "duration": 651,
    "start_time": "2021-08-16T11:06:12.932Z"
   },
   {
    "duration": 1196,
    "start_time": "2021-08-16T11:07:15.914Z"
   },
   {
    "duration": 652,
    "start_time": "2021-08-16T11:10:32.514Z"
   },
   {
    "duration": 613,
    "start_time": "2021-08-16T11:10:56.462Z"
   },
   {
    "duration": 628,
    "start_time": "2021-08-16T11:11:11.664Z"
   },
   {
    "duration": 430,
    "start_time": "2021-08-16T11:11:34.366Z"
   },
   {
    "duration": 363,
    "start_time": "2021-08-16T11:11:44.085Z"
   },
   {
    "duration": 695,
    "start_time": "2021-08-16T11:13:33.558Z"
   },
   {
    "duration": 765,
    "start_time": "2021-08-16T11:14:33.398Z"
   },
   {
    "duration": 689,
    "start_time": "2021-08-16T11:14:49.829Z"
   },
   {
    "duration": 992,
    "start_time": "2021-08-16T11:16:21.629Z"
   },
   {
    "duration": 720,
    "start_time": "2021-08-16T11:16:31.435Z"
   },
   {
    "duration": 1043,
    "start_time": "2021-08-16T11:16:46.045Z"
   },
   {
    "duration": 816,
    "start_time": "2021-08-16T11:16:53.207Z"
   },
   {
    "duration": 694,
    "start_time": "2021-08-16T11:19:34.166Z"
   },
   {
    "duration": 842,
    "start_time": "2021-08-16T11:19:46.722Z"
   },
   {
    "duration": 1232,
    "start_time": "2021-08-16T11:20:54.510Z"
   },
   {
    "duration": 1054,
    "start_time": "2021-08-16T11:21:05.224Z"
   },
   {
    "duration": 978,
    "start_time": "2021-08-16T11:21:10.550Z"
   },
   {
    "duration": 1374,
    "start_time": "2021-08-16T11:22:48.311Z"
   },
   {
    "duration": 978,
    "start_time": "2021-08-16T11:22:56.007Z"
   },
   {
    "duration": 1283,
    "start_time": "2021-08-16T11:23:36.201Z"
   },
   {
    "duration": 1141,
    "start_time": "2021-08-16T11:23:47.042Z"
   },
   {
    "duration": 890,
    "start_time": "2021-08-16T11:27:48.520Z"
   },
   {
    "duration": 963,
    "start_time": "2021-08-16T11:28:10.271Z"
   },
   {
    "duration": 903,
    "start_time": "2021-08-16T11:28:41.452Z"
   },
   {
    "duration": 127,
    "start_time": "2021-08-16T11:46:54.450Z"
   },
   {
    "duration": 114,
    "start_time": "2021-08-16T11:47:11.621Z"
   },
   {
    "duration": 883,
    "start_time": "2021-08-16T11:47:31.343Z"
   },
   {
    "duration": 1485,
    "start_time": "2021-08-16T11:47:40.575Z"
   },
   {
    "duration": 764,
    "start_time": "2021-08-16T11:48:41.479Z"
   },
   {
    "duration": 672,
    "start_time": "2021-08-16T11:49:04.882Z"
   },
   {
    "duration": 1060,
    "start_time": "2021-08-16T11:52:31.910Z"
   },
   {
    "duration": 1046,
    "start_time": "2021-08-16T11:53:18.027Z"
   },
   {
    "duration": 1043,
    "start_time": "2021-08-16T11:53:50.360Z"
   },
   {
    "duration": 6,
    "start_time": "2021-08-16T12:00:29.231Z"
   },
   {
    "duration": 6,
    "start_time": "2021-08-16T12:01:09.957Z"
   },
   {
    "duration": 147,
    "start_time": "2021-08-16T12:01:43.880Z"
   },
   {
    "duration": 497,
    "start_time": "2021-08-16T12:01:48.437Z"
   },
   {
    "duration": 6,
    "start_time": "2021-08-16T12:02:26.410Z"
   },
   {
    "duration": 808,
    "start_time": "2021-08-16T12:02:32.728Z"
   },
   {
    "duration": 703,
    "start_time": "2021-08-16T12:03:13.730Z"
   },
   {
    "duration": 726,
    "start_time": "2021-08-16T12:04:14.687Z"
   },
   {
    "duration": 6,
    "start_time": "2021-08-16T12:05:44.970Z"
   },
   {
    "duration": 716,
    "start_time": "2021-08-16T12:05:53.098Z"
   },
   {
    "duration": 715,
    "start_time": "2021-08-16T12:06:00.755Z"
   },
   {
    "duration": 2143,
    "start_time": "2021-08-16T12:07:08.126Z"
   },
   {
    "duration": 870,
    "start_time": "2021-08-16T12:07:35.822Z"
   },
   {
    "duration": 1016,
    "start_time": "2021-08-16T12:11:59.326Z"
   },
   {
    "duration": 7,
    "start_time": "2021-08-16T12:13:08.749Z"
   },
   {
    "duration": 726,
    "start_time": "2021-08-16T12:13:32.779Z"
   },
   {
    "duration": 784,
    "start_time": "2021-08-16T12:13:35.707Z"
   },
   {
    "duration": 2158,
    "start_time": "2021-08-16T12:14:44.699Z"
   },
   {
    "duration": 1456,
    "start_time": "2021-08-16T12:14:56.053Z"
   },
   {
    "duration": 1833,
    "start_time": "2021-08-16T12:15:17.848Z"
   },
   {
    "duration": 1878,
    "start_time": "2021-08-16T12:15:31.501Z"
   },
   {
    "duration": 1630,
    "start_time": "2021-08-16T12:15:41.115Z"
   },
   {
    "duration": 909,
    "start_time": "2021-08-16T12:19:21.823Z"
   },
   {
    "duration": 15,
    "start_time": "2021-08-16T12:20:35.393Z"
   },
   {
    "duration": 6,
    "start_time": "2021-08-16T12:21:36.452Z"
   },
   {
    "duration": 125,
    "start_time": "2021-08-16T12:22:08.733Z"
   },
   {
    "duration": 845,
    "start_time": "2021-08-16T12:22:26.405Z"
   },
   {
    "duration": 1890,
    "start_time": "2021-08-16T12:23:10.986Z"
   },
   {
    "duration": 1749,
    "start_time": "2021-08-16T12:23:34.307Z"
   },
   {
    "duration": 1303,
    "start_time": "2021-08-16T12:23:44.903Z"
   },
   {
    "duration": 1888,
    "start_time": "2021-08-16T12:23:48.946Z"
   },
   {
    "duration": 1771,
    "start_time": "2021-08-16T12:24:39.317Z"
   },
   {
    "duration": 265,
    "start_time": "2021-08-16T12:26:51.390Z"
   },
   {
    "duration": 864,
    "start_time": "2021-08-16T12:28:03.311Z"
   },
   {
    "duration": 549,
    "start_time": "2021-08-16T12:28:14.887Z"
   },
   {
    "duration": 510,
    "start_time": "2021-08-16T12:28:33.059Z"
   },
   {
    "duration": 1286,
    "start_time": "2021-08-16T12:28:52.982Z"
   },
   {
    "duration": 1167,
    "start_time": "2021-08-16T12:29:06.236Z"
   },
   {
    "duration": 992,
    "start_time": "2021-08-16T12:30:20.240Z"
   },
   {
    "duration": 1166,
    "start_time": "2021-08-16T12:30:32.445Z"
   },
   {
    "duration": 1025,
    "start_time": "2021-08-16T12:30:40.554Z"
   },
   {
    "duration": 246,
    "start_time": "2021-08-16T12:31:18.282Z"
   },
   {
    "duration": 562,
    "start_time": "2021-08-16T12:36:33.800Z"
   },
   {
    "duration": 664,
    "start_time": "2021-08-16T12:37:13.938Z"
   },
   {
    "duration": 683,
    "start_time": "2021-08-16T12:37:35.341Z"
   },
   {
    "duration": 1005,
    "start_time": "2021-08-16T12:37:49.957Z"
   },
   {
    "duration": 1236,
    "start_time": "2021-08-16T12:38:14.315Z"
   },
   {
    "duration": 813,
    "start_time": "2021-08-16T12:38:26.256Z"
   },
   {
    "duration": 675,
    "start_time": "2021-08-16T12:38:52.800Z"
   },
   {
    "duration": 720,
    "start_time": "2021-08-16T12:39:56.483Z"
   },
   {
    "duration": 689,
    "start_time": "2021-08-16T12:40:03.928Z"
   },
   {
    "duration": 934,
    "start_time": "2021-08-16T12:41:42.707Z"
   },
   {
    "duration": 868,
    "start_time": "2021-08-16T12:42:08.076Z"
   },
   {
    "duration": 1726,
    "start_time": "2021-08-16T12:42:19.928Z"
   },
   {
    "duration": 1556,
    "start_time": "2021-08-16T12:42:28.831Z"
   },
   {
    "duration": 1076,
    "start_time": "2021-08-16T12:49:03.248Z"
   },
   {
    "duration": 705,
    "start_time": "2021-08-16T12:49:17.380Z"
   },
   {
    "duration": 2010,
    "start_time": "2021-08-16T15:27:33.786Z"
   },
   {
    "duration": 610,
    "start_time": "2021-08-16T15:27:35.800Z"
   },
   {
    "duration": 53,
    "start_time": "2021-08-16T15:27:36.413Z"
   },
   {
    "duration": 51,
    "start_time": "2021-08-16T15:27:36.470Z"
   },
   {
    "duration": 61,
    "start_time": "2021-08-16T15:27:36.524Z"
   },
   {
    "duration": 24,
    "start_time": "2021-08-16T15:27:36.589Z"
   },
   {
    "duration": 63,
    "start_time": "2021-08-16T15:27:36.615Z"
   },
   {
    "duration": 61,
    "start_time": "2021-08-16T15:27:36.684Z"
   },
   {
    "duration": 33,
    "start_time": "2021-08-16T15:27:36.764Z"
   },
   {
    "duration": 27,
    "start_time": "2021-08-16T15:27:36.799Z"
   },
   {
    "duration": 195,
    "start_time": "2021-08-16T15:27:36.828Z"
   },
   {
    "duration": 82,
    "start_time": "2021-08-16T15:27:37.026Z"
   },
   {
    "duration": 4,
    "start_time": "2021-08-16T15:27:37.112Z"
   },
   {
    "duration": 17,
    "start_time": "2021-08-16T15:27:37.120Z"
   },
   {
    "duration": 469,
    "start_time": "2021-08-16T15:27:37.141Z"
   },
   {
    "duration": 23,
    "start_time": "2021-08-16T15:27:37.614Z"
   },
   {
    "duration": 30,
    "start_time": "2021-08-16T15:27:37.640Z"
   },
   {
    "duration": 32,
    "start_time": "2021-08-16T15:27:37.674Z"
   },
   {
    "duration": 25,
    "start_time": "2021-08-16T15:27:37.708Z"
   },
   {
    "duration": 44,
    "start_time": "2021-08-16T15:27:37.736Z"
   },
   {
    "duration": 4,
    "start_time": "2021-08-16T15:27:37.782Z"
   },
   {
    "duration": 90,
    "start_time": "2021-08-16T15:27:37.788Z"
   },
   {
    "duration": 73,
    "start_time": "2021-08-16T15:27:37.889Z"
   },
   {
    "duration": 641,
    "start_time": "2021-08-16T15:27:37.968Z"
   },
   {
    "duration": 10,
    "start_time": "2021-08-16T15:27:38.612Z"
   },
   {
    "duration": 48,
    "start_time": "2021-08-16T15:27:38.625Z"
   },
   {
    "duration": 17,
    "start_time": "2021-08-16T15:27:38.677Z"
   },
   {
    "duration": 27,
    "start_time": "2021-08-16T15:27:38.697Z"
   },
   {
    "duration": 48,
    "start_time": "2021-08-16T15:27:38.727Z"
   },
   {
    "duration": 24,
    "start_time": "2021-08-16T15:27:38.777Z"
   },
   {
    "duration": 112,
    "start_time": "2021-08-16T15:27:38.804Z"
   },
   {
    "duration": 13,
    "start_time": "2021-08-16T15:27:38.919Z"
   },
   {
    "duration": 34,
    "start_time": "2021-08-16T15:27:38.935Z"
   },
   {
    "duration": 12,
    "start_time": "2021-08-16T15:27:38.972Z"
   },
   {
    "duration": 23,
    "start_time": "2021-08-16T15:27:38.987Z"
   },
   {
    "duration": 78,
    "start_time": "2021-08-16T15:27:39.012Z"
   },
   {
    "duration": 33,
    "start_time": "2021-08-16T15:27:39.092Z"
   },
   {
    "duration": 46,
    "start_time": "2021-08-16T15:27:39.127Z"
   },
   {
    "duration": 5,
    "start_time": "2021-08-16T15:27:39.175Z"
   },
   {
    "duration": 6,
    "start_time": "2021-08-16T15:27:39.183Z"
   },
   {
    "duration": 73,
    "start_time": "2021-08-16T15:27:39.192Z"
   },
   {
    "duration": 15,
    "start_time": "2021-08-16T15:27:39.268Z"
   },
   {
    "duration": 18,
    "start_time": "2021-08-16T15:27:39.285Z"
   },
   {
    "duration": 12,
    "start_time": "2021-08-16T15:27:39.306Z"
   },
   {
    "duration": 52,
    "start_time": "2021-08-16T15:27:39.321Z"
   },
   {
    "duration": 23,
    "start_time": "2021-08-16T15:27:39.376Z"
   },
   {
    "duration": 8,
    "start_time": "2021-08-16T15:27:39.403Z"
   },
   {
    "duration": 22,
    "start_time": "2021-08-16T15:27:39.413Z"
   },
   {
    "duration": 1180,
    "start_time": "2021-08-16T15:27:39.438Z"
   },
   {
    "duration": 23,
    "start_time": "2021-08-16T15:27:40.621Z"
   },
   {
    "duration": 4,
    "start_time": "2021-08-16T15:27:40.663Z"
   },
   {
    "duration": 10,
    "start_time": "2021-08-16T15:27:40.670Z"
   },
   {
    "duration": 7,
    "start_time": "2021-08-16T15:27:40.683Z"
   },
   {
    "duration": 7,
    "start_time": "2021-08-16T15:27:40.693Z"
   },
   {
    "duration": 95,
    "start_time": "2021-08-16T15:27:40.703Z"
   },
   {
    "duration": 514,
    "start_time": "2021-08-16T15:27:40.801Z"
   },
   {
    "duration": 265,
    "start_time": "2021-08-16T15:27:41.318Z"
   },
   {
    "duration": 1278,
    "start_time": "2021-08-16T15:27:41.587Z"
   },
   {
    "duration": -363,
    "start_time": "2021-08-16T15:27:43.232Z"
   },
   {
    "duration": -365,
    "start_time": "2021-08-16T15:27:43.237Z"
   },
   {
    "duration": -368,
    "start_time": "2021-08-16T15:27:43.242Z"
   },
   {
    "duration": -373,
    "start_time": "2021-08-16T15:27:43.248Z"
   },
   {
    "duration": -375,
    "start_time": "2021-08-16T15:27:43.252Z"
   },
   {
    "duration": -376,
    "start_time": "2021-08-16T15:27:43.255Z"
   },
   {
    "duration": -379,
    "start_time": "2021-08-16T15:27:43.260Z"
   },
   {
    "duration": -381,
    "start_time": "2021-08-16T15:27:43.264Z"
   },
   {
    "duration": -383,
    "start_time": "2021-08-16T15:27:43.268Z"
   },
   {
    "duration": -384,
    "start_time": "2021-08-16T15:27:43.271Z"
   },
   {
    "duration": -386,
    "start_time": "2021-08-16T15:27:43.275Z"
   },
   {
    "duration": -387,
    "start_time": "2021-08-16T15:27:43.278Z"
   },
   {
    "duration": -391,
    "start_time": "2021-08-16T15:27:43.283Z"
   },
   {
    "duration": -394,
    "start_time": "2021-08-16T15:27:43.287Z"
   },
   {
    "duration": -396,
    "start_time": "2021-08-16T15:27:43.291Z"
   },
   {
    "duration": -398,
    "start_time": "2021-08-16T15:27:43.294Z"
   },
   {
    "duration": -402,
    "start_time": "2021-08-16T15:27:43.299Z"
   },
   {
    "duration": -403,
    "start_time": "2021-08-16T15:27:43.302Z"
   },
   {
    "duration": -405,
    "start_time": "2021-08-16T15:27:43.306Z"
   },
   {
    "duration": -413,
    "start_time": "2021-08-16T15:27:43.316Z"
   },
   {
    "duration": -359,
    "start_time": "2021-08-16T15:27:43.320Z"
   },
   {
    "duration": -361,
    "start_time": "2021-08-16T15:27:43.324Z"
   },
   {
    "duration": 21,
    "start_time": "2021-08-16T15:29:46.262Z"
   },
   {
    "duration": 728,
    "start_time": "2021-08-16T15:32:10.185Z"
   },
   {
    "duration": 1023,
    "start_time": "2021-08-16T15:32:17.408Z"
   },
   {
    "duration": 728,
    "start_time": "2021-08-16T15:32:26.319Z"
   },
   {
    "duration": 703,
    "start_time": "2021-08-16T15:34:24.411Z"
   },
   {
    "duration": 1221,
    "start_time": "2021-08-16T15:35:12.731Z"
   },
   {
    "duration": 750,
    "start_time": "2021-08-16T15:36:04.472Z"
   },
   {
    "duration": 1346,
    "start_time": "2021-08-16T15:36:23.949Z"
   },
   {
    "duration": 1330,
    "start_time": "2021-08-16T15:36:32.837Z"
   },
   {
    "duration": 1326,
    "start_time": "2021-08-16T15:36:47.639Z"
   },
   {
    "duration": 1375,
    "start_time": "2021-08-16T15:37:38.163Z"
   },
   {
    "duration": 1509,
    "start_time": "2021-08-16T15:38:41.376Z"
   },
   {
    "duration": 1991,
    "start_time": "2021-08-16T15:39:48.731Z"
   },
   {
    "duration": 1321,
    "start_time": "2021-08-16T15:40:13.645Z"
   },
   {
    "duration": 1417,
    "start_time": "2021-08-16T15:40:31.802Z"
   },
   {
    "duration": 1301,
    "start_time": "2021-08-16T15:40:47.941Z"
   },
   {
    "duration": 1522,
    "start_time": "2021-08-16T15:41:23.170Z"
   },
   {
    "duration": 1342,
    "start_time": "2021-08-16T15:41:41.003Z"
   },
   {
    "duration": 1930,
    "start_time": "2021-08-16T15:41:54.093Z"
   },
   {
    "duration": 1347,
    "start_time": "2021-08-16T15:42:06.975Z"
   },
   {
    "duration": 1346,
    "start_time": "2021-08-16T15:42:16.724Z"
   },
   {
    "duration": 2338,
    "start_time": "2021-08-16T15:43:28.513Z"
   },
   {
    "duration": 689,
    "start_time": "2021-08-16T15:45:51.813Z"
   },
   {
    "duration": 1577,
    "start_time": "2021-08-16T15:47:00.541Z"
   },
   {
    "duration": 1447,
    "start_time": "2021-08-16T15:48:11.969Z"
   },
   {
    "duration": 1387,
    "start_time": "2021-08-16T15:48:37.970Z"
   },
   {
    "duration": 3158,
    "start_time": "2021-08-16T15:50:04.058Z"
   },
   {
    "duration": 1341,
    "start_time": "2021-08-16T15:50:11.676Z"
   },
   {
    "duration": 1306,
    "start_time": "2021-08-16T15:50:17.608Z"
   },
   {
    "duration": 1827,
    "start_time": "2021-08-16T15:50:37.689Z"
   },
   {
    "duration": 1647,
    "start_time": "2021-08-16T15:50:43.884Z"
   },
   {
    "duration": 1388,
    "start_time": "2021-08-16T15:54:21.766Z"
   },
   {
    "duration": 1615,
    "start_time": "2021-08-16T15:54:32.950Z"
   },
   {
    "duration": 1526,
    "start_time": "2021-08-16T15:54:43.606Z"
   },
   {
    "duration": 1953,
    "start_time": "2021-08-16T15:58:39.683Z"
   },
   {
    "duration": 2548,
    "start_time": "2021-08-16T15:59:27.297Z"
   },
   {
    "duration": 1513,
    "start_time": "2021-08-16T15:59:53.469Z"
   },
   {
    "duration": 1336,
    "start_time": "2021-08-16T16:02:30.547Z"
   },
   {
    "duration": 1560,
    "start_time": "2021-08-16T16:02:45.210Z"
   },
   {
    "duration": 1745,
    "start_time": "2021-08-16T16:04:47.438Z"
   },
   {
    "duration": 1803,
    "start_time": "2021-08-16T16:05:00.577Z"
   },
   {
    "duration": 1957,
    "start_time": "2021-08-16T16:05:16.807Z"
   },
   {
    "duration": 1729,
    "start_time": "2021-08-16T16:05:50.047Z"
   },
   {
    "duration": 1776,
    "start_time": "2021-08-16T16:06:42.436Z"
   },
   {
    "duration": 1760,
    "start_time": "2021-08-16T16:07:03.302Z"
   },
   {
    "duration": 1747,
    "start_time": "2021-08-16T16:07:13.056Z"
   },
   {
    "duration": 1796,
    "start_time": "2021-08-16T16:07:31.679Z"
   },
   {
    "duration": 2091,
    "start_time": "2021-08-16T16:07:47.463Z"
   },
   {
    "duration": 91,
    "start_time": "2021-08-16T16:08:13.216Z"
   },
   {
    "duration": 2252,
    "start_time": "2021-08-16T16:08:22.167Z"
   },
   {
    "duration": 19,
    "start_time": "2021-08-16T16:09:07.817Z"
   },
   {
    "duration": 2428,
    "start_time": "2021-08-16T16:09:21.036Z"
   },
   {
    "duration": 4,
    "start_time": "2021-08-16T16:09:41.140Z"
   },
   {
    "duration": 3286,
    "start_time": "2021-08-16T16:10:44.976Z"
   },
   {
    "duration": 2138,
    "start_time": "2021-08-16T16:10:50.775Z"
   },
   {
    "duration": 2687,
    "start_time": "2021-08-16T16:12:18.623Z"
   },
   {
    "duration": 2240,
    "start_time": "2021-08-16T16:12:31.552Z"
   },
   {
    "duration": 2469,
    "start_time": "2021-08-16T16:13:50.544Z"
   },
   {
    "duration": 756,
    "start_time": "2021-08-16T16:20:19.554Z"
   },
   {
    "duration": 12,
    "start_time": "2021-08-16T16:23:24.392Z"
   },
   {
    "duration": 3203,
    "start_time": "2021-08-16T16:24:28.930Z"
   },
   {
    "duration": 12,
    "start_time": "2021-08-16T16:29:32.085Z"
   },
   {
    "duration": 2978,
    "start_time": "2021-08-16T16:29:37.094Z"
   },
   {
    "duration": 9,
    "start_time": "2021-08-16T16:31:58.010Z"
   },
   {
    "duration": 2142,
    "start_time": "2021-08-16T16:32:03.182Z"
   },
   {
    "duration": 9,
    "start_time": "2021-08-16T16:33:49.596Z"
   },
   {
    "duration": 2187,
    "start_time": "2021-08-16T16:33:56.722Z"
   },
   {
    "duration": 60,
    "start_time": "2021-08-16T16:34:24.752Z"
   },
   {
    "duration": 50,
    "start_time": "2021-08-16T16:35:02.704Z"
   },
   {
    "duration": 2172,
    "start_time": "2021-08-16T16:35:06.153Z"
   },
   {
    "duration": 2535,
    "start_time": "2021-08-16T16:37:03.135Z"
   },
   {
    "duration": 71,
    "start_time": "2021-08-16T16:37:24.460Z"
   },
   {
    "duration": 2574,
    "start_time": "2021-08-16T16:37:28.790Z"
   },
   {
    "duration": 2180,
    "start_time": "2021-08-16T16:37:44.826Z"
   },
   {
    "duration": 89,
    "start_time": "2021-08-16T16:46:24.847Z"
   },
   {
    "duration": 316,
    "start_time": "2021-08-16T16:46:34.299Z"
   },
   {
    "duration": 6679,
    "start_time": "2021-08-16T16:46:50.174Z"
   },
   {
    "duration": 6474,
    "start_time": "2021-08-16T16:47:29.493Z"
   },
   {
    "duration": 6601,
    "start_time": "2021-08-16T16:47:48.242Z"
   },
   {
    "duration": 589,
    "start_time": "2021-08-16T16:48:12.119Z"
   },
   {
    "duration": 526,
    "start_time": "2021-08-16T16:49:00.646Z"
   },
   {
    "duration": 490,
    "start_time": "2021-08-16T16:49:18.739Z"
   },
   {
    "duration": 11,
    "start_time": "2021-08-16T16:50:54.869Z"
   },
   {
    "duration": 10,
    "start_time": "2021-08-16T16:51:06.137Z"
   },
   {
    "duration": 11,
    "start_time": "2021-08-16T16:51:14.881Z"
   },
   {
    "duration": 10,
    "start_time": "2021-08-16T16:51:32.617Z"
   },
   {
    "duration": 10,
    "start_time": "2021-08-16T16:51:41.155Z"
   },
   {
    "duration": 517,
    "start_time": "2021-08-16T16:52:10.154Z"
   },
   {
    "duration": 511,
    "start_time": "2021-08-16T16:52:47.437Z"
   },
   {
    "duration": 522,
    "start_time": "2021-08-16T16:52:56.644Z"
   },
   {
    "duration": 526,
    "start_time": "2021-08-16T16:53:04.309Z"
   },
   {
    "duration": 2847,
    "start_time": "2021-08-16T16:55:56.074Z"
   },
   {
    "duration": 2602,
    "start_time": "2021-08-16T16:56:58.936Z"
   },
   {
    "duration": 2371,
    "start_time": "2021-08-16T16:57:49.239Z"
   },
   {
    "duration": 49,
    "start_time": "2021-08-16T16:59:56.551Z"
   },
   {
    "duration": 47,
    "start_time": "2021-08-16T17:00:10.458Z"
   },
   {
    "duration": 2208,
    "start_time": "2021-08-16T17:00:59.213Z"
   },
   {
    "duration": 1916,
    "start_time": "2021-08-16T17:02:28.429Z"
   },
   {
    "duration": 1799,
    "start_time": "2021-08-16T17:04:21.939Z"
   },
   {
    "duration": 1537,
    "start_time": "2021-08-16T17:11:51.005Z"
   },
   {
    "duration": 690,
    "start_time": "2021-08-16T17:11:52.545Z"
   },
   {
    "duration": 51,
    "start_time": "2021-08-16T17:11:53.238Z"
   },
   {
    "duration": 36,
    "start_time": "2021-08-16T17:11:53.294Z"
   },
   {
    "duration": 59,
    "start_time": "2021-08-16T17:11:53.332Z"
   },
   {
    "duration": 19,
    "start_time": "2021-08-16T17:11:53.393Z"
   },
   {
    "duration": 57,
    "start_time": "2021-08-16T17:11:53.414Z"
   },
   {
    "duration": 51,
    "start_time": "2021-08-16T17:11:53.473Z"
   },
   {
    "duration": 53,
    "start_time": "2021-08-16T17:11:53.529Z"
   },
   {
    "duration": 27,
    "start_time": "2021-08-16T17:11:53.586Z"
   },
   {
    "duration": 162,
    "start_time": "2021-08-16T17:11:53.616Z"
   },
   {
    "duration": 51,
    "start_time": "2021-08-16T17:11:53.780Z"
   },
   {
    "duration": 3,
    "start_time": "2021-08-16T17:11:53.833Z"
   },
   {
    "duration": 6,
    "start_time": "2021-08-16T17:11:53.863Z"
   },
   {
    "duration": 429,
    "start_time": "2021-08-16T17:11:53.871Z"
   },
   {
    "duration": 20,
    "start_time": "2021-08-16T17:11:54.304Z"
   },
   {
    "duration": 36,
    "start_time": "2021-08-16T17:11:54.326Z"
   },
   {
    "duration": 30,
    "start_time": "2021-08-16T17:11:54.365Z"
   },
   {
    "duration": 25,
    "start_time": "2021-08-16T17:11:54.397Z"
   },
   {
    "duration": 51,
    "start_time": "2021-08-16T17:11:54.426Z"
   },
   {
    "duration": 5,
    "start_time": "2021-08-16T17:11:54.481Z"
   },
   {
    "duration": 109,
    "start_time": "2021-08-16T17:11:54.489Z"
   },
   {
    "duration": 73,
    "start_time": "2021-08-16T17:11:54.601Z"
   },
   {
    "duration": 651,
    "start_time": "2021-08-16T17:11:54.677Z"
   },
   {
    "duration": 9,
    "start_time": "2021-08-16T17:11:55.330Z"
   },
   {
    "duration": 38,
    "start_time": "2021-08-16T17:11:55.341Z"
   },
   {
    "duration": 18,
    "start_time": "2021-08-16T17:11:55.386Z"
   },
   {
    "duration": 26,
    "start_time": "2021-08-16T17:11:55.408Z"
   },
   {
    "duration": 43,
    "start_time": "2021-08-16T17:11:55.436Z"
   },
   {
    "duration": 18,
    "start_time": "2021-08-16T17:11:55.481Z"
   },
   {
    "duration": 92,
    "start_time": "2021-08-16T17:11:55.502Z"
   },
   {
    "duration": 9,
    "start_time": "2021-08-16T17:11:55.597Z"
   },
   {
    "duration": 15,
    "start_time": "2021-08-16T17:11:55.608Z"
   },
   {
    "duration": 11,
    "start_time": "2021-08-16T17:11:55.625Z"
   },
   {
    "duration": 46,
    "start_time": "2021-08-16T17:11:55.638Z"
   },
   {
    "duration": 52,
    "start_time": "2021-08-16T17:11:55.687Z"
   },
   {
    "duration": 32,
    "start_time": "2021-08-16T17:11:55.763Z"
   },
   {
    "duration": 27,
    "start_time": "2021-08-16T17:11:55.798Z"
   },
   {
    "duration": 39,
    "start_time": "2021-08-16T17:11:55.828Z"
   },
   {
    "duration": 23,
    "start_time": "2021-08-16T17:11:55.871Z"
   },
   {
    "duration": 42,
    "start_time": "2021-08-16T17:11:55.896Z"
   },
   {
    "duration": 27,
    "start_time": "2021-08-16T17:11:55.941Z"
   },
   {
    "duration": 26,
    "start_time": "2021-08-16T17:11:55.972Z"
   },
   {
    "duration": 13,
    "start_time": "2021-08-16T17:11:56.001Z"
   },
   {
    "duration": 47,
    "start_time": "2021-08-16T17:11:56.016Z"
   },
   {
    "duration": 11,
    "start_time": "2021-08-16T17:11:56.066Z"
   },
   {
    "duration": 4,
    "start_time": "2021-08-16T17:11:56.080Z"
   },
   {
    "duration": 14,
    "start_time": "2021-08-16T17:11:56.087Z"
   },
   {
    "duration": 1136,
    "start_time": "2021-08-16T17:11:56.103Z"
   },
   {
    "duration": 32,
    "start_time": "2021-08-16T17:11:57.242Z"
   },
   {
    "duration": 4,
    "start_time": "2021-08-16T17:11:57.277Z"
   },
   {
    "duration": 11,
    "start_time": "2021-08-16T17:11:57.284Z"
   },
   {
    "duration": 10,
    "start_time": "2021-08-16T17:11:57.298Z"
   },
   {
    "duration": 9,
    "start_time": "2021-08-16T17:11:57.311Z"
   },
   {
    "duration": 100,
    "start_time": "2021-08-16T17:11:57.323Z"
   },
   {
    "duration": 1741,
    "start_time": "2021-08-16T17:11:57.427Z"
   },
   {
    "duration": 1650,
    "start_time": "2021-08-16T17:11:59.171Z"
   },
   {
    "duration": 1356,
    "start_time": "2021-08-16T17:12:00.823Z"
   },
   {
    "duration": 10,
    "start_time": "2021-08-16T17:12:02.183Z"
   },
   {
    "duration": 29,
    "start_time": "2021-08-16T17:12:02.196Z"
   },
   {
    "duration": 23,
    "start_time": "2021-08-16T17:12:02.228Z"
   },
   {
    "duration": 38,
    "start_time": "2021-08-16T17:12:02.254Z"
   },
   {
    "duration": 33,
    "start_time": "2021-08-16T17:12:02.296Z"
   },
   {
    "duration": 19,
    "start_time": "2021-08-16T17:12:02.332Z"
   },
   {
    "duration": 20,
    "start_time": "2021-08-16T17:12:02.354Z"
   },
   {
    "duration": 32,
    "start_time": "2021-08-16T17:12:02.377Z"
   },
   {
    "duration": 29,
    "start_time": "2021-08-16T17:12:02.412Z"
   },
   {
    "duration": 14,
    "start_time": "2021-08-16T17:12:02.444Z"
   },
   {
    "duration": 50,
    "start_time": "2021-08-16T17:12:02.461Z"
   },
   {
    "duration": 22,
    "start_time": "2021-08-16T17:14:57.382Z"
   },
   {
    "duration": 19,
    "start_time": "2021-08-16T17:14:58.662Z"
   },
   {
    "duration": 377,
    "start_time": "2021-08-16T17:27:24.553Z"
   },
   {
    "duration": 7,
    "start_time": "2021-08-16T17:27:43.793Z"
   },
   {
    "duration": 7,
    "start_time": "2021-08-16T17:30:53.773Z"
   },
   {
    "duration": 6,
    "start_time": "2021-08-16T17:31:04.219Z"
   },
   {
    "duration": 8,
    "start_time": "2021-08-16T17:31:25.816Z"
   },
   {
    "duration": 7,
    "start_time": "2021-08-16T17:32:43.155Z"
   },
   {
    "duration": 8,
    "start_time": "2021-08-16T17:38:54.786Z"
   },
   {
    "duration": 7,
    "start_time": "2021-08-16T17:40:16.213Z"
   },
   {
    "duration": 1516,
    "start_time": "2021-08-16T17:42:29.727Z"
   },
   {
    "duration": 584,
    "start_time": "2021-08-16T17:42:31.246Z"
   },
   {
    "duration": 51,
    "start_time": "2021-08-16T17:42:31.834Z"
   },
   {
    "duration": 37,
    "start_time": "2021-08-16T17:42:31.889Z"
   },
   {
    "duration": 62,
    "start_time": "2021-08-16T17:42:31.928Z"
   },
   {
    "duration": 18,
    "start_time": "2021-08-16T17:42:31.993Z"
   },
   {
    "duration": 54,
    "start_time": "2021-08-16T17:42:32.013Z"
   },
   {
    "duration": 50,
    "start_time": "2021-08-16T17:42:32.071Z"
   },
   {
    "duration": 58,
    "start_time": "2021-08-16T17:42:32.124Z"
   },
   {
    "duration": 27,
    "start_time": "2021-08-16T17:42:32.184Z"
   },
   {
    "duration": 160,
    "start_time": "2021-08-16T17:42:32.213Z"
   },
   {
    "duration": 86,
    "start_time": "2021-08-16T17:42:32.376Z"
   },
   {
    "duration": 4,
    "start_time": "2021-08-16T17:42:32.465Z"
   },
   {
    "duration": 13,
    "start_time": "2021-08-16T17:42:32.472Z"
   },
   {
    "duration": 634,
    "start_time": "2021-08-16T17:42:32.487Z"
   },
   {
    "duration": 42,
    "start_time": "2021-08-16T17:42:33.124Z"
   },
   {
    "duration": 18,
    "start_time": "2021-08-16T17:42:33.169Z"
   },
   {
    "duration": 32,
    "start_time": "2021-08-16T17:42:33.189Z"
   },
   {
    "duration": 55,
    "start_time": "2021-08-16T17:42:33.224Z"
   },
   {
    "duration": 23,
    "start_time": "2021-08-16T17:42:33.281Z"
   },
   {
    "duration": 6,
    "start_time": "2021-08-16T17:42:33.307Z"
   },
   {
    "duration": 96,
    "start_time": "2021-08-16T17:42:33.316Z"
   },
   {
    "duration": 61,
    "start_time": "2021-08-16T17:42:33.420Z"
   },
   {
    "duration": 409,
    "start_time": "2021-08-16T17:42:33.492Z"
   },
   {
    "duration": 10,
    "start_time": "2021-08-16T17:42:33.904Z"
   },
   {
    "duration": 54,
    "start_time": "2021-08-16T17:42:33.916Z"
   },
   {
    "duration": 18,
    "start_time": "2021-08-16T17:42:33.973Z"
   },
   {
    "duration": 29,
    "start_time": "2021-08-16T17:42:33.994Z"
   },
   {
    "duration": 50,
    "start_time": "2021-08-16T17:42:34.026Z"
   },
   {
    "duration": 25,
    "start_time": "2021-08-16T17:42:34.079Z"
   },
   {
    "duration": 109,
    "start_time": "2021-08-16T17:42:34.107Z"
   },
   {
    "duration": 13,
    "start_time": "2021-08-16T17:42:34.219Z"
   },
   {
    "duration": 33,
    "start_time": "2021-08-16T17:42:34.235Z"
   },
   {
    "duration": 11,
    "start_time": "2021-08-16T17:42:34.271Z"
   },
   {
    "duration": 22,
    "start_time": "2021-08-16T17:42:34.284Z"
   },
   {
    "duration": 83,
    "start_time": "2021-08-16T17:42:34.308Z"
   },
   {
    "duration": 30,
    "start_time": "2021-08-16T17:42:34.394Z"
   },
   {
    "duration": 52,
    "start_time": "2021-08-16T17:42:34.427Z"
   },
   {
    "duration": 5,
    "start_time": "2021-08-16T17:42:34.482Z"
   },
   {
    "duration": 6,
    "start_time": "2021-08-16T17:42:34.491Z"
   },
   {
    "duration": 82,
    "start_time": "2021-08-16T17:42:34.500Z"
   },
   {
    "duration": 17,
    "start_time": "2021-08-16T17:42:34.585Z"
   },
   {
    "duration": 24,
    "start_time": "2021-08-16T17:42:34.604Z"
   },
   {
    "duration": 36,
    "start_time": "2021-08-16T17:42:34.630Z"
   },
   {
    "duration": 11,
    "start_time": "2021-08-16T17:42:34.669Z"
   },
   {
    "duration": 12,
    "start_time": "2021-08-16T17:42:34.683Z"
   },
   {
    "duration": 5,
    "start_time": "2021-08-16T17:42:34.698Z"
   },
   {
    "duration": 6,
    "start_time": "2021-08-16T17:42:34.706Z"
   },
   {
    "duration": 708,
    "start_time": "2021-08-16T17:42:34.715Z"
   },
   {
    "duration": 18,
    "start_time": "2021-08-16T17:42:35.426Z"
   },
   {
    "duration": 17,
    "start_time": "2021-08-16T17:42:35.446Z"
   },
   {
    "duration": 12,
    "start_time": "2021-08-16T17:42:35.465Z"
   },
   {
    "duration": 11,
    "start_time": "2021-08-16T17:42:35.480Z"
   },
   {
    "duration": 6,
    "start_time": "2021-08-16T17:42:35.493Z"
   },
   {
    "duration": 85,
    "start_time": "2021-08-16T17:42:35.502Z"
   },
   {
    "duration": 1676,
    "start_time": "2021-08-16T17:42:35.589Z"
   },
   {
    "duration": 1658,
    "start_time": "2021-08-16T17:42:37.268Z"
   },
   {
    "duration": 1482,
    "start_time": "2021-08-16T17:42:38.929Z"
   },
   {
    "duration": 8,
    "start_time": "2021-08-16T17:42:40.413Z"
   },
   {
    "duration": 7,
    "start_time": "2021-08-16T17:42:40.424Z"
   },
   {
    "duration": 30,
    "start_time": "2021-08-16T17:42:40.434Z"
   },
   {
    "duration": 12,
    "start_time": "2021-08-16T17:42:40.466Z"
   },
   {
    "duration": 9,
    "start_time": "2021-08-16T17:42:40.481Z"
   },
   {
    "duration": 13,
    "start_time": "2021-08-16T17:42:40.493Z"
   },
   {
    "duration": 56,
    "start_time": "2021-08-16T17:42:40.509Z"
   },
   {
    "duration": 9,
    "start_time": "2021-08-16T17:42:40.568Z"
   },
   {
    "duration": 25,
    "start_time": "2021-08-16T17:42:40.580Z"
   },
   {
    "duration": 8,
    "start_time": "2021-08-16T17:42:40.616Z"
   },
   {
    "duration": 51,
    "start_time": "2021-08-16T17:42:40.628Z"
   },
   {
    "duration": 88,
    "start_time": "2021-08-16T17:42:40.682Z"
   },
   {
    "duration": 10,
    "start_time": "2021-08-16T17:46:44.564Z"
   },
   {
    "duration": 1695,
    "start_time": "2021-08-16T17:46:56.273Z"
   },
   {
    "duration": 1529,
    "start_time": "2021-08-16T17:47:13.874Z"
   },
   {
    "duration": 1419,
    "start_time": "2021-08-16T17:47:28.099Z"
   },
   {
    "duration": 1556,
    "start_time": "2021-08-16T17:48:48.836Z"
   },
   {
    "duration": 572,
    "start_time": "2021-08-16T17:48:50.395Z"
   },
   {
    "duration": 48,
    "start_time": "2021-08-16T17:48:50.970Z"
   },
   {
    "duration": 60,
    "start_time": "2021-08-16T17:48:51.021Z"
   },
   {
    "duration": 31,
    "start_time": "2021-08-16T17:48:51.083Z"
   },
   {
    "duration": 46,
    "start_time": "2021-08-16T17:48:51.116Z"
   },
   {
    "duration": 22,
    "start_time": "2021-08-16T17:48:51.164Z"
   },
   {
    "duration": 104,
    "start_time": "2021-08-16T17:48:51.191Z"
   },
   {
    "duration": 40,
    "start_time": "2021-08-16T17:48:51.299Z"
   },
   {
    "duration": 46,
    "start_time": "2021-08-16T17:48:51.342Z"
   },
   {
    "duration": 153,
    "start_time": "2021-08-16T17:48:51.391Z"
   },
   {
    "duration": 54,
    "start_time": "2021-08-16T17:48:51.547Z"
   },
   {
    "duration": 3,
    "start_time": "2021-08-16T17:48:51.604Z"
   },
   {
    "duration": 9,
    "start_time": "2021-08-16T17:48:51.610Z"
   },
   {
    "duration": 470,
    "start_time": "2021-08-16T17:48:51.622Z"
   },
   {
    "duration": 21,
    "start_time": "2021-08-16T17:48:52.094Z"
   },
   {
    "duration": 16,
    "start_time": "2021-08-16T17:48:52.117Z"
   },
   {
    "duration": 56,
    "start_time": "2021-08-16T17:48:52.135Z"
   },
   {
    "duration": 25,
    "start_time": "2021-08-16T17:48:52.193Z"
   },
   {
    "duration": 49,
    "start_time": "2021-08-16T17:48:52.220Z"
   },
   {
    "duration": 3,
    "start_time": "2021-08-16T17:48:52.271Z"
   },
   {
    "duration": 95,
    "start_time": "2021-08-16T17:48:52.277Z"
   },
   {
    "duration": 40,
    "start_time": "2021-08-16T17:48:52.378Z"
   },
   {
    "duration": 452,
    "start_time": "2021-08-16T17:48:52.422Z"
   },
   {
    "duration": 7,
    "start_time": "2021-08-16T17:48:52.877Z"
   },
   {
    "duration": 42,
    "start_time": "2021-08-16T17:48:52.887Z"
   },
   {
    "duration": 34,
    "start_time": "2021-08-16T17:48:52.932Z"
   },
   {
    "duration": 25,
    "start_time": "2021-08-16T17:48:52.969Z"
   },
   {
    "duration": 21,
    "start_time": "2021-08-16T17:48:52.997Z"
   },
   {
    "duration": 44,
    "start_time": "2021-08-16T17:48:53.020Z"
   },
   {
    "duration": 54,
    "start_time": "2021-08-16T17:48:53.067Z"
   },
   {
    "duration": 9,
    "start_time": "2021-08-16T17:48:53.123Z"
   },
   {
    "duration": 10,
    "start_time": "2021-08-16T17:48:53.163Z"
   },
   {
    "duration": 23,
    "start_time": "2021-08-16T17:48:53.176Z"
   },
   {
    "duration": 29,
    "start_time": "2021-08-16T17:48:53.202Z"
   },
   {
    "duration": 59,
    "start_time": "2021-08-16T17:48:53.234Z"
   },
   {
    "duration": 30,
    "start_time": "2021-08-16T17:48:53.295Z"
   },
   {
    "duration": 48,
    "start_time": "2021-08-16T17:48:53.328Z"
   },
   {
    "duration": 5,
    "start_time": "2021-08-16T17:48:53.378Z"
   },
   {
    "duration": 9,
    "start_time": "2021-08-16T17:48:53.386Z"
   },
   {
    "duration": 51,
    "start_time": "2021-08-16T17:48:53.397Z"
   },
   {
    "duration": 17,
    "start_time": "2021-08-16T17:48:53.450Z"
   },
   {
    "duration": 26,
    "start_time": "2021-08-16T17:48:53.469Z"
   },
   {
    "duration": 9,
    "start_time": "2021-08-16T17:48:53.497Z"
   },
   {
    "duration": 12,
    "start_time": "2021-08-16T17:48:53.508Z"
   },
   {
    "duration": 9,
    "start_time": "2021-08-16T17:48:53.562Z"
   },
   {
    "duration": 3,
    "start_time": "2021-08-16T17:48:53.574Z"
   },
   {
    "duration": 10,
    "start_time": "2021-08-16T17:48:53.580Z"
   },
   {
    "duration": 666,
    "start_time": "2021-08-16T17:48:53.592Z"
   },
   {
    "duration": 17,
    "start_time": "2021-08-16T17:48:54.262Z"
   },
   {
    "duration": 5,
    "start_time": "2021-08-16T17:48:54.281Z"
   },
   {
    "duration": 9,
    "start_time": "2021-08-16T17:48:54.288Z"
   },
   {
    "duration": 17,
    "start_time": "2021-08-16T17:48:54.299Z"
   },
   {
    "duration": 5,
    "start_time": "2021-08-16T17:48:54.319Z"
   },
   {
    "duration": 53,
    "start_time": "2021-08-16T17:48:54.363Z"
   },
   {
    "duration": 1855,
    "start_time": "2021-08-16T17:48:54.418Z"
   },
   {
    "duration": 1636,
    "start_time": "2021-08-16T17:48:56.276Z"
   },
   {
    "duration": 1402,
    "start_time": "2021-08-16T17:48:57.915Z"
   },
   {
    "duration": 7,
    "start_time": "2021-08-16T17:48:59.320Z"
   },
   {
    "duration": 6,
    "start_time": "2021-08-16T17:48:59.329Z"
   },
   {
    "duration": 27,
    "start_time": "2021-08-16T17:48:59.338Z"
   },
   {
    "duration": 19,
    "start_time": "2021-08-16T17:48:59.368Z"
   },
   {
    "duration": 9,
    "start_time": "2021-08-16T17:48:59.389Z"
   },
   {
    "duration": 6,
    "start_time": "2021-08-16T17:48:59.401Z"
   },
   {
    "duration": 7,
    "start_time": "2021-08-16T17:48:59.410Z"
   },
   {
    "duration": 45,
    "start_time": "2021-08-16T17:48:59.421Z"
   },
   {
    "duration": 29,
    "start_time": "2021-08-16T17:48:59.469Z"
   },
   {
    "duration": 7,
    "start_time": "2021-08-16T17:48:59.506Z"
   },
   {
    "duration": 9,
    "start_time": "2021-08-16T17:48:59.516Z"
   },
   {
    "duration": 46,
    "start_time": "2021-08-16T17:48:59.562Z"
   },
   {
    "duration": 1649,
    "start_time": "2021-08-16T17:58:23.597Z"
   },
   {
    "duration": 583,
    "start_time": "2021-08-16T17:58:25.248Z"
   },
   {
    "duration": 50,
    "start_time": "2021-08-16T17:58:25.834Z"
   },
   {
    "duration": 37,
    "start_time": "2021-08-16T17:58:25.887Z"
   },
   {
    "duration": 57,
    "start_time": "2021-08-16T17:58:25.927Z"
   },
   {
    "duration": 18,
    "start_time": "2021-08-16T17:58:25.986Z"
   },
   {
    "duration": 56,
    "start_time": "2021-08-16T17:58:26.006Z"
   },
   {
    "duration": 45,
    "start_time": "2021-08-16T17:58:26.066Z"
   },
   {
    "duration": 60,
    "start_time": "2021-08-16T17:58:26.114Z"
   },
   {
    "duration": 34,
    "start_time": "2021-08-16T17:58:26.177Z"
   },
   {
    "duration": 156,
    "start_time": "2021-08-16T17:58:26.214Z"
   },
   {
    "duration": 48,
    "start_time": "2021-08-16T17:58:26.372Z"
   },
   {
    "duration": 3,
    "start_time": "2021-08-16T17:58:26.422Z"
   },
   {
    "duration": 36,
    "start_time": "2021-08-16T17:58:26.427Z"
   },
   {
    "duration": 426,
    "start_time": "2021-08-16T17:58:26.465Z"
   },
   {
    "duration": 21,
    "start_time": "2021-08-16T17:58:26.894Z"
   },
   {
    "duration": 46,
    "start_time": "2021-08-16T17:58:26.918Z"
   },
   {
    "duration": 32,
    "start_time": "2021-08-16T17:58:26.967Z"
   },
   {
    "duration": 31,
    "start_time": "2021-08-16T17:58:27.002Z"
   },
   {
    "duration": 26,
    "start_time": "2021-08-16T17:58:27.061Z"
   },
   {
    "duration": 4,
    "start_time": "2021-08-16T17:58:27.091Z"
   },
   {
    "duration": 108,
    "start_time": "2021-08-16T17:58:27.098Z"
   },
   {
    "duration": 66,
    "start_time": "2021-08-16T17:58:27.215Z"
   },
   {
    "duration": 442,
    "start_time": "2021-08-16T17:58:27.286Z"
   },
   {
    "duration": 8,
    "start_time": "2021-08-16T17:58:27.730Z"
   },
   {
    "duration": 38,
    "start_time": "2021-08-16T17:58:27.740Z"
   },
   {
    "duration": 20,
    "start_time": "2021-08-16T17:58:27.780Z"
   },
   {
    "duration": 59,
    "start_time": "2021-08-16T17:58:27.803Z"
   },
   {
    "duration": 22,
    "start_time": "2021-08-16T17:58:27.864Z"
   },
   {
    "duration": 16,
    "start_time": "2021-08-16T17:58:27.888Z"
   },
   {
    "duration": 89,
    "start_time": "2021-08-16T17:58:27.907Z"
   },
   {
    "duration": 10,
    "start_time": "2021-08-16T17:58:27.998Z"
   },
   {
    "duration": 15,
    "start_time": "2021-08-16T17:58:28.010Z"
   },
   {
    "duration": 36,
    "start_time": "2021-08-16T17:58:28.028Z"
   },
   {
    "duration": 26,
    "start_time": "2021-08-16T17:58:28.067Z"
   },
   {
    "duration": 78,
    "start_time": "2021-08-16T17:58:28.096Z"
   },
   {
    "duration": 34,
    "start_time": "2021-08-16T17:58:28.177Z"
   },
   {
    "duration": 55,
    "start_time": "2021-08-16T17:58:28.214Z"
   },
   {
    "duration": 6,
    "start_time": "2021-08-16T17:58:28.271Z"
   },
   {
    "duration": 9,
    "start_time": "2021-08-16T17:58:28.279Z"
   },
   {
    "duration": 35,
    "start_time": "2021-08-16T17:58:28.290Z"
   },
   {
    "duration": 42,
    "start_time": "2021-08-16T17:58:28.327Z"
   },
   {
    "duration": 25,
    "start_time": "2021-08-16T17:58:28.372Z"
   },
   {
    "duration": 9,
    "start_time": "2021-08-16T17:58:28.399Z"
   },
   {
    "duration": 16,
    "start_time": "2021-08-16T17:58:28.410Z"
   },
   {
    "duration": 57,
    "start_time": "2021-08-16T17:58:28.429Z"
   },
   {
    "duration": 3,
    "start_time": "2021-08-16T17:58:28.488Z"
   },
   {
    "duration": 9,
    "start_time": "2021-08-16T17:58:28.493Z"
   },
   {
    "duration": 658,
    "start_time": "2021-08-16T17:58:28.505Z"
   },
   {
    "duration": 16,
    "start_time": "2021-08-16T17:58:29.166Z"
   },
   {
    "duration": 4,
    "start_time": "2021-08-16T17:58:29.185Z"
   },
   {
    "duration": 12,
    "start_time": "2021-08-16T17:58:29.191Z"
   },
   {
    "duration": 14,
    "start_time": "2021-08-16T17:58:29.205Z"
   },
   {
    "duration": 8,
    "start_time": "2021-08-16T17:58:29.221Z"
   },
   {
    "duration": 86,
    "start_time": "2021-08-16T17:58:29.232Z"
   },
   {
    "duration": 2549,
    "start_time": "2021-08-16T17:58:29.321Z"
   },
   {
    "duration": 1620,
    "start_time": "2021-08-16T17:58:31.873Z"
   },
   {
    "duration": 1398,
    "start_time": "2021-08-16T17:58:33.496Z"
   },
   {
    "duration": 7,
    "start_time": "2021-08-16T17:58:34.896Z"
   },
   {
    "duration": 14,
    "start_time": "2021-08-16T17:58:34.906Z"
   },
   {
    "duration": 10,
    "start_time": "2021-08-16T17:58:34.923Z"
   },
   {
    "duration": 30,
    "start_time": "2021-08-16T17:58:34.936Z"
   },
   {
    "duration": 16,
    "start_time": "2021-08-16T17:58:34.969Z"
   },
   {
    "duration": 7,
    "start_time": "2021-08-16T17:58:34.988Z"
   },
   {
    "duration": 14,
    "start_time": "2021-08-16T17:58:34.997Z"
   },
   {
    "duration": 14,
    "start_time": "2021-08-16T17:58:35.013Z"
   },
   {
    "duration": 38,
    "start_time": "2021-08-16T17:58:35.063Z"
   },
   {
    "duration": 8,
    "start_time": "2021-08-16T17:58:35.112Z"
   },
   {
    "duration": 42,
    "start_time": "2021-08-16T17:58:35.124Z"
   },
   {
    "duration": 60,
    "start_time": "2021-08-16T17:58:35.169Z"
   },
   {
    "duration": 1411,
    "start_time": "2021-08-16T18:01:32.239Z"
   },
   {
    "duration": 542,
    "start_time": "2021-08-16T18:01:33.652Z"
   },
   {
    "duration": 47,
    "start_time": "2021-08-16T18:01:34.201Z"
   },
   {
    "duration": 38,
    "start_time": "2021-08-16T18:01:34.251Z"
   },
   {
    "duration": 30,
    "start_time": "2021-08-16T18:01:34.292Z"
   },
   {
    "duration": 40,
    "start_time": "2021-08-16T18:01:34.324Z"
   },
   {
    "duration": 21,
    "start_time": "2021-08-16T18:01:34.369Z"
   },
   {
    "duration": 79,
    "start_time": "2021-08-16T18:01:34.393Z"
   },
   {
    "duration": 35,
    "start_time": "2021-08-16T18:01:34.474Z"
   },
   {
    "duration": 29,
    "start_time": "2021-08-16T18:01:34.512Z"
   },
   {
    "duration": 139,
    "start_time": "2021-08-16T18:01:34.562Z"
   },
   {
    "duration": 59,
    "start_time": "2021-08-16T18:01:34.704Z"
   },
   {
    "duration": 3,
    "start_time": "2021-08-16T18:01:34.765Z"
   },
   {
    "duration": 14,
    "start_time": "2021-08-16T18:01:34.770Z"
   },
   {
    "duration": 408,
    "start_time": "2021-08-16T18:01:34.786Z"
   },
   {
    "duration": 22,
    "start_time": "2021-08-16T18:01:35.196Z"
   },
   {
    "duration": 43,
    "start_time": "2021-08-16T18:01:35.221Z"
   },
   {
    "duration": 50,
    "start_time": "2021-08-16T18:01:35.267Z"
   },
   {
    "duration": 47,
    "start_time": "2021-08-16T18:01:35.320Z"
   },
   {
    "duration": 29,
    "start_time": "2021-08-16T18:01:35.370Z"
   },
   {
    "duration": 4,
    "start_time": "2021-08-16T18:01:35.402Z"
   },
   {
    "duration": 110,
    "start_time": "2021-08-16T18:01:35.417Z"
   },
   {
    "duration": 70,
    "start_time": "2021-08-16T18:01:35.533Z"
   },
   {
    "duration": 626,
    "start_time": "2021-08-16T18:01:35.606Z"
   },
   {
    "duration": 26,
    "start_time": "2021-08-16T18:01:36.235Z"
   },
   {
    "duration": 36,
    "start_time": "2021-08-16T18:01:36.264Z"
   },
   {
    "duration": 26,
    "start_time": "2021-08-16T18:01:36.303Z"
   },
   {
    "duration": 60,
    "start_time": "2021-08-16T18:01:36.333Z"
   },
   {
    "duration": 25,
    "start_time": "2021-08-16T18:01:36.397Z"
   },
   {
    "duration": 49,
    "start_time": "2021-08-16T18:01:36.425Z"
   },
   {
    "duration": 87,
    "start_time": "2021-08-16T18:01:36.477Z"
   },
   {
    "duration": 13,
    "start_time": "2021-08-16T18:01:36.567Z"
   },
   {
    "duration": 15,
    "start_time": "2021-08-16T18:01:36.583Z"
   },
   {
    "duration": 12,
    "start_time": "2021-08-16T18:01:36.601Z"
   },
   {
    "duration": 77,
    "start_time": "2021-08-16T18:01:36.616Z"
   },
   {
    "duration": 40,
    "start_time": "2021-08-16T18:01:36.695Z"
   },
   {
    "duration": 39,
    "start_time": "2021-08-16T18:01:36.737Z"
   },
   {
    "duration": 24,
    "start_time": "2021-08-16T18:01:36.778Z"
   },
   {
    "duration": 5,
    "start_time": "2021-08-16T18:01:36.804Z"
   },
   {
    "duration": 8,
    "start_time": "2021-08-16T18:01:36.811Z"
   },
   {
    "duration": 67,
    "start_time": "2021-08-16T18:01:36.822Z"
   },
   {
    "duration": 12,
    "start_time": "2021-08-16T18:01:36.892Z"
   },
   {
    "duration": 24,
    "start_time": "2021-08-16T18:01:36.907Z"
   },
   {
    "duration": 30,
    "start_time": "2021-08-16T18:01:36.934Z"
   },
   {
    "duration": 18,
    "start_time": "2021-08-16T18:01:36.967Z"
   },
   {
    "duration": 14,
    "start_time": "2021-08-16T18:01:36.988Z"
   },
   {
    "duration": 8,
    "start_time": "2021-08-16T18:01:37.004Z"
   },
   {
    "duration": 10,
    "start_time": "2021-08-16T18:01:37.014Z"
   },
   {
    "duration": 692,
    "start_time": "2021-08-16T18:01:37.027Z"
   },
   {
    "duration": 17,
    "start_time": "2021-08-16T18:01:37.722Z"
   },
   {
    "duration": 20,
    "start_time": "2021-08-16T18:01:37.741Z"
   },
   {
    "duration": 9,
    "start_time": "2021-08-16T18:01:37.764Z"
   },
   {
    "duration": 9,
    "start_time": "2021-08-16T18:01:37.776Z"
   },
   {
    "duration": 6,
    "start_time": "2021-08-16T18:01:37.788Z"
   },
   {
    "duration": 74,
    "start_time": "2021-08-16T18:01:37.796Z"
   },
   {
    "duration": 1674,
    "start_time": "2021-08-16T18:01:37.873Z"
   },
   {
    "duration": 1543,
    "start_time": "2021-08-16T18:01:39.550Z"
   },
   {
    "duration": 1401,
    "start_time": "2021-08-16T18:01:41.096Z"
   },
   {
    "duration": 9,
    "start_time": "2021-08-16T18:01:42.500Z"
   },
   {
    "duration": 8,
    "start_time": "2021-08-16T18:01:42.512Z"
   },
   {
    "duration": 28,
    "start_time": "2021-08-16T18:01:42.522Z"
   },
   {
    "duration": 11,
    "start_time": "2021-08-16T18:01:42.553Z"
   },
   {
    "duration": 8,
    "start_time": "2021-08-16T18:01:42.567Z"
   },
   {
    "duration": 9,
    "start_time": "2021-08-16T18:01:42.577Z"
   },
   {
    "duration": 7,
    "start_time": "2021-08-16T18:01:42.589Z"
   },
   {
    "duration": 10,
    "start_time": "2021-08-16T18:01:42.599Z"
   },
   {
    "duration": 28,
    "start_time": "2021-08-16T18:01:42.661Z"
   },
   {
    "duration": 8,
    "start_time": "2021-08-16T18:01:42.693Z"
   },
   {
    "duration": 14,
    "start_time": "2021-08-16T18:01:42.704Z"
   },
   {
    "duration": 68,
    "start_time": "2021-08-16T18:01:42.721Z"
   },
   {
    "duration": 1506,
    "start_time": "2021-08-16T20:41:34.794Z"
   },
   {
    "duration": 591,
    "start_time": "2021-08-16T20:41:36.304Z"
   },
   {
    "duration": 47,
    "start_time": "2021-08-16T20:41:36.898Z"
   },
   {
    "duration": 36,
    "start_time": "2021-08-16T20:41:36.948Z"
   },
   {
    "duration": 31,
    "start_time": "2021-08-16T20:41:37.000Z"
   },
   {
    "duration": 17,
    "start_time": "2021-08-16T20:41:37.034Z"
   },
   {
    "duration": 61,
    "start_time": "2021-08-16T20:41:37.053Z"
   },
   {
    "duration": 44,
    "start_time": "2021-08-16T20:41:37.119Z"
   },
   {
    "duration": 53,
    "start_time": "2021-08-16T20:41:37.166Z"
   },
   {
    "duration": 25,
    "start_time": "2021-08-16T20:41:37.222Z"
   },
   {
    "duration": 149,
    "start_time": "2021-08-16T20:41:37.250Z"
   },
   {
    "duration": 51,
    "start_time": "2021-08-16T20:41:37.402Z"
   },
   {
    "duration": 4,
    "start_time": "2021-08-16T20:41:37.456Z"
   },
   {
    "duration": 38,
    "start_time": "2021-08-16T20:41:37.463Z"
   },
   {
    "duration": 437,
    "start_time": "2021-08-16T20:41:37.504Z"
   },
   {
    "duration": 21,
    "start_time": "2021-08-16T20:41:37.944Z"
   },
   {
    "duration": 42,
    "start_time": "2021-08-16T20:41:37.968Z"
   },
   {
    "duration": 30,
    "start_time": "2021-08-16T20:41:38.013Z"
   },
   {
    "duration": 54,
    "start_time": "2021-08-16T20:41:38.046Z"
   },
   {
    "duration": 21,
    "start_time": "2021-08-16T20:41:38.103Z"
   },
   {
    "duration": 4,
    "start_time": "2021-08-16T20:41:38.127Z"
   },
   {
    "duration": 95,
    "start_time": "2021-08-16T20:41:38.134Z"
   },
   {
    "duration": 40,
    "start_time": "2021-08-16T20:41:38.236Z"
   },
   {
    "duration": 437,
    "start_time": "2021-08-16T20:41:38.280Z"
   },
   {
    "duration": 8,
    "start_time": "2021-08-16T20:41:38.719Z"
   },
   {
    "duration": 25,
    "start_time": "2021-08-16T20:41:38.730Z"
   },
   {
    "duration": 46,
    "start_time": "2021-08-16T20:41:38.758Z"
   },
   {
    "duration": 24,
    "start_time": "2021-08-16T20:41:38.807Z"
   },
   {
    "duration": 22,
    "start_time": "2021-08-16T20:41:38.834Z"
   },
   {
    "duration": 16,
    "start_time": "2021-08-16T20:41:38.858Z"
   },
   {
    "duration": 48,
    "start_time": "2021-08-16T20:41:38.902Z"
   },
   {
    "duration": 9,
    "start_time": "2021-08-16T20:41:38.953Z"
   },
   {
    "duration": 36,
    "start_time": "2021-08-16T20:41:38.964Z"
   },
   {
    "duration": 9,
    "start_time": "2021-08-16T20:41:39.003Z"
   },
   {
    "duration": 21,
    "start_time": "2021-08-16T20:41:39.014Z"
   },
   {
    "duration": 74,
    "start_time": "2021-08-16T20:41:39.037Z"
   },
   {
    "duration": 30,
    "start_time": "2021-08-16T20:41:39.113Z"
   },
   {
    "duration": 23,
    "start_time": "2021-08-16T20:41:39.145Z"
   },
   {
    "duration": 33,
    "start_time": "2021-08-16T20:41:39.170Z"
   },
   {
    "duration": 6,
    "start_time": "2021-08-16T20:41:39.205Z"
   },
   {
    "duration": 35,
    "start_time": "2021-08-16T20:41:39.213Z"
   },
   {
    "duration": 12,
    "start_time": "2021-08-16T20:41:39.251Z"
   },
   {
    "duration": 54,
    "start_time": "2021-08-16T20:41:39.266Z"
   },
   {
    "duration": 9,
    "start_time": "2021-08-16T20:41:39.322Z"
   },
   {
    "duration": 15,
    "start_time": "2021-08-16T20:41:39.333Z"
   },
   {
    "duration": 18,
    "start_time": "2021-08-16T20:41:39.351Z"
   },
   {
    "duration": 3,
    "start_time": "2021-08-16T20:41:39.372Z"
   },
   {
    "duration": 27,
    "start_time": "2021-08-16T20:41:39.377Z"
   },
   {
    "duration": 687,
    "start_time": "2021-08-16T20:41:39.407Z"
   },
   {
    "duration": 19,
    "start_time": "2021-08-16T20:41:40.096Z"
   },
   {
    "duration": 15,
    "start_time": "2021-08-16T20:41:40.118Z"
   },
   {
    "duration": 12,
    "start_time": "2021-08-16T20:41:40.136Z"
   },
   {
    "duration": 14,
    "start_time": "2021-08-16T20:41:40.150Z"
   },
   {
    "duration": 15,
    "start_time": "2021-08-16T20:41:40.166Z"
   },
   {
    "duration": 58,
    "start_time": "2021-08-16T20:41:40.184Z"
   },
   {
    "duration": 1693,
    "start_time": "2021-08-16T20:41:40.244Z"
   },
   {
    "duration": 1619,
    "start_time": "2021-08-16T20:41:41.939Z"
   },
   {
    "duration": 1607,
    "start_time": "2021-08-16T20:41:43.562Z"
   },
   {
    "duration": 7,
    "start_time": "2021-08-16T20:41:45.171Z"
   },
   {
    "duration": 19,
    "start_time": "2021-08-16T20:41:45.181Z"
   },
   {
    "duration": 15,
    "start_time": "2021-08-16T20:41:45.203Z"
   },
   {
    "duration": 13,
    "start_time": "2021-08-16T20:41:45.220Z"
   },
   {
    "duration": 15,
    "start_time": "2021-08-16T20:41:45.236Z"
   },
   {
    "duration": 10,
    "start_time": "2021-08-16T20:41:45.254Z"
   },
   {
    "duration": 36,
    "start_time": "2021-08-16T20:41:45.266Z"
   },
   {
    "duration": 8,
    "start_time": "2021-08-16T20:41:45.305Z"
   },
   {
    "duration": 26,
    "start_time": "2021-08-16T20:41:45.316Z"
   },
   {
    "duration": 6,
    "start_time": "2021-08-16T20:41:45.349Z"
   },
   {
    "duration": 45,
    "start_time": "2021-08-16T20:41:45.357Z"
   },
   {
    "duration": 50,
    "start_time": "2021-08-16T20:41:45.405Z"
   },
   {
    "duration": 324,
    "start_time": "2021-08-17T04:24:13.086Z"
   },
   {
    "duration": 1521,
    "start_time": "2021-08-17T08:01:17.198Z"
   },
   {
    "duration": 554,
    "start_time": "2021-08-17T08:01:18.722Z"
   },
   {
    "duration": 50,
    "start_time": "2021-08-17T08:01:19.278Z"
   },
   {
    "duration": 57,
    "start_time": "2021-08-17T08:01:19.332Z"
   },
   {
    "duration": 70,
    "start_time": "2021-08-17T08:01:19.392Z"
   },
   {
    "duration": 26,
    "start_time": "2021-08-17T08:01:19.466Z"
   },
   {
    "duration": 61,
    "start_time": "2021-08-17T08:01:19.495Z"
   },
   {
    "duration": 47,
    "start_time": "2021-08-17T08:01:19.560Z"
   },
   {
    "duration": 56,
    "start_time": "2021-08-17T08:01:19.610Z"
   },
   {
    "duration": 26,
    "start_time": "2021-08-17T08:01:19.668Z"
   },
   {
    "duration": 145,
    "start_time": "2021-08-17T08:01:19.697Z"
   },
   {
    "duration": 55,
    "start_time": "2021-08-17T08:01:19.844Z"
   },
   {
    "duration": 3,
    "start_time": "2021-08-17T08:01:19.901Z"
   },
   {
    "duration": 23,
    "start_time": "2021-08-17T08:01:19.906Z"
   },
   {
    "duration": 412,
    "start_time": "2021-08-17T08:01:19.931Z"
   },
   {
    "duration": 24,
    "start_time": "2021-08-17T08:01:20.346Z"
   },
   {
    "duration": 14,
    "start_time": "2021-08-17T08:01:20.373Z"
   },
   {
    "duration": 39,
    "start_time": "2021-08-17T08:01:20.389Z"
   },
   {
    "duration": 44,
    "start_time": "2021-08-17T08:01:20.430Z"
   },
   {
    "duration": 19,
    "start_time": "2021-08-17T08:01:20.477Z"
   },
   {
    "duration": 14,
    "start_time": "2021-08-17T08:01:20.498Z"
   },
   {
    "duration": 71,
    "start_time": "2021-08-17T08:01:20.515Z"
   },
   {
    "duration": 38,
    "start_time": "2021-08-17T08:01:20.593Z"
   },
   {
    "duration": 419,
    "start_time": "2021-08-17T08:01:20.635Z"
   },
   {
    "duration": 8,
    "start_time": "2021-08-17T08:01:21.056Z"
   },
   {
    "duration": 45,
    "start_time": "2021-08-17T08:01:21.066Z"
   },
   {
    "duration": 19,
    "start_time": "2021-08-17T08:01:21.113Z"
   },
   {
    "duration": 36,
    "start_time": "2021-08-17T08:01:21.135Z"
   },
   {
    "duration": 21,
    "start_time": "2021-08-17T08:01:21.174Z"
   },
   {
    "duration": 17,
    "start_time": "2021-08-17T08:01:21.198Z"
   },
   {
    "duration": 83,
    "start_time": "2021-08-17T08:01:21.217Z"
   },
   {
    "duration": 10,
    "start_time": "2021-08-17T08:01:21.302Z"
   },
   {
    "duration": 14,
    "start_time": "2021-08-17T08:01:21.314Z"
   },
   {
    "duration": 11,
    "start_time": "2021-08-17T08:01:21.354Z"
   },
   {
    "duration": 22,
    "start_time": "2021-08-17T08:01:21.367Z"
   },
   {
    "duration": 73,
    "start_time": "2021-08-17T08:01:21.392Z"
   },
   {
    "duration": 31,
    "start_time": "2021-08-17T08:01:21.467Z"
   },
   {
    "duration": 23,
    "start_time": "2021-08-17T08:01:21.500Z"
   },
   {
    "duration": 31,
    "start_time": "2021-08-17T08:01:21.526Z"
   },
   {
    "duration": 6,
    "start_time": "2021-08-17T08:01:21.560Z"
   },
   {
    "duration": 40,
    "start_time": "2021-08-17T08:01:21.568Z"
   },
   {
    "duration": 12,
    "start_time": "2021-08-17T08:01:21.611Z"
   },
   {
    "duration": 49,
    "start_time": "2021-08-17T08:01:21.625Z"
   },
   {
    "duration": 17,
    "start_time": "2021-08-17T08:01:21.676Z"
   },
   {
    "duration": 16,
    "start_time": "2021-08-17T08:01:21.696Z"
   },
   {
    "duration": 24,
    "start_time": "2021-08-17T08:01:21.715Z"
   },
   {
    "duration": 9,
    "start_time": "2021-08-17T08:01:21.742Z"
   },
   {
    "duration": 12,
    "start_time": "2021-08-17T08:01:21.756Z"
   },
   {
    "duration": 689,
    "start_time": "2021-08-17T08:01:21.770Z"
   },
   {
    "duration": 18,
    "start_time": "2021-08-17T08:01:22.461Z"
   },
   {
    "duration": 4,
    "start_time": "2021-08-17T08:01:22.482Z"
   },
   {
    "duration": 12,
    "start_time": "2021-08-17T08:01:22.488Z"
   },
   {
    "duration": 5,
    "start_time": "2021-08-17T08:01:22.503Z"
   },
   {
    "duration": 18,
    "start_time": "2021-08-17T08:01:22.510Z"
   },
   {
    "duration": 45,
    "start_time": "2021-08-17T08:01:22.555Z"
   },
   {
    "duration": 1785,
    "start_time": "2021-08-17T08:01:22.603Z"
   },
   {
    "duration": 1540,
    "start_time": "2021-08-17T08:01:24.391Z"
   },
   {
    "duration": 1451,
    "start_time": "2021-08-17T08:01:25.934Z"
   },
   {
    "duration": 7,
    "start_time": "2021-08-17T08:01:27.387Z"
   },
   {
    "duration": 20,
    "start_time": "2021-08-17T08:01:27.396Z"
   },
   {
    "duration": 20,
    "start_time": "2021-08-17T08:01:27.418Z"
   },
   {
    "duration": 7,
    "start_time": "2021-08-17T08:01:27.441Z"
   },
   {
    "duration": 21,
    "start_time": "2021-08-17T08:01:27.450Z"
   },
   {
    "duration": 9,
    "start_time": "2021-08-17T08:01:27.473Z"
   },
   {
    "duration": 24,
    "start_time": "2021-08-17T08:01:27.484Z"
   },
   {
    "duration": 7,
    "start_time": "2021-08-17T08:01:27.511Z"
   },
   {
    "duration": 42,
    "start_time": "2021-08-17T08:01:27.521Z"
   },
   {
    "duration": 7,
    "start_time": "2021-08-17T08:01:27.570Z"
   },
   {
    "duration": 13,
    "start_time": "2021-08-17T08:01:27.580Z"
   },
   {
    "duration": 62,
    "start_time": "2021-08-17T08:01:27.596Z"
   },
   {
    "duration": 393,
    "start_time": "2021-08-17T08:02:18.037Z"
   },
   {
    "duration": 7,
    "start_time": "2021-08-17T08:02:52.464Z"
   },
   {
    "duration": 8,
    "start_time": "2021-08-17T08:03:17.410Z"
   },
   {
    "duration": 539,
    "start_time": "2021-09-14T13:04:10.076Z"
   },
   {
    "duration": 1555,
    "start_time": "2021-09-14T13:04:21.935Z"
   },
   {
    "duration": 626,
    "start_time": "2021-09-14T13:04:23.493Z"
   },
   {
    "duration": 47,
    "start_time": "2021-09-14T13:04:24.122Z"
   },
   {
    "duration": 49,
    "start_time": "2021-09-14T13:04:24.172Z"
   },
   {
    "duration": 28,
    "start_time": "2021-09-14T13:04:24.224Z"
   },
   {
    "duration": 16,
    "start_time": "2021-09-14T13:04:24.254Z"
   },
   {
    "duration": 58,
    "start_time": "2021-09-14T13:04:24.273Z"
   },
   {
    "duration": 43,
    "start_time": "2021-09-14T13:04:24.335Z"
   },
   {
    "duration": 52,
    "start_time": "2021-09-14T13:04:24.381Z"
   },
   {
    "duration": 24,
    "start_time": "2021-09-14T13:04:24.436Z"
   },
   {
    "duration": 143,
    "start_time": "2021-09-14T13:04:24.463Z"
   },
   {
    "duration": 49,
    "start_time": "2021-09-14T13:04:24.608Z"
   },
   {
    "duration": 6,
    "start_time": "2021-09-14T13:04:24.661Z"
   },
   {
    "duration": 427,
    "start_time": "2021-09-14T13:04:24.670Z"
   },
   {
    "duration": 26,
    "start_time": "2021-09-14T13:04:25.099Z"
   },
   {
    "duration": 11,
    "start_time": "2021-09-14T13:04:25.128Z"
   },
   {
    "duration": 31,
    "start_time": "2021-09-14T13:04:25.141Z"
   },
   {
    "duration": 58,
    "start_time": "2021-09-14T13:04:25.175Z"
   },
   {
    "duration": 18,
    "start_time": "2021-09-14T13:04:25.236Z"
   },
   {
    "duration": 77,
    "start_time": "2021-09-14T13:04:25.257Z"
   },
   {
    "duration": 40,
    "start_time": "2021-09-14T13:04:25.337Z"
   },
   {
    "duration": 420,
    "start_time": "2021-09-14T13:04:25.379Z"
   },
   {
    "duration": 12,
    "start_time": "2021-09-14T13:04:25.805Z"
   },
   {
    "duration": 27,
    "start_time": "2021-09-14T13:04:25.820Z"
   },
   {
    "duration": 18,
    "start_time": "2021-09-14T13:04:25.849Z"
   },
   {
    "duration": 58,
    "start_time": "2021-09-14T13:04:25.869Z"
   },
   {
    "duration": 21,
    "start_time": "2021-09-14T13:04:25.929Z"
   },
   {
    "duration": 17,
    "start_time": "2021-09-14T13:04:25.952Z"
   },
   {
    "duration": 84,
    "start_time": "2021-09-14T13:04:25.971Z"
   },
   {
    "duration": 8,
    "start_time": "2021-09-14T13:04:26.057Z"
   },
   {
    "duration": 12,
    "start_time": "2021-09-14T13:04:26.068Z"
   },
   {
    "duration": 35,
    "start_time": "2021-09-14T13:04:26.082Z"
   },
   {
    "duration": 22,
    "start_time": "2021-09-14T13:04:26.119Z"
   },
   {
    "duration": 43,
    "start_time": "2021-09-14T13:04:26.144Z"
   },
   {
    "duration": 30,
    "start_time": "2021-09-14T13:04:26.216Z"
   },
   {
    "duration": 23,
    "start_time": "2021-09-14T13:04:26.249Z"
   },
   {
    "duration": 5,
    "start_time": "2021-09-14T13:04:26.274Z"
   },
   {
    "duration": 59,
    "start_time": "2021-09-14T13:04:26.281Z"
   },
   {
    "duration": 13,
    "start_time": "2021-09-14T13:04:26.342Z"
   },
   {
    "duration": 25,
    "start_time": "2021-09-14T13:04:26.358Z"
   },
   {
    "duration": 10,
    "start_time": "2021-09-14T13:04:26.417Z"
   },
   {
    "duration": 19,
    "start_time": "2021-09-14T13:04:26.430Z"
   },
   {
    "duration": 10,
    "start_time": "2021-09-14T13:04:26.452Z"
   },
   {
    "duration": 7,
    "start_time": "2021-09-14T13:04:26.464Z"
   },
   {
    "duration": 689,
    "start_time": "2021-09-14T13:04:26.473Z"
   },
   {
    "duration": 16,
    "start_time": "2021-09-14T13:04:27.164Z"
   },
   {
    "duration": 3,
    "start_time": "2021-09-14T13:04:27.183Z"
   },
   {
    "duration": 33,
    "start_time": "2021-09-14T13:04:27.189Z"
   },
   {
    "duration": 49,
    "start_time": "2021-09-14T13:04:27.225Z"
   },
   {
    "duration": 1743,
    "start_time": "2021-09-14T13:04:27.276Z"
   },
   {
    "duration": 1561,
    "start_time": "2021-09-14T13:04:29.022Z"
   },
   {
    "duration": 1476,
    "start_time": "2021-09-14T13:04:30.585Z"
   },
   {
    "duration": 9,
    "start_time": "2021-09-14T13:04:32.063Z"
   },
   {
    "duration": 28,
    "start_time": "2021-09-14T13:04:32.074Z"
   },
   {
    "duration": 22,
    "start_time": "2021-09-14T13:04:32.105Z"
   },
   {
    "duration": 10,
    "start_time": "2021-09-14T13:04:32.129Z"
   },
   {
    "duration": 12,
    "start_time": "2021-09-14T13:04:32.142Z"
   },
   {
    "duration": 9,
    "start_time": "2021-09-14T13:04:32.157Z"
   },
   {
    "duration": 13,
    "start_time": "2021-09-14T13:04:32.168Z"
   },
   {
    "duration": 14,
    "start_time": "2021-09-14T13:04:32.184Z"
   },
   {
    "duration": 24,
    "start_time": "2021-09-14T13:04:32.217Z"
   },
   {
    "duration": 12,
    "start_time": "2021-09-14T13:04:32.244Z"
   },
   {
    "duration": 15,
    "start_time": "2021-09-14T13:04:32.258Z"
   },
   {
    "duration": 71,
    "start_time": "2021-09-14T13:04:32.275Z"
   },
   {
    "duration": 7,
    "start_time": "2021-09-14T13:04:51.147Z"
   },
   {
    "duration": 1540,
    "start_time": "2021-09-14T13:06:40.648Z"
   },
   {
    "duration": 557,
    "start_time": "2021-09-14T13:06:42.191Z"
   },
   {
    "duration": 47,
    "start_time": "2021-09-14T13:06:42.751Z"
   },
   {
    "duration": 34,
    "start_time": "2021-09-14T13:06:42.801Z"
   },
   {
    "duration": 31,
    "start_time": "2021-09-14T13:06:42.838Z"
   },
   {
    "duration": 51,
    "start_time": "2021-09-14T13:06:42.873Z"
   },
   {
    "duration": 30,
    "start_time": "2021-09-14T13:06:42.926Z"
   },
   {
    "duration": 62,
    "start_time": "2021-09-14T13:06:42.960Z"
   },
   {
    "duration": 32,
    "start_time": "2021-09-14T13:06:43.025Z"
   },
   {
    "duration": 25,
    "start_time": "2021-09-14T13:06:43.060Z"
   },
   {
    "duration": 156,
    "start_time": "2021-09-14T13:06:43.088Z"
   },
   {
    "duration": 47,
    "start_time": "2021-09-14T13:06:43.246Z"
   },
   {
    "duration": 23,
    "start_time": "2021-09-14T13:06:43.295Z"
   },
   {
    "duration": 407,
    "start_time": "2021-09-14T13:06:43.321Z"
   },
   {
    "duration": 19,
    "start_time": "2021-09-14T13:06:43.731Z"
   },
   {
    "duration": 11,
    "start_time": "2021-09-14T13:06:43.753Z"
   },
   {
    "duration": 62,
    "start_time": "2021-09-14T13:06:43.767Z"
   },
   {
    "duration": 24,
    "start_time": "2021-09-14T13:06:43.831Z"
   },
   {
    "duration": 19,
    "start_time": "2021-09-14T13:06:43.857Z"
   },
   {
    "duration": 91,
    "start_time": "2021-09-14T13:06:43.878Z"
   },
   {
    "duration": 52,
    "start_time": "2021-09-14T13:06:43.971Z"
   },
   {
    "duration": 397,
    "start_time": "2021-09-14T13:06:44.025Z"
   },
   {
    "duration": 8,
    "start_time": "2021-09-14T13:06:44.428Z"
   },
   {
    "duration": 30,
    "start_time": "2021-09-14T13:06:44.439Z"
   },
   {
    "duration": 18,
    "start_time": "2021-09-14T13:06:44.472Z"
   },
   {
    "duration": 47,
    "start_time": "2021-09-14T13:06:44.492Z"
   },
   {
    "duration": 24,
    "start_time": "2021-09-14T13:06:44.541Z"
   },
   {
    "duration": 52,
    "start_time": "2021-09-14T13:06:44.568Z"
   },
   {
    "duration": 56,
    "start_time": "2021-09-14T13:06:44.622Z"
   },
   {
    "duration": 10,
    "start_time": "2021-09-14T13:06:44.681Z"
   },
   {
    "duration": 11,
    "start_time": "2021-09-14T13:06:44.718Z"
   },
   {
    "duration": 12,
    "start_time": "2021-09-14T13:06:44.731Z"
   },
   {
    "duration": 24,
    "start_time": "2021-09-14T13:06:44.745Z"
   },
   {
    "duration": 73,
    "start_time": "2021-09-14T13:06:44.772Z"
   },
   {
    "duration": 31,
    "start_time": "2021-09-14T13:06:44.848Z"
   },
   {
    "duration": 52,
    "start_time": "2021-09-14T13:06:44.881Z"
   },
   {
    "duration": 5,
    "start_time": "2021-09-14T13:06:44.936Z"
   },
   {
    "duration": 48,
    "start_time": "2021-09-14T13:06:44.943Z"
   },
   {
    "duration": 18,
    "start_time": "2021-09-14T13:06:45.015Z"
   },
   {
    "duration": 27,
    "start_time": "2021-09-14T13:06:45.035Z"
   },
   {
    "duration": 19,
    "start_time": "2021-09-14T13:06:45.064Z"
   },
   {
    "duration": 32,
    "start_time": "2021-09-14T13:06:45.085Z"
   },
   {
    "duration": 15,
    "start_time": "2021-09-14T13:06:45.119Z"
   },
   {
    "duration": 13,
    "start_time": "2021-09-14T13:06:45.136Z"
   },
   {
    "duration": 657,
    "start_time": "2021-09-14T13:06:45.152Z"
   },
   {
    "duration": 18,
    "start_time": "2021-09-14T13:06:45.811Z"
   },
   {
    "duration": 12,
    "start_time": "2021-09-14T13:06:45.831Z"
   },
   {
    "duration": 9,
    "start_time": "2021-09-14T13:06:45.845Z"
   },
   {
    "duration": 78,
    "start_time": "2021-09-14T13:06:45.857Z"
   },
   {
    "duration": 1683,
    "start_time": "2021-09-14T13:06:45.938Z"
   },
   {
    "duration": 1550,
    "start_time": "2021-09-14T13:06:47.624Z"
   },
   {
    "duration": 1353,
    "start_time": "2021-09-14T13:06:49.177Z"
   },
   {
    "duration": 7,
    "start_time": "2021-09-14T13:06:50.532Z"
   },
   {
    "duration": 15,
    "start_time": "2021-09-14T13:06:50.541Z"
   },
   {
    "duration": 12,
    "start_time": "2021-09-14T13:06:50.559Z"
   },
   {
    "duration": 10,
    "start_time": "2021-09-14T13:06:50.573Z"
   },
   {
    "duration": 31,
    "start_time": "2021-09-14T13:06:50.585Z"
   },
   {
    "duration": 23,
    "start_time": "2021-09-14T13:06:50.619Z"
   },
   {
    "duration": 20,
    "start_time": "2021-09-14T13:06:50.644Z"
   },
   {
    "duration": 8,
    "start_time": "2021-09-14T13:06:50.667Z"
   },
   {
    "duration": 25,
    "start_time": "2021-09-14T13:06:50.677Z"
   },
   {
    "duration": 16,
    "start_time": "2021-09-14T13:06:50.704Z"
   },
   {
    "duration": 17,
    "start_time": "2021-09-14T13:06:50.722Z"
   },
   {
    "duration": 47,
    "start_time": "2021-09-14T13:06:50.742Z"
   },
   {
    "duration": 1432,
    "start_time": "2021-09-15T07:18:42.506Z"
   },
   {
    "duration": 559,
    "start_time": "2021-09-15T07:18:43.941Z"
   },
   {
    "duration": 45,
    "start_time": "2021-09-15T07:18:44.503Z"
   },
   {
    "duration": 45,
    "start_time": "2021-09-15T07:18:44.551Z"
   },
   {
    "duration": 29,
    "start_time": "2021-09-15T07:18:44.598Z"
   },
   {
    "duration": 43,
    "start_time": "2021-09-15T07:18:44.630Z"
   },
   {
    "duration": 31,
    "start_time": "2021-09-15T07:18:44.676Z"
   },
   {
    "duration": 74,
    "start_time": "2021-09-15T07:18:44.713Z"
   },
   {
    "duration": 32,
    "start_time": "2021-09-15T07:18:44.790Z"
   },
   {
    "duration": 45,
    "start_time": "2021-09-15T07:18:44.824Z"
   },
   {
    "duration": 134,
    "start_time": "2021-09-15T07:18:44.872Z"
   },
   {
    "duration": 71,
    "start_time": "2021-09-15T07:18:45.009Z"
   },
   {
    "duration": 6,
    "start_time": "2021-09-15T07:18:45.083Z"
   },
   {
    "duration": 427,
    "start_time": "2021-09-15T07:18:45.091Z"
   },
   {
    "duration": 18,
    "start_time": "2021-09-15T07:18:45.521Z"
   },
   {
    "duration": 29,
    "start_time": "2021-09-15T07:18:45.541Z"
   },
   {
    "duration": 29,
    "start_time": "2021-09-15T07:18:45.572Z"
   },
   {
    "duration": 59,
    "start_time": "2021-09-15T07:18:45.603Z"
   },
   {
    "duration": 19,
    "start_time": "2021-09-15T07:18:45.667Z"
   },
   {
    "duration": 72,
    "start_time": "2021-09-15T07:18:45.688Z"
   },
   {
    "duration": 42,
    "start_time": "2021-09-15T07:18:45.765Z"
   },
   {
    "duration": 431,
    "start_time": "2021-09-15T07:18:45.809Z"
   },
   {
    "duration": 12,
    "start_time": "2021-09-15T07:18:46.245Z"
   },
   {
    "duration": 29,
    "start_time": "2021-09-15T07:18:46.262Z"
   },
   {
    "duration": 18,
    "start_time": "2021-09-15T07:18:46.294Z"
   },
   {
    "duration": 62,
    "start_time": "2021-09-15T07:18:46.314Z"
   },
   {
    "duration": 21,
    "start_time": "2021-09-15T07:18:46.378Z"
   },
   {
    "duration": 19,
    "start_time": "2021-09-15T07:18:46.402Z"
   },
   {
    "duration": 89,
    "start_time": "2021-09-15T07:18:46.424Z"
   },
   {
    "duration": 10,
    "start_time": "2021-09-15T07:18:46.516Z"
   },
   {
    "duration": 36,
    "start_time": "2021-09-15T07:18:46.528Z"
   },
   {
    "duration": 11,
    "start_time": "2021-09-15T07:18:46.567Z"
   },
   {
    "duration": 22,
    "start_time": "2021-09-15T07:18:46.581Z"
   },
   {
    "duration": 85,
    "start_time": "2021-09-15T07:18:46.605Z"
   },
   {
    "duration": 30,
    "start_time": "2021-09-15T07:18:46.693Z"
   },
   {
    "duration": 55,
    "start_time": "2021-09-15T07:18:46.726Z"
   },
   {
    "duration": 6,
    "start_time": "2021-09-15T07:18:46.784Z"
   },
   {
    "duration": 63,
    "start_time": "2021-09-15T07:18:46.793Z"
   },
   {
    "duration": 16,
    "start_time": "2021-09-15T07:18:46.861Z"
   },
   {
    "duration": 25,
    "start_time": "2021-09-15T07:18:46.880Z"
   },
   {
    "duration": 11,
    "start_time": "2021-09-15T07:18:46.908Z"
   },
   {
    "duration": 43,
    "start_time": "2021-09-15T07:18:46.922Z"
   },
   {
    "duration": 12,
    "start_time": "2021-09-15T07:18:46.970Z"
   },
   {
    "duration": 6,
    "start_time": "2021-09-15T07:18:46.984Z"
   },
   {
    "duration": 870,
    "start_time": "2021-09-15T07:18:46.993Z"
   },
   {
    "duration": 20,
    "start_time": "2021-09-15T07:18:47.868Z"
   },
   {
    "duration": 7,
    "start_time": "2021-09-15T07:18:47.890Z"
   },
   {
    "duration": 11,
    "start_time": "2021-09-15T07:18:47.899Z"
   },
   {
    "duration": 85,
    "start_time": "2021-09-15T07:18:47.912Z"
   },
   {
    "duration": 1909,
    "start_time": "2021-09-15T07:18:48.000Z"
   },
   {
    "duration": 1632,
    "start_time": "2021-09-15T07:18:49.912Z"
   },
   {
    "duration": 1460,
    "start_time": "2021-09-15T07:18:51.546Z"
   },
   {
    "duration": 6,
    "start_time": "2021-09-15T07:18:53.009Z"
   },
   {
    "duration": 8,
    "start_time": "2021-09-15T07:18:53.018Z"
   },
   {
    "duration": 17,
    "start_time": "2021-09-15T07:18:53.029Z"
   },
   {
    "duration": 10,
    "start_time": "2021-09-15T07:18:53.057Z"
   },
   {
    "duration": 13,
    "start_time": "2021-09-15T07:18:53.071Z"
   },
   {
    "duration": 13,
    "start_time": "2021-09-15T07:18:53.086Z"
   },
   {
    "duration": 7,
    "start_time": "2021-09-15T07:18:53.102Z"
   },
   {
    "duration": 47,
    "start_time": "2021-09-15T07:18:53.112Z"
   },
   {
    "duration": 31,
    "start_time": "2021-09-15T07:18:53.162Z"
   },
   {
    "duration": 10,
    "start_time": "2021-09-15T07:18:53.196Z"
   },
   {
    "duration": 11,
    "start_time": "2021-09-15T07:18:53.208Z"
   },
   {
    "duration": 72,
    "start_time": "2021-09-15T07:18:53.222Z"
   }
  ],
  "kernelspec": {
   "display_name": "Python 3",
   "language": "python",
   "name": "python3"
  },
  "language_info": {
   "codemirror_mode": {
    "name": "ipython",
    "version": 3
   },
   "file_extension": ".py",
   "mimetype": "text/x-python",
   "name": "python",
   "nbconvert_exporter": "python",
   "pygments_lexer": "ipython3",
   "version": "3.7.8"
  },
  "toc": {
   "base_numbering": 1,
   "nav_menu": {},
   "number_sections": true,
   "sideBar": true,
   "skip_h1_title": true,
   "title_cell": "Оглавление",
   "title_sidebar": "Contents",
   "toc_cell": true,
   "toc_position": {
    "height": "calc(100% - 180px)",
    "left": "10px",
    "top": "150px",
    "width": "284.797px"
   },
   "toc_section_display": true,
   "toc_window_display": true
  }
 },
 "nbformat": 4,
 "nbformat_minor": 2
}
