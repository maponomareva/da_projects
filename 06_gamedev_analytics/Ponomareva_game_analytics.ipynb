{
 "cells": [
  {
   "cell_type": "markdown",
   "metadata": {},
   "source": [
    "# Исследование рынка компьютерных игр"
   ]
  },
  {
   "cell_type": "markdown",
   "metadata": {},
   "source": [
    "Целью настоящего исследования является определение факторов, влияющих на успешность продаж компьютерной игры, на основе данных из открытых источников. Результаты будут использованы для разработки рекламных кампаний интернет-магазина «Стримчик», который продаёт компьютерные игры по всему миру.\n",
    "\n",
    "Задачи исследования:\n",
    "1. Проанализировать динамику выпуска игр, определить актуальный временной промежуток для прогнозирования продаж на 2017 год;\n",
    "2. Изучить различия в продажах игр на разных платформах, выбрать из них потенциально прибыльные;\n",
    "3. Выявить влияние отзывов пользователей и критиков на продажи;\n",
    "4. Изучить влияние жанров на продажи;\n",
    "5. Определить особенности пользовательского поведения в разных регионах (Северная Америка, Европа, Япония);\n",
    "6. Проверить гипотезы: \n",
    "    - Средние пользовательские рейтинги платформ Xbox One и PC одинаковые; \n",
    "    - Средние пользовательские рейтинги жанров Action и Sports разные.\n",
    "7. Составить портрет потенциально популярного продукта. "
   ]
  },
  {
   "cell_type": "markdown",
   "metadata": {
    "toc": true
   },
   "source": [
    "<h1>Оглавление<span class=\"tocSkip\"></span></h1>\n",
    "<div class=\"toc\"><ul class=\"toc-item\"><li><span><a href=\"#Знакомство-с-данными\" data-toc-modified-id=\"Знакомство-с-данными-1\"><span class=\"toc-item-num\">1&nbsp;&nbsp;</span>Знакомство с данными</a></span><ul class=\"toc-item\"><li><span><a href=\"#Вывод\" data-toc-modified-id=\"Вывод-1.1\"><span class=\"toc-item-num\">1.1&nbsp;&nbsp;</span>Вывод</a></span></li></ul></li><li><span><a href=\"#Предобработка-данных-и-дополнительные-расчёты\" data-toc-modified-id=\"Предобработка-данных-и-дополнительные-расчёты-2\"><span class=\"toc-item-num\">2&nbsp;&nbsp;</span>Предобработка данных и дополнительные расчёты</a></span><ul class=\"toc-item\"><li><span><a href=\"#Вывод\" data-toc-modified-id=\"Вывод-2.1\"><span class=\"toc-item-num\">2.1&nbsp;&nbsp;</span>Вывод</a></span></li></ul></li><li><span><a href=\"#Исследовательский-анализ-данных\" data-toc-modified-id=\"Исследовательский-анализ-данных-3\"><span class=\"toc-item-num\">3&nbsp;&nbsp;</span>Исследовательский анализ данных</a></span><ul class=\"toc-item\"><li><span><a href=\"#Временная-динамика-выхода-игр\" data-toc-modified-id=\"Временная-динамика-выхода-игр-3.1\"><span class=\"toc-item-num\">3.1&nbsp;&nbsp;</span>Временная динамика выхода игр</a></span></li><li><span><a href=\"#Продажи-по-игровым-платформам\" data-toc-modified-id=\"Продажи-по-игровым-платформам-3.2\"><span class=\"toc-item-num\">3.2&nbsp;&nbsp;</span>Продажи по игровым платформам</a></span></li><li><span><a href=\"#Изучение-динамики-на-игровом-рынке-с-2012-года\" data-toc-modified-id=\"Изучение-динамики-на-игровом-рынке-с-2012-года-3.3\"><span class=\"toc-item-num\">3.3&nbsp;&nbsp;</span>Изучение динамики на игровом рынке с 2012 года</a></span></li><li><span><a href=\"#Влияние-отзывов-пользователей-и-критиков\" data-toc-modified-id=\"Влияние-отзывов-пользователей-и-критиков-3.4\"><span class=\"toc-item-num\">3.4&nbsp;&nbsp;</span>Влияние отзывов пользователей и критиков</a></span></li><li><span><a href=\"#Продажи-игр-по-жанрам\" data-toc-modified-id=\"Продажи-игр-по-жанрам-3.5\"><span class=\"toc-item-num\">3.5&nbsp;&nbsp;</span>Продажи игр по жанрам</a></span></li><li><span><a href=\"#Вывод\" data-toc-modified-id=\"Вывод-3.6\"><span class=\"toc-item-num\">3.6&nbsp;&nbsp;</span>Вывод</a></span></li></ul></li><li><span><a href=\"#Пользовательское-поведение-по-регионам\" data-toc-modified-id=\"Пользовательское-поведение-по-регионам-4\"><span class=\"toc-item-num\">4&nbsp;&nbsp;</span>Пользовательское поведение по регионам</a></span><ul class=\"toc-item\"><li><span><a href=\"#Самые-популярные-платформы-в-разных-регионах\" data-toc-modified-id=\"Самые-популярные-платформы-в-разных-регионах-4.1\"><span class=\"toc-item-num\">4.1&nbsp;&nbsp;</span>Самые популярные платформы в разных регионах</a></span></li><li><span><a href=\"#Самые-популярные-жанры-в-разных-регионах\" data-toc-modified-id=\"Самые-популярные-жанры-в-разных-регионах-4.2\"><span class=\"toc-item-num\">4.2&nbsp;&nbsp;</span>Самые популярные жанры в разных регионах</a></span></li><li><span><a href=\"#Влияние-рейтинга-ESRB-на-продажи-в-отдельном-регионе\" data-toc-modified-id=\"Влияние-рейтинга-ESRB-на-продажи-в-отдельном-регионе-4.3\"><span class=\"toc-item-num\">4.3&nbsp;&nbsp;</span>Влияние рейтинга ESRB на продажи в отдельном регионе</a></span></li><li><span><a href=\"#Вывод\" data-toc-modified-id=\"Вывод-4.4\"><span class=\"toc-item-num\">4.4&nbsp;&nbsp;</span>Вывод</a></span></li></ul></li><li><span><a href=\"#Проверка-статистических-гипотез\" data-toc-modified-id=\"Проверка-статистических-гипотез-5\"><span class=\"toc-item-num\">5&nbsp;&nbsp;</span>Проверка статистических гипотез</a></span><ul class=\"toc-item\"><li><span><a href=\"#Тест-№1:-пользовательская-оценка-платформ-Xbox-One-и-PC\" data-toc-modified-id=\"Тест-№1:-пользовательская-оценка-платформ-Xbox-One-и-PC-5.1\"><span class=\"toc-item-num\">5.1&nbsp;&nbsp;</span>Тест №1: пользовательская оценка платформ Xbox One и PC</a></span><ul class=\"toc-item\"><li><span><a href=\"#Результаты-теста-№1\" data-toc-modified-id=\"Результаты-теста-№1-5.1.1\"><span class=\"toc-item-num\">5.1.1&nbsp;&nbsp;</span>Результаты теста №1</a></span></li></ul></li><li><span><a href=\"#Тест-№2:-пользовательская-оценка-рейтингов-жанров-экшен-и-спорт\" data-toc-modified-id=\"Тест-№2:-пользовательская-оценка-рейтингов-жанров-экшен-и-спорт-5.2\"><span class=\"toc-item-num\">5.2&nbsp;&nbsp;</span>Тест №2: пользовательская оценка рейтингов жанров экшен и спорт</a></span><ul class=\"toc-item\"><li><span><a href=\"#Результаты-теста-№2\" data-toc-modified-id=\"Результаты-теста-№2-5.2.1\"><span class=\"toc-item-num\">5.2.1&nbsp;&nbsp;</span>Результаты теста №2</a></span></li></ul></li></ul></li><li><span><a href=\"#Общий-вывод\" data-toc-modified-id=\"Общий-вывод-6\"><span class=\"toc-item-num\">6&nbsp;&nbsp;</span>Общий вывод</a></span></li></ul></div>"
   ]
  },
  {
   "cell_type": "markdown",
   "metadata": {},
   "source": [
    "## Знакомство с данными"
   ]
  },
  {
   "cell_type": "code",
   "execution_count": 1,
   "metadata": {},
   "outputs": [],
   "source": [
    "#импорт библиотек\n",
    "import pandas as pd\n",
    "import numpy as np\n",
    "import matplotlib.pyplot as plt\n",
    "import seaborn as sns\n",
    "from scipy import stats as st  "
   ]
  },
  {
   "cell_type": "code",
   "execution_count": 2,
   "metadata": {},
   "outputs": [],
   "source": [
    "df = pd.read_csv('/datasets/games.csv') #чтение файла"
   ]
  },
  {
   "cell_type": "code",
   "execution_count": 3,
   "metadata": {},
   "outputs": [
    {
     "data": {
      "text/html": [
       "<div>\n",
       "<style scoped>\n",
       "    .dataframe tbody tr th:only-of-type {\n",
       "        vertical-align: middle;\n",
       "    }\n",
       "\n",
       "    .dataframe tbody tr th {\n",
       "        vertical-align: top;\n",
       "    }\n",
       "\n",
       "    .dataframe thead th {\n",
       "        text-align: right;\n",
       "    }\n",
       "</style>\n",
       "<table border=\"1\" class=\"dataframe\">\n",
       "  <thead>\n",
       "    <tr style=\"text-align: right;\">\n",
       "      <th></th>\n",
       "      <th>Name</th>\n",
       "      <th>Platform</th>\n",
       "      <th>Year_of_Release</th>\n",
       "      <th>Genre</th>\n",
       "      <th>NA_sales</th>\n",
       "      <th>EU_sales</th>\n",
       "      <th>JP_sales</th>\n",
       "      <th>Other_sales</th>\n",
       "      <th>Critic_Score</th>\n",
       "      <th>User_Score</th>\n",
       "      <th>Rating</th>\n",
       "    </tr>\n",
       "  </thead>\n",
       "  <tbody>\n",
       "    <tr>\n",
       "      <td>2915</td>\n",
       "      <td>Chocobo's Dungeon 2</td>\n",
       "      <td>PS</td>\n",
       "      <td>1998.0</td>\n",
       "      <td>Role-Playing</td>\n",
       "      <td>0.04</td>\n",
       "      <td>0.03</td>\n",
       "      <td>0.58</td>\n",
       "      <td>0.05</td>\n",
       "      <td>NaN</td>\n",
       "      <td>NaN</td>\n",
       "      <td>NaN</td>\n",
       "    </tr>\n",
       "    <tr>\n",
       "      <td>9867</td>\n",
       "      <td>Puzzle Kingdoms</td>\n",
       "      <td>Wii</td>\n",
       "      <td>2009.0</td>\n",
       "      <td>Puzzle</td>\n",
       "      <td>0.11</td>\n",
       "      <td>0.00</td>\n",
       "      <td>0.00</td>\n",
       "      <td>0.01</td>\n",
       "      <td>63.0</td>\n",
       "      <td>tbd</td>\n",
       "      <td>E</td>\n",
       "    </tr>\n",
       "    <tr>\n",
       "      <td>11974</td>\n",
       "      <td>I Don't Have Many Friends Portable</td>\n",
       "      <td>PSP</td>\n",
       "      <td>2012.0</td>\n",
       "      <td>Adventure</td>\n",
       "      <td>0.00</td>\n",
       "      <td>0.00</td>\n",
       "      <td>0.07</td>\n",
       "      <td>0.00</td>\n",
       "      <td>NaN</td>\n",
       "      <td>NaN</td>\n",
       "      <td>NaN</td>\n",
       "    </tr>\n",
       "    <tr>\n",
       "      <td>11746</td>\n",
       "      <td>Medal of Honor: Underground</td>\n",
       "      <td>GBA</td>\n",
       "      <td>2002.0</td>\n",
       "      <td>Shooter</td>\n",
       "      <td>0.05</td>\n",
       "      <td>0.02</td>\n",
       "      <td>0.00</td>\n",
       "      <td>0.00</td>\n",
       "      <td>46.0</td>\n",
       "      <td>1.7</td>\n",
       "      <td>T</td>\n",
       "    </tr>\n",
       "    <tr>\n",
       "      <td>2329</td>\n",
       "      <td>Cars 2</td>\n",
       "      <td>Wii</td>\n",
       "      <td>2011.0</td>\n",
       "      <td>Racing</td>\n",
       "      <td>0.43</td>\n",
       "      <td>0.37</td>\n",
       "      <td>0.00</td>\n",
       "      <td>0.09</td>\n",
       "      <td>NaN</td>\n",
       "      <td>NaN</td>\n",
       "      <td>NaN</td>\n",
       "    </tr>\n",
       "  </tbody>\n",
       "</table>\n",
       "</div>"
      ],
      "text/plain": [
       "                                     Name Platform  Year_of_Release  \\\n",
       "2915                  Chocobo's Dungeon 2       PS           1998.0   \n",
       "9867                      Puzzle Kingdoms      Wii           2009.0   \n",
       "11974  I Don't Have Many Friends Portable      PSP           2012.0   \n",
       "11746         Medal of Honor: Underground      GBA           2002.0   \n",
       "2329                               Cars 2      Wii           2011.0   \n",
       "\n",
       "              Genre  NA_sales  EU_sales  JP_sales  Other_sales  Critic_Score  \\\n",
       "2915   Role-Playing      0.04      0.03      0.58         0.05           NaN   \n",
       "9867         Puzzle      0.11      0.00      0.00         0.01          63.0   \n",
       "11974     Adventure      0.00      0.00      0.07         0.00           NaN   \n",
       "11746       Shooter      0.05      0.02      0.00         0.00          46.0   \n",
       "2329         Racing      0.43      0.37      0.00         0.09           NaN   \n",
       "\n",
       "      User_Score Rating  \n",
       "2915         NaN    NaN  \n",
       "9867         tbd      E  \n",
       "11974        NaN    NaN  \n",
       "11746        1.7      T  \n",
       "2329         NaN    NaN  "
      ]
     },
     "execution_count": 3,
     "metadata": {},
     "output_type": "execute_result"
    }
   ],
   "source": [
    "df.sample(5) #вызов случайных 5 строк"
   ]
  },
  {
   "cell_type": "code",
   "execution_count": 4,
   "metadata": {},
   "outputs": [
    {
     "name": "stdout",
     "output_type": "stream",
     "text": [
      "<class 'pandas.core.frame.DataFrame'>\n",
      "RangeIndex: 16715 entries, 0 to 16714\n",
      "Data columns (total 11 columns):\n",
      "Name               16713 non-null object\n",
      "Platform           16715 non-null object\n",
      "Year_of_Release    16446 non-null float64\n",
      "Genre              16713 non-null object\n",
      "NA_sales           16715 non-null float64\n",
      "EU_sales           16715 non-null float64\n",
      "JP_sales           16715 non-null float64\n",
      "Other_sales        16715 non-null float64\n",
      "Critic_Score       8137 non-null float64\n",
      "User_Score         10014 non-null object\n",
      "Rating             9949 non-null object\n",
      "dtypes: float64(6), object(5)\n",
      "memory usage: 1.4+ MB\n"
     ]
    }
   ],
   "source": [
    "df.info() #краткая сводка по таблице"
   ]
  },
  {
   "cell_type": "markdown",
   "metadata": {},
   "source": [
    "### Вывод"
   ]
  },
  {
   "cell_type": "markdown",
   "metadata": {},
   "source": [
    "Мы имеем 16715 строк с данными: названия игр, платформы, год выпуска, жанры, продажи по регионам (в миллионах проданных копий), оценки критиков и пользователей, возрастная категория. Перед анализом нужно произвести следующие преобразования: привести названия колонок к нижнему регистру, изменить тип данных в столбце User_Score на числовой, проверить наличие дубликатов и при необходимости заполнить пропуски."
   ]
  },
  {
   "cell_type": "markdown",
   "metadata": {},
   "source": [
    "## Предобработка данных и дополнительные расчёты"
   ]
  },
  {
   "cell_type": "code",
   "execution_count": 5,
   "metadata": {},
   "outputs": [],
   "source": [
    "df = df.rename(str.lower, axis='columns') #приведём названия столбцов к нижнему регистру"
   ]
  },
  {
   "cell_type": "code",
   "execution_count": 6,
   "metadata": {},
   "outputs": [
    {
     "data": {
      "text/plain": [
       "Index(['name', 'platform', 'year_of_release', 'genre', 'na_sales', 'eu_sales',\n",
       "       'jp_sales', 'other_sales', 'critic_score', 'user_score', 'rating'],\n",
       "      dtype='object')"
      ]
     },
     "execution_count": 6,
     "metadata": {},
     "output_type": "execute_result"
    }
   ],
   "source": [
    "df.columns #проверка замены"
   ]
  },
  {
   "cell_type": "markdown",
   "metadata": {},
   "source": [
    "Проанализируем, какие пропущенные значения встречаются в датафрейме."
   ]
  },
  {
   "cell_type": "code",
   "execution_count": 7,
   "metadata": {},
   "outputs": [
    {
     "data": {
      "text/html": [
       "<style  type=\"text/css\" >\n",
       "    #T_e1f0295a_15f6_11ec_b8fb_02420a397a97row0_col0 {\n",
       "            background-color:  #3b4cc0;\n",
       "            color:  #f1f1f1;\n",
       "        }    #T_e1f0295a_15f6_11ec_b8fb_02420a397a97row1_col0 {\n",
       "            background-color:  #3b4cc0;\n",
       "            color:  #f1f1f1;\n",
       "        }    #T_e1f0295a_15f6_11ec_b8fb_02420a397a97row2_col0 {\n",
       "            background-color:  #445acc;\n",
       "            color:  #f1f1f1;\n",
       "        }    #T_e1f0295a_15f6_11ec_b8fb_02420a397a97row3_col0 {\n",
       "            background-color:  #3b4cc0;\n",
       "            color:  #f1f1f1;\n",
       "        }    #T_e1f0295a_15f6_11ec_b8fb_02420a397a97row4_col0 {\n",
       "            background-color:  #3b4cc0;\n",
       "            color:  #f1f1f1;\n",
       "        }    #T_e1f0295a_15f6_11ec_b8fb_02420a397a97row5_col0 {\n",
       "            background-color:  #3b4cc0;\n",
       "            color:  #f1f1f1;\n",
       "        }    #T_e1f0295a_15f6_11ec_b8fb_02420a397a97row6_col0 {\n",
       "            background-color:  #3b4cc0;\n",
       "            color:  #f1f1f1;\n",
       "        }    #T_e1f0295a_15f6_11ec_b8fb_02420a397a97row7_col0 {\n",
       "            background-color:  #3b4cc0;\n",
       "            color:  #f1f1f1;\n",
       "        }    #T_e1f0295a_15f6_11ec_b8fb_02420a397a97row8_col0 {\n",
       "            background-color:  #b40426;\n",
       "            color:  #f1f1f1;\n",
       "        }    #T_e1f0295a_15f6_11ec_b8fb_02420a397a97row9_col0 {\n",
       "            background-color:  #f18d6f;\n",
       "            color:  #000000;\n",
       "        }    #T_e1f0295a_15f6_11ec_b8fb_02420a397a97row10_col0 {\n",
       "            background-color:  #f08a6c;\n",
       "            color:  #000000;\n",
       "        }</style><table id=\"T_e1f0295a_15f6_11ec_b8fb_02420a397a97\" ><thead>    <tr>        <th class=\"blank level0\" ></th>        <th class=\"col_heading level0 col0\" >NaN</th>    </tr></thead><tbody>\n",
       "                <tr>\n",
       "                        <th id=\"T_e1f0295a_15f6_11ec_b8fb_02420a397a97level0_row0\" class=\"row_heading level0 row0\" >name</th>\n",
       "                        <td id=\"T_e1f0295a_15f6_11ec_b8fb_02420a397a97row0_col0\" class=\"data row0 col0\" >0.01</td>\n",
       "            </tr>\n",
       "            <tr>\n",
       "                        <th id=\"T_e1f0295a_15f6_11ec_b8fb_02420a397a97level0_row1\" class=\"row_heading level0 row1\" >platform</th>\n",
       "                        <td id=\"T_e1f0295a_15f6_11ec_b8fb_02420a397a97row1_col0\" class=\"data row1 col0\" >0</td>\n",
       "            </tr>\n",
       "            <tr>\n",
       "                        <th id=\"T_e1f0295a_15f6_11ec_b8fb_02420a397a97level0_row2\" class=\"row_heading level0 row2\" >year_of_release</th>\n",
       "                        <td id=\"T_e1f0295a_15f6_11ec_b8fb_02420a397a97row2_col0\" class=\"data row2 col0\" >1.61</td>\n",
       "            </tr>\n",
       "            <tr>\n",
       "                        <th id=\"T_e1f0295a_15f6_11ec_b8fb_02420a397a97level0_row3\" class=\"row_heading level0 row3\" >genre</th>\n",
       "                        <td id=\"T_e1f0295a_15f6_11ec_b8fb_02420a397a97row3_col0\" class=\"data row3 col0\" >0.01</td>\n",
       "            </tr>\n",
       "            <tr>\n",
       "                        <th id=\"T_e1f0295a_15f6_11ec_b8fb_02420a397a97level0_row4\" class=\"row_heading level0 row4\" >na_sales</th>\n",
       "                        <td id=\"T_e1f0295a_15f6_11ec_b8fb_02420a397a97row4_col0\" class=\"data row4 col0\" >0</td>\n",
       "            </tr>\n",
       "            <tr>\n",
       "                        <th id=\"T_e1f0295a_15f6_11ec_b8fb_02420a397a97level0_row5\" class=\"row_heading level0 row5\" >eu_sales</th>\n",
       "                        <td id=\"T_e1f0295a_15f6_11ec_b8fb_02420a397a97row5_col0\" class=\"data row5 col0\" >0</td>\n",
       "            </tr>\n",
       "            <tr>\n",
       "                        <th id=\"T_e1f0295a_15f6_11ec_b8fb_02420a397a97level0_row6\" class=\"row_heading level0 row6\" >jp_sales</th>\n",
       "                        <td id=\"T_e1f0295a_15f6_11ec_b8fb_02420a397a97row6_col0\" class=\"data row6 col0\" >0</td>\n",
       "            </tr>\n",
       "            <tr>\n",
       "                        <th id=\"T_e1f0295a_15f6_11ec_b8fb_02420a397a97level0_row7\" class=\"row_heading level0 row7\" >other_sales</th>\n",
       "                        <td id=\"T_e1f0295a_15f6_11ec_b8fb_02420a397a97row7_col0\" class=\"data row7 col0\" >0</td>\n",
       "            </tr>\n",
       "            <tr>\n",
       "                        <th id=\"T_e1f0295a_15f6_11ec_b8fb_02420a397a97level0_row8\" class=\"row_heading level0 row8\" >critic_score</th>\n",
       "                        <td id=\"T_e1f0295a_15f6_11ec_b8fb_02420a397a97row8_col0\" class=\"data row8 col0\" >51.32</td>\n",
       "            </tr>\n",
       "            <tr>\n",
       "                        <th id=\"T_e1f0295a_15f6_11ec_b8fb_02420a397a97level0_row9\" class=\"row_heading level0 row9\" >user_score</th>\n",
       "                        <td id=\"T_e1f0295a_15f6_11ec_b8fb_02420a397a97row9_col0\" class=\"data row9 col0\" >40.09</td>\n",
       "            </tr>\n",
       "            <tr>\n",
       "                        <th id=\"T_e1f0295a_15f6_11ec_b8fb_02420a397a97level0_row10\" class=\"row_heading level0 row10\" >rating</th>\n",
       "                        <td id=\"T_e1f0295a_15f6_11ec_b8fb_02420a397a97row10_col0\" class=\"data row10 col0\" >40.48</td>\n",
       "            </tr>\n",
       "    </tbody></table>"
      ],
      "text/plain": [
       "<pandas.io.formats.style.Styler at 0x7f291d5a4fd0>"
      ]
     },
     "execution_count": 7,
     "metadata": {},
     "output_type": "execute_result"
    }
   ],
   "source": [
    "pd.DataFrame(round(df.isna().mean()*100, 2), columns=['NaN']).style.background_gradient('coolwarm') \n",
    "#подсчёт доли пропущенных значений"
   ]
  },
  {
   "cell_type": "markdown",
   "metadata": {},
   "source": [
    "Как видно из таблицы выше, у нас есть небольшое количество пропусков в столбцах Name и Genre. Посмотрим на эти строки."
   ]
  },
  {
   "cell_type": "code",
   "execution_count": 8,
   "metadata": {},
   "outputs": [
    {
     "data": {
      "text/html": [
       "<div>\n",
       "<style scoped>\n",
       "    .dataframe tbody tr th:only-of-type {\n",
       "        vertical-align: middle;\n",
       "    }\n",
       "\n",
       "    .dataframe tbody tr th {\n",
       "        vertical-align: top;\n",
       "    }\n",
       "\n",
       "    .dataframe thead th {\n",
       "        text-align: right;\n",
       "    }\n",
       "</style>\n",
       "<table border=\"1\" class=\"dataframe\">\n",
       "  <thead>\n",
       "    <tr style=\"text-align: right;\">\n",
       "      <th></th>\n",
       "      <th>name</th>\n",
       "      <th>platform</th>\n",
       "      <th>year_of_release</th>\n",
       "      <th>genre</th>\n",
       "      <th>na_sales</th>\n",
       "      <th>eu_sales</th>\n",
       "      <th>jp_sales</th>\n",
       "      <th>other_sales</th>\n",
       "      <th>critic_score</th>\n",
       "      <th>user_score</th>\n",
       "      <th>rating</th>\n",
       "    </tr>\n",
       "  </thead>\n",
       "  <tbody>\n",
       "    <tr>\n",
       "      <td>659</td>\n",
       "      <td>NaN</td>\n",
       "      <td>GEN</td>\n",
       "      <td>1993.0</td>\n",
       "      <td>NaN</td>\n",
       "      <td>1.78</td>\n",
       "      <td>0.53</td>\n",
       "      <td>0.00</td>\n",
       "      <td>0.08</td>\n",
       "      <td>NaN</td>\n",
       "      <td>NaN</td>\n",
       "      <td>NaN</td>\n",
       "    </tr>\n",
       "    <tr>\n",
       "      <td>14244</td>\n",
       "      <td>NaN</td>\n",
       "      <td>GEN</td>\n",
       "      <td>1993.0</td>\n",
       "      <td>NaN</td>\n",
       "      <td>0.00</td>\n",
       "      <td>0.00</td>\n",
       "      <td>0.03</td>\n",
       "      <td>0.00</td>\n",
       "      <td>NaN</td>\n",
       "      <td>NaN</td>\n",
       "      <td>NaN</td>\n",
       "    </tr>\n",
       "  </tbody>\n",
       "</table>\n",
       "</div>"
      ],
      "text/plain": [
       "      name platform  year_of_release genre  na_sales  eu_sales  jp_sales  \\\n",
       "659    NaN      GEN           1993.0   NaN      1.78      0.53      0.00   \n",
       "14244  NaN      GEN           1993.0   NaN      0.00      0.00      0.03   \n",
       "\n",
       "       other_sales  critic_score user_score rating  \n",
       "659           0.08           NaN        NaN    NaN  \n",
       "14244         0.00           NaN        NaN    NaN  "
      ]
     },
     "execution_count": 8,
     "metadata": {},
     "output_type": "execute_result"
    }
   ],
   "source": [
    "df.loc[(df['name'].isna() == True) | (df['genre'].isna() == True)]"
   ]
  },
  {
   "cell_type": "markdown",
   "metadata": {},
   "source": [
    "Названия игр и жанр пропущены в одних и тех же строках: это две игры, вышедшие в 1993 году для приставки Sega Mega Drive/Genesis. Это также может быть одна игра, так как в одной строке есть данные по продажам для всех регионов, кроме Японии, а во второй строке - только для Японии, информации по оценкам и рейтингу нет. Поскольку восстановить пропуски в данном случае невозможно, а год выпуска игры (1993) находится достаточно далеко от нашего целевого (прогноз на 2017) и вряд ли попадёт в актуальный период для исследования, мы можем удалить вышеуказанные строки без потери полезной информации."
   ]
  },
  {
   "cell_type": "code",
   "execution_count": 9,
   "metadata": {},
   "outputs": [],
   "source": [
    "df = df.dropna(subset = ['name', 'genre']) #удаление строк"
   ]
  },
  {
   "cell_type": "markdown",
   "metadata": {},
   "source": [
    "Пропущенные годы выпуска можно примерно восстановить на основании информации о выходе целевой игры на других платформах (обычно разница между релизами составляет не больше года), однако в интересах точности оценки временой динамики мы решили не добавлять синтетических значений в данный столбец."
   ]
  },
  {
   "cell_type": "markdown",
   "metadata": {},
   "source": [
    "Также остались пропуски в оценках критиков и пользователей и возрастной категории игр. Возможно, они появились из-за того, что игра слишком старая и ей не присваивали возрастной рейтинг и не оценивали на тематических ресурсах, или, наоборот, она слишком новая, чтобы её успели оценить. Заполнение оценок средним значением может исказить статистику, поэтому оставим пропуски как есть. Дополнительно проверим, не встречаются ли в данных какие-то аномалии."
   ]
  },
  {
   "cell_type": "code",
   "execution_count": 10,
   "metadata": {},
   "outputs": [
    {
     "data": {
      "text/html": [
       "<div>\n",
       "<style scoped>\n",
       "    .dataframe tbody tr th:only-of-type {\n",
       "        vertical-align: middle;\n",
       "    }\n",
       "\n",
       "    .dataframe tbody tr th {\n",
       "        vertical-align: top;\n",
       "    }\n",
       "\n",
       "    .dataframe thead th {\n",
       "        text-align: right;\n",
       "    }\n",
       "</style>\n",
       "<table border=\"1\" class=\"dataframe\">\n",
       "  <thead>\n",
       "    <tr style=\"text-align: right;\">\n",
       "      <th></th>\n",
       "      <th>name</th>\n",
       "      <th>platform</th>\n",
       "      <th>year_of_release</th>\n",
       "      <th>genre</th>\n",
       "      <th>na_sales</th>\n",
       "      <th>eu_sales</th>\n",
       "      <th>jp_sales</th>\n",
       "      <th>other_sales</th>\n",
       "      <th>critic_score</th>\n",
       "      <th>user_score</th>\n",
       "      <th>rating</th>\n",
       "    </tr>\n",
       "  </thead>\n",
       "  <tbody>\n",
       "    <tr>\n",
       "      <td>count</td>\n",
       "      <td>16713</td>\n",
       "      <td>16713</td>\n",
       "      <td>16444.000000</td>\n",
       "      <td>16713</td>\n",
       "      <td>16713.000000</td>\n",
       "      <td>16713.000000</td>\n",
       "      <td>16713.000000</td>\n",
       "      <td>16713.000000</td>\n",
       "      <td>8137.000000</td>\n",
       "      <td>10014</td>\n",
       "      <td>9949</td>\n",
       "    </tr>\n",
       "    <tr>\n",
       "      <td>unique</td>\n",
       "      <td>11559</td>\n",
       "      <td>31</td>\n",
       "      <td>NaN</td>\n",
       "      <td>12</td>\n",
       "      <td>NaN</td>\n",
       "      <td>NaN</td>\n",
       "      <td>NaN</td>\n",
       "      <td>NaN</td>\n",
       "      <td>NaN</td>\n",
       "      <td>96</td>\n",
       "      <td>8</td>\n",
       "    </tr>\n",
       "    <tr>\n",
       "      <td>top</td>\n",
       "      <td>Need for Speed: Most Wanted</td>\n",
       "      <td>PS2</td>\n",
       "      <td>NaN</td>\n",
       "      <td>Action</td>\n",
       "      <td>NaN</td>\n",
       "      <td>NaN</td>\n",
       "      <td>NaN</td>\n",
       "      <td>NaN</td>\n",
       "      <td>NaN</td>\n",
       "      <td>tbd</td>\n",
       "      <td>E</td>\n",
       "    </tr>\n",
       "    <tr>\n",
       "      <td>freq</td>\n",
       "      <td>12</td>\n",
       "      <td>2161</td>\n",
       "      <td>NaN</td>\n",
       "      <td>3369</td>\n",
       "      <td>NaN</td>\n",
       "      <td>NaN</td>\n",
       "      <td>NaN</td>\n",
       "      <td>NaN</td>\n",
       "      <td>NaN</td>\n",
       "      <td>2424</td>\n",
       "      <td>3990</td>\n",
       "    </tr>\n",
       "    <tr>\n",
       "      <td>mean</td>\n",
       "      <td>NaN</td>\n",
       "      <td>NaN</td>\n",
       "      <td>2006.486256</td>\n",
       "      <td>NaN</td>\n",
       "      <td>0.263302</td>\n",
       "      <td>0.145045</td>\n",
       "      <td>0.077625</td>\n",
       "      <td>0.047343</td>\n",
       "      <td>68.967679</td>\n",
       "      <td>NaN</td>\n",
       "      <td>NaN</td>\n",
       "    </tr>\n",
       "    <tr>\n",
       "      <td>std</td>\n",
       "      <td>NaN</td>\n",
       "      <td>NaN</td>\n",
       "      <td>5.875525</td>\n",
       "      <td>NaN</td>\n",
       "      <td>0.813565</td>\n",
       "      <td>0.503359</td>\n",
       "      <td>0.308871</td>\n",
       "      <td>0.186742</td>\n",
       "      <td>13.938165</td>\n",
       "      <td>NaN</td>\n",
       "      <td>NaN</td>\n",
       "    </tr>\n",
       "    <tr>\n",
       "      <td>min</td>\n",
       "      <td>NaN</td>\n",
       "      <td>NaN</td>\n",
       "      <td>1980.000000</td>\n",
       "      <td>NaN</td>\n",
       "      <td>0.000000</td>\n",
       "      <td>0.000000</td>\n",
       "      <td>0.000000</td>\n",
       "      <td>0.000000</td>\n",
       "      <td>13.000000</td>\n",
       "      <td>NaN</td>\n",
       "      <td>NaN</td>\n",
       "    </tr>\n",
       "    <tr>\n",
       "      <td>25%</td>\n",
       "      <td>NaN</td>\n",
       "      <td>NaN</td>\n",
       "      <td>2003.000000</td>\n",
       "      <td>NaN</td>\n",
       "      <td>0.000000</td>\n",
       "      <td>0.000000</td>\n",
       "      <td>0.000000</td>\n",
       "      <td>0.000000</td>\n",
       "      <td>60.000000</td>\n",
       "      <td>NaN</td>\n",
       "      <td>NaN</td>\n",
       "    </tr>\n",
       "    <tr>\n",
       "      <td>50%</td>\n",
       "      <td>NaN</td>\n",
       "      <td>NaN</td>\n",
       "      <td>2007.000000</td>\n",
       "      <td>NaN</td>\n",
       "      <td>0.080000</td>\n",
       "      <td>0.020000</td>\n",
       "      <td>0.000000</td>\n",
       "      <td>0.010000</td>\n",
       "      <td>71.000000</td>\n",
       "      <td>NaN</td>\n",
       "      <td>NaN</td>\n",
       "    </tr>\n",
       "    <tr>\n",
       "      <td>75%</td>\n",
       "      <td>NaN</td>\n",
       "      <td>NaN</td>\n",
       "      <td>2010.000000</td>\n",
       "      <td>NaN</td>\n",
       "      <td>0.240000</td>\n",
       "      <td>0.110000</td>\n",
       "      <td>0.040000</td>\n",
       "      <td>0.030000</td>\n",
       "      <td>79.000000</td>\n",
       "      <td>NaN</td>\n",
       "      <td>NaN</td>\n",
       "    </tr>\n",
       "    <tr>\n",
       "      <td>max</td>\n",
       "      <td>NaN</td>\n",
       "      <td>NaN</td>\n",
       "      <td>2016.000000</td>\n",
       "      <td>NaN</td>\n",
       "      <td>41.360000</td>\n",
       "      <td>28.960000</td>\n",
       "      <td>10.220000</td>\n",
       "      <td>10.570000</td>\n",
       "      <td>98.000000</td>\n",
       "      <td>NaN</td>\n",
       "      <td>NaN</td>\n",
       "    </tr>\n",
       "  </tbody>\n",
       "</table>\n",
       "</div>"
      ],
      "text/plain": [
       "                               name platform  year_of_release   genre  \\\n",
       "count                         16713    16713     16444.000000   16713   \n",
       "unique                        11559       31              NaN      12   \n",
       "top     Need for Speed: Most Wanted      PS2              NaN  Action   \n",
       "freq                             12     2161              NaN    3369   \n",
       "mean                            NaN      NaN      2006.486256     NaN   \n",
       "std                             NaN      NaN         5.875525     NaN   \n",
       "min                             NaN      NaN      1980.000000     NaN   \n",
       "25%                             NaN      NaN      2003.000000     NaN   \n",
       "50%                             NaN      NaN      2007.000000     NaN   \n",
       "75%                             NaN      NaN      2010.000000     NaN   \n",
       "max                             NaN      NaN      2016.000000     NaN   \n",
       "\n",
       "            na_sales      eu_sales      jp_sales   other_sales  critic_score  \\\n",
       "count   16713.000000  16713.000000  16713.000000  16713.000000   8137.000000   \n",
       "unique           NaN           NaN           NaN           NaN           NaN   \n",
       "top              NaN           NaN           NaN           NaN           NaN   \n",
       "freq             NaN           NaN           NaN           NaN           NaN   \n",
       "mean        0.263302      0.145045      0.077625      0.047343     68.967679   \n",
       "std         0.813565      0.503359      0.308871      0.186742     13.938165   \n",
       "min         0.000000      0.000000      0.000000      0.000000     13.000000   \n",
       "25%         0.000000      0.000000      0.000000      0.000000     60.000000   \n",
       "50%         0.080000      0.020000      0.000000      0.010000     71.000000   \n",
       "75%         0.240000      0.110000      0.040000      0.030000     79.000000   \n",
       "max        41.360000     28.960000     10.220000     10.570000     98.000000   \n",
       "\n",
       "       user_score rating  \n",
       "count       10014   9949  \n",
       "unique         96      8  \n",
       "top           tbd      E  \n",
       "freq         2424   3990  \n",
       "mean          NaN    NaN  \n",
       "std           NaN    NaN  \n",
       "min           NaN    NaN  \n",
       "25%           NaN    NaN  \n",
       "50%           NaN    NaN  \n",
       "75%           NaN    NaN  \n",
       "max           NaN    NaN  "
      ]
     },
     "execution_count": 10,
     "metadata": {},
     "output_type": "execute_result"
    }
   ],
   "source": [
    "df.describe(include='all')"
   ]
  },
  {
   "cell_type": "markdown",
   "metadata": {},
   "source": [
    "Во-первых, мы видим, что количество уникальных названий игр меньше, чем общее количество строк. Проверим, присутствуют ли в датафрейме полностью повторяющиеся строки."
   ]
  },
  {
   "cell_type": "code",
   "execution_count": 11,
   "metadata": {},
   "outputs": [
    {
     "data": {
      "text/plain": [
       "0"
      ]
     },
     "execution_count": 11,
     "metadata": {},
     "output_type": "execute_result"
    }
   ],
   "source": [
    "df.duplicated().sum()"
   ]
  },
  {
   "cell_type": "markdown",
   "metadata": {},
   "source": [
    "Автоматический метод поиска не выявил дубликатов. Попробуем узнать причину повтора на примере самого часто встречающегося названия - \"Need for Speed: Most Wanted\"."
   ]
  },
  {
   "cell_type": "code",
   "execution_count": 12,
   "metadata": {},
   "outputs": [
    {
     "data": {
      "text/html": [
       "<div>\n",
       "<style scoped>\n",
       "    .dataframe tbody tr th:only-of-type {\n",
       "        vertical-align: middle;\n",
       "    }\n",
       "\n",
       "    .dataframe tbody tr th {\n",
       "        vertical-align: top;\n",
       "    }\n",
       "\n",
       "    .dataframe thead th {\n",
       "        text-align: right;\n",
       "    }\n",
       "</style>\n",
       "<table border=\"1\" class=\"dataframe\">\n",
       "  <thead>\n",
       "    <tr style=\"text-align: right;\">\n",
       "      <th></th>\n",
       "      <th>name</th>\n",
       "      <th>platform</th>\n",
       "      <th>year_of_release</th>\n",
       "      <th>genre</th>\n",
       "      <th>na_sales</th>\n",
       "      <th>eu_sales</th>\n",
       "      <th>jp_sales</th>\n",
       "      <th>other_sales</th>\n",
       "      <th>critic_score</th>\n",
       "      <th>user_score</th>\n",
       "      <th>rating</th>\n",
       "    </tr>\n",
       "  </thead>\n",
       "  <tbody>\n",
       "    <tr>\n",
       "      <td>253</td>\n",
       "      <td>Need for Speed: Most Wanted</td>\n",
       "      <td>PS2</td>\n",
       "      <td>2005.0</td>\n",
       "      <td>Racing</td>\n",
       "      <td>2.03</td>\n",
       "      <td>1.79</td>\n",
       "      <td>0.08</td>\n",
       "      <td>0.47</td>\n",
       "      <td>82.0</td>\n",
       "      <td>9.1</td>\n",
       "      <td>T</td>\n",
       "    </tr>\n",
       "    <tr>\n",
       "      <td>523</td>\n",
       "      <td>Need for Speed: Most Wanted</td>\n",
       "      <td>PS3</td>\n",
       "      <td>2012.0</td>\n",
       "      <td>Racing</td>\n",
       "      <td>0.71</td>\n",
       "      <td>1.46</td>\n",
       "      <td>0.06</td>\n",
       "      <td>0.58</td>\n",
       "      <td>NaN</td>\n",
       "      <td>NaN</td>\n",
       "      <td>NaN</td>\n",
       "    </tr>\n",
       "    <tr>\n",
       "      <td>1190</td>\n",
       "      <td>Need for Speed: Most Wanted</td>\n",
       "      <td>X360</td>\n",
       "      <td>2012.0</td>\n",
       "      <td>Racing</td>\n",
       "      <td>0.62</td>\n",
       "      <td>0.78</td>\n",
       "      <td>0.01</td>\n",
       "      <td>0.15</td>\n",
       "      <td>83.0</td>\n",
       "      <td>8.5</td>\n",
       "      <td>T</td>\n",
       "    </tr>\n",
       "    <tr>\n",
       "      <td>1591</td>\n",
       "      <td>Need for Speed: Most Wanted</td>\n",
       "      <td>X360</td>\n",
       "      <td>2005.0</td>\n",
       "      <td>Racing</td>\n",
       "      <td>1.00</td>\n",
       "      <td>0.13</td>\n",
       "      <td>0.02</td>\n",
       "      <td>0.10</td>\n",
       "      <td>83.0</td>\n",
       "      <td>8.5</td>\n",
       "      <td>T</td>\n",
       "    </tr>\n",
       "    <tr>\n",
       "      <td>1998</td>\n",
       "      <td>Need for Speed: Most Wanted</td>\n",
       "      <td>XB</td>\n",
       "      <td>2005.0</td>\n",
       "      <td>Racing</td>\n",
       "      <td>0.53</td>\n",
       "      <td>0.46</td>\n",
       "      <td>0.00</td>\n",
       "      <td>0.05</td>\n",
       "      <td>83.0</td>\n",
       "      <td>8.8</td>\n",
       "      <td>T</td>\n",
       "    </tr>\n",
       "    <tr>\n",
       "      <td>2048</td>\n",
       "      <td>Need for Speed: Most Wanted</td>\n",
       "      <td>PSV</td>\n",
       "      <td>2012.0</td>\n",
       "      <td>Racing</td>\n",
       "      <td>0.33</td>\n",
       "      <td>0.45</td>\n",
       "      <td>0.01</td>\n",
       "      <td>0.22</td>\n",
       "      <td>NaN</td>\n",
       "      <td>NaN</td>\n",
       "      <td>NaN</td>\n",
       "    </tr>\n",
       "    <tr>\n",
       "      <td>3581</td>\n",
       "      <td>Need for Speed: Most Wanted</td>\n",
       "      <td>GC</td>\n",
       "      <td>2005.0</td>\n",
       "      <td>Racing</td>\n",
       "      <td>0.43</td>\n",
       "      <td>0.11</td>\n",
       "      <td>0.00</td>\n",
       "      <td>0.02</td>\n",
       "      <td>80.0</td>\n",
       "      <td>9.1</td>\n",
       "      <td>T</td>\n",
       "    </tr>\n",
       "    <tr>\n",
       "      <td>5972</td>\n",
       "      <td>Need for Speed: Most Wanted</td>\n",
       "      <td>PC</td>\n",
       "      <td>2005.0</td>\n",
       "      <td>Racing</td>\n",
       "      <td>0.02</td>\n",
       "      <td>0.23</td>\n",
       "      <td>0.00</td>\n",
       "      <td>0.04</td>\n",
       "      <td>82.0</td>\n",
       "      <td>8.5</td>\n",
       "      <td>T</td>\n",
       "    </tr>\n",
       "    <tr>\n",
       "      <td>6273</td>\n",
       "      <td>Need for Speed: Most Wanted</td>\n",
       "      <td>WiiU</td>\n",
       "      <td>2013.0</td>\n",
       "      <td>Racing</td>\n",
       "      <td>0.13</td>\n",
       "      <td>0.12</td>\n",
       "      <td>0.00</td>\n",
       "      <td>0.02</td>\n",
       "      <td>NaN</td>\n",
       "      <td>NaN</td>\n",
       "      <td>NaN</td>\n",
       "    </tr>\n",
       "    <tr>\n",
       "      <td>6410</td>\n",
       "      <td>Need for Speed: Most Wanted</td>\n",
       "      <td>DS</td>\n",
       "      <td>2005.0</td>\n",
       "      <td>Racing</td>\n",
       "      <td>0.24</td>\n",
       "      <td>0.01</td>\n",
       "      <td>0.00</td>\n",
       "      <td>0.02</td>\n",
       "      <td>45.0</td>\n",
       "      <td>6.1</td>\n",
       "      <td>E</td>\n",
       "    </tr>\n",
       "    <tr>\n",
       "      <td>6473</td>\n",
       "      <td>Need for Speed: Most Wanted</td>\n",
       "      <td>GBA</td>\n",
       "      <td>2005.0</td>\n",
       "      <td>Racing</td>\n",
       "      <td>0.19</td>\n",
       "      <td>0.07</td>\n",
       "      <td>0.00</td>\n",
       "      <td>0.00</td>\n",
       "      <td>NaN</td>\n",
       "      <td>8.3</td>\n",
       "      <td>E</td>\n",
       "    </tr>\n",
       "    <tr>\n",
       "      <td>11715</td>\n",
       "      <td>Need for Speed: Most Wanted</td>\n",
       "      <td>PC</td>\n",
       "      <td>2012.0</td>\n",
       "      <td>Racing</td>\n",
       "      <td>0.00</td>\n",
       "      <td>0.06</td>\n",
       "      <td>0.00</td>\n",
       "      <td>0.02</td>\n",
       "      <td>82.0</td>\n",
       "      <td>8.5</td>\n",
       "      <td>T</td>\n",
       "    </tr>\n",
       "  </tbody>\n",
       "</table>\n",
       "</div>"
      ],
      "text/plain": [
       "                              name platform  year_of_release   genre  \\\n",
       "253    Need for Speed: Most Wanted      PS2           2005.0  Racing   \n",
       "523    Need for Speed: Most Wanted      PS3           2012.0  Racing   \n",
       "1190   Need for Speed: Most Wanted     X360           2012.0  Racing   \n",
       "1591   Need for Speed: Most Wanted     X360           2005.0  Racing   \n",
       "1998   Need for Speed: Most Wanted       XB           2005.0  Racing   \n",
       "2048   Need for Speed: Most Wanted      PSV           2012.0  Racing   \n",
       "3581   Need for Speed: Most Wanted       GC           2005.0  Racing   \n",
       "5972   Need for Speed: Most Wanted       PC           2005.0  Racing   \n",
       "6273   Need for Speed: Most Wanted     WiiU           2013.0  Racing   \n",
       "6410   Need for Speed: Most Wanted       DS           2005.0  Racing   \n",
       "6473   Need for Speed: Most Wanted      GBA           2005.0  Racing   \n",
       "11715  Need for Speed: Most Wanted       PC           2012.0  Racing   \n",
       "\n",
       "       na_sales  eu_sales  jp_sales  other_sales  critic_score user_score  \\\n",
       "253        2.03      1.79      0.08         0.47          82.0        9.1   \n",
       "523        0.71      1.46      0.06         0.58           NaN        NaN   \n",
       "1190       0.62      0.78      0.01         0.15          83.0        8.5   \n",
       "1591       1.00      0.13      0.02         0.10          83.0        8.5   \n",
       "1998       0.53      0.46      0.00         0.05          83.0        8.8   \n",
       "2048       0.33      0.45      0.01         0.22           NaN        NaN   \n",
       "3581       0.43      0.11      0.00         0.02          80.0        9.1   \n",
       "5972       0.02      0.23      0.00         0.04          82.0        8.5   \n",
       "6273       0.13      0.12      0.00         0.02           NaN        NaN   \n",
       "6410       0.24      0.01      0.00         0.02          45.0        6.1   \n",
       "6473       0.19      0.07      0.00         0.00           NaN        8.3   \n",
       "11715      0.00      0.06      0.00         0.02          82.0        8.5   \n",
       "\n",
       "      rating  \n",
       "253        T  \n",
       "523      NaN  \n",
       "1190       T  \n",
       "1591       T  \n",
       "1998       T  \n",
       "2048     NaN  \n",
       "3581       T  \n",
       "5972       T  \n",
       "6273     NaN  \n",
       "6410       E  \n",
       "6473       E  \n",
       "11715      T  "
      ]
     },
     "execution_count": 12,
     "metadata": {},
     "output_type": "execute_result"
    }
   ],
   "source": [
    "df.loc[df['name'] == 'Need for Speed: Most Wanted']"
   ]
  },
  {
   "cell_type": "markdown",
   "metadata": {},
   "source": [
    "Мы видим, что игры были выпущены на разных платформах (либо на одной платформе в разные годы, с обновлением), поэтому здесь повтор не является ошибкой. Проверим, всё ли в порядке с остальными значениями строкового типа."
   ]
  },
  {
   "cell_type": "code",
   "execution_count": 13,
   "metadata": {},
   "outputs": [
    {
     "data": {
      "text/plain": [
       "[array(['Wii', 'NES', 'GB', 'DS', 'X360', 'PS3', 'PS2', 'SNES', 'GBA',\n",
       "        'PS4', '3DS', 'N64', 'PS', 'XB', 'PC', '2600', 'PSP', 'XOne',\n",
       "        'WiiU', 'GC', 'GEN', 'DC', 'PSV', 'SAT', 'SCD', 'WS', 'NG', 'TG16',\n",
       "        '3DO', 'GG', 'PCFX'], dtype=object),\n",
       " array(['Sports', 'Platform', 'Racing', 'Role-Playing', 'Puzzle', 'Misc',\n",
       "        'Shooter', 'Simulation', 'Action', 'Fighting', 'Adventure',\n",
       "        'Strategy'], dtype=object),\n",
       " array(['E', nan, 'M', 'T', 'E10+', 'K-A', 'AO', 'EC', 'RP'], dtype=object),\n",
       " array(['8', nan, '8.3', '8.5', '6.6', '8.4', '8.6', '7.7', '6.3', '7.4',\n",
       "        '8.2', '9', '7.9', '8.1', '8.7', '7.1', '3.4', '5.3', '4.8', '3.2',\n",
       "        '8.9', '6.4', '7.8', '7.5', '2.6', '7.2', '9.2', '7', '7.3', '4.3',\n",
       "        '7.6', '5.7', '5', '9.1', '6.5', 'tbd', '8.8', '6.9', '9.4', '6.8',\n",
       "        '6.1', '6.7', '5.4', '4', '4.9', '4.5', '9.3', '6.2', '4.2', '6',\n",
       "        '3.7', '4.1', '5.8', '5.6', '5.5', '4.4', '4.6', '5.9', '3.9',\n",
       "        '3.1', '2.9', '5.2', '3.3', '4.7', '5.1', '3.5', '2.5', '1.9', '3',\n",
       "        '2.7', '2.2', '2', '9.5', '2.1', '3.6', '2.8', '1.8', '3.8', '0',\n",
       "        '1.6', '9.6', '2.4', '1.7', '1.1', '0.3', '1.5', '0.7', '1.2',\n",
       "        '2.3', '0.5', '1.3', '0.2', '0.6', '1.4', '0.9', '1', '9.7'],\n",
       "       dtype=object)]"
      ]
     },
     "execution_count": 13,
     "metadata": {},
     "output_type": "execute_result"
    }
   ],
   "source": [
    "[df[column].unique() for column in ['platform', 'genre', 'rating', 'user_score']] \n",
    "#посмотрим на уникальные значения"
   ]
  },
  {
   "cell_type": "markdown",
   "metadata": {},
   "source": [
    "С первыми тремя списками всё в порядке: в них перечислены действительно существующие названия игровых платформ, жанров и рейтингов от организации ESRB. Интереснее ситуация с оценками пользователей - имеющиеся значения скорее относятся к числовому, а не строковому типу данных, за исключением одного значения 'tbd' (англ. \"To be determined\", то есть \"_Подлежит уточнению_\"). Если на момент выгрузки данных оценка пользователей ещё не была сформирована, это значение можно рассматривать как пропущенное. Заменим 'tbd' на NaN, чтобы изменить тип столбца на float64 и использовать его в расчётах."
   ]
  },
  {
   "cell_type": "code",
   "execution_count": 14,
   "metadata": {},
   "outputs": [],
   "source": [
    "df['user_score'] = df['user_score'].replace('tbd', np.NaN).astype('float')"
   ]
  },
  {
   "cell_type": "code",
   "execution_count": 15,
   "metadata": {},
   "outputs": [
    {
     "data": {
      "text/plain": [
       "name                object\n",
       "platform            object\n",
       "year_of_release    float64\n",
       "genre               object\n",
       "na_sales           float64\n",
       "eu_sales           float64\n",
       "jp_sales           float64\n",
       "other_sales        float64\n",
       "critic_score       float64\n",
       "user_score         float64\n",
       "rating              object\n",
       "dtype: object"
      ]
     },
     "execution_count": 15,
     "metadata": {},
     "output_type": "execute_result"
    }
   ],
   "source": [
    "df.dtypes #проверим типы данных"
   ]
  },
  {
   "cell_type": "markdown",
   "metadata": {},
   "source": [
    "Также для удобства заменим пропущенные значения рейтинга ESRB на NR (_Not Rated, \"Без оценки\"_), чтобы они отображались на графиках."
   ]
  },
  {
   "cell_type": "code",
   "execution_count": 16,
   "metadata": {},
   "outputs": [],
   "source": [
    "df['rating'] = df['rating'].fillna('NR')"
   ]
  },
  {
   "cell_type": "markdown",
   "metadata": {},
   "source": [
    "Теперь проверим на адекватность численные значения продаж. Для этого построим гистограммы и посмотрим на распределения."
   ]
  },
  {
   "cell_type": "code",
   "execution_count": 17,
   "metadata": {},
   "outputs": [
    {
     "data": {
      "image/png": "[encoded data removed]",
      "text/plain": [
       "<Figure size 864x432 with 4 Axes>"
      ]
     },
     "metadata": {
      "needs_background": "light"
     },
     "output_type": "display_data"
    }
   ],
   "source": [
    "fig, ax = plt.subplots(nrows=2, ncols=2, figsize=(12,6))\n",
    "\n",
    "ax[0,0].set_title('Продажи игр в Северной Америке')\n",
    "ax[0,0].hist(df['na_sales'], bins=20, range=(0,2))\n",
    "ax[0,0].set_xlabel('Количество проданных копий, млн')\n",
    "\n",
    "ax[0,1].set_title('Продажи игр в Европе')\n",
    "ax[0,1].hist(df['eu_sales'], bins=20, range=(0,2))\n",
    "ax[0,1].set_xlabel('Количество проданных копий, млн')\n",
    "\n",
    "ax[1,0].set_title('Продажи игр в Японии')\n",
    "ax[1,0].hist(df['jp_sales'], bins=20, range=(0,2))\n",
    "ax[1,0].set_xlabel('Количество проданных копий, млн')\n",
    "\n",
    "ax[1,1].set_title('Продажи игр в других странах')\n",
    "ax[1,1].hist(df['other_sales'], bins=20, range=(0,1))\n",
    "ax[1,1].set_xlabel('Количество проданных копий, млн')\n",
    "\n",
    "fig.tight_layout()"
   ]
  },
  {
   "cell_type": "markdown",
   "metadata": {},
   "source": [
    "Мы видим, что большая часть значений на гистограммах сосредоточена в диапазоне от 0 до 200 тысяч проданных копий (тогда как максимальные значения по датафрему - 41.36 млн в Северной Америке, 28.96 млн в Европе, 10.22 млн в Японии и 10.57 млн в других странах). Ниже мы постараемся выяснить, какие факторы помогают игре значительно превысить эту отметку, а пока посчитаем суммарные продажи для всех регионов."
   ]
  },
  {
   "cell_type": "code",
   "execution_count": 18,
   "metadata": {},
   "outputs": [],
   "source": [
    "df['total_sales'] = df[['na_sales','eu_sales','jp_sales','other_sales']].sum(axis=1)"
   ]
  },
  {
   "cell_type": "markdown",
   "metadata": {},
   "source": [
    "Теперь данные полностью готовы для исследовательского анализа."
   ]
  },
  {
   "cell_type": "markdown",
   "metadata": {},
   "source": [
    "### Вывод"
   ]
  },
  {
   "cell_type": "markdown",
   "metadata": {},
   "source": [
    "На этапе предобработки мы привели названия столбцов к нижнему регистру, избавились от строк с пропущенными названиями игр, исправили тип данных в столбце 'user_score', проверили данные на наличие аномалий и добавили новый столбец с суммарными продажами по всему миру."
   ]
  },
  {
   "cell_type": "markdown",
   "metadata": {},
   "source": [
    "## Исследовательский анализ данных"
   ]
  },
  {
   "cell_type": "markdown",
   "metadata": {},
   "source": [
    "### Временная динамика выхода игр"
   ]
  },
  {
   "cell_type": "code",
   "execution_count": 19,
   "metadata": {},
   "outputs": [
    {
     "data": {
      "image/png": "[encoded data removed]",
      "text/plain": [
       "<Figure size 432x288 with 1 Axes>"
      ]
     },
     "metadata": {
      "needs_background": "light"
     },
     "output_type": "display_data"
    }
   ],
   "source": [
    "df['year_of_release'].hist(bins=40)\n",
    "plt.title('Выпуск игр по годам', fontsize=16)\n",
    "plt.xlabel('Год')\n",
    "plt.ylabel('Количество выпущенных игр')\n",
    "plt.show()"
   ]
  },
  {
   "cell_type": "markdown",
   "metadata": {},
   "source": [
    "Гистограмма показывает, что до 1994 года производство игр было невысоким, однако со второй половины девяностых начался уверенный рост индустрии: с 1995 по 2005 количество выпущенных игр выросло практически в 5 раз! Пик производства пришелся на 2008 и 2009 годы, когда появилось больше 1400 новых игр, потом начался спад (возможно, связанный с мировым экономическим кризисом), и на конец рассматриваемого нами периода выпуск составляет примерно 600 новых игр в год."
   ]
  },
  {
   "cell_type": "markdown",
   "metadata": {},
   "source": [
    "### Продажи по игровым платформам"
   ]
  },
  {
   "cell_type": "code",
   "execution_count": 20,
   "metadata": {},
   "outputs": [
    {
     "data": {
      "image/png": "[encoded data removed]",
      "text/plain": [
       "<Figure size 720x288 with 1 Axes>"
      ]
     },
     "metadata": {
      "needs_background": "light"
     },
     "output_type": "display_data"
    }
   ],
   "source": [
    "df.pivot_table(index='platform', values='total_sales', aggfunc='sum').sort_values(by='total_sales', ascending=False) \\\n",
    ".plot(kind='bar', grid=True, legend=False, figsize=(10, 4))\n",
    "plt.title('Суммарные продажи игр, выпущенныx на разных платформах', fontsize=16)\n",
    "plt.xlabel('Игровая платформа')\n",
    "plt.ylabel('Количество проданных копий, млн')\n",
    "plt.show()"
   ]
  },
  {
   "cell_type": "markdown",
   "metadata": {},
   "source": [
    "Судя по графику, наиболее успешно продаются игры, выпущенные для шести консолей: PlayStation 2, Xbox 360, PlayStation 3, Nintendo Wii, Nintendo DS и PlayStation 1. Построим для них распределение по годам."
   ]
  },
  {
   "cell_type": "code",
   "execution_count": 21,
   "metadata": {},
   "outputs": [],
   "source": [
    "top_platforms = df.pivot_table(index='platform', values='total_sales', aggfunc='sum').sort_values(by='total_sales', \\\n",
    "                ascending=False).head(6).index.values #выделим платформы с наибольшими суммарными продажами"
   ]
  },
  {
   "cell_type": "code",
   "execution_count": 22,
   "metadata": {
    "scrolled": true
   },
   "outputs": [
    {
     "data": {
      "image/png": "[encoded data removed]",
      "text/plain": [
       "<Figure size 1152x360 with 1 Axes>"
      ]
     },
     "metadata": {
      "needs_background": "light"
     },
     "output_type": "display_data"
    }
   ],
   "source": [
    "df.query('platform in @top_platforms').pivot_table(index='year_of_release', columns='platform', values='total_sales', \\\n",
    "                                                   aggfunc='sum').plot(marker='s', grid=True, figsize=(16, 5))\n",
    "plt.title('Динамика продаж игр на самых популярных платформах', fontsize=14)\n",
    "plt.xlabel('Год выхода игры')\n",
    "plt.ylabel('Количество проданных копий, млн')\n",
    "plt.show()"
   ]
  },
  {
   "cell_type": "markdown",
   "metadata": {},
   "source": [
    "График показывает, что \"срок жизни\" игровой платформы составляет 9-11 лет, причем с пятого года обычно начинается падение продаж: PS1 - 1994-2003 (пик в 1998), PS2 - 2000-2011 (пики в 2002 и 2004), PS3 - 2006-2016 (пик в 2011), DS - 2004-2013 (пик в 2007-2008), Wii - 2006-2016 (пик в 2009), X360 - 2005-2016 (пик в 2010). Таким образом, для создания прогноза на 2017 год нас интересуют платформы, появившиеся в 2012 году - они как раз должны быть на пике. Выбор 2012 года в качестве нижней границы актуального периода также соответствует вышеизученному распределению общего количества выпущенных игр: тогда производство значительно снизилось после пика 2008-2009 годов и с тех пор остается примерно на одном уровне. "
   ]
  },
  {
   "cell_type": "code",
   "execution_count": 23,
   "metadata": {},
   "outputs": [],
   "source": [
    "df_filtered = df.query('year_of_release > 2011') #выделим данные за актуальный период в отдельную таблицу"
   ]
  },
  {
   "cell_type": "markdown",
   "metadata": {},
   "source": [
    "### Изучение динамики на игровом рынке с 2012 года"
   ]
  },
  {
   "cell_type": "code",
   "execution_count": 24,
   "metadata": {},
   "outputs": [
    {
     "data": {
      "image/png": "[encoded data removed]",
      "text/plain": [
       "<Figure size 1152x360 with 1 Axes>"
      ]
     },
     "metadata": {
      "needs_background": "light"
     },
     "output_type": "display_data"
    }
   ],
   "source": [
    "df_filtered.pivot_table(index='year_of_release', columns='platform', values='total_sales', \\\n",
    "                                                                aggfunc='sum').plot(kind='bar', grid=True, figsize=(16, 5))\n",
    "plt.title('Продажи игр по платформам, 2012-2016 гг.', fontsize=14)\n",
    "plt.xlabel('Год выхода игры')\n",
    "plt.xticks(rotation='horizontal')\n",
    "plt.ylabel('Количество проданных копий, млн')\n",
    "plt.show()"
   ]
  },
  {
   "cell_type": "markdown",
   "metadata": {},
   "source": [
    "В актуальном периоде наблюдается рост продаж игр для Play Station 4 и Xbox One (появились в 2013 году). В 2012-2013 годах на рынке лидировали Play Station 3, Xbox 360 и Nintendo 3DS, однако с течением времени у них значительно снизились продажи (хотя 3DS входит в тройку лидеров в 2016 году). Nintendo DS и Sony PSP полностью ушли с рынка в 2014 году, у Nintendo WiiU были неплохие продажи в 2012-2014 годах, но взрывного роста не последовало. Судя по графику, потенциально прибыльными платформами в 2017 году будут новые Play Station 4 и Xbox One и доживающая свой век Nintendo 3DS."
   ]
  },
  {
   "cell_type": "markdown",
   "metadata": {},
   "source": [
    "Построим диаграммы размаха по глобальным продажам игр в разбивке по платформам, чтобы лучше понять разброс значений."
   ]
  },
  {
   "cell_type": "code",
   "execution_count": 25,
   "metadata": {},
   "outputs": [
    {
     "data": {
      "image/png": "[encoded data removed]",
      "text/plain": [
       "<Figure size 864x648 with 1 Axes>"
      ]
     },
     "metadata": {
      "needs_background": "light"
     },
     "output_type": "display_data"
    }
   ],
   "source": [
    "plt.figure(figsize=(12, 9))\n",
    "sns.boxplot(x='total_sales', y='platform', data = df_filtered)\n",
    "plt.title('Диаграммы размаха для продажи игр по платформам, 2012-2016 гг.', fontsize=14)\n",
    "plt.xlabel('Количество проданных копий, млн')\n",
    "plt.ylabel('Платформа')\n",
    "plt.show()"
   ]
  },
  {
   "cell_type": "markdown",
   "metadata": {},
   "source": [
    "Видим, что у Play Station 3, Xbox 360, Play Station 4 и Nintendo 3DS имеются длинные хвосты очень популярных игр: для некоторых экземпляров продано более 10 миллионов копий по всему миру. Увеличим масштаб графика, чтобы увидеть статистику по средним продажам."
   ]
  },
  {
   "cell_type": "code",
   "execution_count": 26,
   "metadata": {},
   "outputs": [
    {
     "data": {
      "image/png": "[encoded data removed]",
      "text/plain": [
       "<Figure size 864x648 with 1 Axes>"
      ]
     },
     "metadata": {
      "needs_background": "light"
     },
     "output_type": "display_data"
    }
   ],
   "source": [
    "plt.figure(figsize=(12, 9))\n",
    "sns.boxplot(x='total_sales', y='platform', data = df_filtered)\n",
    "plt.title('Диаграммы размаха для продажи игр по платформам, 2012-2016 гг.', fontsize=14)\n",
    "plt.xlabel('Количество проданных копий, млн')\n",
    "plt.xlim(-0.2, 5)\n",
    "plt.ylabel('Платформа')\n",
    "plt.show()"
   ]
  },
  {
   "cell_type": "markdown",
   "metadata": {},
   "source": [
    "Если не обращать внимания на выбросы, наиболее продаваемыми являются игры для Xbox 360 - у этого \"ящика с усами\" самый широкий интеквартильный размах и самые высокая по выборке медиана (0.31 млн). Кроме отмеченных ранее Play Station 3 и 4 и Xbox One высокий уровень продаваемости показывает Nintendo Wii - четвёртый квартиль распределения для этой платформы расположен правее, чем у Play Station 3, но из-за малого числа выбросов на столбчатой диаграмме она выглядела скромно. У Nintendo 3DS относительно низкие медианные продажи (0.11 млн), но за счёт ряда ультра-популярных игр общее число проданных копий выходит высоким."
   ]
  },
  {
   "cell_type": "markdown",
   "metadata": {},
   "source": [
    "### Влияние отзывов пользователей и критиков"
   ]
  },
  {
   "cell_type": "markdown",
   "metadata": {},
   "source": [
    "Проанализируем, как влияют на продажи отзывы пользователей и критиков на примере самой популярной платформы в 2014-2016 годах -  Play Station 4. "
   ]
  },
  {
   "cell_type": "code",
   "execution_count": 27,
   "metadata": {},
   "outputs": [
    {
     "data": {
      "text/html": [
       "<style  type=\"text/css\" >\n",
       "    #T_e5918770_15f6_11ec_b8fb_02420a397a97row0_col0 {\n",
       "            background-color:  #00441b;\n",
       "            color:  #f1f1f1;\n",
       "        }    #T_e5918770_15f6_11ec_b8fb_02420a397a97row0_col1 {\n",
       "            background-color:  #f7fcf5;\n",
       "            color:  #000000;\n",
       "        }    #T_e5918770_15f6_11ec_b8fb_02420a397a97row0_col2 {\n",
       "            background-color:  #f7fcf5;\n",
       "            color:  #000000;\n",
       "        }    #T_e5918770_15f6_11ec_b8fb_02420a397a97row0_col3 {\n",
       "            background-color:  #f7fcf5;\n",
       "            color:  #000000;\n",
       "        }    #T_e5918770_15f6_11ec_b8fb_02420a397a97row0_col4 {\n",
       "            background-color:  #f7fcf5;\n",
       "            color:  #000000;\n",
       "        }    #T_e5918770_15f6_11ec_b8fb_02420a397a97row0_col5 {\n",
       "            background-color:  #f7fcf5;\n",
       "            color:  #000000;\n",
       "        }    #T_e5918770_15f6_11ec_b8fb_02420a397a97row0_col6 {\n",
       "            background-color:  #d5efcf;\n",
       "            color:  #000000;\n",
       "        }    #T_e5918770_15f6_11ec_b8fb_02420a397a97row0_col7 {\n",
       "            background-color:  #f7fcf5;\n",
       "            color:  #000000;\n",
       "        }    #T_e5918770_15f6_11ec_b8fb_02420a397a97row1_col0 {\n",
       "            background-color:  #f7fcf5;\n",
       "            color:  #000000;\n",
       "        }    #T_e5918770_15f6_11ec_b8fb_02420a397a97row1_col1 {\n",
       "            background-color:  #00441b;\n",
       "            color:  #f1f1f1;\n",
       "        }    #T_e5918770_15f6_11ec_b8fb_02420a397a97row1_col2 {\n",
       "            background-color:  #0e7936;\n",
       "            color:  #f1f1f1;\n",
       "        }    #T_e5918770_15f6_11ec_b8fb_02420a397a97row1_col3 {\n",
       "            background-color:  #73c476;\n",
       "            color:  #000000;\n",
       "        }    #T_e5918770_15f6_11ec_b8fb_02420a397a97row1_col4 {\n",
       "            background-color:  #005221;\n",
       "            color:  #f1f1f1;\n",
       "        }    #T_e5918770_15f6_11ec_b8fb_02420a397a97row1_col5 {\n",
       "            background-color:  #8ed08b;\n",
       "            color:  #000000;\n",
       "        }    #T_e5918770_15f6_11ec_b8fb_02420a397a97row1_col6 {\n",
       "            background-color:  #f4fbf1;\n",
       "            color:  #000000;\n",
       "        }    #T_e5918770_15f6_11ec_b8fb_02420a397a97row1_col7 {\n",
       "            background-color:  #005622;\n",
       "            color:  #f1f1f1;\n",
       "        }    #T_e5918770_15f6_11ec_b8fb_02420a397a97row2_col0 {\n",
       "            background-color:  #f2faf0;\n",
       "            color:  #000000;\n",
       "        }    #T_e5918770_15f6_11ec_b8fb_02420a397a97row2_col1 {\n",
       "            background-color:  #0c7735;\n",
       "            color:  #f1f1f1;\n",
       "        }    #T_e5918770_15f6_11ec_b8fb_02420a397a97row2_col2 {\n",
       "            background-color:  #00441b;\n",
       "            color:  #f1f1f1;\n",
       "        }    #T_e5918770_15f6_11ec_b8fb_02420a397a97row2_col3 {\n",
       "            background-color:  #76c578;\n",
       "            color:  #000000;\n",
       "        }    #T_e5918770_15f6_11ec_b8fb_02420a397a97row2_col4 {\n",
       "            background-color:  #005221;\n",
       "            color:  #f1f1f1;\n",
       "        }    #T_e5918770_15f6_11ec_b8fb_02420a397a97row2_col5 {\n",
       "            background-color:  #a5db9f;\n",
       "            color:  #000000;\n",
       "        }    #T_e5918770_15f6_11ec_b8fb_02420a397a97row2_col6 {\n",
       "            background-color:  #f7fcf5;\n",
       "            color:  #000000;\n",
       "        }    #T_e5918770_15f6_11ec_b8fb_02420a397a97row2_col7 {\n",
       "            background-color:  #004e1f;\n",
       "            color:  #f1f1f1;\n",
       "        }    #T_e5918770_15f6_11ec_b8fb_02420a397a97row3_col0 {\n",
       "            background-color:  #dff3da;\n",
       "            color:  #000000;\n",
       "        }    #T_e5918770_15f6_11ec_b8fb_02420a397a97row3_col1 {\n",
       "            background-color:  #55b567;\n",
       "            color:  #000000;\n",
       "        }    #T_e5918770_15f6_11ec_b8fb_02420a397a97row3_col2 {\n",
       "            background-color:  #5db96b;\n",
       "            color:  #000000;\n",
       "        }    #T_e5918770_15f6_11ec_b8fb_02420a397a97row3_col3 {\n",
       "            background-color:  #00441b;\n",
       "            color:  #f1f1f1;\n",
       "        }    #T_e5918770_15f6_11ec_b8fb_02420a397a97row3_col4 {\n",
       "            background-color:  #4eb264;\n",
       "            color:  #000000;\n",
       "        }    #T_e5918770_15f6_11ec_b8fb_02420a397a97row3_col5 {\n",
       "            background-color:  #acdea6;\n",
       "            color:  #000000;\n",
       "        }    #T_e5918770_15f6_11ec_b8fb_02420a397a97row3_col6 {\n",
       "            background-color:  #d1edcb;\n",
       "            color:  #000000;\n",
       "        }    #T_e5918770_15f6_11ec_b8fb_02420a397a97row3_col7 {\n",
       "            background-color:  #45ad5f;\n",
       "            color:  #000000;\n",
       "        }    #T_e5918770_15f6_11ec_b8fb_02420a397a97row4_col0 {\n",
       "            background-color:  #f6fcf4;\n",
       "            color:  #000000;\n",
       "        }    #T_e5918770_15f6_11ec_b8fb_02420a397a97row4_col1 {\n",
       "            background-color:  #005221;\n",
       "            color:  #f1f1f1;\n",
       "        }    #T_e5918770_15f6_11ec_b8fb_02420a397a97row4_col2 {\n",
       "            background-color:  #005221;\n",
       "            color:  #f1f1f1;\n",
       "        }    #T_e5918770_15f6_11ec_b8fb_02420a397a97row4_col3 {\n",
       "            background-color:  #6abf71;\n",
       "            color:  #000000;\n",
       "        }    #T_e5918770_15f6_11ec_b8fb_02420a397a97row4_col4 {\n",
       "            background-color:  #00441b;\n",
       "            color:  #f1f1f1;\n",
       "        }    #T_e5918770_15f6_11ec_b8fb_02420a397a97row4_col5 {\n",
       "            background-color:  #91d28e;\n",
       "            color:  #000000;\n",
       "        }    #T_e5918770_15f6_11ec_b8fb_02420a397a97row4_col6 {\n",
       "            background-color:  #f5fbf3;\n",
       "            color:  #000000;\n",
       "        }    #T_e5918770_15f6_11ec_b8fb_02420a397a97row4_col7 {\n",
       "            background-color:  #00441b;\n",
       "            color:  #f1f1f1;\n",
       "        }    #T_e5918770_15f6_11ec_b8fb_02420a397a97row5_col0 {\n",
       "            background-color:  #d8f0d2;\n",
       "            color:  #000000;\n",
       "        }    #T_e5918770_15f6_11ec_b8fb_02420a397a97row5_col1 {\n",
       "            background-color:  #66bd6f;\n",
       "            color:  #000000;\n",
       "        }    #T_e5918770_15f6_11ec_b8fb_02420a397a97row5_col2 {\n",
       "            background-color:  #83cb82;\n",
       "            color:  #000000;\n",
       "        }    #T_e5918770_15f6_11ec_b8fb_02420a397a97row5_col3 {\n",
       "            background-color:  #a5db9f;\n",
       "            color:  #000000;\n",
       "        }    #T_e5918770_15f6_11ec_b8fb_02420a397a97row5_col4 {\n",
       "            background-color:  #6bc072;\n",
       "            color:  #000000;\n",
       "        }    #T_e5918770_15f6_11ec_b8fb_02420a397a97row5_col5 {\n",
       "            background-color:  #00441b;\n",
       "            color:  #f1f1f1;\n",
       "        }    #T_e5918770_15f6_11ec_b8fb_02420a397a97row5_col6 {\n",
       "            background-color:  #53b466;\n",
       "            color:  #000000;\n",
       "        }    #T_e5918770_15f6_11ec_b8fb_02420a397a97row5_col7 {\n",
       "            background-color:  #6dc072;\n",
       "            color:  #000000;\n",
       "        }    #T_e5918770_15f6_11ec_b8fb_02420a397a97row6_col0 {\n",
       "            background-color:  #b1e0ab;\n",
       "            color:  #000000;\n",
       "        }    #T_e5918770_15f6_11ec_b8fb_02420a397a97row6_col1 {\n",
       "            background-color:  #d8f0d2;\n",
       "            color:  #000000;\n",
       "        }    #T_e5918770_15f6_11ec_b8fb_02420a397a97row6_col2 {\n",
       "            background-color:  #e4f5df;\n",
       "            color:  #000000;\n",
       "        }    #T_e5918770_15f6_11ec_b8fb_02420a397a97row6_col3 {\n",
       "            background-color:  #ceecc8;\n",
       "            color:  #000000;\n",
       "        }    #T_e5918770_15f6_11ec_b8fb_02420a397a97row6_col4 {\n",
       "            background-color:  #dcf2d7;\n",
       "            color:  #000000;\n",
       "        }    #T_e5918770_15f6_11ec_b8fb_02420a397a97row6_col5 {\n",
       "            background-color:  #58b668;\n",
       "            color:  #000000;\n",
       "        }    #T_e5918770_15f6_11ec_b8fb_02420a397a97row6_col6 {\n",
       "            background-color:  #00441b;\n",
       "            color:  #f1f1f1;\n",
       "        }    #T_e5918770_15f6_11ec_b8fb_02420a397a97row6_col7 {\n",
       "            background-color:  #dbf1d6;\n",
       "            color:  #000000;\n",
       "        }    #T_e5918770_15f6_11ec_b8fb_02420a397a97row7_col0 {\n",
       "            background-color:  #f6fcf4;\n",
       "            color:  #000000;\n",
       "        }    #T_e5918770_15f6_11ec_b8fb_02420a397a97row7_col1 {\n",
       "            background-color:  #005622;\n",
       "            color:  #f1f1f1;\n",
       "        }    #T_e5918770_15f6_11ec_b8fb_02420a397a97row7_col2 {\n",
       "            background-color:  #004e1f;\n",
       "            color:  #f1f1f1;\n",
       "        }    #T_e5918770_15f6_11ec_b8fb_02420a397a97row7_col3 {\n",
       "            background-color:  #5eb96b;\n",
       "            color:  #000000;\n",
       "        }    #T_e5918770_15f6_11ec_b8fb_02420a397a97row7_col4 {\n",
       "            background-color:  #00441b;\n",
       "            color:  #f1f1f1;\n",
       "        }    #T_e5918770_15f6_11ec_b8fb_02420a397a97row7_col5 {\n",
       "            background-color:  #91d28e;\n",
       "            color:  #000000;\n",
       "        }    #T_e5918770_15f6_11ec_b8fb_02420a397a97row7_col6 {\n",
       "            background-color:  #f5fbf2;\n",
       "            color:  #000000;\n",
       "        }    #T_e5918770_15f6_11ec_b8fb_02420a397a97row7_col7 {\n",
       "            background-color:  #00441b;\n",
       "            color:  #f1f1f1;\n",
       "        }</style><table id=\"T_e5918770_15f6_11ec_b8fb_02420a397a97\" ><thead>    <tr>        <th class=\"blank level0\" ></th>        <th class=\"col_heading level0 col0\" >year_of_release</th>        <th class=\"col_heading level0 col1\" >na_sales</th>        <th class=\"col_heading level0 col2\" >eu_sales</th>        <th class=\"col_heading level0 col3\" >jp_sales</th>        <th class=\"col_heading level0 col4\" >other_sales</th>        <th class=\"col_heading level0 col5\" >critic_score</th>        <th class=\"col_heading level0 col6\" >user_score</th>        <th class=\"col_heading level0 col7\" >total_sales</th>    </tr></thead><tbody>\n",
       "                <tr>\n",
       "                        <th id=\"T_e5918770_15f6_11ec_b8fb_02420a397a97level0_row0\" class=\"row_heading level0 row0\" >year_of_release</th>\n",
       "                        <td id=\"T_e5918770_15f6_11ec_b8fb_02420a397a97row0_col0\" class=\"data row0 col0\" >1</td>\n",
       "                        <td id=\"T_e5918770_15f6_11ec_b8fb_02420a397a97row0_col1\" class=\"data row0 col1\" >-0.248961</td>\n",
       "                        <td id=\"T_e5918770_15f6_11ec_b8fb_02420a397a97row0_col2\" class=\"data row0 col2\" >-0.208306</td>\n",
       "                        <td id=\"T_e5918770_15f6_11ec_b8fb_02420a397a97row0_col3\" class=\"data row0 col3\" >-0.0609933</td>\n",
       "                        <td id=\"T_e5918770_15f6_11ec_b8fb_02420a397a97row0_col4\" class=\"data row0 col4\" >-0.234796</td>\n",
       "                        <td id=\"T_e5918770_15f6_11ec_b8fb_02420a397a97row0_col5\" class=\"data row0 col5\" >-0.0211424</td>\n",
       "                        <td id=\"T_e5918770_15f6_11ec_b8fb_02420a397a97row0_col6\" class=\"data row0 col6\" >0.152447</td>\n",
       "                        <td id=\"T_e5918770_15f6_11ec_b8fb_02420a397a97row0_col7\" class=\"data row0 col7\" >-0.235032</td>\n",
       "            </tr>\n",
       "            <tr>\n",
       "                        <th id=\"T_e5918770_15f6_11ec_b8fb_02420a397a97level0_row1\" class=\"row_heading level0 row1\" >na_sales</th>\n",
       "                        <td id=\"T_e5918770_15f6_11ec_b8fb_02420a397a97row1_col0\" class=\"data row1 col0\" >-0.248961</td>\n",
       "                        <td id=\"T_e5918770_15f6_11ec_b8fb_02420a397a97row1_col1\" class=\"data row1 col1\" >1</td>\n",
       "                        <td id=\"T_e5918770_15f6_11ec_b8fb_02420a397a97row1_col2\" class=\"data row1 col2\" >0.785362</td>\n",
       "                        <td id=\"T_e5918770_15f6_11ec_b8fb_02420a397a97row1_col3\" class=\"data row1 col3\" >0.472981</td>\n",
       "                        <td id=\"T_e5918770_15f6_11ec_b8fb_02420a397a97row1_col4\" class=\"data row1 col4\" >0.944259</td>\n",
       "                        <td id=\"T_e5918770_15f6_11ec_b8fb_02420a397a97row1_col5\" class=\"data row1 col5\" >0.415008</td>\n",
       "                        <td id=\"T_e5918770_15f6_11ec_b8fb_02420a397a97row1_col6\" class=\"data row1 col6\" >-0.020933</td>\n",
       "                        <td id=\"T_e5918770_15f6_11ec_b8fb_02420a397a97row1_col7\" class=\"data row1 col7\" >0.92816</td>\n",
       "            </tr>\n",
       "            <tr>\n",
       "                        <th id=\"T_e5918770_15f6_11ec_b8fb_02420a397a97level0_row2\" class=\"row_heading level0 row2\" >eu_sales</th>\n",
       "                        <td id=\"T_e5918770_15f6_11ec_b8fb_02420a397a97row2_col0\" class=\"data row2 col0\" >-0.208306</td>\n",
       "                        <td id=\"T_e5918770_15f6_11ec_b8fb_02420a397a97row2_col1\" class=\"data row2 col1\" >0.785362</td>\n",
       "                        <td id=\"T_e5918770_15f6_11ec_b8fb_02420a397a97row2_col2\" class=\"data row2 col2\" >1</td>\n",
       "                        <td id=\"T_e5918770_15f6_11ec_b8fb_02420a397a97row2_col3\" class=\"data row2 col3\" >0.464563</td>\n",
       "                        <td id=\"T_e5918770_15f6_11ec_b8fb_02420a397a97row2_col4\" class=\"data row2 col4\" >0.944698</td>\n",
       "                        <td id=\"T_e5918770_15f6_11ec_b8fb_02420a397a97row2_col5\" class=\"data row2 col5\" >0.34672</td>\n",
       "                        <td id=\"T_e5918770_15f6_11ec_b8fb_02420a397a97row2_col6\" class=\"data row2 col6\" >-0.0489248</td>\n",
       "                        <td id=\"T_e5918770_15f6_11ec_b8fb_02420a397a97row2_col7\" class=\"data row2 col7\" >0.958157</td>\n",
       "            </tr>\n",
       "            <tr>\n",
       "                        <th id=\"T_e5918770_15f6_11ec_b8fb_02420a397a97level0_row3\" class=\"row_heading level0 row3\" >jp_sales</th>\n",
       "                        <td id=\"T_e5918770_15f6_11ec_b8fb_02420a397a97row3_col0\" class=\"data row3 col0\" >-0.0609933</td>\n",
       "                        <td id=\"T_e5918770_15f6_11ec_b8fb_02420a397a97row3_col1\" class=\"data row3 col1\" >0.472981</td>\n",
       "                        <td id=\"T_e5918770_15f6_11ec_b8fb_02420a397a97row3_col2\" class=\"data row3 col2\" >0.464563</td>\n",
       "                        <td id=\"T_e5918770_15f6_11ec_b8fb_02420a397a97row3_col3\" class=\"data row3 col3\" >1</td>\n",
       "                        <td id=\"T_e5918770_15f6_11ec_b8fb_02420a397a97row3_col4\" class=\"data row3 col4\" >0.496467</td>\n",
       "                        <td id=\"T_e5918770_15f6_11ec_b8fb_02420a397a97row3_col5\" class=\"data row3 col5\" >0.322358</td>\n",
       "                        <td id=\"T_e5918770_15f6_11ec_b8fb_02420a397a97row3_col6\" class=\"data row3 col6\" >0.171332</td>\n",
       "                        <td id=\"T_e5918770_15f6_11ec_b8fb_02420a397a97row3_col7\" class=\"data row3 col7\" >0.527129</td>\n",
       "            </tr>\n",
       "            <tr>\n",
       "                        <th id=\"T_e5918770_15f6_11ec_b8fb_02420a397a97level0_row4\" class=\"row_heading level0 row4\" >other_sales</th>\n",
       "                        <td id=\"T_e5918770_15f6_11ec_b8fb_02420a397a97row4_col0\" class=\"data row4 col0\" >-0.234796</td>\n",
       "                        <td id=\"T_e5918770_15f6_11ec_b8fb_02420a397a97row4_col1\" class=\"data row4 col1\" >0.944259</td>\n",
       "                        <td id=\"T_e5918770_15f6_11ec_b8fb_02420a397a97row4_col2\" class=\"data row4 col2\" >0.944698</td>\n",
       "                        <td id=\"T_e5918770_15f6_11ec_b8fb_02420a397a97row4_col3\" class=\"data row4 col3\" >0.496467</td>\n",
       "                        <td id=\"T_e5918770_15f6_11ec_b8fb_02420a397a97row4_col4\" class=\"data row4 col4\" >1</td>\n",
       "                        <td id=\"T_e5918770_15f6_11ec_b8fb_02420a397a97row4_col5\" class=\"data row4 col5\" >0.409191</td>\n",
       "                        <td id=\"T_e5918770_15f6_11ec_b8fb_02420a397a97row4_col6\" class=\"data row4 col6\" >-0.0356391</td>\n",
       "                        <td id=\"T_e5918770_15f6_11ec_b8fb_02420a397a97row4_col7\" class=\"data row4 col7\" >0.998051</td>\n",
       "            </tr>\n",
       "            <tr>\n",
       "                        <th id=\"T_e5918770_15f6_11ec_b8fb_02420a397a97level0_row5\" class=\"row_heading level0 row5\" >critic_score</th>\n",
       "                        <td id=\"T_e5918770_15f6_11ec_b8fb_02420a397a97row5_col0\" class=\"data row5 col0\" >-0.0211424</td>\n",
       "                        <td id=\"T_e5918770_15f6_11ec_b8fb_02420a397a97row5_col1\" class=\"data row5 col1\" >0.415008</td>\n",
       "                        <td id=\"T_e5918770_15f6_11ec_b8fb_02420a397a97row5_col2\" class=\"data row5 col2\" >0.34672</td>\n",
       "                        <td id=\"T_e5918770_15f6_11ec_b8fb_02420a397a97row5_col3\" class=\"data row5 col3\" >0.322358</td>\n",
       "                        <td id=\"T_e5918770_15f6_11ec_b8fb_02420a397a97row5_col4\" class=\"data row5 col4\" >0.409191</td>\n",
       "                        <td id=\"T_e5918770_15f6_11ec_b8fb_02420a397a97row5_col5\" class=\"data row5 col5\" >1</td>\n",
       "                        <td id=\"T_e5918770_15f6_11ec_b8fb_02420a397a97row5_col6\" class=\"data row5 col6\" >0.557654</td>\n",
       "                        <td id=\"T_e5918770_15f6_11ec_b8fb_02420a397a97row5_col7\" class=\"data row5 col7\" >0.406568</td>\n",
       "            </tr>\n",
       "            <tr>\n",
       "                        <th id=\"T_e5918770_15f6_11ec_b8fb_02420a397a97level0_row6\" class=\"row_heading level0 row6\" >user_score</th>\n",
       "                        <td id=\"T_e5918770_15f6_11ec_b8fb_02420a397a97row6_col0\" class=\"data row6 col0\" >0.152447</td>\n",
       "                        <td id=\"T_e5918770_15f6_11ec_b8fb_02420a397a97row6_col1\" class=\"data row6 col1\" >-0.020933</td>\n",
       "                        <td id=\"T_e5918770_15f6_11ec_b8fb_02420a397a97row6_col2\" class=\"data row6 col2\" >-0.0489248</td>\n",
       "                        <td id=\"T_e5918770_15f6_11ec_b8fb_02420a397a97row6_col3\" class=\"data row6 col3\" >0.171332</td>\n",
       "                        <td id=\"T_e5918770_15f6_11ec_b8fb_02420a397a97row6_col4\" class=\"data row6 col4\" >-0.0356391</td>\n",
       "                        <td id=\"T_e5918770_15f6_11ec_b8fb_02420a397a97row6_col5\" class=\"data row6 col5\" >0.557654</td>\n",
       "                        <td id=\"T_e5918770_15f6_11ec_b8fb_02420a397a97row6_col6\" class=\"data row6 col6\" >1</td>\n",
       "                        <td id=\"T_e5918770_15f6_11ec_b8fb_02420a397a97row6_col7\" class=\"data row6 col7\" >-0.0319571</td>\n",
       "            </tr>\n",
       "            <tr>\n",
       "                        <th id=\"T_e5918770_15f6_11ec_b8fb_02420a397a97level0_row7\" class=\"row_heading level0 row7\" >total_sales</th>\n",
       "                        <td id=\"T_e5918770_15f6_11ec_b8fb_02420a397a97row7_col0\" class=\"data row7 col0\" >-0.235032</td>\n",
       "                        <td id=\"T_e5918770_15f6_11ec_b8fb_02420a397a97row7_col1\" class=\"data row7 col1\" >0.92816</td>\n",
       "                        <td id=\"T_e5918770_15f6_11ec_b8fb_02420a397a97row7_col2\" class=\"data row7 col2\" >0.958157</td>\n",
       "                        <td id=\"T_e5918770_15f6_11ec_b8fb_02420a397a97row7_col3\" class=\"data row7 col3\" >0.527129</td>\n",
       "                        <td id=\"T_e5918770_15f6_11ec_b8fb_02420a397a97row7_col4\" class=\"data row7 col4\" >0.998051</td>\n",
       "                        <td id=\"T_e5918770_15f6_11ec_b8fb_02420a397a97row7_col5\" class=\"data row7 col5\" >0.406568</td>\n",
       "                        <td id=\"T_e5918770_15f6_11ec_b8fb_02420a397a97row7_col6\" class=\"data row7 col6\" >-0.0319571</td>\n",
       "                        <td id=\"T_e5918770_15f6_11ec_b8fb_02420a397a97row7_col7\" class=\"data row7 col7\" >1</td>\n",
       "            </tr>\n",
       "    </tbody></table>"
      ],
      "text/plain": [
       "<pandas.io.formats.style.Styler at 0x7f29356c2e10>"
      ]
     },
     "execution_count": 27,
     "metadata": {},
     "output_type": "execute_result"
    }
   ],
   "source": [
    "df_filtered.query('platform == \"PS4\"').corr().style.background_gradient(cmap=\"Greens\")"
   ]
  },
  {
   "cell_type": "markdown",
   "metadata": {},
   "source": [
    "Матрица корреляций показывает, что зависимость между оценкой критиков и суммарными продажами ниже средней (0.407), а между оценкой пользователей и суммарными продажами и вовсе обратная (-0.032). Построим диаграммы рассеивания, чтобы визуализировать распределение оценок."
   ]
  },
  {
   "cell_type": "code",
   "execution_count": 28,
   "metadata": {},
   "outputs": [
    {
     "data": {
      "image/png": "[encoded data removed]",
      "text/plain": [
       "<Figure size 864x432 with 2 Axes>"
      ]
     },
     "metadata": {
      "needs_background": "light"
     },
     "output_type": "display_data"
    }
   ],
   "source": [
    "fig2, axes = plt.subplots(ncols=2, figsize=(12,6))\n",
    "\n",
    "axes[0].set_title('Зависимость продаж от оценок критиков')\n",
    "sns.scatterplot(data=df_filtered.query('platform == \"PS4\"'), ax=axes[0], x='total_sales', y='critic_score')\n",
    "axes[0].set_ylabel('Оценка критиков')\n",
    "axes[0].set_xlabel('Количество проданных копий, млн')\n",
    "\n",
    "axes[1].set_title('Зависимость продаж от оценок пользователей')\n",
    "sns.scatterplot(data=df_filtered.query('platform == \"PS4\"'), ax=axes[1], x='total_sales', y='user_score', color='red')\n",
    "axes[1].set_ylabel('Оценка пользователей')\n",
    "axes[1].set_xlabel('Количество проданных копий, млн')\n",
    "\n",
    "fig.tight_layout()"
   ]
  },
  {
   "cell_type": "markdown",
   "metadata": {},
   "source": [
    "Диаграммы рассеивания подтверждают коэффициенты из матрицы: на левом графике видна зависимость между высокой оценкой критиков и ростом продаж: после 50 баллов всё больше точек смещается вправо, самые продаваемые игры имеют оценку не менее 80 баллов. Зависимость между оценками пользователей и числом проданных копий не такая очевидная: есть игры с оценкой от 3 до 7 баллов, проданные в количестве более 3 млн экземпляров. Такая разница может быть вызвана тем, что игры, высоко оцененные критикой, покупают активнее, и в то же время среди пользователей будет больше людей, ожидания которых игра не оправдает, поэтому они поставят ей низкую оценку."
   ]
  },
  {
   "cell_type": "markdown",
   "metadata": {},
   "source": [
    "Теперь рассчитаем показатели и построим диаграммы для всех платформ."
   ]
  },
  {
   "cell_type": "code",
   "execution_count": 29,
   "metadata": {},
   "outputs": [
    {
     "data": {
      "text/html": [
       "<style  type=\"text/css\" >\n",
       "    #T_e6671eee_15f6_11ec_b8fb_02420a397a97row0_col0 {\n",
       "            background-color:  #00441b;\n",
       "            color:  #f1f1f1;\n",
       "        }    #T_e6671eee_15f6_11ec_b8fb_02420a397a97row0_col1 {\n",
       "            background-color:  #f7fcf5;\n",
       "            color:  #000000;\n",
       "        }    #T_e6671eee_15f6_11ec_b8fb_02420a397a97row0_col2 {\n",
       "            background-color:  #f7fcf5;\n",
       "            color:  #000000;\n",
       "        }    #T_e6671eee_15f6_11ec_b8fb_02420a397a97row0_col3 {\n",
       "            background-color:  #f7fcf5;\n",
       "            color:  #000000;\n",
       "        }    #T_e6671eee_15f6_11ec_b8fb_02420a397a97row0_col4 {\n",
       "            background-color:  #f7fcf5;\n",
       "            color:  #000000;\n",
       "        }    #T_e6671eee_15f6_11ec_b8fb_02420a397a97row0_col5 {\n",
       "            background-color:  #f7fcf5;\n",
       "            color:  #000000;\n",
       "        }    #T_e6671eee_15f6_11ec_b8fb_02420a397a97row0_col6 {\n",
       "            background-color:  #f7fcf5;\n",
       "            color:  #000000;\n",
       "        }    #T_e6671eee_15f6_11ec_b8fb_02420a397a97row0_col7 {\n",
       "            background-color:  #f7fcf5;\n",
       "            color:  #000000;\n",
       "        }    #T_e6671eee_15f6_11ec_b8fb_02420a397a97row1_col0 {\n",
       "            background-color:  #f7fcf5;\n",
       "            color:  #000000;\n",
       "        }    #T_e6671eee_15f6_11ec_b8fb_02420a397a97row1_col1 {\n",
       "            background-color:  #00441b;\n",
       "            color:  #f1f1f1;\n",
       "        }    #T_e6671eee_15f6_11ec_b8fb_02420a397a97row1_col2 {\n",
       "            background-color:  #1a843f;\n",
       "            color:  #000000;\n",
       "        }    #T_e6671eee_15f6_11ec_b8fb_02420a397a97row1_col3 {\n",
       "            background-color:  #b4e1ad;\n",
       "            color:  #000000;\n",
       "        }    #T_e6671eee_15f6_11ec_b8fb_02420a397a97row1_col4 {\n",
       "            background-color:  #147e3a;\n",
       "            color:  #f1f1f1;\n",
       "        }    #T_e6671eee_15f6_11ec_b8fb_02420a397a97row1_col5 {\n",
       "            background-color:  #bee5b8;\n",
       "            color:  #000000;\n",
       "        }    #T_e6671eee_15f6_11ec_b8fb_02420a397a97row1_col6 {\n",
       "            background-color:  #f6fcf4;\n",
       "            color:  #000000;\n",
       "        }    #T_e6671eee_15f6_11ec_b8fb_02420a397a97row1_col7 {\n",
       "            background-color:  #005b25;\n",
       "            color:  #f1f1f1;\n",
       "        }    #T_e6671eee_15f6_11ec_b8fb_02420a397a97row2_col0 {\n",
       "            background-color:  #f2faef;\n",
       "            color:  #000000;\n",
       "        }    #T_e6671eee_15f6_11ec_b8fb_02420a397a97row2_col1 {\n",
       "            background-color:  #18823d;\n",
       "            color:  #f1f1f1;\n",
       "        }    #T_e6671eee_15f6_11ec_b8fb_02420a397a97row2_col2 {\n",
       "            background-color:  #00441b;\n",
       "            color:  #f1f1f1;\n",
       "        }    #T_e6671eee_15f6_11ec_b8fb_02420a397a97row2_col3 {\n",
       "            background-color:  #b5e1ae;\n",
       "            color:  #000000;\n",
       "        }    #T_e6671eee_15f6_11ec_b8fb_02420a397a97row2_col4 {\n",
       "            background-color:  #005723;\n",
       "            color:  #f1f1f1;\n",
       "        }    #T_e6671eee_15f6_11ec_b8fb_02420a397a97row2_col5 {\n",
       "            background-color:  #c1e6ba;\n",
       "            color:  #000000;\n",
       "        }    #T_e6671eee_15f6_11ec_b8fb_02420a397a97row2_col6 {\n",
       "            background-color:  #f7fcf5;\n",
       "            color:  #000000;\n",
       "        }    #T_e6671eee_15f6_11ec_b8fb_02420a397a97row2_col7 {\n",
       "            background-color:  #005a24;\n",
       "            color:  #f1f1f1;\n",
       "        }    #T_e6671eee_15f6_11ec_b8fb_02420a397a97row3_col0 {\n",
       "            background-color:  #f4fbf1;\n",
       "            color:  #000000;\n",
       "        }    #T_e6671eee_15f6_11ec_b8fb_02420a397a97row3_col1 {\n",
       "            background-color:  #aedea7;\n",
       "            color:  #000000;\n",
       "        }    #T_e6671eee_15f6_11ec_b8fb_02420a397a97row3_col2 {\n",
       "            background-color:  #b7e2b1;\n",
       "            color:  #000000;\n",
       "        }    #T_e6671eee_15f6_11ec_b8fb_02420a397a97row3_col3 {\n",
       "            background-color:  #00441b;\n",
       "            color:  #f1f1f1;\n",
       "        }    #T_e6671eee_15f6_11ec_b8fb_02420a397a97row3_col4 {\n",
       "            background-color:  #c8e9c1;\n",
       "            color:  #000000;\n",
       "        }    #T_e6671eee_15f6_11ec_b8fb_02420a397a97row3_col5 {\n",
       "            background-color:  #e8f6e4;\n",
       "            color:  #000000;\n",
       "        }    #T_e6671eee_15f6_11ec_b8fb_02420a397a97row3_col6 {\n",
       "            background-color:  #d8f0d2;\n",
       "            color:  #000000;\n",
       "        }    #T_e6671eee_15f6_11ec_b8fb_02420a397a97row3_col7 {\n",
       "            background-color:  #76c578;\n",
       "            color:  #000000;\n",
       "        }    #T_e6671eee_15f6_11ec_b8fb_02420a397a97row4_col0 {\n",
       "            background-color:  #f2faf0;\n",
       "            color:  #000000;\n",
       "        }    #T_e6671eee_15f6_11ec_b8fb_02420a397a97row4_col1 {\n",
       "            background-color:  #127c39;\n",
       "            color:  #f1f1f1;\n",
       "        }    #T_e6671eee_15f6_11ec_b8fb_02420a397a97row4_col2 {\n",
       "            background-color:  #005723;\n",
       "            color:  #f1f1f1;\n",
       "        }    #T_e6671eee_15f6_11ec_b8fb_02420a397a97row4_col3 {\n",
       "            background-color:  #c7e9c0;\n",
       "            color:  #000000;\n",
       "        }    #T_e6671eee_15f6_11ec_b8fb_02420a397a97row4_col4 {\n",
       "            background-color:  #00441b;\n",
       "            color:  #f1f1f1;\n",
       "        }    #T_e6671eee_15f6_11ec_b8fb_02420a397a97row4_col5 {\n",
       "            background-color:  #c4e8bd;\n",
       "            color:  #000000;\n",
       "        }    #T_e6671eee_15f6_11ec_b8fb_02420a397a97row4_col6 {\n",
       "            background-color:  #f6fcf4;\n",
       "            color:  #000000;\n",
       "        }    #T_e6671eee_15f6_11ec_b8fb_02420a397a97row4_col7 {\n",
       "            background-color:  #005f26;\n",
       "            color:  #f1f1f1;\n",
       "        }    #T_e6671eee_15f6_11ec_b8fb_02420a397a97row5_col0 {\n",
       "            background-color:  #e9f7e5;\n",
       "            color:  #000000;\n",
       "        }    #T_e6671eee_15f6_11ec_b8fb_02420a397a97row5_col1 {\n",
       "            background-color:  #a9dca3;\n",
       "            color:  #000000;\n",
       "        }    #T_e6671eee_15f6_11ec_b8fb_02420a397a97row5_col2 {\n",
       "            background-color:  #b2e0ac;\n",
       "            color:  #000000;\n",
       "        }    #T_e6671eee_15f6_11ec_b8fb_02420a397a97row5_col3 {\n",
       "            background-color:  #dbf1d5;\n",
       "            color:  #000000;\n",
       "        }    #T_e6671eee_15f6_11ec_b8fb_02420a397a97row5_col4 {\n",
       "            background-color:  #b5e1ae;\n",
       "            color:  #000000;\n",
       "        }    #T_e6671eee_15f6_11ec_b8fb_02420a397a97row5_col5 {\n",
       "            background-color:  #00441b;\n",
       "            color:  #f1f1f1;\n",
       "        }    #T_e6671eee_15f6_11ec_b8fb_02420a397a97row5_col6 {\n",
       "            background-color:  #68be70;\n",
       "            color:  #000000;\n",
       "        }    #T_e6671eee_15f6_11ec_b8fb_02420a397a97row5_col7 {\n",
       "            background-color:  #a5db9f;\n",
       "            color:  #000000;\n",
       "        }    #T_e6671eee_15f6_11ec_b8fb_02420a397a97row6_col0 {\n",
       "            background-color:  #edf8ea;\n",
       "            color:  #000000;\n",
       "        }    #T_e6671eee_15f6_11ec_b8fb_02420a397a97row6_col1 {\n",
       "            background-color:  #edf8e9;\n",
       "            color:  #000000;\n",
       "        }    #T_e6671eee_15f6_11ec_b8fb_02420a397a97row6_col2 {\n",
       "            background-color:  #f3faf0;\n",
       "            color:  #000000;\n",
       "        }    #T_e6671eee_15f6_11ec_b8fb_02420a397a97row6_col3 {\n",
       "            background-color:  #d0edca;\n",
       "            color:  #000000;\n",
       "        }    #T_e6671eee_15f6_11ec_b8fb_02420a397a97row6_col4 {\n",
       "            background-color:  #f1faee;\n",
       "            color:  #000000;\n",
       "        }    #T_e6671eee_15f6_11ec_b8fb_02420a397a97row6_col5 {\n",
       "            background-color:  #70c274;\n",
       "            color:  #000000;\n",
       "        }    #T_e6671eee_15f6_11ec_b8fb_02420a397a97row6_col6 {\n",
       "            background-color:  #00441b;\n",
       "            color:  #f1f1f1;\n",
       "        }    #T_e6671eee_15f6_11ec_b8fb_02420a397a97row6_col7 {\n",
       "            background-color:  #ecf8e8;\n",
       "            color:  #000000;\n",
       "        }    #T_e6671eee_15f6_11ec_b8fb_02420a397a97row7_col0 {\n",
       "            background-color:  #f6fcf4;\n",
       "            color:  #000000;\n",
       "        }    #T_e6671eee_15f6_11ec_b8fb_02420a397a97row7_col1 {\n",
       "            background-color:  #005b25;\n",
       "            color:  #f1f1f1;\n",
       "        }    #T_e6671eee_15f6_11ec_b8fb_02420a397a97row7_col2 {\n",
       "            background-color:  #005a24;\n",
       "            color:  #f1f1f1;\n",
       "        }    #T_e6671eee_15f6_11ec_b8fb_02420a397a97row7_col3 {\n",
       "            background-color:  #7ac77b;\n",
       "            color:  #000000;\n",
       "        }    #T_e6671eee_15f6_11ec_b8fb_02420a397a97row7_col4 {\n",
       "            background-color:  #005f26;\n",
       "            color:  #f1f1f1;\n",
       "        }    #T_e6671eee_15f6_11ec_b8fb_02420a397a97row7_col5 {\n",
       "            background-color:  #b8e3b2;\n",
       "            color:  #000000;\n",
       "        }    #T_e6671eee_15f6_11ec_b8fb_02420a397a97row7_col6 {\n",
       "            background-color:  #f4fbf1;\n",
       "            color:  #000000;\n",
       "        }    #T_e6671eee_15f6_11ec_b8fb_02420a397a97row7_col7 {\n",
       "            background-color:  #00441b;\n",
       "            color:  #f1f1f1;\n",
       "        }</style><table id=\"T_e6671eee_15f6_11ec_b8fb_02420a397a97\" ><thead>    <tr>        <th class=\"blank level0\" ></th>        <th class=\"col_heading level0 col0\" >year_of_release</th>        <th class=\"col_heading level0 col1\" >na_sales</th>        <th class=\"col_heading level0 col2\" >eu_sales</th>        <th class=\"col_heading level0 col3\" >jp_sales</th>        <th class=\"col_heading level0 col4\" >other_sales</th>        <th class=\"col_heading level0 col5\" >critic_score</th>        <th class=\"col_heading level0 col6\" >user_score</th>        <th class=\"col_heading level0 col7\" >total_sales</th>    </tr></thead><tbody>\n",
       "                <tr>\n",
       "                        <th id=\"T_e6671eee_15f6_11ec_b8fb_02420a397a97level0_row0\" class=\"row_heading level0 row0\" >year_of_release</th>\n",
       "                        <td id=\"T_e6671eee_15f6_11ec_b8fb_02420a397a97row0_col0\" class=\"data row0 col0\" >1</td>\n",
       "                        <td id=\"T_e6671eee_15f6_11ec_b8fb_02420a397a97row0_col1\" class=\"data row0 col1\" >-0.0928482</td>\n",
       "                        <td id=\"T_e6671eee_15f6_11ec_b8fb_02420a397a97row0_col2\" class=\"data row0 col2\" >-0.0531631</td>\n",
       "                        <td id=\"T_e6671eee_15f6_11ec_b8fb_02420a397a97row0_col3\" class=\"data row0 col3\" >-0.0635874</td>\n",
       "                        <td id=\"T_e6671eee_15f6_11ec_b8fb_02420a397a97row0_col4\" class=\"data row0 col4\" >-0.0573751</td>\n",
       "                        <td id=\"T_e6671eee_15f6_11ec_b8fb_02420a397a97row0_col5\" class=\"data row0 col5\" >0.0149694</td>\n",
       "                        <td id=\"T_e6671eee_15f6_11ec_b8fb_02420a397a97row0_col6\" class=\"data row0 col6\" >-0.0199963</td>\n",
       "                        <td id=\"T_e6671eee_15f6_11ec_b8fb_02420a397a97row0_col7\" class=\"data row0 col7\" >-0.0834881</td>\n",
       "            </tr>\n",
       "            <tr>\n",
       "                        <th id=\"T_e6671eee_15f6_11ec_b8fb_02420a397a97level0_row1\" class=\"row_heading level0 row1\" >na_sales</th>\n",
       "                        <td id=\"T_e6671eee_15f6_11ec_b8fb_02420a397a97row1_col0\" class=\"data row1 col0\" >-0.0928482</td>\n",
       "                        <td id=\"T_e6671eee_15f6_11ec_b8fb_02420a397a97row1_col1\" class=\"data row1 col1\" >1</td>\n",
       "                        <td id=\"T_e6671eee_15f6_11ec_b8fb_02420a397a97row1_col2\" class=\"data row1 col2\" >0.767484</td>\n",
       "                        <td id=\"T_e6671eee_15f6_11ec_b8fb_02420a397a97row1_col3\" class=\"data row1 col3\" >0.27101</td>\n",
       "                        <td id=\"T_e6671eee_15f6_11ec_b8fb_02420a397a97row1_col4\" class=\"data row1 col4\" >0.792277</td>\n",
       "                        <td id=\"T_e6671eee_15f6_11ec_b8fb_02420a397a97row1_col5\" class=\"data row1 col5\" >0.29024</td>\n",
       "                        <td id=\"T_e6671eee_15f6_11ec_b8fb_02420a397a97row1_col6\" class=\"data row1 col6\" >-0.0142173</td>\n",
       "                        <td id=\"T_e6671eee_15f6_11ec_b8fb_02420a397a97row1_col7\" class=\"data row1 col7\" >0.920981</td>\n",
       "            </tr>\n",
       "            <tr>\n",
       "                        <th id=\"T_e6671eee_15f6_11ec_b8fb_02420a397a97level0_row2\" class=\"row_heading level0 row2\" >eu_sales</th>\n",
       "                        <td id=\"T_e6671eee_15f6_11ec_b8fb_02420a397a97row2_col0\" class=\"data row2 col0\" >-0.0531631</td>\n",
       "                        <td id=\"T_e6671eee_15f6_11ec_b8fb_02420a397a97row2_col1\" class=\"data row2 col1\" >0.767484</td>\n",
       "                        <td id=\"T_e6671eee_15f6_11ec_b8fb_02420a397a97row2_col2\" class=\"data row2 col2\" >1</td>\n",
       "                        <td id=\"T_e6671eee_15f6_11ec_b8fb_02420a397a97row2_col3\" class=\"data row2 col3\" >0.265134</td>\n",
       "                        <td id=\"T_e6671eee_15f6_11ec_b8fb_02420a397a97row2_col4\" class=\"data row2 col4\" >0.936906</td>\n",
       "                        <td id=\"T_e6671eee_15f6_11ec_b8fb_02420a397a97row2_col5\" class=\"data row2 col5\" >0.283254</td>\n",
       "                        <td id=\"T_e6671eee_15f6_11ec_b8fb_02420a397a97row2_col6\" class=\"data row2 col6\" >-0.0220424</td>\n",
       "                        <td id=\"T_e6671eee_15f6_11ec_b8fb_02420a397a97row2_col7\" class=\"data row2 col7\" >0.927487</td>\n",
       "            </tr>\n",
       "            <tr>\n",
       "                        <th id=\"T_e6671eee_15f6_11ec_b8fb_02420a397a97level0_row3\" class=\"row_heading level0 row3\" >jp_sales</th>\n",
       "                        <td id=\"T_e6671eee_15f6_11ec_b8fb_02420a397a97row3_col0\" class=\"data row3 col0\" >-0.0635874</td>\n",
       "                        <td id=\"T_e6671eee_15f6_11ec_b8fb_02420a397a97row3_col1\" class=\"data row3 col1\" >0.27101</td>\n",
       "                        <td id=\"T_e6671eee_15f6_11ec_b8fb_02420a397a97row3_col2\" class=\"data row3 col2\" >0.265134</td>\n",
       "                        <td id=\"T_e6671eee_15f6_11ec_b8fb_02420a397a97row3_col3\" class=\"data row3 col3\" >1</td>\n",
       "                        <td id=\"T_e6671eee_15f6_11ec_b8fb_02420a397a97row3_col4\" class=\"data row3 col4\" >0.203078</td>\n",
       "                        <td id=\"T_e6671eee_15f6_11ec_b8fb_02420a397a97row3_col5\" class=\"data row3 col5\" >0.116596</td>\n",
       "                        <td id=\"T_e6671eee_15f6_11ec_b8fb_02420a397a97row3_col6\" class=\"data row3 col6\" >0.16398</td>\n",
       "                        <td id=\"T_e6671eee_15f6_11ec_b8fb_02420a397a97row3_col7\" class=\"data row3 col7\" >0.450363</td>\n",
       "            </tr>\n",
       "            <tr>\n",
       "                        <th id=\"T_e6671eee_15f6_11ec_b8fb_02420a397a97level0_row4\" class=\"row_heading level0 row4\" >other_sales</th>\n",
       "                        <td id=\"T_e6671eee_15f6_11ec_b8fb_02420a397a97row4_col0\" class=\"data row4 col0\" >-0.0573751</td>\n",
       "                        <td id=\"T_e6671eee_15f6_11ec_b8fb_02420a397a97row4_col1\" class=\"data row4 col1\" >0.792277</td>\n",
       "                        <td id=\"T_e6671eee_15f6_11ec_b8fb_02420a397a97row4_col2\" class=\"data row4 col2\" >0.936906</td>\n",
       "                        <td id=\"T_e6671eee_15f6_11ec_b8fb_02420a397a97row4_col3\" class=\"data row4 col3\" >0.203078</td>\n",
       "                        <td id=\"T_e6671eee_15f6_11ec_b8fb_02420a397a97row4_col4\" class=\"data row4 col4\" >1</td>\n",
       "                        <td id=\"T_e6671eee_15f6_11ec_b8fb_02420a397a97row4_col5\" class=\"data row4 col5\" >0.272509</td>\n",
       "                        <td id=\"T_e6671eee_15f6_11ec_b8fb_02420a397a97row4_col6\" class=\"data row4 col6\" >-0.0109093</td>\n",
       "                        <td id=\"T_e6671eee_15f6_11ec_b8fb_02420a397a97row4_col7\" class=\"data row4 col7\" >0.909525</td>\n",
       "            </tr>\n",
       "            <tr>\n",
       "                        <th id=\"T_e6671eee_15f6_11ec_b8fb_02420a397a97level0_row5\" class=\"row_heading level0 row5\" >critic_score</th>\n",
       "                        <td id=\"T_e6671eee_15f6_11ec_b8fb_02420a397a97row5_col0\" class=\"data row5 col0\" >0.0149694</td>\n",
       "                        <td id=\"T_e6671eee_15f6_11ec_b8fb_02420a397a97row5_col1\" class=\"data row5 col1\" >0.29024</td>\n",
       "                        <td id=\"T_e6671eee_15f6_11ec_b8fb_02420a397a97row5_col2\" class=\"data row5 col2\" >0.283254</td>\n",
       "                        <td id=\"T_e6671eee_15f6_11ec_b8fb_02420a397a97row5_col3\" class=\"data row5 col3\" >0.116596</td>\n",
       "                        <td id=\"T_e6671eee_15f6_11ec_b8fb_02420a397a97row5_col4\" class=\"data row5 col4\" >0.272509</td>\n",
       "                        <td id=\"T_e6671eee_15f6_11ec_b8fb_02420a397a97row5_col5\" class=\"data row5 col5\" >1</td>\n",
       "                        <td id=\"T_e6671eee_15f6_11ec_b8fb_02420a397a97row5_col6\" class=\"data row5 col6\" >0.517727</td>\n",
       "                        <td id=\"T_e6671eee_15f6_11ec_b8fb_02420a397a97row5_col7\" class=\"data row5 col7\" >0.308197</td>\n",
       "            </tr>\n",
       "            <tr>\n",
       "                        <th id=\"T_e6671eee_15f6_11ec_b8fb_02420a397a97level0_row6\" class=\"row_heading level0 row6\" >user_score</th>\n",
       "                        <td id=\"T_e6671eee_15f6_11ec_b8fb_02420a397a97row6_col0\" class=\"data row6 col0\" >-0.0199963</td>\n",
       "                        <td id=\"T_e6671eee_15f6_11ec_b8fb_02420a397a97row6_col1\" class=\"data row6 col1\" >-0.0142173</td>\n",
       "                        <td id=\"T_e6671eee_15f6_11ec_b8fb_02420a397a97row6_col2\" class=\"data row6 col2\" >-0.0220424</td>\n",
       "                        <td id=\"T_e6671eee_15f6_11ec_b8fb_02420a397a97row6_col3\" class=\"data row6 col3\" >0.16398</td>\n",
       "                        <td id=\"T_e6671eee_15f6_11ec_b8fb_02420a397a97row6_col4\" class=\"data row6 col4\" >-0.0109093</td>\n",
       "                        <td id=\"T_e6671eee_15f6_11ec_b8fb_02420a397a97row6_col5\" class=\"data row6 col5\" >0.517727</td>\n",
       "                        <td id=\"T_e6671eee_15f6_11ec_b8fb_02420a397a97row6_col6\" class=\"data row6 col6\" >1</td>\n",
       "                        <td id=\"T_e6671eee_15f6_11ec_b8fb_02420a397a97row6_col7\" class=\"data row6 col7\" >0.00442882</td>\n",
       "            </tr>\n",
       "            <tr>\n",
       "                        <th id=\"T_e6671eee_15f6_11ec_b8fb_02420a397a97level0_row7\" class=\"row_heading level0 row7\" >total_sales</th>\n",
       "                        <td id=\"T_e6671eee_15f6_11ec_b8fb_02420a397a97row7_col0\" class=\"data row7 col0\" >-0.0834881</td>\n",
       "                        <td id=\"T_e6671eee_15f6_11ec_b8fb_02420a397a97row7_col1\" class=\"data row7 col1\" >0.920981</td>\n",
       "                        <td id=\"T_e6671eee_15f6_11ec_b8fb_02420a397a97row7_col2\" class=\"data row7 col2\" >0.927487</td>\n",
       "                        <td id=\"T_e6671eee_15f6_11ec_b8fb_02420a397a97row7_col3\" class=\"data row7 col3\" >0.450363</td>\n",
       "                        <td id=\"T_e6671eee_15f6_11ec_b8fb_02420a397a97row7_col4\" class=\"data row7 col4\" >0.909525</td>\n",
       "                        <td id=\"T_e6671eee_15f6_11ec_b8fb_02420a397a97row7_col5\" class=\"data row7 col5\" >0.308197</td>\n",
       "                        <td id=\"T_e6671eee_15f6_11ec_b8fb_02420a397a97row7_col6\" class=\"data row7 col6\" >0.00442882</td>\n",
       "                        <td id=\"T_e6671eee_15f6_11ec_b8fb_02420a397a97row7_col7\" class=\"data row7 col7\" >1</td>\n",
       "            </tr>\n",
       "    </tbody></table>"
      ],
      "text/plain": [
       "<pandas.io.formats.style.Styler at 0x7f292ebb1150>"
      ]
     },
     "execution_count": 29,
     "metadata": {},
     "output_type": "execute_result"
    }
   ],
   "source": [
    "df_filtered.corr().style.background_gradient(cmap=\"Greens\")"
   ]
  },
  {
   "cell_type": "code",
   "execution_count": 30,
   "metadata": {},
   "outputs": [
    {
     "data": {
      "image/png": "[encoded data removed]",
      "text/plain": [
       "<Figure size 864x432 with 2 Axes>"
      ]
     },
     "metadata": {
      "needs_background": "light"
     },
     "output_type": "display_data"
    }
   ],
   "source": [
    "fig3, axes = plt.subplots(ncols=2, figsize=(12,6))\n",
    "\n",
    "axes[0].set_title('Зависимость продаж от оценок критиков')\n",
    "sns.scatterplot(data=df_filtered, ax=axes[0], x='total_sales', y='critic_score')\n",
    "axes[0].set_ylabel('Оценка критиков')\n",
    "axes[0].set_xlabel('Количество проданных копий, млн')\n",
    "\n",
    "axes[1].set_title('Зависимость продаж от оценок пользователей')\n",
    "sns.scatterplot(data=df_filtered, ax=axes[1], x='total_sales', y='user_score', color='red')\n",
    "axes[1].set_ylabel('Оценка пользователей')\n",
    "axes[1].set_xlabel('Количество проданных копий, млн')\n",
    "\n",
    "fig.tight_layout()"
   ]
  },
  {
   "cell_type": "markdown",
   "metadata": {},
   "source": [
    "По всей выборке прямая зависимость между оценкой критиков и суммарными продажами ниже, чем отдельно для Play Station 4 (0.308), между оценкой пользователей и суммарными продажами выше (0.004). Динамика на диаграммах похожая: продажи игр с оценкой критиков выше 50 баллов растут, оценки пользователями самых популярных игр варьируются от 3 до 9 баллов. Можно сделать вывод, что высокая оценка критиков скорее оказывает положительное влияние на продажи, а между оценками пользователей и количеством проданных копий зависимости нет."
   ]
  },
  {
   "cell_type": "markdown",
   "metadata": {},
   "source": [
    "### Продажи игр по жанрам"
   ]
  },
  {
   "cell_type": "code",
   "execution_count": 31,
   "metadata": {},
   "outputs": [
    {
     "data": {
      "image/png": "[encoded data removed]",
      "text/plain": [
       "<Figure size 1008x288 with 1 Axes>"
      ]
     },
     "metadata": {
      "needs_background": "light"
     },
     "output_type": "display_data"
    }
   ],
   "source": [
    "df_filtered.pivot_table(index='genre', values='total_sales', aggfunc=['count', 'sum']).sort_values(by=('sum','total_sales'), \\\n",
    "                                             ascending=False).plot(kind='bar', legend=True, grid=True, figsize=(14,4))\n",
    "plt.legend(labels=['Число выпущенных игр', 'Количество проданных копий, млн'])\n",
    "plt.title('Продажи игр по жанрам, 2012-2016 гг.', fontsize=16)\n",
    "plt.xlabel('Жанры')\n",
    "plt.xticks(rotation='horizontal')\n",
    "plt.show()"
   ]
  },
  {
   "cell_type": "markdown",
   "metadata": {},
   "source": [
    "Самыми продаваемыми являются игры в жанрах экшен (почти 450 млн проданных копий) и шутер (свыше 300 млн), также пользуются популярностью ролевые игры и игры про спорт (около 200 млн). Реже всего покупают стратегии (13 млн) и головоломки (меньше 5 млн), но их и выходит меньше всего - 71 и 28 игр соответственно за рассматриваемый период. Интересно, что шутеров было выпущено меньше, чем игр про спорт и приключения, а продажи у них значительно выше. Посчитаем отношение суммарных продаж по каждому жанру к общему числу игр, чтобы выяснить, какие жанры являются самыми прибыльными."
   ]
  },
  {
   "cell_type": "code",
   "execution_count": 32,
   "metadata": {},
   "outputs": [
    {
     "data": {
      "text/html": [
       "<style  type=\"text/css\" >\n",
       "    #T_e7855a2a_15f6_11ec_b8fb_02420a397a97row0_col0 {\n",
       "            background-color:  #fee085;\n",
       "            color:  #000000;\n",
       "        }    #T_e7855a2a_15f6_11ec_b8fb_02420a397a97row0_col1 {\n",
       "            background-color:  #f03523;\n",
       "            color:  #f1f1f1;\n",
       "        }    #T_e7855a2a_15f6_11ec_b8fb_02420a397a97row0_col2 {\n",
       "            background-color:  #800026;\n",
       "            color:  #f1f1f1;\n",
       "        }    #T_e7855a2a_15f6_11ec_b8fb_02420a397a97row1_col0 {\n",
       "            background-color:  #fff7b9;\n",
       "            color:  #000000;\n",
       "        }    #T_e7855a2a_15f6_11ec_b8fb_02420a397a97row1_col1 {\n",
       "            background-color:  #ffeda0;\n",
       "            color:  #000000;\n",
       "        }    #T_e7855a2a_15f6_11ec_b8fb_02420a397a97row1_col2 {\n",
       "            background-color:  #fd8439;\n",
       "            color:  #000000;\n",
       "        }    #T_e7855a2a_15f6_11ec_b8fb_02420a397a97row2_col0 {\n",
       "            background-color:  #fedb7a;\n",
       "            color:  #000000;\n",
       "        }    #T_e7855a2a_15f6_11ec_b8fb_02420a397a97row2_col1 {\n",
       "            background-color:  #fea948;\n",
       "            color:  #000000;\n",
       "        }    #T_e7855a2a_15f6_11ec_b8fb_02420a397a97row2_col2 {\n",
       "            background-color:  #fd923e;\n",
       "            color:  #000000;\n",
       "        }    #T_e7855a2a_15f6_11ec_b8fb_02420a397a97row3_col0 {\n",
       "            background-color:  #febd57;\n",
       "            color:  #000000;\n",
       "        }    #T_e7855a2a_15f6_11ec_b8fb_02420a397a97row3_col1 {\n",
       "            background-color:  #fea145;\n",
       "            color:  #000000;\n",
       "        }    #T_e7855a2a_15f6_11ec_b8fb_02420a397a97row3_col2 {\n",
       "            background-color:  #feb953;\n",
       "            color:  #000000;\n",
       "        }    #T_e7855a2a_15f6_11ec_b8fb_02420a397a97row4_col0 {\n",
       "            background-color:  #fff3ae;\n",
       "            color:  #000000;\n",
       "        }    #T_e7855a2a_15f6_11ec_b8fb_02420a397a97row4_col1 {\n",
       "            background-color:  #ffefa5;\n",
       "            color:  #000000;\n",
       "        }    #T_e7855a2a_15f6_11ec_b8fb_02420a397a97row4_col2 {\n",
       "            background-color:  #fec863;\n",
       "            color:  #000000;\n",
       "        }    #T_e7855a2a_15f6_11ec_b8fb_02420a397a97row5_col0 {\n",
       "            background-color:  #ffe794;\n",
       "            color:  #000000;\n",
       "        }    #T_e7855a2a_15f6_11ec_b8fb_02420a397a97row5_col1 {\n",
       "            background-color:  #ffe48c;\n",
       "            color:  #000000;\n",
       "        }    #T_e7855a2a_15f6_11ec_b8fb_02420a397a97row5_col2 {\n",
       "            background-color:  #fece6a;\n",
       "            color:  #000000;\n",
       "        }    #T_e7855a2a_15f6_11ec_b8fb_02420a397a97row6_col0 {\n",
       "            background-color:  #fff8ba;\n",
       "            color:  #000000;\n",
       "        }    #T_e7855a2a_15f6_11ec_b8fb_02420a397a97row6_col1 {\n",
       "            background-color:  #fff5b5;\n",
       "            color:  #000000;\n",
       "        }    #T_e7855a2a_15f6_11ec_b8fb_02420a397a97row6_col2 {\n",
       "            background-color:  #fecf6b;\n",
       "            color:  #000000;\n",
       "        }    #T_e7855a2a_15f6_11ec_b8fb_02420a397a97row7_col0 {\n",
       "            background-color:  #800026;\n",
       "            color:  #f1f1f1;\n",
       "        }    #T_e7855a2a_15f6_11ec_b8fb_02420a397a97row7_col1 {\n",
       "            background-color:  #800026;\n",
       "            color:  #f1f1f1;\n",
       "        }    #T_e7855a2a_15f6_11ec_b8fb_02420a397a97row7_col2 {\n",
       "            background-color:  #fed16e;\n",
       "            color:  #000000;\n",
       "        }    #T_e7855a2a_15f6_11ec_b8fb_02420a397a97row8_col0 {\n",
       "            background-color:  #fff4b0;\n",
       "            color:  #000000;\n",
       "        }    #T_e7855a2a_15f6_11ec_b8fb_02420a397a97row8_col1 {\n",
       "            background-color:  #fff2ac;\n",
       "            color:  #000000;\n",
       "        }    #T_e7855a2a_15f6_11ec_b8fb_02420a397a97row8_col2 {\n",
       "            background-color:  #fed673;\n",
       "            color:  #000000;\n",
       "        }    #T_e7855a2a_15f6_11ec_b8fb_02420a397a97row9_col0 {\n",
       "            background-color:  #fff9be;\n",
       "            color:  #000000;\n",
       "        }    #T_e7855a2a_15f6_11ec_b8fb_02420a397a97row9_col1 {\n",
       "            background-color:  #fffdc6;\n",
       "            color:  #000000;\n",
       "        }    #T_e7855a2a_15f6_11ec_b8fb_02420a397a97row9_col2 {\n",
       "            background-color:  #fff4b2;\n",
       "            color:  #000000;\n",
       "        }    #T_e7855a2a_15f6_11ec_b8fb_02420a397a97row10_col0 {\n",
       "            background-color:  #ffffcc;\n",
       "            color:  #000000;\n",
       "        }    #T_e7855a2a_15f6_11ec_b8fb_02420a397a97row10_col1 {\n",
       "            background-color:  #ffffcc;\n",
       "            color:  #000000;\n",
       "        }    #T_e7855a2a_15f6_11ec_b8fb_02420a397a97row10_col2 {\n",
       "            background-color:  #fff6b6;\n",
       "            color:  #000000;\n",
       "        }    #T_e7855a2a_15f6_11ec_b8fb_02420a397a97row11_col0 {\n",
       "            background-color:  #fed36f;\n",
       "            color:  #000000;\n",
       "        }    #T_e7855a2a_15f6_11ec_b8fb_02420a397a97row11_col1 {\n",
       "            background-color:  #fff7b9;\n",
       "            color:  #000000;\n",
       "        }    #T_e7855a2a_15f6_11ec_b8fb_02420a397a97row11_col2 {\n",
       "            background-color:  #ffffcc;\n",
       "            color:  #000000;\n",
       "        }</style><table id=\"T_e7855a2a_15f6_11ec_b8fb_02420a397a97\" ><thead>    <tr>        <th class=\"blank level0\" ></th>        <th class=\"col_heading level0 col0\" >count</th>        <th class=\"col_heading level0 col1\" >sum</th>        <th class=\"col_heading level0 col2\" >mean</th>    </tr>    <tr>        <th class=\"blank level1\" ></th>        <th class=\"col_heading level1 col0\" >total_sales</th>        <th class=\"col_heading level1 col1\" >total_sales</th>        <th class=\"col_heading level1 col2\" >total_sales</th>    </tr>    <tr>        <th class=\"index_name level0\" >genre</th>        <th class=\"blank\" ></th>        <th class=\"blank\" ></th>        <th class=\"blank\" ></th>    </tr></thead><tbody>\n",
       "                <tr>\n",
       "                        <th id=\"T_e7855a2a_15f6_11ec_b8fb_02420a397a97level0_row0\" class=\"row_heading level0 row0\" >Shooter</th>\n",
       "                        <td id=\"T_e7855a2a_15f6_11ec_b8fb_02420a397a97row0_col0\" class=\"data row0 col0\" >235</td>\n",
       "                        <td id=\"T_e7855a2a_15f6_11ec_b8fb_02420a397a97row0_col1\" class=\"data row0 col1\" >304.73</td>\n",
       "                        <td id=\"T_e7855a2a_15f6_11ec_b8fb_02420a397a97row0_col2\" class=\"data row0 col2\" >1.29672</td>\n",
       "            </tr>\n",
       "            <tr>\n",
       "                        <th id=\"T_e7855a2a_15f6_11ec_b8fb_02420a397a97level0_row1\" class=\"row_heading level0 row1\" >Platform</th>\n",
       "                        <td id=\"T_e7855a2a_15f6_11ec_b8fb_02420a397a97row1_col0\" class=\"data row1 col0\" >85</td>\n",
       "                        <td id=\"T_e7855a2a_15f6_11ec_b8fb_02420a397a97row1_col1\" class=\"data row1 col1\" >61</td>\n",
       "                        <td id=\"T_e7855a2a_15f6_11ec_b8fb_02420a397a97row1_col2\" class=\"data row1 col2\" >0.717647</td>\n",
       "            </tr>\n",
       "            <tr>\n",
       "                        <th id=\"T_e7855a2a_15f6_11ec_b8fb_02420a397a97level0_row2\" class=\"row_heading level0 row2\" >Sports</th>\n",
       "                        <td id=\"T_e7855a2a_15f6_11ec_b8fb_02420a397a97row2_col0\" class=\"data row2 col0\" >268</td>\n",
       "                        <td id=\"T_e7855a2a_15f6_11ec_b8fb_02420a397a97row2_col1\" class=\"data row2 col1\" >181.07</td>\n",
       "                        <td id=\"T_e7855a2a_15f6_11ec_b8fb_02420a397a97row2_col2\" class=\"data row2 col2\" >0.675634</td>\n",
       "            </tr>\n",
       "            <tr>\n",
       "                        <th id=\"T_e7855a2a_15f6_11ec_b8fb_02420a397a97level0_row3\" class=\"row_heading level0 row3\" >Role-Playing</th>\n",
       "                        <td id=\"T_e7855a2a_15f6_11ec_b8fb_02420a397a97row3_col0\" class=\"data row3 col0\" >370</td>\n",
       "                        <td id=\"T_e7855a2a_15f6_11ec_b8fb_02420a397a97row3_col1\" class=\"data row3 col1\" >192.8</td>\n",
       "                        <td id=\"T_e7855a2a_15f6_11ec_b8fb_02420a397a97row3_col2\" class=\"data row3 col2\" >0.521081</td>\n",
       "            </tr>\n",
       "            <tr>\n",
       "                        <th id=\"T_e7855a2a_15f6_11ec_b8fb_02420a397a97level0_row4\" class=\"row_heading level0 row4\" >Racing</th>\n",
       "                        <td id=\"T_e7855a2a_15f6_11ec_b8fb_02420a397a97row4_col0\" class=\"data row4 col0\" >115</td>\n",
       "                        <td id=\"T_e7855a2a_15f6_11ec_b8fb_02420a397a97row4_col1\" class=\"data row4 col1\" >53.5</td>\n",
       "                        <td id=\"T_e7855a2a_15f6_11ec_b8fb_02420a397a97row4_col2\" class=\"data row4 col2\" >0.465217</td>\n",
       "            </tr>\n",
       "            <tr>\n",
       "                        <th id=\"T_e7855a2a_15f6_11ec_b8fb_02420a397a97level0_row5\" class=\"row_heading level0 row5\" >Misc</th>\n",
       "                        <td id=\"T_e7855a2a_15f6_11ec_b8fb_02420a397a97row5_col0\" class=\"data row5 col0\" >192</td>\n",
       "                        <td id=\"T_e7855a2a_15f6_11ec_b8fb_02420a397a97row5_col1\" class=\"data row5 col1\" >85.04</td>\n",
       "                        <td id=\"T_e7855a2a_15f6_11ec_b8fb_02420a397a97row5_col2\" class=\"data row5 col2\" >0.442917</td>\n",
       "            </tr>\n",
       "            <tr>\n",
       "                        <th id=\"T_e7855a2a_15f6_11ec_b8fb_02420a397a97level0_row6\" class=\"row_heading level0 row6\" >Simulation</th>\n",
       "                        <td id=\"T_e7855a2a_15f6_11ec_b8fb_02420a397a97row6_col0\" class=\"data row6 col0\" >80</td>\n",
       "                        <td id=\"T_e7855a2a_15f6_11ec_b8fb_02420a397a97row6_col1\" class=\"data row6 col1\" >35.12</td>\n",
       "                        <td id=\"T_e7855a2a_15f6_11ec_b8fb_02420a397a97row6_col2\" class=\"data row6 col2\" >0.439</td>\n",
       "            </tr>\n",
       "            <tr>\n",
       "                        <th id=\"T_e7855a2a_15f6_11ec_b8fb_02420a397a97level0_row7\" class=\"row_heading level0 row7\" >Action</th>\n",
       "                        <td id=\"T_e7855a2a_15f6_11ec_b8fb_02420a397a97row7_col0\" class=\"data row7 col0\" >1031</td>\n",
       "                        <td id=\"T_e7855a2a_15f6_11ec_b8fb_02420a397a97row7_col1\" class=\"data row7 col1\" >441.12</td>\n",
       "                        <td id=\"T_e7855a2a_15f6_11ec_b8fb_02420a397a97row7_col2\" class=\"data row7 col2\" >0.427856</td>\n",
       "            </tr>\n",
       "            <tr>\n",
       "                        <th id=\"T_e7855a2a_15f6_11ec_b8fb_02420a397a97level0_row8\" class=\"row_heading level0 row8\" >Fighting</th>\n",
       "                        <td id=\"T_e7855a2a_15f6_11ec_b8fb_02420a397a97row8_col0\" class=\"data row8 col0\" >109</td>\n",
       "                        <td id=\"T_e7855a2a_15f6_11ec_b8fb_02420a397a97row8_col1\" class=\"data row8 col1\" >44.49</td>\n",
       "                        <td id=\"T_e7855a2a_15f6_11ec_b8fb_02420a397a97row8_col2\" class=\"data row8 col2\" >0.408165</td>\n",
       "            </tr>\n",
       "            <tr>\n",
       "                        <th id=\"T_e7855a2a_15f6_11ec_b8fb_02420a397a97level0_row9\" class=\"row_heading level0 row9\" >Strategy</th>\n",
       "                        <td id=\"T_e7855a2a_15f6_11ec_b8fb_02420a397a97row9_col0\" class=\"data row9 col0\" >71</td>\n",
       "                        <td id=\"T_e7855a2a_15f6_11ec_b8fb_02420a397a97row9_col1\" class=\"data row9 col1\" >13.34</td>\n",
       "                        <td id=\"T_e7855a2a_15f6_11ec_b8fb_02420a397a97row9_col2\" class=\"data row9 col2\" >0.187887</td>\n",
       "            </tr>\n",
       "            <tr>\n",
       "                        <th id=\"T_e7855a2a_15f6_11ec_b8fb_02420a397a97level0_row10\" class=\"row_heading level0 row10\" >Puzzle</th>\n",
       "                        <td id=\"T_e7855a2a_15f6_11ec_b8fb_02420a397a97row10_col0\" class=\"data row10 col0\" >28</td>\n",
       "                        <td id=\"T_e7855a2a_15f6_11ec_b8fb_02420a397a97row10_col1\" class=\"data row10 col1\" >4.89</td>\n",
       "                        <td id=\"T_e7855a2a_15f6_11ec_b8fb_02420a397a97row10_col2\" class=\"data row10 col2\" >0.174643</td>\n",
       "            </tr>\n",
       "            <tr>\n",
       "                        <th id=\"T_e7855a2a_15f6_11ec_b8fb_02420a397a97level0_row11\" class=\"row_heading level0 row11\" >Adventure</th>\n",
       "                        <td id=\"T_e7855a2a_15f6_11ec_b8fb_02420a397a97row11_col0\" class=\"data row11 col0\" >302</td>\n",
       "                        <td id=\"T_e7855a2a_15f6_11ec_b8fb_02420a397a97row11_col1\" class=\"data row11 col1\" >29.43</td>\n",
       "                        <td id=\"T_e7855a2a_15f6_11ec_b8fb_02420a397a97row11_col2\" class=\"data row11 col2\" >0.0974503</td>\n",
       "            </tr>\n",
       "    </tbody></table>"
      ],
      "text/plain": [
       "<pandas.io.formats.style.Styler at 0x7f29846be910>"
      ]
     },
     "execution_count": 32,
     "metadata": {},
     "output_type": "execute_result"
    }
   ],
   "source": [
    "genres = df_filtered.pivot_table(index='genre', values='total_sales', aggfunc=['count', 'sum', 'mean']) \\\n",
    ".sort_values(by=('sum','total_sales'), ascending=False)    \n",
    "genres.sort_values(by=('mean', 'total_sales'), ascending=False).style.background_gradient(cmap='YlOrRd')"
   ]
  },
  {
   "cell_type": "markdown",
   "metadata": {},
   "source": [
    "В относительных цифрах самыми прибыльными являются жанры шутер, платформер, спорт и ролевые игры. Игр в жанре экшен выходит в разы больше, чем остальных, поэтому у них самые высокие абсолютные продажи. Самые низкие продажи (как абсолютные, так и относительные) у стратегий и головоломок, наименее прибыльный жанр - это приключения."
   ]
  },
  {
   "cell_type": "markdown",
   "metadata": {},
   "source": [
    "### Вывод"
   ]
  },
  {
   "cell_type": "markdown",
   "metadata": {},
   "source": [
    "Проанализировав динамику на игровом рынке, мы выяснили, что существует характерный срок существования игровых платформ - примерно 9-11 лет, причём пик продаж обычно приходится на середину этого периода. Таким образом, в 2017 году потенциально прибыльными будут игры, выходящие на новых платформах Play Station 4 и Xbox One (обе появились в 2013 году). Среди жанров самыми перспективными являются экшен, шутер, спорт и ролевые игры. Также выявлено, что высокие оценки критиков коррелируют с ростом продаж, а между пользовательскими оценками и количеством проданных копий зависимости нет."
   ]
  },
  {
   "cell_type": "markdown",
   "metadata": {},
   "source": [
    "## Пользовательское поведение по регионам"
   ]
  },
  {
   "cell_type": "markdown",
   "metadata": {},
   "source": [
    "Теперь посмотрим, различаются ли предпочтения пользователей в Северной Америке, Европе и Японии. Сравним самые популярные платформы и жанры и выясним, какое влияние на продажи оказывает возрастной рейтинг."
   ]
  },
  {
   "cell_type": "markdown",
   "metadata": {},
   "source": [
    "### Самые популярные платформы в разных регионах"
   ]
  },
  {
   "cell_type": "code",
   "execution_count": 33,
   "metadata": {},
   "outputs": [],
   "source": [
    "platform_rating = df_filtered.groupby('platform')['na_sales', 'eu_sales', 'jp_sales'].sum() #посчитаем продажи по платформам"
   ]
  },
  {
   "cell_type": "code",
   "execution_count": 34,
   "metadata": {},
   "outputs": [
    {
     "data": {
      "image/png": "[encoded data removed]",
      "text/plain": [
       "<Figure size 1008x288 with 3 Axes>"
      ]
     },
     "metadata": {
      "needs_background": "light"
     },
     "output_type": "display_data"
    }
   ],
   "source": [
    "fig4, ax4 = plt.subplots(1, 3, figsize=(14,4), constrained_layout=True)\n",
    "\n",
    "ax4[0].set_title('Топ-5 платформ в Северной Америке')\n",
    "platform_rating.sort_values(by='na_sales', ascending=False).head()['na_sales'].plot(kind='bar', grid=True, ax=ax4[0])\n",
    "ax4[0].set_xlabel('Платформы')\n",
    "ax4[0].set_xticklabels(ax4[0].get_xticklabels(), rotation='horizontal')\n",
    "\n",
    "ax4[1].set_title('Топ-5 платформ в Европе')\n",
    "platform_rating.sort_values(by='eu_sales', ascending=False).head()['eu_sales'].plot(kind='bar', grid=True, ax=ax4[1], color='g')\n",
    "ax4[1].set_xlabel('Платформы')\n",
    "ax4[1].set_xticklabels(ax4[1].get_xticklabels(), rotation='horizontal')\n",
    "\n",
    "ax4[2].set_title('Топ-5 платформ в Японии')\n",
    "platform_rating.sort_values(by='jp_sales', ascending=False).head()['jp_sales'].plot(kind='bar', grid=True, ax=ax4[2], color='y')\n",
    "                                                                                \n",
    "ax4[2].set_xlabel('Платформы')\n",
    "ax4[2].set_xticklabels(ax4[2].get_xticklabels(), rotation='horizontal')\n",
    "\n",
    "plt.show()"
   ]
  },
  {
   "cell_type": "markdown",
   "metadata": {},
   "source": [
    "Самой популярной игровой платформой в Северной Америке является Xbox 360 (для неё приобретено 140 млн копий игр), в Европе - PlayStation 4 (141 млн копий), в Японии - Nintendo 3DS (88 млн копий). Цифры показывают, что игровой рынок Японии примерно в два раза меньше (что логично, поскольку Япония - это одна страна, а Северная Америка и Европа - регионы). Список лидеров в Америке и Европе совпадает (PlayStation 3 и 4, Xbox 360 и One и Nintendo 3DS), а японцы больше поддерживают отечественных производителей: топ-5 составляют 3DS и Wii U от Nintendo и PlayStation 3, 4, Vita от Sony Interactive Entertainment, ни одна из консолей Xbox от компании Microsoft не входит в лидеры продаж."
   ]
  },
  {
   "cell_type": "markdown",
   "metadata": {},
   "source": [
    "### Самые популярные жанры в разных регионах"
   ]
  },
  {
   "cell_type": "code",
   "execution_count": 35,
   "metadata": {},
   "outputs": [],
   "source": [
    "genres_rating = df_filtered.groupby('genre')['na_sales', 'eu_sales', 'jp_sales'].sum() #посчитаем продажи по жанрам"
   ]
  },
  {
   "cell_type": "code",
   "execution_count": 36,
   "metadata": {},
   "outputs": [
    {
     "data": {
      "image/png": "[encoded data removed]",
      "text/plain": [
       "<Figure size 1008x288 with 3 Axes>"
      ]
     },
     "metadata": {
      "needs_background": "light"
     },
     "output_type": "display_data"
    }
   ],
   "source": [
    "fig5, ax5 = plt.subplots(1, 3, figsize=(14,4), constrained_layout=True)\n",
    "\n",
    "ax5[0].set_title('Топ-5 жанров в Северной Америке')\n",
    "genres_rating.sort_values(by='na_sales', ascending=False).head()['na_sales'].plot(kind='bar', grid=True, ax=ax5[0])\n",
    "ax5[0].set_xlabel('Жанры')\n",
    "ax5[0].set_xticklabels(ax5[0].get_xticklabels(), rotation='horizontal')\n",
    "\n",
    "ax5[1].set_title('Топ-5 жанров в Европе')\n",
    "genres_rating.sort_values(by='eu_sales', ascending=False).head()['eu_sales'].plot(kind='bar', grid=True, ax=ax5[1], color='g')\n",
    "ax5[1].set_xlabel('Жанры')\n",
    "ax5[1].set_xticklabels(ax5[1].get_xticklabels(), rotation='horizontal')\n",
    "\n",
    "ax5[2].set_title('Топ-5 жанров в Японии')\n",
    "genres_rating.sort_values(by='jp_sales', ascending=False).head()['jp_sales'].plot(kind='bar', grid=True, ax=ax5[2], color='y')\n",
    "ax5[2].set_xlabel('Жанры')\n",
    "ax5[2].set_xticklabels(ax5[2].get_xticklabels(), rotation='horizontal')\n",
    "\n",
    "plt.show()"
   ]
  },
  {
   "cell_type": "markdown",
   "metadata": {},
   "source": [
    "Как и в предыдущем случае, предпочтения пользователей из Северной Америки и Европы схожи: самые популярные жанры - экшн, шутер, спорт и ролевые игры (лидеры мировых продаж), различается только пятое место - в Америке это смешанный жанр, в Европе - гонки. На рынке Японии лидируют ролевые игры, которые опережают даже экшн-игры примерно на 12 млн проданных копий. Также в японский топ-5 входят смешанный жанр, симуляторы и файтинги, тогда как шутеры и спортивные игры не очень популярны."
   ]
  },
  {
   "cell_type": "markdown",
   "metadata": {},
   "source": [
    "### Влияние рейтинга ESRB на продажи в отдельном регионе"
   ]
  },
  {
   "cell_type": "markdown",
   "metadata": {},
   "source": [
    "Entertainment Software Rating Board — это основанная в 1994 году негосударственная организация, которая занимается определением рейтингов для компьютерных видеоигр и другого развлекательного программного обеспечения в США и Канаде. Произведения делятся по следующим возрастным категориям:\n",
    "- «E» («Everyone») — «Для всех»;\n",
    "- «E10+» («Everyone 10 and older») — «Для всех от 10 лет и старше»;\n",
    "- «T» («Teen») — «Для подростков»;\n",
    "- «M» («Mature») — «Для взрослых»;\n",
    "- «AO» («Adults Only 18+») — «Только для взрослых».\n",
    "\n",
    "Посмотрим, какую долю продаж каждая категория занимает в разных регионах."
   ]
  },
  {
   "cell_type": "code",
   "execution_count": 37,
   "metadata": {},
   "outputs": [],
   "source": [
    "esrb_rating = df_filtered.groupby('rating')['na_sales', 'eu_sales', 'jp_sales'].sum() #посчитаем продажи по категориям"
   ]
  },
  {
   "cell_type": "code",
   "execution_count": 38,
   "metadata": {},
   "outputs": [
    {
     "data": {
      "image/png": "[encoded data removed]",
      "text/plain": [
       "<Figure size 1008x288 with 3 Axes>"
      ]
     },
     "metadata": {
      "needs_background": "light"
     },
     "output_type": "display_data"
    }
   ],
   "source": [
    "fig6, ax6 = plt.subplots(1, 3, figsize=(14,4), constrained_layout=True)\n",
    "\n",
    "ax6[0].set_title('Распределение игр по возрастным категориям\\n в Северной Америке')\n",
    "esrb_rating.sort_values(by='na_sales', ascending=False).head()['na_sales'].plot(kind='bar', grid=True, ax=ax6[0])\n",
    "ax6[0].set_xlabel('ESRB-категории')\n",
    "ax6[0].set_xticklabels(ax6[0].get_xticklabels(), rotation='horizontal')\n",
    "\n",
    "ax6[1].set_title('Распределение игр по возрастным категориям\\n в Европе')\n",
    "esrb_rating.sort_values(by='eu_sales', ascending=False).head()['eu_sales'].plot(kind='bar', grid=True, ax=ax6[1], color='g')\n",
    "ax6[1].set_xlabel('ESRB-категории')\n",
    "ax6[1].set_xticklabels(ax6[1].get_xticklabels(), rotation='horizontal')\n",
    "\n",
    "ax6[2].set_title('Распределение игр по возрастным категориям\\n в Японии')\n",
    "esrb_rating.sort_values(by='jp_sales', ascending=False).head()['jp_sales'].plot(kind='bar', grid=True, ax=ax6[2], color='y')\n",
    "ax6[2].set_xlabel('ESRB-категории')\n",
    "ax6[2].set_xticklabels(ax6[2].get_xticklabels(), rotation='horizontal')\n",
    "plt.show()"
   ]
  },
  {
   "cell_type": "markdown",
   "metadata": {},
   "source": [
    "В Северной Америке и Европе большинство популярных игр относятся к категории «Для взрослых», на втором месте игры «Для всех», хуже всего продаются игры, специально отмеченные «Для подростков». В Японии подавляющее большинство продаж приходится на игры без рейтинга - вероятно, это произведения японских авторов, не вышедшие на мировой рынок и не получившие оценку ESRB."
   ]
  },
  {
   "cell_type": "markdown",
   "metadata": {},
   "source": [
    "### Вывод"
   ]
  },
  {
   "cell_type": "markdown",
   "metadata": {},
   "source": [
    "Анализ региональных различий показал, что в Северной Америке и Европе пользователи имеют схожие предпочтения: они используют одни и те же приставки PlayStation и Xbox, предпочитают игры в жанрах экшн, шутер и спорт и чаще играют в игры для взрослой аудитории. Рынок Японии заметно отличается по всем показателям: японцы активно пользуются консолями Nintendo и любят ролевые игры и симуляторы локального производства, рейтинг ESRB не имеет влияния в данном регионе."
   ]
  },
  {
   "cell_type": "markdown",
   "metadata": {},
   "source": [
    "## Проверка статистических гипотез"
   ]
  },
  {
   "cell_type": "markdown",
   "metadata": {},
   "source": [
    "В этом разделе мы проверим несколько статистических гипотез, касающихся пользовательских оценок в отношении определённых платформ и жанров. Для этого воспользуемся методом scipy.stats.ttest_ind. Пороговое значение alpha для p-value возьмём стандартное - 5%, по 2,5% c каждой стороны распределения."
   ]
  },
  {
   "cell_type": "code",
   "execution_count": 39,
   "metadata": {},
   "outputs": [],
   "source": [
    "alpha = 0.05"
   ]
  },
  {
   "cell_type": "markdown",
   "metadata": {},
   "source": [
    "### Тест №1: пользовательская оценка платформ Xbox One и PC"
   ]
  },
  {
   "cell_type": "markdown",
   "metadata": {},
   "source": [
    "- Нулевая гипотеза: средние пользовательские рейтинги платформ Xbox One и PC одинаковые.\n",
    "- Альтернативная гипотеза: средние пользовательские рейтинги платформ Xbox One и PC различаются."
   ]
  },
  {
   "cell_type": "markdown",
   "metadata": {},
   "source": [
    "Выделим два массива с данными и сравним их дисперсии с помощью статистического теста Бартлетта, чтобы понять, какой параметр equal_var использовать для метода ttest_ind. Нулевая гипотеза: дисперсии выборок равны. Альтернативная гипотеза: дисперсии выборок не равны."
   ]
  },
  {
   "cell_type": "code",
   "execution_count": 40,
   "metadata": {},
   "outputs": [],
   "source": [
    "xbox = df_filtered.loc[df_filtered['platform'] == 'XOne', 'user_score']\n",
    "pc = df_filtered.loc[df_filtered['platform'] == 'PC', 'user_score']"
   ]
  },
  {
   "cell_type": "code",
   "execution_count": 41,
   "metadata": {},
   "outputs": [
    {
     "data": {
      "text/plain": [
       "BartlettResult(statistic=8.556962748679258, pvalue=0.0034420319658899933)"
      ]
     },
     "execution_count": 41,
     "metadata": {},
     "output_type": "execute_result"
    }
   ],
   "source": [
    "st.bartlett(xbox, pc)"
   ]
  },
  {
   "cell_type": "markdown",
   "metadata": {},
   "source": [
    "Получившаяся p-value намного меньше значения alpha, значит, отвергаем нулевую гипотезу: нельзя считать дисперсию по выборкам одинаковой. Будем использовать параметр equal_var = False."
   ]
  },
  {
   "cell_type": "code",
   "execution_count": 42,
   "metadata": {},
   "outputs": [
    {
     "name": "stdout",
     "output_type": "stream",
     "text": [
      "p-значение: 0.5489537965134426\n",
      "Не получилось отвергнуть нулевую гипотезу\n"
     ]
    }
   ],
   "source": [
    "results = st.ttest_ind(xbox, pc, equal_var = False, nan_policy='omit') \n",
    "print('p-значение:', results.pvalue)\n",
    "\n",
    "if results.pvalue < alpha:\n",
    "    print ('Отвергаем нулевую гипотезу')\n",
    "else:\n",
    "    print ('Не получилось отвергнуть нулевую гипотезу')"
   ]
  },
  {
   "cell_type": "markdown",
   "metadata": {},
   "source": [
    "#### Результаты теста №1"
   ]
  },
  {
   "cell_type": "markdown",
   "metadata": {},
   "source": [
    "По результатам теста принимаем нулевую гипотезу: средние пользовательские рейтинги платформ Xbox One и PC одинаковые."
   ]
  },
  {
   "cell_type": "markdown",
   "metadata": {},
   "source": [
    "### Тест №2: пользовательская оценка рейтингов жанров экшен и спорт"
   ]
  },
  {
   "cell_type": "markdown",
   "metadata": {},
   "source": [
    "- Нулевая гипотеза: средние пользовательские рейтинги жанров экшен и спорт одинаковые.\n",
    "- Альтернативная гипотеза: средние пользовательские рейтинги жанров экшен и спорт различаются."
   ]
  },
  {
   "cell_type": "code",
   "execution_count": 43,
   "metadata": {},
   "outputs": [],
   "source": [
    "action = df_filtered.loc[df_filtered['genre'] == 'Action', 'user_score'] #массив оценок игр жанра экшн\n",
    "sport = df_filtered.loc[df_filtered['genre'] == 'Shooter', 'user_score'] #массив оценок игр жанра спорт"
   ]
  },
  {
   "cell_type": "code",
   "execution_count": 44,
   "metadata": {},
   "outputs": [
    {
     "data": {
      "text/plain": [
       "BartlettResult(statistic=0.773166122198451, pvalue=0.37923936574318073)"
      ]
     },
     "execution_count": 44,
     "metadata": {},
     "output_type": "execute_result"
    }
   ],
   "source": [
    "st.bartlett(action, sport) #снова проведём тест Бартлетта"
   ]
  },
  {
   "cell_type": "markdown",
   "metadata": {},
   "source": [
    "По критерию Бартлетта принимаем нулевую гипотезу: дисперсии выборок равны."
   ]
  },
  {
   "cell_type": "code",
   "execution_count": 45,
   "metadata": {},
   "outputs": [
    {
     "name": "stdout",
     "output_type": "stream",
     "text": [
      "p-значение: 0.0009049049287538519\n",
      "Отвергаем нулевую гипотезу\n"
     ]
    }
   ],
   "source": [
    "results = st.ttest_ind(action, sport, equal_var = True, nan_policy='omit') \n",
    "print('p-значение:', results.pvalue)\n",
    "\n",
    "if results.pvalue < alpha:\n",
    "    print ('Отвергаем нулевую гипотезу')\n",
    "else:\n",
    "    print ('Не получилось отвергнуть нулевую гипотезу')"
   ]
  },
  {
   "cell_type": "markdown",
   "metadata": {},
   "source": [
    "#### Результаты теста №2"
   ]
  },
  {
   "cell_type": "markdown",
   "metadata": {},
   "source": [
    "По результатам теста отвергаем нулевую гипотезу: средние пользовательские рейтинги игр в жанрах экшен и спорт различаются."
   ]
  },
  {
   "cell_type": "markdown",
   "metadata": {},
   "source": [
    "## Общий вывод"
   ]
  },
  {
   "cell_type": "markdown",
   "metadata": {},
   "source": [
    "В настоящем исследовании мы проанализировали данные по продажам компьютерных игр по всему миру, доступные из открытых источников. Мы выяснили, что с 1995 по 2009 год игровая индустрия стремительно росла (в 2008-2009 появилось по 1400 новых игр), с 2010 года производство пошло на спад, но в 2016 году выпуск составил около 600 новых игр в год, что достаточно много. Мы также обнаружили, что отдельная игровая платформа существует на рынке примерно 9-11 лет, причём пик продаж обычно приходится на середину этого периода. Таким образом, для планирования рекламной кампании на 2017 году мы сосредоточились на данных за 2012-2016 годы и можем сделать следующие выводы:\n",
    "1. Потенциально прибыльными платформами являются Play Station 4 и Xbox One, появившиеся в 2013 году. Если магазин интересует продвижение на японском рынке, стоит также обратить внимание на Nintendo 3DS (это самая популярная платформа в Японии, также она входит в пятёрку по популярности в Северной Америке и Европе).\n",
    "2. Самыми продаваемыми являются игры в жанре экшен (первое место в Северной Америке и Европе, второе место в Японии). На западном рынке также пользуются популярностью шутеры, спортивные и ролевые игры, в Японии ролевые игры безоговорочно лидируют. Самыми неприбыльными жанрами являются стратегии, головоломки и приключения.\n",
    "3. Оценки критиков коррелируют с ростом продаж, поэтому их можно принять во внимание при составлении прогноза. Между пользовательскими оценками и количеством проданных копий игры зависимости не обнаружено.\n",
    "4. Существуют определённые региональные различия в поведении пользователей, поэтому при разработке рекламных кампаний необходимо учитывать локальные особенности:\n",
    "- _**Предпочитаемые платформы**_: в Северной Америке самые популярные консоли - Xbox 360, PlayStation 4 и PlayStation 3, в Европе - PlayStation 4, PlayStation 3, Xbox 360, в Японии - Nintendo 3DS, PlayStation 3 и PlayStation Vita, причём на Nintendo продаётся больше игр, чем на обеих PlayStation (87.79, 35.29 и 21.04 млн копий соответственно);\n",
    "- _**Предпочитаемые жанры**_: в СА и Европе наибольшей популярностью пользуются экшн, шутеры, спортивные и ролевые игры, в Японии лидируют ролевые игры, затем идут экшн, игры смешанного жанра и симуляторы;\n",
    "- _**Возрастные категории**_: в СА и Европе большинство популярных игр относятся к категории «Для взрослых» по оценке Entertainment Software Rating Board, на втором месте игры «Для всех», хуже всего продаются игры, маркированные «Для подростков». В Японии большинство продаж приходится на игры без рейтинга ESRB: вероятно, это произведения японских геймдизайнеров или авторов из других стран Азии, пока не вышедшие на западный рынок. Для продаж на японском рынке может быть полезно изучить местную возрастную маркировку от Computer Entertainment Rating Organization."
   ]
  },
  {
   "cell_type": "code",
   "execution_count": null,
   "metadata": {},
   "outputs": [],
   "source": []
  }
 ],
 "metadata": {
  "ExecuteTimeLog": [
   {
    "duration": 728,
    "start_time": "2021-08-23T08:51:40.792Z"
   },
   {
    "duration": 47,
    "start_time": "2021-08-23T08:52:13.649Z"
   },
   {
    "duration": 39,
    "start_time": "2021-08-23T08:52:17.857Z"
   },
   {
    "duration": 20,
    "start_time": "2021-08-23T09:20:20.437Z"
   },
   {
    "duration": 21,
    "start_time": "2021-08-23T09:20:34.152Z"
   },
   {
    "duration": 20,
    "start_time": "2021-08-23T09:20:44.015Z"
   },
   {
    "duration": 705,
    "start_time": "2021-08-23T10:55:05.460Z"
   },
   {
    "duration": 4,
    "start_time": "2021-08-23T10:56:04.594Z"
   },
   {
    "duration": 48,
    "start_time": "2021-08-23T10:56:21.383Z"
   },
   {
    "duration": 5,
    "start_time": "2021-08-23T10:56:31.133Z"
   },
   {
    "duration": 5,
    "start_time": "2021-08-23T10:57:03.559Z"
   },
   {
    "duration": 44,
    "start_time": "2021-08-23T10:57:04.382Z"
   },
   {
    "duration": 21,
    "start_time": "2021-08-23T10:57:05.598Z"
   },
   {
    "duration": 26,
    "start_time": "2021-08-23T10:57:14.928Z"
   },
   {
    "duration": 14,
    "start_time": "2021-08-23T10:57:30.102Z"
   },
   {
    "duration": 52,
    "start_time": "2021-08-23T11:00:07.458Z"
   },
   {
    "duration": 43,
    "start_time": "2021-08-23T11:07:16.253Z"
   },
   {
    "duration": 43,
    "start_time": "2021-08-23T11:08:28.468Z"
   },
   {
    "duration": 20,
    "start_time": "2021-08-23T11:08:31.431Z"
   },
   {
    "duration": 13,
    "start_time": "2021-08-23T11:12:09.130Z"
   },
   {
    "duration": 634,
    "start_time": "2021-08-23T11:13:01.959Z"
   },
   {
    "duration": 387,
    "start_time": "2021-08-23T11:13:55.368Z"
   },
   {
    "duration": 255,
    "start_time": "2021-08-23T11:13:59.478Z"
   },
   {
    "duration": 26,
    "start_time": "2021-08-23T11:14:07.806Z"
   },
   {
    "duration": 23,
    "start_time": "2021-08-23T11:14:46.239Z"
   },
   {
    "duration": 27,
    "start_time": "2021-08-23T11:14:51.222Z"
   },
   {
    "duration": 26,
    "start_time": "2021-08-23T11:16:37.699Z"
   },
   {
    "duration": 8,
    "start_time": "2021-08-23T11:31:04.368Z"
   },
   {
    "duration": 7,
    "start_time": "2021-08-23T11:31:20.741Z"
   },
   {
    "duration": 7,
    "start_time": "2021-08-23T11:31:37.497Z"
   },
   {
    "duration": 20,
    "start_time": "2021-08-23T11:31:55.289Z"
   },
   {
    "duration": 314,
    "start_time": "2021-08-23T11:36:00.490Z"
   },
   {
    "duration": 27,
    "start_time": "2021-08-23T11:36:09.081Z"
   },
   {
    "duration": 27,
    "start_time": "2021-08-23T11:36:23.666Z"
   },
   {
    "duration": 18,
    "start_time": "2021-08-23T11:37:27.394Z"
   },
   {
    "duration": 375,
    "start_time": "2021-08-23T11:38:08.876Z"
   },
   {
    "duration": 26,
    "start_time": "2021-08-23T11:38:23.032Z"
   },
   {
    "duration": 31,
    "start_time": "2021-08-23T11:38:30.144Z"
   },
   {
    "duration": 26,
    "start_time": "2021-08-23T11:38:45.793Z"
   },
   {
    "duration": 31,
    "start_time": "2021-08-23T11:41:39.383Z"
   },
   {
    "duration": 27,
    "start_time": "2021-08-23T11:42:00.362Z"
   },
   {
    "duration": 7,
    "start_time": "2021-08-23T11:42:10.419Z"
   },
   {
    "duration": 28,
    "start_time": "2021-08-23T11:42:11.519Z"
   },
   {
    "duration": 19,
    "start_time": "2021-08-23T11:42:21.154Z"
   },
   {
    "duration": 9,
    "start_time": "2021-08-23T11:43:11.540Z"
   },
   {
    "duration": 23,
    "start_time": "2021-08-23T11:43:12.409Z"
   },
   {
    "duration": 18,
    "start_time": "2021-08-23T11:43:27.954Z"
   },
   {
    "duration": 247,
    "start_time": "2021-08-23T11:44:55.267Z"
   },
   {
    "duration": 7,
    "start_time": "2021-08-23T11:45:26.750Z"
   },
   {
    "duration": 14,
    "start_time": "2021-08-23T11:45:33.746Z"
   },
   {
    "duration": 6,
    "start_time": "2021-08-23T11:46:12.229Z"
   },
   {
    "duration": 11,
    "start_time": "2021-08-23T11:49:16.765Z"
   },
   {
    "duration": 6,
    "start_time": "2021-08-23T11:49:34.901Z"
   },
   {
    "duration": 8,
    "start_time": "2021-08-23T11:49:40.858Z"
   },
   {
    "duration": 322,
    "start_time": "2021-08-23T11:49:49.468Z"
   },
   {
    "duration": 9,
    "start_time": "2021-08-23T11:50:48.345Z"
   },
   {
    "duration": 8,
    "start_time": "2021-08-23T11:50:49.455Z"
   },
   {
    "duration": 7,
    "start_time": "2021-08-23T11:51:08.456Z"
   },
   {
    "duration": 8,
    "start_time": "2021-08-23T11:51:16.843Z"
   },
   {
    "duration": 6,
    "start_time": "2021-08-23T11:51:17.808Z"
   },
   {
    "duration": 404,
    "start_time": "2021-08-23T11:51:53.169Z"
   },
   {
    "duration": 10,
    "start_time": "2021-08-23T11:52:04.244Z"
   },
   {
    "duration": 7,
    "start_time": "2021-08-23T11:52:05.608Z"
   },
   {
    "duration": 294,
    "start_time": "2021-08-23T11:52:14.001Z"
   },
   {
    "duration": 336,
    "start_time": "2021-08-23T11:52:18.183Z"
   },
   {
    "duration": 15,
    "start_time": "2021-08-23T11:52:25.301Z"
   },
   {
    "duration": 10,
    "start_time": "2021-08-23T11:52:59.347Z"
   },
   {
    "duration": 9,
    "start_time": "2021-08-23T11:53:08.616Z"
   },
   {
    "duration": 20,
    "start_time": "2021-08-23T11:53:18.435Z"
   },
   {
    "duration": 8,
    "start_time": "2021-08-23T11:54:11.806Z"
   },
   {
    "duration": 31,
    "start_time": "2021-08-23T11:54:29.180Z"
   },
   {
    "duration": 13,
    "start_time": "2021-08-23T12:10:35.233Z"
   },
   {
    "duration": 16,
    "start_time": "2021-08-23T12:10:36.228Z"
   },
   {
    "duration": 19,
    "start_time": "2021-08-23T12:10:57.552Z"
   },
   {
    "duration": 12,
    "start_time": "2021-08-23T12:24:39.727Z"
   },
   {
    "duration": 17,
    "start_time": "2021-08-23T12:24:40.534Z"
   },
   {
    "duration": 8,
    "start_time": "2021-08-23T12:24:53.833Z"
   },
   {
    "duration": 15,
    "start_time": "2021-08-23T12:24:54.535Z"
   },
   {
    "duration": 6,
    "start_time": "2021-08-23T12:26:40.693Z"
   },
   {
    "duration": 14,
    "start_time": "2021-08-23T12:26:41.770Z"
   },
   {
    "duration": 7,
    "start_time": "2021-08-23T12:33:59.726Z"
   },
   {
    "duration": 8,
    "start_time": "2021-08-23T12:34:06.123Z"
   },
   {
    "duration": 8,
    "start_time": "2021-08-23T12:34:08.337Z"
   },
   {
    "duration": 240,
    "start_time": "2021-08-23T12:34:20.023Z"
   },
   {
    "duration": 264,
    "start_time": "2021-08-23T12:34:28.400Z"
   },
   {
    "duration": 9,
    "start_time": "2021-08-23T12:34:34.233Z"
   },
   {
    "duration": 7,
    "start_time": "2021-08-23T12:39:11.882Z"
   },
   {
    "duration": 10,
    "start_time": "2021-08-23T12:39:12.749Z"
   },
   {
    "duration": 43,
    "start_time": "2021-08-23T12:39:23.824Z"
   },
   {
    "duration": 15,
    "start_time": "2021-08-23T12:39:29.765Z"
   },
   {
    "duration": 6,
    "start_time": "2021-08-23T12:42:21.757Z"
   },
   {
    "duration": 8,
    "start_time": "2021-08-23T12:42:33.523Z"
   },
   {
    "duration": 7,
    "start_time": "2021-08-23T12:44:39.906Z"
   },
   {
    "duration": 9,
    "start_time": "2021-08-23T12:49:42.317Z"
   },
   {
    "duration": 275,
    "start_time": "2021-08-23T12:49:55.319Z"
   },
   {
    "duration": 35,
    "start_time": "2021-08-23T12:50:25.990Z"
   },
   {
    "duration": 16,
    "start_time": "2021-08-23T12:50:34.912Z"
   },
   {
    "duration": 1360,
    "start_time": "2021-08-23T12:54:46.243Z"
   },
   {
    "duration": 45,
    "start_time": "2021-08-23T12:54:47.606Z"
   },
   {
    "duration": 26,
    "start_time": "2021-08-23T12:54:47.654Z"
   },
   {
    "duration": 13,
    "start_time": "2021-08-23T12:54:47.683Z"
   },
   {
    "duration": 664,
    "start_time": "2021-08-23T12:54:47.698Z"
   },
   {
    "duration": 10,
    "start_time": "2021-08-23T12:54:48.364Z"
   },
   {
    "duration": 5,
    "start_time": "2021-08-23T12:54:48.377Z"
   },
   {
    "duration": 19,
    "start_time": "2021-08-23T12:54:48.385Z"
   },
   {
    "duration": 19,
    "start_time": "2021-08-23T12:54:48.407Z"
   },
   {
    "duration": 9,
    "start_time": "2021-08-23T12:54:48.463Z"
   },
   {
    "duration": 7,
    "start_time": "2021-08-23T12:54:48.474Z"
   },
   {
    "duration": 14,
    "start_time": "2021-08-23T12:55:30.927Z"
   },
   {
    "duration": 20,
    "start_time": "2021-08-23T12:55:57.364Z"
   },
   {
    "duration": 7,
    "start_time": "2021-08-23T12:57:24.840Z"
   },
   {
    "duration": 21,
    "start_time": "2021-08-23T12:57:25.679Z"
   },
   {
    "duration": 11,
    "start_time": "2021-08-23T12:57:35.767Z"
   },
   {
    "duration": 765,
    "start_time": "2021-08-23T12:57:36.772Z"
   },
   {
    "duration": -249,
    "start_time": "2021-08-23T12:57:37.789Z"
   },
   {
    "duration": 21,
    "start_time": "2021-08-23T12:57:45.234Z"
   },
   {
    "duration": 14,
    "start_time": "2021-08-23T12:57:57.232Z"
   },
   {
    "duration": 280,
    "start_time": "2021-08-23T13:34:39.193Z"
   },
   {
    "duration": 1388,
    "start_time": "2021-08-23T13:37:38.050Z"
   },
   {
    "duration": 45,
    "start_time": "2021-08-23T13:37:39.440Z"
   },
   {
    "duration": 25,
    "start_time": "2021-08-23T13:37:39.487Z"
   },
   {
    "duration": 17,
    "start_time": "2021-08-23T13:37:39.515Z"
   },
   {
    "duration": 742,
    "start_time": "2021-08-23T13:37:39.535Z"
   },
   {
    "duration": 11,
    "start_time": "2021-08-23T13:37:40.279Z"
   },
   {
    "duration": 18,
    "start_time": "2021-08-23T13:37:40.292Z"
   },
   {
    "duration": 786,
    "start_time": "2021-08-23T13:37:40.313Z"
   },
   {
    "duration": -295,
    "start_time": "2021-08-23T13:37:41.397Z"
   },
   {
    "duration": -297,
    "start_time": "2021-08-23T13:37:41.400Z"
   },
   {
    "duration": -300,
    "start_time": "2021-08-23T13:37:41.405Z"
   },
   {
    "duration": -305,
    "start_time": "2021-08-23T13:37:41.411Z"
   },
   {
    "duration": 20,
    "start_time": "2021-08-23T13:38:05.928Z"
   },
   {
    "duration": 11,
    "start_time": "2021-08-23T13:38:10.085Z"
   },
   {
    "duration": 23,
    "start_time": "2021-08-23T13:38:12.406Z"
   },
   {
    "duration": 14,
    "start_time": "2021-08-23T13:38:52.466Z"
   },
   {
    "duration": 50,
    "start_time": "2021-08-23T13:39:37.641Z"
   },
   {
    "duration": 19,
    "start_time": "2021-08-23T13:39:45.101Z"
   },
   {
    "duration": 7,
    "start_time": "2021-08-23T13:40:00.866Z"
   },
   {
    "duration": 8,
    "start_time": "2021-08-23T13:40:10.563Z"
   },
   {
    "duration": 20,
    "start_time": "2021-08-23T13:40:14.018Z"
   },
   {
    "duration": 15,
    "start_time": "2021-08-23T13:40:18.075Z"
   },
   {
    "duration": 6,
    "start_time": "2021-08-23T13:41:07.714Z"
   },
   {
    "duration": 23,
    "start_time": "2021-08-23T13:41:08.724Z"
   },
   {
    "duration": 15,
    "start_time": "2021-08-23T13:41:10.006Z"
   },
   {
    "duration": 1141,
    "start_time": "2021-08-23T14:14:24.194Z"
   },
   {
    "duration": 5911,
    "start_time": "2021-08-23T14:14:39.584Z"
   },
   {
    "duration": 269,
    "start_time": "2021-08-23T14:14:59.860Z"
   },
   {
    "duration": 23,
    "start_time": "2021-08-23T14:15:08.169Z"
   },
   {
    "duration": 1693,
    "start_time": "2021-08-23T14:16:03.566Z"
   },
   {
    "duration": 22,
    "start_time": "2021-08-23T14:20:04.922Z"
   },
   {
    "duration": 1677,
    "start_time": "2021-08-23T14:24:27.234Z"
   },
   {
    "duration": 52,
    "start_time": "2021-08-23T14:24:28.914Z"
   },
   {
    "duration": 27,
    "start_time": "2021-08-23T14:24:28.970Z"
   },
   {
    "duration": 15,
    "start_time": "2021-08-23T14:24:29.001Z"
   },
   {
    "duration": 666,
    "start_time": "2021-08-23T14:24:29.019Z"
   },
   {
    "duration": 10,
    "start_time": "2021-08-23T14:24:29.687Z"
   },
   {
    "duration": 6,
    "start_time": "2021-08-23T14:24:29.700Z"
   },
   {
    "duration": 58,
    "start_time": "2021-08-23T14:24:29.711Z"
   },
   {
    "duration": 472,
    "start_time": "2021-08-23T14:24:29.772Z"
   },
   {
    "duration": -362,
    "start_time": "2021-08-23T14:24:30.611Z"
   },
   {
    "duration": -364,
    "start_time": "2021-08-23T14:24:30.616Z"
   },
   {
    "duration": -366,
    "start_time": "2021-08-23T14:24:30.620Z"
   },
   {
    "duration": 1390,
    "start_time": "2021-08-23T15:18:51.520Z"
   },
   {
    "duration": 47,
    "start_time": "2021-08-23T15:18:52.913Z"
   },
   {
    "duration": 24,
    "start_time": "2021-08-23T15:18:52.966Z"
   },
   {
    "duration": 15,
    "start_time": "2021-08-23T15:18:52.992Z"
   },
   {
    "duration": 609,
    "start_time": "2021-08-23T15:18:53.009Z"
   },
   {
    "duration": 10,
    "start_time": "2021-08-23T15:18:53.621Z"
   },
   {
    "duration": 28,
    "start_time": "2021-08-23T15:18:53.634Z"
   },
   {
    "duration": 24,
    "start_time": "2021-08-23T15:18:53.664Z"
   },
   {
    "duration": 411,
    "start_time": "2021-08-23T15:18:53.690Z"
   },
   {
    "duration": -419,
    "start_time": "2021-08-23T15:18:54.523Z"
   },
   {
    "duration": -422,
    "start_time": "2021-08-23T15:18:54.527Z"
   },
   {
    "duration": -424,
    "start_time": "2021-08-23T15:18:54.530Z"
   },
   {
    "duration": 1439,
    "start_time": "2021-08-24T06:54:27.528Z"
   },
   {
    "duration": 49,
    "start_time": "2021-08-24T06:54:28.969Z"
   },
   {
    "duration": 26,
    "start_time": "2021-08-24T06:54:29.021Z"
   },
   {
    "duration": 19,
    "start_time": "2021-08-24T06:54:29.050Z"
   },
   {
    "duration": 746,
    "start_time": "2021-08-24T06:54:29.071Z"
   },
   {
    "duration": 15,
    "start_time": "2021-08-24T06:54:29.821Z"
   },
   {
    "duration": 7,
    "start_time": "2021-08-24T06:54:29.839Z"
   },
   {
    "duration": 55,
    "start_time": "2021-08-24T06:54:29.851Z"
   },
   {
    "duration": 551,
    "start_time": "2021-08-24T06:54:29.909Z"
   },
   {
    "duration": -1891,
    "start_time": "2021-08-24T06:54:32.354Z"
   },
   {
    "duration": -1892,
    "start_time": "2021-08-24T06:54:32.356Z"
   },
   {
    "duration": -1892,
    "start_time": "2021-08-24T06:54:32.357Z"
   },
   {
    "duration": 2856,
    "start_time": "2021-08-24T07:00:02.541Z"
   },
   {
    "duration": 7,
    "start_time": "2021-08-24T07:07:22.275Z"
   },
   {
    "duration": 31,
    "start_time": "2021-08-24T07:08:57.337Z"
   },
   {
    "duration": 6,
    "start_time": "2021-08-24T07:17:02.294Z"
   },
   {
    "duration": 36,
    "start_time": "2021-08-24T07:27:40.233Z"
   },
   {
    "duration": 26,
    "start_time": "2021-08-24T07:27:52.823Z"
   },
   {
    "duration": 12,
    "start_time": "2021-08-24T07:28:03.188Z"
   },
   {
    "duration": 27,
    "start_time": "2021-08-24T07:28:06.544Z"
   },
   {
    "duration": 15,
    "start_time": "2021-08-24T07:28:19.768Z"
   },
   {
    "duration": 29,
    "start_time": "2021-08-24T07:28:20.732Z"
   },
   {
    "duration": 28,
    "start_time": "2021-08-24T07:28:58.055Z"
   },
   {
    "duration": 7,
    "start_time": "2021-08-24T07:30:18.914Z"
   },
   {
    "duration": 532,
    "start_time": "2021-08-24T07:30:34.650Z"
   },
   {
    "duration": 477,
    "start_time": "2021-08-24T07:30:41.270Z"
   },
   {
    "duration": 296,
    "start_time": "2021-08-24T07:30:49.807Z"
   },
   {
    "duration": 418,
    "start_time": "2021-08-24T07:41:04.043Z"
   },
   {
    "duration": 440,
    "start_time": "2021-08-24T07:41:16.978Z"
   },
   {
    "duration": 415,
    "start_time": "2021-08-24T07:41:29.956Z"
   },
   {
    "duration": 27,
    "start_time": "2021-08-24T07:41:43.588Z"
   },
   {
    "duration": 7,
    "start_time": "2021-08-24T07:42:37.179Z"
   },
   {
    "duration": 6,
    "start_time": "2021-08-24T07:42:51.720Z"
   },
   {
    "duration": 7,
    "start_time": "2021-08-24T07:42:58.433Z"
   },
   {
    "duration": 46,
    "start_time": "2021-08-24T07:50:16.890Z"
   },
   {
    "duration": 13,
    "start_time": "2021-08-24T07:50:54.809Z"
   },
   {
    "duration": 49,
    "start_time": "2021-08-24T07:50:57.221Z"
   },
   {
    "duration": 14,
    "start_time": "2021-08-24T07:51:54.468Z"
   },
   {
    "duration": 368,
    "start_time": "2021-08-24T07:51:57.770Z"
   },
   {
    "duration": 384,
    "start_time": "2021-08-24T07:52:06.559Z"
   },
   {
    "duration": 375,
    "start_time": "2021-08-24T07:52:17.741Z"
   },
   {
    "duration": 1434,
    "start_time": "2021-08-24T07:52:33.736Z"
   },
   {
    "duration": 49,
    "start_time": "2021-08-24T07:52:35.172Z"
   },
   {
    "duration": 23,
    "start_time": "2021-08-24T07:52:35.224Z"
   },
   {
    "duration": 35,
    "start_time": "2021-08-24T07:52:35.249Z"
   },
   {
    "duration": 14,
    "start_time": "2021-08-24T07:52:35.286Z"
   },
   {
    "duration": 10,
    "start_time": "2021-08-24T07:52:35.302Z"
   },
   {
    "duration": 716,
    "start_time": "2021-08-24T07:52:35.314Z"
   },
   {
    "duration": 23,
    "start_time": "2021-08-24T07:52:36.034Z"
   },
   {
    "duration": 15,
    "start_time": "2021-08-24T07:52:36.060Z"
   },
   {
    "duration": 68,
    "start_time": "2021-08-24T07:52:36.078Z"
   },
   {
    "duration": 536,
    "start_time": "2021-08-24T07:52:36.149Z"
   },
   {
    "duration": -35,
    "start_time": "2021-08-24T07:52:36.722Z"
   },
   {
    "duration": -35,
    "start_time": "2021-08-24T07:52:36.724Z"
   },
   {
    "duration": 19,
    "start_time": "2021-08-24T07:53:28.791Z"
   },
   {
    "duration": 14,
    "start_time": "2021-08-24T07:54:09.464Z"
   },
   {
    "duration": 47,
    "start_time": "2021-08-24T07:54:12.460Z"
   },
   {
    "duration": 18,
    "start_time": "2021-08-24T07:54:43.046Z"
   },
   {
    "duration": 13,
    "start_time": "2021-08-24T07:54:53.370Z"
   },
   {
    "duration": 384,
    "start_time": "2021-08-24T07:54:56.097Z"
   },
   {
    "duration": 457,
    "start_time": "2021-08-24T07:55:00.681Z"
   },
   {
    "duration": 629,
    "start_time": "2021-08-24T07:55:08.060Z"
   },
   {
    "duration": 1480,
    "start_time": "2021-08-24T07:55:19.676Z"
   },
   {
    "duration": 50,
    "start_time": "2021-08-24T07:55:21.159Z"
   },
   {
    "duration": 26,
    "start_time": "2021-08-24T07:55:21.214Z"
   },
   {
    "duration": 16,
    "start_time": "2021-08-24T07:55:21.244Z"
   },
   {
    "duration": 44,
    "start_time": "2021-08-24T07:55:21.263Z"
   },
   {
    "duration": 8,
    "start_time": "2021-08-24T07:55:21.309Z"
   },
   {
    "duration": 744,
    "start_time": "2021-08-24T07:55:21.320Z"
   },
   {
    "duration": 40,
    "start_time": "2021-08-24T07:55:22.068Z"
   },
   {
    "duration": 23,
    "start_time": "2021-08-24T07:55:22.111Z"
   },
   {
    "duration": 44,
    "start_time": "2021-08-24T07:55:22.137Z"
   },
   {
    "duration": 31,
    "start_time": "2021-08-24T07:55:22.184Z"
   },
   {
    "duration": 21,
    "start_time": "2021-08-24T07:55:22.217Z"
   },
   {
    "duration": 14,
    "start_time": "2021-08-24T07:56:21.745Z"
   },
   {
    "duration": 561,
    "start_time": "2021-08-24T07:56:40.357Z"
   },
   {
    "duration": 7,
    "start_time": "2021-08-24T07:57:31.205Z"
   },
   {
    "duration": 381,
    "start_time": "2021-08-24T07:57:57.554Z"
   },
   {
    "duration": 85,
    "start_time": "2021-08-24T07:58:04.216Z"
   },
   {
    "duration": 26,
    "start_time": "2021-08-24T07:58:36.810Z"
   },
   {
    "duration": 25,
    "start_time": "2021-08-24T07:58:43.317Z"
   },
   {
    "duration": 8,
    "start_time": "2021-08-24T07:59:12.533Z"
   },
   {
    "duration": 18,
    "start_time": "2021-08-24T07:59:23.024Z"
   },
   {
    "duration": 25,
    "start_time": "2021-08-24T08:00:04.422Z"
   },
   {
    "duration": 25,
    "start_time": "2021-08-24T08:03:34.787Z"
   },
   {
    "duration": 24,
    "start_time": "2021-08-24T08:05:20.120Z"
   },
   {
    "duration": 6,
    "start_time": "2021-08-24T08:08:13.807Z"
   },
   {
    "duration": 7,
    "start_time": "2021-08-24T08:10:25.122Z"
   },
   {
    "duration": 413,
    "start_time": "2021-08-24T08:10:31.555Z"
   },
   {
    "duration": 130,
    "start_time": "2021-08-24T08:11:17.873Z"
   },
   {
    "duration": 53,
    "start_time": "2021-08-24T08:11:23.130Z"
   },
   {
    "duration": 697,
    "start_time": "2021-08-24T08:12:10.698Z"
   },
   {
    "duration": 1123,
    "start_time": "2021-08-24T08:12:17.624Z"
   },
   {
    "duration": 32,
    "start_time": "2021-08-24T08:12:40.804Z"
   },
   {
    "duration": 7,
    "start_time": "2021-08-24T08:14:48.684Z"
   },
   {
    "duration": 10212,
    "start_time": "2021-08-24T08:16:05.575Z"
   },
   {
    "duration": 390,
    "start_time": "2021-08-24T08:16:30.380Z"
   },
   {
    "duration": 14,
    "start_time": "2021-08-24T08:17:30.165Z"
   },
   {
    "duration": 680,
    "start_time": "2021-08-24T08:17:51.266Z"
   },
   {
    "duration": 138,
    "start_time": "2021-08-24T08:18:01.423Z"
   },
   {
    "duration": 14,
    "start_time": "2021-08-24T08:18:08.776Z"
   },
   {
    "duration": 14,
    "start_time": "2021-08-24T08:18:26.020Z"
   },
   {
    "duration": 133,
    "start_time": "2021-08-24T08:18:33.292Z"
   },
   {
    "duration": 6,
    "start_time": "2021-08-24T08:18:43.710Z"
   },
   {
    "duration": 14,
    "start_time": "2021-08-24T08:18:53.562Z"
   },
   {
    "duration": 44,
    "start_time": "2021-08-24T08:21:43.311Z"
   },
   {
    "duration": 15,
    "start_time": "2021-08-24T08:22:14.096Z"
   },
   {
    "duration": 13,
    "start_time": "2021-08-24T08:23:07.480Z"
   },
   {
    "duration": 14,
    "start_time": "2021-08-24T08:23:25.767Z"
   },
   {
    "duration": 13,
    "start_time": "2021-08-24T08:23:44.157Z"
   },
   {
    "duration": 24,
    "start_time": "2021-08-24T08:24:20.610Z"
   },
   {
    "duration": 16,
    "start_time": "2021-08-24T08:24:41.883Z"
   },
   {
    "duration": 12,
    "start_time": "2021-08-24T08:24:50.741Z"
   },
   {
    "duration": 18,
    "start_time": "2021-08-24T08:26:23.914Z"
   },
   {
    "duration": 12,
    "start_time": "2021-08-24T08:26:41.296Z"
   },
   {
    "duration": 10,
    "start_time": "2021-08-24T08:30:26.644Z"
   },
   {
    "duration": 11,
    "start_time": "2021-08-24T08:31:05.023Z"
   },
   {
    "duration": 11,
    "start_time": "2021-08-24T08:32:22.070Z"
   },
   {
    "duration": 6,
    "start_time": "2021-08-24T08:47:33.380Z"
   },
   {
    "duration": 19,
    "start_time": "2021-08-24T08:47:39.447Z"
   },
   {
    "duration": 14,
    "start_time": "2021-08-24T08:47:46.045Z"
   },
   {
    "duration": 7,
    "start_time": "2021-08-24T08:48:05.450Z"
   },
   {
    "duration": 20,
    "start_time": "2021-08-24T08:48:06.445Z"
   },
   {
    "duration": 14,
    "start_time": "2021-08-24T08:48:11.160Z"
   },
   {
    "duration": 34,
    "start_time": "2021-08-24T08:49:21.736Z"
   },
   {
    "duration": 29,
    "start_time": "2021-08-24T08:51:07.070Z"
   },
   {
    "duration": 9,
    "start_time": "2021-08-24T08:57:07.520Z"
   },
   {
    "duration": 19,
    "start_time": "2021-08-24T08:57:08.251Z"
   },
   {
    "duration": 13,
    "start_time": "2021-08-24T08:57:18.658Z"
   },
   {
    "duration": 47,
    "start_time": "2021-08-24T08:58:54.345Z"
   },
   {
    "duration": 380,
    "start_time": "2021-08-24T09:04:53.164Z"
   },
   {
    "duration": 533,
    "start_time": "2021-08-24T09:05:00.846Z"
   },
   {
    "duration": 295,
    "start_time": "2021-08-24T09:05:05.996Z"
   },
   {
    "duration": 875,
    "start_time": "2021-08-24T09:05:14.750Z"
   },
   {
    "duration": 828,
    "start_time": "2021-08-24T09:05:30.385Z"
   },
   {
    "duration": 326,
    "start_time": "2021-08-24T09:05:35.438Z"
   },
   {
    "duration": 326,
    "start_time": "2021-08-24T09:05:49.099Z"
   },
   {
    "duration": 313,
    "start_time": "2021-08-24T09:07:21.512Z"
   },
   {
    "duration": 307,
    "start_time": "2021-08-24T09:08:46.360Z"
   },
   {
    "duration": 1049,
    "start_time": "2021-08-24T09:09:01.118Z"
   },
   {
    "duration": 326,
    "start_time": "2021-08-24T09:09:08.233Z"
   },
   {
    "duration": 410,
    "start_time": "2021-08-24T09:09:16.275Z"
   },
   {
    "duration": 334,
    "start_time": "2021-08-24T09:09:24.142Z"
   },
   {
    "duration": 314,
    "start_time": "2021-08-24T09:09:36.584Z"
   },
   {
    "duration": 318,
    "start_time": "2021-08-24T09:09:48.174Z"
   },
   {
    "duration": 328,
    "start_time": "2021-08-24T09:09:55.381Z"
   },
   {
    "duration": 48,
    "start_time": "2021-08-24T09:10:26.559Z"
   },
   {
    "duration": 1426,
    "start_time": "2021-08-24T09:13:13.444Z"
   },
   {
    "duration": 49,
    "start_time": "2021-08-24T09:13:14.873Z"
   },
   {
    "duration": 23,
    "start_time": "2021-08-24T09:13:14.925Z"
   },
   {
    "duration": 13,
    "start_time": "2021-08-24T09:13:14.951Z"
   },
   {
    "duration": 8,
    "start_time": "2021-08-24T09:13:14.966Z"
   },
   {
    "duration": 8,
    "start_time": "2021-08-24T09:13:15.002Z"
   },
   {
    "duration": 767,
    "start_time": "2021-08-24T09:13:15.013Z"
   },
   {
    "duration": 34,
    "start_time": "2021-08-24T09:13:15.784Z"
   },
   {
    "duration": 20,
    "start_time": "2021-08-24T09:13:15.820Z"
   },
   {
    "duration": 107,
    "start_time": "2021-08-24T09:13:15.842Z"
   },
   {
    "duration": 24,
    "start_time": "2021-08-24T09:13:15.951Z"
   },
   {
    "duration": 41,
    "start_time": "2021-08-24T09:13:15.978Z"
   },
   {
    "duration": 11,
    "start_time": "2021-08-24T09:13:16.022Z"
   },
   {
    "duration": 8,
    "start_time": "2021-08-24T09:13:16.035Z"
   },
   {
    "duration": 87,
    "start_time": "2021-08-24T09:13:16.046Z"
   },
   {
    "duration": 304,
    "start_time": "2021-08-24T09:13:16.135Z"
   },
   {
    "duration": 285,
    "start_time": "2021-08-24T09:18:37.552Z"
   },
   {
    "duration": 985,
    "start_time": "2021-08-24T09:18:49.641Z"
   },
   {
    "duration": 320,
    "start_time": "2021-08-24T09:18:55.958Z"
   },
   {
    "duration": 305,
    "start_time": "2021-08-24T09:19:02.799Z"
   },
   {
    "duration": 619,
    "start_time": "2021-08-24T09:19:13.285Z"
   },
   {
    "duration": 671,
    "start_time": "2021-08-24T09:19:23.763Z"
   },
   {
    "duration": 1541,
    "start_time": "2021-08-24T09:21:53.246Z"
   },
   {
    "duration": 1661,
    "start_time": "2021-08-24T09:22:08.397Z"
   },
   {
    "duration": 7,
    "start_time": "2021-08-24T09:23:22.246Z"
   },
   {
    "duration": 1555,
    "start_time": "2021-08-24T09:24:50.838Z"
   },
   {
    "duration": 10,
    "start_time": "2021-08-24T09:26:03.775Z"
   },
   {
    "duration": 1194,
    "start_time": "2021-08-24T09:32:45.446Z"
   },
   {
    "duration": 1194,
    "start_time": "2021-08-24T09:32:53.370Z"
   },
   {
    "duration": 1705,
    "start_time": "2021-08-24T09:33:10.842Z"
   },
   {
    "duration": 1572,
    "start_time": "2021-08-24T09:33:24.141Z"
   },
   {
    "duration": 1346,
    "start_time": "2021-08-24T09:34:19.204Z"
   },
   {
    "duration": 1188,
    "start_time": "2021-08-24T09:34:35.547Z"
   },
   {
    "duration": 1454,
    "start_time": "2021-08-24T09:34:50.878Z"
   },
   {
    "duration": 1588,
    "start_time": "2021-08-24T09:36:08.761Z"
   },
   {
    "duration": 1456,
    "start_time": "2021-08-24T09:36:21.297Z"
   },
   {
    "duration": 1611,
    "start_time": "2021-08-24T09:36:33.190Z"
   },
   {
    "duration": 1588,
    "start_time": "2021-08-24T09:36:46.453Z"
   },
   {
    "duration": 2082,
    "start_time": "2021-08-24T09:47:36.981Z"
   },
   {
    "duration": 67,
    "start_time": "2021-08-24T09:47:39.067Z"
   },
   {
    "duration": 38,
    "start_time": "2021-08-24T09:47:39.138Z"
   },
   {
    "duration": 34,
    "start_time": "2021-08-24T09:47:39.180Z"
   },
   {
    "duration": 10,
    "start_time": "2021-08-24T09:47:39.218Z"
   },
   {
    "duration": 7,
    "start_time": "2021-08-24T09:47:39.231Z"
   },
   {
    "duration": 764,
    "start_time": "2021-08-24T09:47:39.240Z"
   },
   {
    "duration": 25,
    "start_time": "2021-08-24T09:47:40.007Z"
   },
   {
    "duration": 13,
    "start_time": "2021-08-24T09:47:40.036Z"
   },
   {
    "duration": 120,
    "start_time": "2021-08-24T09:47:40.053Z"
   },
   {
    "duration": 32,
    "start_time": "2021-08-24T09:47:40.176Z"
   },
   {
    "duration": 24,
    "start_time": "2021-08-24T09:47:40.210Z"
   },
   {
    "duration": 16,
    "start_time": "2021-08-24T09:47:40.238Z"
   },
   {
    "duration": 11,
    "start_time": "2021-08-24T09:47:40.257Z"
   },
   {
    "duration": 9,
    "start_time": "2021-08-24T09:47:40.302Z"
   },
   {
    "duration": 2576,
    "start_time": "2021-08-24T09:47:40.314Z"
   },
   {
    "duration": 330,
    "start_time": "2021-08-24T09:47:42.893Z"
   },
   {
    "duration": 1576,
    "start_time": "2021-08-24T09:50:53.079Z"
   },
   {
    "duration": 1770,
    "start_time": "2021-08-24T09:51:16.305Z"
   },
   {
    "duration": 1512,
    "start_time": "2021-08-24T09:52:01.913Z"
   },
   {
    "duration": 1562,
    "start_time": "2021-08-24T09:53:13.858Z"
   },
   {
    "duration": 1484,
    "start_time": "2021-08-24T09:54:42.436Z"
   },
   {
    "duration": 1571,
    "start_time": "2021-08-24T09:54:59.009Z"
   },
   {
    "duration": 1435,
    "start_time": "2021-08-24T09:56:44.965Z"
   },
   {
    "duration": 1599,
    "start_time": "2021-08-24T09:57:23.720Z"
   },
   {
    "duration": 1538,
    "start_time": "2021-08-24T09:58:29.274Z"
   },
   {
    "duration": 7,
    "start_time": "2021-08-24T10:08:55.838Z"
   },
   {
    "duration": 33,
    "start_time": "2021-08-24T10:09:01.876Z"
   },
   {
    "duration": 323,
    "start_time": "2021-08-24T10:14:50.982Z"
   },
   {
    "duration": 290,
    "start_time": "2021-08-24T10:14:56.488Z"
   },
   {
    "duration": 434,
    "start_time": "2021-08-24T10:15:08.418Z"
   },
   {
    "duration": 279,
    "start_time": "2021-08-24T10:15:14.261Z"
   },
   {
    "duration": 531,
    "start_time": "2021-08-24T10:15:24.239Z"
   },
   {
    "duration": 514,
    "start_time": "2021-08-24T10:15:32.873Z"
   },
   {
    "duration": 391,
    "start_time": "2021-08-24T10:15:39.665Z"
   },
   {
    "duration": 377,
    "start_time": "2021-08-24T10:15:46.658Z"
   },
   {
    "duration": 393,
    "start_time": "2021-08-24T10:15:55.585Z"
   },
   {
    "duration": 381,
    "start_time": "2021-08-24T10:16:43.287Z"
   },
   {
    "duration": 34,
    "start_time": "2021-08-24T10:17:15.529Z"
   },
   {
    "duration": 36,
    "start_time": "2021-08-24T10:17:28.109Z"
   },
   {
    "duration": 38,
    "start_time": "2021-08-24T10:17:33.209Z"
   },
   {
    "duration": 411,
    "start_time": "2021-08-24T10:17:43.269Z"
   },
   {
    "duration": 408,
    "start_time": "2021-08-24T10:17:58.737Z"
   },
   {
    "duration": 9,
    "start_time": "2021-08-24T10:23:50.731Z"
   },
   {
    "duration": 430,
    "start_time": "2021-08-24T11:06:58.235Z"
   },
   {
    "duration": 413,
    "start_time": "2021-08-24T11:07:12.350Z"
   },
   {
    "duration": 416,
    "start_time": "2021-08-24T11:07:28.403Z"
   },
   {
    "duration": 32,
    "start_time": "2021-08-24T11:08:50.408Z"
   },
   {
    "duration": 8836,
    "start_time": "2021-08-24T11:09:29.398Z"
   },
   {
    "duration": 661,
    "start_time": "2021-08-24T11:18:38.398Z"
   },
   {
    "duration": 446,
    "start_time": "2021-08-24T11:18:44.999Z"
   },
   {
    "duration": 21,
    "start_time": "2021-08-24T11:18:52.282Z"
   },
   {
    "duration": 23,
    "start_time": "2021-08-24T11:19:21.542Z"
   },
   {
    "duration": 129,
    "start_time": "2021-08-24T11:19:39.464Z"
   },
   {
    "duration": 543,
    "start_time": "2021-08-24T11:19:44.864Z"
   },
   {
    "duration": 312,
    "start_time": "2021-08-24T11:20:21.759Z"
   },
   {
    "duration": 248,
    "start_time": "2021-08-24T11:20:27.052Z"
   },
   {
    "duration": 541,
    "start_time": "2021-08-24T11:20:33.472Z"
   },
   {
    "duration": 500,
    "start_time": "2021-08-24T11:34:23.132Z"
   },
   {
    "duration": 513,
    "start_time": "2021-08-24T11:34:33.116Z"
   },
   {
    "duration": 532,
    "start_time": "2021-08-24T11:34:39.044Z"
   },
   {
    "duration": 623,
    "start_time": "2021-08-24T11:34:45.571Z"
   },
   {
    "duration": 573,
    "start_time": "2021-08-24T11:35:44.857Z"
   },
   {
    "duration": 555,
    "start_time": "2021-08-24T11:35:51.602Z"
   },
   {
    "duration": 1200,
    "start_time": "2021-08-24T11:36:07.771Z"
   },
   {
    "duration": 571,
    "start_time": "2021-08-24T11:36:14.196Z"
   },
   {
    "duration": 566,
    "start_time": "2021-08-24T11:37:08.092Z"
   },
   {
    "duration": 22,
    "start_time": "2021-08-24T11:37:24.666Z"
   },
   {
    "duration": 22,
    "start_time": "2021-08-24T11:37:58.448Z"
   },
   {
    "duration": 387,
    "start_time": "2021-08-24T11:38:08.334Z"
   },
   {
    "duration": 407,
    "start_time": "2021-08-24T11:38:24.638Z"
   },
   {
    "duration": 11251,
    "start_time": "2021-08-24T11:38:39.372Z"
   },
   {
    "duration": 562,
    "start_time": "2021-08-24T11:39:29.383Z"
   },
   {
    "duration": 21,
    "start_time": "2021-08-24T11:40:19.198Z"
   },
   {
    "duration": 418,
    "start_time": "2021-08-24T11:44:19.723Z"
   },
   {
    "duration": 391,
    "start_time": "2021-08-24T11:44:27.008Z"
   },
   {
    "duration": 442,
    "start_time": "2021-08-24T11:44:41.947Z"
   },
   {
    "duration": 188,
    "start_time": "2021-08-24T11:45:01.762Z"
   },
   {
    "duration": 29,
    "start_time": "2021-08-24T11:45:19.326Z"
   },
   {
    "duration": 25,
    "start_time": "2021-08-24T11:45:26.058Z"
   },
   {
    "duration": 21,
    "start_time": "2021-08-24T11:49:59.259Z"
   },
   {
    "duration": 420,
    "start_time": "2021-08-24T11:51:06.314Z"
   },
   {
    "duration": 63,
    "start_time": "2021-08-24T11:51:18.408Z"
   },
   {
    "duration": 9,
    "start_time": "2021-08-24T11:52:52.247Z"
   },
   {
    "duration": 5,
    "start_time": "2021-08-24T11:53:02.520Z"
   },
   {
    "duration": 15,
    "start_time": "2021-08-24T11:53:43.404Z"
   },
   {
    "duration": 5,
    "start_time": "2021-08-24T11:53:44.351Z"
   },
   {
    "duration": 16,
    "start_time": "2021-08-24T11:54:41.445Z"
   },
   {
    "duration": 5,
    "start_time": "2021-08-24T11:54:42.234Z"
   },
   {
    "duration": 20,
    "start_time": "2021-08-24T11:58:19.883Z"
   },
   {
    "duration": 2929,
    "start_time": "2021-08-24T11:58:49.423Z"
   },
   {
    "duration": 39,
    "start_time": "2021-08-24T11:59:56.228Z"
   },
   {
    "duration": 36,
    "start_time": "2021-08-24T12:01:15.830Z"
   },
   {
    "duration": 271,
    "start_time": "2021-08-24T12:01:34.514Z"
   },
   {
    "duration": 35,
    "start_time": "2021-08-24T12:01:53.356Z"
   },
   {
    "duration": 454,
    "start_time": "2021-08-24T12:02:18.350Z"
   },
   {
    "duration": 74,
    "start_time": "2021-08-24T12:02:25.352Z"
   },
   {
    "duration": 642,
    "start_time": "2021-08-24T12:02:42.676Z"
   },
   {
    "duration": 357,
    "start_time": "2021-08-24T12:03:22.267Z"
   },
   {
    "duration": 427,
    "start_time": "2021-08-24T12:03:58.881Z"
   },
   {
    "duration": 42,
    "start_time": "2021-08-24T12:04:12.683Z"
   },
   {
    "duration": 401,
    "start_time": "2021-08-24T12:05:06.966Z"
   },
   {
    "duration": 420,
    "start_time": "2021-08-24T12:05:25.154Z"
   },
   {
    "duration": 474,
    "start_time": "2021-08-24T12:06:21.388Z"
   },
   {
    "duration": 468,
    "start_time": "2021-08-24T12:06:29.054Z"
   },
   {
    "duration": 481,
    "start_time": "2021-08-24T12:06:34.405Z"
   },
   {
    "duration": 488,
    "start_time": "2021-08-24T12:06:41.072Z"
   },
   {
    "duration": 486,
    "start_time": "2021-08-24T12:06:47.706Z"
   },
   {
    "duration": 482,
    "start_time": "2021-08-24T12:07:03.102Z"
   },
   {
    "duration": 764,
    "start_time": "2021-08-24T12:10:28.695Z"
   },
   {
    "duration": 895,
    "start_time": "2021-08-24T12:11:58.719Z"
   },
   {
    "duration": 500,
    "start_time": "2021-08-24T12:12:50.339Z"
   },
   {
    "duration": 485,
    "start_time": "2021-08-24T12:13:00.580Z"
   },
   {
    "duration": 480,
    "start_time": "2021-08-24T12:14:12.499Z"
   },
   {
    "duration": 501,
    "start_time": "2021-08-24T12:14:22.453Z"
   },
   {
    "duration": 475,
    "start_time": "2021-08-24T12:15:00.541Z"
   },
   {
    "duration": 500,
    "start_time": "2021-08-24T12:18:32.364Z"
   },
   {
    "duration": 520,
    "start_time": "2021-08-24T12:19:12.999Z"
   },
   {
    "duration": 524,
    "start_time": "2021-08-24T12:19:27.118Z"
   },
   {
    "duration": 10,
    "start_time": "2021-08-24T12:45:12.288Z"
   },
   {
    "duration": 7,
    "start_time": "2021-08-24T12:53:47.379Z"
   },
   {
    "duration": 32,
    "start_time": "2021-08-24T12:53:55.453Z"
   },
   {
    "duration": 584,
    "start_time": "2021-08-24T12:56:24.937Z"
   },
   {
    "duration": 593,
    "start_time": "2021-08-24T12:56:50.785Z"
   },
   {
    "duration": 748,
    "start_time": "2021-08-24T13:00:14.648Z"
   },
   {
    "duration": 694,
    "start_time": "2021-08-24T13:00:26.784Z"
   },
   {
    "duration": 650,
    "start_time": "2021-08-24T13:09:18.483Z"
   },
   {
    "duration": 1300,
    "start_time": "2021-08-24T13:10:08.645Z"
   },
   {
    "duration": 1072,
    "start_time": "2021-08-24T13:10:41.679Z"
   },
   {
    "duration": 403,
    "start_time": "2021-08-24T13:11:38.763Z"
   },
   {
    "duration": 388,
    "start_time": "2021-08-24T13:11:51.617Z"
   },
   {
    "duration": 680,
    "start_time": "2021-08-24T13:12:00.412Z"
   },
   {
    "duration": 127,
    "start_time": "2021-08-24T13:13:36.301Z"
   },
   {
    "duration": 1208,
    "start_time": "2021-08-24T13:13:40.650Z"
   },
   {
    "duration": 625,
    "start_time": "2021-08-24T13:13:47.134Z"
   },
   {
    "duration": 13,
    "start_time": "2021-08-24T13:15:49.189Z"
   },
   {
    "duration": 6,
    "start_time": "2021-08-24T13:16:12.260Z"
   },
   {
    "duration": 654,
    "start_time": "2021-08-24T13:21:44.962Z"
   },
   {
    "duration": 201,
    "start_time": "2021-08-24T13:21:51.345Z"
   },
   {
    "duration": 655,
    "start_time": "2021-08-24T13:22:00.370Z"
   },
   {
    "duration": 1211,
    "start_time": "2021-08-24T13:22:39.505Z"
   },
   {
    "duration": 1085,
    "start_time": "2021-08-24T13:24:04.077Z"
   },
   {
    "duration": 123,
    "start_time": "2021-08-24T13:24:24.665Z"
   },
   {
    "duration": 661,
    "start_time": "2021-08-24T13:27:32.101Z"
   },
   {
    "duration": 37,
    "start_time": "2021-08-24T13:27:38.687Z"
   },
   {
    "duration": 25,
    "start_time": "2021-08-24T13:27:48.019Z"
   },
   {
    "duration": 738,
    "start_time": "2021-08-24T13:28:01.886Z"
   },
   {
    "duration": 661,
    "start_time": "2021-08-24T13:28:12.900Z"
   },
   {
    "duration": 650,
    "start_time": "2021-08-24T13:30:35.101Z"
   },
   {
    "duration": 363,
    "start_time": "2021-08-24T13:30:45.280Z"
   },
   {
    "duration": 633,
    "start_time": "2021-08-24T13:31:07.873Z"
   },
   {
    "duration": 637,
    "start_time": "2021-08-24T13:31:15.327Z"
   },
   {
    "duration": 776,
    "start_time": "2021-08-24T13:31:43.137Z"
   },
   {
    "duration": 647,
    "start_time": "2021-08-24T13:31:54.722Z"
   },
   {
    "duration": 581,
    "start_time": "2021-08-24T13:32:02.894Z"
   },
   {
    "duration": 640,
    "start_time": "2021-08-24T13:32:08.333Z"
   },
   {
    "duration": 646,
    "start_time": "2021-08-24T13:34:54.311Z"
   },
   {
    "duration": 654,
    "start_time": "2021-08-24T13:35:05.753Z"
   },
   {
    "duration": 726,
    "start_time": "2021-08-24T13:36:08.214Z"
   },
   {
    "duration": 38,
    "start_time": "2021-08-24T13:38:32.371Z"
   },
   {
    "duration": 62,
    "start_time": "2021-08-24T13:43:22.785Z"
   },
   {
    "duration": 635,
    "start_time": "2021-08-24T14:03:31.584Z"
   },
   {
    "duration": 799,
    "start_time": "2021-08-24T14:03:43.278Z"
   },
   {
    "duration": 616,
    "start_time": "2021-08-24T14:03:54.371Z"
   },
   {
    "duration": 419,
    "start_time": "2021-08-24T14:06:11.529Z"
   },
   {
    "duration": 803,
    "start_time": "2021-08-24T14:06:26.664Z"
   },
   {
    "duration": 635,
    "start_time": "2021-08-24T14:30:25.634Z"
   },
   {
    "duration": 674,
    "start_time": "2021-08-24T14:30:54.117Z"
   },
   {
    "duration": 655,
    "start_time": "2021-08-24T14:31:05.012Z"
   },
   {
    "duration": 648,
    "start_time": "2021-08-24T14:32:58.539Z"
   },
   {
    "duration": 685,
    "start_time": "2021-08-24T14:33:07.503Z"
   },
   {
    "duration": 657,
    "start_time": "2021-08-24T14:33:16.046Z"
   },
   {
    "duration": 659,
    "start_time": "2021-08-24T14:33:43.518Z"
   },
   {
    "duration": 849,
    "start_time": "2021-08-24T14:33:51.942Z"
   },
   {
    "duration": 634,
    "start_time": "2021-08-24T14:34:33.131Z"
   },
   {
    "duration": 640,
    "start_time": "2021-08-24T14:38:02.382Z"
   },
   {
    "duration": 644,
    "start_time": "2021-08-24T14:47:13.439Z"
   },
   {
    "duration": 674,
    "start_time": "2021-08-24T14:47:19.833Z"
   },
   {
    "duration": 679,
    "start_time": "2021-08-24T14:47:25.831Z"
   },
   {
    "duration": 652,
    "start_time": "2021-08-24T14:47:35.178Z"
   },
   {
    "duration": 11,
    "start_time": "2021-08-24T14:58:20.169Z"
   },
   {
    "duration": 357,
    "start_time": "2021-08-24T14:58:47.292Z"
   },
   {
    "duration": 58,
    "start_time": "2021-08-24T14:59:05.513Z"
   },
   {
    "duration": 142,
    "start_time": "2021-08-24T14:59:48.162Z"
   },
   {
    "duration": 91,
    "start_time": "2021-08-24T14:59:52.292Z"
   },
   {
    "duration": 737,
    "start_time": "2021-08-24T15:26:35.055Z"
   },
   {
    "duration": 32,
    "start_time": "2021-08-24T15:40:18.286Z"
   },
   {
    "duration": 420,
    "start_time": "2021-08-24T15:41:53.286Z"
   },
   {
    "duration": 640,
    "start_time": "2021-08-24T15:42:17.714Z"
   },
   {
    "duration": 668,
    "start_time": "2021-08-24T15:42:38.922Z"
   },
   {
    "duration": 748,
    "start_time": "2021-08-24T15:42:56.991Z"
   },
   {
    "duration": 722,
    "start_time": "2021-08-24T15:43:40.108Z"
   },
   {
    "duration": 672,
    "start_time": "2021-08-24T15:44:41.181Z"
   },
   {
    "duration": 549,
    "start_time": "2021-08-24T15:45:07.377Z"
   },
   {
    "duration": 19,
    "start_time": "2021-08-24T15:45:32.031Z"
   },
   {
    "duration": 258,
    "start_time": "2021-08-24T15:46:32.130Z"
   },
   {
    "duration": 57,
    "start_time": "2021-08-24T15:47:43.060Z"
   },
   {
    "duration": 13,
    "start_time": "2021-08-24T15:53:06.628Z"
   },
   {
    "duration": 4,
    "start_time": "2021-08-24T15:53:17.525Z"
   },
   {
    "duration": 56,
    "start_time": "2021-08-24T15:53:18.487Z"
   },
   {
    "duration": 573,
    "start_time": "2021-08-24T15:55:12.280Z"
   },
   {
    "duration": 28364,
    "start_time": "2021-08-24T15:56:24.047Z"
   },
   {
    "duration": 397,
    "start_time": "2021-08-24T15:57:30.807Z"
   },
   {
    "duration": 1866,
    "start_time": "2021-08-24T15:57:39.474Z"
   },
   {
    "duration": 563,
    "start_time": "2021-08-24T15:59:46.610Z"
   },
   {
    "duration": 733,
    "start_time": "2021-08-24T16:00:36.106Z"
   },
   {
    "duration": 680,
    "start_time": "2021-08-24T16:01:19.466Z"
   },
   {
    "duration": 745,
    "start_time": "2021-08-24T16:01:36.874Z"
   },
   {
    "duration": 858,
    "start_time": "2021-08-24T16:01:59.502Z"
   },
   {
    "duration": 642,
    "start_time": "2021-08-24T16:03:11.500Z"
   },
   {
    "duration": 725,
    "start_time": "2021-08-24T16:03:29.341Z"
   },
   {
    "duration": 959,
    "start_time": "2021-08-24T16:04:11.892Z"
   },
   {
    "duration": 934,
    "start_time": "2021-08-24T16:04:23.560Z"
   },
   {
    "duration": 1262,
    "start_time": "2021-08-24T16:06:08.167Z"
   },
   {
    "duration": 859,
    "start_time": "2021-08-24T16:06:14.300Z"
   },
   {
    "duration": 1170,
    "start_time": "2021-08-24T16:06:34.106Z"
   },
   {
    "duration": 886,
    "start_time": "2021-08-24T16:06:40.438Z"
   },
   {
    "duration": 170,
    "start_time": "2021-08-24T16:06:59.809Z"
   },
   {
    "duration": 840,
    "start_time": "2021-08-24T16:07:27.561Z"
   },
   {
    "duration": 506,
    "start_time": "2021-08-24T16:08:12.144Z"
   },
   {
    "duration": 437,
    "start_time": "2021-08-24T16:10:23.464Z"
   },
   {
    "duration": 565,
    "start_time": "2021-08-24T16:10:34.261Z"
   },
   {
    "duration": 448,
    "start_time": "2021-08-24T16:11:03.893Z"
   },
   {
    "duration": 1188,
    "start_time": "2021-08-24T16:11:33.666Z"
   },
   {
    "duration": 416,
    "start_time": "2021-08-24T16:14:08.222Z"
   },
   {
    "duration": 1099,
    "start_time": "2021-08-24T16:14:53.853Z"
   },
   {
    "duration": 1140,
    "start_time": "2021-08-24T16:15:15.313Z"
   },
   {
    "duration": 1240,
    "start_time": "2021-08-24T16:17:48.347Z"
   },
   {
    "duration": 937,
    "start_time": "2021-08-24T16:18:04.250Z"
   },
   {
    "duration": 882,
    "start_time": "2021-08-24T16:18:15.321Z"
   },
   {
    "duration": 885,
    "start_time": "2021-08-24T16:18:26.576Z"
   },
   {
    "duration": 128,
    "start_time": "2021-08-24T16:19:07.524Z"
   },
   {
    "duration": 856,
    "start_time": "2021-08-24T16:19:21.785Z"
   },
   {
    "duration": 832,
    "start_time": "2021-08-24T16:22:14.264Z"
   },
   {
    "duration": 927,
    "start_time": "2021-08-24T16:23:11.090Z"
   },
   {
    "duration": 2692,
    "start_time": "2021-08-24T16:27:11.230Z"
   },
   {
    "duration": 1311,
    "start_time": "2021-08-24T16:28:43.516Z"
   },
   {
    "duration": 1011,
    "start_time": "2021-08-24T16:29:52.402Z"
   },
   {
    "duration": 1044,
    "start_time": "2021-08-24T16:31:46.984Z"
   },
   {
    "duration": 995,
    "start_time": "2021-08-24T16:35:22.122Z"
   },
   {
    "duration": 1076,
    "start_time": "2021-08-24T16:35:35.345Z"
   },
   {
    "duration": 1012,
    "start_time": "2021-08-24T16:35:44.400Z"
   },
   {
    "duration": 1019,
    "start_time": "2021-08-24T16:50:16.848Z"
   },
   {
    "duration": 50,
    "start_time": "2021-08-24T16:52:25.664Z"
   },
   {
    "duration": 1032,
    "start_time": "2021-08-24T16:56:32.774Z"
   },
   {
    "duration": 31,
    "start_time": "2021-08-24T17:14:50.346Z"
   },
   {
    "duration": 442,
    "start_time": "2021-08-24T17:15:27.279Z"
   },
   {
    "duration": 24,
    "start_time": "2021-08-24T17:16:45.752Z"
   },
   {
    "duration": 478,
    "start_time": "2021-08-24T17:17:05.093Z"
   },
   {
    "duration": 444,
    "start_time": "2021-08-24T17:17:18.952Z"
   },
   {
    "duration": 397,
    "start_time": "2021-08-24T17:17:38.865Z"
   },
   {
    "duration": 383,
    "start_time": "2021-08-24T17:18:25.850Z"
   },
   {
    "duration": 363,
    "start_time": "2021-08-24T17:18:49.649Z"
   },
   {
    "duration": 467,
    "start_time": "2021-08-24T17:22:25.627Z"
   },
   {
    "duration": 388,
    "start_time": "2021-08-24T17:23:28.335Z"
   },
   {
    "duration": 20,
    "start_time": "2021-08-24T17:24:29.596Z"
   },
   {
    "duration": 17,
    "start_time": "2021-08-24T17:24:58.723Z"
   },
   {
    "duration": 1476,
    "start_time": "2021-08-25T05:51:30.657Z"
   },
   {
    "duration": 48,
    "start_time": "2021-08-25T05:51:32.136Z"
   },
   {
    "duration": 25,
    "start_time": "2021-08-25T05:51:32.187Z"
   },
   {
    "duration": 19,
    "start_time": "2021-08-25T05:51:32.215Z"
   },
   {
    "duration": 32,
    "start_time": "2021-08-25T05:51:32.237Z"
   },
   {
    "duration": 5,
    "start_time": "2021-08-25T05:51:32.272Z"
   },
   {
    "duration": 661,
    "start_time": "2021-08-25T05:51:32.280Z"
   },
   {
    "duration": 33,
    "start_time": "2021-08-25T05:51:32.946Z"
   },
   {
    "duration": 13,
    "start_time": "2021-08-25T05:51:32.981Z"
   },
   {
    "duration": 109,
    "start_time": "2021-08-25T05:51:32.996Z"
   },
   {
    "duration": 22,
    "start_time": "2021-08-25T05:51:33.108Z"
   },
   {
    "duration": 40,
    "start_time": "2021-08-25T05:51:33.133Z"
   },
   {
    "duration": 12,
    "start_time": "2021-08-25T05:51:33.176Z"
   },
   {
    "duration": 9,
    "start_time": "2021-08-25T05:51:33.190Z"
   },
   {
    "duration": 8,
    "start_time": "2021-08-25T05:51:33.201Z"
   },
   {
    "duration": 1598,
    "start_time": "2021-08-25T05:51:33.212Z"
   },
   {
    "duration": 6,
    "start_time": "2021-08-25T05:51:34.812Z"
   },
   {
    "duration": 413,
    "start_time": "2021-08-25T05:51:34.820Z"
   },
   {
    "duration": 718,
    "start_time": "2021-08-25T05:51:35.235Z"
   },
   {
    "duration": 24,
    "start_time": "2021-08-25T05:51:35.955Z"
   },
   {
    "duration": 517,
    "start_time": "2021-08-25T05:51:35.982Z"
   },
   {
    "duration": 10,
    "start_time": "2021-08-25T05:51:36.502Z"
   },
   {
    "duration": 661,
    "start_time": "2021-08-25T05:51:36.518Z"
   },
   {
    "duration": 672,
    "start_time": "2021-08-25T05:51:37.182Z"
   },
   {
    "duration": 670,
    "start_time": "2021-08-25T05:51:37.857Z"
   },
   {
    "duration": 69,
    "start_time": "2021-08-25T05:51:38.531Z"
   },
   {
    "duration": 1171,
    "start_time": "2021-08-25T05:51:38.603Z"
   },
   {
    "duration": 150,
    "start_time": "2021-08-25T05:51:39.777Z"
   },
   {
    "duration": 1024,
    "start_time": "2021-08-25T05:51:39.929Z"
   },
   {
    "duration": 379,
    "start_time": "2021-08-25T05:51:40.956Z"
   },
   {
    "duration": 36,
    "start_time": "2021-08-25T05:51:41.338Z"
   },
   {
    "duration": 21,
    "start_time": "2021-08-25T06:06:43.073Z"
   },
   {
    "duration": 1538,
    "start_time": "2021-08-25T06:15:54.884Z"
   },
   {
    "duration": 268,
    "start_time": "2021-08-25T06:16:19.685Z"
   },
   {
    "duration": 496,
    "start_time": "2021-08-25T06:17:26.986Z"
   },
   {
    "duration": 318,
    "start_time": "2021-08-25T06:17:53.675Z"
   },
   {
    "duration": 307,
    "start_time": "2021-08-25T06:18:18.003Z"
   },
   {
    "duration": 287,
    "start_time": "2021-08-25T06:18:31.017Z"
   },
   {
    "duration": 684,
    "start_time": "2021-08-25T06:18:37.027Z"
   },
   {
    "duration": 752,
    "start_time": "2021-08-25T06:18:54.500Z"
   },
   {
    "duration": 393,
    "start_time": "2021-08-25T06:19:13.743Z"
   },
   {
    "duration": 20,
    "start_time": "2021-08-25T06:19:50.811Z"
   },
   {
    "duration": 343,
    "start_time": "2021-08-25T06:20:04.727Z"
   },
   {
    "duration": 31,
    "start_time": "2021-08-25T06:20:11.403Z"
   },
   {
    "duration": 33,
    "start_time": "2021-08-25T06:20:38.696Z"
   },
   {
    "duration": 298,
    "start_time": "2021-08-25T06:21:10.295Z"
   },
   {
    "duration": 36,
    "start_time": "2021-08-25T06:21:35.933Z"
   },
   {
    "duration": 398,
    "start_time": "2021-08-25T06:22:21.637Z"
   },
   {
    "duration": 440,
    "start_time": "2021-08-25T06:22:39.963Z"
   },
   {
    "duration": 973,
    "start_time": "2021-08-25T06:28:05.304Z"
   },
   {
    "duration": 880,
    "start_time": "2021-08-25T06:28:16.548Z"
   },
   {
    "duration": 1183,
    "start_time": "2021-08-25T06:28:56.900Z"
   },
   {
    "duration": 870,
    "start_time": "2021-08-25T06:29:05.900Z"
   },
   {
    "duration": 1236,
    "start_time": "2021-08-25T06:29:19.607Z"
   },
   {
    "duration": 522,
    "start_time": "2021-08-25T06:29:54.364Z"
   },
   {
    "duration": 390,
    "start_time": "2021-08-25T06:30:02.498Z"
   },
   {
    "duration": 782,
    "start_time": "2021-08-25T06:36:56.062Z"
   },
   {
    "duration": 360,
    "start_time": "2021-08-25T06:37:12.152Z"
   },
   {
    "duration": 566,
    "start_time": "2021-08-25T06:37:25.391Z"
   },
   {
    "duration": 403,
    "start_time": "2021-08-25T06:38:13.364Z"
   },
   {
    "duration": 385,
    "start_time": "2021-08-25T06:41:52.810Z"
   },
   {
    "duration": 377,
    "start_time": "2021-08-25T06:43:04.712Z"
   },
   {
    "duration": 386,
    "start_time": "2021-08-25T06:44:27.033Z"
   },
   {
    "duration": 84,
    "start_time": "2021-08-25T06:47:49.566Z"
   },
   {
    "duration": 411,
    "start_time": "2021-08-25T06:47:56.575Z"
   },
   {
    "duration": 662,
    "start_time": "2021-08-25T06:49:52.007Z"
   },
   {
    "duration": 421,
    "start_time": "2021-08-25T06:50:01.531Z"
   },
   {
    "duration": 516,
    "start_time": "2021-08-25T06:55:46.560Z"
   },
   {
    "duration": 866,
    "start_time": "2021-08-25T06:56:15.111Z"
   },
   {
    "duration": 931,
    "start_time": "2021-08-25T06:59:14.856Z"
   },
   {
    "duration": 364,
    "start_time": "2021-08-25T06:59:33.422Z"
   },
   {
    "duration": 388,
    "start_time": "2021-08-25T07:00:13.041Z"
   },
   {
    "duration": 495,
    "start_time": "2021-08-25T07:01:50.025Z"
   },
   {
    "duration": 539,
    "start_time": "2021-08-25T07:01:59.064Z"
   },
   {
    "duration": 1020,
    "start_time": "2021-08-25T07:03:08.718Z"
   },
   {
    "duration": 538,
    "start_time": "2021-08-25T07:03:29.935Z"
   },
   {
    "duration": 640,
    "start_time": "2021-08-25T07:03:38.272Z"
   },
   {
    "duration": 352,
    "start_time": "2021-08-25T07:05:19.448Z"
   },
   {
    "duration": 294,
    "start_time": "2021-08-25T07:05:26.930Z"
   },
   {
    "duration": 471,
    "start_time": "2021-08-25T07:05:40.690Z"
   },
   {
    "duration": 471,
    "start_time": "2021-08-25T07:05:48.619Z"
   },
   {
    "duration": 492,
    "start_time": "2021-08-25T07:06:04.095Z"
   },
   {
    "duration": 620,
    "start_time": "2021-08-25T07:06:17.263Z"
   },
   {
    "duration": 536,
    "start_time": "2021-08-25T07:06:46.741Z"
   },
   {
    "duration": 7753,
    "start_time": "2021-08-25T07:07:20.603Z"
   },
   {
    "duration": 573,
    "start_time": "2021-08-25T07:08:16.764Z"
   },
   {
    "duration": 516,
    "start_time": "2021-08-25T07:08:30.768Z"
   },
   {
    "duration": 608,
    "start_time": "2021-08-25T07:11:20.044Z"
   },
   {
    "duration": 726,
    "start_time": "2021-08-25T07:11:27.756Z"
   },
   {
    "duration": 1020,
    "start_time": "2021-08-25T07:11:54.865Z"
   },
   {
    "duration": 827,
    "start_time": "2021-08-25T07:12:08.226Z"
   },
   {
    "duration": 822,
    "start_time": "2021-08-25T07:12:23.227Z"
   },
   {
    "duration": 311,
    "start_time": "2021-08-25T07:12:48.689Z"
   },
   {
    "duration": 379,
    "start_time": "2021-08-25T07:18:02.651Z"
   },
   {
    "duration": 315,
    "start_time": "2021-08-25T07:20:42.054Z"
   },
   {
    "duration": 311,
    "start_time": "2021-08-25T07:20:57.789Z"
   },
   {
    "duration": 392,
    "start_time": "2021-08-25T07:21:20.265Z"
   },
   {
    "duration": 495,
    "start_time": "2021-08-25T07:21:48.208Z"
   },
   {
    "duration": 574,
    "start_time": "2021-08-25T07:22:27.158Z"
   },
   {
    "duration": 527,
    "start_time": "2021-08-25T07:22:44.824Z"
   },
   {
    "duration": 729,
    "start_time": "2021-08-25T07:24:27.910Z"
   },
   {
    "duration": 427,
    "start_time": "2021-08-25T07:24:36.861Z"
   },
   {
    "duration": 404,
    "start_time": "2021-08-25T07:25:31.914Z"
   },
   {
    "duration": 1184,
    "start_time": "2021-08-25T07:26:51.876Z"
   },
   {
    "duration": 1457,
    "start_time": "2021-08-25T07:27:11.200Z"
   },
   {
    "duration": 1380,
    "start_time": "2021-08-25T07:27:19.373Z"
   },
   {
    "duration": 1360,
    "start_time": "2021-08-25T07:27:32.669Z"
   },
   {
    "duration": 1437,
    "start_time": "2021-08-25T07:27:49.779Z"
   },
   {
    "duration": 377,
    "start_time": "2021-08-25T07:28:42.843Z"
   },
   {
    "duration": 18,
    "start_time": "2021-08-25T07:30:15.878Z"
   },
   {
    "duration": 367,
    "start_time": "2021-08-25T07:30:31.890Z"
   },
   {
    "duration": 734,
    "start_time": "2021-08-25T07:31:08.612Z"
   },
   {
    "duration": 374,
    "start_time": "2021-08-25T07:31:16.185Z"
   },
   {
    "duration": 555,
    "start_time": "2021-08-25T07:32:33.905Z"
   },
   {
    "duration": 730,
    "start_time": "2021-08-25T07:32:47.694Z"
   },
   {
    "duration": 412,
    "start_time": "2021-08-25T07:33:01.619Z"
   },
   {
    "duration": 422,
    "start_time": "2021-08-25T07:33:14.203Z"
   },
   {
    "duration": 388,
    "start_time": "2021-08-25T07:33:33.448Z"
   },
   {
    "duration": 420,
    "start_time": "2021-08-25T07:34:18.953Z"
   },
   {
    "duration": 591,
    "start_time": "2021-08-25T07:34:37.296Z"
   },
   {
    "duration": 435,
    "start_time": "2021-08-25T07:35:04.571Z"
   },
   {
    "duration": 737,
    "start_time": "2021-08-25T07:38:57.321Z"
   },
   {
    "duration": 418,
    "start_time": "2021-08-25T07:41:13.300Z"
   },
   {
    "duration": 475,
    "start_time": "2021-08-25T07:41:21.745Z"
   },
   {
    "duration": 108,
    "start_time": "2021-08-25T07:42:53.937Z"
   },
   {
    "duration": 123,
    "start_time": "2021-08-25T07:43:07.034Z"
   },
   {
    "duration": 461,
    "start_time": "2021-08-25T07:43:21.227Z"
   },
   {
    "duration": 460,
    "start_time": "2021-08-25T07:44:31.847Z"
   },
   {
    "duration": 489,
    "start_time": "2021-08-25T07:45:04.443Z"
   },
   {
    "duration": 455,
    "start_time": "2021-08-25T07:45:17.288Z"
   },
   {
    "duration": 467,
    "start_time": "2021-08-25T07:45:32.762Z"
   },
   {
    "duration": 654,
    "start_time": "2021-08-25T07:45:44.151Z"
   },
   {
    "duration": 36,
    "start_time": "2021-08-25T07:47:55.845Z"
   },
   {
    "duration": 170,
    "start_time": "2021-08-25T07:50:43.128Z"
   },
   {
    "duration": 6631,
    "start_time": "2021-08-25T07:50:53.601Z"
   },
   {
    "duration": 33,
    "start_time": "2021-08-25T07:51:14.687Z"
   },
   {
    "duration": 25,
    "start_time": "2021-08-25T07:51:42.241Z"
   },
   {
    "duration": 7394,
    "start_time": "2021-08-25T07:51:48.954Z"
   },
   {
    "duration": 24,
    "start_time": "2021-08-25T07:51:57.880Z"
   },
   {
    "duration": 9213,
    "start_time": "2021-08-25T07:52:03.917Z"
   },
   {
    "duration": 11,
    "start_time": "2021-08-25T07:52:16.268Z"
   },
   {
    "duration": 12,
    "start_time": "2021-08-25T07:52:25.321Z"
   },
   {
    "duration": 17,
    "start_time": "2021-08-25T07:52:45.075Z"
   },
   {
    "duration": 17,
    "start_time": "2021-08-25T07:52:56.348Z"
   },
   {
    "duration": 112,
    "start_time": "2021-08-25T08:41:46.982Z"
   },
   {
    "duration": 141,
    "start_time": "2021-08-25T08:41:53.147Z"
   },
   {
    "duration": 283,
    "start_time": "2021-08-25T08:42:15.868Z"
   },
   {
    "duration": 136,
    "start_time": "2021-08-25T08:42:21.552Z"
   },
   {
    "duration": 141,
    "start_time": "2021-08-25T08:43:20.693Z"
   },
   {
    "duration": 151,
    "start_time": "2021-08-25T08:44:23.745Z"
   },
   {
    "duration": 34,
    "start_time": "2021-08-25T09:06:18.322Z"
   },
   {
    "duration": 9,
    "start_time": "2021-08-25T09:13:44.481Z"
   },
   {
    "duration": 14,
    "start_time": "2021-08-25T09:14:07.834Z"
   },
   {
    "duration": 17,
    "start_time": "2021-08-25T09:14:26.790Z"
   },
   {
    "duration": 9,
    "start_time": "2021-08-25T09:15:30.018Z"
   },
   {
    "duration": 932,
    "start_time": "2021-08-25T09:25:18.286Z"
   },
   {
    "duration": 891,
    "start_time": "2021-08-25T09:25:40.378Z"
   },
   {
    "duration": 299,
    "start_time": "2021-08-25T09:25:58.230Z"
   },
   {
    "duration": 341,
    "start_time": "2021-08-25T09:26:28.718Z"
   },
   {
    "duration": 35,
    "start_time": "2021-08-25T09:26:46.013Z"
   },
   {
    "duration": 732,
    "start_time": "2021-08-25T09:27:15.398Z"
   },
   {
    "duration": 753,
    "start_time": "2021-08-25T09:27:30.384Z"
   },
   {
    "duration": 12,
    "start_time": "2021-08-25T09:28:04.989Z"
   },
   {
    "duration": 312,
    "start_time": "2021-08-25T09:28:36.260Z"
   },
   {
    "duration": 14,
    "start_time": "2021-08-25T09:30:04.926Z"
   },
   {
    "duration": 13,
    "start_time": "2021-08-25T09:30:21.570Z"
   },
   {
    "duration": 8,
    "start_time": "2021-08-25T09:30:37.830Z"
   },
   {
    "duration": 270,
    "start_time": "2021-08-25T09:30:55.054Z"
   },
   {
    "duration": 292,
    "start_time": "2021-08-25T09:32:03.290Z"
   },
   {
    "duration": 323,
    "start_time": "2021-08-25T09:32:24.266Z"
   },
   {
    "duration": 248,
    "start_time": "2021-08-25T09:32:42.636Z"
   },
   {
    "duration": 1734,
    "start_time": "2021-08-25T09:34:29.807Z"
   },
   {
    "duration": 941,
    "start_time": "2021-08-25T09:34:54.088Z"
   },
   {
    "duration": 947,
    "start_time": "2021-08-25T09:35:02.359Z"
   },
   {
    "duration": 920,
    "start_time": "2021-08-25T09:35:08.051Z"
   },
   {
    "duration": 1053,
    "start_time": "2021-08-25T09:35:20.879Z"
   },
   {
    "duration": 851,
    "start_time": "2021-08-25T09:35:27.911Z"
   },
   {
    "duration": 750,
    "start_time": "2021-08-25T09:35:47.665Z"
   },
   {
    "duration": 1024,
    "start_time": "2021-08-25T09:36:51.873Z"
   },
   {
    "duration": 1046,
    "start_time": "2021-08-25T09:37:01.533Z"
   },
   {
    "duration": 969,
    "start_time": "2021-08-25T09:37:14.542Z"
   },
   {
    "duration": 945,
    "start_time": "2021-08-25T09:37:50.505Z"
   },
   {
    "duration": 750,
    "start_time": "2021-08-25T09:39:24.581Z"
   },
   {
    "duration": 1007,
    "start_time": "2021-08-25T09:39:43.754Z"
   },
   {
    "duration": 758,
    "start_time": "2021-08-25T09:40:04.971Z"
   },
   {
    "duration": 1025,
    "start_time": "2021-08-25T09:40:16.494Z"
   },
   {
    "duration": 1534,
    "start_time": "2021-08-25T09:45:30.928Z"
   },
   {
    "duration": 1309,
    "start_time": "2021-08-25T09:45:42.651Z"
   },
   {
    "duration": 1402,
    "start_time": "2021-08-25T09:45:59.965Z"
   },
   {
    "duration": 1339,
    "start_time": "2021-08-25T09:46:08.384Z"
   },
   {
    "duration": 1233,
    "start_time": "2021-08-25T09:46:16.130Z"
   },
   {
    "duration": 1317,
    "start_time": "2021-08-25T09:46:32.331Z"
   },
   {
    "duration": 1294,
    "start_time": "2021-08-25T09:47:02.102Z"
   },
   {
    "duration": 1150,
    "start_time": "2021-08-25T09:47:57.258Z"
   },
   {
    "duration": 1227,
    "start_time": "2021-08-25T09:48:17.219Z"
   },
   {
    "duration": 1425,
    "start_time": "2021-08-25T09:50:17.479Z"
   },
   {
    "duration": 1239,
    "start_time": "2021-08-25T09:50:38.119Z"
   },
   {
    "duration": 12,
    "start_time": "2021-08-25T09:51:24.677Z"
   },
   {
    "duration": 13,
    "start_time": "2021-08-25T09:54:05.232Z"
   },
   {
    "duration": 14,
    "start_time": "2021-08-25T09:54:20.132Z"
   },
   {
    "duration": 13,
    "start_time": "2021-08-25T09:58:35.527Z"
   },
   {
    "duration": 13,
    "start_time": "2021-08-25T09:59:34.224Z"
   },
   {
    "duration": 9,
    "start_time": "2021-08-25T10:19:15.778Z"
   },
   {
    "duration": 12,
    "start_time": "2021-08-25T10:19:24.560Z"
   },
   {
    "duration": 9,
    "start_time": "2021-08-25T10:21:03.239Z"
   },
   {
    "duration": 1258,
    "start_time": "2021-08-25T10:21:04.283Z"
   },
   {
    "duration": 1238,
    "start_time": "2021-08-25T10:22:23.398Z"
   },
   {
    "duration": 1200,
    "start_time": "2021-08-25T10:23:57.838Z"
   },
   {
    "duration": 1236,
    "start_time": "2021-08-25T10:24:05.753Z"
   },
   {
    "duration": 13,
    "start_time": "2021-08-25T10:28:02.049Z"
   },
   {
    "duration": 31,
    "start_time": "2021-08-25T11:05:50.440Z"
   },
   {
    "duration": 13,
    "start_time": "2021-08-25T11:07:17.695Z"
   },
   {
    "duration": 301,
    "start_time": "2021-08-25T11:07:34.277Z"
   },
   {
    "duration": 6,
    "start_time": "2021-08-25T11:07:42.092Z"
   },
   {
    "duration": 8,
    "start_time": "2021-08-25T11:07:58.738Z"
   },
   {
    "duration": 16,
    "start_time": "2021-08-25T11:08:05.079Z"
   },
   {
    "duration": 7,
    "start_time": "2021-08-25T11:08:38.987Z"
   },
   {
    "duration": 7,
    "start_time": "2021-08-25T11:12:14.820Z"
   },
   {
    "duration": 7,
    "start_time": "2021-08-25T11:16:11.065Z"
   },
   {
    "duration": 9,
    "start_time": "2021-08-25T11:16:54.391Z"
   },
   {
    "duration": 8,
    "start_time": "2021-08-25T11:17:02.472Z"
   },
   {
    "duration": 6,
    "start_time": "2021-08-25T11:17:11.460Z"
   },
   {
    "duration": 7,
    "start_time": "2021-08-25T11:17:14.165Z"
   },
   {
    "duration": 7,
    "start_time": "2021-08-25T11:17:33.621Z"
   },
   {
    "duration": 1541,
    "start_time": "2021-08-25T11:17:48.497Z"
   },
   {
    "duration": 66,
    "start_time": "2021-08-25T11:17:50.041Z"
   },
   {
    "duration": 26,
    "start_time": "2021-08-25T11:17:50.111Z"
   },
   {
    "duration": 38,
    "start_time": "2021-08-25T11:17:50.140Z"
   },
   {
    "duration": 8,
    "start_time": "2021-08-25T11:17:50.180Z"
   },
   {
    "duration": 9,
    "start_time": "2021-08-25T11:17:50.191Z"
   },
   {
    "duration": 679,
    "start_time": "2021-08-25T11:17:50.202Z"
   },
   {
    "duration": 29,
    "start_time": "2021-08-25T11:17:50.886Z"
   },
   {
    "duration": 13,
    "start_time": "2021-08-25T11:17:50.918Z"
   },
   {
    "duration": 114,
    "start_time": "2021-08-25T11:17:50.933Z"
   },
   {
    "duration": 29,
    "start_time": "2021-08-25T11:17:51.049Z"
   },
   {
    "duration": 25,
    "start_time": "2021-08-25T11:17:51.081Z"
   },
   {
    "duration": 19,
    "start_time": "2021-08-25T11:17:51.108Z"
   },
   {
    "duration": 38,
    "start_time": "2021-08-25T11:17:51.129Z"
   },
   {
    "duration": 25,
    "start_time": "2021-08-25T11:17:51.169Z"
   },
   {
    "duration": 12,
    "start_time": "2021-08-25T11:17:51.196Z"
   },
   {
    "duration": 1758,
    "start_time": "2021-08-25T11:17:51.211Z"
   },
   {
    "duration": 6,
    "start_time": "2021-08-25T11:17:52.972Z"
   },
   {
    "duration": 452,
    "start_time": "2021-08-25T11:17:52.980Z"
   },
   {
    "duration": 628,
    "start_time": "2021-08-25T11:17:53.435Z"
   },
   {
    "duration": 16,
    "start_time": "2021-08-25T11:17:54.067Z"
   },
   {
    "duration": 526,
    "start_time": "2021-08-25T11:17:54.085Z"
   },
   {
    "duration": 8,
    "start_time": "2021-08-25T11:17:54.615Z"
   },
   {
    "duration": 659,
    "start_time": "2021-08-25T11:17:54.626Z"
   },
   {
    "duration": 687,
    "start_time": "2021-08-25T11:17:55.288Z"
   },
   {
    "duration": 695,
    "start_time": "2021-08-25T11:17:55.978Z"
   },
   {
    "duration": 60,
    "start_time": "2021-08-25T11:17:56.676Z"
   },
   {
    "duration": 1235,
    "start_time": "2021-08-25T11:17:56.739Z"
   },
   {
    "duration": 156,
    "start_time": "2021-08-25T11:17:57.976Z"
   },
   {
    "duration": 1025,
    "start_time": "2021-08-25T11:17:58.134Z"
   },
   {
    "duration": 506,
    "start_time": "2021-08-25T11:17:59.161Z"
   },
   {
    "duration": 168,
    "start_time": "2021-08-25T11:17:59.670Z"
   },
   {
    "duration": 10,
    "start_time": "2021-08-25T11:17:59.842Z"
   },
   {
    "duration": 1302,
    "start_time": "2021-08-25T11:17:59.854Z"
   },
   {
    "duration": 13,
    "start_time": "2021-08-25T11:18:01.158Z"
   },
   {
    "duration": 1306,
    "start_time": "2021-08-25T11:18:01.173Z"
   },
   {
    "duration": 6,
    "start_time": "2021-08-25T11:18:02.481Z"
   },
   {
    "duration": 26,
    "start_time": "2021-08-25T11:18:02.489Z"
   },
   {
    "duration": 26,
    "start_time": "2021-08-25T11:18:50.653Z"
   },
   {
    "duration": 8,
    "start_time": "2021-08-25T11:27:41.684Z"
   },
   {
    "duration": 1258,
    "start_time": "2021-08-25T11:29:35.727Z"
   },
   {
    "duration": 1266,
    "start_time": "2021-08-25T11:29:42.962Z"
   },
   {
    "duration": 1854,
    "start_time": "2021-08-25T11:30:51.174Z"
   },
   {
    "duration": 9,
    "start_time": "2021-08-25T11:31:00.380Z"
   },
   {
    "duration": 1200,
    "start_time": "2021-08-25T11:31:02.168Z"
   },
   {
    "duration": 1301,
    "start_time": "2021-08-25T11:32:52.636Z"
   },
   {
    "duration": 1931,
    "start_time": "2021-08-25T11:33:11.606Z"
   },
   {
    "duration": 6,
    "start_time": "2021-08-25T11:34:38.809Z"
   },
   {
    "duration": 1235,
    "start_time": "2021-08-25T11:36:07.625Z"
   },
   {
    "duration": 1355,
    "start_time": "2021-08-25T11:36:41.365Z"
   },
   {
    "duration": 1312,
    "start_time": "2021-08-25T11:37:37.236Z"
   },
   {
    "duration": 1303,
    "start_time": "2021-08-25T11:38:01.573Z"
   },
   {
    "duration": 1266,
    "start_time": "2021-08-25T11:38:36.703Z"
   },
   {
    "duration": 12,
    "start_time": "2021-08-25T11:43:55.303Z"
   },
   {
    "duration": 4,
    "start_time": "2021-08-25T12:01:34.158Z"
   },
   {
    "duration": 32,
    "start_time": "2021-08-25T12:04:54.652Z"
   },
   {
    "duration": 1447,
    "start_time": "2021-08-25T12:08:30.998Z"
   },
   {
    "duration": 47,
    "start_time": "2021-08-25T12:08:32.447Z"
   },
   {
    "duration": 24,
    "start_time": "2021-08-25T12:08:32.496Z"
   },
   {
    "duration": 14,
    "start_time": "2021-08-25T12:08:32.523Z"
   },
   {
    "duration": 30,
    "start_time": "2021-08-25T12:08:32.540Z"
   },
   {
    "duration": 5,
    "start_time": "2021-08-25T12:08:32.572Z"
   },
   {
    "duration": 660,
    "start_time": "2021-08-25T12:08:32.580Z"
   },
   {
    "duration": 39,
    "start_time": "2021-08-25T12:08:33.244Z"
   },
   {
    "duration": 13,
    "start_time": "2021-08-25T12:08:33.287Z"
   },
   {
    "duration": 115,
    "start_time": "2021-08-25T12:08:33.302Z"
   },
   {
    "duration": 24,
    "start_time": "2021-08-25T12:08:33.420Z"
   },
   {
    "duration": 40,
    "start_time": "2021-08-25T12:08:33.447Z"
   },
   {
    "duration": 15,
    "start_time": "2021-08-25T12:08:33.489Z"
   },
   {
    "duration": 9,
    "start_time": "2021-08-25T12:08:33.506Z"
   },
   {
    "duration": 11,
    "start_time": "2021-08-25T12:08:33.517Z"
   },
   {
    "duration": 39,
    "start_time": "2021-08-25T12:08:33.530Z"
   },
   {
    "duration": 1608,
    "start_time": "2021-08-25T12:08:33.572Z"
   },
   {
    "duration": 7,
    "start_time": "2021-08-25T12:08:35.183Z"
   },
   {
    "duration": 436,
    "start_time": "2021-08-25T12:08:35.193Z"
   },
   {
    "duration": 622,
    "start_time": "2021-08-25T12:08:35.632Z"
   },
   {
    "duration": 24,
    "start_time": "2021-08-25T12:08:36.257Z"
   },
   {
    "duration": 514,
    "start_time": "2021-08-25T12:08:36.283Z"
   },
   {
    "duration": 8,
    "start_time": "2021-08-25T12:08:36.802Z"
   },
   {
    "duration": 719,
    "start_time": "2021-08-25T12:08:36.813Z"
   },
   {
    "duration": 687,
    "start_time": "2021-08-25T12:08:37.534Z"
   },
   {
    "duration": 709,
    "start_time": "2021-08-25T12:08:38.224Z"
   },
   {
    "duration": 76,
    "start_time": "2021-08-25T12:08:38.935Z"
   },
   {
    "duration": 1207,
    "start_time": "2021-08-25T12:08:39.014Z"
   },
   {
    "duration": 158,
    "start_time": "2021-08-25T12:08:40.224Z"
   },
   {
    "duration": 1014,
    "start_time": "2021-08-25T12:08:40.385Z"
   },
   {
    "duration": 491,
    "start_time": "2021-08-25T12:08:41.402Z"
   },
   {
    "duration": 162,
    "start_time": "2021-08-25T12:08:41.895Z"
   },
   {
    "duration": 8,
    "start_time": "2021-08-25T12:08:42.067Z"
   },
   {
    "duration": 1268,
    "start_time": "2021-08-25T12:08:42.077Z"
   },
   {
    "duration": 20,
    "start_time": "2021-08-25T12:08:43.347Z"
   },
   {
    "duration": 1272,
    "start_time": "2021-08-25T12:08:43.370Z"
   },
   {
    "duration": 9,
    "start_time": "2021-08-25T12:08:44.644Z"
   },
   {
    "duration": 1295,
    "start_time": "2021-08-25T12:08:44.655Z"
   },
   {
    "duration": 3,
    "start_time": "2021-08-25T12:08:45.953Z"
   },
   {
    "duration": 40,
    "start_time": "2021-08-25T12:08:45.959Z"
   },
   {
    "duration": 6,
    "start_time": "2021-08-25T12:23:38.931Z"
   },
   {
    "duration": 34,
    "start_time": "2021-08-25T12:23:47.328Z"
   },
   {
    "duration": 12,
    "start_time": "2021-08-25T12:24:33.282Z"
   },
   {
    "duration": 9,
    "start_time": "2021-08-25T12:25:12.772Z"
   },
   {
    "duration": 7,
    "start_time": "2021-08-25T12:27:30.601Z"
   },
   {
    "duration": 7,
    "start_time": "2021-08-25T12:28:07.738Z"
   },
   {
    "duration": 460,
    "start_time": "2021-08-25T12:28:21.850Z"
   },
   {
    "duration": 6,
    "start_time": "2021-08-25T12:28:28.669Z"
   },
   {
    "duration": 7,
    "start_time": "2021-08-25T12:29:27.504Z"
   },
   {
    "duration": 7,
    "start_time": "2021-08-25T12:31:16.013Z"
   },
   {
    "duration": 10,
    "start_time": "2021-08-25T12:31:24.270Z"
   },
   {
    "duration": 7,
    "start_time": "2021-08-25T12:31:26.749Z"
   },
   {
    "duration": 7,
    "start_time": "2021-08-25T12:32:47.490Z"
   },
   {
    "duration": 8,
    "start_time": "2021-08-25T12:32:48.407Z"
   },
   {
    "duration": 6,
    "start_time": "2021-08-25T12:32:50.613Z"
   },
   {
    "duration": 1498,
    "start_time": "2021-08-25T12:33:03.861Z"
   },
   {
    "duration": 48,
    "start_time": "2021-08-25T12:33:05.362Z"
   },
   {
    "duration": 24,
    "start_time": "2021-08-25T12:33:05.413Z"
   },
   {
    "duration": 33,
    "start_time": "2021-08-25T12:33:05.440Z"
   },
   {
    "duration": 8,
    "start_time": "2021-08-25T12:33:05.475Z"
   },
   {
    "duration": 6,
    "start_time": "2021-08-25T12:33:05.486Z"
   },
   {
    "duration": 682,
    "start_time": "2021-08-25T12:33:05.495Z"
   },
   {
    "duration": 24,
    "start_time": "2021-08-25T12:33:06.181Z"
   },
   {
    "duration": 18,
    "start_time": "2021-08-25T12:33:06.209Z"
   },
   {
    "duration": 110,
    "start_time": "2021-08-25T12:33:06.230Z"
   },
   {
    "duration": 36,
    "start_time": "2021-08-25T12:33:06.343Z"
   },
   {
    "duration": 24,
    "start_time": "2021-08-25T12:33:06.381Z"
   },
   {
    "duration": 15,
    "start_time": "2021-08-25T12:33:06.408Z"
   },
   {
    "duration": 7,
    "start_time": "2021-08-25T12:33:06.425Z"
   },
   {
    "duration": 33,
    "start_time": "2021-08-25T12:33:06.435Z"
   },
   {
    "duration": 6,
    "start_time": "2021-08-25T12:33:06.471Z"
   },
   {
    "duration": 1630,
    "start_time": "2021-08-25T12:33:06.479Z"
   },
   {
    "duration": 7,
    "start_time": "2021-08-25T12:33:08.112Z"
   },
   {
    "duration": 428,
    "start_time": "2021-08-25T12:33:08.121Z"
   },
   {
    "duration": 626,
    "start_time": "2021-08-25T12:33:08.551Z"
   },
   {
    "duration": 16,
    "start_time": "2021-08-25T12:33:09.179Z"
   },
   {
    "duration": 523,
    "start_time": "2021-08-25T12:33:09.197Z"
   },
   {
    "duration": 8,
    "start_time": "2021-08-25T12:33:09.725Z"
   },
   {
    "duration": 783,
    "start_time": "2021-08-25T12:33:09.736Z"
   },
   {
    "duration": 677,
    "start_time": "2021-08-25T12:33:10.521Z"
   },
   {
    "duration": 688,
    "start_time": "2021-08-25T12:33:11.201Z"
   },
   {
    "duration": 79,
    "start_time": "2021-08-25T12:33:11.892Z"
   },
   {
    "duration": 1202,
    "start_time": "2021-08-25T12:33:11.974Z"
   },
   {
    "duration": 161,
    "start_time": "2021-08-25T12:33:13.179Z"
   },
   {
    "duration": 1015,
    "start_time": "2021-08-25T12:33:13.343Z"
   },
   {
    "duration": 480,
    "start_time": "2021-08-25T12:33:14.361Z"
   },
   {
    "duration": 149,
    "start_time": "2021-08-25T12:33:14.844Z"
   },
   {
    "duration": 8,
    "start_time": "2021-08-25T12:33:14.996Z"
   },
   {
    "duration": 1236,
    "start_time": "2021-08-25T12:33:15.006Z"
   },
   {
    "duration": 22,
    "start_time": "2021-08-25T12:33:16.245Z"
   },
   {
    "duration": 1290,
    "start_time": "2021-08-25T12:33:16.270Z"
   },
   {
    "duration": 9,
    "start_time": "2021-08-25T12:33:17.567Z"
   },
   {
    "duration": 1247,
    "start_time": "2021-08-25T12:33:17.580Z"
   },
   {
    "duration": 4,
    "start_time": "2021-08-25T12:33:18.830Z"
   },
   {
    "duration": 30,
    "start_time": "2021-08-25T12:33:18.838Z"
   },
   {
    "duration": 13,
    "start_time": "2021-08-25T12:33:18.870Z"
   },
   {
    "duration": 7,
    "start_time": "2021-08-25T12:33:18.885Z"
   },
   {
    "duration": 5,
    "start_time": "2021-08-25T12:34:06.841Z"
   },
   {
    "duration": 6,
    "start_time": "2021-08-25T12:34:12.864Z"
   },
   {
    "duration": 7,
    "start_time": "2021-08-25T12:34:39.840Z"
   },
   {
    "duration": 430,
    "start_time": "2021-08-25T12:34:40.693Z"
   },
   {
    "duration": 7,
    "start_time": "2021-08-25T12:35:30.446Z"
   },
   {
    "duration": 7,
    "start_time": "2021-08-25T12:35:31.221Z"
   },
   {
    "duration": 6,
    "start_time": "2021-08-25T12:35:40.400Z"
   },
   {
    "duration": 6,
    "start_time": "2021-08-25T12:35:49.971Z"
   },
   {
    "duration": 8,
    "start_time": "2021-08-25T12:36:49.458Z"
   },
   {
    "duration": 8,
    "start_time": "2021-08-25T12:37:20.289Z"
   },
   {
    "duration": 7,
    "start_time": "2021-08-25T12:37:38.248Z"
   },
   {
    "duration": 8,
    "start_time": "2021-08-25T12:37:49.527Z"
   },
   {
    "duration": 5,
    "start_time": "2021-08-25T12:37:59.838Z"
   },
   {
    "duration": 7,
    "start_time": "2021-08-25T12:38:07.329Z"
   },
   {
    "duration": 7,
    "start_time": "2021-08-25T12:43:35.165Z"
   },
   {
    "duration": 7,
    "start_time": "2021-08-25T12:45:43.126Z"
   },
   {
    "duration": 8,
    "start_time": "2021-08-25T12:47:03.746Z"
   },
   {
    "duration": 4,
    "start_time": "2021-08-25T12:47:54.389Z"
   },
   {
    "duration": 9,
    "start_time": "2021-08-25T12:50:36.185Z"
   },
   {
    "duration": 10,
    "start_time": "2021-08-25T12:50:51.551Z"
   },
   {
    "duration": 1818,
    "start_time": "2021-08-25T13:22:17.710Z"
   },
   {
    "duration": 54,
    "start_time": "2021-08-25T13:22:19.531Z"
   },
   {
    "duration": 27,
    "start_time": "2021-08-25T13:22:19.588Z"
   },
   {
    "duration": 16,
    "start_time": "2021-08-25T13:22:19.618Z"
   },
   {
    "duration": 36,
    "start_time": "2021-08-25T13:22:19.637Z"
   },
   {
    "duration": 8,
    "start_time": "2021-08-25T13:22:19.676Z"
   },
   {
    "duration": 683,
    "start_time": "2021-08-25T13:22:19.686Z"
   },
   {
    "duration": 24,
    "start_time": "2021-08-25T13:22:20.373Z"
   },
   {
    "duration": 14,
    "start_time": "2021-08-25T13:22:20.401Z"
   },
   {
    "duration": 118,
    "start_time": "2021-08-25T13:22:20.418Z"
   },
   {
    "duration": 40,
    "start_time": "2021-08-25T13:22:20.538Z"
   },
   {
    "duration": 24,
    "start_time": "2021-08-25T13:22:20.581Z"
   },
   {
    "duration": 15,
    "start_time": "2021-08-25T13:22:20.607Z"
   },
   {
    "duration": 9,
    "start_time": "2021-08-25T13:22:20.625Z"
   },
   {
    "duration": 32,
    "start_time": "2021-08-25T13:22:20.637Z"
   },
   {
    "duration": 14,
    "start_time": "2021-08-25T13:22:20.672Z"
   },
   {
    "duration": 1670,
    "start_time": "2021-08-25T13:22:20.688Z"
   },
   {
    "duration": 8,
    "start_time": "2021-08-25T13:22:22.360Z"
   },
   {
    "duration": 431,
    "start_time": "2021-08-25T13:22:22.371Z"
   },
   {
    "duration": 627,
    "start_time": "2021-08-25T13:22:22.804Z"
   },
   {
    "duration": 17,
    "start_time": "2021-08-25T13:22:23.433Z"
   },
   {
    "duration": 528,
    "start_time": "2021-08-25T13:22:23.453Z"
   },
   {
    "duration": 8,
    "start_time": "2021-08-25T13:22:23.986Z"
   },
   {
    "duration": 655,
    "start_time": "2021-08-25T13:22:23.997Z"
   },
   {
    "duration": 674,
    "start_time": "2021-08-25T13:22:24.654Z"
   },
   {
    "duration": 700,
    "start_time": "2021-08-25T13:22:25.331Z"
   },
   {
    "duration": 65,
    "start_time": "2021-08-25T13:22:26.034Z"
   },
   {
    "duration": 1192,
    "start_time": "2021-08-25T13:22:26.102Z"
   },
   {
    "duration": 154,
    "start_time": "2021-08-25T13:22:27.297Z"
   },
   {
    "duration": 1006,
    "start_time": "2021-08-25T13:22:27.454Z"
   },
   {
    "duration": 480,
    "start_time": "2021-08-25T13:22:28.467Z"
   },
   {
    "duration": 149,
    "start_time": "2021-08-25T13:22:28.950Z"
   },
   {
    "duration": 9,
    "start_time": "2021-08-25T13:22:29.101Z"
   },
   {
    "duration": 1284,
    "start_time": "2021-08-25T13:22:29.113Z"
   },
   {
    "duration": 8,
    "start_time": "2021-08-25T13:22:30.400Z"
   },
   {
    "duration": 1332,
    "start_time": "2021-08-25T13:22:30.411Z"
   },
   {
    "duration": 23,
    "start_time": "2021-08-25T13:22:31.746Z"
   },
   {
    "duration": 1254,
    "start_time": "2021-08-25T13:22:31.771Z"
   },
   {
    "duration": 4,
    "start_time": "2021-08-25T13:22:33.027Z"
   },
   {
    "duration": 17,
    "start_time": "2021-08-25T13:22:33.033Z"
   },
   {
    "duration": 33,
    "start_time": "2021-08-25T13:22:33.052Z"
   },
   {
    "duration": 17,
    "start_time": "2021-08-25T13:22:33.088Z"
   },
   {
    "duration": 26,
    "start_time": "2021-08-25T13:22:33.108Z"
   },
   {
    "duration": 12,
    "start_time": "2021-08-25T13:22:33.137Z"
   },
   {
    "duration": 25,
    "start_time": "2021-08-25T13:22:33.152Z"
   },
   {
    "duration": 1516,
    "start_time": "2021-08-25T13:34:40.540Z"
   },
   {
    "duration": 51,
    "start_time": "2021-08-25T13:34:42.058Z"
   },
   {
    "duration": 25,
    "start_time": "2021-08-25T13:34:42.111Z"
   },
   {
    "duration": 31,
    "start_time": "2021-08-25T13:34:42.140Z"
   },
   {
    "duration": 7,
    "start_time": "2021-08-25T13:34:42.173Z"
   },
   {
    "duration": 17,
    "start_time": "2021-08-25T13:34:42.183Z"
   },
   {
    "duration": 690,
    "start_time": "2021-08-25T13:34:42.203Z"
   },
   {
    "duration": 24,
    "start_time": "2021-08-25T13:34:42.897Z"
   },
   {
    "duration": 18,
    "start_time": "2021-08-25T13:34:42.924Z"
   },
   {
    "duration": 105,
    "start_time": "2021-08-25T13:34:42.945Z"
   },
   {
    "duration": 32,
    "start_time": "2021-08-25T13:34:43.052Z"
   },
   {
    "duration": 23,
    "start_time": "2021-08-25T13:34:43.087Z"
   },
   {
    "duration": 35,
    "start_time": "2021-08-25T13:34:43.112Z"
   },
   {
    "duration": 18,
    "start_time": "2021-08-25T13:34:43.149Z"
   },
   {
    "duration": 17,
    "start_time": "2021-08-25T13:34:43.169Z"
   },
   {
    "duration": 21,
    "start_time": "2021-08-25T13:34:43.188Z"
   },
   {
    "duration": 1743,
    "start_time": "2021-08-25T13:34:43.212Z"
   },
   {
    "duration": 14,
    "start_time": "2021-08-25T13:34:44.958Z"
   },
   {
    "duration": 427,
    "start_time": "2021-08-25T13:34:44.975Z"
   },
   {
    "duration": 629,
    "start_time": "2021-08-25T13:34:45.405Z"
   },
   {
    "duration": 30,
    "start_time": "2021-08-25T13:34:46.037Z"
   },
   {
    "duration": 538,
    "start_time": "2021-08-25T13:34:46.070Z"
   },
   {
    "duration": 8,
    "start_time": "2021-08-25T13:34:46.616Z"
   },
   {
    "duration": 675,
    "start_time": "2021-08-25T13:34:46.631Z"
   },
   {
    "duration": 771,
    "start_time": "2021-08-25T13:34:47.308Z"
   },
   {
    "duration": 690,
    "start_time": "2021-08-25T13:34:48.082Z"
   },
   {
    "duration": 55,
    "start_time": "2021-08-25T13:34:48.774Z"
   },
   {
    "duration": 1259,
    "start_time": "2021-08-25T13:34:48.832Z"
   },
   {
    "duration": 161,
    "start_time": "2021-08-25T13:34:50.094Z"
   },
   {
    "duration": 997,
    "start_time": "2021-08-25T13:34:50.258Z"
   },
   {
    "duration": 499,
    "start_time": "2021-08-25T13:34:51.258Z"
   },
   {
    "duration": 148,
    "start_time": "2021-08-25T13:34:51.767Z"
   },
   {
    "duration": 8,
    "start_time": "2021-08-25T13:34:51.918Z"
   },
   {
    "duration": 1217,
    "start_time": "2021-08-25T13:34:51.928Z"
   },
   {
    "duration": 19,
    "start_time": "2021-08-25T13:34:53.148Z"
   },
   {
    "duration": 1272,
    "start_time": "2021-08-25T13:34:53.169Z"
   },
   {
    "duration": 9,
    "start_time": "2021-08-25T13:34:54.443Z"
   },
   {
    "duration": 1236,
    "start_time": "2021-08-25T13:34:54.467Z"
   },
   {
    "duration": 4,
    "start_time": "2021-08-25T13:34:55.705Z"
   },
   {
    "duration": 15,
    "start_time": "2021-08-25T13:34:55.711Z"
   },
   {
    "duration": 23,
    "start_time": "2021-08-25T13:34:55.729Z"
   },
   {
    "duration": 14,
    "start_time": "2021-08-25T13:34:55.755Z"
   },
   {
    "duration": 10,
    "start_time": "2021-08-25T13:34:55.772Z"
   },
   {
    "duration": 26,
    "start_time": "2021-08-25T13:34:55.784Z"
   },
   {
    "duration": 20,
    "start_time": "2021-08-25T13:34:55.812Z"
   },
   {
    "duration": 1491,
    "start_time": "2021-08-25T13:36:13.153Z"
   },
   {
    "duration": 52,
    "start_time": "2021-08-25T13:36:14.647Z"
   },
   {
    "duration": 24,
    "start_time": "2021-08-25T13:36:14.702Z"
   },
   {
    "duration": 39,
    "start_time": "2021-08-25T13:36:14.729Z"
   },
   {
    "duration": 8,
    "start_time": "2021-08-25T13:36:14.770Z"
   },
   {
    "duration": 6,
    "start_time": "2021-08-25T13:36:14.780Z"
   },
   {
    "duration": 1333,
    "start_time": "2021-08-25T13:36:14.788Z"
   },
   {
    "duration": 26,
    "start_time": "2021-08-25T13:36:16.126Z"
   },
   {
    "duration": 22,
    "start_time": "2021-08-25T13:36:16.155Z"
   },
   {
    "duration": 103,
    "start_time": "2021-08-25T13:36:16.179Z"
   },
   {
    "duration": 24,
    "start_time": "2021-08-25T13:36:16.285Z"
   },
   {
    "duration": 24,
    "start_time": "2021-08-25T13:36:16.312Z"
   },
   {
    "duration": 35,
    "start_time": "2021-08-25T13:36:16.339Z"
   },
   {
    "duration": 10,
    "start_time": "2021-08-25T13:36:16.377Z"
   },
   {
    "duration": 9,
    "start_time": "2021-08-25T13:36:16.390Z"
   },
   {
    "duration": 10,
    "start_time": "2021-08-25T13:36:16.402Z"
   },
   {
    "duration": 1615,
    "start_time": "2021-08-25T13:36:16.415Z"
   },
   {
    "duration": 8,
    "start_time": "2021-08-25T13:36:18.033Z"
   },
   {
    "duration": 440,
    "start_time": "2021-08-25T13:36:18.044Z"
   },
   {
    "duration": 633,
    "start_time": "2021-08-25T13:36:18.488Z"
   },
   {
    "duration": 15,
    "start_time": "2021-08-25T13:36:19.123Z"
   },
   {
    "duration": 518,
    "start_time": "2021-08-25T13:36:19.141Z"
   },
   {
    "duration": 7,
    "start_time": "2021-08-25T13:36:19.669Z"
   },
   {
    "duration": 666,
    "start_time": "2021-08-25T13:36:19.679Z"
   },
   {
    "duration": 663,
    "start_time": "2021-08-25T13:36:20.347Z"
   },
   {
    "duration": 682,
    "start_time": "2021-08-25T13:36:21.012Z"
   },
   {
    "duration": 53,
    "start_time": "2021-08-25T13:36:21.696Z"
   },
   {
    "duration": 1332,
    "start_time": "2021-08-25T13:36:21.768Z"
   },
   {
    "duration": 148,
    "start_time": "2021-08-25T13:36:23.103Z"
   },
   {
    "duration": 1109,
    "start_time": "2021-08-25T13:36:23.254Z"
   },
   {
    "duration": 482,
    "start_time": "2021-08-25T13:36:24.368Z"
   },
   {
    "duration": 148,
    "start_time": "2021-08-25T13:36:24.853Z"
   },
   {
    "duration": 8,
    "start_time": "2021-08-25T13:36:25.003Z"
   },
   {
    "duration": 1352,
    "start_time": "2021-08-25T13:36:25.015Z"
   },
   {
    "duration": 10,
    "start_time": "2021-08-25T13:36:26.370Z"
   },
   {
    "duration": 1306,
    "start_time": "2021-08-25T13:36:26.383Z"
   },
   {
    "duration": 10,
    "start_time": "2021-08-25T13:36:27.692Z"
   },
   {
    "duration": 1247,
    "start_time": "2021-08-25T13:36:27.705Z"
   },
   {
    "duration": 12,
    "start_time": "2021-08-25T13:36:28.955Z"
   },
   {
    "duration": 16,
    "start_time": "2021-08-25T13:36:28.969Z"
   },
   {
    "duration": 13,
    "start_time": "2021-08-25T13:36:28.988Z"
   },
   {
    "duration": 10,
    "start_time": "2021-08-25T13:36:29.004Z"
   },
   {
    "duration": 14,
    "start_time": "2021-08-25T13:36:29.017Z"
   },
   {
    "duration": 11,
    "start_time": "2021-08-25T13:36:29.033Z"
   },
   {
    "duration": 27,
    "start_time": "2021-08-25T13:36:29.046Z"
   },
   {
    "duration": 1483,
    "start_time": "2021-08-25T17:38:57.152Z"
   },
   {
    "duration": 47,
    "start_time": "2021-08-25T17:38:58.637Z"
   },
   {
    "duration": 24,
    "start_time": "2021-08-25T17:38:58.687Z"
   },
   {
    "duration": 15,
    "start_time": "2021-08-25T17:38:58.714Z"
   },
   {
    "duration": 7,
    "start_time": "2021-08-25T17:38:58.731Z"
   },
   {
    "duration": 5,
    "start_time": "2021-08-25T17:38:58.767Z"
   },
   {
    "duration": 1140,
    "start_time": "2021-08-25T17:38:58.775Z"
   },
   {
    "duration": 27,
    "start_time": "2021-08-25T17:38:59.919Z"
   },
   {
    "duration": 12,
    "start_time": "2021-08-25T17:38:59.969Z"
   },
   {
    "duration": 104,
    "start_time": "2021-08-25T17:38:59.984Z"
   },
   {
    "duration": 24,
    "start_time": "2021-08-25T17:39:00.091Z"
   },
   {
    "duration": 53,
    "start_time": "2021-08-25T17:39:00.117Z"
   },
   {
    "duration": 31,
    "start_time": "2021-08-25T17:39:00.172Z"
   },
   {
    "duration": 14,
    "start_time": "2021-08-25T17:39:00.205Z"
   },
   {
    "duration": 12,
    "start_time": "2021-08-25T17:39:00.221Z"
   },
   {
    "duration": 9,
    "start_time": "2021-08-25T17:39:00.235Z"
   },
   {
    "duration": 1621,
    "start_time": "2021-08-25T17:39:00.246Z"
   },
   {
    "duration": 7,
    "start_time": "2021-08-25T17:39:01.869Z"
   },
   {
    "duration": 447,
    "start_time": "2021-08-25T17:39:01.878Z"
   },
   {
    "duration": 663,
    "start_time": "2021-08-25T17:39:02.328Z"
   },
   {
    "duration": 16,
    "start_time": "2021-08-25T17:39:02.994Z"
   },
   {
    "duration": 555,
    "start_time": "2021-08-25T17:39:03.013Z"
   },
   {
    "duration": 7,
    "start_time": "2021-08-25T17:39:03.573Z"
   },
   {
    "duration": 643,
    "start_time": "2021-08-25T17:39:03.583Z"
   },
   {
    "duration": 655,
    "start_time": "2021-08-25T17:39:04.229Z"
   },
   {
    "duration": 681,
    "start_time": "2021-08-25T17:39:04.886Z"
   },
   {
    "duration": 54,
    "start_time": "2021-08-25T17:39:05.569Z"
   },
   {
    "duration": 1157,
    "start_time": "2021-08-25T17:39:05.626Z"
   },
   {
    "duration": 142,
    "start_time": "2021-08-25T17:39:06.785Z"
   },
   {
    "duration": 1013,
    "start_time": "2021-08-25T17:39:06.929Z"
   },
   {
    "duration": 486,
    "start_time": "2021-08-25T17:39:07.944Z"
   },
   {
    "duration": 161,
    "start_time": "2021-08-25T17:39:08.433Z"
   },
   {
    "duration": 8,
    "start_time": "2021-08-25T17:39:08.597Z"
   },
   {
    "duration": 1249,
    "start_time": "2021-08-25T17:39:08.607Z"
   },
   {
    "duration": 13,
    "start_time": "2021-08-25T17:39:09.858Z"
   },
   {
    "duration": 1380,
    "start_time": "2021-08-25T17:39:09.873Z"
   },
   {
    "duration": 20,
    "start_time": "2021-08-25T17:39:11.257Z"
   },
   {
    "duration": 1859,
    "start_time": "2021-08-25T17:39:11.281Z"
   },
   {
    "duration": 4,
    "start_time": "2021-08-25T17:39:13.142Z"
   },
   {
    "duration": 22,
    "start_time": "2021-08-25T17:39:13.148Z"
   },
   {
    "duration": 10,
    "start_time": "2021-08-25T17:39:13.173Z"
   },
   {
    "duration": 9,
    "start_time": "2021-08-25T17:39:13.185Z"
   },
   {
    "duration": 10,
    "start_time": "2021-08-25T17:39:13.197Z"
   },
   {
    "duration": 9,
    "start_time": "2021-08-25T17:39:13.209Z"
   },
   {
    "duration": 9,
    "start_time": "2021-08-25T17:39:13.220Z"
   },
   {
    "duration": 638,
    "start_time": "2021-08-25T17:58:09.925Z"
   },
   {
    "duration": 704,
    "start_time": "2021-08-25T17:59:04.152Z"
   },
   {
    "duration": 566,
    "start_time": "2021-08-25T17:59:10.633Z"
   },
   {
    "duration": 1715,
    "start_time": "2021-08-26T07:24:00.705Z"
   },
   {
    "duration": 53,
    "start_time": "2021-08-26T07:24:02.422Z"
   },
   {
    "duration": 26,
    "start_time": "2021-08-26T07:24:02.478Z"
   },
   {
    "duration": 30,
    "start_time": "2021-08-26T07:24:02.507Z"
   },
   {
    "duration": 23,
    "start_time": "2021-08-26T07:24:02.539Z"
   },
   {
    "duration": 11,
    "start_time": "2021-08-26T07:24:02.565Z"
   },
   {
    "duration": 1883,
    "start_time": "2021-08-26T07:24:02.578Z"
   },
   {
    "duration": 24,
    "start_time": "2021-08-26T07:24:04.464Z"
   },
   {
    "duration": 12,
    "start_time": "2021-08-26T07:24:04.492Z"
   },
   {
    "duration": 119,
    "start_time": "2021-08-26T07:24:04.507Z"
   },
   {
    "duration": 35,
    "start_time": "2021-08-26T07:24:04.628Z"
   },
   {
    "duration": 24,
    "start_time": "2021-08-26T07:24:04.666Z"
   },
   {
    "duration": 25,
    "start_time": "2021-08-26T07:24:04.692Z"
   },
   {
    "duration": 9,
    "start_time": "2021-08-26T07:24:04.719Z"
   },
   {
    "duration": 30,
    "start_time": "2021-08-26T07:24:04.731Z"
   },
   {
    "duration": 15,
    "start_time": "2021-08-26T07:24:04.763Z"
   },
   {
    "duration": 1744,
    "start_time": "2021-08-26T07:24:04.781Z"
   },
   {
    "duration": 6,
    "start_time": "2021-08-26T07:24:06.527Z"
   },
   {
    "duration": 470,
    "start_time": "2021-08-26T07:24:06.535Z"
   },
   {
    "duration": 625,
    "start_time": "2021-08-26T07:24:07.007Z"
   },
   {
    "duration": 25,
    "start_time": "2021-08-26T07:24:07.635Z"
   },
   {
    "duration": 625,
    "start_time": "2021-08-26T07:24:07.662Z"
   },
   {
    "duration": 8,
    "start_time": "2021-08-26T07:24:08.290Z"
   },
   {
    "duration": 788,
    "start_time": "2021-08-26T07:24:08.300Z"
   },
   {
    "duration": 742,
    "start_time": "2021-08-26T07:24:09.091Z"
   },
   {
    "duration": 731,
    "start_time": "2021-08-26T07:24:09.835Z"
   },
   {
    "duration": 51,
    "start_time": "2021-08-26T07:24:10.572Z"
   },
   {
    "duration": 1346,
    "start_time": "2021-08-26T07:24:10.626Z"
   },
   {
    "duration": 151,
    "start_time": "2021-08-26T07:24:11.975Z"
   },
   {
    "duration": 1194,
    "start_time": "2021-08-26T07:24:12.130Z"
   },
   {
    "duration": 614,
    "start_time": "2021-08-26T07:24:13.327Z"
   },
   {
    "duration": 155,
    "start_time": "2021-08-26T07:24:13.944Z"
   },
   {
    "duration": 7,
    "start_time": "2021-08-26T07:24:14.102Z"
   },
   {
    "duration": 1416,
    "start_time": "2021-08-26T07:24:14.111Z"
   },
   {
    "duration": 761,
    "start_time": "2021-08-26T07:24:15.531Z"
   },
   {
    "duration": 11,
    "start_time": "2021-08-26T07:24:16.296Z"
   },
   {
    "duration": 1442,
    "start_time": "2021-08-26T07:24:16.310Z"
   },
   {
    "duration": 9,
    "start_time": "2021-08-26T07:24:17.754Z"
   },
   {
    "duration": 1382,
    "start_time": "2021-08-26T07:24:17.765Z"
   },
   {
    "duration": 3,
    "start_time": "2021-08-26T07:24:19.156Z"
   },
   {
    "duration": 16,
    "start_time": "2021-08-26T07:24:19.162Z"
   },
   {
    "duration": 19,
    "start_time": "2021-08-26T07:24:19.181Z"
   },
   {
    "duration": 11,
    "start_time": "2021-08-26T07:24:19.202Z"
   },
   {
    "duration": 14,
    "start_time": "2021-08-26T07:24:19.215Z"
   },
   {
    "duration": 26,
    "start_time": "2021-08-26T07:24:19.232Z"
   },
   {
    "duration": 10,
    "start_time": "2021-08-26T07:24:19.261Z"
   },
   {
    "duration": 35,
    "start_time": "2021-08-26T07:26:11.270Z"
   },
   {
    "duration": 8,
    "start_time": "2021-08-26T07:26:38.905Z"
   },
   {
    "duration": 26,
    "start_time": "2021-08-26T07:29:26.378Z"
   },
   {
    "duration": 39,
    "start_time": "2021-08-26T07:29:39.264Z"
   },
   {
    "duration": 540,
    "start_time": "2021-08-26T07:58:28.453Z"
   },
   {
    "duration": 15,
    "start_time": "2021-08-26T07:58:39.448Z"
   },
   {
    "duration": 13,
    "start_time": "2021-08-26T07:58:59.210Z"
   },
   {
    "duration": 12,
    "start_time": "2021-08-26T08:00:09.202Z"
   },
   {
    "duration": 99,
    "start_time": "2021-08-26T08:00:23.968Z"
   },
   {
    "duration": 12,
    "start_time": "2021-08-26T08:00:31.980Z"
   },
   {
    "duration": 12,
    "start_time": "2021-08-26T08:01:31.701Z"
   },
   {
    "duration": 365,
    "start_time": "2021-08-26T08:01:45.424Z"
   },
   {
    "duration": 12,
    "start_time": "2021-08-26T08:01:51.099Z"
   },
   {
    "duration": 33,
    "start_time": "2021-08-26T08:02:50.762Z"
   },
   {
    "duration": 36,
    "start_time": "2021-08-26T08:11:30.875Z"
   },
   {
    "duration": 28,
    "start_time": "2021-08-26T08:13:13.533Z"
   },
   {
    "duration": 7,
    "start_time": "2021-08-26T08:13:38.046Z"
   },
   {
    "duration": 25,
    "start_time": "2021-08-26T08:14:01.100Z"
   },
   {
    "duration": 6,
    "start_time": "2021-08-26T08:14:02.370Z"
   },
   {
    "duration": 1500,
    "start_time": "2021-08-26T08:14:43.750Z"
   },
   {
    "duration": 48,
    "start_time": "2021-08-26T08:14:45.253Z"
   },
   {
    "duration": 23,
    "start_time": "2021-08-26T08:14:45.304Z"
   },
   {
    "duration": 35,
    "start_time": "2021-08-26T08:14:45.330Z"
   },
   {
    "duration": 11,
    "start_time": "2021-08-26T08:14:45.367Z"
   },
   {
    "duration": 5,
    "start_time": "2021-08-26T08:14:45.381Z"
   },
   {
    "duration": 730,
    "start_time": "2021-08-26T08:14:45.388Z"
   },
   {
    "duration": 38,
    "start_time": "2021-08-26T08:14:46.122Z"
   },
   {
    "duration": 14,
    "start_time": "2021-08-26T08:14:46.164Z"
   },
   {
    "duration": 3,
    "start_time": "2021-08-26T08:14:46.181Z"
   },
   {
    "duration": 27,
    "start_time": "2021-08-26T08:14:46.187Z"
   },
   {
    "duration": 96,
    "start_time": "2021-08-26T08:14:46.217Z"
   },
   {
    "duration": 42,
    "start_time": "2021-08-26T08:14:46.316Z"
   },
   {
    "duration": 25,
    "start_time": "2021-08-26T08:14:46.361Z"
   },
   {
    "duration": 18,
    "start_time": "2021-08-26T08:14:46.389Z"
   },
   {
    "duration": 7,
    "start_time": "2021-08-26T08:14:46.410Z"
   },
   {
    "duration": 38,
    "start_time": "2021-08-26T08:14:46.419Z"
   },
   {
    "duration": 11,
    "start_time": "2021-08-26T08:14:46.459Z"
   },
   {
    "duration": 1689,
    "start_time": "2021-08-26T08:14:46.472Z"
   },
   {
    "duration": 7,
    "start_time": "2021-08-26T08:14:48.164Z"
   },
   {
    "duration": 418,
    "start_time": "2021-08-26T08:14:48.173Z"
   },
   {
    "duration": 616,
    "start_time": "2021-08-26T08:14:48.593Z"
   },
   {
    "duration": 15,
    "start_time": "2021-08-26T08:14:49.214Z"
   },
   {
    "duration": 520,
    "start_time": "2021-08-26T08:14:49.232Z"
   },
   {
    "duration": 7,
    "start_time": "2021-08-26T08:14:49.757Z"
   },
   {
    "duration": 648,
    "start_time": "2021-08-26T08:14:49.766Z"
   },
   {
    "duration": 654,
    "start_time": "2021-08-26T08:14:50.417Z"
   },
   {
    "duration": 669,
    "start_time": "2021-08-26T08:14:51.073Z"
   },
   {
    "duration": 60,
    "start_time": "2021-08-26T08:14:51.745Z"
   },
   {
    "duration": 1259,
    "start_time": "2021-08-26T08:14:51.808Z"
   },
   {
    "duration": 159,
    "start_time": "2021-08-26T08:14:53.069Z"
   },
   {
    "duration": 1003,
    "start_time": "2021-08-26T08:14:53.231Z"
   },
   {
    "duration": 488,
    "start_time": "2021-08-26T08:14:54.237Z"
   },
   {
    "duration": 163,
    "start_time": "2021-08-26T08:14:54.727Z"
   },
   {
    "duration": 8,
    "start_time": "2021-08-26T08:14:54.892Z"
   },
   {
    "duration": 1250,
    "start_time": "2021-08-26T08:14:54.902Z"
   },
   {
    "duration": 602,
    "start_time": "2021-08-26T08:14:56.156Z"
   },
   {
    "duration": 9,
    "start_time": "2021-08-26T08:14:56.760Z"
   },
   {
    "duration": 1361,
    "start_time": "2021-08-26T08:14:56.771Z"
   },
   {
    "duration": 22,
    "start_time": "2021-08-26T08:14:58.134Z"
   },
   {
    "duration": 1278,
    "start_time": "2021-08-26T08:14:58.158Z"
   },
   {
    "duration": 3,
    "start_time": "2021-08-26T08:14:59.439Z"
   },
   {
    "duration": 18,
    "start_time": "2021-08-26T08:14:59.444Z"
   },
   {
    "duration": 10,
    "start_time": "2021-08-26T08:14:59.465Z"
   },
   {
    "duration": 11,
    "start_time": "2021-08-26T08:14:59.477Z"
   },
   {
    "duration": 8,
    "start_time": "2021-08-26T08:14:59.490Z"
   },
   {
    "duration": 57,
    "start_time": "2021-08-26T08:14:59.501Z"
   },
   {
    "duration": 11,
    "start_time": "2021-08-26T08:14:59.561Z"
   },
   {
    "duration": 33,
    "start_time": "2021-08-26T08:15:35.020Z"
   },
   {
    "duration": 7,
    "start_time": "2021-08-26T08:15:41.413Z"
   },
   {
    "duration": 1489,
    "start_time": "2021-08-26T08:15:57.313Z"
   },
   {
    "duration": 51,
    "start_time": "2021-08-26T08:15:58.805Z"
   },
   {
    "duration": 26,
    "start_time": "2021-08-26T08:15:58.860Z"
   },
   {
    "duration": 18,
    "start_time": "2021-08-26T08:15:58.890Z"
   },
   {
    "duration": 10,
    "start_time": "2021-08-26T08:15:58.911Z"
   },
   {
    "duration": 33,
    "start_time": "2021-08-26T08:15:58.924Z"
   },
   {
    "duration": 709,
    "start_time": "2021-08-26T08:15:58.961Z"
   },
   {
    "duration": 25,
    "start_time": "2021-08-26T08:15:59.676Z"
   },
   {
    "duration": 21,
    "start_time": "2021-08-26T08:15:59.705Z"
   },
   {
    "duration": 103,
    "start_time": "2021-08-26T08:15:59.729Z"
   },
   {
    "duration": 37,
    "start_time": "2021-08-26T08:15:59.835Z"
   },
   {
    "duration": 24,
    "start_time": "2021-08-26T08:15:59.874Z"
   },
   {
    "duration": 23,
    "start_time": "2021-08-26T08:15:59.901Z"
   },
   {
    "duration": 29,
    "start_time": "2021-08-26T08:15:59.927Z"
   },
   {
    "duration": 7,
    "start_time": "2021-08-26T08:15:59.958Z"
   },
   {
    "duration": 14,
    "start_time": "2021-08-26T08:15:59.967Z"
   },
   {
    "duration": 1720,
    "start_time": "2021-08-26T08:15:59.984Z"
   },
   {
    "duration": 6,
    "start_time": "2021-08-26T08:16:01.707Z"
   },
   {
    "duration": 427,
    "start_time": "2021-08-26T08:16:01.715Z"
   },
   {
    "duration": 614,
    "start_time": "2021-08-26T08:16:02.144Z"
   },
   {
    "duration": 17,
    "start_time": "2021-08-26T08:16:02.760Z"
   },
   {
    "duration": 524,
    "start_time": "2021-08-26T08:16:02.779Z"
   },
   {
    "duration": 7,
    "start_time": "2021-08-26T08:16:03.308Z"
   },
   {
    "duration": 649,
    "start_time": "2021-08-26T08:16:03.318Z"
   },
   {
    "duration": 672,
    "start_time": "2021-08-26T08:16:03.969Z"
   },
   {
    "duration": 671,
    "start_time": "2021-08-26T08:16:04.645Z"
   },
   {
    "duration": 74,
    "start_time": "2021-08-26T08:16:05.319Z"
   },
   {
    "duration": 1286,
    "start_time": "2021-08-26T08:16:05.396Z"
   },
   {
    "duration": 167,
    "start_time": "2021-08-26T08:16:06.685Z"
   },
   {
    "duration": 1070,
    "start_time": "2021-08-26T08:16:06.855Z"
   },
   {
    "duration": 461,
    "start_time": "2021-08-26T08:16:07.928Z"
   },
   {
    "duration": 146,
    "start_time": "2021-08-26T08:16:08.392Z"
   },
   {
    "duration": 16,
    "start_time": "2021-08-26T08:16:08.540Z"
   },
   {
    "duration": 1265,
    "start_time": "2021-08-26T08:16:08.559Z"
   },
   {
    "duration": 560,
    "start_time": "2021-08-26T08:16:09.827Z"
   },
   {
    "duration": 11,
    "start_time": "2021-08-26T08:16:10.390Z"
   },
   {
    "duration": 1334,
    "start_time": "2021-08-26T08:16:10.403Z"
   },
   {
    "duration": 17,
    "start_time": "2021-08-26T08:16:11.740Z"
   },
   {
    "duration": 1199,
    "start_time": "2021-08-26T08:16:11.760Z"
   },
   {
    "duration": 3,
    "start_time": "2021-08-26T08:16:12.961Z"
   },
   {
    "duration": 10,
    "start_time": "2021-08-26T08:16:12.966Z"
   },
   {
    "duration": 10,
    "start_time": "2021-08-26T08:16:12.978Z"
   },
   {
    "duration": 11,
    "start_time": "2021-08-26T08:16:12.990Z"
   },
   {
    "duration": 15,
    "start_time": "2021-08-26T08:16:13.004Z"
   },
   {
    "duration": 37,
    "start_time": "2021-08-26T08:16:13.021Z"
   },
   {
    "duration": 7,
    "start_time": "2021-08-26T08:16:13.060Z"
   },
   {
    "duration": 491,
    "start_time": "2021-08-26T08:39:56.548Z"
   },
   {
    "duration": 9,
    "start_time": "2021-08-26T08:40:13.437Z"
   },
   {
    "duration": 8,
    "start_time": "2021-08-26T08:40:27.959Z"
   },
   {
    "duration": 7,
    "start_time": "2021-08-26T08:40:37.472Z"
   },
   {
    "duration": 9,
    "start_time": "2021-08-26T08:41:16.382Z"
   },
   {
    "duration": 33,
    "start_time": "2021-08-26T08:41:23.087Z"
   },
   {
    "duration": 32,
    "start_time": "2021-08-26T08:51:06.494Z"
   },
   {
    "duration": 137,
    "start_time": "2021-08-26T08:52:13.276Z"
   },
   {
    "duration": 125,
    "start_time": "2021-08-26T08:53:32.182Z"
   },
   {
    "duration": 404,
    "start_time": "2021-08-26T08:54:09.531Z"
   },
   {
    "duration": 32,
    "start_time": "2021-08-26T08:54:26.792Z"
   },
   {
    "duration": 7,
    "start_time": "2021-08-26T08:54:58.949Z"
   },
   {
    "duration": 6,
    "start_time": "2021-08-26T08:55:06.702Z"
   },
   {
    "duration": 33,
    "start_time": "2021-08-26T08:55:18.504Z"
   },
   {
    "duration": 930,
    "start_time": "2021-08-26T08:55:47.729Z"
   },
   {
    "duration": 27,
    "start_time": "2021-08-26T08:55:59.494Z"
   },
   {
    "duration": 9,
    "start_time": "2021-08-26T08:56:21.852Z"
   },
   {
    "duration": 24,
    "start_time": "2021-08-26T08:56:50.735Z"
   },
   {
    "duration": 24,
    "start_time": "2021-08-26T08:57:29.443Z"
   },
   {
    "duration": 1504,
    "start_time": "2021-08-26T09:05:15.054Z"
   },
   {
    "duration": 49,
    "start_time": "2021-08-26T09:05:16.561Z"
   },
   {
    "duration": 25,
    "start_time": "2021-08-26T09:05:16.613Z"
   },
   {
    "duration": 23,
    "start_time": "2021-08-26T09:05:16.641Z"
   },
   {
    "duration": 8,
    "start_time": "2021-08-26T09:05:16.667Z"
   },
   {
    "duration": 16,
    "start_time": "2021-08-26T09:05:16.678Z"
   },
   {
    "duration": 1571,
    "start_time": "2021-08-26T09:05:16.696Z"
   },
   {
    "duration": 35,
    "start_time": "2021-08-26T09:05:18.273Z"
   },
   {
    "duration": 16,
    "start_time": "2021-08-26T09:05:18.313Z"
   },
   {
    "duration": 46,
    "start_time": "2021-08-26T09:05:18.357Z"
   },
   {
    "duration": 131,
    "start_time": "2021-08-26T09:05:18.406Z"
   },
   {
    "duration": 22,
    "start_time": "2021-08-26T09:05:18.540Z"
   },
   {
    "duration": 24,
    "start_time": "2021-08-26T09:05:18.564Z"
   },
   {
    "duration": 22,
    "start_time": "2021-08-26T09:05:18.590Z"
   },
   {
    "duration": 8,
    "start_time": "2021-08-26T09:05:18.614Z"
   },
   {
    "duration": 32,
    "start_time": "2021-08-26T09:05:18.625Z"
   },
   {
    "duration": 20,
    "start_time": "2021-08-26T09:05:18.659Z"
   },
   {
    "duration": 1587,
    "start_time": "2021-08-26T09:05:18.682Z"
   },
   {
    "duration": 8,
    "start_time": "2021-08-26T09:05:20.272Z"
   },
   {
    "duration": 498,
    "start_time": "2021-08-26T09:05:20.283Z"
   },
   {
    "duration": 628,
    "start_time": "2021-08-26T09:05:20.783Z"
   },
   {
    "duration": 16,
    "start_time": "2021-08-26T09:05:21.414Z"
   },
   {
    "duration": 551,
    "start_time": "2021-08-26T09:05:21.437Z"
   },
   {
    "duration": 7,
    "start_time": "2021-08-26T09:05:21.990Z"
   },
   {
    "duration": 927,
    "start_time": "2021-08-26T09:05:21.999Z"
   },
   {
    "duration": 653,
    "start_time": "2021-08-26T09:05:22.929Z"
   },
   {
    "duration": 661,
    "start_time": "2021-08-26T09:05:23.584Z"
   },
   {
    "duration": 55,
    "start_time": "2021-08-26T09:05:24.247Z"
   },
   {
    "duration": 1141,
    "start_time": "2021-08-26T09:05:24.305Z"
   },
   {
    "duration": 148,
    "start_time": "2021-08-26T09:05:25.456Z"
   },
   {
    "duration": 1002,
    "start_time": "2021-08-26T09:05:25.607Z"
   },
   {
    "duration": 462,
    "start_time": "2021-08-26T09:05:26.611Z"
   },
   {
    "duration": 228,
    "start_time": "2021-08-26T09:05:27.076Z"
   },
   {
    "duration": 11,
    "start_time": "2021-08-26T09:05:27.307Z"
   },
   {
    "duration": 1242,
    "start_time": "2021-08-26T09:05:27.321Z"
   },
   {
    "duration": 665,
    "start_time": "2021-08-26T09:05:28.565Z"
   },
   {
    "duration": 7,
    "start_time": "2021-08-26T09:05:29.233Z"
   },
   {
    "duration": 1255,
    "start_time": "2021-08-26T09:05:29.255Z"
   },
   {
    "duration": 9,
    "start_time": "2021-08-26T09:05:30.512Z"
   },
   {
    "duration": 1267,
    "start_time": "2021-08-26T09:05:30.523Z"
   },
   {
    "duration": 4,
    "start_time": "2021-08-26T09:05:31.792Z"
   },
   {
    "duration": 29,
    "start_time": "2021-08-26T09:05:31.798Z"
   },
   {
    "duration": 33,
    "start_time": "2021-08-26T09:05:31.829Z"
   },
   {
    "duration": 37,
    "start_time": "2021-08-26T09:05:31.865Z"
   },
   {
    "duration": 34,
    "start_time": "2021-08-26T09:05:31.905Z"
   },
   {
    "duration": 23,
    "start_time": "2021-08-26T09:05:31.942Z"
   },
   {
    "duration": 41,
    "start_time": "2021-08-26T09:05:31.968Z"
   },
   {
    "duration": 7,
    "start_time": "2021-08-26T09:06:07.302Z"
   },
   {
    "duration": 5115,
    "start_time": "2021-08-26T09:09:20.085Z"
   },
   {
    "duration": 6,
    "start_time": "2021-08-26T09:10:47.886Z"
   },
   {
    "duration": 5028,
    "start_time": "2021-08-26T09:11:27.244Z"
   },
   {
    "duration": 5088,
    "start_time": "2021-08-26T09:11:42.448Z"
   },
   {
    "duration": 7,
    "start_time": "2021-08-26T09:11:49.700Z"
   },
   {
    "duration": 48,
    "start_time": "2021-08-26T09:12:10.653Z"
   },
   {
    "duration": 22,
    "start_time": "2021-08-26T09:12:44.995Z"
   },
   {
    "duration": 1482,
    "start_time": "2021-08-26T09:14:06.427Z"
   },
   {
    "duration": 49,
    "start_time": "2021-08-26T09:14:07.912Z"
   },
   {
    "duration": 26,
    "start_time": "2021-08-26T09:14:07.965Z"
   },
   {
    "duration": 20,
    "start_time": "2021-08-26T09:14:07.995Z"
   },
   {
    "duration": 10,
    "start_time": "2021-08-26T09:14:08.018Z"
   },
   {
    "duration": 7,
    "start_time": "2021-08-26T09:14:08.056Z"
   },
   {
    "duration": 708,
    "start_time": "2021-08-26T09:14:08.065Z"
   },
   {
    "duration": 26,
    "start_time": "2021-08-26T09:14:08.777Z"
   },
   {
    "duration": 20,
    "start_time": "2021-08-26T09:14:08.807Z"
   },
   {
    "duration": 53,
    "start_time": "2021-08-26T09:14:08.829Z"
   },
   {
    "duration": 3,
    "start_time": "2021-08-26T09:14:08.884Z"
   },
   {
    "duration": 16,
    "start_time": "2021-08-26T09:14:08.889Z"
   },
   {
    "duration": 103,
    "start_time": "2021-08-26T09:14:08.907Z"
   },
   {
    "duration": 24,
    "start_time": "2021-08-26T09:14:09.012Z"
   },
   {
    "duration": 37,
    "start_time": "2021-08-26T09:14:09.038Z"
   },
   {
    "duration": 21,
    "start_time": "2021-08-26T09:14:09.077Z"
   },
   {
    "duration": 17,
    "start_time": "2021-08-26T09:14:09.100Z"
   },
   {
    "duration": 18,
    "start_time": "2021-08-26T09:14:09.120Z"
   },
   {
    "duration": 25,
    "start_time": "2021-08-26T09:14:09.140Z"
   },
   {
    "duration": 1528,
    "start_time": "2021-08-26T09:14:09.168Z"
   },
   {
    "duration": 8,
    "start_time": "2021-08-26T09:14:10.699Z"
   },
   {
    "duration": 423,
    "start_time": "2021-08-26T09:14:10.710Z"
   },
   {
    "duration": 618,
    "start_time": "2021-08-26T09:14:11.140Z"
   },
   {
    "duration": 16,
    "start_time": "2021-08-26T09:14:11.761Z"
   },
   {
    "duration": 525,
    "start_time": "2021-08-26T09:14:11.779Z"
   },
   {
    "duration": 7,
    "start_time": "2021-08-26T09:14:12.307Z"
   },
   {
    "duration": 647,
    "start_time": "2021-08-26T09:14:12.317Z"
   },
   {
    "duration": 654,
    "start_time": "2021-08-26T09:14:12.966Z"
   },
   {
    "duration": 754,
    "start_time": "2021-08-26T09:14:13.623Z"
   },
   {
    "duration": 54,
    "start_time": "2021-08-26T09:14:14.380Z"
   },
   {
    "duration": 1117,
    "start_time": "2021-08-26T09:14:14.455Z"
   },
   {
    "duration": 147,
    "start_time": "2021-08-26T09:14:15.574Z"
   },
   {
    "duration": 990,
    "start_time": "2021-08-26T09:14:15.723Z"
   },
   {
    "duration": 477,
    "start_time": "2021-08-26T09:14:16.716Z"
   },
   {
    "duration": 160,
    "start_time": "2021-08-26T09:14:17.196Z"
   },
   {
    "duration": 8,
    "start_time": "2021-08-26T09:14:17.359Z"
   },
   {
    "duration": 1246,
    "start_time": "2021-08-26T09:14:17.369Z"
   },
   {
    "duration": 552,
    "start_time": "2021-08-26T09:14:18.617Z"
   },
   {
    "duration": 8,
    "start_time": "2021-08-26T09:14:19.171Z"
   },
   {
    "duration": 1277,
    "start_time": "2021-08-26T09:14:19.181Z"
   },
   {
    "duration": 8,
    "start_time": "2021-08-26T09:14:20.460Z"
   },
   {
    "duration": 1255,
    "start_time": "2021-08-26T09:14:20.471Z"
   },
   {
    "duration": 3,
    "start_time": "2021-08-26T09:14:21.728Z"
   },
   {
    "duration": 31,
    "start_time": "2021-08-26T09:14:21.734Z"
   },
   {
    "duration": 11,
    "start_time": "2021-08-26T09:14:21.768Z"
   },
   {
    "duration": 14,
    "start_time": "2021-08-26T09:14:21.782Z"
   },
   {
    "duration": 12,
    "start_time": "2021-08-26T09:14:21.798Z"
   },
   {
    "duration": 15,
    "start_time": "2021-08-26T09:14:21.812Z"
   },
   {
    "duration": 14,
    "start_time": "2021-08-26T09:14:21.829Z"
   },
   {
    "duration": 4858,
    "start_time": "2021-08-26T09:14:44.175Z"
   },
   {
    "duration": 4732,
    "start_time": "2021-08-26T09:14:57.251Z"
   },
   {
    "duration": 8,
    "start_time": "2021-08-26T09:15:16.087Z"
   },
   {
    "duration": 1562,
    "start_time": "2021-08-26T09:15:55.143Z"
   },
   {
    "duration": 50,
    "start_time": "2021-08-26T09:15:56.708Z"
   },
   {
    "duration": 25,
    "start_time": "2021-08-26T09:15:56.764Z"
   },
   {
    "duration": 23,
    "start_time": "2021-08-26T09:15:56.792Z"
   },
   {
    "duration": 13,
    "start_time": "2021-08-26T09:15:56.818Z"
   },
   {
    "duration": 7,
    "start_time": "2021-08-26T09:15:56.857Z"
   },
   {
    "duration": 735,
    "start_time": "2021-08-26T09:15:56.867Z"
   },
   {
    "duration": 25,
    "start_time": "2021-08-26T09:15:57.606Z"
   },
   {
    "duration": 32,
    "start_time": "2021-08-26T09:15:57.634Z"
   },
   {
    "duration": 38,
    "start_time": "2021-08-26T09:15:57.669Z"
   },
   {
    "duration": 4674,
    "start_time": "2021-08-26T09:15:57.710Z"
   },
   {
    "duration": 29,
    "start_time": "2021-08-26T09:16:02.387Z"
   },
   {
    "duration": 28,
    "start_time": "2021-08-26T09:16:02.419Z"
   },
   {
    "duration": 100,
    "start_time": "2021-08-26T09:16:02.450Z"
   },
   {
    "duration": 26,
    "start_time": "2021-08-26T09:16:02.553Z"
   },
   {
    "duration": 24,
    "start_time": "2021-08-26T09:16:02.582Z"
   },
   {
    "duration": 36,
    "start_time": "2021-08-26T09:16:02.609Z"
   },
   {
    "duration": 33,
    "start_time": "2021-08-26T09:16:02.648Z"
   },
   {
    "duration": 23,
    "start_time": "2021-08-26T09:16:02.684Z"
   },
   {
    "duration": 34,
    "start_time": "2021-08-26T09:16:02.710Z"
   },
   {
    "duration": 1635,
    "start_time": "2021-08-26T09:16:02.747Z"
   },
   {
    "duration": 6,
    "start_time": "2021-08-26T09:16:04.387Z"
   },
   {
    "duration": 410,
    "start_time": "2021-08-26T09:16:04.396Z"
   },
   {
    "duration": 523,
    "start_time": "2021-08-26T09:16:04.809Z"
   },
   {
    "duration": 23,
    "start_time": "2021-08-26T09:16:05.335Z"
   },
   {
    "duration": 524,
    "start_time": "2021-08-26T09:16:05.360Z"
   },
   {
    "duration": 7,
    "start_time": "2021-08-26T09:16:05.886Z"
   },
   {
    "duration": 655,
    "start_time": "2021-08-26T09:16:05.896Z"
   },
   {
    "duration": 648,
    "start_time": "2021-08-26T09:16:06.556Z"
   },
   {
    "duration": 744,
    "start_time": "2021-08-26T09:16:07.206Z"
   },
   {
    "duration": 50,
    "start_time": "2021-08-26T09:16:07.956Z"
   },
   {
    "duration": 1132,
    "start_time": "2021-08-26T09:16:08.008Z"
   },
   {
    "duration": 64,
    "start_time": "2021-08-26T09:16:09.142Z"
   },
   {
    "duration": 1093,
    "start_time": "2021-08-26T09:16:09.208Z"
   },
   {
    "duration": 487,
    "start_time": "2021-08-26T09:16:10.304Z"
   },
   {
    "duration": 150,
    "start_time": "2021-08-26T09:16:10.794Z"
   },
   {
    "duration": 13,
    "start_time": "2021-08-26T09:16:10.946Z"
   },
   {
    "duration": 1263,
    "start_time": "2021-08-26T09:16:10.961Z"
   },
   {
    "duration": 560,
    "start_time": "2021-08-26T09:16:12.227Z"
   },
   {
    "duration": 9,
    "start_time": "2021-08-26T09:16:12.790Z"
   },
   {
    "duration": 1322,
    "start_time": "2021-08-26T09:16:12.801Z"
   },
   {
    "duration": 8,
    "start_time": "2021-08-26T09:16:14.125Z"
   },
   {
    "duration": 1180,
    "start_time": "2021-08-26T09:16:14.135Z"
   },
   {
    "duration": 3,
    "start_time": "2021-08-26T09:16:15.317Z"
   },
   {
    "duration": 14,
    "start_time": "2021-08-26T09:16:15.322Z"
   },
   {
    "duration": 19,
    "start_time": "2021-08-26T09:16:15.339Z"
   },
   {
    "duration": 8,
    "start_time": "2021-08-26T09:16:15.360Z"
   },
   {
    "duration": 7,
    "start_time": "2021-08-26T09:16:15.370Z"
   },
   {
    "duration": 9,
    "start_time": "2021-08-26T09:16:15.379Z"
   },
   {
    "duration": 13,
    "start_time": "2021-08-26T09:16:15.390Z"
   },
   {
    "duration": 23,
    "start_time": "2021-08-26T09:17:09.272Z"
   },
   {
    "duration": 4437,
    "start_time": "2021-08-26T09:17:27.543Z"
   },
   {
    "duration": 31,
    "start_time": "2021-08-26T09:17:34.603Z"
   },
   {
    "duration": 22,
    "start_time": "2021-08-26T09:17:40.254Z"
   },
   {
    "duration": 34,
    "start_time": "2021-08-26T09:17:49.375Z"
   },
   {
    "duration": 20,
    "start_time": "2021-08-26T09:18:12.608Z"
   },
   {
    "duration": 21,
    "start_time": "2021-08-26T09:18:28.058Z"
   },
   {
    "duration": 20,
    "start_time": "2021-08-26T09:19:42.730Z"
   },
   {
    "duration": 26,
    "start_time": "2021-08-26T09:19:58.230Z"
   },
   {
    "duration": 26,
    "start_time": "2021-08-26T09:20:15.351Z"
   },
   {
    "duration": 1447,
    "start_time": "2021-08-26T09:24:43.777Z"
   },
   {
    "duration": 48,
    "start_time": "2021-08-26T09:24:45.227Z"
   },
   {
    "duration": 28,
    "start_time": "2021-08-26T09:24:45.283Z"
   },
   {
    "duration": 45,
    "start_time": "2021-08-26T09:24:45.314Z"
   },
   {
    "duration": 8,
    "start_time": "2021-08-26T09:24:45.361Z"
   },
   {
    "duration": 10,
    "start_time": "2021-08-26T09:24:45.371Z"
   },
   {
    "duration": 931,
    "start_time": "2021-08-26T09:24:45.387Z"
   },
   {
    "duration": 38,
    "start_time": "2021-08-26T09:24:46.323Z"
   },
   {
    "duration": 12,
    "start_time": "2021-08-26T09:24:46.363Z"
   },
   {
    "duration": 31,
    "start_time": "2021-08-26T09:24:46.378Z"
   },
   {
    "duration": 62,
    "start_time": "2021-08-26T09:24:46.411Z"
   },
   {
    "duration": 4519,
    "start_time": "2021-08-26T09:24:46.476Z"
   },
   {
    "duration": 29,
    "start_time": "2021-08-26T09:24:50.998Z"
   },
   {
    "duration": 101,
    "start_time": "2021-08-26T09:24:51.029Z"
   },
   {
    "duration": 40,
    "start_time": "2021-08-26T09:24:51.132Z"
   },
   {
    "duration": 23,
    "start_time": "2021-08-26T09:24:51.174Z"
   },
   {
    "duration": 29,
    "start_time": "2021-08-26T09:24:51.199Z"
   },
   {
    "duration": 9,
    "start_time": "2021-08-26T09:24:51.231Z"
   },
   {
    "duration": 8,
    "start_time": "2021-08-26T09:24:51.255Z"
   },
   {
    "duration": 14,
    "start_time": "2021-08-26T09:24:51.266Z"
   },
   {
    "duration": 1615,
    "start_time": "2021-08-26T09:24:51.283Z"
   },
   {
    "duration": 6,
    "start_time": "2021-08-26T09:24:52.906Z"
   },
   {
    "duration": 418,
    "start_time": "2021-08-26T09:24:52.916Z"
   },
   {
    "duration": 520,
    "start_time": "2021-08-26T09:24:53.338Z"
   },
   {
    "duration": 18,
    "start_time": "2021-08-26T09:24:53.861Z"
   },
   {
    "duration": 625,
    "start_time": "2021-08-26T09:24:53.881Z"
   },
   {
    "duration": 9,
    "start_time": "2021-08-26T09:24:54.509Z"
   },
   {
    "duration": 761,
    "start_time": "2021-08-26T09:24:54.521Z"
   },
   {
    "duration": 758,
    "start_time": "2021-08-26T09:24:55.285Z"
   },
   {
    "duration": 658,
    "start_time": "2021-08-26T09:24:56.046Z"
   },
   {
    "duration": 67,
    "start_time": "2021-08-26T09:24:56.706Z"
   },
   {
    "duration": 1293,
    "start_time": "2021-08-26T09:24:56.775Z"
   },
   {
    "duration": 47,
    "start_time": "2021-08-26T09:24:58.070Z"
   },
   {
    "duration": 1107,
    "start_time": "2021-08-26T09:24:58.119Z"
   },
   {
    "duration": 474,
    "start_time": "2021-08-26T09:24:59.228Z"
   },
   {
    "duration": 151,
    "start_time": "2021-08-26T09:24:59.704Z"
   },
   {
    "duration": 8,
    "start_time": "2021-08-26T09:24:59.858Z"
   },
   {
    "duration": 1267,
    "start_time": "2021-08-26T09:24:59.868Z"
   },
   {
    "duration": 658,
    "start_time": "2021-08-26T09:25:01.137Z"
   },
   {
    "duration": 8,
    "start_time": "2021-08-26T09:25:01.797Z"
   },
   {
    "duration": 1336,
    "start_time": "2021-08-26T09:25:01.808Z"
   },
   {
    "duration": 14,
    "start_time": "2021-08-26T09:25:03.146Z"
   },
   {
    "duration": 1460,
    "start_time": "2021-08-26T09:25:03.163Z"
   },
   {
    "duration": 3,
    "start_time": "2021-08-26T09:25:04.625Z"
   },
   {
    "duration": 25,
    "start_time": "2021-08-26T09:25:04.630Z"
   },
   {
    "duration": 9,
    "start_time": "2021-08-26T09:25:04.657Z"
   },
   {
    "duration": 22,
    "start_time": "2021-08-26T09:25:04.668Z"
   },
   {
    "duration": 15,
    "start_time": "2021-08-26T09:25:04.692Z"
   },
   {
    "duration": 19,
    "start_time": "2021-08-26T09:25:04.710Z"
   },
   {
    "duration": 17,
    "start_time": "2021-08-26T09:25:04.732Z"
   },
   {
    "duration": 21,
    "start_time": "2021-08-26T09:28:44.832Z"
   },
   {
    "duration": 38,
    "start_time": "2021-08-26T09:29:19.841Z"
   },
   {
    "duration": 1480,
    "start_time": "2021-08-26T09:32:35.353Z"
   },
   {
    "duration": 48,
    "start_time": "2021-08-26T09:32:36.837Z"
   },
   {
    "duration": 23,
    "start_time": "2021-08-26T09:32:36.888Z"
   },
   {
    "duration": 17,
    "start_time": "2021-08-26T09:32:36.913Z"
   },
   {
    "duration": 26,
    "start_time": "2021-08-26T09:32:36.932Z"
   },
   {
    "duration": 5,
    "start_time": "2021-08-26T09:32:36.961Z"
   },
   {
    "duration": 762,
    "start_time": "2021-08-26T09:32:36.970Z"
   },
   {
    "duration": 37,
    "start_time": "2021-08-26T09:32:37.736Z"
   },
   {
    "duration": 19,
    "start_time": "2021-08-26T09:32:37.775Z"
   },
   {
    "duration": 32,
    "start_time": "2021-08-26T09:32:37.796Z"
   },
   {
    "duration": 527,
    "start_time": "2021-08-26T09:32:37.830Z"
   },
   {
    "duration": -106,
    "start_time": "2021-08-26T09:32:38.467Z"
   },
   {
    "duration": -110,
    "start_time": "2021-08-26T09:32:38.473Z"
   },
   {
    "duration": -114,
    "start_time": "2021-08-26T09:32:38.479Z"
   },
   {
    "duration": -125,
    "start_time": "2021-08-26T09:32:38.491Z"
   },
   {
    "duration": -132,
    "start_time": "2021-08-26T09:32:38.500Z"
   },
   {
    "duration": -137,
    "start_time": "2021-08-26T09:32:38.506Z"
   },
   {
    "duration": -143,
    "start_time": "2021-08-26T09:32:38.513Z"
   },
   {
    "duration": -145,
    "start_time": "2021-08-26T09:32:38.517Z"
   },
   {
    "duration": -148,
    "start_time": "2021-08-26T09:32:38.521Z"
   },
   {
    "duration": -150,
    "start_time": "2021-08-26T09:32:38.525Z"
   },
   {
    "duration": -153,
    "start_time": "2021-08-26T09:32:38.529Z"
   },
   {
    "duration": -153,
    "start_time": "2021-08-26T09:32:38.531Z"
   },
   {
    "duration": -155,
    "start_time": "2021-08-26T09:32:38.535Z"
   },
   {
    "duration": -162,
    "start_time": "2021-08-26T09:32:38.544Z"
   },
   {
    "duration": -166,
    "start_time": "2021-08-26T09:32:38.549Z"
   },
   {
    "duration": -169,
    "start_time": "2021-08-26T09:32:38.553Z"
   },
   {
    "duration": -172,
    "start_time": "2021-08-26T09:32:38.558Z"
   },
   {
    "duration": -176,
    "start_time": "2021-08-26T09:32:38.563Z"
   },
   {
    "duration": -185,
    "start_time": "2021-08-26T09:32:38.574Z"
   },
   {
    "duration": -188,
    "start_time": "2021-08-26T09:32:38.578Z"
   },
   {
    "duration": -190,
    "start_time": "2021-08-26T09:32:38.582Z"
   },
   {
    "duration": -192,
    "start_time": "2021-08-26T09:32:38.585Z"
   },
   {
    "duration": -195,
    "start_time": "2021-08-26T09:32:38.590Z"
   },
   {
    "duration": -198,
    "start_time": "2021-08-26T09:32:38.595Z"
   },
   {
    "duration": -200,
    "start_time": "2021-08-26T09:32:38.598Z"
   },
   {
    "duration": -213,
    "start_time": "2021-08-26T09:32:38.612Z"
   },
   {
    "duration": -159,
    "start_time": "2021-08-26T09:32:38.615Z"
   },
   {
    "duration": -161,
    "start_time": "2021-08-26T09:32:38.618Z"
   },
   {
    "duration": -175,
    "start_time": "2021-08-26T09:32:38.634Z"
   },
   {
    "duration": -177,
    "start_time": "2021-08-26T09:32:38.637Z"
   },
   {
    "duration": -178,
    "start_time": "2021-08-26T09:32:38.640Z"
   },
   {
    "duration": -180,
    "start_time": "2021-08-26T09:32:38.643Z"
   },
   {
    "duration": -181,
    "start_time": "2021-08-26T09:32:38.646Z"
   },
   {
    "duration": -183,
    "start_time": "2021-08-26T09:32:38.649Z"
   },
   {
    "duration": -197,
    "start_time": "2021-08-26T09:32:38.665Z"
   },
   {
    "duration": -199,
    "start_time": "2021-08-26T09:32:38.668Z"
   },
   {
    "duration": -201,
    "start_time": "2021-08-26T09:32:38.672Z"
   },
   {
    "duration": -204,
    "start_time": "2021-08-26T09:32:38.676Z"
   },
   {
    "duration": 5173,
    "start_time": "2021-08-26T09:33:20.199Z"
   },
   {
    "duration": 32,
    "start_time": "2021-08-26T09:33:31.401Z"
   },
   {
    "duration": 4529,
    "start_time": "2021-08-26T09:33:43.132Z"
   },
   {
    "duration": 13,
    "start_time": "2021-08-26T09:33:52.381Z"
   },
   {
    "duration": 30,
    "start_time": "2021-08-26T09:34:19.652Z"
   },
   {
    "duration": 1429,
    "start_time": "2021-08-26T09:34:36.892Z"
   },
   {
    "duration": 50,
    "start_time": "2021-08-26T09:34:38.324Z"
   },
   {
    "duration": 24,
    "start_time": "2021-08-26T09:34:38.380Z"
   },
   {
    "duration": 33,
    "start_time": "2021-08-26T09:34:38.406Z"
   },
   {
    "duration": 20,
    "start_time": "2021-08-26T09:34:38.441Z"
   },
   {
    "duration": 8,
    "start_time": "2021-08-26T09:34:38.463Z"
   },
   {
    "duration": 697,
    "start_time": "2021-08-26T09:34:38.475Z"
   },
   {
    "duration": 26,
    "start_time": "2021-08-26T09:34:39.175Z"
   },
   {
    "duration": 13,
    "start_time": "2021-08-26T09:34:39.204Z"
   },
   {
    "duration": 61,
    "start_time": "2021-08-26T09:34:39.220Z"
   },
   {
    "duration": 4787,
    "start_time": "2021-08-26T09:34:39.284Z"
   },
   {
    "duration": 27,
    "start_time": "2021-08-26T09:34:44.074Z"
   },
   {
    "duration": 109,
    "start_time": "2021-08-26T09:34:44.103Z"
   },
   {
    "duration": 22,
    "start_time": "2021-08-26T09:34:44.214Z"
   },
   {
    "duration": 36,
    "start_time": "2021-08-26T09:34:44.239Z"
   },
   {
    "duration": 30,
    "start_time": "2021-08-26T09:34:44.277Z"
   },
   {
    "duration": 19,
    "start_time": "2021-08-26T09:34:44.309Z"
   },
   {
    "duration": 28,
    "start_time": "2021-08-26T09:34:44.331Z"
   },
   {
    "duration": 17,
    "start_time": "2021-08-26T09:34:44.361Z"
   },
   {
    "duration": 1525,
    "start_time": "2021-08-26T09:34:44.381Z"
   },
   {
    "duration": 7,
    "start_time": "2021-08-26T09:34:45.908Z"
   },
   {
    "duration": 403,
    "start_time": "2021-08-26T09:34:45.920Z"
   },
   {
    "duration": 524,
    "start_time": "2021-08-26T09:34:46.326Z"
   },
   {
    "duration": 15,
    "start_time": "2021-08-26T09:34:46.856Z"
   },
   {
    "duration": 517,
    "start_time": "2021-08-26T09:34:46.873Z"
   },
   {
    "duration": 9,
    "start_time": "2021-08-26T09:34:47.393Z"
   },
   {
    "duration": 641,
    "start_time": "2021-08-26T09:34:47.405Z"
   },
   {
    "duration": 688,
    "start_time": "2021-08-26T09:34:48.057Z"
   },
   {
    "duration": 754,
    "start_time": "2021-08-26T09:34:48.747Z"
   },
   {
    "duration": 77,
    "start_time": "2021-08-26T09:34:49.504Z"
   },
   {
    "duration": 1193,
    "start_time": "2021-08-26T09:34:49.584Z"
   },
   {
    "duration": 50,
    "start_time": "2021-08-26T09:34:50.780Z"
   },
   {
    "duration": 980,
    "start_time": "2021-08-26T09:34:50.832Z"
   },
   {
    "duration": 463,
    "start_time": "2021-08-26T09:34:51.814Z"
   },
   {
    "duration": 157,
    "start_time": "2021-08-26T09:34:52.280Z"
   },
   {
    "duration": 18,
    "start_time": "2021-08-26T09:34:52.440Z"
   },
   {
    "duration": 1151,
    "start_time": "2021-08-26T09:34:52.461Z"
   },
   {
    "duration": 552,
    "start_time": "2021-08-26T09:34:53.615Z"
   },
   {
    "duration": 9,
    "start_time": "2021-08-26T09:34:54.170Z"
   },
   {
    "duration": 1353,
    "start_time": "2021-08-26T09:34:54.182Z"
   },
   {
    "duration": 8,
    "start_time": "2021-08-26T09:34:55.538Z"
   },
   {
    "duration": 1215,
    "start_time": "2021-08-26T09:34:55.557Z"
   },
   {
    "duration": 4,
    "start_time": "2021-08-26T09:34:56.774Z"
   },
   {
    "duration": 16,
    "start_time": "2021-08-26T09:34:56.780Z"
   },
   {
    "duration": 21,
    "start_time": "2021-08-26T09:34:56.799Z"
   },
   {
    "duration": 11,
    "start_time": "2021-08-26T09:34:56.823Z"
   },
   {
    "duration": 22,
    "start_time": "2021-08-26T09:34:56.837Z"
   },
   {
    "duration": 10,
    "start_time": "2021-08-26T09:34:56.862Z"
   },
   {
    "duration": 16,
    "start_time": "2021-08-26T09:34:56.875Z"
   },
   {
    "duration": 34,
    "start_time": "2021-08-26T09:35:25.062Z"
   },
   {
    "duration": 9103,
    "start_time": "2021-08-26T09:35:55.939Z"
   },
   {
    "duration": 34,
    "start_time": "2021-08-26T09:36:09.537Z"
   },
   {
    "duration": 10,
    "start_time": "2021-08-26T09:36:52.546Z"
   },
   {
    "duration": 21,
    "start_time": "2021-08-26T09:36:59.615Z"
   },
   {
    "duration": 1498,
    "start_time": "2021-08-26T09:38:43.086Z"
   },
   {
    "duration": 53,
    "start_time": "2021-08-26T09:38:44.587Z"
   },
   {
    "duration": 30,
    "start_time": "2021-08-26T09:38:44.643Z"
   },
   {
    "duration": 20,
    "start_time": "2021-08-26T09:38:44.676Z"
   },
   {
    "duration": 9,
    "start_time": "2021-08-26T09:38:44.699Z"
   },
   {
    "duration": 8,
    "start_time": "2021-08-26T09:38:44.710Z"
   },
   {
    "duration": 724,
    "start_time": "2021-08-26T09:38:44.720Z"
   },
   {
    "duration": 23,
    "start_time": "2021-08-26T09:38:45.457Z"
   },
   {
    "duration": 15,
    "start_time": "2021-08-26T09:38:45.483Z"
   },
   {
    "duration": 56,
    "start_time": "2021-08-26T09:38:45.501Z"
   },
   {
    "duration": 117,
    "start_time": "2021-08-26T09:38:45.559Z"
   },
   {
    "duration": -145,
    "start_time": "2021-08-26T09:38:45.826Z"
   },
   {
    "duration": -146,
    "start_time": "2021-08-26T09:38:45.829Z"
   },
   {
    "duration": -145,
    "start_time": "2021-08-26T09:38:45.831Z"
   },
   {
    "duration": -146,
    "start_time": "2021-08-26T09:38:45.834Z"
   },
   {
    "duration": -146,
    "start_time": "2021-08-26T09:38:45.836Z"
   },
   {
    "duration": -147,
    "start_time": "2021-08-26T09:38:45.839Z"
   },
   {
    "duration": -155,
    "start_time": "2021-08-26T09:38:45.850Z"
   },
   {
    "duration": -157,
    "start_time": "2021-08-26T09:38:45.854Z"
   },
   {
    "duration": -159,
    "start_time": "2021-08-26T09:38:45.858Z"
   },
   {
    "duration": -160,
    "start_time": "2021-08-26T09:38:45.861Z"
   },
   {
    "duration": -160,
    "start_time": "2021-08-26T09:38:45.864Z"
   },
   {
    "duration": -161,
    "start_time": "2021-08-26T09:38:45.867Z"
   },
   {
    "duration": -167,
    "start_time": "2021-08-26T09:38:45.875Z"
   },
   {
    "duration": -167,
    "start_time": "2021-08-26T09:38:45.878Z"
   },
   {
    "duration": -168,
    "start_time": "2021-08-26T09:38:45.881Z"
   },
   {
    "duration": -168,
    "start_time": "2021-08-26T09:38:45.883Z"
   },
   {
    "duration": -169,
    "start_time": "2021-08-26T09:38:45.886Z"
   },
   {
    "duration": -140,
    "start_time": "2021-08-26T09:38:45.895Z"
   },
   {
    "duration": -139,
    "start_time": "2021-08-26T09:38:45.897Z"
   },
   {
    "duration": -140,
    "start_time": "2021-08-26T09:38:45.900Z"
   },
   {
    "duration": -141,
    "start_time": "2021-08-26T09:38:45.903Z"
   },
   {
    "duration": -143,
    "start_time": "2021-08-26T09:38:45.907Z"
   },
   {
    "duration": -144,
    "start_time": "2021-08-26T09:38:45.910Z"
   },
   {
    "duration": -146,
    "start_time": "2021-08-26T09:38:45.913Z"
   },
   {
    "duration": -146,
    "start_time": "2021-08-26T09:38:45.915Z"
   },
   {
    "duration": -150,
    "start_time": "2021-08-26T09:38:45.920Z"
   },
   {
    "duration": -151,
    "start_time": "2021-08-26T09:38:45.923Z"
   },
   {
    "duration": -153,
    "start_time": "2021-08-26T09:38:45.926Z"
   },
   {
    "duration": -155,
    "start_time": "2021-08-26T09:38:45.929Z"
   },
   {
    "duration": -157,
    "start_time": "2021-08-26T09:38:45.932Z"
   },
   {
    "duration": -213,
    "start_time": "2021-08-26T09:38:45.990Z"
   },
   {
    "duration": -304,
    "start_time": "2021-08-26T09:38:46.082Z"
   },
   {
    "duration": -313,
    "start_time": "2021-08-26T09:38:46.092Z"
   },
   {
    "duration": -320,
    "start_time": "2021-08-26T09:38:46.101Z"
   },
   {
    "duration": -324,
    "start_time": "2021-08-26T09:38:46.106Z"
   },
   {
    "duration": -330,
    "start_time": "2021-08-26T09:38:46.113Z"
   },
   {
    "duration": -333,
    "start_time": "2021-08-26T09:38:46.118Z"
   },
   {
    "duration": -342,
    "start_time": "2021-08-26T09:38:46.129Z"
   },
   {
    "duration": 5278,
    "start_time": "2021-08-26T09:39:00.500Z"
   },
   {
    "duration": 22,
    "start_time": "2021-08-26T09:40:45.560Z"
   },
   {
    "duration": 30,
    "start_time": "2021-08-26T09:40:52.320Z"
   },
   {
    "duration": 1478,
    "start_time": "2021-08-26T09:41:12.378Z"
   },
   {
    "duration": 52,
    "start_time": "2021-08-26T09:41:13.858Z"
   },
   {
    "duration": 24,
    "start_time": "2021-08-26T09:41:13.913Z"
   },
   {
    "duration": 32,
    "start_time": "2021-08-26T09:41:13.940Z"
   },
   {
    "duration": 11,
    "start_time": "2021-08-26T09:41:13.974Z"
   },
   {
    "duration": 6,
    "start_time": "2021-08-26T09:41:13.987Z"
   },
   {
    "duration": 779,
    "start_time": "2021-08-26T09:41:13.995Z"
   },
   {
    "duration": 25,
    "start_time": "2021-08-26T09:41:14.778Z"
   },
   {
    "duration": 20,
    "start_time": "2021-08-26T09:41:14.806Z"
   },
   {
    "duration": 53,
    "start_time": "2021-08-26T09:41:14.829Z"
   },
   {
    "duration": 35,
    "start_time": "2021-08-26T09:41:14.885Z"
   },
   {
    "duration": 46,
    "start_time": "2021-08-26T09:41:14.923Z"
   },
   {
    "duration": 145,
    "start_time": "2021-08-26T09:41:14.972Z"
   },
   {
    "duration": 39,
    "start_time": "2021-08-26T09:41:15.120Z"
   },
   {
    "duration": 23,
    "start_time": "2021-08-26T09:41:15.162Z"
   },
   {
    "duration": 19,
    "start_time": "2021-08-26T09:41:15.188Z"
   },
   {
    "duration": 8,
    "start_time": "2021-08-26T09:41:15.210Z"
   },
   {
    "duration": 36,
    "start_time": "2021-08-26T09:41:15.221Z"
   },
   {
    "duration": 12,
    "start_time": "2021-08-26T09:41:15.259Z"
   },
   {
    "duration": 1555,
    "start_time": "2021-08-26T09:41:15.274Z"
   },
   {
    "duration": 6,
    "start_time": "2021-08-26T09:41:16.832Z"
   },
   {
    "duration": 440,
    "start_time": "2021-08-26T09:41:16.840Z"
   },
   {
    "duration": 935,
    "start_time": "2021-08-26T09:41:17.288Z"
   },
   {
    "duration": 34,
    "start_time": "2021-08-26T09:41:18.228Z"
   },
   {
    "duration": 753,
    "start_time": "2021-08-26T09:41:18.265Z"
   },
   {
    "duration": 9,
    "start_time": "2021-08-26T09:41:19.021Z"
   },
   {
    "duration": 998,
    "start_time": "2021-08-26T09:41:19.033Z"
   },
   {
    "duration": 1040,
    "start_time": "2021-08-26T09:41:20.034Z"
   },
   {
    "duration": 799,
    "start_time": "2021-08-26T09:41:21.077Z"
   },
   {
    "duration": 97,
    "start_time": "2021-08-26T09:41:21.878Z"
   },
   {
    "duration": 1754,
    "start_time": "2021-08-26T09:41:21.977Z"
   },
   {
    "duration": 214,
    "start_time": "2021-08-26T09:41:23.735Z"
   },
   {
    "duration": 1445,
    "start_time": "2021-08-26T09:41:23.956Z"
   },
   {
    "duration": 518,
    "start_time": "2021-08-26T09:41:25.404Z"
   },
   {
    "duration": 151,
    "start_time": "2021-08-26T09:41:25.925Z"
   },
   {
    "duration": 8,
    "start_time": "2021-08-26T09:41:26.079Z"
   },
   {
    "duration": 1292,
    "start_time": "2021-08-26T09:41:26.089Z"
   },
   {
    "duration": 563,
    "start_time": "2021-08-26T09:41:27.383Z"
   },
   {
    "duration": 12,
    "start_time": "2021-08-26T09:41:27.949Z"
   },
   {
    "duration": 1204,
    "start_time": "2021-08-26T09:41:27.963Z"
   },
   {
    "duration": 8,
    "start_time": "2021-08-26T09:41:29.170Z"
   },
   {
    "duration": 1239,
    "start_time": "2021-08-26T09:41:29.180Z"
   },
   {
    "duration": 3,
    "start_time": "2021-08-26T09:41:30.422Z"
   },
   {
    "duration": 28,
    "start_time": "2021-08-26T09:41:30.428Z"
   },
   {
    "duration": 29,
    "start_time": "2021-08-26T09:41:30.459Z"
   },
   {
    "duration": 22,
    "start_time": "2021-08-26T09:41:30.490Z"
   },
   {
    "duration": 31,
    "start_time": "2021-08-26T09:41:30.515Z"
   },
   {
    "duration": 30,
    "start_time": "2021-08-26T09:41:30.548Z"
   },
   {
    "duration": 34,
    "start_time": "2021-08-26T09:41:30.580Z"
   },
   {
    "duration": 23,
    "start_time": "2021-08-26T09:42:48.025Z"
   },
   {
    "duration": 1522,
    "start_time": "2021-08-26T09:43:25.474Z"
   },
   {
    "duration": 50,
    "start_time": "2021-08-26T09:43:26.998Z"
   },
   {
    "duration": 25,
    "start_time": "2021-08-26T09:43:27.054Z"
   },
   {
    "duration": 24,
    "start_time": "2021-08-26T09:43:27.082Z"
   },
   {
    "duration": 20,
    "start_time": "2021-08-26T09:43:27.109Z"
   },
   {
    "duration": 25,
    "start_time": "2021-08-26T09:43:27.132Z"
   },
   {
    "duration": 709,
    "start_time": "2021-08-26T09:43:27.161Z"
   },
   {
    "duration": 36,
    "start_time": "2021-08-26T09:43:27.876Z"
   },
   {
    "duration": 16,
    "start_time": "2021-08-26T09:43:27.916Z"
   },
   {
    "duration": 32,
    "start_time": "2021-08-26T09:43:27.957Z"
   },
   {
    "duration": 1646,
    "start_time": "2021-08-26T09:43:27.992Z"
   },
   {
    "duration": -120,
    "start_time": "2021-08-26T09:43:29.762Z"
   },
   {
    "duration": -126,
    "start_time": "2021-08-26T09:43:29.770Z"
   },
   {
    "duration": -127,
    "start_time": "2021-08-26T09:43:29.772Z"
   },
   {
    "duration": -128,
    "start_time": "2021-08-26T09:43:29.775Z"
   },
   {
    "duration": -136,
    "start_time": "2021-08-26T09:43:29.785Z"
   },
   {
    "duration": -141,
    "start_time": "2021-08-26T09:43:29.791Z"
   },
   {
    "duration": -143,
    "start_time": "2021-08-26T09:43:29.794Z"
   },
   {
    "duration": -146,
    "start_time": "2021-08-26T09:43:29.798Z"
   },
   {
    "duration": -148,
    "start_time": "2021-08-26T09:43:29.802Z"
   },
   {
    "duration": -150,
    "start_time": "2021-08-26T09:43:29.805Z"
   },
   {
    "duration": -151,
    "start_time": "2021-08-26T09:43:29.807Z"
   },
   {
    "duration": -152,
    "start_time": "2021-08-26T09:43:29.810Z"
   },
   {
    "duration": -153,
    "start_time": "2021-08-26T09:43:29.812Z"
   },
   {
    "duration": -155,
    "start_time": "2021-08-26T09:43:29.815Z"
   },
   {
    "duration": -157,
    "start_time": "2021-08-26T09:43:29.818Z"
   },
   {
    "duration": -156,
    "start_time": "2021-08-26T09:43:29.820Z"
   },
   {
    "duration": -162,
    "start_time": "2021-08-26T09:43:29.828Z"
   },
   {
    "duration": -162,
    "start_time": "2021-08-26T09:43:29.830Z"
   },
   {
    "duration": -164,
    "start_time": "2021-08-26T09:43:29.833Z"
   },
   {
    "duration": -165,
    "start_time": "2021-08-26T09:43:29.836Z"
   },
   {
    "duration": -167,
    "start_time": "2021-08-26T09:43:29.839Z"
   },
   {
    "duration": -179,
    "start_time": "2021-08-26T09:43:29.854Z"
   },
   {
    "duration": -186,
    "start_time": "2021-08-26T09:43:29.862Z"
   },
   {
    "duration": -198,
    "start_time": "2021-08-26T09:43:29.875Z"
   },
   {
    "duration": -199,
    "start_time": "2021-08-26T09:43:29.878Z"
   },
   {
    "duration": -200,
    "start_time": "2021-08-26T09:43:29.881Z"
   },
   {
    "duration": -203,
    "start_time": "2021-08-26T09:43:29.885Z"
   },
   {
    "duration": -214,
    "start_time": "2021-08-26T09:43:29.897Z"
   },
   {
    "duration": -242,
    "start_time": "2021-08-26T09:43:29.927Z"
   },
   {
    "duration": -244,
    "start_time": "2021-08-26T09:43:29.930Z"
   },
   {
    "duration": -245,
    "start_time": "2021-08-26T09:43:29.933Z"
   },
   {
    "duration": -249,
    "start_time": "2021-08-26T09:43:29.938Z"
   },
   {
    "duration": -251,
    "start_time": "2021-08-26T09:43:29.941Z"
   },
   {
    "duration": -251,
    "start_time": "2021-08-26T09:43:29.943Z"
   },
   {
    "duration": -256,
    "start_time": "2021-08-26T09:43:29.949Z"
   },
   {
    "duration": -259,
    "start_time": "2021-08-26T09:43:29.954Z"
   },
   {
    "duration": -201,
    "start_time": "2021-08-26T09:43:29.956Z"
   },
   {
    "duration": -202,
    "start_time": "2021-08-26T09:43:29.959Z"
   },
   {
    "duration": 24,
    "start_time": "2021-08-26T09:45:46.721Z"
   },
   {
    "duration": 20,
    "start_time": "2021-08-26T09:45:50.841Z"
   },
   {
    "duration": 23,
    "start_time": "2021-08-26T09:45:57.498Z"
   },
   {
    "duration": 20,
    "start_time": "2021-08-26T09:45:58.582Z"
   },
   {
    "duration": 400,
    "start_time": "2021-08-26T09:46:13.976Z"
   },
   {
    "duration": 21,
    "start_time": "2021-08-26T09:46:14.852Z"
   },
   {
    "duration": 30,
    "start_time": "2021-08-26T09:47:08.389Z"
   },
   {
    "duration": 20,
    "start_time": "2021-08-26T09:47:09.746Z"
   },
   {
    "duration": 1567,
    "start_time": "2021-08-26T09:47:19.647Z"
   },
   {
    "duration": 52,
    "start_time": "2021-08-26T09:47:21.217Z"
   },
   {
    "duration": 25,
    "start_time": "2021-08-26T09:47:21.272Z"
   },
   {
    "duration": 14,
    "start_time": "2021-08-26T09:47:21.300Z"
   },
   {
    "duration": 11,
    "start_time": "2021-08-26T09:47:21.317Z"
   },
   {
    "duration": 7,
    "start_time": "2021-08-26T09:47:21.331Z"
   },
   {
    "duration": 1157,
    "start_time": "2021-08-26T09:47:21.341Z"
   },
   {
    "duration": 25,
    "start_time": "2021-08-26T09:47:22.502Z"
   },
   {
    "duration": 12,
    "start_time": "2021-08-26T09:47:22.555Z"
   },
   {
    "duration": 35,
    "start_time": "2021-08-26T09:47:22.570Z"
   },
   {
    "duration": 68,
    "start_time": "2021-08-26T09:47:22.608Z"
   },
   {
    "duration": 20,
    "start_time": "2021-08-26T09:47:22.679Z"
   },
   {
    "duration": 170,
    "start_time": "2021-08-26T09:47:22.701Z"
   },
   {
    "duration": 24,
    "start_time": "2021-08-26T09:47:22.873Z"
   },
   {
    "duration": 23,
    "start_time": "2021-08-26T09:47:22.899Z"
   },
   {
    "duration": 65,
    "start_time": "2021-08-26T09:47:22.924Z"
   },
   {
    "duration": 32,
    "start_time": "2021-08-26T09:47:22.991Z"
   },
   {
    "duration": 15,
    "start_time": "2021-08-26T09:47:23.026Z"
   },
   {
    "duration": 9,
    "start_time": "2021-08-26T09:47:23.044Z"
   },
   {
    "duration": 1542,
    "start_time": "2021-08-26T09:47:23.056Z"
   },
   {
    "duration": 6,
    "start_time": "2021-08-26T09:47:24.600Z"
   },
   {
    "duration": 414,
    "start_time": "2021-08-26T09:47:24.609Z"
   },
   {
    "duration": 608,
    "start_time": "2021-08-26T09:47:25.028Z"
   },
   {
    "duration": 24,
    "start_time": "2021-08-26T09:47:25.639Z"
   },
   {
    "duration": 498,
    "start_time": "2021-08-26T09:47:25.665Z"
   },
   {
    "duration": 8,
    "start_time": "2021-08-26T09:47:26.166Z"
   },
   {
    "duration": 632,
    "start_time": "2021-08-26T09:47:26.177Z"
   },
   {
    "duration": 734,
    "start_time": "2021-08-26T09:47:26.811Z"
   },
   {
    "duration": 637,
    "start_time": "2021-08-26T09:47:27.548Z"
   },
   {
    "duration": 72,
    "start_time": "2021-08-26T09:47:28.189Z"
   },
   {
    "duration": 1160,
    "start_time": "2021-08-26T09:47:28.264Z"
   },
   {
    "duration": 149,
    "start_time": "2021-08-26T09:47:29.426Z"
   },
   {
    "duration": 943,
    "start_time": "2021-08-26T09:47:29.578Z"
   },
   {
    "duration": 486,
    "start_time": "2021-08-26T09:47:30.523Z"
   },
   {
    "duration": 151,
    "start_time": "2021-08-26T09:47:31.012Z"
   },
   {
    "duration": 8,
    "start_time": "2021-08-26T09:47:31.166Z"
   },
   {
    "duration": 1220,
    "start_time": "2021-08-26T09:47:31.176Z"
   },
   {
    "duration": 649,
    "start_time": "2021-08-26T09:47:32.398Z"
   },
   {
    "duration": 13,
    "start_time": "2021-08-26T09:47:33.050Z"
   },
   {
    "duration": 1154,
    "start_time": "2021-08-26T09:47:33.065Z"
   },
   {
    "duration": 8,
    "start_time": "2021-08-26T09:47:34.221Z"
   },
   {
    "duration": 1172,
    "start_time": "2021-08-26T09:47:34.231Z"
   },
   {
    "duration": 4,
    "start_time": "2021-08-26T09:47:35.405Z"
   },
   {
    "duration": 18,
    "start_time": "2021-08-26T09:47:35.411Z"
   },
   {
    "duration": 12,
    "start_time": "2021-08-26T09:47:35.432Z"
   },
   {
    "duration": 17,
    "start_time": "2021-08-26T09:47:35.446Z"
   },
   {
    "duration": 12,
    "start_time": "2021-08-26T09:47:35.465Z"
   },
   {
    "duration": 13,
    "start_time": "2021-08-26T09:47:35.479Z"
   },
   {
    "duration": 11,
    "start_time": "2021-08-26T09:47:35.495Z"
   },
   {
    "duration": 33,
    "start_time": "2021-08-26T09:48:20.488Z"
   },
   {
    "duration": 526,
    "start_time": "2021-08-26T09:50:44.999Z"
   },
   {
    "duration": 367,
    "start_time": "2021-08-26T09:51:01.939Z"
   },
   {
    "duration": 1522,
    "start_time": "2021-08-26T09:58:07.396Z"
   },
   {
    "duration": 50,
    "start_time": "2021-08-26T09:58:08.921Z"
   },
   {
    "duration": 24,
    "start_time": "2021-08-26T09:58:08.974Z"
   },
   {
    "duration": 47,
    "start_time": "2021-08-26T09:58:09.000Z"
   },
   {
    "duration": 28,
    "start_time": "2021-08-26T09:58:09.050Z"
   },
   {
    "duration": 37,
    "start_time": "2021-08-26T09:58:09.080Z"
   },
   {
    "duration": 737,
    "start_time": "2021-08-26T09:58:09.119Z"
   },
   {
    "duration": 27,
    "start_time": "2021-08-26T09:58:09.860Z"
   },
   {
    "duration": 15,
    "start_time": "2021-08-26T09:58:09.891Z"
   },
   {
    "duration": 63,
    "start_time": "2021-08-26T09:58:09.909Z"
   },
   {
    "duration": 20,
    "start_time": "2021-08-26T09:58:09.976Z"
   },
   {
    "duration": 172,
    "start_time": "2021-08-26T09:58:09.998Z"
   },
   {
    "duration": 22,
    "start_time": "2021-08-26T09:58:10.173Z"
   },
   {
    "duration": 39,
    "start_time": "2021-08-26T09:58:10.198Z"
   },
   {
    "duration": 39,
    "start_time": "2021-08-26T09:58:10.239Z"
   },
   {
    "duration": 16,
    "start_time": "2021-08-26T09:58:10.281Z"
   },
   {
    "duration": 57,
    "start_time": "2021-08-26T09:58:10.299Z"
   },
   {
    "duration": 23,
    "start_time": "2021-08-26T09:58:10.359Z"
   },
   {
    "duration": 1670,
    "start_time": "2021-08-26T09:58:10.385Z"
   },
   {
    "duration": 9,
    "start_time": "2021-08-26T09:58:12.058Z"
   },
   {
    "duration": 694,
    "start_time": "2021-08-26T09:58:12.070Z"
   },
   {
    "duration": 981,
    "start_time": "2021-08-26T09:58:12.767Z"
   },
   {
    "duration": 23,
    "start_time": "2021-08-26T09:58:13.761Z"
   },
   {
    "duration": 801,
    "start_time": "2021-08-26T09:58:13.788Z"
   },
   {
    "duration": 10,
    "start_time": "2021-08-26T09:58:14.592Z"
   },
   {
    "duration": 1166,
    "start_time": "2021-08-26T09:58:14.605Z"
   },
   {
    "duration": 1041,
    "start_time": "2021-08-26T09:58:15.774Z"
   },
   {
    "duration": 1087,
    "start_time": "2021-08-26T09:58:16.818Z"
   },
   {
    "duration": 112,
    "start_time": "2021-08-26T09:58:17.909Z"
   },
   {
    "duration": 1699,
    "start_time": "2021-08-26T09:58:18.024Z"
   },
   {
    "duration": 232,
    "start_time": "2021-08-26T09:58:19.726Z"
   },
   {
    "duration": 1543,
    "start_time": "2021-08-26T09:58:19.961Z"
   },
   {
    "duration": 859,
    "start_time": "2021-08-26T09:58:21.507Z"
   },
   {
    "duration": 254,
    "start_time": "2021-08-26T09:58:22.369Z"
   },
   {
    "duration": 11,
    "start_time": "2021-08-26T09:58:22.627Z"
   },
   {
    "duration": 1963,
    "start_time": "2021-08-26T09:58:22.657Z"
   },
   {
    "duration": 902,
    "start_time": "2021-08-26T09:58:24.623Z"
   },
   {
    "duration": 28,
    "start_time": "2021-08-26T09:58:25.528Z"
   },
   {
    "duration": 1889,
    "start_time": "2021-08-26T09:58:25.559Z"
   },
   {
    "duration": 10,
    "start_time": "2021-08-26T09:58:27.455Z"
   },
   {
    "duration": 1910,
    "start_time": "2021-08-26T09:58:27.468Z"
   },
   {
    "duration": 4,
    "start_time": "2021-08-26T09:58:29.382Z"
   },
   {
    "duration": 30,
    "start_time": "2021-08-26T09:58:29.389Z"
   },
   {
    "duration": 22,
    "start_time": "2021-08-26T09:58:29.422Z"
   },
   {
    "duration": 25,
    "start_time": "2021-08-26T09:58:29.447Z"
   },
   {
    "duration": 22,
    "start_time": "2021-08-26T09:58:29.475Z"
   },
   {
    "duration": 22,
    "start_time": "2021-08-26T09:58:29.501Z"
   },
   {
    "duration": 22,
    "start_time": "2021-08-26T09:58:29.526Z"
   },
   {
    "duration": 9,
    "start_time": "2021-08-26T10:01:53.369Z"
   },
   {
    "duration": 35,
    "start_time": "2021-08-26T10:09:10.664Z"
   },
   {
    "duration": 555,
    "start_time": "2021-08-26T10:10:33.805Z"
   },
   {
    "duration": 24,
    "start_time": "2021-08-26T10:17:11.828Z"
   },
   {
    "duration": 34,
    "start_time": "2021-08-26T10:17:14.650Z"
   },
   {
    "duration": 21,
    "start_time": "2021-08-26T10:17:32.284Z"
   },
   {
    "duration": 1592,
    "start_time": "2021-08-26T10:18:27.132Z"
   },
   {
    "duration": 50,
    "start_time": "2021-08-26T10:18:28.727Z"
   },
   {
    "duration": 25,
    "start_time": "2021-08-26T10:18:28.780Z"
   },
   {
    "duration": 44,
    "start_time": "2021-08-26T10:18:28.808Z"
   },
   {
    "duration": 18,
    "start_time": "2021-08-26T10:18:28.855Z"
   },
   {
    "duration": 20,
    "start_time": "2021-08-26T10:18:28.875Z"
   },
   {
    "duration": 730,
    "start_time": "2021-08-26T10:18:28.897Z"
   },
   {
    "duration": 37,
    "start_time": "2021-08-26T10:18:29.631Z"
   },
   {
    "duration": 12,
    "start_time": "2021-08-26T10:18:29.671Z"
   },
   {
    "duration": 49,
    "start_time": "2021-08-26T10:18:29.686Z"
   },
   {
    "duration": 23,
    "start_time": "2021-08-26T10:18:29.738Z"
   },
   {
    "duration": 35,
    "start_time": "2021-08-26T10:18:29.763Z"
   },
   {
    "duration": 21,
    "start_time": "2021-08-26T10:18:29.800Z"
   },
   {
    "duration": 99,
    "start_time": "2021-08-26T10:18:29.823Z"
   },
   {
    "duration": 32,
    "start_time": "2021-08-26T10:18:29.925Z"
   },
   {
    "duration": 28,
    "start_time": "2021-08-26T10:18:29.959Z"
   },
   {
    "duration": 45,
    "start_time": "2021-08-26T10:18:29.989Z"
   },
   {
    "duration": 73,
    "start_time": "2021-08-26T10:18:30.036Z"
   },
   {
    "duration": 83,
    "start_time": "2021-08-26T10:18:30.111Z"
   },
   {
    "duration": 93,
    "start_time": "2021-08-26T10:18:30.196Z"
   },
   {
    "duration": 1587,
    "start_time": "2021-08-26T10:18:30.292Z"
   },
   {
    "duration": 6,
    "start_time": "2021-08-26T10:18:31.881Z"
   },
   {
    "duration": 551,
    "start_time": "2021-08-26T10:18:31.892Z"
   },
   {
    "duration": 594,
    "start_time": "2021-08-26T10:18:32.446Z"
   },
   {
    "duration": 24,
    "start_time": "2021-08-26T10:18:33.042Z"
   },
   {
    "duration": 540,
    "start_time": "2021-08-26T10:18:33.068Z"
   },
   {
    "duration": 7,
    "start_time": "2021-08-26T10:18:33.611Z"
   },
   {
    "duration": 652,
    "start_time": "2021-08-26T10:18:33.620Z"
   },
   {
    "duration": 653,
    "start_time": "2021-08-26T10:18:34.275Z"
   },
   {
    "duration": 642,
    "start_time": "2021-08-26T10:18:34.930Z"
   },
   {
    "duration": 49,
    "start_time": "2021-08-26T10:18:35.574Z"
   },
   {
    "duration": 1241,
    "start_time": "2021-08-26T10:18:35.625Z"
   },
   {
    "duration": 152,
    "start_time": "2021-08-26T10:18:36.868Z"
   },
   {
    "duration": 1005,
    "start_time": "2021-08-26T10:18:37.023Z"
   },
   {
    "duration": 457,
    "start_time": "2021-08-26T10:18:38.030Z"
   },
   {
    "duration": 147,
    "start_time": "2021-08-26T10:18:38.489Z"
   },
   {
    "duration": 17,
    "start_time": "2021-08-26T10:18:38.639Z"
   },
   {
    "duration": 1169,
    "start_time": "2021-08-26T10:18:38.659Z"
   },
   {
    "duration": 558,
    "start_time": "2021-08-26T10:18:39.830Z"
   },
   {
    "duration": 9,
    "start_time": "2021-08-26T10:18:40.391Z"
   },
   {
    "duration": 1242,
    "start_time": "2021-08-26T10:18:40.404Z"
   },
   {
    "duration": 9,
    "start_time": "2021-08-26T10:18:41.655Z"
   },
   {
    "duration": 1143,
    "start_time": "2021-08-26T10:18:41.666Z"
   },
   {
    "duration": 3,
    "start_time": "2021-08-26T10:18:42.811Z"
   },
   {
    "duration": 11,
    "start_time": "2021-08-26T10:18:42.817Z"
   },
   {
    "duration": 28,
    "start_time": "2021-08-26T10:18:42.831Z"
   },
   {
    "duration": 15,
    "start_time": "2021-08-26T10:18:42.861Z"
   },
   {
    "duration": 9,
    "start_time": "2021-08-26T10:18:42.878Z"
   },
   {
    "duration": 8,
    "start_time": "2021-08-26T10:18:42.889Z"
   },
   {
    "duration": 14,
    "start_time": "2021-08-26T10:18:42.899Z"
   },
   {
    "duration": 27,
    "start_time": "2021-08-26T10:25:36.388Z"
   },
   {
    "duration": 22,
    "start_time": "2021-08-26T10:25:48.737Z"
   },
   {
    "duration": 22,
    "start_time": "2021-08-26T10:26:01.540Z"
   },
   {
    "duration": 21,
    "start_time": "2021-08-26T10:35:15.812Z"
   },
   {
    "duration": 21,
    "start_time": "2021-08-26T10:35:33.015Z"
   },
   {
    "duration": 21,
    "start_time": "2021-08-26T10:35:37.001Z"
   },
   {
    "duration": 22,
    "start_time": "2021-08-26T10:35:47.457Z"
   },
   {
    "duration": 21,
    "start_time": "2021-08-26T10:36:04.047Z"
   },
   {
    "duration": 20,
    "start_time": "2021-08-26T10:36:11.496Z"
   },
   {
    "duration": 130,
    "start_time": "2021-08-26T10:36:21.938Z"
   },
   {
    "duration": 22,
    "start_time": "2021-08-26T10:38:38.441Z"
   },
   {
    "duration": 30,
    "start_time": "2021-08-26T10:38:42.130Z"
   },
   {
    "duration": 123,
    "start_time": "2021-08-26T10:38:43.192Z"
   },
   {
    "duration": 21,
    "start_time": "2021-08-26T10:38:49.975Z"
   },
   {
    "duration": 1584,
    "start_time": "2021-08-26T10:39:00.936Z"
   },
   {
    "duration": 49,
    "start_time": "2021-08-26T10:39:02.523Z"
   },
   {
    "duration": 74,
    "start_time": "2021-08-26T10:39:02.575Z"
   },
   {
    "duration": 72,
    "start_time": "2021-08-26T10:39:02.652Z"
   },
   {
    "duration": 54,
    "start_time": "2021-08-26T10:39:02.727Z"
   },
   {
    "duration": 65,
    "start_time": "2021-08-26T10:39:02.784Z"
   },
   {
    "duration": 767,
    "start_time": "2021-08-26T10:39:02.851Z"
   },
   {
    "duration": 36,
    "start_time": "2021-08-26T10:39:03.621Z"
   },
   {
    "duration": 13,
    "start_time": "2021-08-26T10:39:03.662Z"
   },
   {
    "duration": 56,
    "start_time": "2021-08-26T10:39:03.678Z"
   },
   {
    "duration": 56,
    "start_time": "2021-08-26T10:39:03.736Z"
   },
   {
    "duration": 83,
    "start_time": "2021-08-26T10:39:03.795Z"
   },
   {
    "duration": 40,
    "start_time": "2021-08-26T10:39:03.880Z"
   },
   {
    "duration": 109,
    "start_time": "2021-08-26T10:39:03.923Z"
   },
   {
    "duration": 35,
    "start_time": "2021-08-26T10:39:04.035Z"
   },
   {
    "duration": 49,
    "start_time": "2021-08-26T10:39:04.072Z"
   },
   {
    "duration": 31,
    "start_time": "2021-08-26T10:39:04.124Z"
   },
   {
    "duration": 36,
    "start_time": "2021-08-26T10:39:04.158Z"
   },
   {
    "duration": 107,
    "start_time": "2021-08-26T10:39:04.197Z"
   },
   {
    "duration": 54,
    "start_time": "2021-08-26T10:39:04.307Z"
   },
   {
    "duration": 1616,
    "start_time": "2021-08-26T10:39:04.363Z"
   },
   {
    "duration": 6,
    "start_time": "2021-08-26T10:39:05.982Z"
   },
   {
    "duration": 444,
    "start_time": "2021-08-26T10:39:05.990Z"
   },
   {
    "duration": 606,
    "start_time": "2021-08-26T10:39:06.437Z"
   },
   {
    "duration": 17,
    "start_time": "2021-08-26T10:39:07.056Z"
   },
   {
    "duration": 588,
    "start_time": "2021-08-26T10:39:07.076Z"
   },
   {
    "duration": 9,
    "start_time": "2021-08-26T10:39:07.673Z"
   },
   {
    "duration": 678,
    "start_time": "2021-08-26T10:39:07.686Z"
   },
   {
    "duration": 677,
    "start_time": "2021-08-26T10:39:08.366Z"
   },
   {
    "duration": 661,
    "start_time": "2021-08-26T10:39:09.046Z"
   },
   {
    "duration": 69,
    "start_time": "2021-08-26T10:39:09.709Z"
   },
   {
    "duration": 1192,
    "start_time": "2021-08-26T10:39:09.780Z"
   },
   {
    "duration": 163,
    "start_time": "2021-08-26T10:39:10.975Z"
   },
   {
    "duration": 1098,
    "start_time": "2021-08-26T10:39:11.141Z"
   },
   {
    "duration": 482,
    "start_time": "2021-08-26T10:39:12.242Z"
   },
   {
    "duration": 169,
    "start_time": "2021-08-26T10:39:12.726Z"
   },
   {
    "duration": 61,
    "start_time": "2021-08-26T10:39:12.897Z"
   },
   {
    "duration": 1484,
    "start_time": "2021-08-26T10:39:12.961Z"
   },
   {
    "duration": 556,
    "start_time": "2021-08-26T10:39:14.447Z"
   },
   {
    "duration": 9,
    "start_time": "2021-08-26T10:39:15.006Z"
   },
   {
    "duration": 1314,
    "start_time": "2021-08-26T10:39:15.017Z"
   },
   {
    "duration": 9,
    "start_time": "2021-08-26T10:39:16.334Z"
   },
   {
    "duration": 1210,
    "start_time": "2021-08-26T10:39:16.345Z"
   },
   {
    "duration": 3,
    "start_time": "2021-08-26T10:39:17.558Z"
   },
   {
    "duration": 29,
    "start_time": "2021-08-26T10:39:17.564Z"
   },
   {
    "duration": 33,
    "start_time": "2021-08-26T10:39:17.595Z"
   },
   {
    "duration": 31,
    "start_time": "2021-08-26T10:39:17.630Z"
   },
   {
    "duration": 27,
    "start_time": "2021-08-26T10:39:17.663Z"
   },
   {
    "duration": 30,
    "start_time": "2021-08-26T10:39:17.692Z"
   },
   {
    "duration": 29,
    "start_time": "2021-08-26T10:39:17.724Z"
   },
   {
    "duration": 7,
    "start_time": "2021-08-26T10:40:27.788Z"
   },
   {
    "duration": 27,
    "start_time": "2021-08-26T10:47:40.837Z"
   },
   {
    "duration": 1523,
    "start_time": "2021-08-26T10:51:53.083Z"
   },
   {
    "duration": 48,
    "start_time": "2021-08-26T10:51:54.609Z"
   },
   {
    "duration": 23,
    "start_time": "2021-08-26T10:51:54.660Z"
   },
   {
    "duration": 24,
    "start_time": "2021-08-26T10:51:54.685Z"
   },
   {
    "duration": 8,
    "start_time": "2021-08-26T10:51:54.712Z"
   },
   {
    "duration": 7,
    "start_time": "2021-08-26T10:51:54.722Z"
   },
   {
    "duration": 713,
    "start_time": "2021-08-26T10:51:54.756Z"
   },
   {
    "duration": 24,
    "start_time": "2021-08-26T10:51:55.473Z"
   },
   {
    "duration": 24,
    "start_time": "2021-08-26T10:51:55.500Z"
   },
   {
    "duration": 46,
    "start_time": "2021-08-26T10:51:55.527Z"
   },
   {
    "duration": 25,
    "start_time": "2021-08-26T10:51:55.576Z"
   },
   {
    "duration": 112,
    "start_time": "2021-08-26T10:51:55.603Z"
   },
   {
    "duration": 39,
    "start_time": "2021-08-26T10:51:55.718Z"
   },
   {
    "duration": 24,
    "start_time": "2021-08-26T10:51:55.760Z"
   },
   {
    "duration": 25,
    "start_time": "2021-08-26T10:51:55.787Z"
   },
   {
    "duration": 9,
    "start_time": "2021-08-26T10:51:55.814Z"
   },
   {
    "duration": 32,
    "start_time": "2021-08-26T10:51:55.825Z"
   },
   {
    "duration": 13,
    "start_time": "2021-08-26T10:51:55.859Z"
   },
   {
    "duration": 1498,
    "start_time": "2021-08-26T10:51:55.875Z"
   },
   {
    "duration": 6,
    "start_time": "2021-08-26T10:51:57.376Z"
   },
   {
    "duration": 509,
    "start_time": "2021-08-26T10:51:57.384Z"
   },
   {
    "duration": 596,
    "start_time": "2021-08-26T10:51:57.896Z"
   },
   {
    "duration": 15,
    "start_time": "2021-08-26T10:51:58.497Z"
   },
   {
    "duration": 502,
    "start_time": "2021-08-26T10:51:58.515Z"
   },
   {
    "duration": 8,
    "start_time": "2021-08-26T10:51:59.019Z"
   },
   {
    "duration": 635,
    "start_time": "2021-08-26T10:51:59.030Z"
   },
   {
    "duration": 659,
    "start_time": "2021-08-26T10:51:59.668Z"
   },
   {
    "duration": 654,
    "start_time": "2021-08-26T10:52:00.330Z"
   },
   {
    "duration": 71,
    "start_time": "2021-08-26T10:52:00.987Z"
   },
   {
    "duration": 1194,
    "start_time": "2021-08-26T10:52:01.060Z"
   },
   {
    "duration": 154,
    "start_time": "2021-08-26T10:52:02.257Z"
   },
   {
    "duration": 994,
    "start_time": "2021-08-26T10:52:02.413Z"
   },
   {
    "duration": 480,
    "start_time": "2021-08-26T10:52:03.410Z"
   },
   {
    "duration": 164,
    "start_time": "2021-08-26T10:52:03.893Z"
   },
   {
    "duration": 8,
    "start_time": "2021-08-26T10:52:04.059Z"
   },
   {
    "duration": 1217,
    "start_time": "2021-08-26T10:52:04.069Z"
   },
   {
    "duration": 552,
    "start_time": "2021-08-26T10:52:05.289Z"
   },
   {
    "duration": 17,
    "start_time": "2021-08-26T10:52:05.844Z"
   },
   {
    "duration": 1273,
    "start_time": "2021-08-26T10:52:05.863Z"
   },
   {
    "duration": 17,
    "start_time": "2021-08-26T10:52:07.138Z"
   },
   {
    "duration": 1166,
    "start_time": "2021-08-26T10:52:07.158Z"
   },
   {
    "duration": 3,
    "start_time": "2021-08-26T10:52:08.327Z"
   },
   {
    "duration": 23,
    "start_time": "2021-08-26T10:52:08.332Z"
   },
   {
    "duration": 16,
    "start_time": "2021-08-26T10:52:08.358Z"
   },
   {
    "duration": 15,
    "start_time": "2021-08-26T10:52:08.376Z"
   },
   {
    "duration": 11,
    "start_time": "2021-08-26T10:52:08.394Z"
   },
   {
    "duration": 17,
    "start_time": "2021-08-26T10:52:08.407Z"
   },
   {
    "duration": 12,
    "start_time": "2021-08-26T10:52:08.427Z"
   },
   {
    "duration": 574,
    "start_time": "2021-08-26T10:58:53.982Z"
   },
   {
    "duration": 428,
    "start_time": "2021-08-26T10:59:22.980Z"
   },
   {
    "duration": 250,
    "start_time": "2021-08-26T10:59:33.322Z"
   },
   {
    "duration": 12,
    "start_time": "2021-08-26T11:07:29.437Z"
   },
   {
    "duration": 361,
    "start_time": "2021-08-26T11:07:42.694Z"
   },
   {
    "duration": 5,
    "start_time": "2021-08-26T11:07:53.056Z"
   },
   {
    "duration": 125,
    "start_time": "2021-08-26T11:08:05.171Z"
   },
   {
    "duration": 1930,
    "start_time": "2021-08-26T11:08:12.303Z"
   },
   {
    "duration": 559,
    "start_time": "2021-08-26T11:08:29.919Z"
   },
   {
    "duration": 1929,
    "start_time": "2021-08-26T11:08:39.204Z"
   },
   {
    "duration": 10,
    "start_time": "2021-08-26T11:08:58.987Z"
   },
   {
    "duration": 1968,
    "start_time": "2021-08-26T11:08:59.890Z"
   },
   {
    "duration": 135,
    "start_time": "2021-08-26T11:09:42.222Z"
   },
   {
    "duration": 1235,
    "start_time": "2021-08-26T11:09:51.614Z"
   },
   {
    "duration": 13,
    "start_time": "2021-08-26T11:46:12.240Z"
   },
   {
    "duration": 11,
    "start_time": "2021-08-26T11:46:43.315Z"
   },
   {
    "duration": 13,
    "start_time": "2021-08-26T11:46:56.541Z"
   },
   {
    "duration": 13,
    "start_time": "2021-08-26T11:50:20.809Z"
   },
   {
    "duration": 12,
    "start_time": "2021-08-26T11:50:39.398Z"
   },
   {
    "duration": 14,
    "start_time": "2021-08-26T12:00:44.615Z"
   },
   {
    "duration": 7,
    "start_time": "2021-08-26T12:01:03.549Z"
   },
   {
    "duration": 8,
    "start_time": "2021-08-26T12:01:55.615Z"
   },
   {
    "duration": 8,
    "start_time": "2021-08-26T12:03:10.885Z"
   },
   {
    "duration": 8,
    "start_time": "2021-08-26T12:03:19.002Z"
   },
   {
    "duration": 13,
    "start_time": "2021-08-26T12:04:08.529Z"
   },
   {
    "duration": 1482,
    "start_time": "2021-08-26T12:22:08.157Z"
   },
   {
    "duration": 52,
    "start_time": "2021-08-26T12:22:09.642Z"
   },
   {
    "duration": 25,
    "start_time": "2021-08-26T12:22:09.697Z"
   },
   {
    "duration": 32,
    "start_time": "2021-08-26T12:22:09.725Z"
   },
   {
    "duration": 8,
    "start_time": "2021-08-26T12:22:09.759Z"
   },
   {
    "duration": 8,
    "start_time": "2021-08-26T12:22:09.770Z"
   },
   {
    "duration": 780,
    "start_time": "2021-08-26T12:22:09.780Z"
   },
   {
    "duration": 24,
    "start_time": "2021-08-26T12:22:10.565Z"
   },
   {
    "duration": 18,
    "start_time": "2021-08-26T12:22:10.592Z"
   },
   {
    "duration": 60,
    "start_time": "2021-08-26T12:22:10.612Z"
   },
   {
    "duration": 29,
    "start_time": "2021-08-26T12:22:10.674Z"
   },
   {
    "duration": 130,
    "start_time": "2021-08-26T12:22:10.707Z"
   },
   {
    "duration": 33,
    "start_time": "2021-08-26T12:22:10.839Z"
   },
   {
    "duration": 38,
    "start_time": "2021-08-26T12:22:10.875Z"
   },
   {
    "duration": 43,
    "start_time": "2021-08-26T12:22:10.917Z"
   },
   {
    "duration": 9,
    "start_time": "2021-08-26T12:22:10.962Z"
   },
   {
    "duration": 16,
    "start_time": "2021-08-26T12:22:10.974Z"
   },
   {
    "duration": 15,
    "start_time": "2021-08-26T12:22:10.993Z"
   },
   {
    "duration": 1725,
    "start_time": "2021-08-26T12:22:11.010Z"
   },
   {
    "duration": 7,
    "start_time": "2021-08-26T12:22:12.737Z"
   },
   {
    "duration": 410,
    "start_time": "2021-08-26T12:22:12.756Z"
   },
   {
    "duration": 627,
    "start_time": "2021-08-26T12:22:13.169Z"
   },
   {
    "duration": 17,
    "start_time": "2021-08-26T12:22:13.804Z"
   },
   {
    "duration": 523,
    "start_time": "2021-08-26T12:22:13.824Z"
   },
   {
    "duration": 12,
    "start_time": "2021-08-26T12:22:14.350Z"
   },
   {
    "duration": 746,
    "start_time": "2021-08-26T12:22:14.365Z"
   },
   {
    "duration": 655,
    "start_time": "2021-08-26T12:22:15.113Z"
   },
   {
    "duration": 665,
    "start_time": "2021-08-26T12:22:15.771Z"
   },
   {
    "duration": 81,
    "start_time": "2021-08-26T12:22:16.438Z"
   },
   {
    "duration": 1251,
    "start_time": "2021-08-26T12:22:16.522Z"
   },
   {
    "duration": 164,
    "start_time": "2021-08-26T12:22:17.775Z"
   },
   {
    "duration": 987,
    "start_time": "2021-08-26T12:22:17.942Z"
   },
   {
    "duration": 472,
    "start_time": "2021-08-26T12:22:18.931Z"
   },
   {
    "duration": 152,
    "start_time": "2021-08-26T12:22:19.405Z"
   },
   {
    "duration": 8,
    "start_time": "2021-08-26T12:22:19.560Z"
   },
   {
    "duration": 1258,
    "start_time": "2021-08-26T12:22:19.570Z"
   },
   {
    "duration": 576,
    "start_time": "2021-08-26T12:22:20.830Z"
   },
   {
    "duration": 9,
    "start_time": "2021-08-26T12:22:21.409Z"
   },
   {
    "duration": 1258,
    "start_time": "2021-08-26T12:22:21.421Z"
   },
   {
    "duration": 9,
    "start_time": "2021-08-26T12:22:22.683Z"
   },
   {
    "duration": 1227,
    "start_time": "2021-08-26T12:22:22.694Z"
   },
   {
    "duration": 3,
    "start_time": "2021-08-26T12:22:23.924Z"
   },
   {
    "duration": 26,
    "start_time": "2021-08-26T12:22:23.930Z"
   },
   {
    "duration": 16,
    "start_time": "2021-08-26T12:22:23.959Z"
   },
   {
    "duration": 12,
    "start_time": "2021-08-26T12:22:23.978Z"
   },
   {
    "duration": 21,
    "start_time": "2021-08-26T12:22:23.992Z"
   },
   {
    "duration": 17,
    "start_time": "2021-08-26T12:22:24.016Z"
   },
   {
    "duration": 17,
    "start_time": "2021-08-26T12:22:24.035Z"
   },
   {
    "duration": 1555,
    "start_time": "2021-08-26T12:50:03.579Z"
   },
   {
    "duration": 50,
    "start_time": "2021-08-26T12:50:05.136Z"
   },
   {
    "duration": 24,
    "start_time": "2021-08-26T12:50:05.189Z"
   },
   {
    "duration": 30,
    "start_time": "2021-08-26T12:50:05.216Z"
   },
   {
    "duration": 14,
    "start_time": "2021-08-26T12:50:05.257Z"
   },
   {
    "duration": 20,
    "start_time": "2021-08-26T12:50:05.273Z"
   },
   {
    "duration": 764,
    "start_time": "2021-08-26T12:50:05.296Z"
   },
   {
    "duration": 25,
    "start_time": "2021-08-26T12:50:06.065Z"
   },
   {
    "duration": 20,
    "start_time": "2021-08-26T12:50:06.094Z"
   },
   {
    "duration": 55,
    "start_time": "2021-08-26T12:50:06.117Z"
   },
   {
    "duration": 26,
    "start_time": "2021-08-26T12:50:06.175Z"
   },
   {
    "duration": 98,
    "start_time": "2021-08-26T12:50:06.203Z"
   },
   {
    "duration": 23,
    "start_time": "2021-08-26T12:50:06.303Z"
   },
   {
    "duration": 46,
    "start_time": "2021-08-26T12:50:06.329Z"
   },
   {
    "duration": 34,
    "start_time": "2021-08-26T12:50:06.377Z"
   },
   {
    "duration": 23,
    "start_time": "2021-08-26T12:50:06.413Z"
   },
   {
    "duration": 27,
    "start_time": "2021-08-26T12:50:06.439Z"
   },
   {
    "duration": 27,
    "start_time": "2021-08-26T12:50:06.469Z"
   },
   {
    "duration": 1567,
    "start_time": "2021-08-26T12:50:06.498Z"
   },
   {
    "duration": 7,
    "start_time": "2021-08-26T12:50:08.068Z"
   },
   {
    "duration": 412,
    "start_time": "2021-08-26T12:50:08.078Z"
   },
   {
    "duration": 598,
    "start_time": "2021-08-26T12:50:08.493Z"
   },
   {
    "duration": 17,
    "start_time": "2021-08-26T12:50:09.099Z"
   },
   {
    "duration": 508,
    "start_time": "2021-08-26T12:50:09.119Z"
   },
   {
    "duration": 9,
    "start_time": "2021-08-26T12:50:09.630Z"
   },
   {
    "duration": 638,
    "start_time": "2021-08-26T12:50:09.657Z"
   },
   {
    "duration": 731,
    "start_time": "2021-08-26T12:50:10.297Z"
   },
   {
    "duration": 641,
    "start_time": "2021-08-26T12:50:11.030Z"
   },
   {
    "duration": 55,
    "start_time": "2021-08-26T12:50:11.674Z"
   },
   {
    "duration": 1264,
    "start_time": "2021-08-26T12:50:11.731Z"
   },
   {
    "duration": 157,
    "start_time": "2021-08-26T12:50:12.999Z"
   },
   {
    "duration": 966,
    "start_time": "2021-08-26T12:50:13.158Z"
   },
   {
    "duration": 466,
    "start_time": "2021-08-26T12:50:14.126Z"
   },
   {
    "duration": 148,
    "start_time": "2021-08-26T12:50:14.594Z"
   },
   {
    "duration": 16,
    "start_time": "2021-08-26T12:50:14.745Z"
   },
   {
    "duration": 1154,
    "start_time": "2021-08-26T12:50:14.764Z"
   },
   {
    "duration": 551,
    "start_time": "2021-08-26T12:50:15.920Z"
   },
   {
    "duration": 8,
    "start_time": "2021-08-26T12:50:16.474Z"
   },
   {
    "duration": 1250,
    "start_time": "2021-08-26T12:50:16.485Z"
   },
   {
    "duration": 20,
    "start_time": "2021-08-26T12:50:17.738Z"
   },
   {
    "duration": 1164,
    "start_time": "2021-08-26T12:50:17.761Z"
   },
   {
    "duration": 4,
    "start_time": "2021-08-26T12:50:18.928Z"
   },
   {
    "duration": 27,
    "start_time": "2021-08-26T12:50:18.935Z"
   },
   {
    "duration": 10,
    "start_time": "2021-08-26T12:50:18.964Z"
   },
   {
    "duration": 10,
    "start_time": "2021-08-26T12:50:18.976Z"
   },
   {
    "duration": 9,
    "start_time": "2021-08-26T12:50:18.989Z"
   },
   {
    "duration": 11,
    "start_time": "2021-08-26T12:50:19.001Z"
   },
   {
    "duration": 43,
    "start_time": "2021-08-26T12:50:19.015Z"
   },
   {
    "duration": 209,
    "start_time": "2021-08-26T16:57:07.916Z"
   },
   {
    "duration": 8,
    "start_time": "2021-08-26T16:57:12.617Z"
   },
   {
    "duration": 5,
    "start_time": "2021-08-26T16:57:28.801Z"
   },
   {
    "duration": 4,
    "start_time": "2021-08-26T16:57:43.666Z"
   },
   {
    "duration": 4,
    "start_time": "2021-08-26T16:58:35.133Z"
   },
   {
    "duration": 5,
    "start_time": "2021-08-26T16:58:44.923Z"
   },
   {
    "duration": 434,
    "start_time": "2021-08-26T17:23:59.240Z"
   },
   {
    "duration": 1625,
    "start_time": "2021-08-26T17:25:21.298Z"
   },
   {
    "duration": 53,
    "start_time": "2021-08-26T17:25:22.925Z"
   },
   {
    "duration": 24,
    "start_time": "2021-08-26T17:25:22.980Z"
   },
   {
    "duration": 42,
    "start_time": "2021-08-26T17:25:23.007Z"
   },
   {
    "duration": 25,
    "start_time": "2021-08-26T17:25:23.051Z"
   },
   {
    "duration": 31,
    "start_time": "2021-08-26T17:25:23.078Z"
   },
   {
    "duration": 1028,
    "start_time": "2021-08-26T17:25:23.111Z"
   },
   {
    "duration": 31,
    "start_time": "2021-08-26T17:25:24.143Z"
   },
   {
    "duration": 23,
    "start_time": "2021-08-26T17:25:24.177Z"
   },
   {
    "duration": 11,
    "start_time": "2021-08-26T17:25:24.202Z"
   },
   {
    "duration": 21,
    "start_time": "2021-08-26T17:25:24.216Z"
   },
   {
    "duration": 41,
    "start_time": "2021-08-26T17:25:24.240Z"
   },
   {
    "duration": 29,
    "start_time": "2021-08-26T17:25:24.284Z"
   },
   {
    "duration": 113,
    "start_time": "2021-08-26T17:25:24.316Z"
   },
   {
    "duration": 35,
    "start_time": "2021-08-26T17:25:24.431Z"
   },
   {
    "duration": 23,
    "start_time": "2021-08-26T17:25:24.468Z"
   },
   {
    "duration": 31,
    "start_time": "2021-08-26T17:25:24.493Z"
   },
   {
    "duration": 21,
    "start_time": "2021-08-26T17:25:24.527Z"
   },
   {
    "duration": 24,
    "start_time": "2021-08-26T17:25:24.551Z"
   },
   {
    "duration": 17,
    "start_time": "2021-08-26T17:25:24.578Z"
   },
   {
    "duration": 1733,
    "start_time": "2021-08-26T17:25:24.597Z"
   },
   {
    "duration": 7,
    "start_time": "2021-08-26T17:25:26.332Z"
   },
   {
    "duration": 425,
    "start_time": "2021-08-26T17:25:26.358Z"
   },
   {
    "duration": 628,
    "start_time": "2021-08-26T17:25:26.786Z"
   },
   {
    "duration": 16,
    "start_time": "2021-08-26T17:25:27.417Z"
   },
   {
    "duration": 527,
    "start_time": "2021-08-26T17:25:27.435Z"
   },
   {
    "duration": 8,
    "start_time": "2021-08-26T17:25:27.965Z"
   },
   {
    "duration": 703,
    "start_time": "2021-08-26T17:25:27.975Z"
   },
   {
    "duration": 677,
    "start_time": "2021-08-26T17:25:28.681Z"
   },
   {
    "duration": 674,
    "start_time": "2021-08-26T17:25:29.360Z"
   },
   {
    "duration": 65,
    "start_time": "2021-08-26T17:25:30.036Z"
   },
   {
    "duration": 1178,
    "start_time": "2021-08-26T17:25:30.103Z"
   },
   {
    "duration": 161,
    "start_time": "2021-08-26T17:25:31.283Z"
   },
   {
    "duration": 987,
    "start_time": "2021-08-26T17:25:31.447Z"
   },
   {
    "duration": 473,
    "start_time": "2021-08-26T17:25:32.436Z"
   },
   {
    "duration": 149,
    "start_time": "2021-08-26T17:25:32.912Z"
   },
   {
    "duration": 10,
    "start_time": "2021-08-26T17:25:33.064Z"
   },
   {
    "duration": 1483,
    "start_time": "2021-08-26T17:25:33.076Z"
   },
   {
    "duration": 749,
    "start_time": "2021-08-26T17:25:34.562Z"
   },
   {
    "duration": 10,
    "start_time": "2021-08-26T17:25:35.314Z"
   },
   {
    "duration": 1329,
    "start_time": "2021-08-26T17:25:35.327Z"
   },
   {
    "duration": 8,
    "start_time": "2021-08-26T17:25:36.658Z"
   },
   {
    "duration": 1288,
    "start_time": "2021-08-26T17:25:36.669Z"
   },
   {
    "duration": 4,
    "start_time": "2021-08-26T17:25:37.959Z"
   },
   {
    "duration": 19,
    "start_time": "2021-08-26T17:25:37.966Z"
   },
   {
    "duration": 30,
    "start_time": "2021-08-26T17:25:37.987Z"
   },
   {
    "duration": 19,
    "start_time": "2021-08-26T17:25:38.019Z"
   },
   {
    "duration": 10,
    "start_time": "2021-08-26T17:25:38.040Z"
   },
   {
    "duration": 12,
    "start_time": "2021-08-26T17:25:38.052Z"
   },
   {
    "duration": 12,
    "start_time": "2021-08-26T17:25:38.067Z"
   },
   {
    "duration": 579,
    "start_time": "2021-08-26T17:27:23.245Z"
   },
   {
    "duration": 1679,
    "start_time": "2021-08-26T17:27:42.362Z"
   },
   {
    "duration": 51,
    "start_time": "2021-08-26T17:27:44.044Z"
   },
   {
    "duration": 30,
    "start_time": "2021-08-26T17:27:44.099Z"
   },
   {
    "duration": 30,
    "start_time": "2021-08-26T17:27:44.132Z"
   },
   {
    "duration": 8,
    "start_time": "2021-08-26T17:27:44.165Z"
   },
   {
    "duration": 8,
    "start_time": "2021-08-26T17:27:44.175Z"
   },
   {
    "duration": 894,
    "start_time": "2021-08-26T17:27:44.185Z"
   },
   {
    "duration": 25,
    "start_time": "2021-08-26T17:27:45.083Z"
   },
   {
    "duration": 16,
    "start_time": "2021-08-26T17:27:45.111Z"
   },
   {
    "duration": 30,
    "start_time": "2021-08-26T17:27:45.129Z"
   },
   {
    "duration": 18,
    "start_time": "2021-08-26T17:27:45.161Z"
   },
   {
    "duration": 560,
    "start_time": "2021-08-26T17:27:45.182Z"
   },
   {
    "duration": -521,
    "start_time": "2021-08-26T17:27:46.267Z"
   },
   {
    "duration": -524,
    "start_time": "2021-08-26T17:27:46.272Z"
   },
   {
    "duration": -526,
    "start_time": "2021-08-26T17:27:46.276Z"
   },
   {
    "duration": -527,
    "start_time": "2021-08-26T17:27:46.279Z"
   },
   {
    "duration": -528,
    "start_time": "2021-08-26T17:27:46.281Z"
   },
   {
    "duration": -529,
    "start_time": "2021-08-26T17:27:46.284Z"
   },
   {
    "duration": -530,
    "start_time": "2021-08-26T17:27:46.287Z"
   },
   {
    "duration": -533,
    "start_time": "2021-08-26T17:27:46.291Z"
   },
   {
    "duration": -533,
    "start_time": "2021-08-26T17:27:46.293Z"
   },
   {
    "duration": -535,
    "start_time": "2021-08-26T17:27:46.296Z"
   },
   {
    "duration": -537,
    "start_time": "2021-08-26T17:27:46.299Z"
   },
   {
    "duration": -537,
    "start_time": "2021-08-26T17:27:46.301Z"
   },
   {
    "duration": -539,
    "start_time": "2021-08-26T17:27:46.304Z"
   },
   {
    "duration": -541,
    "start_time": "2021-08-26T17:27:46.308Z"
   },
   {
    "duration": -548,
    "start_time": "2021-08-26T17:27:46.316Z"
   },
   {
    "duration": -550,
    "start_time": "2021-08-26T17:27:46.319Z"
   },
   {
    "duration": -550,
    "start_time": "2021-08-26T17:27:46.321Z"
   },
   {
    "duration": -554,
    "start_time": "2021-08-26T17:27:46.326Z"
   },
   {
    "duration": -555,
    "start_time": "2021-08-26T17:27:46.329Z"
   },
   {
    "duration": -556,
    "start_time": "2021-08-26T17:27:46.332Z"
   },
   {
    "duration": -557,
    "start_time": "2021-08-26T17:27:46.334Z"
   },
   {
    "duration": -557,
    "start_time": "2021-08-26T17:27:46.337Z"
   },
   {
    "duration": -565,
    "start_time": "2021-08-26T17:27:46.346Z"
   },
   {
    "duration": -567,
    "start_time": "2021-08-26T17:27:46.349Z"
   },
   {
    "duration": -569,
    "start_time": "2021-08-26T17:27:46.353Z"
   },
   {
    "duration": -571,
    "start_time": "2021-08-26T17:27:46.356Z"
   },
   {
    "duration": -573,
    "start_time": "2021-08-26T17:27:46.360Z"
   },
   {
    "duration": -575,
    "start_time": "2021-08-26T17:27:46.363Z"
   },
   {
    "duration": -576,
    "start_time": "2021-08-26T17:27:46.366Z"
   },
   {
    "duration": -577,
    "start_time": "2021-08-26T17:27:46.369Z"
   },
   {
    "duration": -579,
    "start_time": "2021-08-26T17:27:46.372Z"
   },
   {
    "duration": -582,
    "start_time": "2021-08-26T17:27:46.376Z"
   },
   {
    "duration": -523,
    "start_time": "2021-08-26T17:27:46.379Z"
   },
   {
    "duration": -525,
    "start_time": "2021-08-26T17:27:46.382Z"
   },
   {
    "duration": -532,
    "start_time": "2021-08-26T17:27:46.391Z"
   },
   {
    "duration": -533,
    "start_time": "2021-08-26T17:27:46.394Z"
   },
   {
    "duration": -536,
    "start_time": "2021-08-26T17:27:46.398Z"
   },
   {
    "duration": -538,
    "start_time": "2021-08-26T17:27:46.402Z"
   },
   {
    "duration": 29,
    "start_time": "2021-08-26T17:28:16.223Z"
   },
   {
    "duration": 29,
    "start_time": "2021-08-26T17:28:18.016Z"
   },
   {
    "duration": 89,
    "start_time": "2021-08-26T17:28:20.240Z"
   },
   {
    "duration": 24,
    "start_time": "2021-08-26T17:28:21.942Z"
   },
   {
    "duration": 24,
    "start_time": "2021-08-26T17:28:23.336Z"
   },
   {
    "duration": 11,
    "start_time": "2021-08-26T17:28:25.901Z"
   },
   {
    "duration": 8,
    "start_time": "2021-08-26T17:28:27.906Z"
   },
   {
    "duration": 7,
    "start_time": "2021-08-26T17:28:28.097Z"
   },
   {
    "duration": 6,
    "start_time": "2021-08-26T17:28:28.490Z"
   },
   {
    "duration": 1615,
    "start_time": "2021-08-26T17:28:28.875Z"
   },
   {
    "duration": 7,
    "start_time": "2021-08-26T17:28:30.494Z"
   },
   {
    "duration": 477,
    "start_time": "2021-08-26T17:28:31.843Z"
   },
   {
    "duration": 614,
    "start_time": "2021-08-26T17:28:32.323Z"
   },
   {
    "duration": 31,
    "start_time": "2021-08-26T17:28:32.939Z"
   },
   {
    "duration": 501,
    "start_time": "2021-08-26T17:28:32.973Z"
   },
   {
    "duration": 8,
    "start_time": "2021-08-26T17:28:33.476Z"
   },
   {
    "duration": 638,
    "start_time": "2021-08-26T17:28:33.487Z"
   },
   {
    "duration": 723,
    "start_time": "2021-08-26T17:28:35.371Z"
   },
   {
    "duration": 647,
    "start_time": "2021-08-26T17:28:36.097Z"
   },
   {
    "duration": 53,
    "start_time": "2021-08-26T17:28:38.036Z"
   },
   {
    "duration": 1190,
    "start_time": "2021-08-26T17:28:39.472Z"
   },
   {
    "duration": 1531,
    "start_time": "2021-08-26T17:29:08.653Z"
   },
   {
    "duration": 51,
    "start_time": "2021-08-26T17:29:10.186Z"
   },
   {
    "duration": 31,
    "start_time": "2021-08-26T17:29:10.241Z"
   },
   {
    "duration": 18,
    "start_time": "2021-08-26T17:29:10.275Z"
   },
   {
    "duration": 12,
    "start_time": "2021-08-26T17:29:10.296Z"
   },
   {
    "duration": 19,
    "start_time": "2021-08-26T17:29:10.311Z"
   },
   {
    "duration": 901,
    "start_time": "2021-08-26T17:29:10.357Z"
   },
   {
    "duration": 28,
    "start_time": "2021-08-26T17:29:11.261Z"
   },
   {
    "duration": 15,
    "start_time": "2021-08-26T17:29:11.295Z"
   },
   {
    "duration": 13,
    "start_time": "2021-08-26T17:29:11.313Z"
   },
   {
    "duration": 33,
    "start_time": "2021-08-26T17:29:11.328Z"
   },
   {
    "duration": 33,
    "start_time": "2021-08-26T17:29:11.364Z"
   },
   {
    "duration": 61,
    "start_time": "2021-08-26T17:29:11.399Z"
   },
   {
    "duration": 103,
    "start_time": "2021-08-26T17:29:11.463Z"
   },
   {
    "duration": 25,
    "start_time": "2021-08-26T17:29:11.570Z"
   },
   {
    "duration": 25,
    "start_time": "2021-08-26T17:29:11.597Z"
   },
   {
    "duration": 37,
    "start_time": "2021-08-26T17:29:11.624Z"
   },
   {
    "duration": 8,
    "start_time": "2021-08-26T17:29:11.664Z"
   },
   {
    "duration": 11,
    "start_time": "2021-08-26T17:29:11.674Z"
   },
   {
    "duration": 14,
    "start_time": "2021-08-26T17:29:11.688Z"
   },
   {
    "duration": 1654,
    "start_time": "2021-08-26T17:29:11.705Z"
   },
   {
    "duration": 7,
    "start_time": "2021-08-26T17:29:13.361Z"
   },
   {
    "duration": 424,
    "start_time": "2021-08-26T17:29:13.370Z"
   },
   {
    "duration": 617,
    "start_time": "2021-08-26T17:29:13.796Z"
   },
   {
    "duration": 16,
    "start_time": "2021-08-26T17:29:14.415Z"
   },
   {
    "duration": 506,
    "start_time": "2021-08-26T17:29:14.434Z"
   },
   {
    "duration": 10,
    "start_time": "2021-08-26T17:29:14.956Z"
   },
   {
    "duration": 697,
    "start_time": "2021-08-26T17:29:14.970Z"
   },
   {
    "duration": 665,
    "start_time": "2021-08-26T17:29:15.669Z"
   },
   {
    "duration": 674,
    "start_time": "2021-08-26T17:29:16.337Z"
   },
   {
    "duration": 63,
    "start_time": "2021-08-26T17:29:17.014Z"
   },
   {
    "duration": 1182,
    "start_time": "2021-08-26T17:29:17.079Z"
   },
   {
    "duration": 166,
    "start_time": "2021-08-26T17:29:18.263Z"
   },
   {
    "duration": 988,
    "start_time": "2021-08-26T17:29:18.432Z"
   },
   {
    "duration": 466,
    "start_time": "2021-08-26T17:29:19.422Z"
   },
   {
    "duration": 153,
    "start_time": "2021-08-26T17:29:19.891Z"
   },
   {
    "duration": 13,
    "start_time": "2021-08-26T17:29:20.047Z"
   },
   {
    "duration": 1247,
    "start_time": "2021-08-26T17:29:20.062Z"
   },
   {
    "duration": 561,
    "start_time": "2021-08-26T17:29:21.312Z"
   },
   {
    "duration": 9,
    "start_time": "2021-08-26T17:29:21.875Z"
   },
   {
    "duration": 1330,
    "start_time": "2021-08-26T17:29:21.886Z"
   },
   {
    "duration": 8,
    "start_time": "2021-08-26T17:29:23.219Z"
   },
   {
    "duration": 1231,
    "start_time": "2021-08-26T17:29:23.230Z"
   },
   {
    "duration": 3,
    "start_time": "2021-08-26T17:29:24.464Z"
   },
   {
    "duration": 16,
    "start_time": "2021-08-26T17:29:24.469Z"
   },
   {
    "duration": 15,
    "start_time": "2021-08-26T17:29:24.487Z"
   },
   {
    "duration": 11,
    "start_time": "2021-08-26T17:29:24.505Z"
   },
   {
    "duration": 37,
    "start_time": "2021-08-26T17:29:24.519Z"
   },
   {
    "duration": 8,
    "start_time": "2021-08-26T17:29:24.559Z"
   },
   {
    "duration": 11,
    "start_time": "2021-08-26T17:29:24.570Z"
   },
   {
    "duration": 1433,
    "start_time": "2021-08-26T17:30:49.387Z"
   },
   {
    "duration": 48,
    "start_time": "2021-08-26T17:30:50.823Z"
   },
   {
    "duration": 24,
    "start_time": "2021-08-26T17:30:50.874Z"
   },
   {
    "duration": 20,
    "start_time": "2021-08-26T17:30:50.900Z"
   },
   {
    "duration": 8,
    "start_time": "2021-08-26T17:30:50.923Z"
   },
   {
    "duration": 24,
    "start_time": "2021-08-26T17:30:50.933Z"
   },
   {
    "duration": 744,
    "start_time": "2021-08-26T17:30:50.960Z"
   },
   {
    "duration": 24,
    "start_time": "2021-08-26T17:30:51.708Z"
   },
   {
    "duration": 31,
    "start_time": "2021-08-26T17:30:51.735Z"
   },
   {
    "duration": 12,
    "start_time": "2021-08-26T17:30:51.768Z"
   },
   {
    "duration": 9,
    "start_time": "2021-08-26T17:30:51.783Z"
   },
   {
    "duration": 17,
    "start_time": "2021-08-26T17:30:51.794Z"
   },
   {
    "duration": 41,
    "start_time": "2021-08-26T17:30:51.813Z"
   },
   {
    "duration": 82,
    "start_time": "2021-08-26T17:30:51.856Z"
   },
   {
    "duration": 37,
    "start_time": "2021-08-26T17:30:51.941Z"
   },
   {
    "duration": 26,
    "start_time": "2021-08-26T17:30:51.981Z"
   },
   {
    "duration": 21,
    "start_time": "2021-08-26T17:30:52.010Z"
   },
   {
    "duration": 9,
    "start_time": "2021-08-26T17:30:52.057Z"
   },
   {
    "duration": 17,
    "start_time": "2021-08-26T17:30:52.068Z"
   },
   {
    "duration": 18,
    "start_time": "2021-08-26T17:30:52.087Z"
   },
   {
    "duration": 1539,
    "start_time": "2021-08-26T17:30:52.108Z"
   },
   {
    "duration": 9,
    "start_time": "2021-08-26T17:30:53.650Z"
   },
   {
    "duration": 405,
    "start_time": "2021-08-26T17:30:53.664Z"
   },
   {
    "duration": 635,
    "start_time": "2021-08-26T17:30:54.073Z"
   },
   {
    "duration": 18,
    "start_time": "2021-08-26T17:30:54.711Z"
   },
   {
    "duration": 516,
    "start_time": "2021-08-26T17:30:54.731Z"
   },
   {
    "duration": 8,
    "start_time": "2021-08-26T17:30:55.256Z"
   },
   {
    "duration": 652,
    "start_time": "2021-08-26T17:30:55.266Z"
   },
   {
    "duration": 639,
    "start_time": "2021-08-26T17:30:55.920Z"
   },
   {
    "duration": 694,
    "start_time": "2021-08-26T17:30:56.562Z"
   },
   {
    "duration": 80,
    "start_time": "2021-08-26T17:30:57.259Z"
   },
   {
    "duration": 1122,
    "start_time": "2021-08-26T17:30:57.342Z"
   },
   {
    "duration": 157,
    "start_time": "2021-08-26T17:30:58.466Z"
   },
   {
    "duration": 984,
    "start_time": "2021-08-26T17:30:58.626Z"
   },
   {
    "duration": 470,
    "start_time": "2021-08-26T17:30:59.612Z"
   },
   {
    "duration": 156,
    "start_time": "2021-08-26T17:31:00.084Z"
   },
   {
    "duration": 15,
    "start_time": "2021-08-26T17:31:00.243Z"
   },
   {
    "duration": 1250,
    "start_time": "2021-08-26T17:31:00.260Z"
   },
   {
    "duration": 572,
    "start_time": "2021-08-26T17:31:01.512Z"
   },
   {
    "duration": 10,
    "start_time": "2021-08-26T17:31:02.086Z"
   },
   {
    "duration": 1247,
    "start_time": "2021-08-26T17:31:02.099Z"
   },
   {
    "duration": 13,
    "start_time": "2021-08-26T17:31:03.349Z"
   },
   {
    "duration": 1239,
    "start_time": "2021-08-26T17:31:03.364Z"
   },
   {
    "duration": 4,
    "start_time": "2021-08-26T17:31:04.605Z"
   },
   {
    "duration": 13,
    "start_time": "2021-08-26T17:31:04.612Z"
   },
   {
    "duration": 29,
    "start_time": "2021-08-26T17:31:04.628Z"
   },
   {
    "duration": 8,
    "start_time": "2021-08-26T17:31:04.659Z"
   },
   {
    "duration": 10,
    "start_time": "2021-08-26T17:31:04.670Z"
   },
   {
    "duration": 8,
    "start_time": "2021-08-26T17:31:04.683Z"
   },
   {
    "duration": 10,
    "start_time": "2021-08-26T17:31:04.693Z"
   },
   {
    "duration": 1977,
    "start_time": "2021-09-14T12:30:55.693Z"
   },
   {
    "duration": 52,
    "start_time": "2021-09-14T12:30:57.673Z"
   },
   {
    "duration": 27,
    "start_time": "2021-09-14T12:30:57.729Z"
   },
   {
    "duration": 16,
    "start_time": "2021-09-14T12:30:57.760Z"
   },
   {
    "duration": 37,
    "start_time": "2021-09-14T12:30:57.779Z"
   },
   {
    "duration": 6,
    "start_time": "2021-09-14T12:30:57.818Z"
   },
   {
    "duration": 942,
    "start_time": "2021-09-14T12:30:57.827Z"
   },
   {
    "duration": 26,
    "start_time": "2021-09-14T12:30:58.773Z"
   },
   {
    "duration": 14,
    "start_time": "2021-09-14T12:30:58.816Z"
   },
   {
    "duration": 410,
    "start_time": "2021-09-14T12:30:58.832Z"
   },
   {
    "duration": 1269,
    "start_time": "2021-09-14T12:30:57.978Z"
   },
   {
    "duration": 1264,
    "start_time": "2021-09-14T12:30:57.985Z"
   },
   {
    "duration": 1258,
    "start_time": "2021-09-14T12:30:57.993Z"
   },
   {
    "duration": 1253,
    "start_time": "2021-09-14T12:30:58.001Z"
   },
   {
    "duration": 1246,
    "start_time": "2021-09-14T12:30:58.010Z"
   },
   {
    "duration": 1240,
    "start_time": "2021-09-14T12:30:58.018Z"
   },
   {
    "duration": 1232,
    "start_time": "2021-09-14T12:30:58.029Z"
   },
   {
    "duration": 1226,
    "start_time": "2021-09-14T12:30:58.037Z"
   },
   {
    "duration": 1219,
    "start_time": "2021-09-14T12:30:58.047Z"
   },
   {
    "duration": 1214,
    "start_time": "2021-09-14T12:30:58.054Z"
   },
   {
    "duration": 1208,
    "start_time": "2021-09-14T12:30:58.062Z"
   },
   {
    "duration": 1204,
    "start_time": "2021-09-14T12:30:58.068Z"
   },
   {
    "duration": 1188,
    "start_time": "2021-09-14T12:30:58.086Z"
   },
   {
    "duration": 1183,
    "start_time": "2021-09-14T12:30:58.094Z"
   },
   {
    "duration": 1177,
    "start_time": "2021-09-14T12:30:58.102Z"
   },
   {
    "duration": 1170,
    "start_time": "2021-09-14T12:30:58.111Z"
   },
   {
    "duration": 1162,
    "start_time": "2021-09-14T12:30:58.121Z"
   },
   {
    "duration": 1185,
    "start_time": "2021-09-14T12:30:58.131Z"
   },
   {
    "duration": 1176,
    "start_time": "2021-09-14T12:30:58.143Z"
   },
   {
    "duration": 1169,
    "start_time": "2021-09-14T12:30:58.152Z"
   },
   {
    "duration": 1160,
    "start_time": "2021-09-14T12:30:58.163Z"
   },
   {
    "duration": 1154,
    "start_time": "2021-09-14T12:30:58.171Z"
   },
   {
    "duration": 1146,
    "start_time": "2021-09-14T12:30:58.181Z"
   },
   {
    "duration": 1131,
    "start_time": "2021-09-14T12:30:58.198Z"
   },
   {
    "duration": 1125,
    "start_time": "2021-09-14T12:30:58.207Z"
   },
   {
    "duration": 1111,
    "start_time": "2021-09-14T12:30:58.224Z"
   },
   {
    "duration": 1105,
    "start_time": "2021-09-14T12:30:58.232Z"
   },
   {
    "duration": 993,
    "start_time": "2021-09-14T12:30:58.347Z"
   },
   {
    "duration": 988,
    "start_time": "2021-09-14T12:30:58.354Z"
   },
   {
    "duration": 969,
    "start_time": "2021-09-14T12:30:58.376Z"
   },
   {
    "duration": 964,
    "start_time": "2021-09-14T12:30:58.383Z"
   },
   {
    "duration": 958,
    "start_time": "2021-09-14T12:30:58.391Z"
   },
   {
    "duration": 943,
    "start_time": "2021-09-14T12:30:58.408Z"
   },
   {
    "duration": 939,
    "start_time": "2021-09-14T12:30:58.415Z"
   },
   {
    "duration": 993,
    "start_time": "2021-09-14T12:30:58.423Z"
   },
   {
    "duration": 976,
    "start_time": "2021-09-14T12:30:58.442Z"
   },
   {
    "duration": 970,
    "start_time": "2021-09-14T12:30:58.450Z"
   },
   {
    "duration": 37,
    "start_time": "2021-09-14T12:31:45.214Z"
   },
   {
    "duration": 33,
    "start_time": "2021-09-14T12:31:47.101Z"
   },
   {
    "duration": 1595,
    "start_time": "2021-09-14T12:32:06.412Z"
   },
   {
    "duration": 56,
    "start_time": "2021-09-14T12:32:08.010Z"
   },
   {
    "duration": 27,
    "start_time": "2021-09-14T12:32:08.073Z"
   },
   {
    "duration": 19,
    "start_time": "2021-09-14T12:32:08.121Z"
   },
   {
    "duration": 8,
    "start_time": "2021-09-14T12:32:08.143Z"
   },
   {
    "duration": 7,
    "start_time": "2021-09-14T12:32:08.153Z"
   },
   {
    "duration": 898,
    "start_time": "2021-09-14T12:32:08.163Z"
   },
   {
    "duration": 26,
    "start_time": "2021-09-14T12:32:09.065Z"
   },
   {
    "duration": 33,
    "start_time": "2021-09-14T12:32:09.093Z"
   },
   {
    "duration": 30,
    "start_time": "2021-09-14T12:32:09.129Z"
   },
   {
    "duration": 27,
    "start_time": "2021-09-14T12:32:09.161Z"
   },
   {
    "duration": 114,
    "start_time": "2021-09-14T12:32:09.190Z"
   },
   {
    "duration": 33,
    "start_time": "2021-09-14T12:32:09.316Z"
   },
   {
    "duration": 24,
    "start_time": "2021-09-14T12:32:09.351Z"
   },
   {
    "duration": 42,
    "start_time": "2021-09-14T12:32:09.377Z"
   },
   {
    "duration": 12,
    "start_time": "2021-09-14T12:32:09.423Z"
   },
   {
    "duration": 8,
    "start_time": "2021-09-14T12:32:09.438Z"
   },
   {
    "duration": 10,
    "start_time": "2021-09-14T12:32:09.449Z"
   },
   {
    "duration": 1762,
    "start_time": "2021-09-14T12:32:09.461Z"
   },
   {
    "duration": 11,
    "start_time": "2021-09-14T12:32:11.226Z"
   },
   {
    "duration": 801,
    "start_time": "2021-09-14T12:32:11.241Z"
   },
   {
    "duration": 731,
    "start_time": "2021-09-14T12:32:12.049Z"
   },
   {
    "duration": 15,
    "start_time": "2021-09-14T12:32:12.783Z"
   },
   {
    "duration": 549,
    "start_time": "2021-09-14T12:32:12.800Z"
   },
   {
    "duration": 7,
    "start_time": "2021-09-14T12:32:13.351Z"
   },
   {
    "duration": 729,
    "start_time": "2021-09-14T12:32:13.361Z"
   },
   {
    "duration": 724,
    "start_time": "2021-09-14T12:32:14.093Z"
   },
   {
    "duration": 700,
    "start_time": "2021-09-14T12:32:14.820Z"
   },
   {
    "duration": 53,
    "start_time": "2021-09-14T12:32:15.524Z"
   },
   {
    "duration": 1298,
    "start_time": "2021-09-14T12:32:15.581Z"
   },
   {
    "duration": 163,
    "start_time": "2021-09-14T12:32:16.881Z"
   },
   {
    "duration": 1114,
    "start_time": "2021-09-14T12:32:17.046Z"
   },
   {
    "duration": 541,
    "start_time": "2021-09-14T12:32:18.162Z"
   },
   {
    "duration": 166,
    "start_time": "2021-09-14T12:32:18.705Z"
   },
   {
    "duration": 8,
    "start_time": "2021-09-14T12:32:18.874Z"
   },
   {
    "duration": 1356,
    "start_time": "2021-09-14T12:32:18.884Z"
   },
   {
    "duration": 8,
    "start_time": "2021-09-14T12:32:20.242Z"
   },
   {
    "duration": 1394,
    "start_time": "2021-09-14T12:32:20.252Z"
   },
   {
    "duration": 9,
    "start_time": "2021-09-14T12:32:21.649Z"
   },
   {
    "duration": 1341,
    "start_time": "2021-09-14T12:32:21.660Z"
   },
   {
    "duration": 4,
    "start_time": "2021-09-14T12:32:23.003Z"
   },
   {
    "duration": 25,
    "start_time": "2021-09-14T12:32:23.009Z"
   },
   {
    "duration": 17,
    "start_time": "2021-09-14T12:32:23.036Z"
   },
   {
    "duration": 12,
    "start_time": "2021-09-14T12:32:23.056Z"
   },
   {
    "duration": 7,
    "start_time": "2021-09-14T12:32:23.071Z"
   },
   {
    "duration": 29,
    "start_time": "2021-09-14T12:32:23.081Z"
   },
   {
    "duration": 14,
    "start_time": "2021-09-14T12:32:23.123Z"
   },
   {
    "duration": 29,
    "start_time": "2021-09-14T12:34:46.484Z"
   },
   {
    "duration": 29,
    "start_time": "2021-09-14T12:34:48.092Z"
   },
   {
    "duration": 88,
    "start_time": "2021-09-14T12:34:49.904Z"
   },
   {
    "duration": 25,
    "start_time": "2021-09-14T12:34:56.278Z"
   },
   {
    "duration": 27,
    "start_time": "2021-09-14T12:34:57.557Z"
   },
   {
    "duration": 11,
    "start_time": "2021-09-14T12:34:58.852Z"
   },
   {
    "duration": 10,
    "start_time": "2021-09-14T12:35:00.093Z"
   },
   {
    "duration": 7,
    "start_time": "2021-09-14T12:35:01.517Z"
   },
   {
    "duration": 6,
    "start_time": "2021-09-14T12:35:02.808Z"
   },
   {
    "duration": 1721,
    "start_time": "2021-09-14T12:35:04.785Z"
   },
   {
    "duration": 8,
    "start_time": "2021-09-14T12:35:08.408Z"
   },
   {
    "duration": 422,
    "start_time": "2021-09-14T12:35:13.229Z"
   },
   {
    "duration": 564,
    "start_time": "2021-09-14T12:35:16.412Z"
   },
   {
    "duration": 16,
    "start_time": "2021-09-14T12:35:18.584Z"
   },
   {
    "duration": 500,
    "start_time": "2021-09-14T12:35:19.416Z"
   },
   {
    "duration": 1465,
    "start_time": "2021-09-14T12:35:32.758Z"
   },
   {
    "duration": 48,
    "start_time": "2021-09-14T12:35:34.226Z"
   },
   {
    "duration": 25,
    "start_time": "2021-09-14T12:35:34.277Z"
   },
   {
    "duration": 23,
    "start_time": "2021-09-14T12:35:34.304Z"
   },
   {
    "duration": 8,
    "start_time": "2021-09-14T12:35:34.329Z"
   },
   {
    "duration": 5,
    "start_time": "2021-09-14T12:35:34.340Z"
   },
   {
    "duration": 846,
    "start_time": "2021-09-14T12:35:34.348Z"
   },
   {
    "duration": 30,
    "start_time": "2021-09-14T12:35:35.198Z"
   },
   {
    "duration": 22,
    "start_time": "2021-09-14T12:35:35.232Z"
   },
   {
    "duration": 41,
    "start_time": "2021-09-14T12:35:35.257Z"
   },
   {
    "duration": 40,
    "start_time": "2021-09-14T12:35:35.301Z"
   },
   {
    "duration": 101,
    "start_time": "2021-09-14T12:35:35.343Z"
   },
   {
    "duration": 22,
    "start_time": "2021-09-14T12:35:35.447Z"
   },
   {
    "duration": 44,
    "start_time": "2021-09-14T12:35:35.472Z"
   },
   {
    "duration": 10,
    "start_time": "2021-09-14T12:35:35.519Z"
   },
   {
    "duration": 10,
    "start_time": "2021-09-14T12:35:35.532Z"
   },
   {
    "duration": 9,
    "start_time": "2021-09-14T12:35:35.544Z"
   },
   {
    "duration": 7,
    "start_time": "2021-09-14T12:35:35.555Z"
   },
   {
    "duration": 1645,
    "start_time": "2021-09-14T12:35:35.564Z"
   },
   {
    "duration": 8,
    "start_time": "2021-09-14T12:35:37.212Z"
   },
   {
    "duration": 412,
    "start_time": "2021-09-14T12:35:37.223Z"
   },
   {
    "duration": 626,
    "start_time": "2021-09-14T12:35:37.638Z"
   },
   {
    "duration": 16,
    "start_time": "2021-09-14T12:35:38.269Z"
   },
   {
    "duration": 651,
    "start_time": "2021-09-14T12:35:38.289Z"
   },
   {
    "duration": 8,
    "start_time": "2021-09-14T12:35:38.942Z"
   },
   {
    "duration": 874,
    "start_time": "2021-09-14T12:35:38.953Z"
   },
   {
    "duration": 692,
    "start_time": "2021-09-14T12:35:39.830Z"
   },
   {
    "duration": 658,
    "start_time": "2021-09-14T12:35:40.524Z"
   },
   {
    "duration": 67,
    "start_time": "2021-09-14T12:35:41.185Z"
   },
   {
    "duration": 1195,
    "start_time": "2021-09-14T12:35:41.255Z"
   },
   {
    "duration": 166,
    "start_time": "2021-09-14T12:35:42.452Z"
   },
   {
    "duration": 1071,
    "start_time": "2021-09-14T12:35:42.621Z"
   },
   {
    "duration": 505,
    "start_time": "2021-09-14T12:35:43.694Z"
   },
   {
    "duration": 157,
    "start_time": "2021-09-14T12:35:44.201Z"
   },
   {
    "duration": 8,
    "start_time": "2021-09-14T12:35:44.360Z"
   },
   {
    "duration": 1206,
    "start_time": "2021-09-14T12:35:44.370Z"
   },
   {
    "duration": 8,
    "start_time": "2021-09-14T12:35:45.579Z"
   },
   {
    "duration": 1201,
    "start_time": "2021-09-14T12:35:45.589Z"
   },
   {
    "duration": 8,
    "start_time": "2021-09-14T12:35:46.792Z"
   },
   {
    "duration": 1181,
    "start_time": "2021-09-14T12:35:46.802Z"
   },
   {
    "duration": 3,
    "start_time": "2021-09-14T12:35:47.986Z"
   },
   {
    "duration": 9,
    "start_time": "2021-09-14T12:35:47.991Z"
   },
   {
    "duration": 7,
    "start_time": "2021-09-14T12:35:48.016Z"
   },
   {
    "duration": 8,
    "start_time": "2021-09-14T12:35:48.025Z"
   },
   {
    "duration": 9,
    "start_time": "2021-09-14T12:35:48.035Z"
   },
   {
    "duration": 7,
    "start_time": "2021-09-14T12:35:48.047Z"
   },
   {
    "duration": 12,
    "start_time": "2021-09-14T12:35:48.056Z"
   },
   {
    "duration": 28,
    "start_time": "2021-09-14T12:36:37.630Z"
   },
   {
    "duration": 34,
    "start_time": "2021-09-14T12:36:39.014Z"
   },
   {
    "duration": 1748,
    "start_time": "2021-09-14T12:36:47.951Z"
   },
   {
    "duration": 49,
    "start_time": "2021-09-14T12:36:49.702Z"
   },
   {
    "duration": 23,
    "start_time": "2021-09-14T12:36:49.754Z"
   },
   {
    "duration": 20,
    "start_time": "2021-09-14T12:36:49.780Z"
   },
   {
    "duration": 7,
    "start_time": "2021-09-14T12:36:49.816Z"
   },
   {
    "duration": 24,
    "start_time": "2021-09-14T12:36:49.825Z"
   },
   {
    "duration": 781,
    "start_time": "2021-09-14T12:36:49.851Z"
   },
   {
    "duration": 24,
    "start_time": "2021-09-14T12:36:50.637Z"
   },
   {
    "duration": 22,
    "start_time": "2021-09-14T12:36:50.664Z"
   },
   {
    "duration": 45,
    "start_time": "2021-09-14T12:36:50.688Z"
   },
   {
    "duration": 27,
    "start_time": "2021-09-14T12:36:50.736Z"
   },
   {
    "duration": 101,
    "start_time": "2021-09-14T12:36:50.766Z"
   },
   {
    "duration": 23,
    "start_time": "2021-09-14T12:36:50.870Z"
   },
   {
    "duration": 40,
    "start_time": "2021-09-14T12:36:50.895Z"
   },
   {
    "duration": 27,
    "start_time": "2021-09-14T12:36:50.938Z"
   },
   {
    "duration": 23,
    "start_time": "2021-09-14T12:36:50.967Z"
   },
   {
    "duration": 25,
    "start_time": "2021-09-14T12:36:50.993Z"
   },
   {
    "duration": 30,
    "start_time": "2021-09-14T12:36:51.021Z"
   },
   {
    "duration": 1572,
    "start_time": "2021-09-14T12:36:51.053Z"
   },
   {
    "duration": 9,
    "start_time": "2021-09-14T12:36:52.628Z"
   },
   {
    "duration": 424,
    "start_time": "2021-09-14T12:36:52.640Z"
   },
   {
    "duration": 621,
    "start_time": "2021-09-14T12:36:53.067Z"
   },
   {
    "duration": 23,
    "start_time": "2021-09-14T12:36:53.693Z"
   },
   {
    "duration": 504,
    "start_time": "2021-09-14T12:36:53.719Z"
   },
   {
    "duration": 8,
    "start_time": "2021-09-14T12:36:54.226Z"
   },
   {
    "duration": 692,
    "start_time": "2021-09-14T12:36:54.236Z"
   },
   {
    "duration": 754,
    "start_time": "2021-09-14T12:36:54.931Z"
   },
   {
    "duration": 654,
    "start_time": "2021-09-14T12:36:55.687Z"
   },
   {
    "duration": 50,
    "start_time": "2021-09-14T12:36:56.343Z"
   },
   {
    "duration": 1215,
    "start_time": "2021-09-14T12:36:56.395Z"
   },
   {
    "duration": 156,
    "start_time": "2021-09-14T12:36:57.616Z"
   },
   {
    "duration": 988,
    "start_time": "2021-09-14T12:36:57.775Z"
   },
   {
    "duration": 480,
    "start_time": "2021-09-14T12:36:58.765Z"
   },
   {
    "duration": 164,
    "start_time": "2021-09-14T12:36:59.247Z"
   },
   {
    "duration": 9,
    "start_time": "2021-09-14T12:36:59.417Z"
   },
   {
    "duration": 1330,
    "start_time": "2021-09-14T12:36:59.429Z"
   },
   {
    "duration": 8,
    "start_time": "2021-09-14T12:37:00.762Z"
   },
   {
    "duration": 1258,
    "start_time": "2021-09-14T12:37:00.773Z"
   },
   {
    "duration": 10,
    "start_time": "2021-09-14T12:37:02.033Z"
   },
   {
    "duration": 1248,
    "start_time": "2021-09-14T12:37:02.045Z"
   },
   {
    "duration": 3,
    "start_time": "2021-09-14T12:37:03.296Z"
   },
   {
    "duration": 21,
    "start_time": "2021-09-14T12:37:03.301Z"
   },
   {
    "duration": 9,
    "start_time": "2021-09-14T12:37:03.324Z"
   },
   {
    "duration": 8,
    "start_time": "2021-09-14T12:37:03.336Z"
   },
   {
    "duration": 11,
    "start_time": "2021-09-14T12:37:03.347Z"
   },
   {
    "duration": 62,
    "start_time": "2021-09-14T12:37:03.360Z"
   },
   {
    "duration": 11,
    "start_time": "2021-09-14T12:37:03.426Z"
   },
   {
    "duration": 87,
    "start_time": "2021-09-14T12:48:01.049Z"
   },
   {
    "duration": 1645,
    "start_time": "2021-09-14T12:48:44.732Z"
   },
   {
    "duration": 49,
    "start_time": "2021-09-14T12:48:46.380Z"
   },
   {
    "duration": 24,
    "start_time": "2021-09-14T12:48:46.432Z"
   },
   {
    "duration": 15,
    "start_time": "2021-09-14T12:48:46.459Z"
   },
   {
    "duration": 8,
    "start_time": "2021-09-14T12:48:46.477Z"
   },
   {
    "duration": 35,
    "start_time": "2021-09-14T12:48:46.487Z"
   },
   {
    "duration": 793,
    "start_time": "2021-09-14T12:48:46.524Z"
   },
   {
    "duration": 24,
    "start_time": "2021-09-14T12:48:47.321Z"
   },
   {
    "duration": 17,
    "start_time": "2021-09-14T12:48:47.348Z"
   },
   {
    "duration": 102,
    "start_time": "2021-09-14T12:48:47.367Z"
   },
   {
    "duration": 23,
    "start_time": "2021-09-14T12:48:47.472Z"
   },
   {
    "duration": 37,
    "start_time": "2021-09-14T12:48:47.498Z"
   },
   {
    "duration": 22,
    "start_time": "2021-09-14T12:48:47.538Z"
   },
   {
    "duration": 8,
    "start_time": "2021-09-14T12:48:47.562Z"
   },
   {
    "duration": 9,
    "start_time": "2021-09-14T12:48:47.573Z"
   },
   {
    "duration": 32,
    "start_time": "2021-09-14T12:48:47.585Z"
   },
   {
    "duration": 1514,
    "start_time": "2021-09-14T12:48:47.620Z"
   },
   {
    "duration": 9,
    "start_time": "2021-09-14T12:48:49.136Z"
   },
   {
    "duration": 427,
    "start_time": "2021-09-14T12:48:49.147Z"
   },
   {
    "duration": 608,
    "start_time": "2021-09-14T12:48:49.577Z"
   },
   {
    "duration": 28,
    "start_time": "2021-09-14T12:48:50.188Z"
   },
   {
    "duration": 648,
    "start_time": "2021-09-14T12:48:50.219Z"
   },
   {
    "duration": 8,
    "start_time": "2021-09-14T12:48:50.873Z"
   },
   {
    "duration": 626,
    "start_time": "2021-09-14T12:48:50.884Z"
   },
   {
    "duration": 643,
    "start_time": "2021-09-14T12:48:51.516Z"
   },
   {
    "duration": 640,
    "start_time": "2021-09-14T12:48:52.162Z"
   },
   {
    "duration": 55,
    "start_time": "2021-09-14T12:48:52.816Z"
   },
   {
    "duration": 1257,
    "start_time": "2021-09-14T12:48:52.873Z"
   },
   {
    "duration": 162,
    "start_time": "2021-09-14T12:48:54.132Z"
   },
   {
    "duration": 1021,
    "start_time": "2021-09-14T12:48:54.297Z"
   },
   {
    "duration": 480,
    "start_time": "2021-09-14T12:48:55.321Z"
   },
   {
    "duration": 144,
    "start_time": "2021-09-14T12:48:55.803Z"
   },
   {
    "duration": 8,
    "start_time": "2021-09-14T12:48:55.949Z"
   },
   {
    "duration": 1321,
    "start_time": "2021-09-14T12:48:55.960Z"
   },
   {
    "duration": 8,
    "start_time": "2021-09-14T12:48:57.284Z"
   },
   {
    "duration": 1235,
    "start_time": "2021-09-14T12:48:57.294Z"
   },
   {
    "duration": 8,
    "start_time": "2021-09-14T12:48:58.532Z"
   },
   {
    "duration": 1378,
    "start_time": "2021-09-14T12:48:58.542Z"
   },
   {
    "duration": 4,
    "start_time": "2021-09-14T12:48:59.922Z"
   },
   {
    "duration": 13,
    "start_time": "2021-09-14T12:48:59.928Z"
   },
   {
    "duration": 9,
    "start_time": "2021-09-14T12:48:59.944Z"
   },
   {
    "duration": 10,
    "start_time": "2021-09-14T12:48:59.956Z"
   },
   {
    "duration": 6,
    "start_time": "2021-09-14T12:48:59.969Z"
   },
   {
    "duration": 45,
    "start_time": "2021-09-14T12:48:59.978Z"
   },
   {
    "duration": 9,
    "start_time": "2021-09-14T12:49:00.026Z"
   },
   {
    "duration": 1558,
    "start_time": "2021-09-14T12:51:30.341Z"
   },
   {
    "duration": 48,
    "start_time": "2021-09-14T12:51:31.905Z"
   },
   {
    "duration": 25,
    "start_time": "2021-09-14T12:51:31.955Z"
   },
   {
    "duration": 40,
    "start_time": "2021-09-14T12:51:31.982Z"
   },
   {
    "duration": 7,
    "start_time": "2021-09-14T12:51:32.025Z"
   },
   {
    "duration": 22,
    "start_time": "2021-09-14T12:51:32.034Z"
   },
   {
    "duration": 901,
    "start_time": "2021-09-14T12:51:32.059Z"
   },
   {
    "duration": 26,
    "start_time": "2021-09-14T12:51:32.965Z"
   },
   {
    "duration": 34,
    "start_time": "2021-09-14T12:51:32.994Z"
   },
   {
    "duration": 99,
    "start_time": "2021-09-14T12:51:33.031Z"
   },
   {
    "duration": 24,
    "start_time": "2021-09-14T12:51:33.132Z"
   },
   {
    "duration": 23,
    "start_time": "2021-09-14T12:51:33.158Z"
   },
   {
    "duration": 38,
    "start_time": "2021-09-14T12:51:33.183Z"
   },
   {
    "duration": 9,
    "start_time": "2021-09-14T12:51:33.223Z"
   },
   {
    "duration": 11,
    "start_time": "2021-09-14T12:51:33.234Z"
   },
   {
    "duration": 9,
    "start_time": "2021-09-14T12:51:33.247Z"
   },
   {
    "duration": 1761,
    "start_time": "2021-09-14T12:51:33.258Z"
   },
   {
    "duration": 10,
    "start_time": "2021-09-14T12:51:35.021Z"
   },
   {
    "duration": 432,
    "start_time": "2021-09-14T12:51:35.033Z"
   },
   {
    "duration": 629,
    "start_time": "2021-09-14T12:51:35.468Z"
   },
   {
    "duration": 29,
    "start_time": "2021-09-14T12:51:36.099Z"
   },
   {
    "duration": 536,
    "start_time": "2021-09-14T12:51:36.130Z"
   },
   {
    "duration": 8,
    "start_time": "2021-09-14T12:51:36.668Z"
   },
   {
    "duration": 638,
    "start_time": "2021-09-14T12:51:36.678Z"
   },
   {
    "duration": 798,
    "start_time": "2021-09-14T12:51:37.318Z"
   },
   {
    "duration": 735,
    "start_time": "2021-09-14T12:51:38.121Z"
   },
   {
    "duration": 68,
    "start_time": "2021-09-14T12:51:38.859Z"
   },
   {
    "duration": 1206,
    "start_time": "2021-09-14T12:51:38.929Z"
   },
   {
    "duration": 151,
    "start_time": "2021-09-14T12:51:40.137Z"
   },
   {
    "duration": 972,
    "start_time": "2021-09-14T12:51:40.291Z"
   },
   {
    "duration": 467,
    "start_time": "2021-09-14T12:51:41.266Z"
   },
   {
    "duration": 155,
    "start_time": "2021-09-14T12:51:41.735Z"
   },
   {
    "duration": 25,
    "start_time": "2021-09-14T12:51:41.892Z"
   },
   {
    "duration": 1164,
    "start_time": "2021-09-14T12:51:41.919Z"
   },
   {
    "duration": 8,
    "start_time": "2021-09-14T12:51:43.086Z"
   },
   {
    "duration": 1208,
    "start_time": "2021-09-14T12:51:43.097Z"
   },
   {
    "duration": 14,
    "start_time": "2021-09-14T12:51:44.308Z"
   },
   {
    "duration": 1257,
    "start_time": "2021-09-14T12:51:44.325Z"
   },
   {
    "duration": 4,
    "start_time": "2021-09-14T12:51:45.584Z"
   },
   {
    "duration": 10,
    "start_time": "2021-09-14T12:51:45.590Z"
   },
   {
    "duration": 18,
    "start_time": "2021-09-14T12:51:45.602Z"
   },
   {
    "duration": 9,
    "start_time": "2021-09-14T12:51:45.623Z"
   },
   {
    "duration": 8,
    "start_time": "2021-09-14T12:51:45.635Z"
   },
   {
    "duration": 11,
    "start_time": "2021-09-14T12:51:45.645Z"
   },
   {
    "duration": 9,
    "start_time": "2021-09-14T12:51:45.659Z"
   },
   {
    "duration": 1551,
    "start_time": "2021-09-15T07:31:00.377Z"
   },
   {
    "duration": 53,
    "start_time": "2021-09-15T07:31:01.931Z"
   },
   {
    "duration": 23,
    "start_time": "2021-09-15T07:31:01.987Z"
   },
   {
    "duration": 38,
    "start_time": "2021-09-15T07:31:02.013Z"
   },
   {
    "duration": 19,
    "start_time": "2021-09-15T07:31:02.054Z"
   },
   {
    "duration": 19,
    "start_time": "2021-09-15T07:31:02.076Z"
   },
   {
    "duration": 1750,
    "start_time": "2021-09-15T07:31:02.097Z"
   },
   {
    "duration": 31,
    "start_time": "2021-09-15T07:31:03.851Z"
   },
   {
    "duration": 12,
    "start_time": "2021-09-15T07:31:03.886Z"
   },
   {
    "duration": 87,
    "start_time": "2021-09-15T07:31:03.901Z"
   },
   {
    "duration": 23,
    "start_time": "2021-09-15T07:31:03.990Z"
   },
   {
    "duration": 25,
    "start_time": "2021-09-15T07:31:04.016Z"
   },
   {
    "duration": 19,
    "start_time": "2021-09-15T07:31:04.043Z"
   },
   {
    "duration": 13,
    "start_time": "2021-09-15T07:31:04.065Z"
   },
   {
    "duration": 10,
    "start_time": "2021-09-15T07:31:04.080Z"
   },
   {
    "duration": 11,
    "start_time": "2021-09-15T07:31:04.092Z"
   },
   {
    "duration": 1625,
    "start_time": "2021-09-15T07:31:04.105Z"
   },
   {
    "duration": 9,
    "start_time": "2021-09-15T07:31:05.732Z"
   },
   {
    "duration": 588,
    "start_time": "2021-09-15T07:31:05.743Z"
   },
   {
    "duration": 905,
    "start_time": "2021-09-15T07:31:06.334Z"
   },
   {
    "duration": 32,
    "start_time": "2021-09-15T07:31:07.242Z"
   },
   {
    "duration": 523,
    "start_time": "2021-09-15T07:31:07.277Z"
   },
   {
    "duration": 8,
    "start_time": "2021-09-15T07:31:07.805Z"
   },
   {
    "duration": 665,
    "start_time": "2021-09-15T07:31:07.816Z"
   },
   {
    "duration": 696,
    "start_time": "2021-09-15T07:31:08.484Z"
   },
   {
    "duration": 696,
    "start_time": "2021-09-15T07:31:09.184Z"
   },
   {
    "duration": 77,
    "start_time": "2021-09-15T07:31:09.883Z"
   },
   {
    "duration": 1323,
    "start_time": "2021-09-15T07:31:09.963Z"
   },
   {
    "duration": 162,
    "start_time": "2021-09-15T07:31:11.288Z"
   },
   {
    "duration": 1114,
    "start_time": "2021-09-15T07:31:11.452Z"
   },
   {
    "duration": 478,
    "start_time": "2021-09-15T07:31:12.570Z"
   },
   {
    "duration": 163,
    "start_time": "2021-09-15T07:31:13.051Z"
   },
   {
    "duration": 7,
    "start_time": "2021-09-15T07:31:13.217Z"
   },
   {
    "duration": 1271,
    "start_time": "2021-09-15T07:31:13.226Z"
   },
   {
    "duration": 8,
    "start_time": "2021-09-15T07:31:14.499Z"
   },
   {
    "duration": 1329,
    "start_time": "2021-09-15T07:31:14.510Z"
   },
   {
    "duration": 14,
    "start_time": "2021-09-15T07:31:15.841Z"
   },
   {
    "duration": 1487,
    "start_time": "2021-09-15T07:31:15.858Z"
   },
   {
    "duration": 10,
    "start_time": "2021-09-15T07:31:17.347Z"
   },
   {
    "duration": 14,
    "start_time": "2021-09-15T07:31:17.361Z"
   },
   {
    "duration": 12,
    "start_time": "2021-09-15T07:31:17.377Z"
   },
   {
    "duration": 8,
    "start_time": "2021-09-15T07:31:17.392Z"
   },
   {
    "duration": 10,
    "start_time": "2021-09-15T07:31:17.402Z"
   },
   {
    "duration": 46,
    "start_time": "2021-09-15T07:31:17.414Z"
   },
   {
    "duration": 12,
    "start_time": "2021-09-15T07:31:17.462Z"
   }
  ],
  "kernelspec": {
   "display_name": "Python 3",
   "language": "python",
   "name": "python3"
  },
  "language_info": {
   "codemirror_mode": {
    "name": "ipython",
    "version": 3
   },
   "file_extension": ".py",
   "mimetype": "text/x-python",
   "name": "python",
   "nbconvert_exporter": "python",
   "pygments_lexer": "ipython3",
   "version": "3.7.8"
  },
  "toc": {
   "base_numbering": 1,
   "nav_menu": {},
   "number_sections": true,
   "sideBar": true,
   "skip_h1_title": true,
   "title_cell": "Оглавление",
   "title_sidebar": "Contents",
   "toc_cell": true,
   "toc_position": {
    "height": "calc(100% - 180px)",
    "left": "10px",
    "top": "150px",
    "width": "247px"
   },
   "toc_section_display": true,
   "toc_window_display": true
  }
 },
 "nbformat": 4,
 "nbformat_minor": 2
}
