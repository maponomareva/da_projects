{
 "cells": [
  {
   "cell_type": "markdown",
   "metadata": {},
   "source": [
    "# Поиск клиентов с неоптимальными тарифами"
   ]
  },
  {
   "cell_type": "markdown",
   "metadata": {},
   "source": [
    "В настоящем исследовании будут изучены данные по использованию услуг компании «Нупозвони» — провайдера виртуальной телефонии. Клиентами компании являются колл-центры, которые распределяют входящие вызовы по своим операторам и обеспечивают исходящие вызовы от операторов. Цель исследования — выявить клиентов, которые:\n",
    "1. переплачивают на текущих тарифах; \n",
    "2. сэкономят, если перейдут на более дорогой тариф.\n",
    "\n",
    "Результаты будут использованы коммерческим отделом «Нупозвони» для разработки оптимальной стратегии предоставления услуг и снижения оттока клиентов. Для достижения поставленной цели нам требуется решить следующие задачи:\n",
    "1. Выяснить, действительно ли клиенты переплачивают на текущих тарифах;\n",
    "2. При положительном ответе на предыдущий вопрос — сформировать список таких клиентов;\n",
    "3. Предложить механизм определения оптимального тарифа и сформировать список клиентов, которым было бы целесообразно предложить перейти на другой тариф;\n",
    "4. Спрогнозировать выручку компании при переводе всех клиентов на выгодные тарифы, оценить возможные потери;\n",
    "5. Разработать план, как минимизировать снижение выручки, сохраняя лояльность клиентов. \n",
    "\n",
    "**Правила формирования тарифов**\n",
    "\n",
    "Вызовы между сотрудниками одного колл-центра считаются внутренними, остальные — внешними. Расходы клиента формируют:\n",
    "1. Ежемесячная плата за тариф:\n",
    "    1. Тариф А — 5000 ₽;\n",
    "    2. Тариф B — 2000 ₽;\n",
    "    3. Тариф С — 1000 ₽.\n",
    "2. Плата за перерасход по внутренним исходящим звонкам (бесплатный пакет составляет 2000 минут в месяц на всех тарифах):\n",
    "    1. Тариф А — 0,1 ₽/мин.;\n",
    "    2. Тариф B — 0,15 ₽/мин.;\n",
    "    3. Тариф С — 0,3 ₽/мин.\n",
    "3. Плата за внешние исходящие звонки:\n",
    "    1. Тариф А — 0,4 ₽/мин.;\n",
    "    2. Тариф B — 0,5 ₽/мин.;\n",
    "    3. Тариф С — 0,7 ₽/мин.\n",
    "4. Плата 100 ₽ в месяц за каждого оператора."
   ]
  },
  {
   "cell_type": "markdown",
   "metadata": {
    "toc": true
   },
   "source": [
    "<h1>Содержание<span class=\"tocSkip\"></span></h1>\n",
    "<div class=\"toc\"><ul class=\"toc-item\"><li><span><a href=\"#Изучение-и-предобработка-данных\" data-toc-modified-id=\"Изучение-и-предобработка-данных-1\"><span class=\"toc-item-num\">1&nbsp;&nbsp;</span>Изучение и предобработка данных</a></span><ul class=\"toc-item\"><li><span><a href=\"#Загрузка-данных\" data-toc-modified-id=\"Загрузка-данных-1.1\"><span class=\"toc-item-num\">1.1&nbsp;&nbsp;</span>Загрузка данных</a></span></li><li><span><a href=\"#Изучение-информации-о-клиентах\" data-toc-modified-id=\"Изучение-информации-о-клиентах-1.2\"><span class=\"toc-item-num\">1.2&nbsp;&nbsp;</span>Изучение информации о клиентах</a></span></li><li><span><a href=\"#Изучение-информации-о-звонках\" data-toc-modified-id=\"Изучение-информации-о-звонках-1.3\"><span class=\"toc-item-num\">1.3&nbsp;&nbsp;</span>Изучение информации о звонках</a></span></li><li><span><a href=\"#Выводы-по-разделу\" data-toc-modified-id=\"Выводы-по-разделу-1.4\"><span class=\"toc-item-num\">1.4&nbsp;&nbsp;</span>Выводы по разделу</a></span></li></ul></li><li><span><a href=\"#Исследовательский-анализ-данных\" data-toc-modified-id=\"Исследовательский-анализ-данных-2\"><span class=\"toc-item-num\">2&nbsp;&nbsp;</span>Исследовательский анализ данных</a></span><ul class=\"toc-item\"><li><span><a href=\"#Поиск-клиентов,-которые-переплачивают-по-своим-тарифам\" data-toc-modified-id=\"Поиск-клиентов,-которые-переплачивают-по-своим-тарифам-2.1\"><span class=\"toc-item-num\">2.1&nbsp;&nbsp;</span>Поиск клиентов, которые переплачивают по своим тарифам</a></span></li><li><span><a href=\"#Предложение-оптимальных-тарифов\" data-toc-modified-id=\"Предложение-оптимальных-тарифов-2.2\"><span class=\"toc-item-num\">2.2&nbsp;&nbsp;</span>Предложение оптимальных тарифов</a></span></li><li><span><a href=\"#Влияние-перехода-клиентов-на-оптимальные-тарифы-на-выручку-компании\" data-toc-modified-id=\"Влияние-перехода-клиентов-на-оптимальные-тарифы-на-выручку-компании-2.3\"><span class=\"toc-item-num\">2.3&nbsp;&nbsp;</span>Влияние перехода клиентов на оптимальные тарифы на выручку компании</a></span></li><li><span><a href=\"#Выводы-по-разделу\" data-toc-modified-id=\"Выводы-по-разделу-2.4\"><span class=\"toc-item-num\">2.4&nbsp;&nbsp;</span>Выводы по разделу</a></span></li></ul></li><li><span><a href=\"#Статистический-анализ-данных\" data-toc-modified-id=\"Статистический-анализ-данных-3\"><span class=\"toc-item-num\">3&nbsp;&nbsp;</span>Статистический анализ данных</a></span><ul class=\"toc-item\"><li><span><a href=\"#Тест-№1:-перевод-всех-клиентов-на-оптимальные-тарифы-снизит-выручку-компании\" data-toc-modified-id=\"Тест-№1:-перевод-всех-клиентов-на-оптимальные-тарифы-снизит-выручку-компании-3.1\"><span class=\"toc-item-num\">3.1&nbsp;&nbsp;</span>Тест №1: перевод всех клиентов на оптимальные тарифы снизит выручку компании</a></span></li><li><span><a href=\"#Тест-№2:-перевод-части-клиентов-на-оптимальные-тарифы-снизит-выручку-компании\" data-toc-modified-id=\"Тест-№2:-перевод-части-клиентов-на-оптимальные-тарифы-снизит-выручку-компании-3.2\"><span class=\"toc-item-num\">3.2&nbsp;&nbsp;</span>Тест №2: перевод части клиентов на оптимальные тарифы снизит выручку компании</a></span></li><li><span><a href=\"#Влияние-используемого-тарифа-на-направление-звонков\" data-toc-modified-id=\"Влияние-используемого-тарифа-на-направление-звонков-3.3\"><span class=\"toc-item-num\">3.3&nbsp;&nbsp;</span>Влияние используемого тарифа на направление звонков</a></span></li><li><span><a href=\"#Выводы-по-разделу\" data-toc-modified-id=\"Выводы-по-разделу-3.4\"><span class=\"toc-item-num\">3.4&nbsp;&nbsp;</span>Выводы по разделу</a></span></li></ul></li><li><span><a href=\"#Общий-вывод\" data-toc-modified-id=\"Общий-вывод-4\"><span class=\"toc-item-num\">4&nbsp;&nbsp;</span>Общий вывод</a></span></li></ul></div>"
   ]
  },
  {
   "cell_type": "markdown",
   "metadata": {},
   "source": [
    "## Изучение и предобработка данных"
   ]
  },
  {
   "cell_type": "markdown",
   "metadata": {},
   "source": [
    "### Загрузка данных"
   ]
  },
  {
   "cell_type": "code",
   "execution_count": 1,
   "metadata": {},
   "outputs": [],
   "source": [
    "#загрузка библиотек и настроек\n",
    "import pandas as pd\n",
    "import numpy as np\n",
    "import matplotlib.pyplot as plt\n",
    "import matplotlib.gridspec as gridspec\n",
    "import seaborn as sns\n",
    "from scipy import stats as st\n",
    "\n",
    "import warnings\n",
    "warnings.filterwarnings('ignore')\n",
    "pd.set_option('display.max_colwidth', -1)"
   ]
  },
  {
   "cell_type": "code",
   "execution_count": 2,
   "metadata": {},
   "outputs": [],
   "source": [
    "#открытие файлов\n",
    "telecom_clients = pd.read_csv('/datasets/telecom_clients.csv')\n",
    "telecom_dataset = pd.read_csv('/datasets/telecom_dataset.csv')"
   ]
  },
  {
   "cell_type": "markdown",
   "metadata": {},
   "source": [
    "### Изучение информации о клиентах"
   ]
  },
  {
   "cell_type": "code",
   "execution_count": 3,
   "metadata": {},
   "outputs": [
    {
     "name": "stdout",
     "output_type": "stream",
     "text": [
      "<class 'pandas.core.frame.DataFrame'>\n",
      "RangeIndex: 732 entries, 0 to 731\n",
      "Data columns (total 3 columns):\n",
      "user_id        732 non-null int64\n",
      "tariff_plan    732 non-null object\n",
      "date_start     732 non-null object\n",
      "dtypes: int64(1), object(2)\n",
      "memory usage: 17.3+ KB\n"
     ]
    },
    {
     "data": {
      "text/html": [
       "<div>\n",
       "<style scoped>\n",
       "    .dataframe tbody tr th:only-of-type {\n",
       "        vertical-align: middle;\n",
       "    }\n",
       "\n",
       "    .dataframe tbody tr th {\n",
       "        vertical-align: top;\n",
       "    }\n",
       "\n",
       "    .dataframe thead th {\n",
       "        text-align: right;\n",
       "    }\n",
       "</style>\n",
       "<table border=\"1\" class=\"dataframe\">\n",
       "  <thead>\n",
       "    <tr style=\"text-align: right;\">\n",
       "      <th></th>\n",
       "      <th>user_id</th>\n",
       "      <th>tariff_plan</th>\n",
       "      <th>date_start</th>\n",
       "    </tr>\n",
       "  </thead>\n",
       "  <tbody>\n",
       "    <tr>\n",
       "      <td>545</td>\n",
       "      <td>166503</td>\n",
       "      <td>B</td>\n",
       "      <td>2019-08-06</td>\n",
       "    </tr>\n",
       "    <tr>\n",
       "      <td>535</td>\n",
       "      <td>168322</td>\n",
       "      <td>B</td>\n",
       "      <td>2019-10-22</td>\n",
       "    </tr>\n",
       "    <tr>\n",
       "      <td>651</td>\n",
       "      <td>167179</td>\n",
       "      <td>B</td>\n",
       "      <td>2019-09-05</td>\n",
       "    </tr>\n",
       "    <tr>\n",
       "      <td>184</td>\n",
       "      <td>168288</td>\n",
       "      <td>C</td>\n",
       "      <td>2019-10-21</td>\n",
       "    </tr>\n",
       "    <tr>\n",
       "      <td>229</td>\n",
       "      <td>167622</td>\n",
       "      <td>C</td>\n",
       "      <td>2019-09-23</td>\n",
       "    </tr>\n",
       "  </tbody>\n",
       "</table>\n",
       "</div>"
      ],
      "text/plain": [
       "     user_id tariff_plan  date_start\n",
       "545  166503   B           2019-08-06\n",
       "535  168322   B           2019-10-22\n",
       "651  167179   B           2019-09-05\n",
       "184  168288   C           2019-10-21\n",
       "229  167622   C           2019-09-23"
      ]
     },
     "execution_count": 3,
     "metadata": {},
     "output_type": "execute_result"
    }
   ],
   "source": [
    "#изучим данные в таблице telecom_clients\n",
    "telecom_clients.info()\n",
    "telecom_clients.sample(5)"
   ]
  },
  {
   "cell_type": "markdown",
   "metadata": {},
   "source": [
    "Таблица telecom_clients содержит следующие данные: \n",
    "\n",
    "- `user_id` — идентификатор клиента,\n",
    "- `tariff_plan` — тарифный план клиента,\n",
    "- `date_start` — дата регистрации клиента в сервисе.\n",
    "\n",
    "Пропущенных значений в датасете нет. Данные в столбце с датой необходимо перевести в формат datetime. Также нужно проверить данные на наличие дубликатов."
   ]
  },
  {
   "cell_type": "code",
   "execution_count": 4,
   "metadata": {},
   "outputs": [],
   "source": [
    "#изменим формат даты\n",
    "telecom_clients['date_start'] = pd.to_datetime(telecom_clients['date_start'], format='%Y-%m-%d')"
   ]
  },
  {
   "cell_type": "code",
   "execution_count": 5,
   "metadata": {},
   "outputs": [
    {
     "data": {
      "text/plain": [
       "0"
      ]
     },
     "execution_count": 5,
     "metadata": {},
     "output_type": "execute_result"
    }
   ],
   "source": [
    "#посчитаем число дубликатов \n",
    "telecom_clients.duplicated().sum()"
   ]
  },
  {
   "cell_type": "code",
   "execution_count": 6,
   "metadata": {},
   "outputs": [
    {
     "data": {
      "text/plain": [
       "0"
      ]
     },
     "execution_count": 6,
     "metadata": {},
     "output_type": "execute_result"
    }
   ],
   "source": [
    "#проверим наличие дубликатов в идентификаторах клиентов, чтобы узнать, переходил ли кто-то на другой тариф\n",
    "telecom_clients['user_id'].duplicated().sum()"
   ]
  },
  {
   "cell_type": "markdown",
   "metadata": {},
   "source": [
    "Дубликатов не обнаружено, таким образом, у нас есть данные о 732 клиентах компании. Проверим, как они распределены по тарифам и по дате регистрации."
   ]
  },
  {
   "cell_type": "code",
   "execution_count": 7,
   "metadata": {},
   "outputs": [
    {
     "data": {
      "image/png": "[encoded data removed]",
      "text/plain": [
       "<Figure size 720x288 with 1 Axes>"
      ]
     },
     "metadata": {
      "needs_background": "light"
     },
     "output_type": "display_data"
    }
   ],
   "source": [
    "plt.figure(figsize=(10, 4))\n",
    "sns.countplot(telecom_clients['tariff_plan'])\n",
    "plt.xlabel('Тариф', fontsize=12)\n",
    "plt.ylabel('Количество клиентов', fontsize=12)\n",
    "plt.title('Распределение клиентов по тарифам', fontsize=15);"
   ]
  },
  {
   "cell_type": "markdown",
   "metadata": {},
   "source": [
    "Самый популярный тариф — С, из трёх тарифов у него самая низкая ежемесячная плата (1000 рублей), и им пользуются больше половины клиентов (395 человек). На втором месте тариф B с ежемесячной платой 2000 рублей (261 клиентов), тарифом А с ежемесячной платой 5000 рублей пользуются только 76 клиентов."
   ]
  },
  {
   "cell_type": "code",
   "execution_count": 8,
   "metadata": {},
   "outputs": [
    {
     "data": {
      "image/png": "[encoded data removed]",
      "text/plain": [
       "<Figure size 1080x288 with 1 Axes>"
      ]
     },
     "metadata": {
      "needs_background": "light"
     },
     "output_type": "display_data"
    }
   ],
   "source": [
    "plt.figure(figsize=(15, 4))\n",
    "telecom_clients['date_start'].hist(bins=91)\n",
    "plt.xlabel('Дата', fontsize=12)\n",
    "plt.ylabel('Количество клиентов', fontsize=12)\n",
    "plt.title('Распределение клиентов по дате присоединения к услугам', fontsize=15);"
   ]
  },
  {
   "cell_type": "markdown",
   "metadata": {},
   "source": [
    "Мы располагаем данными о клиентах, которые присоединились к сервису с 1 августа по 31 октября 2019 года. Число клиентов распределено по месяцам более-менее равномерно: 258 человек пришли в августе, 231 в сентябре и 243 в октябре, также не наблюдается какой-то определённой тенденции, что в начале месяца клиентов приходит больше, чем в конце, или наоборот. На графике заметны \"провалы\" в выходные дни (нет новых клиентов 3-4 августа, 10-11 августа, 17-18 августа и так далее): судя по всему, присоединение пользователей происходит в основном по рабочим дням."
   ]
  },
  {
   "cell_type": "code",
   "execution_count": 9,
   "metadata": {},
   "outputs": [
    {
     "data": {
      "image/png": "[encoded data removed]",
      "text/plain": [
       "<Figure size 1080x288 with 1 Axes>"
      ]
     },
     "metadata": {
      "needs_background": "light"
     },
     "output_type": "display_data"
    }
   ],
   "source": [
    "# изучим распределение новых клиентов по дате присоединения в разрезе тарифов\n",
    "plt.figure(figsize=(15, 4))\n",
    "sns.scatterplot('date_start', 'user_id', hue='tariff_plan', \n",
    "                data=telecom_clients.groupby(['tariff_plan', 'date_start']).agg({'user_id' : 'count'}).reset_index())\n",
    "plt.xlabel('Дата', fontsize=12)\n",
    "plt.ylabel('Количество клиентов', fontsize=12)\n",
    "plt.title('Распределение клиентов по дате присоединения в разрезе тарифов', fontsize=15)\n",
    "plt.xlim('2019-07-31', '2019-11-01')\n",
    "plt.grid()\n",
    "plt.show()"
   ]
  },
  {
   "cell_type": "markdown",
   "metadata": {},
   "source": [
    "Мы видим, что на тариф А в день приходит от нуля до четырёх новых пользователей, на тариф В - от одного до девяти, самый широкий разброс на тарифе С: от одного до четырнадцати новых клиентов. Сезонной цикличности в предпочтении того или иного тарифа не наблюдается."
   ]
  },
  {
   "cell_type": "markdown",
   "metadata": {},
   "source": [
    "### Изучение информации о звонках"
   ]
  },
  {
   "cell_type": "code",
   "execution_count": 10,
   "metadata": {},
   "outputs": [
    {
     "name": "stdout",
     "output_type": "stream",
     "text": [
      "<class 'pandas.core.frame.DataFrame'>\n",
      "RangeIndex: 53902 entries, 0 to 53901\n",
      "Data columns (total 9 columns):\n",
      "user_id                53902 non-null int64\n",
      "date                   53902 non-null object\n",
      "direction              53902 non-null object\n",
      "internal               53785 non-null object\n",
      "operator_id            45730 non-null float64\n",
      "is_missed_call         53902 non-null bool\n",
      "calls_count            53902 non-null int64\n",
      "call_duration          53902 non-null int64\n",
      "total_call_duration    53902 non-null int64\n",
      "dtypes: bool(1), float64(1), int64(4), object(3)\n",
      "memory usage: 3.3+ MB\n"
     ]
    },
    {
     "data": {
      "text/html": [
       "<div>\n",
       "<style scoped>\n",
       "    .dataframe tbody tr th:only-of-type {\n",
       "        vertical-align: middle;\n",
       "    }\n",
       "\n",
       "    .dataframe tbody tr th {\n",
       "        vertical-align: top;\n",
       "    }\n",
       "\n",
       "    .dataframe thead th {\n",
       "        text-align: right;\n",
       "    }\n",
       "</style>\n",
       "<table border=\"1\" class=\"dataframe\">\n",
       "  <thead>\n",
       "    <tr style=\"text-align: right;\">\n",
       "      <th></th>\n",
       "      <th>user_id</th>\n",
       "      <th>date</th>\n",
       "      <th>direction</th>\n",
       "      <th>internal</th>\n",
       "      <th>operator_id</th>\n",
       "      <th>is_missed_call</th>\n",
       "      <th>calls_count</th>\n",
       "      <th>call_duration</th>\n",
       "      <th>total_call_duration</th>\n",
       "    </tr>\n",
       "  </thead>\n",
       "  <tbody>\n",
       "    <tr>\n",
       "      <td>23018</td>\n",
       "      <td>167077</td>\n",
       "      <td>2019-09-16 00:00:00+03:00</td>\n",
       "      <td>in</td>\n",
       "      <td>False</td>\n",
       "      <td>NaN</td>\n",
       "      <td>True</td>\n",
       "      <td>3</td>\n",
       "      <td>0</td>\n",
       "      <td>6</td>\n",
       "    </tr>\n",
       "    <tr>\n",
       "      <td>24310</td>\n",
       "      <td>167109</td>\n",
       "      <td>2019-11-12 00:00:00+03:00</td>\n",
       "      <td>out</td>\n",
       "      <td>True</td>\n",
       "      <td>907182.0</td>\n",
       "      <td>False</td>\n",
       "      <td>5</td>\n",
       "      <td>202</td>\n",
       "      <td>228</td>\n",
       "    </tr>\n",
       "    <tr>\n",
       "      <td>18403</td>\n",
       "      <td>166974</td>\n",
       "      <td>2019-10-21 00:00:00+03:00</td>\n",
       "      <td>out</td>\n",
       "      <td>False</td>\n",
       "      <td>900354.0</td>\n",
       "      <td>True</td>\n",
       "      <td>8</td>\n",
       "      <td>0</td>\n",
       "      <td>189</td>\n",
       "    </tr>\n",
       "    <tr>\n",
       "      <td>24928</td>\n",
       "      <td>167125</td>\n",
       "      <td>2019-09-10 00:00:00+03:00</td>\n",
       "      <td>out</td>\n",
       "      <td>False</td>\n",
       "      <td>902744.0</td>\n",
       "      <td>False</td>\n",
       "      <td>7</td>\n",
       "      <td>612</td>\n",
       "      <td>714</td>\n",
       "    </tr>\n",
       "    <tr>\n",
       "      <td>12714</td>\n",
       "      <td>166774</td>\n",
       "      <td>2019-11-07 00:00:00+03:00</td>\n",
       "      <td>out</td>\n",
       "      <td>False</td>\n",
       "      <td>891824.0</td>\n",
       "      <td>False</td>\n",
       "      <td>1</td>\n",
       "      <td>683</td>\n",
       "      <td>706</td>\n",
       "    </tr>\n",
       "  </tbody>\n",
       "</table>\n",
       "</div>"
      ],
      "text/plain": [
       "       user_id                       date direction internal  operator_id  \\\n",
       "23018  167077   2019-09-16 00:00:00+03:00  in        False   NaN            \n",
       "24310  167109   2019-11-12 00:00:00+03:00  out       True     907182.0      \n",
       "18403  166974   2019-10-21 00:00:00+03:00  out       False    900354.0      \n",
       "24928  167125   2019-09-10 00:00:00+03:00  out       False    902744.0      \n",
       "12714  166774   2019-11-07 00:00:00+03:00  out       False    891824.0      \n",
       "\n",
       "       is_missed_call  calls_count  call_duration  total_call_duration  \n",
       "23018  True            3            0              6                    \n",
       "24310  False           5            202            228                  \n",
       "18403  True            8            0              189                  \n",
       "24928  False           7            612            714                  \n",
       "12714  False           1            683            706                  "
      ]
     },
     "execution_count": 10,
     "metadata": {},
     "output_type": "execute_result"
    }
   ],
   "source": [
    "#изучим данные в таблице telecom_dataset\n",
    "telecom_dataset.info()\n",
    "telecom_dataset.sample(5)"
   ]
  },
  {
   "cell_type": "markdown",
   "metadata": {},
   "source": [
    "Таблица telecom_dataset содержит следующие данные:\n",
    "\n",
    "- `user_id` — идентификатор клиента,\n",
    "- `date` — дата статистики;\n",
    "- `direction` — направление вызовов: `out` — исходящий вызов, `in` — входящий;\n",
    "- `internal` — маркер внутренних и внешних вызовов;\n",
    "- `operator_id` — идентификатор оператора;\n",
    "- `is_missed_call` — маркер пропущенных вызовов;\n",
    "- `calls_count` — количество звонков;\n",
    "- `call_duration` — длительность звонка без учёта времени ожидания;\n",
    "- `total_call_duration` — длительность звонка с учётом времени ожидания.\n",
    "\n",
    "Формат значений в столбце с датой необходимо изменить и избавиться от маркера временной зоны. Также в датасете присутствуют пропуски, проверим их долю."
   ]
  },
  {
   "cell_type": "code",
   "execution_count": 11,
   "metadata": {},
   "outputs": [],
   "source": [
    "telecom_dataset['date'] = pd.to_datetime(telecom_dataset['date']).dt.tz_localize(None)"
   ]
  },
  {
   "cell_type": "code",
   "execution_count": 12,
   "metadata": {},
   "outputs": [
    {
     "data": {
      "text/html": [
       "<div>\n",
       "<style scoped>\n",
       "    .dataframe tbody tr th:only-of-type {\n",
       "        vertical-align: middle;\n",
       "    }\n",
       "\n",
       "    .dataframe tbody tr th {\n",
       "        vertical-align: top;\n",
       "    }\n",
       "\n",
       "    .dataframe thead th {\n",
       "        text-align: right;\n",
       "    }\n",
       "</style>\n",
       "<table border=\"1\" class=\"dataframe\">\n",
       "  <thead>\n",
       "    <tr style=\"text-align: right;\">\n",
       "      <th></th>\n",
       "      <th>columns</th>\n",
       "      <th>NaN</th>\n",
       "      <th>NaN, % of total</th>\n",
       "    </tr>\n",
       "  </thead>\n",
       "  <tbody>\n",
       "    <tr>\n",
       "      <td>0</td>\n",
       "      <td>user_id</td>\n",
       "      <td>0</td>\n",
       "      <td>0.000000</td>\n",
       "    </tr>\n",
       "    <tr>\n",
       "      <td>1</td>\n",
       "      <td>date</td>\n",
       "      <td>0</td>\n",
       "      <td>0.000000</td>\n",
       "    </tr>\n",
       "    <tr>\n",
       "      <td>2</td>\n",
       "      <td>direction</td>\n",
       "      <td>0</td>\n",
       "      <td>0.000000</td>\n",
       "    </tr>\n",
       "    <tr>\n",
       "      <td>3</td>\n",
       "      <td>internal</td>\n",
       "      <td>117</td>\n",
       "      <td>0.217061</td>\n",
       "    </tr>\n",
       "    <tr>\n",
       "      <td>4</td>\n",
       "      <td>operator_id</td>\n",
       "      <td>8172</td>\n",
       "      <td>15.160847</td>\n",
       "    </tr>\n",
       "    <tr>\n",
       "      <td>5</td>\n",
       "      <td>is_missed_call</td>\n",
       "      <td>0</td>\n",
       "      <td>0.000000</td>\n",
       "    </tr>\n",
       "    <tr>\n",
       "      <td>6</td>\n",
       "      <td>calls_count</td>\n",
       "      <td>0</td>\n",
       "      <td>0.000000</td>\n",
       "    </tr>\n",
       "    <tr>\n",
       "      <td>7</td>\n",
       "      <td>call_duration</td>\n",
       "      <td>0</td>\n",
       "      <td>0.000000</td>\n",
       "    </tr>\n",
       "    <tr>\n",
       "      <td>8</td>\n",
       "      <td>total_call_duration</td>\n",
       "      <td>0</td>\n",
       "      <td>0.000000</td>\n",
       "    </tr>\n",
       "  </tbody>\n",
       "</table>\n",
       "</div>"
      ],
      "text/plain": [
       "               columns   NaN  NaN, % of total\n",
       "0  user_id              0     0.000000       \n",
       "1  date                 0     0.000000       \n",
       "2  direction            0     0.000000       \n",
       "3  internal             117   0.217061       \n",
       "4  operator_id          8172  15.160847      \n",
       "5  is_missed_call       0     0.000000       \n",
       "6  calls_count          0     0.000000       \n",
       "7  call_duration        0     0.000000       \n",
       "8  total_call_duration  0     0.000000       "
      ]
     },
     "metadata": {},
     "output_type": "display_data"
    }
   ],
   "source": [
    "nulls = pd.DataFrame(columns=['columns'], data=telecom_dataset.columns)\n",
    "nulls['NaN'] = telecom_dataset.isnull().sum().values\n",
    "nulls['NaN, % of total'] = 100 * telecom_dataset.isnull().sum().values / telecom_dataset.shape[0]\n",
    "display(nulls)"
   ]
  },
  {
   "cell_type": "markdown",
   "metadata": {},
   "source": [
    "Есть 117 пропущенных маркеров внутренних и внешних вызовов. Проверим, можно ли восстановить их на основе других данных."
   ]
  },
  {
   "cell_type": "code",
   "execution_count": 13,
   "metadata": {},
   "outputs": [
    {
     "data": {
      "text/html": [
       "<div>\n",
       "<style scoped>\n",
       "    .dataframe tbody tr th:only-of-type {\n",
       "        vertical-align: middle;\n",
       "    }\n",
       "\n",
       "    .dataframe tbody tr th {\n",
       "        vertical-align: top;\n",
       "    }\n",
       "\n",
       "    .dataframe thead th {\n",
       "        text-align: right;\n",
       "    }\n",
       "</style>\n",
       "<table border=\"1\" class=\"dataframe\">\n",
       "  <thead>\n",
       "    <tr style=\"text-align: right;\">\n",
       "      <th></th>\n",
       "      <th>user_id</th>\n",
       "      <th>date</th>\n",
       "      <th>direction</th>\n",
       "      <th>internal</th>\n",
       "      <th>operator_id</th>\n",
       "      <th>is_missed_call</th>\n",
       "      <th>calls_count</th>\n",
       "      <th>call_duration</th>\n",
       "      <th>total_call_duration</th>\n",
       "    </tr>\n",
       "  </thead>\n",
       "  <tbody>\n",
       "    <tr>\n",
       "      <td>46012</td>\n",
       "      <td>168091</td>\n",
       "      <td>2019-11-13</td>\n",
       "      <td>in</td>\n",
       "      <td>NaN</td>\n",
       "      <td>958460.0</td>\n",
       "      <td>True</td>\n",
       "      <td>1</td>\n",
       "      <td>85</td>\n",
       "      <td>136</td>\n",
       "    </tr>\n",
       "    <tr>\n",
       "      <td>51367</td>\n",
       "      <td>168291</td>\n",
       "      <td>2019-11-28</td>\n",
       "      <td>out</td>\n",
       "      <td>NaN</td>\n",
       "      <td>NaN</td>\n",
       "      <td>True</td>\n",
       "      <td>3</td>\n",
       "      <td>0</td>\n",
       "      <td>93</td>\n",
       "    </tr>\n",
       "    <tr>\n",
       "      <td>25139</td>\n",
       "      <td>167125</td>\n",
       "      <td>2019-09-26</td>\n",
       "      <td>in</td>\n",
       "      <td>NaN</td>\n",
       "      <td>NaN</td>\n",
       "      <td>True</td>\n",
       "      <td>1</td>\n",
       "      <td>0</td>\n",
       "      <td>22</td>\n",
       "    </tr>\n",
       "    <tr>\n",
       "      <td>29989</td>\n",
       "      <td>167272</td>\n",
       "      <td>2019-10-09</td>\n",
       "      <td>in</td>\n",
       "      <td>NaN</td>\n",
       "      <td>912684.0</td>\n",
       "      <td>False</td>\n",
       "      <td>1</td>\n",
       "      <td>123</td>\n",
       "      <td>175</td>\n",
       "    </tr>\n",
       "    <tr>\n",
       "      <td>43100</td>\n",
       "      <td>167977</td>\n",
       "      <td>2019-11-14</td>\n",
       "      <td>in</td>\n",
       "      <td>NaN</td>\n",
       "      <td>944220.0</td>\n",
       "      <td>False</td>\n",
       "      <td>1</td>\n",
       "      <td>5</td>\n",
       "      <td>19</td>\n",
       "    </tr>\n",
       "    <tr>\n",
       "      <td>23822</td>\n",
       "      <td>167109</td>\n",
       "      <td>2019-09-25</td>\n",
       "      <td>in</td>\n",
       "      <td>NaN</td>\n",
       "      <td>906294.0</td>\n",
       "      <td>False</td>\n",
       "      <td>1</td>\n",
       "      <td>23</td>\n",
       "      <td>27</td>\n",
       "    </tr>\n",
       "    <tr>\n",
       "      <td>43466</td>\n",
       "      <td>167998</td>\n",
       "      <td>2019-10-23</td>\n",
       "      <td>in</td>\n",
       "      <td>NaN</td>\n",
       "      <td>NaN</td>\n",
       "      <td>True</td>\n",
       "      <td>1</td>\n",
       "      <td>0</td>\n",
       "      <td>2</td>\n",
       "    </tr>\n",
       "    <tr>\n",
       "      <td>38122</td>\n",
       "      <td>167650</td>\n",
       "      <td>2019-10-19</td>\n",
       "      <td>in</td>\n",
       "      <td>NaN</td>\n",
       "      <td>931458.0</td>\n",
       "      <td>False</td>\n",
       "      <td>1</td>\n",
       "      <td>44</td>\n",
       "      <td>57</td>\n",
       "    </tr>\n",
       "    <tr>\n",
       "      <td>20168</td>\n",
       "      <td>166997</td>\n",
       "      <td>2019-10-13</td>\n",
       "      <td>in</td>\n",
       "      <td>NaN</td>\n",
       "      <td>903312.0</td>\n",
       "      <td>False</td>\n",
       "      <td>1</td>\n",
       "      <td>78</td>\n",
       "      <td>82</td>\n",
       "    </tr>\n",
       "    <tr>\n",
       "      <td>24505</td>\n",
       "      <td>167110</td>\n",
       "      <td>2019-10-16</td>\n",
       "      <td>in</td>\n",
       "      <td>NaN</td>\n",
       "      <td>NaN</td>\n",
       "      <td>True</td>\n",
       "      <td>1</td>\n",
       "      <td>0</td>\n",
       "      <td>4</td>\n",
       "    </tr>\n",
       "  </tbody>\n",
       "</table>\n",
       "</div>"
      ],
      "text/plain": [
       "       user_id       date direction internal  operator_id  is_missed_call  \\\n",
       "46012  168091  2019-11-13  in        NaN      958460.0     True             \n",
       "51367  168291  2019-11-28  out       NaN     NaN           True             \n",
       "25139  167125  2019-09-26  in        NaN     NaN           True             \n",
       "29989  167272  2019-10-09  in        NaN      912684.0     False            \n",
       "43100  167977  2019-11-14  in        NaN      944220.0     False            \n",
       "23822  167109  2019-09-25  in        NaN      906294.0     False            \n",
       "43466  167998  2019-10-23  in        NaN     NaN           True             \n",
       "38122  167650  2019-10-19  in        NaN      931458.0     False            \n",
       "20168  166997  2019-10-13  in        NaN      903312.0     False            \n",
       "24505  167110  2019-10-16  in        NaN     NaN           True             \n",
       "\n",
       "       calls_count  call_duration  total_call_duration  \n",
       "46012  1            85             136                  \n",
       "51367  3            0              93                   \n",
       "25139  1            0              22                   \n",
       "29989  1            123            175                  \n",
       "43100  1            5              19                   \n",
       "23822  1            23             27                   \n",
       "43466  1            0              2                    \n",
       "38122  1            44             57                   \n",
       "20168  1            78             82                   \n",
       "24505  1            0              4                    "
      ]
     },
     "execution_count": 13,
     "metadata": {},
     "output_type": "execute_result"
    }
   ],
   "source": [
    "telecom_dataset.loc[telecom_dataset['internal'].isnull()].sample(10, random_state=100)"
   ]
  },
  {
   "cell_type": "markdown",
   "metadata": {},
   "source": [
    "Пропуски относятся к разным датам, разным клиентам и операторам (в некоторых строках идентификатор оператора тоже отсутствует), направление и количество звонков также разнообразны. Судя по всему, звонки с пропущенными значениями ничего не объединяет, возможно, пропуски возникли из-за случайной технической ошибки при агрегации данных или их выгрузке. Поскольку доля пропусков в маркере внутренних и внешних вызовов очень небольшая (0,2%), можно смело удалить эти строки из датасета."
   ]
  },
  {
   "cell_type": "code",
   "execution_count": 14,
   "metadata": {},
   "outputs": [],
   "source": [
    "telecom_dataset.dropna(subset = ['internal'], inplace = True) "
   ]
  },
  {
   "cell_type": "markdown",
   "metadata": {},
   "source": [
    "Также у нас есть достаточно большое (15%) количество пропусков в идентификаторах оператора. Посмотрим, можно ли как-то обработать эти значения."
   ]
  },
  {
   "cell_type": "code",
   "execution_count": 15,
   "metadata": {},
   "outputs": [
    {
     "data": {
      "text/html": [
       "<div>\n",
       "<style scoped>\n",
       "    .dataframe tbody tr th:only-of-type {\n",
       "        vertical-align: middle;\n",
       "    }\n",
       "\n",
       "    .dataframe tbody tr th {\n",
       "        vertical-align: top;\n",
       "    }\n",
       "\n",
       "    .dataframe thead th {\n",
       "        text-align: right;\n",
       "    }\n",
       "</style>\n",
       "<table border=\"1\" class=\"dataframe\">\n",
       "  <thead>\n",
       "    <tr style=\"text-align: right;\">\n",
       "      <th></th>\n",
       "      <th>user_id</th>\n",
       "      <th>date</th>\n",
       "      <th>direction</th>\n",
       "      <th>internal</th>\n",
       "      <th>operator_id</th>\n",
       "      <th>is_missed_call</th>\n",
       "      <th>calls_count</th>\n",
       "      <th>call_duration</th>\n",
       "      <th>total_call_duration</th>\n",
       "    </tr>\n",
       "  </thead>\n",
       "  <tbody>\n",
       "    <tr>\n",
       "      <td>count</td>\n",
       "      <td>8115.000000</td>\n",
       "      <td>8115</td>\n",
       "      <td>8115</td>\n",
       "      <td>8115</td>\n",
       "      <td>0.0</td>\n",
       "      <td>8115</td>\n",
       "      <td>8115.000000</td>\n",
       "      <td>8115.000000</td>\n",
       "      <td>8115.000000</td>\n",
       "    </tr>\n",
       "    <tr>\n",
       "      <td>unique</td>\n",
       "      <td>NaN</td>\n",
       "      <td>119</td>\n",
       "      <td>2</td>\n",
       "      <td>2</td>\n",
       "      <td>NaN</td>\n",
       "      <td>2</td>\n",
       "      <td>NaN</td>\n",
       "      <td>NaN</td>\n",
       "      <td>NaN</td>\n",
       "    </tr>\n",
       "    <tr>\n",
       "      <td>top</td>\n",
       "      <td>NaN</td>\n",
       "      <td>2019-10-28 00:00:00</td>\n",
       "      <td>in</td>\n",
       "      <td>False</td>\n",
       "      <td>NaN</td>\n",
       "      <td>True</td>\n",
       "      <td>NaN</td>\n",
       "      <td>NaN</td>\n",
       "      <td>NaN</td>\n",
       "    </tr>\n",
       "    <tr>\n",
       "      <td>freq</td>\n",
       "      <td>NaN</td>\n",
       "      <td>141</td>\n",
       "      <td>7917</td>\n",
       "      <td>7760</td>\n",
       "      <td>NaN</td>\n",
       "      <td>7993</td>\n",
       "      <td>NaN</td>\n",
       "      <td>NaN</td>\n",
       "      <td>NaN</td>\n",
       "    </tr>\n",
       "    <tr>\n",
       "      <td>first</td>\n",
       "      <td>NaN</td>\n",
       "      <td>2019-08-02 00:00:00</td>\n",
       "      <td>NaN</td>\n",
       "      <td>NaN</td>\n",
       "      <td>NaN</td>\n",
       "      <td>NaN</td>\n",
       "      <td>NaN</td>\n",
       "      <td>NaN</td>\n",
       "      <td>NaN</td>\n",
       "    </tr>\n",
       "    <tr>\n",
       "      <td>last</td>\n",
       "      <td>NaN</td>\n",
       "      <td>2019-11-28 00:00:00</td>\n",
       "      <td>NaN</td>\n",
       "      <td>NaN</td>\n",
       "      <td>NaN</td>\n",
       "      <td>NaN</td>\n",
       "      <td>NaN</td>\n",
       "      <td>NaN</td>\n",
       "      <td>NaN</td>\n",
       "    </tr>\n",
       "    <tr>\n",
       "      <td>mean</td>\n",
       "      <td>167255.140727</td>\n",
       "      <td>NaN</td>\n",
       "      <td>NaN</td>\n",
       "      <td>NaN</td>\n",
       "      <td>NaN</td>\n",
       "      <td>NaN</td>\n",
       "      <td>13.992237</td>\n",
       "      <td>66.477511</td>\n",
       "      <td>235.266051</td>\n",
       "    </tr>\n",
       "    <tr>\n",
       "      <td>std</td>\n",
       "      <td>586.997737</td>\n",
       "      <td>NaN</td>\n",
       "      <td>NaN</td>\n",
       "      <td>NaN</td>\n",
       "      <td>NaN</td>\n",
       "      <td>NaN</td>\n",
       "      <td>81.483582</td>\n",
       "      <td>958.172818</td>\n",
       "      <td>1256.628727</td>\n",
       "    </tr>\n",
       "    <tr>\n",
       "      <td>min</td>\n",
       "      <td>166377.000000</td>\n",
       "      <td>NaN</td>\n",
       "      <td>NaN</td>\n",
       "      <td>NaN</td>\n",
       "      <td>NaN</td>\n",
       "      <td>NaN</td>\n",
       "      <td>1.000000</td>\n",
       "      <td>0.000000</td>\n",
       "      <td>0.000000</td>\n",
       "    </tr>\n",
       "    <tr>\n",
       "      <td>25%</td>\n",
       "      <td>166782.000000</td>\n",
       "      <td>NaN</td>\n",
       "      <td>NaN</td>\n",
       "      <td>NaN</td>\n",
       "      <td>NaN</td>\n",
       "      <td>NaN</td>\n",
       "      <td>1.000000</td>\n",
       "      <td>0.000000</td>\n",
       "      <td>7.000000</td>\n",
       "    </tr>\n",
       "    <tr>\n",
       "      <td>50%</td>\n",
       "      <td>167124.000000</td>\n",
       "      <td>NaN</td>\n",
       "      <td>NaN</td>\n",
       "      <td>NaN</td>\n",
       "      <td>NaN</td>\n",
       "      <td>NaN</td>\n",
       "      <td>2.000000</td>\n",
       "      <td>0.000000</td>\n",
       "      <td>35.000000</td>\n",
       "    </tr>\n",
       "    <tr>\n",
       "      <td>75%</td>\n",
       "      <td>167727.000000</td>\n",
       "      <td>NaN</td>\n",
       "      <td>NaN</td>\n",
       "      <td>NaN</td>\n",
       "      <td>NaN</td>\n",
       "      <td>NaN</td>\n",
       "      <td>7.000000</td>\n",
       "      <td>0.000000</td>\n",
       "      <td>116.000000</td>\n",
       "    </tr>\n",
       "    <tr>\n",
       "      <td>max</td>\n",
       "      <td>168606.000000</td>\n",
       "      <td>NaN</td>\n",
       "      <td>NaN</td>\n",
       "      <td>NaN</td>\n",
       "      <td>NaN</td>\n",
       "      <td>NaN</td>\n",
       "      <td>2168.000000</td>\n",
       "      <td>26175.000000</td>\n",
       "      <td>42667.000000</td>\n",
       "    </tr>\n",
       "  </tbody>\n",
       "</table>\n",
       "</div>"
      ],
      "text/plain": [
       "              user_id                 date direction internal  operator_id  \\\n",
       "count   8115.000000    8115                 8115      8115     0.0           \n",
       "unique NaN             119                  2         2       NaN            \n",
       "top    NaN             2019-10-28 00:00:00  in        False   NaN            \n",
       "freq   NaN             141                  7917      7760    NaN            \n",
       "first  NaN             2019-08-02 00:00:00  NaN       NaN     NaN            \n",
       "last   NaN             2019-11-28 00:00:00  NaN       NaN     NaN            \n",
       "mean    167255.140727  NaN                  NaN       NaN     NaN            \n",
       "std     586.997737     NaN                  NaN       NaN     NaN            \n",
       "min     166377.000000  NaN                  NaN       NaN     NaN            \n",
       "25%     166782.000000  NaN                  NaN       NaN     NaN            \n",
       "50%     167124.000000  NaN                  NaN       NaN     NaN            \n",
       "75%     167727.000000  NaN                  NaN       NaN     NaN            \n",
       "max     168606.000000  NaN                  NaN       NaN     NaN            \n",
       "\n",
       "       is_missed_call  calls_count  call_duration  total_call_duration  \n",
       "count   8115           8115.000000  8115.000000    8115.000000          \n",
       "unique  2             NaN          NaN            NaN                   \n",
       "top     True          NaN          NaN            NaN                   \n",
       "freq    7993          NaN          NaN            NaN                   \n",
       "first   NaN           NaN          NaN            NaN                   \n",
       "last    NaN           NaN          NaN            NaN                   \n",
       "mean    NaN            13.992237    66.477511      235.266051           \n",
       "std     NaN            81.483582    958.172818     1256.628727          \n",
       "min     NaN            1.000000     0.000000       0.000000             \n",
       "25%     NaN            1.000000     0.000000       7.000000             \n",
       "50%     NaN            2.000000     0.000000       35.000000            \n",
       "75%     NaN            7.000000     0.000000       116.000000           \n",
       "max     NaN            2168.000000  26175.000000   42667.000000         "
      ]
     },
     "execution_count": 15,
     "metadata": {},
     "output_type": "execute_result"
    }
   ],
   "source": [
    "telecom_dataset.loc[telecom_dataset['operator_id'].isnull()].describe(include='all')"
   ]
  },
  {
   "cell_type": "markdown",
   "metadata": {},
   "source": [
    "Большую часть пропусков в столбце operator_id объединяют следующие характеристики звонков: \n",
    "- пропущенные (7993 из 8115),\n",
    "- внешние (7917 из 8115),\n",
    "- входящие (7917 из 8115).\n",
    "\n",
    "Возможно, при пропущенном внешнем входящем звонке система не фиксирует оператора, потому что не успевает его определить. Для ответа на поставленные заказчиком вопросы нас интересуют только исходящие звонки, поскольку входящие на всех тарифах бесплатны. Клиент дополнительно платит по 100 рублей в месяц за каждого оператора, поэтому во избежание потери данных мы не будем удалять пропуски в столбце operator_id, а заменим их кодовым обозначением 999999 (в выборке есть операторы с номерами от 879896 до 973286): входящие звонки не попадут в расчёт затрат клиентов, и при необходимости мы потом сможем проверить, повлияла ли строчка с пропущенным оператором на итоговую сумму."
   ]
  },
  {
   "cell_type": "code",
   "execution_count": 16,
   "metadata": {},
   "outputs": [],
   "source": [
    "#заменим пропуски на кодовый номер и изменим тип данных на целочисленный\n",
    "telecom_dataset['operator_id'].fillna(999999, inplace=True)\n",
    "telecom_dataset['operator_id'] = telecom_dataset['operator_id'].astype('int')"
   ]
  },
  {
   "cell_type": "code",
   "execution_count": 17,
   "metadata": {},
   "outputs": [
    {
     "data": {
      "text/plain": [
       "'Количество дубликатов: 4893'"
      ]
     },
     "metadata": {},
     "output_type": "display_data"
    },
    {
     "data": {
      "text/plain": [
       "'Доля дубликатов от общего числа строк: 9.10%'"
      ]
     },
     "metadata": {},
     "output_type": "display_data"
    }
   ],
   "source": [
    "#проверим наличие дубликатов\n",
    "display('Количество дубликатов: {:.0f}'.format(telecom_dataset.duplicated().sum()))\n",
    "display('Доля дубликатов от общего числа строк: {:.2%}'.format(telecom_dataset.duplicated().sum() / telecom_dataset.shape[0]))"
   ]
  },
  {
   "cell_type": "markdown",
   "metadata": {},
   "source": [
    "Поскольку дубликаты составляют 9% от всего датасета, мы можем удалить их без вреда для результатов анализа."
   ]
  },
  {
   "cell_type": "code",
   "execution_count": 18,
   "metadata": {},
   "outputs": [],
   "source": [
    "telecom_dataset.drop_duplicates(inplace = True)"
   ]
  },
  {
   "cell_type": "code",
   "execution_count": 19,
   "metadata": {},
   "outputs": [
    {
     "name": "stdout",
     "output_type": "stream",
     "text": [
      "<class 'pandas.core.frame.DataFrame'>\n",
      "Int64Index: 48892 entries, 0 to 53901\n",
      "Data columns (total 9 columns):\n",
      "user_id                48892 non-null int64\n",
      "date                   48892 non-null datetime64[ns]\n",
      "direction              48892 non-null object\n",
      "internal               48892 non-null object\n",
      "operator_id            48892 non-null int64\n",
      "is_missed_call         48892 non-null bool\n",
      "calls_count            48892 non-null int64\n",
      "call_duration          48892 non-null int64\n",
      "total_call_duration    48892 non-null int64\n",
      "dtypes: bool(1), datetime64[ns](1), int64(5), object(2)\n",
      "memory usage: 3.4+ MB\n"
     ]
    }
   ],
   "source": [
    "#снова посмотрим на краткую сводку\n",
    "telecom_dataset.info()"
   ]
  },
  {
   "cell_type": "markdown",
   "metadata": {},
   "source": [
    "Мы обработали пропуски и дубликаты, теперь нужно проверить данные на адекватность и наличие выбросов."
   ]
  },
  {
   "cell_type": "code",
   "execution_count": 20,
   "metadata": {},
   "outputs": [
    {
     "data": {
      "image/png": "[encoded data removed]",
      "text/plain": [
       "<Figure size 1080x288 with 1 Axes>"
      ]
     },
     "metadata": {
      "needs_background": "light"
     },
     "output_type": "display_data"
    }
   ],
   "source": [
    "plt.figure(figsize=(15, 4))\n",
    "plt.bar('date', 'calls_count', data=telecom_dataset.groupby('date').agg({'calls_count' : 'sum'}).reset_index())\n",
    "plt.xlabel('Дата', fontsize=12)\n",
    "plt.ylabel('Количество звонков', fontsize=12)\n",
    "plt.title('Распределение звонков по дате совершения', fontsize=15);"
   ]
  },
  {
   "cell_type": "markdown",
   "metadata": {},
   "source": [
    "Мы располагаем данными о звонках, совершённых со 2 августа по 28 ноября 2019 года. Заметно, что в субботу и воскресенье совершается значительно меньше звонков, чем в будние дни: колл-центры и операторы работают по графику выходного дня. График демонстрирует рост общего количества звонков до 11 октября, потом наблюдается некоторое снижение активности, но с конца октября количество звонков снова начинает расти."
   ]
  },
  {
   "cell_type": "code",
   "execution_count": 21,
   "metadata": {},
   "outputs": [
    {
     "data": {
      "text/plain": [
       "month\n",
       "2019-08-01    85 \n",
       "2019-09-01    173\n",
       "2019-10-01    273\n",
       "2019-11-01    261\n",
       "Name: user_id, dtype: int64"
      ]
     },
     "execution_count": 21,
     "metadata": {},
     "output_type": "execute_result"
    }
   ],
   "source": [
    "#выделим из даты совершения звонка месяц и проверим нашу догадку\n",
    "telecom_dataset['month'] = telecom_dataset['date'].astype('datetime64[M]')\n",
    "telecom_dataset.groupby('month')['user_id'].nunique()"
   ]
  },
  {
   "cell_type": "code",
   "execution_count": 22,
   "metadata": {},
   "outputs": [
    {
     "data": {
      "text/plain": [
       "'Количество клиентов, совершающих звонки: 307'"
      ]
     },
     "metadata": {},
     "output_type": "display_data"
    },
    {
     "data": {
      "text/plain": [
       "'Количество клиентов, зарегистрировавшихся в сервисе: 732'"
      ]
     },
     "metadata": {},
     "output_type": "display_data"
    }
   ],
   "source": [
    "display('Количество клиентов, совершающих звонки: {:.0f}'.format(telecom_dataset['user_id'].nunique()))\n",
    "display('Количество клиентов, зарегистрировавшихся в сервисе: {:.0f}'.format(telecom_clients['user_id'].nunique()))"
   ]
  },
  {
   "cell_type": "markdown",
   "metadata": {},
   "source": [
    "Цифры подтверждают нашу гипотезу: количество уникальных клиентов растёт от месяца к месяцу, однако в ноябре наблюдается небольшое снижение активных пользователей (возможно, вызвано неполнотой данных за этот месяц). Мы видим, что число клиентов, совершающих звонки, в два раза меньше, чем общее число клиентов компании: не все из присоединившихся стали пользоваться услугами. Будем учитывать это при дальнейшем объединении таблиц."
   ]
  },
  {
   "cell_type": "code",
   "execution_count": 23,
   "metadata": {},
   "outputs": [
    {
     "data": {
      "image/png": "[encoded data removed]",
      "text/plain": [
       "<Figure size 1080x288 with 3 Axes>"
      ]
     },
     "metadata": {
      "needs_background": "light"
     },
     "output_type": "display_data"
    }
   ],
   "source": [
    "# посмотрим на распределение значений бинарных признаков\n",
    "\n",
    "fig, axes = plt.subplots(1, 3, constrained_layout=True, figsize=(15, 4))\n",
    "\n",
    "axes[0].set_title('Входящие и исходящие звонки')\n",
    "axes[0].bar('direction', 'calls_count', data=telecom_dataset.groupby('direction').agg({'calls_count':'sum'}).reset_index())\n",
    "axes[0].set_xlabel('Направление')\n",
    "axes[0].set_ylabel('Количество записей')\n",
    "\n",
    "axes[1].set_title('Внутренние и внешние звонки')\n",
    "axes[1].bar('internal', 'calls_count', data=telecom_dataset.groupby('internal').agg({'calls_count':'sum'}).reset_index())\n",
    "axes[1].set_xlabel('Маркер внутреннего вызова')\n",
    "axes[1].set_xticks([False, True])\n",
    "axes[1].set_ylabel('Количество записей')\n",
    "\n",
    "axes[2].set_title('Пропущенные звонки')\n",
    "axes[2].bar('is_missed_call', 'calls_count', data=telecom_dataset.groupby('is_missed_call').agg({'calls_count':'sum'}).reset_index())\n",
    "axes[2].set_xlabel('Маркер пропущенного вызова')\n",
    "axes[2].set_xticks([False, True])\n",
    "axes[2].set_ylabel('Количество записей');"
   ]
  },
  {
   "cell_type": "markdown",
   "metadata": {},
   "source": [
    "Большинство вызовов являются внешними (98%) и исходящими (75%). Достаточно много звонков отмечены как пропущенные (47%): возможно, нужно изменить схему распределения звонков по операторам, чтобы снизить их число."
   ]
  },
  {
   "cell_type": "code",
   "execution_count": 24,
   "metadata": {},
   "outputs": [
    {
     "data": {
      "image/png": "[encoded data removed]",
      "text/plain": [
       "<Figure size 1224x576 with 2 Axes>"
      ]
     },
     "metadata": {
      "needs_background": "light"
     },
     "output_type": "display_data"
    }
   ],
   "source": [
    "# посмотрим на распределение числовых значений количества звонков\n",
    "\n",
    "fig, axes = plt.subplots(2, 1, constrained_layout=True, figsize=(17, 8))\n",
    "\n",
    "sns.distplot(telecom_dataset.groupby(['date','user_id']).agg({'calls_count' : 'sum'}), bins=1000, ax=axes[0])\n",
    "axes[0].set_title('Распределение звонков по количеству', fontsize=15)\n",
    "axes[0].set_xlim(0, 150)\n",
    "axes[0].set_xlabel('Количество звонков в день', fontsize=12)\n",
    "axes[0].set_ylabel('Плотность частоты', fontsize=12)\n",
    "\n",
    "sns.boxplot(x='calls_count', data=(telecom_dataset.groupby(['date','user_id'])\n",
    "                                                  .agg({'calls_count' : 'sum'})\n",
    "                                                  .reset_index()), orient='h')\n",
    "axes[1].set_xlabel('Количество звонков в день', fontsize=12)\n",
    "axes[1].set_title('Диаграмма размаха по количеству звонков', fontsize=15);"
   ]
  },
  {
   "cell_type": "markdown",
   "metadata": {},
   "source": [
    "Половина клиентов совершает от 1 до 10 звонков в день, после 60 звонков тянется длинный хвост \"выбросов\", который становится редким только в районе 4000 звонков. Самое высокое значение в выборке - 6049 звонков в день. Изучим подробнее аномальные значения."
   ]
  },
  {
   "cell_type": "code",
   "execution_count": 25,
   "metadata": {},
   "outputs": [
    {
     "data": {
      "text/html": [
       "<div>\n",
       "<style scoped>\n",
       "    .dataframe tbody tr th:only-of-type {\n",
       "        vertical-align: middle;\n",
       "    }\n",
       "\n",
       "    .dataframe tbody tr th {\n",
       "        vertical-align: top;\n",
       "    }\n",
       "\n",
       "    .dataframe thead th {\n",
       "        text-align: right;\n",
       "    }\n",
       "</style>\n",
       "<table border=\"1\" class=\"dataframe\">\n",
       "  <thead>\n",
       "    <tr style=\"text-align: right;\">\n",
       "      <th></th>\n",
       "      <th>date</th>\n",
       "      <th>user_id</th>\n",
       "      <th>calls_count</th>\n",
       "      <th>operator_id</th>\n",
       "      <th>total_call_duration</th>\n",
       "      <th>is_missed_call</th>\n",
       "      <th>direction</th>\n",
       "    </tr>\n",
       "  </thead>\n",
       "  <tbody>\n",
       "    <tr>\n",
       "      <td>2290</td>\n",
       "      <td>2019-09-26</td>\n",
       "      <td>167626</td>\n",
       "      <td>4354</td>\n",
       "      <td>29</td>\n",
       "      <td>273136</td>\n",
       "      <td>[True, False]</td>\n",
       "      <td>[out, in]</td>\n",
       "    </tr>\n",
       "    <tr>\n",
       "      <td>2389</td>\n",
       "      <td>2019-09-27</td>\n",
       "      <td>167626</td>\n",
       "      <td>4141</td>\n",
       "      <td>31</td>\n",
       "      <td>258277</td>\n",
       "      <td>[True, False]</td>\n",
       "      <td>[out, in]</td>\n",
       "    </tr>\n",
       "    <tr>\n",
       "      <td>2704</td>\n",
       "      <td>2019-10-01</td>\n",
       "      <td>167626</td>\n",
       "      <td>4739</td>\n",
       "      <td>30</td>\n",
       "      <td>291812</td>\n",
       "      <td>[True, False]</td>\n",
       "      <td>[out, in]</td>\n",
       "    </tr>\n",
       "    <tr>\n",
       "      <td>2810</td>\n",
       "      <td>2019-10-02</td>\n",
       "      <td>167626</td>\n",
       "      <td>4279</td>\n",
       "      <td>29</td>\n",
       "      <td>260388</td>\n",
       "      <td>[False, True]</td>\n",
       "      <td>[out, in]</td>\n",
       "    </tr>\n",
       "    <tr>\n",
       "      <td>2918</td>\n",
       "      <td>2019-10-03</td>\n",
       "      <td>167626</td>\n",
       "      <td>6049</td>\n",
       "      <td>33</td>\n",
       "      <td>288695</td>\n",
       "      <td>[True, False]</td>\n",
       "      <td>[out, in]</td>\n",
       "    </tr>\n",
       "    <tr>\n",
       "      <td>3032</td>\n",
       "      <td>2019-10-04</td>\n",
       "      <td>167626</td>\n",
       "      <td>5887</td>\n",
       "      <td>29</td>\n",
       "      <td>277801</td>\n",
       "      <td>[False, True]</td>\n",
       "      <td>[out, in]</td>\n",
       "    </tr>\n",
       "    <tr>\n",
       "      <td>3255</td>\n",
       "      <td>2019-10-07</td>\n",
       "      <td>167626</td>\n",
       "      <td>5681</td>\n",
       "      <td>25</td>\n",
       "      <td>233260</td>\n",
       "      <td>[True, False]</td>\n",
       "      <td>[out, in]</td>\n",
       "    </tr>\n",
       "    <tr>\n",
       "      <td>3291</td>\n",
       "      <td>2019-10-08</td>\n",
       "      <td>166582</td>\n",
       "      <td>4286</td>\n",
       "      <td>4</td>\n",
       "      <td>235614</td>\n",
       "      <td>[True, False]</td>\n",
       "      <td>[in, out]</td>\n",
       "    </tr>\n",
       "    <tr>\n",
       "      <td>3376</td>\n",
       "      <td>2019-10-08</td>\n",
       "      <td>167626</td>\n",
       "      <td>5178</td>\n",
       "      <td>31</td>\n",
       "      <td>228040</td>\n",
       "      <td>[True, False]</td>\n",
       "      <td>[out, in]</td>\n",
       "    </tr>\n",
       "    <tr>\n",
       "      <td>3501</td>\n",
       "      <td>2019-10-09</td>\n",
       "      <td>167626</td>\n",
       "      <td>4497</td>\n",
       "      <td>26</td>\n",
       "      <td>211129</td>\n",
       "      <td>[False, True]</td>\n",
       "      <td>[out, in]</td>\n",
       "    </tr>\n",
       "    <tr>\n",
       "      <td>3631</td>\n",
       "      <td>2019-10-10</td>\n",
       "      <td>167626</td>\n",
       "      <td>4636</td>\n",
       "      <td>31</td>\n",
       "      <td>255393</td>\n",
       "      <td>[False, True]</td>\n",
       "      <td>[out, in]</td>\n",
       "    </tr>\n",
       "    <tr>\n",
       "      <td>3753</td>\n",
       "      <td>2019-10-11</td>\n",
       "      <td>167626</td>\n",
       "      <td>4721</td>\n",
       "      <td>27</td>\n",
       "      <td>203940</td>\n",
       "      <td>[True, False]</td>\n",
       "      <td>[out, in]</td>\n",
       "    </tr>\n",
       "    <tr>\n",
       "      <td>4026</td>\n",
       "      <td>2019-10-14</td>\n",
       "      <td>167626</td>\n",
       "      <td>4260</td>\n",
       "      <td>27</td>\n",
       "      <td>192743</td>\n",
       "      <td>[True, False]</td>\n",
       "      <td>[out, in]</td>\n",
       "    </tr>\n",
       "    <tr>\n",
       "      <td>4158</td>\n",
       "      <td>2019-10-15</td>\n",
       "      <td>167626</td>\n",
       "      <td>4648</td>\n",
       "      <td>33</td>\n",
       "      <td>174323</td>\n",
       "      <td>[True, False]</td>\n",
       "      <td>[out, in]</td>\n",
       "    </tr>\n",
       "    <tr>\n",
       "      <td>4811</td>\n",
       "      <td>2019-10-21</td>\n",
       "      <td>166582</td>\n",
       "      <td>4057</td>\n",
       "      <td>4</td>\n",
       "      <td>193885</td>\n",
       "      <td>[False, True]</td>\n",
       "      <td>[out, in]</td>\n",
       "    </tr>\n",
       "    <tr>\n",
       "      <td>7777</td>\n",
       "      <td>2019-11-11</td>\n",
       "      <td>167827</td>\n",
       "      <td>5089</td>\n",
       "      <td>3</td>\n",
       "      <td>22168</td>\n",
       "      <td>[True, False]</td>\n",
       "      <td>[in, out]</td>\n",
       "    </tr>\n",
       "  </tbody>\n",
       "</table>\n",
       "</div>"
      ],
      "text/plain": [
       "           date  user_id  calls_count  operator_id  total_call_duration  \\\n",
       "2290 2019-09-26  167626   4354         29           273136                \n",
       "2389 2019-09-27  167626   4141         31           258277                \n",
       "2704 2019-10-01  167626   4739         30           291812                \n",
       "2810 2019-10-02  167626   4279         29           260388                \n",
       "2918 2019-10-03  167626   6049         33           288695                \n",
       "3032 2019-10-04  167626   5887         29           277801                \n",
       "3255 2019-10-07  167626   5681         25           233260                \n",
       "3291 2019-10-08  166582   4286         4            235614                \n",
       "3376 2019-10-08  167626   5178         31           228040                \n",
       "3501 2019-10-09  167626   4497         26           211129                \n",
       "3631 2019-10-10  167626   4636         31           255393                \n",
       "3753 2019-10-11  167626   4721         27           203940                \n",
       "4026 2019-10-14  167626   4260         27           192743                \n",
       "4158 2019-10-15  167626   4648         33           174323                \n",
       "4811 2019-10-21  166582   4057         4            193885                \n",
       "7777 2019-11-11  167827   5089         3            22168                 \n",
       "\n",
       "     is_missed_call  direction  \n",
       "2290  [True, False]  [out, in]  \n",
       "2389  [True, False]  [out, in]  \n",
       "2704  [True, False]  [out, in]  \n",
       "2810  [False, True]  [out, in]  \n",
       "2918  [True, False]  [out, in]  \n",
       "3032  [False, True]  [out, in]  \n",
       "3255  [True, False]  [out, in]  \n",
       "3291  [True, False]  [in, out]  \n",
       "3376  [True, False]  [out, in]  \n",
       "3501  [False, True]  [out, in]  \n",
       "3631  [False, True]  [out, in]  \n",
       "3753  [True, False]  [out, in]  \n",
       "4026  [True, False]  [out, in]  \n",
       "4158  [True, False]  [out, in]  \n",
       "4811  [False, True]  [out, in]  \n",
       "7777  [True, False]  [in, out]  "
      ]
     },
     "execution_count": 25,
     "metadata": {},
     "output_type": "execute_result"
    }
   ],
   "source": [
    "# выведем строки, где больше 4000 звонков\n",
    "(telecom_dataset.groupby(['date','user_id']).agg({'calls_count' : 'sum', \n",
    "                                                  'operator_id':'nunique',\n",
    "                                                  'total_call_duration':'sum',\n",
    "                                                  'is_missed_call':'unique',\n",
    "                                                  'direction':'unique'})\n",
    "                                            .reset_index()\n",
    "                                            .query('calls_count > 4000'))"
   ]
  },
  {
   "cell_type": "markdown",
   "metadata": {},
   "source": [
    "Практически все многочисленные звонки сделаны пользователем 167626 в период с 25 сентября по 15 октября при использовании большого количества операторов. Очевидно, данный клиент принёс компании много выручки. Проверим, продолжает ли он свою активность в настоящее время."
   ]
  },
  {
   "cell_type": "code",
   "execution_count": 26,
   "metadata": {},
   "outputs": [
    {
     "data": {
      "text/html": [
       "<div>\n",
       "<style scoped>\n",
       "    .dataframe tbody tr th:only-of-type {\n",
       "        vertical-align: middle;\n",
       "    }\n",
       "\n",
       "    .dataframe tbody tr th {\n",
       "        vertical-align: top;\n",
       "    }\n",
       "\n",
       "    .dataframe thead th {\n",
       "        text-align: right;\n",
       "    }\n",
       "</style>\n",
       "<table border=\"1\" class=\"dataframe\">\n",
       "  <thead>\n",
       "    <tr style=\"text-align: right;\">\n",
       "      <th></th>\n",
       "      <th>calls_count</th>\n",
       "    </tr>\n",
       "    <tr>\n",
       "      <th>date</th>\n",
       "      <th></th>\n",
       "    </tr>\n",
       "  </thead>\n",
       "  <tbody>\n",
       "    <tr>\n",
       "      <td>2019-10-16</td>\n",
       "      <td>946</td>\n",
       "    </tr>\n",
       "    <tr>\n",
       "      <td>2019-10-17</td>\n",
       "      <td>745</td>\n",
       "    </tr>\n",
       "    <tr>\n",
       "      <td>2019-10-18</td>\n",
       "      <td>1187</td>\n",
       "    </tr>\n",
       "    <tr>\n",
       "      <td>2019-10-19</td>\n",
       "      <td>241</td>\n",
       "    </tr>\n",
       "    <tr>\n",
       "      <td>2019-10-20</td>\n",
       "      <td>5</td>\n",
       "    </tr>\n",
       "  </tbody>\n",
       "</table>\n",
       "</div>"
      ],
      "text/plain": [
       "            calls_count\n",
       "date                   \n",
       "2019-10-16  946        \n",
       "2019-10-17  745        \n",
       "2019-10-18  1187       \n",
       "2019-10-19  241        \n",
       "2019-10-20  5          "
      ]
     },
     "execution_count": 26,
     "metadata": {},
     "output_type": "execute_result"
    }
   ],
   "source": [
    "telecom_dataset.query('user_id == 167626').groupby('date').agg({'calls_count' : 'sum'}).tail()"
   ]
  },
  {
   "cell_type": "markdown",
   "metadata": {},
   "source": [
    "Последняя активность пользователя 167626 зафиксирована 20 октября. Если нам предоставили полные логи, к сожалению, он перестал пользоваться услугами компании."
   ]
  },
  {
   "cell_type": "code",
   "execution_count": 27,
   "metadata": {},
   "outputs": [
    {
     "data": {
      "image/png": "[encoded data removed]",
      "text/plain": [
       "<Figure size 1080x576 with 3 Axes>"
      ]
     },
     "metadata": {
      "needs_background": "light"
     },
     "output_type": "display_data"
    }
   ],
   "source": [
    "# посмотрим на распределение числовых значений длительности звонков за день\n",
    "\n",
    "gs = gridspec.GridSpec(2, 2)\n",
    "\n",
    "fig = plt.figure(figsize=(15, 8))\n",
    "\n",
    "ax1 = fig.add_subplot(gs[0, :])\n",
    "ax1.set_title('Распределение вызовов по длительности (суммарно за день)', fontsize=15)\n",
    "ax1.set_xlim([-10, 1800])\n",
    "sns.distplot(telecom_dataset.groupby(['date','user_id'])\n",
    "                            .agg({'call_duration':'sum'}), bins=1000, ax=ax1, label='Без учёта ожидания')\n",
    "sns.distplot(telecom_dataset.groupby(['date','user_id'])\n",
    "                            .agg({'total_call_duration':'sum'}), bins=1000, ax=ax1, label='С учётом ожидания')\n",
    "ax1.set_xlabel('Длительность звонка (в секундах)', fontsize=12)\n",
    "ax1.legend()\n",
    "\n",
    "ax2 = fig.add_subplot(gs[1, 0])\n",
    "sns.boxplot(x='call_duration', data=telecom_dataset.groupby(['date','user_id'])\n",
    "                                                   .agg({'call_duration':'sum'})\n",
    "                                                   .reset_index(), orient='h', ax=ax2)\n",
    "ax2.set_xlabel('Длительность звонка без учёта времени ожидания', fontsize=12)\n",
    "\n",
    "\n",
    "ax3 = fig.add_subplot(gs[1, 1])\n",
    "sns.boxplot(x='total_call_duration', data=telecom_dataset, orient='h', ax=ax3)\n",
    "ax3.set_xlabel('Длительность звонка с учётом времени ожидания', fontsize=12);"
   ]
  },
  {
   "cell_type": "markdown",
   "metadata": {},
   "source": [
    "75% пользователей в день тратит на звонки 41 минуту чистого времени разговора или 52,5 минуты с учётом времени ожидания. Однако в датасете присутствуют явно завышенные значения: максимальное время разговора без учёта ожидания составляет 222091 секунд, т.е. почти 62 часа, с учётом ожидания — 291812 секунд, т.е. 81 час. Данные числа значительно превышают возможное количество часов в сутках и определённо являются ошибочными: либо время завершения звонка не было записано корректно, и после окончания разговора линия продолжала работать, либо произошло дублирование при агрегации данных. Изучим аномальные значения подробнее."
   ]
  },
  {
   "cell_type": "code",
   "execution_count": 28,
   "metadata": {},
   "outputs": [
    {
     "data": {
      "text/plain": [
       "array([166582, 167626, 168361, 168252])"
      ]
     },
     "execution_count": 28,
     "metadata": {},
     "output_type": "execute_result"
    }
   ],
   "source": [
    "#выведем список пользователей, чьё чистое время разговора составляет больше суток\n",
    "(telecom_dataset.groupby(['date','user_id'])\n",
    "                .agg({'call_duration' : 'sum'})\n",
    "                .reset_index().query('call_duration > 86400')\n",
    "                ['user_id'].unique())"
   ]
  },
  {
   "cell_type": "markdown",
   "metadata": {},
   "source": [
    "Аномальные записи относятся к пользователям 166582, 168361, 168252 и уже известного нам 167626. Проверим, продолжают ли сотрудничать с компанией первые три клиента."
   ]
  },
  {
   "cell_type": "code",
   "execution_count": 29,
   "metadata": {},
   "outputs": [
    {
     "data": {
      "text/html": [
       "<div>\n",
       "<style scoped>\n",
       "    .dataframe tbody tr th:only-of-type {\n",
       "        vertical-align: middle;\n",
       "    }\n",
       "\n",
       "    .dataframe tbody tr th {\n",
       "        vertical-align: top;\n",
       "    }\n",
       "\n",
       "    .dataframe thead th {\n",
       "        text-align: right;\n",
       "    }\n",
       "</style>\n",
       "<table border=\"1\" class=\"dataframe\">\n",
       "  <thead>\n",
       "    <tr style=\"text-align: right;\">\n",
       "      <th></th>\n",
       "      <th>date</th>\n",
       "      <th>call_duration</th>\n",
       "    </tr>\n",
       "  </thead>\n",
       "  <tbody>\n",
       "    <tr>\n",
       "      <td>100</td>\n",
       "      <td>2019-11-23</td>\n",
       "      <td>0</td>\n",
       "    </tr>\n",
       "    <tr>\n",
       "      <td>101</td>\n",
       "      <td>2019-11-25</td>\n",
       "      <td>6152</td>\n",
       "    </tr>\n",
       "    <tr>\n",
       "      <td>102</td>\n",
       "      <td>2019-11-26</td>\n",
       "      <td>7040</td>\n",
       "    </tr>\n",
       "    <tr>\n",
       "      <td>103</td>\n",
       "      <td>2019-11-27</td>\n",
       "      <td>6811</td>\n",
       "    </tr>\n",
       "    <tr>\n",
       "      <td>104</td>\n",
       "      <td>2019-11-28</td>\n",
       "      <td>5357</td>\n",
       "    </tr>\n",
       "  </tbody>\n",
       "</table>\n",
       "</div>"
      ],
      "text/plain": [
       "          date  call_duration\n",
       "100 2019-11-23  0            \n",
       "101 2019-11-25  6152         \n",
       "102 2019-11-26  7040         \n",
       "103 2019-11-27  6811         \n",
       "104 2019-11-28  5357         "
      ]
     },
     "metadata": {},
     "output_type": "display_data"
    },
    {
     "data": {
      "text/html": [
       "<div>\n",
       "<style scoped>\n",
       "    .dataframe tbody tr th:only-of-type {\n",
       "        vertical-align: middle;\n",
       "    }\n",
       "\n",
       "    .dataframe tbody tr th {\n",
       "        vertical-align: top;\n",
       "    }\n",
       "\n",
       "    .dataframe thead th {\n",
       "        text-align: right;\n",
       "    }\n",
       "</style>\n",
       "<table border=\"1\" class=\"dataframe\">\n",
       "  <thead>\n",
       "    <tr style=\"text-align: right;\">\n",
       "      <th></th>\n",
       "      <th>date</th>\n",
       "      <th>call_duration</th>\n",
       "    </tr>\n",
       "  </thead>\n",
       "  <tbody>\n",
       "    <tr>\n",
       "      <td>32</td>\n",
       "      <td>2019-11-24</td>\n",
       "      <td>126753</td>\n",
       "    </tr>\n",
       "    <tr>\n",
       "      <td>33</td>\n",
       "      <td>2019-11-25</td>\n",
       "      <td>140071</td>\n",
       "    </tr>\n",
       "    <tr>\n",
       "      <td>34</td>\n",
       "      <td>2019-11-26</td>\n",
       "      <td>129937</td>\n",
       "    </tr>\n",
       "    <tr>\n",
       "      <td>35</td>\n",
       "      <td>2019-11-27</td>\n",
       "      <td>114009</td>\n",
       "    </tr>\n",
       "    <tr>\n",
       "      <td>36</td>\n",
       "      <td>2019-11-28</td>\n",
       "      <td>108290</td>\n",
       "    </tr>\n",
       "  </tbody>\n",
       "</table>\n",
       "</div>"
      ],
      "text/plain": [
       "         date  call_duration\n",
       "32 2019-11-24  126753       \n",
       "33 2019-11-25  140071       \n",
       "34 2019-11-26  129937       \n",
       "35 2019-11-27  114009       \n",
       "36 2019-11-28  108290       "
      ]
     },
     "metadata": {},
     "output_type": "display_data"
    },
    {
     "data": {
      "text/html": [
       "<div>\n",
       "<style scoped>\n",
       "    .dataframe tbody tr th:only-of-type {\n",
       "        vertical-align: middle;\n",
       "    }\n",
       "\n",
       "    .dataframe tbody tr th {\n",
       "        vertical-align: top;\n",
       "    }\n",
       "\n",
       "    .dataframe thead th {\n",
       "        text-align: right;\n",
       "    }\n",
       "</style>\n",
       "<table border=\"1\" class=\"dataframe\">\n",
       "  <thead>\n",
       "    <tr style=\"text-align: right;\">\n",
       "      <th></th>\n",
       "      <th>date</th>\n",
       "      <th>call_duration</th>\n",
       "    </tr>\n",
       "  </thead>\n",
       "  <tbody>\n",
       "    <tr>\n",
       "      <td>36</td>\n",
       "      <td>2019-11-24</td>\n",
       "      <td>10775</td>\n",
       "    </tr>\n",
       "    <tr>\n",
       "      <td>37</td>\n",
       "      <td>2019-11-25</td>\n",
       "      <td>104417</td>\n",
       "    </tr>\n",
       "    <tr>\n",
       "      <td>38</td>\n",
       "      <td>2019-11-26</td>\n",
       "      <td>107910</td>\n",
       "    </tr>\n",
       "    <tr>\n",
       "      <td>39</td>\n",
       "      <td>2019-11-27</td>\n",
       "      <td>100178</td>\n",
       "    </tr>\n",
       "    <tr>\n",
       "      <td>40</td>\n",
       "      <td>2019-11-28</td>\n",
       "      <td>81682</td>\n",
       "    </tr>\n",
       "  </tbody>\n",
       "</table>\n",
       "</div>"
      ],
      "text/plain": [
       "         date  call_duration\n",
       "36 2019-11-24  10775        \n",
       "37 2019-11-25  104417       \n",
       "38 2019-11-26  107910       \n",
       "39 2019-11-27  100178       \n",
       "40 2019-11-28  81682        "
      ]
     },
     "metadata": {},
     "output_type": "display_data"
    }
   ],
   "source": [
    "for user in [166582, 168361, 168252]:\n",
    "    display(telecom_dataset.loc[telecom_dataset['user_id'] == user]\n",
    "            .groupby('date')\n",
    "            .agg({'call_duration':'sum'})\n",
    "            .reset_index()\n",
    "            .tail()\n",
    "           )"
   ]
  },
  {
   "cell_type": "markdown",
   "metadata": {},
   "source": [
    "Пользователи 166582, 168361, 168252 продолжают быть активным, причём звонки 168361 и 168252 в конце ноября снова превышают количество часов в сутках. Проверим, какими тарифами пользуются указанные клиенты."
   ]
  },
  {
   "cell_type": "code",
   "execution_count": 30,
   "metadata": {},
   "outputs": [
    {
     "data": {
      "text/html": [
       "<div>\n",
       "<style scoped>\n",
       "    .dataframe tbody tr th:only-of-type {\n",
       "        vertical-align: middle;\n",
       "    }\n",
       "\n",
       "    .dataframe tbody tr th {\n",
       "        vertical-align: top;\n",
       "    }\n",
       "\n",
       "    .dataframe thead th {\n",
       "        text-align: right;\n",
       "    }\n",
       "</style>\n",
       "<table border=\"1\" class=\"dataframe\">\n",
       "  <thead>\n",
       "    <tr style=\"text-align: right;\">\n",
       "      <th></th>\n",
       "      <th>user_id</th>\n",
       "      <th>tariff_plan</th>\n",
       "      <th>date_start</th>\n",
       "    </tr>\n",
       "  </thead>\n",
       "  <tbody>\n",
       "    <tr>\n",
       "      <td>7</td>\n",
       "      <td>168252</td>\n",
       "      <td>A</td>\n",
       "      <td>2019-10-17</td>\n",
       "    </tr>\n",
       "    <tr>\n",
       "      <td>21</td>\n",
       "      <td>168361</td>\n",
       "      <td>A</td>\n",
       "      <td>2019-10-23</td>\n",
       "    </tr>\n",
       "    <tr>\n",
       "      <td>50</td>\n",
       "      <td>166582</td>\n",
       "      <td>A</td>\n",
       "      <td>2019-08-09</td>\n",
       "    </tr>\n",
       "    <tr>\n",
       "      <td>71</td>\n",
       "      <td>167626</td>\n",
       "      <td>A</td>\n",
       "      <td>2019-09-24</td>\n",
       "    </tr>\n",
       "  </tbody>\n",
       "</table>\n",
       "</div>"
      ],
      "text/plain": [
       "    user_id tariff_plan date_start\n",
       "7   168252   A          2019-10-17\n",
       "21  168361   A          2019-10-23\n",
       "50  166582   A          2019-08-09\n",
       "71  167626   A          2019-09-24"
      ]
     },
     "execution_count": 30,
     "metadata": {},
     "output_type": "execute_result"
    }
   ],
   "source": [
    "telecom_clients.query('user_id in (167626, 166582, 168361, 168252)')"
   ]
  },
  {
   "cell_type": "markdown",
   "metadata": {},
   "source": [
    "Все аномальные клиенты (включая ушедшего 167626) приобрели тариф А - с самой высокой абонентской платой и самыми дешевыми минутами разговора. Вероятно, они изначально собирались очень активно пользоваться связью, возможно, ведут переговоры по нескольким линиям одновременно, и из-за этого время разговора задваивается. Так как указанные клиенты приносят компании много дохода, они достойны особого подхода: в интересах компании не переводить их на более дешевый тариф, а предложить премиальное обслуживание и персональные скидки. Поскольку их аномальная активность повлияет на механизм расчета переплат, в интересах корректности исследования мы удалим данных клиентов из датасета и изучим их отдельно."
   ]
  },
  {
   "cell_type": "code",
   "execution_count": 31,
   "metadata": {},
   "outputs": [
    {
     "data": {
      "text/plain": [
       "'Удалено 8.62% строк датасета'"
      ]
     },
     "metadata": {},
     "output_type": "display_data"
    }
   ],
   "source": [
    "telecom_data_new = telecom_dataset.query('user_id not in (167626, 166582, 168361, 168252)')\n",
    "display('Удалено {:.2%} строк датасета'.format(telecom_dataset.shape[0] / telecom_data_new.shape[0] - 1))"
   ]
  },
  {
   "cell_type": "markdown",
   "metadata": {},
   "source": [
    "### Выводы по разделу"
   ]
  },
  {
   "cell_type": "markdown",
   "metadata": {},
   "source": [
    "На этапе предобработки мы перевели данные в таблицах в нужный формат (datetime64 для дат, int64 для идентификаторов оператора), в таблице с информацией о звонках удалили 117 пропусков в маркере внутренних и внешних вызовов (0,2% датасета) и 4893 дубликатов (9,10% датасета), пропущенные значения в идентификаторах оператора заменили кодовым сочетанием 999999 во избежание потери большого количества строк (15% датасета). Познакомившись с данными, мы выяснили следующее:\n",
    "1. Заказчик предоставил данные о 732 клиентах компании, которые присоединились к сервису с 1 августа по 31 октября 2019 года (258 человек пришли в августе, 231 в сентябре и 243 в октябре). Больше половины клиентов (395 человек) пользуются тарифом С с ежемесячной платой 1000 рублей, на втором месте тариф B с ежемесячной платой 2000 рублей (261 клиентов), тарифом А с ежемесячной платой 5000 рублей пользуются 76 клиентов.\n",
    "2. В данных о звонках, совершённых со 2 августа по 28 ноября 2019 года, было идентифицировано 307 уникальных клиентов. Количество активных пользователей растёт с течением времени: в августе сервисом пользовались 85 уникальных клиентов, в ноябре 261.\n",
    "3. В субботу и воскресенье совершается значительно меньше звонков, чем в будние дни: колл-центры и операторы работают по графику выходного дня. Подключение новых клиентов к тарифам также обычно происходит с понедельника по пятницу.\n",
    "4. Большинство вызовов являются внешними (98%) и исходящими (75%). Достаточно много звонков отмечены как пропущенные (47%): возможно, нужно изменить схему распределения звонков по операторам, чтобы снизить их число.\n",
    "5. Половина клиентов совершает от 1 до 10 звонков в день, однако обнаружены и аномальные значения: самое высокое - 6049 звонков в день. Практически все многочисленные звонки сделаны пользователем 167626 в период с 25 сентября по 15 октября. К сожалению, последняя запись его активности относится к 20 октября: если предоставленные нам логи полные, он перестал пользоваться услугами компании.\n",
    "6. 75% пользователей в день тратит на звонки 41 минуту чистого времени разговора или 52,5 минуты с учётом времени ожидания. Были обнаружены выбросы: максимальное время разговора без учёта ожидания составляет 222091 секунд, т.е. почти 62 часа, с учётом ожидания — 291812 секунд, т.е. 81 час. Мы выяснили, что все записи, где чистое время разговора составляет больше суток, относятся к клиентам 166582, 168361, 168252. Все они пользуются тарифом А и продолжают быть активными на 28 ноября 2019 года. Так как указанные клиенты приносят компании много дохода, мы рекомендуем предложить им премиальное обслуживание и персональные скидки. В рамках исследования по оптимизации тарифов указанных клиентов мы рассматривать не будем, так как они заслуживают особого изучения."
   ]
  },
  {
   "cell_type": "markdown",
   "metadata": {},
   "source": [
    "## Исследовательский анализ данных"
   ]
  },
  {
   "cell_type": "markdown",
   "metadata": {},
   "source": [
    "### Поиск клиентов, которые переплачивают по своим тарифам"
   ]
  },
  {
   "cell_type": "markdown",
   "metadata": {},
   "source": [
    "Для ответа на вопросы заказчика нам нужно изучить затраты активных клиентов. По правилам компании абонентская плата взимается первого числа каждого месяца. Как мы выяснили ранее, ежемесячно к сервису присоединяется примерно одинаковое количество человек, но не все зарегистрировавшиеся клиенты совершают звонки. Будем считать активными клиентов, которые совершали звонки в ноябре: поскольку у нас есть данные о регистрациях с августа по октябрь, в ноябре для всех пользователей наступил как минимум второй отчётный период, и если они не ушли раньше, у них высокий потенциал стать постоянными клентами компании."
   ]
  },
  {
   "cell_type": "code",
   "execution_count": 32,
   "metadata": {},
   "outputs": [],
   "source": [
    "#выделим список активных клиентов\n",
    "active_clients = telecom_data_new.loc[telecom_data_new['month'] == \"2019-11-01\", 'user_id'].unique().tolist()"
   ]
  },
  {
   "cell_type": "code",
   "execution_count": 33,
   "metadata": {},
   "outputs": [
    {
     "data": {
      "image/png": "[encoded data removed]",
      "text/plain": [
       "<Figure size 1080x288 with 1 Axes>"
      ]
     },
     "metadata": {
      "needs_background": "light"
     },
     "output_type": "display_data"
    }
   ],
   "source": [
    "# изучим активность выбранных клиентов, чтобы исключить тех, кто ушёл в начале месяца\n",
    "plt.figure(figsize=(15, 4))\n",
    "sns.scatterplot(x='date', y='user_id', \n",
    "             data = telecom_data_new.query('user_id in @active_clients').groupby('user_id')['date'].max().reset_index())\n",
    "plt.xlim('2019-11-01', '2019-11-30')\n",
    "plt.xlabel('Дата последней активности', fontsize=12)\n",
    "plt.ylabel('Индентификатор клиента', fontsize=12)\n",
    "plt.title('Распределение клиентов, совершавших звонки в ноябре, по дате последней активности', fontsize=15)\n",
    "plt.grid();"
   ]
  },
  {
   "cell_type": "markdown",
   "metadata": {},
   "source": [
    "Большая часть клиентов была активна в последний день логов, практически все совершали звонки во второй половине месяца. Однако есть колл-центры, чья активность прекратилась в начале месяца - маловероятно, что весь их персонал одновременно ушёл в отпуск, и некому стало совершать звонки. Этих клиентов можно записать в отток. В интересах исследования оставим в выборке только самых активных пользователей: тех, кто совершал звонки с 18 по 28 ноября."
   ]
  },
  {
   "cell_type": "code",
   "execution_count": 34,
   "metadata": {},
   "outputs": [],
   "source": [
    "active_clients = telecom_data_new.loc[telecom_data_new['date'] >= \"2019-11-18\", 'user_id'].unique().tolist()"
   ]
  },
  {
   "cell_type": "code",
   "execution_count": 35,
   "metadata": {},
   "outputs": [
    {
     "data": {
      "text/html": [
       "<div>\n",
       "<style scoped>\n",
       "    .dataframe tbody tr th:only-of-type {\n",
       "        vertical-align: middle;\n",
       "    }\n",
       "\n",
       "    .dataframe tbody tr th {\n",
       "        vertical-align: top;\n",
       "    }\n",
       "\n",
       "    .dataframe thead th {\n",
       "        text-align: right;\n",
       "    }\n",
       "</style>\n",
       "<table border=\"1\" class=\"dataframe\">\n",
       "  <thead>\n",
       "    <tr style=\"text-align: right;\">\n",
       "      <th></th>\n",
       "      <th>user_id</th>\n",
       "      <th>date</th>\n",
       "      <th>direction</th>\n",
       "      <th>internal</th>\n",
       "      <th>operator_id</th>\n",
       "      <th>is_missed_call</th>\n",
       "      <th>calls_count</th>\n",
       "      <th>call_duration</th>\n",
       "      <th>total_call_duration</th>\n",
       "      <th>month</th>\n",
       "    </tr>\n",
       "  </thead>\n",
       "  <tbody>\n",
       "    <tr>\n",
       "      <td>33849</td>\n",
       "      <td>167497</td>\n",
       "      <td>2019-10-30</td>\n",
       "      <td>out</td>\n",
       "      <td>True</td>\n",
       "      <td>924948</td>\n",
       "      <td>False</td>\n",
       "      <td>2</td>\n",
       "      <td>1250</td>\n",
       "      <td>1281</td>\n",
       "      <td>2019-10-01</td>\n",
       "    </tr>\n",
       "    <tr>\n",
       "      <td>31376</td>\n",
       "      <td>167445</td>\n",
       "      <td>2019-10-07</td>\n",
       "      <td>out</td>\n",
       "      <td>False</td>\n",
       "      <td>920706</td>\n",
       "      <td>True</td>\n",
       "      <td>2</td>\n",
       "      <td>0</td>\n",
       "      <td>16</td>\n",
       "      <td>2019-10-01</td>\n",
       "    </tr>\n",
       "    <tr>\n",
       "      <td>25865</td>\n",
       "      <td>167150</td>\n",
       "      <td>2019-09-24</td>\n",
       "      <td>out</td>\n",
       "      <td>False</td>\n",
       "      <td>905542</td>\n",
       "      <td>False</td>\n",
       "      <td>33</td>\n",
       "      <td>2533</td>\n",
       "      <td>2934</td>\n",
       "      <td>2019-09-01</td>\n",
       "    </tr>\n",
       "    <tr>\n",
       "      <td>30566</td>\n",
       "      <td>167359</td>\n",
       "      <td>2019-10-08</td>\n",
       "      <td>out</td>\n",
       "      <td>False</td>\n",
       "      <td>921316</td>\n",
       "      <td>False</td>\n",
       "      <td>2</td>\n",
       "      <td>76</td>\n",
       "      <td>82</td>\n",
       "      <td>2019-10-01</td>\n",
       "    </tr>\n",
       "    <tr>\n",
       "      <td>50030</td>\n",
       "      <td>168228</td>\n",
       "      <td>2019-11-28</td>\n",
       "      <td>in</td>\n",
       "      <td>False</td>\n",
       "      <td>999999</td>\n",
       "      <td>True</td>\n",
       "      <td>1</td>\n",
       "      <td>0</td>\n",
       "      <td>1</td>\n",
       "      <td>2019-11-01</td>\n",
       "    </tr>\n",
       "  </tbody>\n",
       "</table>\n",
       "</div>"
      ],
      "text/plain": [
       "       user_id       date direction internal  operator_id  is_missed_call  \\\n",
       "33849  167497  2019-10-30  out       True     924948       False            \n",
       "31376  167445  2019-10-07  out       False    920706       True             \n",
       "25865  167150  2019-09-24  out       False    905542       False            \n",
       "30566  167359  2019-10-08  out       False    921316       False            \n",
       "50030  168228  2019-11-28  in        False    999999       True             \n",
       "\n",
       "       calls_count  call_duration  total_call_duration      month  \n",
       "33849  2            1250           1281                2019-10-01  \n",
       "31376  2            0              16                  2019-10-01  \n",
       "25865  33           2533           2934                2019-09-01  \n",
       "30566  2            76             82                  2019-10-01  \n",
       "50030  1            0              1                   2019-11-01  "
      ]
     },
     "execution_count": 35,
     "metadata": {},
     "output_type": "execute_result"
    }
   ],
   "source": [
    "#отфильтруем данные о звонках активных клиентов\n",
    "active_clients_calls = telecom_data_new.query('user_id in @active_clients')\n",
    "active_clients_calls.sample(5)"
   ]
  },
  {
   "cell_type": "code",
   "execution_count": 36,
   "metadata": {},
   "outputs": [],
   "source": [
    "# посчитаем длительность входящих и исходящих звонков за месяц по каждому клиенту\n",
    "call_duration = (active_clients_calls.groupby(['user_id', 'month', 'direction', 'internal'])\n",
    "                                     .agg({'total_call_duration':'sum'})\n",
    "                                     .reset_index()\n",
    "                )\n",
    "# переведем длительность звонков в минуты\n",
    "call_duration['total_call_duration'] = np.ceil(call_duration['total_call_duration'] / 60).astype('int')"
   ]
  },
  {
   "cell_type": "code",
   "execution_count": 37,
   "metadata": {},
   "outputs": [],
   "source": [
    "# посчитаем количество операторов по месяцам для каждого клиента\n",
    "operators = (active_clients_calls.query('operator_id != 999999')\n",
    "                                 .groupby(['user_id', 'month'])\n",
    "                                 .agg({'operator_id':'nunique'})\n",
    "                                 .rename(columns={'operator_id':'operators'})\n",
    "                                 .reset_index()\n",
    "                )"
   ]
  },
  {
   "cell_type": "code",
   "execution_count": 38,
   "metadata": {},
   "outputs": [
    {
     "data": {
      "text/html": [
       "<div>\n",
       "<style scoped>\n",
       "    .dataframe tbody tr th:only-of-type {\n",
       "        vertical-align: middle;\n",
       "    }\n",
       "\n",
       "    .dataframe tbody tr th {\n",
       "        vertical-align: top;\n",
       "    }\n",
       "\n",
       "    .dataframe thead th {\n",
       "        text-align: right;\n",
       "    }\n",
       "</style>\n",
       "<table border=\"1\" class=\"dataframe\">\n",
       "  <thead>\n",
       "    <tr style=\"text-align: right;\">\n",
       "      <th></th>\n",
       "      <th>user_id</th>\n",
       "      <th>month</th>\n",
       "      <th>direction</th>\n",
       "      <th>internal</th>\n",
       "      <th>total_call_duration</th>\n",
       "      <th>tariff_plan</th>\n",
       "      <th>date_start</th>\n",
       "    </tr>\n",
       "  </thead>\n",
       "  <tbody>\n",
       "    <tr>\n",
       "      <td>0</td>\n",
       "      <td>166377</td>\n",
       "      <td>2019-08-01</td>\n",
       "      <td>in</td>\n",
       "      <td>False</td>\n",
       "      <td>32</td>\n",
       "      <td>B</td>\n",
       "      <td>2019-08-01</td>\n",
       "    </tr>\n",
       "    <tr>\n",
       "      <td>1</td>\n",
       "      <td>166377</td>\n",
       "      <td>2019-08-01</td>\n",
       "      <td>out</td>\n",
       "      <td>False</td>\n",
       "      <td>1301</td>\n",
       "      <td>B</td>\n",
       "      <td>2019-08-01</td>\n",
       "    </tr>\n",
       "    <tr>\n",
       "      <td>2</td>\n",
       "      <td>166377</td>\n",
       "      <td>2019-08-01</td>\n",
       "      <td>out</td>\n",
       "      <td>True</td>\n",
       "      <td>2</td>\n",
       "      <td>B</td>\n",
       "      <td>2019-08-01</td>\n",
       "    </tr>\n",
       "    <tr>\n",
       "      <td>3</td>\n",
       "      <td>166377</td>\n",
       "      <td>2019-09-01</td>\n",
       "      <td>in</td>\n",
       "      <td>False</td>\n",
       "      <td>33</td>\n",
       "      <td>B</td>\n",
       "      <td>2019-08-01</td>\n",
       "    </tr>\n",
       "    <tr>\n",
       "      <td>4</td>\n",
       "      <td>166377</td>\n",
       "      <td>2019-09-01</td>\n",
       "      <td>out</td>\n",
       "      <td>False</td>\n",
       "      <td>1764</td>\n",
       "      <td>B</td>\n",
       "      <td>2019-08-01</td>\n",
       "    </tr>\n",
       "  </tbody>\n",
       "</table>\n",
       "</div>"
      ],
      "text/plain": [
       "   user_id      month direction  internal  total_call_duration tariff_plan  \\\n",
       "0  166377  2019-08-01  in        False     32                   B            \n",
       "1  166377  2019-08-01  out       False     1301                 B            \n",
       "2  166377  2019-08-01  out       True      2                    B            \n",
       "3  166377  2019-09-01  in        False     33                   B            \n",
       "4  166377  2019-09-01  out       False     1764                 B            \n",
       "\n",
       "  date_start  \n",
       "0 2019-08-01  \n",
       "1 2019-08-01  \n",
       "2 2019-08-01  \n",
       "3 2019-08-01  \n",
       "4 2019-08-01  "
      ]
     },
     "execution_count": 38,
     "metadata": {},
     "output_type": "execute_result"
    }
   ],
   "source": [
    "#объединим данные о звонках и тарифах\n",
    "data = call_duration.merge(telecom_clients, on='user_id', how='left')\n",
    "data.head()"
   ]
  },
  {
   "cell_type": "code",
   "execution_count": 39,
   "metadata": {},
   "outputs": [
    {
     "data": {
      "text/plain": [
       "235"
      ]
     },
     "execution_count": 39,
     "metadata": {},
     "output_type": "execute_result"
    }
   ],
   "source": [
    "# посчитаем число пользователей, с которыми будем работать\n",
    "data['user_id'].nunique()"
   ]
  },
  {
   "cell_type": "markdown",
   "metadata": {},
   "source": [
    "Мы собрали данные по 235 активным пользователям. Проверим, как они распределены по тарифам."
   ]
  },
  {
   "cell_type": "code",
   "execution_count": 40,
   "metadata": {},
   "outputs": [
    {
     "data": {
      "image/png": "[encoded data removed]",
      "text/plain": [
       "<Figure size 720x288 with 1 Axes>"
      ]
     },
     "metadata": {
      "needs_background": "light"
     },
     "output_type": "display_data"
    }
   ],
   "source": [
    "plt.figure(figsize=(10, 4))\n",
    "data.groupby('tariff_plan')['user_id'].nunique().plot(kind='bar', rot='horizontal')\n",
    "plt.xlabel('Тариф', fontsize=12)\n",
    "plt.ylabel('Количество клиентов', fontsize=12)\n",
    "plt.title('Распределение активных клиентов по тарифам', fontsize=15);"
   ]
  },
  {
   "cell_type": "markdown",
   "metadata": {},
   "source": [
    "Распределение по тарифам в отфильтрованной выборке осталось таким же, как в изначальной: больше всего пользователей на тарифе С (121 человек), затем идет тариф В (88 человек), наименее популярен тариф А (26 человек). Посчитаем ежемесячные затраты клиентов."
   ]
  },
  {
   "cell_type": "code",
   "execution_count": 41,
   "metadata": {},
   "outputs": [],
   "source": [
    "# создадим словари с расценками по тарифам\n",
    "monthly_fee = {'A': 5000, 'B': 2000, 'C': 1000}\n",
    "internal_limit = 2000\n",
    "internal_over_limit = {'A': 0.1, 'B': 0.15, 'C': 0.3}\n",
    "external = {'A': 0.4, 'B': 0.5, 'C': 0.7}"
   ]
  },
  {
   "cell_type": "code",
   "execution_count": 42,
   "metadata": {},
   "outputs": [],
   "source": [
    "# напишем функцию для подсчёта стоимости минут разговора\n",
    "\n",
    "def minutes_cost(row):\n",
    "    \n",
    "    i = row['tariff_plan']\n",
    "    \n",
    "    if row['direction'] == 'out':\n",
    "        \n",
    "        if row['internal']:\n",
    "            cost = (np.where(row['total_call_duration'] > internal_limit, \n",
    "                            (row['total_call_duration'] - internal_limit) * internal_over_limit[i], 0))\n",
    "        else:\n",
    "            cost = row['total_call_duration'] * external[i]\n",
    "\n",
    "        return cost\n",
    "    else:\n",
    "        return 0"
   ]
  },
  {
   "cell_type": "code",
   "execution_count": 43,
   "metadata": {},
   "outputs": [],
   "source": [
    "# посчитаем стоимость минут разговора для каждой записи в датафрейме\n",
    "data['minutes_cost'] = data.apply(minutes_cost, axis=1) "
   ]
  },
  {
   "cell_type": "code",
   "execution_count": 44,
   "metadata": {},
   "outputs": [],
   "source": [
    "# сложим затраты на входящие и исходящие звонки\n",
    "data = data.groupby(['user_id', 'month', 'tariff_plan']).agg({'minutes_cost':'sum'}).reset_index()"
   ]
  },
  {
   "cell_type": "code",
   "execution_count": 45,
   "metadata": {},
   "outputs": [],
   "source": [
    "#объединим данные о длительности звонков и количестве операторов\n",
    "data = data.merge(operators, on=['user_id', 'month'], how='outer')"
   ]
  },
  {
   "cell_type": "code",
   "execution_count": 46,
   "metadata": {},
   "outputs": [],
   "source": [
    "# добавим информацию о ежемесячной плате за тариф в таблицу\n",
    "for i in monthly_fee.keys():\n",
    "    data.loc[data['tariff_plan'] == i, 'monthly_fee'] = monthly_fee[i]"
   ]
  },
  {
   "cell_type": "code",
   "execution_count": 47,
   "metadata": {},
   "outputs": [],
   "source": [
    "# посчитаем стоимость работы операторов\n",
    "data['operators'] = (data['operators'] * 100).fillna(0)"
   ]
  },
  {
   "cell_type": "code",
   "execution_count": 48,
   "metadata": {},
   "outputs": [],
   "source": [
    "# сложим все затраты клиента за месяц\n",
    "data['total_payment'] = data[['minutes_cost', 'monthly_fee', 'operators']].sum(axis=1)"
   ]
  },
  {
   "cell_type": "code",
   "execution_count": 49,
   "metadata": {},
   "outputs": [
    {
     "data": {
      "text/html": [
       "<div>\n",
       "<style scoped>\n",
       "    .dataframe tbody tr th:only-of-type {\n",
       "        vertical-align: middle;\n",
       "    }\n",
       "\n",
       "    .dataframe tbody tr th {\n",
       "        vertical-align: top;\n",
       "    }\n",
       "\n",
       "    .dataframe thead th {\n",
       "        text-align: right;\n",
       "    }\n",
       "</style>\n",
       "<table border=\"1\" class=\"dataframe\">\n",
       "  <thead>\n",
       "    <tr style=\"text-align: right;\">\n",
       "      <th></th>\n",
       "      <th>user_id</th>\n",
       "      <th>month</th>\n",
       "      <th>tariff_plan</th>\n",
       "      <th>minutes_cost</th>\n",
       "      <th>operators</th>\n",
       "      <th>monthly_fee</th>\n",
       "      <th>total_payment</th>\n",
       "    </tr>\n",
       "  </thead>\n",
       "  <tbody>\n",
       "    <tr>\n",
       "      <td>439</td>\n",
       "      <td>167630</td>\n",
       "      <td>2019-11-01</td>\n",
       "      <td>C</td>\n",
       "      <td>110.6</td>\n",
       "      <td>100.0</td>\n",
       "      <td>1000.0</td>\n",
       "      <td>1210.6</td>\n",
       "    </tr>\n",
       "    <tr>\n",
       "      <td>456</td>\n",
       "      <td>167664</td>\n",
       "      <td>2019-11-01</td>\n",
       "      <td>C</td>\n",
       "      <td>0.0</td>\n",
       "      <td>100.0</td>\n",
       "      <td>1000.0</td>\n",
       "      <td>1100.0</td>\n",
       "    </tr>\n",
       "    <tr>\n",
       "      <td>82</td>\n",
       "      <td>166658</td>\n",
       "      <td>2019-08-01</td>\n",
       "      <td>B</td>\n",
       "      <td>2628.5</td>\n",
       "      <td>1500.0</td>\n",
       "      <td>2000.0</td>\n",
       "      <td>6128.5</td>\n",
       "    </tr>\n",
       "    <tr>\n",
       "      <td>281</td>\n",
       "      <td>167082</td>\n",
       "      <td>2019-08-01</td>\n",
       "      <td>B</td>\n",
       "      <td>0.0</td>\n",
       "      <td>0.0</td>\n",
       "      <td>2000.0</td>\n",
       "      <td>2000.0</td>\n",
       "    </tr>\n",
       "    <tr>\n",
       "      <td>22</td>\n",
       "      <td>166407</td>\n",
       "      <td>2019-10-01</td>\n",
       "      <td>A</td>\n",
       "      <td>87.2</td>\n",
       "      <td>700.0</td>\n",
       "      <td>5000.0</td>\n",
       "      <td>5787.2</td>\n",
       "    </tr>\n",
       "  </tbody>\n",
       "</table>\n",
       "</div>"
      ],
      "text/plain": [
       "     user_id      month tariff_plan  minutes_cost  operators  monthly_fee  \\\n",
       "439  167630  2019-11-01  C           110.6         100.0      1000.0        \n",
       "456  167664  2019-11-01  C           0.0           100.0      1000.0        \n",
       "82   166658  2019-08-01  B           2628.5        1500.0     2000.0        \n",
       "281  167082  2019-08-01  B           0.0           0.0        2000.0        \n",
       "22   166407  2019-10-01  A           87.2          700.0      5000.0        \n",
       "\n",
       "     total_payment  \n",
       "439  1210.6         \n",
       "456  1100.0         \n",
       "82   6128.5         \n",
       "281  2000.0         \n",
       "22   5787.2         "
      ]
     },
     "execution_count": 49,
     "metadata": {},
     "output_type": "execute_result"
    }
   ],
   "source": [
    "# посмотрим на случайные пять записей получившейся таблицы\n",
    "data.sample(5)"
   ]
  },
  {
   "cell_type": "markdown",
   "metadata": {},
   "source": [
    "Мы расчитали ежемесячные затраты для каждого пользователя сервиса. Чтобы определить, какие клиенты сильно переплачивают, посмотрим, как выглядят распределения общих затрат по каждому тарифу."
   ]
  },
  {
   "cell_type": "code",
   "execution_count": 50,
   "metadata": {},
   "outputs": [],
   "source": [
    "# изменим формат даты для красивого отображения на графике\n",
    "data['month'] = data['month'].dt.strftime('%Y-%m') "
   ]
  },
  {
   "cell_type": "code",
   "execution_count": 51,
   "metadata": {},
   "outputs": [
    {
     "data": {
      "image/png": "[encoded data removed]",
      "text/plain": [
       "<Figure size 1080x720 with 1 Axes>"
      ]
     },
     "metadata": {
      "needs_background": "light"
     },
     "output_type": "display_data"
    }
   ],
   "source": [
    "# построим боксплоты\n",
    "plt.figure(figsize=(15,10))\n",
    "sns.boxplot(x='total_payment', y='tariff_plan', hue='month', data=data)\n",
    "plt.title('Диаграммы размаха ежемесячных суммарных трат пользователей', fontsize=16)\n",
    "plt.xlabel('Сумма затрат за месяц, руб.')\n",
    "plt.ylabel('Тариф');"
   ]
  },
  {
   "cell_type": "markdown",
   "metadata": {},
   "source": [
    "По диаграммам размаха видно, что на тарифе С есть пользователи, которые тратят не меньше средств, чем в среднем тратят на тарифах А и B, возможно, им будет выгоднее перейти на тариф с большей абонентской платой. На тарифе B есть клиенты, которым может быть выгодно перейти на тариф А. На тарифе А есть клиенты, которые тратят около 14000 рублей в месяц: компании нужно постараться удержать этих клиентов, возможно, даже предложить им более дешевый тариф, чтобы увеличить лояльность. "
   ]
  },
  {
   "cell_type": "code",
   "execution_count": 52,
   "metadata": {},
   "outputs": [
    {
     "data": {
      "text/html": [
       "<div>\n",
       "<style scoped>\n",
       "    .dataframe tbody tr th:only-of-type {\n",
       "        vertical-align: middle;\n",
       "    }\n",
       "\n",
       "    .dataframe tbody tr th {\n",
       "        vertical-align: top;\n",
       "    }\n",
       "\n",
       "    .dataframe thead th {\n",
       "        text-align: right;\n",
       "    }\n",
       "</style>\n",
       "<table border=\"1\" class=\"dataframe\">\n",
       "  <thead>\n",
       "    <tr style=\"text-align: right;\">\n",
       "      <th></th>\n",
       "      <th>minutes_cost</th>\n",
       "      <th>operators</th>\n",
       "      <th>total_payment</th>\n",
       "    </tr>\n",
       "    <tr>\n",
       "      <th>tariff_plan</th>\n",
       "      <th></th>\n",
       "      <th></th>\n",
       "      <th></th>\n",
       "    </tr>\n",
       "  </thead>\n",
       "  <tbody>\n",
       "    <tr>\n",
       "      <td>A</td>\n",
       "      <td>16.0</td>\n",
       "      <td>300.0</td>\n",
       "      <td>5300.0</td>\n",
       "    </tr>\n",
       "    <tr>\n",
       "      <td>B</td>\n",
       "      <td>22.0</td>\n",
       "      <td>200.0</td>\n",
       "      <td>2300.0</td>\n",
       "    </tr>\n",
       "    <tr>\n",
       "      <td>C</td>\n",
       "      <td>2.8</td>\n",
       "      <td>100.0</td>\n",
       "      <td>1200.0</td>\n",
       "    </tr>\n",
       "  </tbody>\n",
       "</table>\n",
       "</div>"
      ],
      "text/plain": [
       "             minutes_cost  operators  total_payment\n",
       "tariff_plan                                        \n",
       "A            16.0          300.0      5300.0       \n",
       "B            22.0          200.0      2300.0       \n",
       "C            2.8           100.0      1200.0       "
      ]
     },
     "execution_count": 52,
     "metadata": {},
     "output_type": "execute_result"
    }
   ],
   "source": [
    "# посчитаем медианные значения затрат\n",
    "data.pivot_table(index='tariff_plan', values=['minutes_cost', 'operators', 'total_payment'], aggfunc='median')"
   ]
  },
  {
   "cell_type": "markdown",
   "metadata": {},
   "source": [
    "Пользователи тарифа А не только платят самую высокую абонентскую плату, но и в среднем тратят больше средств на операторов. Больше всех на дополнительные минуты разговора тратят на тарифе В. Медианные затраты на всех тарифах близки к установленной абонентской плате за месяц, поэтому в качестве переплачивающих стоит выделить пользователей, чьи траты значительно превышают средние значения: будем считать такими 5% клиентов каждого тарифа, тратящих больше всех."
   ]
  },
  {
   "cell_type": "code",
   "execution_count": 53,
   "metadata": {},
   "outputs": [
    {
     "data": {
      "text/html": [
       "<div>\n",
       "<style scoped>\n",
       "    .dataframe tbody tr th:only-of-type {\n",
       "        vertical-align: middle;\n",
       "    }\n",
       "\n",
       "    .dataframe tbody tr th {\n",
       "        vertical-align: top;\n",
       "    }\n",
       "\n",
       "    .dataframe thead th {\n",
       "        text-align: right;\n",
       "    }\n",
       "</style>\n",
       "<table border=\"1\" class=\"dataframe\">\n",
       "  <thead>\n",
       "    <tr style=\"text-align: right;\">\n",
       "      <th></th>\n",
       "      <th>total_payment</th>\n",
       "    </tr>\n",
       "    <tr>\n",
       "      <th>tariff_plan</th>\n",
       "      <th></th>\n",
       "    </tr>\n",
       "  </thead>\n",
       "  <tbody>\n",
       "    <tr>\n",
       "      <td>A</td>\n",
       "      <td>7815.92</td>\n",
       "    </tr>\n",
       "    <tr>\n",
       "      <td>B</td>\n",
       "      <td>3692.80</td>\n",
       "    </tr>\n",
       "    <tr>\n",
       "      <td>C</td>\n",
       "      <td>3196.76</td>\n",
       "    </tr>\n",
       "  </tbody>\n",
       "</table>\n",
       "</div>"
      ],
      "text/plain": [
       "             total_payment\n",
       "tariff_plan               \n",
       "A            7815.92      \n",
       "B            3692.80      \n",
       "C            3196.76      "
      ]
     },
     "metadata": {},
     "output_type": "display_data"
    }
   ],
   "source": [
    "# обозначим границу переплат по 95 перцентилю\n",
    "top_pay = data.groupby('tariff_plan').agg({'total_payment': lambda x: np.percentile(x, 95)})\n",
    "display(top_pay)"
   ]
  },
  {
   "cell_type": "code",
   "execution_count": 54,
   "metadata": {},
   "outputs": [
    {
     "data": {
      "text/html": [
       "<div>\n",
       "<style scoped>\n",
       "    .dataframe tbody tr th:only-of-type {\n",
       "        vertical-align: middle;\n",
       "    }\n",
       "\n",
       "    .dataframe tbody tr th {\n",
       "        vertical-align: top;\n",
       "    }\n",
       "\n",
       "    .dataframe thead th {\n",
       "        text-align: right;\n",
       "    }\n",
       "</style>\n",
       "<table border=\"1\" class=\"dataframe\">\n",
       "  <thead>\n",
       "    <tr style=\"text-align: right;\">\n",
       "      <th></th>\n",
       "      <th>user_id</th>\n",
       "      <th>tariff_plan</th>\n",
       "      <th>month</th>\n",
       "      <th>total_payment</th>\n",
       "    </tr>\n",
       "  </thead>\n",
       "  <tbody>\n",
       "    <tr>\n",
       "      <td>4</td>\n",
       "      <td>166658</td>\n",
       "      <td>B</td>\n",
       "      <td>4</td>\n",
       "      <td>32036.5</td>\n",
       "    </tr>\n",
       "    <tr>\n",
       "      <td>19</td>\n",
       "      <td>168187</td>\n",
       "      <td>A</td>\n",
       "      <td>2</td>\n",
       "      <td>23928.4</td>\n",
       "    </tr>\n",
       "    <tr>\n",
       "      <td>14</td>\n",
       "      <td>167827</td>\n",
       "      <td>C</td>\n",
       "      <td>2</td>\n",
       "      <td>17769.7</td>\n",
       "    </tr>\n",
       "    <tr>\n",
       "      <td>17</td>\n",
       "      <td>168062</td>\n",
       "      <td>A</td>\n",
       "      <td>1</td>\n",
       "      <td>14284.8</td>\n",
       "    </tr>\n",
       "    <tr>\n",
       "      <td>0</td>\n",
       "      <td>166405</td>\n",
       "      <td>B</td>\n",
       "      <td>2</td>\n",
       "      <td>12339.5</td>\n",
       "    </tr>\n",
       "    <tr>\n",
       "      <td>7</td>\n",
       "      <td>166983</td>\n",
       "      <td>C</td>\n",
       "      <td>3</td>\n",
       "      <td>10791.8</td>\n",
       "    </tr>\n",
       "    <tr>\n",
       "      <td>5</td>\n",
       "      <td>166680</td>\n",
       "      <td>B</td>\n",
       "      <td>2</td>\n",
       "      <td>9003.0</td>\n",
       "    </tr>\n",
       "    <tr>\n",
       "      <td>12</td>\n",
       "      <td>167497</td>\n",
       "      <td>A</td>\n",
       "      <td>1</td>\n",
       "      <td>8378.0</td>\n",
       "    </tr>\n",
       "    <tr>\n",
       "      <td>15</td>\n",
       "      <td>167888</td>\n",
       "      <td>C</td>\n",
       "      <td>2</td>\n",
       "      <td>8285.4</td>\n",
       "    </tr>\n",
       "    <tr>\n",
       "      <td>10</td>\n",
       "      <td>167150</td>\n",
       "      <td>C</td>\n",
       "      <td>2</td>\n",
       "      <td>7233.9</td>\n",
       "    </tr>\n",
       "    <tr>\n",
       "      <td>2</td>\n",
       "      <td>166511</td>\n",
       "      <td>C</td>\n",
       "      <td>2</td>\n",
       "      <td>6881.2</td>\n",
       "    </tr>\n",
       "    <tr>\n",
       "      <td>18</td>\n",
       "      <td>168091</td>\n",
       "      <td>B</td>\n",
       "      <td>1</td>\n",
       "      <td>5570.0</td>\n",
       "    </tr>\n",
       "    <tr>\n",
       "      <td>21</td>\n",
       "      <td>168412</td>\n",
       "      <td>C</td>\n",
       "      <td>1</td>\n",
       "      <td>4802.2</td>\n",
       "    </tr>\n",
       "    <tr>\n",
       "      <td>16</td>\n",
       "      <td>168018</td>\n",
       "      <td>B</td>\n",
       "      <td>1</td>\n",
       "      <td>4426.0</td>\n",
       "    </tr>\n",
       "    <tr>\n",
       "      <td>8</td>\n",
       "      <td>166997</td>\n",
       "      <td>C</td>\n",
       "      <td>1</td>\n",
       "      <td>4365.7</td>\n",
       "    </tr>\n",
       "    <tr>\n",
       "      <td>20</td>\n",
       "      <td>168336</td>\n",
       "      <td>C</td>\n",
       "      <td>1</td>\n",
       "      <td>4303.4</td>\n",
       "    </tr>\n",
       "    <tr>\n",
       "      <td>1</td>\n",
       "      <td>166485</td>\n",
       "      <td>B</td>\n",
       "      <td>1</td>\n",
       "      <td>4173.0</td>\n",
       "    </tr>\n",
       "    <tr>\n",
       "      <td>3</td>\n",
       "      <td>166520</td>\n",
       "      <td>C</td>\n",
       "      <td>1</td>\n",
       "      <td>3869.0</td>\n",
       "    </tr>\n",
       "    <tr>\n",
       "      <td>11</td>\n",
       "      <td>167445</td>\n",
       "      <td>B</td>\n",
       "      <td>1</td>\n",
       "      <td>3846.5</td>\n",
       "    </tr>\n",
       "    <tr>\n",
       "      <td>13</td>\n",
       "      <td>167580</td>\n",
       "      <td>B</td>\n",
       "      <td>1</td>\n",
       "      <td>3703.0</td>\n",
       "    </tr>\n",
       "    <tr>\n",
       "      <td>9</td>\n",
       "      <td>167112</td>\n",
       "      <td>C</td>\n",
       "      <td>1</td>\n",
       "      <td>3228.3</td>\n",
       "    </tr>\n",
       "    <tr>\n",
       "      <td>6</td>\n",
       "      <td>166782</td>\n",
       "      <td>C</td>\n",
       "      <td>1</td>\n",
       "      <td>3203.2</td>\n",
       "    </tr>\n",
       "  </tbody>\n",
       "</table>\n",
       "</div>"
      ],
      "text/plain": [
       "    user_id tariff_plan  month  total_payment\n",
       "4   166658   B           4      32036.5      \n",
       "19  168187   A           2      23928.4      \n",
       "14  167827   C           2      17769.7      \n",
       "17  168062   A           1      14284.8      \n",
       "0   166405   B           2      12339.5      \n",
       "7   166983   C           3      10791.8      \n",
       "5   166680   B           2      9003.0       \n",
       "12  167497   A           1      8378.0       \n",
       "15  167888   C           2      8285.4       \n",
       "10  167150   C           2      7233.9       \n",
       "2   166511   C           2      6881.2       \n",
       "18  168091   B           1      5570.0       \n",
       "21  168412   C           1      4802.2       \n",
       "16  168018   B           1      4426.0       \n",
       "8   166997   C           1      4365.7       \n",
       "20  168336   C           1      4303.4       \n",
       "1   166485   B           1      4173.0       \n",
       "3   166520   C           1      3869.0       \n",
       "11  167445   B           1      3846.5       \n",
       "13  167580   B           1      3703.0       \n",
       "9   167112   C           1      3228.3       \n",
       "6   166782   C           1      3203.2       "
      ]
     },
     "execution_count": 54,
     "metadata": {},
     "output_type": "execute_result"
    }
   ],
   "source": [
    "# выделим пользователей, входящих в верхние 5% по затратам\n",
    "(data.loc[(data['total_payment'] >= top_pay.loc['A', 'total_payment']) & (data['tariff_plan'] == 'A') |\n",
    "          (data['total_payment'] >= top_pay.loc['B', 'total_payment']) & (data['tariff_plan'] == 'B')|\n",
    "          (data['total_payment'] >= top_pay.loc['C', 'total_payment']) & (data['tariff_plan'] == 'C')]\n",
    "     .groupby(['user_id', 'tariff_plan'])\n",
    "     .agg({'month':'count', 'total_payment':'sum'})\n",
    "     .reset_index()\n",
    "     .sort_values(by='total_payment', ascending=False))"
   ]
  },
  {
   "cell_type": "markdown",
   "metadata": {},
   "source": [
    "За границей 95 перцентиля оказались три клиента с тарифом А, восемь клиентов с тарифом В и одиннадцать клиентов с тарифом С. Всем клиентам можно предложить перейти на оптимальный тариф (мы рассмотрим механизм его определения ниже). Девяти</font> клиентам, которые переплачивают регулярно (тариф А: 168187, тариф В: 166405, 166658, 166680, тариф С: 166511, 167150, 166983, 167827, 167888) рекомендуем предложить персональную скидку на услуги в размере 10-15%. Клиентам, которые заплатили много в одном месяце, можно предложить персональную скидку 5-10%."
   ]
  },
  {
   "cell_type": "markdown",
   "metadata": {},
   "source": [
    "### Предложение оптимальных тарифов"
   ]
  },
  {
   "cell_type": "markdown",
   "metadata": {},
   "source": [
    "Подберём для каждого клиента оптимальный тариф. Поскольку плата за операторов на всех тарифах составляет 100 рублей за человека, на разницу в сумме расходов будут влиять абонентская плата и стоимость минуты для исходящих звонков."
   ]
  },
  {
   "cell_type": "code",
   "execution_count": 55,
   "metadata": {},
   "outputs": [],
   "source": [
    "# расчитаем стоимость дополнительных минут разговора по правилам каждого тарифа\n",
    "for name in monthly_fee.keys():\n",
    "    call_duration['tariff_plan'] = name\n",
    "    call_duration['minutes_cost_'+name] = call_duration.apply(minutes_cost, axis=1)"
   ]
  },
  {
   "cell_type": "code",
   "execution_count": 56,
   "metadata": {},
   "outputs": [],
   "source": [
    "# сложим затраты на входящие и исходящие звонки\n",
    "optimal_data = (call_duration.groupby(['user_id', 'month'])\n",
    "                             .agg({'minutes_cost_A':'sum', \n",
    "                                   'minutes_cost_B':'sum', \n",
    "                                   'minutes_cost_C':'sum'\n",
    "                                  })\n",
    "                              .reset_index()\n",
    "                  )"
   ]
  },
  {
   "cell_type": "code",
   "execution_count": 57,
   "metadata": {},
   "outputs": [],
   "source": [
    "# добавим данные о количестве операторов\n",
    "optimal_data = optimal_data.merge(operators, on=['user_id', 'month'], how='left').fillna(0)"
   ]
  },
  {
   "cell_type": "code",
   "execution_count": 58,
   "metadata": {},
   "outputs": [],
   "source": [
    "# напишем функцию для определения самого выгодного тарифа\n",
    "def optimal_tariffs(row):\n",
    "    cost_A = row['minutes_cost_A'] + monthly_fee['A'] + row['operators'] * 100\n",
    "    cost_B = row['minutes_cost_B'] + monthly_fee['B'] + row['operators'] * 100\n",
    "    cost_C = row['minutes_cost_C'] + monthly_fee['C'] + row['operators'] * 100\n",
    "    \n",
    "    optimal_cost = min(cost_A, cost_B, cost_C)\n",
    "    \n",
    "    if optimal_cost == cost_A:\n",
    "        return 'A', cost_A\n",
    "    elif optimal_cost == cost_B:\n",
    "        return 'B', cost_B\n",
    "    else:\n",
    "        return 'C', cost_C"
   ]
  },
  {
   "cell_type": "code",
   "execution_count": 59,
   "metadata": {},
   "outputs": [],
   "source": [
    "# применим функцию\n",
    "optimal_data[['new_tariff', 'proposed_payment']] = optimal_data.apply(optimal_tariffs, axis=1, result_type='expand')"
   ]
  },
  {
   "cell_type": "code",
   "execution_count": 60,
   "metadata": {},
   "outputs": [],
   "source": [
    "# добавим данные по текущим тарифам\n",
    "optimal_data = optimal_data.merge(telecom_clients, on='user_id', how='left')"
   ]
  },
  {
   "cell_type": "code",
   "execution_count": 61,
   "metadata": {},
   "outputs": [
    {
     "data": {
      "text/html": [
       "<div>\n",
       "<style scoped>\n",
       "    .dataframe tbody tr th:only-of-type {\n",
       "        vertical-align: middle;\n",
       "    }\n",
       "\n",
       "    .dataframe tbody tr th {\n",
       "        vertical-align: top;\n",
       "    }\n",
       "\n",
       "    .dataframe thead th {\n",
       "        text-align: right;\n",
       "    }\n",
       "</style>\n",
       "<table border=\"1\" class=\"dataframe\">\n",
       "  <thead>\n",
       "    <tr style=\"text-align: right;\">\n",
       "      <th></th>\n",
       "      <th>tariff_plan</th>\n",
       "      <th>user_id</th>\n",
       "    </tr>\n",
       "  </thead>\n",
       "  <tbody>\n",
       "    <tr>\n",
       "      <td>0</td>\n",
       "      <td>A</td>\n",
       "      <td>26</td>\n",
       "    </tr>\n",
       "    <tr>\n",
       "      <td>1</td>\n",
       "      <td>B</td>\n",
       "      <td>88</td>\n",
       "    </tr>\n",
       "    <tr>\n",
       "      <td>2</td>\n",
       "      <td>C</td>\n",
       "      <td>121</td>\n",
       "    </tr>\n",
       "  </tbody>\n",
       "</table>\n",
       "</div>"
      ],
      "text/plain": [
       "  tariff_plan  user_id\n",
       "0  A           26     \n",
       "1  B           88     \n",
       "2  C           121    "
      ]
     },
     "execution_count": 61,
     "metadata": {},
     "output_type": "execute_result"
    }
   ],
   "source": [
    "# посчитаем распределение клиентов по текущим тарифам\n",
    "optimal_data.groupby('tariff_plan').agg({'user_id':'nunique'}).reset_index()"
   ]
  },
  {
   "cell_type": "code",
   "execution_count": 62,
   "metadata": {},
   "outputs": [
    {
     "data": {
      "text/html": [
       "<div>\n",
       "<style scoped>\n",
       "    .dataframe tbody tr th:only-of-type {\n",
       "        vertical-align: middle;\n",
       "    }\n",
       "\n",
       "    .dataframe tbody tr th {\n",
       "        vertical-align: top;\n",
       "    }\n",
       "\n",
       "    .dataframe thead th {\n",
       "        text-align: right;\n",
       "    }\n",
       "</style>\n",
       "<table border=\"1\" class=\"dataframe\">\n",
       "  <thead>\n",
       "    <tr style=\"text-align: right;\">\n",
       "      <th></th>\n",
       "      <th>tariff_plan</th>\n",
       "      <th>new_tariff</th>\n",
       "      <th>user_id</th>\n",
       "    </tr>\n",
       "  </thead>\n",
       "  <tbody>\n",
       "    <tr>\n",
       "      <td>0</td>\n",
       "      <td>A</td>\n",
       "      <td>B</td>\n",
       "      <td>2</td>\n",
       "    </tr>\n",
       "    <tr>\n",
       "      <td>1</td>\n",
       "      <td>A</td>\n",
       "      <td>C</td>\n",
       "      <td>24</td>\n",
       "    </tr>\n",
       "    <tr>\n",
       "      <td>2</td>\n",
       "      <td>B</td>\n",
       "      <td>C</td>\n",
       "      <td>86</td>\n",
       "    </tr>\n",
       "    <tr>\n",
       "      <td>3</td>\n",
       "      <td>C</td>\n",
       "      <td>B</td>\n",
       "      <td>1</td>\n",
       "    </tr>\n",
       "  </tbody>\n",
       "</table>\n",
       "</div>"
      ],
      "text/plain": [
       "  tariff_plan new_tariff  user_id\n",
       "0  A           B          2      \n",
       "1  A           C          24     \n",
       "2  B           C          86     \n",
       "3  C           B          1      "
      ]
     },
     "execution_count": 62,
     "metadata": {},
     "output_type": "execute_result"
    }
   ],
   "source": [
    "# посчитаем клиентов, которым рекомендовано перейти на новый тариф в ноябре \n",
    "optimal_clients = optimal_data.query('new_tariff != tariff_plan & month == \"2019-11\"')\n",
    "optimal_clients.groupby(['tariff_plan', 'new_tariff']).agg({'user_id':'nunique'}).reset_index()"
   ]
  },
  {
   "cell_type": "markdown",
   "metadata": {},
   "source": [
    "Алгоритм предложил перевести 2 клиентов с тарифа А на более дешёвый тариф В, 24 клиента с тарифа А на самый дешёвый тариф С, 86 клиентов с тарифа В на тариф С, и одного клиента с тарифа С на тариф В. Таким образом, 100% пользоватей тарифа А и 98% пользователей тарифа В переплачивают по своим тарифам. Изучим подробнее данных клиентов."
   ]
  },
  {
   "cell_type": "code",
   "execution_count": 63,
   "metadata": {},
   "outputs": [
    {
     "data": {
      "image/png": "[encoded data removed]",
      "text/plain": [
       "<Figure size 720x288 with 1 Axes>"
      ]
     },
     "metadata": {
      "needs_background": "light"
     },
     "output_type": "display_data"
    }
   ],
   "source": [
    "plt.figure(figsize=(10, 4))\n",
    "sns.countplot(optimal_clients['date_start'].dt.month)\n",
    "plt.xlabel('Месяц регистрации')\n",
    "plt.ylabel('Количество клиентов')\n",
    "plt.title('Срок жизни клиентов, которым выгодно перейти на другой тариф', fontsize=14);"
   ]
  },
  {
   "cell_type": "markdown",
   "metadata": {},
   "source": [
    "Большинство клиентов, которым алгоритм предложил отличный от текущего тариф, пользуются сервисом 3-4 месяца, и за это время у них уже, скорее всего, сформировалась лояльность к сервису. Мы можем предложить им перейти на более дешёвый тариф, чтобы ещё больше укрепить лояльность и выиграть за счёт повышения LTV, однако стоит дополнительно изучить активность пользователей - если она не снижается, значит, текущие траты их вполне устраивают. Новым клиентам, которые пришли в октябре, необходимо в первую очередь предложить более выгодные условия, чтобы снизить вероятность оттока в следующем месяце. Сформируем список этих клиентов."
   ]
  },
  {
   "cell_type": "code",
   "execution_count": 64,
   "metadata": {},
   "outputs": [
    {
     "data": {
      "text/html": [
       "<div>\n",
       "<style scoped>\n",
       "    .dataframe tbody tr th:only-of-type {\n",
       "        vertical-align: middle;\n",
       "    }\n",
       "\n",
       "    .dataframe tbody tr th {\n",
       "        vertical-align: top;\n",
       "    }\n",
       "\n",
       "    .dataframe thead th {\n",
       "        text-align: right;\n",
       "    }\n",
       "</style>\n",
       "<table border=\"1\" class=\"dataframe\">\n",
       "  <thead>\n",
       "    <tr style=\"text-align: right;\">\n",
       "      <th></th>\n",
       "      <th>tariff_plan</th>\n",
       "      <th>new_tariff</th>\n",
       "      <th>user_id</th>\n",
       "    </tr>\n",
       "  </thead>\n",
       "  <tbody>\n",
       "    <tr>\n",
       "      <td>0</td>\n",
       "      <td>A</td>\n",
       "      <td>B</td>\n",
       "      <td>[168062, 168187]</td>\n",
       "    </tr>\n",
       "    <tr>\n",
       "      <td>1</td>\n",
       "      <td>A</td>\n",
       "      <td>C</td>\n",
       "      <td>[167799, 167828, 167949, 168048, 168121, 168128, 168193, 168253, 168295, 168459]</td>\n",
       "    </tr>\n",
       "    <tr>\n",
       "      <td>2</td>\n",
       "      <td>B</td>\n",
       "      <td>C</td>\n",
       "      <td>[167840, 167847, 167908, 167930, 167947, 167955, 167969, 167977, 167989, 167995, 167999, 168000, 168018, 168021, 168041, 168047, 168091, 168105, 168154, 168180, 168225, 168291, 168307, 168315, 168377, 168481, 168490, 168500, 168562, 168578, 168579, 168583, 168603]</td>\n",
       "    </tr>\n",
       "    <tr>\n",
       "      <td>3</td>\n",
       "      <td>C</td>\n",
       "      <td>B</td>\n",
       "      <td>[167827]</td>\n",
       "    </tr>\n",
       "  </tbody>\n",
       "</table>\n",
       "</div>"
      ],
      "text/plain": [
       "  tariff_plan new_tariff  \\\n",
       "0  A           B           \n",
       "1  A           C           \n",
       "2  B           C           \n",
       "3  C           B           \n",
       "\n",
       "                                                                                                                                                                                                                                                                    user_id  \n",
       "0  [168062, 168187]                                                                                                                                                                                                                                                          \n",
       "1  [167799, 167828, 167949, 168048, 168121, 168128, 168193, 168253, 168295, 168459]                                                                                                                                                                                          \n",
       "2  [167840, 167847, 167908, 167930, 167947, 167955, 167969, 167977, 167989, 167995, 167999, 168000, 168018, 168021, 168041, 168047, 168091, 168105, 168154, 168180, 168225, 168291, 168307, 168315, 168377, 168481, 168490, 168500, 168562, 168578, 168579, 168583, 168603]  \n",
       "3  [167827]                                                                                                                                                                                                                                                                  "
      ]
     },
     "execution_count": 64,
     "metadata": {},
     "output_type": "execute_result"
    }
   ],
   "source": [
    "(optimal_clients.loc[optimal_clients['date_start'] >= '2019-10-01']\n",
    "                .groupby(['tariff_plan', 'new_tariff'])\n",
    "                ['user_id'].unique()\n",
    "                 .reset_index())"
   ]
  },
  {
   "cell_type": "markdown",
   "metadata": {},
   "source": [
    "Нашей задачей было найти клиентов, которые сэкономят при переходе на более дорогой тариф. Этому условию удовлетворяет клиент 167827: ему выгодно перейти на тариф В с более высокой абонентской платой, чтобы сэкономить на поминутной тарификации. Всех остальных клиентов алгоритм рекомендует перевести на более дешёвые тарифы."
   ]
  },
  {
   "cell_type": "markdown",
   "metadata": {},
   "source": [
    "### Влияние перехода клиентов на оптимальные тарифы на выручку компании"
   ]
  },
  {
   "cell_type": "markdown",
   "metadata": {},
   "source": [
    "У заказчика наверняка возникнет закономерный вопрос: не упадёт ли выручка компании, если все клиенты передут на более выгодные для них тарифы? Изучим текущую выручку и сравним её с выручкой после перевода."
   ]
  },
  {
   "cell_type": "code",
   "execution_count": 65,
   "metadata": {},
   "outputs": [
    {
     "data": {
      "text/plain": [
       "'Общая выручка за август-ноябрь по текущим тарифам: 1527062.3 рублей'"
      ]
     },
     "metadata": {},
     "output_type": "display_data"
    },
    {
     "data": {
      "text/plain": [
       "'Общая выручка за август-ноябрь по оптимальным тарифам: 1021781.6 рублей'"
      ]
     },
     "metadata": {},
     "output_type": "display_data"
    },
    {
     "data": {
      "text/plain": [
       "'Прирост выручки после оптимизации тарифов: -33.09%'"
      ]
     },
     "metadata": {},
     "output_type": "display_data"
    }
   ],
   "source": [
    "display('Общая выручка за август-ноябрь по текущим тарифам: {:.1f} рублей'.format(data['total_payment'].sum()))\n",
    "display('Общая выручка за август-ноябрь по оптимальным тарифам: {:.1f} рублей'.format(optimal_data['proposed_payment'].sum()))\n",
    "display('Прирост выручки после оптимизации тарифов: {:.2%}'.format(optimal_data['proposed_payment'].sum() / data['total_payment'].sum() - 1))"
   ]
  },
  {
   "cell_type": "markdown",
   "metadata": {},
   "source": [
    "При переводе всех клиентов на более выгодные тарифы компания потеряет значительную часть выручки: падение доходов составит 33%. Проверим, станет ли ситуация лучше при переводе только тех клиентов, которые присоединились в октябре."
   ]
  },
  {
   "cell_type": "code",
   "execution_count": 66,
   "metadata": {},
   "outputs": [],
   "source": [
    "new_clients = optimal_clients.loc[optimal_clients['date_start'] >= '2019-10-01', 'user_id'].unique()\n",
    "new_revenue = pd.concat([data.query('user_id not in @new_clients')['total_payment'],\n",
    "                         optimal_data.query('user_id in @new_clients')['proposed_payment']], axis=0)"
   ]
  },
  {
   "cell_type": "code",
   "execution_count": 67,
   "metadata": {},
   "outputs": [
    {
     "data": {
      "text/plain": [
       "'Общая выручка за август-ноябрь при переводе части на оптимальные тарифы: 1390738.2 рублей'"
      ]
     },
     "metadata": {},
     "output_type": "display_data"
    },
    {
     "data": {
      "text/plain": [
       "'Прирост выручки после оптимизации тарифов: -8.93%'"
      ]
     },
     "metadata": {},
     "output_type": "display_data"
    }
   ],
   "source": [
    "display('Общая выручка за август-ноябрь при переводе части на оптимальные тарифы: {:.1f} рублей'.format(new_revenue.sum()))\n",
    "display('Прирост выручки после оптимизации тарифов: {:.2%}'.format(new_revenue.sum() / data['total_payment'].sum() - 1))"
   ]
  },
  {
   "cell_type": "markdown",
   "metadata": {},
   "source": [
    "При переводе части клиентов выручка снизится на 9%, что уже не так драматично. К тому же, в долгосрочной перспективе предложение клиентам более дешёвых тарифов может стать очень выгодным решением: увидев, что компания заботится об их интересах, клиенты с меньшей вероятностью уйдут к конкурентам и их накопленная LTV окупит временное падение выручки. Чтобы снизить финансовые потери, рекомендуем компании расширить предложение дополнительных цифровых услуг, например, за небольшую плату делать персонализированные отчёты по использованию связи с предложениями по оптимизации ресурсов или подбирать самых эффективных операторов в зависимости от направления звонков и объема соединений. Мы предполагаем, что в зависимости от используемого тарифа пользовательское поведение может отличаться, и на это тоже стоит обратить внимание при разработке дополнительных услуг."
   ]
  },
  {
   "cell_type": "markdown",
   "metadata": {},
   "source": [
    "### Выводы по разделу"
   ]
  },
  {
   "cell_type": "markdown",
   "metadata": {},
   "source": [
    "1. Для ответа на вопросы заказчика мы выделили 235 активных клиентов, которые совершали звонки в последние 10 дней логов (с 18 по 28 ноября), и изучили их ежемесячные траты. Мы выяснили, что пользователи тарифа А, помимо самой высокой абонентской платы, тратят больше средств на услуги операторов. Больше всех на дополнительные минуты разговора тратят на тарифе В. Медианные затраты на всех тарифах близки к установленной абонентской плате за месяц: 5300 рублей на тарифе А, 2300 рублей на тарифе B и 1200 рублей на тарифе С.\n",
    "2. В качестве сильно переплачивающих мы выделили клиентов, чьи траты превышают траты 95% пользователей по аналогичному тарифу (7815,92 рублей для тарифа А, 3692,80 рублей для тарифа B и 3196,76 рублей для тарифа С). Этому условию удовлетворяют три клиента с тарифом А, восемь клиентов с тарифом В и одиннадцать клиентов с тарифом С. Всем клиентам можно предложить перейти на оптимальный тариф. Девяти клиентам, которые переплачивают регулярно (тариф А: 168187, тариф В: 166405, 166658, 166680, тариф С: 166511, 167150, 166983, 167827, 167888) рекомендуем предложить персональную скидку на услуги в размере 10-15%. Клиентам, которые переплатили много в одном месяце, можно предложить персональную скидку 5-10%.\n",
    "3. Мы разработали алгоритм определения наиболее выгодного тарифа, который показал, что 26 (100%) пользоватей тарифа А и 86 (98%) пользователей тарифа В в ноябре переплатили по своим текущим тарифам. Был выявлен один клиент, который сэкономит при переходе на более дорогой тариф: это пользователь 167827, рекомендованный переход с тарифа С на тариф В. Остальным клиентам будет выгодно перейти на более дешёвый тариф. Мы рекомендуем предложить эту опцию в первую очередь новым клиентам, зарегистрировавшимся в октябре, чтобы снизить вероятность их оттока в следующем месяце.\n",
    "4. Мы посчитали, что общая выручка за август-ноябрь по текущим тарифам составляет 1527062,3 рублей. При переводе всех клиентов на более выгодные тарифы компания потеряет треть выручки: падение доходов составит 33%. Однако при переводе части клиентов выручка снизится только на 9%. В долгосрочной перспективе предложение клиентам более дешёвых тарифов может стать очень выгодным решением: увидев, что компания заботится об их интересах, клиенты с меньшей вероятностью уйдут к конкурентам и их накопленная LTV окупит временное падение выручки.\n",
    "5. Чтобы снизить финансовые потери, рекомендуем компании расширить предложение дополнительных цифровых услуг, например, за небольшую плату делать персонализированные отчёты по использованию связи с предложениями по оптимизации ресурсов или подбирать самых эффективных операторов в зависимости от направления звонков и объема соединений."
   ]
  },
  {
   "cell_type": "markdown",
   "metadata": {},
   "source": [
    "## Статистический анализ данных"
   ]
  },
  {
   "cell_type": "markdown",
   "metadata": {},
   "source": [
    "Сравнив текущую выручку с прогнозом, мы выяснили, что после перехода клиентов (всех или части) на более выгодные тарифы выручка компании упадёт. Проверим, являются ли полученные результаты статистически достоверными."
   ]
  },
  {
   "cell_type": "markdown",
   "metadata": {},
   "source": [
    "### Тест №1: перевод всех клиентов на оптимальные тарифы снизит выручку компании"
   ]
  },
  {
   "cell_type": "markdown",
   "metadata": {},
   "source": [
    "Сформулируем нулевую гипотезу так: выручка компании после перехода всех пользователей на оптимальные тарифы будет равна выручке по текущим тарифам. Альтернативная гипотеза: после перехода клиентов на более выгодные тарифы выручка компании снизится (проверим одностороннюю гипотезу). Поскольку мы сравниваем два независимых массива, будем использовать метод для несвязанных выборок."
   ]
  },
  {
   "cell_type": "code",
   "execution_count": 68,
   "metadata": {},
   "outputs": [],
   "source": [
    "# для нашей задачи подойдёт стандартное значение уровня значимости\n",
    "alpha = 0.05"
   ]
  },
  {
   "cell_type": "markdown",
   "metadata": {},
   "source": [
    "Проведём предварительный тест, чтобы отпределить, можно ли считать равными дисперсии двух выборок (чтобы понять, какой параметр equal_var использовать для метода ttest_ind). Нулевая гипотеза: дисперсии выборок с значениями текущей выручки и прогнозируемой выручки равны. Альтернативная гипотеза: дисперсии выборок различаются."
   ]
  },
  {
   "cell_type": "code",
   "execution_count": 69,
   "metadata": {},
   "outputs": [
    {
     "data": {
      "text/plain": [
       "BartlettResult(statistic=87.55656829539366, pvalue=8.190351542758654e-21)"
      ]
     },
     "execution_count": 69,
     "metadata": {},
     "output_type": "execute_result"
    }
   ],
   "source": [
    "# проверим равенство дисперсий двух выборок по критерию Бартлетта\n",
    "st.bartlett(data['total_payment'], optimal_data['proposed_payment'])"
   ]
  },
  {
   "cell_type": "markdown",
   "metadata": {},
   "source": [
    "Получившаяся p-value намного меньше alpha, значит, отвергаем нулевую гипотезу: нельзя считать дисперсию по выборкам одинаковой. Будем использовать equal_var = False."
   ]
  },
  {
   "cell_type": "code",
   "execution_count": 70,
   "metadata": {},
   "outputs": [
    {
     "name": "stdout",
     "output_type": "stream",
     "text": [
      "p-значение: 2.458701502137754e-22\n",
      "Отвергаем нулевую гипотезу\n"
     ]
    }
   ],
   "source": [
    "test1 = st.ttest_ind(data['total_payment'], optimal_data['proposed_payment'], equal_var = False)\n",
    "\n",
    "print('p-значение:', test1.pvalue)\n",
    "\n",
    "if test1.pvalue < alpha / 2:\n",
    "    print ('Отвергаем нулевую гипотезу')\n",
    "else:\n",
    "    print ('Не получилось отвергнуть нулевую гипотезу')"
   ]
  },
  {
   "cell_type": "markdown",
   "metadata": {},
   "source": [
    "По результатам проверки принимаем альтернативную гипотезу: переход всех пользователей на оптимальные тарифы приведёт к снижению выручки."
   ]
  },
  {
   "cell_type": "code",
   "execution_count": 71,
   "metadata": {},
   "outputs": [
    {
     "data": {
      "image/png": "[encoded data removed]",
      "text/plain": [
       "<Figure size 1152x360 with 1 Axes>"
      ]
     },
     "metadata": {
      "needs_background": "light"
     },
     "output_type": "display_data"
    }
   ],
   "source": [
    "plt.figure(figsize=(16, 5))\n",
    "plt.title('Распределение значений в сравниваемых выборках', fontsize=15)\n",
    "ax = sns.distplot(data['total_payment'], bins=100, label='Текущая выручка')\n",
    "sns.distplot(optimal_data['proposed_payment'], bins=100, ax=ax, label='Прогноз')\n",
    "plt.xlabel('Сумма к оплате за месяц')\n",
    "plt.ylabel('Плотность частоты')\n",
    "plt.legend();"
   ]
  },
  {
   "cell_type": "markdown",
   "metadata": {},
   "source": [
    "В распределении текущей выручки мы видим три пика, соответствующих средним расходам по тарифам: в районе 1200, 2300 и 5300. При переходе пользователей на оптимальные тарифы (напомним, что всем клиентам, кроме одного, алгоритм порекомендовал переход на тарифный план с более низкой абонентской платой) распределение смещается влево, и на нём наблюдается только один пик в районе 1000-1200 рублей, что соответствует плате по тарифу С."
   ]
  },
  {
   "cell_type": "markdown",
   "metadata": {},
   "source": [
    "### Тест №2: перевод части клиентов на оптимальные тарифы снизит выручку компании"
   ]
  },
  {
   "cell_type": "markdown",
   "metadata": {},
   "source": [
    "Проведём аналогичное сравнение выручки для ситуации, когда смена тарифа будет предложена только новым клиентам."
   ]
  },
  {
   "cell_type": "code",
   "execution_count": 72,
   "metadata": {},
   "outputs": [
    {
     "data": {
      "text/plain": [
       "BartlettResult(statistic=4.760378736637784, pvalue=0.029122139331589827)"
      ]
     },
     "execution_count": 72,
     "metadata": {},
     "output_type": "execute_result"
    }
   ],
   "source": [
    "# проверим равенство дисперсий двух выборок по критерию Бартлетта\n",
    "st.bartlett(data['total_payment'], new_revenue)"
   ]
  },
  {
   "cell_type": "code",
   "execution_count": 73,
   "metadata": {},
   "outputs": [
    {
     "name": "stdout",
     "output_type": "stream",
     "text": [
      "p-значение: 0.016724193593144837\n",
      "Отвергаем нулевую гипотезу\n"
     ]
    }
   ],
   "source": [
    "test2 = st.ttest_ind(data['total_payment'], new_revenue, equal_var = False)\n",
    "\n",
    "print('p-значение:', test2.pvalue)\n",
    "\n",
    "if test2.pvalue < alpha / 2:\n",
    "    print ('Отвергаем нулевую гипотезу')\n",
    "else:\n",
    "    print ('Не получилось отвергнуть нулевую гипотезу')"
   ]
  },
  {
   "cell_type": "markdown",
   "metadata": {},
   "source": [
    "По результатам второй проверки также принимаем альтернативную гипотезу: переход части пользователей на оптимальные тарифы приведёт к снижению выручки."
   ]
  },
  {
   "cell_type": "code",
   "execution_count": 74,
   "metadata": {},
   "outputs": [
    {
     "data": {
      "image/png": "[encoded data removed]",
      "text/plain": [
       "<Figure size 1152x360 with 1 Axes>"
      ]
     },
     "metadata": {
      "needs_background": "light"
     },
     "output_type": "display_data"
    }
   ],
   "source": [
    "plt.figure(figsize=(16, 5))\n",
    "plt.title('Распределение значений в сравниваемых выборках', fontsize=15)\n",
    "ax = sns.distplot(data['total_payment'], bins=100, label='Текущая выручка')\n",
    "sns.distplot(new_revenue, bins=100, ax=ax, label='Прогноз')\n",
    "plt.xlabel('Сумма к оплате за месяц')\n",
    "plt.ylabel('Плотность частоты')\n",
    "plt.legend();"
   ]
  },
  {
   "cell_type": "markdown",
   "metadata": {},
   "source": [
    "В случае перевода части клиентов распределения значений в двух выборках остаются похожими: часть клиентов сместилась в сторону более низких платежей, но всё ещё отчётливо выделяются три пика оплат в соответствии с тремя тарифами."
   ]
  },
  {
   "cell_type": "markdown",
   "metadata": {},
   "source": [
    "### Влияние используемого тарифа на направление звонков"
   ]
  },
  {
   "cell_type": "markdown",
   "metadata": {},
   "source": [
    "Проверим гипотезу о влиянии тарифного плана на направленность звонков. Поскольку все входящие звонки бесплатны, в каждый тариф включен пакет в 2000 бесплатных минут на внутренние исходящие звонки, а стоимость минуты внешнего исходящего звонка различается в зависимости от тарифа, можно предположить, что некоторые клиенты экономят на внешних исходящих звонках и работают в большей степени на приём и внутреннюю коммуникацию. Сформулируем нулевую гипотезу: клиенты на разных тарифах одинаково часто совершают внешние исходящие звонки. Альтернативная гипотеза: клиенты совершают разное число внешних исходящих звонков в зависимости от используемого тарифа. Для проверки гипотезы используем непараметрический тест Манна-Уитни для несвязанных выборок."
   ]
  },
  {
   "cell_type": "code",
   "execution_count": 75,
   "metadata": {},
   "outputs": [],
   "source": [
    "# сложим количество внешних исходящих звонков каждого пользователя\n",
    "external_calls = (active_clients_calls.query('internal == False and direction == \"out\"')\n",
    "                                      .groupby('user_id', as_index=False)\n",
    "                                      .agg({'calls_count':'sum'}))"
   ]
  },
  {
   "cell_type": "code",
   "execution_count": 76,
   "metadata": {},
   "outputs": [
    {
     "data": {
      "text/html": [
       "<div>\n",
       "<style scoped>\n",
       "    .dataframe tbody tr th:only-of-type {\n",
       "        vertical-align: middle;\n",
       "    }\n",
       "\n",
       "    .dataframe tbody tr th {\n",
       "        vertical-align: top;\n",
       "    }\n",
       "\n",
       "    .dataframe thead th {\n",
       "        text-align: right;\n",
       "    }\n",
       "</style>\n",
       "<table border=\"1\" class=\"dataframe\">\n",
       "  <thead>\n",
       "    <tr style=\"text-align: right;\">\n",
       "      <th></th>\n",
       "      <th>user_id</th>\n",
       "      <th>calls_count</th>\n",
       "      <th>tariff_plan</th>\n",
       "      <th>date_start</th>\n",
       "    </tr>\n",
       "  </thead>\n",
       "  <tbody>\n",
       "    <tr>\n",
       "      <td>0</td>\n",
       "      <td>166377</td>\n",
       "      <td>4898</td>\n",
       "      <td>B</td>\n",
       "      <td>2019-08-01</td>\n",
       "    </tr>\n",
       "    <tr>\n",
       "      <td>1</td>\n",
       "      <td>166405</td>\n",
       "      <td>9789</td>\n",
       "      <td>B</td>\n",
       "      <td>2019-08-02</td>\n",
       "    </tr>\n",
       "    <tr>\n",
       "      <td>2</td>\n",
       "      <td>166406</td>\n",
       "      <td>8048</td>\n",
       "      <td>B</td>\n",
       "      <td>2019-08-02</td>\n",
       "    </tr>\n",
       "    <tr>\n",
       "      <td>3</td>\n",
       "      <td>166407</td>\n",
       "      <td>306</td>\n",
       "      <td>A</td>\n",
       "      <td>2019-08-02</td>\n",
       "    </tr>\n",
       "    <tr>\n",
       "      <td>4</td>\n",
       "      <td>166485</td>\n",
       "      <td>6132</td>\n",
       "      <td>B</td>\n",
       "      <td>2019-08-06</td>\n",
       "    </tr>\n",
       "  </tbody>\n",
       "</table>\n",
       "</div>"
      ],
      "text/plain": [
       "   user_id  calls_count tariff_plan date_start\n",
       "0  166377   4898         B          2019-08-01\n",
       "1  166405   9789         B          2019-08-02\n",
       "2  166406   8048         B          2019-08-02\n",
       "3  166407   306          A          2019-08-02\n",
       "4  166485   6132         B          2019-08-06"
      ]
     },
     "execution_count": 76,
     "metadata": {},
     "output_type": "execute_result"
    }
   ],
   "source": [
    "# добавим данные о тарифах\n",
    "external_calls = external_calls.merge(telecom_clients, on='user_id', how='left')\n",
    "external_calls.head()"
   ]
  },
  {
   "cell_type": "code",
   "execution_count": 77,
   "metadata": {},
   "outputs": [],
   "source": [
    "# подготовим выборки для теста\n",
    "sampleA = external_calls[external_calls['tariff_plan'] == 'A']['calls_count']\n",
    "sampleB = external_calls[external_calls['tariff_plan'] == 'B']['calls_count']\n",
    "sampleC = external_calls[external_calls['tariff_plan'] == 'C']['calls_count']"
   ]
  },
  {
   "cell_type": "code",
   "execution_count": 78,
   "metadata": {},
   "outputs": [],
   "source": [
    "# напишем функцию для автоматизации попарного сравнения трёх выборок\n",
    "def test_mannwhitneyu(a, b, c):\n",
    "    results_AB = st.mannwhitneyu(a, b, True, 'two-sided')\n",
    "    results_BC = st.mannwhitneyu(b, c, True, 'two-sided')\n",
    "    results_AC = st.mannwhitneyu(a, c, True, 'two-sided')\n",
    "    print('p-значение для сравнения тарифов А и B: ', results_AB.pvalue)\n",
    "    \n",
    "    bonferroni_alpha = alpha / 3 # введём поправку на множественное сравнение\n",
    "    \n",
    "    if (results_AB.pvalue < bonferroni_alpha):\n",
    "        print('Отвергаем нулевую гипотезу для сравнения тарифов А и B')\n",
    "    else:\n",
    "        print('Не получилось отвергнуть нулевую гипотезу для сравнения тарифов А и B')\n",
    "\n",
    "    print('')\n",
    "    print('p-значение для сравнения тарифов B и C: ', results_BC.pvalue)\n",
    "    \n",
    "    if (results_BC.pvalue < bonferroni_alpha):\n",
    "        print('Отвергаем нулевую гипотезу для сравнения тарифов B и C')\n",
    "    else:\n",
    "        print('Не получилось отвергнуть нулевую гипотезу для сравнения тарифов B и C')\n",
    "\n",
    "    print('') \n",
    "    print('p-значение для сравнения тарифов А и C: ', results_AC.pvalue)\n",
    "    \n",
    "    if (results_AC.pvalue < bonferroni_alpha):\n",
    "        print('Отвергаем нулевую гипотезу для сравнения тарифов А и C')\n",
    "    else:\n",
    "        print('Не получилось отвергнуть нулевую гипотезу для сравнения тарифов А и C')"
   ]
  },
  {
   "cell_type": "code",
   "execution_count": 79,
   "metadata": {},
   "outputs": [
    {
     "name": "stdout",
     "output_type": "stream",
     "text": [
      "p-значение для сравнения тарифов А и B:  0.36685028162200417\n",
      "Не получилось отвергнуть нулевую гипотезу для сравнения тарифов А и B\n",
      "\n",
      "p-значение для сравнения тарифов B и C:  0.48827630289322455\n",
      "Не получилось отвергнуть нулевую гипотезу для сравнения тарифов B и C\n",
      "\n",
      "p-значение для сравнения тарифов А и C:  0.18495884566187593\n",
      "Не получилось отвергнуть нулевую гипотезу для сравнения тарифов А и C\n"
     ]
    }
   ],
   "source": [
    "# проведём тест\n",
    "test_mannwhitneyu(sampleA, sampleB, sampleC)"
   ]
  },
  {
   "cell_type": "markdown",
   "metadata": {},
   "source": [
    "По результатам теста не удалось отвергнуть нулевую гипотезу: при всех трёх сравнениях не обнаружено статистически значимых различий в количестве звонков пользователей на разных тарифах."
   ]
  },
  {
   "cell_type": "code",
   "execution_count": 80,
   "metadata": {},
   "outputs": [
    {
     "data": {
      "text/html": [
       "<div>\n",
       "<style scoped>\n",
       "    .dataframe tbody tr th:only-of-type {\n",
       "        vertical-align: middle;\n",
       "    }\n",
       "\n",
       "    .dataframe tbody tr th {\n",
       "        vertical-align: top;\n",
       "    }\n",
       "\n",
       "    .dataframe thead th {\n",
       "        text-align: right;\n",
       "    }\n",
       "</style>\n",
       "<table border=\"1\" class=\"dataframe\">\n",
       "  <thead>\n",
       "    <tr style=\"text-align: right;\">\n",
       "      <th></th>\n",
       "      <th>tariff_plan</th>\n",
       "      <th>count</th>\n",
       "      <th>mean</th>\n",
       "      <th>std</th>\n",
       "      <th>min</th>\n",
       "      <th>25%</th>\n",
       "      <th>50%</th>\n",
       "      <th>75%</th>\n",
       "      <th>max</th>\n",
       "    </tr>\n",
       "  </thead>\n",
       "  <tbody>\n",
       "    <tr>\n",
       "      <td>0</td>\n",
       "      <td>A</td>\n",
       "      <td>21.0</td>\n",
       "      <td>2354.809524</td>\n",
       "      <td>5724.753328</td>\n",
       "      <td>3.0</td>\n",
       "      <td>186.0</td>\n",
       "      <td>533.0</td>\n",
       "      <td>1182.0</td>\n",
       "      <td>24072.0</td>\n",
       "    </tr>\n",
       "    <tr>\n",
       "      <td>1</td>\n",
       "      <td>B</td>\n",
       "      <td>71.0</td>\n",
       "      <td>1365.591549</td>\n",
       "      <td>2532.107578</td>\n",
       "      <td>1.0</td>\n",
       "      <td>45.0</td>\n",
       "      <td>272.0</td>\n",
       "      <td>1403.5</td>\n",
       "      <td>12327.0</td>\n",
       "    </tr>\n",
       "    <tr>\n",
       "      <td>2</td>\n",
       "      <td>C</td>\n",
       "      <td>86.0</td>\n",
       "      <td>1460.232558</td>\n",
       "      <td>4415.290466</td>\n",
       "      <td>1.0</td>\n",
       "      <td>29.5</td>\n",
       "      <td>234.5</td>\n",
       "      <td>1211.5</td>\n",
       "      <td>38906.0</td>\n",
       "    </tr>\n",
       "  </tbody>\n",
       "</table>\n",
       "</div>"
      ],
      "text/plain": [
       "  tariff_plan  count         mean          std  min    25%    50%     75%  \\\n",
       "0  A           21.0   2354.809524  5724.753328  3.0  186.0  533.0  1182.0   \n",
       "1  B           71.0   1365.591549  2532.107578  1.0  45.0   272.0  1403.5   \n",
       "2  C           86.0   1460.232558  4415.290466  1.0  29.5   234.5  1211.5   \n",
       "\n",
       "       max  \n",
       "0  24072.0  \n",
       "1  12327.0  \n",
       "2  38906.0  "
      ]
     },
     "execution_count": 80,
     "metadata": {},
     "output_type": "execute_result"
    }
   ],
   "source": [
    "# посмотрим статистические показатели по количеству исходящих звонков\n",
    "external_calls.groupby('tariff_plan')['calls_count'].describe().reset_index()"
   ]
  },
  {
   "cell_type": "markdown",
   "metadata": {},
   "source": [
    "Мы видим, что на тарифе А пользователи немного активнее совершают внешние исходящие звонки: минимальное значение (3 звонка) выше, чем на тарифах В и С (1 звонок), медианное значение выше примерно в 2 раза. Среднее количество звонков на тарифах В и С практически одинаково, хотя пользователи с тарифом В звонят чуть более активно: медиана составляет 272 звонков при 235 на тарифе С. Однако эти различия, скорее всего, вызваны активностью конкретных пользователей, а не фактом принадлежности их к определенному тарифу."
   ]
  },
  {
   "cell_type": "markdown",
   "metadata": {},
   "source": [
    "### Выводы по разделу"
   ]
  },
  {
   "cell_type": "markdown",
   "metadata": {},
   "source": [
    "В ходе проверки статистических гипотез были получены следующие результаты:\n",
    "1. Переход всех пользователей на оптимальные тарифы приведёт к снижению выручки компании. \n",
    "2. Переход части пользователей на оптимальные тарифы приведёт к снижению выручки компании.\n",
    "3. Пользовательское поведение в отношении внешних исходящих звонков (за которые клиент несёт дополнительные расходы) не зависит от используемого тарифного плана."
   ]
  },
  {
   "cell_type": "markdown",
   "metadata": {},
   "source": [
    "## Общий вывод"
   ]
  },
  {
   "cell_type": "markdown",
   "metadata": {},
   "source": [
    "Целью настоящего исследования, заказчиком которого выступил коммерческий отдел компании «Нупозвони», являлось выявление клиентов, которые 1) переплачивают на текущих тарифах; 2) сэкономят, если перейдут на более дорогой тариф. Для этого нам были предоставлены данные о 732 клиентах компании, которые присоединились к сервису с 1 августа по 31 октября 2019 года, и о совершённых ими звонках в период с 2 августа по 28 ноября 2019 года.\n",
    "\n",
    "На этапе предобработки мы перевели данные в таблицах в оптимальные форматы, в таблице с информацией о звонках удалили 117 пропусков в маркере внутренних и внешних вызовов (0,2% датасета) и 4893 дубликатов (9,10% датасета), заменили кодовым сочетанием 999999 пропущенные значения в идентификаторах оператора во избежание потери большого количества строк (15% датасета). Изучив данные, мы выяснили следующее:\n",
    "1. Больше половины клиентов (395 человек) приобрели тариф С с ежемесячной платой 1000 рублей, на втором месте тариф B с ежемесячной платой 2000 рублей (261 клиентов), тарифом А с ежемесячной платой 5000 рублей пользуются 76 клиентов.\n",
    "2. В данных о звонках, совершённых со 2 августа по 28 ноября 2019 года, было идентифицировано 307 уникальных клиентов (что в 2,5 раза меньше общего числа зарегистрировавшихся). Количество активных пользователей растёт с течением времени: в августе сервисом пользовались 85 уникальных клиентов, в ноябре 261.\n",
    "3. В субботу и воскресенье совершается значительно меньше звонков, чем в будние дни: колл-центры и операторы работают по графику выходного дня. Подключение новых клиентов к тарифам также обычно происходит с понедельника по пятницу.\n",
    "4. Большинство вызовов являются внешними (98%) и исходящими (75%). Достаточно много звонков отмечены как пропущенные (47%): возможно, нужно изменить схему распределения звонков по операторам, чтобы снизить их число.\n",
    "5. Половина клиентов совершает от 1 до 10 звонков в день, однако обнаружены и аномальные значения: самое высокое - 6049 звонков в день. Практически все многочисленные звонки сделаны пользователем 167626 в период с 25 сентября по 15 октября. К сожалению, последняя запись его активности относится к 20 октября: если предоставленные нам логи полные, он перестал пользоваться услугами компании.\n",
    "6. 75% пользователей в день тратит на звонки 41 минуту чистого времени разговора или 52,5 минуты с учётом времени ожидания. Были обнаружены выбросы: максимальное время разговора без учёта ожидания составляет 222091 секунд, т.е. почти 62 часа, с учётом ожидания — 291812 секунд, т.е. 81 час. Мы выяснили, что все записи, где чистое время разговора составляет больше суток, относятся к клиентам 166582, 168361, 168252. Все они пользуются тарифом А и продолжают быть активными на 28 ноября 2019 года. Так как указанные клиенты приносят компании много дохода, мы рекомендуем предложить им премиальное обслуживание и персональные скидки.\n",
    "7. В качестве активных мы выделили 235 клиентов, которые совершали звонки в период с 18 по 28 ноября, и изучили их ежемесячные траты. Мы выяснили, что пользователи тарифа А, помимо самой высокой абонентской платы, тратят больше средств на услуги операторов. Больше всех на дополнительные минуты разговора тратят на тарифе В. Медианные затраты на всех тарифах близки к установленной абонентской плате за месяц: 5300 рублей на тарифе А, 2300 рублей на тарифе B и 1200 рублей на тарифе С.\n",
    "8. Мы выделили 22 клиента, чьи затраты превышают траты 95% пользователей по аналогичному тарифу (7815,92 рублей для тарифа А, 3692,80 рублей для тарифа B и 3196,76 рублей для тарифа С). Мы рекомендуем отблагодарить этих клиентов за активное пользование сервисом. Девяти клиентам, которые переплачивают регулярно (тариф А: 168187, тариф В: 166405, 166658, 166680, тариф С: 166511, 167150, 166983, 167827, 167888) рекомендуем предложить персональную скидку на услуги в размере 10-15%. Остальным клиентам из списка можно предложить персональную скидку 5-10%.\n",
    "9. Мы разработали алгоритм определения наиболее выгодного тарифа, который показал, что 26 (100%) пользоватей тарифа А и 86 (98%) пользователей тарифа В в ноябре переплатили по своим текущим тарифам. Был выявлен один клиент, который сэкономит при переходе на более дорогой тариф: это пользователь 167827, рекомендованный переход с тарифа С на тариф В. Остальным клиентам будет выгодно перейти на более дешёвый тариф. Мы рекомендуем предложить эту опцию в первую очередь новым клиентам, зарегистрировавшимся в октябре, чтобы снизить вероятность их оттока в следующем месяце.\n",
    "10. Мы посчитали, что общая выручка за август-ноябрь по текущим тарифам составляет 1527062,3 рублей. При переводе всех клиентов на более выгодные тарифы компания потеряет значительную часть выручки: падение доходов составит 33%. Однако при переводе части клиентов выручка снизится только на 9%. В долгосрочной перспективе предложение клиентам более дешёвых тарифов может стать очень выгодным решением: увидев, что компания заботится об их интересах, клиенты с меньшей вероятностью уйдут к конкурентам и их накопленная LTV окупит временное падение выручки.\n",
    "11. Мы проверили статистические гипотезы касательно влияния перехода пользователей на более выгодные тарифы на выручку компании и влияния тарифного плана на направленность звонков пользователей. Получены следующие результаты:\n",
    "    1. Переход всех пользователей на оптимальные тарифы приведёт к снижению выручки компании.\n",
    "    2. Переход части пользователей на оптимальные тарифы приведёт к снижению выручки компании.\n",
    "    3. Пользовательское поведение в отношении внешних исходящих звонков (за которые клиент несёт дополнительные расходы) не зависит от используемого тарифного плана.\n",
    "\n",
    "**Рекомендации**\n",
    "\n",
    "Мы рекомендуем запустить механизм предложения пользователям оптимальных тарифов, чтобы повысить их лояльность и снизить вероятность ухода к конкурентам. Чтобы минимизировать финансовые потери, компании следует расширить предложение дополнительных цифровых услуг, например:\n",
    "- за небольшую плату делать персонализированные отчёты по использованию связи с предложениями по оптимизации ресурсов;\n",
    "- подбирать самых эффективных операторов в зависимости от направления звонков и объема соединений;\n",
    "- предлагать пользователям дополнительные услуги, связанные с исходящими звонками, минимизацией пропущенных звонков и снижением времени ожидания;\n",
    "- предлагать пользователям дополнительные услуги, связанные с входящими звонками, например, делать записи звонков.\n",
    "\n",
    "Также рекомендуем не забывать про персональные предложения и скидки самым активным клиентам."
   ]
  }
 ],
 "metadata": {
  "ExecuteTimeLog": [
   {
    "duration": 1460,
    "start_time": "2021-12-23T08:16:32.769Z"
   },
   {
    "duration": 3114,
    "start_time": "2021-12-23T08:17:28.281Z"
   },
   {
    "duration": 2832,
    "start_time": "2021-12-23T08:17:43.907Z"
   },
   {
    "duration": 2837,
    "start_time": "2021-12-23T08:17:50.689Z"
   },
   {
    "duration": 2992,
    "start_time": "2021-12-23T08:17:59.744Z"
   },
   {
    "duration": 2785,
    "start_time": "2021-12-23T08:18:27.733Z"
   },
   {
    "duration": 32,
    "start_time": "2021-12-23T08:20:25.298Z"
   },
   {
    "duration": 4414,
    "start_time": "2021-12-23T08:20:38.557Z"
   },
   {
    "duration": 444,
    "start_time": "2021-12-23T08:21:01.884Z"
   },
   {
    "duration": 125,
    "start_time": "2021-12-23T08:21:20.981Z"
   },
   {
    "duration": 22,
    "start_time": "2021-12-23T08:23:20.625Z"
   },
   {
    "duration": 23,
    "start_time": "2021-12-23T08:24:41.493Z"
   },
   {
    "duration": 16,
    "start_time": "2021-12-23T08:24:50.324Z"
   },
   {
    "duration": 7,
    "start_time": "2021-12-23T08:27:52.252Z"
   },
   {
    "duration": 17,
    "start_time": "2021-12-23T08:27:54.958Z"
   },
   {
    "duration": 1907,
    "start_time": "2021-12-23T08:28:06.365Z"
   },
   {
    "duration": 15,
    "start_time": "2021-12-23T08:28:08.276Z"
   },
   {
    "duration": 7,
    "start_time": "2021-12-23T08:28:14.122Z"
   },
   {
    "duration": 10,
    "start_time": "2021-12-23T08:28:43.484Z"
   },
   {
    "duration": 19,
    "start_time": "2021-12-23T08:54:03.641Z"
   },
   {
    "duration": 41,
    "start_time": "2021-12-23T08:54:15.431Z"
   },
   {
    "duration": 388,
    "start_time": "2021-12-23T08:56:03.906Z"
   },
   {
    "duration": 241,
    "start_time": "2021-12-23T08:56:40.754Z"
   },
   {
    "duration": 369,
    "start_time": "2021-12-23T08:57:19.825Z"
   },
   {
    "duration": 622,
    "start_time": "2021-12-23T08:57:25.701Z"
   },
   {
    "duration": 300,
    "start_time": "2021-12-23T08:57:44.786Z"
   },
   {
    "duration": 663,
    "start_time": "2021-12-23T08:58:59.319Z"
   },
   {
    "duration": 8,
    "start_time": "2021-12-23T08:59:59.855Z"
   },
   {
    "duration": 280,
    "start_time": "2021-12-23T09:01:26.611Z"
   },
   {
    "duration": 270,
    "start_time": "2021-12-23T09:02:37.852Z"
   },
   {
    "duration": 277,
    "start_time": "2021-12-23T09:02:50.607Z"
   },
   {
    "duration": 328,
    "start_time": "2021-12-23T09:03:05.040Z"
   },
   {
    "duration": 382,
    "start_time": "2021-12-23T09:03:16.260Z"
   },
   {
    "duration": 418,
    "start_time": "2021-12-23T09:03:26.441Z"
   },
   {
    "duration": 761,
    "start_time": "2021-12-23T09:03:40.838Z"
   },
   {
    "duration": 562,
    "start_time": "2021-12-23T09:03:47.822Z"
   },
   {
    "duration": 450,
    "start_time": "2021-12-23T09:04:14.095Z"
   },
   {
    "duration": 492,
    "start_time": "2021-12-23T09:04:35.324Z"
   },
   {
    "duration": 450,
    "start_time": "2021-12-23T09:04:47.370Z"
   },
   {
    "duration": 469,
    "start_time": "2021-12-23T09:05:39.065Z"
   },
   {
    "duration": 277,
    "start_time": "2021-12-23T09:06:38.648Z"
   },
   {
    "duration": 612,
    "start_time": "2021-12-23T09:06:47.190Z"
   },
   {
    "duration": 261,
    "start_time": "2021-12-23T09:12:37.013Z"
   },
   {
    "duration": 295,
    "start_time": "2021-12-23T09:13:05.877Z"
   },
   {
    "duration": 446,
    "start_time": "2021-12-23T09:13:17.225Z"
   },
   {
    "duration": 8,
    "start_time": "2021-12-23T09:13:43.395Z"
   },
   {
    "duration": 9,
    "start_time": "2021-12-23T09:34:17.235Z"
   },
   {
    "duration": 402,
    "start_time": "2021-12-23T09:44:41.831Z"
   },
   {
    "duration": 8,
    "start_time": "2021-12-23T09:44:53.012Z"
   },
   {
    "duration": 9,
    "start_time": "2021-12-23T09:45:03.516Z"
   },
   {
    "duration": 32,
    "start_time": "2021-12-23T09:55:49.936Z"
   },
   {
    "duration": 20,
    "start_time": "2021-12-23T10:02:40.633Z"
   },
   {
    "duration": 16,
    "start_time": "2021-12-23T10:02:57.626Z"
   },
   {
    "duration": 17,
    "start_time": "2021-12-23T10:03:04.896Z"
   },
   {
    "duration": 8,
    "start_time": "2021-12-23T10:03:54.992Z"
   },
   {
    "duration": 16,
    "start_time": "2021-12-23T10:03:58.459Z"
   },
   {
    "duration": 16,
    "start_time": "2021-12-23T10:04:08.338Z"
   },
   {
    "duration": 15,
    "start_time": "2021-12-23T10:10:52.011Z"
   },
   {
    "duration": 13,
    "start_time": "2021-12-23T10:13:47.920Z"
   },
   {
    "duration": 30,
    "start_time": "2021-12-23T10:14:06.760Z"
   },
   {
    "duration": 28,
    "start_time": "2021-12-23T10:14:09.931Z"
   },
   {
    "duration": 27,
    "start_time": "2021-12-23T10:15:33.685Z"
   },
   {
    "duration": 28,
    "start_time": "2021-12-23T10:21:38.240Z"
   },
   {
    "duration": 39,
    "start_time": "2021-12-23T10:22:07.467Z"
   },
   {
    "duration": 29,
    "start_time": "2021-12-23T10:22:35.925Z"
   },
   {
    "duration": 25,
    "start_time": "2021-12-23T10:22:47.922Z"
   },
   {
    "duration": 22,
    "start_time": "2021-12-23T10:24:28.958Z"
   },
   {
    "duration": 42,
    "start_time": "2021-12-23T10:24:41.709Z"
   },
   {
    "duration": 23,
    "start_time": "2021-12-23T10:24:47.621Z"
   },
   {
    "duration": 23,
    "start_time": "2021-12-23T10:25:12.450Z"
   },
   {
    "duration": 32,
    "start_time": "2021-12-23T10:25:17.973Z"
   },
   {
    "duration": 23,
    "start_time": "2021-12-23T10:25:22.927Z"
   },
   {
    "duration": 23,
    "start_time": "2021-12-23T10:25:26.875Z"
   },
   {
    "duration": 24,
    "start_time": "2021-12-23T10:25:32.841Z"
   },
   {
    "duration": 22,
    "start_time": "2021-12-23T10:25:37.956Z"
   },
   {
    "duration": 22,
    "start_time": "2021-12-23T10:25:43.910Z"
   },
   {
    "duration": 23,
    "start_time": "2021-12-23T10:25:49.844Z"
   },
   {
    "duration": 23,
    "start_time": "2021-12-23T10:27:01.749Z"
   },
   {
    "duration": 15,
    "start_time": "2021-12-23T10:38:09.393Z"
   },
   {
    "duration": 21,
    "start_time": "2021-12-23T10:38:34.301Z"
   },
   {
    "duration": 15,
    "start_time": "2021-12-23T10:38:37.415Z"
   },
   {
    "duration": 27,
    "start_time": "2021-12-23T10:39:13.719Z"
   },
   {
    "duration": 22,
    "start_time": "2021-12-23T10:41:23.333Z"
   },
   {
    "duration": 35,
    "start_time": "2021-12-23T10:41:48.444Z"
   },
   {
    "duration": 56,
    "start_time": "2021-12-23T10:42:08.598Z"
   },
   {
    "duration": 20,
    "start_time": "2021-12-23T10:42:45.771Z"
   },
   {
    "duration": 21,
    "start_time": "2021-12-23T10:43:03.329Z"
   },
   {
    "duration": 465,
    "start_time": "2021-12-23T10:43:38.770Z"
   },
   {
    "duration": 9,
    "start_time": "2021-12-23T10:43:56.467Z"
   },
   {
    "duration": 375,
    "start_time": "2021-12-23T10:44:23.240Z"
   },
   {
    "duration": 9,
    "start_time": "2021-12-23T10:44:35.383Z"
   },
   {
    "duration": 10265,
    "start_time": "2021-12-23T10:45:02.133Z"
   },
   {
    "duration": 11,
    "start_time": "2021-12-23T10:45:12.825Z"
   },
   {
    "duration": 18,
    "start_time": "2021-12-23T10:45:43.013Z"
   },
   {
    "duration": 36,
    "start_time": "2021-12-23T10:46:15.049Z"
   },
   {
    "duration": 54,
    "start_time": "2021-12-23T10:46:27.186Z"
   },
   {
    "duration": 5,
    "start_time": "2021-12-23T11:23:42.855Z"
   },
   {
    "duration": 38,
    "start_time": "2021-12-23T11:26:43.400Z"
   },
   {
    "duration": 127,
    "start_time": "2021-12-23T11:27:16.458Z"
   },
   {
    "duration": 116,
    "start_time": "2021-12-23T11:27:21.713Z"
   },
   {
    "duration": -1089,
    "start_time": "2021-12-23T11:27:56.023Z"
   },
   {
    "duration": 498,
    "start_time": "2021-12-23T11:28:44.616Z"
   },
   {
    "duration": 14,
    "start_time": "2021-12-23T11:32:19.260Z"
   },
   {
    "duration": 1815,
    "start_time": "2021-12-23T11:32:50.147Z"
   },
   {
    "duration": 1062,
    "start_time": "2021-12-23T11:32:51.964Z"
   },
   {
    "duration": 24,
    "start_time": "2021-12-23T11:32:53.029Z"
   },
   {
    "duration": 8,
    "start_time": "2021-12-23T11:32:53.057Z"
   },
   {
    "duration": 12,
    "start_time": "2021-12-23T11:32:53.067Z"
   },
   {
    "duration": 301,
    "start_time": "2021-12-23T11:32:53.082Z"
   },
   {
    "duration": 488,
    "start_time": "2021-12-23T11:32:53.386Z"
   },
   {
    "duration": 32,
    "start_time": "2021-12-23T11:32:53.878Z"
   },
   {
    "duration": 47,
    "start_time": "2021-12-23T11:32:53.912Z"
   },
   {
    "duration": 34,
    "start_time": "2021-12-23T11:32:53.962Z"
   },
   {
    "duration": 23,
    "start_time": "2021-12-23T11:32:53.999Z"
   },
   {
    "duration": 46,
    "start_time": "2021-12-23T11:32:54.025Z"
   },
   {
    "duration": 102,
    "start_time": "2021-12-23T11:32:54.074Z"
   },
   {
    "duration": 7,
    "start_time": "2021-12-23T11:32:54.179Z"
   },
   {
    "duration": 34,
    "start_time": "2021-12-23T11:37:15.914Z"
   },
   {
    "duration": 31,
    "start_time": "2021-12-23T11:45:01.828Z"
   },
   {
    "duration": 35,
    "start_time": "2021-12-23T11:45:32.447Z"
   },
   {
    "duration": 10,
    "start_time": "2021-12-23T11:50:45.174Z"
   },
   {
    "duration": 5,
    "start_time": "2021-12-23T11:55:03.125Z"
   },
   {
    "duration": 15,
    "start_time": "2021-12-23T11:55:13.455Z"
   },
   {
    "duration": 11,
    "start_time": "2021-12-23T11:55:43.565Z"
   },
   {
    "duration": 17,
    "start_time": "2021-12-23T11:55:44.992Z"
   },
   {
    "duration": 28,
    "start_time": "2021-12-23T11:55:58.757Z"
   },
   {
    "duration": 8,
    "start_time": "2021-12-23T11:57:59.036Z"
   },
   {
    "duration": 30,
    "start_time": "2021-12-23T11:58:02.090Z"
   },
   {
    "duration": 23,
    "start_time": "2021-12-23T12:03:49.571Z"
   },
   {
    "duration": 513,
    "start_time": "2021-12-23T12:05:29.307Z"
   },
   {
    "duration": 392,
    "start_time": "2021-12-23T12:06:07.470Z"
   },
   {
    "duration": 129,
    "start_time": "2021-12-23T12:06:16.265Z"
   },
   {
    "duration": 36,
    "start_time": "2021-12-23T12:07:03.922Z"
   },
   {
    "duration": 21,
    "start_time": "2021-12-23T12:07:14.761Z"
   },
   {
    "duration": 39,
    "start_time": "2021-12-23T12:09:16.409Z"
   },
   {
    "duration": 134,
    "start_time": "2021-12-23T12:10:22.961Z"
   },
   {
    "duration": 37,
    "start_time": "2021-12-23T12:10:29.267Z"
   },
   {
    "duration": 42,
    "start_time": "2021-12-23T12:10:56.866Z"
   },
   {
    "duration": 37,
    "start_time": "2021-12-23T12:11:05.938Z"
   },
   {
    "duration": 41,
    "start_time": "2021-12-23T12:12:44.448Z"
   },
   {
    "duration": 26,
    "start_time": "2021-12-23T12:12:58.339Z"
   },
   {
    "duration": 15,
    "start_time": "2021-12-23T12:13:13.254Z"
   },
   {
    "duration": 398,
    "start_time": "2021-12-23T12:14:01.223Z"
   },
   {
    "duration": 45,
    "start_time": "2021-12-23T12:14:16.002Z"
   },
   {
    "duration": 26,
    "start_time": "2021-12-23T12:14:31.447Z"
   },
   {
    "duration": 395,
    "start_time": "2021-12-23T12:15:24.511Z"
   },
   {
    "duration": 23,
    "start_time": "2021-12-23T12:15:33.032Z"
   },
   {
    "duration": 15,
    "start_time": "2021-12-23T12:15:47.322Z"
   },
   {
    "duration": 966,
    "start_time": "2021-12-23T12:20:45.840Z"
   },
   {
    "duration": 970,
    "start_time": "2021-12-23T12:21:03.044Z"
   },
   {
    "duration": 1011,
    "start_time": "2021-12-23T12:22:07.051Z"
   },
   {
    "duration": 43,
    "start_time": "2021-12-23T12:22:59.791Z"
   },
   {
    "duration": 547,
    "start_time": "2021-12-23T12:26:21.572Z"
   },
   {
    "duration": 519,
    "start_time": "2021-12-23T12:26:58.721Z"
   },
   {
    "duration": 8,
    "start_time": "2021-12-23T12:27:36.433Z"
   },
   {
    "duration": 448,
    "start_time": "2021-12-23T12:32:22.439Z"
   },
   {
    "duration": 457,
    "start_time": "2021-12-23T12:32:34.350Z"
   },
   {
    "duration": 15,
    "start_time": "2021-12-23T12:35:31.175Z"
   },
   {
    "duration": 6,
    "start_time": "2021-12-23T12:39:10.350Z"
   },
   {
    "duration": 12,
    "start_time": "2021-12-23T12:40:05.124Z"
   },
   {
    "duration": 454,
    "start_time": "2021-12-23T12:40:21.680Z"
   },
   {
    "duration": 13,
    "start_time": "2021-12-23T12:40:33.143Z"
   },
   {
    "duration": 15,
    "start_time": "2021-12-23T12:42:04.890Z"
   },
   {
    "duration": 724,
    "start_time": "2021-12-23T12:47:37.351Z"
   },
   {
    "duration": 8,
    "start_time": "2021-12-23T12:47:56.763Z"
   },
   {
    "duration": 9,
    "start_time": "2021-12-23T12:48:55.607Z"
   },
   {
    "duration": 6,
    "start_time": "2021-12-23T12:52:00.544Z"
   },
   {
    "duration": 915,
    "start_time": "2021-12-23T12:56:31.249Z"
   },
   {
    "duration": 6,
    "start_time": "2021-12-23T13:45:32.014Z"
   },
   {
    "duration": 386,
    "start_time": "2021-12-23T13:46:23.139Z"
   },
   {
    "duration": -739,
    "start_time": "2021-12-23T13:51:59.356Z"
   },
   {
    "duration": -740,
    "start_time": "2021-12-23T13:51:59.359Z"
   },
   {
    "duration": 6774,
    "start_time": "2021-12-23T13:52:00.324Z"
   },
   {
    "duration": 6,
    "start_time": "2021-12-23T13:52:26.918Z"
   },
   {
    "duration": 198,
    "start_time": "2021-12-23T13:52:35.496Z"
   },
   {
    "duration": 9152,
    "start_time": "2021-12-23T13:52:42.517Z"
   },
   {
    "duration": 208,
    "start_time": "2021-12-23T13:52:57.571Z"
   },
   {
    "duration": 498,
    "start_time": "2021-12-23T13:55:59.189Z"
   },
   {
    "duration": 393,
    "start_time": "2021-12-23T13:56:19.324Z"
   },
   {
    "duration": 428,
    "start_time": "2021-12-23T13:56:39.803Z"
   },
   {
    "duration": 2345,
    "start_time": "2021-12-23T13:57:18.229Z"
   },
   {
    "duration": 1962,
    "start_time": "2021-12-23T13:57:32.018Z"
   },
   {
    "duration": 1868,
    "start_time": "2021-12-23T13:57:44.202Z"
   },
   {
    "duration": 1344,
    "start_time": "2021-12-23T13:57:52.202Z"
   },
   {
    "duration": 1249,
    "start_time": "2021-12-23T13:58:07.791Z"
   },
   {
    "duration": 1347,
    "start_time": "2021-12-23T13:58:17.247Z"
   },
   {
    "duration": 1263,
    "start_time": "2021-12-23T13:58:33.681Z"
   },
   {
    "duration": 1407,
    "start_time": "2021-12-23T13:58:57.952Z"
   },
   {
    "duration": 1519,
    "start_time": "2021-12-23T13:59:07.923Z"
   },
   {
    "duration": 1412,
    "start_time": "2021-12-23T13:59:13.722Z"
   },
   {
    "duration": 1168,
    "start_time": "2021-12-23T14:01:06.518Z"
   },
   {
    "duration": 1110,
    "start_time": "2021-12-23T14:01:22.209Z"
   },
   {
    "duration": 1372,
    "start_time": "2021-12-23T14:02:04.912Z"
   },
   {
    "duration": 1644,
    "start_time": "2021-12-23T14:06:45.616Z"
   },
   {
    "duration": 1208,
    "start_time": "2021-12-23T14:06:53.783Z"
   },
   {
    "duration": 1186,
    "start_time": "2021-12-23T14:08:35.818Z"
   },
   {
    "duration": 1121,
    "start_time": "2021-12-23T14:08:53.268Z"
   },
   {
    "duration": 1142,
    "start_time": "2021-12-23T14:10:07.177Z"
   },
   {
    "duration": 1271,
    "start_time": "2021-12-23T14:11:08.643Z"
   },
   {
    "duration": 1215,
    "start_time": "2021-12-23T14:11:17.330Z"
   },
   {
    "duration": 1182,
    "start_time": "2021-12-23T14:15:34.773Z"
   },
   {
    "duration": 1771,
    "start_time": "2021-12-23T14:17:01.377Z"
   },
   {
    "duration": 9,
    "start_time": "2021-12-23T14:48:56.920Z"
   },
   {
    "duration": 9,
    "start_time": "2021-12-23T14:52:06.000Z"
   },
   {
    "duration": 7,
    "start_time": "2021-12-23T14:52:15.498Z"
   },
   {
    "duration": 1846,
    "start_time": "2021-12-23T14:52:44.252Z"
   },
   {
    "duration": 7,
    "start_time": "2021-12-23T14:52:54.353Z"
   },
   {
    "duration": 1910,
    "start_time": "2021-12-23T14:52:55.352Z"
   },
   {
    "duration": 8,
    "start_time": "2021-12-23T14:53:17.451Z"
   },
   {
    "duration": 1253,
    "start_time": "2021-12-23T14:53:18.341Z"
   },
   {
    "duration": 8,
    "start_time": "2021-12-23T14:55:04.705Z"
   },
   {
    "duration": 364,
    "start_time": "2021-12-23T14:55:05.675Z"
   },
   {
    "duration": 999,
    "start_time": "2021-12-23T14:55:44.870Z"
   },
   {
    "duration": 8,
    "start_time": "2021-12-23T14:56:02.325Z"
   },
   {
    "duration": 1211,
    "start_time": "2021-12-23T14:56:03.281Z"
   },
   {
    "duration": 1780,
    "start_time": "2021-12-23T14:56:20.837Z"
   },
   {
    "duration": 1680,
    "start_time": "2021-12-23T14:56:38.407Z"
   },
   {
    "duration": 7,
    "start_time": "2021-12-23T14:58:51.611Z"
   },
   {
    "duration": 1705,
    "start_time": "2021-12-23T14:58:52.567Z"
   },
   {
    "duration": 21,
    "start_time": "2021-12-23T14:59:37.069Z"
   },
   {
    "duration": 1635,
    "start_time": "2021-12-23T14:59:38.612Z"
   },
   {
    "duration": 243,
    "start_time": "2021-12-23T15:02:04.906Z"
   },
   {
    "duration": 121,
    "start_time": "2021-12-23T15:02:29.897Z"
   },
   {
    "duration": 32373,
    "start_time": "2021-12-23T15:02:34.895Z"
   },
   {
    "duration": 48,
    "start_time": "2021-12-23T15:03:24.547Z"
   },
   {
    "duration": 503,
    "start_time": "2021-12-23T15:03:44.713Z"
   },
   {
    "duration": 1633,
    "start_time": "2021-12-23T15:04:26.656Z"
   },
   {
    "duration": 1627,
    "start_time": "2021-12-23T15:04:37.592Z"
   },
   {
    "duration": 826,
    "start_time": "2021-12-23T15:50:10.097Z"
   },
   {
    "duration": 295,
    "start_time": "2021-12-23T15:53:36.341Z"
   },
   {
    "duration": 1064,
    "start_time": "2021-12-23T15:53:48.045Z"
   },
   {
    "duration": 2397,
    "start_time": "2021-12-23T15:54:46.917Z"
   },
   {
    "duration": 9,
    "start_time": "2021-12-23T16:02:14.826Z"
   },
   {
    "duration": 1772,
    "start_time": "2021-12-23T16:02:16.607Z"
   },
   {
    "duration": 1675,
    "start_time": "2021-12-23T16:07:41.635Z"
   },
   {
    "duration": 1715,
    "start_time": "2021-12-23T16:08:11.626Z"
   },
   {
    "duration": 1608,
    "start_time": "2021-12-23T16:08:37.648Z"
   },
   {
    "duration": 1680,
    "start_time": "2021-12-23T16:09:31.199Z"
   },
   {
    "duration": 9,
    "start_time": "2021-12-23T16:13:25.305Z"
   },
   {
    "duration": 1796,
    "start_time": "2021-12-23T16:14:51.374Z"
   },
   {
    "duration": 11,
    "start_time": "2021-12-23T16:15:06.239Z"
   },
   {
    "duration": 1789,
    "start_time": "2021-12-23T16:15:07.266Z"
   },
   {
    "duration": 1953,
    "start_time": "2021-12-23T16:16:00.995Z"
   },
   {
    "duration": 11,
    "start_time": "2021-12-23T16:17:36.268Z"
   },
   {
    "duration": 1712,
    "start_time": "2021-12-23T16:17:38.574Z"
   },
   {
    "duration": 7,
    "start_time": "2021-12-23T16:17:54.716Z"
   },
   {
    "duration": 1764,
    "start_time": "2021-12-23T16:17:55.938Z"
   },
   {
    "duration": 8,
    "start_time": "2021-12-23T16:18:12.490Z"
   },
   {
    "duration": 1792,
    "start_time": "2021-12-23T16:18:13.572Z"
   },
   {
    "duration": 8,
    "start_time": "2021-12-23T16:18:26.113Z"
   },
   {
    "duration": 1790,
    "start_time": "2021-12-23T16:18:28.203Z"
   },
   {
    "duration": 1819,
    "start_time": "2021-12-23T16:20:01.062Z"
   },
   {
    "duration": 1763,
    "start_time": "2021-12-23T16:21:17.700Z"
   },
   {
    "duration": 1740,
    "start_time": "2021-12-23T16:22:09.037Z"
   },
   {
    "duration": 1813,
    "start_time": "2021-12-23T16:22:22.857Z"
   },
   {
    "duration": 6112,
    "start_time": "2021-12-23T16:22:36.335Z"
   },
   {
    "duration": 5905,
    "start_time": "2021-12-23T16:23:05.463Z"
   },
   {
    "duration": 6142,
    "start_time": "2021-12-23T16:23:22.236Z"
   },
   {
    "duration": 6131,
    "start_time": "2021-12-23T16:23:51.081Z"
   },
   {
    "duration": 6151,
    "start_time": "2021-12-23T16:24:19.368Z"
   },
   {
    "duration": 6487,
    "start_time": "2021-12-23T16:24:37.589Z"
   },
   {
    "duration": 6491,
    "start_time": "2021-12-23T16:25:01.650Z"
   },
   {
    "duration": 59,
    "start_time": "2021-12-23T16:25:41.641Z"
   },
   {
    "duration": 22009,
    "start_time": "2021-12-23T16:49:06.928Z"
   },
   {
    "duration": 7,
    "start_time": "2021-12-23T16:49:55.930Z"
   },
   {
    "duration": 7446,
    "start_time": "2021-12-23T16:50:03.532Z"
   },
   {
    "duration": 6727,
    "start_time": "2021-12-23T16:50:27.511Z"
   },
   {
    "duration": 1791,
    "start_time": "2021-12-23T16:52:29.502Z"
   },
   {
    "duration": 758,
    "start_time": "2021-12-23T16:52:31.296Z"
   },
   {
    "duration": 29,
    "start_time": "2021-12-23T16:52:32.057Z"
   },
   {
    "duration": 9,
    "start_time": "2021-12-23T16:52:32.092Z"
   },
   {
    "duration": 10,
    "start_time": "2021-12-23T16:52:32.104Z"
   },
   {
    "duration": 327,
    "start_time": "2021-12-23T16:52:32.117Z"
   },
   {
    "duration": 574,
    "start_time": "2021-12-23T16:52:32.448Z"
   },
   {
    "duration": 53,
    "start_time": "2021-12-23T16:52:33.027Z"
   },
   {
    "duration": 31,
    "start_time": "2021-12-23T16:52:33.084Z"
   },
   {
    "duration": 65,
    "start_time": "2021-12-23T16:52:33.117Z"
   },
   {
    "duration": 25,
    "start_time": "2021-12-23T16:52:33.185Z"
   },
   {
    "duration": 49,
    "start_time": "2021-12-23T16:52:33.212Z"
   },
   {
    "duration": 86,
    "start_time": "2021-12-23T16:52:33.267Z"
   },
   {
    "duration": 7,
    "start_time": "2021-12-23T16:52:33.355Z"
   },
   {
    "duration": 77,
    "start_time": "2021-12-23T16:52:33.365Z"
   },
   {
    "duration": 45,
    "start_time": "2021-12-23T16:52:33.445Z"
   },
   {
    "duration": 18,
    "start_time": "2021-12-23T16:52:33.493Z"
   },
   {
    "duration": 708,
    "start_time": "2021-12-23T16:52:33.513Z"
   },
   {
    "duration": 39,
    "start_time": "2021-12-23T16:52:34.224Z"
   },
   {
    "duration": 9,
    "start_time": "2021-12-23T16:52:34.268Z"
   },
   {
    "duration": 1221,
    "start_time": "2021-12-23T16:52:34.281Z"
   },
   {
    "duration": 138,
    "start_time": "2021-12-23T16:52:35.505Z"
   },
   {
    "duration": -427,
    "start_time": "2021-12-23T16:52:36.073Z"
   },
   {
    "duration": -433,
    "start_time": "2021-12-23T16:52:36.081Z"
   },
   {
    "duration": -439,
    "start_time": "2021-12-23T16:52:36.088Z"
   },
   {
    "duration": -444,
    "start_time": "2021-12-23T16:52:36.095Z"
   },
   {
    "duration": -450,
    "start_time": "2021-12-23T16:52:36.102Z"
   },
   {
    "duration": 6631,
    "start_time": "2021-12-23T17:00:21.017Z"
   },
   {
    "duration": 15,
    "start_time": "2021-12-23T17:01:00.294Z"
   },
   {
    "duration": 6837,
    "start_time": "2021-12-23T17:03:10.863Z"
   },
   {
    "duration": 6715,
    "start_time": "2021-12-23T17:04:09.886Z"
   },
   {
    "duration": 26,
    "start_time": "2021-12-23T17:06:45.524Z"
   },
   {
    "duration": 31,
    "start_time": "2021-12-23T17:06:53.616Z"
   },
   {
    "duration": 704,
    "start_time": "2021-12-23T17:07:41.736Z"
   },
   {
    "duration": 18,
    "start_time": "2021-12-23T17:07:49.950Z"
   },
   {
    "duration": 26,
    "start_time": "2021-12-23T17:09:14.689Z"
   },
   {
    "duration": 25,
    "start_time": "2021-12-23T17:09:24.077Z"
   },
   {
    "duration": 37,
    "start_time": "2021-12-23T17:09:43.042Z"
   },
   {
    "duration": 31,
    "start_time": "2021-12-23T17:10:35.387Z"
   },
   {
    "duration": 30,
    "start_time": "2021-12-23T17:38:59.816Z"
   },
   {
    "duration": 9,
    "start_time": "2021-12-23T17:39:40.278Z"
   },
   {
    "duration": 29,
    "start_time": "2021-12-23T17:39:47.547Z"
   },
   {
    "duration": 54,
    "start_time": "2021-12-23T17:40:03.808Z"
   },
   {
    "duration": 42,
    "start_time": "2021-12-23T17:41:26.593Z"
   },
   {
    "duration": 6,
    "start_time": "2021-12-23T17:49:14.373Z"
   },
   {
    "duration": 4501,
    "start_time": "2021-12-23T17:51:42.102Z"
   },
   {
    "duration": 4401,
    "start_time": "2021-12-23T17:52:08.820Z"
   },
   {
    "duration": 4601,
    "start_time": "2021-12-23T17:52:58.777Z"
   },
   {
    "duration": 135,
    "start_time": "2021-12-23T17:53:08.072Z"
   },
   {
    "duration": 4671,
    "start_time": "2021-12-23T17:53:18.865Z"
   },
   {
    "duration": 5194,
    "start_time": "2021-12-23T17:53:57.731Z"
   },
   {
    "duration": 4165,
    "start_time": "2021-12-23T17:55:02.526Z"
   },
   {
    "duration": 4798,
    "start_time": "2021-12-23T17:55:49.875Z"
   },
   {
    "duration": 7976,
    "start_time": "2021-12-23T17:58:03.818Z"
   },
   {
    "duration": 10249,
    "start_time": "2021-12-23T17:58:19.677Z"
   },
   {
    "duration": 9821,
    "start_time": "2021-12-23T17:59:39.370Z"
   },
   {
    "duration": 9814,
    "start_time": "2021-12-23T18:00:15.089Z"
   },
   {
    "duration": 9818,
    "start_time": "2021-12-23T18:02:15.528Z"
   },
   {
    "duration": 10114,
    "start_time": "2021-12-23T18:03:18.550Z"
   },
   {
    "duration": 8979,
    "start_time": "2021-12-23T18:04:04.674Z"
   },
   {
    "duration": 9762,
    "start_time": "2021-12-23T18:04:31.150Z"
   },
   {
    "duration": 10513,
    "start_time": "2021-12-23T18:05:49.196Z"
   },
   {
    "duration": 10384,
    "start_time": "2021-12-23T18:06:35.572Z"
   },
   {
    "duration": 8876,
    "start_time": "2021-12-23T18:08:31.144Z"
   },
   {
    "duration": 10300,
    "start_time": "2021-12-23T18:08:55.075Z"
   },
   {
    "duration": 11173,
    "start_time": "2021-12-23T18:09:29.853Z"
   },
   {
    "duration": 10324,
    "start_time": "2021-12-23T18:10:06.980Z"
   },
   {
    "duration": 9238,
    "start_time": "2021-12-23T18:10:45.475Z"
   },
   {
    "duration": 13,
    "start_time": "2021-12-23T18:11:35.273Z"
   },
   {
    "duration": 13,
    "start_time": "2021-12-23T18:12:31.099Z"
   },
   {
    "duration": 13,
    "start_time": "2021-12-23T18:14:02.675Z"
   },
   {
    "duration": 30,
    "start_time": "2021-12-23T18:26:28.196Z"
   },
   {
    "duration": 24,
    "start_time": "2021-12-23T18:27:26.436Z"
   },
   {
    "duration": 25,
    "start_time": "2021-12-23T18:29:41.798Z"
   },
   {
    "duration": 1425,
    "start_time": "2021-12-25T08:00:54.296Z"
   },
   {
    "duration": 109,
    "start_time": "2021-12-25T08:00:55.724Z"
   },
   {
    "duration": 25,
    "start_time": "2021-12-25T08:00:55.837Z"
   },
   {
    "duration": 9,
    "start_time": "2021-12-25T08:00:55.866Z"
   },
   {
    "duration": 10,
    "start_time": "2021-12-25T08:00:55.877Z"
   },
   {
    "duration": 305,
    "start_time": "2021-12-25T08:00:55.890Z"
   },
   {
    "duration": 474,
    "start_time": "2021-12-25T08:00:56.198Z"
   },
   {
    "duration": 37,
    "start_time": "2021-12-25T08:00:56.676Z"
   },
   {
    "duration": 50,
    "start_time": "2021-12-25T08:00:56.715Z"
   },
   {
    "duration": 32,
    "start_time": "2021-12-25T08:00:56.767Z"
   },
   {
    "duration": 23,
    "start_time": "2021-12-25T08:00:56.801Z"
   },
   {
    "duration": 19,
    "start_time": "2021-12-25T08:00:56.858Z"
   },
   {
    "duration": 54,
    "start_time": "2021-12-25T08:00:56.882Z"
   },
   {
    "duration": 24,
    "start_time": "2021-12-25T08:00:56.939Z"
   },
   {
    "duration": 42,
    "start_time": "2021-12-25T08:00:56.965Z"
   },
   {
    "duration": 61,
    "start_time": "2021-12-25T08:00:57.009Z"
   },
   {
    "duration": 15,
    "start_time": "2021-12-25T08:00:57.072Z"
   },
   {
    "duration": 504,
    "start_time": "2021-12-25T08:00:57.090Z"
   },
   {
    "duration": 27,
    "start_time": "2021-12-25T08:00:57.597Z"
   },
   {
    "duration": 8,
    "start_time": "2021-12-25T08:00:57.627Z"
   },
   {
    "duration": 1116,
    "start_time": "2021-12-25T08:00:57.660Z"
   },
   {
    "duration": 5328,
    "start_time": "2021-12-25T08:00:58.779Z"
   },
   {
    "duration": 27,
    "start_time": "2021-12-25T08:01:04.111Z"
   },
   {
    "duration": 7443,
    "start_time": "2021-12-25T08:01:04.140Z"
   },
   {
    "duration": 24,
    "start_time": "2021-12-25T08:01:11.586Z"
   },
   {
    "duration": 5,
    "start_time": "2021-12-25T08:33:09.616Z"
   },
   {
    "duration": 11,
    "start_time": "2021-12-25T08:33:26.951Z"
   },
   {
    "duration": 8,
    "start_time": "2021-12-25T08:34:10.580Z"
   },
   {
    "duration": 8,
    "start_time": "2021-12-25T08:42:09.770Z"
   },
   {
    "duration": 12,
    "start_time": "2021-12-25T08:42:17.440Z"
   },
   {
    "duration": 21,
    "start_time": "2021-12-25T09:07:40.917Z"
   },
   {
    "duration": 28,
    "start_time": "2021-12-25T09:08:10.154Z"
   },
   {
    "duration": 13,
    "start_time": "2021-12-25T09:08:24.274Z"
   },
   {
    "duration": 537,
    "start_time": "2021-12-25T09:08:38.076Z"
   },
   {
    "duration": 16,
    "start_time": "2021-12-25T09:08:44.863Z"
   },
   {
    "duration": 10,
    "start_time": "2021-12-25T09:09:01.809Z"
   },
   {
    "duration": 13,
    "start_time": "2021-12-25T09:19:33.760Z"
   },
   {
    "duration": 23,
    "start_time": "2021-12-25T09:19:41.616Z"
   },
   {
    "duration": 23,
    "start_time": "2021-12-25T09:20:21.756Z"
   },
   {
    "duration": 24,
    "start_time": "2021-12-25T09:20:37.012Z"
   },
   {
    "duration": 27,
    "start_time": "2021-12-25T09:21:08.586Z"
   },
   {
    "duration": 10,
    "start_time": "2021-12-25T09:21:41.576Z"
   },
   {
    "duration": 370,
    "start_time": "2021-12-25T09:22:07.259Z"
   },
   {
    "duration": 28,
    "start_time": "2021-12-25T09:22:12.825Z"
   },
   {
    "duration": 405,
    "start_time": "2021-12-25T09:22:59.062Z"
   },
   {
    "duration": 15,
    "start_time": "2021-12-25T09:23:48.162Z"
   },
   {
    "duration": 395,
    "start_time": "2021-12-25T09:24:04.735Z"
   },
   {
    "duration": 1486,
    "start_time": "2021-12-25T09:24:21.647Z"
   },
   {
    "duration": 109,
    "start_time": "2021-12-25T09:24:23.136Z"
   },
   {
    "duration": 20,
    "start_time": "2021-12-25T09:24:23.248Z"
   },
   {
    "duration": 7,
    "start_time": "2021-12-25T09:24:23.271Z"
   },
   {
    "duration": 10,
    "start_time": "2021-12-25T09:24:23.280Z"
   },
   {
    "duration": 295,
    "start_time": "2021-12-25T09:24:23.292Z"
   },
   {
    "duration": 469,
    "start_time": "2021-12-25T09:24:23.590Z"
   },
   {
    "duration": 31,
    "start_time": "2021-12-25T09:24:24.064Z"
   },
   {
    "duration": 22,
    "start_time": "2021-12-25T09:24:24.099Z"
   },
   {
    "duration": 55,
    "start_time": "2021-12-25T09:24:24.123Z"
   },
   {
    "duration": 23,
    "start_time": "2021-12-25T09:24:24.180Z"
   },
   {
    "duration": 16,
    "start_time": "2021-12-25T09:24:24.205Z"
   },
   {
    "duration": 85,
    "start_time": "2021-12-25T09:24:24.224Z"
   },
   {
    "duration": 6,
    "start_time": "2021-12-25T09:24:24.311Z"
   },
   {
    "duration": 64,
    "start_time": "2021-12-25T09:24:24.320Z"
   },
   {
    "duration": 27,
    "start_time": "2021-12-25T09:24:24.386Z"
   },
   {
    "duration": 13,
    "start_time": "2021-12-25T09:24:24.416Z"
   },
   {
    "duration": 498,
    "start_time": "2021-12-25T09:24:24.432Z"
   },
   {
    "duration": 33,
    "start_time": "2021-12-25T09:24:24.933Z"
   },
   {
    "duration": 10,
    "start_time": "2021-12-25T09:24:24.969Z"
   },
   {
    "duration": 1221,
    "start_time": "2021-12-25T09:24:24.982Z"
   },
   {
    "duration": 5385,
    "start_time": "2021-12-25T09:24:26.205Z"
   },
   {
    "duration": 27,
    "start_time": "2021-12-25T09:24:31.594Z"
   },
   {
    "duration": 7871,
    "start_time": "2021-12-25T09:24:31.623Z"
   },
   {
    "duration": 22,
    "start_time": "2021-12-25T09:24:39.497Z"
   },
   {
    "duration": 9,
    "start_time": "2021-12-25T09:24:39.522Z"
   },
   {
    "duration": 24,
    "start_time": "2021-12-25T09:24:39.558Z"
   },
   {
    "duration": 39,
    "start_time": "2021-12-25T09:24:39.584Z"
   },
   {
    "duration": 27,
    "start_time": "2021-12-25T09:25:59.772Z"
   },
   {
    "duration": 39,
    "start_time": "2021-12-25T09:26:07.496Z"
   },
   {
    "duration": 27,
    "start_time": "2021-12-25T09:31:56.608Z"
   },
   {
    "duration": 14,
    "start_time": "2021-12-25T09:32:13.896Z"
   },
   {
    "duration": 37,
    "start_time": "2021-12-25T09:32:33.871Z"
   },
   {
    "duration": 27,
    "start_time": "2021-12-25T09:38:40.567Z"
   },
   {
    "duration": 33,
    "start_time": "2021-12-25T09:41:22.050Z"
   },
   {
    "duration": 32,
    "start_time": "2021-12-25T09:43:53.819Z"
   },
   {
    "duration": 31,
    "start_time": "2021-12-25T09:45:15.779Z"
   },
   {
    "duration": 29,
    "start_time": "2021-12-25T09:52:17.396Z"
   },
   {
    "duration": 480,
    "start_time": "2021-12-25T09:52:39.799Z"
   },
   {
    "duration": 31,
    "start_time": "2021-12-25T09:52:47.409Z"
   },
   {
    "duration": 25,
    "start_time": "2021-12-25T09:55:18.499Z"
   },
   {
    "duration": 445,
    "start_time": "2021-12-25T10:02:01.304Z"
   },
   {
    "duration": 22,
    "start_time": "2021-12-25T10:02:10.776Z"
   },
   {
    "duration": 9,
    "start_time": "2021-12-25T10:02:12.988Z"
   },
   {
    "duration": 11,
    "start_time": "2021-12-25T10:02:23.605Z"
   },
   {
    "duration": 16,
    "start_time": "2021-12-25T10:05:34.738Z"
   },
   {
    "duration": 17,
    "start_time": "2021-12-25T10:05:42.089Z"
   },
   {
    "duration": 23,
    "start_time": "2021-12-25T10:07:31.140Z"
   },
   {
    "duration": 25,
    "start_time": "2021-12-25T10:08:59.816Z"
   },
   {
    "duration": 18,
    "start_time": "2021-12-25T10:09:09.140Z"
   },
   {
    "duration": 25,
    "start_time": "2021-12-25T10:11:07.355Z"
   },
   {
    "duration": 23,
    "start_time": "2021-12-25T10:11:17.215Z"
   },
   {
    "duration": 18,
    "start_time": "2021-12-25T10:13:24.954Z"
   },
   {
    "duration": 20,
    "start_time": "2021-12-25T10:13:30.884Z"
   },
   {
    "duration": 9,
    "start_time": "2021-12-25T10:13:53.594Z"
   },
   {
    "duration": 24,
    "start_time": "2021-12-25T10:15:07.520Z"
   },
   {
    "duration": 25,
    "start_time": "2021-12-25T10:15:19.875Z"
   },
   {
    "duration": 1435,
    "start_time": "2021-12-25T10:16:03.977Z"
   },
   {
    "duration": 104,
    "start_time": "2021-12-25T10:16:05.415Z"
   },
   {
    "duration": 21,
    "start_time": "2021-12-25T10:16:05.522Z"
   },
   {
    "duration": 7,
    "start_time": "2021-12-25T10:16:05.560Z"
   },
   {
    "duration": 11,
    "start_time": "2021-12-25T10:16:05.569Z"
   },
   {
    "duration": 282,
    "start_time": "2021-12-25T10:16:05.582Z"
   },
   {
    "duration": 463,
    "start_time": "2021-12-25T10:16:05.866Z"
   },
   {
    "duration": 45,
    "start_time": "2021-12-25T10:16:06.333Z"
   },
   {
    "duration": 21,
    "start_time": "2021-12-25T10:16:06.381Z"
   },
   {
    "duration": 31,
    "start_time": "2021-12-25T10:16:06.404Z"
   },
   {
    "duration": 22,
    "start_time": "2021-12-25T10:16:06.458Z"
   },
   {
    "duration": 21,
    "start_time": "2021-12-25T10:16:06.482Z"
   },
   {
    "duration": 72,
    "start_time": "2021-12-25T10:16:06.505Z"
   },
   {
    "duration": 5,
    "start_time": "2021-12-25T10:16:06.580Z"
   },
   {
    "duration": 39,
    "start_time": "2021-12-25T10:16:06.587Z"
   },
   {
    "duration": 52,
    "start_time": "2021-12-25T10:16:06.628Z"
   },
   {
    "duration": 15,
    "start_time": "2021-12-25T10:16:06.683Z"
   },
   {
    "duration": 490,
    "start_time": "2021-12-25T10:16:06.700Z"
   },
   {
    "duration": 21,
    "start_time": "2021-12-25T10:16:07.192Z"
   },
   {
    "duration": 7,
    "start_time": "2021-12-25T10:16:07.215Z"
   },
   {
    "duration": 1141,
    "start_time": "2021-12-25T10:16:07.224Z"
   },
   {
    "duration": 5334,
    "start_time": "2021-12-25T10:16:08.367Z"
   },
   {
    "duration": 27,
    "start_time": "2021-12-25T10:16:13.706Z"
   },
   {
    "duration": 7804,
    "start_time": "2021-12-25T10:16:13.736Z"
   },
   {
    "duration": 36,
    "start_time": "2021-12-25T10:16:21.543Z"
   },
   {
    "duration": 12,
    "start_time": "2021-12-25T10:16:21.582Z"
   },
   {
    "duration": 28,
    "start_time": "2021-12-25T10:16:21.597Z"
   },
   {
    "duration": 50,
    "start_time": "2021-12-25T10:16:21.627Z"
   },
   {
    "duration": 19,
    "start_time": "2021-12-25T10:16:21.679Z"
   },
   {
    "duration": 58,
    "start_time": "2021-12-25T10:16:21.701Z"
   },
   {
    "duration": 21,
    "start_time": "2021-12-25T10:16:21.762Z"
   },
   {
    "duration": 9,
    "start_time": "2021-12-25T10:16:21.785Z"
   },
   {
    "duration": 14,
    "start_time": "2021-12-25T10:22:02.447Z"
   },
   {
    "duration": 12,
    "start_time": "2021-12-25T10:22:27.197Z"
   },
   {
    "duration": 15,
    "start_time": "2021-12-25T10:22:28.075Z"
   },
   {
    "duration": 10,
    "start_time": "2021-12-25T10:23:35.792Z"
   },
   {
    "duration": 1431,
    "start_time": "2021-12-25T10:23:47.790Z"
   },
   {
    "duration": 106,
    "start_time": "2021-12-25T10:23:49.224Z"
   },
   {
    "duration": 20,
    "start_time": "2021-12-25T10:23:49.333Z"
   },
   {
    "duration": 8,
    "start_time": "2021-12-25T10:23:49.356Z"
   },
   {
    "duration": 9,
    "start_time": "2021-12-25T10:23:49.366Z"
   },
   {
    "duration": 300,
    "start_time": "2021-12-25T10:23:49.378Z"
   },
   {
    "duration": 450,
    "start_time": "2021-12-25T10:23:49.680Z"
   },
   {
    "duration": 42,
    "start_time": "2021-12-25T10:23:50.134Z"
   },
   {
    "duration": 21,
    "start_time": "2021-12-25T10:23:50.179Z"
   },
   {
    "duration": 26,
    "start_time": "2021-12-25T10:23:50.203Z"
   },
   {
    "duration": 47,
    "start_time": "2021-12-25T10:23:50.232Z"
   },
   {
    "duration": 26,
    "start_time": "2021-12-25T10:23:50.281Z"
   },
   {
    "duration": 70,
    "start_time": "2021-12-25T10:23:50.309Z"
   },
   {
    "duration": 6,
    "start_time": "2021-12-25T10:23:50.381Z"
   },
   {
    "duration": 46,
    "start_time": "2021-12-25T10:23:50.390Z"
   },
   {
    "duration": 27,
    "start_time": "2021-12-25T10:23:50.459Z"
   },
   {
    "duration": 14,
    "start_time": "2021-12-25T10:23:50.488Z"
   },
   {
    "duration": 477,
    "start_time": "2021-12-25T10:23:50.505Z"
   },
   {
    "duration": 21,
    "start_time": "2021-12-25T10:23:50.985Z"
   },
   {
    "duration": 9,
    "start_time": "2021-12-25T10:23:51.008Z"
   },
   {
    "duration": 1183,
    "start_time": "2021-12-25T10:23:51.019Z"
   },
   {
    "duration": 5268,
    "start_time": "2021-12-25T10:23:52.205Z"
   },
   {
    "duration": 26,
    "start_time": "2021-12-25T10:23:57.477Z"
   },
   {
    "duration": 7561,
    "start_time": "2021-12-25T10:23:57.506Z"
   },
   {
    "duration": 23,
    "start_time": "2021-12-25T10:24:05.069Z"
   },
   {
    "duration": 10,
    "start_time": "2021-12-25T10:24:05.095Z"
   },
   {
    "duration": 57,
    "start_time": "2021-12-25T10:24:05.107Z"
   },
   {
    "duration": 17,
    "start_time": "2021-12-25T10:24:05.166Z"
   },
   {
    "duration": 13,
    "start_time": "2021-12-25T10:24:05.186Z"
   },
   {
    "duration": 18,
    "start_time": "2021-12-25T10:24:05.201Z"
   },
   {
    "duration": 57,
    "start_time": "2021-12-25T10:24:05.222Z"
   },
   {
    "duration": 10,
    "start_time": "2021-12-25T10:24:05.281Z"
   },
   {
    "duration": 529,
    "start_time": "2021-12-25T10:46:13.449Z"
   },
   {
    "duration": 404,
    "start_time": "2021-12-25T10:46:20.306Z"
   },
   {
    "duration": 124,
    "start_time": "2021-12-25T10:46:25.817Z"
   },
   {
    "duration": 445,
    "start_time": "2021-12-25T10:46:29.962Z"
   },
   {
    "duration": 9,
    "start_time": "2021-12-25T10:46:34.608Z"
   },
   {
    "duration": 8,
    "start_time": "2021-12-25T10:47:35.450Z"
   },
   {
    "duration": 6,
    "start_time": "2021-12-25T10:47:54.836Z"
   },
   {
    "duration": 508,
    "start_time": "2021-12-25T10:53:24.067Z"
   },
   {
    "duration": 8,
    "start_time": "2021-12-25T10:53:52.368Z"
   },
   {
    "duration": 8,
    "start_time": "2021-12-25T10:54:02.429Z"
   },
   {
    "duration": 21,
    "start_time": "2021-12-25T11:05:51.681Z"
   },
   {
    "duration": 4,
    "start_time": "2021-12-25T11:10:39.853Z"
   },
   {
    "duration": 6,
    "start_time": "2021-12-25T11:10:49.938Z"
   },
   {
    "duration": 142,
    "start_time": "2021-12-25T11:16:54.235Z"
   },
   {
    "duration": 138,
    "start_time": "2021-12-25T11:17:19.963Z"
   },
   {
    "duration": 7,
    "start_time": "2021-12-25T11:17:40.786Z"
   },
   {
    "duration": 8,
    "start_time": "2021-12-25T11:18:01.239Z"
   },
   {
    "duration": 425,
    "start_time": "2021-12-25T11:18:18.407Z"
   },
   {
    "duration": 93,
    "start_time": "2021-12-25T11:18:32.189Z"
   },
   {
    "duration": 31,
    "start_time": "2021-12-25T11:18:43.625Z"
   },
   {
    "duration": 6,
    "start_time": "2021-12-25T11:24:00.706Z"
   },
   {
    "duration": 50,
    "start_time": "2021-12-25T11:24:01.739Z"
   },
   {
    "duration": 22,
    "start_time": "2021-12-25T11:24:02.887Z"
   },
   {
    "duration": 1508,
    "start_time": "2021-12-25T13:09:10.522Z"
   },
   {
    "duration": 383,
    "start_time": "2021-12-25T13:09:12.032Z"
   },
   {
    "duration": 22,
    "start_time": "2021-12-25T13:09:12.418Z"
   },
   {
    "duration": 7,
    "start_time": "2021-12-25T13:09:12.443Z"
   },
   {
    "duration": 20,
    "start_time": "2021-12-25T13:09:12.453Z"
   },
   {
    "duration": 295,
    "start_time": "2021-12-25T13:09:12.476Z"
   },
   {
    "duration": 487,
    "start_time": "2021-12-25T13:09:12.774Z"
   },
   {
    "duration": 41,
    "start_time": "2021-12-25T13:09:13.269Z"
   },
   {
    "duration": 21,
    "start_time": "2021-12-25T13:09:13.313Z"
   },
   {
    "duration": 61,
    "start_time": "2021-12-25T13:09:13.336Z"
   },
   {
    "duration": 23,
    "start_time": "2021-12-25T13:09:13.399Z"
   },
   {
    "duration": 51,
    "start_time": "2021-12-25T13:09:13.424Z"
   },
   {
    "duration": 59,
    "start_time": "2021-12-25T13:09:13.478Z"
   },
   {
    "duration": 29,
    "start_time": "2021-12-25T13:09:13.540Z"
   },
   {
    "duration": 42,
    "start_time": "2021-12-25T13:09:13.572Z"
   },
   {
    "duration": 58,
    "start_time": "2021-12-25T13:09:13.616Z"
   },
   {
    "duration": 17,
    "start_time": "2021-12-25T13:09:13.676Z"
   },
   {
    "duration": 512,
    "start_time": "2021-12-25T13:09:13.695Z"
   },
   {
    "duration": 23,
    "start_time": "2021-12-25T13:09:14.209Z"
   },
   {
    "duration": 35,
    "start_time": "2021-12-25T13:09:14.235Z"
   },
   {
    "duration": 1258,
    "start_time": "2021-12-25T13:09:14.272Z"
   },
   {
    "duration": 5736,
    "start_time": "2021-12-25T13:09:15.532Z"
   },
   {
    "duration": 36,
    "start_time": "2021-12-25T13:09:21.273Z"
   },
   {
    "duration": 8173,
    "start_time": "2021-12-25T13:09:21.312Z"
   },
   {
    "duration": 27,
    "start_time": "2021-12-25T13:09:29.488Z"
   },
   {
    "duration": 10,
    "start_time": "2021-12-25T13:09:29.518Z"
   },
   {
    "duration": 67,
    "start_time": "2021-12-25T13:09:29.530Z"
   },
   {
    "duration": 18,
    "start_time": "2021-12-25T13:09:29.600Z"
   },
   {
    "duration": 14,
    "start_time": "2021-12-25T13:09:29.620Z"
   },
   {
    "duration": 52,
    "start_time": "2021-12-25T13:09:29.636Z"
   },
   {
    "duration": 23,
    "start_time": "2021-12-25T13:09:29.690Z"
   },
   {
    "duration": 11,
    "start_time": "2021-12-25T13:09:29.716Z"
   },
   {
    "duration": 6,
    "start_time": "2021-12-25T13:09:29.769Z"
   },
   {
    "duration": 26,
    "start_time": "2021-12-25T13:09:29.778Z"
   },
   {
    "duration": 7,
    "start_time": "2021-12-25T13:09:29.806Z"
   },
   {
    "duration": 83,
    "start_time": "2021-12-25T13:09:29.815Z"
   },
   {
    "duration": 22,
    "start_time": "2021-12-25T13:09:29.901Z"
   },
   {
    "duration": 1503,
    "start_time": "2021-12-25T13:09:29.925Z"
   },
   {
    "duration": 87,
    "start_time": "2021-12-25T13:27:49.579Z"
   },
   {
    "duration": 7,
    "start_time": "2021-12-25T13:27:58.114Z"
   },
   {
    "duration": 263,
    "start_time": "2021-12-25T13:27:59.460Z"
   },
   {
    "duration": 1355,
    "start_time": "2021-12-25T13:28:06.128Z"
   },
   {
    "duration": 4,
    "start_time": "2021-12-25T13:56:19.308Z"
   },
   {
    "duration": 4,
    "start_time": "2021-12-25T13:58:19.372Z"
   },
   {
    "duration": 42,
    "start_time": "2021-12-25T13:58:44.014Z"
   },
   {
    "duration": 27,
    "start_time": "2021-12-25T13:58:47.836Z"
   },
   {
    "duration": 17,
    "start_time": "2021-12-25T14:00:15.879Z"
   },
   {
    "duration": 12,
    "start_time": "2021-12-25T14:00:42.064Z"
   },
   {
    "duration": 20,
    "start_time": "2021-12-25T14:01:44.652Z"
   },
   {
    "duration": 11,
    "start_time": "2021-12-25T14:01:48.430Z"
   },
   {
    "duration": 7,
    "start_time": "2021-12-25T14:01:54.784Z"
   },
   {
    "duration": 6,
    "start_time": "2021-12-25T14:02:22.020Z"
   },
   {
    "duration": 5,
    "start_time": "2021-12-25T14:02:22.913Z"
   },
   {
    "duration": 43,
    "start_time": "2021-12-25T14:02:23.789Z"
   },
   {
    "duration": 26,
    "start_time": "2021-12-25T14:02:30.726Z"
   },
   {
    "duration": 199,
    "start_time": "2021-12-25T14:03:47.244Z"
   },
   {
    "duration": 122,
    "start_time": "2021-12-25T14:04:09.683Z"
   },
   {
    "duration": 5,
    "start_time": "2021-12-25T14:07:13.260Z"
   },
   {
    "duration": 7894,
    "start_time": "2021-12-25T14:07:14.187Z"
   },
   {
    "duration": 13,
    "start_time": "2021-12-25T14:07:34.044Z"
   },
   {
    "duration": 20,
    "start_time": "2021-12-25T14:07:45.954Z"
   },
   {
    "duration": 372,
    "start_time": "2021-12-25T14:08:12.266Z"
   },
   {
    "duration": 1576,
    "start_time": "2021-12-25T14:08:43.472Z"
   },
   {
    "duration": 103,
    "start_time": "2021-12-25T14:08:45.051Z"
   },
   {
    "duration": 22,
    "start_time": "2021-12-25T14:08:45.158Z"
   },
   {
    "duration": 8,
    "start_time": "2021-12-25T14:08:45.183Z"
   },
   {
    "duration": 12,
    "start_time": "2021-12-25T14:08:45.193Z"
   },
   {
    "duration": 304,
    "start_time": "2021-12-25T14:08:45.207Z"
   },
   {
    "duration": 494,
    "start_time": "2021-12-25T14:08:45.514Z"
   },
   {
    "duration": 32,
    "start_time": "2021-12-25T14:08:46.012Z"
   },
   {
    "duration": 37,
    "start_time": "2021-12-25T14:08:46.047Z"
   },
   {
    "duration": 29,
    "start_time": "2021-12-25T14:08:46.087Z"
   },
   {
    "duration": 53,
    "start_time": "2021-12-25T14:08:46.119Z"
   },
   {
    "duration": 20,
    "start_time": "2021-12-25T14:08:46.175Z"
   },
   {
    "duration": 93,
    "start_time": "2021-12-25T14:08:46.198Z"
   },
   {
    "duration": 6,
    "start_time": "2021-12-25T14:08:46.293Z"
   },
   {
    "duration": 68,
    "start_time": "2021-12-25T14:08:46.302Z"
   },
   {
    "duration": 31,
    "start_time": "2021-12-25T14:08:46.373Z"
   },
   {
    "duration": 15,
    "start_time": "2021-12-25T14:08:46.406Z"
   },
   {
    "duration": 505,
    "start_time": "2021-12-25T14:08:46.424Z"
   },
   {
    "duration": 41,
    "start_time": "2021-12-25T14:08:46.932Z"
   },
   {
    "duration": 9,
    "start_time": "2021-12-25T14:08:46.975Z"
   },
   {
    "duration": 1140,
    "start_time": "2021-12-25T14:08:46.986Z"
   },
   {
    "duration": 5757,
    "start_time": "2021-12-25T14:08:48.129Z"
   },
   {
    "duration": 26,
    "start_time": "2021-12-25T14:08:53.892Z"
   },
   {
    "duration": 8024,
    "start_time": "2021-12-25T14:08:53.921Z"
   },
   {
    "duration": 36,
    "start_time": "2021-12-25T14:09:01.948Z"
   },
   {
    "duration": 10,
    "start_time": "2021-12-25T14:09:01.986Z"
   },
   {
    "duration": 37,
    "start_time": "2021-12-25T14:09:01.999Z"
   },
   {
    "duration": 45,
    "start_time": "2021-12-25T14:09:02.040Z"
   },
   {
    "duration": 32,
    "start_time": "2021-12-25T14:09:02.087Z"
   },
   {
    "duration": 23,
    "start_time": "2021-12-25T14:09:02.121Z"
   },
   {
    "duration": 22,
    "start_time": "2021-12-25T14:09:02.147Z"
   },
   {
    "duration": 17,
    "start_time": "2021-12-25T14:09:02.172Z"
   },
   {
    "duration": 12,
    "start_time": "2021-12-25T14:09:02.192Z"
   },
   {
    "duration": 62,
    "start_time": "2021-12-25T14:09:02.206Z"
   },
   {
    "duration": 119,
    "start_time": "2021-12-25T14:09:02.271Z"
   },
   {
    "duration": 20,
    "start_time": "2021-12-25T14:09:02.392Z"
   },
   {
    "duration": 7,
    "start_time": "2021-12-25T14:09:02.414Z"
   },
   {
    "duration": 94,
    "start_time": "2021-12-25T14:12:33.970Z"
   },
   {
    "duration": 5,
    "start_time": "2021-12-25T14:12:39.262Z"
   },
   {
    "duration": 21,
    "start_time": "2021-12-25T14:12:46.882Z"
   },
   {
    "duration": 6,
    "start_time": "2021-12-25T14:14:06.648Z"
   },
   {
    "duration": 13,
    "start_time": "2021-12-25T14:15:18.917Z"
   },
   {
    "duration": 19,
    "start_time": "2021-12-25T14:15:24.095Z"
   },
   {
    "duration": 14,
    "start_time": "2021-12-25T14:15:32.426Z"
   },
   {
    "duration": 4,
    "start_time": "2021-12-25T14:18:12.319Z"
   },
   {
    "duration": 20,
    "start_time": "2021-12-25T14:18:18.908Z"
   },
   {
    "duration": 5,
    "start_time": "2021-12-25T14:18:26.856Z"
   },
   {
    "duration": 435,
    "start_time": "2021-12-25T14:19:13.144Z"
   },
   {
    "duration": 280,
    "start_time": "2021-12-25T14:19:34.876Z"
   },
   {
    "duration": 7736,
    "start_time": "2021-12-25T14:19:43.067Z"
   },
   {
    "duration": 8,
    "start_time": "2021-12-25T14:20:08.724Z"
   },
   {
    "duration": 26,
    "start_time": "2021-12-25T14:20:16.896Z"
   },
   {
    "duration": 1457,
    "start_time": "2021-12-25T14:20:35.820Z"
   },
   {
    "duration": 112,
    "start_time": "2021-12-25T14:20:37.279Z"
   },
   {
    "duration": 21,
    "start_time": "2021-12-25T14:20:37.394Z"
   },
   {
    "duration": 14,
    "start_time": "2021-12-25T14:20:37.418Z"
   },
   {
    "duration": 33,
    "start_time": "2021-12-25T14:20:37.434Z"
   },
   {
    "duration": 279,
    "start_time": "2021-12-25T14:20:37.469Z"
   },
   {
    "duration": 476,
    "start_time": "2021-12-25T14:20:37.750Z"
   },
   {
    "duration": 49,
    "start_time": "2021-12-25T14:20:38.230Z"
   },
   {
    "duration": 23,
    "start_time": "2021-12-25T14:20:38.282Z"
   },
   {
    "duration": 29,
    "start_time": "2021-12-25T14:20:38.308Z"
   },
   {
    "duration": 48,
    "start_time": "2021-12-25T14:20:38.340Z"
   },
   {
    "duration": 23,
    "start_time": "2021-12-25T14:20:38.390Z"
   },
   {
    "duration": 90,
    "start_time": "2021-12-25T14:20:38.416Z"
   },
   {
    "duration": 6,
    "start_time": "2021-12-25T14:20:38.509Z"
   },
   {
    "duration": 70,
    "start_time": "2021-12-25T14:20:38.518Z"
   },
   {
    "duration": 29,
    "start_time": "2021-12-25T14:20:38.590Z"
   },
   {
    "duration": 21,
    "start_time": "2021-12-25T14:20:38.622Z"
   },
   {
    "duration": 512,
    "start_time": "2021-12-25T14:20:38.669Z"
   },
   {
    "duration": 23,
    "start_time": "2021-12-25T14:20:39.183Z"
   },
   {
    "duration": 11,
    "start_time": "2021-12-25T14:20:39.209Z"
   },
   {
    "duration": 1184,
    "start_time": "2021-12-25T14:20:39.223Z"
   },
   {
    "duration": 5632,
    "start_time": "2021-12-25T14:20:40.409Z"
   },
   {
    "duration": 35,
    "start_time": "2021-12-25T14:20:46.046Z"
   },
   {
    "duration": 7960,
    "start_time": "2021-12-25T14:20:46.084Z"
   },
   {
    "duration": 34,
    "start_time": "2021-12-25T14:20:54.046Z"
   },
   {
    "duration": 11,
    "start_time": "2021-12-25T14:20:54.082Z"
   },
   {
    "duration": 43,
    "start_time": "2021-12-25T14:20:54.095Z"
   },
   {
    "duration": 35,
    "start_time": "2021-12-25T14:20:54.140Z"
   },
   {
    "duration": 23,
    "start_time": "2021-12-25T14:20:54.178Z"
   },
   {
    "duration": 20,
    "start_time": "2021-12-25T14:20:54.204Z"
   },
   {
    "duration": 7,
    "start_time": "2021-12-25T14:20:54.226Z"
   },
   {
    "duration": 32,
    "start_time": "2021-12-25T14:20:54.236Z"
   },
   {
    "duration": 9,
    "start_time": "2021-12-25T14:20:54.271Z"
   },
   {
    "duration": 47,
    "start_time": "2021-12-25T14:20:54.282Z"
   },
   {
    "duration": 143,
    "start_time": "2021-12-25T14:20:54.332Z"
   },
   {
    "duration": 10,
    "start_time": "2021-12-25T14:20:54.478Z"
   },
   {
    "duration": 16,
    "start_time": "2021-12-25T14:20:54.491Z"
   },
   {
    "duration": 10,
    "start_time": "2021-12-25T14:20:54.509Z"
   },
   {
    "duration": 19,
    "start_time": "2021-12-25T14:20:54.521Z"
   },
   {
    "duration": 45,
    "start_time": "2021-12-25T14:20:54.543Z"
   },
   {
    "duration": 3,
    "start_time": "2021-12-25T14:20:54.590Z"
   },
   {
    "duration": 16,
    "start_time": "2021-12-25T14:22:44.011Z"
   },
   {
    "duration": 15,
    "start_time": "2021-12-25T14:22:53.363Z"
   },
   {
    "duration": 7,
    "start_time": "2021-12-25T14:24:21.004Z"
   },
   {
    "duration": 15,
    "start_time": "2021-12-25T14:24:22.328Z"
   },
   {
    "duration": 13,
    "start_time": "2021-12-25T14:25:04.786Z"
   },
   {
    "duration": 16,
    "start_time": "2021-12-25T14:25:10.330Z"
   },
   {
    "duration": 15,
    "start_time": "2021-12-25T14:26:13.853Z"
   },
   {
    "duration": 1600,
    "start_time": "2021-12-25T16:58:00.529Z"
   },
   {
    "duration": 590,
    "start_time": "2021-12-25T16:58:02.132Z"
   },
   {
    "duration": 19,
    "start_time": "2021-12-25T16:58:02.724Z"
   },
   {
    "duration": 6,
    "start_time": "2021-12-25T16:58:02.747Z"
   },
   {
    "duration": 8,
    "start_time": "2021-12-25T16:58:02.755Z"
   },
   {
    "duration": 268,
    "start_time": "2021-12-25T16:58:02.766Z"
   },
   {
    "duration": 461,
    "start_time": "2021-12-25T16:58:03.037Z"
   },
   {
    "duration": 30,
    "start_time": "2021-12-25T16:58:03.503Z"
   },
   {
    "duration": 41,
    "start_time": "2021-12-25T16:58:03.537Z"
   },
   {
    "duration": 26,
    "start_time": "2021-12-25T16:58:03.581Z"
   },
   {
    "duration": 22,
    "start_time": "2021-12-25T16:58:03.610Z"
   },
   {
    "duration": 17,
    "start_time": "2021-12-25T16:58:03.660Z"
   },
   {
    "duration": 52,
    "start_time": "2021-12-25T16:58:03.680Z"
   },
   {
    "duration": 27,
    "start_time": "2021-12-25T16:58:03.735Z"
   },
   {
    "duration": 41,
    "start_time": "2021-12-25T16:58:03.764Z"
   },
   {
    "duration": 52,
    "start_time": "2021-12-25T16:58:03.807Z"
   },
   {
    "duration": 14,
    "start_time": "2021-12-25T16:58:03.861Z"
   },
   {
    "duration": 567,
    "start_time": "2021-12-25T16:58:03.877Z"
   },
   {
    "duration": 24,
    "start_time": "2021-12-25T16:58:04.447Z"
   },
   {
    "duration": 9,
    "start_time": "2021-12-25T16:58:04.473Z"
   },
   {
    "duration": 1192,
    "start_time": "2021-12-25T16:58:04.485Z"
   },
   {
    "duration": 5498,
    "start_time": "2021-12-25T16:58:05.681Z"
   },
   {
    "duration": 28,
    "start_time": "2021-12-25T16:58:11.186Z"
   },
   {
    "duration": 7654,
    "start_time": "2021-12-25T16:58:11.216Z"
   },
   {
    "duration": 24,
    "start_time": "2021-12-25T16:58:18.872Z"
   },
   {
    "duration": 11,
    "start_time": "2021-12-25T16:58:18.898Z"
   },
   {
    "duration": 53,
    "start_time": "2021-12-25T16:58:18.912Z"
   },
   {
    "duration": 18,
    "start_time": "2021-12-25T16:58:18.967Z"
   },
   {
    "duration": 13,
    "start_time": "2021-12-25T16:58:18.988Z"
   },
   {
    "duration": 20,
    "start_time": "2021-12-25T16:58:19.004Z"
   },
   {
    "duration": 5,
    "start_time": "2021-12-25T16:58:19.059Z"
   },
   {
    "duration": 4,
    "start_time": "2021-12-25T16:58:19.067Z"
   },
   {
    "duration": 4,
    "start_time": "2021-12-25T16:58:19.074Z"
   },
   {
    "duration": 43,
    "start_time": "2021-12-25T16:58:19.081Z"
   },
   {
    "duration": 169,
    "start_time": "2021-12-25T16:58:19.127Z"
   },
   {
    "duration": 10,
    "start_time": "2021-12-25T16:58:19.298Z"
   },
   {
    "duration": 15,
    "start_time": "2021-12-25T16:58:19.310Z"
   },
   {
    "duration": 4,
    "start_time": "2021-12-25T16:58:19.328Z"
   },
   {
    "duration": 29,
    "start_time": "2021-12-25T16:58:19.334Z"
   },
   {
    "duration": 15,
    "start_time": "2021-12-25T16:58:19.365Z"
   },
   {
    "duration": 285,
    "start_time": "2021-12-25T17:01:54.371Z"
   },
   {
    "duration": 658,
    "start_time": "2021-12-25T17:02:46.391Z"
   },
   {
    "duration": 329,
    "start_time": "2021-12-25T17:04:22.268Z"
   },
   {
    "duration": 599,
    "start_time": "2021-12-25T17:04:51.435Z"
   },
   {
    "duration": 334,
    "start_time": "2021-12-25T17:05:32.796Z"
   },
   {
    "duration": 330,
    "start_time": "2021-12-25T17:05:44.041Z"
   },
   {
    "duration": 361,
    "start_time": "2021-12-25T17:06:56.876Z"
   },
   {
    "duration": 443,
    "start_time": "2021-12-25T17:09:30.452Z"
   },
   {
    "duration": 976,
    "start_time": "2021-12-25T17:11:20.964Z"
   },
   {
    "duration": 1084,
    "start_time": "2021-12-25T17:13:48.757Z"
   },
   {
    "duration": 774,
    "start_time": "2021-12-25T17:14:19.910Z"
   },
   {
    "duration": 706,
    "start_time": "2021-12-25T17:27:54.323Z"
   },
   {
    "duration": 844,
    "start_time": "2021-12-25T17:28:43.158Z"
   },
   {
    "duration": 54,
    "start_time": "2021-12-25T17:31:33.207Z"
   },
   {
    "duration": 41,
    "start_time": "2021-12-25T17:31:47.302Z"
   },
   {
    "duration": 37,
    "start_time": "2021-12-25T17:32:09.170Z"
   },
   {
    "duration": 39,
    "start_time": "2021-12-25T17:32:28.476Z"
   },
   {
    "duration": 39,
    "start_time": "2021-12-25T17:40:49.431Z"
   },
   {
    "duration": 465,
    "start_time": "2021-12-25T17:41:45.868Z"
   },
   {
    "duration": 1744,
    "start_time": "2021-12-25T17:42:08.520Z"
   },
   {
    "duration": 1950,
    "start_time": "2021-12-25T17:42:23.801Z"
   },
   {
    "duration": 8,
    "start_time": "2021-12-25T17:42:33.009Z"
   },
   {
    "duration": 10,
    "start_time": "2021-12-25T17:43:53.376Z"
   },
   {
    "duration": 10,
    "start_time": "2021-12-25T17:44:11.295Z"
   },
   {
    "duration": 9,
    "start_time": "2021-12-25T17:44:26.851Z"
   },
   {
    "duration": 9,
    "start_time": "2021-12-25T17:44:35.249Z"
   },
   {
    "duration": 35,
    "start_time": "2021-12-25T17:46:08.541Z"
   },
   {
    "duration": 33,
    "start_time": "2021-12-25T17:46:47.449Z"
   },
   {
    "duration": 33,
    "start_time": "2021-12-25T17:48:06.604Z"
   },
   {
    "duration": 25,
    "start_time": "2021-12-25T17:50:42.877Z"
   },
   {
    "duration": 32,
    "start_time": "2021-12-25T17:51:10.166Z"
   },
   {
    "duration": 24,
    "start_time": "2021-12-25T17:52:56.909Z"
   },
   {
    "duration": 23,
    "start_time": "2021-12-25T17:53:14.518Z"
   },
   {
    "duration": 39,
    "start_time": "2021-12-25T17:53:59.665Z"
   },
   {
    "duration": 31,
    "start_time": "2021-12-25T18:00:47.967Z"
   },
   {
    "duration": 15,
    "start_time": "2021-12-25T18:01:59.373Z"
   },
   {
    "duration": 32,
    "start_time": "2021-12-25T18:02:10.152Z"
   },
   {
    "duration": 23,
    "start_time": "2021-12-25T18:04:44.347Z"
   },
   {
    "duration": 37,
    "start_time": "2021-12-25T18:05:10.672Z"
   },
   {
    "duration": 368,
    "start_time": "2021-12-25T18:05:58.888Z"
   },
   {
    "duration": 20,
    "start_time": "2021-12-25T18:09:08.145Z"
   },
   {
    "duration": 372,
    "start_time": "2021-12-25T18:09:23.237Z"
   },
   {
    "duration": 15,
    "start_time": "2021-12-25T18:09:35.703Z"
   },
   {
    "duration": 1145,
    "start_time": "2021-12-26T06:56:52.999Z"
   },
   {
    "duration": 85,
    "start_time": "2021-12-26T06:56:54.146Z"
   },
   {
    "duration": 16,
    "start_time": "2021-12-26T06:56:54.233Z"
   },
   {
    "duration": 13,
    "start_time": "2021-12-26T06:56:54.251Z"
   },
   {
    "duration": 26,
    "start_time": "2021-12-26T06:56:54.266Z"
   },
   {
    "duration": 175,
    "start_time": "2021-12-26T06:56:54.293Z"
   },
   {
    "duration": 289,
    "start_time": "2021-12-26T06:56:54.469Z"
   },
   {
    "duration": 34,
    "start_time": "2021-12-26T06:56:54.760Z"
   },
   {
    "duration": 15,
    "start_time": "2021-12-26T06:56:54.795Z"
   },
   {
    "duration": 19,
    "start_time": "2021-12-26T06:56:54.812Z"
   },
   {
    "duration": 15,
    "start_time": "2021-12-26T06:56:54.833Z"
   },
   {
    "duration": 43,
    "start_time": "2021-12-26T06:56:54.849Z"
   },
   {
    "duration": 37,
    "start_time": "2021-12-26T06:56:54.893Z"
   },
   {
    "duration": 3,
    "start_time": "2021-12-26T06:56:54.932Z"
   },
   {
    "duration": 29,
    "start_time": "2021-12-26T06:56:54.937Z"
   },
   {
    "duration": 40,
    "start_time": "2021-12-26T06:56:54.968Z"
   },
   {
    "duration": 10,
    "start_time": "2021-12-26T06:56:55.010Z"
   },
   {
    "duration": 303,
    "start_time": "2021-12-26T06:56:55.022Z"
   },
   {
    "duration": 16,
    "start_time": "2021-12-26T06:56:55.326Z"
   },
   {
    "duration": 5,
    "start_time": "2021-12-26T06:56:55.343Z"
   },
   {
    "duration": 778,
    "start_time": "2021-12-26T06:56:55.350Z"
   },
   {
    "duration": 3371,
    "start_time": "2021-12-26T06:56:56.130Z"
   },
   {
    "duration": 15,
    "start_time": "2021-12-26T06:56:59.505Z"
   },
   {
    "duration": 4798,
    "start_time": "2021-12-26T06:56:59.522Z"
   },
   {
    "duration": 15,
    "start_time": "2021-12-26T06:57:04.322Z"
   },
   {
    "duration": 7,
    "start_time": "2021-12-26T06:57:04.339Z"
   },
   {
    "duration": 17,
    "start_time": "2021-12-26T06:57:04.347Z"
   },
   {
    "duration": 14,
    "start_time": "2021-12-26T06:57:04.391Z"
   },
   {
    "duration": 10,
    "start_time": "2021-12-26T06:57:04.407Z"
   },
   {
    "duration": 18,
    "start_time": "2021-12-26T06:57:04.418Z"
   },
   {
    "duration": 5,
    "start_time": "2021-12-26T06:57:04.437Z"
   },
   {
    "duration": 6,
    "start_time": "2021-12-26T06:57:04.444Z"
   },
   {
    "duration": 7,
    "start_time": "2021-12-26T06:57:04.452Z"
   },
   {
    "duration": 53,
    "start_time": "2021-12-26T06:57:04.460Z"
   },
   {
    "duration": 54,
    "start_time": "2021-12-26T06:57:04.515Z"
   },
   {
    "duration": 21,
    "start_time": "2021-12-26T06:57:04.571Z"
   },
   {
    "duration": 12,
    "start_time": "2021-12-26T06:57:04.594Z"
   },
   {
    "duration": 9,
    "start_time": "2021-12-26T06:57:04.608Z"
   },
   {
    "duration": 10,
    "start_time": "2021-12-26T06:57:04.619Z"
   },
   {
    "duration": 15,
    "start_time": "2021-12-26T06:57:04.631Z"
   },
   {
    "duration": 654,
    "start_time": "2021-12-26T06:57:04.647Z"
   },
   {
    "duration": 15,
    "start_time": "2021-12-26T06:57:05.302Z"
   },
   {
    "duration": 9,
    "start_time": "2021-12-26T06:57:05.319Z"
   },
   {
    "duration": 10,
    "start_time": "2021-12-26T06:59:13.319Z"
   },
   {
    "duration": 23,
    "start_time": "2021-12-26T06:59:22.735Z"
   },
   {
    "duration": 1081,
    "start_time": "2021-12-26T07:03:17.735Z"
   },
   {
    "duration": 84,
    "start_time": "2021-12-26T07:03:18.818Z"
   },
   {
    "duration": 13,
    "start_time": "2021-12-26T07:03:18.904Z"
   },
   {
    "duration": 5,
    "start_time": "2021-12-26T07:03:18.919Z"
   },
   {
    "duration": 7,
    "start_time": "2021-12-26T07:03:18.925Z"
   },
   {
    "duration": 182,
    "start_time": "2021-12-26T07:03:18.934Z"
   },
   {
    "duration": 287,
    "start_time": "2021-12-26T07:03:19.118Z"
   },
   {
    "duration": 21,
    "start_time": "2021-12-26T07:03:19.407Z"
   },
   {
    "duration": 14,
    "start_time": "2021-12-26T07:03:19.430Z"
   },
   {
    "duration": 18,
    "start_time": "2021-12-26T07:03:19.446Z"
   },
   {
    "duration": 39,
    "start_time": "2021-12-26T07:03:19.466Z"
   },
   {
    "duration": 28,
    "start_time": "2021-12-26T07:03:19.507Z"
   },
   {
    "duration": 40,
    "start_time": "2021-12-26T07:03:19.537Z"
   },
   {
    "duration": 4,
    "start_time": "2021-12-26T07:03:19.578Z"
   },
   {
    "duration": 31,
    "start_time": "2021-12-26T07:03:19.583Z"
   },
   {
    "duration": 19,
    "start_time": "2021-12-26T07:03:19.615Z"
   },
   {
    "duration": 10,
    "start_time": "2021-12-26T07:03:19.636Z"
   },
   {
    "duration": 306,
    "start_time": "2021-12-26T07:03:19.647Z"
   },
   {
    "duration": 15,
    "start_time": "2021-12-26T07:03:19.954Z"
   },
   {
    "duration": 21,
    "start_time": "2021-12-26T07:03:19.970Z"
   },
   {
    "duration": 833,
    "start_time": "2021-12-26T07:03:19.993Z"
   },
   {
    "duration": 3421,
    "start_time": "2021-12-26T07:03:20.828Z"
   },
   {
    "duration": 14,
    "start_time": "2021-12-26T07:03:24.252Z"
   },
   {
    "duration": 4672,
    "start_time": "2021-12-26T07:03:24.268Z"
   },
   {
    "duration": 14,
    "start_time": "2021-12-26T07:03:28.942Z"
   },
   {
    "duration": 7,
    "start_time": "2021-12-26T07:03:28.957Z"
   },
   {
    "duration": 36,
    "start_time": "2021-12-26T07:03:28.965Z"
   },
   {
    "duration": 12,
    "start_time": "2021-12-26T07:03:29.002Z"
   },
   {
    "duration": 9,
    "start_time": "2021-12-26T07:03:29.015Z"
   },
   {
    "duration": 12,
    "start_time": "2021-12-26T07:03:29.026Z"
   },
   {
    "duration": 4,
    "start_time": "2021-12-26T07:03:29.039Z"
   },
   {
    "duration": 297,
    "start_time": "2021-12-26T07:03:29.044Z"
   },
   {
    "duration": -1504,
    "start_time": "2021-12-26T07:03:30.846Z"
   },
   {
    "duration": -1505,
    "start_time": "2021-12-26T07:03:30.849Z"
   },
   {
    "duration": -1508,
    "start_time": "2021-12-26T07:03:30.852Z"
   },
   {
    "duration": -1513,
    "start_time": "2021-12-26T07:03:30.859Z"
   },
   {
    "duration": -1518,
    "start_time": "2021-12-26T07:03:30.864Z"
   },
   {
    "duration": -1519,
    "start_time": "2021-12-26T07:03:30.867Z"
   },
   {
    "duration": -1522,
    "start_time": "2021-12-26T07:03:30.871Z"
   },
   {
    "duration": -1527,
    "start_time": "2021-12-26T07:03:30.877Z"
   },
   {
    "duration": -1529,
    "start_time": "2021-12-26T07:03:30.880Z"
   },
   {
    "duration": -1532,
    "start_time": "2021-12-26T07:03:30.884Z"
   },
   {
    "duration": -1533,
    "start_time": "2021-12-26T07:03:30.886Z"
   },
   {
    "duration": -1539,
    "start_time": "2021-12-26T07:03:30.893Z"
   },
   {
    "duration": 73,
    "start_time": "2021-12-26T07:06:55.646Z"
   },
   {
    "duration": 207,
    "start_time": "2021-12-26T07:07:01.557Z"
   },
   {
    "duration": 218,
    "start_time": "2021-12-26T07:07:19.033Z"
   },
   {
    "duration": 251,
    "start_time": "2021-12-26T07:07:38.875Z"
   },
   {
    "duration": 290,
    "start_time": "2021-12-26T07:07:57.176Z"
   },
   {
    "duration": 7,
    "start_time": "2021-12-26T07:09:13.458Z"
   },
   {
    "duration": 134,
    "start_time": "2021-12-26T07:09:42.069Z"
   },
   {
    "duration": 62,
    "start_time": "2021-12-26T07:09:58.033Z"
   },
   {
    "duration": 218,
    "start_time": "2021-12-26T07:10:16.183Z"
   },
   {
    "duration": 128,
    "start_time": "2021-12-26T07:10:22.909Z"
   },
   {
    "duration": 160,
    "start_time": "2021-12-26T07:11:46.114Z"
   },
   {
    "duration": 142,
    "start_time": "2021-12-26T07:12:38.543Z"
   },
   {
    "duration": 6,
    "start_time": "2021-12-26T07:12:44.444Z"
   },
   {
    "duration": 3,
    "start_time": "2021-12-26T07:14:55.983Z"
   },
   {
    "duration": 4,
    "start_time": "2021-12-26T07:15:04.784Z"
   },
   {
    "duration": 27,
    "start_time": "2021-12-26T07:15:07.751Z"
   },
   {
    "duration": 55,
    "start_time": "2021-12-26T07:15:11.351Z"
   },
   {
    "duration": 7,
    "start_time": "2021-12-26T07:15:23.874Z"
   },
   {
    "duration": 10,
    "start_time": "2021-12-26T07:15:31.949Z"
   },
   {
    "duration": 3,
    "start_time": "2021-12-26T07:15:37.770Z"
   },
   {
    "duration": 5,
    "start_time": "2021-12-26T07:15:40.116Z"
   },
   {
    "duration": 10,
    "start_time": "2021-12-26T07:15:41.242Z"
   },
   {
    "duration": 492,
    "start_time": "2021-12-26T07:15:52.275Z"
   },
   {
    "duration": 16,
    "start_time": "2021-12-26T07:17:17.605Z"
   },
   {
    "duration": 27,
    "start_time": "2021-12-26T07:17:41.698Z"
   },
   {
    "duration": 16,
    "start_time": "2021-12-26T07:18:31.583Z"
   },
   {
    "duration": 11,
    "start_time": "2021-12-26T07:19:19.816Z"
   },
   {
    "duration": 10,
    "start_time": "2021-12-26T07:20:19.150Z"
   },
   {
    "duration": 15,
    "start_time": "2021-12-26T07:20:28.271Z"
   },
   {
    "duration": 13,
    "start_time": "2021-12-26T07:20:41.850Z"
   },
   {
    "duration": 1134,
    "start_time": "2021-12-26T07:30:12.914Z"
   },
   {
    "duration": 103,
    "start_time": "2021-12-26T07:30:14.050Z"
   },
   {
    "duration": 14,
    "start_time": "2021-12-26T07:30:14.155Z"
   },
   {
    "duration": 5,
    "start_time": "2021-12-26T07:30:14.170Z"
   },
   {
    "duration": 20,
    "start_time": "2021-12-26T07:30:14.177Z"
   },
   {
    "duration": 197,
    "start_time": "2021-12-26T07:30:14.199Z"
   },
   {
    "duration": 330,
    "start_time": "2021-12-26T07:30:14.398Z"
   },
   {
    "duration": 21,
    "start_time": "2021-12-26T07:30:14.731Z"
   },
   {
    "duration": 14,
    "start_time": "2021-12-26T07:30:14.754Z"
   },
   {
    "duration": 37,
    "start_time": "2021-12-26T07:30:14.770Z"
   },
   {
    "duration": 15,
    "start_time": "2021-12-26T07:30:14.808Z"
   },
   {
    "duration": 31,
    "start_time": "2021-12-26T07:30:14.825Z"
   },
   {
    "duration": 52,
    "start_time": "2021-12-26T07:30:14.858Z"
   },
   {
    "duration": 4,
    "start_time": "2021-12-26T07:30:14.912Z"
   },
   {
    "duration": 37,
    "start_time": "2021-12-26T07:30:14.918Z"
   },
   {
    "duration": 19,
    "start_time": "2021-12-26T07:30:14.957Z"
   },
   {
    "duration": 22,
    "start_time": "2021-12-26T07:30:14.977Z"
   },
   {
    "duration": 325,
    "start_time": "2021-12-26T07:30:15.001Z"
   },
   {
    "duration": 16,
    "start_time": "2021-12-26T07:30:15.327Z"
   },
   {
    "duration": 6,
    "start_time": "2021-12-26T07:30:15.344Z"
   },
   {
    "duration": 781,
    "start_time": "2021-12-26T07:30:15.352Z"
   },
   {
    "duration": 3483,
    "start_time": "2021-12-26T07:30:16.135Z"
   },
   {
    "duration": 15,
    "start_time": "2021-12-26T07:30:19.623Z"
   },
   {
    "duration": 4961,
    "start_time": "2021-12-26T07:30:19.640Z"
   },
   {
    "duration": 16,
    "start_time": "2021-12-26T07:30:24.603Z"
   },
   {
    "duration": 7,
    "start_time": "2021-12-26T07:30:24.620Z"
   },
   {
    "duration": 16,
    "start_time": "2021-12-26T07:30:24.629Z"
   },
   {
    "duration": 12,
    "start_time": "2021-12-26T07:30:24.647Z"
   },
   {
    "duration": 44,
    "start_time": "2021-12-26T07:30:24.660Z"
   },
   {
    "duration": 12,
    "start_time": "2021-12-26T07:30:24.706Z"
   },
   {
    "duration": 4,
    "start_time": "2021-12-26T07:30:24.719Z"
   },
   {
    "duration": 187,
    "start_time": "2021-12-26T07:30:24.724Z"
   },
   {
    "duration": 4,
    "start_time": "2021-12-26T07:30:24.913Z"
   },
   {
    "duration": 16,
    "start_time": "2021-12-26T07:30:24.919Z"
   },
   {
    "duration": 214,
    "start_time": "2021-12-26T07:30:24.937Z"
   },
   {
    "duration": 67,
    "start_time": "2021-12-26T07:30:25.153Z"
   },
   {
    "duration": 6,
    "start_time": "2021-12-26T07:30:25.222Z"
   },
   {
    "duration": 11,
    "start_time": "2021-12-26T07:30:25.230Z"
   },
   {
    "duration": 7,
    "start_time": "2021-12-26T07:30:25.243Z"
   },
   {
    "duration": 7,
    "start_time": "2021-12-26T07:30:25.252Z"
   },
   {
    "duration": 34,
    "start_time": "2021-12-26T07:30:25.261Z"
   },
   {
    "duration": 494,
    "start_time": "2021-12-26T07:30:25.297Z"
   },
   {
    "duration": 17,
    "start_time": "2021-12-26T07:30:25.793Z"
   },
   {
    "duration": 10,
    "start_time": "2021-12-26T07:30:25.812Z"
   },
   {
    "duration": 5,
    "start_time": "2021-12-26T07:34:41.757Z"
   },
   {
    "duration": 67,
    "start_time": "2021-12-26T07:35:08.914Z"
   },
   {
    "duration": 408,
    "start_time": "2021-12-26T07:35:14.410Z"
   },
   {
    "duration": 21,
    "start_time": "2021-12-26T07:40:16.618Z"
   },
   {
    "duration": 23,
    "start_time": "2021-12-26T07:40:23.863Z"
   },
   {
    "duration": 32,
    "start_time": "2021-12-26T07:41:17.636Z"
   },
   {
    "duration": 196,
    "start_time": "2021-12-26T08:13:07.460Z"
   },
   {
    "duration": 633,
    "start_time": "2021-12-26T08:13:12.762Z"
   },
   {
    "duration": 61,
    "start_time": "2021-12-26T08:14:20.621Z"
   },
   {
    "duration": 34,
    "start_time": "2021-12-26T08:14:27.886Z"
   },
   {
    "duration": 25,
    "start_time": "2021-12-26T08:14:48.347Z"
   },
   {
    "duration": 16,
    "start_time": "2021-12-26T08:17:09.404Z"
   },
   {
    "duration": 22,
    "start_time": "2021-12-26T08:21:26.367Z"
   },
   {
    "duration": 11,
    "start_time": "2021-12-26T08:22:30.712Z"
   },
   {
    "duration": 10,
    "start_time": "2021-12-26T08:23:40.213Z"
   },
   {
    "duration": 10,
    "start_time": "2021-12-26T08:23:46.387Z"
   },
   {
    "duration": 10,
    "start_time": "2021-12-26T08:23:55.345Z"
   },
   {
    "duration": 12,
    "start_time": "2021-12-26T08:24:05.848Z"
   },
   {
    "duration": 10,
    "start_time": "2021-12-26T08:24:36.433Z"
   },
   {
    "duration": 11,
    "start_time": "2021-12-26T08:24:45.875Z"
   },
   {
    "duration": 10,
    "start_time": "2021-12-26T08:25:12.719Z"
   },
   {
    "duration": 11,
    "start_time": "2021-12-26T08:31:49.621Z"
   },
   {
    "duration": 62,
    "start_time": "2021-12-26T08:33:10.911Z"
   },
   {
    "duration": 18,
    "start_time": "2021-12-26T08:33:16.319Z"
   },
   {
    "duration": 67,
    "start_time": "2021-12-26T08:35:05.299Z"
   },
   {
    "duration": 199,
    "start_time": "2021-12-26T08:35:14.232Z"
   },
   {
    "duration": 24,
    "start_time": "2021-12-26T08:35:33.515Z"
   },
   {
    "duration": 17,
    "start_time": "2021-12-26T08:38:42.419Z"
   },
   {
    "duration": 22,
    "start_time": "2021-12-26T08:40:29.806Z"
   },
   {
    "duration": 18,
    "start_time": "2021-12-26T08:40:49.756Z"
   },
   {
    "duration": 20,
    "start_time": "2021-12-26T08:41:37.734Z"
   },
   {
    "duration": 10,
    "start_time": "2021-12-26T08:57:01.967Z"
   },
   {
    "duration": 210,
    "start_time": "2021-12-26T09:02:27.493Z"
   },
   {
    "duration": 11,
    "start_time": "2021-12-26T09:02:34.680Z"
   },
   {
    "duration": 15,
    "start_time": "2021-12-26T09:10:36.469Z"
   },
   {
    "duration": 16,
    "start_time": "2021-12-26T09:10:44.467Z"
   },
   {
    "duration": 210,
    "start_time": "2021-12-26T09:11:11.590Z"
   },
   {
    "duration": 15,
    "start_time": "2021-12-26T09:11:29.505Z"
   },
   {
    "duration": 11,
    "start_time": "2021-12-26T09:16:47.548Z"
   },
   {
    "duration": 4,
    "start_time": "2021-12-26T09:21:56.377Z"
   },
   {
    "duration": 4,
    "start_time": "2021-12-26T09:22:58.292Z"
   },
   {
    "duration": 382,
    "start_time": "2021-12-26T09:23:15.721Z"
   },
   {
    "duration": 4,
    "start_time": "2021-12-26T09:24:31.299Z"
   },
   {
    "duration": 742,
    "start_time": "2021-12-26T09:24:33.767Z"
   },
   {
    "duration": 11,
    "start_time": "2021-12-26T09:31:46.340Z"
   },
   {
    "duration": 3,
    "start_time": "2021-12-26T09:32:57.094Z"
   },
   {
    "duration": 12,
    "start_time": "2021-12-26T09:33:09.808Z"
   },
   {
    "duration": 3,
    "start_time": "2021-12-26T09:36:29.919Z"
   },
   {
    "duration": 15,
    "start_time": "2021-12-26T09:36:31.906Z"
   },
   {
    "duration": 3,
    "start_time": "2021-12-26T09:38:40.913Z"
   },
   {
    "duration": 4798,
    "start_time": "2021-12-26T09:38:45.705Z"
   },
   {
    "duration": 3,
    "start_time": "2021-12-26T09:39:07.889Z"
   },
   {
    "duration": 35,
    "start_time": "2021-12-26T09:39:14.417Z"
   },
   {
    "duration": 27,
    "start_time": "2021-12-26T09:39:22.049Z"
   },
   {
    "duration": 3,
    "start_time": "2021-12-26T09:39:35.661Z"
   },
   {
    "duration": 16,
    "start_time": "2021-12-26T09:39:40.524Z"
   },
   {
    "duration": 11,
    "start_time": "2021-12-26T09:41:20.862Z"
   },
   {
    "duration": 8,
    "start_time": "2021-12-26T09:41:44.424Z"
   },
   {
    "duration": 184,
    "start_time": "2021-12-26T09:45:34.939Z"
   },
   {
    "duration": 8,
    "start_time": "2021-12-26T09:45:53.238Z"
   },
   {
    "duration": 6,
    "start_time": "2021-12-26T09:46:08.296Z"
   },
   {
    "duration": 6,
    "start_time": "2021-12-26T09:46:14.766Z"
   },
   {
    "duration": 1154,
    "start_time": "2021-12-26T09:47:35.504Z"
   },
   {
    "duration": 89,
    "start_time": "2021-12-26T09:47:36.660Z"
   },
   {
    "duration": 14,
    "start_time": "2021-12-26T09:47:36.751Z"
   },
   {
    "duration": 6,
    "start_time": "2021-12-26T09:47:36.768Z"
   },
   {
    "duration": 6,
    "start_time": "2021-12-26T09:47:36.776Z"
   },
   {
    "duration": 194,
    "start_time": "2021-12-26T09:47:36.791Z"
   },
   {
    "duration": 313,
    "start_time": "2021-12-26T09:47:36.987Z"
   },
   {
    "duration": 23,
    "start_time": "2021-12-26T09:47:37.304Z"
   },
   {
    "duration": 16,
    "start_time": "2021-12-26T09:47:37.330Z"
   },
   {
    "duration": 49,
    "start_time": "2021-12-26T09:47:37.348Z"
   },
   {
    "duration": 16,
    "start_time": "2021-12-26T09:47:37.400Z"
   },
   {
    "duration": 14,
    "start_time": "2021-12-26T09:47:37.418Z"
   },
   {
    "duration": 60,
    "start_time": "2021-12-26T09:47:37.434Z"
   },
   {
    "duration": 6,
    "start_time": "2021-12-26T09:47:37.496Z"
   },
   {
    "duration": 31,
    "start_time": "2021-12-26T09:47:37.504Z"
   },
   {
    "duration": 53,
    "start_time": "2021-12-26T09:47:37.538Z"
   },
   {
    "duration": 14,
    "start_time": "2021-12-26T09:47:37.593Z"
   },
   {
    "duration": 329,
    "start_time": "2021-12-26T09:47:37.609Z"
   },
   {
    "duration": 17,
    "start_time": "2021-12-26T09:47:37.940Z"
   },
   {
    "duration": 7,
    "start_time": "2021-12-26T09:47:37.959Z"
   },
   {
    "duration": 887,
    "start_time": "2021-12-26T09:47:37.968Z"
   },
   {
    "duration": 3690,
    "start_time": "2021-12-26T09:47:38.857Z"
   },
   {
    "duration": 15,
    "start_time": "2021-12-26T09:47:42.553Z"
   },
   {
    "duration": 4858,
    "start_time": "2021-12-26T09:47:42.570Z"
   },
   {
    "duration": 15,
    "start_time": "2021-12-26T09:47:47.430Z"
   },
   {
    "duration": 7,
    "start_time": "2021-12-26T09:47:47.447Z"
   },
   {
    "duration": 37,
    "start_time": "2021-12-26T09:47:47.455Z"
   },
   {
    "duration": 12,
    "start_time": "2021-12-26T09:47:47.494Z"
   },
   {
    "duration": 15,
    "start_time": "2021-12-26T09:47:47.508Z"
   },
   {
    "duration": 13,
    "start_time": "2021-12-26T09:47:47.524Z"
   },
   {
    "duration": 4,
    "start_time": "2021-12-26T09:47:47.538Z"
   },
   {
    "duration": 192,
    "start_time": "2021-12-26T09:47:47.544Z"
   },
   {
    "duration": 3,
    "start_time": "2021-12-26T09:47:47.738Z"
   },
   {
    "duration": 5,
    "start_time": "2021-12-26T09:47:47.743Z"
   },
   {
    "duration": 189,
    "start_time": "2021-12-26T09:47:47.750Z"
   },
   {
    "duration": 276,
    "start_time": "2021-12-26T09:47:47.941Z"
   },
   {
    "duration": -317,
    "start_time": "2021-12-26T09:47:48.536Z"
   },
   {
    "duration": -326,
    "start_time": "2021-12-26T09:47:48.546Z"
   },
   {
    "duration": -328,
    "start_time": "2021-12-26T09:47:48.549Z"
   },
   {
    "duration": -331,
    "start_time": "2021-12-26T09:47:48.553Z"
   },
   {
    "duration": -333,
    "start_time": "2021-12-26T09:47:48.556Z"
   },
   {
    "duration": -335,
    "start_time": "2021-12-26T09:47:48.559Z"
   },
   {
    "duration": -337,
    "start_time": "2021-12-26T09:47:48.562Z"
   },
   {
    "duration": -339,
    "start_time": "2021-12-26T09:47:48.565Z"
   },
   {
    "duration": -340,
    "start_time": "2021-12-26T09:47:48.567Z"
   },
   {
    "duration": -343,
    "start_time": "2021-12-26T09:47:48.571Z"
   },
   {
    "duration": -345,
    "start_time": "2021-12-26T09:47:48.573Z"
   },
   {
    "duration": -347,
    "start_time": "2021-12-26T09:47:48.576Z"
   },
   {
    "duration": 10,
    "start_time": "2021-12-26T09:48:41.432Z"
   },
   {
    "duration": 1281,
    "start_time": "2021-12-26T09:49:55.790Z"
   },
   {
    "duration": 7,
    "start_time": "2021-12-26T09:50:05.492Z"
   },
   {
    "duration": 9,
    "start_time": "2021-12-26T09:50:15.979Z"
   },
   {
    "duration": 56,
    "start_time": "2021-12-26T09:50:46.663Z"
   },
   {
    "duration": 7,
    "start_time": "2021-12-26T09:50:48.112Z"
   },
   {
    "duration": 10,
    "start_time": "2021-12-26T09:50:49.118Z"
   },
   {
    "duration": 4,
    "start_time": "2021-12-26T09:50:50.188Z"
   },
   {
    "duration": 5,
    "start_time": "2021-12-26T09:50:50.932Z"
   },
   {
    "duration": 11,
    "start_time": "2021-12-26T09:50:51.828Z"
   },
   {
    "duration": 487,
    "start_time": "2021-12-26T09:50:54.043Z"
   },
   {
    "duration": 15,
    "start_time": "2021-12-26T09:50:56.247Z"
   },
   {
    "duration": 10,
    "start_time": "2021-12-26T09:50:57.906Z"
   },
   {
    "duration": 22,
    "start_time": "2021-12-26T09:50:58.739Z"
   },
   {
    "duration": 5,
    "start_time": "2021-12-26T09:51:00.580Z"
   },
   {
    "duration": 8,
    "start_time": "2021-12-26T09:56:12.885Z"
   },
   {
    "duration": 1457,
    "start_time": "2021-12-26T11:51:40.009Z"
   },
   {
    "duration": 107,
    "start_time": "2021-12-26T11:51:41.469Z"
   },
   {
    "duration": 21,
    "start_time": "2021-12-26T11:51:41.579Z"
   },
   {
    "duration": 7,
    "start_time": "2021-12-26T11:51:41.603Z"
   },
   {
    "duration": 9,
    "start_time": "2021-12-26T11:51:41.613Z"
   },
   {
    "duration": 293,
    "start_time": "2021-12-26T11:51:41.625Z"
   },
   {
    "duration": 468,
    "start_time": "2021-12-26T11:51:41.921Z"
   },
   {
    "duration": 31,
    "start_time": "2021-12-26T11:51:42.392Z"
   },
   {
    "duration": 49,
    "start_time": "2021-12-26T11:51:42.427Z"
   },
   {
    "duration": 29,
    "start_time": "2021-12-26T11:51:42.478Z"
   },
   {
    "duration": 22,
    "start_time": "2021-12-26T11:51:42.509Z"
   },
   {
    "duration": 45,
    "start_time": "2021-12-26T11:51:42.533Z"
   },
   {
    "duration": 56,
    "start_time": "2021-12-26T11:51:42.580Z"
   },
   {
    "duration": 28,
    "start_time": "2021-12-26T11:51:42.638Z"
   },
   {
    "duration": 39,
    "start_time": "2021-12-26T11:51:42.669Z"
   },
   {
    "duration": 54,
    "start_time": "2021-12-26T11:51:42.710Z"
   },
   {
    "duration": 15,
    "start_time": "2021-12-26T11:51:42.766Z"
   },
   {
    "duration": 493,
    "start_time": "2021-12-26T11:51:42.783Z"
   },
   {
    "duration": 20,
    "start_time": "2021-12-26T11:51:43.278Z"
   },
   {
    "duration": 7,
    "start_time": "2021-12-26T11:51:43.301Z"
   },
   {
    "duration": 1166,
    "start_time": "2021-12-26T11:51:43.311Z"
   },
   {
    "duration": 5307,
    "start_time": "2021-12-26T11:51:44.480Z"
   },
   {
    "duration": 26,
    "start_time": "2021-12-26T11:51:49.792Z"
   },
   {
    "duration": 7938,
    "start_time": "2021-12-26T11:51:49.821Z"
   },
   {
    "duration": 33,
    "start_time": "2021-12-26T11:51:57.764Z"
   },
   {
    "duration": 12,
    "start_time": "2021-12-26T11:51:57.800Z"
   },
   {
    "duration": 54,
    "start_time": "2021-12-26T11:51:57.815Z"
   },
   {
    "duration": 17,
    "start_time": "2021-12-26T11:51:57.872Z"
   },
   {
    "duration": 20,
    "start_time": "2021-12-26T11:51:57.891Z"
   },
   {
    "duration": 20,
    "start_time": "2021-12-26T11:51:57.913Z"
   },
   {
    "duration": 31,
    "start_time": "2021-12-26T11:51:57.935Z"
   },
   {
    "duration": 277,
    "start_time": "2021-12-26T11:51:57.969Z"
   },
   {
    "duration": 14,
    "start_time": "2021-12-26T11:51:58.249Z"
   },
   {
    "duration": 5,
    "start_time": "2021-12-26T11:51:58.266Z"
   },
   {
    "duration": 209,
    "start_time": "2021-12-26T11:51:58.273Z"
   },
   {
    "duration": 125,
    "start_time": "2021-12-26T11:51:58.485Z"
   },
   {
    "duration": 9,
    "start_time": "2021-12-26T11:51:58.612Z"
   },
   {
    "duration": 14,
    "start_time": "2021-12-26T11:51:58.624Z"
   },
   {
    "duration": 4,
    "start_time": "2021-12-26T11:51:58.663Z"
   },
   {
    "duration": 9,
    "start_time": "2021-12-26T11:51:58.670Z"
   },
   {
    "duration": 16,
    "start_time": "2021-12-26T11:51:58.681Z"
   },
   {
    "duration": 969,
    "start_time": "2021-12-26T11:51:58.700Z"
   },
   {
    "duration": 31,
    "start_time": "2021-12-26T11:51:59.672Z"
   },
   {
    "duration": 22,
    "start_time": "2021-12-26T11:51:59.705Z"
   },
   {
    "duration": 73,
    "start_time": "2021-12-26T11:51:59.730Z"
   },
   {
    "duration": 8,
    "start_time": "2021-12-26T11:51:59.806Z"
   },
   {
    "duration": 14,
    "start_time": "2021-12-26T11:51:59.817Z"
   },
   {
    "duration": 99,
    "start_time": "2021-12-26T11:51:59.864Z"
   },
   {
    "duration": 432,
    "start_time": "2021-12-26T11:56:56.600Z"
   },
   {
    "duration": 31,
    "start_time": "2021-12-26T11:57:08.500Z"
   },
   {
    "duration": 13,
    "start_time": "2021-12-26T12:00:12.850Z"
   },
   {
    "duration": 8358,
    "start_time": "2021-12-26T12:14:43.728Z"
   },
   {
    "duration": 10296,
    "start_time": "2021-12-26T12:15:15.039Z"
   },
   {
    "duration": 12,
    "start_time": "2021-12-26T12:16:09.407Z"
   },
   {
    "duration": 4,
    "start_time": "2021-12-26T12:16:50.643Z"
   },
   {
    "duration": 4,
    "start_time": "2021-12-26T12:16:59.337Z"
   },
   {
    "duration": 327,
    "start_time": "2021-12-26T12:17:29.789Z"
   },
   {
    "duration": 20,
    "start_time": "2021-12-26T12:17:43.124Z"
   },
   {
    "duration": 790,
    "start_time": "2021-12-26T12:20:02.734Z"
   },
   {
    "duration": 1583,
    "start_time": "2021-12-26T12:20:38.539Z"
   },
   {
    "duration": 103,
    "start_time": "2021-12-26T12:20:40.125Z"
   },
   {
    "duration": 20,
    "start_time": "2021-12-26T12:20:40.231Z"
   },
   {
    "duration": 7,
    "start_time": "2021-12-26T12:20:40.263Z"
   },
   {
    "duration": 8,
    "start_time": "2021-12-26T12:20:40.272Z"
   },
   {
    "duration": 298,
    "start_time": "2021-12-26T12:20:40.282Z"
   },
   {
    "duration": 518,
    "start_time": "2021-12-26T12:20:40.583Z"
   },
   {
    "duration": 57,
    "start_time": "2021-12-26T12:20:41.106Z"
   },
   {
    "duration": 21,
    "start_time": "2021-12-26T12:20:41.167Z"
   },
   {
    "duration": 27,
    "start_time": "2021-12-26T12:20:41.191Z"
   },
   {
    "duration": 47,
    "start_time": "2021-12-26T12:20:41.219Z"
   },
   {
    "duration": 24,
    "start_time": "2021-12-26T12:20:41.268Z"
   },
   {
    "duration": 104,
    "start_time": "2021-12-26T12:20:41.296Z"
   },
   {
    "duration": 5,
    "start_time": "2021-12-26T12:20:41.402Z"
   },
   {
    "duration": 65,
    "start_time": "2021-12-26T12:20:41.410Z"
   },
   {
    "duration": 28,
    "start_time": "2021-12-26T12:20:41.478Z"
   },
   {
    "duration": 17,
    "start_time": "2021-12-26T12:20:41.508Z"
   },
   {
    "duration": 510,
    "start_time": "2021-12-26T12:20:41.527Z"
   },
   {
    "duration": 33,
    "start_time": "2021-12-26T12:20:42.039Z"
   },
   {
    "duration": 7,
    "start_time": "2021-12-26T12:20:42.075Z"
   },
   {
    "duration": 1133,
    "start_time": "2021-12-26T12:20:42.084Z"
   },
   {
    "duration": 5517,
    "start_time": "2021-12-26T12:20:43.220Z"
   },
   {
    "duration": 36,
    "start_time": "2021-12-26T12:20:48.742Z"
   },
   {
    "duration": 8147,
    "start_time": "2021-12-26T12:20:48.781Z"
   },
   {
    "duration": 44,
    "start_time": "2021-12-26T12:20:56.931Z"
   },
   {
    "duration": 10,
    "start_time": "2021-12-26T12:20:56.977Z"
   },
   {
    "duration": 25,
    "start_time": "2021-12-26T12:20:56.989Z"
   },
   {
    "duration": 51,
    "start_time": "2021-12-26T12:20:57.016Z"
   },
   {
    "duration": 20,
    "start_time": "2021-12-26T12:20:57.070Z"
   },
   {
    "duration": 20,
    "start_time": "2021-12-26T12:20:57.092Z"
   },
   {
    "duration": 5,
    "start_time": "2021-12-26T12:20:57.114Z"
   },
   {
    "duration": 289,
    "start_time": "2021-12-26T12:20:57.122Z"
   },
   {
    "duration": 5,
    "start_time": "2021-12-26T12:20:57.413Z"
   },
   {
    "duration": 6,
    "start_time": "2021-12-26T12:20:57.420Z"
   },
   {
    "duration": 221,
    "start_time": "2021-12-26T12:20:57.428Z"
   },
   {
    "duration": 100,
    "start_time": "2021-12-26T12:20:57.652Z"
   },
   {
    "duration": 13,
    "start_time": "2021-12-26T12:20:57.755Z"
   },
   {
    "duration": 14,
    "start_time": "2021-12-26T12:20:57.771Z"
   },
   {
    "duration": 5,
    "start_time": "2021-12-26T12:20:57.788Z"
   },
   {
    "duration": 7,
    "start_time": "2021-12-26T12:20:57.795Z"
   },
   {
    "duration": 15,
    "start_time": "2021-12-26T12:20:57.804Z"
   },
   {
    "duration": 836,
    "start_time": "2021-12-26T12:20:57.821Z"
   },
   {
    "duration": 22,
    "start_time": "2021-12-26T12:20:58.662Z"
   },
   {
    "duration": 14,
    "start_time": "2021-12-26T12:20:58.686Z"
   },
   {
    "duration": 63,
    "start_time": "2021-12-26T12:20:58.702Z"
   },
   {
    "duration": 812,
    "start_time": "2021-12-26T12:20:58.768Z"
   },
   {
    "duration": -797,
    "start_time": "2021-12-26T12:21:00.380Z"
   },
   {
    "duration": -808,
    "start_time": "2021-12-26T12:21:00.393Z"
   },
   {
    "duration": 17,
    "start_time": "2021-12-26T12:22:14.419Z"
   },
   {
    "duration": 16,
    "start_time": "2021-12-26T12:22:28.261Z"
   },
   {
    "duration": 295,
    "start_time": "2021-12-26T12:22:38.540Z"
   },
   {
    "duration": 305,
    "start_time": "2021-12-26T12:22:49.848Z"
   },
   {
    "duration": 44,
    "start_time": "2021-12-26T12:23:03.456Z"
   },
   {
    "duration": 38,
    "start_time": "2021-12-26T12:23:25.160Z"
   },
   {
    "duration": 23,
    "start_time": "2021-12-26T12:23:28.723Z"
   },
   {
    "duration": 9369,
    "start_time": "2021-12-26T12:24:36.519Z"
   },
   {
    "duration": 116,
    "start_time": "2021-12-26T12:24:58.416Z"
   },
   {
    "duration": 7831,
    "start_time": "2021-12-26T12:29:44.254Z"
   },
   {
    "duration": 8438,
    "start_time": "2021-12-26T12:30:10.244Z"
   },
   {
    "duration": 148,
    "start_time": "2021-12-26T12:30:33.070Z"
   },
   {
    "duration": 19,
    "start_time": "2021-12-26T12:30:41.815Z"
   },
   {
    "duration": 769,
    "start_time": "2021-12-26T12:34:32.635Z"
   },
   {
    "duration": 733,
    "start_time": "2021-12-26T12:34:40.056Z"
   },
   {
    "duration": 791,
    "start_time": "2021-12-26T12:34:45.362Z"
   },
   {
    "duration": 7,
    "start_time": "2021-12-26T12:35:37.681Z"
   },
   {
    "duration": 17,
    "start_time": "2021-12-26T12:36:10.091Z"
   },
   {
    "duration": 6,
    "start_time": "2021-12-26T12:36:22.461Z"
   },
   {
    "duration": 1980,
    "start_time": "2021-12-26T12:36:36.168Z"
   },
   {
    "duration": 6,
    "start_time": "2021-12-26T12:37:16.223Z"
   },
   {
    "duration": 1825,
    "start_time": "2021-12-26T12:37:17.371Z"
   },
   {
    "duration": 5,
    "start_time": "2021-12-26T12:37:40.787Z"
   },
   {
    "duration": 1760,
    "start_time": "2021-12-26T12:37:41.842Z"
   },
   {
    "duration": 1605,
    "start_time": "2021-12-26T12:38:29.547Z"
   },
   {
    "duration": 112,
    "start_time": "2021-12-26T12:38:31.154Z"
   },
   {
    "duration": 20,
    "start_time": "2021-12-26T12:38:31.269Z"
   },
   {
    "duration": 12,
    "start_time": "2021-12-26T12:38:31.293Z"
   },
   {
    "duration": 9,
    "start_time": "2021-12-26T12:38:31.308Z"
   },
   {
    "duration": 285,
    "start_time": "2021-12-26T12:38:31.320Z"
   },
   {
    "duration": 462,
    "start_time": "2021-12-26T12:38:31.608Z"
   },
   {
    "duration": 32,
    "start_time": "2021-12-26T12:38:32.074Z"
   },
   {
    "duration": 22,
    "start_time": "2021-12-26T12:38:32.109Z"
   },
   {
    "duration": 52,
    "start_time": "2021-12-26T12:38:32.133Z"
   },
   {
    "duration": 24,
    "start_time": "2021-12-26T12:38:32.188Z"
   },
   {
    "duration": 52,
    "start_time": "2021-12-26T12:38:32.214Z"
   },
   {
    "duration": 57,
    "start_time": "2021-12-26T12:38:32.269Z"
   },
   {
    "duration": 6,
    "start_time": "2021-12-26T12:38:32.328Z"
   },
   {
    "duration": 62,
    "start_time": "2021-12-26T12:38:32.336Z"
   },
   {
    "duration": 27,
    "start_time": "2021-12-26T12:38:32.401Z"
   },
   {
    "duration": 39,
    "start_time": "2021-12-26T12:38:32.431Z"
   },
   {
    "duration": 472,
    "start_time": "2021-12-26T12:38:32.472Z"
   },
   {
    "duration": 30,
    "start_time": "2021-12-26T12:38:32.947Z"
   },
   {
    "duration": 9,
    "start_time": "2021-12-26T12:38:32.980Z"
   },
   {
    "duration": 1269,
    "start_time": "2021-12-26T12:38:32.992Z"
   },
   {
    "duration": 5447,
    "start_time": "2021-12-26T12:38:34.264Z"
   },
   {
    "duration": 46,
    "start_time": "2021-12-26T12:38:39.717Z"
   },
   {
    "duration": 7479,
    "start_time": "2021-12-26T12:38:39.767Z"
   },
   {
    "duration": 32,
    "start_time": "2021-12-26T12:38:47.248Z"
   },
   {
    "duration": 9,
    "start_time": "2021-12-26T12:38:47.283Z"
   },
   {
    "duration": 25,
    "start_time": "2021-12-26T12:38:47.295Z"
   },
   {
    "duration": 46,
    "start_time": "2021-12-26T12:38:47.322Z"
   },
   {
    "duration": 20,
    "start_time": "2021-12-26T12:38:47.371Z"
   },
   {
    "duration": 18,
    "start_time": "2021-12-26T12:38:47.394Z"
   },
   {
    "duration": 5,
    "start_time": "2021-12-26T12:38:47.415Z"
   },
   {
    "duration": 302,
    "start_time": "2021-12-26T12:38:47.423Z"
   },
   {
    "duration": 5,
    "start_time": "2021-12-26T12:38:47.728Z"
   },
   {
    "duration": 5,
    "start_time": "2021-12-26T12:38:47.735Z"
   },
   {
    "duration": 244,
    "start_time": "2021-12-26T12:38:47.743Z"
   },
   {
    "duration": 133,
    "start_time": "2021-12-26T12:38:47.989Z"
   },
   {
    "duration": 12,
    "start_time": "2021-12-26T12:38:48.125Z"
   },
   {
    "duration": 32,
    "start_time": "2021-12-26T12:38:48.140Z"
   },
   {
    "duration": 5,
    "start_time": "2021-12-26T12:38:48.175Z"
   },
   {
    "duration": 9,
    "start_time": "2021-12-26T12:38:48.183Z"
   },
   {
    "duration": 17,
    "start_time": "2021-12-26T12:38:48.194Z"
   },
   {
    "duration": 824,
    "start_time": "2021-12-26T12:38:48.214Z"
   },
   {
    "duration": 38,
    "start_time": "2021-12-26T12:38:49.041Z"
   },
   {
    "duration": 15,
    "start_time": "2021-12-26T12:38:49.082Z"
   },
   {
    "duration": 65,
    "start_time": "2021-12-26T12:38:49.100Z"
   },
   {
    "duration": 5,
    "start_time": "2021-12-26T12:38:49.167Z"
   },
   {
    "duration": 1659,
    "start_time": "2021-12-26T12:38:49.175Z"
   },
   {
    "duration": 4,
    "start_time": "2021-12-26T12:42:52.951Z"
   },
   {
    "duration": 1531,
    "start_time": "2021-12-26T12:42:56.456Z"
   },
   {
    "duration": 5,
    "start_time": "2021-12-26T12:44:38.159Z"
   },
   {
    "duration": 315,
    "start_time": "2021-12-26T12:44:42.900Z"
   },
   {
    "duration": 340,
    "start_time": "2021-12-26T12:44:47.975Z"
   },
   {
    "duration": 16,
    "start_time": "2021-12-26T12:45:28.350Z"
   },
   {
    "duration": 35,
    "start_time": "2021-12-26T12:50:06.952Z"
   },
   {
    "duration": 11,
    "start_time": "2021-12-26T12:55:31.745Z"
   },
   {
    "duration": 9064,
    "start_time": "2021-12-26T12:57:02.606Z"
   },
   {
    "duration": 47,
    "start_time": "2021-12-26T12:57:40.121Z"
   },
   {
    "duration": 109,
    "start_time": "2021-12-26T12:59:20.612Z"
   },
   {
    "duration": 22,
    "start_time": "2021-12-26T12:59:26.879Z"
   },
   {
    "duration": 5,
    "start_time": "2021-12-26T13:00:41.717Z"
   },
   {
    "duration": 4,
    "start_time": "2021-12-26T13:00:47.902Z"
   },
   {
    "duration": 1528,
    "start_time": "2021-12-26T13:01:09.566Z"
   },
   {
    "duration": 1790,
    "start_time": "2021-12-26T13:04:44.499Z"
   },
   {
    "duration": 135,
    "start_time": "2021-12-26T13:04:46.292Z"
   },
   {
    "duration": 39,
    "start_time": "2021-12-26T13:04:46.431Z"
   },
   {
    "duration": 9,
    "start_time": "2021-12-26T13:04:46.473Z"
   },
   {
    "duration": 9,
    "start_time": "2021-12-26T13:04:46.485Z"
   },
   {
    "duration": 399,
    "start_time": "2021-12-26T13:04:46.497Z"
   },
   {
    "duration": 646,
    "start_time": "2021-12-26T13:04:46.899Z"
   },
   {
    "duration": 41,
    "start_time": "2021-12-26T13:04:47.550Z"
   },
   {
    "duration": 32,
    "start_time": "2021-12-26T13:04:47.595Z"
   },
   {
    "duration": 64,
    "start_time": "2021-12-26T13:04:47.630Z"
   },
   {
    "duration": 32,
    "start_time": "2021-12-26T13:04:47.697Z"
   },
   {
    "duration": 40,
    "start_time": "2021-12-26T13:04:47.732Z"
   },
   {
    "duration": 53,
    "start_time": "2021-12-26T13:04:47.775Z"
   },
   {
    "duration": 7,
    "start_time": "2021-12-26T13:04:47.830Z"
   },
   {
    "duration": 40,
    "start_time": "2021-12-26T13:04:47.862Z"
   },
   {
    "duration": 27,
    "start_time": "2021-12-26T13:04:47.904Z"
   },
   {
    "duration": 42,
    "start_time": "2021-12-26T13:04:47.934Z"
   },
   {
    "duration": 489,
    "start_time": "2021-12-26T13:04:47.979Z"
   },
   {
    "duration": 22,
    "start_time": "2021-12-26T13:04:48.471Z"
   },
   {
    "duration": 8,
    "start_time": "2021-12-26T13:04:48.496Z"
   },
   {
    "duration": 1178,
    "start_time": "2021-12-26T13:04:48.506Z"
   },
   {
    "duration": 6343,
    "start_time": "2021-12-26T13:04:49.687Z"
   },
   {
    "duration": 40,
    "start_time": "2021-12-26T13:04:56.040Z"
   },
   {
    "duration": 7827,
    "start_time": "2021-12-26T13:04:56.084Z"
   },
   {
    "duration": 24,
    "start_time": "2021-12-26T13:05:03.914Z"
   },
   {
    "duration": 28,
    "start_time": "2021-12-26T13:05:03.940Z"
   },
   {
    "duration": 27,
    "start_time": "2021-12-26T13:05:03.971Z"
   },
   {
    "duration": 17,
    "start_time": "2021-12-26T13:05:04.001Z"
   },
   {
    "duration": 58,
    "start_time": "2021-12-26T13:05:04.020Z"
   },
   {
    "duration": 21,
    "start_time": "2021-12-26T13:05:04.081Z"
   },
   {
    "duration": 6,
    "start_time": "2021-12-26T13:05:04.104Z"
   },
   {
    "duration": 329,
    "start_time": "2021-12-26T13:05:04.113Z"
   },
   {
    "duration": 6,
    "start_time": "2021-12-26T13:05:04.445Z"
   },
   {
    "duration": 5,
    "start_time": "2021-12-26T13:05:04.463Z"
   },
   {
    "duration": 227,
    "start_time": "2021-12-26T13:05:04.470Z"
   },
   {
    "duration": 118,
    "start_time": "2021-12-26T13:05:04.700Z"
   },
   {
    "duration": 9,
    "start_time": "2021-12-26T13:05:04.821Z"
   },
   {
    "duration": 37,
    "start_time": "2021-12-26T13:05:04.834Z"
   },
   {
    "duration": 10,
    "start_time": "2021-12-26T13:05:04.873Z"
   },
   {
    "duration": 12,
    "start_time": "2021-12-26T13:05:04.886Z"
   },
   {
    "duration": 24,
    "start_time": "2021-12-26T13:05:04.901Z"
   },
   {
    "duration": 806,
    "start_time": "2021-12-26T13:05:04.944Z"
   },
   {
    "duration": 34,
    "start_time": "2021-12-26T13:05:05.754Z"
   },
   {
    "duration": 18,
    "start_time": "2021-12-26T13:05:05.791Z"
   },
   {
    "duration": 76,
    "start_time": "2021-12-26T13:05:05.812Z"
   },
   {
    "duration": 140,
    "start_time": "2021-12-26T13:05:05.893Z"
   },
   {
    "duration": 8407,
    "start_time": "2021-12-26T13:05:06.035Z"
   },
   {
    "duration": -818,
    "start_time": "2021-12-26T13:05:15.264Z"
   },
   {
    "duration": -819,
    "start_time": "2021-12-26T13:05:15.267Z"
   },
   {
    "duration": 27,
    "start_time": "2021-12-26T13:11:03.199Z"
   },
   {
    "duration": 315,
    "start_time": "2021-12-26T13:11:36.864Z"
   },
   {
    "duration": 23,
    "start_time": "2021-12-26T13:11:49.245Z"
   },
   {
    "duration": 17,
    "start_time": "2021-12-26T13:12:09.619Z"
   },
   {
    "duration": 156,
    "start_time": "2021-12-26T13:14:29.751Z"
   },
   {
    "duration": 29,
    "start_time": "2021-12-26T13:14:30.775Z"
   },
   {
    "duration": 127,
    "start_time": "2021-12-26T13:14:49.511Z"
   },
   {
    "duration": 19,
    "start_time": "2021-12-26T13:14:50.419Z"
   },
   {
    "duration": 319,
    "start_time": "2021-12-26T13:16:59.675Z"
   },
   {
    "duration": 19,
    "start_time": "2021-12-26T13:18:55.300Z"
   },
   {
    "duration": 5,
    "start_time": "2021-12-26T13:24:54.829Z"
   },
   {
    "duration": 5,
    "start_time": "2021-12-26T13:25:02.991Z"
   },
   {
    "duration": 136,
    "start_time": "2021-12-26T13:25:07.018Z"
   },
   {
    "duration": 26,
    "start_time": "2021-12-26T13:25:09.831Z"
   },
   {
    "duration": 199,
    "start_time": "2021-12-26T13:25:29.691Z"
   },
   {
    "duration": 7980,
    "start_time": "2021-12-26T13:25:47.758Z"
   },
   {
    "duration": 229,
    "start_time": "2021-12-26T13:26:29.196Z"
   },
   {
    "duration": 125,
    "start_time": "2021-12-26T13:26:47.017Z"
   },
   {
    "duration": 14,
    "start_time": "2021-12-26T13:27:27.017Z"
   },
   {
    "duration": 8,
    "start_time": "2021-12-26T13:27:30.618Z"
   },
   {
    "duration": 7,
    "start_time": "2021-12-26T13:27:52.395Z"
   },
   {
    "duration": 652,
    "start_time": "2021-12-26T13:28:10.060Z"
   },
   {
    "duration": 7,
    "start_time": "2021-12-26T13:28:43.361Z"
   },
   {
    "duration": 7,
    "start_time": "2021-12-26T13:28:48.942Z"
   },
   {
    "duration": 6,
    "start_time": "2021-12-26T13:28:54.967Z"
   },
   {
    "duration": 20,
    "start_time": "2021-12-26T13:28:56.712Z"
   },
   {
    "duration": 18,
    "start_time": "2021-12-26T13:29:04.572Z"
   },
   {
    "duration": 29,
    "start_time": "2021-12-26T13:30:14.036Z"
   },
   {
    "duration": 16,
    "start_time": "2021-12-26T13:31:14.083Z"
   },
   {
    "duration": 5,
    "start_time": "2021-12-26T13:31:16.827Z"
   },
   {
    "duration": 113,
    "start_time": "2021-12-26T13:32:18.626Z"
   },
   {
    "duration": 354,
    "start_time": "2021-12-26T13:32:32.645Z"
   },
   {
    "duration": 5,
    "start_time": "2021-12-26T13:32:50.290Z"
   },
   {
    "duration": 57,
    "start_time": "2021-12-26T13:32:51.363Z"
   },
   {
    "duration": 16,
    "start_time": "2021-12-26T13:32:53.428Z"
   },
   {
    "duration": 22,
    "start_time": "2021-12-26T13:33:00.734Z"
   },
   {
    "duration": 95,
    "start_time": "2021-12-26T13:37:07.331Z"
   },
   {
    "duration": 23,
    "start_time": "2021-12-26T13:37:14.543Z"
   },
   {
    "duration": 29,
    "start_time": "2021-12-26T13:37:26.985Z"
   },
   {
    "duration": 17,
    "start_time": "2021-12-26T13:37:44.594Z"
   },
   {
    "duration": 24,
    "start_time": "2021-12-26T14:04:03.750Z"
   },
   {
    "duration": 31,
    "start_time": "2021-12-26T14:05:45.241Z"
   },
   {
    "duration": 18,
    "start_time": "2021-12-26T14:08:13.078Z"
   },
   {
    "duration": 13,
    "start_time": "2021-12-26T14:10:00.934Z"
   },
   {
    "duration": 15,
    "start_time": "2021-12-26T14:10:25.938Z"
   },
   {
    "duration": 1989,
    "start_time": "2021-12-26T14:11:09.382Z"
   },
   {
    "duration": 122,
    "start_time": "2021-12-26T14:11:11.375Z"
   },
   {
    "duration": 24,
    "start_time": "2021-12-26T14:11:11.501Z"
   },
   {
    "duration": 9,
    "start_time": "2021-12-26T14:11:11.528Z"
   },
   {
    "duration": 10,
    "start_time": "2021-12-26T14:11:11.564Z"
   },
   {
    "duration": 433,
    "start_time": "2021-12-26T14:11:11.578Z"
   },
   {
    "duration": 713,
    "start_time": "2021-12-26T14:11:12.014Z"
   },
   {
    "duration": 52,
    "start_time": "2021-12-26T14:11:12.732Z"
   },
   {
    "duration": 23,
    "start_time": "2021-12-26T14:11:12.787Z"
   },
   {
    "duration": 59,
    "start_time": "2021-12-26T14:11:12.813Z"
   },
   {
    "duration": 32,
    "start_time": "2021-12-26T14:11:12.875Z"
   },
   {
    "duration": 20,
    "start_time": "2021-12-26T14:11:12.911Z"
   },
   {
    "duration": 59,
    "start_time": "2021-12-26T14:11:12.962Z"
   },
   {
    "duration": 7,
    "start_time": "2021-12-26T14:11:13.025Z"
   },
   {
    "duration": 68,
    "start_time": "2021-12-26T14:11:13.035Z"
   },
   {
    "duration": 57,
    "start_time": "2021-12-26T14:11:13.106Z"
   },
   {
    "duration": 15,
    "start_time": "2021-12-26T14:11:13.165Z"
   },
   {
    "duration": 500,
    "start_time": "2021-12-26T14:11:13.183Z"
   },
   {
    "duration": 28,
    "start_time": "2021-12-26T14:11:13.687Z"
   },
   {
    "duration": 10,
    "start_time": "2021-12-26T14:11:13.718Z"
   },
   {
    "duration": 1261,
    "start_time": "2021-12-26T14:11:13.731Z"
   },
   {
    "duration": 5357,
    "start_time": "2021-12-26T14:11:14.995Z"
   },
   {
    "duration": 36,
    "start_time": "2021-12-26T14:11:20.363Z"
   },
   {
    "duration": 12504,
    "start_time": "2021-12-26T14:11:20.404Z"
   },
   {
    "duration": 54,
    "start_time": "2021-12-26T14:11:32.911Z"
   },
   {
    "duration": 13,
    "start_time": "2021-12-26T14:11:32.968Z"
   },
   {
    "duration": 35,
    "start_time": "2021-12-26T14:11:32.984Z"
   },
   {
    "duration": 52,
    "start_time": "2021-12-26T14:11:33.022Z"
   },
   {
    "duration": 27,
    "start_time": "2021-12-26T14:11:33.077Z"
   },
   {
    "duration": 21,
    "start_time": "2021-12-26T14:11:33.106Z"
   },
   {
    "duration": 36,
    "start_time": "2021-12-26T14:11:33.130Z"
   },
   {
    "duration": 272,
    "start_time": "2021-12-26T14:11:33.169Z"
   },
   {
    "duration": 4,
    "start_time": "2021-12-26T14:11:33.443Z"
   },
   {
    "duration": 14,
    "start_time": "2021-12-26T14:11:33.450Z"
   },
   {
    "duration": 243,
    "start_time": "2021-12-26T14:11:33.467Z"
   },
   {
    "duration": 128,
    "start_time": "2021-12-26T14:11:33.713Z"
   },
   {
    "duration": 25,
    "start_time": "2021-12-26T14:11:33.843Z"
   },
   {
    "duration": 16,
    "start_time": "2021-12-26T14:11:33.870Z"
   },
   {
    "duration": 6,
    "start_time": "2021-12-26T14:11:33.889Z"
   },
   {
    "duration": 8,
    "start_time": "2021-12-26T14:11:33.898Z"
   },
   {
    "duration": 54,
    "start_time": "2021-12-26T14:11:33.908Z"
   },
   {
    "duration": 1238,
    "start_time": "2021-12-26T14:11:33.966Z"
   },
   {
    "duration": 33,
    "start_time": "2021-12-26T14:11:35.207Z"
   },
   {
    "duration": 15,
    "start_time": "2021-12-26T14:11:35.263Z"
   },
   {
    "duration": 32,
    "start_time": "2021-12-26T14:11:35.280Z"
   },
   {
    "duration": 204,
    "start_time": "2021-12-26T14:11:35.316Z"
   },
   {
    "duration": 141,
    "start_time": "2021-12-26T14:11:35.523Z"
   },
   {
    "duration": 7,
    "start_time": "2021-12-26T14:11:35.668Z"
   },
   {
    "duration": 25,
    "start_time": "2021-12-26T14:11:35.679Z"
   },
   {
    "duration": 59,
    "start_time": "2021-12-26T14:11:35.707Z"
   },
   {
    "duration": 22,
    "start_time": "2021-12-26T14:11:35.769Z"
   },
   {
    "duration": 16,
    "start_time": "2021-12-26T14:11:35.793Z"
   },
   {
    "duration": 27,
    "start_time": "2021-12-26T14:43:55.035Z"
   },
   {
    "duration": 21,
    "start_time": "2021-12-26T14:43:59.306Z"
   },
   {
    "duration": 226,
    "start_time": "2021-12-26T14:47:25.185Z"
   },
   {
    "duration": 16,
    "start_time": "2021-12-26T14:48:56.302Z"
   },
   {
    "duration": 17,
    "start_time": "2021-12-26T14:49:03.287Z"
   },
   {
    "duration": 17,
    "start_time": "2021-12-26T14:50:52.339Z"
   },
   {
    "duration": 18,
    "start_time": "2021-12-26T14:51:48.387Z"
   },
   {
    "duration": 377,
    "start_time": "2021-12-26T15:09:13.671Z"
   },
   {
    "duration": 386,
    "start_time": "2021-12-26T15:09:54.059Z"
   },
   {
    "duration": 382,
    "start_time": "2021-12-26T15:10:03.771Z"
   },
   {
    "duration": 272,
    "start_time": "2021-12-26T15:10:16.419Z"
   },
   {
    "duration": 18,
    "start_time": "2021-12-26T15:16:42.712Z"
   },
   {
    "duration": 16,
    "start_time": "2021-12-26T15:17:13.996Z"
   },
   {
    "duration": 1593,
    "start_time": "2021-12-26T15:17:49.647Z"
   },
   {
    "duration": 108,
    "start_time": "2021-12-26T15:17:51.244Z"
   },
   {
    "duration": 24,
    "start_time": "2021-12-26T15:17:51.355Z"
   },
   {
    "duration": 9,
    "start_time": "2021-12-26T15:17:51.382Z"
   },
   {
    "duration": 8,
    "start_time": "2021-12-26T15:17:51.393Z"
   },
   {
    "duration": 303,
    "start_time": "2021-12-26T15:17:51.403Z"
   },
   {
    "duration": 482,
    "start_time": "2021-12-26T15:17:51.709Z"
   },
   {
    "duration": 33,
    "start_time": "2021-12-26T15:17:52.196Z"
   },
   {
    "duration": 44,
    "start_time": "2021-12-26T15:17:52.232Z"
   },
   {
    "duration": 26,
    "start_time": "2021-12-26T15:17:52.279Z"
   },
   {
    "duration": 22,
    "start_time": "2021-12-26T15:17:52.308Z"
   },
   {
    "duration": 47,
    "start_time": "2021-12-26T15:17:52.333Z"
   },
   {
    "duration": 81,
    "start_time": "2021-12-26T15:17:52.383Z"
   },
   {
    "duration": 7,
    "start_time": "2021-12-26T15:17:52.467Z"
   },
   {
    "duration": 42,
    "start_time": "2021-12-26T15:17:52.476Z"
   },
   {
    "duration": 62,
    "start_time": "2021-12-26T15:17:52.520Z"
   },
   {
    "duration": 15,
    "start_time": "2021-12-26T15:17:52.584Z"
   },
   {
    "duration": 522,
    "start_time": "2021-12-26T15:17:52.601Z"
   },
   {
    "duration": 37,
    "start_time": "2021-12-26T15:17:53.127Z"
   },
   {
    "duration": 8,
    "start_time": "2021-12-26T15:17:53.168Z"
   },
   {
    "duration": 1352,
    "start_time": "2021-12-26T15:17:53.179Z"
   },
   {
    "duration": 5497,
    "start_time": "2021-12-26T15:17:54.534Z"
   },
   {
    "duration": 36,
    "start_time": "2021-12-26T15:18:00.037Z"
   },
   {
    "duration": 8072,
    "start_time": "2021-12-26T15:18:00.076Z"
   },
   {
    "duration": 34,
    "start_time": "2021-12-26T15:18:08.151Z"
   },
   {
    "duration": 10,
    "start_time": "2021-12-26T15:18:08.188Z"
   },
   {
    "duration": 26,
    "start_time": "2021-12-26T15:18:08.200Z"
   },
   {
    "duration": 46,
    "start_time": "2021-12-26T15:18:08.229Z"
   },
   {
    "duration": 21,
    "start_time": "2021-12-26T15:18:08.278Z"
   },
   {
    "duration": 23,
    "start_time": "2021-12-26T15:18:08.302Z"
   },
   {
    "duration": 6,
    "start_time": "2021-12-26T15:18:08.364Z"
   },
   {
    "duration": 267,
    "start_time": "2021-12-26T15:18:08.373Z"
   },
   {
    "duration": 6,
    "start_time": "2021-12-26T15:18:08.643Z"
   },
   {
    "duration": 5,
    "start_time": "2021-12-26T15:18:08.664Z"
   },
   {
    "duration": 235,
    "start_time": "2021-12-26T15:18:08.672Z"
   },
   {
    "duration": 117,
    "start_time": "2021-12-26T15:18:08.909Z"
   },
   {
    "duration": 10,
    "start_time": "2021-12-26T15:18:09.029Z"
   },
   {
    "duration": 27,
    "start_time": "2021-12-26T15:18:09.042Z"
   },
   {
    "duration": 22,
    "start_time": "2021-12-26T15:18:09.072Z"
   },
   {
    "duration": 19,
    "start_time": "2021-12-26T15:18:09.097Z"
   },
   {
    "duration": 17,
    "start_time": "2021-12-26T15:18:09.119Z"
   },
   {
    "duration": 804,
    "start_time": "2021-12-26T15:18:09.139Z"
   },
   {
    "duration": 32,
    "start_time": "2021-12-26T15:18:09.946Z"
   },
   {
    "duration": 14,
    "start_time": "2021-12-26T15:18:09.981Z"
   },
   {
    "duration": 36,
    "start_time": "2021-12-26T15:18:09.998Z"
   },
   {
    "duration": 126,
    "start_time": "2021-12-26T15:18:10.064Z"
   },
   {
    "duration": 139,
    "start_time": "2021-12-26T15:18:10.192Z"
   },
   {
    "duration": 7,
    "start_time": "2021-12-26T15:18:10.334Z"
   },
   {
    "duration": 37,
    "start_time": "2021-12-26T15:18:10.344Z"
   },
   {
    "duration": 29,
    "start_time": "2021-12-26T15:18:10.384Z"
   },
   {
    "duration": 308,
    "start_time": "2021-12-26T15:18:10.416Z"
   },
   {
    "duration": 17,
    "start_time": "2021-12-26T15:18:10.727Z"
   },
   {
    "duration": 17,
    "start_time": "2021-12-26T15:18:10.763Z"
   },
   {
    "duration": 16,
    "start_time": "2021-12-26T15:18:40.537Z"
   },
   {
    "duration": 11,
    "start_time": "2021-12-26T15:19:59.630Z"
   },
   {
    "duration": 18,
    "start_time": "2021-12-26T15:20:10.198Z"
   },
   {
    "duration": 25,
    "start_time": "2021-12-26T15:20:26.538Z"
   },
   {
    "duration": 32,
    "start_time": "2021-12-26T15:20:36.166Z"
   },
   {
    "duration": 496,
    "start_time": "2021-12-26T15:21:57.854Z"
   },
   {
    "duration": 32,
    "start_time": "2021-12-26T15:22:12.423Z"
   },
   {
    "duration": 47,
    "start_time": "2021-12-26T15:22:42.400Z"
   },
   {
    "duration": 16,
    "start_time": "2021-12-26T15:23:19.667Z"
   },
   {
    "duration": 36,
    "start_time": "2021-12-26T15:23:31.672Z"
   },
   {
    "duration": 5,
    "start_time": "2021-12-26T15:24:31.667Z"
   },
   {
    "duration": 31,
    "start_time": "2021-12-26T15:24:39.229Z"
   },
   {
    "duration": 34,
    "start_time": "2021-12-26T15:25:43.742Z"
   },
   {
    "duration": 29,
    "start_time": "2021-12-26T15:27:08.167Z"
   },
   {
    "duration": 17,
    "start_time": "2021-12-26T15:27:16.054Z"
   },
   {
    "duration": 16,
    "start_time": "2021-12-26T15:27:25.277Z"
   },
   {
    "duration": 22,
    "start_time": "2021-12-26T15:27:36.434Z"
   },
   {
    "duration": 14,
    "start_time": "2021-12-26T15:27:49.529Z"
   },
   {
    "duration": 14,
    "start_time": "2021-12-26T15:27:58.699Z"
   },
   {
    "duration": 15,
    "start_time": "2021-12-26T15:28:07.136Z"
   },
   {
    "duration": 33,
    "start_time": "2021-12-26T15:52:30.564Z"
   },
   {
    "duration": 30,
    "start_time": "2021-12-26T15:56:22.899Z"
   },
   {
    "duration": 27,
    "start_time": "2021-12-26T15:56:57.499Z"
   },
   {
    "duration": 39,
    "start_time": "2021-12-26T16:01:55.361Z"
   },
   {
    "duration": 38,
    "start_time": "2021-12-26T16:02:17.273Z"
   },
   {
    "duration": 25,
    "start_time": "2021-12-26T16:13:20.668Z"
   },
   {
    "duration": 33,
    "start_time": "2021-12-26T16:15:18.965Z"
   },
   {
    "duration": 21,
    "start_time": "2021-12-26T16:16:04.071Z"
   },
   {
    "duration": 27,
    "start_time": "2021-12-26T16:16:35.203Z"
   },
   {
    "duration": 27,
    "start_time": "2021-12-26T16:17:36.506Z"
   },
   {
    "duration": 22,
    "start_time": "2021-12-26T16:23:58.688Z"
   },
   {
    "duration": 2139,
    "start_time": "2021-12-26T16:25:23.691Z"
   },
   {
    "duration": 171,
    "start_time": "2021-12-26T16:25:25.833Z"
   },
   {
    "duration": 31,
    "start_time": "2021-12-26T16:25:26.008Z"
   },
   {
    "duration": 20,
    "start_time": "2021-12-26T16:25:26.042Z"
   },
   {
    "duration": 8,
    "start_time": "2021-12-26T16:25:26.066Z"
   },
   {
    "duration": 274,
    "start_time": "2021-12-26T16:25:26.076Z"
   },
   {
    "duration": 480,
    "start_time": "2021-12-26T16:25:26.353Z"
   },
   {
    "duration": 47,
    "start_time": "2021-12-26T16:25:26.837Z"
   },
   {
    "duration": 78,
    "start_time": "2021-12-26T16:25:26.888Z"
   },
   {
    "duration": 29,
    "start_time": "2021-12-26T16:25:26.968Z"
   },
   {
    "duration": 22,
    "start_time": "2021-12-26T16:25:26.999Z"
   },
   {
    "duration": 20,
    "start_time": "2021-12-26T16:25:27.064Z"
   },
   {
    "duration": 78,
    "start_time": "2021-12-26T16:25:27.087Z"
   },
   {
    "duration": 6,
    "start_time": "2021-12-26T16:25:27.167Z"
   },
   {
    "duration": 42,
    "start_time": "2021-12-26T16:25:27.176Z"
   },
   {
    "duration": 76,
    "start_time": "2021-12-26T16:25:27.221Z"
   },
   {
    "duration": 72,
    "start_time": "2021-12-26T16:25:27.300Z"
   },
   {
    "duration": 796,
    "start_time": "2021-12-26T16:25:27.376Z"
   },
   {
    "duration": 29,
    "start_time": "2021-12-26T16:25:28.175Z"
   },
   {
    "duration": 10,
    "start_time": "2021-12-26T16:25:28.207Z"
   },
   {
    "duration": 1745,
    "start_time": "2021-12-26T16:25:28.221Z"
   },
   {
    "duration": 9219,
    "start_time": "2021-12-26T16:25:29.970Z"
   },
   {
    "duration": 31,
    "start_time": "2021-12-26T16:25:39.201Z"
   },
   {
    "duration": 8143,
    "start_time": "2021-12-26T16:25:39.235Z"
   },
   {
    "duration": 27,
    "start_time": "2021-12-26T16:25:47.381Z"
   },
   {
    "duration": 14,
    "start_time": "2021-12-26T16:25:47.411Z"
   },
   {
    "duration": 63,
    "start_time": "2021-12-26T16:25:47.428Z"
   },
   {
    "duration": 26,
    "start_time": "2021-12-26T16:25:47.494Z"
   },
   {
    "duration": 71,
    "start_time": "2021-12-26T16:25:47.523Z"
   },
   {
    "duration": 32,
    "start_time": "2021-12-26T16:25:47.597Z"
   },
   {
    "duration": 33,
    "start_time": "2021-12-26T16:25:47.632Z"
   },
   {
    "duration": 489,
    "start_time": "2021-12-26T16:25:47.669Z"
   },
   {
    "duration": 6,
    "start_time": "2021-12-26T16:25:48.161Z"
   },
   {
    "duration": 6,
    "start_time": "2021-12-26T16:25:48.170Z"
   },
   {
    "duration": 306,
    "start_time": "2021-12-26T16:25:48.179Z"
   },
   {
    "duration": 192,
    "start_time": "2021-12-26T16:25:48.488Z"
   },
   {
    "duration": 15,
    "start_time": "2021-12-26T16:25:48.684Z"
   },
   {
    "duration": 16,
    "start_time": "2021-12-26T16:25:48.702Z"
   },
   {
    "duration": 41,
    "start_time": "2021-12-26T16:25:48.722Z"
   },
   {
    "duration": 9,
    "start_time": "2021-12-26T16:25:48.766Z"
   },
   {
    "duration": 20,
    "start_time": "2021-12-26T16:25:48.778Z"
   },
   {
    "duration": 828,
    "start_time": "2021-12-26T16:25:48.802Z"
   },
   {
    "duration": 38,
    "start_time": "2021-12-26T16:25:49.633Z"
   },
   {
    "duration": 16,
    "start_time": "2021-12-26T16:25:49.674Z"
   },
   {
    "duration": 30,
    "start_time": "2021-12-26T16:25:49.693Z"
   },
   {
    "duration": 151,
    "start_time": "2021-12-26T16:25:49.727Z"
   },
   {
    "duration": 240,
    "start_time": "2021-12-26T16:25:49.882Z"
   },
   {
    "duration": 7,
    "start_time": "2021-12-26T16:25:50.125Z"
   },
   {
    "duration": 46,
    "start_time": "2021-12-26T16:25:50.135Z"
   },
   {
    "duration": 25,
    "start_time": "2021-12-26T16:25:50.184Z"
   },
   {
    "duration": 312,
    "start_time": "2021-12-26T16:25:50.212Z"
   },
   {
    "duration": 38,
    "start_time": "2021-12-26T16:25:50.527Z"
   },
   {
    "duration": 32,
    "start_time": "2021-12-26T16:25:50.568Z"
   },
   {
    "duration": 30,
    "start_time": "2021-12-26T16:28:18.695Z"
   },
   {
    "duration": 1580,
    "start_time": "2021-12-26T16:30:27.900Z"
   },
   {
    "duration": 125,
    "start_time": "2021-12-26T16:30:29.484Z"
   },
   {
    "duration": 24,
    "start_time": "2021-12-26T16:30:29.613Z"
   },
   {
    "duration": 29,
    "start_time": "2021-12-26T16:30:29.641Z"
   },
   {
    "duration": 14,
    "start_time": "2021-12-26T16:30:29.674Z"
   },
   {
    "duration": 335,
    "start_time": "2021-12-26T16:30:29.693Z"
   },
   {
    "duration": 559,
    "start_time": "2021-12-26T16:30:30.031Z"
   },
   {
    "duration": 32,
    "start_time": "2021-12-26T16:30:30.593Z"
   },
   {
    "duration": 57,
    "start_time": "2021-12-26T16:30:30.631Z"
   },
   {
    "duration": 28,
    "start_time": "2021-12-26T16:30:30.692Z"
   },
   {
    "duration": 58,
    "start_time": "2021-12-26T16:30:30.723Z"
   },
   {
    "duration": 35,
    "start_time": "2021-12-26T16:30:30.784Z"
   },
   {
    "duration": 72,
    "start_time": "2021-12-26T16:30:30.822Z"
   },
   {
    "duration": 7,
    "start_time": "2021-12-26T16:30:30.897Z"
   },
   {
    "duration": 76,
    "start_time": "2021-12-26T16:30:30.906Z"
   },
   {
    "duration": 32,
    "start_time": "2021-12-26T16:30:30.985Z"
   },
   {
    "duration": 15,
    "start_time": "2021-12-26T16:30:31.019Z"
   },
   {
    "duration": 514,
    "start_time": "2021-12-26T16:30:31.062Z"
   },
   {
    "duration": 24,
    "start_time": "2021-12-26T16:30:31.580Z"
   },
   {
    "duration": 7,
    "start_time": "2021-12-26T16:30:31.606Z"
   },
   {
    "duration": 1228,
    "start_time": "2021-12-26T16:30:31.616Z"
   },
   {
    "duration": 6152,
    "start_time": "2021-12-26T16:30:32.846Z"
   },
   {
    "duration": 33,
    "start_time": "2021-12-26T16:30:39.000Z"
   },
   {
    "duration": 8648,
    "start_time": "2021-12-26T16:30:39.036Z"
   },
   {
    "duration": 23,
    "start_time": "2021-12-26T16:30:47.687Z"
   },
   {
    "duration": 10,
    "start_time": "2021-12-26T16:30:47.713Z"
   },
   {
    "duration": 62,
    "start_time": "2021-12-26T16:30:47.730Z"
   },
   {
    "duration": 19,
    "start_time": "2021-12-26T16:30:47.795Z"
   },
   {
    "duration": 47,
    "start_time": "2021-12-26T16:30:47.816Z"
   },
   {
    "duration": 29,
    "start_time": "2021-12-26T16:30:47.866Z"
   },
   {
    "duration": 7,
    "start_time": "2021-12-26T16:30:47.897Z"
   },
   {
    "duration": 295,
    "start_time": "2021-12-26T16:30:47.906Z"
   },
   {
    "duration": 4,
    "start_time": "2021-12-26T16:30:48.203Z"
   },
   {
    "duration": 6,
    "start_time": "2021-12-26T16:30:48.210Z"
   },
   {
    "duration": 264,
    "start_time": "2021-12-26T16:30:48.219Z"
   },
   {
    "duration": 136,
    "start_time": "2021-12-26T16:30:48.487Z"
   },
   {
    "duration": 10,
    "start_time": "2021-12-26T16:30:48.626Z"
   },
   {
    "duration": 41,
    "start_time": "2021-12-26T16:30:48.638Z"
   },
   {
    "duration": 6,
    "start_time": "2021-12-26T16:30:48.682Z"
   },
   {
    "duration": 10,
    "start_time": "2021-12-26T16:30:48.690Z"
   },
   {
    "duration": 17,
    "start_time": "2021-12-26T16:30:48.702Z"
   },
   {
    "duration": 889,
    "start_time": "2021-12-26T16:30:48.722Z"
   },
   {
    "duration": 25,
    "start_time": "2021-12-26T16:30:49.613Z"
   },
   {
    "duration": 38,
    "start_time": "2021-12-26T16:30:49.641Z"
   },
   {
    "duration": 35,
    "start_time": "2021-12-26T16:30:49.682Z"
   },
   {
    "duration": 171,
    "start_time": "2021-12-26T16:30:49.720Z"
   },
   {
    "duration": 175,
    "start_time": "2021-12-26T16:30:49.894Z"
   },
   {
    "duration": 8,
    "start_time": "2021-12-26T16:30:50.072Z"
   },
   {
    "duration": 132,
    "start_time": "2021-12-26T16:30:50.084Z"
   },
   {
    "duration": 520,
    "start_time": "2021-12-26T16:30:50.219Z"
   },
   {
    "duration": -854,
    "start_time": "2021-12-26T16:30:51.597Z"
   },
   {
    "duration": -867,
    "start_time": "2021-12-26T16:30:51.612Z"
   },
   {
    "duration": -875,
    "start_time": "2021-12-26T16:30:51.622Z"
   },
   {
    "duration": 1648,
    "start_time": "2021-12-26T16:31:54.169Z"
   },
   {
    "duration": 116,
    "start_time": "2021-12-26T16:31:55.820Z"
   },
   {
    "duration": 28,
    "start_time": "2021-12-26T16:31:55.938Z"
   },
   {
    "duration": 9,
    "start_time": "2021-12-26T16:31:55.970Z"
   },
   {
    "duration": 11,
    "start_time": "2021-12-26T16:31:55.983Z"
   },
   {
    "duration": 434,
    "start_time": "2021-12-26T16:31:55.996Z"
   },
   {
    "duration": 507,
    "start_time": "2021-12-26T16:31:56.434Z"
   },
   {
    "duration": 48,
    "start_time": "2021-12-26T16:31:56.946Z"
   },
   {
    "duration": 23,
    "start_time": "2021-12-26T16:31:56.997Z"
   },
   {
    "duration": 62,
    "start_time": "2021-12-26T16:31:57.022Z"
   },
   {
    "duration": 35,
    "start_time": "2021-12-26T16:31:57.087Z"
   },
   {
    "duration": 48,
    "start_time": "2021-12-26T16:31:57.125Z"
   },
   {
    "duration": 57,
    "start_time": "2021-12-26T16:31:57.177Z"
   },
   {
    "duration": 29,
    "start_time": "2021-12-26T16:31:57.237Z"
   },
   {
    "duration": 48,
    "start_time": "2021-12-26T16:31:57.269Z"
   },
   {
    "duration": 62,
    "start_time": "2021-12-26T16:31:57.320Z"
   },
   {
    "duration": 22,
    "start_time": "2021-12-26T16:31:57.386Z"
   },
   {
    "duration": 707,
    "start_time": "2021-12-26T16:31:57.411Z"
   },
   {
    "duration": 44,
    "start_time": "2021-12-26T16:31:58.121Z"
   },
   {
    "duration": 17,
    "start_time": "2021-12-26T16:31:58.172Z"
   },
   {
    "duration": 1685,
    "start_time": "2021-12-26T16:31:58.192Z"
   },
   {
    "duration": 7972,
    "start_time": "2021-12-26T16:31:59.887Z"
   },
   {
    "duration": 90,
    "start_time": "2021-12-26T16:32:07.876Z"
   },
   {
    "duration": 8887,
    "start_time": "2021-12-26T16:32:07.982Z"
   },
   {
    "duration": 43,
    "start_time": "2021-12-26T16:32:16.873Z"
   },
   {
    "duration": 45,
    "start_time": "2021-12-26T16:32:16.920Z"
   },
   {
    "duration": 39,
    "start_time": "2021-12-26T16:32:16.969Z"
   },
   {
    "duration": 53,
    "start_time": "2021-12-26T16:32:17.015Z"
   },
   {
    "duration": 33,
    "start_time": "2021-12-26T16:32:17.072Z"
   },
   {
    "duration": 56,
    "start_time": "2021-12-26T16:32:17.109Z"
   },
   {
    "duration": 9,
    "start_time": "2021-12-26T16:32:17.169Z"
   },
   {
    "duration": 299,
    "start_time": "2021-12-26T16:32:17.181Z"
   },
   {
    "duration": 6,
    "start_time": "2021-12-26T16:32:17.485Z"
   },
   {
    "duration": 5,
    "start_time": "2021-12-26T16:32:17.494Z"
   },
   {
    "duration": 318,
    "start_time": "2021-12-26T16:32:17.502Z"
   },
   {
    "duration": 164,
    "start_time": "2021-12-26T16:32:17.822Z"
   },
   {
    "duration": 12,
    "start_time": "2021-12-26T16:32:17.990Z"
   },
   {
    "duration": 23,
    "start_time": "2021-12-26T16:32:18.005Z"
   },
   {
    "duration": 35,
    "start_time": "2021-12-26T16:32:18.030Z"
   },
   {
    "duration": 11,
    "start_time": "2021-12-26T16:32:18.069Z"
   },
   {
    "duration": 28,
    "start_time": "2021-12-26T16:32:18.084Z"
   },
   {
    "duration": 918,
    "start_time": "2021-12-26T16:32:18.114Z"
   },
   {
    "duration": 44,
    "start_time": "2021-12-26T16:32:19.035Z"
   },
   {
    "duration": 19,
    "start_time": "2021-12-26T16:32:19.083Z"
   },
   {
    "duration": 79,
    "start_time": "2021-12-26T16:32:19.106Z"
   },
   {
    "duration": 162,
    "start_time": "2021-12-26T16:32:19.188Z"
   },
   {
    "duration": 160,
    "start_time": "2021-12-26T16:32:19.353Z"
   },
   {
    "duration": 8,
    "start_time": "2021-12-26T16:32:19.515Z"
   },
   {
    "duration": 117,
    "start_time": "2021-12-26T16:32:19.526Z"
   },
   {
    "duration": 643,
    "start_time": "2021-12-26T16:32:19.646Z"
   },
   {
    "duration": -857,
    "start_time": "2021-12-26T16:32:21.149Z"
   },
   {
    "duration": -884,
    "start_time": "2021-12-26T16:32:21.178Z"
   },
   {
    "duration": -900,
    "start_time": "2021-12-26T16:32:21.196Z"
   },
   {
    "duration": 27,
    "start_time": "2021-12-26T16:34:21.290Z"
   },
   {
    "duration": 10,
    "start_time": "2021-12-26T16:35:52.192Z"
   },
   {
    "duration": 27,
    "start_time": "2021-12-26T16:36:12.947Z"
   },
   {
    "duration": 410,
    "start_time": "2021-12-26T16:39:26.930Z"
   },
   {
    "duration": 1877,
    "start_time": "2021-12-26T16:42:18.532Z"
   },
   {
    "duration": 143,
    "start_time": "2021-12-26T16:42:20.412Z"
   },
   {
    "duration": 28,
    "start_time": "2021-12-26T16:42:20.559Z"
   },
   {
    "duration": 10,
    "start_time": "2021-12-26T16:42:20.591Z"
   },
   {
    "duration": 12,
    "start_time": "2021-12-26T16:42:20.604Z"
   },
   {
    "duration": 327,
    "start_time": "2021-12-26T16:42:20.618Z"
   },
   {
    "duration": 861,
    "start_time": "2021-12-26T16:42:20.948Z"
   },
   {
    "duration": 57,
    "start_time": "2021-12-26T16:42:21.815Z"
   },
   {
    "duration": 23,
    "start_time": "2021-12-26T16:42:21.875Z"
   },
   {
    "duration": 30,
    "start_time": "2021-12-26T16:42:21.900Z"
   },
   {
    "duration": 27,
    "start_time": "2021-12-26T16:42:21.964Z"
   },
   {
    "duration": 20,
    "start_time": "2021-12-26T16:42:21.995Z"
   },
   {
    "duration": 95,
    "start_time": "2021-12-26T16:42:22.018Z"
   },
   {
    "duration": 6,
    "start_time": "2021-12-26T16:42:22.116Z"
   },
   {
    "duration": 67,
    "start_time": "2021-12-26T16:42:22.125Z"
   },
   {
    "duration": 29,
    "start_time": "2021-12-26T16:42:22.194Z"
   },
   {
    "duration": 37,
    "start_time": "2021-12-26T16:42:22.226Z"
   },
   {
    "duration": 510,
    "start_time": "2021-12-26T16:42:22.266Z"
   },
   {
    "duration": 21,
    "start_time": "2021-12-26T16:42:22.779Z"
   },
   {
    "duration": 11,
    "start_time": "2021-12-26T16:42:22.803Z"
   },
   {
    "duration": 1218,
    "start_time": "2021-12-26T16:42:22.816Z"
   },
   {
    "duration": 6197,
    "start_time": "2021-12-26T16:42:24.037Z"
   },
   {
    "duration": 51,
    "start_time": "2021-12-26T16:42:30.243Z"
   },
   {
    "duration": 14210,
    "start_time": "2021-12-26T16:42:30.298Z"
   },
   {
    "duration": 56,
    "start_time": "2021-12-26T16:42:44.512Z"
   },
   {
    "duration": 15,
    "start_time": "2021-12-26T16:42:44.571Z"
   },
   {
    "duration": 28,
    "start_time": "2021-12-26T16:42:44.589Z"
   },
   {
    "duration": 52,
    "start_time": "2021-12-26T16:42:44.620Z"
   },
   {
    "duration": 20,
    "start_time": "2021-12-26T16:42:44.674Z"
   },
   {
    "duration": 19,
    "start_time": "2021-12-26T16:42:44.696Z"
   },
   {
    "duration": 5,
    "start_time": "2021-12-26T16:42:44.718Z"
   },
   {
    "duration": 269,
    "start_time": "2021-12-26T16:42:44.763Z"
   },
   {
    "duration": 4,
    "start_time": "2021-12-26T16:42:45.035Z"
   },
   {
    "duration": 21,
    "start_time": "2021-12-26T16:42:45.042Z"
   },
   {
    "duration": 226,
    "start_time": "2021-12-26T16:42:45.066Z"
   },
   {
    "duration": 120,
    "start_time": "2021-12-26T16:42:45.295Z"
   },
   {
    "duration": 10,
    "start_time": "2021-12-26T16:42:45.418Z"
   },
   {
    "duration": 36,
    "start_time": "2021-12-26T16:42:45.431Z"
   },
   {
    "duration": 6,
    "start_time": "2021-12-26T16:42:45.470Z"
   },
   {
    "duration": 14,
    "start_time": "2021-12-26T16:42:45.478Z"
   },
   {
    "duration": 26,
    "start_time": "2021-12-26T16:42:45.495Z"
   },
   {
    "duration": 827,
    "start_time": "2021-12-26T16:42:45.524Z"
   },
   {
    "duration": 29,
    "start_time": "2021-12-26T16:42:46.354Z"
   },
   {
    "duration": 16,
    "start_time": "2021-12-26T16:42:46.385Z"
   },
   {
    "duration": 71,
    "start_time": "2021-12-26T16:42:46.403Z"
   },
   {
    "duration": 125,
    "start_time": "2021-12-26T16:42:46.477Z"
   },
   {
    "duration": 455,
    "start_time": "2021-12-26T16:42:46.605Z"
   },
   {
    "duration": -779,
    "start_time": "2021-12-26T16:42:47.841Z"
   },
   {
    "duration": -781,
    "start_time": "2021-12-26T16:42:47.845Z"
   },
   {
    "duration": -786,
    "start_time": "2021-12-26T16:42:47.851Z"
   },
   {
    "duration": -791,
    "start_time": "2021-12-26T16:42:47.858Z"
   },
   {
    "duration": -796,
    "start_time": "2021-12-26T16:42:47.865Z"
   },
   {
    "duration": -801,
    "start_time": "2021-12-26T16:42:47.871Z"
   },
   {
    "duration": -806,
    "start_time": "2021-12-26T16:42:47.878Z"
   },
   {
    "duration": -810,
    "start_time": "2021-12-26T16:42:47.883Z"
   },
   {
    "duration": 308,
    "start_time": "2021-12-26T16:44:16.418Z"
   },
   {
    "duration": 10,
    "start_time": "2021-12-26T16:44:21.430Z"
   },
   {
    "duration": 22,
    "start_time": "2021-12-26T16:44:30.972Z"
   },
   {
    "duration": 6,
    "start_time": "2021-12-26T16:44:50.206Z"
   },
   {
    "duration": 348,
    "start_time": "2021-12-26T16:44:52.701Z"
   },
   {
    "duration": 41,
    "start_time": "2021-12-26T16:45:17.136Z"
   },
   {
    "duration": 35,
    "start_time": "2021-12-26T16:45:22.820Z"
   },
   {
    "duration": 361,
    "start_time": "2021-12-26T16:47:31.758Z"
   },
   {
    "duration": 12,
    "start_time": "2021-12-26T16:47:33.123Z"
   },
   {
    "duration": 8,
    "start_time": "2021-12-26T16:47:34.227Z"
   },
   {
    "duration": 363,
    "start_time": "2021-12-26T16:47:35.608Z"
   },
   {
    "duration": 133,
    "start_time": "2021-12-26T16:49:20.741Z"
   },
   {
    "duration": 40,
    "start_time": "2021-12-26T16:49:22.221Z"
   },
   {
    "duration": 150,
    "start_time": "2021-12-26T16:49:41.644Z"
   },
   {
    "duration": 38,
    "start_time": "2021-12-26T16:52:02.422Z"
   },
   {
    "duration": 28,
    "start_time": "2021-12-26T16:52:11.485Z"
   },
   {
    "duration": 52,
    "start_time": "2021-12-26T16:53:17.743Z"
   },
   {
    "duration": 29,
    "start_time": "2021-12-26T16:56:33.848Z"
   },
   {
    "duration": 349,
    "start_time": "2021-12-26T16:57:05.587Z"
   },
   {
    "duration": 32,
    "start_time": "2021-12-26T16:57:16.634Z"
   },
   {
    "duration": 26,
    "start_time": "2021-12-26T16:57:29.007Z"
   },
   {
    "duration": 28,
    "start_time": "2021-12-26T17:01:08.062Z"
   },
   {
    "duration": 31,
    "start_time": "2021-12-26T17:01:12.871Z"
   },
   {
    "duration": 1482,
    "start_time": "2021-12-26T17:01:27.492Z"
   },
   {
    "duration": 108,
    "start_time": "2021-12-26T17:01:28.976Z"
   },
   {
    "duration": 21,
    "start_time": "2021-12-26T17:01:29.087Z"
   },
   {
    "duration": 9,
    "start_time": "2021-12-26T17:01:29.111Z"
   },
   {
    "duration": 10,
    "start_time": "2021-12-26T17:01:29.123Z"
   },
   {
    "duration": 284,
    "start_time": "2021-12-26T17:01:29.163Z"
   },
   {
    "duration": 470,
    "start_time": "2021-12-26T17:01:29.449Z"
   },
   {
    "duration": 51,
    "start_time": "2021-12-26T17:01:29.922Z"
   },
   {
    "duration": 30,
    "start_time": "2021-12-26T17:01:29.977Z"
   },
   {
    "duration": 68,
    "start_time": "2021-12-26T17:01:30.010Z"
   },
   {
    "duration": 24,
    "start_time": "2021-12-26T17:01:30.081Z"
   },
   {
    "duration": 19,
    "start_time": "2021-12-26T17:01:30.108Z"
   },
   {
    "duration": 81,
    "start_time": "2021-12-26T17:01:30.129Z"
   },
   {
    "duration": 6,
    "start_time": "2021-12-26T17:01:30.212Z"
   },
   {
    "duration": 71,
    "start_time": "2021-12-26T17:01:30.222Z"
   },
   {
    "duration": 33,
    "start_time": "2021-12-26T17:01:30.296Z"
   },
   {
    "duration": 38,
    "start_time": "2021-12-26T17:01:30.332Z"
   },
   {
    "duration": 511,
    "start_time": "2021-12-26T17:01:30.373Z"
   },
   {
    "duration": 21,
    "start_time": "2021-12-26T17:01:30.886Z"
   },
   {
    "duration": 10,
    "start_time": "2021-12-26T17:01:30.910Z"
   },
   {
    "duration": 1573,
    "start_time": "2021-12-26T17:01:30.923Z"
   },
   {
    "duration": 7415,
    "start_time": "2021-12-26T17:01:32.499Z"
   },
   {
    "duration": 33,
    "start_time": "2021-12-26T17:01:39.920Z"
   },
   {
    "duration": 11526,
    "start_time": "2021-12-26T17:01:39.957Z"
   },
   {
    "duration": 33,
    "start_time": "2021-12-26T17:01:51.486Z"
   },
   {
    "duration": 10,
    "start_time": "2021-12-26T17:01:51.522Z"
   },
   {
    "duration": 52,
    "start_time": "2021-12-26T17:01:51.534Z"
   },
   {
    "duration": 19,
    "start_time": "2021-12-26T17:01:51.589Z"
   },
   {
    "duration": 58,
    "start_time": "2021-12-26T17:01:51.610Z"
   },
   {
    "duration": 19,
    "start_time": "2021-12-26T17:01:51.670Z"
   },
   {
    "duration": 5,
    "start_time": "2021-12-26T17:01:51.691Z"
   },
   {
    "duration": 295,
    "start_time": "2021-12-26T17:01:51.699Z"
   },
   {
    "duration": 4,
    "start_time": "2021-12-26T17:01:51.997Z"
   },
   {
    "duration": 5,
    "start_time": "2021-12-26T17:01:52.003Z"
   },
   {
    "duration": 230,
    "start_time": "2021-12-26T17:01:52.011Z"
   },
   {
    "duration": 110,
    "start_time": "2021-12-26T17:01:52.243Z"
   },
   {
    "duration": 13,
    "start_time": "2021-12-26T17:01:52.356Z"
   },
   {
    "duration": 14,
    "start_time": "2021-12-26T17:01:52.371Z"
   },
   {
    "duration": 5,
    "start_time": "2021-12-26T17:01:52.388Z"
   },
   {
    "duration": 7,
    "start_time": "2021-12-26T17:01:52.396Z"
   },
   {
    "duration": 17,
    "start_time": "2021-12-26T17:01:52.405Z"
   },
   {
    "duration": 820,
    "start_time": "2021-12-26T17:01:52.463Z"
   },
   {
    "duration": 22,
    "start_time": "2021-12-26T17:01:53.285Z"
   },
   {
    "duration": 14,
    "start_time": "2021-12-26T17:01:53.309Z"
   },
   {
    "duration": 59,
    "start_time": "2021-12-26T17:01:53.325Z"
   },
   {
    "duration": 127,
    "start_time": "2021-12-26T17:01:53.386Z"
   },
   {
    "duration": 332,
    "start_time": "2021-12-26T17:01:53.515Z"
   },
   {
    "duration": 21,
    "start_time": "2021-12-26T17:01:53.849Z"
   },
   {
    "duration": 8,
    "start_time": "2021-12-26T17:01:53.873Z"
   },
   {
    "duration": 164,
    "start_time": "2021-12-26T17:01:53.884Z"
   },
   {
    "duration": 34,
    "start_time": "2021-12-26T17:01:54.050Z"
   },
   {
    "duration": 30,
    "start_time": "2021-12-26T17:01:54.087Z"
   },
   {
    "duration": 435,
    "start_time": "2021-12-26T17:01:54.120Z"
   },
   {
    "duration": -832,
    "start_time": "2021-12-26T17:01:55.391Z"
   },
   {
    "duration": -844,
    "start_time": "2021-12-26T17:01:55.405Z"
   },
   {
    "duration": 319,
    "start_time": "2021-12-26T17:04:53.691Z"
   },
   {
    "duration": 400,
    "start_time": "2021-12-26T17:05:03.821Z"
   },
   {
    "duration": 6,
    "start_time": "2021-12-26T17:06:28.660Z"
   },
   {
    "duration": 6,
    "start_time": "2021-12-26T17:06:34.207Z"
   },
   {
    "duration": 6,
    "start_time": "2021-12-26T17:09:48.555Z"
   },
   {
    "duration": 29,
    "start_time": "2021-12-26T17:11:27.034Z"
   },
   {
    "duration": 479,
    "start_time": "2021-12-26T17:11:49.575Z"
   },
   {
    "duration": 28,
    "start_time": "2021-12-26T17:12:10.676Z"
   },
   {
    "duration": 32,
    "start_time": "2021-12-26T17:12:54.593Z"
   },
   {
    "duration": 6,
    "start_time": "2021-12-26T17:13:18.578Z"
   },
   {
    "duration": 6,
    "start_time": "2021-12-26T17:14:28.634Z"
   },
   {
    "duration": 41,
    "start_time": "2021-12-26T17:15:48.415Z"
   },
   {
    "duration": 30,
    "start_time": "2021-12-26T17:15:59.237Z"
   },
   {
    "duration": 7,
    "start_time": "2021-12-26T17:17:01.570Z"
   },
   {
    "duration": 29,
    "start_time": "2021-12-26T17:17:30.748Z"
   },
   {
    "duration": 9,
    "start_time": "2021-12-26T17:18:21.215Z"
   },
   {
    "duration": 229,
    "start_time": "2021-12-26T17:18:33.849Z"
   },
   {
    "duration": 267,
    "start_time": "2021-12-26T17:19:03.553Z"
   },
   {
    "duration": 9,
    "start_time": "2021-12-26T17:20:37.573Z"
   },
   {
    "duration": 7,
    "start_time": "2021-12-26T17:20:52.126Z"
   },
   {
    "duration": 265,
    "start_time": "2021-12-26T17:22:23.898Z"
   },
   {
    "duration": 426,
    "start_time": "2021-12-26T17:24:15.934Z"
   },
   {
    "duration": 339,
    "start_time": "2021-12-26T17:24:23.363Z"
   },
   {
    "duration": 42,
    "start_time": "2021-12-26T17:24:54.398Z"
   },
   {
    "duration": 483,
    "start_time": "2021-12-26T17:25:24.816Z"
   },
   {
    "duration": 311,
    "start_time": "2021-12-26T17:25:35.823Z"
   },
   {
    "duration": 115,
    "start_time": "2021-12-26T17:25:44.782Z"
   },
   {
    "duration": 348,
    "start_time": "2021-12-26T17:26:01.860Z"
   },
   {
    "duration": 36,
    "start_time": "2021-12-26T17:26:16.520Z"
   },
   {
    "duration": 103,
    "start_time": "2021-12-26T17:26:30.772Z"
   },
   {
    "duration": 33,
    "start_time": "2021-12-26T17:26:35.289Z"
   },
   {
    "duration": 15,
    "start_time": "2021-12-26T17:40:57.640Z"
   },
   {
    "duration": 1136,
    "start_time": "2021-12-26T19:46:44.426Z"
   },
   {
    "duration": 633,
    "start_time": "2021-12-26T19:46:45.564Z"
   },
   {
    "duration": 13,
    "start_time": "2021-12-26T19:46:46.199Z"
   },
   {
    "duration": 5,
    "start_time": "2021-12-26T19:46:46.213Z"
   },
   {
    "duration": 6,
    "start_time": "2021-12-26T19:46:46.220Z"
   },
   {
    "duration": 150,
    "start_time": "2021-12-26T19:46:46.227Z"
   },
   {
    "duration": 248,
    "start_time": "2021-12-26T19:46:46.379Z"
   },
   {
    "duration": 21,
    "start_time": "2021-12-26T19:46:46.629Z"
   },
   {
    "duration": 13,
    "start_time": "2021-12-26T19:46:46.652Z"
   },
   {
    "duration": 18,
    "start_time": "2021-12-26T19:46:46.666Z"
   },
   {
    "duration": 13,
    "start_time": "2021-12-26T19:46:46.685Z"
   },
   {
    "duration": 11,
    "start_time": "2021-12-26T19:46:46.727Z"
   },
   {
    "duration": 31,
    "start_time": "2021-12-26T19:46:46.740Z"
   },
   {
    "duration": 4,
    "start_time": "2021-12-26T19:46:46.772Z"
   },
   {
    "duration": 27,
    "start_time": "2021-12-26T19:46:46.777Z"
   },
   {
    "duration": 40,
    "start_time": "2021-12-26T19:46:46.805Z"
   },
   {
    "duration": 9,
    "start_time": "2021-12-26T19:46:46.847Z"
   },
   {
    "duration": 275,
    "start_time": "2021-12-26T19:46:46.858Z"
   },
   {
    "duration": 15,
    "start_time": "2021-12-26T19:46:47.135Z"
   },
   {
    "duration": 4,
    "start_time": "2021-12-26T19:46:47.152Z"
   },
   {
    "duration": 789,
    "start_time": "2021-12-26T19:46:47.158Z"
   },
   {
    "duration": 3090,
    "start_time": "2021-12-26T19:46:47.949Z"
   },
   {
    "duration": 16,
    "start_time": "2021-12-26T19:46:51.043Z"
   },
   {
    "duration": 4360,
    "start_time": "2021-12-26T19:46:51.061Z"
   },
   {
    "duration": 14,
    "start_time": "2021-12-26T19:46:55.423Z"
   },
   {
    "duration": 10,
    "start_time": "2021-12-26T19:46:55.439Z"
   },
   {
    "duration": 16,
    "start_time": "2021-12-26T19:46:55.451Z"
   },
   {
    "duration": 12,
    "start_time": "2021-12-26T19:46:55.469Z"
   },
   {
    "duration": 44,
    "start_time": "2021-12-26T19:46:55.483Z"
   },
   {
    "duration": 13,
    "start_time": "2021-12-26T19:46:55.529Z"
   },
   {
    "duration": 4,
    "start_time": "2021-12-26T19:46:55.543Z"
   },
   {
    "duration": 179,
    "start_time": "2021-12-26T19:46:55.548Z"
   },
   {
    "duration": 4,
    "start_time": "2021-12-26T19:46:55.729Z"
   },
   {
    "duration": 8,
    "start_time": "2021-12-26T19:46:55.734Z"
   },
   {
    "duration": 183,
    "start_time": "2021-12-26T19:46:55.744Z"
   },
   {
    "duration": 59,
    "start_time": "2021-12-26T19:46:55.929Z"
   },
   {
    "duration": 6,
    "start_time": "2021-12-26T19:46:55.990Z"
   },
   {
    "duration": 36,
    "start_time": "2021-12-26T19:46:55.998Z"
   },
   {
    "duration": 8,
    "start_time": "2021-12-26T19:46:56.035Z"
   },
   {
    "duration": 8,
    "start_time": "2021-12-26T19:46:56.044Z"
   },
   {
    "duration": 10,
    "start_time": "2021-12-26T19:46:56.054Z"
   },
   {
    "duration": 463,
    "start_time": "2021-12-26T19:46:56.066Z"
   },
   {
    "duration": 13,
    "start_time": "2021-12-26T19:46:56.531Z"
   },
   {
    "duration": 13,
    "start_time": "2021-12-26T19:46:56.546Z"
   },
   {
    "duration": 21,
    "start_time": "2021-12-26T19:46:56.560Z"
   },
   {
    "duration": 84,
    "start_time": "2021-12-26T19:46:56.582Z"
   },
   {
    "duration": 176,
    "start_time": "2021-12-26T19:46:56.668Z"
   },
   {
    "duration": 6,
    "start_time": "2021-12-26T19:46:56.846Z"
   },
   {
    "duration": 3,
    "start_time": "2021-12-26T19:46:56.854Z"
   },
   {
    "duration": 84,
    "start_time": "2021-12-26T19:46:56.859Z"
   },
   {
    "duration": 18,
    "start_time": "2021-12-26T19:46:56.945Z"
   },
   {
    "duration": 166,
    "start_time": "2021-12-26T19:46:56.965Z"
   },
   {
    "duration": 16,
    "start_time": "2021-12-26T19:46:57.132Z"
   },
   {
    "duration": 6,
    "start_time": "2021-12-26T19:46:57.150Z"
   },
   {
    "duration": 14,
    "start_time": "2021-12-26T20:00:39.920Z"
   },
   {
    "duration": 15,
    "start_time": "2021-12-26T20:00:55.065Z"
   },
   {
    "duration": 14,
    "start_time": "2021-12-26T20:01:42.808Z"
   },
   {
    "duration": 3,
    "start_time": "2021-12-26T20:04:00.021Z"
   },
   {
    "duration": 5,
    "start_time": "2021-12-26T20:04:09.474Z"
   },
   {
    "duration": 453,
    "start_time": "2021-12-26T20:08:10.644Z"
   },
   {
    "duration": 470,
    "start_time": "2021-12-26T20:08:31.521Z"
   },
   {
    "duration": 5,
    "start_time": "2021-12-26T20:09:14.113Z"
   },
   {
    "duration": 337,
    "start_time": "2021-12-26T20:09:51.462Z"
   },
   {
    "duration": 5,
    "start_time": "2021-12-26T20:10:05.648Z"
   },
   {
    "duration": 1768,
    "start_time": "2021-12-27T07:53:23.381Z"
   },
   {
    "duration": 108,
    "start_time": "2021-12-27T07:53:25.152Z"
   },
   {
    "duration": 24,
    "start_time": "2021-12-27T07:53:25.263Z"
   },
   {
    "duration": 7,
    "start_time": "2021-12-27T07:53:25.291Z"
   },
   {
    "duration": 9,
    "start_time": "2021-12-27T07:53:25.301Z"
   },
   {
    "duration": 312,
    "start_time": "2021-12-27T07:53:25.313Z"
   },
   {
    "duration": 455,
    "start_time": "2021-12-27T07:53:25.629Z"
   },
   {
    "duration": 32,
    "start_time": "2021-12-27T07:53:26.089Z"
   },
   {
    "duration": 47,
    "start_time": "2021-12-27T07:53:26.125Z"
   },
   {
    "duration": 29,
    "start_time": "2021-12-27T07:53:26.175Z"
   },
   {
    "duration": 53,
    "start_time": "2021-12-27T07:53:26.207Z"
   },
   {
    "duration": 20,
    "start_time": "2021-12-27T07:53:26.263Z"
   },
   {
    "duration": 105,
    "start_time": "2021-12-27T07:53:26.286Z"
   },
   {
    "duration": 7,
    "start_time": "2021-12-27T07:53:26.395Z"
   },
   {
    "duration": 79,
    "start_time": "2021-12-27T07:53:26.405Z"
   },
   {
    "duration": 40,
    "start_time": "2021-12-27T07:53:26.487Z"
   },
   {
    "duration": 35,
    "start_time": "2021-12-27T07:53:26.531Z"
   },
   {
    "duration": 500,
    "start_time": "2021-12-27T07:53:26.569Z"
   },
   {
    "duration": 20,
    "start_time": "2021-12-27T07:53:27.072Z"
   },
   {
    "duration": 8,
    "start_time": "2021-12-27T07:53:27.094Z"
   },
   {
    "duration": 1198,
    "start_time": "2021-12-27T07:53:27.104Z"
   },
   {
    "duration": 5418,
    "start_time": "2021-12-27T07:53:28.305Z"
   },
   {
    "duration": 39,
    "start_time": "2021-12-27T07:53:33.731Z"
   },
   {
    "duration": 7887,
    "start_time": "2021-12-27T07:53:33.774Z"
   },
   {
    "duration": 23,
    "start_time": "2021-12-27T07:53:41.664Z"
   },
   {
    "duration": 10,
    "start_time": "2021-12-27T07:53:41.689Z"
   },
   {
    "duration": 25,
    "start_time": "2021-12-27T07:53:41.701Z"
   },
   {
    "duration": 18,
    "start_time": "2021-12-27T07:53:41.760Z"
   },
   {
    "duration": 20,
    "start_time": "2021-12-27T07:53:41.780Z"
   },
   {
    "duration": 18,
    "start_time": "2021-12-27T07:53:41.802Z"
   },
   {
    "duration": 38,
    "start_time": "2021-12-27T07:53:41.822Z"
   },
   {
    "duration": 244,
    "start_time": "2021-12-27T07:53:41.863Z"
   },
   {
    "duration": 4,
    "start_time": "2021-12-27T07:53:42.109Z"
   },
   {
    "duration": 6,
    "start_time": "2021-12-27T07:53:42.115Z"
   },
   {
    "duration": 213,
    "start_time": "2021-12-27T07:53:42.123Z"
   },
   {
    "duration": 124,
    "start_time": "2021-12-27T07:53:42.343Z"
   },
   {
    "duration": 10,
    "start_time": "2021-12-27T07:53:42.469Z"
   },
   {
    "duration": 15,
    "start_time": "2021-12-27T07:53:42.482Z"
   },
   {
    "duration": 7,
    "start_time": "2021-12-27T07:53:42.499Z"
   },
   {
    "duration": 11,
    "start_time": "2021-12-27T07:53:42.508Z"
   },
   {
    "duration": 45,
    "start_time": "2021-12-27T07:53:42.521Z"
   },
   {
    "duration": 791,
    "start_time": "2021-12-27T07:53:42.568Z"
   },
   {
    "duration": 25,
    "start_time": "2021-12-27T07:53:43.361Z"
   },
   {
    "duration": 17,
    "start_time": "2021-12-27T07:53:43.389Z"
   },
   {
    "duration": 61,
    "start_time": "2021-12-27T07:53:43.409Z"
   },
   {
    "duration": 124,
    "start_time": "2021-12-27T07:53:43.472Z"
   },
   {
    "duration": 336,
    "start_time": "2021-12-27T07:53:43.598Z"
   },
   {
    "duration": 23,
    "start_time": "2021-12-27T07:53:43.936Z"
   },
   {
    "duration": 6,
    "start_time": "2021-12-27T07:53:43.962Z"
   },
   {
    "duration": 137,
    "start_time": "2021-12-27T07:53:43.970Z"
   },
   {
    "duration": 27,
    "start_time": "2021-12-27T07:53:44.110Z"
   },
   {
    "duration": 277,
    "start_time": "2021-12-27T07:53:44.140Z"
   },
   {
    "duration": 41,
    "start_time": "2021-12-27T07:53:44.419Z"
   },
   {
    "duration": 6,
    "start_time": "2021-12-27T07:53:44.463Z"
   },
   {
    "duration": 8,
    "start_time": "2021-12-27T07:53:44.471Z"
   },
   {
    "duration": 8,
    "start_time": "2021-12-27T07:53:44.481Z"
   },
   {
    "duration": 895,
    "start_time": "2021-12-27T07:53:44.491Z"
   },
   {
    "duration": 282,
    "start_time": "2021-12-27T08:01:11.671Z"
   },
   {
    "duration": 323,
    "start_time": "2021-12-27T08:01:27.813Z"
   },
   {
    "duration": 529,
    "start_time": "2021-12-27T08:05:29.227Z"
   },
   {
    "duration": 34,
    "start_time": "2021-12-27T08:05:44.372Z"
   },
   {
    "duration": 8,
    "start_time": "2021-12-27T08:06:35.571Z"
   },
   {
    "duration": 8,
    "start_time": "2021-12-27T08:06:47.987Z"
   },
   {
    "duration": 8,
    "start_time": "2021-12-27T08:07:06.967Z"
   },
   {
    "duration": 131,
    "start_time": "2021-12-27T08:08:58.690Z"
   },
   {
    "duration": 177,
    "start_time": "2021-12-27T08:09:10.755Z"
   },
   {
    "duration": 390,
    "start_time": "2021-12-27T08:09:21.224Z"
   },
   {
    "duration": 8,
    "start_time": "2021-12-27T08:09:36.717Z"
   },
   {
    "duration": 132,
    "start_time": "2021-12-27T08:10:33.518Z"
   },
   {
    "duration": 1523,
    "start_time": "2021-12-27T08:10:40.678Z"
   },
   {
    "duration": 11,
    "start_time": "2021-12-27T08:10:56.016Z"
   },
   {
    "duration": 10,
    "start_time": "2021-12-27T08:13:30.650Z"
   },
   {
    "duration": 16,
    "start_time": "2021-12-27T08:13:41.258Z"
   },
   {
    "duration": 9,
    "start_time": "2021-12-27T08:14:11.645Z"
   },
   {
    "duration": 568,
    "start_time": "2021-12-27T09:40:34.796Z"
   },
   {
    "duration": 23,
    "start_time": "2021-12-27T09:40:40.594Z"
   },
   {
    "duration": 23,
    "start_time": "2021-12-27T09:42:29.678Z"
   },
   {
    "duration": 27,
    "start_time": "2021-12-27T09:42:52.360Z"
   },
   {
    "duration": 360,
    "start_time": "2021-12-27T09:43:05.269Z"
   },
   {
    "duration": 26,
    "start_time": "2021-12-27T09:43:09.102Z"
   },
   {
    "duration": 17,
    "start_time": "2021-12-27T09:47:09.469Z"
   },
   {
    "duration": 24,
    "start_time": "2021-12-27T09:47:44.054Z"
   },
   {
    "duration": 15,
    "start_time": "2021-12-27T09:47:54.854Z"
   },
   {
    "duration": 21,
    "start_time": "2021-12-27T09:51:19.357Z"
   },
   {
    "duration": 23,
    "start_time": "2021-12-27T09:51:47.478Z"
   },
   {
    "duration": 17,
    "start_time": "2021-12-27T09:52:06.274Z"
   },
   {
    "duration": 17,
    "start_time": "2021-12-27T09:53:56.631Z"
   },
   {
    "duration": 261,
    "start_time": "2021-12-27T09:54:59.448Z"
   },
   {
    "duration": 9,
    "start_time": "2021-12-27T09:58:25.138Z"
   },
   {
    "duration": 7,
    "start_time": "2021-12-27T10:04:15.425Z"
   },
   {
    "duration": 8,
    "start_time": "2021-12-27T10:04:54.763Z"
   },
   {
    "duration": 7,
    "start_time": "2021-12-27T10:06:34.868Z"
   },
   {
    "duration": 9,
    "start_time": "2021-12-27T10:06:35.830Z"
   },
   {
    "duration": 9,
    "start_time": "2021-12-27T10:07:26.015Z"
   },
   {
    "duration": 10,
    "start_time": "2021-12-27T10:13:03.823Z"
   },
   {
    "duration": 9,
    "start_time": "2021-12-27T10:13:04.805Z"
   },
   {
    "duration": 8,
    "start_time": "2021-12-27T10:17:12.822Z"
   },
   {
    "duration": 10,
    "start_time": "2021-12-27T10:17:14.279Z"
   },
   {
    "duration": 7,
    "start_time": "2021-12-27T10:17:19.736Z"
   },
   {
    "duration": 11,
    "start_time": "2021-12-27T10:17:20.750Z"
   },
   {
    "duration": 6,
    "start_time": "2021-12-27T10:17:45.167Z"
   },
   {
    "duration": 11,
    "start_time": "2021-12-27T10:17:46.130Z"
   },
   {
    "duration": 16,
    "start_time": "2021-12-27T10:18:19.454Z"
   },
   {
    "duration": 278,
    "start_time": "2021-12-27T10:19:09.605Z"
   },
   {
    "duration": 300,
    "start_time": "2021-12-27T10:19:32.262Z"
   },
   {
    "duration": 285,
    "start_time": "2021-12-27T10:19:54.509Z"
   },
   {
    "duration": 10,
    "start_time": "2021-12-27T10:20:53.086Z"
   },
   {
    "duration": 17,
    "start_time": "2021-12-27T10:20:54.398Z"
   },
   {
    "duration": 9,
    "start_time": "2021-12-27T10:20:56.780Z"
   },
   {
    "duration": 8,
    "start_time": "2021-12-27T10:20:56.792Z"
   },
   {
    "duration": 11,
    "start_time": "2021-12-27T10:20:57.927Z"
   },
   {
    "duration": 10,
    "start_time": "2021-12-27T10:21:05.569Z"
   },
   {
    "duration": 7,
    "start_time": "2021-12-27T10:21:17.944Z"
   },
   {
    "duration": 10,
    "start_time": "2021-12-27T10:21:18.908Z"
   },
   {
    "duration": 450,
    "start_time": "2021-12-27T10:22:03.080Z"
   },
   {
    "duration": 17,
    "start_time": "2021-12-27T10:22:57.859Z"
   },
   {
    "duration": 17,
    "start_time": "2021-12-27T10:22:58.646Z"
   },
   {
    "duration": 9,
    "start_time": "2021-12-27T10:22:59.802Z"
   },
   {
    "duration": 7,
    "start_time": "2021-12-27T10:23:00.791Z"
   },
   {
    "duration": 11,
    "start_time": "2021-12-27T10:23:01.863Z"
   },
   {
    "duration": 431,
    "start_time": "2021-12-27T10:23:19.192Z"
   },
   {
    "duration": 423,
    "start_time": "2021-12-27T10:23:34.122Z"
   },
   {
    "duration": 967,
    "start_time": "2021-12-27T10:24:37.506Z"
   },
   {
    "duration": 401,
    "start_time": "2021-12-27T10:24:46.783Z"
   },
   {
    "duration": 457,
    "start_time": "2021-12-27T10:24:56.880Z"
   },
   {
    "duration": 31,
    "start_time": "2021-12-27T10:25:50.665Z"
   },
   {
    "duration": 8,
    "start_time": "2021-12-27T10:26:42.153Z"
   },
   {
    "duration": 10,
    "start_time": "2021-12-27T10:26:43.091Z"
   },
   {
    "duration": 31,
    "start_time": "2021-12-27T10:27:22.705Z"
   },
   {
    "duration": 32,
    "start_time": "2021-12-27T10:27:41.063Z"
   },
   {
    "duration": 5,
    "start_time": "2021-12-27T10:48:46.491Z"
   },
   {
    "duration": 5,
    "start_time": "2021-12-27T10:48:52.325Z"
   },
   {
    "duration": 5,
    "start_time": "2021-12-27T10:49:16.876Z"
   },
   {
    "duration": 5,
    "start_time": "2021-12-27T10:49:24.197Z"
   },
   {
    "duration": 5,
    "start_time": "2021-12-27T11:36:19.532Z"
   },
   {
    "duration": 1570,
    "start_time": "2021-12-27T11:36:31.924Z"
   },
   {
    "duration": 101,
    "start_time": "2021-12-27T11:36:33.497Z"
   },
   {
    "duration": 21,
    "start_time": "2021-12-27T11:36:33.600Z"
   },
   {
    "duration": 7,
    "start_time": "2021-12-27T11:36:33.624Z"
   },
   {
    "duration": 30,
    "start_time": "2021-12-27T11:36:33.633Z"
   },
   {
    "duration": 285,
    "start_time": "2021-12-27T11:36:33.666Z"
   },
   {
    "duration": 461,
    "start_time": "2021-12-27T11:36:33.958Z"
   },
   {
    "duration": 44,
    "start_time": "2021-12-27T11:36:34.424Z"
   },
   {
    "duration": 24,
    "start_time": "2021-12-27T11:36:34.472Z"
   },
   {
    "duration": 62,
    "start_time": "2021-12-27T11:36:34.499Z"
   },
   {
    "duration": 25,
    "start_time": "2021-12-27T11:36:34.563Z"
   },
   {
    "duration": 18,
    "start_time": "2021-12-27T11:36:34.591Z"
   },
   {
    "duration": 94,
    "start_time": "2021-12-27T11:36:34.612Z"
   },
   {
    "duration": 7,
    "start_time": "2021-12-27T11:36:34.709Z"
   },
   {
    "duration": 67,
    "start_time": "2021-12-27T11:36:34.719Z"
   },
   {
    "duration": 31,
    "start_time": "2021-12-27T11:36:34.789Z"
   },
   {
    "duration": 41,
    "start_time": "2021-12-27T11:36:34.823Z"
   },
   {
    "duration": 485,
    "start_time": "2021-12-27T11:36:34.866Z"
   },
   {
    "duration": 22,
    "start_time": "2021-12-27T11:36:35.359Z"
   },
   {
    "duration": 8,
    "start_time": "2021-12-27T11:36:35.384Z"
   },
   {
    "duration": 1213,
    "start_time": "2021-12-27T11:36:35.395Z"
   },
   {
    "duration": 5897,
    "start_time": "2021-12-27T11:36:36.610Z"
   },
   {
    "duration": 26,
    "start_time": "2021-12-27T11:36:42.513Z"
   },
   {
    "duration": 8297,
    "start_time": "2021-12-27T11:36:42.542Z"
   },
   {
    "duration": 36,
    "start_time": "2021-12-27T11:36:50.843Z"
   },
   {
    "duration": 10,
    "start_time": "2021-12-27T11:36:50.881Z"
   },
   {
    "duration": 25,
    "start_time": "2021-12-27T11:36:50.893Z"
   },
   {
    "duration": 42,
    "start_time": "2021-12-27T11:36:50.920Z"
   },
   {
    "duration": 20,
    "start_time": "2021-12-27T11:36:50.964Z"
   },
   {
    "duration": 19,
    "start_time": "2021-12-27T11:36:50.987Z"
   },
   {
    "duration": 6,
    "start_time": "2021-12-27T11:36:51.008Z"
   },
   {
    "duration": 293,
    "start_time": "2021-12-27T11:36:51.016Z"
   },
   {
    "duration": 6,
    "start_time": "2021-12-27T11:36:51.312Z"
   },
   {
    "duration": 7,
    "start_time": "2021-12-27T11:36:51.321Z"
   },
   {
    "duration": 238,
    "start_time": "2021-12-27T11:36:51.331Z"
   },
   {
    "duration": 129,
    "start_time": "2021-12-27T11:36:51.572Z"
   },
   {
    "duration": 9,
    "start_time": "2021-12-27T11:36:51.703Z"
   },
   {
    "duration": 17,
    "start_time": "2021-12-27T11:36:51.715Z"
   },
   {
    "duration": 27,
    "start_time": "2021-12-27T11:36:51.734Z"
   },
   {
    "duration": 8,
    "start_time": "2021-12-27T11:36:51.764Z"
   },
   {
    "duration": 20,
    "start_time": "2021-12-27T11:36:51.774Z"
   },
   {
    "duration": 825,
    "start_time": "2021-12-27T11:36:51.796Z"
   },
   {
    "duration": 42,
    "start_time": "2021-12-27T11:36:52.624Z"
   },
   {
    "duration": 17,
    "start_time": "2021-12-27T11:36:52.669Z"
   },
   {
    "duration": 30,
    "start_time": "2021-12-27T11:36:52.689Z"
   },
   {
    "duration": 149,
    "start_time": "2021-12-27T11:36:52.721Z"
   },
   {
    "duration": 299,
    "start_time": "2021-12-27T11:36:52.873Z"
   },
   {
    "duration": 9,
    "start_time": "2021-12-27T11:36:53.175Z"
   },
   {
    "duration": 6,
    "start_time": "2021-12-27T11:36:53.186Z"
   },
   {
    "duration": 150,
    "start_time": "2021-12-27T11:36:53.195Z"
   },
   {
    "duration": 36,
    "start_time": "2021-12-27T11:36:53.348Z"
   },
   {
    "duration": 282,
    "start_time": "2021-12-27T11:36:53.387Z"
   },
   {
    "duration": 25,
    "start_time": "2021-12-27T11:36:53.672Z"
   },
   {
    "duration": 2,
    "start_time": "2021-12-27T11:36:53.700Z"
   },
   {
    "duration": 8,
    "start_time": "2021-12-27T11:36:53.705Z"
   },
   {
    "duration": 50,
    "start_time": "2021-12-27T11:36:53.715Z"
   },
   {
    "duration": 15,
    "start_time": "2021-12-27T11:36:53.768Z"
   },
   {
    "duration": 17,
    "start_time": "2021-12-27T11:36:53.786Z"
   },
   {
    "duration": 9,
    "start_time": "2021-12-27T11:36:53.805Z"
   },
   {
    "duration": 48,
    "start_time": "2021-12-27T11:36:53.817Z"
   },
   {
    "duration": 16,
    "start_time": "2021-12-27T11:36:53.867Z"
   },
   {
    "duration": 32,
    "start_time": "2021-12-27T11:36:53.886Z"
   },
   {
    "duration": 1708,
    "start_time": "2021-12-27T12:06:53.433Z"
   },
   {
    "duration": 110,
    "start_time": "2021-12-27T12:06:55.144Z"
   },
   {
    "duration": 32,
    "start_time": "2021-12-27T12:06:55.258Z"
   },
   {
    "duration": 6,
    "start_time": "2021-12-27T12:06:55.293Z"
   },
   {
    "duration": 9,
    "start_time": "2021-12-27T12:06:55.301Z"
   },
   {
    "duration": 294,
    "start_time": "2021-12-27T12:06:55.312Z"
   },
   {
    "duration": 494,
    "start_time": "2021-12-27T12:06:55.608Z"
   },
   {
    "duration": 34,
    "start_time": "2021-12-27T12:06:56.107Z"
   },
   {
    "duration": 38,
    "start_time": "2021-12-27T12:06:56.144Z"
   },
   {
    "duration": 27,
    "start_time": "2021-12-27T12:06:56.184Z"
   },
   {
    "duration": 21,
    "start_time": "2021-12-27T12:06:56.214Z"
   },
   {
    "duration": 31,
    "start_time": "2021-12-27T12:06:56.238Z"
   },
   {
    "duration": 100,
    "start_time": "2021-12-27T12:06:56.272Z"
   },
   {
    "duration": 7,
    "start_time": "2021-12-27T12:06:56.375Z"
   },
   {
    "duration": 104,
    "start_time": "2021-12-27T12:06:56.384Z"
   },
   {
    "duration": 83,
    "start_time": "2021-12-27T12:06:56.490Z"
   },
   {
    "duration": 16,
    "start_time": "2021-12-27T12:06:56.577Z"
   },
   {
    "duration": 735,
    "start_time": "2021-12-27T12:06:56.595Z"
   },
   {
    "duration": 37,
    "start_time": "2021-12-27T12:06:57.332Z"
   },
   {
    "duration": 10,
    "start_time": "2021-12-27T12:06:57.373Z"
   },
   {
    "duration": 1105,
    "start_time": "2021-12-27T12:06:57.385Z"
   },
   {
    "duration": 6104,
    "start_time": "2021-12-27T12:06:58.492Z"
   },
   {
    "duration": 27,
    "start_time": "2021-12-27T12:07:04.603Z"
   },
   {
    "duration": 8953,
    "start_time": "2021-12-27T12:07:04.633Z"
   },
   {
    "duration": 33,
    "start_time": "2021-12-27T12:07:13.589Z"
   },
   {
    "duration": 10,
    "start_time": "2021-12-27T12:07:13.625Z"
   },
   {
    "duration": 27,
    "start_time": "2021-12-27T12:07:13.660Z"
   },
   {
    "duration": 20,
    "start_time": "2021-12-27T12:07:13.689Z"
   },
   {
    "duration": 52,
    "start_time": "2021-12-27T12:07:13.711Z"
   },
   {
    "duration": 20,
    "start_time": "2021-12-27T12:07:13.766Z"
   },
   {
    "duration": 8,
    "start_time": "2021-12-27T12:07:13.788Z"
   },
   {
    "duration": 295,
    "start_time": "2021-12-27T12:07:13.798Z"
   },
   {
    "duration": 4,
    "start_time": "2021-12-27T12:07:14.096Z"
   },
   {
    "duration": 6,
    "start_time": "2021-12-27T12:07:14.103Z"
   },
   {
    "duration": 263,
    "start_time": "2021-12-27T12:07:14.112Z"
   },
   {
    "duration": 127,
    "start_time": "2021-12-27T12:07:14.378Z"
   },
   {
    "duration": 9,
    "start_time": "2021-12-27T12:07:14.508Z"
   },
   {
    "duration": 16,
    "start_time": "2021-12-27T12:07:14.520Z"
   },
   {
    "duration": 24,
    "start_time": "2021-12-27T12:07:14.538Z"
   },
   {
    "duration": 20,
    "start_time": "2021-12-27T12:07:14.565Z"
   },
   {
    "duration": 20,
    "start_time": "2021-12-27T12:07:14.587Z"
   },
   {
    "duration": 826,
    "start_time": "2021-12-27T12:07:14.610Z"
   },
   {
    "duration": 43,
    "start_time": "2021-12-27T12:07:15.439Z"
   },
   {
    "duration": 17,
    "start_time": "2021-12-27T12:07:15.485Z"
   },
   {
    "duration": 62,
    "start_time": "2021-12-27T12:07:15.505Z"
   },
   {
    "duration": 125,
    "start_time": "2021-12-27T12:07:15.570Z"
   },
   {
    "duration": 305,
    "start_time": "2021-12-27T12:07:15.698Z"
   },
   {
    "duration": 10,
    "start_time": "2021-12-27T12:07:16.006Z"
   },
   {
    "duration": 6,
    "start_time": "2021-12-27T12:07:16.018Z"
   },
   {
    "duration": 162,
    "start_time": "2021-12-27T12:07:16.027Z"
   },
   {
    "duration": 39,
    "start_time": "2021-12-27T12:07:16.192Z"
   },
   {
    "duration": 293,
    "start_time": "2021-12-27T12:07:16.234Z"
   },
   {
    "duration": 49,
    "start_time": "2021-12-27T12:07:16.530Z"
   },
   {
    "duration": 14,
    "start_time": "2021-12-27T12:07:16.584Z"
   },
   {
    "duration": 30,
    "start_time": "2021-12-27T12:07:16.601Z"
   },
   {
    "duration": 32,
    "start_time": "2021-12-27T12:07:16.634Z"
   },
   {
    "duration": 25,
    "start_time": "2021-12-27T12:07:16.668Z"
   },
   {
    "duration": 26,
    "start_time": "2021-12-27T12:07:16.695Z"
   },
   {
    "duration": 9,
    "start_time": "2021-12-27T12:07:16.724Z"
   },
   {
    "duration": 24,
    "start_time": "2021-12-27T12:07:16.736Z"
   },
   {
    "duration": 41,
    "start_time": "2021-12-27T12:07:16.762Z"
   },
   {
    "duration": 42,
    "start_time": "2021-12-27T12:07:16.805Z"
   },
   {
    "duration": 1533,
    "start_time": "2021-12-27T19:33:02.122Z"
   },
   {
    "duration": 107,
    "start_time": "2021-12-27T19:33:03.658Z"
   },
   {
    "duration": 21,
    "start_time": "2021-12-27T19:33:03.768Z"
   },
   {
    "duration": 11,
    "start_time": "2021-12-27T19:33:03.792Z"
   },
   {
    "duration": 11,
    "start_time": "2021-12-27T19:33:03.806Z"
   },
   {
    "duration": 300,
    "start_time": "2021-12-27T19:33:03.819Z"
   },
   {
    "duration": 476,
    "start_time": "2021-12-27T19:33:04.121Z"
   },
   {
    "duration": 38,
    "start_time": "2021-12-27T19:33:04.603Z"
   },
   {
    "duration": 21,
    "start_time": "2021-12-27T19:33:04.664Z"
   },
   {
    "duration": 30,
    "start_time": "2021-12-27T19:33:04.688Z"
   },
   {
    "duration": 56,
    "start_time": "2021-12-27T19:33:04.722Z"
   },
   {
    "duration": 18,
    "start_time": "2021-12-27T19:33:04.781Z"
   },
   {
    "duration": 86,
    "start_time": "2021-12-27T19:33:04.801Z"
   },
   {
    "duration": 6,
    "start_time": "2021-12-27T19:33:04.889Z"
   },
   {
    "duration": 67,
    "start_time": "2021-12-27T19:33:04.898Z"
   },
   {
    "duration": 29,
    "start_time": "2021-12-27T19:33:04.967Z"
   },
   {
    "duration": 15,
    "start_time": "2021-12-27T19:33:04.999Z"
   },
   {
    "duration": 519,
    "start_time": "2021-12-27T19:33:05.017Z"
   },
   {
    "duration": 36,
    "start_time": "2021-12-27T19:33:05.539Z"
   },
   {
    "duration": 11,
    "start_time": "2021-12-27T19:33:05.577Z"
   },
   {
    "duration": 1394,
    "start_time": "2021-12-27T19:33:05.591Z"
   },
   {
    "duration": 5420,
    "start_time": "2021-12-27T19:33:06.988Z"
   },
   {
    "duration": 27,
    "start_time": "2021-12-27T19:33:12.414Z"
   },
   {
    "duration": 7866,
    "start_time": "2021-12-27T19:33:12.444Z"
   },
   {
    "duration": 26,
    "start_time": "2021-12-27T19:33:20.313Z"
   },
   {
    "duration": 13,
    "start_time": "2021-12-27T19:33:20.362Z"
   },
   {
    "duration": 31,
    "start_time": "2021-12-27T19:33:20.378Z"
   },
   {
    "duration": 57,
    "start_time": "2021-12-27T19:33:20.412Z"
   },
   {
    "duration": 22,
    "start_time": "2021-12-27T19:33:20.472Z"
   },
   {
    "duration": 20,
    "start_time": "2021-12-27T19:33:20.496Z"
   },
   {
    "duration": 6,
    "start_time": "2021-12-27T19:33:20.518Z"
   },
   {
    "duration": 286,
    "start_time": "2021-12-27T19:33:20.526Z"
   },
   {
    "duration": 4,
    "start_time": "2021-12-27T19:33:20.815Z"
   },
   {
    "duration": 8,
    "start_time": "2021-12-27T19:33:20.821Z"
   },
   {
    "duration": 238,
    "start_time": "2021-12-27T19:33:20.832Z"
   },
   {
    "duration": 120,
    "start_time": "2021-12-27T19:33:21.072Z"
   },
   {
    "duration": 10,
    "start_time": "2021-12-27T19:33:21.194Z"
   },
   {
    "duration": 18,
    "start_time": "2021-12-27T19:33:21.206Z"
   },
   {
    "duration": 4,
    "start_time": "2021-12-27T19:33:21.227Z"
   },
   {
    "duration": 30,
    "start_time": "2021-12-27T19:33:21.233Z"
   },
   {
    "duration": 17,
    "start_time": "2021-12-27T19:33:21.265Z"
   },
   {
    "duration": 818,
    "start_time": "2021-12-27T19:33:21.284Z"
   },
   {
    "duration": 23,
    "start_time": "2021-12-27T19:33:22.104Z"
   },
   {
    "duration": 34,
    "start_time": "2021-12-27T19:33:22.130Z"
   },
   {
    "duration": 32,
    "start_time": "2021-12-27T19:33:22.167Z"
   },
   {
    "duration": 133,
    "start_time": "2021-12-27T19:33:22.201Z"
   },
   {
    "duration": 281,
    "start_time": "2021-12-27T19:33:22.336Z"
   },
   {
    "duration": 9,
    "start_time": "2021-12-27T19:33:22.620Z"
   },
   {
    "duration": 8,
    "start_time": "2021-12-27T19:33:22.632Z"
   },
   {
    "duration": 146,
    "start_time": "2021-12-27T19:33:22.643Z"
   },
   {
    "duration": 27,
    "start_time": "2021-12-27T19:33:22.792Z"
   },
   {
    "duration": 288,
    "start_time": "2021-12-27T19:33:22.821Z"
   },
   {
    "duration": 26,
    "start_time": "2021-12-27T19:33:23.112Z"
   },
   {
    "duration": 22,
    "start_time": "2021-12-27T19:33:23.141Z"
   },
   {
    "duration": 10,
    "start_time": "2021-12-27T19:33:23.165Z"
   },
   {
    "duration": 10,
    "start_time": "2021-12-27T19:33:23.178Z"
   },
   {
    "duration": 16,
    "start_time": "2021-12-27T19:33:23.200Z"
   },
   {
    "duration": 49,
    "start_time": "2021-12-27T19:33:23.219Z"
   },
   {
    "duration": 9,
    "start_time": "2021-12-27T19:33:23.271Z"
   },
   {
    "duration": 7,
    "start_time": "2021-12-27T19:33:23.283Z"
   },
   {
    "duration": 12,
    "start_time": "2021-12-27T19:33:23.292Z"
   },
   {
    "duration": 67,
    "start_time": "2021-12-27T19:33:23.307Z"
   },
   {
    "duration": 1540,
    "start_time": "2021-12-28T06:30:22.718Z"
   },
   {
    "duration": 131,
    "start_time": "2021-12-28T06:30:24.264Z"
   },
   {
    "duration": 29,
    "start_time": "2021-12-28T06:30:24.400Z"
   },
   {
    "duration": 34,
    "start_time": "2021-12-28T06:30:24.432Z"
   },
   {
    "duration": 10,
    "start_time": "2021-12-28T06:30:24.469Z"
   },
   {
    "duration": 297,
    "start_time": "2021-12-28T06:30:24.482Z"
   },
   {
    "duration": 570,
    "start_time": "2021-12-28T06:30:24.782Z"
   },
   {
    "duration": 41,
    "start_time": "2021-12-28T06:30:25.355Z"
   },
   {
    "duration": 21,
    "start_time": "2021-12-28T06:30:25.399Z"
   },
   {
    "duration": 51,
    "start_time": "2021-12-28T06:30:25.423Z"
   },
   {
    "duration": 22,
    "start_time": "2021-12-28T06:30:25.477Z"
   },
   {
    "duration": 18,
    "start_time": "2021-12-28T06:30:25.502Z"
   },
   {
    "duration": 95,
    "start_time": "2021-12-28T06:30:25.522Z"
   },
   {
    "duration": 6,
    "start_time": "2021-12-28T06:30:25.621Z"
   },
   {
    "duration": 60,
    "start_time": "2021-12-28T06:30:25.630Z"
   },
   {
    "duration": 28,
    "start_time": "2021-12-28T06:30:25.692Z"
   },
   {
    "duration": 14,
    "start_time": "2021-12-28T06:30:25.722Z"
   },
   {
    "duration": 503,
    "start_time": "2021-12-28T06:30:25.763Z"
   },
   {
    "duration": 23,
    "start_time": "2021-12-28T06:30:26.268Z"
   },
   {
    "duration": 8,
    "start_time": "2021-12-28T06:30:26.293Z"
   },
   {
    "duration": 1209,
    "start_time": "2021-12-28T06:30:26.304Z"
   },
   {
    "duration": 6784,
    "start_time": "2021-12-28T06:30:27.516Z"
   },
   {
    "duration": 42,
    "start_time": "2021-12-28T06:30:34.309Z"
   },
   {
    "duration": 8614,
    "start_time": "2021-12-28T06:30:34.356Z"
   },
   {
    "duration": 32,
    "start_time": "2021-12-28T06:30:42.973Z"
   },
   {
    "duration": 11,
    "start_time": "2021-12-28T06:30:43.008Z"
   },
   {
    "duration": 24,
    "start_time": "2021-12-28T06:30:43.022Z"
   },
   {
    "duration": 28,
    "start_time": "2021-12-28T06:30:43.049Z"
   },
   {
    "duration": 18,
    "start_time": "2021-12-28T06:30:43.080Z"
   },
   {
    "duration": 18,
    "start_time": "2021-12-28T06:30:43.101Z"
   },
   {
    "duration": 5,
    "start_time": "2021-12-28T06:30:43.121Z"
   },
   {
    "duration": 269,
    "start_time": "2021-12-28T06:30:43.128Z"
   },
   {
    "duration": 4,
    "start_time": "2021-12-28T06:30:43.399Z"
   },
   {
    "duration": 5,
    "start_time": "2021-12-28T06:30:43.406Z"
   },
   {
    "duration": 243,
    "start_time": "2021-12-28T06:30:43.414Z"
   },
   {
    "duration": 128,
    "start_time": "2021-12-28T06:30:43.659Z"
   },
   {
    "duration": 12,
    "start_time": "2021-12-28T06:30:43.790Z"
   },
   {
    "duration": 18,
    "start_time": "2021-12-28T06:30:43.804Z"
   },
   {
    "duration": 4,
    "start_time": "2021-12-28T06:30:43.825Z"
   },
   {
    "duration": 7,
    "start_time": "2021-12-28T06:30:43.832Z"
   },
   {
    "duration": 23,
    "start_time": "2021-12-28T06:30:43.841Z"
   },
   {
    "duration": 892,
    "start_time": "2021-12-28T06:30:43.867Z"
   },
   {
    "duration": 27,
    "start_time": "2021-12-28T06:30:44.764Z"
   },
   {
    "duration": 16,
    "start_time": "2021-12-28T06:30:44.794Z"
   },
   {
    "duration": 32,
    "start_time": "2021-12-28T06:30:44.812Z"
   },
   {
    "duration": 134,
    "start_time": "2021-12-28T06:30:44.846Z"
   },
   {
    "duration": 374,
    "start_time": "2021-12-28T06:30:44.982Z"
   },
   {
    "duration": 12,
    "start_time": "2021-12-28T06:30:45.363Z"
   },
   {
    "duration": 6,
    "start_time": "2021-12-28T06:30:45.378Z"
   },
   {
    "duration": 246,
    "start_time": "2021-12-28T06:30:45.387Z"
   },
   {
    "duration": 39,
    "start_time": "2021-12-28T06:30:45.636Z"
   },
   {
    "duration": 349,
    "start_time": "2021-12-28T06:30:45.678Z"
   },
   {
    "duration": 33,
    "start_time": "2021-12-28T06:30:46.030Z"
   },
   {
    "duration": 4,
    "start_time": "2021-12-28T06:30:46.065Z"
   },
   {
    "duration": 10,
    "start_time": "2021-12-28T06:30:46.073Z"
   },
   {
    "duration": 16,
    "start_time": "2021-12-28T06:30:46.085Z"
   },
   {
    "duration": 15,
    "start_time": "2021-12-28T06:30:46.104Z"
   },
   {
    "duration": 17,
    "start_time": "2021-12-28T06:30:46.122Z"
   },
   {
    "duration": 22,
    "start_time": "2021-12-28T06:30:46.141Z"
   },
   {
    "duration": 6,
    "start_time": "2021-12-28T06:30:46.166Z"
   },
   {
    "duration": 12,
    "start_time": "2021-12-28T06:30:46.175Z"
   },
   {
    "duration": 38,
    "start_time": "2021-12-28T06:30:46.189Z"
   },
   {
    "duration": 439,
    "start_time": "2021-12-28T06:57:56.230Z"
   },
   {
    "duration": 15,
    "start_time": "2021-12-28T06:58:23.149Z"
   },
   {
    "duration": 5,
    "start_time": "2021-12-28T06:58:35.326Z"
   },
   {
    "duration": 568,
    "start_time": "2021-12-28T06:58:38.789Z"
   },
   {
    "duration": 573,
    "start_time": "2021-12-28T06:58:43.120Z"
   },
   {
    "duration": 573,
    "start_time": "2021-12-28T06:58:52.245Z"
   },
   {
    "duration": 16,
    "start_time": "2021-12-28T07:00:04.024Z"
   },
   {
    "duration": 16,
    "start_time": "2021-12-28T07:00:12.253Z"
   },
   {
    "duration": 426,
    "start_time": "2021-12-28T07:00:22.694Z"
   },
   {
    "duration": 1999,
    "start_time": "2021-12-28T07:00:30.343Z"
   },
   {
    "duration": 2121,
    "start_time": "2021-12-28T07:00:48.263Z"
   },
   {
    "duration": 1993,
    "start_time": "2021-12-28T07:00:54.526Z"
   },
   {
    "duration": 347,
    "start_time": "2021-12-28T07:01:07.179Z"
   },
   {
    "duration": 277,
    "start_time": "2021-12-28T07:01:43.871Z"
   },
   {
    "duration": 100,
    "start_time": "2021-12-28T07:02:16.487Z"
   },
   {
    "duration": 308,
    "start_time": "2021-12-28T07:02:36.431Z"
   },
   {
    "duration": 303,
    "start_time": "2021-12-28T07:02:39.998Z"
   },
   {
    "duration": 300,
    "start_time": "2021-12-28T07:02:52.302Z"
   },
   {
    "duration": 714,
    "start_time": "2021-12-28T07:03:21.990Z"
   },
   {
    "duration": 559,
    "start_time": "2021-12-28T07:03:33.798Z"
   },
   {
    "duration": 577,
    "start_time": "2021-12-28T07:04:02.854Z"
   },
   {
    "duration": 578,
    "start_time": "2021-12-28T07:04:26.862Z"
   },
   {
    "duration": 581,
    "start_time": "2021-12-28T07:04:30.006Z"
   },
   {
    "duration": 558,
    "start_time": "2021-12-28T07:04:38.605Z"
   },
   {
    "duration": 608,
    "start_time": "2021-12-28T07:04:45.261Z"
   },
   {
    "duration": 17,
    "start_time": "2021-12-28T07:17:41.606Z"
   },
   {
    "duration": 20,
    "start_time": "2021-12-28T07:28:36.606Z"
   },
   {
    "duration": 24,
    "start_time": "2021-12-28T07:28:45.134Z"
   },
   {
    "duration": 21,
    "start_time": "2021-12-28T07:28:53.378Z"
   },
   {
    "duration": 21,
    "start_time": "2021-12-28T07:28:58.908Z"
   },
   {
    "duration": 140,
    "start_time": "2021-12-28T07:37:10.095Z"
   },
   {
    "duration": 9,
    "start_time": "2021-12-28T07:37:12.911Z"
   },
   {
    "duration": 22,
    "start_time": "2021-12-28T07:38:31.462Z"
   },
   {
    "duration": 28,
    "start_time": "2021-12-28T07:38:40.256Z"
   },
   {
    "duration": 1121,
    "start_time": "2021-12-28T07:38:59.728Z"
   },
   {
    "duration": 3373,
    "start_time": "2021-12-28T07:39:08.984Z"
   },
   {
    "duration": 660,
    "start_time": "2021-12-28T07:39:35.896Z"
   },
   {
    "duration": 95,
    "start_time": "2021-12-28T07:39:58.259Z"
   },
   {
    "duration": 236,
    "start_time": "2021-12-28T07:40:00.786Z"
   },
   {
    "duration": 222,
    "start_time": "2021-12-28T07:40:41.792Z"
   },
   {
    "duration": 279,
    "start_time": "2021-12-28T07:40:53.112Z"
   },
   {
    "duration": 284,
    "start_time": "2021-12-28T07:40:56.985Z"
   },
   {
    "duration": 293,
    "start_time": "2021-12-28T07:41:00.202Z"
   },
   {
    "duration": 1493,
    "start_time": "2021-12-28T08:57:11.238Z"
   },
   {
    "duration": 103,
    "start_time": "2021-12-28T08:57:12.734Z"
   },
   {
    "duration": 21,
    "start_time": "2021-12-28T08:57:12.840Z"
   },
   {
    "duration": 6,
    "start_time": "2021-12-28T08:57:12.864Z"
   },
   {
    "duration": 9,
    "start_time": "2021-12-28T08:57:12.873Z"
   },
   {
    "duration": 292,
    "start_time": "2021-12-28T08:57:12.884Z"
   },
   {
    "duration": 450,
    "start_time": "2021-12-28T08:57:13.179Z"
   },
   {
    "duration": 577,
    "start_time": "2021-12-28T08:57:13.634Z"
   },
   {
    "duration": 51,
    "start_time": "2021-12-28T08:57:14.214Z"
   },
   {
    "duration": 22,
    "start_time": "2021-12-28T08:57:14.268Z"
   },
   {
    "duration": 28,
    "start_time": "2021-12-28T08:57:14.293Z"
   },
   {
    "duration": 57,
    "start_time": "2021-12-28T08:57:14.323Z"
   },
   {
    "duration": 22,
    "start_time": "2021-12-28T08:57:14.382Z"
   },
   {
    "duration": 79,
    "start_time": "2021-12-28T08:57:14.406Z"
   },
   {
    "duration": 6,
    "start_time": "2021-12-28T08:57:14.487Z"
   },
   {
    "duration": 69,
    "start_time": "2021-12-28T08:57:14.495Z"
   },
   {
    "duration": 26,
    "start_time": "2021-12-28T08:57:14.566Z"
   },
   {
    "duration": 15,
    "start_time": "2021-12-28T08:57:14.594Z"
   },
   {
    "duration": 493,
    "start_time": "2021-12-28T08:57:14.611Z"
   },
   {
    "duration": 21,
    "start_time": "2021-12-28T08:57:15.106Z"
   },
   {
    "duration": 34,
    "start_time": "2021-12-28T08:57:15.129Z"
   },
   {
    "duration": 1119,
    "start_time": "2021-12-28T08:57:15.165Z"
   },
   {
    "duration": 5404,
    "start_time": "2021-12-28T08:57:16.292Z"
   },
   {
    "duration": 331,
    "start_time": "2021-12-28T08:57:21.701Z"
   },
   {
    "duration": 36,
    "start_time": "2021-12-28T08:57:22.035Z"
   },
   {
    "duration": 8328,
    "start_time": "2021-12-28T08:57:22.073Z"
   },
   {
    "duration": 27,
    "start_time": "2021-12-28T08:57:30.404Z"
   },
   {
    "duration": 31,
    "start_time": "2021-12-28T08:57:30.434Z"
   },
   {
    "duration": 27,
    "start_time": "2021-12-28T08:57:30.469Z"
   },
   {
    "duration": 18,
    "start_time": "2021-12-28T08:57:30.499Z"
   },
   {
    "duration": 53,
    "start_time": "2021-12-28T08:57:30.520Z"
   },
   {
    "duration": 19,
    "start_time": "2021-12-28T08:57:30.576Z"
   },
   {
    "duration": 11,
    "start_time": "2021-12-28T08:57:30.597Z"
   },
   {
    "duration": 283,
    "start_time": "2021-12-28T08:57:30.610Z"
   },
   {
    "duration": 4,
    "start_time": "2021-12-28T08:57:30.897Z"
   },
   {
    "duration": 8,
    "start_time": "2021-12-28T08:57:30.903Z"
   },
   {
    "duration": 62,
    "start_time": "2021-12-28T08:57:30.913Z"
   },
   {
    "duration": 112,
    "start_time": "2021-12-28T08:57:30.978Z"
   },
   {
    "duration": 10,
    "start_time": "2021-12-28T08:57:31.092Z"
   },
   {
    "duration": 19,
    "start_time": "2021-12-28T08:57:31.104Z"
   },
   {
    "duration": 13,
    "start_time": "2021-12-28T08:57:31.126Z"
   },
   {
    "duration": 23,
    "start_time": "2021-12-28T08:57:31.141Z"
   },
   {
    "duration": 16,
    "start_time": "2021-12-28T08:57:31.167Z"
   },
   {
    "duration": 859,
    "start_time": "2021-12-28T08:57:31.186Z"
   },
   {
    "duration": 31,
    "start_time": "2021-12-28T08:57:32.047Z"
   },
   {
    "duration": 15,
    "start_time": "2021-12-28T08:57:32.081Z"
   },
   {
    "duration": 29,
    "start_time": "2021-12-28T08:57:32.098Z"
   },
   {
    "duration": 151,
    "start_time": "2021-12-28T08:57:32.130Z"
   },
   {
    "duration": 359,
    "start_time": "2021-12-28T08:57:32.284Z"
   },
   {
    "duration": 19,
    "start_time": "2021-12-28T08:57:32.646Z"
   },
   {
    "duration": 5,
    "start_time": "2021-12-28T08:57:32.667Z"
   },
   {
    "duration": 179,
    "start_time": "2021-12-28T08:57:32.675Z"
   },
   {
    "duration": 28,
    "start_time": "2021-12-28T08:57:32.857Z"
   },
   {
    "duration": 294,
    "start_time": "2021-12-28T08:57:32.888Z"
   },
   {
    "duration": 25,
    "start_time": "2021-12-28T08:57:33.186Z"
   },
   {
    "duration": 6,
    "start_time": "2021-12-28T08:57:33.214Z"
   },
   {
    "duration": 41,
    "start_time": "2021-12-28T08:57:33.223Z"
   },
   {
    "duration": 11,
    "start_time": "2021-12-28T08:57:33.267Z"
   },
   {
    "duration": 17,
    "start_time": "2021-12-28T08:57:33.281Z"
   },
   {
    "duration": 18,
    "start_time": "2021-12-28T08:57:33.301Z"
   },
   {
    "duration": 47,
    "start_time": "2021-12-28T08:57:33.321Z"
   },
   {
    "duration": 8,
    "start_time": "2021-12-28T08:57:33.370Z"
   },
   {
    "duration": 13,
    "start_time": "2021-12-28T08:57:33.380Z"
   },
   {
    "duration": 73,
    "start_time": "2021-12-28T08:57:33.395Z"
   },
   {
    "duration": 17,
    "start_time": "2021-12-28T09:06:18.121Z"
   },
   {
    "duration": 5,
    "start_time": "2021-12-28T09:11:40.952Z"
   },
   {
    "duration": 6,
    "start_time": "2021-12-28T09:11:48.154Z"
   },
   {
    "duration": 6,
    "start_time": "2021-12-28T09:12:08.253Z"
   },
   {
    "duration": 6,
    "start_time": "2021-12-28T09:12:11.918Z"
   },
   {
    "duration": 6,
    "start_time": "2021-12-28T09:12:17.466Z"
   },
   {
    "duration": 7,
    "start_time": "2021-12-28T09:12:23.691Z"
   },
   {
    "duration": 12,
    "start_time": "2021-12-28T09:24:18.227Z"
   },
   {
    "duration": 26,
    "start_time": "2021-12-28T09:24:26.780Z"
   },
   {
    "duration": 25,
    "start_time": "2021-12-28T09:25:40.766Z"
   },
   {
    "duration": 5,
    "start_time": "2021-12-28T09:40:48.933Z"
   },
   {
    "duration": 91,
    "start_time": "2021-12-28T09:43:09.012Z"
   },
   {
    "duration": 78,
    "start_time": "2021-12-28T09:43:13.356Z"
   },
   {
    "duration": 8230,
    "start_time": "2021-12-28T09:44:01.637Z"
   },
   {
    "duration": 13198,
    "start_time": "2021-12-28T09:43:56.673Z"
   },
   {
    "duration": 87,
    "start_time": "2021-12-28T09:44:22.776Z"
   },
   {
    "duration": 90,
    "start_time": "2021-12-28T09:44:31.632Z"
   },
   {
    "duration": 77,
    "start_time": "2021-12-28T09:48:01.351Z"
   },
   {
    "duration": 27,
    "start_time": "2021-12-28T09:48:02.977Z"
   },
   {
    "duration": 294,
    "start_time": "2021-12-28T09:48:09.342Z"
   },
   {
    "duration": 81,
    "start_time": "2021-12-28T09:48:34.164Z"
   },
   {
    "duration": 286,
    "start_time": "2021-12-28T09:48:34.892Z"
   },
   {
    "duration": 19,
    "start_time": "2021-12-28T09:49:44.838Z"
   },
   {
    "duration": 1539,
    "start_time": "2021-12-28T09:58:09.596Z"
   },
   {
    "duration": 103,
    "start_time": "2021-12-28T09:58:11.137Z"
   },
   {
    "duration": 20,
    "start_time": "2021-12-28T09:58:11.242Z"
   },
   {
    "duration": 7,
    "start_time": "2021-12-28T09:58:11.265Z"
   },
   {
    "duration": 10,
    "start_time": "2021-12-28T09:58:11.274Z"
   },
   {
    "duration": 305,
    "start_time": "2021-12-28T09:58:11.287Z"
   },
   {
    "duration": 456,
    "start_time": "2021-12-28T09:58:11.595Z"
   },
   {
    "duration": 591,
    "start_time": "2021-12-28T09:58:12.057Z"
   },
   {
    "duration": 37,
    "start_time": "2021-12-28T09:58:12.651Z"
   },
   {
    "duration": 22,
    "start_time": "2021-12-28T09:58:12.690Z"
   },
   {
    "duration": 61,
    "start_time": "2021-12-28T09:58:12.715Z"
   },
   {
    "duration": 30,
    "start_time": "2021-12-28T09:58:12.779Z"
   },
   {
    "duration": 18,
    "start_time": "2021-12-28T09:58:12.812Z"
   },
   {
    "duration": 81,
    "start_time": "2021-12-28T09:58:12.832Z"
   },
   {
    "duration": 5,
    "start_time": "2021-12-28T09:58:12.916Z"
   },
   {
    "duration": 65,
    "start_time": "2021-12-28T09:58:12.923Z"
   },
   {
    "duration": 28,
    "start_time": "2021-12-28T09:58:12.990Z"
   },
   {
    "duration": 43,
    "start_time": "2021-12-28T09:58:13.020Z"
   },
   {
    "duration": 477,
    "start_time": "2021-12-28T09:58:13.066Z"
   },
   {
    "duration": 30,
    "start_time": "2021-12-28T09:58:13.545Z"
   },
   {
    "duration": 8,
    "start_time": "2021-12-28T09:58:13.577Z"
   },
   {
    "duration": 1160,
    "start_time": "2021-12-28T09:58:13.587Z"
   },
   {
    "duration": 5459,
    "start_time": "2021-12-28T09:58:14.755Z"
   },
   {
    "duration": 319,
    "start_time": "2021-12-28T09:58:20.218Z"
   },
   {
    "duration": 36,
    "start_time": "2021-12-28T09:58:20.540Z"
   },
   {
    "duration": 7771,
    "start_time": "2021-12-28T09:58:20.579Z"
   },
   {
    "duration": 30,
    "start_time": "2021-12-28T09:58:28.352Z"
   },
   {
    "duration": 9,
    "start_time": "2021-12-28T09:58:28.385Z"
   },
   {
    "duration": 32,
    "start_time": "2021-12-28T09:58:28.396Z"
   },
   {
    "duration": 43,
    "start_time": "2021-12-28T09:58:28.430Z"
   },
   {
    "duration": 21,
    "start_time": "2021-12-28T09:58:28.476Z"
   },
   {
    "duration": 22,
    "start_time": "2021-12-28T09:58:28.500Z"
   },
   {
    "duration": 6,
    "start_time": "2021-12-28T09:58:28.562Z"
   },
   {
    "duration": 331,
    "start_time": "2021-12-28T09:58:28.571Z"
   },
   {
    "duration": 6,
    "start_time": "2021-12-28T09:58:28.906Z"
   },
   {
    "duration": 8,
    "start_time": "2021-12-28T09:58:28.914Z"
   },
   {
    "duration": 68,
    "start_time": "2021-12-28T09:58:28.924Z"
   },
   {
    "duration": 119,
    "start_time": "2021-12-28T09:58:28.994Z"
   },
   {
    "duration": 10,
    "start_time": "2021-12-28T09:58:29.115Z"
   },
   {
    "duration": 44,
    "start_time": "2021-12-28T09:58:29.127Z"
   },
   {
    "duration": 5,
    "start_time": "2021-12-28T09:58:29.174Z"
   },
   {
    "duration": 9,
    "start_time": "2021-12-28T09:58:29.182Z"
   },
   {
    "duration": 20,
    "start_time": "2021-12-28T09:58:29.194Z"
   },
   {
    "duration": 55,
    "start_time": "2021-12-28T09:58:29.218Z"
   },
   {
    "duration": 936,
    "start_time": "2021-12-28T09:58:29.277Z"
   },
   {
    "duration": 25,
    "start_time": "2021-12-28T09:58:30.216Z"
   },
   {
    "duration": 16,
    "start_time": "2021-12-28T09:58:30.264Z"
   },
   {
    "duration": 34,
    "start_time": "2021-12-28T09:58:30.283Z"
   },
   {
    "duration": 154,
    "start_time": "2021-12-28T09:58:30.319Z"
   },
   {
    "duration": 341,
    "start_time": "2021-12-28T09:58:30.475Z"
   },
   {
    "duration": 10,
    "start_time": "2021-12-28T09:58:30.819Z"
   },
   {
    "duration": 25,
    "start_time": "2021-12-28T09:58:30.832Z"
   },
   {
    "duration": 135,
    "start_time": "2021-12-28T09:58:30.859Z"
   },
   {
    "duration": 32,
    "start_time": "2021-12-28T09:58:30.996Z"
   },
   {
    "duration": 295,
    "start_time": "2021-12-28T09:58:31.030Z"
   },
   {
    "duration": 37,
    "start_time": "2021-12-28T09:58:31.328Z"
   },
   {
    "duration": 4,
    "start_time": "2021-12-28T09:58:31.368Z"
   },
   {
    "duration": 12,
    "start_time": "2021-12-28T09:58:31.375Z"
   },
   {
    "duration": 22,
    "start_time": "2021-12-28T09:58:31.390Z"
   },
   {
    "duration": 48,
    "start_time": "2021-12-28T09:58:31.415Z"
   },
   {
    "duration": 18,
    "start_time": "2021-12-28T09:58:31.466Z"
   },
   {
    "duration": 11,
    "start_time": "2021-12-28T09:58:31.487Z"
   },
   {
    "duration": 13,
    "start_time": "2021-12-28T09:58:31.501Z"
   },
   {
    "duration": 16,
    "start_time": "2021-12-28T09:58:31.516Z"
   },
   {
    "duration": 60,
    "start_time": "2021-12-28T09:58:31.534Z"
   },
   {
    "duration": 354,
    "start_time": "2021-12-28T11:14:52.509Z"
   },
   {
    "duration": 1320,
    "start_time": "2021-12-28T11:15:53.311Z"
   },
   {
    "duration": 101,
    "start_time": "2021-12-28T11:15:56.719Z"
   },
   {
    "duration": 15,
    "start_time": "2021-12-28T11:15:58.529Z"
   },
   {
    "duration": 4,
    "start_time": "2021-12-28T11:16:00.780Z"
   },
   {
    "duration": 7,
    "start_time": "2021-12-28T11:16:01.844Z"
   },
   {
    "duration": 6,
    "start_time": "2021-12-28T11:16:03.939Z"
   },
   {
    "duration": 451,
    "start_time": "2021-12-28T11:19:56.126Z"
   },
   {
    "duration": 362,
    "start_time": "2021-12-28T11:20:12.354Z"
   },
   {
    "duration": 347,
    "start_time": "2021-12-28T11:21:00.739Z"
   },
   {
    "duration": 429,
    "start_time": "2021-12-28T11:22:22.517Z"
   },
   {
    "duration": 404,
    "start_time": "2021-12-28T11:37:10.539Z"
   },
   {
    "duration": 348,
    "start_time": "2021-12-28T11:37:27.331Z"
   },
   {
    "duration": 499,
    "start_time": "2021-12-28T11:38:01.972Z"
   },
   {
    "duration": 5,
    "start_time": "2021-12-28T11:38:42.449Z"
   },
   {
    "duration": 384,
    "start_time": "2021-12-28T11:38:58.874Z"
   },
   {
    "duration": 312,
    "start_time": "2021-12-28T11:49:33.876Z"
   },
   {
    "duration": 2808,
    "start_time": "2021-12-28T11:50:22.736Z"
   },
   {
    "duration": 483,
    "start_time": "2021-12-28T11:51:23.125Z"
   },
   {
    "duration": 521,
    "start_time": "2021-12-28T11:51:51.007Z"
   },
   {
    "duration": 328,
    "start_time": "2021-12-28T11:52:06.469Z"
   },
   {
    "duration": 114,
    "start_time": "2021-12-28T11:52:28.267Z"
   },
   {
    "duration": 15,
    "start_time": "2021-12-28T11:52:33.526Z"
   },
   {
    "duration": 461,
    "start_time": "2021-12-28T11:53:13.408Z"
   },
   {
    "duration": 110,
    "start_time": "2021-12-28T11:53:49.316Z"
   },
   {
    "duration": 525,
    "start_time": "2021-12-28T11:53:53.636Z"
   },
   {
    "duration": 51,
    "start_time": "2021-12-28T11:54:04.222Z"
   },
   {
    "duration": 14,
    "start_time": "2021-12-28T11:54:13.944Z"
   },
   {
    "duration": 8,
    "start_time": "2021-12-28T11:57:42.458Z"
   },
   {
    "duration": 15,
    "start_time": "2021-12-28T11:57:49.835Z"
   },
   {
    "duration": 298,
    "start_time": "2021-12-28T11:59:28.548Z"
   },
   {
    "duration": 366,
    "start_time": "2021-12-28T11:59:41.032Z"
   },
   {
    "duration": 101,
    "start_time": "2021-12-28T12:00:21.665Z"
   },
   {
    "duration": 380,
    "start_time": "2021-12-28T12:00:26.549Z"
   },
   {
    "duration": 378,
    "start_time": "2021-12-28T12:03:42.500Z"
   },
   {
    "duration": 23,
    "start_time": "2021-12-28T12:06:14.974Z"
   },
   {
    "duration": 53,
    "start_time": "2021-12-28T12:06:28.552Z"
   },
   {
    "duration": 51,
    "start_time": "2021-12-28T12:07:09.474Z"
   },
   {
    "duration": 21,
    "start_time": "2021-12-28T12:08:15.672Z"
   },
   {
    "duration": 15,
    "start_time": "2021-12-28T12:08:50.396Z"
   },
   {
    "duration": 112,
    "start_time": "2021-12-28T12:09:20.817Z"
   },
   {
    "duration": 376,
    "start_time": "2021-12-28T12:09:24.901Z"
   },
   {
    "duration": 20,
    "start_time": "2021-12-28T12:09:45.779Z"
   },
   {
    "duration": 429,
    "start_time": "2021-12-28T12:10:30.531Z"
   },
   {
    "duration": 410,
    "start_time": "2021-12-28T12:11:01.860Z"
   },
   {
    "duration": 12,
    "start_time": "2021-12-28T12:12:17.833Z"
   },
   {
    "duration": 14,
    "start_time": "2021-12-28T12:12:44.845Z"
   },
   {
    "duration": 105,
    "start_time": "2021-12-28T12:13:07.340Z"
   },
   {
    "duration": 562,
    "start_time": "2021-12-28T12:13:17.772Z"
   },
   {
    "duration": 616,
    "start_time": "2021-12-28T12:13:41.143Z"
   },
   {
    "duration": 316,
    "start_time": "2021-12-28T12:15:53.443Z"
   },
   {
    "duration": 383,
    "start_time": "2021-12-28T12:16:07.211Z"
   },
   {
    "duration": 395,
    "start_time": "2021-12-28T12:17:05.517Z"
   },
   {
    "duration": 373,
    "start_time": "2021-12-28T12:17:23.424Z"
   },
   {
    "duration": 301,
    "start_time": "2021-12-28T12:18:11.771Z"
   },
   {
    "duration": 389,
    "start_time": "2021-12-28T12:18:50.111Z"
   },
   {
    "duration": 297,
    "start_time": "2021-12-28T12:19:14.298Z"
   },
   {
    "duration": 478,
    "start_time": "2021-12-28T12:20:00.437Z"
   },
   {
    "duration": 386,
    "start_time": "2021-12-28T12:20:25.882Z"
   },
   {
    "duration": 394,
    "start_time": "2021-12-28T12:20:34.926Z"
   },
   {
    "duration": 410,
    "start_time": "2021-12-28T12:21:54.115Z"
   },
   {
    "duration": 298,
    "start_time": "2021-12-28T12:23:17.338Z"
   },
   {
    "duration": 387,
    "start_time": "2021-12-28T12:24:14.212Z"
   },
   {
    "duration": 376,
    "start_time": "2021-12-28T12:24:46.117Z"
   },
   {
    "duration": 303,
    "start_time": "2021-12-28T12:31:45.346Z"
   },
   {
    "duration": 348,
    "start_time": "2021-12-28T12:34:13.373Z"
   },
   {
    "duration": 215,
    "start_time": "2021-12-28T12:44:49.066Z"
   },
   {
    "duration": 436,
    "start_time": "2021-12-28T12:44:58.609Z"
   },
   {
    "duration": 2013,
    "start_time": "2021-12-28T12:46:35.372Z"
   },
   {
    "duration": 487,
    "start_time": "2021-12-28T12:47:50.011Z"
   },
   {
    "duration": 13,
    "start_time": "2021-12-28T12:48:06.846Z"
   },
   {
    "duration": 20,
    "start_time": "2021-12-28T12:48:30.405Z"
   },
   {
    "duration": 15,
    "start_time": "2021-12-28T12:48:32.669Z"
   },
   {
    "duration": 18,
    "start_time": "2021-12-28T12:48:33.600Z"
   },
   {
    "duration": 14,
    "start_time": "2021-12-28T12:48:35.752Z"
   },
   {
    "duration": 12,
    "start_time": "2021-12-28T12:48:39.028Z"
   },
   {
    "duration": 33,
    "start_time": "2021-12-28T12:48:40.736Z"
   },
   {
    "duration": 4,
    "start_time": "2021-12-28T12:48:42.511Z"
   },
   {
    "duration": 24,
    "start_time": "2021-12-28T12:48:44.249Z"
   },
   {
    "duration": 20,
    "start_time": "2021-12-28T12:48:46.006Z"
   },
   {
    "duration": 9,
    "start_time": "2021-12-28T12:48:46.858Z"
   },
   {
    "duration": 11,
    "start_time": "2021-12-28T12:48:49.498Z"
   },
   {
    "duration": 371,
    "start_time": "2021-12-28T12:48:54.769Z"
   },
   {
    "duration": 469,
    "start_time": "2021-12-28T12:49:04.976Z"
   },
   {
    "duration": 1075,
    "start_time": "2021-12-28T12:51:51.087Z"
   },
   {
    "duration": 79,
    "start_time": "2021-12-28T12:51:52.164Z"
   },
   {
    "duration": 13,
    "start_time": "2021-12-28T12:51:52.245Z"
   },
   {
    "duration": 10,
    "start_time": "2021-12-28T12:51:52.259Z"
   },
   {
    "duration": 10,
    "start_time": "2021-12-28T12:51:52.271Z"
   },
   {
    "duration": 7,
    "start_time": "2021-12-28T12:51:52.283Z"
   },
   {
    "duration": 166,
    "start_time": "2021-12-28T12:51:52.292Z"
   },
   {
    "duration": 351,
    "start_time": "2021-12-28T12:51:52.460Z"
   },
   {
    "duration": 327,
    "start_time": "2021-12-28T12:51:52.813Z"
   },
   {
    "duration": 394,
    "start_time": "2021-12-28T12:51:53.141Z"
   },
   {
    "duration": 20,
    "start_time": "2021-12-28T12:51:53.537Z"
   },
   {
    "duration": 13,
    "start_time": "2021-12-28T12:51:53.559Z"
   },
   {
    "duration": 17,
    "start_time": "2021-12-28T12:51:53.573Z"
   },
   {
    "duration": 38,
    "start_time": "2021-12-28T12:51:53.591Z"
   },
   {
    "duration": 11,
    "start_time": "2021-12-28T12:51:53.631Z"
   },
   {
    "duration": 33,
    "start_time": "2021-12-28T12:51:53.643Z"
   },
   {
    "duration": 5,
    "start_time": "2021-12-28T12:51:53.678Z"
   },
   {
    "duration": 56,
    "start_time": "2021-12-28T12:51:53.684Z"
   },
   {
    "duration": 16,
    "start_time": "2021-12-28T12:51:53.742Z"
   },
   {
    "duration": 10,
    "start_time": "2021-12-28T12:51:53.759Z"
   },
   {
    "duration": 476,
    "start_time": "2021-12-28T12:51:53.770Z"
   },
   {
    "duration": 15,
    "start_time": "2021-12-28T12:51:54.247Z"
   },
   {
    "duration": 6,
    "start_time": "2021-12-28T12:51:54.265Z"
   },
   {
    "duration": 744,
    "start_time": "2021-12-28T12:51:54.274Z"
   },
   {
    "duration": 3015,
    "start_time": "2021-12-28T12:51:55.020Z"
   },
   {
    "duration": 194,
    "start_time": "2021-12-28T12:51:58.037Z"
   },
   {
    "duration": 26,
    "start_time": "2021-12-28T12:51:58.236Z"
   },
   {
    "duration": 4251,
    "start_time": "2021-12-28T12:51:58.264Z"
   },
   {
    "duration": 22,
    "start_time": "2021-12-28T12:52:02.516Z"
   },
   {
    "duration": 6,
    "start_time": "2021-12-28T12:52:02.540Z"
   },
   {
    "duration": 15,
    "start_time": "2021-12-28T12:52:02.548Z"
   },
   {
    "duration": 12,
    "start_time": "2021-12-28T12:52:02.564Z"
   },
   {
    "duration": 13,
    "start_time": "2021-12-28T12:52:02.577Z"
   },
   {
    "duration": 39,
    "start_time": "2021-12-28T12:52:02.591Z"
   },
   {
    "duration": 3,
    "start_time": "2021-12-28T12:52:02.632Z"
   },
   {
    "duration": 144,
    "start_time": "2021-12-28T12:52:02.637Z"
   },
   {
    "duration": 3,
    "start_time": "2021-12-28T12:52:02.783Z"
   },
   {
    "duration": 7,
    "start_time": "2021-12-28T12:52:02.787Z"
   },
   {
    "duration": 36,
    "start_time": "2021-12-28T12:52:02.796Z"
   },
   {
    "duration": 51,
    "start_time": "2021-12-28T12:52:02.833Z"
   },
   {
    "duration": 6,
    "start_time": "2021-12-28T12:52:02.886Z"
   },
   {
    "duration": 12,
    "start_time": "2021-12-28T12:52:02.893Z"
   },
   {
    "duration": 6,
    "start_time": "2021-12-28T12:52:02.907Z"
   },
   {
    "duration": 4,
    "start_time": "2021-12-28T12:52:02.927Z"
   },
   {
    "duration": 18,
    "start_time": "2021-12-28T12:52:02.932Z"
   },
   {
    "duration": 20,
    "start_time": "2021-12-28T12:52:02.951Z"
   },
   {
    "duration": 448,
    "start_time": "2021-12-28T12:52:02.973Z"
   },
   {
    "duration": 14,
    "start_time": "2021-12-28T12:52:03.427Z"
   },
   {
    "duration": 9,
    "start_time": "2021-12-28T12:52:03.443Z"
   },
   {
    "duration": 18,
    "start_time": "2021-12-28T12:52:03.454Z"
   },
   {
    "duration": 87,
    "start_time": "2021-12-28T12:52:03.473Z"
   },
   {
    "duration": 152,
    "start_time": "2021-12-28T12:52:03.562Z"
   },
   {
    "duration": 14,
    "start_time": "2021-12-28T12:52:03.716Z"
   },
   {
    "duration": 12,
    "start_time": "2021-12-28T12:52:03.732Z"
   },
   {
    "duration": 79,
    "start_time": "2021-12-28T12:52:03.746Z"
   },
   {
    "duration": 16,
    "start_time": "2021-12-28T12:52:03.827Z"
   },
   {
    "duration": 158,
    "start_time": "2021-12-28T12:52:03.844Z"
   },
   {
    "duration": 24,
    "start_time": "2021-12-28T12:52:04.004Z"
   },
   {
    "duration": 3,
    "start_time": "2021-12-28T12:52:04.029Z"
   },
   {
    "duration": 8,
    "start_time": "2021-12-28T12:52:04.033Z"
   },
   {
    "duration": 11,
    "start_time": "2021-12-28T12:52:04.042Z"
   },
   {
    "duration": 11,
    "start_time": "2021-12-28T12:52:04.055Z"
   },
   {
    "duration": 11,
    "start_time": "2021-12-28T12:52:04.068Z"
   },
   {
    "duration": 5,
    "start_time": "2021-12-28T12:52:04.080Z"
   },
   {
    "duration": 5,
    "start_time": "2021-12-28T12:52:04.087Z"
   },
   {
    "duration": 37,
    "start_time": "2021-12-28T12:52:04.093Z"
   },
   {
    "duration": 20,
    "start_time": "2021-12-28T12:52:04.132Z"
   },
   {
    "duration": 16,
    "start_time": "2021-12-28T12:53:39.055Z"
   },
   {
    "duration": 14,
    "start_time": "2021-12-28T13:10:08.948Z"
   },
   {
    "duration": 783,
    "start_time": "2021-12-28T13:12:44.264Z"
   },
   {
    "duration": 1027,
    "start_time": "2021-12-28T13:13:14.384Z"
   },
   {
    "duration": 849,
    "start_time": "2021-12-28T13:13:45.221Z"
   },
   {
    "duration": 11,
    "start_time": "2021-12-28T13:15:50.566Z"
   },
   {
    "duration": 1221,
    "start_time": "2021-12-28T13:16:28.845Z"
   },
   {
    "duration": 1146,
    "start_time": "2021-12-28T13:16:56.134Z"
   },
   {
    "duration": 941,
    "start_time": "2021-12-28T13:17:05.864Z"
   },
   {
    "duration": 946,
    "start_time": "2021-12-28T13:18:31.860Z"
   },
   {
    "duration": 938,
    "start_time": "2021-12-28T13:18:41.636Z"
   },
   {
    "duration": 827,
    "start_time": "2021-12-28T13:23:37.377Z"
   },
   {
    "duration": 754,
    "start_time": "2021-12-28T13:23:59.302Z"
   },
   {
    "duration": 10,
    "start_time": "2021-12-28T13:24:20.151Z"
   },
   {
    "duration": 1727,
    "start_time": "2021-12-28T16:23:02.954Z"
   },
   {
    "duration": 170,
    "start_time": "2021-12-28T16:23:04.684Z"
   },
   {
    "duration": 27,
    "start_time": "2021-12-28T16:23:04.857Z"
   },
   {
    "duration": 7,
    "start_time": "2021-12-28T16:23:04.887Z"
   },
   {
    "duration": 10,
    "start_time": "2021-12-28T16:23:04.897Z"
   },
   {
    "duration": 8,
    "start_time": "2021-12-28T16:23:04.910Z"
   },
   {
    "duration": 316,
    "start_time": "2021-12-28T16:23:04.921Z"
   },
   {
    "duration": 665,
    "start_time": "2021-12-28T16:23:05.241Z"
   },
   {
    "duration": 628,
    "start_time": "2021-12-28T16:23:05.910Z"
   },
   {
    "duration": 620,
    "start_time": "2021-12-28T16:23:06.543Z"
   },
   {
    "duration": 37,
    "start_time": "2021-12-28T16:23:07.166Z"
   },
   {
    "duration": 63,
    "start_time": "2021-12-28T16:23:07.206Z"
   },
   {
    "duration": 31,
    "start_time": "2021-12-28T16:23:07.272Z"
   },
   {
    "duration": 25,
    "start_time": "2021-12-28T16:23:07.305Z"
   },
   {
    "duration": 51,
    "start_time": "2021-12-28T16:23:07.333Z"
   },
   {
    "duration": 78,
    "start_time": "2021-12-28T16:23:07.387Z"
   },
   {
    "duration": 8,
    "start_time": "2021-12-28T16:23:07.467Z"
   },
   {
    "duration": 87,
    "start_time": "2021-12-28T16:23:07.478Z"
   },
   {
    "duration": 33,
    "start_time": "2021-12-28T16:23:07.568Z"
   },
   {
    "duration": 15,
    "start_time": "2021-12-28T16:23:07.603Z"
   },
   {
    "duration": 858,
    "start_time": "2021-12-28T16:23:07.621Z"
   },
   {
    "duration": 20,
    "start_time": "2021-12-28T16:23:08.481Z"
   },
   {
    "duration": 9,
    "start_time": "2021-12-28T16:23:08.508Z"
   },
   {
    "duration": 1207,
    "start_time": "2021-12-28T16:23:08.523Z"
   },
   {
    "duration": 33,
    "start_time": "2021-12-28T16:23:09.733Z"
   },
   {
    "duration": 447,
    "start_time": "2021-12-28T16:23:09.769Z"
   },
   {
    "duration": -1382,
    "start_time": "2021-12-28T16:23:11.601Z"
   },
   {
    "duration": -1390,
    "start_time": "2021-12-28T16:23:11.611Z"
   },
   {
    "duration": -1394,
    "start_time": "2021-12-28T16:23:11.617Z"
   },
   {
    "duration": -1401,
    "start_time": "2021-12-28T16:23:11.626Z"
   },
   {
    "duration": -1405,
    "start_time": "2021-12-28T16:23:11.632Z"
   },
   {
    "duration": -1411,
    "start_time": "2021-12-28T16:23:11.640Z"
   },
   {
    "duration": -1418,
    "start_time": "2021-12-28T16:23:11.649Z"
   },
   {
    "duration": -1424,
    "start_time": "2021-12-28T16:23:11.657Z"
   },
   {
    "duration": -1429,
    "start_time": "2021-12-28T16:23:11.664Z"
   },
   {
    "duration": -1434,
    "start_time": "2021-12-28T16:23:11.671Z"
   },
   {
    "duration": -1438,
    "start_time": "2021-12-28T16:23:11.677Z"
   },
   {
    "duration": -1442,
    "start_time": "2021-12-28T16:23:11.684Z"
   },
   {
    "duration": -1448,
    "start_time": "2021-12-28T16:23:11.692Z"
   },
   {
    "duration": -1450,
    "start_time": "2021-12-28T16:23:11.697Z"
   },
   {
    "duration": -1457,
    "start_time": "2021-12-28T16:23:11.706Z"
   },
   {
    "duration": -1460,
    "start_time": "2021-12-28T16:23:11.711Z"
   },
   {
    "duration": -1465,
    "start_time": "2021-12-28T16:23:11.718Z"
   },
   {
    "duration": -1470,
    "start_time": "2021-12-28T16:23:11.725Z"
   },
   {
    "duration": -1468,
    "start_time": "2021-12-28T16:23:11.731Z"
   },
   {
    "duration": -1473,
    "start_time": "2021-12-28T16:23:11.738Z"
   },
   {
    "duration": -1478,
    "start_time": "2021-12-28T16:23:11.744Z"
   },
   {
    "duration": -1480,
    "start_time": "2021-12-28T16:23:11.749Z"
   },
   {
    "duration": -1486,
    "start_time": "2021-12-28T16:23:11.757Z"
   },
   {
    "duration": -1486,
    "start_time": "2021-12-28T16:23:11.762Z"
   },
   {
    "duration": -1492,
    "start_time": "2021-12-28T16:23:11.770Z"
   },
   {
    "duration": -1497,
    "start_time": "2021-12-28T16:23:11.776Z"
   },
   {
    "duration": -1503,
    "start_time": "2021-12-28T16:23:11.784Z"
   },
   {
    "duration": -1511,
    "start_time": "2021-12-28T16:23:11.793Z"
   },
   {
    "duration": -1516,
    "start_time": "2021-12-28T16:23:11.800Z"
   },
   {
    "duration": -1553,
    "start_time": "2021-12-28T16:23:11.839Z"
   },
   {
    "duration": -1560,
    "start_time": "2021-12-28T16:23:11.847Z"
   },
   {
    "duration": -1567,
    "start_time": "2021-12-28T16:23:11.856Z"
   },
   {
    "duration": -1574,
    "start_time": "2021-12-28T16:23:11.865Z"
   },
   {
    "duration": -1579,
    "start_time": "2021-12-28T16:23:11.873Z"
   },
   {
    "duration": -1584,
    "start_time": "2021-12-28T16:23:11.881Z"
   },
   {
    "duration": -1590,
    "start_time": "2021-12-28T16:23:11.889Z"
   },
   {
    "duration": -1598,
    "start_time": "2021-12-28T16:23:11.898Z"
   },
   {
    "duration": -1603,
    "start_time": "2021-12-28T16:23:11.905Z"
   },
   {
    "duration": -1689,
    "start_time": "2021-12-28T16:23:11.993Z"
   },
   {
    "duration": -1710,
    "start_time": "2021-12-28T16:23:12.016Z"
   },
   {
    "duration": -1673,
    "start_time": "2021-12-28T16:23:12.035Z"
   },
   {
    "duration": -1683,
    "start_time": "2021-12-28T16:23:12.047Z"
   },
   {
    "duration": -1693,
    "start_time": "2021-12-28T16:23:12.058Z"
   },
   {
    "duration": 21,
    "start_time": "2021-12-28T16:29:14.406Z"
   },
   {
    "duration": 12,
    "start_time": "2021-12-28T16:29:40.269Z"
   },
   {
    "duration": 305,
    "start_time": "2021-12-28T16:29:52.001Z"
   },
   {
    "duration": 6,
    "start_time": "2021-12-28T16:29:57.993Z"
   },
   {
    "duration": 6,
    "start_time": "2021-12-28T16:30:40.565Z"
   },
   {
    "duration": 5,
    "start_time": "2021-12-28T16:30:54.035Z"
   },
   {
    "duration": 5,
    "start_time": "2021-12-28T16:31:22.925Z"
   },
   {
    "duration": 23,
    "start_time": "2021-12-28T16:31:39.485Z"
   },
   {
    "duration": 6,
    "start_time": "2021-12-28T16:31:56.407Z"
   },
   {
    "duration": 18,
    "start_time": "2021-12-28T16:32:08.555Z"
   },
   {
    "duration": 6,
    "start_time": "2021-12-28T16:32:20.155Z"
   },
   {
    "duration": 317,
    "start_time": "2021-12-28T16:39:08.137Z"
   },
   {
    "duration": 114,
    "start_time": "2021-12-28T16:40:04.649Z"
   },
   {
    "duration": 3323,
    "start_time": "2021-12-28T16:40:56.875Z"
   },
   {
    "duration": 1386,
    "start_time": "2021-12-28T16:41:16.911Z"
   },
   {
    "duration": 7648,
    "start_time": "2021-12-28T16:41:25.066Z"
   },
   {
    "duration": 6196,
    "start_time": "2021-12-28T16:41:54.660Z"
   },
   {
    "duration": 6028,
    "start_time": "2021-12-28T16:42:38.448Z"
   },
   {
    "duration": 8871,
    "start_time": "2021-12-28T16:43:06.242Z"
   },
   {
    "duration": 6490,
    "start_time": "2021-12-28T16:43:53.067Z"
   },
   {
    "duration": 7420,
    "start_time": "2021-12-28T16:44:33.302Z"
   },
   {
    "duration": 5887,
    "start_time": "2021-12-28T16:44:43.676Z"
   },
   {
    "duration": 6262,
    "start_time": "2021-12-28T16:45:05.942Z"
   },
   {
    "duration": 5883,
    "start_time": "2021-12-28T16:45:35.738Z"
   },
   {
    "duration": 6203,
    "start_time": "2021-12-28T16:46:04.349Z"
   },
   {
    "duration": 6157,
    "start_time": "2021-12-28T16:46:54.768Z"
   },
   {
    "duration": 100,
    "start_time": "2021-12-28T16:47:28.569Z"
   },
   {
    "duration": 33,
    "start_time": "2021-12-28T16:47:38.744Z"
   },
   {
    "duration": 40,
    "start_time": "2021-12-28T16:47:55.956Z"
   },
   {
    "duration": 49,
    "start_time": "2021-12-28T16:57:14.361Z"
   },
   {
    "duration": 37,
    "start_time": "2021-12-28T16:57:41.170Z"
   },
   {
    "duration": 3688,
    "start_time": "2021-12-28T16:58:09.152Z"
   },
   {
    "duration": 4322,
    "start_time": "2021-12-28T16:58:45.632Z"
   },
   {
    "duration": 47,
    "start_time": "2021-12-28T16:59:03.612Z"
   },
   {
    "duration": 3768,
    "start_time": "2021-12-28T17:00:18.525Z"
   },
   {
    "duration": 95,
    "start_time": "2021-12-28T17:01:36.249Z"
   },
   {
    "duration": 8256,
    "start_time": "2021-12-28T17:01:44.842Z"
   },
   {
    "duration": 10074,
    "start_time": "2021-12-28T17:03:09.758Z"
   },
   {
    "duration": 10955,
    "start_time": "2021-12-28T17:03:30.909Z"
   },
   {
    "duration": 10330,
    "start_time": "2021-12-28T17:07:58.587Z"
   },
   {
    "duration": 298,
    "start_time": "2021-12-28T17:08:55.304Z"
   },
   {
    "duration": 33,
    "start_time": "2021-12-28T17:09:15.507Z"
   },
   {
    "duration": 14,
    "start_time": "2021-12-28T17:09:44.278Z"
   },
   {
    "duration": 19,
    "start_time": "2021-12-28T17:10:24.602Z"
   },
   {
    "duration": 22,
    "start_time": "2021-12-28T17:10:36.440Z"
   },
   {
    "duration": 21,
    "start_time": "2021-12-28T17:10:47.469Z"
   },
   {
    "duration": 7917,
    "start_time": "2021-12-28T17:14:52.529Z"
   },
   {
    "duration": 31,
    "start_time": "2021-12-28T17:15:24.451Z"
   },
   {
    "duration": 8771,
    "start_time": "2021-12-28T17:18:55.250Z"
   },
   {
    "duration": 13319,
    "start_time": "2021-12-28T17:19:57.102Z"
   },
   {
    "duration": 32,
    "start_time": "2021-12-28T17:20:57.469Z"
   },
   {
    "duration": 28,
    "start_time": "2021-12-28T17:21:06.016Z"
   },
   {
    "duration": 38,
    "start_time": "2021-12-28T17:24:36.782Z"
   },
   {
    "duration": 30,
    "start_time": "2021-12-28T17:26:34.043Z"
   },
   {
    "duration": 36,
    "start_time": "2021-12-28T17:30:16.431Z"
   },
   {
    "duration": 43,
    "start_time": "2021-12-28T17:30:33.854Z"
   },
   {
    "duration": 25,
    "start_time": "2021-12-28T17:31:27.916Z"
   },
   {
    "duration": 28,
    "start_time": "2021-12-28T17:31:38.169Z"
   },
   {
    "duration": 35,
    "start_time": "2021-12-28T17:32:51.299Z"
   },
   {
    "duration": 28,
    "start_time": "2021-12-28T17:35:30.319Z"
   },
   {
    "duration": 21,
    "start_time": "2021-12-28T17:37:00.315Z"
   },
   {
    "duration": 332,
    "start_time": "2021-12-28T17:39:19.019Z"
   },
   {
    "duration": 30,
    "start_time": "2021-12-28T17:39:36.182Z"
   },
   {
    "duration": 46,
    "start_time": "2021-12-28T17:39:53.305Z"
   },
   {
    "duration": 56,
    "start_time": "2021-12-28T17:40:08.511Z"
   },
   {
    "duration": 97,
    "start_time": "2021-12-28T17:40:59.455Z"
   },
   {
    "duration": 97,
    "start_time": "2021-12-28T17:41:24.222Z"
   },
   {
    "duration": 31,
    "start_time": "2021-12-28T17:41:35.252Z"
   },
   {
    "duration": 48,
    "start_time": "2021-12-28T17:42:01.099Z"
   },
   {
    "duration": 22,
    "start_time": "2021-12-28T17:54:15.055Z"
   },
   {
    "duration": 37,
    "start_time": "2021-12-28T17:54:25.944Z"
   },
   {
    "duration": 634,
    "start_time": "2021-12-28T17:58:45.716Z"
   },
   {
    "duration": 16,
    "start_time": "2021-12-28T17:58:52.533Z"
   },
   {
    "duration": 15,
    "start_time": "2021-12-28T17:59:14.205Z"
   },
   {
    "duration": 14,
    "start_time": "2021-12-28T18:00:37.208Z"
   },
   {
    "duration": 14,
    "start_time": "2021-12-28T18:24:03.115Z"
   },
   {
    "duration": 13,
    "start_time": "2021-12-28T18:24:28.287Z"
   },
   {
    "duration": 14,
    "start_time": "2021-12-28T18:26:00.958Z"
   },
   {
    "duration": 14,
    "start_time": "2021-12-28T18:26:19.321Z"
   },
   {
    "duration": 13,
    "start_time": "2021-12-28T18:26:55.217Z"
   },
   {
    "duration": 14,
    "start_time": "2021-12-28T18:28:57.479Z"
   },
   {
    "duration": 15,
    "start_time": "2021-12-28T18:29:03.773Z"
   },
   {
    "duration": 21,
    "start_time": "2021-12-28T18:29:09.067Z"
   },
   {
    "duration": 14,
    "start_time": "2021-12-28T18:29:25.673Z"
   },
   {
    "duration": 14,
    "start_time": "2021-12-28T18:29:32.856Z"
   },
   {
    "duration": 4431,
    "start_time": "2021-12-28T18:59:23.070Z"
   },
   {
    "duration": 10,
    "start_time": "2021-12-28T18:59:43.517Z"
   },
   {
    "duration": 328,
    "start_time": "2021-12-28T19:02:31.075Z"
   },
   {
    "duration": 42,
    "start_time": "2021-12-28T19:02:50.367Z"
   },
   {
    "duration": 39,
    "start_time": "2021-12-28T19:05:24.143Z"
   },
   {
    "duration": 35,
    "start_time": "2021-12-28T19:06:30.041Z"
   },
   {
    "duration": 23,
    "start_time": "2021-12-28T19:06:47.701Z"
   },
   {
    "duration": 326,
    "start_time": "2021-12-28T19:07:02.455Z"
   },
   {
    "duration": 32,
    "start_time": "2021-12-28T19:07:15.163Z"
   },
   {
    "duration": 11,
    "start_time": "2021-12-28T19:08:04.010Z"
   },
   {
    "duration": 331,
    "start_time": "2021-12-28T19:08:21.192Z"
   },
   {
    "duration": 5,
    "start_time": "2021-12-28T19:08:31.333Z"
   },
   {
    "duration": 11,
    "start_time": "2021-12-28T19:11:23.713Z"
   },
   {
    "duration": 12,
    "start_time": "2021-12-28T19:12:04.058Z"
   },
   {
    "duration": 15,
    "start_time": "2021-12-28T19:12:08.215Z"
   },
   {
    "duration": 1525,
    "start_time": "2021-12-28T19:12:50.429Z"
   },
   {
    "duration": 177,
    "start_time": "2021-12-28T19:12:51.957Z"
   },
   {
    "duration": 22,
    "start_time": "2021-12-28T19:12:52.138Z"
   },
   {
    "duration": 13,
    "start_time": "2021-12-28T19:12:52.164Z"
   },
   {
    "duration": 13,
    "start_time": "2021-12-28T19:12:52.182Z"
   },
   {
    "duration": 6,
    "start_time": "2021-12-28T19:12:52.197Z"
   },
   {
    "duration": 312,
    "start_time": "2021-12-28T19:12:52.206Z"
   },
   {
    "duration": 656,
    "start_time": "2021-12-28T19:12:52.522Z"
   },
   {
    "duration": 614,
    "start_time": "2021-12-28T19:12:53.181Z"
   },
   {
    "duration": 613,
    "start_time": "2021-12-28T19:12:53.798Z"
   },
   {
    "duration": 49,
    "start_time": "2021-12-28T19:12:54.413Z"
   },
   {
    "duration": 39,
    "start_time": "2021-12-28T19:12:54.465Z"
   },
   {
    "duration": 37,
    "start_time": "2021-12-28T19:12:54.510Z"
   },
   {
    "duration": 46,
    "start_time": "2021-12-28T19:12:54.549Z"
   },
   {
    "duration": 19,
    "start_time": "2021-12-28T19:12:54.598Z"
   },
   {
    "duration": 88,
    "start_time": "2021-12-28T19:12:54.620Z"
   },
   {
    "duration": 7,
    "start_time": "2021-12-28T19:12:54.711Z"
   },
   {
    "duration": 86,
    "start_time": "2021-12-28T19:12:54.722Z"
   },
   {
    "duration": 27,
    "start_time": "2021-12-28T19:12:54.811Z"
   },
   {
    "duration": 31,
    "start_time": "2021-12-28T19:12:54.840Z"
   },
   {
    "duration": 855,
    "start_time": "2021-12-28T19:12:54.873Z"
   },
   {
    "duration": 34,
    "start_time": "2021-12-28T19:12:55.730Z"
   },
   {
    "duration": 13,
    "start_time": "2021-12-28T19:12:55.772Z"
   },
   {
    "duration": 1205,
    "start_time": "2021-12-28T19:12:55.789Z"
   },
   {
    "duration": 6120,
    "start_time": "2021-12-28T19:12:56.997Z"
   },
   {
    "duration": 333,
    "start_time": "2021-12-28T19:13:03.120Z"
   },
   {
    "duration": 7974,
    "start_time": "2021-12-28T19:13:03.455Z"
   },
   {
    "duration": 18,
    "start_time": "2021-12-28T19:13:11.432Z"
   },
   {
    "duration": 8345,
    "start_time": "2021-12-28T19:13:11.452Z"
   },
   {
    "duration": 24,
    "start_time": "2021-12-28T19:13:19.799Z"
   },
   {
    "duration": 80,
    "start_time": "2021-12-28T19:13:19.825Z"
   },
   {
    "duration": 13,
    "start_time": "2021-12-28T19:13:19.907Z"
   },
   {
    "duration": 13,
    "start_time": "2021-12-28T19:13:19.923Z"
   },
   {
    "duration": 47,
    "start_time": "2021-12-28T19:13:19.938Z"
   },
   {
    "duration": 95,
    "start_time": "2021-12-28T19:13:19.989Z"
   },
   {
    "duration": -112,
    "start_time": "2021-12-28T19:13:20.200Z"
   },
   {
    "duration": -118,
    "start_time": "2021-12-28T19:13:20.208Z"
   },
   {
    "duration": -161,
    "start_time": "2021-12-28T19:13:20.253Z"
   },
   {
    "duration": -165,
    "start_time": "2021-12-28T19:13:20.258Z"
   },
   {
    "duration": -168,
    "start_time": "2021-12-28T19:13:20.263Z"
   },
   {
    "duration": -172,
    "start_time": "2021-12-28T19:13:20.268Z"
   },
   {
    "duration": -177,
    "start_time": "2021-12-28T19:13:20.275Z"
   },
   {
    "duration": -180,
    "start_time": "2021-12-28T19:13:20.280Z"
   },
   {
    "duration": -186,
    "start_time": "2021-12-28T19:13:20.287Z"
   },
   {
    "duration": -209,
    "start_time": "2021-12-28T19:13:20.311Z"
   },
   {
    "duration": -213,
    "start_time": "2021-12-28T19:13:20.317Z"
   },
   {
    "duration": -218,
    "start_time": "2021-12-28T19:13:20.323Z"
   },
   {
    "duration": -222,
    "start_time": "2021-12-28T19:13:20.329Z"
   },
   {
    "duration": -227,
    "start_time": "2021-12-28T19:13:20.335Z"
   },
   {
    "duration": -231,
    "start_time": "2021-12-28T19:13:20.341Z"
   },
   {
    "duration": -234,
    "start_time": "2021-12-28T19:13:20.345Z"
   },
   {
    "duration": -238,
    "start_time": "2021-12-28T19:13:20.351Z"
   },
   {
    "duration": -242,
    "start_time": "2021-12-28T19:13:20.356Z"
   },
   {
    "duration": -246,
    "start_time": "2021-12-28T19:13:20.362Z"
   },
   {
    "duration": -250,
    "start_time": "2021-12-28T19:13:20.367Z"
   },
   {
    "duration": -254,
    "start_time": "2021-12-28T19:13:20.373Z"
   },
   {
    "duration": -258,
    "start_time": "2021-12-28T19:13:20.378Z"
   },
   {
    "duration": -263,
    "start_time": "2021-12-28T19:13:20.384Z"
   },
   {
    "duration": -295,
    "start_time": "2021-12-28T19:13:20.418Z"
   },
   {
    "duration": -300,
    "start_time": "2021-12-28T19:13:20.424Z"
   },
   {
    "duration": -303,
    "start_time": "2021-12-28T19:13:20.429Z"
   },
   {
    "duration": -308,
    "start_time": "2021-12-28T19:13:20.435Z"
   },
   {
    "duration": -313,
    "start_time": "2021-12-28T19:13:20.441Z"
   },
   {
    "duration": -318,
    "start_time": "2021-12-28T19:13:20.447Z"
   },
   {
    "duration": -287,
    "start_time": "2021-12-28T19:13:20.452Z"
   },
   {
    "duration": -292,
    "start_time": "2021-12-28T19:13:20.458Z"
   },
   {
    "duration": -296,
    "start_time": "2021-12-28T19:13:20.463Z"
   },
   {
    "duration": -301,
    "start_time": "2021-12-28T19:13:20.469Z"
   },
   {
    "duration": -306,
    "start_time": "2021-12-28T19:13:20.475Z"
   },
   {
    "duration": -309,
    "start_time": "2021-12-28T19:13:20.482Z"
   },
   {
    "duration": -312,
    "start_time": "2021-12-28T19:13:20.487Z"
   },
   {
    "duration": -316,
    "start_time": "2021-12-28T19:13:20.493Z"
   },
   {
    "duration": 6,
    "start_time": "2021-12-28T19:13:33.571Z"
   },
   {
    "duration": 32,
    "start_time": "2021-12-28T19:13:44.657Z"
   },
   {
    "duration": 34,
    "start_time": "2021-12-28T19:13:46.657Z"
   },
   {
    "duration": 21,
    "start_time": "2021-12-28T19:13:47.887Z"
   },
   {
    "duration": 21,
    "start_time": "2021-12-28T19:13:50.719Z"
   },
   {
    "duration": 7,
    "start_time": "2021-12-28T19:13:51.844Z"
   },
   {
    "duration": 123,
    "start_time": "2021-12-28T19:18:53.085Z"
   },
   {
    "duration": 28,
    "start_time": "2021-12-28T19:19:05.700Z"
   },
   {
    "duration": 59,
    "start_time": "2021-12-28T19:19:23.529Z"
   },
   {
    "duration": 120,
    "start_time": "2021-12-28T19:19:59.294Z"
   },
   {
    "duration": 577,
    "start_time": "2021-12-28T19:20:15.158Z"
   },
   {
    "duration": 623,
    "start_time": "2021-12-28T19:20:34.513Z"
   },
   {
    "duration": 11,
    "start_time": "2021-12-28T19:21:50.847Z"
   },
   {
    "duration": 27,
    "start_time": "2021-12-28T19:22:04.623Z"
   },
   {
    "duration": 27,
    "start_time": "2021-12-28T19:23:54.710Z"
   },
   {
    "duration": 31,
    "start_time": "2021-12-28T19:24:55.720Z"
   },
   {
    "duration": 19,
    "start_time": "2021-12-28T19:25:17.019Z"
   },
   {
    "duration": 22,
    "start_time": "2021-12-28T19:25:22.289Z"
   },
   {
    "duration": 22,
    "start_time": "2021-12-28T19:26:07.191Z"
   },
   {
    "duration": 24,
    "start_time": "2021-12-28T19:26:10.574Z"
   },
   {
    "duration": 23,
    "start_time": "2021-12-28T19:26:15.724Z"
   },
   {
    "duration": 7,
    "start_time": "2021-12-28T19:26:18.056Z"
   },
   {
    "duration": 305,
    "start_time": "2021-12-28T19:26:36.276Z"
   },
   {
    "duration": 10,
    "start_time": "2021-12-28T19:26:54.408Z"
   },
   {
    "duration": 9,
    "start_time": "2021-12-28T19:27:45.164Z"
   },
   {
    "duration": 95,
    "start_time": "2021-12-28T19:28:09.320Z"
   },
   {
    "duration": 5,
    "start_time": "2021-12-28T19:28:16.210Z"
   },
   {
    "duration": 31,
    "start_time": "2021-12-28T19:28:41.164Z"
   },
   {
    "duration": 22,
    "start_time": "2021-12-28T19:30:25.100Z"
   },
   {
    "duration": 29,
    "start_time": "2021-12-28T19:30:26.275Z"
   },
   {
    "duration": 25,
    "start_time": "2021-12-28T19:30:28.342Z"
   },
   {
    "duration": 6,
    "start_time": "2021-12-28T19:30:29.340Z"
   },
   {
    "duration": 434,
    "start_time": "2021-12-28T19:30:32.537Z"
   },
   {
    "duration": 5,
    "start_time": "2021-12-28T19:30:35.003Z"
   },
   {
    "duration": 105,
    "start_time": "2021-12-28T19:30:37.298Z"
   },
   {
    "duration": 9,
    "start_time": "2021-12-28T19:30:49.578Z"
   },
   {
    "duration": 30,
    "start_time": "2021-12-28T19:30:50.650Z"
   },
   {
    "duration": 6,
    "start_time": "2021-12-28T19:31:09.024Z"
   },
   {
    "duration": 13,
    "start_time": "2021-12-28T19:31:19.175Z"
   },
   {
    "duration": 28,
    "start_time": "2021-12-28T19:31:20.975Z"
   },
   {
    "duration": 27,
    "start_time": "2021-12-28T19:31:21.715Z"
   },
   {
    "duration": 29,
    "start_time": "2021-12-28T19:31:22.440Z"
   },
   {
    "duration": 34,
    "start_time": "2021-12-28T19:31:24.156Z"
   },
   {
    "duration": 6,
    "start_time": "2021-12-28T19:31:25.386Z"
   },
   {
    "duration": 278,
    "start_time": "2021-12-28T19:31:27.622Z"
   },
   {
    "duration": 4,
    "start_time": "2021-12-28T19:31:29.906Z"
   },
   {
    "duration": 7,
    "start_time": "2021-12-28T19:31:31.596Z"
   },
   {
    "duration": 6,
    "start_time": "2021-12-28T19:31:33.091Z"
   },
   {
    "duration": 90,
    "start_time": "2021-12-28T19:31:34.248Z"
   },
   {
    "duration": 156,
    "start_time": "2021-12-28T19:31:35.948Z"
   },
   {
    "duration": 10,
    "start_time": "2021-12-28T19:31:47.388Z"
   },
   {
    "duration": 18,
    "start_time": "2021-12-28T19:31:50.567Z"
   },
   {
    "duration": 5,
    "start_time": "2021-12-28T19:31:52.921Z"
   },
   {
    "duration": 7,
    "start_time": "2021-12-28T19:31:54.240Z"
   },
   {
    "duration": 21,
    "start_time": "2021-12-28T19:31:56.654Z"
   },
   {
    "duration": 25,
    "start_time": "2021-12-28T19:31:59.416Z"
   },
   {
    "duration": 838,
    "start_time": "2021-12-28T19:34:13.967Z"
   },
   {
    "duration": 13,
    "start_time": "2021-12-28T19:36:27.161Z"
   },
   {
    "duration": 1158,
    "start_time": "2021-12-29T17:04:27.988Z"
   },
   {
    "duration": 81,
    "start_time": "2021-12-29T17:04:29.148Z"
   },
   {
    "duration": 13,
    "start_time": "2021-12-29T17:04:29.231Z"
   },
   {
    "duration": 12,
    "start_time": "2021-12-29T17:04:29.246Z"
   },
   {
    "duration": 21,
    "start_time": "2021-12-29T17:04:29.260Z"
   },
   {
    "duration": 20,
    "start_time": "2021-12-29T17:04:29.283Z"
   },
   {
    "duration": 179,
    "start_time": "2021-12-29T17:04:29.305Z"
   },
   {
    "duration": 386,
    "start_time": "2021-12-29T17:04:29.490Z"
   },
   {
    "duration": 399,
    "start_time": "2021-12-29T17:04:29.879Z"
   },
   {
    "duration": 428,
    "start_time": "2021-12-29T17:04:30.280Z"
   },
   {
    "duration": 23,
    "start_time": "2021-12-29T17:04:30.709Z"
   },
   {
    "duration": 15,
    "start_time": "2021-12-29T17:04:30.734Z"
   },
   {
    "duration": 41,
    "start_time": "2021-12-29T17:04:30.751Z"
   },
   {
    "duration": 17,
    "start_time": "2021-12-29T17:04:30.794Z"
   },
   {
    "duration": 19,
    "start_time": "2021-12-29T17:04:30.813Z"
   },
   {
    "duration": 36,
    "start_time": "2021-12-29T17:04:30.833Z"
   },
   {
    "duration": 6,
    "start_time": "2021-12-29T17:04:30.890Z"
   },
   {
    "duration": 39,
    "start_time": "2021-12-29T17:04:30.898Z"
   },
   {
    "duration": 19,
    "start_time": "2021-12-29T17:04:30.939Z"
   },
   {
    "duration": 32,
    "start_time": "2021-12-29T17:04:30.960Z"
   },
   {
    "duration": 556,
    "start_time": "2021-12-29T17:04:30.994Z"
   },
   {
    "duration": 15,
    "start_time": "2021-12-29T17:04:31.551Z"
   },
   {
    "duration": 22,
    "start_time": "2021-12-29T17:04:31.570Z"
   },
   {
    "duration": 842,
    "start_time": "2021-12-29T17:04:31.595Z"
   },
   {
    "duration": 3518,
    "start_time": "2021-12-29T17:04:32.439Z"
   },
   {
    "duration": 199,
    "start_time": "2021-12-29T17:04:35.958Z"
   },
   {
    "duration": 3493,
    "start_time": "2021-12-29T17:04:36.159Z"
   },
   {
    "duration": 12,
    "start_time": "2021-12-29T17:04:39.654Z"
   },
   {
    "duration": 4799,
    "start_time": "2021-12-29T17:04:39.667Z"
   },
   {
    "duration": 29,
    "start_time": "2021-12-29T17:04:44.468Z"
   },
   {
    "duration": 29,
    "start_time": "2021-12-29T17:04:44.498Z"
   },
   {
    "duration": 9,
    "start_time": "2021-12-29T17:04:44.528Z"
   },
   {
    "duration": 12,
    "start_time": "2021-12-29T17:04:44.538Z"
   },
   {
    "duration": 7,
    "start_time": "2021-12-29T17:04:44.551Z"
   },
   {
    "duration": 47,
    "start_time": "2021-12-29T17:04:44.560Z"
   },
   {
    "duration": 19,
    "start_time": "2021-12-29T17:04:44.608Z"
   },
   {
    "duration": 16,
    "start_time": "2021-12-29T17:04:44.629Z"
   },
   {
    "duration": 50,
    "start_time": "2021-12-29T17:04:44.647Z"
   },
   {
    "duration": 4,
    "start_time": "2021-12-29T17:04:44.699Z"
   },
   {
    "duration": 194,
    "start_time": "2021-12-29T17:04:44.705Z"
   },
   {
    "duration": 4,
    "start_time": "2021-12-29T17:04:44.901Z"
   },
   {
    "duration": 5,
    "start_time": "2021-12-29T17:04:44.907Z"
   },
   {
    "duration": 96,
    "start_time": "2021-12-29T17:04:44.914Z"
   },
   {
    "duration": 97,
    "start_time": "2021-12-29T17:04:45.012Z"
   },
   {
    "duration": 7,
    "start_time": "2021-12-29T17:04:45.111Z"
   },
   {
    "duration": 11,
    "start_time": "2021-12-29T17:04:45.119Z"
   },
   {
    "duration": 8,
    "start_time": "2021-12-29T17:04:45.132Z"
   },
   {
    "duration": 7,
    "start_time": "2021-12-29T17:04:45.142Z"
   },
   {
    "duration": 13,
    "start_time": "2021-12-29T17:04:45.150Z"
   },
   {
    "duration": 533,
    "start_time": "2021-12-29T17:04:45.165Z"
   },
   {
    "duration": 14,
    "start_time": "2021-12-29T17:04:45.700Z"
   },
   {
    "duration": 12,
    "start_time": "2021-12-29T17:04:45.716Z"
   },
   {
    "duration": 19,
    "start_time": "2021-12-29T17:04:45.730Z"
   },
   {
    "duration": 306,
    "start_time": "2021-12-29T17:04:45.751Z"
   },
   {
    "duration": 210,
    "start_time": "2021-12-29T17:04:46.059Z"
   },
   {
    "duration": 6,
    "start_time": "2021-12-29T17:04:46.271Z"
   },
   {
    "duration": 15,
    "start_time": "2021-12-29T17:04:46.278Z"
   },
   {
    "duration": 118,
    "start_time": "2021-12-29T17:04:46.294Z"
   },
   {
    "duration": 3460,
    "start_time": "2021-12-29T17:04:46.413Z"
   },
   {
    "duration": -1434,
    "start_time": "2021-12-29T17:04:51.309Z"
   },
   {
    "duration": -1448,
    "start_time": "2021-12-29T17:04:51.325Z"
   },
   {
    "duration": -1463,
    "start_time": "2021-12-29T17:04:51.341Z"
   },
   {
    "duration": -1477,
    "start_time": "2021-12-29T17:04:51.356Z"
   },
   {
    "duration": -1489,
    "start_time": "2021-12-29T17:04:51.369Z"
   },
   {
    "duration": -1530,
    "start_time": "2021-12-29T17:04:51.411Z"
   },
   {
    "duration": -1545,
    "start_time": "2021-12-29T17:04:51.427Z"
   },
   {
    "duration": -1564,
    "start_time": "2021-12-29T17:04:51.447Z"
   },
   {
    "duration": -1582,
    "start_time": "2021-12-29T17:04:51.466Z"
   },
   {
    "duration": -1595,
    "start_time": "2021-12-29T17:04:51.481Z"
   },
   {
    "duration": -1609,
    "start_time": "2021-12-29T17:04:51.496Z"
   },
   {
    "duration": 232,
    "start_time": "2021-12-29T17:07:57.830Z"
   },
   {
    "duration": 315,
    "start_time": "2021-12-29T17:08:18.864Z"
   },
   {
    "duration": 7,
    "start_time": "2021-12-29T17:13:34.364Z"
   },
   {
    "duration": 17,
    "start_time": "2021-12-29T17:13:41.748Z"
   },
   {
    "duration": 21,
    "start_time": "2021-12-29T17:13:44.294Z"
   },
   {
    "duration": 18,
    "start_time": "2021-12-29T17:13:45.749Z"
   },
   {
    "duration": 15,
    "start_time": "2021-12-29T17:13:49.746Z"
   },
   {
    "duration": 4,
    "start_time": "2021-12-29T17:13:50.783Z"
   },
   {
    "duration": 1177,
    "start_time": "2021-12-29T17:15:00.085Z"
   },
   {
    "duration": 102,
    "start_time": "2021-12-29T17:15:01.264Z"
   },
   {
    "duration": 15,
    "start_time": "2021-12-29T17:15:01.368Z"
   },
   {
    "duration": 4,
    "start_time": "2021-12-29T17:15:01.385Z"
   },
   {
    "duration": 21,
    "start_time": "2021-12-29T17:15:01.391Z"
   },
   {
    "duration": 7,
    "start_time": "2021-12-29T17:15:01.413Z"
   },
   {
    "duration": 196,
    "start_time": "2021-12-29T17:15:01.422Z"
   },
   {
    "duration": 417,
    "start_time": "2021-12-29T17:15:01.620Z"
   },
   {
    "duration": 396,
    "start_time": "2021-12-29T17:15:02.039Z"
   },
   {
    "duration": 421,
    "start_time": "2021-12-29T17:15:02.436Z"
   },
   {
    "duration": 22,
    "start_time": "2021-12-29T17:15:02.859Z"
   },
   {
    "duration": 24,
    "start_time": "2021-12-29T17:15:02.882Z"
   },
   {
    "duration": 22,
    "start_time": "2021-12-29T17:15:02.908Z"
   },
   {
    "duration": 15,
    "start_time": "2021-12-29T17:15:02.931Z"
   },
   {
    "duration": 49,
    "start_time": "2021-12-29T17:15:02.948Z"
   },
   {
    "duration": 38,
    "start_time": "2021-12-29T17:15:03.001Z"
   },
   {
    "duration": 4,
    "start_time": "2021-12-29T17:15:03.040Z"
   },
   {
    "duration": 52,
    "start_time": "2021-12-29T17:15:03.046Z"
   },
   {
    "duration": 23,
    "start_time": "2021-12-29T17:15:03.100Z"
   },
   {
    "duration": 11,
    "start_time": "2021-12-29T17:15:03.125Z"
   },
   {
    "duration": 576,
    "start_time": "2021-12-29T17:15:03.138Z"
   },
   {
    "duration": 15,
    "start_time": "2021-12-29T17:15:03.715Z"
   },
   {
    "duration": 6,
    "start_time": "2021-12-29T17:15:03.734Z"
   },
   {
    "duration": 892,
    "start_time": "2021-12-29T17:15:03.743Z"
   },
   {
    "duration": 3700,
    "start_time": "2021-12-29T17:15:04.637Z"
   },
   {
    "duration": 202,
    "start_time": "2021-12-29T17:15:08.338Z"
   },
   {
    "duration": 3799,
    "start_time": "2021-12-29T17:15:08.542Z"
   },
   {
    "duration": 12,
    "start_time": "2021-12-29T17:15:12.342Z"
   },
   {
    "duration": 5057,
    "start_time": "2021-12-29T17:15:12.355Z"
   },
   {
    "duration": 16,
    "start_time": "2021-12-29T17:15:17.414Z"
   },
   {
    "duration": 26,
    "start_time": "2021-12-29T17:15:17.432Z"
   },
   {
    "duration": 33,
    "start_time": "2021-12-29T17:15:17.460Z"
   },
   {
    "duration": 13,
    "start_time": "2021-12-29T17:15:17.495Z"
   },
   {
    "duration": 9,
    "start_time": "2021-12-29T17:15:17.511Z"
   },
   {
    "duration": 16,
    "start_time": "2021-12-29T17:15:17.522Z"
   },
   {
    "duration": 18,
    "start_time": "2021-12-29T17:15:17.540Z"
   },
   {
    "duration": 22,
    "start_time": "2021-12-29T17:15:17.597Z"
   },
   {
    "duration": 13,
    "start_time": "2021-12-29T17:15:17.621Z"
   },
   {
    "duration": 3,
    "start_time": "2021-12-29T17:15:17.636Z"
   },
   {
    "duration": 199,
    "start_time": "2021-12-29T17:15:17.641Z"
   },
   {
    "duration": 263,
    "start_time": "2021-12-29T17:15:17.842Z"
   },
   {
    "duration": -1237,
    "start_time": "2021-12-29T17:15:19.344Z"
   },
   {
    "duration": -1241,
    "start_time": "2021-12-29T17:15:19.353Z"
   },
   {
    "duration": -1249,
    "start_time": "2021-12-29T17:15:19.362Z"
   },
   {
    "duration": -1256,
    "start_time": "2021-12-29T17:15:19.370Z"
   },
   {
    "duration": -1262,
    "start_time": "2021-12-29T17:15:19.378Z"
   },
   {
    "duration": -1268,
    "start_time": "2021-12-29T17:15:19.385Z"
   },
   {
    "duration": -1275,
    "start_time": "2021-12-29T17:15:19.394Z"
   },
   {
    "duration": -1282,
    "start_time": "2021-12-29T17:15:19.402Z"
   },
   {
    "duration": -1287,
    "start_time": "2021-12-29T17:15:19.408Z"
   },
   {
    "duration": -1291,
    "start_time": "2021-12-29T17:15:19.413Z"
   },
   {
    "duration": -1294,
    "start_time": "2021-12-29T17:15:19.418Z"
   },
   {
    "duration": -1298,
    "start_time": "2021-12-29T17:15:19.423Z"
   },
   {
    "duration": -1302,
    "start_time": "2021-12-29T17:15:19.428Z"
   },
   {
    "duration": -1315,
    "start_time": "2021-12-29T17:15:19.442Z"
   },
   {
    "duration": -1319,
    "start_time": "2021-12-29T17:15:19.447Z"
   },
   {
    "duration": -1323,
    "start_time": "2021-12-29T17:15:19.452Z"
   },
   {
    "duration": -1328,
    "start_time": "2021-12-29T17:15:19.458Z"
   },
   {
    "duration": -1332,
    "start_time": "2021-12-29T17:15:19.463Z"
   },
   {
    "duration": -1338,
    "start_time": "2021-12-29T17:15:19.470Z"
   },
   {
    "duration": -1342,
    "start_time": "2021-12-29T17:15:19.475Z"
   },
   {
    "duration": -1347,
    "start_time": "2021-12-29T17:15:19.481Z"
   },
   {
    "duration": -1352,
    "start_time": "2021-12-29T17:15:19.487Z"
   },
   {
    "duration": -1357,
    "start_time": "2021-12-29T17:15:19.493Z"
   },
   {
    "duration": -1363,
    "start_time": "2021-12-29T17:15:19.499Z"
   },
   {
    "duration": -1367,
    "start_time": "2021-12-29T17:15:19.504Z"
   },
   {
    "duration": -1371,
    "start_time": "2021-12-29T17:15:19.510Z"
   },
   {
    "duration": -1376,
    "start_time": "2021-12-29T17:15:19.516Z"
   },
   {
    "duration": -1380,
    "start_time": "2021-12-29T17:15:19.521Z"
   },
   {
    "duration": -1386,
    "start_time": "2021-12-29T17:15:19.527Z"
   },
   {
    "duration": -1390,
    "start_time": "2021-12-29T17:15:19.532Z"
   },
   {
    "duration": 5,
    "start_time": "2021-12-29T17:17:18.340Z"
   },
   {
    "duration": 4,
    "start_time": "2021-12-29T17:20:10.267Z"
   },
   {
    "duration": 4,
    "start_time": "2021-12-29T17:20:23.780Z"
   },
   {
    "duration": 17,
    "start_time": "2021-12-29T17:20:34.667Z"
   },
   {
    "duration": 17,
    "start_time": "2021-12-29T17:20:36.195Z"
   },
   {
    "duration": 18,
    "start_time": "2021-12-29T17:20:40.207Z"
   },
   {
    "duration": 15,
    "start_time": "2021-12-29T17:20:44.778Z"
   },
   {
    "duration": 5,
    "start_time": "2021-12-29T17:20:45.794Z"
   },
   {
    "duration": 169,
    "start_time": "2021-12-29T17:20:52.196Z"
   },
   {
    "duration": 5,
    "start_time": "2021-12-29T17:21:48.153Z"
   },
   {
    "duration": 3,
    "start_time": "2021-12-29T17:21:56.819Z"
   },
   {
    "duration": 5,
    "start_time": "2021-12-29T17:22:18.708Z"
   },
   {
    "duration": 2599,
    "start_time": "2021-12-29T17:22:27.297Z"
   },
   {
    "duration": 5,
    "start_time": "2021-12-29T17:22:34.041Z"
   },
   {
    "duration": 16,
    "start_time": "2021-12-29T17:22:38.236Z"
   },
   {
    "duration": 20,
    "start_time": "2021-12-29T17:22:41.452Z"
   },
   {
    "duration": 17,
    "start_time": "2021-12-29T17:22:42.702Z"
   },
   {
    "duration": 14,
    "start_time": "2021-12-29T17:22:44.564Z"
   },
   {
    "duration": 4,
    "start_time": "2021-12-29T17:22:45.517Z"
   },
   {
    "duration": 158,
    "start_time": "2021-12-29T17:22:58.675Z"
   },
   {
    "duration": 6,
    "start_time": "2021-12-29T17:23:14.786Z"
   },
   {
    "duration": 3,
    "start_time": "2021-12-29T17:23:49.659Z"
   },
   {
    "duration": 4,
    "start_time": "2021-12-29T17:23:55.353Z"
   },
   {
    "duration": 207,
    "start_time": "2021-12-29T17:23:56.710Z"
   },
   {
    "duration": 75,
    "start_time": "2021-12-29T17:24:00.750Z"
   },
   {
    "duration": 8,
    "start_time": "2021-12-29T17:24:04.104Z"
   },
   {
    "duration": 10,
    "start_time": "2021-12-29T17:24:06.829Z"
   },
   {
    "duration": 3,
    "start_time": "2021-12-29T17:24:08.005Z"
   },
   {
    "duration": 5,
    "start_time": "2021-12-29T17:24:08.917Z"
   },
   {
    "duration": 12,
    "start_time": "2021-12-29T17:24:09.931Z"
   },
   {
    "duration": 535,
    "start_time": "2021-12-29T17:24:13.419Z"
   },
   {
    "duration": 213,
    "start_time": "2021-12-29T17:27:01.493Z"
   },
   {
    "duration": 484,
    "start_time": "2021-12-29T17:27:10.367Z"
   },
   {
    "duration": 981,
    "start_time": "2021-12-29T17:28:15.242Z"
   },
   {
    "duration": 18,
    "start_time": "2021-12-29T17:30:43.566Z"
   },
   {
    "duration": 16,
    "start_time": "2021-12-29T17:30:44.790Z"
   },
   {
    "duration": 15,
    "start_time": "2021-12-29T17:30:45.844Z"
   },
   {
    "duration": 16,
    "start_time": "2021-12-29T17:30:47.623Z"
   },
   {
    "duration": 5,
    "start_time": "2021-12-29T17:30:48.523Z"
   },
   {
    "duration": 162,
    "start_time": "2021-12-29T17:31:04.852Z"
   },
   {
    "duration": 18,
    "start_time": "2021-12-29T17:32:00.601Z"
   },
   {
    "duration": 19,
    "start_time": "2021-12-29T17:32:01.483Z"
   },
   {
    "duration": 19,
    "start_time": "2021-12-29T17:32:02.522Z"
   },
   {
    "duration": 16,
    "start_time": "2021-12-29T17:32:04.252Z"
   },
   {
    "duration": 4,
    "start_time": "2021-12-29T17:32:05.095Z"
   },
   {
    "duration": 167,
    "start_time": "2021-12-29T17:32:24.486Z"
   },
   {
    "duration": 8,
    "start_time": "2021-12-29T17:32:33.088Z"
   },
   {
    "duration": 185,
    "start_time": "2021-12-29T17:33:17.862Z"
   },
   {
    "duration": 4,
    "start_time": "2021-12-29T17:33:46.744Z"
   },
   {
    "duration": 4,
    "start_time": "2021-12-29T17:33:48.977Z"
   },
   {
    "duration": 48,
    "start_time": "2021-12-29T17:33:49.748Z"
   },
   {
    "duration": 78,
    "start_time": "2021-12-29T17:33:50.532Z"
   },
   {
    "duration": 8,
    "start_time": "2021-12-29T17:33:51.333Z"
   },
   {
    "duration": 11,
    "start_time": "2021-12-29T17:33:52.008Z"
   },
   {
    "duration": 4,
    "start_time": "2021-12-29T17:33:52.652Z"
   },
   {
    "duration": 6,
    "start_time": "2021-12-29T17:33:53.385Z"
   },
   {
    "duration": 11,
    "start_time": "2021-12-29T17:33:54.133Z"
   },
   {
    "duration": 497,
    "start_time": "2021-12-29T17:33:56.851Z"
   },
   {
    "duration": 14,
    "start_time": "2021-12-29T17:36:33.829Z"
   },
   {
    "duration": 23,
    "start_time": "2021-12-29T17:40:58.114Z"
   },
   {
    "duration": 14,
    "start_time": "2021-12-29T17:41:30.906Z"
   },
   {
    "duration": 200,
    "start_time": "2021-12-29T17:41:40.549Z"
   },
   {
    "duration": 13,
    "start_time": "2021-12-29T17:41:49.801Z"
   },
   {
    "duration": 19,
    "start_time": "2021-12-29T17:42:21.271Z"
   },
   {
    "duration": 511,
    "start_time": "2021-12-29T17:43:07.137Z"
   },
   {
    "duration": 297,
    "start_time": "2021-12-29T17:43:14.811Z"
   },
   {
    "duration": 389,
    "start_time": "2021-12-29T17:43:45.691Z"
   },
   {
    "duration": 323,
    "start_time": "2021-12-29T17:43:58.954Z"
   },
   {
    "duration": 321,
    "start_time": "2021-12-29T17:47:23.625Z"
   },
   {
    "duration": 381,
    "start_time": "2021-12-29T17:48:51.966Z"
   },
   {
    "duration": 341,
    "start_time": "2021-12-29T17:49:18.914Z"
   },
   {
    "duration": 5,
    "start_time": "2021-12-29T17:58:42.065Z"
   },
   {
    "duration": 4,
    "start_time": "2021-12-29T17:58:50.687Z"
   },
   {
    "duration": 19,
    "start_time": "2021-12-29T17:58:59.412Z"
   },
   {
    "duration": 20,
    "start_time": "2021-12-29T18:04:02.996Z"
   },
   {
    "duration": 19,
    "start_time": "2021-12-29T18:04:04.031Z"
   },
   {
    "duration": 16,
    "start_time": "2021-12-29T18:04:06.001Z"
   },
   {
    "duration": 5,
    "start_time": "2021-12-29T18:04:07.016Z"
   },
   {
    "duration": 167,
    "start_time": "2021-12-29T18:04:17.073Z"
   },
   {
    "duration": 6,
    "start_time": "2021-12-29T18:04:37.277Z"
   },
   {
    "duration": 3,
    "start_time": "2021-12-29T18:05:33.309Z"
   },
   {
    "duration": 4,
    "start_time": "2021-12-29T18:06:35.060Z"
   },
   {
    "duration": 46,
    "start_time": "2021-12-29T18:06:36.436Z"
   },
   {
    "duration": 71,
    "start_time": "2021-12-29T18:06:37.420Z"
   },
   {
    "duration": 7,
    "start_time": "2021-12-29T18:06:38.370Z"
   },
   {
    "duration": 10,
    "start_time": "2021-12-29T18:06:39.292Z"
   },
   {
    "duration": 4,
    "start_time": "2021-12-29T18:06:40.230Z"
   },
   {
    "duration": 5,
    "start_time": "2021-12-29T18:06:41.550Z"
   },
   {
    "duration": 11,
    "start_time": "2021-12-29T18:06:42.769Z"
   },
   {
    "duration": 497,
    "start_time": "2021-12-29T18:06:47.541Z"
   },
   {
    "duration": 9,
    "start_time": "2021-12-29T18:10:57.518Z"
   },
   {
    "duration": 471,
    "start_time": "2021-12-29T18:10:58.833Z"
   },
   {
    "duration": 16,
    "start_time": "2021-12-29T18:11:10.970Z"
   },
   {
    "duration": 10,
    "start_time": "2021-12-29T18:11:36.290Z"
   },
   {
    "duration": 20,
    "start_time": "2021-12-29T18:11:42.207Z"
   },
   {
    "duration": 113,
    "start_time": "2021-12-29T18:11:52.150Z"
   },
   {
    "duration": 179,
    "start_time": "2021-12-29T18:11:53.312Z"
   },
   {
    "duration": 12,
    "start_time": "2021-12-29T18:14:25.799Z"
   },
   {
    "duration": 6,
    "start_time": "2021-12-29T18:15:19.761Z"
   },
   {
    "duration": 10,
    "start_time": "2021-12-29T18:15:24.173Z"
   },
   {
    "duration": 4781,
    "start_time": "2021-12-29T18:15:33.205Z"
   },
   {
    "duration": 1232,
    "start_time": "2021-12-29T18:15:47.086Z"
   },
   {
    "duration": 11,
    "start_time": "2021-12-29T18:15:59.600Z"
   },
   {
    "duration": 13,
    "start_time": "2021-12-29T18:16:30.180Z"
   },
   {
    "duration": 10,
    "start_time": "2021-12-29T18:16:55.568Z"
   },
   {
    "duration": 9,
    "start_time": "2021-12-29T18:17:04.124Z"
   },
   {
    "duration": 10,
    "start_time": "2021-12-29T18:17:16.968Z"
   },
   {
    "duration": 10,
    "start_time": "2021-12-29T18:17:33.264Z"
   },
   {
    "duration": 4,
    "start_time": "2021-12-29T18:18:02.599Z"
   },
   {
    "duration": 5,
    "start_time": "2021-12-29T18:18:14.915Z"
   },
   {
    "duration": 9,
    "start_time": "2021-12-29T18:18:24.383Z"
   },
   {
    "duration": 4,
    "start_time": "2021-12-29T18:18:33.108Z"
   },
   {
    "duration": 3,
    "start_time": "2021-12-29T18:18:39.148Z"
   },
   {
    "duration": 4,
    "start_time": "2021-12-29T18:18:40.084Z"
   },
   {
    "duration": 3,
    "start_time": "2021-12-29T18:18:47.158Z"
   },
   {
    "duration": 12,
    "start_time": "2021-12-29T18:19:01.695Z"
   },
   {
    "duration": 7,
    "start_time": "2021-12-29T18:19:17.961Z"
   },
   {
    "duration": 1910,
    "start_time": "2021-12-29T18:19:29.768Z"
   },
   {
    "duration": 3001,
    "start_time": "2021-12-29T18:19:42.524Z"
   },
   {
    "duration": 5,
    "start_time": "2021-12-29T18:19:55.007Z"
   },
   {
    "duration": 289,
    "start_time": "2021-12-29T18:20:26.025Z"
   },
   {
    "duration": 7,
    "start_time": "2021-12-29T18:20:31.921Z"
   },
   {
    "duration": 7,
    "start_time": "2021-12-29T18:20:45.694Z"
   },
   {
    "duration": 198,
    "start_time": "2021-12-29T18:22:06.782Z"
   },
   {
    "duration": 8,
    "start_time": "2021-12-29T18:22:23.057Z"
   },
   {
    "duration": 8,
    "start_time": "2021-12-29T18:22:23.930Z"
   },
   {
    "duration": 238,
    "start_time": "2021-12-29T18:22:25.197Z"
   },
   {
    "duration": 200,
    "start_time": "2021-12-29T18:22:43.925Z"
   },
   {
    "duration": 6,
    "start_time": "2021-12-29T18:23:03.744Z"
   },
   {
    "duration": 6,
    "start_time": "2021-12-29T18:23:21.391Z"
   },
   {
    "duration": 171,
    "start_time": "2021-12-29T18:23:41.070Z"
   },
   {
    "duration": 8,
    "start_time": "2021-12-29T18:23:47.569Z"
   },
   {
    "duration": 6,
    "start_time": "2021-12-29T18:23:49.498Z"
   },
   {
    "duration": 5,
    "start_time": "2021-12-29T18:23:57.438Z"
   },
   {
    "duration": 277,
    "start_time": "2021-12-29T18:24:17.884Z"
   },
   {
    "duration": 5,
    "start_time": "2021-12-29T18:24:26.210Z"
   },
   {
    "duration": 4,
    "start_time": "2021-12-29T18:24:33.370Z"
   },
   {
    "duration": 206,
    "start_time": "2021-12-29T18:24:39.847Z"
   },
   {
    "duration": 4,
    "start_time": "2021-12-29T18:25:56.965Z"
   },
   {
    "duration": 277,
    "start_time": "2021-12-29T18:26:05.017Z"
   },
   {
    "duration": 315,
    "start_time": "2021-12-29T18:26:09.527Z"
   },
   {
    "duration": 4,
    "start_time": "2021-12-29T18:26:35.915Z"
   },
   {
    "duration": 13,
    "start_time": "2021-12-29T18:29:31.176Z"
   },
   {
    "duration": 11,
    "start_time": "2021-12-29T18:29:41.071Z"
   },
   {
    "duration": 6787,
    "start_time": "2021-12-29T18:31:11.046Z"
   },
   {
    "duration": 15,
    "start_time": "2021-12-29T18:31:29.962Z"
   },
   {
    "duration": 4,
    "start_time": "2021-12-29T18:31:33.643Z"
   },
   {
    "duration": 4,
    "start_time": "2021-12-29T18:31:35.042Z"
   },
   {
    "duration": 216,
    "start_time": "2021-12-29T18:32:17.540Z"
   },
   {
    "duration": 458,
    "start_time": "2021-12-29T18:32:42.115Z"
   },
   {
    "duration": 55,
    "start_time": "2021-12-29T18:34:08.567Z"
   },
   {
    "duration": 469,
    "start_time": "2021-12-29T18:34:17.500Z"
   },
   {
    "duration": 726,
    "start_time": "2021-12-29T18:35:15.575Z"
   },
   {
    "duration": 392,
    "start_time": "2021-12-29T18:36:06.640Z"
   },
   {
    "duration": 10,
    "start_time": "2021-12-29T18:37:33.847Z"
   },
   {
    "duration": 177,
    "start_time": "2021-12-29T18:37:42.234Z"
   },
   {
    "duration": 208,
    "start_time": "2021-12-29T18:38:51.369Z"
   },
   {
    "duration": 4,
    "start_time": "2021-12-29T18:39:09.219Z"
   },
   {
    "duration": 455,
    "start_time": "2021-12-29T18:39:58.907Z"
   },
   {
    "duration": 12,
    "start_time": "2021-12-29T18:40:56.315Z"
   },
   {
    "duration": 172,
    "start_time": "2021-12-29T18:41:52.209Z"
   },
   {
    "duration": 178,
    "start_time": "2021-12-29T18:42:08.017Z"
   },
   {
    "duration": 461,
    "start_time": "2021-12-29T18:42:29.487Z"
   },
   {
    "duration": 13,
    "start_time": "2021-12-29T18:42:37.930Z"
   },
   {
    "duration": 186,
    "start_time": "2021-12-29T18:43:32.280Z"
   },
   {
    "duration": 16,
    "start_time": "2021-12-29T18:45:20.337Z"
   },
   {
    "duration": 20,
    "start_time": "2021-12-29T18:46:03.426Z"
   },
   {
    "duration": 32,
    "start_time": "2021-12-29T18:46:54.045Z"
   },
   {
    "duration": 13,
    "start_time": "2021-12-29T18:47:14.955Z"
   },
   {
    "duration": 20,
    "start_time": "2021-12-29T18:47:18.638Z"
   },
   {
    "duration": 22,
    "start_time": "2021-12-29T18:57:24.299Z"
   },
   {
    "duration": 113,
    "start_time": "2021-12-29T19:01:46.505Z"
   },
   {
    "duration": 182,
    "start_time": "2021-12-29T19:01:48.487Z"
   },
   {
    "duration": 13,
    "start_time": "2021-12-29T19:02:01.578Z"
   },
   {
    "duration": 6,
    "start_time": "2021-12-29T19:02:39.372Z"
   },
   {
    "duration": 17,
    "start_time": "2021-12-29T19:02:44.710Z"
   },
   {
    "duration": 4,
    "start_time": "2021-12-29T19:02:55.451Z"
   },
   {
    "duration": 109,
    "start_time": "2021-12-29T19:02:57.502Z"
   },
   {
    "duration": 18,
    "start_time": "2021-12-29T19:03:07.421Z"
   },
   {
    "duration": 104,
    "start_time": "2021-12-29T19:07:45.341Z"
   },
   {
    "duration": 6153,
    "start_time": "2021-12-29T19:07:47.674Z"
   },
   {
    "duration": 19,
    "start_time": "2021-12-29T19:08:17.392Z"
   },
   {
    "duration": 175,
    "start_time": "2021-12-29T19:09:16.916Z"
   },
   {
    "duration": 226,
    "start_time": "2021-12-29T19:09:27.806Z"
   },
   {
    "duration": 147,
    "start_time": "2021-12-29T19:10:24.666Z"
   },
   {
    "duration": 16,
    "start_time": "2021-12-29T19:10:35.552Z"
   },
   {
    "duration": 17,
    "start_time": "2021-12-29T19:11:48.028Z"
   },
   {
    "duration": 16,
    "start_time": "2021-12-29T19:12:11.144Z"
   },
   {
    "duration": 13,
    "start_time": "2021-12-29T19:13:08.472Z"
   },
   {
    "duration": 61,
    "start_time": "2021-12-29T19:14:14.621Z"
   },
   {
    "duration": 15,
    "start_time": "2021-12-29T19:14:21.183Z"
   },
   {
    "duration": 18,
    "start_time": "2021-12-29T19:14:28.698Z"
   },
   {
    "duration": 12,
    "start_time": "2021-12-29T19:15:52.544Z"
   },
   {
    "duration": 190,
    "start_time": "2021-12-29T19:16:04.892Z"
   },
   {
    "duration": 19,
    "start_time": "2021-12-29T19:16:26.215Z"
   },
   {
    "duration": 209,
    "start_time": "2021-12-29T19:16:41.835Z"
   },
   {
    "duration": 10,
    "start_time": "2021-12-29T19:17:03.891Z"
   },
   {
    "duration": 31,
    "start_time": "2021-12-29T19:17:12.915Z"
   },
   {
    "duration": 1143,
    "start_time": "2021-12-29T19:17:39.100Z"
   },
   {
    "duration": 81,
    "start_time": "2021-12-29T19:17:40.244Z"
   },
   {
    "duration": 14,
    "start_time": "2021-12-29T19:17:40.327Z"
   },
   {
    "duration": 6,
    "start_time": "2021-12-29T19:17:40.343Z"
   },
   {
    "duration": 12,
    "start_time": "2021-12-29T19:17:40.351Z"
   },
   {
    "duration": 6,
    "start_time": "2021-12-29T19:17:40.364Z"
   },
   {
    "duration": 179,
    "start_time": "2021-12-29T19:17:40.371Z"
   },
   {
    "duration": 388,
    "start_time": "2021-12-29T19:17:40.552Z"
   },
   {
    "duration": 359,
    "start_time": "2021-12-29T19:17:40.942Z"
   },
   {
    "duration": 410,
    "start_time": "2021-12-29T19:17:41.303Z"
   },
   {
    "duration": 22,
    "start_time": "2021-12-29T19:17:41.714Z"
   },
   {
    "duration": 14,
    "start_time": "2021-12-29T19:17:41.738Z"
   },
   {
    "duration": 38,
    "start_time": "2021-12-29T19:17:41.754Z"
   },
   {
    "duration": 15,
    "start_time": "2021-12-29T19:17:41.794Z"
   },
   {
    "duration": 14,
    "start_time": "2021-12-29T19:17:41.810Z"
   },
   {
    "duration": 33,
    "start_time": "2021-12-29T19:17:41.826Z"
   },
   {
    "duration": 4,
    "start_time": "2021-12-29T19:17:41.860Z"
   },
   {
    "duration": 51,
    "start_time": "2021-12-29T19:17:41.866Z"
   },
   {
    "duration": 17,
    "start_time": "2021-12-29T19:17:41.919Z"
   },
   {
    "duration": 9,
    "start_time": "2021-12-29T19:17:41.938Z"
   },
   {
    "duration": 536,
    "start_time": "2021-12-29T19:17:41.949Z"
   },
   {
    "duration": 14,
    "start_time": "2021-12-29T19:17:42.487Z"
   },
   {
    "duration": 5,
    "start_time": "2021-12-29T19:17:42.505Z"
   },
   {
    "duration": 827,
    "start_time": "2021-12-29T19:17:42.512Z"
   },
   {
    "duration": 3546,
    "start_time": "2021-12-29T19:17:43.341Z"
   },
   {
    "duration": 189,
    "start_time": "2021-12-29T19:17:46.889Z"
   },
   {
    "duration": 3471,
    "start_time": "2021-12-29T19:17:47.080Z"
   },
   {
    "duration": 12,
    "start_time": "2021-12-29T19:17:50.553Z"
   },
   {
    "duration": 4875,
    "start_time": "2021-12-29T19:17:50.567Z"
   },
   {
    "duration": 16,
    "start_time": "2021-12-29T19:17:55.444Z"
   },
   {
    "duration": 46,
    "start_time": "2021-12-29T19:17:55.462Z"
   },
   {
    "duration": 8,
    "start_time": "2021-12-29T19:17:55.509Z"
   },
   {
    "duration": 16,
    "start_time": "2021-12-29T19:17:55.519Z"
   },
   {
    "duration": 11,
    "start_time": "2021-12-29T19:17:55.537Z"
   },
   {
    "duration": 395,
    "start_time": "2021-12-29T19:17:55.549Z"
   },
   {
    "duration": 4,
    "start_time": "2021-12-29T19:17:55.945Z"
   },
   {
    "duration": 24,
    "start_time": "2021-12-29T19:17:55.951Z"
   },
   {
    "duration": 28,
    "start_time": "2021-12-29T19:17:55.977Z"
   },
   {
    "duration": 16,
    "start_time": "2021-12-29T19:17:56.007Z"
   },
   {
    "duration": 14,
    "start_time": "2021-12-29T19:17:56.024Z"
   },
   {
    "duration": 3,
    "start_time": "2021-12-29T19:17:56.039Z"
   },
   {
    "duration": 183,
    "start_time": "2021-12-29T19:17:56.044Z"
   },
   {
    "duration": 3,
    "start_time": "2021-12-29T19:17:56.229Z"
   },
   {
    "duration": 16,
    "start_time": "2021-12-29T19:17:56.233Z"
   },
   {
    "duration": 59,
    "start_time": "2021-12-29T19:17:56.251Z"
   },
   {
    "duration": 63,
    "start_time": "2021-12-29T19:17:56.312Z"
   },
   {
    "duration": 14,
    "start_time": "2021-12-29T19:17:56.377Z"
   },
   {
    "duration": 10,
    "start_time": "2021-12-29T19:17:56.393Z"
   },
   {
    "duration": 12,
    "start_time": "2021-12-29T19:17:56.405Z"
   },
   {
    "duration": 19,
    "start_time": "2021-12-29T19:17:56.419Z"
   },
   {
    "duration": 19,
    "start_time": "2021-12-29T19:17:56.440Z"
   },
   {
    "duration": 7,
    "start_time": "2021-12-29T19:17:56.461Z"
   },
   {
    "duration": 657,
    "start_time": "2021-12-29T19:17:56.470Z"
   },
   {
    "duration": 16,
    "start_time": "2021-12-29T19:17:57.129Z"
   },
   {
    "duration": 11,
    "start_time": "2021-12-29T19:17:57.146Z"
   },
   {
    "duration": 42,
    "start_time": "2021-12-29T19:17:57.159Z"
   },
   {
    "duration": 129,
    "start_time": "2021-12-29T19:17:57.204Z"
   },
   {
    "duration": 209,
    "start_time": "2021-12-29T19:17:57.335Z"
   },
   {
    "duration": 8,
    "start_time": "2021-12-29T19:17:57.545Z"
   },
   {
    "duration": 5,
    "start_time": "2021-12-29T19:17:57.555Z"
   },
   {
    "duration": 123,
    "start_time": "2021-12-29T19:17:57.561Z"
   },
   {
    "duration": 7,
    "start_time": "2021-12-29T19:17:57.685Z"
   },
   {
    "duration": 353,
    "start_time": "2021-12-29T19:17:57.694Z"
   },
   {
    "duration": -1095,
    "start_time": "2021-12-29T19:17:59.144Z"
   },
   {
    "duration": -1126,
    "start_time": "2021-12-29T19:17:59.176Z"
   },
   {
    "duration": -1139,
    "start_time": "2021-12-29T19:17:59.190Z"
   },
   {
    "duration": -1155,
    "start_time": "2021-12-29T19:17:59.207Z"
   },
   {
    "duration": -1167,
    "start_time": "2021-12-29T19:17:59.220Z"
   },
   {
    "duration": -1182,
    "start_time": "2021-12-29T19:17:59.236Z"
   },
   {
    "duration": -1195,
    "start_time": "2021-12-29T19:17:59.251Z"
   },
   {
    "duration": -1209,
    "start_time": "2021-12-29T19:17:59.266Z"
   },
   {
    "duration": -1241,
    "start_time": "2021-12-29T19:17:59.299Z"
   },
   {
    "duration": -1255,
    "start_time": "2021-12-29T19:17:59.315Z"
   },
   {
    "duration": -1265,
    "start_time": "2021-12-29T19:17:59.326Z"
   },
   {
    "duration": 21,
    "start_time": "2021-12-29T19:21:12.453Z"
   },
   {
    "duration": 11,
    "start_time": "2021-12-29T19:21:46.213Z"
   },
   {
    "duration": 19,
    "start_time": "2021-12-29T19:22:53.788Z"
   },
   {
    "duration": 7,
    "start_time": "2021-12-29T19:23:24.955Z"
   },
   {
    "duration": 11,
    "start_time": "2021-12-29T19:24:42.241Z"
   },
   {
    "duration": 12,
    "start_time": "2021-12-29T19:24:55.130Z"
   },
   {
    "duration": 18,
    "start_time": "2021-12-29T19:28:31.803Z"
   },
   {
    "duration": 14,
    "start_time": "2021-12-29T19:28:51.931Z"
   },
   {
    "duration": 19,
    "start_time": "2021-12-29T19:29:29.912Z"
   },
   {
    "duration": 9,
    "start_time": "2021-12-29T19:30:56.094Z"
   },
   {
    "duration": 7,
    "start_time": "2021-12-29T19:31:34.187Z"
   },
   {
    "duration": 16,
    "start_time": "2021-12-29T19:31:39.200Z"
   },
   {
    "duration": 10,
    "start_time": "2021-12-29T19:32:39.955Z"
   },
   {
    "duration": 314,
    "start_time": "2021-12-29T19:33:38.217Z"
   },
   {
    "duration": 16,
    "start_time": "2021-12-29T19:34:00.298Z"
   },
   {
    "duration": 164,
    "start_time": "2021-12-29T19:37:57.010Z"
   },
   {
    "duration": 157,
    "start_time": "2021-12-29T19:40:46.521Z"
   },
   {
    "duration": 18,
    "start_time": "2021-12-29T19:40:50.287Z"
   },
   {
    "duration": 4,
    "start_time": "2021-12-29T19:50:46.600Z"
   },
   {
    "duration": 8,
    "start_time": "2021-12-29T19:51:23.547Z"
   },
   {
    "duration": 6,
    "start_time": "2021-12-29T19:57:02.120Z"
   },
   {
    "duration": 4,
    "start_time": "2021-12-29T19:57:50.459Z"
   },
   {
    "duration": 8,
    "start_time": "2021-12-29T19:58:40.068Z"
   },
   {
    "duration": 5778,
    "start_time": "2021-12-29T19:59:26.225Z"
   },
   {
    "duration": 7,
    "start_time": "2021-12-29T19:59:42.863Z"
   },
   {
    "duration": 183,
    "start_time": "2021-12-29T19:59:52.035Z"
   },
   {
    "duration": 10,
    "start_time": "2021-12-29T20:00:09.004Z"
   },
   {
    "duration": 8,
    "start_time": "2021-12-29T20:01:48.674Z"
   },
   {
    "duration": 10,
    "start_time": "2021-12-29T20:01:59.796Z"
   },
   {
    "duration": 9,
    "start_time": "2021-12-29T20:03:04.609Z"
   },
   {
    "duration": 58,
    "start_time": "2021-12-29T20:03:18.314Z"
   },
   {
    "duration": 5,
    "start_time": "2021-12-29T20:03:28.090Z"
   },
   {
    "duration": 1744,
    "start_time": "2021-12-30T07:05:56.980Z"
   },
   {
    "duration": 107,
    "start_time": "2021-12-30T07:05:58.727Z"
   },
   {
    "duration": 23,
    "start_time": "2021-12-30T07:05:58.836Z"
   },
   {
    "duration": 7,
    "start_time": "2021-12-30T07:05:58.861Z"
   },
   {
    "duration": 11,
    "start_time": "2021-12-30T07:05:58.870Z"
   },
   {
    "duration": 5,
    "start_time": "2021-12-30T07:05:58.884Z"
   },
   {
    "duration": 304,
    "start_time": "2021-12-30T07:05:58.892Z"
   },
   {
    "duration": 642,
    "start_time": "2021-12-30T07:05:59.200Z"
   },
   {
    "duration": 686,
    "start_time": "2021-12-30T07:05:59.846Z"
   },
   {
    "duration": 597,
    "start_time": "2021-12-30T07:06:00.534Z"
   },
   {
    "duration": 44,
    "start_time": "2021-12-30T07:06:01.134Z"
   },
   {
    "duration": 23,
    "start_time": "2021-12-30T07:06:01.181Z"
   },
   {
    "duration": 63,
    "start_time": "2021-12-30T07:06:01.206Z"
   },
   {
    "duration": 24,
    "start_time": "2021-12-30T07:06:01.272Z"
   },
   {
    "duration": 24,
    "start_time": "2021-12-30T07:06:01.298Z"
   },
   {
    "duration": 77,
    "start_time": "2021-12-30T07:06:01.325Z"
   },
   {
    "duration": 7,
    "start_time": "2021-12-30T07:06:01.405Z"
   },
   {
    "duration": 82,
    "start_time": "2021-12-30T07:06:01.415Z"
   },
   {
    "duration": 35,
    "start_time": "2021-12-30T07:06:01.500Z"
   },
   {
    "duration": 33,
    "start_time": "2021-12-30T07:06:01.538Z"
   },
   {
    "duration": 918,
    "start_time": "2021-12-30T07:06:01.574Z"
   },
   {
    "duration": 20,
    "start_time": "2021-12-30T07:06:02.494Z"
   },
   {
    "duration": 8,
    "start_time": "2021-12-30T07:06:02.520Z"
   },
   {
    "duration": 1258,
    "start_time": "2021-12-30T07:06:02.562Z"
   },
   {
    "duration": 6041,
    "start_time": "2021-12-30T07:06:03.823Z"
   },
   {
    "duration": 318,
    "start_time": "2021-12-30T07:06:09.866Z"
   },
   {
    "duration": 7749,
    "start_time": "2021-12-30T07:06:10.187Z"
   },
   {
    "duration": 18,
    "start_time": "2021-12-30T07:06:17.939Z"
   },
   {
    "duration": 8837,
    "start_time": "2021-12-30T07:06:17.960Z"
   },
   {
    "duration": 23,
    "start_time": "2021-12-30T07:06:26.799Z"
   },
   {
    "duration": 66,
    "start_time": "2021-12-30T07:06:26.824Z"
   },
   {
    "duration": 14,
    "start_time": "2021-12-30T07:06:26.892Z"
   },
   {
    "duration": 20,
    "start_time": "2021-12-30T07:06:26.909Z"
   },
   {
    "duration": 33,
    "start_time": "2021-12-30T07:06:26.932Z"
   },
   {
    "duration": 552,
    "start_time": "2021-12-30T07:06:26.968Z"
   },
   {
    "duration": 6,
    "start_time": "2021-12-30T07:06:27.522Z"
   },
   {
    "duration": 45,
    "start_time": "2021-12-30T07:06:27.531Z"
   },
   {
    "duration": 28,
    "start_time": "2021-12-30T07:06:27.578Z"
   },
   {
    "duration": 55,
    "start_time": "2021-12-30T07:06:27.609Z"
   },
   {
    "duration": 32,
    "start_time": "2021-12-30T07:06:27.667Z"
   },
   {
    "duration": 6,
    "start_time": "2021-12-30T07:06:27.702Z"
   },
   {
    "duration": 296,
    "start_time": "2021-12-30T07:06:27.711Z"
   },
   {
    "duration": 5,
    "start_time": "2021-12-30T07:06:28.009Z"
   },
   {
    "duration": 7,
    "start_time": "2021-12-30T07:06:28.016Z"
   },
   {
    "duration": 114,
    "start_time": "2021-12-30T07:06:28.025Z"
   },
   {
    "duration": 146,
    "start_time": "2021-12-30T07:06:28.141Z"
   },
   {
    "duration": 9,
    "start_time": "2021-12-30T07:06:28.289Z"
   },
   {
    "duration": 19,
    "start_time": "2021-12-30T07:06:28.300Z"
   },
   {
    "duration": 4,
    "start_time": "2021-12-30T07:06:28.321Z"
   },
   {
    "duration": 31,
    "start_time": "2021-12-30T07:06:28.328Z"
   },
   {
    "duration": 18,
    "start_time": "2021-12-30T07:06:28.361Z"
   },
   {
    "duration": 9,
    "start_time": "2021-12-30T07:06:28.382Z"
   },
   {
    "duration": 1018,
    "start_time": "2021-12-30T07:06:28.393Z"
   },
   {
    "duration": 25,
    "start_time": "2021-12-30T07:06:29.414Z"
   },
   {
    "duration": 18,
    "start_time": "2021-12-30T07:06:29.458Z"
   },
   {
    "duration": 40,
    "start_time": "2021-12-30T07:06:29.478Z"
   },
   {
    "duration": 244,
    "start_time": "2021-12-30T07:06:29.521Z"
   },
   {
    "duration": 441,
    "start_time": "2021-12-30T07:06:29.768Z"
   },
   {
    "duration": 10,
    "start_time": "2021-12-30T07:06:30.211Z"
   },
   {
    "duration": 8,
    "start_time": "2021-12-30T07:06:30.224Z"
   },
   {
    "duration": 240,
    "start_time": "2021-12-30T07:06:30.234Z"
   },
   {
    "duration": 12,
    "start_time": "2021-12-30T07:06:30.477Z"
   },
   {
    "duration": 18,
    "start_time": "2021-12-30T07:06:30.492Z"
   },
   {
    "duration": 51,
    "start_time": "2021-12-30T07:06:30.513Z"
   },
   {
    "duration": 275,
    "start_time": "2021-12-30T07:06:30.567Z"
   },
   {
    "duration": 36,
    "start_time": "2021-12-30T07:06:30.845Z"
   },
   {
    "duration": 12,
    "start_time": "2021-12-30T07:06:30.884Z"
   },
   {
    "duration": 17,
    "start_time": "2021-12-30T07:06:30.905Z"
   },
   {
    "duration": 10,
    "start_time": "2021-12-30T07:06:30.959Z"
   },
   {
    "duration": 10,
    "start_time": "2021-12-30T07:06:30.972Z"
   },
   {
    "duration": 13,
    "start_time": "2021-12-30T07:06:30.984Z"
   },
   {
    "duration": 31,
    "start_time": "2021-12-30T07:06:31.000Z"
   },
   {
    "duration": 39,
    "start_time": "2021-12-30T07:06:31.034Z"
   },
   {
    "duration": 10,
    "start_time": "2021-12-30T07:06:31.076Z"
   },
   {
    "duration": 12,
    "start_time": "2021-12-30T07:06:31.089Z"
   },
   {
    "duration": 16,
    "start_time": "2021-12-30T07:06:31.104Z"
   },
   {
    "duration": 78,
    "start_time": "2021-12-30T07:06:31.122Z"
   },
   {
    "duration": 7,
    "start_time": "2021-12-30T07:54:57.142Z"
   },
   {
    "duration": 8,
    "start_time": "2021-12-30T07:55:15.657Z"
   },
   {
    "duration": 8,
    "start_time": "2021-12-30T07:55:30.088Z"
   },
   {
    "duration": 8,
    "start_time": "2021-12-30T07:55:40.044Z"
   },
   {
    "duration": 9,
    "start_time": "2021-12-30T08:18:11.632Z"
   },
   {
    "duration": 1718,
    "start_time": "2021-12-30T08:18:31.247Z"
   },
   {
    "duration": 111,
    "start_time": "2021-12-30T08:18:32.967Z"
   },
   {
    "duration": 26,
    "start_time": "2021-12-30T08:18:33.083Z"
   },
   {
    "duration": 7,
    "start_time": "2021-12-30T08:18:33.112Z"
   },
   {
    "duration": 40,
    "start_time": "2021-12-30T08:18:33.121Z"
   },
   {
    "duration": 7,
    "start_time": "2021-12-30T08:18:33.164Z"
   },
   {
    "duration": 283,
    "start_time": "2021-12-30T08:18:33.173Z"
   },
   {
    "duration": 734,
    "start_time": "2021-12-30T08:18:33.463Z"
   },
   {
    "duration": 604,
    "start_time": "2021-12-30T08:18:34.201Z"
   },
   {
    "duration": 636,
    "start_time": "2021-12-30T08:18:34.808Z"
   },
   {
    "duration": 42,
    "start_time": "2021-12-30T08:18:35.446Z"
   },
   {
    "duration": 23,
    "start_time": "2021-12-30T08:18:35.491Z"
   },
   {
    "duration": 59,
    "start_time": "2021-12-30T08:18:35.517Z"
   },
   {
    "duration": 23,
    "start_time": "2021-12-30T08:18:35.579Z"
   },
   {
    "duration": 21,
    "start_time": "2021-12-30T08:18:35.605Z"
   },
   {
    "duration": 84,
    "start_time": "2021-12-30T08:18:35.628Z"
   },
   {
    "duration": 6,
    "start_time": "2021-12-30T08:18:35.714Z"
   },
   {
    "duration": 73,
    "start_time": "2021-12-30T08:18:35.722Z"
   },
   {
    "duration": 25,
    "start_time": "2021-12-30T08:18:35.797Z"
   },
   {
    "duration": 35,
    "start_time": "2021-12-30T08:18:35.825Z"
   },
   {
    "duration": 820,
    "start_time": "2021-12-30T08:18:35.862Z"
   },
   {
    "duration": 24,
    "start_time": "2021-12-30T08:18:36.686Z"
   },
   {
    "duration": 8,
    "start_time": "2021-12-30T08:18:36.716Z"
   },
   {
    "duration": 1166,
    "start_time": "2021-12-30T08:18:36.758Z"
   },
   {
    "duration": 5569,
    "start_time": "2021-12-30T08:18:37.928Z"
   },
   {
    "duration": 304,
    "start_time": "2021-12-30T08:18:43.500Z"
   },
   {
    "duration": 6917,
    "start_time": "2021-12-30T08:18:43.807Z"
   },
   {
    "duration": 17,
    "start_time": "2021-12-30T08:18:50.727Z"
   },
   {
    "duration": 7767,
    "start_time": "2021-12-30T08:18:50.758Z"
   },
   {
    "duration": 37,
    "start_time": "2021-12-30T08:18:58.527Z"
   },
   {
    "duration": 41,
    "start_time": "2021-12-30T08:18:58.567Z"
   },
   {
    "duration": 13,
    "start_time": "2021-12-30T08:18:58.610Z"
   },
   {
    "duration": 38,
    "start_time": "2021-12-30T08:18:58.625Z"
   },
   {
    "duration": 6,
    "start_time": "2021-12-30T08:18:58.665Z"
   },
   {
    "duration": 501,
    "start_time": "2021-12-30T08:18:58.673Z"
   },
   {
    "duration": 6,
    "start_time": "2021-12-30T08:18:59.177Z"
   },
   {
    "duration": 26,
    "start_time": "2021-12-30T08:18:59.185Z"
   },
   {
    "duration": 54,
    "start_time": "2021-12-30T08:18:59.214Z"
   },
   {
    "duration": 25,
    "start_time": "2021-12-30T08:18:59.270Z"
   },
   {
    "duration": 21,
    "start_time": "2021-12-30T08:18:59.297Z"
   },
   {
    "duration": 5,
    "start_time": "2021-12-30T08:18:59.320Z"
   },
   {
    "duration": 289,
    "start_time": "2021-12-30T08:18:59.329Z"
   },
   {
    "duration": 6,
    "start_time": "2021-12-30T08:18:59.621Z"
   },
   {
    "duration": 29,
    "start_time": "2021-12-30T08:18:59.630Z"
   },
   {
    "duration": 78,
    "start_time": "2021-12-30T08:18:59.662Z"
   },
   {
    "duration": 168,
    "start_time": "2021-12-30T08:18:59.743Z"
   },
   {
    "duration": 10,
    "start_time": "2021-12-30T08:18:59.914Z"
   },
   {
    "duration": 33,
    "start_time": "2021-12-30T08:18:59.926Z"
   },
   {
    "duration": 4,
    "start_time": "2021-12-30T08:18:59.962Z"
   },
   {
    "duration": 10,
    "start_time": "2021-12-30T08:18:59.969Z"
   },
   {
    "duration": 21,
    "start_time": "2021-12-30T08:18:59.982Z"
   },
   {
    "duration": 11,
    "start_time": "2021-12-30T08:19:00.006Z"
   },
   {
    "duration": 1215,
    "start_time": "2021-12-30T08:19:00.021Z"
   },
   {
    "duration": 59,
    "start_time": "2021-12-30T08:19:01.239Z"
   },
   {
    "duration": 93,
    "start_time": "2021-12-30T08:19:01.301Z"
   },
   {
    "duration": 43,
    "start_time": "2021-12-30T08:19:01.397Z"
   },
   {
    "duration": 216,
    "start_time": "2021-12-30T08:19:01.444Z"
   },
   {
    "duration": 421,
    "start_time": "2021-12-30T08:19:01.663Z"
   },
   {
    "duration": 12,
    "start_time": "2021-12-30T08:19:02.087Z"
   },
   {
    "duration": 11,
    "start_time": "2021-12-30T08:19:02.101Z"
   },
   {
    "duration": 238,
    "start_time": "2021-12-30T08:19:02.114Z"
   },
   {
    "duration": 10,
    "start_time": "2021-12-30T08:19:02.359Z"
   },
   {
    "duration": 13,
    "start_time": "2021-12-30T08:19:02.371Z"
   },
   {
    "duration": 28,
    "start_time": "2021-12-30T08:19:02.388Z"
   },
   {
    "duration": 300,
    "start_time": "2021-12-30T08:19:02.419Z"
   },
   {
    "duration": 47,
    "start_time": "2021-12-30T08:19:02.722Z"
   },
   {
    "duration": 10,
    "start_time": "2021-12-30T08:19:02.772Z"
   },
   {
    "duration": 12,
    "start_time": "2021-12-30T08:19:02.791Z"
   },
   {
    "duration": 9,
    "start_time": "2021-12-30T08:19:02.805Z"
   },
   {
    "duration": 49,
    "start_time": "2021-12-30T08:19:02.816Z"
   },
   {
    "duration": 7,
    "start_time": "2021-12-30T08:19:02.867Z"
   },
   {
    "duration": 7,
    "start_time": "2021-12-30T08:19:02.877Z"
   },
   {
    "duration": 12,
    "start_time": "2021-12-30T08:19:02.886Z"
   },
   {
    "duration": 59,
    "start_time": "2021-12-30T08:19:02.900Z"
   },
   {
    "duration": 16,
    "start_time": "2021-12-30T08:19:02.961Z"
   },
   {
    "duration": 8,
    "start_time": "2021-12-30T08:19:02.980Z"
   },
   {
    "duration": 12,
    "start_time": "2021-12-30T08:19:02.991Z"
   },
   {
    "duration": 17,
    "start_time": "2021-12-30T08:19:03.005Z"
   },
   {
    "duration": 55,
    "start_time": "2021-12-30T08:19:03.024Z"
   },
   {
    "duration": 8,
    "start_time": "2021-12-30T08:19:30.596Z"
   },
   {
    "duration": 7,
    "start_time": "2021-12-30T08:28:52.596Z"
   },
   {
    "duration": 8,
    "start_time": "2021-12-30T08:29:01.439Z"
   },
   {
    "duration": 7,
    "start_time": "2021-12-30T08:29:10.348Z"
   },
   {
    "duration": 8,
    "start_time": "2021-12-30T08:29:20.100Z"
   },
   {
    "duration": 6,
    "start_time": "2021-12-30T08:29:25.898Z"
   },
   {
    "duration": 7,
    "start_time": "2021-12-30T08:29:35.230Z"
   },
   {
    "duration": 9,
    "start_time": "2021-12-30T08:29:44.841Z"
   },
   {
    "duration": 32,
    "start_time": "2021-12-30T08:29:59.828Z"
   },
   {
    "duration": 18,
    "start_time": "2021-12-30T08:31:28.413Z"
   },
   {
    "duration": 126,
    "start_time": "2021-12-30T08:35:01.836Z"
   },
   {
    "duration": 17,
    "start_time": "2021-12-30T08:35:08.552Z"
   },
   {
    "duration": 10,
    "start_time": "2021-12-30T08:36:16.350Z"
   },
   {
    "duration": 11,
    "start_time": "2021-12-30T08:36:24.245Z"
   },
   {
    "duration": 10,
    "start_time": "2021-12-30T08:36:25.416Z"
   },
   {
    "duration": 1883,
    "start_time": "2021-12-30T08:37:08.637Z"
   },
   {
    "duration": 112,
    "start_time": "2021-12-30T08:37:10.523Z"
   },
   {
    "duration": 24,
    "start_time": "2021-12-30T08:37:10.638Z"
   },
   {
    "duration": 7,
    "start_time": "2021-12-30T08:37:10.664Z"
   },
   {
    "duration": 9,
    "start_time": "2021-12-30T08:37:10.673Z"
   },
   {
    "duration": 6,
    "start_time": "2021-12-30T08:37:10.684Z"
   },
   {
    "duration": 300,
    "start_time": "2021-12-30T08:37:10.692Z"
   },
   {
    "duration": 628,
    "start_time": "2021-12-30T08:37:10.995Z"
   },
   {
    "duration": 688,
    "start_time": "2021-12-30T08:37:11.626Z"
   },
   {
    "duration": 638,
    "start_time": "2021-12-30T08:37:12.317Z"
   },
   {
    "duration": 32,
    "start_time": "2021-12-30T08:37:12.960Z"
   },
   {
    "duration": 22,
    "start_time": "2021-12-30T08:37:12.995Z"
   },
   {
    "duration": 62,
    "start_time": "2021-12-30T08:37:13.019Z"
   },
   {
    "duration": 23,
    "start_time": "2021-12-30T08:37:13.083Z"
   },
   {
    "duration": 18,
    "start_time": "2021-12-30T08:37:13.108Z"
   },
   {
    "duration": 84,
    "start_time": "2021-12-30T08:37:13.129Z"
   },
   {
    "duration": 6,
    "start_time": "2021-12-30T08:37:13.216Z"
   },
   {
    "duration": 70,
    "start_time": "2021-12-30T08:37:13.224Z"
   },
   {
    "duration": 25,
    "start_time": "2021-12-30T08:37:13.297Z"
   },
   {
    "duration": 42,
    "start_time": "2021-12-30T08:37:13.324Z"
   },
   {
    "duration": 818,
    "start_time": "2021-12-30T08:37:13.368Z"
   },
   {
    "duration": 20,
    "start_time": "2021-12-30T08:37:14.188Z"
   },
   {
    "duration": 7,
    "start_time": "2021-12-30T08:37:14.216Z"
   },
   {
    "duration": 1184,
    "start_time": "2021-12-30T08:37:14.227Z"
   },
   {
    "duration": 5726,
    "start_time": "2021-12-30T08:37:15.414Z"
   },
   {
    "duration": 309,
    "start_time": "2021-12-30T08:37:21.143Z"
   },
   {
    "duration": 7773,
    "start_time": "2021-12-30T08:37:21.455Z"
   },
   {
    "duration": 20,
    "start_time": "2021-12-30T08:37:29.231Z"
   },
   {
    "duration": 7810,
    "start_time": "2021-12-30T08:37:29.253Z"
   },
   {
    "duration": 25,
    "start_time": "2021-12-30T08:37:37.065Z"
   },
   {
    "duration": 71,
    "start_time": "2021-12-30T08:37:37.092Z"
   },
   {
    "duration": 13,
    "start_time": "2021-12-30T08:37:37.166Z"
   },
   {
    "duration": 14,
    "start_time": "2021-12-30T08:37:37.181Z"
   },
   {
    "duration": 5,
    "start_time": "2021-12-30T08:37:37.197Z"
   },
   {
    "duration": 563,
    "start_time": "2021-12-30T08:37:37.204Z"
   },
   {
    "duration": 6,
    "start_time": "2021-12-30T08:37:37.769Z"
   },
   {
    "duration": 24,
    "start_time": "2021-12-30T08:37:37.777Z"
   },
   {
    "duration": 58,
    "start_time": "2021-12-30T08:37:37.803Z"
   },
   {
    "duration": 24,
    "start_time": "2021-12-30T08:37:37.863Z"
   },
   {
    "duration": 20,
    "start_time": "2021-12-30T08:37:37.890Z"
   },
   {
    "duration": 5,
    "start_time": "2021-12-30T08:37:37.913Z"
   },
   {
    "duration": 313,
    "start_time": "2021-12-30T08:37:37.920Z"
   },
   {
    "duration": 4,
    "start_time": "2021-12-30T08:37:38.235Z"
   },
   {
    "duration": 19,
    "start_time": "2021-12-30T08:37:38.241Z"
   },
   {
    "duration": 77,
    "start_time": "2021-12-30T08:37:38.263Z"
   },
   {
    "duration": 159,
    "start_time": "2021-12-30T08:37:38.343Z"
   },
   {
    "duration": 9,
    "start_time": "2021-12-30T08:37:38.504Z"
   },
   {
    "duration": 13,
    "start_time": "2021-12-30T08:37:38.516Z"
   },
   {
    "duration": 5,
    "start_time": "2021-12-30T08:37:38.531Z"
   },
   {
    "duration": 25,
    "start_time": "2021-12-30T08:37:38.538Z"
   },
   {
    "duration": 18,
    "start_time": "2021-12-30T08:37:38.565Z"
   },
   {
    "duration": 9,
    "start_time": "2021-12-30T08:37:38.585Z"
   },
   {
    "duration": 1079,
    "start_time": "2021-12-30T08:37:38.596Z"
   },
   {
    "duration": 21,
    "start_time": "2021-12-30T08:37:39.677Z"
   },
   {
    "duration": 14,
    "start_time": "2021-12-30T08:37:39.700Z"
   },
   {
    "duration": 42,
    "start_time": "2021-12-30T08:37:39.716Z"
   },
   {
    "duration": 240,
    "start_time": "2021-12-30T08:37:39.760Z"
   },
   {
    "duration": 404,
    "start_time": "2021-12-30T08:37:40.003Z"
   },
   {
    "duration": 11,
    "start_time": "2021-12-30T08:37:40.410Z"
   },
   {
    "duration": 1574,
    "start_time": "2021-12-30T08:37:40.424Z"
   },
   {
    "duration": -2972,
    "start_time": "2021-12-30T08:37:44.973Z"
   },
   {
    "duration": -2976,
    "start_time": "2021-12-30T08:37:44.979Z"
   },
   {
    "duration": -2982,
    "start_time": "2021-12-30T08:37:44.986Z"
   },
   {
    "duration": -2987,
    "start_time": "2021-12-30T08:37:44.992Z"
   },
   {
    "duration": -2993,
    "start_time": "2021-12-30T08:37:44.999Z"
   },
   {
    "duration": -2998,
    "start_time": "2021-12-30T08:37:45.006Z"
   },
   {
    "duration": -3003,
    "start_time": "2021-12-30T08:37:45.012Z"
   },
   {
    "duration": -3008,
    "start_time": "2021-12-30T08:37:45.018Z"
   },
   {
    "duration": -3012,
    "start_time": "2021-12-30T08:37:45.024Z"
   },
   {
    "duration": -3017,
    "start_time": "2021-12-30T08:37:45.030Z"
   },
   {
    "duration": -3021,
    "start_time": "2021-12-30T08:37:45.035Z"
   },
   {
    "duration": -3026,
    "start_time": "2021-12-30T08:37:45.041Z"
   },
   {
    "duration": -3029,
    "start_time": "2021-12-30T08:37:45.046Z"
   },
   {
    "duration": -3032,
    "start_time": "2021-12-30T08:37:45.051Z"
   },
   {
    "duration": -3036,
    "start_time": "2021-12-30T08:37:45.056Z"
   },
   {
    "duration": -3065,
    "start_time": "2021-12-30T08:37:45.086Z"
   },
   {
    "duration": -3070,
    "start_time": "2021-12-30T08:37:45.092Z"
   },
   {
    "duration": -3087,
    "start_time": "2021-12-30T08:37:45.110Z"
   },
   {
    "duration": -3092,
    "start_time": "2021-12-30T08:37:45.116Z"
   },
   {
    "duration": -3096,
    "start_time": "2021-12-30T08:37:45.122Z"
   },
   {
    "duration": -3102,
    "start_time": "2021-12-30T08:37:45.129Z"
   },
   {
    "duration": 25,
    "start_time": "2021-12-30T08:40:11.302Z"
   },
   {
    "duration": 27,
    "start_time": "2021-12-30T08:41:07.747Z"
   },
   {
    "duration": 20,
    "start_time": "2021-12-30T08:41:33.903Z"
   },
   {
    "duration": 9,
    "start_time": "2021-12-30T08:41:50.828Z"
   },
   {
    "duration": 13,
    "start_time": "2021-12-30T08:42:01.352Z"
   },
   {
    "duration": 10,
    "start_time": "2021-12-30T08:42:02.630Z"
   },
   {
    "duration": 1555,
    "start_time": "2021-12-30T08:44:32.972Z"
   },
   {
    "duration": 105,
    "start_time": "2021-12-30T08:44:34.530Z"
   },
   {
    "duration": 20,
    "start_time": "2021-12-30T08:44:34.638Z"
   },
   {
    "duration": 7,
    "start_time": "2021-12-30T08:44:34.661Z"
   },
   {
    "duration": 19,
    "start_time": "2021-12-30T08:44:34.670Z"
   },
   {
    "duration": 6,
    "start_time": "2021-12-30T08:44:34.691Z"
   },
   {
    "duration": 288,
    "start_time": "2021-12-30T08:44:34.700Z"
   },
   {
    "duration": 626,
    "start_time": "2021-12-30T08:44:34.994Z"
   },
   {
    "duration": 581,
    "start_time": "2021-12-30T08:44:35.624Z"
   },
   {
    "duration": 591,
    "start_time": "2021-12-30T08:44:36.207Z"
   },
   {
    "duration": 31,
    "start_time": "2021-12-30T08:44:36.802Z"
   },
   {
    "duration": 42,
    "start_time": "2021-12-30T08:44:36.835Z"
   },
   {
    "duration": 28,
    "start_time": "2021-12-30T08:44:36.879Z"
   },
   {
    "duration": 22,
    "start_time": "2021-12-30T08:44:36.909Z"
   },
   {
    "duration": 20,
    "start_time": "2021-12-30T08:44:36.960Z"
   },
   {
    "duration": 78,
    "start_time": "2021-12-30T08:44:36.983Z"
   },
   {
    "duration": 5,
    "start_time": "2021-12-30T08:44:37.064Z"
   },
   {
    "duration": 40,
    "start_time": "2021-12-30T08:44:37.071Z"
   },
   {
    "duration": 58,
    "start_time": "2021-12-30T08:44:37.114Z"
   },
   {
    "duration": 14,
    "start_time": "2021-12-30T08:44:37.174Z"
   },
   {
    "duration": 894,
    "start_time": "2021-12-30T08:44:37.191Z"
   },
   {
    "duration": 18,
    "start_time": "2021-12-30T08:44:38.088Z"
   },
   {
    "duration": 7,
    "start_time": "2021-12-30T08:44:38.112Z"
   },
   {
    "duration": 1194,
    "start_time": "2021-12-30T08:44:38.123Z"
   },
   {
    "duration": 7008,
    "start_time": "2021-12-30T08:44:39.320Z"
   },
   {
    "duration": 319,
    "start_time": "2021-12-30T08:44:46.330Z"
   },
   {
    "duration": 6956,
    "start_time": "2021-12-30T08:44:46.651Z"
   },
   {
    "duration": 18,
    "start_time": "2021-12-30T08:44:53.609Z"
   },
   {
    "duration": 7587,
    "start_time": "2021-12-30T08:44:53.630Z"
   },
   {
    "duration": 44,
    "start_time": "2021-12-30T08:45:01.221Z"
   },
   {
    "duration": 56,
    "start_time": "2021-12-30T08:45:01.268Z"
   },
   {
    "duration": 35,
    "start_time": "2021-12-30T08:45:01.326Z"
   },
   {
    "duration": 21,
    "start_time": "2021-12-30T08:45:01.364Z"
   },
   {
    "duration": 6,
    "start_time": "2021-12-30T08:45:01.388Z"
   },
   {
    "duration": 553,
    "start_time": "2021-12-30T08:45:01.396Z"
   },
   {
    "duration": 11,
    "start_time": "2021-12-30T08:45:01.951Z"
   },
   {
    "duration": 25,
    "start_time": "2021-12-30T08:45:01.964Z"
   },
   {
    "duration": 33,
    "start_time": "2021-12-30T08:45:01.991Z"
   },
   {
    "duration": 54,
    "start_time": "2021-12-30T08:45:02.027Z"
   },
   {
    "duration": 21,
    "start_time": "2021-12-30T08:45:02.083Z"
   },
   {
    "duration": 6,
    "start_time": "2021-12-30T08:45:02.106Z"
   },
   {
    "duration": 392,
    "start_time": "2021-12-30T08:45:02.114Z"
   },
   {
    "duration": 5,
    "start_time": "2021-12-30T08:45:02.509Z"
   },
   {
    "duration": 6,
    "start_time": "2021-12-30T08:45:02.516Z"
   },
   {
    "duration": 101,
    "start_time": "2021-12-30T08:45:02.524Z"
   },
   {
    "duration": 143,
    "start_time": "2021-12-30T08:45:02.628Z"
   },
   {
    "duration": 11,
    "start_time": "2021-12-30T08:45:02.774Z"
   },
   {
    "duration": 19,
    "start_time": "2021-12-30T08:45:02.787Z"
   },
   {
    "duration": 4,
    "start_time": "2021-12-30T08:45:02.809Z"
   },
   {
    "duration": 8,
    "start_time": "2021-12-30T08:45:02.815Z"
   },
   {
    "duration": 46,
    "start_time": "2021-12-30T08:45:02.826Z"
   },
   {
    "duration": 10,
    "start_time": "2021-12-30T08:45:02.874Z"
   },
   {
    "duration": 948,
    "start_time": "2021-12-30T08:45:02.886Z"
   },
   {
    "duration": 30,
    "start_time": "2021-12-30T08:45:03.837Z"
   },
   {
    "duration": 15,
    "start_time": "2021-12-30T08:45:03.869Z"
   },
   {
    "duration": 32,
    "start_time": "2021-12-30T08:45:03.886Z"
   },
   {
    "duration": 239,
    "start_time": "2021-12-30T08:45:03.920Z"
   },
   {
    "duration": 372,
    "start_time": "2021-12-30T08:45:04.161Z"
   },
   {
    "duration": 26,
    "start_time": "2021-12-30T08:45:04.535Z"
   },
   {
    "duration": 492,
    "start_time": "2021-12-30T08:45:04.563Z"
   },
   {
    "duration": -1302,
    "start_time": "2021-12-30T08:45:06.360Z"
   },
   {
    "duration": -1320,
    "start_time": "2021-12-30T08:45:06.380Z"
   },
   {
    "duration": -1336,
    "start_time": "2021-12-30T08:45:06.398Z"
   },
   {
    "duration": -1351,
    "start_time": "2021-12-30T08:45:06.414Z"
   },
   {
    "duration": -1366,
    "start_time": "2021-12-30T08:45:06.430Z"
   },
   {
    "duration": -1391,
    "start_time": "2021-12-30T08:45:06.457Z"
   },
   {
    "duration": -1399,
    "start_time": "2021-12-30T08:45:06.466Z"
   },
   {
    "duration": -1404,
    "start_time": "2021-12-30T08:45:06.473Z"
   },
   {
    "duration": -1408,
    "start_time": "2021-12-30T08:45:06.479Z"
   },
   {
    "duration": -1413,
    "start_time": "2021-12-30T08:45:06.485Z"
   },
   {
    "duration": -1420,
    "start_time": "2021-12-30T08:45:06.494Z"
   },
   {
    "duration": -1428,
    "start_time": "2021-12-30T08:45:06.503Z"
   },
   {
    "duration": -1436,
    "start_time": "2021-12-30T08:45:06.513Z"
   },
   {
    "duration": -1444,
    "start_time": "2021-12-30T08:45:06.522Z"
   },
   {
    "duration": -1455,
    "start_time": "2021-12-30T08:45:06.535Z"
   },
   {
    "duration": -1463,
    "start_time": "2021-12-30T08:45:06.544Z"
   },
   {
    "duration": -1471,
    "start_time": "2021-12-30T08:45:06.554Z"
   },
   {
    "duration": -1489,
    "start_time": "2021-12-30T08:45:06.573Z"
   },
   {
    "duration": -1498,
    "start_time": "2021-12-30T08:45:06.584Z"
   },
   {
    "duration": -1506,
    "start_time": "2021-12-30T08:45:06.593Z"
   },
   {
    "duration": -1514,
    "start_time": "2021-12-30T08:45:06.602Z"
   },
   {
    "duration": 193,
    "start_time": "2021-12-30T08:45:20.082Z"
   },
   {
    "duration": 395,
    "start_time": "2021-12-30T08:45:23.288Z"
   },
   {
    "duration": 11,
    "start_time": "2021-12-30T08:45:25.633Z"
   },
   {
    "duration": 10,
    "start_time": "2021-12-30T08:45:36.520Z"
   },
   {
    "duration": 21,
    "start_time": "2021-12-30T08:46:07.254Z"
   },
   {
    "duration": 2615,
    "start_time": "2021-12-30T08:46:25.934Z"
   },
   {
    "duration": 2528,
    "start_time": "2021-12-30T08:46:47.515Z"
   },
   {
    "duration": 8,
    "start_time": "2021-12-30T08:47:04.004Z"
   },
   {
    "duration": 404,
    "start_time": "2021-12-30T08:47:38.252Z"
   },
   {
    "duration": 415,
    "start_time": "2021-12-30T08:47:46.235Z"
   },
   {
    "duration": 529,
    "start_time": "2021-12-30T08:48:08.439Z"
   },
   {
    "duration": 6,
    "start_time": "2021-12-30T08:48:21.041Z"
   },
   {
    "duration": 30,
    "start_time": "2021-12-30T08:48:28.261Z"
   },
   {
    "duration": 22,
    "start_time": "2021-12-30T08:52:14.308Z"
   },
   {
    "duration": 8,
    "start_time": "2021-12-30T08:53:13.184Z"
   },
   {
    "duration": 6,
    "start_time": "2021-12-30T08:53:49.964Z"
   },
   {
    "duration": 22,
    "start_time": "2021-12-30T08:53:57.304Z"
   },
   {
    "duration": 5,
    "start_time": "2021-12-30T08:56:22.944Z"
   },
   {
    "duration": 6,
    "start_time": "2021-12-30T08:56:24.445Z"
   },
   {
    "duration": 16,
    "start_time": "2021-12-30T08:56:25.404Z"
   },
   {
    "duration": 1713,
    "start_time": "2021-12-30T08:57:18.613Z"
   },
   {
    "duration": 106,
    "start_time": "2021-12-30T08:57:20.329Z"
   },
   {
    "duration": 21,
    "start_time": "2021-12-30T08:57:20.438Z"
   },
   {
    "duration": 10,
    "start_time": "2021-12-30T08:57:20.462Z"
   },
   {
    "duration": 8,
    "start_time": "2021-12-30T08:57:20.475Z"
   },
   {
    "duration": 7,
    "start_time": "2021-12-30T08:57:20.485Z"
   },
   {
    "duration": 285,
    "start_time": "2021-12-30T08:57:20.494Z"
   },
   {
    "duration": 753,
    "start_time": "2021-12-30T08:57:20.782Z"
   },
   {
    "duration": 581,
    "start_time": "2021-12-30T08:57:21.538Z"
   },
   {
    "duration": 582,
    "start_time": "2021-12-30T08:57:22.122Z"
   },
   {
    "duration": 31,
    "start_time": "2021-12-30T08:57:22.706Z"
   },
   {
    "duration": 39,
    "start_time": "2021-12-30T08:57:22.740Z"
   },
   {
    "duration": 28,
    "start_time": "2021-12-30T08:57:22.782Z"
   },
   {
    "duration": 46,
    "start_time": "2021-12-30T08:57:22.813Z"
   },
   {
    "duration": 20,
    "start_time": "2021-12-30T08:57:22.861Z"
   },
   {
    "duration": 81,
    "start_time": "2021-12-30T08:57:22.883Z"
   },
   {
    "duration": 6,
    "start_time": "2021-12-30T08:57:22.966Z"
   },
   {
    "duration": 46,
    "start_time": "2021-12-30T08:57:22.975Z"
   },
   {
    "duration": 46,
    "start_time": "2021-12-30T08:57:23.024Z"
   },
   {
    "duration": 14,
    "start_time": "2021-12-30T08:57:23.072Z"
   },
   {
    "duration": 813,
    "start_time": "2021-12-30T08:57:23.089Z"
   },
   {
    "duration": 20,
    "start_time": "2021-12-30T08:57:23.905Z"
   },
   {
    "duration": 29,
    "start_time": "2021-12-30T08:57:23.931Z"
   },
   {
    "duration": 1145,
    "start_time": "2021-12-30T08:57:23.964Z"
   },
   {
    "duration": 5795,
    "start_time": "2021-12-30T08:57:25.111Z"
   },
   {
    "duration": 312,
    "start_time": "2021-12-30T08:57:30.909Z"
   },
   {
    "duration": 6703,
    "start_time": "2021-12-30T08:57:31.223Z"
   },
   {
    "duration": 17,
    "start_time": "2021-12-30T08:57:37.928Z"
   },
   {
    "duration": 8759,
    "start_time": "2021-12-30T08:57:37.959Z"
   },
   {
    "duration": 43,
    "start_time": "2021-12-30T08:57:46.721Z"
   },
   {
    "duration": 49,
    "start_time": "2021-12-30T08:57:46.767Z"
   },
   {
    "duration": 44,
    "start_time": "2021-12-30T08:57:46.818Z"
   },
   {
    "duration": 14,
    "start_time": "2021-12-30T08:57:46.864Z"
   },
   {
    "duration": 5,
    "start_time": "2021-12-30T08:57:46.881Z"
   },
   {
    "duration": 580,
    "start_time": "2021-12-30T08:57:46.889Z"
   },
   {
    "duration": 5,
    "start_time": "2021-12-30T08:57:47.472Z"
   },
   {
    "duration": 26,
    "start_time": "2021-12-30T08:57:47.480Z"
   },
   {
    "duration": 65,
    "start_time": "2021-12-30T08:57:47.509Z"
   },
   {
    "duration": 27,
    "start_time": "2021-12-30T08:57:47.577Z"
   },
   {
    "duration": 24,
    "start_time": "2021-12-30T08:57:47.606Z"
   },
   {
    "duration": 33,
    "start_time": "2021-12-30T08:57:47.633Z"
   },
   {
    "duration": 281,
    "start_time": "2021-12-30T08:57:47.669Z"
   },
   {
    "duration": 7,
    "start_time": "2021-12-30T08:57:47.953Z"
   },
   {
    "duration": 8,
    "start_time": "2021-12-30T08:57:47.963Z"
   },
   {
    "duration": 102,
    "start_time": "2021-12-30T08:57:47.973Z"
   },
   {
    "duration": 146,
    "start_time": "2021-12-30T08:57:48.078Z"
   },
   {
    "duration": 13,
    "start_time": "2021-12-30T08:57:48.226Z"
   },
   {
    "duration": 30,
    "start_time": "2021-12-30T08:57:48.242Z"
   },
   {
    "duration": 5,
    "start_time": "2021-12-30T08:57:48.275Z"
   },
   {
    "duration": 9,
    "start_time": "2021-12-30T08:57:48.283Z"
   },
   {
    "duration": 19,
    "start_time": "2021-12-30T08:57:48.295Z"
   },
   {
    "duration": 50,
    "start_time": "2021-12-30T08:57:48.316Z"
   },
   {
    "duration": 951,
    "start_time": "2021-12-30T08:57:48.369Z"
   },
   {
    "duration": 37,
    "start_time": "2021-12-30T08:57:49.322Z"
   },
   {
    "duration": 16,
    "start_time": "2021-12-30T08:57:49.362Z"
   },
   {
    "duration": 33,
    "start_time": "2021-12-30T08:57:49.380Z"
   },
   {
    "duration": 240,
    "start_time": "2021-12-30T08:57:49.415Z"
   },
   {
    "duration": 389,
    "start_time": "2021-12-30T08:57:49.657Z"
   },
   {
    "duration": 18,
    "start_time": "2021-12-30T08:57:50.048Z"
   },
   {
    "duration": 6,
    "start_time": "2021-12-30T08:57:50.068Z"
   },
   {
    "duration": 510,
    "start_time": "2021-12-30T08:57:50.076Z"
   },
   {
    "duration": -1235,
    "start_time": "2021-12-30T08:57:51.825Z"
   },
   {
    "duration": -1244,
    "start_time": "2021-12-30T08:57:51.836Z"
   },
   {
    "duration": -1257,
    "start_time": "2021-12-30T08:57:51.850Z"
   },
   {
    "duration": -1264,
    "start_time": "2021-12-30T08:57:51.859Z"
   },
   {
    "duration": -1281,
    "start_time": "2021-12-30T08:57:51.878Z"
   },
   {
    "duration": -1290,
    "start_time": "2021-12-30T08:57:51.888Z"
   },
   {
    "duration": -1303,
    "start_time": "2021-12-30T08:57:51.902Z"
   },
   {
    "duration": -1333,
    "start_time": "2021-12-30T08:57:51.934Z"
   },
   {
    "duration": -1342,
    "start_time": "2021-12-30T08:57:51.944Z"
   },
   {
    "duration": -1349,
    "start_time": "2021-12-30T08:57:51.952Z"
   },
   {
    "duration": -1356,
    "start_time": "2021-12-30T08:57:51.961Z"
   },
   {
    "duration": -1363,
    "start_time": "2021-12-30T08:57:51.969Z"
   },
   {
    "duration": -1368,
    "start_time": "2021-12-30T08:57:51.975Z"
   },
   {
    "duration": -1375,
    "start_time": "2021-12-30T08:57:51.983Z"
   },
   {
    "duration": -1378,
    "start_time": "2021-12-30T08:57:51.988Z"
   },
   {
    "duration": -1383,
    "start_time": "2021-12-30T08:57:51.994Z"
   },
   {
    "duration": -1389,
    "start_time": "2021-12-30T08:57:52.002Z"
   },
   {
    "duration": -1393,
    "start_time": "2021-12-30T08:57:52.007Z"
   },
   {
    "duration": -1399,
    "start_time": "2021-12-30T08:57:52.015Z"
   },
   {
    "duration": -1406,
    "start_time": "2021-12-30T08:57:52.023Z"
   },
   {
    "duration": -1425,
    "start_time": "2021-12-30T08:57:52.043Z"
   },
   {
    "duration": 7,
    "start_time": "2021-12-30T08:58:25.327Z"
   },
   {
    "duration": 6,
    "start_time": "2021-12-30T08:59:08.082Z"
   },
   {
    "duration": 199,
    "start_time": "2021-12-30T08:59:11.593Z"
   },
   {
    "duration": 19,
    "start_time": "2021-12-30T08:59:12.655Z"
   },
   {
    "duration": 15,
    "start_time": "2021-12-30T08:59:14.310Z"
   },
   {
    "duration": 23,
    "start_time": "2021-12-30T08:59:21.545Z"
   },
   {
    "duration": 252,
    "start_time": "2021-12-30T08:59:27.556Z"
   },
   {
    "duration": 25,
    "start_time": "2021-12-30T08:59:33.476Z"
   },
   {
    "duration": 10,
    "start_time": "2021-12-30T08:59:41.280Z"
   },
   {
    "duration": 13,
    "start_time": "2021-12-30T08:59:48.170Z"
   },
   {
    "duration": 8,
    "start_time": "2021-12-30T08:59:49.674Z"
   },
   {
    "duration": 13,
    "start_time": "2021-12-30T09:00:16.717Z"
   },
   {
    "duration": 8,
    "start_time": "2021-12-30T09:00:17.725Z"
   },
   {
    "duration": 14,
    "start_time": "2021-12-30T09:01:01.582Z"
   },
   {
    "duration": 3,
    "start_time": "2021-12-30T09:02:04.948Z"
   },
   {
    "duration": 6,
    "start_time": "2021-12-30T09:02:07.427Z"
   },
   {
    "duration": 12,
    "start_time": "2021-12-30T09:02:14.410Z"
   },
   {
    "duration": 7,
    "start_time": "2021-12-30T09:02:30.573Z"
   },
   {
    "duration": 7,
    "start_time": "2021-12-30T09:02:48.626Z"
   },
   {
    "duration": 7,
    "start_time": "2021-12-30T09:04:44.243Z"
   },
   {
    "duration": 403,
    "start_time": "2021-12-30T09:05:12.808Z"
   },
   {
    "duration": 8,
    "start_time": "2021-12-30T09:05:49.397Z"
   },
   {
    "duration": 910,
    "start_time": "2021-12-30T09:08:17.270Z"
   },
   {
    "duration": 950,
    "start_time": "2021-12-30T09:09:23.561Z"
   },
   {
    "duration": 1080,
    "start_time": "2021-12-30T09:09:35.445Z"
   },
   {
    "duration": 1378,
    "start_time": "2021-12-30T09:11:02.900Z"
   },
   {
    "duration": 1122,
    "start_time": "2021-12-30T09:12:07.331Z"
   },
   {
    "duration": 21,
    "start_time": "2021-12-30T09:21:41.288Z"
   },
   {
    "duration": 20,
    "start_time": "2021-12-30T09:22:00.015Z"
   },
   {
    "duration": 16,
    "start_time": "2021-12-30T09:39:19.801Z"
   },
   {
    "duration": 13,
    "start_time": "2021-12-30T09:40:26.093Z"
   },
   {
    "duration": 6,
    "start_time": "2021-12-30T09:40:31.016Z"
   },
   {
    "duration": 9,
    "start_time": "2021-12-30T09:40:57.605Z"
   },
   {
    "duration": 7,
    "start_time": "2021-12-30T09:43:03.014Z"
   },
   {
    "duration": 7,
    "start_time": "2021-12-30T09:46:10.684Z"
   },
   {
    "duration": 1132,
    "start_time": "2021-12-30T09:47:45.831Z"
   },
   {
    "duration": 21,
    "start_time": "2021-12-30T09:51:33.910Z"
   },
   {
    "duration": 18,
    "start_time": "2021-12-30T09:51:35.242Z"
   },
   {
    "duration": 9,
    "start_time": "2021-12-30T09:51:36.891Z"
   },
   {
    "duration": 7,
    "start_time": "2021-12-30T09:51:40.680Z"
   },
   {
    "duration": 8,
    "start_time": "2021-12-30T09:53:50.430Z"
   },
   {
    "duration": 10,
    "start_time": "2021-12-30T09:53:51.675Z"
   },
   {
    "duration": 7,
    "start_time": "2021-12-30T09:55:10.501Z"
   },
   {
    "duration": 9,
    "start_time": "2021-12-30T09:55:12.676Z"
   },
   {
    "duration": 32,
    "start_time": "2021-12-30T09:57:20.836Z"
   },
   {
    "duration": 1319,
    "start_time": "2021-12-30T09:59:28.624Z"
   },
   {
    "duration": 1447,
    "start_time": "2021-12-30T09:59:48.661Z"
   },
   {
    "duration": 35,
    "start_time": "2021-12-30T10:00:14.227Z"
   },
   {
    "duration": 1693,
    "start_time": "2021-12-30T10:19:49.840Z"
   },
   {
    "duration": 107,
    "start_time": "2021-12-30T10:19:51.536Z"
   },
   {
    "duration": 20,
    "start_time": "2021-12-30T10:19:51.646Z"
   },
   {
    "duration": 8,
    "start_time": "2021-12-30T10:19:51.669Z"
   },
   {
    "duration": 10,
    "start_time": "2021-12-30T10:19:51.680Z"
   },
   {
    "duration": 9,
    "start_time": "2021-12-30T10:19:51.692Z"
   },
   {
    "duration": 301,
    "start_time": "2021-12-30T10:19:51.703Z"
   },
   {
    "duration": 610,
    "start_time": "2021-12-30T10:19:52.008Z"
   },
   {
    "duration": 585,
    "start_time": "2021-12-30T10:19:52.621Z"
   },
   {
    "duration": 781,
    "start_time": "2021-12-30T10:19:53.209Z"
   },
   {
    "duration": 45,
    "start_time": "2021-12-30T10:19:53.993Z"
   },
   {
    "duration": 29,
    "start_time": "2021-12-30T10:19:54.060Z"
   },
   {
    "duration": 39,
    "start_time": "2021-12-30T10:19:54.092Z"
   },
   {
    "duration": 47,
    "start_time": "2021-12-30T10:19:54.134Z"
   },
   {
    "duration": 18,
    "start_time": "2021-12-30T10:19:54.184Z"
   },
   {
    "duration": 86,
    "start_time": "2021-12-30T10:19:54.204Z"
   },
   {
    "duration": 6,
    "start_time": "2021-12-30T10:19:54.292Z"
   },
   {
    "duration": 62,
    "start_time": "2021-12-30T10:19:54.300Z"
   },
   {
    "duration": 28,
    "start_time": "2021-12-30T10:19:54.365Z"
   },
   {
    "duration": 17,
    "start_time": "2021-12-30T10:19:54.395Z"
   },
   {
    "duration": 827,
    "start_time": "2021-12-30T10:19:54.414Z"
   },
   {
    "duration": 28,
    "start_time": "2021-12-30T10:19:55.245Z"
   },
   {
    "duration": 8,
    "start_time": "2021-12-30T10:19:55.279Z"
   },
   {
    "duration": 1191,
    "start_time": "2021-12-30T10:19:55.292Z"
   },
   {
    "duration": 5551,
    "start_time": "2021-12-30T10:19:56.486Z"
   },
   {
    "duration": 306,
    "start_time": "2021-12-30T10:20:02.040Z"
   },
   {
    "duration": 6750,
    "start_time": "2021-12-30T10:20:02.349Z"
   },
   {
    "duration": 18,
    "start_time": "2021-12-30T10:20:09.101Z"
   },
   {
    "duration": 7813,
    "start_time": "2021-12-30T10:20:09.122Z"
   },
   {
    "duration": 35,
    "start_time": "2021-12-30T10:20:16.937Z"
   },
   {
    "duration": 42,
    "start_time": "2021-12-30T10:20:16.974Z"
   },
   {
    "duration": 40,
    "start_time": "2021-12-30T10:20:17.018Z"
   },
   {
    "duration": 12,
    "start_time": "2021-12-30T10:20:17.060Z"
   },
   {
    "duration": 5,
    "start_time": "2021-12-30T10:20:17.075Z"
   },
   {
    "duration": 493,
    "start_time": "2021-12-30T10:20:17.083Z"
   },
   {
    "duration": 6,
    "start_time": "2021-12-30T10:20:17.578Z"
   },
   {
    "duration": 28,
    "start_time": "2021-12-30T10:20:17.586Z"
   },
   {
    "duration": 50,
    "start_time": "2021-12-30T10:20:17.617Z"
   },
   {
    "duration": 23,
    "start_time": "2021-12-30T10:20:17.670Z"
   },
   {
    "duration": 21,
    "start_time": "2021-12-30T10:20:17.695Z"
   },
   {
    "duration": 6,
    "start_time": "2021-12-30T10:20:17.719Z"
   },
   {
    "duration": 313,
    "start_time": "2021-12-30T10:20:17.727Z"
   },
   {
    "duration": 4,
    "start_time": "2021-12-30T10:20:18.042Z"
   },
   {
    "duration": 6,
    "start_time": "2021-12-30T10:20:18.060Z"
   },
   {
    "duration": 95,
    "start_time": "2021-12-30T10:20:18.068Z"
   },
   {
    "duration": 165,
    "start_time": "2021-12-30T10:20:18.166Z"
   },
   {
    "duration": 25,
    "start_time": "2021-12-30T10:20:18.334Z"
   },
   {
    "duration": 13,
    "start_time": "2021-12-30T10:20:18.362Z"
   },
   {
    "duration": 6,
    "start_time": "2021-12-30T10:20:18.378Z"
   },
   {
    "duration": 7,
    "start_time": "2021-12-30T10:20:18.387Z"
   },
   {
    "duration": 19,
    "start_time": "2021-12-30T10:20:18.397Z"
   },
   {
    "duration": 42,
    "start_time": "2021-12-30T10:20:18.418Z"
   },
   {
    "duration": 949,
    "start_time": "2021-12-30T10:20:18.463Z"
   },
   {
    "duration": 21,
    "start_time": "2021-12-30T10:20:19.414Z"
   },
   {
    "duration": 28,
    "start_time": "2021-12-30T10:20:19.438Z"
   },
   {
    "duration": 30,
    "start_time": "2021-12-30T10:20:19.469Z"
   },
   {
    "duration": 230,
    "start_time": "2021-12-30T10:20:19.502Z"
   },
   {
    "duration": 389,
    "start_time": "2021-12-30T10:20:19.734Z"
   },
   {
    "duration": 12,
    "start_time": "2021-12-30T10:20:20.126Z"
   },
   {
    "duration": 19,
    "start_time": "2021-12-30T10:20:20.141Z"
   },
   {
    "duration": 208,
    "start_time": "2021-12-30T10:20:20.163Z"
   },
   {
    "duration": 12,
    "start_time": "2021-12-30T10:20:20.374Z"
   },
   {
    "duration": 16,
    "start_time": "2021-12-30T10:20:20.388Z"
   },
   {
    "duration": 61,
    "start_time": "2021-12-30T10:20:20.407Z"
   },
   {
    "duration": 259,
    "start_time": "2021-12-30T10:20:20.471Z"
   },
   {
    "duration": 37,
    "start_time": "2021-12-30T10:20:20.733Z"
   },
   {
    "duration": 11,
    "start_time": "2021-12-30T10:20:20.772Z"
   },
   {
    "duration": 12,
    "start_time": "2021-12-30T10:20:20.790Z"
   },
   {
    "duration": 25,
    "start_time": "2021-12-30T10:20:20.805Z"
   },
   {
    "duration": 33,
    "start_time": "2021-12-30T10:20:20.832Z"
   },
   {
    "duration": 14,
    "start_time": "2021-12-30T10:20:20.868Z"
   },
   {
    "duration": 18,
    "start_time": "2021-12-30T10:20:20.885Z"
   },
   {
    "duration": 1166,
    "start_time": "2021-12-30T10:20:20.905Z"
   },
   {
    "duration": 7,
    "start_time": "2021-12-30T10:20:22.073Z"
   },
   {
    "duration": 11,
    "start_time": "2021-12-30T10:20:22.082Z"
   },
   {
    "duration": 1190,
    "start_time": "2021-12-30T10:20:22.095Z"
   },
   {
    "duration": 18,
    "start_time": "2021-12-30T10:20:23.288Z"
   },
   {
    "duration": 20,
    "start_time": "2021-12-30T10:20:23.308Z"
   },
   {
    "duration": 34,
    "start_time": "2021-12-30T10:20:23.330Z"
   },
   {
    "duration": 9,
    "start_time": "2021-12-30T10:20:23.367Z"
   },
   {
    "duration": 23,
    "start_time": "2021-12-30T10:20:23.378Z"
   },
   {
    "duration": 32,
    "start_time": "2021-12-30T10:20:23.404Z"
   },
   {
    "duration": 33,
    "start_time": "2021-12-30T10:46:49.376Z"
   },
   {
    "duration": 34,
    "start_time": "2021-12-30T10:47:20.193Z"
   },
   {
    "duration": 32,
    "start_time": "2021-12-30T10:47:40.679Z"
   },
   {
    "duration": 1719,
    "start_time": "2021-12-30T11:01:05.940Z"
   },
   {
    "duration": 111,
    "start_time": "2021-12-30T11:01:07.662Z"
   },
   {
    "duration": 22,
    "start_time": "2021-12-30T11:01:07.776Z"
   },
   {
    "duration": 9,
    "start_time": "2021-12-30T11:01:07.801Z"
   },
   {
    "duration": 17,
    "start_time": "2021-12-30T11:01:07.813Z"
   },
   {
    "duration": 31,
    "start_time": "2021-12-30T11:01:07.833Z"
   },
   {
    "duration": 287,
    "start_time": "2021-12-30T11:01:07.866Z"
   },
   {
    "duration": 616,
    "start_time": "2021-12-30T11:01:08.159Z"
   },
   {
    "duration": 593,
    "start_time": "2021-12-30T11:01:08.779Z"
   },
   {
    "duration": 585,
    "start_time": "2021-12-30T11:01:09.374Z"
   },
   {
    "duration": 32,
    "start_time": "2021-12-30T11:01:09.961Z"
   },
   {
    "duration": 21,
    "start_time": "2021-12-30T11:01:09.995Z"
   },
   {
    "duration": 55,
    "start_time": "2021-12-30T11:01:10.019Z"
   },
   {
    "duration": 22,
    "start_time": "2021-12-30T11:01:10.077Z"
   },
   {
    "duration": 20,
    "start_time": "2021-12-30T11:01:10.102Z"
   },
   {
    "duration": 82,
    "start_time": "2021-12-30T11:01:10.124Z"
   },
   {
    "duration": 6,
    "start_time": "2021-12-30T11:01:10.208Z"
   },
   {
    "duration": 67,
    "start_time": "2021-12-30T11:01:10.216Z"
   },
   {
    "duration": 26,
    "start_time": "2021-12-30T11:01:10.285Z"
   },
   {
    "duration": 14,
    "start_time": "2021-12-30T11:01:10.314Z"
   },
   {
    "duration": 843,
    "start_time": "2021-12-30T11:01:10.331Z"
   },
   {
    "duration": 20,
    "start_time": "2021-12-30T11:01:11.176Z"
   },
   {
    "duration": 9,
    "start_time": "2021-12-30T11:01:11.202Z"
   },
   {
    "duration": 1231,
    "start_time": "2021-12-30T11:01:11.216Z"
   },
   {
    "duration": 5679,
    "start_time": "2021-12-30T11:01:12.450Z"
   },
   {
    "duration": 306,
    "start_time": "2021-12-30T11:01:18.132Z"
   },
   {
    "duration": 6746,
    "start_time": "2021-12-30T11:01:18.440Z"
   },
   {
    "duration": 19,
    "start_time": "2021-12-30T11:01:25.189Z"
   },
   {
    "duration": 7749,
    "start_time": "2021-12-30T11:01:25.210Z"
   },
   {
    "duration": 24,
    "start_time": "2021-12-30T11:01:32.961Z"
   },
   {
    "duration": 73,
    "start_time": "2021-12-30T11:01:32.988Z"
   },
   {
    "duration": 13,
    "start_time": "2021-12-30T11:01:33.064Z"
   },
   {
    "duration": 13,
    "start_time": "2021-12-30T11:01:33.080Z"
   },
   {
    "duration": 6,
    "start_time": "2021-12-30T11:01:33.096Z"
   },
   {
    "duration": 533,
    "start_time": "2021-12-30T11:01:33.104Z"
   },
   {
    "duration": 6,
    "start_time": "2021-12-30T11:01:33.640Z"
   },
   {
    "duration": 24,
    "start_time": "2021-12-30T11:01:33.660Z"
   },
   {
    "duration": 27,
    "start_time": "2021-12-30T11:01:33.686Z"
   },
   {
    "duration": 48,
    "start_time": "2021-12-30T11:01:33.715Z"
   },
   {
    "duration": 21,
    "start_time": "2021-12-30T11:01:33.765Z"
   },
   {
    "duration": 5,
    "start_time": "2021-12-30T11:01:33.789Z"
   },
   {
    "duration": 287,
    "start_time": "2021-12-30T11:01:33.798Z"
   },
   {
    "duration": 4,
    "start_time": "2021-12-30T11:01:34.088Z"
   },
   {
    "duration": 11,
    "start_time": "2021-12-30T11:01:34.095Z"
   },
   {
    "duration": 89,
    "start_time": "2021-12-30T11:01:34.109Z"
   },
   {
    "duration": 141,
    "start_time": "2021-12-30T11:01:34.201Z"
   },
   {
    "duration": 18,
    "start_time": "2021-12-30T11:01:34.344Z"
   },
   {
    "duration": 13,
    "start_time": "2021-12-30T11:01:34.365Z"
   },
   {
    "duration": 6,
    "start_time": "2021-12-30T11:01:34.381Z"
   },
   {
    "duration": 8,
    "start_time": "2021-12-30T11:01:34.389Z"
   },
   {
    "duration": 18,
    "start_time": "2021-12-30T11:01:34.399Z"
   },
   {
    "duration": 46,
    "start_time": "2021-12-30T11:01:34.419Z"
   },
   {
    "duration": 949,
    "start_time": "2021-12-30T11:01:34.467Z"
   },
   {
    "duration": 21,
    "start_time": "2021-12-30T11:01:35.419Z"
   },
   {
    "duration": 15,
    "start_time": "2021-12-30T11:01:35.460Z"
   },
   {
    "duration": 31,
    "start_time": "2021-12-30T11:01:35.477Z"
   },
   {
    "duration": 227,
    "start_time": "2021-12-30T11:01:35.511Z"
   },
   {
    "duration": 388,
    "start_time": "2021-12-30T11:01:35.741Z"
   },
   {
    "duration": 10,
    "start_time": "2021-12-30T11:01:36.132Z"
   },
   {
    "duration": 6,
    "start_time": "2021-12-30T11:01:36.159Z"
   },
   {
    "duration": 242,
    "start_time": "2021-12-30T11:01:36.168Z"
   },
   {
    "duration": 10,
    "start_time": "2021-12-30T11:01:36.412Z"
   },
   {
    "duration": 41,
    "start_time": "2021-12-30T11:01:36.424Z"
   },
   {
    "duration": 24,
    "start_time": "2021-12-30T11:01:36.468Z"
   },
   {
    "duration": 267,
    "start_time": "2021-12-30T11:01:36.495Z"
   },
   {
    "duration": 26,
    "start_time": "2021-12-30T11:01:36.764Z"
   },
   {
    "duration": 12,
    "start_time": "2021-12-30T11:01:36.792Z"
   },
   {
    "duration": 50,
    "start_time": "2021-12-30T11:01:36.812Z"
   },
   {
    "duration": 9,
    "start_time": "2021-12-30T11:01:36.865Z"
   },
   {
    "duration": 5,
    "start_time": "2021-12-30T11:01:36.877Z"
   },
   {
    "duration": 9,
    "start_time": "2021-12-30T11:01:36.885Z"
   },
   {
    "duration": 9,
    "start_time": "2021-12-30T11:01:36.897Z"
   },
   {
    "duration": 1150,
    "start_time": "2021-12-30T11:01:36.909Z"
   },
   {
    "duration": 8,
    "start_time": "2021-12-30T11:01:38.062Z"
   },
   {
    "duration": 9,
    "start_time": "2021-12-30T11:01:38.073Z"
   },
   {
    "duration": 1274,
    "start_time": "2021-12-30T11:01:38.085Z"
   },
   {
    "duration": 20,
    "start_time": "2021-12-30T11:01:39.362Z"
   },
   {
    "duration": 16,
    "start_time": "2021-12-30T11:01:39.385Z"
   },
   {
    "duration": 9,
    "start_time": "2021-12-30T11:01:39.403Z"
   },
   {
    "duration": 13,
    "start_time": "2021-12-30T11:01:39.415Z"
   },
   {
    "duration": 17,
    "start_time": "2021-12-30T11:01:39.430Z"
   },
   {
    "duration": 35,
    "start_time": "2021-12-30T11:01:39.450Z"
   },
   {
    "duration": 2537,
    "start_time": "2021-12-30T12:00:49.325Z"
   },
   {
    "duration": 186,
    "start_time": "2021-12-30T12:00:51.865Z"
   },
   {
    "duration": 86,
    "start_time": "2021-12-30T12:00:52.054Z"
   },
   {
    "duration": 120,
    "start_time": "2021-12-30T12:00:52.144Z"
   },
   {
    "duration": 90,
    "start_time": "2021-12-30T12:00:52.267Z"
   },
   {
    "duration": 76,
    "start_time": "2021-12-30T12:00:52.359Z"
   },
   {
    "duration": 630,
    "start_time": "2021-12-30T12:00:52.437Z"
   },
   {
    "duration": 1984,
    "start_time": "2021-12-30T12:00:53.069Z"
   },
   {
    "duration": 1374,
    "start_time": "2021-12-30T12:00:55.060Z"
   },
   {
    "duration": 1029,
    "start_time": "2021-12-30T12:00:56.437Z"
   },
   {
    "duration": 43,
    "start_time": "2021-12-30T12:00:57.524Z"
   },
   {
    "duration": 33,
    "start_time": "2021-12-30T12:00:57.624Z"
   },
   {
    "duration": 105,
    "start_time": "2021-12-30T12:00:57.660Z"
   },
   {
    "duration": 88,
    "start_time": "2021-12-30T12:00:57.767Z"
   },
   {
    "duration": 86,
    "start_time": "2021-12-30T12:00:57.858Z"
   },
   {
    "duration": 194,
    "start_time": "2021-12-30T12:00:57.948Z"
   },
   {
    "duration": 7,
    "start_time": "2021-12-30T12:00:58.145Z"
   },
   {
    "duration": 178,
    "start_time": "2021-12-30T12:00:58.155Z"
   },
   {
    "duration": 95,
    "start_time": "2021-12-30T12:00:58.336Z"
   },
   {
    "duration": 23,
    "start_time": "2021-12-30T12:00:58.434Z"
   },
   {
    "duration": 1579,
    "start_time": "2021-12-30T12:00:58.459Z"
   },
   {
    "duration": 18,
    "start_time": "2021-12-30T12:01:00.040Z"
   },
   {
    "duration": 69,
    "start_time": "2021-12-30T12:01:00.060Z"
   },
   {
    "duration": 2009,
    "start_time": "2021-12-30T12:01:00.132Z"
   },
   {
    "duration": 10624,
    "start_time": "2021-12-30T12:01:02.144Z"
   },
   {
    "duration": 652,
    "start_time": "2021-12-30T12:01:12.771Z"
   },
   {
    "duration": 15321,
    "start_time": "2021-12-30T12:01:13.429Z"
   },
   {
    "duration": 71,
    "start_time": "2021-12-30T12:01:28.757Z"
   },
   {
    "duration": 20891,
    "start_time": "2021-12-30T12:01:28.832Z"
   },
   {
    "duration": 24,
    "start_time": "2021-12-30T12:01:49.727Z"
   },
   {
    "duration": 106,
    "start_time": "2021-12-30T12:01:49.754Z"
   },
   {
    "duration": 72,
    "start_time": "2021-12-30T12:01:49.862Z"
   },
   {
    "duration": 16,
    "start_time": "2021-12-30T12:01:49.937Z"
   },
   {
    "duration": 7,
    "start_time": "2021-12-30T12:01:50.024Z"
   },
   {
    "duration": 901,
    "start_time": "2021-12-30T12:01:50.034Z"
   },
   {
    "duration": 6,
    "start_time": "2021-12-30T12:01:50.939Z"
   },
   {
    "duration": 88,
    "start_time": "2021-12-30T12:01:50.948Z"
   },
   {
    "duration": 85,
    "start_time": "2021-12-30T12:01:51.038Z"
   },
   {
    "duration": 36,
    "start_time": "2021-12-30T12:01:51.126Z"
   },
   {
    "duration": 22,
    "start_time": "2021-12-30T12:01:51.222Z"
   },
   {
    "duration": 5,
    "start_time": "2021-12-30T12:01:51.246Z"
   },
   {
    "duration": 808,
    "start_time": "2021-12-30T12:01:51.253Z"
   },
   {
    "duration": 60,
    "start_time": "2021-12-30T12:01:52.064Z"
   },
   {
    "duration": 7,
    "start_time": "2021-12-30T12:01:52.128Z"
   },
   {
    "duration": 310,
    "start_time": "2021-12-30T12:01:52.138Z"
   },
   {
    "duration": 508,
    "start_time": "2021-12-30T12:01:52.452Z"
   },
   {
    "duration": 70,
    "start_time": "2021-12-30T12:01:52.963Z"
   },
   {
    "duration": 20,
    "start_time": "2021-12-30T12:01:53.036Z"
   },
   {
    "duration": 67,
    "start_time": "2021-12-30T12:01:53.059Z"
   },
   {
    "duration": 9,
    "start_time": "2021-12-30T12:01:53.129Z"
   },
   {
    "duration": 18,
    "start_time": "2021-12-30T12:01:53.140Z"
   },
   {
    "duration": 11,
    "start_time": "2021-12-30T12:01:53.224Z"
   },
   {
    "duration": 2809,
    "start_time": "2021-12-30T12:01:53.237Z"
   },
   {
    "duration": 79,
    "start_time": "2021-12-30T12:01:56.048Z"
   },
   {
    "duration": 19,
    "start_time": "2021-12-30T12:01:56.130Z"
   },
   {
    "duration": 99,
    "start_time": "2021-12-30T12:01:56.152Z"
   },
   {
    "duration": 479,
    "start_time": "2021-12-30T12:01:56.254Z"
   },
   {
    "duration": 1217,
    "start_time": "2021-12-30T12:01:56.736Z"
   },
   {
    "duration": 69,
    "start_time": "2021-12-30T12:01:57.956Z"
   },
   {
    "duration": 5,
    "start_time": "2021-12-30T12:01:58.028Z"
   },
   {
    "duration": 521,
    "start_time": "2021-12-30T12:01:58.036Z"
   },
   {
    "duration": 67,
    "start_time": "2021-12-30T12:01:58.559Z"
   },
   {
    "duration": 16,
    "start_time": "2021-12-30T12:01:58.628Z"
   },
   {
    "duration": 85,
    "start_time": "2021-12-30T12:01:58.647Z"
   },
   {
    "duration": 510,
    "start_time": "2021-12-30T12:01:58.734Z"
   },
   {
    "duration": 82,
    "start_time": "2021-12-30T12:01:59.247Z"
   },
   {
    "duration": 14,
    "start_time": "2021-12-30T12:01:59.332Z"
   },
   {
    "duration": 84,
    "start_time": "2021-12-30T12:01:59.349Z"
   },
   {
    "duration": 13,
    "start_time": "2021-12-30T12:01:59.436Z"
   },
   {
    "duration": 3,
    "start_time": "2021-12-30T12:01:59.453Z"
   },
   {
    "duration": 86,
    "start_time": "2021-12-30T12:01:59.459Z"
   },
   {
    "duration": 10,
    "start_time": "2021-12-30T12:01:59.547Z"
   },
   {
    "duration": 2768,
    "start_time": "2021-12-30T12:01:59.560Z"
   },
   {
    "duration": 7,
    "start_time": "2021-12-30T12:02:02.330Z"
   },
   {
    "duration": 298,
    "start_time": "2021-12-30T12:02:02.340Z"
   },
   {
    "duration": 2121,
    "start_time": "2021-12-30T12:02:02.641Z"
   },
   {
    "duration": 72,
    "start_time": "2021-12-30T12:02:04.765Z"
   },
   {
    "duration": 17,
    "start_time": "2021-12-30T12:02:04.840Z"
   },
   {
    "duration": 70,
    "start_time": "2021-12-30T12:02:04.859Z"
   },
   {
    "duration": 8,
    "start_time": "2021-12-30T12:02:04.932Z"
   },
   {
    "duration": 9,
    "start_time": "2021-12-30T12:02:04.949Z"
   },
   {
    "duration": 32,
    "start_time": "2021-12-30T12:02:05.023Z"
   },
   {
    "duration": 2201,
    "start_time": "2021-12-30T12:08:38.418Z"
   },
   {
    "duration": 3575,
    "start_time": "2021-12-30T12:08:49.687Z"
   },
   {
    "duration": 1229,
    "start_time": "2021-12-30T12:09:12.824Z"
   },
   {
    "duration": 5816,
    "start_time": "2021-12-30T12:16:26.933Z"
   },
   {
    "duration": 1213,
    "start_time": "2021-12-30T12:16:43.291Z"
   },
   {
    "duration": 5718,
    "start_time": "2021-12-30T12:17:01.427Z"
   },
   {
    "duration": 1236,
    "start_time": "2021-12-30T12:17:27.889Z"
   },
   {
    "duration": 1291,
    "start_time": "2021-12-30T12:17:36.673Z"
   },
   {
    "duration": 2212,
    "start_time": "2021-12-30T12:18:05.527Z"
   },
   {
    "duration": 1841,
    "start_time": "2021-12-30T12:18:13.031Z"
   },
   {
    "duration": 1864,
    "start_time": "2021-12-30T12:18:25.070Z"
   },
   {
    "duration": 1836,
    "start_time": "2021-12-30T12:18:28.070Z"
   },
   {
    "duration": 3748,
    "start_time": "2021-12-30T12:19:05.548Z"
   },
   {
    "duration": 187,
    "start_time": "2021-12-30T12:19:20.764Z"
   },
   {
    "duration": 1370,
    "start_time": "2021-12-30T12:19:23.570Z"
   },
   {
    "duration": 6,
    "start_time": "2021-12-30T12:19:40.696Z"
   },
   {
    "duration": 122,
    "start_time": "2021-12-30T12:19:48.624Z"
   },
   {
    "duration": 367,
    "start_time": "2021-12-30T12:19:51.688Z"
   },
   {
    "duration": 6,
    "start_time": "2021-12-30T12:19:55.615Z"
   },
   {
    "duration": 7,
    "start_time": "2021-12-30T12:20:01.287Z"
   },
   {
    "duration": 416,
    "start_time": "2021-12-30T12:20:33.773Z"
   },
   {
    "duration": 7,
    "start_time": "2021-12-30T12:20:42.015Z"
   },
   {
    "duration": 376,
    "start_time": "2021-12-30T12:20:49.772Z"
   },
   {
    "duration": 7,
    "start_time": "2021-12-30T12:21:29.459Z"
   },
   {
    "duration": 1346,
    "start_time": "2021-12-30T12:21:35.794Z"
   },
   {
    "duration": 1366,
    "start_time": "2021-12-30T12:21:58.161Z"
   },
   {
    "duration": 19,
    "start_time": "2021-12-30T12:30:51.697Z"
   },
   {
    "duration": 15,
    "start_time": "2021-12-30T12:30:56.427Z"
   },
   {
    "duration": 20,
    "start_time": "2021-12-30T12:36:21.429Z"
   },
   {
    "duration": 10249,
    "start_time": "2021-12-30T12:40:43.357Z"
   },
   {
    "duration": 6,
    "start_time": "2021-12-30T12:40:55.141Z"
   },
   {
    "duration": 6,
    "start_time": "2021-12-30T12:40:58.243Z"
   },
   {
    "duration": 5,
    "start_time": "2021-12-30T12:41:00.204Z"
   },
   {
    "duration": 5,
    "start_time": "2021-12-30T12:43:29.379Z"
   },
   {
    "duration": 4,
    "start_time": "2021-12-30T12:43:41.186Z"
   },
   {
    "duration": 19,
    "start_time": "2021-12-30T12:43:46.355Z"
   },
   {
    "duration": 388,
    "start_time": "2021-12-30T12:44:02.777Z"
   },
   {
    "duration": 500,
    "start_time": "2021-12-30T12:44:08.088Z"
   },
   {
    "duration": 394,
    "start_time": "2021-12-30T12:44:18.524Z"
   },
   {
    "duration": 945,
    "start_time": "2021-12-30T12:44:26.840Z"
   },
   {
    "duration": 427,
    "start_time": "2021-12-30T12:44:40.078Z"
   },
   {
    "duration": 5,
    "start_time": "2021-12-30T12:44:47.173Z"
   },
   {
    "duration": 4,
    "start_time": "2021-12-30T12:44:47.925Z"
   },
   {
    "duration": 396,
    "start_time": "2021-12-30T12:44:48.645Z"
   },
   {
    "duration": 609,
    "start_time": "2021-12-30T12:46:06.093Z"
   },
   {
    "duration": 2837,
    "start_time": "2021-12-30T12:46:18.653Z"
   },
   {
    "duration": 4313,
    "start_time": "2021-12-30T12:46:43.935Z"
   },
   {
    "duration": 4,
    "start_time": "2021-12-30T12:47:13.429Z"
   },
   {
    "duration": 4,
    "start_time": "2021-12-30T12:47:14.156Z"
   },
   {
    "duration": 400,
    "start_time": "2021-12-30T12:47:14.654Z"
   },
   {
    "duration": 4,
    "start_time": "2021-12-30T12:47:36.491Z"
   },
   {
    "duration": 4,
    "start_time": "2021-12-30T12:47:36.876Z"
   },
   {
    "duration": 417,
    "start_time": "2021-12-30T12:47:37.219Z"
   },
   {
    "duration": 386,
    "start_time": "2021-12-30T12:47:48.491Z"
   },
   {
    "duration": 21,
    "start_time": "2021-12-30T12:47:49.155Z"
   },
   {
    "duration": 172,
    "start_time": "2021-12-30T12:48:10.745Z"
   },
   {
    "duration": 377,
    "start_time": "2021-12-30T12:48:14.337Z"
   },
   {
    "duration": 379,
    "start_time": "2021-12-30T12:48:20.184Z"
   },
   {
    "duration": 385,
    "start_time": "2021-12-30T12:48:40.280Z"
   },
   {
    "duration": 4,
    "start_time": "2021-12-30T12:48:46.968Z"
   },
   {
    "duration": 4,
    "start_time": "2021-12-30T12:48:50.247Z"
   },
   {
    "duration": 700,
    "start_time": "2021-12-30T12:48:50.702Z"
   },
   {
    "duration": 1386,
    "start_time": "2021-12-30T12:49:28.412Z"
   },
   {
    "duration": 369,
    "start_time": "2021-12-30T12:49:59.716Z"
   },
   {
    "duration": 4,
    "start_time": "2021-12-30T12:50:09.203Z"
   },
   {
    "duration": 430,
    "start_time": "2021-12-30T12:50:09.977Z"
   },
   {
    "duration": 1274,
    "start_time": "2021-12-30T12:50:17.929Z"
   },
   {
    "duration": -1894,
    "start_time": "2021-12-30T12:50:21.101Z"
   },
   {
    "duration": 1272,
    "start_time": "2021-12-30T12:50:20.538Z"
   },
   {
    "duration": 5,
    "start_time": "2021-12-30T12:50:34.033Z"
   },
   {
    "duration": 59,
    "start_time": "2021-12-30T12:50:35.131Z"
   },
   {
    "duration": 58,
    "start_time": "2021-12-30T12:51:41.365Z"
   },
   {
    "duration": 53,
    "start_time": "2021-12-30T12:51:58.261Z"
   },
   {
    "duration": 22,
    "start_time": "2021-12-30T12:52:02.950Z"
   },
   {
    "duration": 31,
    "start_time": "2021-12-30T12:52:06.012Z"
   },
   {
    "duration": 59,
    "start_time": "2021-12-30T12:53:28.247Z"
   },
   {
    "duration": 68,
    "start_time": "2021-12-30T12:53:32.065Z"
   },
   {
    "duration": 60,
    "start_time": "2021-12-30T12:54:06.932Z"
   },
   {
    "duration": 10,
    "start_time": "2021-12-30T13:01:30.883Z"
   },
   {
    "duration": 9,
    "start_time": "2021-12-30T13:01:37.225Z"
   },
   {
    "duration": 8,
    "start_time": "2021-12-30T13:01:45.640Z"
   },
   {
    "duration": 7,
    "start_time": "2021-12-30T13:01:53.384Z"
   },
   {
    "duration": 8,
    "start_time": "2021-12-30T13:01:59.775Z"
   },
   {
    "duration": 7,
    "start_time": "2021-12-30T13:02:03.847Z"
   },
   {
    "duration": 8,
    "start_time": "2021-12-30T13:02:07.287Z"
   },
   {
    "duration": 2031,
    "start_time": "2021-12-30T13:11:49.827Z"
   },
   {
    "duration": 103,
    "start_time": "2021-12-30T13:11:51.861Z"
   },
   {
    "duration": 31,
    "start_time": "2021-12-30T13:11:51.968Z"
   },
   {
    "duration": 27,
    "start_time": "2021-12-30T13:11:52.003Z"
   },
   {
    "duration": 13,
    "start_time": "2021-12-30T13:11:52.033Z"
   },
   {
    "duration": 11,
    "start_time": "2021-12-30T13:11:52.049Z"
   },
   {
    "duration": 299,
    "start_time": "2021-12-30T13:11:52.063Z"
   },
   {
    "duration": 667,
    "start_time": "2021-12-30T13:11:52.368Z"
   },
   {
    "duration": 652,
    "start_time": "2021-12-30T13:11:53.040Z"
   },
   {
    "duration": 628,
    "start_time": "2021-12-30T13:11:53.695Z"
   },
   {
    "duration": 32,
    "start_time": "2021-12-30T13:11:54.326Z"
   },
   {
    "duration": 21,
    "start_time": "2021-12-30T13:11:54.360Z"
   },
   {
    "duration": 72,
    "start_time": "2021-12-30T13:11:54.385Z"
   },
   {
    "duration": 34,
    "start_time": "2021-12-30T13:11:54.460Z"
   },
   {
    "duration": 22,
    "start_time": "2021-12-30T13:11:54.523Z"
   },
   {
    "duration": 76,
    "start_time": "2021-12-30T13:11:54.549Z"
   },
   {
    "duration": 9,
    "start_time": "2021-12-30T13:11:54.627Z"
   },
   {
    "duration": 41,
    "start_time": "2021-12-30T13:11:54.638Z"
   },
   {
    "duration": 68,
    "start_time": "2021-12-30T13:11:54.682Z"
   },
   {
    "duration": 22,
    "start_time": "2021-12-30T13:11:54.753Z"
   },
   {
    "duration": 1274,
    "start_time": "2021-12-30T13:11:54.778Z"
   },
   {
    "duration": 27,
    "start_time": "2021-12-30T13:11:56.055Z"
   },
   {
    "duration": 35,
    "start_time": "2021-12-30T13:11:56.088Z"
   },
   {
    "duration": 1162,
    "start_time": "2021-12-30T13:11:56.127Z"
   },
   {
    "duration": 5896,
    "start_time": "2021-12-30T13:11:57.291Z"
   },
   {
    "duration": 1508,
    "start_time": "2021-12-30T13:12:03.190Z"
   },
   {
    "duration": 310,
    "start_time": "2021-12-30T13:12:04.701Z"
   },
   {
    "duration": 7576,
    "start_time": "2021-12-30T13:12:05.013Z"
   },
   {
    "duration": 17,
    "start_time": "2021-12-30T13:12:12.592Z"
   },
   {
    "duration": 9881,
    "start_time": "2021-12-30T13:12:12.611Z"
   },
   {
    "duration": 37,
    "start_time": "2021-12-30T13:12:22.494Z"
   },
   {
    "duration": 40,
    "start_time": "2021-12-30T13:12:22.533Z"
   },
   {
    "duration": 14,
    "start_time": "2021-12-30T13:12:22.575Z"
   },
   {
    "duration": 46,
    "start_time": "2021-12-30T13:12:22.591Z"
   },
   {
    "duration": 12,
    "start_time": "2021-12-30T13:12:22.640Z"
   },
   {
    "duration": 837,
    "start_time": "2021-12-30T13:12:22.656Z"
   },
   {
    "duration": 6,
    "start_time": "2021-12-30T13:12:23.496Z"
   },
   {
    "duration": 46,
    "start_time": "2021-12-30T13:12:23.504Z"
   },
   {
    "duration": 28,
    "start_time": "2021-12-30T13:12:23.553Z"
   },
   {
    "duration": 51,
    "start_time": "2021-12-30T13:12:23.583Z"
   },
   {
    "duration": 169,
    "start_time": "2021-12-30T13:12:23.636Z"
   },
   {
    "duration": 17,
    "start_time": "2021-12-30T13:12:23.808Z"
   },
   {
    "duration": 278,
    "start_time": "2021-12-30T13:12:23.827Z"
   },
   {
    "duration": 15,
    "start_time": "2021-12-30T13:12:24.108Z"
   },
   {
    "duration": 6,
    "start_time": "2021-12-30T13:12:24.125Z"
   },
   {
    "duration": 100,
    "start_time": "2021-12-30T13:12:24.133Z"
   },
   {
    "duration": 161,
    "start_time": "2021-12-30T13:12:24.236Z"
   },
   {
    "duration": 11,
    "start_time": "2021-12-30T13:12:24.400Z"
   },
   {
    "duration": 18,
    "start_time": "2021-12-30T13:12:24.424Z"
   },
   {
    "duration": 11,
    "start_time": "2021-12-30T13:12:24.445Z"
   },
   {
    "duration": 11,
    "start_time": "2021-12-30T13:12:24.458Z"
   },
   {
    "duration": 24,
    "start_time": "2021-12-30T13:12:24.472Z"
   },
   {
    "duration": 32,
    "start_time": "2021-12-30T13:12:24.499Z"
   },
   {
    "duration": 993,
    "start_time": "2021-12-30T13:12:24.533Z"
   },
   {
    "duration": 24,
    "start_time": "2021-12-30T13:12:25.530Z"
   },
   {
    "duration": 22,
    "start_time": "2021-12-30T13:12:25.557Z"
   },
   {
    "duration": 72,
    "start_time": "2021-12-30T13:12:25.583Z"
   },
   {
    "duration": 110,
    "start_time": "2021-12-30T13:12:25.659Z"
   },
   {
    "duration": 217,
    "start_time": "2021-12-30T13:12:25.773Z"
   },
   {
    "duration": 393,
    "start_time": "2021-12-30T13:12:25.993Z"
   },
   {
    "duration": 10,
    "start_time": "2021-12-30T13:12:26.389Z"
   },
   {
    "duration": 24,
    "start_time": "2021-12-30T13:12:26.401Z"
   },
   {
    "duration": 395,
    "start_time": "2021-12-30T13:12:26.428Z"
   },
   {
    "duration": 13,
    "start_time": "2021-12-30T13:12:26.827Z"
   },
   {
    "duration": 21,
    "start_time": "2021-12-30T13:12:26.844Z"
   },
   {
    "duration": 21,
    "start_time": "2021-12-30T13:12:26.867Z"
   },
   {
    "duration": 266,
    "start_time": "2021-12-30T13:12:26.923Z"
   },
   {
    "duration": 40,
    "start_time": "2021-12-30T13:12:27.199Z"
   },
   {
    "duration": 12,
    "start_time": "2021-12-30T13:12:27.242Z"
   },
   {
    "duration": 19,
    "start_time": "2021-12-30T13:12:27.257Z"
   },
   {
    "duration": 50,
    "start_time": "2021-12-30T13:12:27.278Z"
   },
   {
    "duration": 3,
    "start_time": "2021-12-30T13:12:27.331Z"
   },
   {
    "duration": 12,
    "start_time": "2021-12-30T13:12:27.337Z"
   },
   {
    "duration": 8,
    "start_time": "2021-12-30T13:12:27.351Z"
   },
   {
    "duration": 1226,
    "start_time": "2021-12-30T13:12:27.362Z"
   },
   {
    "duration": 9,
    "start_time": "2021-12-30T13:12:28.591Z"
   },
   {
    "duration": 25,
    "start_time": "2021-12-30T13:12:28.602Z"
   },
   {
    "duration": 1157,
    "start_time": "2021-12-30T13:12:28.629Z"
   },
   {
    "duration": 19,
    "start_time": "2021-12-30T13:12:29.789Z"
   },
   {
    "duration": 20,
    "start_time": "2021-12-30T13:12:29.824Z"
   },
   {
    "duration": 9,
    "start_time": "2021-12-30T13:12:29.847Z"
   },
   {
    "duration": 9,
    "start_time": "2021-12-30T13:12:29.858Z"
   },
   {
    "duration": 13,
    "start_time": "2021-12-30T13:12:29.870Z"
   },
   {
    "duration": 33,
    "start_time": "2021-12-30T13:12:29.924Z"
   },
   {
    "duration": 335,
    "start_time": "2021-12-30T13:45:47.453Z"
   },
   {
    "duration": 1491,
    "start_time": "2021-12-30T13:45:55.871Z"
   },
   {
    "duration": 103,
    "start_time": "2021-12-30T13:45:57.365Z"
   },
   {
    "duration": 22,
    "start_time": "2021-12-30T13:45:57.470Z"
   },
   {
    "duration": 10,
    "start_time": "2021-12-30T13:45:57.495Z"
   },
   {
    "duration": 22,
    "start_time": "2021-12-30T13:45:57.507Z"
   },
   {
    "duration": 6,
    "start_time": "2021-12-30T13:45:57.531Z"
   },
   {
    "duration": 274,
    "start_time": "2021-12-30T13:45:57.540Z"
   },
   {
    "duration": 625,
    "start_time": "2021-12-30T13:45:57.827Z"
   },
   {
    "duration": 544,
    "start_time": "2021-12-30T13:45:58.455Z"
   },
   {
    "duration": 563,
    "start_time": "2021-12-30T13:45:59.002Z"
   },
   {
    "duration": 30,
    "start_time": "2021-12-30T13:45:59.567Z"
   },
   {
    "duration": 40,
    "start_time": "2021-12-30T13:45:59.600Z"
   },
   {
    "duration": 24,
    "start_time": "2021-12-30T13:45:59.642Z"
   },
   {
    "duration": 21,
    "start_time": "2021-12-30T13:45:59.668Z"
   },
   {
    "duration": 45,
    "start_time": "2021-12-30T13:45:59.691Z"
   },
   {
    "duration": 53,
    "start_time": "2021-12-30T13:45:59.738Z"
   },
   {
    "duration": 6,
    "start_time": "2021-12-30T13:45:59.793Z"
   },
   {
    "duration": 40,
    "start_time": "2021-12-30T13:45:59.824Z"
   },
   {
    "duration": 24,
    "start_time": "2021-12-30T13:45:59.866Z"
   },
   {
    "duration": 38,
    "start_time": "2021-12-30T13:45:59.892Z"
   },
   {
    "duration": 765,
    "start_time": "2021-12-30T13:45:59.932Z"
   },
   {
    "duration": 29,
    "start_time": "2021-12-30T13:46:00.699Z"
   },
   {
    "duration": 7,
    "start_time": "2021-12-30T13:46:00.735Z"
   },
   {
    "duration": 1111,
    "start_time": "2021-12-30T13:46:00.746Z"
   },
   {
    "duration": 5394,
    "start_time": "2021-12-30T13:46:01.859Z"
   },
   {
    "duration": 1387,
    "start_time": "2021-12-30T13:46:07.256Z"
   },
   {
    "duration": 304,
    "start_time": "2021-12-30T13:46:08.645Z"
   },
   {
    "duration": 6804,
    "start_time": "2021-12-30T13:46:08.951Z"
   },
   {
    "duration": 17,
    "start_time": "2021-12-30T13:46:15.757Z"
   },
   {
    "duration": 7259,
    "start_time": "2021-12-30T13:46:15.777Z"
   },
   {
    "duration": 23,
    "start_time": "2021-12-30T13:46:23.039Z"
   },
   {
    "duration": 79,
    "start_time": "2021-12-30T13:46:23.065Z"
   },
   {
    "duration": 15,
    "start_time": "2021-12-30T13:46:23.147Z"
   },
   {
    "duration": 14,
    "start_time": "2021-12-30T13:46:23.165Z"
   },
   {
    "duration": 6,
    "start_time": "2021-12-30T13:46:23.182Z"
   },
   {
    "duration": 491,
    "start_time": "2021-12-30T13:46:23.224Z"
   },
   {
    "duration": 10,
    "start_time": "2021-12-30T13:46:23.717Z"
   },
   {
    "duration": 26,
    "start_time": "2021-12-30T13:46:23.730Z"
   },
   {
    "duration": 28,
    "start_time": "2021-12-30T13:46:23.758Z"
   },
   {
    "duration": 57,
    "start_time": "2021-12-30T13:46:23.789Z"
   },
   {
    "duration": 175,
    "start_time": "2021-12-30T13:46:23.848Z"
   },
   {
    "duration": 6,
    "start_time": "2021-12-30T13:46:24.025Z"
   },
   {
    "duration": 257,
    "start_time": "2021-12-30T13:46:24.033Z"
   },
   {
    "duration": 5,
    "start_time": "2021-12-30T13:46:24.292Z"
   },
   {
    "duration": 6,
    "start_time": "2021-12-30T13:46:24.299Z"
   },
   {
    "duration": 71,
    "start_time": "2021-12-30T13:46:24.324Z"
   },
   {
    "duration": 139,
    "start_time": "2021-12-30T13:46:24.397Z"
   },
   {
    "duration": 10,
    "start_time": "2021-12-30T13:46:24.538Z"
   },
   {
    "duration": 15,
    "start_time": "2021-12-30T13:46:24.550Z"
   },
   {
    "duration": 5,
    "start_time": "2021-12-30T13:46:24.567Z"
   },
   {
    "duration": 8,
    "start_time": "2021-12-30T13:46:24.574Z"
   },
   {
    "duration": 49,
    "start_time": "2021-12-30T13:46:24.584Z"
   },
   {
    "duration": 8,
    "start_time": "2021-12-30T13:46:24.636Z"
   },
   {
    "duration": 743,
    "start_time": "2021-12-30T13:46:24.647Z"
   },
   {
    "duration": 36,
    "start_time": "2021-12-30T13:46:25.392Z"
   },
   {
    "duration": 13,
    "start_time": "2021-12-30T13:46:25.430Z"
   },
   {
    "duration": 28,
    "start_time": "2021-12-30T13:46:25.445Z"
   },
   {
    "duration": 85,
    "start_time": "2021-12-30T13:46:25.475Z"
   },
   {
    "duration": 197,
    "start_time": "2021-12-30T13:46:25.562Z"
   },
   {
    "duration": 356,
    "start_time": "2021-12-30T13:46:25.761Z"
   },
   {
    "duration": 9,
    "start_time": "2021-12-30T13:46:26.123Z"
   },
   {
    "duration": 5,
    "start_time": "2021-12-30T13:46:26.135Z"
   },
   {
    "duration": 211,
    "start_time": "2021-12-30T13:46:26.142Z"
   },
   {
    "duration": 9,
    "start_time": "2021-12-30T13:46:26.355Z"
   },
   {
    "duration": 15,
    "start_time": "2021-12-30T13:46:26.367Z"
   },
   {
    "duration": 52,
    "start_time": "2021-12-30T13:46:26.384Z"
   },
   {
    "duration": 249,
    "start_time": "2021-12-30T13:46:26.439Z"
   },
   {
    "duration": 33,
    "start_time": "2021-12-30T13:46:26.696Z"
   },
   {
    "duration": 10,
    "start_time": "2021-12-30T13:46:26.731Z"
   },
   {
    "duration": 11,
    "start_time": "2021-12-30T13:46:26.744Z"
   },
   {
    "duration": 10,
    "start_time": "2021-12-30T13:46:26.757Z"
   },
   {
    "duration": 3,
    "start_time": "2021-12-30T13:46:26.769Z"
   },
   {
    "duration": 54,
    "start_time": "2021-12-30T13:46:26.775Z"
   },
   {
    "duration": 6,
    "start_time": "2021-12-30T13:46:26.831Z"
   },
   {
    "duration": 1062,
    "start_time": "2021-12-30T13:46:26.840Z"
   },
   {
    "duration": 19,
    "start_time": "2021-12-30T13:46:27.904Z"
   },
   {
    "duration": 7,
    "start_time": "2021-12-30T13:46:27.925Z"
   },
   {
    "duration": 1109,
    "start_time": "2021-12-30T13:46:27.934Z"
   },
   {
    "duration": 18,
    "start_time": "2021-12-30T13:46:29.045Z"
   },
   {
    "duration": 18,
    "start_time": "2021-12-30T13:46:29.066Z"
   },
   {
    "duration": 37,
    "start_time": "2021-12-30T13:46:29.086Z"
   },
   {
    "duration": 7,
    "start_time": "2021-12-30T13:46:29.126Z"
   },
   {
    "duration": 13,
    "start_time": "2021-12-30T13:46:29.135Z"
   },
   {
    "duration": 33,
    "start_time": "2021-12-30T13:46:29.151Z"
   },
   {
    "duration": 1427,
    "start_time": "2022-02-23T16:23:36.376Z"
   },
   {
    "duration": 137,
    "start_time": "2022-02-23T16:23:37.808Z"
   },
   {
    "duration": 19,
    "start_time": "2022-02-23T16:23:37.949Z"
   },
   {
    "duration": 11,
    "start_time": "2022-02-23T16:23:37.970Z"
   },
   {
    "duration": 24,
    "start_time": "2022-02-23T16:23:37.984Z"
   },
   {
    "duration": 6,
    "start_time": "2022-02-23T16:23:38.010Z"
   },
   {
    "duration": 201,
    "start_time": "2022-02-23T16:23:38.018Z"
   },
   {
    "duration": 414,
    "start_time": "2022-02-23T16:23:38.223Z"
   },
   {
    "duration": 429,
    "start_time": "2022-02-23T16:23:38.639Z"
   },
   {
    "duration": 25,
    "start_time": "2022-02-23T16:23:39.070Z"
   },
   {
    "duration": 17,
    "start_time": "2022-02-23T16:23:39.108Z"
   },
   {
    "duration": 23,
    "start_time": "2022-02-23T16:23:39.127Z"
   },
   {
    "duration": 17,
    "start_time": "2022-02-23T16:23:39.152Z"
   },
   {
    "duration": 46,
    "start_time": "2022-02-23T16:23:39.170Z"
   },
   {
    "duration": 42,
    "start_time": "2022-02-23T16:23:39.218Z"
   },
   {
    "duration": 5,
    "start_time": "2022-02-23T16:23:39.262Z"
   },
   {
    "duration": 59,
    "start_time": "2022-02-23T16:23:39.269Z"
   },
   {
    "duration": 21,
    "start_time": "2022-02-23T16:23:39.331Z"
   },
   {
    "duration": 12,
    "start_time": "2022-02-23T16:23:39.354Z"
   },
   {
    "duration": 528,
    "start_time": "2022-02-23T16:23:39.368Z"
   },
   {
    "duration": 20,
    "start_time": "2022-02-23T16:23:39.898Z"
   },
   {
    "duration": 7,
    "start_time": "2022-02-23T16:23:39.920Z"
   },
   {
    "duration": 945,
    "start_time": "2022-02-23T16:23:39.931Z"
   },
   {
    "duration": 3560,
    "start_time": "2022-02-23T16:23:40.879Z"
   },
   {
    "duration": 4152,
    "start_time": "2022-02-23T16:23:44.442Z"
   },
   {
    "duration": 19,
    "start_time": "2022-02-23T16:23:48.596Z"
   },
   {
    "duration": 5197,
    "start_time": "2022-02-23T16:23:48.618Z"
   },
   {
    "duration": 19,
    "start_time": "2022-02-23T16:23:53.818Z"
   },
   {
    "duration": 33,
    "start_time": "2022-02-23T16:23:53.838Z"
   },
   {
    "duration": 41,
    "start_time": "2022-02-23T16:23:53.873Z"
   },
   {
    "duration": 10,
    "start_time": "2022-02-23T16:23:53.916Z"
   },
   {
    "duration": 8,
    "start_time": "2022-02-23T16:23:53.928Z"
   },
   {
    "duration": 402,
    "start_time": "2022-02-23T16:23:53.938Z"
   },
   {
    "duration": 5,
    "start_time": "2022-02-23T16:23:54.343Z"
   },
   {
    "duration": 21,
    "start_time": "2022-02-23T16:23:54.350Z"
   },
   {
    "duration": 47,
    "start_time": "2022-02-23T16:23:54.373Z"
   },
   {
    "duration": 20,
    "start_time": "2022-02-23T16:23:54.422Z"
   },
   {
    "duration": 24,
    "start_time": "2022-02-23T16:23:54.444Z"
   },
   {
    "duration": 5,
    "start_time": "2022-02-23T16:23:54.470Z"
   },
   {
    "duration": 201,
    "start_time": "2022-02-23T16:23:54.477Z"
   },
   {
    "duration": 3,
    "start_time": "2022-02-23T16:23:54.680Z"
   },
   {
    "duration": 7,
    "start_time": "2022-02-23T16:23:54.685Z"
   },
   {
    "duration": 61,
    "start_time": "2022-02-23T16:23:54.695Z"
   },
   {
    "duration": 92,
    "start_time": "2022-02-23T16:23:54.758Z"
   },
   {
    "duration": 8,
    "start_time": "2022-02-23T16:23:54.852Z"
   },
   {
    "duration": 12,
    "start_time": "2022-02-23T16:23:54.862Z"
   },
   {
    "duration": 11,
    "start_time": "2022-02-23T16:23:54.876Z"
   },
   {
    "duration": 24,
    "start_time": "2022-02-23T16:23:54.889Z"
   },
   {
    "duration": 27,
    "start_time": "2022-02-23T16:23:54.915Z"
   },
   {
    "duration": 8,
    "start_time": "2022-02-23T16:23:54.944Z"
   },
   {
    "duration": 523,
    "start_time": "2022-02-23T16:23:54.954Z"
   },
   {
    "duration": 28,
    "start_time": "2022-02-23T16:23:55.479Z"
   },
   {
    "duration": 11,
    "start_time": "2022-02-23T16:23:55.510Z"
   },
   {
    "duration": 23,
    "start_time": "2022-02-23T16:23:55.524Z"
   },
   {
    "duration": 158,
    "start_time": "2022-02-23T16:23:55.549Z"
   },
   {
    "duration": 218,
    "start_time": "2022-02-23T16:23:55.709Z"
   },
   {
    "duration": 8,
    "start_time": "2022-02-23T16:23:55.929Z"
   },
   {
    "duration": 5,
    "start_time": "2022-02-23T16:23:55.939Z"
   },
   {
    "duration": 145,
    "start_time": "2022-02-23T16:23:55.946Z"
   },
   {
    "duration": 17,
    "start_time": "2022-02-23T16:23:56.093Z"
   },
   {
    "duration": 11,
    "start_time": "2022-02-23T16:23:56.112Z"
   },
   {
    "duration": 16,
    "start_time": "2022-02-23T16:23:56.125Z"
   },
   {
    "duration": 188,
    "start_time": "2022-02-23T16:23:56.143Z"
   },
   {
    "duration": 19,
    "start_time": "2022-02-23T16:23:56.334Z"
   },
   {
    "duration": 13,
    "start_time": "2022-02-23T16:23:56.355Z"
   },
   {
    "duration": 37,
    "start_time": "2022-02-23T16:23:56.370Z"
   },
   {
    "duration": 7,
    "start_time": "2022-02-23T16:23:56.410Z"
   },
   {
    "duration": 2,
    "start_time": "2022-02-23T16:23:56.423Z"
   },
   {
    "duration": 13,
    "start_time": "2022-02-23T16:23:56.427Z"
   },
   {
    "duration": 8,
    "start_time": "2022-02-23T16:23:56.442Z"
   },
   {
    "duration": 945,
    "start_time": "2022-02-23T16:23:56.451Z"
   },
   {
    "duration": 12,
    "start_time": "2022-02-23T16:23:57.398Z"
   },
   {
    "duration": 11,
    "start_time": "2022-02-23T16:23:57.413Z"
   },
   {
    "duration": 770,
    "start_time": "2022-02-23T16:23:57.426Z"
   },
   {
    "duration": 20,
    "start_time": "2022-02-23T16:23:58.197Z"
   },
   {
    "duration": 14,
    "start_time": "2022-02-23T16:23:58.219Z"
   },
   {
    "duration": 6,
    "start_time": "2022-02-23T16:23:58.235Z"
   },
   {
    "duration": 17,
    "start_time": "2022-02-23T16:23:58.243Z"
   },
   {
    "duration": 19,
    "start_time": "2022-02-23T16:23:58.262Z"
   },
   {
    "duration": 33,
    "start_time": "2022-02-23T16:23:58.283Z"
   }
  ],
  "kernelspec": {
   "display_name": "Python 3",
   "language": "python",
   "name": "python3"
  },
  "language_info": {
   "codemirror_mode": {
    "name": "ipython",
    "version": 3
   },
   "file_extension": ".py",
   "mimetype": "text/x-python",
   "name": "python",
   "nbconvert_exporter": "python",
   "pygments_lexer": "ipython3",
   "version": "3.7.8"
  },
  "toc": {
   "base_numbering": 1,
   "nav_menu": {},
   "number_sections": true,
   "sideBar": true,
   "skip_h1_title": true,
   "title_cell": "Содержание",
   "title_sidebar": "Contents",
   "toc_cell": true,
   "toc_position": {},
   "toc_section_display": true,
   "toc_window_display": false
  }
 },
 "nbformat": 4,
 "nbformat_minor": 2
}
