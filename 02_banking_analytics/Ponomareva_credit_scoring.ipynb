{
 "cells": [
  {
   "cell_type": "markdown",
   "metadata": {},
   "source": [
    "# Исследование надёжности заёмщиков\n",
    "\n",
    "Целью настоящего исследования является выявление факторов, влияющих на факт погашения кредита в срок. Результаты исследования будут использованы для построения модели кредитного скоринга — специальной системы, которая оценивает способность потенциального заёмщика вернуть кредит банку.\n",
    "\n",
    "Задача исследования — изучить полученную от банка статистику о платёжеспособности клиентов и ответить на следующие вопросы:\n",
    "1. Есть ли зависимость между наличием детей и возвратом кредита в срок?\n",
    "2. Есть ли зависимость между семейным положением и возвратом кредита в срок?\n",
    "3. Есть ли зависимость между уровнем дохода и возвратом кредита в срок?\n",
    "4. Как разные цели кредита влияют на его возврат в срок?"
   ]
  },
  {
   "cell_type": "markdown",
   "metadata": {
    "toc": true
   },
   "source": [
    "<h1>Оглавление<span class=\"tocSkip\"></span></h1>\n",
    "<div class=\"toc\"><ul class=\"toc-item\"><li><span><a href=\"#Знакомство-с-данными\" data-toc-modified-id=\"Знакомство-с-данными-1\"><span class=\"toc-item-num\">1&nbsp;&nbsp;</span>Знакомство с данными</a></span><ul class=\"toc-item\"><li><span><a href=\"#Вывод\" data-toc-modified-id=\"Вывод-1.1\"><span class=\"toc-item-num\">1.1&nbsp;&nbsp;</span>Вывод</a></span></li></ul></li><li><span><a href=\"#Предобработка-данных\" data-toc-modified-id=\"Предобработка-данных-2\"><span class=\"toc-item-num\">2&nbsp;&nbsp;</span>Предобработка данных</a></span><ul class=\"toc-item\"><li><span><a href=\"#Обработка-пропусков\" data-toc-modified-id=\"Обработка-пропусков-2.1\"><span class=\"toc-item-num\">2.1&nbsp;&nbsp;</span>Обработка пропусков</a></span><ul class=\"toc-item\"><li><span><a href=\"#Вывод\" data-toc-modified-id=\"Вывод-2.1.1\"><span class=\"toc-item-num\">2.1.1&nbsp;&nbsp;</span>Вывод</a></span></li></ul></li><li><span><a href=\"#Замена-типа-данных\" data-toc-modified-id=\"Замена-типа-данных-2.2\"><span class=\"toc-item-num\">2.2&nbsp;&nbsp;</span>Замена типа данных</a></span><ul class=\"toc-item\"><li><span><a href=\"#Вывод\" data-toc-modified-id=\"Вывод-2.2.1\"><span class=\"toc-item-num\">2.2.1&nbsp;&nbsp;</span>Вывод</a></span></li></ul></li><li><span><a href=\"#Обработка-дубликатов\" data-toc-modified-id=\"Обработка-дубликатов-2.3\"><span class=\"toc-item-num\">2.3&nbsp;&nbsp;</span>Обработка дубликатов</a></span><ul class=\"toc-item\"><li><span><a href=\"#Вывод\" data-toc-modified-id=\"Вывод-2.3.1\"><span class=\"toc-item-num\">2.3.1&nbsp;&nbsp;</span>Вывод</a></span></li></ul></li><li><span><a href=\"#Лемматизация\" data-toc-modified-id=\"Лемматизация-2.4\"><span class=\"toc-item-num\">2.4&nbsp;&nbsp;</span>Лемматизация</a></span><ul class=\"toc-item\"><li><span><a href=\"#Вывод\" data-toc-modified-id=\"Вывод-2.4.1\"><span class=\"toc-item-num\">2.4.1&nbsp;&nbsp;</span>Вывод</a></span></li></ul></li><li><span><a href=\"#Категоризация-данных\" data-toc-modified-id=\"Категоризация-данных-2.5\"><span class=\"toc-item-num\">2.5&nbsp;&nbsp;</span>Категоризация данных</a></span><ul class=\"toc-item\"><li><span><a href=\"#Вывод\" data-toc-modified-id=\"Вывод-2.5.1\"><span class=\"toc-item-num\">2.5.1&nbsp;&nbsp;</span>Вывод</a></span></li></ul></li></ul></li><li><span><a href=\"#Ответы-на-вопросы\" data-toc-modified-id=\"Ответы-на-вопросы-3\"><span class=\"toc-item-num\">3&nbsp;&nbsp;</span>Ответы на вопросы</a></span><ul class=\"toc-item\"><li><span><a href=\"#Есть-ли-зависимость-между-наличием-детей-и-возвратом-кредита-в-срок?\" data-toc-modified-id=\"Есть-ли-зависимость-между-наличием-детей-и-возвратом-кредита-в-срок?-3.1\"><span class=\"toc-item-num\">3.1&nbsp;&nbsp;</span>Есть ли зависимость между наличием детей и возвратом кредита в срок?</a></span></li><li><span><a href=\"#Есть-ли-зависимость-между-семейным-положением-и-возвратом-кредита-в-срок?\" data-toc-modified-id=\"Есть-ли-зависимость-между-семейным-положением-и-возвратом-кредита-в-срок?-3.2\"><span class=\"toc-item-num\">3.2&nbsp;&nbsp;</span>Есть ли зависимость между семейным положением и возвратом кредита в срок?</a></span></li><li><span><a href=\"#Есть-ли-зависимость-между-уровнем-дохода-и-возвратом-кредита-в-срок?\" data-toc-modified-id=\"Есть-ли-зависимость-между-уровнем-дохода-и-возвратом-кредита-в-срок?-3.3\"><span class=\"toc-item-num\">3.3&nbsp;&nbsp;</span>Есть ли зависимость между уровнем дохода и возвратом кредита в срок?</a></span></li><li><span><a href=\"#Как-разные-цели-кредита-влияют-на-его-возврат-в-срок?\" data-toc-modified-id=\"Как-разные-цели-кредита-влияют-на-его-возврат-в-срок?-3.4\"><span class=\"toc-item-num\">3.4&nbsp;&nbsp;</span>Как разные цели кредита влияют на его возврат в срок?</a></span></li></ul></li><li><span><a href=\"#Общий-вывод\" data-toc-modified-id=\"Общий-вывод-4\"><span class=\"toc-item-num\">4&nbsp;&nbsp;</span>Общий вывод</a></span></li></ul></div>"
   ]
  },
  {
   "cell_type": "markdown",
   "metadata": {},
   "source": [
    "## Знакомство с данными"
   ]
  },
  {
   "cell_type": "code",
   "execution_count": 1,
   "metadata": {},
   "outputs": [],
   "source": [
    "#импорт библиотек\n",
    "import pandas as pd\n",
    "from pymystem3 import Mystem\n",
    "from collections import Counter"
   ]
  },
  {
   "cell_type": "code",
   "execution_count": 2,
   "metadata": {},
   "outputs": [],
   "source": [
    "df = pd.read_csv('/datasets/data.csv') #открытие файла"
   ]
  },
  {
   "cell_type": "code",
   "execution_count": 3,
   "metadata": {},
   "outputs": [
    {
     "data": {
      "text/html": [
       "<div>\n",
       "<style scoped>\n",
       "    .dataframe tbody tr th:only-of-type {\n",
       "        vertical-align: middle;\n",
       "    }\n",
       "\n",
       "    .dataframe tbody tr th {\n",
       "        vertical-align: top;\n",
       "    }\n",
       "\n",
       "    .dataframe thead th {\n",
       "        text-align: right;\n",
       "    }\n",
       "</style>\n",
       "<table border=\"1\" class=\"dataframe\">\n",
       "  <thead>\n",
       "    <tr style=\"text-align: right;\">\n",
       "      <th></th>\n",
       "      <th>children</th>\n",
       "      <th>days_employed</th>\n",
       "      <th>dob_years</th>\n",
       "      <th>education</th>\n",
       "      <th>education_id</th>\n",
       "      <th>family_status</th>\n",
       "      <th>family_status_id</th>\n",
       "      <th>gender</th>\n",
       "      <th>income_type</th>\n",
       "      <th>debt</th>\n",
       "      <th>total_income</th>\n",
       "      <th>purpose</th>\n",
       "    </tr>\n",
       "  </thead>\n",
       "  <tbody>\n",
       "    <tr>\n",
       "      <td>0</td>\n",
       "      <td>1</td>\n",
       "      <td>-8437.673028</td>\n",
       "      <td>42</td>\n",
       "      <td>высшее</td>\n",
       "      <td>0</td>\n",
       "      <td>женат / замужем</td>\n",
       "      <td>0</td>\n",
       "      <td>F</td>\n",
       "      <td>сотрудник</td>\n",
       "      <td>0</td>\n",
       "      <td>253875.639453</td>\n",
       "      <td>покупка жилья</td>\n",
       "    </tr>\n",
       "    <tr>\n",
       "      <td>1</td>\n",
       "      <td>1</td>\n",
       "      <td>-4024.803754</td>\n",
       "      <td>36</td>\n",
       "      <td>среднее</td>\n",
       "      <td>1</td>\n",
       "      <td>женат / замужем</td>\n",
       "      <td>0</td>\n",
       "      <td>F</td>\n",
       "      <td>сотрудник</td>\n",
       "      <td>0</td>\n",
       "      <td>112080.014102</td>\n",
       "      <td>приобретение автомобиля</td>\n",
       "    </tr>\n",
       "    <tr>\n",
       "      <td>2</td>\n",
       "      <td>0</td>\n",
       "      <td>-5623.422610</td>\n",
       "      <td>33</td>\n",
       "      <td>Среднее</td>\n",
       "      <td>1</td>\n",
       "      <td>женат / замужем</td>\n",
       "      <td>0</td>\n",
       "      <td>M</td>\n",
       "      <td>сотрудник</td>\n",
       "      <td>0</td>\n",
       "      <td>145885.952297</td>\n",
       "      <td>покупка жилья</td>\n",
       "    </tr>\n",
       "    <tr>\n",
       "      <td>3</td>\n",
       "      <td>3</td>\n",
       "      <td>-4124.747207</td>\n",
       "      <td>32</td>\n",
       "      <td>среднее</td>\n",
       "      <td>1</td>\n",
       "      <td>женат / замужем</td>\n",
       "      <td>0</td>\n",
       "      <td>M</td>\n",
       "      <td>сотрудник</td>\n",
       "      <td>0</td>\n",
       "      <td>267628.550329</td>\n",
       "      <td>дополнительное образование</td>\n",
       "    </tr>\n",
       "    <tr>\n",
       "      <td>4</td>\n",
       "      <td>0</td>\n",
       "      <td>340266.072047</td>\n",
       "      <td>53</td>\n",
       "      <td>среднее</td>\n",
       "      <td>1</td>\n",
       "      <td>гражданский брак</td>\n",
       "      <td>1</td>\n",
       "      <td>F</td>\n",
       "      <td>пенсионер</td>\n",
       "      <td>0</td>\n",
       "      <td>158616.077870</td>\n",
       "      <td>сыграть свадьбу</td>\n",
       "    </tr>\n",
       "    <tr>\n",
       "      <td>5</td>\n",
       "      <td>0</td>\n",
       "      <td>-926.185831</td>\n",
       "      <td>27</td>\n",
       "      <td>высшее</td>\n",
       "      <td>0</td>\n",
       "      <td>гражданский брак</td>\n",
       "      <td>1</td>\n",
       "      <td>M</td>\n",
       "      <td>компаньон</td>\n",
       "      <td>0</td>\n",
       "      <td>255763.565419</td>\n",
       "      <td>покупка жилья</td>\n",
       "    </tr>\n",
       "    <tr>\n",
       "      <td>6</td>\n",
       "      <td>0</td>\n",
       "      <td>-2879.202052</td>\n",
       "      <td>43</td>\n",
       "      <td>высшее</td>\n",
       "      <td>0</td>\n",
       "      <td>женат / замужем</td>\n",
       "      <td>0</td>\n",
       "      <td>F</td>\n",
       "      <td>компаньон</td>\n",
       "      <td>0</td>\n",
       "      <td>240525.971920</td>\n",
       "      <td>операции с жильем</td>\n",
       "    </tr>\n",
       "    <tr>\n",
       "      <td>7</td>\n",
       "      <td>0</td>\n",
       "      <td>-152.779569</td>\n",
       "      <td>50</td>\n",
       "      <td>СРЕДНЕЕ</td>\n",
       "      <td>1</td>\n",
       "      <td>женат / замужем</td>\n",
       "      <td>0</td>\n",
       "      <td>M</td>\n",
       "      <td>сотрудник</td>\n",
       "      <td>0</td>\n",
       "      <td>135823.934197</td>\n",
       "      <td>образование</td>\n",
       "    </tr>\n",
       "    <tr>\n",
       "      <td>8</td>\n",
       "      <td>2</td>\n",
       "      <td>-6929.865299</td>\n",
       "      <td>35</td>\n",
       "      <td>ВЫСШЕЕ</td>\n",
       "      <td>0</td>\n",
       "      <td>гражданский брак</td>\n",
       "      <td>1</td>\n",
       "      <td>F</td>\n",
       "      <td>сотрудник</td>\n",
       "      <td>0</td>\n",
       "      <td>95856.832424</td>\n",
       "      <td>на проведение свадьбы</td>\n",
       "    </tr>\n",
       "    <tr>\n",
       "      <td>9</td>\n",
       "      <td>0</td>\n",
       "      <td>-2188.756445</td>\n",
       "      <td>41</td>\n",
       "      <td>среднее</td>\n",
       "      <td>1</td>\n",
       "      <td>женат / замужем</td>\n",
       "      <td>0</td>\n",
       "      <td>M</td>\n",
       "      <td>сотрудник</td>\n",
       "      <td>0</td>\n",
       "      <td>144425.938277</td>\n",
       "      <td>покупка жилья для семьи</td>\n",
       "    </tr>\n",
       "  </tbody>\n",
       "</table>\n",
       "</div>"
      ],
      "text/plain": [
       "   children  days_employed  dob_years education  education_id  \\\n",
       "0         1   -8437.673028         42    высшее             0   \n",
       "1         1   -4024.803754         36   среднее             1   \n",
       "2         0   -5623.422610         33   Среднее             1   \n",
       "3         3   -4124.747207         32   среднее             1   \n",
       "4         0  340266.072047         53   среднее             1   \n",
       "5         0    -926.185831         27    высшее             0   \n",
       "6         0   -2879.202052         43    высшее             0   \n",
       "7         0    -152.779569         50   СРЕДНЕЕ             1   \n",
       "8         2   -6929.865299         35    ВЫСШЕЕ             0   \n",
       "9         0   -2188.756445         41   среднее             1   \n",
       "\n",
       "      family_status  family_status_id gender income_type  debt   total_income  \\\n",
       "0   женат / замужем                 0      F   сотрудник     0  253875.639453   \n",
       "1   женат / замужем                 0      F   сотрудник     0  112080.014102   \n",
       "2   женат / замужем                 0      M   сотрудник     0  145885.952297   \n",
       "3   женат / замужем                 0      M   сотрудник     0  267628.550329   \n",
       "4  гражданский брак                 1      F   пенсионер     0  158616.077870   \n",
       "5  гражданский брак                 1      M   компаньон     0  255763.565419   \n",
       "6   женат / замужем                 0      F   компаньон     0  240525.971920   \n",
       "7   женат / замужем                 0      M   сотрудник     0  135823.934197   \n",
       "8  гражданский брак                 1      F   сотрудник     0   95856.832424   \n",
       "9   женат / замужем                 0      M   сотрудник     0  144425.938277   \n",
       "\n",
       "                      purpose  \n",
       "0               покупка жилья  \n",
       "1     приобретение автомобиля  \n",
       "2               покупка жилья  \n",
       "3  дополнительное образование  \n",
       "4             сыграть свадьбу  \n",
       "5               покупка жилья  \n",
       "6           операции с жильем  \n",
       "7                 образование  \n",
       "8       на проведение свадьбы  \n",
       "9     покупка жилья для семьи  "
      ]
     },
     "execution_count": 3,
     "metadata": {},
     "output_type": "execute_result"
    }
   ],
   "source": [
    "df.head(10) #для знакомства с данными посмотрим на первые и последние 10 строк датафрейма"
   ]
  },
  {
   "cell_type": "code",
   "execution_count": 4,
   "metadata": {
    "scrolled": true
   },
   "outputs": [
    {
     "data": {
      "text/html": [
       "<div>\n",
       "<style scoped>\n",
       "    .dataframe tbody tr th:only-of-type {\n",
       "        vertical-align: middle;\n",
       "    }\n",
       "\n",
       "    .dataframe tbody tr th {\n",
       "        vertical-align: top;\n",
       "    }\n",
       "\n",
       "    .dataframe thead th {\n",
       "        text-align: right;\n",
       "    }\n",
       "</style>\n",
       "<table border=\"1\" class=\"dataframe\">\n",
       "  <thead>\n",
       "    <tr style=\"text-align: right;\">\n",
       "      <th></th>\n",
       "      <th>children</th>\n",
       "      <th>days_employed</th>\n",
       "      <th>dob_years</th>\n",
       "      <th>education</th>\n",
       "      <th>education_id</th>\n",
       "      <th>family_status</th>\n",
       "      <th>family_status_id</th>\n",
       "      <th>gender</th>\n",
       "      <th>income_type</th>\n",
       "      <th>debt</th>\n",
       "      <th>total_income</th>\n",
       "      <th>purpose</th>\n",
       "    </tr>\n",
       "  </thead>\n",
       "  <tbody>\n",
       "    <tr>\n",
       "      <td>21515</td>\n",
       "      <td>1</td>\n",
       "      <td>-467.685130</td>\n",
       "      <td>28</td>\n",
       "      <td>среднее</td>\n",
       "      <td>1</td>\n",
       "      <td>женат / замужем</td>\n",
       "      <td>0</td>\n",
       "      <td>F</td>\n",
       "      <td>сотрудник</td>\n",
       "      <td>1</td>\n",
       "      <td>109486.327999</td>\n",
       "      <td>заняться образованием</td>\n",
       "    </tr>\n",
       "    <tr>\n",
       "      <td>21516</td>\n",
       "      <td>0</td>\n",
       "      <td>-914.391429</td>\n",
       "      <td>42</td>\n",
       "      <td>высшее</td>\n",
       "      <td>0</td>\n",
       "      <td>женат / замужем</td>\n",
       "      <td>0</td>\n",
       "      <td>F</td>\n",
       "      <td>компаньон</td>\n",
       "      <td>0</td>\n",
       "      <td>322807.776603</td>\n",
       "      <td>покупка своего жилья</td>\n",
       "    </tr>\n",
       "    <tr>\n",
       "      <td>21517</td>\n",
       "      <td>0</td>\n",
       "      <td>-404.679034</td>\n",
       "      <td>42</td>\n",
       "      <td>высшее</td>\n",
       "      <td>0</td>\n",
       "      <td>гражданский брак</td>\n",
       "      <td>1</td>\n",
       "      <td>F</td>\n",
       "      <td>компаньон</td>\n",
       "      <td>0</td>\n",
       "      <td>178059.553491</td>\n",
       "      <td>на покупку своего автомобиля</td>\n",
       "    </tr>\n",
       "    <tr>\n",
       "      <td>21518</td>\n",
       "      <td>0</td>\n",
       "      <td>373995.710838</td>\n",
       "      <td>59</td>\n",
       "      <td>СРЕДНЕЕ</td>\n",
       "      <td>1</td>\n",
       "      <td>женат / замужем</td>\n",
       "      <td>0</td>\n",
       "      <td>F</td>\n",
       "      <td>пенсионер</td>\n",
       "      <td>0</td>\n",
       "      <td>153864.650328</td>\n",
       "      <td>сделка с автомобилем</td>\n",
       "    </tr>\n",
       "    <tr>\n",
       "      <td>21519</td>\n",
       "      <td>1</td>\n",
       "      <td>-2351.431934</td>\n",
       "      <td>37</td>\n",
       "      <td>ученая степень</td>\n",
       "      <td>4</td>\n",
       "      <td>в разводе</td>\n",
       "      <td>3</td>\n",
       "      <td>M</td>\n",
       "      <td>сотрудник</td>\n",
       "      <td>0</td>\n",
       "      <td>115949.039788</td>\n",
       "      <td>покупка коммерческой недвижимости</td>\n",
       "    </tr>\n",
       "    <tr>\n",
       "      <td>21520</td>\n",
       "      <td>1</td>\n",
       "      <td>-4529.316663</td>\n",
       "      <td>43</td>\n",
       "      <td>среднее</td>\n",
       "      <td>1</td>\n",
       "      <td>гражданский брак</td>\n",
       "      <td>1</td>\n",
       "      <td>F</td>\n",
       "      <td>компаньон</td>\n",
       "      <td>0</td>\n",
       "      <td>224791.862382</td>\n",
       "      <td>операции с жильем</td>\n",
       "    </tr>\n",
       "    <tr>\n",
       "      <td>21521</td>\n",
       "      <td>0</td>\n",
       "      <td>343937.404131</td>\n",
       "      <td>67</td>\n",
       "      <td>среднее</td>\n",
       "      <td>1</td>\n",
       "      <td>женат / замужем</td>\n",
       "      <td>0</td>\n",
       "      <td>F</td>\n",
       "      <td>пенсионер</td>\n",
       "      <td>0</td>\n",
       "      <td>155999.806512</td>\n",
       "      <td>сделка с автомобилем</td>\n",
       "    </tr>\n",
       "    <tr>\n",
       "      <td>21522</td>\n",
       "      <td>1</td>\n",
       "      <td>-2113.346888</td>\n",
       "      <td>38</td>\n",
       "      <td>среднее</td>\n",
       "      <td>1</td>\n",
       "      <td>гражданский брак</td>\n",
       "      <td>1</td>\n",
       "      <td>M</td>\n",
       "      <td>сотрудник</td>\n",
       "      <td>1</td>\n",
       "      <td>89672.561153</td>\n",
       "      <td>недвижимость</td>\n",
       "    </tr>\n",
       "    <tr>\n",
       "      <td>21523</td>\n",
       "      <td>3</td>\n",
       "      <td>-3112.481705</td>\n",
       "      <td>38</td>\n",
       "      <td>среднее</td>\n",
       "      <td>1</td>\n",
       "      <td>женат / замужем</td>\n",
       "      <td>0</td>\n",
       "      <td>M</td>\n",
       "      <td>сотрудник</td>\n",
       "      <td>1</td>\n",
       "      <td>244093.050500</td>\n",
       "      <td>на покупку своего автомобиля</td>\n",
       "    </tr>\n",
       "    <tr>\n",
       "      <td>21524</td>\n",
       "      <td>2</td>\n",
       "      <td>-1984.507589</td>\n",
       "      <td>40</td>\n",
       "      <td>среднее</td>\n",
       "      <td>1</td>\n",
       "      <td>женат / замужем</td>\n",
       "      <td>0</td>\n",
       "      <td>F</td>\n",
       "      <td>сотрудник</td>\n",
       "      <td>0</td>\n",
       "      <td>82047.418899</td>\n",
       "      <td>на покупку автомобиля</td>\n",
       "    </tr>\n",
       "  </tbody>\n",
       "</table>\n",
       "</div>"
      ],
      "text/plain": [
       "       children  days_employed  dob_years       education  education_id  \\\n",
       "21515         1    -467.685130         28         среднее             1   \n",
       "21516         0    -914.391429         42          высшее             0   \n",
       "21517         0    -404.679034         42          высшее             0   \n",
       "21518         0  373995.710838         59         СРЕДНЕЕ             1   \n",
       "21519         1   -2351.431934         37  ученая степень             4   \n",
       "21520         1   -4529.316663         43         среднее             1   \n",
       "21521         0  343937.404131         67         среднее             1   \n",
       "21522         1   -2113.346888         38         среднее             1   \n",
       "21523         3   -3112.481705         38         среднее             1   \n",
       "21524         2   -1984.507589         40         среднее             1   \n",
       "\n",
       "          family_status  family_status_id gender income_type  debt  \\\n",
       "21515   женат / замужем                 0      F   сотрудник     1   \n",
       "21516   женат / замужем                 0      F   компаньон     0   \n",
       "21517  гражданский брак                 1      F   компаньон     0   \n",
       "21518   женат / замужем                 0      F   пенсионер     0   \n",
       "21519         в разводе                 3      M   сотрудник     0   \n",
       "21520  гражданский брак                 1      F   компаньон     0   \n",
       "21521   женат / замужем                 0      F   пенсионер     0   \n",
       "21522  гражданский брак                 1      M   сотрудник     1   \n",
       "21523   женат / замужем                 0      M   сотрудник     1   \n",
       "21524   женат / замужем                 0      F   сотрудник     0   \n",
       "\n",
       "        total_income                            purpose  \n",
       "21515  109486.327999              заняться образованием  \n",
       "21516  322807.776603               покупка своего жилья  \n",
       "21517  178059.553491       на покупку своего автомобиля  \n",
       "21518  153864.650328               сделка с автомобилем  \n",
       "21519  115949.039788  покупка коммерческой недвижимости  \n",
       "21520  224791.862382                  операции с жильем  \n",
       "21521  155999.806512               сделка с автомобилем  \n",
       "21522   89672.561153                       недвижимость  \n",
       "21523  244093.050500       на покупку своего автомобиля  \n",
       "21524   82047.418899              на покупку автомобиля  "
      ]
     },
     "execution_count": 4,
     "metadata": {},
     "output_type": "execute_result"
    }
   ],
   "source": [
    "df.tail(10)"
   ]
  },
  {
   "cell_type": "markdown",
   "metadata": {},
   "source": [
    "### Вывод"
   ]
  },
  {
   "cell_type": "markdown",
   "metadata": {},
   "source": [
    "Статистика о платежеспособности клиентов была предоставлена заказчиком в виде файла в формате CSV. Методами библиотеки pandas мы прочитали файл и вызвали 10 строк из начала и конца таблицы. Из них уже видны некоторые ошибки, которые могут повлиять на точность нашего анализа: отрицательные значения в столбце \"общий трудовой стаж в днях\", разный регистр текста в столбце \"уровень образования клиента\". Среди целей можно отметить, например, \"сыграть свадьбу\" и \"на проведение свадьбы\", которые являются по смыслу одной и той же целью, но программой будут засчитаны как две разные, что тоже повлияет на данные на выходе. Поэтому для повышения точности результатов анализа данных нам необходимо их предварительно обработать."
   ]
  },
  {
   "cell_type": "markdown",
   "metadata": {},
   "source": [
    "## Предобработка данных"
   ]
  },
  {
   "cell_type": "markdown",
   "metadata": {},
   "source": [
    "### Обработка пропусков"
   ]
  },
  {
   "cell_type": "code",
   "execution_count": 5,
   "metadata": {},
   "outputs": [
    {
     "name": "stdout",
     "output_type": "stream",
     "text": [
      "<class 'pandas.core.frame.DataFrame'>\n",
      "RangeIndex: 21525 entries, 0 to 21524\n",
      "Data columns (total 12 columns):\n",
      "children            21525 non-null int64\n",
      "days_employed       19351 non-null float64\n",
      "dob_years           21525 non-null int64\n",
      "education           21525 non-null object\n",
      "education_id        21525 non-null int64\n",
      "family_status       21525 non-null object\n",
      "family_status_id    21525 non-null int64\n",
      "gender              21525 non-null object\n",
      "income_type         21525 non-null object\n",
      "debt                21525 non-null int64\n",
      "total_income        19351 non-null float64\n",
      "purpose             21525 non-null object\n",
      "dtypes: float64(2), int64(5), object(5)\n",
      "memory usage: 2.0+ MB\n"
     ]
    }
   ],
   "source": [
    "df.info() #посмотрим на свойства таблицы с данными"
   ]
  },
  {
   "cell_type": "markdown",
   "metadata": {},
   "source": [
    "Как видно из краткой сводки, в столбцах days_employed и total_income есть пропущенные значения (в них по 19351 записей при общем количестве 21525). Оба столбца содержат числовые данные типа float64."
   ]
  },
  {
   "cell_type": "code",
   "execution_count": 6,
   "metadata": {},
   "outputs": [
    {
     "data": {
      "text/html": [
       "<div>\n",
       "<style scoped>\n",
       "    .dataframe tbody tr th:only-of-type {\n",
       "        vertical-align: middle;\n",
       "    }\n",
       "\n",
       "    .dataframe tbody tr th {\n",
       "        vertical-align: top;\n",
       "    }\n",
       "\n",
       "    .dataframe thead th {\n",
       "        text-align: right;\n",
       "    }\n",
       "</style>\n",
       "<table border=\"1\" class=\"dataframe\">\n",
       "  <thead>\n",
       "    <tr style=\"text-align: right;\">\n",
       "      <th></th>\n",
       "      <th>children</th>\n",
       "      <th>days_employed</th>\n",
       "      <th>dob_years</th>\n",
       "      <th>education</th>\n",
       "      <th>education_id</th>\n",
       "      <th>family_status</th>\n",
       "      <th>family_status_id</th>\n",
       "      <th>gender</th>\n",
       "      <th>income_type</th>\n",
       "      <th>debt</th>\n",
       "      <th>total_income</th>\n",
       "      <th>purpose</th>\n",
       "    </tr>\n",
       "  </thead>\n",
       "  <tbody>\n",
       "    <tr>\n",
       "      <td>6725</td>\n",
       "      <td>0</td>\n",
       "      <td>NaN</td>\n",
       "      <td>57</td>\n",
       "      <td>среднее</td>\n",
       "      <td>1</td>\n",
       "      <td>женат / замужем</td>\n",
       "      <td>0</td>\n",
       "      <td>F</td>\n",
       "      <td>пенсионер</td>\n",
       "      <td>1</td>\n",
       "      <td>NaN</td>\n",
       "      <td>покупка жилья для сдачи</td>\n",
       "    </tr>\n",
       "    <tr>\n",
       "      <td>8153</td>\n",
       "      <td>0</td>\n",
       "      <td>NaN</td>\n",
       "      <td>38</td>\n",
       "      <td>Среднее</td>\n",
       "      <td>1</td>\n",
       "      <td>женат / замужем</td>\n",
       "      <td>0</td>\n",
       "      <td>F</td>\n",
       "      <td>сотрудник</td>\n",
       "      <td>0</td>\n",
       "      <td>NaN</td>\n",
       "      <td>операции с жильем</td>\n",
       "    </tr>\n",
       "    <tr>\n",
       "      <td>2662</td>\n",
       "      <td>0</td>\n",
       "      <td>NaN</td>\n",
       "      <td>23</td>\n",
       "      <td>среднее</td>\n",
       "      <td>1</td>\n",
       "      <td>Не женат / не замужем</td>\n",
       "      <td>4</td>\n",
       "      <td>M</td>\n",
       "      <td>сотрудник</td>\n",
       "      <td>0</td>\n",
       "      <td>NaN</td>\n",
       "      <td>операции с жильем</td>\n",
       "    </tr>\n",
       "    <tr>\n",
       "      <td>16019</td>\n",
       "      <td>3</td>\n",
       "      <td>NaN</td>\n",
       "      <td>29</td>\n",
       "      <td>среднее</td>\n",
       "      <td>1</td>\n",
       "      <td>гражданский брак</td>\n",
       "      <td>1</td>\n",
       "      <td>M</td>\n",
       "      <td>сотрудник</td>\n",
       "      <td>0</td>\n",
       "      <td>NaN</td>\n",
       "      <td>покупка недвижимости</td>\n",
       "    </tr>\n",
       "    <tr>\n",
       "      <td>17291</td>\n",
       "      <td>0</td>\n",
       "      <td>NaN</td>\n",
       "      <td>56</td>\n",
       "      <td>среднее</td>\n",
       "      <td>1</td>\n",
       "      <td>гражданский брак</td>\n",
       "      <td>1</td>\n",
       "      <td>F</td>\n",
       "      <td>сотрудник</td>\n",
       "      <td>0</td>\n",
       "      <td>NaN</td>\n",
       "      <td>на проведение свадьбы</td>\n",
       "    </tr>\n",
       "    <tr>\n",
       "      <td>12545</td>\n",
       "      <td>1</td>\n",
       "      <td>NaN</td>\n",
       "      <td>46</td>\n",
       "      <td>высшее</td>\n",
       "      <td>0</td>\n",
       "      <td>женат / замужем</td>\n",
       "      <td>0</td>\n",
       "      <td>M</td>\n",
       "      <td>сотрудник</td>\n",
       "      <td>0</td>\n",
       "      <td>NaN</td>\n",
       "      <td>покупка жилья для сдачи</td>\n",
       "    </tr>\n",
       "    <tr>\n",
       "      <td>19071</td>\n",
       "      <td>1</td>\n",
       "      <td>NaN</td>\n",
       "      <td>36</td>\n",
       "      <td>среднее</td>\n",
       "      <td>1</td>\n",
       "      <td>в разводе</td>\n",
       "      <td>3</td>\n",
       "      <td>M</td>\n",
       "      <td>сотрудник</td>\n",
       "      <td>0</td>\n",
       "      <td>NaN</td>\n",
       "      <td>покупка жилья</td>\n",
       "    </tr>\n",
       "    <tr>\n",
       "      <td>11453</td>\n",
       "      <td>2</td>\n",
       "      <td>NaN</td>\n",
       "      <td>35</td>\n",
       "      <td>среднее</td>\n",
       "      <td>1</td>\n",
       "      <td>гражданский брак</td>\n",
       "      <td>1</td>\n",
       "      <td>F</td>\n",
       "      <td>компаньон</td>\n",
       "      <td>1</td>\n",
       "      <td>NaN</td>\n",
       "      <td>получение дополнительного образования</td>\n",
       "    </tr>\n",
       "    <tr>\n",
       "      <td>12793</td>\n",
       "      <td>0</td>\n",
       "      <td>NaN</td>\n",
       "      <td>50</td>\n",
       "      <td>высшее</td>\n",
       "      <td>0</td>\n",
       "      <td>гражданский брак</td>\n",
       "      <td>1</td>\n",
       "      <td>F</td>\n",
       "      <td>сотрудник</td>\n",
       "      <td>0</td>\n",
       "      <td>NaN</td>\n",
       "      <td>свадьба</td>\n",
       "    </tr>\n",
       "    <tr>\n",
       "      <td>8015</td>\n",
       "      <td>0</td>\n",
       "      <td>NaN</td>\n",
       "      <td>58</td>\n",
       "      <td>среднее</td>\n",
       "      <td>1</td>\n",
       "      <td>женат / замужем</td>\n",
       "      <td>0</td>\n",
       "      <td>M</td>\n",
       "      <td>сотрудник</td>\n",
       "      <td>0</td>\n",
       "      <td>NaN</td>\n",
       "      <td>покупка недвижимости</td>\n",
       "    </tr>\n",
       "  </tbody>\n",
       "</table>\n",
       "</div>"
      ],
      "text/plain": [
       "       children  days_employed  dob_years education  education_id  \\\n",
       "6725          0            NaN         57   среднее             1   \n",
       "8153          0            NaN         38   Среднее             1   \n",
       "2662          0            NaN         23   среднее             1   \n",
       "16019         3            NaN         29   среднее             1   \n",
       "17291         0            NaN         56   среднее             1   \n",
       "12545         1            NaN         46    высшее             0   \n",
       "19071         1            NaN         36   среднее             1   \n",
       "11453         2            NaN         35   среднее             1   \n",
       "12793         0            NaN         50    высшее             0   \n",
       "8015          0            NaN         58   среднее             1   \n",
       "\n",
       "               family_status  family_status_id gender income_type  debt  \\\n",
       "6725         женат / замужем                 0      F   пенсионер     1   \n",
       "8153         женат / замужем                 0      F   сотрудник     0   \n",
       "2662   Не женат / не замужем                 4      M   сотрудник     0   \n",
       "16019       гражданский брак                 1      M   сотрудник     0   \n",
       "17291       гражданский брак                 1      F   сотрудник     0   \n",
       "12545        женат / замужем                 0      M   сотрудник     0   \n",
       "19071              в разводе                 3      M   сотрудник     0   \n",
       "11453       гражданский брак                 1      F   компаньон     1   \n",
       "12793       гражданский брак                 1      F   сотрудник     0   \n",
       "8015         женат / замужем                 0      M   сотрудник     0   \n",
       "\n",
       "       total_income                                purpose  \n",
       "6725            NaN                покупка жилья для сдачи  \n",
       "8153            NaN                      операции с жильем  \n",
       "2662            NaN                      операции с жильем  \n",
       "16019           NaN                   покупка недвижимости  \n",
       "17291           NaN                  на проведение свадьбы  \n",
       "12545           NaN                покупка жилья для сдачи  \n",
       "19071           NaN                          покупка жилья  \n",
       "11453           NaN  получение дополнительного образования  \n",
       "12793           NaN                                свадьба  \n",
       "8015            NaN                   покупка недвижимости  "
      ]
     },
     "execution_count": 6,
     "metadata": {},
     "output_type": "execute_result"
    }
   ],
   "source": [
    "df[df['days_employed'].isna()].sample(10) #найдем все строки с пропусками в days_employed и посмотрим на случайные 10"
   ]
  },
  {
   "cell_type": "markdown",
   "metadata": {},
   "source": [
    "Судя по таблице выше, где пропущено значение дней трудового стажа, там и в графе \"ежемесячный доход\" значится NaN, и количество пропусков в обоих столбцах совпадает. Можно предположить, что некоторые клиенты банка по каким-то причинам не стали сообщать величину трудового стажа и дохода, когда подавали заявку на кредит. "
   ]
  },
  {
   "cell_type": "markdown",
   "metadata": {},
   "source": [
    "Семейное положение, образование, род занятий и цели заёмщиков, по которым недостаёт данных, разнообразны. Если просто удалить строки с пропусками, мы потеряем важную информацию из других столбцов. Воспользуемся методом fillna() и заменим отсутствующие значения в столбце days_employed нулями."
   ]
  },
  {
   "cell_type": "code",
   "execution_count": 7,
   "metadata": {},
   "outputs": [],
   "source": [
    "df['days_employed'] = df['days_employed'].fillna(0) "
   ]
  },
  {
   "cell_type": "markdown",
   "metadata": {},
   "source": [
    "Столбец total_income важен для нашего исследования, и заполнение пропусков нулями может исказить статистику. Поэтому заменим их медианным заработком для каждой группы заёмщиков (в данном случае точнее брать значение медианы, а не среднего арифметического, так как экстремально высокие доходы сильно смещают среднее значение по выборке вверх)."
   ]
  },
  {
   "cell_type": "code",
   "execution_count": 8,
   "metadata": {},
   "outputs": [],
   "source": [
    "df['median_income'] = df.groupby('income_type')['total_income'].transform('median') #вычислим медианный доход по группам"
   ]
  },
  {
   "cell_type": "code",
   "execution_count": 9,
   "metadata": {},
   "outputs": [],
   "source": [
    "df['total_income'] = df['total_income'].fillna(df['median_income']) \n",
    "#заменим пропуски в столбце 'total_income' значениями из столбца 'median_income'"
   ]
  },
  {
   "cell_type": "code",
   "execution_count": 10,
   "metadata": {},
   "outputs": [
    {
     "data": {
      "text/plain": [
       "children                           0\n",
       "days_employed                      0\n",
       "dob_years                         65\n",
       "education                    среднее\n",
       "education_id                       1\n",
       "family_status       гражданский брак\n",
       "family_status_id                   1\n",
       "gender                             M\n",
       "income_type                пенсионер\n",
       "debt                               0\n",
       "total_income                  118514\n",
       "purpose              сыграть свадьбу\n",
       "median_income                 118514\n",
       "Name: 12, dtype: object"
      ]
     },
     "metadata": {},
     "output_type": "display_data"
    },
    {
     "data": {
      "text/plain": [
       "children                                           0\n",
       "days_employed                                      0\n",
       "dob_years                                         50\n",
       "education                                    среднее\n",
       "education_id                                       1\n",
       "family_status                        женат / замужем\n",
       "family_status_id                                   0\n",
       "gender                                             F\n",
       "income_type                              госслужащий\n",
       "debt                                               0\n",
       "total_income                                  150448\n",
       "purpose             сделка с подержанным автомобилем\n",
       "median_income                                 150448\n",
       "Name: 41, dtype: object"
      ]
     },
     "metadata": {},
     "output_type": "display_data"
    },
    {
     "data": {
      "text/plain": [
       "children                             0\n",
       "days_employed                        0\n",
       "dob_years                           46\n",
       "education                      среднее\n",
       "education_id                         1\n",
       "family_status          женат / замужем\n",
       "family_status_id                     0\n",
       "gender                               F\n",
       "income_type                  сотрудник\n",
       "debt                                 0\n",
       "total_income                    142594\n",
       "purpose             высшее образование\n",
       "median_income                   142594\n",
       "Name: 120, dtype: object"
      ]
     },
     "metadata": {},
     "output_type": "display_data"
    },
    {
     "data": {
      "text/plain": [
       "children                          0\n",
       "days_employed                     0\n",
       "dob_years                        55\n",
       "education                    высшее\n",
       "education_id                      0\n",
       "family_status        вдовец / вдова\n",
       "family_status_id                  2\n",
       "gender                            F\n",
       "income_type               компаньон\n",
       "debt                              0\n",
       "total_income                 172358\n",
       "purpose             свой автомобиль\n",
       "median_income                172358\n",
       "Name: 174, dtype: object"
      ]
     },
     "metadata": {},
     "output_type": "display_data"
    }
   ],
   "source": [
    "display(df.loc[12], df.loc[41], df.loc[120], df.loc[174]) #проверим несколько строк, где раньше были пропуски"
   ]
  },
  {
   "cell_type": "code",
   "execution_count": 11,
   "metadata": {},
   "outputs": [
    {
     "name": "stdout",
     "output_type": "stream",
     "text": [
      "<class 'pandas.core.frame.DataFrame'>\n",
      "RangeIndex: 21525 entries, 0 to 21524\n",
      "Data columns (total 13 columns):\n",
      "children            21525 non-null int64\n",
      "days_employed       21525 non-null float64\n",
      "dob_years           21525 non-null int64\n",
      "education           21525 non-null object\n",
      "education_id        21525 non-null int64\n",
      "family_status       21525 non-null object\n",
      "family_status_id    21525 non-null int64\n",
      "gender              21525 non-null object\n",
      "income_type         21525 non-null object\n",
      "debt                21525 non-null int64\n",
      "total_income        21525 non-null float64\n",
      "purpose             21525 non-null object\n",
      "median_income       21525 non-null float64\n",
      "dtypes: float64(3), int64(5), object(5)\n",
      "memory usage: 2.1+ MB\n"
     ]
    }
   ],
   "source": [
    "df.info() #убедимся, что никаких пропусков не осталось"
   ]
  },
  {
   "cell_type": "markdown",
   "metadata": {},
   "source": [
    "#### Вывод"
   ]
  },
  {
   "cell_type": "markdown",
   "metadata": {},
   "source": [
    "Проанализировав таблицу, мы обнаружили пропуски в столбцах \"общий трудовой стаж в днях\" и \"ежемесячный доход\". Мы предполагаем, что некоторые заёмщики по каким-то причинам не стали сообщать величину своего трудового стажа и дохода. Чтобы не потерять важную информацию, содержащуюся в других столбцах таблицы, было решено избавиться от пропущенных значений вызовом метода fillna(). Для простоты мы заменили пропуски в столбце \"общий трудовой стаж\" нулями. Значение ежемесячного дохода важно для нашего исследования, поэтому пропуски в этом столбце было решено заменить медианным значением, рассчитанным в соответствии с типом дохода для каждого клиента."
   ]
  },
  {
   "cell_type": "markdown",
   "metadata": {},
   "source": [
    "### Замена типа данных"
   ]
  },
  {
   "cell_type": "markdown",
   "metadata": {},
   "source": [
    "Ещё раз обратимся к сводке df.info(). В датафрейме содержатся данные трёх типов: float64(2), int64(5), object(5). Информация строкового типа содержится в столбцах education, family_status, gender, income_type и purpose - содержание ячеек соответствует этому типу, здесь всё в порядке и данные в числа переводить не нужно. Количество дней трудового стажа и доход, которые относятся к типу float64, переведем в данные целочисленного типа, так как для подобной информации точность до шестого знака после запятой не нужна. Для перевода воспользуемся функцией astype()."
   ]
  },
  {
   "cell_type": "code",
   "execution_count": 12,
   "metadata": {},
   "outputs": [],
   "source": [
    "df['days_employed'] = df['days_employed'].astype(int)"
   ]
  },
  {
   "cell_type": "code",
   "execution_count": 13,
   "metadata": {},
   "outputs": [],
   "source": [
    "df['total_income'] = df['total_income'].astype(int)"
   ]
  },
  {
   "cell_type": "code",
   "execution_count": 14,
   "metadata": {},
   "outputs": [
    {
     "data": {
      "text/html": [
       "<div>\n",
       "<style scoped>\n",
       "    .dataframe tbody tr th:only-of-type {\n",
       "        vertical-align: middle;\n",
       "    }\n",
       "\n",
       "    .dataframe tbody tr th {\n",
       "        vertical-align: top;\n",
       "    }\n",
       "\n",
       "    .dataframe thead th {\n",
       "        text-align: right;\n",
       "    }\n",
       "</style>\n",
       "<table border=\"1\" class=\"dataframe\">\n",
       "  <thead>\n",
       "    <tr style=\"text-align: right;\">\n",
       "      <th></th>\n",
       "      <th>children</th>\n",
       "      <th>days_employed</th>\n",
       "      <th>dob_years</th>\n",
       "      <th>education</th>\n",
       "      <th>education_id</th>\n",
       "      <th>family_status</th>\n",
       "      <th>family_status_id</th>\n",
       "      <th>gender</th>\n",
       "      <th>income_type</th>\n",
       "      <th>debt</th>\n",
       "      <th>total_income</th>\n",
       "      <th>purpose</th>\n",
       "      <th>median_income</th>\n",
       "    </tr>\n",
       "  </thead>\n",
       "  <tbody>\n",
       "    <tr>\n",
       "      <td>0</td>\n",
       "      <td>1</td>\n",
       "      <td>-8437</td>\n",
       "      <td>42</td>\n",
       "      <td>высшее</td>\n",
       "      <td>0</td>\n",
       "      <td>женат / замужем</td>\n",
       "      <td>0</td>\n",
       "      <td>F</td>\n",
       "      <td>сотрудник</td>\n",
       "      <td>0</td>\n",
       "      <td>253875</td>\n",
       "      <td>покупка жилья</td>\n",
       "      <td>142594.396847</td>\n",
       "    </tr>\n",
       "    <tr>\n",
       "      <td>1</td>\n",
       "      <td>1</td>\n",
       "      <td>-4024</td>\n",
       "      <td>36</td>\n",
       "      <td>среднее</td>\n",
       "      <td>1</td>\n",
       "      <td>женат / замужем</td>\n",
       "      <td>0</td>\n",
       "      <td>F</td>\n",
       "      <td>сотрудник</td>\n",
       "      <td>0</td>\n",
       "      <td>112080</td>\n",
       "      <td>приобретение автомобиля</td>\n",
       "      <td>142594.396847</td>\n",
       "    </tr>\n",
       "    <tr>\n",
       "      <td>2</td>\n",
       "      <td>0</td>\n",
       "      <td>-5623</td>\n",
       "      <td>33</td>\n",
       "      <td>Среднее</td>\n",
       "      <td>1</td>\n",
       "      <td>женат / замужем</td>\n",
       "      <td>0</td>\n",
       "      <td>M</td>\n",
       "      <td>сотрудник</td>\n",
       "      <td>0</td>\n",
       "      <td>145885</td>\n",
       "      <td>покупка жилья</td>\n",
       "      <td>142594.396847</td>\n",
       "    </tr>\n",
       "    <tr>\n",
       "      <td>3</td>\n",
       "      <td>3</td>\n",
       "      <td>-4124</td>\n",
       "      <td>32</td>\n",
       "      <td>среднее</td>\n",
       "      <td>1</td>\n",
       "      <td>женат / замужем</td>\n",
       "      <td>0</td>\n",
       "      <td>M</td>\n",
       "      <td>сотрудник</td>\n",
       "      <td>0</td>\n",
       "      <td>267628</td>\n",
       "      <td>дополнительное образование</td>\n",
       "      <td>142594.396847</td>\n",
       "    </tr>\n",
       "    <tr>\n",
       "      <td>4</td>\n",
       "      <td>0</td>\n",
       "      <td>340266</td>\n",
       "      <td>53</td>\n",
       "      <td>среднее</td>\n",
       "      <td>1</td>\n",
       "      <td>гражданский брак</td>\n",
       "      <td>1</td>\n",
       "      <td>F</td>\n",
       "      <td>пенсионер</td>\n",
       "      <td>0</td>\n",
       "      <td>158616</td>\n",
       "      <td>сыграть свадьбу</td>\n",
       "      <td>118514.486412</td>\n",
       "    </tr>\n",
       "    <tr>\n",
       "      <td>5</td>\n",
       "      <td>0</td>\n",
       "      <td>-926</td>\n",
       "      <td>27</td>\n",
       "      <td>высшее</td>\n",
       "      <td>0</td>\n",
       "      <td>гражданский брак</td>\n",
       "      <td>1</td>\n",
       "      <td>M</td>\n",
       "      <td>компаньон</td>\n",
       "      <td>0</td>\n",
       "      <td>255763</td>\n",
       "      <td>покупка жилья</td>\n",
       "      <td>172357.950966</td>\n",
       "    </tr>\n",
       "    <tr>\n",
       "      <td>6</td>\n",
       "      <td>0</td>\n",
       "      <td>-2879</td>\n",
       "      <td>43</td>\n",
       "      <td>высшее</td>\n",
       "      <td>0</td>\n",
       "      <td>женат / замужем</td>\n",
       "      <td>0</td>\n",
       "      <td>F</td>\n",
       "      <td>компаньон</td>\n",
       "      <td>0</td>\n",
       "      <td>240525</td>\n",
       "      <td>операции с жильем</td>\n",
       "      <td>172357.950966</td>\n",
       "    </tr>\n",
       "    <tr>\n",
       "      <td>7</td>\n",
       "      <td>0</td>\n",
       "      <td>-152</td>\n",
       "      <td>50</td>\n",
       "      <td>СРЕДНЕЕ</td>\n",
       "      <td>1</td>\n",
       "      <td>женат / замужем</td>\n",
       "      <td>0</td>\n",
       "      <td>M</td>\n",
       "      <td>сотрудник</td>\n",
       "      <td>0</td>\n",
       "      <td>135823</td>\n",
       "      <td>образование</td>\n",
       "      <td>142594.396847</td>\n",
       "    </tr>\n",
       "    <tr>\n",
       "      <td>8</td>\n",
       "      <td>2</td>\n",
       "      <td>-6929</td>\n",
       "      <td>35</td>\n",
       "      <td>ВЫСШЕЕ</td>\n",
       "      <td>0</td>\n",
       "      <td>гражданский брак</td>\n",
       "      <td>1</td>\n",
       "      <td>F</td>\n",
       "      <td>сотрудник</td>\n",
       "      <td>0</td>\n",
       "      <td>95856</td>\n",
       "      <td>на проведение свадьбы</td>\n",
       "      <td>142594.396847</td>\n",
       "    </tr>\n",
       "    <tr>\n",
       "      <td>9</td>\n",
       "      <td>0</td>\n",
       "      <td>-2188</td>\n",
       "      <td>41</td>\n",
       "      <td>среднее</td>\n",
       "      <td>1</td>\n",
       "      <td>женат / замужем</td>\n",
       "      <td>0</td>\n",
       "      <td>M</td>\n",
       "      <td>сотрудник</td>\n",
       "      <td>0</td>\n",
       "      <td>144425</td>\n",
       "      <td>покупка жилья для семьи</td>\n",
       "      <td>142594.396847</td>\n",
       "    </tr>\n",
       "  </tbody>\n",
       "</table>\n",
       "</div>"
      ],
      "text/plain": [
       "   children  days_employed  dob_years education  education_id  \\\n",
       "0         1          -8437         42    высшее             0   \n",
       "1         1          -4024         36   среднее             1   \n",
       "2         0          -5623         33   Среднее             1   \n",
       "3         3          -4124         32   среднее             1   \n",
       "4         0         340266         53   среднее             1   \n",
       "5         0           -926         27    высшее             0   \n",
       "6         0          -2879         43    высшее             0   \n",
       "7         0           -152         50   СРЕДНЕЕ             1   \n",
       "8         2          -6929         35    ВЫСШЕЕ             0   \n",
       "9         0          -2188         41   среднее             1   \n",
       "\n",
       "      family_status  family_status_id gender income_type  debt  total_income  \\\n",
       "0   женат / замужем                 0      F   сотрудник     0        253875   \n",
       "1   женат / замужем                 0      F   сотрудник     0        112080   \n",
       "2   женат / замужем                 0      M   сотрудник     0        145885   \n",
       "3   женат / замужем                 0      M   сотрудник     0        267628   \n",
       "4  гражданский брак                 1      F   пенсионер     0        158616   \n",
       "5  гражданский брак                 1      M   компаньон     0        255763   \n",
       "6   женат / замужем                 0      F   компаньон     0        240525   \n",
       "7   женат / замужем                 0      M   сотрудник     0        135823   \n",
       "8  гражданский брак                 1      F   сотрудник     0         95856   \n",
       "9   женат / замужем                 0      M   сотрудник     0        144425   \n",
       "\n",
       "                      purpose  median_income  \n",
       "0               покупка жилья  142594.396847  \n",
       "1     приобретение автомобиля  142594.396847  \n",
       "2               покупка жилья  142594.396847  \n",
       "3  дополнительное образование  142594.396847  \n",
       "4             сыграть свадьбу  118514.486412  \n",
       "5               покупка жилья  172357.950966  \n",
       "6           операции с жильем  172357.950966  \n",
       "7                 образование  142594.396847  \n",
       "8       на проведение свадьбы  142594.396847  \n",
       "9     покупка жилья для семьи  142594.396847  "
      ]
     },
     "execution_count": 14,
     "metadata": {},
     "output_type": "execute_result"
    }
   ],
   "source": [
    "df.head(10) #посмотрим, что получилось"
   ]
  },
  {
   "cell_type": "markdown",
   "metadata": {},
   "source": [
    "Теперь данные по стажу и доходам выглядят намного доступнее. Осталось исправить отрицательные значения в столбце days_employed: "
   ]
  },
  {
   "cell_type": "code",
   "execution_count": 15,
   "metadata": {},
   "outputs": [],
   "source": [
    "df['days_employed'] = df['days_employed'].abs()"
   ]
  },
  {
   "cell_type": "code",
   "execution_count": 16,
   "metadata": {},
   "outputs": [
    {
     "data": {
      "text/plain": [
       "0"
      ]
     },
     "execution_count": 16,
     "metadata": {},
     "output_type": "execute_result"
    }
   ],
   "source": [
    "len(df[df['days_employed'] < 0]) #проверим, что строк с отрицательными значениями days_employed не осталось"
   ]
  },
  {
   "cell_type": "markdown",
   "metadata": {},
   "source": [
    "#### Вывод"
   ]
  },
  {
   "cell_type": "markdown",
   "metadata": {},
   "source": [
    "Чтобы повысить удобство восприятия информации, мы перевели значения столбцов days_employed и income_type из типа float64 (дробные числа, в нашем случае с шестью знаками после запятой) в тип int64 (целые числа). Также мы избавились от отрицательных значений трудового стажа с помощью функции abs()."
   ]
  },
  {
   "cell_type": "markdown",
   "metadata": {},
   "source": [
    "### Обработка дубликатов"
   ]
  },
  {
   "cell_type": "markdown",
   "metadata": {},
   "source": [
    "Данные необходимо проверить на дубликаты, которые могли появиться из-за технических ошибок при выгрузке или в самой системе хранения информации о кредитах, например, если заявка от одного человека была ошибочно обработана дважды. Прежде чем искать дубликаты, унифицируем регистр символов в столбце education, чтобы не пропустить никакие повторы."
   ]
  },
  {
   "cell_type": "code",
   "execution_count": 17,
   "metadata": {},
   "outputs": [],
   "source": [
    "df['education'] = df['education'].str.lower()"
   ]
  },
  {
   "cell_type": "code",
   "execution_count": 18,
   "metadata": {},
   "outputs": [
    {
     "data": {
      "text/plain": [
       "71"
      ]
     },
     "execution_count": 18,
     "metadata": {},
     "output_type": "execute_result"
    }
   ],
   "source": [
    "df.duplicated().sum() #посчитаем повторы в таблице"
   ]
  },
  {
   "cell_type": "code",
   "execution_count": 19,
   "metadata": {},
   "outputs": [],
   "source": [
    "df = df.drop_duplicates().reset_index(drop=True) #удалим повторы и обновим индекс"
   ]
  },
  {
   "cell_type": "markdown",
   "metadata": {},
   "source": [
    "Мы удалили полные повторы, теперь проанализируем информацию более детально. Для ответа на вопросы заказчика нам очень важны данные о детях, семейном положении, уровне дохода и целях кредита. Проверим, есть ли в этих столбцах какие-то артефакты."
   ]
  },
  {
   "cell_type": "code",
   "execution_count": 20,
   "metadata": {},
   "outputs": [
    {
     "data": {
      "text/plain": [
       "array([ 1,  0,  3,  2, -1,  4, 20,  5])"
      ]
     },
     "execution_count": 20,
     "metadata": {},
     "output_type": "execute_result"
    }
   ],
   "source": [
    "df['children'].unique() #проверим, какие уникальные значения встречаются в столбце \"количество детей в семье\""
   ]
  },
  {
   "cell_type": "markdown",
   "metadata": {},
   "source": [
    "Отрицательное количество детей - в данные явно закралась ошибка, знак минуса тут лишний. Число 20 тоже навевает сомнения: если таких многодетных семей в выгрузке много, можно смело утверждать, что на месте 20 должно быть 2."
   ]
  },
  {
   "cell_type": "code",
   "execution_count": 21,
   "metadata": {},
   "outputs": [
    {
     "data": {
      "text/plain": [
       "47"
      ]
     },
     "execution_count": 21,
     "metadata": {},
     "output_type": "execute_result"
    }
   ],
   "source": [
    "df['children'][df['children'] == -1].count() #посчитаем количество семей с минус-одним ребенком"
   ]
  },
  {
   "cell_type": "code",
   "execution_count": 22,
   "metadata": {},
   "outputs": [],
   "source": [
    "df['children'] = df['children'].replace(-1, 1) #заменим отрицательные значения на положительные"
   ]
  },
  {
   "cell_type": "code",
   "execution_count": 23,
   "metadata": {},
   "outputs": [
    {
     "data": {
      "text/plain": [
       "76"
      ]
     },
     "execution_count": 23,
     "metadata": {},
     "output_type": "execute_result"
    }
   ],
   "source": [
    "df['children'][df['children'] == 20].count() #посчитаем количество семей с двадцатью детьми"
   ]
  },
  {
   "cell_type": "code",
   "execution_count": 24,
   "metadata": {},
   "outputs": [],
   "source": [
    "df['children'] = df['children'].replace(20, 2) #заменим двадцать на два"
   ]
  },
  {
   "cell_type": "code",
   "execution_count": 25,
   "metadata": {},
   "outputs": [
    {
     "data": {
      "text/plain": [
       "array([1, 0, 3, 2, 4, 5])"
      ]
     },
     "execution_count": 25,
     "metadata": {},
     "output_type": "execute_result"
    }
   ],
   "source": [
    "df['children'].unique() #проверим, что получилось"
   ]
  },
  {
   "cell_type": "code",
   "execution_count": 26,
   "metadata": {},
   "outputs": [
    {
     "data": {
      "text/plain": [
       "array(['женат / замужем', 'гражданский брак', 'вдовец / вдова',\n",
       "       'в разводе', 'Не женат / не замужем'], dtype=object)"
      ]
     },
     "execution_count": 26,
     "metadata": {},
     "output_type": "execute_result"
    }
   ],
   "source": [
    "df['family_status'].unique() #с количеством детей разобрались, теперь посмотрим на семейное положение"
   ]
  },
  {
   "cell_type": "code",
   "execution_count": 27,
   "metadata": {},
   "outputs": [
    {
     "data": {
      "text/plain": [
       "array([0, 1, 2, 3, 4])"
      ]
     },
     "execution_count": 27,
     "metadata": {},
     "output_type": "execute_result"
    }
   ],
   "source": [
    "df['family_status_id'].unique()"
   ]
  },
  {
   "cell_type": "markdown",
   "metadata": {},
   "source": [
    "С семейным положением можно работать. Проверим, всё ли в порядке в столбце \"доход\". Так как уникальных значений в этом столбце очень много, вместо функции unique() воспользуемся min() и проверим, не встречаются ли там отрицательные значения."
   ]
  },
  {
   "cell_type": "code",
   "execution_count": 28,
   "metadata": {},
   "outputs": [
    {
     "data": {
      "text/plain": [
       "20667"
      ]
     },
     "execution_count": 28,
     "metadata": {},
     "output_type": "execute_result"
    }
   ],
   "source": [
    "df['total_income'].min()"
   ]
  },
  {
   "cell_type": "markdown",
   "metadata": {},
   "source": [
    "Кажется, в данных о доходе тоже нет ничего подозрительного. Цели заёмщиков мы изучим ниже, так как для их анализа пригодятся инструменты для работы с естественными языками. На всякий случай ещё раз проверим, что после замен дополнительных дубликатов не появилось. Если их нет, можно переходить к следующему шагу."
   ]
  },
  {
   "cell_type": "code",
   "execution_count": 29,
   "metadata": {},
   "outputs": [
    {
     "data": {
      "text/plain": [
       "0"
      ]
     },
     "execution_count": 29,
     "metadata": {},
     "output_type": "execute_result"
    }
   ],
   "source": [
    "df.duplicated().sum()"
   ]
  },
  {
   "cell_type": "markdown",
   "metadata": {},
   "source": [
    "#### Вывод"
   ]
  },
  {
   "cell_type": "markdown",
   "metadata": {},
   "source": [
    "В целях дальнейшей оптимизации данных мы удалили из таблицы дубликаты с помощью метода drop_duplicates(), а также дополнительно проверили избранные столбцы на предмет артефактов и исправили отрицательное количество детей."
   ]
  },
  {
   "cell_type": "markdown",
   "metadata": {},
   "source": [
    "### Лемматизация"
   ]
  },
  {
   "cell_type": "markdown",
   "metadata": {},
   "source": [
    "Лемматизация пригодится нам для анализа целей заёмщиков. Как мы отмечали ранее, в списке есть похожие формулировки - например, \"сыграть свадьбу\" и \"на проведение свадьбы\". Выделение словарных форм поможет нам выяснить, какие цели встречаются наиболее часто."
   ]
  },
  {
   "cell_type": "code",
   "execution_count": 30,
   "metadata": {},
   "outputs": [],
   "source": [
    "m = Mystem()"
   ]
  },
  {
   "cell_type": "code",
   "execution_count": 31,
   "metadata": {},
   "outputs": [],
   "source": [
    "credit_purposes = ', '.join(df['purpose']) #сохраним описание целей в переменной credit_purposes"
   ]
  },
  {
   "cell_type": "code",
   "execution_count": 32,
   "metadata": {},
   "outputs": [],
   "source": [
    "lemmas = m.lemmatize(credit_purposes) #лемматизируем"
   ]
  },
  {
   "cell_type": "code",
   "execution_count": 33,
   "metadata": {},
   "outputs": [
    {
     "data": {
      "text/plain": [
       "[(' ', 33570),\n",
       " (', ', 21453),\n",
       " ('недвижимость', 6351),\n",
       " ('покупка', 5897),\n",
       " ('жилье', 4460),\n",
       " ('автомобиль', 4306),\n",
       " ('образование', 4013),\n",
       " ('с', 2918),\n",
       " ('операция', 2604),\n",
       " ('свадьба', 2324),\n",
       " ('свой', 2230),\n",
       " ('на', 2222),\n",
       " ('строительство', 1878),\n",
       " ('высокий', 1374),\n",
       " ('получение', 1314),\n",
       " ('коммерческий', 1311),\n",
       " ('для', 1289),\n",
       " ('жилой', 1230),\n",
       " ('сделка', 941),\n",
       " ('дополнительный', 906),\n",
       " ('заниматься', 904),\n",
       " ('подержать', 853),\n",
       " ('проведение', 768),\n",
       " ('сыграть', 765),\n",
       " ('сдача', 651),\n",
       " ('семья', 638),\n",
       " ('собственный', 635),\n",
       " ('со', 627),\n",
       " ('ремонт', 607),\n",
       " ('приобретение', 461),\n",
       " ('профильный', 436),\n",
       " ('подержанный', 111),\n",
       " ('\\n', 1)]"
      ]
     },
     "execution_count": 33,
     "metadata": {},
     "output_type": "execute_result"
    }
   ],
   "source": [
    "Counter(lemmas).most_common() #посчитаем леммы и отсортируем их в порядке убывания"
   ]
  },
  {
   "cell_type": "code",
   "execution_count": 34,
   "metadata": {},
   "outputs": [],
   "source": [
    "top_purposes = ['недвижимость', 'жилье', 'автомобиль', 'образование', 'свадьба']"
   ]
  },
  {
   "cell_type": "markdown",
   "metadata": {},
   "source": [
    "#### Вывод"
   ]
  },
  {
   "cell_type": "markdown",
   "metadata": {},
   "source": [
    "По результатам лемматизации выявлено, что в целях чаще всего встречаются слова \"недвижимость\", \"жилье\", \"автомобиль\", \"образование\" и \"свадьба\"."
   ]
  },
  {
   "cell_type": "markdown",
   "metadata": {},
   "source": [
    "### Категоризация данных"
   ]
  },
  {
   "cell_type": "markdown",
   "metadata": {},
   "source": [
    "Один из вопросов, поставленных заказчиком, звучит: \"Есть ли зависимость между уровнем дохода и возвратом кредита в срок?\" Проверим, сколько уникальных значений встречается в данных о доходе:"
   ]
  },
  {
   "cell_type": "code",
   "execution_count": 35,
   "metadata": {},
   "outputs": [
    {
     "data": {
      "text/plain": [
       "142594    1070\n",
       "172357     502\n",
       "118514     387\n",
       "150447     145\n",
       "126262       3\n",
       "          ... \n",
       "101387       1\n",
       "138249       1\n",
       "280240       1\n",
       "390148       1\n",
       "264193       1\n",
       "Name: total_income, Length: 18608, dtype: int64"
      ]
     },
     "execution_count": 35,
     "metadata": {},
     "output_type": "execute_result"
    }
   ],
   "source": [
    "df['total_income'].value_counts()"
   ]
  },
  {
   "cell_type": "markdown",
   "metadata": {},
   "source": [
    "Целых 18608 значений! Работать с ними по отдельности будет неудобно, поэтому нужно выделить какие-то категории."
   ]
  },
  {
   "cell_type": "code",
   "execution_count": 36,
   "metadata": {},
   "outputs": [
    {
     "data": {
      "text/plain": [
       "165319.57229421087"
      ]
     },
     "execution_count": 36,
     "metadata": {},
     "output_type": "execute_result"
    }
   ],
   "source": [
    "df['total_income'].mean() #найдем среднее значение ежемесячного дохода для всей выборки"
   ]
  },
  {
   "cell_type": "code",
   "execution_count": 37,
   "metadata": {},
   "outputs": [
    {
     "data": {
      "text/plain": [
       "142594.0"
      ]
     },
     "execution_count": 37,
     "metadata": {},
     "output_type": "execute_result"
    }
   ],
   "source": [
    "df['total_income'].median() #найдем медианное значение ежемесячного дохода для всей выборки"
   ]
  },
  {
   "cell_type": "markdown",
   "metadata": {},
   "source": [
    "Средний ежемесячный доход по выборке составляет 165 тысяч, медианный - 142,5 тысячи. Поскольку значение среднего арифметического заметно смещено вверх, для дальнейшего анализа будем использовать медиану в качестве среднего дохода. Чтобы определить пороги низкого и высокого дохода, вычислим значение для 20% и 80% выборки."
   ]
  },
  {
   "cell_type": "code",
   "execution_count": 38,
   "metadata": {},
   "outputs": [
    {
     "data": {
      "text/plain": [
       "0.2     98537.6\n",
       "0.8    214618.2\n",
       "Name: total_income, dtype: float64"
      ]
     },
     "execution_count": 38,
     "metadata": {},
     "output_type": "execute_result"
    }
   ],
   "source": [
    "df['total_income'].quantile([.2, .8]) "
   ]
  },
  {
   "cell_type": "markdown",
   "metadata": {},
   "source": [
    "Выделим условные группы следующим образом: менее 98537 - низкий доход, от 98537 до 142594 - доход ниже среднего, от 142594 до 214618 - доход выше среднего, более 214618 - высокий доход. Напишем функцию для распределения заёмщиков по категориям:"
   ]
  },
  {
   "cell_type": "code",
   "execution_count": 39,
   "metadata": {},
   "outputs": [],
   "source": [
    "def def_income_level(total_income):\n",
    "    if total_income < 98537:\n",
    "        return 'низкий доход'\n",
    "    if 98537 <= total_income < 142594:\n",
    "        return 'ниже среднего'\n",
    "    if 142594 <= total_income < 214618:\n",
    "        return 'выше среднего'\n",
    "    else:\n",
    "        return 'высокий доход'"
   ]
  },
  {
   "cell_type": "code",
   "execution_count": 40,
   "metadata": {},
   "outputs": [],
   "source": [
    "df['income_level'] = df['total_income'].apply(def_income_level)"
   ]
  },
  {
   "cell_type": "markdown",
   "metadata": {},
   "source": [
    "Мы добавили в таблицу новый столбец income_level с информацией о уровне дохода. Аналогично разделим заёмщиков на две большие категории - с детьми и бездетных. Для ответа на вопрос заказчика \"Есть ли зависимость между наличием детей и возвратом кредита в срок?\" количество детей нам не так важно, а с двумя категориями удобнее работать. "
   ]
  },
  {
   "cell_type": "code",
   "execution_count": 41,
   "metadata": {},
   "outputs": [],
   "source": [
    "def children_status(count):\n",
    "    if count > 0:\n",
    "        return 'детный'\n",
    "    else:\n",
    "        return 'бездетный'"
   ]
  },
  {
   "cell_type": "code",
   "execution_count": 42,
   "metadata": {},
   "outputs": [],
   "source": [
    "df['children_status'] = df['children'].apply(children_status)"
   ]
  },
  {
   "cell_type": "markdown",
   "metadata": {},
   "source": [
    "Также будет полезно распределить цели клиентов по категориям. Для этого обратимся к результатам проведённой лемматизации и выделим самые популярные причины для займов."
   ]
  },
  {
   "cell_type": "code",
   "execution_count": 43,
   "metadata": {},
   "outputs": [],
   "source": [
    "def def_purpose_category(row):\n",
    "    for lemma in row:\n",
    "        for purpose in top_purposes:\n",
    "            if lemma == purpose:\n",
    "                category = lemma\n",
    "    return category"
   ]
  },
  {
   "cell_type": "code",
   "execution_count": 44,
   "metadata": {},
   "outputs": [],
   "source": [
    "df['purpose'] = df['purpose'].apply(lambda x: m.lemmatize(x))"
   ]
  },
  {
   "cell_type": "code",
   "execution_count": 45,
   "metadata": {},
   "outputs": [],
   "source": [
    "df['purpose_category'] = df['purpose'].apply(def_purpose_category)"
   ]
  },
  {
   "cell_type": "code",
   "execution_count": 46,
   "metadata": {},
   "outputs": [
    {
     "data": {
      "text/html": [
       "<div>\n",
       "<style scoped>\n",
       "    .dataframe tbody tr th:only-of-type {\n",
       "        vertical-align: middle;\n",
       "    }\n",
       "\n",
       "    .dataframe tbody tr th {\n",
       "        vertical-align: top;\n",
       "    }\n",
       "\n",
       "    .dataframe thead th {\n",
       "        text-align: right;\n",
       "    }\n",
       "</style>\n",
       "<table border=\"1\" class=\"dataframe\">\n",
       "  <thead>\n",
       "    <tr style=\"text-align: right;\">\n",
       "      <th></th>\n",
       "      <th>children</th>\n",
       "      <th>days_employed</th>\n",
       "      <th>dob_years</th>\n",
       "      <th>education</th>\n",
       "      <th>education_id</th>\n",
       "      <th>family_status</th>\n",
       "      <th>family_status_id</th>\n",
       "      <th>gender</th>\n",
       "      <th>income_type</th>\n",
       "      <th>debt</th>\n",
       "      <th>total_income</th>\n",
       "      <th>purpose</th>\n",
       "      <th>median_income</th>\n",
       "      <th>income_level</th>\n",
       "      <th>children_status</th>\n",
       "      <th>purpose_category</th>\n",
       "    </tr>\n",
       "  </thead>\n",
       "  <tbody>\n",
       "    <tr>\n",
       "      <td>4629</td>\n",
       "      <td>0</td>\n",
       "      <td>367101</td>\n",
       "      <td>63</td>\n",
       "      <td>среднее</td>\n",
       "      <td>1</td>\n",
       "      <td>женат / замужем</td>\n",
       "      <td>0</td>\n",
       "      <td>M</td>\n",
       "      <td>пенсионер</td>\n",
       "      <td>0</td>\n",
       "      <td>127745</td>\n",
       "      <td>[высокий,  , образование, \\n]</td>\n",
       "      <td>118514.486412</td>\n",
       "      <td>ниже среднего</td>\n",
       "      <td>бездетный</td>\n",
       "      <td>образование</td>\n",
       "    </tr>\n",
       "    <tr>\n",
       "      <td>12546</td>\n",
       "      <td>0</td>\n",
       "      <td>1673</td>\n",
       "      <td>59</td>\n",
       "      <td>среднее</td>\n",
       "      <td>1</td>\n",
       "      <td>женат / замужем</td>\n",
       "      <td>0</td>\n",
       "      <td>M</td>\n",
       "      <td>сотрудник</td>\n",
       "      <td>0</td>\n",
       "      <td>134519</td>\n",
       "      <td>[на,  , покупка,  , автомобиль, \\n]</td>\n",
       "      <td>142594.396847</td>\n",
       "      <td>ниже среднего</td>\n",
       "      <td>бездетный</td>\n",
       "      <td>автомобиль</td>\n",
       "    </tr>\n",
       "    <tr>\n",
       "      <td>5964</td>\n",
       "      <td>0</td>\n",
       "      <td>1680</td>\n",
       "      <td>28</td>\n",
       "      <td>среднее</td>\n",
       "      <td>1</td>\n",
       "      <td>женат / замужем</td>\n",
       "      <td>0</td>\n",
       "      <td>F</td>\n",
       "      <td>сотрудник</td>\n",
       "      <td>0</td>\n",
       "      <td>80719</td>\n",
       "      <td>[жилье, \\n]</td>\n",
       "      <td>142594.396847</td>\n",
       "      <td>низкий доход</td>\n",
       "      <td>бездетный</td>\n",
       "      <td>жилье</td>\n",
       "    </tr>\n",
       "    <tr>\n",
       "      <td>18529</td>\n",
       "      <td>0</td>\n",
       "      <td>342085</td>\n",
       "      <td>53</td>\n",
       "      <td>среднее</td>\n",
       "      <td>1</td>\n",
       "      <td>женат / замужем</td>\n",
       "      <td>0</td>\n",
       "      <td>F</td>\n",
       "      <td>пенсионер</td>\n",
       "      <td>0</td>\n",
       "      <td>80130</td>\n",
       "      <td>[строительство,  , жилой,  , недвижимость, \\n]</td>\n",
       "      <td>118514.486412</td>\n",
       "      <td>низкий доход</td>\n",
       "      <td>бездетный</td>\n",
       "      <td>недвижимость</td>\n",
       "    </tr>\n",
       "    <tr>\n",
       "      <td>5704</td>\n",
       "      <td>0</td>\n",
       "      <td>2363</td>\n",
       "      <td>59</td>\n",
       "      <td>среднее</td>\n",
       "      <td>1</td>\n",
       "      <td>женат / замужем</td>\n",
       "      <td>0</td>\n",
       "      <td>M</td>\n",
       "      <td>сотрудник</td>\n",
       "      <td>0</td>\n",
       "      <td>165470</td>\n",
       "      <td>[получение,  , образование, \\n]</td>\n",
       "      <td>142594.396847</td>\n",
       "      <td>выше среднего</td>\n",
       "      <td>бездетный</td>\n",
       "      <td>образование</td>\n",
       "    </tr>\n",
       "    <tr>\n",
       "      <td>15340</td>\n",
       "      <td>1</td>\n",
       "      <td>0</td>\n",
       "      <td>30</td>\n",
       "      <td>среднее</td>\n",
       "      <td>1</td>\n",
       "      <td>женат / замужем</td>\n",
       "      <td>0</td>\n",
       "      <td>M</td>\n",
       "      <td>сотрудник</td>\n",
       "      <td>0</td>\n",
       "      <td>142594</td>\n",
       "      <td>[дополнительный,  , образование, \\n]</td>\n",
       "      <td>142594.396847</td>\n",
       "      <td>выше среднего</td>\n",
       "      <td>детный</td>\n",
       "      <td>образование</td>\n",
       "    </tr>\n",
       "    <tr>\n",
       "      <td>6528</td>\n",
       "      <td>0</td>\n",
       "      <td>2502</td>\n",
       "      <td>42</td>\n",
       "      <td>высшее</td>\n",
       "      <td>0</td>\n",
       "      <td>женат / замужем</td>\n",
       "      <td>0</td>\n",
       "      <td>F</td>\n",
       "      <td>компаньон</td>\n",
       "      <td>0</td>\n",
       "      <td>242327</td>\n",
       "      <td>[ремонт,  , жилье, \\n]</td>\n",
       "      <td>172357.950966</td>\n",
       "      <td>высокий доход</td>\n",
       "      <td>бездетный</td>\n",
       "      <td>жилье</td>\n",
       "    </tr>\n",
       "  </tbody>\n",
       "</table>\n",
       "</div>"
      ],
      "text/plain": [
       "       children  days_employed  dob_years education  education_id  \\\n",
       "4629          0         367101         63   среднее             1   \n",
       "12546         0           1673         59   среднее             1   \n",
       "5964          0           1680         28   среднее             1   \n",
       "18529         0         342085         53   среднее             1   \n",
       "5704          0           2363         59   среднее             1   \n",
       "15340         1              0         30   среднее             1   \n",
       "6528          0           2502         42    высшее             0   \n",
       "\n",
       "         family_status  family_status_id gender income_type  debt  \\\n",
       "4629   женат / замужем                 0      M   пенсионер     0   \n",
       "12546  женат / замужем                 0      M   сотрудник     0   \n",
       "5964   женат / замужем                 0      F   сотрудник     0   \n",
       "18529  женат / замужем                 0      F   пенсионер     0   \n",
       "5704   женат / замужем                 0      M   сотрудник     0   \n",
       "15340  женат / замужем                 0      M   сотрудник     0   \n",
       "6528   женат / замужем                 0      F   компаньон     0   \n",
       "\n",
       "       total_income                                         purpose  \\\n",
       "4629         127745                   [высокий,  , образование, \\n]   \n",
       "12546        134519             [на,  , покупка,  , автомобиль, \\n]   \n",
       "5964          80719                                     [жилье, \\n]   \n",
       "18529         80130  [строительство,  , жилой,  , недвижимость, \\n]   \n",
       "5704         165470                 [получение,  , образование, \\n]   \n",
       "15340        142594            [дополнительный,  , образование, \\n]   \n",
       "6528         242327                          [ремонт,  , жилье, \\n]   \n",
       "\n",
       "       median_income   income_level children_status purpose_category  \n",
       "4629   118514.486412  ниже среднего       бездетный      образование  \n",
       "12546  142594.396847  ниже среднего       бездетный       автомобиль  \n",
       "5964   142594.396847   низкий доход       бездетный            жилье  \n",
       "18529  118514.486412   низкий доход       бездетный     недвижимость  \n",
       "5704   142594.396847  выше среднего       бездетный      образование  \n",
       "15340  142594.396847  выше среднего          детный      образование  \n",
       "6528   172357.950966  высокий доход       бездетный            жилье  "
      ]
     },
     "execution_count": 46,
     "metadata": {},
     "output_type": "execute_result"
    }
   ],
   "source": [
    "df.sample(7) #проверим, что получилось"
   ]
  },
  {
   "cell_type": "markdown",
   "metadata": {},
   "source": [
    "#### Вывод"
   ]
  },
  {
   "cell_type": "markdown",
   "metadata": {},
   "source": [
    "В соответствии с целями нашего исследования мы распределили клиентов по следующим категориям:\n",
    "1. Четыре категории по уровню дохода: высокий, выше среднего, ниже среднего и низкий;\n",
    "2. Две категории по наличию детей: детный и бездетный;\n",
    "3. Пять категорий по цели займа: недвижимость (в т.ч. коммерческая), жильё, автомобиль, образование, свадьба."
   ]
  },
  {
   "cell_type": "markdown",
   "metadata": {},
   "source": [
    "## Ответы на вопросы"
   ]
  },
  {
   "cell_type": "markdown",
   "metadata": {},
   "source": [
    "### Есть ли зависимость между наличием детей и возвратом кредита в срок?"
   ]
  },
  {
   "cell_type": "markdown",
   "metadata": {},
   "source": [
    "Информация по возврату кредита в срок содержится в столбце \"debt\": значение равно единице, если клиент имеет задолженность по возврату кредитов, или нулю, если этого за ним не замечено. Соберём данные по количеству детей и задолженностям в сводную таблицу и проанализируем данные."
   ]
  },
  {
   "cell_type": "code",
   "execution_count": 47,
   "metadata": {},
   "outputs": [],
   "source": [
    "child_pivot = df.pivot_table(index='children_status', values='debt', aggfunc=['count', 'sum']) \n",
    "#count считает общее число займов в каждой категории, sum - количество случаев невозврата кредита"
   ]
  },
  {
   "cell_type": "code",
   "execution_count": 48,
   "metadata": {},
   "outputs": [],
   "source": [
    "child_pivot['ratio'] = child_pivot['sum'] / child_pivot['count'] * 100 #отношение случаев невозврата к общему числу займов"
   ]
  },
  {
   "cell_type": "code",
   "execution_count": 49,
   "metadata": {},
   "outputs": [
    {
     "data": {
      "text/html": [
       "<div>\n",
       "<style scoped>\n",
       "    .dataframe tbody tr th:only-of-type {\n",
       "        vertical-align: middle;\n",
       "    }\n",
       "\n",
       "    .dataframe tbody tr th {\n",
       "        vertical-align: top;\n",
       "    }\n",
       "\n",
       "    .dataframe thead tr th {\n",
       "        text-align: left;\n",
       "    }\n",
       "\n",
       "    .dataframe thead tr:last-of-type th {\n",
       "        text-align: right;\n",
       "    }\n",
       "</style>\n",
       "<table border=\"1\" class=\"dataframe\">\n",
       "  <thead>\n",
       "    <tr>\n",
       "      <th></th>\n",
       "      <th>count</th>\n",
       "      <th>sum</th>\n",
       "      <th>ratio</th>\n",
       "    </tr>\n",
       "    <tr>\n",
       "      <th></th>\n",
       "      <th>debt</th>\n",
       "      <th>debt</th>\n",
       "      <th></th>\n",
       "    </tr>\n",
       "    <tr>\n",
       "      <th>children_status</th>\n",
       "      <th></th>\n",
       "      <th></th>\n",
       "      <th></th>\n",
       "    </tr>\n",
       "  </thead>\n",
       "  <tbody>\n",
       "    <tr>\n",
       "      <td>бездетный</td>\n",
       "      <td>14091</td>\n",
       "      <td>1063</td>\n",
       "      <td>7.543822</td>\n",
       "    </tr>\n",
       "    <tr>\n",
       "      <td>детный</td>\n",
       "      <td>7363</td>\n",
       "      <td>678</td>\n",
       "      <td>9.208203</td>\n",
       "    </tr>\n",
       "  </tbody>\n",
       "</table>\n",
       "</div>"
      ],
      "text/plain": [
       "                 count   sum     ratio\n",
       "                  debt  debt          \n",
       "children_status                       \n",
       "бездетный        14091  1063  7.543822\n",
       "детный            7363   678  9.208203"
      ]
     },
     "metadata": {},
     "output_type": "display_data"
    }
   ],
   "source": [
    "display(child_pivot)"
   ]
  },
  {
   "cell_type": "markdown",
   "metadata": {},
   "source": [
    "Судя по имеющейся информации, бездетные люди берут больше кредитов и в абсолютных числах имеют больше долгов, однако соотношение задолженностей к общему числу кредитов говорит об обратном: заёмщики с детьми чаще не возвращают кредиты вовремя."
   ]
  },
  {
   "cell_type": "markdown",
   "metadata": {},
   "source": [
    "### Есть ли зависимость между семейным положением и возвратом кредита в срок?"
   ]
  },
  {
   "cell_type": "code",
   "execution_count": 50,
   "metadata": {},
   "outputs": [],
   "source": [
    "family_pivot = df.pivot_table(index='family_status', values='debt', aggfunc=['count', 'sum']) "
   ]
  },
  {
   "cell_type": "code",
   "execution_count": 51,
   "metadata": {},
   "outputs": [],
   "source": [
    "family_pivot['ratio'] = family_pivot['sum'] / family_pivot['count'] * 100"
   ]
  },
  {
   "cell_type": "code",
   "execution_count": 52,
   "metadata": {},
   "outputs": [
    {
     "data": {
      "text/html": [
       "<div>\n",
       "<style scoped>\n",
       "    .dataframe tbody tr th:only-of-type {\n",
       "        vertical-align: middle;\n",
       "    }\n",
       "\n",
       "    .dataframe tbody tr th {\n",
       "        vertical-align: top;\n",
       "    }\n",
       "\n",
       "    .dataframe thead tr th {\n",
       "        text-align: left;\n",
       "    }\n",
       "\n",
       "    .dataframe thead tr:last-of-type th {\n",
       "        text-align: right;\n",
       "    }\n",
       "</style>\n",
       "<table border=\"1\" class=\"dataframe\">\n",
       "  <thead>\n",
       "    <tr>\n",
       "      <th></th>\n",
       "      <th>count</th>\n",
       "      <th>sum</th>\n",
       "      <th>ratio</th>\n",
       "    </tr>\n",
       "    <tr>\n",
       "      <th></th>\n",
       "      <th>debt</th>\n",
       "      <th>debt</th>\n",
       "      <th></th>\n",
       "    </tr>\n",
       "    <tr>\n",
       "      <th>family_status</th>\n",
       "      <th></th>\n",
       "      <th></th>\n",
       "      <th></th>\n",
       "    </tr>\n",
       "  </thead>\n",
       "  <tbody>\n",
       "    <tr>\n",
       "      <td>Не женат / не замужем</td>\n",
       "      <td>2810</td>\n",
       "      <td>274</td>\n",
       "      <td>9.750890</td>\n",
       "    </tr>\n",
       "    <tr>\n",
       "      <td>в разводе</td>\n",
       "      <td>1195</td>\n",
       "      <td>85</td>\n",
       "      <td>7.112971</td>\n",
       "    </tr>\n",
       "    <tr>\n",
       "      <td>вдовец / вдова</td>\n",
       "      <td>959</td>\n",
       "      <td>63</td>\n",
       "      <td>6.569343</td>\n",
       "    </tr>\n",
       "    <tr>\n",
       "      <td>гражданский брак</td>\n",
       "      <td>4151</td>\n",
       "      <td>388</td>\n",
       "      <td>9.347145</td>\n",
       "    </tr>\n",
       "    <tr>\n",
       "      <td>женат / замужем</td>\n",
       "      <td>12339</td>\n",
       "      <td>931</td>\n",
       "      <td>7.545182</td>\n",
       "    </tr>\n",
       "  </tbody>\n",
       "</table>\n",
       "</div>"
      ],
      "text/plain": [
       "                       count  sum     ratio\n",
       "                        debt debt          \n",
       "family_status                              \n",
       "Не женат / не замужем   2810  274  9.750890\n",
       "в разводе               1195   85  7.112971\n",
       "вдовец / вдова           959   63  6.569343\n",
       "гражданский брак        4151  388  9.347145\n",
       "женат / замужем        12339  931  7.545182"
      ]
     },
     "metadata": {},
     "output_type": "display_data"
    }
   ],
   "source": [
    "display(family_pivot)"
   ]
  },
  {
   "cell_type": "markdown",
   "metadata": {},
   "source": [
    "Наиболее часто задолженности по кредитам возникают у неженатых клиентов и незамужних клиенток, а также тех, кто состоит в гражданском браке. Интересно, что разведённые и овдовевшие возвращают кредиты даже более аккуратно, чем состоящие в браке, поэтому при прочих равных мы можем рекомендовать банку рассматривать факт наличия штампа в паспорте как дополнительный фактор надёжности заёмщика, даже если его брак по каким-то причинам уже прекратился."
   ]
  },
  {
   "cell_type": "markdown",
   "metadata": {},
   "source": [
    "### Есть ли зависимость между уровнем дохода и возвратом кредита в срок?"
   ]
  },
  {
   "cell_type": "code",
   "execution_count": 53,
   "metadata": {},
   "outputs": [],
   "source": [
    "money_pivot = df.pivot_table(index='income_level', values='debt', aggfunc=['count', 'sum']) "
   ]
  },
  {
   "cell_type": "code",
   "execution_count": 54,
   "metadata": {},
   "outputs": [],
   "source": [
    "money_pivot['ratio'] = money_pivot['sum'] / money_pivot['count'] * 100"
   ]
  },
  {
   "cell_type": "code",
   "execution_count": 55,
   "metadata": {},
   "outputs": [
    {
     "data": {
      "text/html": [
       "<div>\n",
       "<style scoped>\n",
       "    .dataframe tbody tr th:only-of-type {\n",
       "        vertical-align: middle;\n",
       "    }\n",
       "\n",
       "    .dataframe tbody tr th {\n",
       "        vertical-align: top;\n",
       "    }\n",
       "\n",
       "    .dataframe thead tr th {\n",
       "        text-align: left;\n",
       "    }\n",
       "\n",
       "    .dataframe thead tr:last-of-type th {\n",
       "        text-align: right;\n",
       "    }\n",
       "</style>\n",
       "<table border=\"1\" class=\"dataframe\">\n",
       "  <thead>\n",
       "    <tr>\n",
       "      <th></th>\n",
       "      <th>count</th>\n",
       "      <th>sum</th>\n",
       "      <th>ratio</th>\n",
       "    </tr>\n",
       "    <tr>\n",
       "      <th></th>\n",
       "      <th>debt</th>\n",
       "      <th>debt</th>\n",
       "      <th></th>\n",
       "    </tr>\n",
       "    <tr>\n",
       "      <th>income_level</th>\n",
       "      <th></th>\n",
       "      <th></th>\n",
       "      <th></th>\n",
       "    </tr>\n",
       "  </thead>\n",
       "  <tbody>\n",
       "    <tr>\n",
       "      <td>высокий доход</td>\n",
       "      <td>4291</td>\n",
       "      <td>300</td>\n",
       "      <td>6.991377</td>\n",
       "    </tr>\n",
       "    <tr>\n",
       "      <td>выше среднего</td>\n",
       "      <td>7390</td>\n",
       "      <td>629</td>\n",
       "      <td>8.511502</td>\n",
       "    </tr>\n",
       "    <tr>\n",
       "      <td>ниже среднего</td>\n",
       "      <td>5482</td>\n",
       "      <td>468</td>\n",
       "      <td>8.537030</td>\n",
       "    </tr>\n",
       "    <tr>\n",
       "      <td>низкий доход</td>\n",
       "      <td>4291</td>\n",
       "      <td>344</td>\n",
       "      <td>8.016779</td>\n",
       "    </tr>\n",
       "  </tbody>\n",
       "</table>\n",
       "</div>"
      ],
      "text/plain": [
       "              count  sum     ratio\n",
       "               debt debt          \n",
       "income_level                      \n",
       "высокий доход  4291  300  6.991377\n",
       "выше среднего  7390  629  8.511502\n",
       "ниже среднего  5482  468  8.537030\n",
       "низкий доход   4291  344  8.016779"
      ]
     },
     "metadata": {},
     "output_type": "display_data"
    }
   ],
   "source": [
    "display(money_pivot)"
   ]
  },
  {
   "cell_type": "markdown",
   "metadata": {},
   "source": [
    "Задолженности чаще возникают у людей со средними и низкими доходами, тогда как клиенты с высоким доходом (более 215 тысяч в месяц) в основном возвращают кредиты вовремя."
   ]
  },
  {
   "cell_type": "markdown",
   "metadata": {},
   "source": [
    "### Как разные цели кредита влияют на его возврат в срок?"
   ]
  },
  {
   "cell_type": "code",
   "execution_count": 56,
   "metadata": {},
   "outputs": [],
   "source": [
    "purposes_pivot = df.pivot_table(index='purpose_category', values='debt', aggfunc=['count', 'sum']) "
   ]
  },
  {
   "cell_type": "code",
   "execution_count": 57,
   "metadata": {},
   "outputs": [],
   "source": [
    "purposes_pivot['ratio'] = purposes_pivot['sum'] / purposes_pivot['count'] * 100"
   ]
  },
  {
   "cell_type": "code",
   "execution_count": 58,
   "metadata": {},
   "outputs": [
    {
     "data": {
      "text/html": [
       "<div>\n",
       "<style scoped>\n",
       "    .dataframe tbody tr th:only-of-type {\n",
       "        vertical-align: middle;\n",
       "    }\n",
       "\n",
       "    .dataframe tbody tr th {\n",
       "        vertical-align: top;\n",
       "    }\n",
       "\n",
       "    .dataframe thead tr th {\n",
       "        text-align: left;\n",
       "    }\n",
       "\n",
       "    .dataframe thead tr:last-of-type th {\n",
       "        text-align: right;\n",
       "    }\n",
       "</style>\n",
       "<table border=\"1\" class=\"dataframe\">\n",
       "  <thead>\n",
       "    <tr>\n",
       "      <th></th>\n",
       "      <th>count</th>\n",
       "      <th>sum</th>\n",
       "      <th>ratio</th>\n",
       "    </tr>\n",
       "    <tr>\n",
       "      <th></th>\n",
       "      <th>debt</th>\n",
       "      <th>debt</th>\n",
       "      <th></th>\n",
       "    </tr>\n",
       "    <tr>\n",
       "      <th>purpose_category</th>\n",
       "      <th></th>\n",
       "      <th></th>\n",
       "      <th></th>\n",
       "    </tr>\n",
       "  </thead>\n",
       "  <tbody>\n",
       "    <tr>\n",
       "      <td>автомобиль</td>\n",
       "      <td>4306</td>\n",
       "      <td>403</td>\n",
       "      <td>9.359034</td>\n",
       "    </tr>\n",
       "    <tr>\n",
       "      <td>жилье</td>\n",
       "      <td>4460</td>\n",
       "      <td>308</td>\n",
       "      <td>6.905830</td>\n",
       "    </tr>\n",
       "    <tr>\n",
       "      <td>недвижимость</td>\n",
       "      <td>6351</td>\n",
       "      <td>474</td>\n",
       "      <td>7.463392</td>\n",
       "    </tr>\n",
       "    <tr>\n",
       "      <td>образование</td>\n",
       "      <td>4013</td>\n",
       "      <td>370</td>\n",
       "      <td>9.220035</td>\n",
       "    </tr>\n",
       "    <tr>\n",
       "      <td>свадьба</td>\n",
       "      <td>2324</td>\n",
       "      <td>186</td>\n",
       "      <td>8.003442</td>\n",
       "    </tr>\n",
       "  </tbody>\n",
       "</table>\n",
       "</div>"
      ],
      "text/plain": [
       "                 count  sum     ratio\n",
       "                  debt debt          \n",
       "purpose_category                     \n",
       "автомобиль        4306  403  9.359034\n",
       "жилье             4460  308  6.905830\n",
       "недвижимость      6351  474  7.463392\n",
       "образование       4013  370  9.220035\n",
       "свадьба           2324  186  8.003442"
      ]
     },
     "metadata": {},
     "output_type": "display_data"
    }
   ],
   "source": [
    "display(purposes_pivot)"
   ]
  },
  {
   "cell_type": "markdown",
   "metadata": {},
   "source": [
    "Наиболее часто задолженности возникают у клиентов, берущих средства на покупку автомобиля, на втором месте - образовательные кредиты. Низкий процент долгов по кредитам с целью покупки жилья можно объяснить, с одной стороны, тем, что клиенты более аккуратно рассчитывают свои возможности по выплате, собираясь взять долгосрочный займ, с другой стороны, можно предположить, что банк со своей стороны тоже более внимательно отбирает заявки кандидатов на ипотеку."
   ]
  },
  {
   "cell_type": "markdown",
   "metadata": {},
   "source": [
    "## Общий вывод"
   ]
  },
  {
   "cell_type": "markdown",
   "metadata": {},
   "source": [
    "Проанализировав предоставленную статистику, мы можем утверждать, что наличие детей, семейное положение и уровень дохода оказывают прямое влияние на платёжеспособность клиентов:\n",
    "- Клиенты, находящиеся в браке, реже опаздывают с погашением кредита: вероятно, доход супруга служит в этом случае дополнительной страховкой. \n",
    "- Наличие детей, напротив, оказывает негативное влияние: очевидно, что воспитание детей требует значительных средств и сопряжено с неожиданными затратами, поэтому по сравнению с бездетными клиенты с детьми чаще задерживают выплаты по кредитам. \n",
    "- Клиенты с высоким уровнем ежемесячного дохода более аккуратно возвращают кредиты, чем клиенты со средними и низкими доходами.\n",
    "\n",
    "Стоит отметить, что в полученных данных по доходу мы обнаружили большое количество пропусков, что могло повлиять на результаты исследования. Данный пункт заслуживает внимания: если пропуски возникли не из-за технической ошибки при выгрузке, а из-за того, что при подаче заявки на кредит указание дохода не является обязательным, мы рекомендуем банку сделать его обязательным, чтобы получать более полную картину для кредитного скоринга.\n",
    "\n",
    "Изучив влияние целей кредита на его своевременный возврат, мы выяснили, что самыми аккуратными плательщиками являются клиенты, взявшие кредит на покупку жилья. Таким образом, на основе имеющейся информации идеальным клиентом банка являются молодые семьи без детей с высоким доходом, желающие взять ипотеку, однако предлагаем ими не ограничиваться. Также мы рекомендуем банку сделать в форме заявки выпадающий список целей для удобства его автоматической обработки."
   ]
  },
  {
   "cell_type": "code",
   "execution_count": null,
   "metadata": {},
   "outputs": [],
   "source": []
  }
 ],
 "metadata": {
  "ExecuteTimeLog": [
   {
    "duration": 502,
    "start_time": "2021-07-13T17:34:44.527Z"
   },
   {
    "duration": 49,
    "start_time": "2021-07-13T17:34:48.432Z"
   },
   {
    "duration": 10,
    "start_time": "2021-07-13T17:35:28.616Z"
   },
   {
    "duration": 10,
    "start_time": "2021-07-13T17:45:49.130Z"
   },
   {
    "duration": 3,
    "start_time": "2021-07-13T17:45:55.582Z"
   },
   {
    "duration": 3,
    "start_time": "2021-07-13T17:46:42.951Z"
   },
   {
    "duration": 45,
    "start_time": "2021-07-13T17:46:42.974Z"
   },
   {
    "duration": 11,
    "start_time": "2021-07-13T17:46:43.055Z"
   },
   {
    "duration": 3,
    "start_time": "2021-07-13T17:46:55.657Z"
   },
   {
    "duration": 51,
    "start_time": "2021-07-13T17:46:56.632Z"
   },
   {
    "duration": 9,
    "start_time": "2021-07-13T17:52:11.268Z"
   },
   {
    "duration": 349,
    "start_time": "2021-07-14T06:57:59.323Z"
   },
   {
    "duration": 1004,
    "start_time": "2021-07-14T06:58:05.934Z"
   },
   {
    "duration": 4,
    "start_time": "2021-07-14T06:58:10.053Z"
   },
   {
    "duration": 65,
    "start_time": "2021-07-14T06:58:11.505Z"
   },
   {
    "duration": 15,
    "start_time": "2021-07-14T06:58:16.093Z"
   },
   {
    "duration": 14,
    "start_time": "2021-07-14T06:58:18.869Z"
   },
   {
    "duration": 29,
    "start_time": "2021-07-14T07:11:25.329Z"
   },
   {
    "duration": 20,
    "start_time": "2021-07-14T07:17:34.492Z"
   },
   {
    "duration": 22,
    "start_time": "2021-07-14T07:49:01.734Z"
   },
   {
    "duration": 25,
    "start_time": "2021-07-14T07:49:18.270Z"
   },
   {
    "duration": 26,
    "start_time": "2021-07-14T07:57:15.006Z"
   },
   {
    "duration": 23,
    "start_time": "2021-07-14T07:57:32.491Z"
   },
   {
    "duration": 26,
    "start_time": "2021-07-14T07:59:57.368Z"
   },
   {
    "duration": 11,
    "start_time": "2021-07-14T08:07:59.329Z"
   },
   {
    "duration": 14,
    "start_time": "2021-07-14T08:11:01.536Z"
   },
   {
    "duration": 13,
    "start_time": "2021-07-14T08:14:21.917Z"
   },
   {
    "duration": 43,
    "start_time": "2021-07-14T08:29:48.946Z"
   },
   {
    "duration": 25,
    "start_time": "2021-07-14T08:30:12.044Z"
   },
   {
    "duration": 9,
    "start_time": "2021-07-14T08:30:39.671Z"
   },
   {
    "duration": 23,
    "start_time": "2021-07-14T08:30:41.040Z"
   },
   {
    "duration": 15,
    "start_time": "2021-07-14T08:31:16.597Z"
   },
   {
    "duration": 14,
    "start_time": "2021-07-14T08:31:21.108Z"
   },
   {
    "duration": 24,
    "start_time": "2021-07-14T08:31:22.694Z"
   },
   {
    "duration": 7979,
    "start_time": "2021-07-14T08:32:12.406Z"
   },
   {
    "duration": 8,
    "start_time": "2021-07-14T08:32:22.931Z"
   },
   {
    "duration": 7,
    "start_time": "2021-07-14T08:33:25.619Z"
   },
   {
    "duration": 15,
    "start_time": "2021-07-14T08:50:16.544Z"
   },
   {
    "duration": 14,
    "start_time": "2021-07-14T08:50:43.868Z"
   },
   {
    "duration": 18,
    "start_time": "2021-07-14T08:59:55.721Z"
   },
   {
    "duration": 5,
    "start_time": "2021-07-14T09:22:57.165Z"
   },
   {
    "duration": 24,
    "start_time": "2021-07-14T09:23:14.599Z"
   },
   {
    "duration": 3951,
    "start_time": "2021-07-14T09:56:27.610Z"
   },
   {
    "duration": 23,
    "start_time": "2021-07-14T09:56:31.645Z"
   },
   {
    "duration": 4,
    "start_time": "2021-07-14T09:56:49.605Z"
   },
   {
    "duration": 5,
    "start_time": "2021-07-14T09:57:13.076Z"
   },
   {
    "duration": 22,
    "start_time": "2021-07-14T09:57:14.406Z"
   },
   {
    "duration": 19,
    "start_time": "2021-07-14T09:57:44.381Z"
   },
   {
    "duration": 478,
    "start_time": "2021-07-14T10:20:38.968Z"
   },
   {
    "duration": 300,
    "start_time": "2021-07-14T10:20:56.476Z"
   },
   {
    "duration": 4,
    "start_time": "2021-07-14T10:23:19.306Z"
   },
   {
    "duration": 4,
    "start_time": "2021-07-14T10:23:27.424Z"
   },
   {
    "duration": 626,
    "start_time": "2021-07-14T10:23:52.144Z"
   },
   {
    "duration": 5920,
    "start_time": "2021-07-14T10:27:31.909Z"
   },
   {
    "duration": 9469,
    "start_time": "2021-07-14T10:28:45.539Z"
   },
   {
    "duration": 19,
    "start_time": "2021-07-14T10:30:22.172Z"
   },
   {
    "duration": 490,
    "start_time": "2021-07-14T10:31:37.841Z"
   },
   {
    "duration": 6012,
    "start_time": "2021-07-14T10:31:43.330Z"
   },
   {
    "duration": 6742,
    "start_time": "2021-07-14T10:32:00.217Z"
   },
   {
    "duration": 6,
    "start_time": "2021-07-14T10:50:25.084Z"
   },
   {
    "duration": 7,
    "start_time": "2021-07-14T10:50:33.343Z"
   },
   {
    "duration": 26,
    "start_time": "2021-07-14T10:50:49.502Z"
   },
   {
    "duration": 6,
    "start_time": "2021-07-14T10:52:36.350Z"
   },
   {
    "duration": 6,
    "start_time": "2021-07-14T10:52:48.843Z"
   },
   {
    "duration": 13,
    "start_time": "2021-07-14T10:52:58.596Z"
   },
   {
    "duration": 18,
    "start_time": "2021-07-14T11:02:59.708Z"
   },
   {
    "duration": 297,
    "start_time": "2021-07-14T11:09:38.440Z"
   },
   {
    "duration": 21,
    "start_time": "2021-07-14T11:10:02.862Z"
   },
   {
    "duration": 26,
    "start_time": "2021-07-14T11:20:28.016Z"
   },
   {
    "duration": 22,
    "start_time": "2021-07-14T11:21:09.391Z"
   },
   {
    "duration": 25,
    "start_time": "2021-07-14T11:21:23.854Z"
   },
   {
    "duration": 48,
    "start_time": "2021-07-14T11:21:56.030Z"
   },
   {
    "duration": 26,
    "start_time": "2021-07-14T11:23:34.767Z"
   },
   {
    "duration": 27,
    "start_time": "2021-07-14T11:23:40.003Z"
   },
   {
    "duration": 48,
    "start_time": "2021-07-14T11:23:44.627Z"
   },
   {
    "duration": 7,
    "start_time": "2021-07-14T11:25:04.874Z"
   },
   {
    "duration": 7,
    "start_time": "2021-07-14T11:25:20.633Z"
   },
   {
    "duration": 7,
    "start_time": "2021-07-14T11:25:46.665Z"
   },
   {
    "duration": 7,
    "start_time": "2021-07-14T11:25:57.448Z"
   },
   {
    "duration": 8,
    "start_time": "2021-07-14T11:26:15.698Z"
   },
   {
    "duration": 736,
    "start_time": "2021-07-14T11:27:49.089Z"
   },
   {
    "duration": 69,
    "start_time": "2021-07-14T11:27:49.828Z"
   },
   {
    "duration": 31,
    "start_time": "2021-07-14T11:27:49.901Z"
   },
   {
    "duration": 41,
    "start_time": "2021-07-14T11:27:49.935Z"
   },
   {
    "duration": 21,
    "start_time": "2021-07-14T11:27:49.979Z"
   },
   {
    "duration": 33,
    "start_time": "2021-07-14T11:27:50.002Z"
   },
   {
    "duration": 31,
    "start_time": "2021-07-14T11:27:50.037Z"
   },
   {
    "duration": 27,
    "start_time": "2021-07-14T11:27:50.072Z"
   },
   {
    "duration": 24,
    "start_time": "2021-07-14T11:27:50.101Z"
   },
   {
    "duration": 12,
    "start_time": "2021-07-14T11:27:50.128Z"
   },
   {
    "duration": 16,
    "start_time": "2021-07-14T11:27:50.142Z"
   },
   {
    "duration": 33,
    "start_time": "2021-07-14T11:27:50.160Z"
   },
   {
    "duration": 14,
    "start_time": "2021-07-14T11:27:50.196Z"
   },
   {
    "duration": 32,
    "start_time": "2021-07-14T11:27:50.212Z"
   },
   {
    "duration": 25,
    "start_time": "2021-07-14T11:27:50.247Z"
   },
   {
    "duration": 34,
    "start_time": "2021-07-14T11:27:50.275Z"
   },
   {
    "duration": 60,
    "start_time": "2021-07-14T11:27:50.312Z"
   },
   {
    "duration": 6,
    "start_time": "2021-07-14T11:27:50.374Z"
   },
   {
    "duration": 13,
    "start_time": "2021-07-14T11:29:41.499Z"
   },
   {
    "duration": 839,
    "start_time": "2021-07-14T11:29:59.377Z"
   },
   {
    "duration": 66,
    "start_time": "2021-07-14T11:30:00.219Z"
   },
   {
    "duration": 32,
    "start_time": "2021-07-14T11:30:00.288Z"
   },
   {
    "duration": 39,
    "start_time": "2021-07-14T11:30:00.324Z"
   },
   {
    "duration": 15,
    "start_time": "2021-07-14T11:30:00.366Z"
   },
   {
    "duration": 32,
    "start_time": "2021-07-14T11:30:00.383Z"
   },
   {
    "duration": 49,
    "start_time": "2021-07-14T11:30:00.417Z"
   },
   {
    "duration": 31,
    "start_time": "2021-07-14T11:30:00.469Z"
   },
   {
    "duration": 14,
    "start_time": "2021-07-14T11:30:00.503Z"
   },
   {
    "duration": 12,
    "start_time": "2021-07-14T11:30:00.520Z"
   },
   {
    "duration": 9,
    "start_time": "2021-07-14T11:30:00.535Z"
   },
   {
    "duration": 35,
    "start_time": "2021-07-14T11:30:00.546Z"
   },
   {
    "duration": 20,
    "start_time": "2021-07-14T11:30:00.583Z"
   },
   {
    "duration": 20,
    "start_time": "2021-07-14T11:30:00.607Z"
   },
   {
    "duration": 44,
    "start_time": "2021-07-14T11:30:00.631Z"
   },
   {
    "duration": 53,
    "start_time": "2021-07-14T11:30:00.678Z"
   },
   {
    "duration": 90,
    "start_time": "2021-07-14T11:30:00.733Z"
   },
   {
    "duration": 10,
    "start_time": "2021-07-14T11:30:00.826Z"
   },
   {
    "duration": 13,
    "start_time": "2021-07-14T11:33:09.498Z"
   },
   {
    "duration": 830,
    "start_time": "2021-07-14T11:34:13.575Z"
   },
   {
    "duration": 9,
    "start_time": "2021-07-14T11:34:22.352Z"
   },
   {
    "duration": 13,
    "start_time": "2021-07-14T11:34:36.304Z"
   },
   {
    "duration": 704,
    "start_time": "2021-07-14T11:34:49.293Z"
   },
   {
    "duration": 66,
    "start_time": "2021-07-14T11:34:49.999Z"
   },
   {
    "duration": 30,
    "start_time": "2021-07-14T11:34:50.067Z"
   },
   {
    "duration": 20,
    "start_time": "2021-07-14T11:34:50.100Z"
   },
   {
    "duration": 45,
    "start_time": "2021-07-14T11:34:50.122Z"
   },
   {
    "duration": 27,
    "start_time": "2021-07-14T11:34:50.170Z"
   },
   {
    "duration": 17,
    "start_time": "2021-07-14T11:34:50.200Z"
   },
   {
    "duration": 48,
    "start_time": "2021-07-14T11:34:50.220Z"
   },
   {
    "duration": 15,
    "start_time": "2021-07-14T11:34:50.271Z"
   },
   {
    "duration": 5,
    "start_time": "2021-07-14T11:34:50.288Z"
   },
   {
    "duration": 6,
    "start_time": "2021-07-14T11:34:50.296Z"
   },
   {
    "duration": 31,
    "start_time": "2021-07-14T11:34:50.305Z"
   },
   {
    "duration": 5,
    "start_time": "2021-07-14T11:34:50.362Z"
   },
   {
    "duration": 29,
    "start_time": "2021-07-14T11:34:50.369Z"
   },
   {
    "duration": 35,
    "start_time": "2021-07-14T11:34:50.401Z"
   },
   {
    "duration": 27,
    "start_time": "2021-07-14T11:34:50.439Z"
   },
   {
    "duration": 48,
    "start_time": "2021-07-14T11:34:50.469Z"
   },
   {
    "duration": 6,
    "start_time": "2021-07-14T11:34:50.520Z"
   },
   {
    "duration": 776,
    "start_time": "2021-07-14T11:37:40.620Z"
   },
   {
    "duration": 71,
    "start_time": "2021-07-14T11:37:41.400Z"
   },
   {
    "duration": 32,
    "start_time": "2021-07-14T11:37:41.474Z"
   },
   {
    "duration": 22,
    "start_time": "2021-07-14T11:37:41.510Z"
   },
   {
    "duration": 18,
    "start_time": "2021-07-14T11:37:41.563Z"
   },
   {
    "duration": 26,
    "start_time": "2021-07-14T11:37:41.584Z"
   },
   {
    "duration": 50,
    "start_time": "2021-07-14T11:37:41.612Z"
   },
   {
    "duration": 15,
    "start_time": "2021-07-14T11:37:41.666Z"
   },
   {
    "duration": 5,
    "start_time": "2021-07-14T11:37:41.684Z"
   },
   {
    "duration": 9,
    "start_time": "2021-07-14T11:37:41.691Z"
   },
   {
    "duration": 22,
    "start_time": "2021-07-14T11:37:41.702Z"
   },
   {
    "duration": 38,
    "start_time": "2021-07-14T11:37:41.726Z"
   },
   {
    "duration": 20,
    "start_time": "2021-07-14T11:37:41.767Z"
   },
   {
    "duration": 16,
    "start_time": "2021-07-14T11:37:41.789Z"
   },
   {
    "duration": 37,
    "start_time": "2021-07-14T11:37:41.808Z"
   },
   {
    "duration": 48,
    "start_time": "2021-07-14T11:37:41.861Z"
   },
   {
    "duration": 6,
    "start_time": "2021-07-14T11:37:41.912Z"
   },
   {
    "duration": 6,
    "start_time": "2021-07-14T11:41:28.929Z"
   },
   {
    "duration": 7,
    "start_time": "2021-07-14T11:43:44.838Z"
   },
   {
    "duration": 449,
    "start_time": "2021-07-14T11:44:06.258Z"
   },
   {
    "duration": 315,
    "start_time": "2021-07-14T11:44:17.579Z"
   },
   {
    "duration": 35,
    "start_time": "2021-07-14T11:45:43.800Z"
   },
   {
    "duration": 33,
    "start_time": "2021-07-14T11:46:20.792Z"
   },
   {
    "duration": 20,
    "start_time": "2021-07-14T11:46:40.672Z"
   },
   {
    "duration": 10,
    "start_time": "2021-07-14T11:53:31.214Z"
   },
   {
    "duration": 8,
    "start_time": "2021-07-14T11:53:51.964Z"
   },
   {
    "duration": 7,
    "start_time": "2021-07-14T11:54:02.989Z"
   },
   {
    "duration": 8,
    "start_time": "2021-07-14T11:54:24.829Z"
   },
   {
    "duration": 9,
    "start_time": "2021-07-14T11:56:04.009Z"
   },
   {
    "duration": 5,
    "start_time": "2021-07-14T11:57:57.952Z"
   },
   {
    "duration": 7,
    "start_time": "2021-07-14T11:58:38.598Z"
   },
   {
    "duration": 8,
    "start_time": "2021-07-14T11:58:52.585Z"
   },
   {
    "duration": 5,
    "start_time": "2021-07-14T12:11:07.275Z"
   },
   {
    "duration": 7,
    "start_time": "2021-07-14T12:11:53.349Z"
   },
   {
    "duration": 745,
    "start_time": "2021-07-14T12:12:22.008Z"
   },
   {
    "duration": 69,
    "start_time": "2021-07-14T12:12:22.756Z"
   },
   {
    "duration": 36,
    "start_time": "2021-07-14T12:12:22.828Z"
   },
   {
    "duration": 25,
    "start_time": "2021-07-14T12:12:22.867Z"
   },
   {
    "duration": 24,
    "start_time": "2021-07-14T12:12:22.894Z"
   },
   {
    "duration": 52,
    "start_time": "2021-07-14T12:12:22.920Z"
   },
   {
    "duration": 15,
    "start_time": "2021-07-14T12:12:22.974Z"
   },
   {
    "duration": 14,
    "start_time": "2021-07-14T12:12:22.993Z"
   },
   {
    "duration": 4,
    "start_time": "2021-07-14T12:12:23.010Z"
   },
   {
    "duration": 46,
    "start_time": "2021-07-14T12:12:23.016Z"
   },
   {
    "duration": 20,
    "start_time": "2021-07-14T12:12:23.064Z"
   },
   {
    "duration": 9,
    "start_time": "2021-07-14T12:12:23.086Z"
   },
   {
    "duration": 15,
    "start_time": "2021-07-14T12:12:23.098Z"
   },
   {
    "duration": 53,
    "start_time": "2021-07-14T12:12:23.115Z"
   },
   {
    "duration": 28,
    "start_time": "2021-07-14T12:12:23.170Z"
   },
   {
    "duration": 78,
    "start_time": "2021-07-14T12:12:23.200Z"
   },
   {
    "duration": 5,
    "start_time": "2021-07-14T12:12:23.280Z"
   },
   {
    "duration": 10,
    "start_time": "2021-07-14T12:12:23.288Z"
   },
   {
    "duration": 5,
    "start_time": "2021-07-14T12:12:23.300Z"
   },
   {
    "duration": 10,
    "start_time": "2021-07-14T12:12:23.307Z"
   },
   {
    "duration": 44,
    "start_time": "2021-07-14T12:12:23.319Z"
   },
   {
    "duration": 6,
    "start_time": "2021-07-14T12:12:23.366Z"
   },
   {
    "duration": 7,
    "start_time": "2021-07-14T12:14:07.688Z"
   },
   {
    "duration": 478,
    "start_time": "2021-07-14T12:14:20.380Z"
   },
   {
    "duration": 350,
    "start_time": "2021-07-14T12:14:37.516Z"
   },
   {
    "duration": 324,
    "start_time": "2021-07-14T12:14:49.372Z"
   },
   {
    "duration": 7,
    "start_time": "2021-07-14T12:15:49.420Z"
   },
   {
    "duration": 9,
    "start_time": "2021-07-14T12:17:11.961Z"
   },
   {
    "duration": 16,
    "start_time": "2021-07-14T12:17:34.874Z"
   },
   {
    "duration": -1327,
    "start_time": "2021-07-14T12:18:32.692Z"
   },
   {
    "duration": 6,
    "start_time": "2021-07-14T12:18:42.287Z"
   },
   {
    "duration": 7,
    "start_time": "2021-07-14T12:18:55.095Z"
   },
   {
    "duration": 7,
    "start_time": "2021-07-14T12:19:08.014Z"
   },
   {
    "duration": 6,
    "start_time": "2021-07-14T12:19:25.775Z"
   },
   {
    "duration": 7,
    "start_time": "2021-07-14T12:19:53.958Z"
   },
   {
    "duration": 7,
    "start_time": "2021-07-14T12:35:00.533Z"
   },
   {
    "duration": 7,
    "start_time": "2021-07-14T12:36:45.632Z"
   },
   {
    "duration": 7,
    "start_time": "2021-07-14T12:37:26.350Z"
   },
   {
    "duration": 12,
    "start_time": "2021-07-14T12:37:39.998Z"
   },
   {
    "duration": 6,
    "start_time": "2021-07-14T12:40:47.394Z"
   },
   {
    "duration": 5,
    "start_time": "2021-07-14T12:45:17.736Z"
   },
   {
    "duration": 8,
    "start_time": "2021-07-14T12:58:53.077Z"
   },
   {
    "duration": 320,
    "start_time": "2021-07-14T13:30:13.044Z"
   },
   {
    "duration": 291,
    "start_time": "2021-07-14T13:31:26.641Z"
   },
   {
    "duration": 5675,
    "start_time": "2021-07-14T13:32:29.595Z"
   },
   {
    "duration": 4,
    "start_time": "2021-07-14T13:32:59.493Z"
   },
   {
    "duration": 348,
    "start_time": "2021-07-14T13:33:17.389Z"
   },
   {
    "duration": 25,
    "start_time": "2021-07-14T13:35:36.105Z"
   },
   {
    "duration": 31,
    "start_time": "2021-07-14T13:35:56.173Z"
   },
   {
    "duration": 28,
    "start_time": "2021-07-14T13:36:05.614Z"
   },
   {
    "duration": 6,
    "start_time": "2021-07-14T13:36:08.618Z"
   },
   {
    "duration": 956,
    "start_time": "2021-07-14T13:36:22.191Z"
   },
   {
    "duration": 83,
    "start_time": "2021-07-14T13:36:23.150Z"
   },
   {
    "duration": 47,
    "start_time": "2021-07-14T13:36:23.237Z"
   },
   {
    "duration": 27,
    "start_time": "2021-07-14T13:36:23.288Z"
   },
   {
    "duration": 52,
    "start_time": "2021-07-14T13:36:23.319Z"
   },
   {
    "duration": 38,
    "start_time": "2021-07-14T13:36:23.374Z"
   },
   {
    "duration": 47,
    "start_time": "2021-07-14T13:36:23.415Z"
   },
   {
    "duration": 19,
    "start_time": "2021-07-14T13:36:23.468Z"
   },
   {
    "duration": 5,
    "start_time": "2021-07-14T13:36:23.490Z"
   },
   {
    "duration": 8,
    "start_time": "2021-07-14T13:36:23.497Z"
   },
   {
    "duration": 22,
    "start_time": "2021-07-14T13:36:23.508Z"
   },
   {
    "duration": 4,
    "start_time": "2021-07-14T13:36:23.562Z"
   },
   {
    "duration": 16,
    "start_time": "2021-07-14T13:36:23.569Z"
   },
   {
    "duration": 16,
    "start_time": "2021-07-14T13:36:23.588Z"
   },
   {
    "duration": 58,
    "start_time": "2021-07-14T13:36:23.606Z"
   },
   {
    "duration": 27,
    "start_time": "2021-07-14T13:36:23.667Z"
   },
   {
    "duration": 6,
    "start_time": "2021-07-14T13:36:23.696Z"
   },
   {
    "duration": 9,
    "start_time": "2021-07-14T13:36:23.704Z"
   },
   {
    "duration": 6,
    "start_time": "2021-07-14T13:36:23.715Z"
   },
   {
    "duration": 46,
    "start_time": "2021-07-14T13:36:23.724Z"
   },
   {
    "duration": 8,
    "start_time": "2021-07-14T13:36:23.773Z"
   },
   {
    "duration": 15,
    "start_time": "2021-07-14T13:36:23.783Z"
   },
   {
    "duration": 7,
    "start_time": "2021-07-14T13:36:23.804Z"
   },
   {
    "duration": 5,
    "start_time": "2021-07-14T13:36:23.814Z"
   },
   {
    "duration": 5,
    "start_time": "2021-07-14T13:36:23.863Z"
   },
   {
    "duration": 31,
    "start_time": "2021-07-14T13:36:23.871Z"
   },
   {
    "duration": 6,
    "start_time": "2021-07-14T13:36:23.904Z"
   },
   {
    "duration": 50,
    "start_time": "2021-07-14T13:36:23.912Z"
   },
   {
    "duration": 1143,
    "start_time": "2021-07-14T13:36:23.964Z"
   },
   {
    "duration": 8,
    "start_time": "2021-07-14T13:56:37.414Z"
   },
   {
    "duration": 8,
    "start_time": "2021-07-14T13:57:09.226Z"
   },
   {
    "duration": 300,
    "start_time": "2021-07-14T13:57:15.735Z"
   },
   {
    "duration": 306,
    "start_time": "2021-07-14T13:57:50.047Z"
   },
   {
    "duration": 7,
    "start_time": "2021-07-14T13:58:05.814Z"
   },
   {
    "duration": 302,
    "start_time": "2021-07-14T13:58:41.942Z"
   },
   {
    "duration": 329,
    "start_time": "2021-07-14T13:59:12.493Z"
   },
   {
    "duration": 333,
    "start_time": "2021-07-14T14:00:03.073Z"
   },
   {
    "duration": 6,
    "start_time": "2021-07-14T14:06:59.540Z"
   },
   {
    "duration": 322,
    "start_time": "2021-07-14T14:08:35.003Z"
   },
   {
    "duration": 5,
    "start_time": "2021-07-14T14:09:22.351Z"
   },
   {
    "duration": 8,
    "start_time": "2021-07-14T14:09:28.783Z"
   },
   {
    "duration": 5,
    "start_time": "2021-07-14T14:10:02.031Z"
   },
   {
    "duration": 286,
    "start_time": "2021-07-14T14:10:09.279Z"
   },
   {
    "duration": 411,
    "start_time": "2021-07-14T14:10:17.615Z"
   },
   {
    "duration": 354,
    "start_time": "2021-07-14T14:10:25.470Z"
   },
   {
    "duration": 365,
    "start_time": "2021-07-14T14:11:07.606Z"
   },
   {
    "duration": 320,
    "start_time": "2021-07-14T14:12:58.044Z"
   },
   {
    "duration": 7,
    "start_time": "2021-07-14T14:13:37.090Z"
   },
   {
    "duration": 7,
    "start_time": "2021-07-14T14:16:21.886Z"
   },
   {
    "duration": 395,
    "start_time": "2021-07-14T14:16:32.038Z"
   },
   {
    "duration": 8,
    "start_time": "2021-07-14T14:18:04.755Z"
   },
   {
    "duration": 5,
    "start_time": "2021-07-14T14:18:16.141Z"
   },
   {
    "duration": 307,
    "start_time": "2021-07-14T14:18:20.939Z"
   },
   {
    "duration": 8,
    "start_time": "2021-07-14T14:19:54.664Z"
   },
   {
    "duration": 290,
    "start_time": "2021-07-14T14:20:50.535Z"
   },
   {
    "duration": 9,
    "start_time": "2021-07-14T14:34:15.409Z"
   },
   {
    "duration": 5,
    "start_time": "2021-07-14T14:34:45.870Z"
   },
   {
    "duration": 305,
    "start_time": "2021-07-14T14:35:47.940Z"
   },
   {
    "duration": 8,
    "start_time": "2021-07-14T14:36:38.283Z"
   },
   {
    "duration": 5,
    "start_time": "2021-07-14T14:37:01.963Z"
   },
   {
    "duration": 8,
    "start_time": "2021-07-14T14:37:09.433Z"
   },
   {
    "duration": 9,
    "start_time": "2021-07-14T14:37:25.042Z"
   },
   {
    "duration": 7,
    "start_time": "2021-07-14T14:37:37.706Z"
   },
   {
    "duration": 6,
    "start_time": "2021-07-14T14:49:04.125Z"
   },
   {
    "duration": 5,
    "start_time": "2021-07-14T14:49:04.874Z"
   },
   {
    "duration": 914,
    "start_time": "2021-07-14T14:51:52.217Z"
   },
   {
    "duration": 10,
    "start_time": "2021-07-14T14:52:06.647Z"
   },
   {
    "duration": 17,
    "start_time": "2021-07-14T14:52:07.487Z"
   },
   {
    "duration": 8,
    "start_time": "2021-07-14T14:52:17.799Z"
   },
   {
    "duration": 15,
    "start_time": "2021-07-14T14:52:18.646Z"
   },
   {
    "duration": 8,
    "start_time": "2021-07-14T14:52:54.694Z"
   },
   {
    "duration": 1981,
    "start_time": "2021-07-14T14:55:59.874Z"
   },
   {
    "duration": 7,
    "start_time": "2021-07-14T14:56:04.347Z"
   },
   {
    "duration": 4,
    "start_time": "2021-07-14T14:56:05.129Z"
   },
   {
    "duration": 7,
    "start_time": "2021-07-14T14:56:06.241Z"
   },
   {
    "duration": 7,
    "start_time": "2021-07-14T15:04:32.756Z"
   },
   {
    "duration": 2674,
    "start_time": "2021-07-14T15:04:33.888Z"
   },
   {
    "duration": 4,
    "start_time": "2021-07-14T15:04:36.564Z"
   },
   {
    "duration": 27,
    "start_time": "2021-07-14T15:04:36.570Z"
   },
   {
    "duration": 6,
    "start_time": "2021-07-14T15:05:04.573Z"
   },
   {
    "duration": 45,
    "start_time": "2021-07-14T15:05:44.790Z"
   },
   {
    "duration": 3,
    "start_time": "2021-07-14T15:06:12.829Z"
   },
   {
    "duration": 9,
    "start_time": "2021-07-14T15:06:14.427Z"
   },
   {
    "duration": 924,
    "start_time": "2021-07-14T15:06:15.676Z"
   },
   {
    "duration": 5,
    "start_time": "2021-07-14T15:06:16.604Z"
   },
   {
    "duration": 7,
    "start_time": "2021-07-14T15:06:17.619Z"
   },
   {
    "duration": 786,
    "start_time": "2021-07-14T15:17:38.531Z"
   },
   {
    "duration": 65,
    "start_time": "2021-07-14T15:17:39.320Z"
   },
   {
    "duration": 30,
    "start_time": "2021-07-14T15:17:39.388Z"
   },
   {
    "duration": 56,
    "start_time": "2021-07-14T15:17:39.420Z"
   },
   {
    "duration": 27,
    "start_time": "2021-07-14T15:17:39.479Z"
   },
   {
    "duration": 34,
    "start_time": "2021-07-14T15:17:39.509Z"
   },
   {
    "duration": 25,
    "start_time": "2021-07-14T15:17:39.547Z"
   },
   {
    "duration": 14,
    "start_time": "2021-07-14T15:17:39.576Z"
   },
   {
    "duration": 5,
    "start_time": "2021-07-14T15:17:39.593Z"
   },
   {
    "duration": 21,
    "start_time": "2021-07-14T15:17:39.600Z"
   },
   {
    "duration": 41,
    "start_time": "2021-07-14T15:17:39.623Z"
   },
   {
    "duration": 12,
    "start_time": "2021-07-14T15:17:39.666Z"
   },
   {
    "duration": 34,
    "start_time": "2021-07-14T15:17:39.680Z"
   },
   {
    "duration": 15,
    "start_time": "2021-07-14T15:17:39.717Z"
   },
   {
    "duration": 31,
    "start_time": "2021-07-14T15:17:39.735Z"
   },
   {
    "duration": 25,
    "start_time": "2021-07-14T15:17:39.768Z"
   },
   {
    "duration": 6,
    "start_time": "2021-07-14T15:17:39.795Z"
   },
   {
    "duration": 27,
    "start_time": "2021-07-14T15:17:39.803Z"
   },
   {
    "duration": 12,
    "start_time": "2021-07-14T15:17:39.832Z"
   },
   {
    "duration": 27,
    "start_time": "2021-07-14T15:17:39.846Z"
   },
   {
    "duration": 18,
    "start_time": "2021-07-14T15:17:39.875Z"
   },
   {
    "duration": 27,
    "start_time": "2021-07-14T15:17:39.895Z"
   },
   {
    "duration": 20,
    "start_time": "2021-07-14T15:17:39.926Z"
   },
   {
    "duration": 24,
    "start_time": "2021-07-14T15:17:39.948Z"
   },
   {
    "duration": 6,
    "start_time": "2021-07-14T15:17:39.974Z"
   },
   {
    "duration": 28,
    "start_time": "2021-07-14T15:17:39.983Z"
   },
   {
    "duration": 7,
    "start_time": "2021-07-14T15:17:40.014Z"
   },
   {
    "duration": 16,
    "start_time": "2021-07-14T15:17:40.023Z"
   },
   {
    "duration": 921,
    "start_time": "2021-07-14T15:17:40.042Z"
   },
   {
    "duration": 4,
    "start_time": "2021-07-14T15:17:40.966Z"
   },
   {
    "duration": 23,
    "start_time": "2021-07-14T15:17:40.972Z"
   },
   {
    "duration": 304,
    "start_time": "2021-07-15T07:44:38.349Z"
   },
   {
    "duration": 573,
    "start_time": "2021-07-15T07:44:58.399Z"
   },
   {
    "duration": 59,
    "start_time": "2021-07-15T07:44:58.974Z"
   },
   {
    "duration": 17,
    "start_time": "2021-07-15T07:44:59.035Z"
   },
   {
    "duration": 11,
    "start_time": "2021-07-15T07:44:59.054Z"
   },
   {
    "duration": 12,
    "start_time": "2021-07-15T07:44:59.067Z"
   },
   {
    "duration": 17,
    "start_time": "2021-07-15T07:44:59.080Z"
   },
   {
    "duration": 10,
    "start_time": "2021-07-15T07:44:59.098Z"
   },
   {
    "duration": 31,
    "start_time": "2021-07-15T07:44:59.110Z"
   },
   {
    "duration": 3,
    "start_time": "2021-07-15T07:44:59.143Z"
   },
   {
    "duration": 7,
    "start_time": "2021-07-15T07:44:59.148Z"
   },
   {
    "duration": 16,
    "start_time": "2021-07-15T07:44:59.157Z"
   },
   {
    "duration": 2,
    "start_time": "2021-07-15T07:44:59.175Z"
   },
   {
    "duration": 12,
    "start_time": "2021-07-15T07:44:59.179Z"
   },
   {
    "duration": 11,
    "start_time": "2021-07-15T07:44:59.192Z"
   },
   {
    "duration": 40,
    "start_time": "2021-07-15T07:44:59.204Z"
   },
   {
    "duration": 16,
    "start_time": "2021-07-15T07:44:59.245Z"
   },
   {
    "duration": 4,
    "start_time": "2021-07-15T07:44:59.262Z"
   },
   {
    "duration": 8,
    "start_time": "2021-07-15T07:44:59.267Z"
   },
   {
    "duration": 4,
    "start_time": "2021-07-15T07:44:59.276Z"
   },
   {
    "duration": 6,
    "start_time": "2021-07-15T07:44:59.281Z"
   },
   {
    "duration": 4,
    "start_time": "2021-07-15T07:44:59.288Z"
   },
   {
    "duration": 14,
    "start_time": "2021-07-15T07:44:59.294Z"
   },
   {
    "duration": 5,
    "start_time": "2021-07-15T07:44:59.311Z"
   },
   {
    "duration": 4,
    "start_time": "2021-07-15T07:44:59.341Z"
   },
   {
    "duration": 5,
    "start_time": "2021-07-15T07:44:59.347Z"
   },
   {
    "duration": 16,
    "start_time": "2021-07-15T07:44:59.354Z"
   },
   {
    "duration": 4,
    "start_time": "2021-07-15T07:44:59.371Z"
   },
   {
    "duration": 4,
    "start_time": "2021-07-15T07:44:59.377Z"
   },
   {
    "duration": 629,
    "start_time": "2021-07-15T07:44:59.382Z"
   },
   {
    "duration": 3,
    "start_time": "2021-07-15T07:45:00.013Z"
   },
   {
    "duration": 19,
    "start_time": "2021-07-15T07:45:00.018Z"
   },
   {
    "duration": 19,
    "start_time": "2021-07-15T07:45:00.040Z"
   },
   {
    "duration": 317,
    "start_time": "2021-07-15T08:45:51.872Z"
   },
   {
    "duration": 5,
    "start_time": "2021-07-15T08:46:02.828Z"
   },
   {
    "duration": 4,
    "start_time": "2021-07-15T08:46:11.707Z"
   },
   {
    "duration": 280,
    "start_time": "2021-07-15T08:46:17.954Z"
   },
   {
    "duration": 7,
    "start_time": "2021-07-15T08:46:21.506Z"
   },
   {
    "duration": 9,
    "start_time": "2021-07-15T08:49:42.145Z"
   },
   {
    "duration": 18,
    "start_time": "2021-07-15T08:50:57.160Z"
   },
   {
    "duration": 6,
    "start_time": "2021-07-15T08:51:06.574Z"
   },
   {
    "duration": 7,
    "start_time": "2021-07-15T08:54:16.593Z"
   },
   {
    "duration": 278,
    "start_time": "2021-07-15T08:54:23.883Z"
   },
   {
    "duration": 281,
    "start_time": "2021-07-15T08:54:31.714Z"
   },
   {
    "duration": 7,
    "start_time": "2021-07-15T08:54:36.456Z"
   },
   {
    "duration": 6,
    "start_time": "2021-07-15T08:55:17.903Z"
   },
   {
    "duration": 7,
    "start_time": "2021-07-15T08:55:29.374Z"
   },
   {
    "duration": 12,
    "start_time": "2021-07-15T08:55:38.959Z"
   },
   {
    "duration": 7,
    "start_time": "2021-07-15T08:55:48.774Z"
   },
   {
    "duration": 7,
    "start_time": "2021-07-15T08:56:01.418Z"
   },
   {
    "duration": 6,
    "start_time": "2021-07-15T08:56:13.926Z"
   },
   {
    "duration": 8,
    "start_time": "2021-07-15T08:56:28.373Z"
   },
   {
    "duration": 8,
    "start_time": "2021-07-15T09:04:47.307Z"
   },
   {
    "duration": 8,
    "start_time": "2021-07-15T09:05:00.445Z"
   },
   {
    "duration": 7,
    "start_time": "2021-07-15T09:05:40.186Z"
   },
   {
    "duration": 283,
    "start_time": "2021-07-15T09:09:03.925Z"
   },
   {
    "duration": 8,
    "start_time": "2021-07-15T09:09:37.846Z"
   },
   {
    "duration": 7,
    "start_time": "2021-07-15T09:11:01.331Z"
   },
   {
    "duration": 6,
    "start_time": "2021-07-15T09:11:10.586Z"
   },
   {
    "duration": 291,
    "start_time": "2021-07-15T09:11:20.603Z"
   },
   {
    "duration": 8,
    "start_time": "2021-07-15T09:11:29.114Z"
   },
   {
    "duration": 7,
    "start_time": "2021-07-15T09:11:51.857Z"
   },
   {
    "duration": 4,
    "start_time": "2021-07-15T09:15:56.205Z"
   },
   {
    "duration": 5,
    "start_time": "2021-07-15T09:16:10.564Z"
   },
   {
    "duration": 6,
    "start_time": "2021-07-15T09:17:26.429Z"
   },
   {
    "duration": 8,
    "start_time": "2021-07-15T09:17:49.869Z"
   },
   {
    "duration": 7,
    "start_time": "2021-07-15T09:19:34.905Z"
   },
   {
    "duration": 9,
    "start_time": "2021-07-15T09:20:58.790Z"
   },
   {
    "duration": 281,
    "start_time": "2021-07-15T10:51:44.264Z"
   },
   {
    "duration": 7,
    "start_time": "2021-07-15T10:51:51.388Z"
   },
   {
    "duration": 7,
    "start_time": "2021-07-15T10:52:28.428Z"
   },
   {
    "duration": 12,
    "start_time": "2021-07-15T11:19:55.943Z"
   },
   {
    "duration": 7,
    "start_time": "2021-07-15T11:24:52.283Z"
   },
   {
    "duration": 271,
    "start_time": "2021-07-15T11:53:16.959Z"
   },
   {
    "duration": 5,
    "start_time": "2021-07-15T12:01:13.139Z"
   },
   {
    "duration": 6,
    "start_time": "2021-07-15T12:01:46.416Z"
   },
   {
    "duration": 4,
    "start_time": "2021-07-15T12:02:01.529Z"
   },
   {
    "duration": 4,
    "start_time": "2021-07-15T12:02:13.359Z"
   },
   {
    "duration": 7,
    "start_time": "2021-07-15T12:02:45.495Z"
   },
   {
    "duration": 5,
    "start_time": "2021-07-15T12:16:14.612Z"
   },
   {
    "duration": 4,
    "start_time": "2021-07-15T12:16:30.893Z"
   },
   {
    "duration": 5,
    "start_time": "2021-07-15T12:16:46.646Z"
   },
   {
    "duration": 3,
    "start_time": "2021-07-15T12:28:46.715Z"
   },
   {
    "duration": 3,
    "start_time": "2021-07-15T12:29:01.702Z"
   },
   {
    "duration": 4,
    "start_time": "2021-07-15T12:29:06.520Z"
   },
   {
    "duration": 3,
    "start_time": "2021-07-15T12:29:10.007Z"
   },
   {
    "duration": 301,
    "start_time": "2021-07-15T12:30:12.130Z"
   },
   {
    "duration": 7,
    "start_time": "2021-07-15T12:30:35.779Z"
   },
   {
    "duration": 8,
    "start_time": "2021-07-15T12:30:38.827Z"
   },
   {
    "duration": 15,
    "start_time": "2021-07-15T12:31:01.234Z"
   },
   {
    "duration": 283,
    "start_time": "2021-07-15T12:32:04.732Z"
   },
   {
    "duration": 266,
    "start_time": "2021-07-15T12:32:08.328Z"
   },
   {
    "duration": 106,
    "start_time": "2021-07-15T12:32:58.209Z"
   },
   {
    "duration": 15,
    "start_time": "2021-07-15T12:33:02.344Z"
   },
   {
    "duration": 11,
    "start_time": "2021-07-15T12:33:16.505Z"
   },
   {
    "duration": 7,
    "start_time": "2021-07-15T12:33:33.303Z"
   },
   {
    "duration": 12,
    "start_time": "2021-07-15T12:35:26.477Z"
   },
   {
    "duration": 11,
    "start_time": "2021-07-15T12:35:37.366Z"
   },
   {
    "duration": 11,
    "start_time": "2021-07-15T12:37:20.773Z"
   },
   {
    "duration": 11,
    "start_time": "2021-07-15T12:37:39.980Z"
   },
   {
    "duration": 361,
    "start_time": "2021-07-15T13:01:38.413Z"
   },
   {
    "duration": 33,
    "start_time": "2021-07-15T13:01:55.445Z"
   },
   {
    "duration": 5,
    "start_time": "2021-07-15T13:15:28.585Z"
   },
   {
    "duration": 5,
    "start_time": "2021-07-15T13:15:56.987Z"
   },
   {
    "duration": 265,
    "start_time": "2021-07-15T13:18:31.081Z"
   },
   {
    "duration": 263,
    "start_time": "2021-07-15T13:18:49.575Z"
   },
   {
    "duration": 11,
    "start_time": "2021-07-15T13:39:24.938Z"
   },
   {
    "duration": 420,
    "start_time": "2021-07-15T13:43:03.010Z"
   },
   {
    "duration": 271,
    "start_time": "2021-07-15T13:43:43.152Z"
   },
   {
    "duration": 285,
    "start_time": "2021-07-15T13:43:48.644Z"
   },
   {
    "duration": 6,
    "start_time": "2021-07-15T13:44:46.052Z"
   },
   {
    "duration": 13,
    "start_time": "2021-07-15T13:45:01.443Z"
   },
   {
    "duration": 7,
    "start_time": "2021-07-15T13:45:10.305Z"
   },
   {
    "duration": 11,
    "start_time": "2021-07-15T13:48:35.175Z"
   },
   {
    "duration": 297,
    "start_time": "2021-07-15T13:53:23.833Z"
   },
   {
    "duration": 28,
    "start_time": "2021-07-15T13:54:20.615Z"
   },
   {
    "duration": 40,
    "start_time": "2021-07-15T13:54:47.018Z"
   },
   {
    "duration": 266,
    "start_time": "2021-07-15T13:59:22.071Z"
   },
   {
    "duration": 6,
    "start_time": "2021-07-15T13:59:27.038Z"
   },
   {
    "duration": 1376,
    "start_time": "2021-07-15T13:59:27.952Z"
   },
   {
    "duration": 3,
    "start_time": "2021-07-15T13:59:43.279Z"
   },
   {
    "duration": 7,
    "start_time": "2021-07-15T13:59:44.223Z"
   },
   {
    "duration": 21,
    "start_time": "2021-07-15T14:00:30.566Z"
   },
   {
    "duration": 624,
    "start_time": "2021-07-15T14:09:46.520Z"
   },
   {
    "duration": 48,
    "start_time": "2021-07-15T14:09:47.146Z"
   },
   {
    "duration": 17,
    "start_time": "2021-07-15T14:09:47.197Z"
   },
   {
    "duration": 11,
    "start_time": "2021-07-15T14:09:47.216Z"
   },
   {
    "duration": 15,
    "start_time": "2021-07-15T14:09:47.240Z"
   },
   {
    "duration": 18,
    "start_time": "2021-07-15T14:09:47.258Z"
   },
   {
    "duration": 13,
    "start_time": "2021-07-15T14:09:47.278Z"
   },
   {
    "duration": 10,
    "start_time": "2021-07-15T14:09:47.293Z"
   },
   {
    "duration": 4,
    "start_time": "2021-07-15T14:09:47.305Z"
   },
   {
    "duration": 35,
    "start_time": "2021-07-15T14:09:47.310Z"
   },
   {
    "duration": 16,
    "start_time": "2021-07-15T14:09:47.347Z"
   },
   {
    "duration": 4,
    "start_time": "2021-07-15T14:09:47.365Z"
   },
   {
    "duration": 11,
    "start_time": "2021-07-15T14:09:47.371Z"
   },
   {
    "duration": 10,
    "start_time": "2021-07-15T14:09:47.384Z"
   },
   {
    "duration": 47,
    "start_time": "2021-07-15T14:09:47.396Z"
   },
   {
    "duration": 23,
    "start_time": "2021-07-15T14:09:47.446Z"
   },
   {
    "duration": 4,
    "start_time": "2021-07-15T14:09:47.471Z"
   },
   {
    "duration": 7,
    "start_time": "2021-07-15T14:09:47.477Z"
   },
   {
    "duration": 7,
    "start_time": "2021-07-15T14:09:47.485Z"
   },
   {
    "duration": 7,
    "start_time": "2021-07-15T14:09:47.493Z"
   },
   {
    "duration": 4,
    "start_time": "2021-07-15T14:09:47.501Z"
   },
   {
    "duration": 37,
    "start_time": "2021-07-15T14:09:47.506Z"
   },
   {
    "duration": 7,
    "start_time": "2021-07-15T14:09:47.546Z"
   },
   {
    "duration": 6,
    "start_time": "2021-07-15T14:09:47.555Z"
   },
   {
    "duration": 5,
    "start_time": "2021-07-15T14:09:47.563Z"
   },
   {
    "duration": 19,
    "start_time": "2021-07-15T14:09:47.569Z"
   },
   {
    "duration": 4,
    "start_time": "2021-07-15T14:09:47.590Z"
   },
   {
    "duration": 5,
    "start_time": "2021-07-15T14:09:47.595Z"
   },
   {
    "duration": 679,
    "start_time": "2021-07-15T14:09:47.601Z"
   },
   {
    "duration": 3,
    "start_time": "2021-07-15T14:09:48.282Z"
   },
   {
    "duration": 8,
    "start_time": "2021-07-15T14:09:48.286Z"
   },
   {
    "duration": 10,
    "start_time": "2021-07-15T14:09:48.295Z"
   },
   {
    "duration": 4,
    "start_time": "2021-07-15T14:09:48.306Z"
   },
   {
    "duration": 6,
    "start_time": "2021-07-15T14:09:48.311Z"
   },
   {
    "duration": 3,
    "start_time": "2021-07-15T14:09:48.341Z"
   },
   {
    "duration": 13,
    "start_time": "2021-07-15T14:09:48.346Z"
   },
   {
    "duration": 12,
    "start_time": "2021-07-15T14:09:48.361Z"
   },
   {
    "duration": 9,
    "start_time": "2021-07-15T14:09:48.375Z"
   },
   {
    "duration": 15,
    "start_time": "2021-07-15T14:09:48.385Z"
   },
   {
    "duration": 88,
    "start_time": "2021-07-15T14:09:48.402Z"
   },
   {
    "duration": 107,
    "start_time": "2021-07-15T14:12:22.708Z"
   },
   {
    "duration": 374,
    "start_time": "2021-07-15T14:12:59.730Z"
   },
   {
    "duration": -1551,
    "start_time": "2021-07-15T14:14:39.611Z"
   },
   {
    "duration": 1917,
    "start_time": "2021-07-15T14:14:42.816Z"
   },
   {
    "duration": 4,
    "start_time": "2021-07-15T14:18:30.964Z"
   },
   {
    "duration": 5,
    "start_time": "2021-07-15T14:18:37.969Z"
   },
   {
    "duration": 13,
    "start_time": "2021-07-15T14:19:12.525Z"
   },
   {
    "duration": 584,
    "start_time": "2021-07-15T14:19:33.289Z"
   },
   {
    "duration": 60,
    "start_time": "2021-07-15T14:19:33.875Z"
   },
   {
    "duration": 24,
    "start_time": "2021-07-15T14:19:33.938Z"
   },
   {
    "duration": 25,
    "start_time": "2021-07-15T14:19:33.965Z"
   },
   {
    "duration": 36,
    "start_time": "2021-07-15T14:19:33.992Z"
   },
   {
    "duration": 31,
    "start_time": "2021-07-15T14:19:34.029Z"
   },
   {
    "duration": 22,
    "start_time": "2021-07-15T14:19:34.062Z"
   },
   {
    "duration": 20,
    "start_time": "2021-07-15T14:19:34.087Z"
   },
   {
    "duration": 22,
    "start_time": "2021-07-15T14:19:34.109Z"
   },
   {
    "duration": 41,
    "start_time": "2021-07-15T14:19:34.133Z"
   },
   {
    "duration": 32,
    "start_time": "2021-07-15T14:19:34.175Z"
   },
   {
    "duration": 30,
    "start_time": "2021-07-15T14:19:34.208Z"
   },
   {
    "duration": 24,
    "start_time": "2021-07-15T14:19:34.239Z"
   },
   {
    "duration": 43,
    "start_time": "2021-07-15T14:19:34.264Z"
   },
   {
    "duration": 42,
    "start_time": "2021-07-15T14:19:34.309Z"
   },
   {
    "duration": 27,
    "start_time": "2021-07-15T14:19:34.354Z"
   },
   {
    "duration": 5,
    "start_time": "2021-07-15T14:19:34.383Z"
   },
   {
    "duration": 22,
    "start_time": "2021-07-15T14:19:34.390Z"
   },
   {
    "duration": 19,
    "start_time": "2021-07-15T14:19:34.414Z"
   },
   {
    "duration": 38,
    "start_time": "2021-07-15T14:19:34.434Z"
   },
   {
    "duration": 12,
    "start_time": "2021-07-15T14:19:34.474Z"
   },
   {
    "duration": 25,
    "start_time": "2021-07-15T14:19:34.488Z"
   },
   {
    "duration": 24,
    "start_time": "2021-07-15T14:19:34.515Z"
   },
   {
    "duration": 29,
    "start_time": "2021-07-15T14:19:34.541Z"
   },
   {
    "duration": 20,
    "start_time": "2021-07-15T14:19:34.571Z"
   },
   {
    "duration": 40,
    "start_time": "2021-07-15T14:19:34.592Z"
   },
   {
    "duration": 18,
    "start_time": "2021-07-15T14:19:34.634Z"
   },
   {
    "duration": 29,
    "start_time": "2021-07-15T14:19:34.654Z"
   },
   {
    "duration": 688,
    "start_time": "2021-07-15T14:19:34.684Z"
   },
   {
    "duration": 3,
    "start_time": "2021-07-15T14:19:35.374Z"
   },
   {
    "duration": 18,
    "start_time": "2021-07-15T14:19:35.378Z"
   },
   {
    "duration": 24,
    "start_time": "2021-07-15T14:19:35.397Z"
   },
   {
    "duration": 33,
    "start_time": "2021-07-15T14:19:35.423Z"
   },
   {
    "duration": 34,
    "start_time": "2021-07-15T14:19:35.458Z"
   },
   {
    "duration": 26,
    "start_time": "2021-07-15T14:19:35.494Z"
   },
   {
    "duration": 36,
    "start_time": "2021-07-15T14:19:35.521Z"
   },
   {
    "duration": 30,
    "start_time": "2021-07-15T14:19:35.559Z"
   },
   {
    "duration": 391,
    "start_time": "2021-07-15T14:19:35.590Z"
   },
   {
    "duration": 6,
    "start_time": "2021-07-15T14:22:42.651Z"
   },
   {
    "duration": 4,
    "start_time": "2021-07-15T14:23:18.231Z"
   },
   {
    "duration": 5,
    "start_time": "2021-07-15T14:24:48.525Z"
   },
   {
    "duration": 12,
    "start_time": "2021-07-15T14:27:48.825Z"
   },
   {
    "duration": 11,
    "start_time": "2021-07-15T14:28:35.210Z"
   },
   {
    "duration": 12,
    "start_time": "2021-07-15T14:30:01.910Z"
   },
   {
    "duration": 12,
    "start_time": "2021-07-15T14:30:36.614Z"
   },
   {
    "duration": 12,
    "start_time": "2021-07-15T14:30:54.222Z"
   },
   {
    "duration": 13,
    "start_time": "2021-07-15T14:39:16.099Z"
   },
   {
    "duration": 10,
    "start_time": "2021-07-15T14:41:22.952Z"
   },
   {
    "duration": 263,
    "start_time": "2021-07-15T14:42:23.646Z"
   },
   {
    "duration": 14,
    "start_time": "2021-07-15T14:42:41.056Z"
   },
   {
    "duration": 14,
    "start_time": "2021-07-15T14:43:35.693Z"
   },
   {
    "duration": 10,
    "start_time": "2021-07-15T14:44:23.171Z"
   },
   {
    "duration": 19,
    "start_time": "2021-07-15T14:44:32.843Z"
   },
   {
    "duration": 16,
    "start_time": "2021-07-15T14:46:27.850Z"
   },
   {
    "duration": 5,
    "start_time": "2021-07-15T14:48:04.815Z"
   },
   {
    "duration": 27,
    "start_time": "2021-07-15T14:50:46.035Z"
   },
   {
    "duration": 21,
    "start_time": "2021-07-15T14:51:52.708Z"
   },
   {
    "duration": 55,
    "start_time": "2021-07-15T14:52:26.074Z"
   },
   {
    "duration": 86,
    "start_time": "2021-07-15T14:52:47.217Z"
   },
   {
    "duration": 33,
    "start_time": "2021-07-15T14:52:53.984Z"
   },
   {
    "duration": 8,
    "start_time": "2021-07-15T14:53:48.258Z"
   },
   {
    "duration": 23,
    "start_time": "2021-07-15T14:57:02.107Z"
   },
   {
    "duration": 19,
    "start_time": "2021-07-15T14:57:10.572Z"
   },
   {
    "duration": 22,
    "start_time": "2021-07-15T14:58:35.834Z"
   },
   {
    "duration": 16,
    "start_time": "2021-07-15T14:58:58.675Z"
   },
   {
    "duration": 27,
    "start_time": "2021-07-15T15:00:51.431Z"
   },
   {
    "duration": 92,
    "start_time": "2021-07-15T15:01:09.823Z"
   },
   {
    "duration": 20,
    "start_time": "2021-07-15T15:01:14.255Z"
   },
   {
    "duration": 278,
    "start_time": "2021-07-15T15:07:14.669Z"
   },
   {
    "duration": 9,
    "start_time": "2021-07-15T15:07:20.702Z"
   },
   {
    "duration": 13,
    "start_time": "2021-07-15T15:07:27.797Z"
   },
   {
    "duration": 9,
    "start_time": "2021-07-15T15:08:02.180Z"
   },
   {
    "duration": 158,
    "start_time": "2021-07-15T15:08:24.709Z"
   },
   {
    "duration": 22,
    "start_time": "2021-07-15T15:08:29.611Z"
   },
   {
    "duration": 297,
    "start_time": "2021-07-15T15:10:54.809Z"
   },
   {
    "duration": 24,
    "start_time": "2021-07-15T15:11:00.120Z"
   },
   {
    "duration": 51,
    "start_time": "2021-07-15T15:16:30.670Z"
   },
   {
    "duration": 145,
    "start_time": "2021-07-15T15:16:56.325Z"
   },
   {
    "duration": 396,
    "start_time": "2021-07-15T15:17:01.678Z"
   },
   {
    "duration": 296,
    "start_time": "2021-07-15T15:17:19.625Z"
   },
   {
    "duration": 18,
    "start_time": "2021-07-15T15:17:32.193Z"
   },
   {
    "duration": 18,
    "start_time": "2021-07-15T15:18:02.664Z"
   },
   {
    "duration": 524,
    "start_time": "2021-07-15T15:19:05.997Z"
   },
   {
    "duration": 14,
    "start_time": "2021-07-15T15:19:09.925Z"
   },
   {
    "duration": 5,
    "start_time": "2021-07-15T15:19:11.653Z"
   },
   {
    "duration": 8,
    "start_time": "2021-07-15T15:19:16.197Z"
   },
   {
    "duration": 8,
    "start_time": "2021-07-15T15:19:27.598Z"
   },
   {
    "duration": 18,
    "start_time": "2021-07-15T15:21:03.155Z"
   },
   {
    "duration": 10,
    "start_time": "2021-07-15T15:21:27.899Z"
   },
   {
    "duration": 7,
    "start_time": "2021-07-15T15:21:42.170Z"
   },
   {
    "duration": 925,
    "start_time": "2021-07-15T15:21:48.666Z"
   },
   {
    "duration": 6,
    "start_time": "2021-07-15T15:22:21.778Z"
   },
   {
    "duration": 6,
    "start_time": "2021-07-15T15:22:29.162Z"
   },
   {
    "duration": 8,
    "start_time": "2021-07-15T15:22:33.546Z"
   },
   {
    "duration": 6,
    "start_time": "2021-07-15T15:22:39.273Z"
   },
   {
    "duration": 6,
    "start_time": "2021-07-15T15:22:44.465Z"
   },
   {
    "duration": 10,
    "start_time": "2021-07-15T15:22:48.241Z"
   },
   {
    "duration": 6,
    "start_time": "2021-07-15T15:22:53.395Z"
   },
   {
    "duration": 6,
    "start_time": "2021-07-15T15:22:56.953Z"
   },
   {
    "duration": 9,
    "start_time": "2021-07-15T15:25:45.551Z"
   },
   {
    "duration": 15,
    "start_time": "2021-07-15T15:26:59.702Z"
   },
   {
    "duration": 7,
    "start_time": "2021-07-15T15:27:00.628Z"
   },
   {
    "duration": 8,
    "start_time": "2021-07-15T15:27:16.795Z"
   },
   {
    "duration": 2,
    "start_time": "2021-07-15T15:41:06.453Z"
   },
   {
    "duration": 3,
    "start_time": "2021-07-15T15:41:54.754Z"
   },
   {
    "duration": 8,
    "start_time": "2021-07-15T15:41:55.415Z"
   },
   {
    "duration": 13,
    "start_time": "2021-07-15T15:41:56.390Z"
   },
   {
    "duration": 18,
    "start_time": "2021-07-15T15:42:07.168Z"
   },
   {
    "duration": 7,
    "start_time": "2021-07-15T15:42:08.488Z"
   },
   {
    "duration": 7,
    "start_time": "2021-07-15T15:42:09.233Z"
   },
   {
    "duration": 23,
    "start_time": "2021-07-15T15:42:17.839Z"
   },
   {
    "duration": 6,
    "start_time": "2021-07-15T15:42:18.576Z"
   },
   {
    "duration": 7,
    "start_time": "2021-07-15T15:42:19.367Z"
   },
   {
    "duration": 20,
    "start_time": "2021-07-15T15:43:23.918Z"
   },
   {
    "duration": 6,
    "start_time": "2021-07-15T15:43:24.559Z"
   },
   {
    "duration": 9,
    "start_time": "2021-07-15T15:43:25.134Z"
   },
   {
    "duration": 15,
    "start_time": "2021-07-15T15:44:08.981Z"
   },
   {
    "duration": 7,
    "start_time": "2021-07-15T15:44:09.524Z"
   },
   {
    "duration": 9,
    "start_time": "2021-07-15T15:44:10.046Z"
   },
   {
    "duration": 586,
    "start_time": "2021-07-15T15:49:46.621Z"
   },
   {
    "duration": 54,
    "start_time": "2021-07-15T15:49:47.208Z"
   },
   {
    "duration": 18,
    "start_time": "2021-07-15T15:49:47.267Z"
   },
   {
    "duration": 16,
    "start_time": "2021-07-15T15:49:47.287Z"
   },
   {
    "duration": 21,
    "start_time": "2021-07-15T15:49:47.304Z"
   },
   {
    "duration": 36,
    "start_time": "2021-07-15T15:49:47.326Z"
   },
   {
    "duration": 11,
    "start_time": "2021-07-15T15:49:47.365Z"
   },
   {
    "duration": 13,
    "start_time": "2021-07-15T15:49:47.378Z"
   },
   {
    "duration": 14,
    "start_time": "2021-07-15T15:49:47.393Z"
   },
   {
    "duration": 22,
    "start_time": "2021-07-15T15:49:47.408Z"
   },
   {
    "duration": 32,
    "start_time": "2021-07-15T15:49:47.432Z"
   },
   {
    "duration": 19,
    "start_time": "2021-07-15T15:49:47.466Z"
   },
   {
    "duration": 24,
    "start_time": "2021-07-15T15:49:47.486Z"
   },
   {
    "duration": 20,
    "start_time": "2021-07-15T15:49:47.512Z"
   },
   {
    "duration": 51,
    "start_time": "2021-07-15T15:49:47.533Z"
   },
   {
    "duration": 16,
    "start_time": "2021-07-15T15:49:47.586Z"
   },
   {
    "duration": 4,
    "start_time": "2021-07-15T15:49:47.604Z"
   },
   {
    "duration": 20,
    "start_time": "2021-07-15T15:49:47.609Z"
   },
   {
    "duration": 19,
    "start_time": "2021-07-15T15:49:47.631Z"
   },
   {
    "duration": 28,
    "start_time": "2021-07-15T15:49:47.652Z"
   },
   {
    "duration": 17,
    "start_time": "2021-07-15T15:49:47.682Z"
   },
   {
    "duration": 14,
    "start_time": "2021-07-15T15:49:47.702Z"
   },
   {
    "duration": 19,
    "start_time": "2021-07-15T15:49:47.718Z"
   },
   {
    "duration": 22,
    "start_time": "2021-07-15T15:49:47.738Z"
   },
   {
    "duration": 15,
    "start_time": "2021-07-15T15:49:47.762Z"
   },
   {
    "duration": 30,
    "start_time": "2021-07-15T15:49:47.779Z"
   },
   {
    "duration": 10,
    "start_time": "2021-07-15T15:49:47.810Z"
   },
   {
    "duration": 17,
    "start_time": "2021-07-15T15:49:47.822Z"
   },
   {
    "duration": 658,
    "start_time": "2021-07-15T15:49:47.840Z"
   },
   {
    "duration": 3,
    "start_time": "2021-07-15T15:49:48.500Z"
   },
   {
    "duration": 8,
    "start_time": "2021-07-15T15:49:48.504Z"
   },
   {
    "duration": 11,
    "start_time": "2021-07-15T15:49:48.513Z"
   },
   {
    "duration": 4,
    "start_time": "2021-07-15T15:49:48.525Z"
   },
   {
    "duration": 6,
    "start_time": "2021-07-15T15:49:48.541Z"
   },
   {
    "duration": 7,
    "start_time": "2021-07-15T15:49:48.549Z"
   },
   {
    "duration": 9,
    "start_time": "2021-07-15T15:49:48.561Z"
   },
   {
    "duration": 5,
    "start_time": "2021-07-15T15:49:48.572Z"
   },
   {
    "duration": 10,
    "start_time": "2021-07-15T15:49:48.578Z"
   },
   {
    "duration": 14,
    "start_time": "2021-07-15T15:49:48.589Z"
   },
   {
    "duration": 54,
    "start_time": "2021-07-15T15:49:48.605Z"
   },
   {
    "duration": 7,
    "start_time": "2021-07-15T15:49:48.660Z"
   },
   {
    "duration": 8,
    "start_time": "2021-07-15T15:49:48.669Z"
   },
   {
    "duration": 24,
    "start_time": "2021-07-15T15:51:17.189Z"
   },
   {
    "duration": 16,
    "start_time": "2021-07-15T15:53:31.345Z"
   },
   {
    "duration": 11,
    "start_time": "2021-07-15T15:53:32.073Z"
   },
   {
    "duration": 21,
    "start_time": "2021-07-15T15:53:32.889Z"
   },
   {
    "duration": 601,
    "start_time": "2021-07-15T15:54:16.010Z"
   },
   {
    "duration": 55,
    "start_time": "2021-07-15T15:54:16.612Z"
   },
   {
    "duration": 16,
    "start_time": "2021-07-15T15:54:16.669Z"
   },
   {
    "duration": 14,
    "start_time": "2021-07-15T15:54:16.687Z"
   },
   {
    "duration": 14,
    "start_time": "2021-07-15T15:54:16.703Z"
   },
   {
    "duration": 34,
    "start_time": "2021-07-15T15:54:16.718Z"
   },
   {
    "duration": 15,
    "start_time": "2021-07-15T15:54:16.754Z"
   },
   {
    "duration": 10,
    "start_time": "2021-07-15T15:54:16.771Z"
   },
   {
    "duration": 5,
    "start_time": "2021-07-15T15:54:16.783Z"
   },
   {
    "duration": 11,
    "start_time": "2021-07-15T15:54:16.789Z"
   },
   {
    "duration": 16,
    "start_time": "2021-07-15T15:54:16.802Z"
   },
   {
    "duration": 20,
    "start_time": "2021-07-15T15:54:16.820Z"
   },
   {
    "duration": 12,
    "start_time": "2021-07-15T15:54:16.842Z"
   },
   {
    "duration": 12,
    "start_time": "2021-07-15T15:54:16.856Z"
   },
   {
    "duration": 18,
    "start_time": "2021-07-15T15:54:16.869Z"
   },
   {
    "duration": 16,
    "start_time": "2021-07-15T15:54:16.889Z"
   },
   {
    "duration": 4,
    "start_time": "2021-07-15T15:54:16.906Z"
   },
   {
    "duration": 34,
    "start_time": "2021-07-15T15:54:16.912Z"
   },
   {
    "duration": 6,
    "start_time": "2021-07-15T15:54:16.948Z"
   },
   {
    "duration": 16,
    "start_time": "2021-07-15T15:54:16.956Z"
   },
   {
    "duration": 15,
    "start_time": "2021-07-15T15:54:16.973Z"
   },
   {
    "duration": 21,
    "start_time": "2021-07-15T15:54:16.989Z"
   },
   {
    "duration": 27,
    "start_time": "2021-07-15T15:54:17.013Z"
   },
   {
    "duration": 27,
    "start_time": "2021-07-15T15:54:17.044Z"
   },
   {
    "duration": 13,
    "start_time": "2021-07-15T15:54:17.073Z"
   },
   {
    "duration": 33,
    "start_time": "2021-07-15T15:54:17.088Z"
   },
   {
    "duration": 3,
    "start_time": "2021-07-15T15:54:17.123Z"
   },
   {
    "duration": 15,
    "start_time": "2021-07-15T15:54:17.128Z"
   },
   {
    "duration": 711,
    "start_time": "2021-07-15T15:54:17.146Z"
   },
   {
    "duration": 3,
    "start_time": "2021-07-15T15:54:17.859Z"
   },
   {
    "duration": 7,
    "start_time": "2021-07-15T15:54:17.864Z"
   },
   {
    "duration": 9,
    "start_time": "2021-07-15T15:54:17.873Z"
   },
   {
    "duration": 4,
    "start_time": "2021-07-15T15:54:17.884Z"
   },
   {
    "duration": 6,
    "start_time": "2021-07-15T15:54:17.890Z"
   },
   {
    "duration": 3,
    "start_time": "2021-07-15T15:54:17.897Z"
   },
   {
    "duration": 46,
    "start_time": "2021-07-15T15:54:17.902Z"
   },
   {
    "duration": 5,
    "start_time": "2021-07-15T15:54:17.951Z"
   },
   {
    "duration": 11,
    "start_time": "2021-07-15T15:54:17.958Z"
   },
   {
    "duration": 15,
    "start_time": "2021-07-15T15:54:17.971Z"
   },
   {
    "duration": 22,
    "start_time": "2021-07-15T15:54:17.988Z"
   },
   {
    "duration": 11,
    "start_time": "2021-07-15T15:54:18.011Z"
   },
   {
    "duration": 21,
    "start_time": "2021-07-15T15:54:18.023Z"
   },
   {
    "duration": 31,
    "start_time": "2021-07-15T15:54:18.047Z"
   },
   {
    "duration": 3,
    "start_time": "2021-07-15T16:03:47.363Z"
   },
   {
    "duration": 6,
    "start_time": "2021-07-15T16:03:48.407Z"
   },
   {
    "duration": 16,
    "start_time": "2021-07-15T16:03:49.849Z"
   },
   {
    "duration": 46,
    "start_time": "2021-07-15T16:07:29.405Z"
   },
   {
    "duration": 25,
    "start_time": "2021-07-15T16:07:47.298Z"
   },
   {
    "duration": 25,
    "start_time": "2021-07-15T16:07:54.402Z"
   },
   {
    "duration": 17,
    "start_time": "2021-07-15T16:08:44.665Z"
   },
   {
    "duration": 28,
    "start_time": "2021-07-15T16:09:09.725Z"
   },
   {
    "duration": 14,
    "start_time": "2021-07-15T16:09:09.950Z"
   },
   {
    "duration": 8,
    "start_time": "2021-07-15T16:09:22.008Z"
   },
   {
    "duration": 24,
    "start_time": "2021-07-15T16:14:00.454Z"
   },
   {
    "duration": 7,
    "start_time": "2021-07-15T16:14:01.002Z"
   },
   {
    "duration": 8,
    "start_time": "2021-07-15T16:14:01.556Z"
   },
   {
    "duration": 23,
    "start_time": "2021-07-15T16:14:23.083Z"
   },
   {
    "duration": 9,
    "start_time": "2021-07-15T16:14:23.674Z"
   },
   {
    "duration": 8,
    "start_time": "2021-07-15T16:14:24.394Z"
   },
   {
    "duration": 17,
    "start_time": "2021-07-15T16:24:16.304Z"
   },
   {
    "duration": 7,
    "start_time": "2021-07-15T16:24:31.581Z"
   },
   {
    "duration": 26,
    "start_time": "2021-07-15T16:25:20.600Z"
   },
   {
    "duration": 15,
    "start_time": "2021-07-15T16:25:21.605Z"
   },
   {
    "duration": 17,
    "start_time": "2021-07-15T16:25:50.766Z"
   },
   {
    "duration": 10,
    "start_time": "2021-07-15T16:25:51.862Z"
   },
   {
    "duration": 47,
    "start_time": "2021-07-15T16:26:41.188Z"
   },
   {
    "duration": 28,
    "start_time": "2021-07-15T16:26:41.780Z"
   },
   {
    "duration": 25,
    "start_time": "2021-07-15T16:27:02.603Z"
   },
   {
    "duration": 10,
    "start_time": "2021-07-15T16:27:03.196Z"
   },
   {
    "duration": 28,
    "start_time": "2021-07-15T16:28:17.466Z"
   },
   {
    "duration": 10,
    "start_time": "2021-07-15T16:28:18.153Z"
   },
   {
    "duration": 17,
    "start_time": "2021-07-15T16:28:35.034Z"
   },
   {
    "duration": 9,
    "start_time": "2021-07-15T16:28:35.548Z"
   },
   {
    "duration": 9,
    "start_time": "2021-07-15T16:28:36.001Z"
   },
   {
    "duration": 292,
    "start_time": "2021-07-16T07:44:08.418Z"
   },
   {
    "duration": 537,
    "start_time": "2021-07-16T07:44:19.780Z"
   },
   {
    "duration": 49,
    "start_time": "2021-07-16T07:44:21.092Z"
   },
   {
    "duration": 17,
    "start_time": "2021-07-16T07:44:22.093Z"
   },
   {
    "duration": 12,
    "start_time": "2021-07-16T07:44:22.773Z"
   },
   {
    "duration": 11,
    "start_time": "2021-07-16T07:44:25.227Z"
   },
   {
    "duration": 17,
    "start_time": "2021-07-16T07:44:26.198Z"
   },
   {
    "duration": 11,
    "start_time": "2021-07-16T07:44:27.603Z"
   },
   {
    "duration": 10,
    "start_time": "2021-07-16T07:44:28.036Z"
   },
   {
    "duration": 3,
    "start_time": "2021-07-16T07:44:30.243Z"
   },
   {
    "duration": 3,
    "start_time": "2021-07-16T07:44:30.747Z"
   },
   {
    "duration": 12,
    "start_time": "2021-07-16T07:44:31.485Z"
   },
   {
    "duration": 3,
    "start_time": "2021-07-16T07:44:32.635Z"
   },
   {
    "duration": 9,
    "start_time": "2021-07-16T07:44:33.148Z"
   },
   {
    "duration": 11,
    "start_time": "2021-07-16T07:44:35.875Z"
   },
   {
    "duration": 18,
    "start_time": "2021-07-16T07:44:36.292Z"
   },
   {
    "duration": 16,
    "start_time": "2021-07-16T07:44:36.539Z"
   },
   {
    "duration": 5,
    "start_time": "2021-07-16T07:44:36.931Z"
   },
   {
    "duration": 5,
    "start_time": "2021-07-16T07:44:37.371Z"
   },
   {
    "duration": 4,
    "start_time": "2021-07-16T07:44:37.578Z"
   },
   {
    "duration": 6,
    "start_time": "2021-07-16T07:44:37.762Z"
   },
   {
    "duration": 4,
    "start_time": "2021-07-16T07:44:37.964Z"
   },
   {
    "duration": 4,
    "start_time": "2021-07-16T07:44:38.179Z"
   },
   {
    "duration": 5,
    "start_time": "2021-07-16T07:44:38.405Z"
   },
   {
    "duration": 5,
    "start_time": "2021-07-16T07:44:38.620Z"
   },
   {
    "duration": 9,
    "start_time": "2021-07-16T07:44:39.066Z"
   },
   {
    "duration": 15,
    "start_time": "2021-07-16T07:44:39.522Z"
   },
   {
    "duration": 8,
    "start_time": "2021-07-16T07:44:41.018Z"
   },
   {
    "duration": 4,
    "start_time": "2021-07-16T07:44:41.435Z"
   },
   {
    "duration": 604,
    "start_time": "2021-07-16T07:44:41.658Z"
   },
   {
    "duration": 3,
    "start_time": "2021-07-16T07:44:42.265Z"
   },
   {
    "duration": 4,
    "start_time": "2021-07-16T07:44:42.395Z"
   },
   {
    "duration": 10,
    "start_time": "2021-07-16T07:44:45.010Z"
   },
   {
    "duration": 4,
    "start_time": "2021-07-16T07:44:47.050Z"
   },
   {
    "duration": 6,
    "start_time": "2021-07-16T07:44:47.802Z"
   },
   {
    "duration": 283,
    "start_time": "2021-07-16T07:44:48.587Z"
   },
   {
    "duration": 7,
    "start_time": "2021-07-16T07:45:10.932Z"
   },
   {
    "duration": 7,
    "start_time": "2021-07-16T07:45:39.451Z"
   },
   {
    "duration": 6,
    "start_time": "2021-07-16T07:52:01.323Z"
   },
   {
    "duration": 7,
    "start_time": "2021-07-16T07:59:14.379Z"
   },
   {
    "duration": 7,
    "start_time": "2021-07-16T08:05:34.660Z"
   },
   {
    "duration": 7,
    "start_time": "2021-07-16T08:05:36.898Z"
   },
   {
    "duration": 7,
    "start_time": "2021-07-16T08:05:48.017Z"
   },
   {
    "duration": 4,
    "start_time": "2021-07-16T08:05:53.474Z"
   },
   {
    "duration": 8,
    "start_time": "2021-07-16T08:07:56.336Z"
   },
   {
    "duration": 8,
    "start_time": "2021-07-16T08:08:16.478Z"
   },
   {
    "duration": 7,
    "start_time": "2021-07-16T08:09:39.078Z"
   },
   {
    "duration": 7,
    "start_time": "2021-07-16T08:10:46.251Z"
   },
   {
    "duration": 8,
    "start_time": "2021-07-16T08:10:47.156Z"
   },
   {
    "duration": 8,
    "start_time": "2021-07-16T08:11:30.809Z"
   },
   {
    "duration": 8,
    "start_time": "2021-07-16T08:11:31.659Z"
   },
   {
    "duration": 7,
    "start_time": "2021-07-16T08:20:54.353Z"
   },
   {
    "duration": 93,
    "start_time": "2021-07-16T08:25:31.468Z"
   },
   {
    "duration": 88,
    "start_time": "2021-07-16T08:25:38.090Z"
   },
   {
    "duration": 86,
    "start_time": "2021-07-16T08:25:51.000Z"
   },
   {
    "duration": 96,
    "start_time": "2021-07-16T08:25:54.056Z"
   },
   {
    "duration": 4,
    "start_time": "2021-07-16T08:25:58.816Z"
   },
   {
    "duration": 4,
    "start_time": "2021-07-16T08:26:13.472Z"
   },
   {
    "duration": 3,
    "start_time": "2021-07-16T08:26:30.664Z"
   },
   {
    "duration": 4,
    "start_time": "2021-07-16T08:26:31.593Z"
   },
   {
    "duration": 3,
    "start_time": "2021-07-16T08:27:09.433Z"
   },
   {
    "duration": 3,
    "start_time": "2021-07-16T08:27:10.103Z"
   },
   {
    "duration": 3,
    "start_time": "2021-07-16T08:27:42.134Z"
   },
   {
    "duration": 3,
    "start_time": "2021-07-16T08:27:43.191Z"
   },
   {
    "duration": 4,
    "start_time": "2021-07-16T08:27:49.335Z"
   },
   {
    "duration": 4,
    "start_time": "2021-07-16T08:27:54.216Z"
   },
   {
    "duration": 3,
    "start_time": "2021-07-16T08:27:58.271Z"
   },
   {
    "duration": 3,
    "start_time": "2021-07-16T08:28:02.422Z"
   },
   {
    "duration": 3,
    "start_time": "2021-07-16T08:28:23.262Z"
   },
   {
    "duration": 9,
    "start_time": "2021-07-16T08:28:24.791Z"
   },
   {
    "duration": 3,
    "start_time": "2021-07-16T08:28:27.235Z"
   },
   {
    "duration": 7,
    "start_time": "2021-07-16T08:28:29.558Z"
   },
   {
    "duration": 12,
    "start_time": "2021-07-16T08:28:30.448Z"
   },
   {
    "duration": 644,
    "start_time": "2021-07-16T08:28:48.227Z"
   },
   {
    "duration": 50,
    "start_time": "2021-07-16T08:28:48.873Z"
   },
   {
    "duration": 21,
    "start_time": "2021-07-16T08:28:48.926Z"
   },
   {
    "duration": 16,
    "start_time": "2021-07-16T08:28:48.949Z"
   },
   {
    "duration": 15,
    "start_time": "2021-07-16T08:28:48.967Z"
   },
   {
    "duration": 21,
    "start_time": "2021-07-16T08:28:48.984Z"
   },
   {
    "duration": 40,
    "start_time": "2021-07-16T08:28:49.006Z"
   },
   {
    "duration": 12,
    "start_time": "2021-07-16T08:28:49.049Z"
   },
   {
    "duration": 3,
    "start_time": "2021-07-16T08:28:49.064Z"
   },
   {
    "duration": 5,
    "start_time": "2021-07-16T08:28:49.069Z"
   },
   {
    "duration": 23,
    "start_time": "2021-07-16T08:28:49.076Z"
   },
   {
    "duration": 13,
    "start_time": "2021-07-16T08:28:49.101Z"
   },
   {
    "duration": 26,
    "start_time": "2021-07-16T08:28:49.116Z"
   },
   {
    "duration": 14,
    "start_time": "2021-07-16T08:28:49.144Z"
   },
   {
    "duration": 28,
    "start_time": "2021-07-16T08:28:49.160Z"
   },
   {
    "duration": 22,
    "start_time": "2021-07-16T08:28:49.190Z"
   },
   {
    "duration": 4,
    "start_time": "2021-07-16T08:28:49.214Z"
   },
   {
    "duration": 30,
    "start_time": "2021-07-16T08:28:49.220Z"
   },
   {
    "duration": 30,
    "start_time": "2021-07-16T08:28:49.252Z"
   },
   {
    "duration": 9,
    "start_time": "2021-07-16T08:28:49.284Z"
   },
   {
    "duration": 25,
    "start_time": "2021-07-16T08:28:49.295Z"
   },
   {
    "duration": 13,
    "start_time": "2021-07-16T08:28:49.321Z"
   },
   {
    "duration": 16,
    "start_time": "2021-07-16T08:28:49.338Z"
   },
   {
    "duration": 17,
    "start_time": "2021-07-16T08:28:49.356Z"
   },
   {
    "duration": 17,
    "start_time": "2021-07-16T08:28:49.375Z"
   },
   {
    "duration": 32,
    "start_time": "2021-07-16T08:28:49.394Z"
   },
   {
    "duration": 17,
    "start_time": "2021-07-16T08:28:49.428Z"
   },
   {
    "duration": 4,
    "start_time": "2021-07-16T08:28:49.448Z"
   },
   {
    "duration": 905,
    "start_time": "2021-07-16T08:28:49.454Z"
   },
   {
    "duration": 4,
    "start_time": "2021-07-16T08:28:50.361Z"
   },
   {
    "duration": 16,
    "start_time": "2021-07-16T08:28:50.366Z"
   },
   {
    "duration": 14,
    "start_time": "2021-07-16T08:28:50.384Z"
   },
   {
    "duration": 8,
    "start_time": "2021-07-16T08:28:50.400Z"
   },
   {
    "duration": 7,
    "start_time": "2021-07-16T08:28:50.410Z"
   },
   {
    "duration": 28,
    "start_time": "2021-07-16T08:28:50.419Z"
   },
   {
    "duration": 12,
    "start_time": "2021-07-16T08:28:50.449Z"
   },
   {
    "duration": 11,
    "start_time": "2021-07-16T08:28:50.463Z"
   },
   {
    "duration": 16,
    "start_time": "2021-07-16T08:28:50.476Z"
   },
   {
    "duration": 13,
    "start_time": "2021-07-16T08:28:50.494Z"
   },
   {
    "duration": 25,
    "start_time": "2021-07-16T08:28:50.509Z"
   },
   {
    "duration": 27,
    "start_time": "2021-07-16T08:28:50.536Z"
   },
   {
    "duration": 21,
    "start_time": "2021-07-16T08:28:50.565Z"
   },
   {
    "duration": 9,
    "start_time": "2021-07-16T08:28:50.588Z"
   },
   {
    "duration": 29,
    "start_time": "2021-07-16T08:28:50.599Z"
   },
   {
    "duration": 7,
    "start_time": "2021-07-16T08:28:50.630Z"
   },
   {
    "duration": 18,
    "start_time": "2021-07-16T08:28:50.639Z"
   },
   {
    "duration": 27,
    "start_time": "2021-07-16T08:28:50.659Z"
   },
   {
    "duration": 8,
    "start_time": "2021-07-16T08:28:50.688Z"
   },
   {
    "duration": 12,
    "start_time": "2021-07-16T08:28:50.698Z"
   },
   {
    "duration": 27,
    "start_time": "2021-07-16T08:30:16.183Z"
   },
   {
    "duration": 21,
    "start_time": "2021-07-16T08:31:08.361Z"
   },
   {
    "duration": 7,
    "start_time": "2021-07-16T08:31:24.031Z"
   },
   {
    "duration": 9,
    "start_time": "2021-07-16T08:31:35.493Z"
   },
   {
    "duration": 16,
    "start_time": "2021-07-16T08:33:10.145Z"
   },
   {
    "duration": 7,
    "start_time": "2021-07-16T08:33:10.780Z"
   },
   {
    "duration": 9,
    "start_time": "2021-07-16T08:33:11.636Z"
   },
   {
    "duration": 17,
    "start_time": "2021-07-16T08:33:20.986Z"
   },
   {
    "duration": 8,
    "start_time": "2021-07-16T08:33:21.811Z"
   },
   {
    "duration": 8,
    "start_time": "2021-07-16T08:33:22.599Z"
   },
   {
    "duration": 25,
    "start_time": "2021-07-16T08:42:24.945Z"
   },
   {
    "duration": 332,
    "start_time": "2021-07-16T09:06:06.953Z"
   },
   {
    "duration": 2,
    "start_time": "2021-07-16T09:06:07.677Z"
   },
   {
    "duration": 5,
    "start_time": "2021-07-16T09:06:26.588Z"
   },
   {
    "duration": 6,
    "start_time": "2021-07-16T09:06:33.826Z"
   },
   {
    "duration": 3,
    "start_time": "2021-07-16T09:06:34.458Z"
   },
   {
    "duration": 4,
    "start_time": "2021-07-16T09:06:35.299Z"
   },
   {
    "duration": 5,
    "start_time": "2021-07-16T09:41:09.291Z"
   },
   {
    "duration": 1898,
    "start_time": "2021-07-16T09:41:12.663Z"
   },
   {
    "duration": 2,
    "start_time": "2021-07-16T09:41:21.383Z"
   },
   {
    "duration": 14,
    "start_time": "2021-07-16T09:41:22.504Z"
   },
   {
    "duration": 664,
    "start_time": "2021-07-16T09:41:40.706Z"
   },
   {
    "duration": 13,
    "start_time": "2021-07-16T09:41:47.088Z"
   },
   {
    "duration": 289,
    "start_time": "2021-07-16T09:43:42.741Z"
   },
   {
    "duration": 3,
    "start_time": "2021-07-16T09:44:46.699Z"
   },
   {
    "duration": 5,
    "start_time": "2021-07-16T09:44:50.129Z"
   },
   {
    "duration": 2480,
    "start_time": "2021-07-16T09:44:51.210Z"
   },
   {
    "duration": 3,
    "start_time": "2021-07-16T09:44:53.692Z"
   },
   {
    "duration": 18,
    "start_time": "2021-07-16T09:44:53.697Z"
   },
   {
    "duration": 20,
    "start_time": "2021-07-16T09:44:57.594Z"
   },
   {
    "duration": 2,
    "start_time": "2021-07-16T10:42:48.893Z"
   },
   {
    "duration": 2,
    "start_time": "2021-07-16T10:43:00.756Z"
   },
   {
    "duration": 302,
    "start_time": "2021-07-16T10:43:01.346Z"
   },
   {
    "duration": 86,
    "start_time": "2021-07-16T10:45:41.832Z"
   },
   {
    "duration": 2527,
    "start_time": "2021-07-16T10:46:00.551Z"
   },
   {
    "duration": 2693,
    "start_time": "2021-07-16T10:46:12.119Z"
   },
   {
    "duration": 5,
    "start_time": "2021-07-16T10:46:23.933Z"
   },
   {
    "duration": 82,
    "start_time": "2021-07-16T10:47:00.926Z"
   },
   {
    "duration": 5,
    "start_time": "2021-07-16T10:47:01.957Z"
   },
   {
    "duration": 3,
    "start_time": "2021-07-16T10:50:11.945Z"
   },
   {
    "duration": 2,
    "start_time": "2021-07-16T10:50:12.625Z"
   },
   {
    "duration": 2,
    "start_time": "2021-07-16T10:50:28.713Z"
   },
   {
    "duration": 5,
    "start_time": "2021-07-16T10:50:29.689Z"
   },
   {
    "duration": 2,
    "start_time": "2021-07-16T10:50:31.362Z"
   },
   {
    "duration": 291,
    "start_time": "2021-07-16T10:50:33.169Z"
   },
   {
    "duration": 3,
    "start_time": "2021-07-16T10:53:14.310Z"
   },
   {
    "duration": 3,
    "start_time": "2021-07-16T10:53:15.052Z"
   },
   {
    "duration": 299,
    "start_time": "2021-07-16T10:53:16.086Z"
   },
   {
    "duration": 3,
    "start_time": "2021-07-16T10:53:34.173Z"
   },
   {
    "duration": 5,
    "start_time": "2021-07-16T10:53:34.939Z"
   },
   {
    "duration": 2562,
    "start_time": "2021-07-16T10:53:42.893Z"
   },
   {
    "duration": 3,
    "start_time": "2021-07-16T10:53:46.028Z"
   },
   {
    "duration": 17,
    "start_time": "2021-07-16T10:53:47.004Z"
   },
   {
    "duration": 18,
    "start_time": "2021-07-16T11:00:09.932Z"
   },
   {
    "duration": 2,
    "start_time": "2021-07-16T11:02:19.781Z"
   },
   {
    "duration": 23,
    "start_time": "2021-07-16T11:02:35.580Z"
   },
   {
    "duration": 270,
    "start_time": "2021-07-16T11:02:54.185Z"
   },
   {
    "duration": 290,
    "start_time": "2021-07-16T11:03:00.841Z"
   },
   {
    "duration": 22,
    "start_time": "2021-07-16T11:03:10.921Z"
   },
   {
    "duration": 15,
    "start_time": "2021-07-16T11:25:26.896Z"
   },
   {
    "duration": 7,
    "start_time": "2021-07-16T11:25:27.599Z"
   },
   {
    "duration": 8,
    "start_time": "2021-07-16T11:25:28.294Z"
   },
   {
    "duration": 31,
    "start_time": "2021-07-16T11:26:49.322Z"
   },
   {
    "duration": 5,
    "start_time": "2021-07-16T11:26:49.994Z"
   },
   {
    "duration": 2490,
    "start_time": "2021-07-16T11:26:50.642Z"
   },
   {
    "duration": 6,
    "start_time": "2021-07-16T11:26:53.134Z"
   },
   {
    "duration": 24,
    "start_time": "2021-07-16T11:26:53.143Z"
   },
   {
    "duration": 3,
    "start_time": "2021-07-16T11:26:56.889Z"
   },
   {
    "duration": 19,
    "start_time": "2021-07-16T11:35:35.545Z"
   },
   {
    "duration": 91,
    "start_time": "2021-07-16T11:39:18.669Z"
   },
   {
    "duration": 3,
    "start_time": "2021-07-16T11:40:14.866Z"
   },
   {
    "duration": 269,
    "start_time": "2021-07-16T11:44:57.829Z"
   },
   {
    "duration": 28,
    "start_time": "2021-07-16T11:45:07.195Z"
   },
   {
    "duration": 3,
    "start_time": "2021-07-16T11:45:38.579Z"
   },
   {
    "duration": 515,
    "start_time": "2021-07-16T11:47:58.176Z"
   },
   {
    "duration": 442,
    "start_time": "2021-07-16T11:48:07.406Z"
   },
   {
    "duration": 482,
    "start_time": "2021-07-16T11:48:16.583Z"
   },
   {
    "duration": 4,
    "start_time": "2021-07-16T11:50:04.501Z"
   },
   {
    "duration": 575,
    "start_time": "2021-07-16T11:50:05.310Z"
   },
   {
    "duration": 295,
    "start_time": "2021-07-16T11:51:07.267Z"
   },
   {
    "duration": 14,
    "start_time": "2021-07-16T11:52:18.954Z"
   },
   {
    "duration": 2,
    "start_time": "2021-07-16T11:52:35.628Z"
   },
   {
    "duration": 292,
    "start_time": "2021-07-16T11:52:38.217Z"
   },
   {
    "duration": 284,
    "start_time": "2021-07-16T11:53:09.970Z"
   },
   {
    "duration": 264,
    "start_time": "2021-07-16T11:53:16.216Z"
   },
   {
    "duration": 3,
    "start_time": "2021-07-16T11:53:40.337Z"
   },
   {
    "duration": 5,
    "start_time": "2021-07-16T11:53:41.664Z"
   },
   {
    "duration": 2707,
    "start_time": "2021-07-16T11:53:42.944Z"
   },
   {
    "duration": 3,
    "start_time": "2021-07-16T11:53:45.653Z"
   },
   {
    "duration": 67,
    "start_time": "2021-07-16T11:53:45.657Z"
   },
   {
    "duration": 557,
    "start_time": "2021-07-16T11:54:16.879Z"
   },
   {
    "duration": 48,
    "start_time": "2021-07-16T11:54:17.438Z"
   },
   {
    "duration": 18,
    "start_time": "2021-07-16T11:54:17.489Z"
   },
   {
    "duration": 11,
    "start_time": "2021-07-16T11:54:17.509Z"
   },
   {
    "duration": 23,
    "start_time": "2021-07-16T11:54:17.522Z"
   },
   {
    "duration": 16,
    "start_time": "2021-07-16T11:54:17.547Z"
   },
   {
    "duration": 12,
    "start_time": "2021-07-16T11:54:17.565Z"
   },
   {
    "duration": 10,
    "start_time": "2021-07-16T11:54:17.580Z"
   },
   {
    "duration": 3,
    "start_time": "2021-07-16T11:54:17.592Z"
   },
   {
    "duration": 6,
    "start_time": "2021-07-16T11:54:17.596Z"
   },
   {
    "duration": 42,
    "start_time": "2021-07-16T11:54:17.604Z"
   },
   {
    "duration": 6,
    "start_time": "2021-07-16T11:54:17.647Z"
   },
   {
    "duration": 11,
    "start_time": "2021-07-16T11:54:17.654Z"
   },
   {
    "duration": 10,
    "start_time": "2021-07-16T11:54:17.667Z"
   },
   {
    "duration": 19,
    "start_time": "2021-07-16T11:54:17.679Z"
   },
   {
    "duration": 16,
    "start_time": "2021-07-16T11:54:17.699Z"
   },
   {
    "duration": 5,
    "start_time": "2021-07-16T11:54:17.740Z"
   },
   {
    "duration": 8,
    "start_time": "2021-07-16T11:54:17.747Z"
   },
   {
    "duration": 4,
    "start_time": "2021-07-16T11:54:17.757Z"
   },
   {
    "duration": 9,
    "start_time": "2021-07-16T11:54:17.762Z"
   },
   {
    "duration": 4,
    "start_time": "2021-07-16T11:54:17.772Z"
   },
   {
    "duration": 8,
    "start_time": "2021-07-16T11:54:17.778Z"
   },
   {
    "duration": 9,
    "start_time": "2021-07-16T11:54:17.789Z"
   },
   {
    "duration": 4,
    "start_time": "2021-07-16T11:54:17.800Z"
   },
   {
    "duration": 36,
    "start_time": "2021-07-16T11:54:17.806Z"
   },
   {
    "duration": 18,
    "start_time": "2021-07-16T11:54:17.844Z"
   },
   {
    "duration": 4,
    "start_time": "2021-07-16T11:54:17.863Z"
   },
   {
    "duration": 6,
    "start_time": "2021-07-16T11:54:17.869Z"
   },
   {
    "duration": 2382,
    "start_time": "2021-07-16T11:54:17.877Z"
   },
   {
    "duration": 3,
    "start_time": "2021-07-16T11:54:20.261Z"
   },
   {
    "duration": 66,
    "start_time": "2021-07-16T11:54:20.266Z"
   },
   {
    "duration": 13,
    "start_time": "2021-07-16T11:54:20.333Z"
   },
   {
    "duration": 12,
    "start_time": "2021-07-16T11:54:20.348Z"
   },
   {
    "duration": 11,
    "start_time": "2021-07-16T11:54:20.361Z"
   },
   {
    "duration": 13,
    "start_time": "2021-07-16T11:54:20.374Z"
   },
   {
    "duration": 7,
    "start_time": "2021-07-16T11:54:20.388Z"
   },
   {
    "duration": 9,
    "start_time": "2021-07-16T11:54:20.396Z"
   },
   {
    "duration": 17,
    "start_time": "2021-07-16T11:54:20.407Z"
   },
   {
    "duration": 9,
    "start_time": "2021-07-16T11:54:20.425Z"
   },
   {
    "duration": 13,
    "start_time": "2021-07-16T11:54:20.441Z"
   },
   {
    "duration": 19,
    "start_time": "2021-07-16T11:54:20.455Z"
   },
   {
    "duration": 27,
    "start_time": "2021-07-16T11:54:20.475Z"
   },
   {
    "duration": 12,
    "start_time": "2021-07-16T11:54:20.503Z"
   },
   {
    "duration": 10,
    "start_time": "2021-07-16T11:54:20.517Z"
   },
   {
    "duration": 27,
    "start_time": "2021-07-16T11:54:20.529Z"
   },
   {
    "duration": 7,
    "start_time": "2021-07-16T11:54:20.558Z"
   },
   {
    "duration": 23,
    "start_time": "2021-07-16T11:54:20.567Z"
   },
   {
    "duration": 28,
    "start_time": "2021-07-16T11:54:20.592Z"
   },
   {
    "duration": 9,
    "start_time": "2021-07-16T11:54:20.622Z"
   },
   {
    "duration": 8,
    "start_time": "2021-07-16T11:54:20.641Z"
   },
   {
    "duration": 382,
    "start_time": "2021-07-16T11:54:20.651Z"
   },
   {
    "duration": -914,
    "start_time": "2021-07-16T11:54:21.949Z"
   },
   {
    "duration": -917,
    "start_time": "2021-07-16T11:54:21.954Z"
   },
   {
    "duration": 31,
    "start_time": "2021-07-16T11:55:04.841Z"
   },
   {
    "duration": 8,
    "start_time": "2021-07-16T11:55:05.608Z"
   },
   {
    "duration": 2491,
    "start_time": "2021-07-16T11:55:06.254Z"
   },
   {
    "duration": 3,
    "start_time": "2021-07-16T11:55:08.747Z"
   },
   {
    "duration": 18,
    "start_time": "2021-07-16T11:55:08.752Z"
   },
   {
    "duration": 4,
    "start_time": "2021-07-16T12:03:00.214Z"
   },
   {
    "duration": 18,
    "start_time": "2021-07-16T12:09:59.664Z"
   },
   {
    "duration": 304,
    "start_time": "2021-07-16T12:10:28.270Z"
   },
   {
    "duration": 6475,
    "start_time": "2021-07-16T12:10:45.818Z"
   },
   {
    "duration": 5,
    "start_time": "2021-07-16T12:11:04.285Z"
   },
   {
    "duration": 15,
    "start_time": "2021-07-16T12:16:13.417Z"
   },
   {
    "duration": 8,
    "start_time": "2021-07-16T12:16:16.291Z"
   },
   {
    "duration": 259,
    "start_time": "2021-07-16T12:16:49.550Z"
   },
   {
    "duration": 20,
    "start_time": "2021-07-16T12:17:04.220Z"
   },
   {
    "duration": 3,
    "start_time": "2021-07-16T12:20:56.993Z"
   },
   {
    "duration": 3,
    "start_time": "2021-07-16T12:25:18.525Z"
   },
   {
    "duration": 6,
    "start_time": "2021-07-16T12:26:40.425Z"
   },
   {
    "duration": 4,
    "start_time": "2021-07-16T12:26:45.664Z"
   },
   {
    "duration": 3,
    "start_time": "2021-07-16T12:26:47.074Z"
   },
   {
    "duration": 8,
    "start_time": "2021-07-16T12:26:51.336Z"
   },
   {
    "duration": 19,
    "start_time": "2021-07-16T12:26:52.754Z"
   },
   {
    "duration": 9,
    "start_time": "2021-07-16T12:27:15.856Z"
   },
   {
    "duration": 13,
    "start_time": "2021-07-16T12:27:16.748Z"
   },
   {
    "duration": 7,
    "start_time": "2021-07-16T12:32:37.427Z"
   },
   {
    "duration": 5,
    "start_time": "2021-07-16T12:33:02.426Z"
   },
   {
    "duration": 4,
    "start_time": "2021-07-16T12:33:21.178Z"
   },
   {
    "duration": 9,
    "start_time": "2021-07-16T12:33:22.569Z"
   },
   {
    "duration": 13,
    "start_time": "2021-07-16T12:33:24.027Z"
   },
   {
    "duration": 6,
    "start_time": "2021-07-16T12:33:27.816Z"
   },
   {
    "duration": 5,
    "start_time": "2021-07-16T12:34:11.003Z"
   },
   {
    "duration": 3,
    "start_time": "2021-07-16T12:34:57.369Z"
   },
   {
    "duration": 2,
    "start_time": "2021-07-16T12:35:11.303Z"
   },
   {
    "duration": 7,
    "start_time": "2021-07-16T12:35:20.637Z"
   },
   {
    "duration": 4,
    "start_time": "2021-07-16T12:35:23.821Z"
   },
   {
    "duration": 3,
    "start_time": "2021-07-16T12:36:31.318Z"
   },
   {
    "duration": 3,
    "start_time": "2021-07-16T12:36:35.285Z"
   },
   {
    "duration": 9,
    "start_time": "2021-07-16T12:36:36.412Z"
   },
   {
    "duration": 13,
    "start_time": "2021-07-16T12:36:37.392Z"
   },
   {
    "duration": 5,
    "start_time": "2021-07-16T12:36:40.547Z"
   },
   {
    "duration": 6568,
    "start_time": "2021-07-16T12:36:48.174Z"
   },
   {
    "duration": 6695,
    "start_time": "2021-07-16T12:36:57.894Z"
   },
   {
    "duration": 5,
    "start_time": "2021-07-16T12:37:13.702Z"
   },
   {
    "duration": 3,
    "start_time": "2021-07-16T12:38:34.171Z"
   },
   {
    "duration": 8,
    "start_time": "2021-07-16T12:38:34.962Z"
   },
   {
    "duration": 14,
    "start_time": "2021-07-16T12:38:35.829Z"
   },
   {
    "duration": 5,
    "start_time": "2021-07-16T12:38:42.562Z"
   },
   {
    "duration": 5,
    "start_time": "2021-07-16T12:39:22.105Z"
   },
   {
    "duration": 3,
    "start_time": "2021-07-16T12:40:34.834Z"
   },
   {
    "duration": 4,
    "start_time": "2021-07-16T12:42:09.638Z"
   },
   {
    "duration": 3,
    "start_time": "2021-07-16T12:43:20.834Z"
   },
   {
    "duration": 3,
    "start_time": "2021-07-16T12:43:26.885Z"
   },
   {
    "duration": 8,
    "start_time": "2021-07-16T12:43:27.805Z"
   },
   {
    "duration": 14,
    "start_time": "2021-07-16T12:43:28.743Z"
   },
   {
    "duration": 6,
    "start_time": "2021-07-16T12:43:47.099Z"
   },
   {
    "duration": 3,
    "start_time": "2021-07-16T12:44:52.492Z"
   },
   {
    "duration": 3,
    "start_time": "2021-07-16T12:44:53.259Z"
   },
   {
    "duration": 9,
    "start_time": "2021-07-16T12:44:54.139Z"
   },
   {
    "duration": 12,
    "start_time": "2021-07-16T12:44:55.015Z"
   },
   {
    "duration": 5,
    "start_time": "2021-07-16T12:45:17.099Z"
   },
   {
    "duration": 19,
    "start_time": "2021-07-16T12:46:01.056Z"
   },
   {
    "duration": 9,
    "start_time": "2021-07-16T12:46:01.608Z"
   },
   {
    "duration": 16,
    "start_time": "2021-07-16T12:47:02.671Z"
   },
   {
    "duration": 16,
    "start_time": "2021-07-16T12:47:32.695Z"
   },
   {
    "duration": 7,
    "start_time": "2021-07-16T12:47:33.328Z"
   },
   {
    "duration": 8,
    "start_time": "2021-07-16T12:47:33.880Z"
   },
   {
    "duration": 23,
    "start_time": "2021-07-16T12:48:28.270Z"
   },
   {
    "duration": 7,
    "start_time": "2021-07-16T12:48:28.879Z"
   },
   {
    "duration": 12,
    "start_time": "2021-07-16T12:48:29.463Z"
   },
   {
    "duration": 18,
    "start_time": "2021-07-16T12:48:56.653Z"
   },
   {
    "duration": 8,
    "start_time": "2021-07-16T12:48:57.173Z"
   },
   {
    "duration": 10,
    "start_time": "2021-07-16T12:48:57.821Z"
   },
   {
    "duration": 835,
    "start_time": "2021-07-16T16:43:12.658Z"
   },
   {
    "duration": 63,
    "start_time": "2021-07-16T16:43:13.495Z"
   },
   {
    "duration": 29,
    "start_time": "2021-07-16T16:43:13.561Z"
   },
   {
    "duration": 22,
    "start_time": "2021-07-16T16:43:13.593Z"
   },
   {
    "duration": 21,
    "start_time": "2021-07-16T16:43:13.617Z"
   },
   {
    "duration": 49,
    "start_time": "2021-07-16T16:43:13.640Z"
   },
   {
    "duration": 19,
    "start_time": "2021-07-16T16:43:13.691Z"
   },
   {
    "duration": 15,
    "start_time": "2021-07-16T16:43:13.713Z"
   },
   {
    "duration": 36,
    "start_time": "2021-07-16T16:43:13.731Z"
   },
   {
    "duration": 6,
    "start_time": "2021-07-16T16:43:13.769Z"
   },
   {
    "duration": 25,
    "start_time": "2021-07-16T16:43:13.777Z"
   },
   {
    "duration": 9,
    "start_time": "2021-07-16T16:43:13.804Z"
   },
   {
    "duration": 15,
    "start_time": "2021-07-16T16:43:13.815Z"
   },
   {
    "duration": 45,
    "start_time": "2021-07-16T16:43:13.832Z"
   },
   {
    "duration": 32,
    "start_time": "2021-07-16T16:43:13.880Z"
   },
   {
    "duration": 27,
    "start_time": "2021-07-16T16:43:13.914Z"
   },
   {
    "duration": 26,
    "start_time": "2021-07-16T16:43:13.943Z"
   },
   {
    "duration": 10,
    "start_time": "2021-07-16T16:43:13.972Z"
   },
   {
    "duration": 8,
    "start_time": "2021-07-16T16:43:13.985Z"
   },
   {
    "duration": 27,
    "start_time": "2021-07-16T16:43:13.995Z"
   },
   {
    "duration": 12,
    "start_time": "2021-07-16T16:43:14.026Z"
   },
   {
    "duration": 34,
    "start_time": "2021-07-16T16:43:14.040Z"
   },
   {
    "duration": 21,
    "start_time": "2021-07-16T16:43:14.081Z"
   },
   {
    "duration": 10,
    "start_time": "2021-07-16T16:43:14.107Z"
   },
   {
    "duration": 17,
    "start_time": "2021-07-16T16:43:14.120Z"
   },
   {
    "duration": 43,
    "start_time": "2021-07-16T16:43:14.140Z"
   },
   {
    "duration": 6,
    "start_time": "2021-07-16T16:43:14.185Z"
   },
   {
    "duration": 16,
    "start_time": "2021-07-16T16:43:14.193Z"
   },
   {
    "duration": 3756,
    "start_time": "2021-07-16T16:43:14.211Z"
   },
   {
    "duration": 3,
    "start_time": "2021-07-16T16:43:17.969Z"
   },
   {
    "duration": 31,
    "start_time": "2021-07-16T16:43:17.975Z"
   },
   {
    "duration": 6,
    "start_time": "2021-07-16T16:43:18.008Z"
   },
   {
    "duration": 23,
    "start_time": "2021-07-16T16:43:18.016Z"
   },
   {
    "duration": 32,
    "start_time": "2021-07-16T16:43:18.041Z"
   },
   {
    "duration": 10,
    "start_time": "2021-07-16T16:43:18.075Z"
   },
   {
    "duration": 13,
    "start_time": "2021-07-16T16:43:18.088Z"
   },
   {
    "duration": 4,
    "start_time": "2021-07-16T16:43:18.103Z"
   },
   {
    "duration": 17,
    "start_time": "2021-07-16T16:43:18.109Z"
   },
   {
    "duration": 40,
    "start_time": "2021-07-16T16:43:18.128Z"
   },
   {
    "duration": 13,
    "start_time": "2021-07-16T16:43:18.171Z"
   },
   {
    "duration": 5,
    "start_time": "2021-07-16T16:43:18.187Z"
   },
   {
    "duration": 5,
    "start_time": "2021-07-16T16:43:18.195Z"
   },
   {
    "duration": 16,
    "start_time": "2021-07-16T16:43:18.202Z"
   },
   {
    "duration": 60,
    "start_time": "2021-07-16T16:43:18.220Z"
   },
   {
    "duration": 33,
    "start_time": "2021-07-16T16:43:18.283Z"
   },
   {
    "duration": 18,
    "start_time": "2021-07-16T16:43:18.318Z"
   },
   {
    "duration": 38,
    "start_time": "2021-07-16T16:43:18.339Z"
   },
   {
    "duration": 30,
    "start_time": "2021-07-16T16:43:18.380Z"
   },
   {
    "duration": 11,
    "start_time": "2021-07-16T16:43:18.413Z"
   },
   {
    "duration": 50,
    "start_time": "2021-07-16T16:43:18.426Z"
   },
   {
    "duration": 30,
    "start_time": "2021-07-16T16:43:18.478Z"
   },
   {
    "duration": 10,
    "start_time": "2021-07-16T16:43:18.511Z"
   },
   {
    "duration": 14,
    "start_time": "2021-07-16T16:43:18.523Z"
   },
   {
    "duration": 52,
    "start_time": "2021-07-16T16:43:18.540Z"
   },
   {
    "duration": 10,
    "start_time": "2021-07-16T16:43:18.594Z"
   },
   {
    "duration": 17,
    "start_time": "2021-07-16T16:43:18.606Z"
   },
   {
    "duration": 817,
    "start_time": "2021-07-16T16:54:25.354Z"
   },
   {
    "duration": 64,
    "start_time": "2021-07-16T16:54:26.174Z"
   },
   {
    "duration": 31,
    "start_time": "2021-07-16T16:54:26.241Z"
   },
   {
    "duration": 19,
    "start_time": "2021-07-16T16:54:26.275Z"
   },
   {
    "duration": 16,
    "start_time": "2021-07-16T16:54:26.296Z"
   },
   {
    "duration": 58,
    "start_time": "2021-07-16T16:54:26.314Z"
   },
   {
    "duration": 16,
    "start_time": "2021-07-16T16:54:26.374Z"
   },
   {
    "duration": 14,
    "start_time": "2021-07-16T16:54:26.394Z"
   },
   {
    "duration": 7,
    "start_time": "2021-07-16T16:54:26.411Z"
   },
   {
    "duration": 9,
    "start_time": "2021-07-16T16:54:26.420Z"
   },
   {
    "duration": 56,
    "start_time": "2021-07-16T16:54:26.431Z"
   },
   {
    "duration": 6,
    "start_time": "2021-07-16T16:54:26.489Z"
   },
   {
    "duration": 14,
    "start_time": "2021-07-16T16:54:26.498Z"
   },
   {
    "duration": 54,
    "start_time": "2021-07-16T16:54:26.515Z"
   },
   {
    "duration": 24,
    "start_time": "2021-07-16T16:54:26.571Z"
   },
   {
    "duration": 26,
    "start_time": "2021-07-16T16:54:26.597Z"
   },
   {
    "duration": 5,
    "start_time": "2021-07-16T16:54:26.626Z"
   },
   {
    "duration": 38,
    "start_time": "2021-07-16T16:54:26.634Z"
   },
   {
    "duration": 12,
    "start_time": "2021-07-16T16:54:26.675Z"
   },
   {
    "duration": 10,
    "start_time": "2021-07-16T16:54:26.689Z"
   },
   {
    "duration": 5,
    "start_time": "2021-07-16T16:54:26.702Z"
   },
   {
    "duration": 6,
    "start_time": "2021-07-16T16:54:26.710Z"
   },
   {
    "duration": 7,
    "start_time": "2021-07-16T16:54:26.766Z"
   },
   {
    "duration": 6,
    "start_time": "2021-07-16T16:54:26.777Z"
   },
   {
    "duration": 10,
    "start_time": "2021-07-16T16:54:26.785Z"
   },
   {
    "duration": 26,
    "start_time": "2021-07-16T16:54:26.798Z"
   },
   {
    "duration": 42,
    "start_time": "2021-07-16T16:54:26.826Z"
   },
   {
    "duration": 13,
    "start_time": "2021-07-16T16:54:26.871Z"
   },
   {
    "duration": 5003,
    "start_time": "2021-07-16T16:54:26.886Z"
   },
   {
    "duration": 3,
    "start_time": "2021-07-16T16:54:31.891Z"
   },
   {
    "duration": 34,
    "start_time": "2021-07-16T16:54:31.896Z"
   },
   {
    "duration": 17,
    "start_time": "2021-07-16T16:54:31.932Z"
   },
   {
    "duration": 19,
    "start_time": "2021-07-16T16:54:31.951Z"
   },
   {
    "duration": 16,
    "start_time": "2021-07-16T16:54:31.973Z"
   },
   {
    "duration": 18,
    "start_time": "2021-07-16T16:54:31.991Z"
   },
   {
    "duration": 15,
    "start_time": "2021-07-16T16:54:32.011Z"
   },
   {
    "duration": 9,
    "start_time": "2021-07-16T16:54:32.029Z"
   },
   {
    "duration": 47,
    "start_time": "2021-07-16T16:54:32.041Z"
   },
   {
    "duration": 11,
    "start_time": "2021-07-16T16:54:32.091Z"
   },
   {
    "duration": 24,
    "start_time": "2021-07-16T16:54:32.105Z"
   },
   {
    "duration": 23,
    "start_time": "2021-07-16T16:54:32.132Z"
   },
   {
    "duration": 14,
    "start_time": "2021-07-16T16:54:32.158Z"
   },
   {
    "duration": 25,
    "start_time": "2021-07-16T16:54:32.174Z"
   },
   {
    "duration": 28,
    "start_time": "2021-07-16T16:54:32.202Z"
   },
   {
    "duration": 42,
    "start_time": "2021-07-16T16:54:32.233Z"
   },
   {
    "duration": 17,
    "start_time": "2021-07-16T16:54:32.278Z"
   },
   {
    "duration": 24,
    "start_time": "2021-07-16T16:54:32.298Z"
   },
   {
    "duration": 43,
    "start_time": "2021-07-16T16:54:32.324Z"
   },
   {
    "duration": 10,
    "start_time": "2021-07-16T16:54:32.370Z"
   },
   {
    "duration": 16,
    "start_time": "2021-07-16T16:54:32.383Z"
   },
   {
    "duration": 37,
    "start_time": "2021-07-16T16:54:32.401Z"
   },
   {
    "duration": 10,
    "start_time": "2021-07-16T16:54:32.440Z"
   },
   {
    "duration": 22,
    "start_time": "2021-07-16T16:54:32.468Z"
   },
   {
    "duration": 39,
    "start_time": "2021-07-16T16:54:32.492Z"
   },
   {
    "duration": 10,
    "start_time": "2021-07-16T16:54:32.534Z"
   },
   {
    "duration": 28,
    "start_time": "2021-07-16T16:54:32.547Z"
   },
   {
    "duration": 847,
    "start_time": "2021-07-16T16:56:29.232Z"
   },
   {
    "duration": 69,
    "start_time": "2021-07-16T16:56:30.082Z"
   },
   {
    "duration": 32,
    "start_time": "2021-07-16T16:56:30.155Z"
   },
   {
    "duration": 35,
    "start_time": "2021-07-16T16:56:30.190Z"
   },
   {
    "duration": 31,
    "start_time": "2021-07-16T16:56:30.227Z"
   },
   {
    "duration": 31,
    "start_time": "2021-07-16T16:56:30.260Z"
   },
   {
    "duration": 24,
    "start_time": "2021-07-16T16:56:30.294Z"
   },
   {
    "duration": 17,
    "start_time": "2021-07-16T16:56:30.322Z"
   },
   {
    "duration": 25,
    "start_time": "2021-07-16T16:56:30.342Z"
   },
   {
    "duration": 25,
    "start_time": "2021-07-16T16:56:30.370Z"
   },
   {
    "duration": 26,
    "start_time": "2021-07-16T16:56:30.397Z"
   },
   {
    "duration": 12,
    "start_time": "2021-07-16T16:56:30.427Z"
   },
   {
    "duration": 24,
    "start_time": "2021-07-16T16:56:30.442Z"
   },
   {
    "duration": 17,
    "start_time": "2021-07-16T16:56:30.469Z"
   },
   {
    "duration": 30,
    "start_time": "2021-07-16T16:56:30.489Z"
   },
   {
    "duration": 56,
    "start_time": "2021-07-16T16:56:30.522Z"
   },
   {
    "duration": 6,
    "start_time": "2021-07-16T16:56:30.580Z"
   },
   {
    "duration": 30,
    "start_time": "2021-07-16T16:56:30.589Z"
   },
   {
    "duration": 38,
    "start_time": "2021-07-16T16:56:30.622Z"
   },
   {
    "duration": 30,
    "start_time": "2021-07-16T16:56:30.663Z"
   },
   {
    "duration": 20,
    "start_time": "2021-07-16T16:56:30.696Z"
   },
   {
    "duration": 19,
    "start_time": "2021-07-16T16:56:30.719Z"
   },
   {
    "duration": 18,
    "start_time": "2021-07-16T16:56:30.744Z"
   },
   {
    "duration": 11,
    "start_time": "2021-07-16T16:56:30.765Z"
   },
   {
    "duration": 32,
    "start_time": "2021-07-16T16:56:30.778Z"
   },
   {
    "duration": 43,
    "start_time": "2021-07-16T16:56:30.812Z"
   },
   {
    "duration": 9,
    "start_time": "2021-07-16T16:56:30.858Z"
   },
   {
    "duration": 13,
    "start_time": "2021-07-16T16:56:30.870Z"
   },
   {
    "duration": 3701,
    "start_time": "2021-07-16T16:56:30.885Z"
   },
   {
    "duration": 3,
    "start_time": "2021-07-16T16:56:34.589Z"
   },
   {
    "duration": 27,
    "start_time": "2021-07-16T16:56:34.594Z"
   },
   {
    "duration": 4,
    "start_time": "2021-07-16T16:56:34.624Z"
   },
   {
    "duration": 40,
    "start_time": "2021-07-16T16:56:34.631Z"
   },
   {
    "duration": 11,
    "start_time": "2021-07-16T16:56:34.673Z"
   },
   {
    "duration": 11,
    "start_time": "2021-07-16T16:56:34.686Z"
   },
   {
    "duration": 13,
    "start_time": "2021-07-16T16:56:34.699Z"
   },
   {
    "duration": 4,
    "start_time": "2021-07-16T16:56:34.715Z"
   },
   {
    "duration": 13,
    "start_time": "2021-07-16T16:56:34.768Z"
   },
   {
    "duration": 4,
    "start_time": "2021-07-16T16:56:34.783Z"
   },
   {
    "duration": 14,
    "start_time": "2021-07-16T16:56:34.789Z"
   },
   {
    "duration": 9,
    "start_time": "2021-07-16T16:56:34.805Z"
   },
   {
    "duration": 51,
    "start_time": "2021-07-16T16:56:34.816Z"
   },
   {
    "duration": 13,
    "start_time": "2021-07-16T16:56:34.870Z"
   },
   {
    "duration": 29,
    "start_time": "2021-07-16T16:56:34.886Z"
   },
   {
    "duration": 62,
    "start_time": "2021-07-16T16:56:34.917Z"
   },
   {
    "duration": 15,
    "start_time": "2021-07-16T16:56:34.981Z"
   },
   {
    "duration": 11,
    "start_time": "2021-07-16T16:56:34.998Z"
   },
   {
    "duration": 28,
    "start_time": "2021-07-16T16:56:35.012Z"
   },
   {
    "duration": 10,
    "start_time": "2021-07-16T16:56:35.068Z"
   },
   {
    "duration": 15,
    "start_time": "2021-07-16T16:56:35.081Z"
   },
   {
    "duration": 27,
    "start_time": "2021-07-16T16:56:35.098Z"
   },
   {
    "duration": 9,
    "start_time": "2021-07-16T16:56:35.127Z"
   },
   {
    "duration": 39,
    "start_time": "2021-07-16T16:56:35.139Z"
   },
   {
    "duration": 26,
    "start_time": "2021-07-16T16:56:35.180Z"
   },
   {
    "duration": 11,
    "start_time": "2021-07-16T16:56:35.208Z"
   },
   {
    "duration": 48,
    "start_time": "2021-07-16T16:56:35.221Z"
   },
   {
    "duration": 481,
    "start_time": "2021-07-16T17:41:24.669Z"
   },
   {
    "duration": 58,
    "start_time": "2021-07-16T17:41:25.151Z"
   },
   {
    "duration": 17,
    "start_time": "2021-07-16T17:41:25.211Z"
   },
   {
    "duration": 12,
    "start_time": "2021-07-16T17:41:25.229Z"
   },
   {
    "duration": 15,
    "start_time": "2021-07-16T17:41:25.242Z"
   },
   {
    "duration": 13,
    "start_time": "2021-07-16T17:41:25.258Z"
   },
   {
    "duration": 7,
    "start_time": "2021-07-16T17:41:25.291Z"
   },
   {
    "duration": 12,
    "start_time": "2021-07-16T17:41:25.300Z"
   },
   {
    "duration": 3,
    "start_time": "2021-07-16T17:41:25.314Z"
   },
   {
    "duration": 6,
    "start_time": "2021-07-16T17:41:25.319Z"
   },
   {
    "duration": 13,
    "start_time": "2021-07-16T17:41:25.326Z"
   },
   {
    "duration": 4,
    "start_time": "2021-07-16T17:41:25.341Z"
   },
   {
    "duration": 12,
    "start_time": "2021-07-16T17:41:25.347Z"
   },
   {
    "duration": 38,
    "start_time": "2021-07-16T17:41:25.360Z"
   },
   {
    "duration": 15,
    "start_time": "2021-07-16T17:41:25.399Z"
   },
   {
    "duration": 15,
    "start_time": "2021-07-16T17:41:25.416Z"
   },
   {
    "duration": 4,
    "start_time": "2021-07-16T17:41:25.432Z"
   },
   {
    "duration": 7,
    "start_time": "2021-07-16T17:41:25.437Z"
   },
   {
    "duration": 8,
    "start_time": "2021-07-16T17:41:25.446Z"
   },
   {
    "duration": 13,
    "start_time": "2021-07-16T17:41:25.455Z"
   },
   {
    "duration": 8,
    "start_time": "2021-07-16T17:41:25.469Z"
   },
   {
    "duration": 14,
    "start_time": "2021-07-16T17:41:25.478Z"
   },
   {
    "duration": 6,
    "start_time": "2021-07-16T17:41:25.493Z"
   },
   {
    "duration": 7,
    "start_time": "2021-07-16T17:41:25.500Z"
   },
   {
    "duration": 9,
    "start_time": "2021-07-16T17:41:25.509Z"
   },
   {
    "duration": 21,
    "start_time": "2021-07-16T17:41:25.519Z"
   },
   {
    "duration": 4,
    "start_time": "2021-07-16T17:41:25.543Z"
   },
   {
    "duration": 8,
    "start_time": "2021-07-16T17:41:25.548Z"
   },
   {
    "duration": 2416,
    "start_time": "2021-07-16T17:41:25.557Z"
   },
   {
    "duration": 3,
    "start_time": "2021-07-16T17:41:27.975Z"
   },
   {
    "duration": 22,
    "start_time": "2021-07-16T17:41:27.979Z"
   },
   {
    "duration": 4,
    "start_time": "2021-07-16T17:41:28.003Z"
   },
   {
    "duration": 9,
    "start_time": "2021-07-16T17:41:28.008Z"
   },
   {
    "duration": 6,
    "start_time": "2021-07-16T17:41:28.019Z"
   },
   {
    "duration": 6,
    "start_time": "2021-07-16T17:41:28.027Z"
   },
   {
    "duration": 10,
    "start_time": "2021-07-16T17:41:28.034Z"
   },
   {
    "duration": 4,
    "start_time": "2021-07-16T17:41:28.045Z"
   },
   {
    "duration": 41,
    "start_time": "2021-07-16T17:41:28.050Z"
   },
   {
    "duration": 2,
    "start_time": "2021-07-16T17:41:28.093Z"
   },
   {
    "duration": 9,
    "start_time": "2021-07-16T17:41:28.096Z"
   },
   {
    "duration": 8,
    "start_time": "2021-07-16T17:41:28.107Z"
   },
   {
    "duration": 10,
    "start_time": "2021-07-16T17:41:28.116Z"
   },
   {
    "duration": 18,
    "start_time": "2021-07-16T17:41:28.127Z"
   },
   {
    "duration": 16,
    "start_time": "2021-07-16T17:41:28.147Z"
   },
   {
    "duration": 20,
    "start_time": "2021-07-16T17:41:28.164Z"
   },
   {
    "duration": 9,
    "start_time": "2021-07-16T17:41:28.186Z"
   },
   {
    "duration": 11,
    "start_time": "2021-07-16T17:41:28.196Z"
   },
   {
    "duration": 18,
    "start_time": "2021-07-16T17:41:28.208Z"
   },
   {
    "duration": 4,
    "start_time": "2021-07-16T17:41:28.228Z"
   },
   {
    "duration": 10,
    "start_time": "2021-07-16T17:41:28.234Z"
   },
   {
    "duration": 18,
    "start_time": "2021-07-16T17:41:28.246Z"
   },
   {
    "duration": 5,
    "start_time": "2021-07-16T17:41:28.265Z"
   },
   {
    "duration": 22,
    "start_time": "2021-07-16T17:41:28.271Z"
   },
   {
    "duration": 19,
    "start_time": "2021-07-16T17:41:28.295Z"
   },
   {
    "duration": 6,
    "start_time": "2021-07-16T17:41:28.315Z"
   },
   {
    "duration": 11,
    "start_time": "2021-07-16T17:41:28.322Z"
   },
   {
    "duration": 12,
    "start_time": "2021-07-16T17:43:12.360Z"
   },
   {
    "duration": 394,
    "start_time": "2021-07-17T09:18:17.644Z"
   },
   {
    "duration": 343,
    "start_time": "2021-07-17T09:18:35.104Z"
   },
   {
    "duration": 307,
    "start_time": "2021-07-17T09:18:51.014Z"
   },
   {
    "duration": 791,
    "start_time": "2021-07-17T09:25:39.352Z"
   },
   {
    "duration": 66,
    "start_time": "2021-07-17T09:25:42.165Z"
   },
   {
    "duration": 30,
    "start_time": "2021-07-17T09:25:43.392Z"
   },
   {
    "duration": 19,
    "start_time": "2021-07-17T09:25:44.446Z"
   },
   {
    "duration": 46,
    "start_time": "2021-07-17T09:25:48.519Z"
   },
   {
    "duration": 127,
    "start_time": "2021-07-17T09:27:36.985Z"
   },
   {
    "duration": 46,
    "start_time": "2021-07-17T09:27:46.578Z"
   },
   {
    "duration": 45,
    "start_time": "2021-07-17T09:29:14.115Z"
   },
   {
    "duration": 48,
    "start_time": "2021-07-17T09:30:46.662Z"
   },
   {
    "duration": 48,
    "start_time": "2021-07-17T09:31:39.813Z"
   },
   {
    "duration": 47,
    "start_time": "2021-07-17T09:32:26.030Z"
   },
   {
    "duration": 46,
    "start_time": "2021-07-17T09:32:47.341Z"
   },
   {
    "duration": 47,
    "start_time": "2021-07-17T09:35:05.510Z"
   },
   {
    "duration": 4,
    "start_time": "2021-07-17T09:42:30.570Z"
   },
   {
    "duration": 16,
    "start_time": "2021-07-17T09:42:32.286Z"
   },
   {
    "duration": 96,
    "start_time": "2021-07-17T09:45:22.718Z"
   },
   {
    "duration": 98,
    "start_time": "2021-07-17T09:45:28.875Z"
   },
   {
    "duration": 35,
    "start_time": "2021-07-17T09:45:31.602Z"
   },
   {
    "duration": 47,
    "start_time": "2021-07-17T09:45:36.394Z"
   },
   {
    "duration": 10,
    "start_time": "2021-07-17T09:49:43.089Z"
   },
   {
    "duration": 619,
    "start_time": "2021-07-17T13:36:35.027Z"
   },
   {
    "duration": 51,
    "start_time": "2021-07-17T13:36:38.441Z"
   },
   {
    "duration": 17,
    "start_time": "2021-07-17T13:36:39.497Z"
   },
   {
    "duration": 12,
    "start_time": "2021-07-17T13:36:40.616Z"
   },
   {
    "duration": 27,
    "start_time": "2021-07-17T13:36:45.695Z"
   },
   {
    "duration": 10,
    "start_time": "2021-07-17T13:36:49.669Z"
   },
   {
    "duration": 16,
    "start_time": "2021-07-17T13:36:53.960Z"
   },
   {
    "duration": 9,
    "start_time": "2021-07-17T13:40:15.468Z"
   },
   {
    "duration": 11,
    "start_time": "2021-07-17T13:40:17.242Z"
   },
   {
    "duration": 10,
    "start_time": "2021-07-17T13:40:26.923Z"
   },
   {
    "duration": 11,
    "start_time": "2021-07-17T13:40:37.954Z"
   },
   {
    "duration": 8,
    "start_time": "2021-07-17T13:41:23.171Z"
   },
   {
    "duration": 5,
    "start_time": "2021-07-17T13:42:53.208Z"
   },
   {
    "duration": 4,
    "start_time": "2021-07-17T13:42:55.881Z"
   },
   {
    "duration": 5,
    "start_time": "2021-07-17T13:48:31.833Z"
   },
   {
    "duration": 4,
    "start_time": "2021-07-17T13:48:32.455Z"
   },
   {
    "duration": 6,
    "start_time": "2021-07-17T13:53:34.971Z"
   },
   {
    "duration": 5,
    "start_time": "2021-07-17T13:53:35.539Z"
   },
   {
    "duration": 9,
    "start_time": "2021-07-17T13:56:51.471Z"
   },
   {
    "duration": 10,
    "start_time": "2021-07-17T13:56:58.207Z"
   },
   {
    "duration": 5052,
    "start_time": "2021-07-17T13:57:21.013Z"
   },
   {
    "duration": 225,
    "start_time": "2021-07-17T13:57:25.842Z"
   },
   {
    "duration": 259,
    "start_time": "2021-07-17T13:58:14.100Z"
   },
   {
    "duration": 4898,
    "start_time": "2021-07-17T13:59:47.010Z"
   },
   {
    "duration": 5,
    "start_time": "2021-07-17T14:04:12.642Z"
   },
   {
    "duration": 11,
    "start_time": "2021-07-17T14:04:20.718Z"
   },
   {
    "duration": 11,
    "start_time": "2021-07-17T14:26:20.892Z"
   },
   {
    "duration": 93,
    "start_time": "2021-07-17T14:27:26.387Z"
   },
   {
    "duration": 613,
    "start_time": "2021-07-17T14:27:44.833Z"
   },
   {
    "duration": 4,
    "start_time": "2021-07-17T14:28:09.487Z"
   },
   {
    "duration": 303,
    "start_time": "2021-07-17T14:28:21.368Z"
   },
   {
    "duration": 10,
    "start_time": "2021-07-17T14:29:06.879Z"
   },
   {
    "duration": 10,
    "start_time": "2021-07-17T14:29:23.606Z"
   },
   {
    "duration": 4,
    "start_time": "2021-07-17T14:32:22.131Z"
   },
   {
    "duration": 9,
    "start_time": "2021-07-17T14:32:22.898Z"
   },
   {
    "duration": 4,
    "start_time": "2021-07-17T14:32:46.955Z"
   },
   {
    "duration": 5,
    "start_time": "2021-07-17T14:33:04.569Z"
   },
   {
    "duration": 4,
    "start_time": "2021-07-17T14:33:18.177Z"
   },
   {
    "duration": 638,
    "start_time": "2021-07-17T14:33:36.527Z"
   },
   {
    "duration": 50,
    "start_time": "2021-07-17T14:33:37.167Z"
   },
   {
    "duration": 17,
    "start_time": "2021-07-17T14:33:37.219Z"
   },
   {
    "duration": 26,
    "start_time": "2021-07-17T14:33:37.240Z"
   },
   {
    "duration": 30,
    "start_time": "2021-07-17T14:33:37.267Z"
   },
   {
    "duration": 9,
    "start_time": "2021-07-17T14:33:37.300Z"
   },
   {
    "duration": 16,
    "start_time": "2021-07-17T14:33:37.311Z"
   },
   {
    "duration": 2,
    "start_time": "2021-07-17T14:33:37.342Z"
   },
   {
    "duration": 5,
    "start_time": "2021-07-17T14:33:37.346Z"
   },
   {
    "duration": 14,
    "start_time": "2021-07-17T14:33:37.354Z"
   },
   {
    "duration": 7,
    "start_time": "2021-07-17T14:33:37.370Z"
   },
   {
    "duration": 11,
    "start_time": "2021-07-17T14:33:37.379Z"
   },
   {
    "duration": 3,
    "start_time": "2021-07-17T14:33:37.391Z"
   },
   {
    "duration": 321,
    "start_time": "2021-07-17T14:33:37.396Z"
   },
   {
    "duration": -306,
    "start_time": "2021-07-17T14:33:38.026Z"
   },
   {
    "duration": -311,
    "start_time": "2021-07-17T14:33:38.032Z"
   },
   {
    "duration": -318,
    "start_time": "2021-07-17T14:33:38.039Z"
   },
   {
    "duration": -324,
    "start_time": "2021-07-17T14:33:38.046Z"
   },
   {
    "duration": -329,
    "start_time": "2021-07-17T14:33:38.052Z"
   },
   {
    "duration": -363,
    "start_time": "2021-07-17T14:33:38.087Z"
   },
   {
    "duration": -369,
    "start_time": "2021-07-17T14:33:38.094Z"
   },
   {
    "duration": -375,
    "start_time": "2021-07-17T14:33:38.101Z"
   },
   {
    "duration": -380,
    "start_time": "2021-07-17T14:33:38.107Z"
   },
   {
    "duration": -386,
    "start_time": "2021-07-17T14:33:38.114Z"
   },
   {
    "duration": -393,
    "start_time": "2021-07-17T14:33:38.122Z"
   },
   {
    "duration": -399,
    "start_time": "2021-07-17T14:33:38.129Z"
   },
   {
    "duration": -406,
    "start_time": "2021-07-17T14:33:38.136Z"
   },
   {
    "duration": -412,
    "start_time": "2021-07-17T14:33:38.143Z"
   },
   {
    "duration": -417,
    "start_time": "2021-07-17T14:33:38.149Z"
   },
   {
    "duration": -423,
    "start_time": "2021-07-17T14:33:38.156Z"
   },
   {
    "duration": -427,
    "start_time": "2021-07-17T14:33:38.162Z"
   },
   {
    "duration": -433,
    "start_time": "2021-07-17T14:33:38.169Z"
   },
   {
    "duration": -443,
    "start_time": "2021-07-17T14:33:38.180Z"
   },
   {
    "duration": -459,
    "start_time": "2021-07-17T14:33:38.197Z"
   },
   {
    "duration": -465,
    "start_time": "2021-07-17T14:33:38.203Z"
   },
   {
    "duration": -471,
    "start_time": "2021-07-17T14:33:38.210Z"
   },
   {
    "duration": -476,
    "start_time": "2021-07-17T14:33:38.216Z"
   },
   {
    "duration": -483,
    "start_time": "2021-07-17T14:33:38.224Z"
   },
   {
    "duration": -488,
    "start_time": "2021-07-17T14:33:38.230Z"
   },
   {
    "duration": -493,
    "start_time": "2021-07-17T14:33:38.236Z"
   },
   {
    "duration": -499,
    "start_time": "2021-07-17T14:33:38.243Z"
   },
   {
    "duration": -505,
    "start_time": "2021-07-17T14:33:38.250Z"
   },
   {
    "duration": -510,
    "start_time": "2021-07-17T14:33:38.256Z"
   },
   {
    "duration": -516,
    "start_time": "2021-07-17T14:33:38.264Z"
   },
   {
    "duration": -522,
    "start_time": "2021-07-17T14:33:38.271Z"
   },
   {
    "duration": -528,
    "start_time": "2021-07-17T14:33:38.278Z"
   },
   {
    "duration": -532,
    "start_time": "2021-07-17T14:33:38.283Z"
   },
   {
    "duration": -538,
    "start_time": "2021-07-17T14:33:38.290Z"
   },
   {
    "duration": -553,
    "start_time": "2021-07-17T14:33:38.306Z"
   },
   {
    "duration": -559,
    "start_time": "2021-07-17T14:33:38.313Z"
   },
   {
    "duration": -564,
    "start_time": "2021-07-17T14:33:38.319Z"
   },
   {
    "duration": -571,
    "start_time": "2021-07-17T14:33:38.326Z"
   },
   {
    "duration": -575,
    "start_time": "2021-07-17T14:33:38.331Z"
   },
   {
    "duration": -581,
    "start_time": "2021-07-17T14:33:38.338Z"
   },
   {
    "duration": -586,
    "start_time": "2021-07-17T14:33:38.344Z"
   },
   {
    "duration": -592,
    "start_time": "2021-07-17T14:33:38.351Z"
   },
   {
    "duration": -597,
    "start_time": "2021-07-17T14:33:38.357Z"
   },
   {
    "duration": -602,
    "start_time": "2021-07-17T14:33:38.364Z"
   },
   {
    "duration": -605,
    "start_time": "2021-07-17T14:33:38.369Z"
   },
   {
    "duration": -611,
    "start_time": "2021-07-17T14:33:38.376Z"
   },
   {
    "duration": 12,
    "start_time": "2021-07-17T14:38:35.379Z"
   },
   {
    "duration": 7,
    "start_time": "2021-07-17T14:38:47.882Z"
   },
   {
    "duration": 8,
    "start_time": "2021-07-17T14:39:01.452Z"
   },
   {
    "duration": 10,
    "start_time": "2021-07-17T14:40:50.459Z"
   },
   {
    "duration": 9,
    "start_time": "2021-07-17T14:41:10.283Z"
   },
   {
    "duration": 1032,
    "start_time": "2021-07-17T14:41:15.552Z"
   },
   {
    "duration": 8,
    "start_time": "2021-07-17T14:41:22.314Z"
   },
   {
    "duration": 6,
    "start_time": "2021-07-17T14:44:32.382Z"
   },
   {
    "duration": 10,
    "start_time": "2021-07-17T14:44:33.252Z"
   },
   {
    "duration": 10,
    "start_time": "2021-07-17T14:46:21.225Z"
   },
   {
    "duration": 6,
    "start_time": "2021-07-17T14:46:28.763Z"
   },
   {
    "duration": 289,
    "start_time": "2021-07-17T14:47:02.064Z"
   },
   {
    "duration": 6,
    "start_time": "2021-07-17T15:33:23.147Z"
   },
   {
    "duration": 5,
    "start_time": "2021-07-17T15:33:28.501Z"
   },
   {
    "duration": 5,
    "start_time": "2021-07-17T15:33:29.198Z"
   },
   {
    "duration": 6,
    "start_time": "2021-07-17T15:33:29.814Z"
   },
   {
    "duration": 13,
    "start_time": "2021-07-17T15:33:57.375Z"
   },
   {
    "duration": 6,
    "start_time": "2021-07-17T15:34:07.968Z"
   },
   {
    "duration": 5,
    "start_time": "2021-07-17T15:34:54.411Z"
   },
   {
    "duration": 5,
    "start_time": "2021-07-17T15:34:55.084Z"
   },
   {
    "duration": 263,
    "start_time": "2021-07-17T15:35:26.178Z"
   },
   {
    "duration": 5,
    "start_time": "2021-07-17T15:35:26.721Z"
   },
   {
    "duration": 275,
    "start_time": "2021-07-17T15:35:34.292Z"
   },
   {
    "duration": 6,
    "start_time": "2021-07-17T15:35:55.833Z"
   },
   {
    "duration": 286,
    "start_time": "2021-07-17T15:35:56.743Z"
   },
   {
    "duration": 8,
    "start_time": "2021-07-17T15:35:58.952Z"
   },
   {
    "duration": 5,
    "start_time": "2021-07-17T15:36:11.546Z"
   },
   {
    "duration": 5,
    "start_time": "2021-07-17T15:36:12.348Z"
   },
   {
    "duration": 5,
    "start_time": "2021-07-17T15:36:13.809Z"
   },
   {
    "duration": 7,
    "start_time": "2021-07-17T15:36:20.408Z"
   },
   {
    "duration": 279,
    "start_time": "2021-07-17T15:36:29.225Z"
   },
   {
    "duration": 8,
    "start_time": "2021-07-17T15:36:29.915Z"
   },
   {
    "duration": 8,
    "start_time": "2021-07-17T15:36:49.770Z"
   },
   {
    "duration": 8,
    "start_time": "2021-07-17T15:36:50.513Z"
   },
   {
    "duration": 7,
    "start_time": "2021-07-17T15:37:16.152Z"
   },
   {
    "duration": 12,
    "start_time": "2021-07-17T15:37:17.231Z"
   },
   {
    "duration": 9,
    "start_time": "2021-07-17T15:37:19.808Z"
   },
   {
    "duration": 17,
    "start_time": "2021-07-17T15:37:29.777Z"
   },
   {
    "duration": 6,
    "start_time": "2021-07-17T15:37:47.793Z"
   },
   {
    "duration": 4,
    "start_time": "2021-07-17T15:37:48.343Z"
   },
   {
    "duration": 8,
    "start_time": "2021-07-17T15:37:48.864Z"
   },
   {
    "duration": 265,
    "start_time": "2021-07-17T15:41:17.186Z"
   },
   {
    "duration": 7,
    "start_time": "2021-07-17T15:41:41.403Z"
   },
   {
    "duration": 11,
    "start_time": "2021-07-17T15:42:35.234Z"
   },
   {
    "duration": 276,
    "start_time": "2021-07-17T15:44:55.400Z"
   },
   {
    "duration": 7,
    "start_time": "2021-07-17T15:44:59.913Z"
   },
   {
    "duration": 1086,
    "start_time": "2021-07-17T15:45:00.895Z"
   },
   {
    "duration": 3,
    "start_time": "2021-07-17T15:45:34.361Z"
   },
   {
    "duration": 6,
    "start_time": "2021-07-17T15:45:35.959Z"
   },
   {
    "duration": 6,
    "start_time": "2021-07-17T15:45:43.159Z"
   },
   {
    "duration": 6,
    "start_time": "2021-07-17T15:46:00.110Z"
   },
   {
    "duration": 1150,
    "start_time": "2021-07-17T15:46:54.964Z"
   },
   {
    "duration": 7,
    "start_time": "2021-07-17T15:47:26.269Z"
   },
   {
    "duration": 7,
    "start_time": "2021-07-17T15:50:26.956Z"
   },
   {
    "duration": 4,
    "start_time": "2021-07-17T15:50:30.001Z"
   },
   {
    "duration": 3,
    "start_time": "2021-07-17T15:50:32.961Z"
   },
   {
    "duration": 6,
    "start_time": "2021-07-17T15:50:36.352Z"
   },
   {
    "duration": 7,
    "start_time": "2021-07-17T15:50:45.201Z"
   },
   {
    "duration": 31,
    "start_time": "2021-07-17T15:51:52.688Z"
   },
   {
    "duration": 11,
    "start_time": "2021-07-17T15:52:13.215Z"
   },
   {
    "duration": 4,
    "start_time": "2021-07-17T15:52:57.588Z"
   },
   {
    "duration": 310,
    "start_time": "2021-07-17T15:53:37.533Z"
   },
   {
    "duration": 4,
    "start_time": "2021-07-17T15:53:43.124Z"
   },
   {
    "duration": 3,
    "start_time": "2021-07-17T15:53:43.965Z"
   },
   {
    "duration": 31,
    "start_time": "2021-07-17T15:53:44.903Z"
   },
   {
    "duration": 277,
    "start_time": "2021-07-17T15:53:54.805Z"
   },
   {
    "duration": 16,
    "start_time": "2021-07-17T15:54:06.725Z"
   },
   {
    "duration": 11,
    "start_time": "2021-07-17T15:54:07.578Z"
   },
   {
    "duration": 9,
    "start_time": "2021-07-17T15:54:48.115Z"
   },
   {
    "duration": 7,
    "start_time": "2021-07-17T15:55:16.971Z"
   },
   {
    "duration": 10,
    "start_time": "2021-07-17T15:56:54.450Z"
   },
   {
    "duration": 18,
    "start_time": "2021-07-17T15:56:57.912Z"
   },
   {
    "duration": 6,
    "start_time": "2021-07-17T15:58:02.366Z"
   },
   {
    "duration": 295,
    "start_time": "2021-07-17T15:58:15.200Z"
   },
   {
    "duration": 264,
    "start_time": "2021-07-17T15:58:24.225Z"
   },
   {
    "duration": 5718,
    "start_time": "2021-07-17T15:59:36.149Z"
   },
   {
    "duration": -84,
    "start_time": "2021-07-17T15:59:41.953Z"
   },
   {
    "duration": 269,
    "start_time": "2021-07-17T16:00:09.612Z"
   },
   {
    "duration": 545,
    "start_time": "2021-07-17T16:00:28.701Z"
   },
   {
    "duration": 49,
    "start_time": "2021-07-17T16:00:29.248Z"
   },
   {
    "duration": 17,
    "start_time": "2021-07-17T16:00:29.299Z"
   },
   {
    "duration": 13,
    "start_time": "2021-07-17T16:00:29.318Z"
   },
   {
    "duration": 27,
    "start_time": "2021-07-17T16:00:29.341Z"
   },
   {
    "duration": 10,
    "start_time": "2021-07-17T16:00:29.370Z"
   },
   {
    "duration": 15,
    "start_time": "2021-07-17T16:00:29.382Z"
   },
   {
    "duration": 2,
    "start_time": "2021-07-17T16:00:29.399Z"
   },
   {
    "duration": 5,
    "start_time": "2021-07-17T16:00:29.403Z"
   },
   {
    "duration": 39,
    "start_time": "2021-07-17T16:00:29.409Z"
   },
   {
    "duration": 3,
    "start_time": "2021-07-17T16:00:29.450Z"
   },
   {
    "duration": 5,
    "start_time": "2021-07-17T16:00:29.455Z"
   },
   {
    "duration": 20,
    "start_time": "2021-07-17T16:00:29.462Z"
   },
   {
    "duration": 11,
    "start_time": "2021-07-17T16:00:29.483Z"
   },
   {
    "duration": 6031,
    "start_time": "2021-07-17T16:00:29.496Z"
   },
   {
    "duration": -106,
    "start_time": "2021-07-17T16:00:35.637Z"
   },
   {
    "duration": -113,
    "start_time": "2021-07-17T16:00:35.645Z"
   },
   {
    "duration": -118,
    "start_time": "2021-07-17T16:00:35.651Z"
   },
   {
    "duration": -125,
    "start_time": "2021-07-17T16:00:35.659Z"
   },
   {
    "duration": -130,
    "start_time": "2021-07-17T16:00:35.666Z"
   },
   {
    "duration": -136,
    "start_time": "2021-07-17T16:00:35.673Z"
   },
   {
    "duration": -141,
    "start_time": "2021-07-17T16:00:35.679Z"
   },
   {
    "duration": -147,
    "start_time": "2021-07-17T16:00:35.687Z"
   },
   {
    "duration": -153,
    "start_time": "2021-07-17T16:00:35.694Z"
   },
   {
    "duration": -160,
    "start_time": "2021-07-17T16:00:35.702Z"
   },
   {
    "duration": -166,
    "start_time": "2021-07-17T16:00:35.710Z"
   },
   {
    "duration": -174,
    "start_time": "2021-07-17T16:00:35.719Z"
   },
   {
    "duration": -180,
    "start_time": "2021-07-17T16:00:35.727Z"
   },
   {
    "duration": -187,
    "start_time": "2021-07-17T16:00:35.735Z"
   },
   {
    "duration": -206,
    "start_time": "2021-07-17T16:00:35.755Z"
   },
   {
    "duration": -213,
    "start_time": "2021-07-17T16:00:35.763Z"
   },
   {
    "duration": -217,
    "start_time": "2021-07-17T16:00:35.769Z"
   },
   {
    "duration": -224,
    "start_time": "2021-07-17T16:00:35.777Z"
   },
   {
    "duration": -230,
    "start_time": "2021-07-17T16:00:35.784Z"
   },
   {
    "duration": -235,
    "start_time": "2021-07-17T16:00:35.791Z"
   },
   {
    "duration": -240,
    "start_time": "2021-07-17T16:00:35.797Z"
   },
   {
    "duration": -247,
    "start_time": "2021-07-17T16:00:35.806Z"
   },
   {
    "duration": -252,
    "start_time": "2021-07-17T16:00:35.812Z"
   },
   {
    "duration": -258,
    "start_time": "2021-07-17T16:00:35.820Z"
   },
   {
    "duration": -263,
    "start_time": "2021-07-17T16:00:35.826Z"
   },
   {
    "duration": -270,
    "start_time": "2021-07-17T16:00:35.834Z"
   },
   {
    "duration": -274,
    "start_time": "2021-07-17T16:00:35.840Z"
   },
   {
    "duration": -281,
    "start_time": "2021-07-17T16:00:35.848Z"
   },
   {
    "duration": -295,
    "start_time": "2021-07-17T16:00:35.863Z"
   },
   {
    "duration": -300,
    "start_time": "2021-07-17T16:00:35.870Z"
   },
   {
    "duration": -306,
    "start_time": "2021-07-17T16:00:35.877Z"
   },
   {
    "duration": -313,
    "start_time": "2021-07-17T16:00:35.885Z"
   },
   {
    "duration": -317,
    "start_time": "2021-07-17T16:00:35.891Z"
   },
   {
    "duration": -324,
    "start_time": "2021-07-17T16:00:35.899Z"
   },
   {
    "duration": -328,
    "start_time": "2021-07-17T16:00:35.905Z"
   },
   {
    "duration": -334,
    "start_time": "2021-07-17T16:00:35.912Z"
   },
   {
    "duration": -339,
    "start_time": "2021-07-17T16:00:35.918Z"
   },
   {
    "duration": -344,
    "start_time": "2021-07-17T16:00:35.925Z"
   },
   {
    "duration": -350,
    "start_time": "2021-07-17T16:00:35.932Z"
   },
   {
    "duration": -356,
    "start_time": "2021-07-17T16:00:35.939Z"
   },
   {
    "duration": -362,
    "start_time": "2021-07-17T16:00:35.946Z"
   },
   {
    "duration": -312,
    "start_time": "2021-07-17T16:00:35.953Z"
   },
   {
    "duration": -316,
    "start_time": "2021-07-17T16:00:35.959Z"
   },
   {
    "duration": -342,
    "start_time": "2021-07-17T16:00:35.986Z"
   },
   {
    "duration": -347,
    "start_time": "2021-07-17T16:00:35.993Z"
   },
   {
    "duration": -353,
    "start_time": "2021-07-17T16:00:36.000Z"
   },
   {
    "duration": -358,
    "start_time": "2021-07-17T16:00:36.007Z"
   },
   {
    "duration": -364,
    "start_time": "2021-07-17T16:00:36.014Z"
   },
   {
    "duration": -369,
    "start_time": "2021-07-17T16:00:36.020Z"
   },
   {
    "duration": -374,
    "start_time": "2021-07-17T16:00:36.027Z"
   },
   {
    "duration": 97,
    "start_time": "2021-07-17T16:03:53.950Z"
   },
   {
    "duration": 5,
    "start_time": "2021-07-17T16:04:01.123Z"
   },
   {
    "duration": 5,
    "start_time": "2021-07-17T16:04:07.046Z"
   },
   {
    "duration": 7059,
    "start_time": "2021-07-17T16:04:40.074Z"
   },
   {
    "duration": -82,
    "start_time": "2021-07-17T16:04:54.898Z"
   },
   {
    "duration": 5,
    "start_time": "2021-07-17T16:04:55.722Z"
   },
   {
    "duration": 10,
    "start_time": "2021-07-17T16:05:02.203Z"
   },
   {
    "duration": 7,
    "start_time": "2021-07-17T16:10:08.396Z"
   },
   {
    "duration": 350,
    "start_time": "2021-07-17T16:12:38.518Z"
   },
   {
    "duration": 10,
    "start_time": "2021-07-17T16:13:29.297Z"
   },
   {
    "duration": 13,
    "start_time": "2021-07-17T16:13:41.824Z"
   },
   {
    "duration": 7001,
    "start_time": "2021-07-17T16:13:52.928Z"
   },
   {
    "duration": 14,
    "start_time": "2021-07-17T16:14:35.163Z"
   },
   {
    "duration": 669,
    "start_time": "2021-07-17T16:26:08.088Z"
   },
   {
    "duration": 72,
    "start_time": "2021-07-17T16:26:08.759Z"
   },
   {
    "duration": 26,
    "start_time": "2021-07-17T16:26:08.834Z"
   },
   {
    "duration": 12,
    "start_time": "2021-07-17T16:26:08.862Z"
   },
   {
    "duration": 44,
    "start_time": "2021-07-17T16:26:08.876Z"
   },
   {
    "duration": 30,
    "start_time": "2021-07-17T16:26:08.922Z"
   },
   {
    "duration": 17,
    "start_time": "2021-07-17T16:26:08.954Z"
   },
   {
    "duration": 8,
    "start_time": "2021-07-17T16:26:08.974Z"
   },
   {
    "duration": 19,
    "start_time": "2021-07-17T16:26:08.984Z"
   },
   {
    "duration": 13,
    "start_time": "2021-07-17T16:26:09.005Z"
   },
   {
    "duration": 14,
    "start_time": "2021-07-17T16:26:09.020Z"
   },
   {
    "duration": 28,
    "start_time": "2021-07-17T16:26:09.036Z"
   },
   {
    "duration": 30,
    "start_time": "2021-07-17T16:26:09.066Z"
   },
   {
    "duration": 4,
    "start_time": "2021-07-17T16:26:09.098Z"
   },
   {
    "duration": 23,
    "start_time": "2021-07-17T16:26:09.104Z"
   },
   {
    "duration": 15,
    "start_time": "2021-07-17T16:26:09.128Z"
   },
   {
    "duration": 9,
    "start_time": "2021-07-17T16:26:09.144Z"
   },
   {
    "duration": 5,
    "start_time": "2021-07-17T16:26:09.154Z"
   },
   {
    "duration": 24,
    "start_time": "2021-07-17T16:26:09.161Z"
   },
   {
    "duration": 14,
    "start_time": "2021-07-17T16:26:09.187Z"
   },
   {
    "duration": 32,
    "start_time": "2021-07-17T16:26:09.202Z"
   },
   {
    "duration": 12,
    "start_time": "2021-07-17T16:26:09.235Z"
   },
   {
    "duration": 26,
    "start_time": "2021-07-17T16:26:09.251Z"
   },
   {
    "duration": 22,
    "start_time": "2021-07-17T16:26:09.279Z"
   },
   {
    "duration": 11,
    "start_time": "2021-07-17T16:26:09.303Z"
   },
   {
    "duration": 44,
    "start_time": "2021-07-17T16:26:09.316Z"
   },
   {
    "duration": 31,
    "start_time": "2021-07-17T16:26:09.362Z"
   },
   {
    "duration": 26,
    "start_time": "2021-07-17T16:26:09.395Z"
   },
   {
    "duration": 19,
    "start_time": "2021-07-17T16:26:09.423Z"
   },
   {
    "duration": 17,
    "start_time": "2021-07-17T16:26:09.444Z"
   },
   {
    "duration": 18,
    "start_time": "2021-07-17T16:26:09.463Z"
   },
   {
    "duration": 26,
    "start_time": "2021-07-17T16:26:09.482Z"
   },
   {
    "duration": 22,
    "start_time": "2021-07-17T16:26:09.510Z"
   },
   {
    "duration": 44,
    "start_time": "2021-07-17T16:26:09.533Z"
   },
   {
    "duration": 8,
    "start_time": "2021-07-17T16:26:09.579Z"
   },
   {
    "duration": 22,
    "start_time": "2021-07-17T16:26:09.589Z"
   },
   {
    "duration": 2912,
    "start_time": "2021-07-17T16:26:09.612Z"
   },
   {
    "duration": 3,
    "start_time": "2021-07-17T16:26:12.525Z"
   },
   {
    "duration": 25,
    "start_time": "2021-07-17T16:26:12.529Z"
   },
   {
    "duration": 4,
    "start_time": "2021-07-17T16:26:12.556Z"
   },
   {
    "duration": 16,
    "start_time": "2021-07-17T16:26:12.562Z"
   },
   {
    "duration": 8,
    "start_time": "2021-07-17T16:26:12.580Z"
   },
   {
    "duration": 10,
    "start_time": "2021-07-17T16:26:12.589Z"
   },
   {
    "duration": 8,
    "start_time": "2021-07-17T16:26:12.601Z"
   },
   {
    "duration": 31,
    "start_time": "2021-07-17T16:26:12.612Z"
   },
   {
    "duration": 16,
    "start_time": "2021-07-17T16:26:12.645Z"
   },
   {
    "duration": 9,
    "start_time": "2021-07-17T16:26:12.663Z"
   },
   {
    "duration": 18,
    "start_time": "2021-07-17T16:26:12.673Z"
   },
   {
    "duration": 12,
    "start_time": "2021-07-17T16:26:12.692Z"
   },
   {
    "duration": 7,
    "start_time": "2021-07-17T16:26:12.706Z"
   },
   {
    "duration": 11,
    "start_time": "2021-07-17T16:26:12.715Z"
   },
   {
    "duration": 18,
    "start_time": "2021-07-17T16:26:12.728Z"
   },
   {
    "duration": 23,
    "start_time": "2021-07-17T16:26:12.748Z"
   },
   {
    "duration": 12,
    "start_time": "2021-07-17T16:26:12.772Z"
   },
   {
    "duration": 9,
    "start_time": "2021-07-17T16:26:12.786Z"
   },
   {
    "duration": 26,
    "start_time": "2021-07-17T16:26:12.797Z"
   },
   {
    "duration": 6,
    "start_time": "2021-07-17T16:26:12.825Z"
   },
   {
    "duration": 8,
    "start_time": "2021-07-17T16:26:12.841Z"
   },
   {
    "duration": 24,
    "start_time": "2021-07-17T16:26:12.850Z"
   },
   {
    "duration": 6,
    "start_time": "2021-07-17T16:26:12.876Z"
   },
   {
    "duration": 10,
    "start_time": "2021-07-17T16:26:12.884Z"
   },
   {
    "duration": 19,
    "start_time": "2021-07-17T16:26:12.895Z"
   },
   {
    "duration": 26,
    "start_time": "2021-07-17T16:26:12.916Z"
   },
   {
    "duration": 14,
    "start_time": "2021-07-17T16:26:12.944Z"
   },
   {
    "duration": 5,
    "start_time": "2021-07-17T16:32:00.016Z"
   },
   {
    "duration": 5,
    "start_time": "2021-07-17T16:32:06.271Z"
   },
   {
    "duration": 4,
    "start_time": "2021-07-17T16:32:10.448Z"
   },
   {
    "duration": 4,
    "start_time": "2021-07-17T16:32:19.230Z"
   },
   {
    "duration": 6,
    "start_time": "2021-07-17T16:32:20.784Z"
   },
   {
    "duration": 8,
    "start_time": "2021-07-17T16:32:54.017Z"
   },
   {
    "duration": 27,
    "start_time": "2021-07-17T16:33:23.758Z"
   },
   {
    "duration": 31,
    "start_time": "2021-07-17T16:34:04.167Z"
   },
   {
    "duration": 4,
    "start_time": "2021-07-17T16:34:38.492Z"
   },
   {
    "duration": 4,
    "start_time": "2021-07-17T16:34:40.348Z"
   },
   {
    "duration": 7,
    "start_time": "2021-07-17T16:34:46.188Z"
   },
   {
    "duration": 5,
    "start_time": "2021-07-17T16:39:13.012Z"
   },
   {
    "duration": 6,
    "start_time": "2021-07-17T16:39:15.102Z"
   },
   {
    "duration": 8,
    "start_time": "2021-07-17T16:40:18.581Z"
   },
   {
    "duration": 4,
    "start_time": "2021-07-17T16:42:04.874Z"
   },
   {
    "duration": 6,
    "start_time": "2021-07-17T16:42:12.410Z"
   },
   {
    "duration": 3,
    "start_time": "2021-07-17T16:42:43.106Z"
   },
   {
    "duration": 7,
    "start_time": "2021-07-17T16:42:59.122Z"
   },
   {
    "duration": 3,
    "start_time": "2021-07-17T16:43:08.160Z"
   },
   {
    "duration": 6,
    "start_time": "2021-07-17T16:43:09.757Z"
   },
   {
    "duration": 4,
    "start_time": "2021-07-17T16:43:11.801Z"
   },
   {
    "duration": 3,
    "start_time": "2021-07-17T16:43:14.737Z"
   },
   {
    "duration": 8,
    "start_time": "2021-07-17T16:43:15.808Z"
   },
   {
    "duration": 14,
    "start_time": "2021-07-17T16:43:16.683Z"
   },
   {
    "duration": 17,
    "start_time": "2021-07-17T16:44:30.105Z"
   },
   {
    "duration": 8,
    "start_time": "2021-07-17T16:44:31.880Z"
   },
   {
    "duration": 11,
    "start_time": "2021-07-17T16:44:31.890Z"
   },
   {
    "duration": 7,
    "start_time": "2021-07-17T16:45:06.831Z"
   },
   {
    "duration": 9,
    "start_time": "2021-07-17T16:46:19.517Z"
   },
   {
    "duration": 3,
    "start_time": "2021-07-17T16:46:33.285Z"
   },
   {
    "duration": 12,
    "start_time": "2021-07-17T16:46:36.346Z"
   },
   {
    "duration": 3,
    "start_time": "2021-07-17T16:46:37.980Z"
   },
   {
    "duration": 9,
    "start_time": "2021-07-17T16:46:38.541Z"
   },
   {
    "duration": 14,
    "start_time": "2021-07-17T16:46:43.974Z"
   },
   {
    "duration": 16,
    "start_time": "2021-07-17T16:46:54.693Z"
   },
   {
    "duration": 8,
    "start_time": "2021-07-17T16:46:55.332Z"
   },
   {
    "duration": 8,
    "start_time": "2021-07-17T16:46:55.997Z"
   },
   {
    "duration": 8,
    "start_time": "2021-07-17T16:48:39.810Z"
   },
   {
    "duration": 3,
    "start_time": "2021-07-17T16:50:16.768Z"
   },
   {
    "duration": 8,
    "start_time": "2021-07-17T16:50:17.658Z"
   },
   {
    "duration": 17,
    "start_time": "2021-07-17T16:50:25.740Z"
   },
   {
    "duration": 7,
    "start_time": "2021-07-17T16:50:26.531Z"
   },
   {
    "duration": 8,
    "start_time": "2021-07-17T16:50:27.240Z"
   },
   {
    "duration": 677,
    "start_time": "2021-07-17T16:51:59.180Z"
   },
   {
    "duration": 54,
    "start_time": "2021-07-17T16:51:59.859Z"
   },
   {
    "duration": 19,
    "start_time": "2021-07-17T16:51:59.915Z"
   },
   {
    "duration": 12,
    "start_time": "2021-07-17T16:51:59.942Z"
   },
   {
    "duration": 33,
    "start_time": "2021-07-17T16:51:59.956Z"
   },
   {
    "duration": 13,
    "start_time": "2021-07-17T16:51:59.991Z"
   },
   {
    "duration": 45,
    "start_time": "2021-07-17T16:52:00.005Z"
   },
   {
    "duration": 7,
    "start_time": "2021-07-17T16:52:00.053Z"
   },
   {
    "duration": 8,
    "start_time": "2021-07-17T16:52:00.062Z"
   },
   {
    "duration": 13,
    "start_time": "2021-07-17T16:52:00.072Z"
   },
   {
    "duration": 3,
    "start_time": "2021-07-17T16:52:00.087Z"
   },
   {
    "duration": 11,
    "start_time": "2021-07-17T16:52:00.092Z"
   },
   {
    "duration": 23,
    "start_time": "2021-07-17T16:52:00.105Z"
   },
   {
    "duration": 13,
    "start_time": "2021-07-17T16:52:00.129Z"
   },
   {
    "duration": 23,
    "start_time": "2021-07-17T16:52:00.144Z"
   },
   {
    "duration": 10,
    "start_time": "2021-07-17T16:52:00.169Z"
   },
   {
    "duration": 8,
    "start_time": "2021-07-17T16:52:00.180Z"
   },
   {
    "duration": 5,
    "start_time": "2021-07-17T16:52:00.189Z"
   },
   {
    "duration": 13,
    "start_time": "2021-07-17T16:52:00.196Z"
   },
   {
    "duration": 3,
    "start_time": "2021-07-17T16:52:00.211Z"
   },
   {
    "duration": 32,
    "start_time": "2021-07-17T16:52:00.216Z"
   },
   {
    "duration": 13,
    "start_time": "2021-07-17T16:52:00.250Z"
   },
   {
    "duration": 20,
    "start_time": "2021-07-17T16:52:00.267Z"
   },
   {
    "duration": 17,
    "start_time": "2021-07-17T16:52:00.289Z"
   },
   {
    "duration": 4,
    "start_time": "2021-07-17T16:52:00.308Z"
   },
   {
    "duration": 31,
    "start_time": "2021-07-17T16:52:00.313Z"
   },
   {
    "duration": 5,
    "start_time": "2021-07-17T16:52:00.346Z"
   },
   {
    "duration": 12,
    "start_time": "2021-07-17T16:52:00.353Z"
   },
   {
    "duration": 5,
    "start_time": "2021-07-17T16:52:00.381Z"
   },
   {
    "duration": 14,
    "start_time": "2021-07-17T16:52:00.388Z"
   },
   {
    "duration": 14,
    "start_time": "2021-07-17T16:52:00.404Z"
   },
   {
    "duration": 18,
    "start_time": "2021-07-17T16:52:00.420Z"
   },
   {
    "duration": 5,
    "start_time": "2021-07-17T16:52:00.440Z"
   },
   {
    "duration": 25,
    "start_time": "2021-07-17T16:52:00.447Z"
   },
   {
    "duration": 5,
    "start_time": "2021-07-17T16:52:00.474Z"
   },
   {
    "duration": 16,
    "start_time": "2021-07-17T16:52:00.480Z"
   },
   {
    "duration": 3802,
    "start_time": "2021-07-17T16:52:00.497Z"
   },
   {
    "duration": 3,
    "start_time": "2021-07-17T16:52:04.301Z"
   },
   {
    "duration": 36,
    "start_time": "2021-07-17T16:52:04.306Z"
   },
   {
    "duration": 3,
    "start_time": "2021-07-17T16:52:04.344Z"
   },
   {
    "duration": 13,
    "start_time": "2021-07-17T16:52:04.349Z"
   },
   {
    "duration": 5,
    "start_time": "2021-07-17T16:52:04.364Z"
   },
   {
    "duration": 6,
    "start_time": "2021-07-17T16:52:04.371Z"
   },
   {
    "duration": 8,
    "start_time": "2021-07-17T16:52:04.379Z"
   },
   {
    "duration": 10,
    "start_time": "2021-07-17T16:52:04.389Z"
   },
   {
    "duration": 48,
    "start_time": "2021-07-17T16:52:04.401Z"
   },
   {
    "duration": 4,
    "start_time": "2021-07-17T16:52:04.451Z"
   },
   {
    "duration": 16,
    "start_time": "2021-07-17T16:52:04.457Z"
   },
   {
    "duration": 3,
    "start_time": "2021-07-17T16:52:04.475Z"
   },
   {
    "duration": 5,
    "start_time": "2021-07-17T16:52:04.480Z"
   },
   {
    "duration": 11,
    "start_time": "2021-07-17T16:52:04.486Z"
   },
   {
    "duration": 15,
    "start_time": "2021-07-17T16:52:04.499Z"
   },
   {
    "duration": 47,
    "start_time": "2021-07-17T16:52:04.516Z"
   },
   {
    "duration": 11,
    "start_time": "2021-07-17T16:52:04.564Z"
   },
   {
    "duration": 6,
    "start_time": "2021-07-17T16:52:04.577Z"
   },
   {
    "duration": 17,
    "start_time": "2021-07-17T16:52:04.585Z"
   },
   {
    "duration": 7,
    "start_time": "2021-07-17T16:52:04.603Z"
   },
   {
    "duration": 31,
    "start_time": "2021-07-17T16:52:04.611Z"
   },
   {
    "duration": 19,
    "start_time": "2021-07-17T16:52:04.643Z"
   },
   {
    "duration": 6,
    "start_time": "2021-07-17T16:52:04.663Z"
   },
   {
    "duration": 10,
    "start_time": "2021-07-17T16:52:04.671Z"
   },
   {
    "duration": 18,
    "start_time": "2021-07-17T16:52:04.682Z"
   },
   {
    "duration": 6,
    "start_time": "2021-07-17T16:52:04.702Z"
   },
   {
    "duration": 8,
    "start_time": "2021-07-17T16:52:04.741Z"
   },
   {
    "duration": 3,
    "start_time": "2021-07-17T16:55:50.733Z"
   },
   {
    "duration": 3,
    "start_time": "2021-07-17T16:56:24.172Z"
   },
   {
    "duration": 8,
    "start_time": "2021-07-17T16:56:25.316Z"
   },
   {
    "duration": 3,
    "start_time": "2021-07-17T16:56:30.708Z"
   },
   {
    "duration": 15,
    "start_time": "2021-07-17T16:56:36.086Z"
   },
   {
    "duration": 16,
    "start_time": "2021-07-17T16:56:52.811Z"
   },
   {
    "duration": 7,
    "start_time": "2021-07-17T16:56:53.564Z"
   },
   {
    "duration": 8,
    "start_time": "2021-07-17T16:56:54.421Z"
   },
   {
    "duration": 18,
    "start_time": "2021-07-17T17:00:03.168Z"
   },
   {
    "duration": 7,
    "start_time": "2021-07-17T17:00:03.809Z"
   },
   {
    "duration": 8,
    "start_time": "2021-07-17T17:00:04.552Z"
   },
   {
    "duration": 88,
    "start_time": "2021-07-17T17:16:26.830Z"
   },
   {
    "duration": 569,
    "start_time": "2021-07-17T17:25:46.670Z"
   },
   {
    "duration": 50,
    "start_time": "2021-07-17T17:25:47.241Z"
   },
   {
    "duration": 19,
    "start_time": "2021-07-17T17:25:47.293Z"
   },
   {
    "duration": 11,
    "start_time": "2021-07-17T17:25:47.314Z"
   },
   {
    "duration": 36,
    "start_time": "2021-07-17T17:25:47.327Z"
   },
   {
    "duration": 12,
    "start_time": "2021-07-17T17:25:47.364Z"
   },
   {
    "duration": 15,
    "start_time": "2021-07-17T17:25:47.378Z"
   },
   {
    "duration": 2,
    "start_time": "2021-07-17T17:25:47.396Z"
   },
   {
    "duration": 3,
    "start_time": "2021-07-17T17:25:47.441Z"
   },
   {
    "duration": 9,
    "start_time": "2021-07-17T17:25:47.447Z"
   },
   {
    "duration": 10,
    "start_time": "2021-07-17T17:25:47.458Z"
   },
   {
    "duration": 5,
    "start_time": "2021-07-17T17:25:47.470Z"
   },
   {
    "duration": 18,
    "start_time": "2021-07-17T17:25:47.477Z"
   },
   {
    "duration": 4,
    "start_time": "2021-07-17T17:25:47.496Z"
   },
   {
    "duration": 15,
    "start_time": "2021-07-17T17:25:47.501Z"
   },
   {
    "duration": 10,
    "start_time": "2021-07-17T17:25:47.541Z"
   },
   {
    "duration": 3,
    "start_time": "2021-07-17T17:25:47.553Z"
   },
   {
    "duration": 4,
    "start_time": "2021-07-17T17:25:47.558Z"
   },
   {
    "duration": 16,
    "start_time": "2021-07-17T17:25:47.564Z"
   },
   {
    "duration": 4,
    "start_time": "2021-07-17T17:25:47.582Z"
   },
   {
    "duration": 10,
    "start_time": "2021-07-17T17:25:47.587Z"
   },
   {
    "duration": 43,
    "start_time": "2021-07-17T17:25:47.599Z"
   },
   {
    "duration": 17,
    "start_time": "2021-07-17T17:25:47.646Z"
   },
   {
    "duration": 16,
    "start_time": "2021-07-17T17:25:47.665Z"
   },
   {
    "duration": 4,
    "start_time": "2021-07-17T17:25:47.683Z"
   },
   {
    "duration": 7,
    "start_time": "2021-07-17T17:25:47.688Z"
   },
   {
    "duration": 3,
    "start_time": "2021-07-17T17:25:47.697Z"
   },
   {
    "duration": 41,
    "start_time": "2021-07-17T17:25:47.701Z"
   },
   {
    "duration": 12,
    "start_time": "2021-07-17T17:25:47.743Z"
   },
   {
    "duration": 6,
    "start_time": "2021-07-17T17:25:47.757Z"
   },
   {
    "duration": 7,
    "start_time": "2021-07-17T17:25:47.764Z"
   },
   {
    "duration": 6,
    "start_time": "2021-07-17T17:25:47.773Z"
   },
   {
    "duration": 5,
    "start_time": "2021-07-17T17:25:47.781Z"
   },
   {
    "duration": 16,
    "start_time": "2021-07-17T17:25:47.787Z"
   },
   {
    "duration": 4,
    "start_time": "2021-07-17T17:25:47.804Z"
   },
   {
    "duration": 35,
    "start_time": "2021-07-17T17:25:47.809Z"
   },
   {
    "duration": 2518,
    "start_time": "2021-07-17T17:25:47.846Z"
   },
   {
    "duration": 2,
    "start_time": "2021-07-17T17:25:50.366Z"
   },
   {
    "duration": 24,
    "start_time": "2021-07-17T17:25:50.370Z"
   },
   {
    "duration": 5,
    "start_time": "2021-07-17T17:25:50.395Z"
   },
   {
    "duration": 11,
    "start_time": "2021-07-17T17:25:50.401Z"
   },
   {
    "duration": 5,
    "start_time": "2021-07-17T17:25:50.413Z"
   },
   {
    "duration": 10,
    "start_time": "2021-07-17T17:25:50.419Z"
   },
   {
    "duration": 6,
    "start_time": "2021-07-17T17:25:50.441Z"
   },
   {
    "duration": 7,
    "start_time": "2021-07-17T17:25:50.449Z"
   },
   {
    "duration": 14,
    "start_time": "2021-07-17T17:25:50.457Z"
   },
   {
    "duration": 6,
    "start_time": "2021-07-17T17:25:50.472Z"
   },
   {
    "duration": 10,
    "start_time": "2021-07-17T17:25:50.480Z"
   },
   {
    "duration": 9,
    "start_time": "2021-07-17T17:25:50.491Z"
   },
   {
    "duration": 13,
    "start_time": "2021-07-17T17:25:50.502Z"
   },
   {
    "duration": 14,
    "start_time": "2021-07-17T17:25:50.516Z"
   },
   {
    "duration": 23,
    "start_time": "2021-07-17T17:25:50.532Z"
   },
   {
    "duration": 20,
    "start_time": "2021-07-17T17:25:50.557Z"
   },
   {
    "duration": 11,
    "start_time": "2021-07-17T17:25:50.579Z"
   },
   {
    "duration": 8,
    "start_time": "2021-07-17T17:25:50.592Z"
   },
   {
    "duration": 41,
    "start_time": "2021-07-17T17:25:50.601Z"
   },
   {
    "duration": 6,
    "start_time": "2021-07-17T17:25:50.644Z"
   },
   {
    "duration": 12,
    "start_time": "2021-07-17T17:25:50.652Z"
   },
   {
    "duration": 17,
    "start_time": "2021-07-17T17:25:50.666Z"
   },
   {
    "duration": 6,
    "start_time": "2021-07-17T17:25:50.685Z"
   },
   {
    "duration": 11,
    "start_time": "2021-07-17T17:25:50.693Z"
   },
   {
    "duration": 41,
    "start_time": "2021-07-17T17:25:50.706Z"
   },
   {
    "duration": 7,
    "start_time": "2021-07-17T17:25:50.749Z"
   },
   {
    "duration": 13,
    "start_time": "2021-07-17T17:25:50.757Z"
   },
   {
    "duration": 700,
    "start_time": "2021-07-17T18:02:54.179Z"
   },
   {
    "duration": 63,
    "start_time": "2021-07-17T18:02:54.882Z"
   },
   {
    "duration": 32,
    "start_time": "2021-07-17T18:02:54.947Z"
   },
   {
    "duration": 21,
    "start_time": "2021-07-17T18:02:54.982Z"
   },
   {
    "duration": 60,
    "start_time": "2021-07-17T18:02:55.006Z"
   },
   {
    "duration": 14,
    "start_time": "2021-07-17T18:02:55.069Z"
   },
   {
    "duration": 32,
    "start_time": "2021-07-17T18:02:55.085Z"
   },
   {
    "duration": 3,
    "start_time": "2021-07-17T18:02:55.119Z"
   },
   {
    "duration": 30,
    "start_time": "2021-07-17T18:02:55.126Z"
   },
   {
    "duration": 9,
    "start_time": "2021-07-17T18:02:55.159Z"
   },
   {
    "duration": 12,
    "start_time": "2021-07-17T18:02:55.170Z"
   },
   {
    "duration": 20,
    "start_time": "2021-07-17T18:02:55.184Z"
   },
   {
    "duration": 29,
    "start_time": "2021-07-17T18:02:55.206Z"
   },
   {
    "duration": 5,
    "start_time": "2021-07-17T18:02:55.237Z"
   },
   {
    "duration": 22,
    "start_time": "2021-07-17T18:02:55.255Z"
   },
   {
    "duration": 14,
    "start_time": "2021-07-17T18:02:55.280Z"
   },
   {
    "duration": 4,
    "start_time": "2021-07-17T18:02:55.296Z"
   },
   {
    "duration": 6,
    "start_time": "2021-07-17T18:02:55.302Z"
   },
   {
    "duration": 59,
    "start_time": "2021-07-17T18:02:55.310Z"
   },
   {
    "duration": 7,
    "start_time": "2021-07-17T18:02:55.371Z"
   },
   {
    "duration": 17,
    "start_time": "2021-07-17T18:02:55.381Z"
   },
   {
    "duration": 16,
    "start_time": "2021-07-17T18:02:55.401Z"
   },
   {
    "duration": 58,
    "start_time": "2021-07-17T18:02:55.419Z"
   },
   {
    "duration": 25,
    "start_time": "2021-07-17T18:02:55.479Z"
   },
   {
    "duration": 6,
    "start_time": "2021-07-17T18:02:55.506Z"
   },
   {
    "duration": 8,
    "start_time": "2021-07-17T18:02:55.514Z"
   },
   {
    "duration": 5,
    "start_time": "2021-07-17T18:02:55.558Z"
   },
   {
    "duration": 8,
    "start_time": "2021-07-17T18:02:55.566Z"
   },
   {
    "duration": 6,
    "start_time": "2021-07-17T18:02:55.577Z"
   },
   {
    "duration": 7,
    "start_time": "2021-07-17T18:02:55.585Z"
   },
   {
    "duration": 8,
    "start_time": "2021-07-17T18:02:55.594Z"
   },
   {
    "duration": 52,
    "start_time": "2021-07-17T18:02:55.604Z"
   },
   {
    "duration": 6,
    "start_time": "2021-07-17T18:02:55.658Z"
   },
   {
    "duration": 32,
    "start_time": "2021-07-17T18:02:55.666Z"
   },
   {
    "duration": 10,
    "start_time": "2021-07-17T18:02:55.701Z"
   },
   {
    "duration": 14,
    "start_time": "2021-07-17T18:02:55.713Z"
   },
   {
    "duration": 3460,
    "start_time": "2021-07-17T18:02:55.734Z"
   },
   {
    "duration": 3,
    "start_time": "2021-07-17T18:02:59.197Z"
   },
   {
    "duration": 27,
    "start_time": "2021-07-17T18:02:59.202Z"
   },
   {
    "duration": 24,
    "start_time": "2021-07-17T18:02:59.231Z"
   },
   {
    "duration": 11,
    "start_time": "2021-07-17T18:02:59.258Z"
   },
   {
    "duration": 6,
    "start_time": "2021-07-17T18:02:59.271Z"
   },
   {
    "duration": 12,
    "start_time": "2021-07-17T18:02:59.279Z"
   },
   {
    "duration": 9,
    "start_time": "2021-07-17T18:02:59.293Z"
   },
   {
    "duration": 50,
    "start_time": "2021-07-17T18:02:59.305Z"
   },
   {
    "duration": 13,
    "start_time": "2021-07-17T18:02:59.358Z"
   },
   {
    "duration": 4,
    "start_time": "2021-07-17T18:02:59.373Z"
   },
   {
    "duration": 16,
    "start_time": "2021-07-17T18:02:59.379Z"
   },
   {
    "duration": 8,
    "start_time": "2021-07-17T18:02:59.397Z"
   },
   {
    "duration": 5,
    "start_time": "2021-07-17T18:02:59.408Z"
   },
   {
    "duration": 48,
    "start_time": "2021-07-17T18:02:59.416Z"
   },
   {
    "duration": 23,
    "start_time": "2021-07-17T18:02:59.466Z"
   },
   {
    "duration": 64,
    "start_time": "2021-07-17T18:02:59.492Z"
   },
   {
    "duration": 15,
    "start_time": "2021-07-17T18:02:59.559Z"
   },
   {
    "duration": 11,
    "start_time": "2021-07-17T18:02:59.576Z"
   },
   {
    "duration": 28,
    "start_time": "2021-07-17T18:02:59.590Z"
   },
   {
    "duration": 9,
    "start_time": "2021-07-17T18:02:59.620Z"
   },
   {
    "duration": 12,
    "start_time": "2021-07-17T18:02:59.656Z"
   },
   {
    "duration": 25,
    "start_time": "2021-07-17T18:02:59.670Z"
   },
   {
    "duration": 10,
    "start_time": "2021-07-17T18:02:59.697Z"
   },
   {
    "duration": 48,
    "start_time": "2021-07-17T18:02:59.709Z"
   },
   {
    "duration": 24,
    "start_time": "2021-07-17T18:02:59.760Z"
   },
   {
    "duration": 9,
    "start_time": "2021-07-17T18:02:59.787Z"
   },
   {
    "duration": 15,
    "start_time": "2021-07-17T18:02:59.798Z"
   },
   {
    "duration": 792,
    "start_time": "2021-07-18T06:39:37.037Z"
   },
   {
    "duration": 69,
    "start_time": "2021-07-18T06:39:40.211Z"
   },
   {
    "duration": 34,
    "start_time": "2021-07-18T06:39:54.950Z"
   },
   {
    "duration": 10,
    "start_time": "2021-07-18T06:41:05.065Z"
   },
   {
    "duration": 37,
    "start_time": "2021-07-18T06:41:15.650Z"
   },
   {
    "duration": 6,
    "start_time": "2021-07-18T06:42:34.553Z"
   },
   {
    "duration": 18,
    "start_time": "2021-07-18T06:42:38.303Z"
   },
   {
    "duration": 15,
    "start_time": "2021-07-18T06:42:41.374Z"
   },
   {
    "duration": 762,
    "start_time": "2021-07-18T06:42:47.633Z"
   },
   {
    "duration": 64,
    "start_time": "2021-07-18T06:42:48.397Z"
   },
   {
    "duration": 32,
    "start_time": "2021-07-18T06:42:48.464Z"
   },
   {
    "duration": 18,
    "start_time": "2021-07-18T06:42:48.499Z"
   },
   {
    "duration": 72,
    "start_time": "2021-07-18T06:42:48.520Z"
   },
   {
    "duration": 14,
    "start_time": "2021-07-18T06:42:48.595Z"
   },
   {
    "duration": 23,
    "start_time": "2021-07-18T06:42:48.611Z"
   },
   {
    "duration": 3,
    "start_time": "2021-07-18T06:42:48.657Z"
   },
   {
    "duration": 11,
    "start_time": "2021-07-18T06:42:48.663Z"
   },
   {
    "duration": 4,
    "start_time": "2021-07-18T06:42:48.676Z"
   },
   {
    "duration": 9,
    "start_time": "2021-07-18T06:42:48.683Z"
   },
   {
    "duration": 88,
    "start_time": "2021-07-18T06:42:48.694Z"
   },
   {
    "duration": 133,
    "start_time": "2021-07-18T06:42:48.653Z"
   },
   {
    "duration": 125,
    "start_time": "2021-07-18T06:42:48.662Z"
   },
   {
    "duration": 119,
    "start_time": "2021-07-18T06:42:48.669Z"
   },
   {
    "duration": 114,
    "start_time": "2021-07-18T06:42:48.676Z"
   },
   {
    "duration": 106,
    "start_time": "2021-07-18T06:42:48.685Z"
   },
   {
    "duration": 88,
    "start_time": "2021-07-18T06:42:48.704Z"
   },
   {
    "duration": 77,
    "start_time": "2021-07-18T06:42:48.716Z"
   },
   {
    "duration": 70,
    "start_time": "2021-07-18T06:42:48.724Z"
   },
   {
    "duration": 63,
    "start_time": "2021-07-18T06:42:48.733Z"
   },
   {
    "duration": 49,
    "start_time": "2021-07-18T06:42:48.748Z"
   },
   {
    "duration": 16,
    "start_time": "2021-07-18T06:42:48.782Z"
   },
   {
    "duration": 4,
    "start_time": "2021-07-18T06:42:48.796Z"
   },
   {
    "duration": -4,
    "start_time": "2021-07-18T06:42:48.805Z"
   },
   {
    "duration": -13,
    "start_time": "2021-07-18T06:42:48.815Z"
   },
   {
    "duration": -20,
    "start_time": "2021-07-18T06:42:48.823Z"
   },
   {
    "duration": -29,
    "start_time": "2021-07-18T06:42:48.834Z"
   },
   {
    "duration": -37,
    "start_time": "2021-07-18T06:42:48.843Z"
   },
   {
    "duration": -396,
    "start_time": "2021-07-18T06:42:49.204Z"
   },
   {
    "duration": -402,
    "start_time": "2021-07-18T06:42:49.211Z"
   },
   {
    "duration": -407,
    "start_time": "2021-07-18T06:42:49.218Z"
   },
   {
    "duration": -413,
    "start_time": "2021-07-18T06:42:49.225Z"
   },
   {
    "duration": -417,
    "start_time": "2021-07-18T06:42:49.231Z"
   },
   {
    "duration": -423,
    "start_time": "2021-07-18T06:42:49.238Z"
   },
   {
    "duration": -428,
    "start_time": "2021-07-18T06:42:49.245Z"
   },
   {
    "duration": -434,
    "start_time": "2021-07-18T06:42:49.252Z"
   },
   {
    "duration": -439,
    "start_time": "2021-07-18T06:42:49.258Z"
   },
   {
    "duration": -444,
    "start_time": "2021-07-18T06:42:49.265Z"
   },
   {
    "duration": -449,
    "start_time": "2021-07-18T06:42:49.271Z"
   },
   {
    "duration": -422,
    "start_time": "2021-07-18T06:42:49.278Z"
   },
   {
    "duration": -427,
    "start_time": "2021-07-18T06:42:49.284Z"
   },
   {
    "duration": -433,
    "start_time": "2021-07-18T06:42:49.291Z"
   },
   {
    "duration": -437,
    "start_time": "2021-07-18T06:42:49.297Z"
   },
   {
    "duration": -444,
    "start_time": "2021-07-18T06:42:49.305Z"
   },
   {
    "duration": -459,
    "start_time": "2021-07-18T06:42:49.321Z"
   },
   {
    "duration": -463,
    "start_time": "2021-07-18T06:42:49.327Z"
   },
   {
    "duration": -469,
    "start_time": "2021-07-18T06:42:49.334Z"
   },
   {
    "duration": -475,
    "start_time": "2021-07-18T06:42:49.341Z"
   },
   {
    "duration": -479,
    "start_time": "2021-07-18T06:42:49.347Z"
   },
   {
    "duration": -490,
    "start_time": "2021-07-18T06:42:49.359Z"
   },
   {
    "duration": -495,
    "start_time": "2021-07-18T06:42:49.366Z"
   },
   {
    "duration": -501,
    "start_time": "2021-07-18T06:42:49.373Z"
   },
   {
    "duration": -506,
    "start_time": "2021-07-18T06:42:49.379Z"
   },
   {
    "duration": -512,
    "start_time": "2021-07-18T06:42:49.386Z"
   },
   {
    "duration": -517,
    "start_time": "2021-07-18T06:42:49.392Z"
   },
   {
    "duration": -522,
    "start_time": "2021-07-18T06:42:49.399Z"
   },
   {
    "duration": -527,
    "start_time": "2021-07-18T06:42:49.405Z"
   },
   {
    "duration": -533,
    "start_time": "2021-07-18T06:42:49.412Z"
   },
   {
    "duration": -537,
    "start_time": "2021-07-18T06:42:49.418Z"
   },
   {
    "duration": -552,
    "start_time": "2021-07-18T06:42:49.434Z"
   },
   {
    "duration": -557,
    "start_time": "2021-07-18T06:42:49.440Z"
   },
   {
    "duration": -563,
    "start_time": "2021-07-18T06:42:49.447Z"
   },
   {
    "duration": -568,
    "start_time": "2021-07-18T06:42:49.453Z"
   },
   {
    "duration": -575,
    "start_time": "2021-07-18T06:42:49.461Z"
   },
   {
    "duration": 732,
    "start_time": "2021-07-18T06:43:38.664Z"
   },
   {
    "duration": 64,
    "start_time": "2021-07-18T06:43:39.399Z"
   },
   {
    "duration": 29,
    "start_time": "2021-07-18T06:43:39.466Z"
   },
   {
    "duration": 19,
    "start_time": "2021-07-18T06:43:39.498Z"
   },
   {
    "duration": 72,
    "start_time": "2021-07-18T06:43:39.519Z"
   },
   {
    "duration": 14,
    "start_time": "2021-07-18T06:43:39.594Z"
   },
   {
    "duration": 47,
    "start_time": "2021-07-18T06:43:39.610Z"
   },
   {
    "duration": 3,
    "start_time": "2021-07-18T06:43:39.661Z"
   },
   {
    "duration": 10,
    "start_time": "2021-07-18T06:43:39.668Z"
   },
   {
    "duration": 5,
    "start_time": "2021-07-18T06:43:39.680Z"
   },
   {
    "duration": 3,
    "start_time": "2021-07-18T06:43:39.688Z"
   },
   {
    "duration": 12,
    "start_time": "2021-07-18T06:43:39.693Z"
   },
   {
    "duration": 7,
    "start_time": "2021-07-18T06:43:39.707Z"
   },
   {
    "duration": 8,
    "start_time": "2021-07-18T06:43:39.716Z"
   },
   {
    "duration": 5,
    "start_time": "2021-07-18T06:43:39.757Z"
   },
   {
    "duration": 20,
    "start_time": "2021-07-18T06:43:39.765Z"
   },
   {
    "duration": 15,
    "start_time": "2021-07-18T06:43:39.787Z"
   },
   {
    "duration": 4,
    "start_time": "2021-07-18T06:43:39.805Z"
   },
   {
    "duration": 47,
    "start_time": "2021-07-18T06:43:39.812Z"
   },
   {
    "duration": 22,
    "start_time": "2021-07-18T06:43:39.861Z"
   },
   {
    "duration": 5,
    "start_time": "2021-07-18T06:43:39.885Z"
   },
   {
    "duration": 15,
    "start_time": "2021-07-18T06:43:39.893Z"
   },
   {
    "duration": 52,
    "start_time": "2021-07-18T06:43:39.914Z"
   },
   {
    "duration": 23,
    "start_time": "2021-07-18T06:43:39.969Z"
   },
   {
    "duration": 24,
    "start_time": "2021-07-18T06:43:39.995Z"
   },
   {
    "duration": 5,
    "start_time": "2021-07-18T06:43:40.021Z"
   },
   {
    "duration": 7,
    "start_time": "2021-07-18T06:43:40.056Z"
   },
   {
    "duration": 5,
    "start_time": "2021-07-18T06:43:40.066Z"
   },
   {
    "duration": 7,
    "start_time": "2021-07-18T06:43:40.074Z"
   },
   {
    "duration": 7,
    "start_time": "2021-07-18T06:43:40.084Z"
   },
   {
    "duration": 8,
    "start_time": "2021-07-18T06:43:40.093Z"
   },
   {
    "duration": 12,
    "start_time": "2021-07-18T06:43:40.103Z"
   },
   {
    "duration": 43,
    "start_time": "2021-07-18T06:43:40.117Z"
   },
   {
    "duration": 6,
    "start_time": "2021-07-18T06:43:40.162Z"
   },
   {
    "duration": 26,
    "start_time": "2021-07-18T06:43:40.171Z"
   },
   {
    "duration": 9,
    "start_time": "2021-07-18T06:43:40.200Z"
   },
   {
    "duration": 7,
    "start_time": "2021-07-18T06:43:40.211Z"
   },
   {
    "duration": 3669,
    "start_time": "2021-07-18T06:43:40.220Z"
   },
   {
    "duration": 5,
    "start_time": "2021-07-18T06:43:43.892Z"
   },
   {
    "duration": 27,
    "start_time": "2021-07-18T06:43:43.900Z"
   },
   {
    "duration": 27,
    "start_time": "2021-07-18T06:43:43.930Z"
   },
   {
    "duration": 15,
    "start_time": "2021-07-18T06:43:43.960Z"
   },
   {
    "duration": 6,
    "start_time": "2021-07-18T06:43:43.977Z"
   },
   {
    "duration": 6,
    "start_time": "2021-07-18T06:43:43.986Z"
   },
   {
    "duration": 12,
    "start_time": "2021-07-18T06:43:43.995Z"
   },
   {
    "duration": 8,
    "start_time": "2021-07-18T06:43:44.009Z"
   },
   {
    "duration": 13,
    "start_time": "2021-07-18T06:43:44.056Z"
   },
   {
    "duration": 6,
    "start_time": "2021-07-18T06:43:44.072Z"
   },
   {
    "duration": 13,
    "start_time": "2021-07-18T06:43:44.080Z"
   },
   {
    "duration": 6,
    "start_time": "2021-07-18T06:43:44.095Z"
   },
   {
    "duration": 4,
    "start_time": "2021-07-18T06:43:44.104Z"
   },
   {
    "duration": 54,
    "start_time": "2021-07-18T06:43:44.110Z"
   },
   {
    "duration": 22,
    "start_time": "2021-07-18T06:43:44.166Z"
   },
   {
    "duration": 28,
    "start_time": "2021-07-18T06:43:44.191Z"
   },
   {
    "duration": 35,
    "start_time": "2021-07-18T06:43:44.222Z"
   },
   {
    "duration": 11,
    "start_time": "2021-07-18T06:43:44.260Z"
   },
   {
    "duration": 26,
    "start_time": "2021-07-18T06:43:44.273Z"
   },
   {
    "duration": 9,
    "start_time": "2021-07-18T06:43:44.301Z"
   },
   {
    "duration": 49,
    "start_time": "2021-07-18T06:43:44.313Z"
   },
   {
    "duration": 29,
    "start_time": "2021-07-18T06:43:44.364Z"
   },
   {
    "duration": 10,
    "start_time": "2021-07-18T06:43:44.395Z"
   },
   {
    "duration": 17,
    "start_time": "2021-07-18T06:43:44.407Z"
   },
   {
    "duration": 48,
    "start_time": "2021-07-18T06:43:44.427Z"
   },
   {
    "duration": 9,
    "start_time": "2021-07-18T06:43:44.478Z"
   },
   {
    "duration": 16,
    "start_time": "2021-07-18T06:43:44.490Z"
   },
   {
    "duration": 1006,
    "start_time": "2021-08-04T07:24:44.784Z"
   },
   {
    "duration": 48,
    "start_time": "2021-08-04T07:24:45.792Z"
   },
   {
    "duration": 21,
    "start_time": "2021-08-04T07:24:45.843Z"
   },
   {
    "duration": 15,
    "start_time": "2021-08-04T07:24:45.866Z"
   },
   {
    "duration": 28,
    "start_time": "2021-08-04T07:24:45.882Z"
   },
   {
    "duration": 9,
    "start_time": "2021-08-04T07:24:45.912Z"
   },
   {
    "duration": 19,
    "start_time": "2021-08-04T07:24:45.941Z"
   },
   {
    "duration": 2,
    "start_time": "2021-08-04T07:24:45.963Z"
   },
   {
    "duration": 8,
    "start_time": "2021-08-04T07:24:45.966Z"
   },
   {
    "duration": 3,
    "start_time": "2021-08-04T07:24:45.976Z"
   },
   {
    "duration": 4,
    "start_time": "2021-08-04T07:24:45.980Z"
   },
   {
    "duration": 6,
    "start_time": "2021-08-04T07:24:45.986Z"
   },
   {
    "duration": 4,
    "start_time": "2021-08-04T07:24:45.993Z"
   },
   {
    "duration": 6,
    "start_time": "2021-08-04T07:24:45.999Z"
   },
   {
    "duration": 5,
    "start_time": "2021-08-04T07:24:46.007Z"
   },
   {
    "duration": 35,
    "start_time": "2021-08-04T07:24:46.013Z"
   },
   {
    "duration": 12,
    "start_time": "2021-08-04T07:24:46.049Z"
   },
   {
    "duration": 5,
    "start_time": "2021-08-04T07:24:46.063Z"
   },
   {
    "duration": 6,
    "start_time": "2021-08-04T07:24:46.070Z"
   },
   {
    "duration": 14,
    "start_time": "2021-08-04T07:24:46.078Z"
   },
   {
    "duration": 5,
    "start_time": "2021-08-04T07:24:46.093Z"
   },
   {
    "duration": 11,
    "start_time": "2021-08-04T07:24:46.099Z"
   },
   {
    "duration": 42,
    "start_time": "2021-08-04T07:24:46.113Z"
   },
   {
    "duration": 26,
    "start_time": "2021-08-04T07:24:46.157Z"
   },
   {
    "duration": 17,
    "start_time": "2021-08-04T07:24:46.185Z"
   },
   {
    "duration": 4,
    "start_time": "2021-08-04T07:24:46.203Z"
   },
   {
    "duration": 6,
    "start_time": "2021-08-04T07:24:46.209Z"
   },
   {
    "duration": 4,
    "start_time": "2021-08-04T07:24:46.216Z"
   },
   {
    "duration": 25,
    "start_time": "2021-08-04T07:24:46.221Z"
   },
   {
    "duration": 11,
    "start_time": "2021-08-04T07:24:46.247Z"
   },
   {
    "duration": 7,
    "start_time": "2021-08-04T07:24:46.260Z"
   },
   {
    "duration": 6,
    "start_time": "2021-08-04T07:24:46.269Z"
   },
   {
    "duration": 6,
    "start_time": "2021-08-04T07:24:46.277Z"
   },
   {
    "duration": 5,
    "start_time": "2021-08-04T07:24:46.284Z"
   },
   {
    "duration": 17,
    "start_time": "2021-08-04T07:24:46.291Z"
   },
   {
    "duration": 34,
    "start_time": "2021-08-04T07:24:46.309Z"
   },
   {
    "duration": 6,
    "start_time": "2021-08-04T07:24:46.345Z"
   },
   {
    "duration": 2636,
    "start_time": "2021-08-04T07:24:46.352Z"
   },
   {
    "duration": 2,
    "start_time": "2021-08-04T07:24:48.990Z"
   },
   {
    "duration": 28,
    "start_time": "2021-08-04T07:24:48.994Z"
   },
   {
    "duration": 18,
    "start_time": "2021-08-04T07:24:49.023Z"
   },
   {
    "duration": 22,
    "start_time": "2021-08-04T07:24:49.043Z"
   },
   {
    "duration": 20,
    "start_time": "2021-08-04T07:24:49.066Z"
   },
   {
    "duration": 26,
    "start_time": "2021-08-04T07:24:49.088Z"
   },
   {
    "duration": 34,
    "start_time": "2021-08-04T07:24:49.116Z"
   },
   {
    "duration": 35,
    "start_time": "2021-08-04T07:24:49.152Z"
   },
   {
    "duration": 25,
    "start_time": "2021-08-04T07:24:49.189Z"
   },
   {
    "duration": 6,
    "start_time": "2021-08-04T07:24:49.215Z"
   },
   {
    "duration": 23,
    "start_time": "2021-08-04T07:24:49.223Z"
   },
   {
    "duration": 29,
    "start_time": "2021-08-04T07:24:49.248Z"
   },
   {
    "duration": 14,
    "start_time": "2021-08-04T07:24:49.279Z"
   },
   {
    "duration": 18,
    "start_time": "2021-08-04T07:24:49.294Z"
   },
   {
    "duration": 32,
    "start_time": "2021-08-04T07:24:49.313Z"
   },
   {
    "duration": 23,
    "start_time": "2021-08-04T07:24:49.348Z"
   },
   {
    "duration": 13,
    "start_time": "2021-08-04T07:24:49.372Z"
   },
   {
    "duration": 10,
    "start_time": "2021-08-04T07:24:49.387Z"
   },
   {
    "duration": 19,
    "start_time": "2021-08-04T07:24:49.399Z"
   },
   {
    "duration": 6,
    "start_time": "2021-08-04T07:24:49.420Z"
   },
   {
    "duration": 21,
    "start_time": "2021-08-04T07:24:49.440Z"
   },
   {
    "duration": 27,
    "start_time": "2021-08-04T07:24:49.463Z"
   },
   {
    "duration": 6,
    "start_time": "2021-08-04T07:24:49.492Z"
   },
   {
    "duration": 32,
    "start_time": "2021-08-04T07:24:49.499Z"
   },
   {
    "duration": 45,
    "start_time": "2021-08-04T07:24:49.533Z"
   },
   {
    "duration": 14,
    "start_time": "2021-08-04T07:24:49.580Z"
   },
   {
    "duration": 21,
    "start_time": "2021-08-04T07:24:49.595Z"
   },
   {
    "duration": 543,
    "start_time": "2021-08-06T11:08:10.045Z"
   },
   {
    "duration": 49,
    "start_time": "2021-08-06T11:08:10.592Z"
   },
   {
    "duration": 17,
    "start_time": "2021-08-06T11:08:10.645Z"
   },
   {
    "duration": 10,
    "start_time": "2021-08-06T11:08:10.664Z"
   },
   {
    "duration": 27,
    "start_time": "2021-08-06T11:08:10.691Z"
   },
   {
    "duration": 9,
    "start_time": "2021-08-06T11:08:10.720Z"
   },
   {
    "duration": 14,
    "start_time": "2021-08-06T11:08:10.731Z"
   },
   {
    "duration": 2,
    "start_time": "2021-08-06T11:08:10.748Z"
   },
   {
    "duration": 39,
    "start_time": "2021-08-06T11:08:10.752Z"
   },
   {
    "duration": 9,
    "start_time": "2021-08-06T11:08:10.793Z"
   },
   {
    "duration": 5,
    "start_time": "2021-08-06T11:08:10.804Z"
   },
   {
    "duration": 8,
    "start_time": "2021-08-06T11:08:10.810Z"
   },
   {
    "duration": 6,
    "start_time": "2021-08-06T11:08:10.820Z"
   },
   {
    "duration": 7,
    "start_time": "2021-08-06T11:08:10.827Z"
   },
   {
    "duration": 11,
    "start_time": "2021-08-06T11:08:10.835Z"
   },
   {
    "duration": 16,
    "start_time": "2021-08-06T11:08:10.848Z"
   },
   {
    "duration": 10,
    "start_time": "2021-08-06T11:08:10.866Z"
   },
   {
    "duration": 16,
    "start_time": "2021-08-06T11:08:10.877Z"
   },
   {
    "duration": 7,
    "start_time": "2021-08-06T11:08:10.895Z"
   },
   {
    "duration": 20,
    "start_time": "2021-08-06T11:08:10.904Z"
   },
   {
    "duration": 8,
    "start_time": "2021-08-06T11:08:10.925Z"
   },
   {
    "duration": 12,
    "start_time": "2021-08-06T11:08:10.937Z"
   },
   {
    "duration": 11,
    "start_time": "2021-08-06T11:08:10.951Z"
   },
   {
    "duration": 33,
    "start_time": "2021-08-06T11:08:10.963Z"
   },
   {
    "duration": 16,
    "start_time": "2021-08-06T11:08:10.997Z"
   },
   {
    "duration": 4,
    "start_time": "2021-08-06T11:08:11.015Z"
   },
   {
    "duration": 9,
    "start_time": "2021-08-06T11:08:11.020Z"
   },
   {
    "duration": 7,
    "start_time": "2021-08-06T11:08:11.030Z"
   },
   {
    "duration": 13,
    "start_time": "2021-08-06T11:08:11.038Z"
   },
   {
    "duration": 6,
    "start_time": "2021-08-06T11:08:11.053Z"
   },
   {
    "duration": 9,
    "start_time": "2021-08-06T11:08:11.060Z"
   },
   {
    "duration": 22,
    "start_time": "2021-08-06T11:08:11.070Z"
   },
   {
    "duration": 4,
    "start_time": "2021-08-06T11:08:11.093Z"
   },
   {
    "duration": 7,
    "start_time": "2021-08-06T11:08:11.098Z"
   },
   {
    "duration": 19,
    "start_time": "2021-08-06T11:08:11.107Z"
   },
   {
    "duration": 4,
    "start_time": "2021-08-06T11:08:11.127Z"
   },
   {
    "duration": 13,
    "start_time": "2021-08-06T11:08:11.132Z"
   },
   {
    "duration": 2693,
    "start_time": "2021-08-06T11:08:11.146Z"
   },
   {
    "duration": 2,
    "start_time": "2021-08-06T11:08:13.841Z"
   },
   {
    "duration": 18,
    "start_time": "2021-08-06T11:08:13.845Z"
   },
   {
    "duration": 6,
    "start_time": "2021-08-06T11:08:13.865Z"
   },
   {
    "duration": 19,
    "start_time": "2021-08-06T11:08:13.873Z"
   },
   {
    "duration": 4,
    "start_time": "2021-08-06T11:08:13.894Z"
   },
   {
    "duration": 8,
    "start_time": "2021-08-06T11:08:13.900Z"
   },
   {
    "duration": 10,
    "start_time": "2021-08-06T11:08:13.910Z"
   },
   {
    "duration": 7,
    "start_time": "2021-08-06T11:08:13.921Z"
   },
   {
    "duration": 16,
    "start_time": "2021-08-06T11:08:13.930Z"
   },
   {
    "duration": 8,
    "start_time": "2021-08-06T11:08:13.947Z"
   },
   {
    "duration": 11,
    "start_time": "2021-08-06T11:08:13.957Z"
   },
   {
    "duration": 7,
    "start_time": "2021-08-06T11:08:13.970Z"
   },
   {
    "duration": 16,
    "start_time": "2021-08-06T11:08:13.979Z"
   },
   {
    "duration": 17,
    "start_time": "2021-08-06T11:08:13.996Z"
   },
   {
    "duration": 21,
    "start_time": "2021-08-06T11:08:14.015Z"
   },
   {
    "duration": 18,
    "start_time": "2021-08-06T11:08:14.037Z"
   },
   {
    "duration": 10,
    "start_time": "2021-08-06T11:08:14.056Z"
   },
   {
    "duration": 7,
    "start_time": "2021-08-06T11:08:14.067Z"
   },
   {
    "duration": 28,
    "start_time": "2021-08-06T11:08:14.075Z"
   },
   {
    "duration": 5,
    "start_time": "2021-08-06T11:08:14.105Z"
   },
   {
    "duration": 10,
    "start_time": "2021-08-06T11:08:14.112Z"
   },
   {
    "duration": 19,
    "start_time": "2021-08-06T11:08:14.123Z"
   },
   {
    "duration": 7,
    "start_time": "2021-08-06T11:08:14.143Z"
   },
   {
    "duration": 12,
    "start_time": "2021-08-06T11:08:14.152Z"
   },
   {
    "duration": 31,
    "start_time": "2021-08-06T11:08:14.165Z"
   },
   {
    "duration": 6,
    "start_time": "2021-08-06T11:08:14.198Z"
   },
   {
    "duration": 9,
    "start_time": "2021-08-06T11:08:14.205Z"
   },
   {
    "duration": 6,
    "start_time": "2021-08-06T11:21:44.299Z"
   },
   {
    "duration": 19,
    "start_time": "2021-08-06T11:22:31.544Z"
   },
   {
    "duration": 4592,
    "start_time": "2021-08-06T11:23:29.176Z"
   },
   {
    "duration": 17,
    "start_time": "2021-08-06T11:23:50.076Z"
   },
   {
    "duration": 33,
    "start_time": "2021-08-06T11:24:53.829Z"
   },
   {
    "duration": 36,
    "start_time": "2021-08-06T11:25:03.133Z"
   },
   {
    "duration": 33,
    "start_time": "2021-08-06T11:25:17.029Z"
   },
   {
    "duration": 7,
    "start_time": "2021-08-06T11:25:46.813Z"
   },
   {
    "duration": 573,
    "start_time": "2021-09-14T13:43:26.896Z"
   },
   {
    "duration": 904,
    "start_time": "2021-09-14T13:44:22.177Z"
   },
   {
    "duration": 71,
    "start_time": "2021-09-14T13:44:23.084Z"
   },
   {
    "duration": 34,
    "start_time": "2021-09-14T13:44:23.158Z"
   },
   {
    "duration": 34,
    "start_time": "2021-09-14T13:44:23.196Z"
   },
   {
    "duration": 49,
    "start_time": "2021-09-14T13:44:23.233Z"
   },
   {
    "duration": 43,
    "start_time": "2021-09-14T13:44:23.285Z"
   },
   {
    "duration": 42,
    "start_time": "2021-09-14T13:44:23.332Z"
   },
   {
    "duration": 4,
    "start_time": "2021-09-14T13:44:23.381Z"
   },
   {
    "duration": 36,
    "start_time": "2021-09-14T13:44:23.388Z"
   },
   {
    "duration": 6,
    "start_time": "2021-09-14T13:44:23.427Z"
   },
   {
    "duration": 5,
    "start_time": "2021-09-14T13:44:23.436Z"
   },
   {
    "duration": 7,
    "start_time": "2021-09-14T13:44:23.444Z"
   },
   {
    "duration": 5,
    "start_time": "2021-09-14T13:44:23.454Z"
   },
   {
    "duration": 54,
    "start_time": "2021-09-14T13:44:23.462Z"
   },
   {
    "duration": 15,
    "start_time": "2021-09-14T13:44:23.519Z"
   },
   {
    "duration": 25,
    "start_time": "2021-09-14T13:44:23.537Z"
   },
   {
    "duration": 58,
    "start_time": "2021-09-14T13:44:23.565Z"
   },
   {
    "duration": 5,
    "start_time": "2021-09-14T13:44:23.626Z"
   },
   {
    "duration": 10,
    "start_time": "2021-09-14T13:44:23.635Z"
   },
   {
    "duration": 28,
    "start_time": "2021-09-14T13:44:23.648Z"
   },
   {
    "duration": 40,
    "start_time": "2021-09-14T13:44:23.679Z"
   },
   {
    "duration": 20,
    "start_time": "2021-09-14T13:44:23.722Z"
   },
   {
    "duration": 16,
    "start_time": "2021-09-14T13:44:23.750Z"
   },
   {
    "duration": 61,
    "start_time": "2021-09-14T13:44:23.771Z"
   },
   {
    "duration": 26,
    "start_time": "2021-09-14T13:44:23.834Z"
   },
   {
    "duration": 7,
    "start_time": "2021-09-14T13:44:23.862Z"
   },
   {
    "duration": 12,
    "start_time": "2021-09-14T13:44:23.872Z"
   },
   {
    "duration": 6,
    "start_time": "2021-09-14T13:44:23.916Z"
   },
   {
    "duration": 11,
    "start_time": "2021-09-14T13:44:23.925Z"
   },
   {
    "duration": 11,
    "start_time": "2021-09-14T13:44:23.939Z"
   },
   {
    "duration": 8,
    "start_time": "2021-09-14T13:44:23.952Z"
   },
   {
    "duration": 9,
    "start_time": "2021-09-14T13:44:23.963Z"
   },
   {
    "duration": 6,
    "start_time": "2021-09-14T13:44:24.018Z"
   },
   {
    "duration": 9,
    "start_time": "2021-09-14T13:44:24.026Z"
   },
   {
    "duration": 29,
    "start_time": "2021-09-14T13:44:24.038Z"
   },
   {
    "duration": 49,
    "start_time": "2021-09-14T13:44:24.069Z"
   },
   {
    "duration": 7,
    "start_time": "2021-09-14T13:44:24.121Z"
   },
   {
    "duration": 3728,
    "start_time": "2021-09-14T13:44:24.130Z"
   },
   {
    "duration": 4,
    "start_time": "2021-09-14T13:44:27.861Z"
   },
   {
    "duration": 57,
    "start_time": "2021-09-14T13:44:27.868Z"
   },
   {
    "duration": 6,
    "start_time": "2021-09-14T13:44:27.927Z"
   },
   {
    "duration": 14,
    "start_time": "2021-09-14T13:44:27.935Z"
   },
   {
    "duration": 6,
    "start_time": "2021-09-14T13:44:27.952Z"
   },
   {
    "duration": 7,
    "start_time": "2021-09-14T13:44:27.961Z"
   },
   {
    "duration": 9,
    "start_time": "2021-09-14T13:44:27.970Z"
   },
   {
    "duration": 8,
    "start_time": "2021-09-14T13:44:27.981Z"
   },
   {
    "duration": 24,
    "start_time": "2021-09-14T13:44:27.992Z"
   },
   {
    "duration": 4,
    "start_time": "2021-09-14T13:44:28.019Z"
   },
   {
    "duration": 17,
    "start_time": "2021-09-14T13:44:28.025Z"
   },
   {
    "duration": 9,
    "start_time": "2021-09-14T13:44:28.045Z"
   },
   {
    "duration": 8,
    "start_time": "2021-09-14T13:44:28.056Z"
   },
   {
    "duration": 22,
    "start_time": "2021-09-14T13:44:28.067Z"
   },
   {
    "duration": 28,
    "start_time": "2021-09-14T13:44:28.092Z"
   },
   {
    "duration": 36,
    "start_time": "2021-09-14T13:44:28.123Z"
   },
   {
    "duration": 18,
    "start_time": "2021-09-14T13:44:28.161Z"
   },
   {
    "duration": 12,
    "start_time": "2021-09-14T13:44:28.181Z"
   },
   {
    "duration": 33,
    "start_time": "2021-09-14T13:44:28.196Z"
   },
   {
    "duration": 10,
    "start_time": "2021-09-14T13:44:28.231Z"
   },
   {
    "duration": 19,
    "start_time": "2021-09-14T13:44:28.243Z"
   },
   {
    "duration": 38,
    "start_time": "2021-09-14T13:44:28.265Z"
   },
   {
    "duration": 10,
    "start_time": "2021-09-14T13:44:28.305Z"
   },
   {
    "duration": 17,
    "start_time": "2021-09-14T13:44:28.317Z"
   },
   {
    "duration": 34,
    "start_time": "2021-09-14T13:44:28.336Z"
   },
   {
    "duration": 10,
    "start_time": "2021-09-14T13:44:28.372Z"
   },
   {
    "duration": 17,
    "start_time": "2021-09-14T13:44:28.385Z"
   },
   {
    "duration": 4,
    "start_time": "2021-09-14T13:46:04.697Z"
   },
   {
    "duration": 74,
    "start_time": "2021-09-14T13:46:05.485Z"
   },
   {
    "duration": 20,
    "start_time": "2021-09-14T13:46:06.241Z"
   },
   {
    "duration": 21,
    "start_time": "2021-09-14T13:46:07.329Z"
   },
   {
    "duration": 26,
    "start_time": "2021-09-14T13:48:07.154Z"
   },
   {
    "duration": 29,
    "start_time": "2021-09-14T13:48:15.009Z"
   },
   {
    "duration": 23,
    "start_time": "2021-09-14T13:48:39.492Z"
   },
   {
    "duration": 9,
    "start_time": "2021-09-14T13:55:50.151Z"
   },
   {
    "duration": 37,
    "start_time": "2021-09-14T13:56:11.439Z"
   },
   {
    "duration": 5,
    "start_time": "2021-09-14T13:56:17.671Z"
   },
   {
    "duration": 12,
    "start_time": "2021-09-14T13:56:18.928Z"
   },
   {
    "duration": 7,
    "start_time": "2021-09-14T13:56:28.387Z"
   },
   {
    "duration": 40,
    "start_time": "2021-09-14T13:59:28.556Z"
   },
   {
    "duration": 4,
    "start_time": "2021-09-14T14:00:57.073Z"
   },
   {
    "duration": 14,
    "start_time": "2021-09-14T14:01:00.872Z"
   },
   {
    "duration": 4,
    "start_time": "2021-09-14T14:05:23.246Z"
   },
   {
    "duration": 1107,
    "start_time": "2021-09-14T14:06:55.849Z"
   },
   {
    "duration": 6,
    "start_time": "2021-09-14T14:07:07.353Z"
   },
   {
    "duration": 540,
    "start_time": "2021-09-14T14:15:42.343Z"
   },
   {
    "duration": 2892,
    "start_time": "2021-09-14T14:18:34.916Z"
   },
   {
    "duration": 5109,
    "start_time": "2021-09-14T14:18:44.987Z"
   },
   {
    "duration": 45,
    "start_time": "2021-09-14T14:20:06.624Z"
   },
   {
    "duration": 4,
    "start_time": "2021-09-14T14:21:13.480Z"
   },
   {
    "duration": 2294,
    "start_time": "2021-09-14T14:21:14.656Z"
   },
   {
    "duration": 66,
    "start_time": "2021-09-14T14:21:23.112Z"
   },
   {
    "duration": 25,
    "start_time": "2021-09-14T14:21:25.684Z"
   },
   {
    "duration": 12,
    "start_time": "2021-09-14T14:22:48.651Z"
   },
   {
    "duration": 33,
    "start_time": "2021-09-14T14:23:11.956Z"
   },
   {
    "duration": 11,
    "start_time": "2021-09-14T14:23:13.332Z"
   },
   {
    "duration": 13,
    "start_time": "2021-09-14T14:23:14.348Z"
   },
   {
    "duration": 2221,
    "start_time": "2021-09-14T14:32:36.806Z"
   },
   {
    "duration": 67,
    "start_time": "2021-09-14T14:32:39.032Z"
   },
   {
    "duration": 37,
    "start_time": "2021-09-14T14:32:39.102Z"
   },
   {
    "duration": 28,
    "start_time": "2021-09-14T14:32:39.142Z"
   },
   {
    "duration": 16,
    "start_time": "2021-09-14T14:32:39.172Z"
   },
   {
    "duration": 28,
    "start_time": "2021-09-14T14:32:39.218Z"
   },
   {
    "duration": 8,
    "start_time": "2021-09-14T14:32:39.248Z"
   },
   {
    "duration": 15,
    "start_time": "2021-09-14T14:32:39.261Z"
   },
   {
    "duration": 38,
    "start_time": "2021-09-14T14:32:39.279Z"
   },
   {
    "duration": 25,
    "start_time": "2021-09-14T14:32:39.319Z"
   },
   {
    "duration": 17,
    "start_time": "2021-09-14T14:32:39.346Z"
   },
   {
    "duration": 5,
    "start_time": "2021-09-14T14:32:39.366Z"
   },
   {
    "duration": 57,
    "start_time": "2021-09-14T14:32:39.374Z"
   },
   {
    "duration": 27,
    "start_time": "2021-09-14T14:32:39.434Z"
   },
   {
    "duration": 7,
    "start_time": "2021-09-14T14:32:39.463Z"
   },
   {
    "duration": 15,
    "start_time": "2021-09-14T14:32:39.472Z"
   },
   {
    "duration": 37,
    "start_time": "2021-09-14T14:32:39.489Z"
   },
   {
    "duration": 33,
    "start_time": "2021-09-14T14:32:39.528Z"
   },
   {
    "duration": 36,
    "start_time": "2021-09-14T14:32:39.565Z"
   },
   {
    "duration": 10,
    "start_time": "2021-09-14T14:32:39.626Z"
   },
   {
    "duration": 10,
    "start_time": "2021-09-14T14:32:39.640Z"
   },
   {
    "duration": 6,
    "start_time": "2021-09-14T14:32:39.653Z"
   },
   {
    "duration": 12,
    "start_time": "2021-09-14T14:32:39.664Z"
   },
   {
    "duration": 42,
    "start_time": "2021-09-14T14:32:39.680Z"
   },
   {
    "duration": 11,
    "start_time": "2021-09-14T14:32:39.724Z"
   },
   {
    "duration": 11,
    "start_time": "2021-09-14T14:32:39.737Z"
   },
   {
    "duration": 7,
    "start_time": "2021-09-14T14:32:39.750Z"
   },
   {
    "duration": 7,
    "start_time": "2021-09-14T14:32:39.760Z"
   },
   {
    "duration": 68,
    "start_time": "2021-09-14T14:32:39.770Z"
   },
   {
    "duration": 4,
    "start_time": "2021-09-14T14:32:39.841Z"
   },
   {
    "duration": 19,
    "start_time": "2021-09-14T14:32:39.847Z"
   },
   {
    "duration": 5015,
    "start_time": "2021-09-14T14:32:39.868Z"
   },
   {
    "duration": 30,
    "start_time": "2021-09-14T14:32:44.886Z"
   },
   {
    "duration": 3,
    "start_time": "2021-09-14T14:32:44.918Z"
   },
   {
    "duration": 26,
    "start_time": "2021-09-14T14:32:44.924Z"
   },
   {
    "duration": 20,
    "start_time": "2021-09-14T14:32:44.953Z"
   },
   {
    "duration": 57,
    "start_time": "2021-09-14T14:32:44.976Z"
   },
   {
    "duration": 19,
    "start_time": "2021-09-14T14:32:45.035Z"
   },
   {
    "duration": 8,
    "start_time": "2021-09-14T14:32:45.056Z"
   },
   {
    "duration": 20,
    "start_time": "2021-09-14T14:32:45.067Z"
   },
   {
    "duration": 8,
    "start_time": "2021-09-14T14:32:45.089Z"
   },
   {
    "duration": 28,
    "start_time": "2021-09-14T14:32:45.099Z"
   },
   {
    "duration": 5,
    "start_time": "2021-09-14T14:32:45.130Z"
   },
   {
    "duration": 4031,
    "start_time": "2021-09-14T14:32:45.138Z"
   },
   {
    "duration": 68,
    "start_time": "2021-09-14T14:32:49.171Z"
   },
   {
    "duration": 10,
    "start_time": "2021-09-14T14:32:49.242Z"
   },
   {
    "duration": 29,
    "start_time": "2021-09-14T14:32:49.255Z"
   },
   {
    "duration": 63,
    "start_time": "2021-09-14T14:32:49.287Z"
   },
   {
    "duration": 23,
    "start_time": "2021-09-14T14:32:49.353Z"
   },
   {
    "duration": 15,
    "start_time": "2021-09-14T14:32:49.379Z"
   },
   {
    "duration": 53,
    "start_time": "2021-09-14T14:32:49.397Z"
   },
   {
    "duration": 11,
    "start_time": "2021-09-14T14:32:49.452Z"
   },
   {
    "duration": 16,
    "start_time": "2021-09-14T14:32:49.465Z"
   },
   {
    "duration": 47,
    "start_time": "2021-09-14T14:32:49.483Z"
   },
   {
    "duration": 13,
    "start_time": "2021-09-14T14:32:49.532Z"
   },
   {
    "duration": 17,
    "start_time": "2021-09-14T14:32:49.548Z"
   },
   {
    "duration": 60,
    "start_time": "2021-09-14T14:32:49.568Z"
   },
   {
    "duration": 13,
    "start_time": "2021-09-14T14:32:49.631Z"
   },
   {
    "duration": 16,
    "start_time": "2021-09-14T14:32:49.647Z"
   },
   {
    "duration": 869,
    "start_time": "2021-09-14T14:34:08.654Z"
   },
   {
    "duration": 85,
    "start_time": "2021-09-14T14:34:09.527Z"
   },
   {
    "duration": 42,
    "start_time": "2021-09-14T14:34:09.616Z"
   },
   {
    "duration": 28,
    "start_time": "2021-09-14T14:34:09.661Z"
   },
   {
    "duration": 47,
    "start_time": "2021-09-14T14:34:09.693Z"
   },
   {
    "duration": 24,
    "start_time": "2021-09-14T14:34:09.743Z"
   },
   {
    "duration": 4,
    "start_time": "2021-09-14T14:34:09.770Z"
   },
   {
    "duration": 12,
    "start_time": "2021-09-14T14:34:09.778Z"
   },
   {
    "duration": 29,
    "start_time": "2021-09-14T14:34:09.793Z"
   },
   {
    "duration": 21,
    "start_time": "2021-09-14T14:34:09.827Z"
   },
   {
    "duration": 13,
    "start_time": "2021-09-14T14:34:09.851Z"
   },
   {
    "duration": 36,
    "start_time": "2021-09-14T14:34:09.867Z"
   },
   {
    "duration": 24,
    "start_time": "2021-09-14T14:34:09.906Z"
   },
   {
    "duration": 28,
    "start_time": "2021-09-14T14:34:09.933Z"
   },
   {
    "duration": 9,
    "start_time": "2021-09-14T14:34:09.963Z"
   },
   {
    "duration": 13,
    "start_time": "2021-09-14T14:34:09.975Z"
   },
   {
    "duration": 41,
    "start_time": "2021-09-14T14:34:09.991Z"
   },
   {
    "duration": 38,
    "start_time": "2021-09-14T14:34:10.042Z"
   },
   {
    "duration": 54,
    "start_time": "2021-09-14T14:34:10.083Z"
   },
   {
    "duration": 7,
    "start_time": "2021-09-14T14:34:10.147Z"
   },
   {
    "duration": 13,
    "start_time": "2021-09-14T14:34:10.156Z"
   },
   {
    "duration": 9,
    "start_time": "2021-09-14T14:34:10.171Z"
   },
   {
    "duration": 7,
    "start_time": "2021-09-14T14:34:10.185Z"
   },
   {
    "duration": 23,
    "start_time": "2021-09-14T14:34:10.196Z"
   },
   {
    "duration": 10,
    "start_time": "2021-09-14T14:34:10.227Z"
   },
   {
    "duration": 12,
    "start_time": "2021-09-14T14:34:10.240Z"
   },
   {
    "duration": 7,
    "start_time": "2021-09-14T14:34:10.255Z"
   },
   {
    "duration": 8,
    "start_time": "2021-09-14T14:34:10.265Z"
   },
   {
    "duration": 66,
    "start_time": "2021-09-14T14:34:10.276Z"
   },
   {
    "duration": 4,
    "start_time": "2021-09-14T14:34:10.345Z"
   },
   {
    "duration": 13,
    "start_time": "2021-09-14T14:34:10.351Z"
   },
   {
    "duration": 3865,
    "start_time": "2021-09-14T14:34:10.367Z"
   },
   {
    "duration": 29,
    "start_time": "2021-09-14T14:34:14.235Z"
   },
   {
    "duration": 6,
    "start_time": "2021-09-14T14:34:14.267Z"
   },
   {
    "duration": 14,
    "start_time": "2021-09-14T14:34:14.275Z"
   },
   {
    "duration": 32,
    "start_time": "2021-09-14T14:34:14.291Z"
   },
   {
    "duration": 11,
    "start_time": "2021-09-14T14:34:14.327Z"
   },
   {
    "duration": 10,
    "start_time": "2021-09-14T14:34:14.341Z"
   },
   {
    "duration": 8,
    "start_time": "2021-09-14T14:34:14.354Z"
   },
   {
    "duration": 19,
    "start_time": "2021-09-14T14:34:14.364Z"
   },
   {
    "duration": 37,
    "start_time": "2021-09-14T14:34:14.385Z"
   },
   {
    "duration": 24,
    "start_time": "2021-09-14T14:34:14.424Z"
   },
   {
    "duration": 8,
    "start_time": "2021-09-14T14:34:14.451Z"
   },
   {
    "duration": 3979,
    "start_time": "2021-09-14T14:34:14.461Z"
   },
   {
    "duration": 57,
    "start_time": "2021-09-14T14:34:18.443Z"
   },
   {
    "duration": 19,
    "start_time": "2021-09-14T14:34:18.503Z"
   },
   {
    "duration": 33,
    "start_time": "2021-09-14T14:34:18.525Z"
   },
   {
    "duration": 36,
    "start_time": "2021-09-14T14:34:18.560Z"
   },
   {
    "duration": 24,
    "start_time": "2021-09-14T14:34:18.616Z"
   },
   {
    "duration": 11,
    "start_time": "2021-09-14T14:34:18.643Z"
   },
   {
    "duration": 34,
    "start_time": "2021-09-14T14:34:18.657Z"
   },
   {
    "duration": 30,
    "start_time": "2021-09-14T14:34:18.693Z"
   },
   {
    "duration": 27,
    "start_time": "2021-09-14T14:34:18.730Z"
   },
   {
    "duration": 30,
    "start_time": "2021-09-14T14:34:18.760Z"
   },
   {
    "duration": 11,
    "start_time": "2021-09-14T14:34:18.793Z"
   },
   {
    "duration": 14,
    "start_time": "2021-09-14T14:34:18.815Z"
   },
   {
    "duration": 38,
    "start_time": "2021-09-14T14:34:18.832Z"
   },
   {
    "duration": 11,
    "start_time": "2021-09-14T14:34:18.872Z"
   },
   {
    "duration": 49,
    "start_time": "2021-09-14T14:34:18.885Z"
   },
   {
    "duration": 4,
    "start_time": "2021-09-14T14:39:37.563Z"
   },
   {
    "duration": 2240,
    "start_time": "2021-09-14T14:39:38.601Z"
   },
   {
    "duration": 65,
    "start_time": "2021-09-14T14:39:44.273Z"
   },
   {
    "duration": 9,
    "start_time": "2021-09-14T14:39:45.001Z"
   },
   {
    "duration": 850,
    "start_time": "2021-09-14T14:41:08.746Z"
   },
   {
    "duration": 75,
    "start_time": "2021-09-14T14:41:09.598Z"
   },
   {
    "duration": 47,
    "start_time": "2021-09-14T14:41:09.677Z"
   },
   {
    "duration": 24,
    "start_time": "2021-09-14T14:41:09.729Z"
   },
   {
    "duration": 15,
    "start_time": "2021-09-14T14:41:09.756Z"
   },
   {
    "duration": 63,
    "start_time": "2021-09-14T14:41:09.773Z"
   },
   {
    "duration": 6,
    "start_time": "2021-09-14T14:41:09.839Z"
   },
   {
    "duration": 23,
    "start_time": "2021-09-14T14:41:09.849Z"
   },
   {
    "duration": 5,
    "start_time": "2021-09-14T14:41:09.875Z"
   },
   {
    "duration": 44,
    "start_time": "2021-09-14T14:41:09.882Z"
   },
   {
    "duration": 21,
    "start_time": "2021-09-14T14:41:09.929Z"
   },
   {
    "duration": 5,
    "start_time": "2021-09-14T14:41:09.952Z"
   },
   {
    "duration": 6,
    "start_time": "2021-09-14T14:41:09.960Z"
   },
   {
    "duration": 61,
    "start_time": "2021-09-14T14:41:09.968Z"
   },
   {
    "duration": 19,
    "start_time": "2021-09-14T14:41:10.032Z"
   },
   {
    "duration": 11,
    "start_time": "2021-09-14T14:41:10.054Z"
   },
   {
    "duration": 16,
    "start_time": "2021-09-14T14:41:10.067Z"
   },
   {
    "duration": 67,
    "start_time": "2021-09-14T14:41:10.086Z"
   },
   {
    "duration": 25,
    "start_time": "2021-09-14T14:41:10.156Z"
   },
   {
    "duration": 7,
    "start_time": "2021-09-14T14:41:10.184Z"
   },
   {
    "duration": 36,
    "start_time": "2021-09-14T14:41:10.194Z"
   },
   {
    "duration": 13,
    "start_time": "2021-09-14T14:41:10.232Z"
   },
   {
    "duration": 7,
    "start_time": "2021-09-14T14:41:10.250Z"
   },
   {
    "duration": 7,
    "start_time": "2021-09-14T14:41:10.260Z"
   },
   {
    "duration": 8,
    "start_time": "2021-09-14T14:41:10.269Z"
   },
   {
    "duration": 46,
    "start_time": "2021-09-14T14:41:10.279Z"
   },
   {
    "duration": 10,
    "start_time": "2021-09-14T14:41:10.327Z"
   },
   {
    "duration": 10,
    "start_time": "2021-09-14T14:41:10.339Z"
   },
   {
    "duration": 28,
    "start_time": "2021-09-14T14:41:10.351Z"
   },
   {
    "duration": 3,
    "start_time": "2021-09-14T14:41:10.382Z"
   },
   {
    "duration": 38,
    "start_time": "2021-09-14T14:41:10.387Z"
   },
   {
    "duration": 3555,
    "start_time": "2021-09-14T14:41:10.428Z"
   },
   {
    "duration": 36,
    "start_time": "2021-09-14T14:41:13.986Z"
   },
   {
    "duration": 11,
    "start_time": "2021-09-14T14:41:14.024Z"
   },
   {
    "duration": 25,
    "start_time": "2021-09-14T14:41:14.038Z"
   },
   {
    "duration": 6,
    "start_time": "2021-09-14T14:41:14.065Z"
   },
   {
    "duration": 9,
    "start_time": "2021-09-14T14:41:14.075Z"
   },
   {
    "duration": 36,
    "start_time": "2021-09-14T14:41:14.087Z"
   },
   {
    "duration": 14,
    "start_time": "2021-09-14T14:41:14.128Z"
   },
   {
    "duration": 18,
    "start_time": "2021-09-14T14:41:14.144Z"
   },
   {
    "duration": 6,
    "start_time": "2021-09-14T14:41:14.165Z"
   },
   {
    "duration": 16,
    "start_time": "2021-09-14T14:41:14.173Z"
   },
   {
    "duration": 25,
    "start_time": "2021-09-14T14:41:14.192Z"
   },
   {
    "duration": 4032,
    "start_time": "2021-09-14T14:41:14.222Z"
   },
   {
    "duration": 63,
    "start_time": "2021-09-14T14:41:18.257Z"
   },
   {
    "duration": 13,
    "start_time": "2021-09-14T14:41:18.322Z"
   },
   {
    "duration": 36,
    "start_time": "2021-09-14T14:41:18.340Z"
   },
   {
    "duration": 54,
    "start_time": "2021-09-14T14:41:18.378Z"
   },
   {
    "duration": 66,
    "start_time": "2021-09-14T14:41:18.438Z"
   },
   {
    "duration": 32,
    "start_time": "2021-09-14T14:41:18.507Z"
   },
   {
    "duration": 38,
    "start_time": "2021-09-14T14:41:18.542Z"
   },
   {
    "duration": 10,
    "start_time": "2021-09-14T14:41:18.582Z"
   },
   {
    "duration": 14,
    "start_time": "2021-09-14T14:41:18.595Z"
   },
   {
    "duration": 41,
    "start_time": "2021-09-14T14:41:18.611Z"
   },
   {
    "duration": 10,
    "start_time": "2021-09-14T14:41:18.655Z"
   },
   {
    "duration": 15,
    "start_time": "2021-09-14T14:41:18.668Z"
   },
   {
    "duration": 55,
    "start_time": "2021-09-14T14:41:18.688Z"
   },
   {
    "duration": 10,
    "start_time": "2021-09-14T14:41:18.746Z"
   },
   {
    "duration": 32,
    "start_time": "2021-09-14T14:41:18.758Z"
   },
   {
    "duration": 1068,
    "start_time": "2021-09-14T14:50:02.696Z"
   },
   {
    "duration": 78,
    "start_time": "2021-09-14T14:50:03.767Z"
   },
   {
    "duration": 30,
    "start_time": "2021-09-14T14:50:03.849Z"
   },
   {
    "duration": 21,
    "start_time": "2021-09-14T14:50:03.881Z"
   },
   {
    "duration": 19,
    "start_time": "2021-09-14T14:50:03.940Z"
   },
   {
    "duration": 24,
    "start_time": "2021-09-14T14:50:03.963Z"
   },
   {
    "duration": 10,
    "start_time": "2021-09-14T14:50:03.990Z"
   },
   {
    "duration": 14,
    "start_time": "2021-09-14T14:50:04.027Z"
   },
   {
    "duration": 9,
    "start_time": "2021-09-14T14:50:04.045Z"
   },
   {
    "duration": 29,
    "start_time": "2021-09-14T14:50:04.057Z"
   },
   {
    "duration": 41,
    "start_time": "2021-09-14T14:50:04.089Z"
   },
   {
    "duration": 7,
    "start_time": "2021-09-14T14:50:04.133Z"
   },
   {
    "duration": 12,
    "start_time": "2021-09-14T14:50:04.143Z"
   },
   {
    "duration": 73,
    "start_time": "2021-09-14T14:50:04.158Z"
   },
   {
    "duration": 8,
    "start_time": "2021-09-14T14:50:04.237Z"
   },
   {
    "duration": 16,
    "start_time": "2021-09-14T14:50:04.248Z"
   },
   {
    "duration": 29,
    "start_time": "2021-09-14T14:50:04.266Z"
   },
   {
    "duration": 47,
    "start_time": "2021-09-14T14:50:04.300Z"
   },
   {
    "duration": 27,
    "start_time": "2021-09-14T14:50:04.351Z"
   },
   {
    "duration": 6,
    "start_time": "2021-09-14T14:50:04.380Z"
   },
   {
    "duration": 40,
    "start_time": "2021-09-14T14:50:04.388Z"
   },
   {
    "duration": 12,
    "start_time": "2021-09-14T14:50:04.433Z"
   },
   {
    "duration": 20,
    "start_time": "2021-09-14T14:50:04.448Z"
   },
   {
    "duration": 12,
    "start_time": "2021-09-14T14:50:04.470Z"
   },
   {
    "duration": 17,
    "start_time": "2021-09-14T14:50:04.485Z"
   },
   {
    "duration": 37,
    "start_time": "2021-09-14T14:50:04.504Z"
   },
   {
    "duration": 9,
    "start_time": "2021-09-14T14:50:04.544Z"
   },
   {
    "duration": 13,
    "start_time": "2021-09-14T14:50:04.556Z"
   },
   {
    "duration": 60,
    "start_time": "2021-09-14T14:50:04.571Z"
   },
   {
    "duration": 9,
    "start_time": "2021-09-14T14:50:04.634Z"
   },
   {
    "duration": 32,
    "start_time": "2021-09-14T14:50:04.647Z"
   },
   {
    "duration": 3683,
    "start_time": "2021-09-14T14:50:04.682Z"
   },
   {
    "duration": 23,
    "start_time": "2021-09-14T14:50:08.367Z"
   },
   {
    "duration": 5,
    "start_time": "2021-09-14T14:50:08.392Z"
   },
   {
    "duration": 18,
    "start_time": "2021-09-14T14:50:08.424Z"
   },
   {
    "duration": 6,
    "start_time": "2021-09-14T14:50:08.447Z"
   },
   {
    "duration": 8,
    "start_time": "2021-09-14T14:50:08.455Z"
   },
   {
    "duration": 19,
    "start_time": "2021-09-14T14:50:08.466Z"
   },
   {
    "duration": 37,
    "start_time": "2021-09-14T14:50:08.488Z"
   },
   {
    "duration": 21,
    "start_time": "2021-09-14T14:50:08.529Z"
   },
   {
    "duration": 7,
    "start_time": "2021-09-14T14:50:08.553Z"
   },
   {
    "duration": 14,
    "start_time": "2021-09-14T14:50:08.562Z"
   },
   {
    "duration": 6,
    "start_time": "2021-09-14T14:50:08.579Z"
   },
   {
    "duration": 4216,
    "start_time": "2021-09-14T14:50:08.588Z"
   },
   {
    "duration": 73,
    "start_time": "2021-09-14T14:50:12.806Z"
   },
   {
    "duration": 12,
    "start_time": "2021-09-14T14:50:12.881Z"
   },
   {
    "duration": 42,
    "start_time": "2021-09-14T14:50:12.915Z"
   },
   {
    "duration": 33,
    "start_time": "2021-09-14T14:50:12.960Z"
   },
   {
    "duration": 24,
    "start_time": "2021-09-14T14:50:13.016Z"
   },
   {
    "duration": 13,
    "start_time": "2021-09-14T14:50:13.046Z"
   },
   {
    "duration": 32,
    "start_time": "2021-09-14T14:50:13.062Z"
   },
   {
    "duration": 36,
    "start_time": "2021-09-14T14:50:13.096Z"
   },
   {
    "duration": 15,
    "start_time": "2021-09-14T14:50:13.136Z"
   },
   {
    "duration": 27,
    "start_time": "2021-09-14T14:50:13.157Z"
   },
   {
    "duration": 39,
    "start_time": "2021-09-14T14:50:13.186Z"
   },
   {
    "duration": 18,
    "start_time": "2021-09-14T14:50:13.229Z"
   },
   {
    "duration": 28,
    "start_time": "2021-09-14T14:50:13.249Z"
   },
   {
    "duration": 47,
    "start_time": "2021-09-14T14:50:13.279Z"
   },
   {
    "duration": 18,
    "start_time": "2021-09-14T14:50:13.329Z"
   },
   {
    "duration": 31,
    "start_time": "2021-09-14T14:51:52.321Z"
   },
   {
    "duration": 874,
    "start_time": "2021-09-14T14:52:48.104Z"
   },
   {
    "duration": 75,
    "start_time": "2021-09-14T14:52:48.981Z"
   },
   {
    "duration": 28,
    "start_time": "2021-09-14T14:52:49.058Z"
   },
   {
    "duration": 50,
    "start_time": "2021-09-14T14:52:49.089Z"
   },
   {
    "duration": 19,
    "start_time": "2021-09-14T14:52:49.142Z"
   },
   {
    "duration": 23,
    "start_time": "2021-09-14T14:52:49.163Z"
   },
   {
    "duration": 28,
    "start_time": "2021-09-14T14:52:49.188Z"
   },
   {
    "duration": 15,
    "start_time": "2021-09-14T14:52:49.220Z"
   },
   {
    "duration": 10,
    "start_time": "2021-09-14T14:52:49.240Z"
   },
   {
    "duration": 22,
    "start_time": "2021-09-14T14:52:49.253Z"
   },
   {
    "duration": 57,
    "start_time": "2021-09-14T14:52:49.278Z"
   },
   {
    "duration": 6,
    "start_time": "2021-09-14T14:52:49.338Z"
   },
   {
    "duration": 7,
    "start_time": "2021-09-14T14:52:49.346Z"
   },
   {
    "duration": 22,
    "start_time": "2021-09-14T14:52:49.356Z"
   },
   {
    "duration": 44,
    "start_time": "2021-09-14T14:52:49.380Z"
   },
   {
    "duration": 17,
    "start_time": "2021-09-14T14:52:49.428Z"
   },
   {
    "duration": 19,
    "start_time": "2021-09-14T14:52:49.448Z"
   },
   {
    "duration": 56,
    "start_time": "2021-09-14T14:52:49.470Z"
   },
   {
    "duration": 34,
    "start_time": "2021-09-14T14:52:49.528Z"
   },
   {
    "duration": 8,
    "start_time": "2021-09-14T14:52:49.565Z"
   },
   {
    "duration": 18,
    "start_time": "2021-09-14T14:52:49.576Z"
   },
   {
    "duration": 30,
    "start_time": "2021-09-14T14:52:49.596Z"
   },
   {
    "duration": 8,
    "start_time": "2021-09-14T14:52:49.633Z"
   },
   {
    "duration": 11,
    "start_time": "2021-09-14T14:52:49.646Z"
   },
   {
    "duration": 12,
    "start_time": "2021-09-14T14:52:49.660Z"
   },
   {
    "duration": 10,
    "start_time": "2021-09-14T14:52:49.674Z"
   },
   {
    "duration": 7,
    "start_time": "2021-09-14T14:52:49.716Z"
   },
   {
    "duration": 14,
    "start_time": "2021-09-14T14:52:49.725Z"
   },
   {
    "duration": 28,
    "start_time": "2021-09-14T14:52:49.743Z"
   },
   {
    "duration": 3,
    "start_time": "2021-09-14T14:52:49.774Z"
   },
   {
    "duration": 47,
    "start_time": "2021-09-14T14:52:49.779Z"
   },
   {
    "duration": 3521,
    "start_time": "2021-09-14T14:52:49.829Z"
   },
   {
    "duration": 25,
    "start_time": "2021-09-14T14:52:53.354Z"
   },
   {
    "duration": 14,
    "start_time": "2021-09-14T14:52:53.381Z"
   },
   {
    "duration": 34,
    "start_time": "2021-09-14T14:52:53.398Z"
   },
   {
    "duration": 7,
    "start_time": "2021-09-14T14:52:53.435Z"
   },
   {
    "duration": 15,
    "start_time": "2021-09-14T14:52:53.445Z"
   },
   {
    "duration": 22,
    "start_time": "2021-09-14T14:52:53.462Z"
   },
   {
    "duration": 9,
    "start_time": "2021-09-14T14:52:53.486Z"
   },
   {
    "duration": 48,
    "start_time": "2021-09-14T14:52:53.497Z"
   },
   {
    "duration": 4,
    "start_time": "2021-09-14T14:52:53.549Z"
   },
   {
    "duration": 21,
    "start_time": "2021-09-14T14:52:53.556Z"
   },
   {
    "duration": 11,
    "start_time": "2021-09-14T14:52:53.580Z"
   },
   {
    "duration": 4299,
    "start_time": "2021-09-14T14:52:53.594Z"
   },
   {
    "duration": 77,
    "start_time": "2021-09-14T14:52:57.896Z"
   },
   {
    "duration": 56,
    "start_time": "2021-09-14T14:52:57.976Z"
   },
   {
    "duration": 29,
    "start_time": "2021-09-14T14:52:58.038Z"
   },
   {
    "duration": 17,
    "start_time": "2021-09-14T14:52:58.070Z"
   },
   {
    "duration": 11,
    "start_time": "2021-09-14T14:52:58.089Z"
   },
   {
    "duration": 34,
    "start_time": "2021-09-14T14:52:58.121Z"
   },
   {
    "duration": 10,
    "start_time": "2021-09-14T14:52:58.158Z"
   },
   {
    "duration": 17,
    "start_time": "2021-09-14T14:52:58.170Z"
   },
   {
    "duration": 64,
    "start_time": "2021-09-14T14:52:58.189Z"
   },
   {
    "duration": 11,
    "start_time": "2021-09-14T14:52:58.256Z"
   },
   {
    "duration": 19,
    "start_time": "2021-09-14T14:52:58.270Z"
   },
   {
    "duration": 61,
    "start_time": "2021-09-14T14:52:58.291Z"
   },
   {
    "duration": 12,
    "start_time": "2021-09-14T14:52:58.354Z"
   },
   {
    "duration": 14,
    "start_time": "2021-09-14T14:52:58.369Z"
   },
   {
    "duration": 894,
    "start_time": "2021-09-15T06:52:11.980Z"
   },
   {
    "duration": 65,
    "start_time": "2021-09-15T06:52:12.876Z"
   },
   {
    "duration": 36,
    "start_time": "2021-09-15T06:52:12.944Z"
   },
   {
    "duration": 19,
    "start_time": "2021-09-15T06:52:12.983Z"
   },
   {
    "duration": 17,
    "start_time": "2021-09-15T06:52:13.004Z"
   },
   {
    "duration": 58,
    "start_time": "2021-09-15T06:52:13.023Z"
   },
   {
    "duration": 4,
    "start_time": "2021-09-15T06:52:13.084Z"
   },
   {
    "duration": 33,
    "start_time": "2021-09-15T06:52:13.091Z"
   },
   {
    "duration": 16,
    "start_time": "2021-09-15T06:52:13.127Z"
   },
   {
    "duration": 44,
    "start_time": "2021-09-15T06:52:13.145Z"
   },
   {
    "duration": 23,
    "start_time": "2021-09-15T06:52:13.192Z"
   },
   {
    "duration": 14,
    "start_time": "2021-09-15T06:52:13.217Z"
   },
   {
    "duration": 24,
    "start_time": "2021-09-15T06:52:13.233Z"
   },
   {
    "duration": 37,
    "start_time": "2021-09-15T06:52:13.261Z"
   },
   {
    "duration": 38,
    "start_time": "2021-09-15T06:52:13.301Z"
   },
   {
    "duration": 38,
    "start_time": "2021-09-15T06:52:13.342Z"
   },
   {
    "duration": 40,
    "start_time": "2021-09-15T06:52:13.383Z"
   },
   {
    "duration": 63,
    "start_time": "2021-09-15T06:52:13.425Z"
   },
   {
    "duration": 26,
    "start_time": "2021-09-15T06:52:13.492Z"
   },
   {
    "duration": 14,
    "start_time": "2021-09-15T06:52:13.521Z"
   },
   {
    "duration": 54,
    "start_time": "2021-09-15T06:52:13.537Z"
   },
   {
    "duration": 28,
    "start_time": "2021-09-15T06:52:13.594Z"
   },
   {
    "duration": 14,
    "start_time": "2021-09-15T06:52:13.628Z"
   },
   {
    "duration": 16,
    "start_time": "2021-09-15T06:52:13.645Z"
   },
   {
    "duration": 18,
    "start_time": "2021-09-15T06:52:13.664Z"
   },
   {
    "duration": 19,
    "start_time": "2021-09-15T06:52:13.685Z"
   },
   {
    "duration": 18,
    "start_time": "2021-09-15T06:52:13.706Z"
   },
   {
    "duration": 16,
    "start_time": "2021-09-15T06:52:13.726Z"
   },
   {
    "duration": 42,
    "start_time": "2021-09-15T06:52:13.745Z"
   },
   {
    "duration": 3,
    "start_time": "2021-09-15T06:52:13.790Z"
   },
   {
    "duration": 21,
    "start_time": "2021-09-15T06:52:13.796Z"
   },
   {
    "duration": 3772,
    "start_time": "2021-09-15T06:52:13.819Z"
   },
   {
    "duration": 22,
    "start_time": "2021-09-15T06:52:17.594Z"
   },
   {
    "duration": 20,
    "start_time": "2021-09-15T06:52:17.618Z"
   },
   {
    "duration": 31,
    "start_time": "2021-09-15T06:52:17.641Z"
   },
   {
    "duration": 22,
    "start_time": "2021-09-15T06:52:17.674Z"
   },
   {
    "duration": 26,
    "start_time": "2021-09-15T06:52:17.698Z"
   },
   {
    "duration": 14,
    "start_time": "2021-09-15T06:52:17.727Z"
   },
   {
    "duration": 23,
    "start_time": "2021-09-15T06:52:17.744Z"
   },
   {
    "duration": 29,
    "start_time": "2021-09-15T06:52:17.770Z"
   },
   {
    "duration": 13,
    "start_time": "2021-09-15T06:52:17.801Z"
   },
   {
    "duration": 15,
    "start_time": "2021-09-15T06:52:17.816Z"
   },
   {
    "duration": 14,
    "start_time": "2021-09-15T06:52:17.834Z"
   },
   {
    "duration": 3822,
    "start_time": "2021-09-15T06:52:17.850Z"
   },
   {
    "duration": 55,
    "start_time": "2021-09-15T06:52:21.675Z"
   },
   {
    "duration": 53,
    "start_time": "2021-09-15T06:52:21.733Z"
   },
   {
    "duration": 24,
    "start_time": "2021-09-15T06:52:21.789Z"
   },
   {
    "duration": 18,
    "start_time": "2021-09-15T06:52:21.815Z"
   },
   {
    "duration": 33,
    "start_time": "2021-09-15T06:52:21.835Z"
   },
   {
    "duration": 39,
    "start_time": "2021-09-15T06:52:21.871Z"
   },
   {
    "duration": 9,
    "start_time": "2021-09-15T06:52:21.913Z"
   },
   {
    "duration": 22,
    "start_time": "2021-09-15T06:52:21.924Z"
   },
   {
    "duration": 32,
    "start_time": "2021-09-15T06:52:21.957Z"
   },
   {
    "duration": 10,
    "start_time": "2021-09-15T06:52:21.991Z"
   },
   {
    "duration": 30,
    "start_time": "2021-09-15T06:52:22.003Z"
   },
   {
    "duration": 101,
    "start_time": "2021-09-15T06:52:22.036Z"
   },
   {
    "duration": 17,
    "start_time": "2021-09-15T06:52:22.139Z"
   },
   {
    "duration": 25,
    "start_time": "2021-09-15T06:52:22.160Z"
   }
  ],
  "kernelspec": {
   "display_name": "Python 3",
   "language": "python",
   "name": "python3"
  },
  "language_info": {
   "codemirror_mode": {
    "name": "ipython",
    "version": 3
   },
   "file_extension": ".py",
   "mimetype": "text/x-python",
   "name": "python",
   "nbconvert_exporter": "python",
   "pygments_lexer": "ipython3",
   "version": "3.7.8"
  },
  "toc": {
   "base_numbering": 1,
   "nav_menu": {},
   "number_sections": true,
   "sideBar": true,
   "skip_h1_title": true,
   "title_cell": "Оглавление",
   "title_sidebar": "Contents",
   "toc_cell": true,
   "toc_position": {
    "height": "calc(100% - 180px)",
    "left": "10px",
    "top": "150px",
    "width": "255.594px"
   },
   "toc_section_display": true,
   "toc_window_display": true
  }
 },
 "nbformat": 4,
 "nbformat_minor": 2
}
