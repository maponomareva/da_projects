{
 "cells": [
  {
   "cell_type": "markdown",
   "metadata": {
    "cellId": "90jsu6ewcw4a2i9tag1zjs"
   },
   "source": [
    "# Предсказание оттока клиентов в фитнес-центре"
   ]
  },
  {
   "cell_type": "markdown",
   "metadata": {
    "cellId": "zii5gw92anf8kxkz1dnxs"
   },
   "source": [
    "Целью настоящего исследования является разработка плана по удержанию клиентов сети фитнес-центров «Культурист-датасаентист». Путём анализа клиентских анкет планируется решить следующие задачи:\n",
    "1. Научиться прогнозировать вероятность оттока на уровне следующего месяца для каждого клиента;\n",
    "2. Сформировать типичные портреты клиентов: выделить несколько наиболее ярких групп и охарактеризовать их основные свойства;\n",
    "3. Проанализировать основные признаки, наиболее сильно влияющие на отток;\n",
    "4. Разработать рекомендации по повышению качества работы с клиентами:\n",
    "    1. выделить целевые группы клиентов;\n",
    "    2. предложить меры по снижению оттока;\n",
    "    3. определить другие особенности взаимодействия с клиентами."
   ]
  },
  {
   "cell_type": "markdown",
   "metadata": {
    "cellId": "7hy3eu8q1nknfb6qgi2xug"
   },
   "source": [
    "<h1>Содержание<span class=\"tocSkip\"></span></h1>\n",
    "<div class=\"toc\"><ul class=\"toc-item\"><li><span><a href=\"#Загрузка-данных\" data-toc-modified-id=\"Загрузка-данных-1\"><span class=\"toc-item-num\">1&nbsp;&nbsp;</span>Загрузка данных</a></span></li><li><span><a href=\"#Исследовательский-анализ-данных\" data-toc-modified-id=\"Исследовательский-анализ-данных-2\"><span class=\"toc-item-num\">2&nbsp;&nbsp;</span>Исследовательский анализ данных</a></span></li><li><span><a href=\"#Прогнозирование-оттока-клиентов\" data-toc-modified-id=\"Прогнозирование-оттока-клиентов-3\"><span class=\"toc-item-num\">3&nbsp;&nbsp;</span>Прогнозирование оттока клиентов</a></span></li><li><span><a href=\"#Кластеризация-клиентов\" data-toc-modified-id=\"Кластеризация-клиентов-4\"><span class=\"toc-item-num\">4&nbsp;&nbsp;</span>Кластеризация клиентов</a></span></li><li><span><a href=\"#Общий-вывод\" data-toc-modified-id=\"Общий-вывод-5\"><span class=\"toc-item-num\">5&nbsp;&nbsp;</span>Общий вывод</a></span></li></ul></div>"
   ]
  },
  {
   "cell_type": "markdown",
   "metadata": {
    "cellId": "kaxm0d058zg2s0qtjnw612"
   },
   "source": [
    "## Загрузка данных"
   ]
  },
  {
   "cell_type": "code",
   "execution_count": 1,
   "metadata": {
    "cellId": "yui4a15ffp8njh8rzx7b"
   },
   "outputs": [
    {
     "name": "stdout",
     "output_type": "stream",
     "text": [
      "Defaulting to user installation because normal site-packages is not writeable\n",
      "Collecting scikit-learn==0.22.1\n",
      "  Downloading scikit_learn-0.22.1-cp37-cp37m-manylinux1_x86_64.whl (7.0 MB)\n",
      "\u001b[K     |████████████████████████████████| 7.0 MB 1.2 MB/s eta 0:00:01\n",
      "\u001b[?25hRequirement already satisfied: scipy>=0.17.0 in /opt/conda/lib/python3.7/site-packages (from scikit-learn==0.22.1) (1.4.1)\n",
      "Requirement already satisfied: numpy>=1.11.0 in /opt/conda/lib/python3.7/site-packages (from scikit-learn==0.22.1) (1.19.5)\n",
      "Requirement already satisfied: joblib>=0.11 in /opt/conda/lib/python3.7/site-packages (from scikit-learn==0.22.1) (1.0.1)\n",
      "Installing collected packages: scikit-learn\n",
      "Successfully installed scikit-learn-0.22.1\n",
      "Note: you may need to restart the kernel to use updated packages.\n"
     ]
    }
   ],
   "source": [
    "# загрузка библиотек\n",
    "%pip install scikit-learn==0.22.1\n",
    "\n",
    "import pandas as pd\n",
    "import numpy as np\n",
    "\n",
    "import matplotlib.pyplot as plt\n",
    "import seaborn as sns\n",
    "\n",
    "from sklearn.model_selection import train_test_split\n",
    "from sklearn.linear_model import LogisticRegression\n",
    "from sklearn.ensemble import RandomForestClassifier\n",
    "from sklearn.metrics import accuracy_score, precision_score, recall_score, f1_score, roc_auc_score\n",
    "from sklearn.preprocessing import StandardScaler\n",
    "\n",
    "from scipy.cluster.hierarchy import dendrogram, linkage\n",
    "from sklearn.cluster import KMeans"
   ]
  },
  {
   "cell_type": "code",
   "execution_count": 2,
   "metadata": {
    "cellId": "j6wzkamo8lf707dbedf1ws"
   },
   "outputs": [],
   "source": [
    "# чтение файла\n",
    "try:\n",
    "    df = pd.read_csv('gym_churn.csv')\n",
    "except:\n",
    "    df = pd.read_csv('https://code.s3.yandex.net/datasets/gym_churn.csv')"
   ]
  },
  {
   "cell_type": "code",
   "execution_count": 3,
   "metadata": {
    "cellId": "961zye4d7aa1b6058hy1n6"
   },
   "outputs": [
    {
     "name": "stdout",
     "output_type": "stream",
     "text": [
      "<class 'pandas.core.frame.DataFrame'>\n",
      "RangeIndex: 4000 entries, 0 to 3999\n",
      "Data columns (total 14 columns):\n",
      "gender                               4000 non-null int64\n",
      "Near_Location                        4000 non-null int64\n",
      "Partner                              4000 non-null int64\n",
      "Promo_friends                        4000 non-null int64\n",
      "Phone                                4000 non-null int64\n",
      "Contract_period                      4000 non-null int64\n",
      "Group_visits                         4000 non-null int64\n",
      "Age                                  4000 non-null int64\n",
      "Avg_additional_charges_total         4000 non-null float64\n",
      "Month_to_end_contract                4000 non-null float64\n",
      "Lifetime                             4000 non-null int64\n",
      "Avg_class_frequency_total            4000 non-null float64\n",
      "Avg_class_frequency_current_month    4000 non-null float64\n",
      "Churn                                4000 non-null int64\n",
      "dtypes: float64(4), int64(10)\n",
      "memory usage: 437.6 KB\n"
     ]
    },
    {
     "data": {
      "text/html": [
       "<div>\n",
       "<style scoped>\n",
       "    .dataframe tbody tr th:only-of-type {\n",
       "        vertical-align: middle;\n",
       "    }\n",
       "\n",
       "    .dataframe tbody tr th {\n",
       "        vertical-align: top;\n",
       "    }\n",
       "\n",
       "    .dataframe thead th {\n",
       "        text-align: right;\n",
       "    }\n",
       "</style>\n",
       "<table border=\"1\" class=\"dataframe\">\n",
       "  <thead>\n",
       "    <tr style=\"text-align: right;\">\n",
       "      <th></th>\n",
       "      <th>gender</th>\n",
       "      <th>Near_Location</th>\n",
       "      <th>Partner</th>\n",
       "      <th>Promo_friends</th>\n",
       "      <th>Phone</th>\n",
       "      <th>Contract_period</th>\n",
       "      <th>Group_visits</th>\n",
       "      <th>Age</th>\n",
       "      <th>Avg_additional_charges_total</th>\n",
       "      <th>Month_to_end_contract</th>\n",
       "      <th>Lifetime</th>\n",
       "      <th>Avg_class_frequency_total</th>\n",
       "      <th>Avg_class_frequency_current_month</th>\n",
       "      <th>Churn</th>\n",
       "    </tr>\n",
       "  </thead>\n",
       "  <tbody>\n",
       "    <tr>\n",
       "      <td>2947</td>\n",
       "      <td>1</td>\n",
       "      <td>0</td>\n",
       "      <td>0</td>\n",
       "      <td>0</td>\n",
       "      <td>1</td>\n",
       "      <td>6</td>\n",
       "      <td>1</td>\n",
       "      <td>27</td>\n",
       "      <td>321.281835</td>\n",
       "      <td>6.0</td>\n",
       "      <td>1</td>\n",
       "      <td>0.604105</td>\n",
       "      <td>0.636360</td>\n",
       "      <td>0</td>\n",
       "    </tr>\n",
       "    <tr>\n",
       "      <td>1415</td>\n",
       "      <td>1</td>\n",
       "      <td>0</td>\n",
       "      <td>1</td>\n",
       "      <td>1</td>\n",
       "      <td>1</td>\n",
       "      <td>1</td>\n",
       "      <td>1</td>\n",
       "      <td>31</td>\n",
       "      <td>352.569017</td>\n",
       "      <td>1.0</td>\n",
       "      <td>4</td>\n",
       "      <td>1.006192</td>\n",
       "      <td>0.860990</td>\n",
       "      <td>0</td>\n",
       "    </tr>\n",
       "    <tr>\n",
       "      <td>3378</td>\n",
       "      <td>1</td>\n",
       "      <td>1</td>\n",
       "      <td>0</td>\n",
       "      <td>0</td>\n",
       "      <td>0</td>\n",
       "      <td>1</td>\n",
       "      <td>1</td>\n",
       "      <td>32</td>\n",
       "      <td>179.238026</td>\n",
       "      <td>1.0</td>\n",
       "      <td>10</td>\n",
       "      <td>2.873329</td>\n",
       "      <td>2.913151</td>\n",
       "      <td>0</td>\n",
       "    </tr>\n",
       "    <tr>\n",
       "      <td>3150</td>\n",
       "      <td>1</td>\n",
       "      <td>1</td>\n",
       "      <td>0</td>\n",
       "      <td>0</td>\n",
       "      <td>1</td>\n",
       "      <td>1</td>\n",
       "      <td>0</td>\n",
       "      <td>26</td>\n",
       "      <td>13.818039</td>\n",
       "      <td>1.0</td>\n",
       "      <td>4</td>\n",
       "      <td>2.617373</td>\n",
       "      <td>2.609531</td>\n",
       "      <td>0</td>\n",
       "    </tr>\n",
       "    <tr>\n",
       "      <td>3011</td>\n",
       "      <td>0</td>\n",
       "      <td>0</td>\n",
       "      <td>1</td>\n",
       "      <td>0</td>\n",
       "      <td>1</td>\n",
       "      <td>1</td>\n",
       "      <td>0</td>\n",
       "      <td>29</td>\n",
       "      <td>46.929359</td>\n",
       "      <td>1.0</td>\n",
       "      <td>3</td>\n",
       "      <td>1.777541</td>\n",
       "      <td>1.773045</td>\n",
       "      <td>0</td>\n",
       "    </tr>\n",
       "  </tbody>\n",
       "</table>\n",
       "</div>"
      ],
      "text/plain": [
       "      gender  Near_Location  Partner  Promo_friends  Phone  Contract_period  \\\n",
       "2947       1              0        0              0      1                6   \n",
       "1415       1              0        1              1      1                1   \n",
       "3378       1              1        0              0      0                1   \n",
       "3150       1              1        0              0      1                1   \n",
       "3011       0              0        1              0      1                1   \n",
       "\n",
       "      Group_visits  Age  Avg_additional_charges_total  Month_to_end_contract  \\\n",
       "2947             1   27                    321.281835                    6.0   \n",
       "1415             1   31                    352.569017                    1.0   \n",
       "3378             1   32                    179.238026                    1.0   \n",
       "3150             0   26                     13.818039                    1.0   \n",
       "3011             0   29                     46.929359                    1.0   \n",
       "\n",
       "      Lifetime  Avg_class_frequency_total  Avg_class_frequency_current_month  \\\n",
       "2947         1                   0.604105                           0.636360   \n",
       "1415         4                   1.006192                           0.860990   \n",
       "3378        10                   2.873329                           2.913151   \n",
       "3150         4                   2.617373                           2.609531   \n",
       "3011         3                   1.777541                           1.773045   \n",
       "\n",
       "      Churn  \n",
       "2947      0  \n",
       "1415      0  \n",
       "3378      0  \n",
       "3150      0  \n",
       "3011      0  "
      ]
     },
     "execution_count": 3,
     "metadata": {},
     "output_type": "execute_result"
    }
   ],
   "source": [
    "# выведем краткую сводку и случайные 5 строк датафрейма\n",
    "df.info()\n",
    "df.sample(5)"
   ]
  },
  {
   "cell_type": "markdown",
   "metadata": {
    "cellId": "jov5y16r5wnlmqp9gu9"
   },
   "source": [
    "В датасете содержатся следующие сведения о клиентах: \n",
    "- пол; \n",
    "- факт проживания или работы поблизости с фитнес-центром; \n",
    "- наличие корпоративного абонемента; \n",
    "- факт первоначальной записи в рамках акции «Приведи друга»; \n",
    "- наличие контактного телефона;\n",
    "- длительность текущего абонемента;\n",
    "- факт посещения групповых занятий;\n",
    "- возраст;\n",
    "- суммарная выручка от других услуг фитнес-центра: кафе, спорт-товары, косметический и массажный салон;\n",
    "- срок до окончания действующего абонемента;\n",
    "- время с момента первого посещения фитнес-центра в месяцах;\n",
    "- средняя частота посещений в неделю за все время с начала действия абонемента;\n",
    "- средняя частота посещений в неделю за предыдущий месяц;\n",
    "- факт оттока в текущем месяце.\n",
    "\n",
    "Категориальные значения переведены в числовые, пропущенных значений нет. Проверим наличие дубликатов:"
   ]
  },
  {
   "cell_type": "code",
   "execution_count": 4,
   "metadata": {
    "cellId": "4lu7fbaurr3uora0pqso48"
   },
   "outputs": [
    {
     "data": {
      "text/plain": [
       "0"
      ]
     },
     "execution_count": 4,
     "metadata": {},
     "output_type": "execute_result"
    }
   ],
   "source": [
    "df.duplicated().sum()"
   ]
  },
  {
   "cell_type": "markdown",
   "metadata": {
    "cellId": "2odysu9y6zdy9407ppuaa"
   },
   "source": [
    "Среди 4000 клиентских анкет повторов не обнаружено. Теперь можно изучить данные поподробнее."
   ]
  },
  {
   "cell_type": "code",
   "execution_count": 5,
   "metadata": {
    "cellId": "lv34duwedv5c4cfdm28kk"
   },
   "outputs": [],
   "source": [
    "# переведём названия столбцов в нижний регистр для удобства\n",
    "df.columns = df.columns.str.lower()"
   ]
  },
  {
   "cell_type": "markdown",
   "metadata": {
    "cellId": "4p5bb7c7shtvx838xbedqb"
   },
   "source": [
    "## Исследовательский анализ данных"
   ]
  },
  {
   "cell_type": "code",
   "execution_count": 6,
   "metadata": {
    "cellId": "ltezt8l247hv9g5r92eiti"
   },
   "outputs": [
    {
     "data": {
      "text/html": [
       "<div>\n",
       "<style scoped>\n",
       "    .dataframe tbody tr th:only-of-type {\n",
       "        vertical-align: middle;\n",
       "    }\n",
       "\n",
       "    .dataframe tbody tr th {\n",
       "        vertical-align: top;\n",
       "    }\n",
       "\n",
       "    .dataframe thead th {\n",
       "        text-align: right;\n",
       "    }\n",
       "</style>\n",
       "<table border=\"1\" class=\"dataframe\">\n",
       "  <thead>\n",
       "    <tr style=\"text-align: right;\">\n",
       "      <th></th>\n",
       "      <th>gender</th>\n",
       "      <th>near_location</th>\n",
       "      <th>partner</th>\n",
       "      <th>promo_friends</th>\n",
       "      <th>phone</th>\n",
       "      <th>contract_period</th>\n",
       "      <th>group_visits</th>\n",
       "      <th>age</th>\n",
       "      <th>avg_additional_charges_total</th>\n",
       "      <th>month_to_end_contract</th>\n",
       "      <th>lifetime</th>\n",
       "      <th>avg_class_frequency_total</th>\n",
       "      <th>avg_class_frequency_current_month</th>\n",
       "      <th>churn</th>\n",
       "    </tr>\n",
       "  </thead>\n",
       "  <tbody>\n",
       "    <tr>\n",
       "      <td>count</td>\n",
       "      <td>4000.000000</td>\n",
       "      <td>4000.000000</td>\n",
       "      <td>4000.000000</td>\n",
       "      <td>4000.000000</td>\n",
       "      <td>4000.000000</td>\n",
       "      <td>4000.000000</td>\n",
       "      <td>4000.000000</td>\n",
       "      <td>4000.000000</td>\n",
       "      <td>4000.000000</td>\n",
       "      <td>4000.000000</td>\n",
       "      <td>4000.000000</td>\n",
       "      <td>4000.000000</td>\n",
       "      <td>4000.000000</td>\n",
       "      <td>4000.000000</td>\n",
       "    </tr>\n",
       "    <tr>\n",
       "      <td>mean</td>\n",
       "      <td>0.510250</td>\n",
       "      <td>0.845250</td>\n",
       "      <td>0.486750</td>\n",
       "      <td>0.308500</td>\n",
       "      <td>0.903500</td>\n",
       "      <td>4.681250</td>\n",
       "      <td>0.412250</td>\n",
       "      <td>29.184250</td>\n",
       "      <td>146.943728</td>\n",
       "      <td>4.322750</td>\n",
       "      <td>3.724750</td>\n",
       "      <td>1.879020</td>\n",
       "      <td>1.767052</td>\n",
       "      <td>0.265250</td>\n",
       "    </tr>\n",
       "    <tr>\n",
       "      <td>std</td>\n",
       "      <td>0.499957</td>\n",
       "      <td>0.361711</td>\n",
       "      <td>0.499887</td>\n",
       "      <td>0.461932</td>\n",
       "      <td>0.295313</td>\n",
       "      <td>4.549706</td>\n",
       "      <td>0.492301</td>\n",
       "      <td>3.258367</td>\n",
       "      <td>96.355602</td>\n",
       "      <td>4.191297</td>\n",
       "      <td>3.749267</td>\n",
       "      <td>0.972245</td>\n",
       "      <td>1.052906</td>\n",
       "      <td>0.441521</td>\n",
       "    </tr>\n",
       "    <tr>\n",
       "      <td>min</td>\n",
       "      <td>0.000000</td>\n",
       "      <td>0.000000</td>\n",
       "      <td>0.000000</td>\n",
       "      <td>0.000000</td>\n",
       "      <td>0.000000</td>\n",
       "      <td>1.000000</td>\n",
       "      <td>0.000000</td>\n",
       "      <td>18.000000</td>\n",
       "      <td>0.148205</td>\n",
       "      <td>1.000000</td>\n",
       "      <td>0.000000</td>\n",
       "      <td>0.000000</td>\n",
       "      <td>0.000000</td>\n",
       "      <td>0.000000</td>\n",
       "    </tr>\n",
       "    <tr>\n",
       "      <td>25%</td>\n",
       "      <td>0.000000</td>\n",
       "      <td>1.000000</td>\n",
       "      <td>0.000000</td>\n",
       "      <td>0.000000</td>\n",
       "      <td>1.000000</td>\n",
       "      <td>1.000000</td>\n",
       "      <td>0.000000</td>\n",
       "      <td>27.000000</td>\n",
       "      <td>68.868830</td>\n",
       "      <td>1.000000</td>\n",
       "      <td>1.000000</td>\n",
       "      <td>1.180875</td>\n",
       "      <td>0.963003</td>\n",
       "      <td>0.000000</td>\n",
       "    </tr>\n",
       "    <tr>\n",
       "      <td>50%</td>\n",
       "      <td>1.000000</td>\n",
       "      <td>1.000000</td>\n",
       "      <td>0.000000</td>\n",
       "      <td>0.000000</td>\n",
       "      <td>1.000000</td>\n",
       "      <td>1.000000</td>\n",
       "      <td>0.000000</td>\n",
       "      <td>29.000000</td>\n",
       "      <td>136.220159</td>\n",
       "      <td>1.000000</td>\n",
       "      <td>3.000000</td>\n",
       "      <td>1.832768</td>\n",
       "      <td>1.719574</td>\n",
       "      <td>0.000000</td>\n",
       "    </tr>\n",
       "    <tr>\n",
       "      <td>75%</td>\n",
       "      <td>1.000000</td>\n",
       "      <td>1.000000</td>\n",
       "      <td>1.000000</td>\n",
       "      <td>1.000000</td>\n",
       "      <td>1.000000</td>\n",
       "      <td>6.000000</td>\n",
       "      <td>1.000000</td>\n",
       "      <td>31.000000</td>\n",
       "      <td>210.949625</td>\n",
       "      <td>6.000000</td>\n",
       "      <td>5.000000</td>\n",
       "      <td>2.536078</td>\n",
       "      <td>2.510336</td>\n",
       "      <td>1.000000</td>\n",
       "    </tr>\n",
       "    <tr>\n",
       "      <td>max</td>\n",
       "      <td>1.000000</td>\n",
       "      <td>1.000000</td>\n",
       "      <td>1.000000</td>\n",
       "      <td>1.000000</td>\n",
       "      <td>1.000000</td>\n",
       "      <td>12.000000</td>\n",
       "      <td>1.000000</td>\n",
       "      <td>41.000000</td>\n",
       "      <td>552.590740</td>\n",
       "      <td>12.000000</td>\n",
       "      <td>31.000000</td>\n",
       "      <td>6.023668</td>\n",
       "      <td>6.146783</td>\n",
       "      <td>1.000000</td>\n",
       "    </tr>\n",
       "  </tbody>\n",
       "</table>\n",
       "</div>"
      ],
      "text/plain": [
       "            gender  near_location      partner  promo_friends        phone  \\\n",
       "count  4000.000000    4000.000000  4000.000000    4000.000000  4000.000000   \n",
       "mean      0.510250       0.845250     0.486750       0.308500     0.903500   \n",
       "std       0.499957       0.361711     0.499887       0.461932     0.295313   \n",
       "min       0.000000       0.000000     0.000000       0.000000     0.000000   \n",
       "25%       0.000000       1.000000     0.000000       0.000000     1.000000   \n",
       "50%       1.000000       1.000000     0.000000       0.000000     1.000000   \n",
       "75%       1.000000       1.000000     1.000000       1.000000     1.000000   \n",
       "max       1.000000       1.000000     1.000000       1.000000     1.000000   \n",
       "\n",
       "       contract_period  group_visits          age  \\\n",
       "count      4000.000000   4000.000000  4000.000000   \n",
       "mean          4.681250      0.412250    29.184250   \n",
       "std           4.549706      0.492301     3.258367   \n",
       "min           1.000000      0.000000    18.000000   \n",
       "25%           1.000000      0.000000    27.000000   \n",
       "50%           1.000000      0.000000    29.000000   \n",
       "75%           6.000000      1.000000    31.000000   \n",
       "max          12.000000      1.000000    41.000000   \n",
       "\n",
       "       avg_additional_charges_total  month_to_end_contract     lifetime  \\\n",
       "count                   4000.000000            4000.000000  4000.000000   \n",
       "mean                     146.943728               4.322750     3.724750   \n",
       "std                       96.355602               4.191297     3.749267   \n",
       "min                        0.148205               1.000000     0.000000   \n",
       "25%                       68.868830               1.000000     1.000000   \n",
       "50%                      136.220159               1.000000     3.000000   \n",
       "75%                      210.949625               6.000000     5.000000   \n",
       "max                      552.590740              12.000000    31.000000   \n",
       "\n",
       "       avg_class_frequency_total  avg_class_frequency_current_month  \\\n",
       "count                4000.000000                        4000.000000   \n",
       "mean                    1.879020                           1.767052   \n",
       "std                     0.972245                           1.052906   \n",
       "min                     0.000000                           0.000000   \n",
       "25%                     1.180875                           0.963003   \n",
       "50%                     1.832768                           1.719574   \n",
       "75%                     2.536078                           2.510336   \n",
       "max                     6.023668                           6.146783   \n",
       "\n",
       "             churn  \n",
       "count  4000.000000  \n",
       "mean      0.265250  \n",
       "std       0.441521  \n",
       "min       0.000000  \n",
       "25%       0.000000  \n",
       "50%       0.000000  \n",
       "75%       1.000000  \n",
       "max       1.000000  "
      ]
     },
     "execution_count": 6,
     "metadata": {},
     "output_type": "execute_result"
    }
   ],
   "source": [
    "# выведем статистическую сводку по таблице\n",
    "df.describe()"
   ]
  },
  {
   "cell_type": "markdown",
   "metadata": {
    "cellId": "37zctz165ug7c0ycbexiii"
   },
   "source": [
    "Первый взгляд на статистику позволяет сделать следующие выводы о наборе данных: \n",
    "1. По признаку половой принадлежности клиенты в выборке распределены примерно поровну;\n",
    "2. 85% клиентов живут или работают поблизости от фитнес-центра;\n",
    "3. 49% имеют корпоративные абонементы, 51% стандартные;\n",
    "4. 31% пришли по программе \"Приведи друга\";\n",
    "5. 90% клиентов оставили свой контактный телефон;\n",
    "6. Больше половины имеют действующий абонемент сроком 1 месяц;\n",
    "7. Самый \"старый\" клиент в выборке пользуется услугами центра больше двух с половиной лет, в среднем время жизни составляет 3-4 месяца;\n",
    "10. В среднем клиент посещает зал два раза в неделю, самые спортивные занимаются шесть раз в неделю;\n",
    "7. 41% посещают групповые занятия;\n",
    "8. Возраст клиентов - от 18 до 41 года, средний возраст 29 лет;\n",
    "9. Один клиент приносит в среднем 136-146 у.е. за весь период пользования дополнительными услугами; \n",
    "12. 73,5% клиентов в выборке являются действующими, 26,5% перестали посещать центр.\n",
    "\n",
    "Сгруппируем данные по признаку оттока и сравним показатели."
   ]
  },
  {
   "cell_type": "code",
   "execution_count": 7,
   "metadata": {
    "cellId": "weeo7xw10bhvoyogb5pnn"
   },
   "outputs": [
    {
     "data": {
      "text/html": [
       "<div>\n",
       "<style scoped>\n",
       "    .dataframe tbody tr th:only-of-type {\n",
       "        vertical-align: middle;\n",
       "    }\n",
       "\n",
       "    .dataframe tbody tr th {\n",
       "        vertical-align: top;\n",
       "    }\n",
       "\n",
       "    .dataframe thead th {\n",
       "        text-align: right;\n",
       "    }\n",
       "</style>\n",
       "<table border=\"1\" class=\"dataframe\">\n",
       "  <thead>\n",
       "    <tr style=\"text-align: right;\">\n",
       "      <th></th>\n",
       "      <th>gender</th>\n",
       "      <th>near_location</th>\n",
       "      <th>partner</th>\n",
       "      <th>promo_friends</th>\n",
       "      <th>phone</th>\n",
       "      <th>contract_period</th>\n",
       "      <th>group_visits</th>\n",
       "      <th>age</th>\n",
       "      <th>avg_additional_charges_total</th>\n",
       "      <th>month_to_end_contract</th>\n",
       "      <th>lifetime</th>\n",
       "      <th>avg_class_frequency_total</th>\n",
       "      <th>avg_class_frequency_current_month</th>\n",
       "    </tr>\n",
       "    <tr>\n",
       "      <th>churn</th>\n",
       "      <th></th>\n",
       "      <th></th>\n",
       "      <th></th>\n",
       "      <th></th>\n",
       "      <th></th>\n",
       "      <th></th>\n",
       "      <th></th>\n",
       "      <th></th>\n",
       "      <th></th>\n",
       "      <th></th>\n",
       "      <th></th>\n",
       "      <th></th>\n",
       "      <th></th>\n",
       "    </tr>\n",
       "  </thead>\n",
       "  <tbody>\n",
       "    <tr>\n",
       "      <td>0</td>\n",
       "      <td>0.510037</td>\n",
       "      <td>0.873086</td>\n",
       "      <td>0.534195</td>\n",
       "      <td>0.353522</td>\n",
       "      <td>0.903709</td>\n",
       "      <td>5.747193</td>\n",
       "      <td>0.464103</td>\n",
       "      <td>29.976523</td>\n",
       "      <td>158.445715</td>\n",
       "      <td>5.283089</td>\n",
       "      <td>4.711807</td>\n",
       "      <td>2.024876</td>\n",
       "      <td>2.027882</td>\n",
       "    </tr>\n",
       "    <tr>\n",
       "      <td>1</td>\n",
       "      <td>0.510839</td>\n",
       "      <td>0.768143</td>\n",
       "      <td>0.355325</td>\n",
       "      <td>0.183789</td>\n",
       "      <td>0.902922</td>\n",
       "      <td>1.728558</td>\n",
       "      <td>0.268615</td>\n",
       "      <td>26.989632</td>\n",
       "      <td>115.082899</td>\n",
       "      <td>1.662582</td>\n",
       "      <td>0.990575</td>\n",
       "      <td>1.474995</td>\n",
       "      <td>1.044546</td>\n",
       "    </tr>\n",
       "  </tbody>\n",
       "</table>\n",
       "</div>"
      ],
      "text/plain": [
       "         gender  near_location   partner  promo_friends     phone  \\\n",
       "churn                                                               \n",
       "0      0.510037       0.873086  0.534195       0.353522  0.903709   \n",
       "1      0.510839       0.768143  0.355325       0.183789  0.902922   \n",
       "\n",
       "       contract_period  group_visits        age  avg_additional_charges_total  \\\n",
       "churn                                                                           \n",
       "0             5.747193      0.464103  29.976523                    158.445715   \n",
       "1             1.728558      0.268615  26.989632                    115.082899   \n",
       "\n",
       "       month_to_end_contract  lifetime  avg_class_frequency_total  \\\n",
       "churn                                                               \n",
       "0                   5.283089  4.711807                   2.024876   \n",
       "1                   1.662582  0.990575                   1.474995   \n",
       "\n",
       "       avg_class_frequency_current_month  \n",
       "churn                                     \n",
       "0                               2.027882  \n",
       "1                               1.044546  "
      ]
     },
     "execution_count": 7,
     "metadata": {},
     "output_type": "execute_result"
    }
   ],
   "source": [
    "df.groupby('churn').mean()"
   ]
  },
  {
   "cell_type": "markdown",
   "metadata": {
    "cellId": "5f8wrb3dprb7i0end64y"
   },
   "source": [
    "Для категориальных признаков, закодированных значениями 1 и 0, среднее арифметическое по столбцу равняется доле пользователей, имеющих значение 1, что отражено в таблице выше. Для числовых признаков дополнительно построим графики, чтобы наглядно увидеть распределения значений."
   ]
  },
  {
   "cell_type": "code",
   "execution_count": 8,
   "metadata": {
    "cellId": "oxrcye6865a16vzndqi1id"
   },
   "outputs": [
    {
     "data": {
      "image/png": "[encoded data removed]",
      "text/plain": [
       "<Figure size 1080x720 with 4 Axes>"
      ]
     },
     "metadata": {
      "needs_background": "light"
     },
     "output_type": "display_data"
    }
   ],
   "source": [
    "fig = plt.figure(figsize=(15, 10))\n",
    "name = ['Возраст', 'Дополнительные расходы', 'Количество тренировок в неделю', 'Количество тренировок в неделю в текущем месяце']\n",
    "for i, col in enumerate(['age', 'avg_additional_charges_total', 'avg_class_frequency_total', 'avg_class_frequency_current_month']):\n",
    "    ax = fig.add_subplot(2, 2, i+1)\n",
    "    sns.distplot(df.loc[df['churn'] == 1, col], ax=ax)\n",
    "    sns.distplot(df.loc[df['churn'] == 0, col], ax=ax)\n",
    "    ax.set_title('Распределение значений \\nв столбце \"{}\"'.format(name[i]))\n",
    "    ax.set_xlabel('Значения признака')\n",
    "    ax.set_ylabel('Плотность частоты')\n",
    "    plt.legend(['Ушедшие клиенты', 'Текущие клиенты'])\n",
    "plt.subplots_adjust(wspace=0.3, hspace=0.3);"
   ]
  },
  {
   "cell_type": "markdown",
   "metadata": {
    "cellId": "4ycmp62bstqmw614en8xu"
   },
   "source": [
    "Что можно сказать о пользователях, которые перестали посещать фитнес-центр?\n",
    "1. Ушедшие клиенты в среднем моложе, чем текущие (25-27 лет против 30), возможно, услуги данной сети более привлекательны для взрослой аудитории;\n",
    "2. Половая принадлежность не оказывает никакого влияния на факт оттока;\n",
    "3. Среди ушедших было на 10% больше клиентов, которые ездили в центр издалека, что могло повлиять на решение бросить занятия;\n",
    "2. Только 36% из ушедших клиентов имели корпоративные абонементы (против 54% текущих клиентов): когда компания компенсирует стоимость занятий спортом, люди охотнее ходят в зал, чем когда приходится платить полную цену из собственного кармана;\n",
    "3. Среди ушедших в два раза меньше людей пришло по акции \"Приведи друга\": заниматься с кем-то из знакомых веселее, чем в одиночку;\n",
    "4. Ушедшие чаще приобретали краткосрочные абонементы: средний срок 1,7 месяца, тогда как у действующих клиентов он составляет 5,7 месяцев;\n",
    "5. Ушедшие на 20% реже посещали групповые занятия и в целом реже ходили в зал. Особенно это заметно в последнем месяце перед уходом - частота посещений падает до 1 раза в неделю, либо клиент вообще перестает приходить.\n",
    "\n",
    "Посмотрим, как признаки связаны между собой."
   ]
  },
  {
   "cell_type": "code",
   "execution_count": 9,
   "metadata": {
    "cellId": "jymc55fiqmgjud7nah799",
    "scrolled": false
   },
   "outputs": [
    {
     "data": {
      "image/png": "[encoded data removed]",
      "text/plain": [
       "<Figure size 1080x720 with 2 Axes>"
      ]
     },
     "metadata": {
      "needs_background": "light"
     },
     "output_type": "display_data"
    }
   ],
   "source": [
    "#построим и отрисуем матрицу корреляций\n",
    "fig = plt.figure(figsize=(15, 10))\n",
    "sns.heatmap(df.corr(), annot=True, fmt ='.2f', linewidths=.5, linecolor='white')\n",
    "plt.title('Матрица корреляции признаков и факта оттока');"
   ]
  },
  {
   "cell_type": "markdown",
   "metadata": {
    "cellId": "woe5p5077prminla4hwop"
   },
   "source": [
    "Матрица корреляций подтверждает предыдущие предположения: целевой признак не связан с полом клиента, отрицательно коррелирует с удобством расположения, наличием корпоративного абонемента и участием в реферальной программе. Сильнее всего с оттоком связаны возраст клиента (чем он моложе, тем больше вероятность ухода), активность посещений в последний месяц (если человек внезапно перестал ходить, скорее всего, он уже не вернется) и длительность абонемента (контракт на 1 или 3 месяца после завершения часто не продляют). Также видно, что признаки \"длительность абонемента\" и \"число месяцев до конца абонемента\" очень сильно коррелируют между собой, как и среднее количество тренировок - за всё время и на текущий месяц. Эти признаки являются мультиколлинеарными и могут вызвать переобучение будущей модели, поэтому мы вручную избавимся от одного признака из каждой пары."
   ]
  },
  {
   "cell_type": "code",
   "execution_count": 10,
   "metadata": {
    "cellId": "o8nrdpt8dmljlso2iisf9"
   },
   "outputs": [],
   "source": [
    "df = df.drop(['month_to_end_contract', 'avg_class_frequency_total'], axis = 1)"
   ]
  },
  {
   "cell_type": "markdown",
   "metadata": {
    "cellId": "sc3w6dhmtw4r8prtizd6b"
   },
   "source": [
    "Теперь можно переходить к обучению модели."
   ]
  },
  {
   "cell_type": "markdown",
   "metadata": {
    "cellId": "6no4tm95ppqd4kxft32lpb"
   },
   "source": [
    "## Прогнозирование оттока клиентов"
   ]
  },
  {
   "cell_type": "markdown",
   "metadata": {
    "cellId": "mdlh0qsus5ae87y51f6xnb"
   },
   "source": [
    "Поскольку наш целевой признак — факт оттока клиента в следующем месяце, нам понадобится модель бинарной классификации. Реализовать её попробуем двумя способами: логистической регрессией и случайным лесом, а потом сравним, какая из моделей работает лучше."
   ]
  },
  {
   "cell_type": "code",
   "execution_count": 11,
   "metadata": {
    "cellId": "6q7s350dqyvnmitceo2w09"
   },
   "outputs": [
    {
     "name": "stdout",
     "output_type": "stream",
     "text": [
      "Метрики для модели логистической регрессии:\n",
      "\tAccuracy: 0.90\n",
      "\tPrecision: 0.79\n",
      "\tRecall: 0.82\n",
      "\tF1: 0.81\n",
      "\tROC_AUC: 0.96\n",
      "\n",
      "Метрики для модели случайного леса:\n",
      "\tAccuracy: 0.90\n",
      "\tPrecision: 0.81\n",
      "\tRecall: 0.75\n",
      "\tF1: 0.78\n",
      "\tROC_AUC: 0.95\n"
     ]
    }
   ],
   "source": [
    "#разделим датасет на признаки (матрица X) и целевую переменную (вектор y)\n",
    "X = df.drop(columns='churn')\n",
    "y = df['churn']\n",
    "\n",
    "# случайным образом разделим выборки на обучающую и валидационную\n",
    "X_train, X_test, y_train, y_test = train_test_split(X, y, test_size=0.2, random_state=0)\n",
    "\n",
    "# стандартизируем данные \n",
    "scaler = StandardScaler()\n",
    "scaler.fit(X_train)\n",
    "X_train_st = scaler.transform(X_train) \n",
    "X_test_st = scaler.transform(X_test)\n",
    "\n",
    "# определим функцию, которая будет выводить наши метрики\n",
    "def print_all_metrics(y_true, y_pred, y_proba, title='Метрики классификации'):\n",
    "    print(title)\n",
    "    print('\\tAccuracy: {:.2f}'.format(accuracy_score(y_true, y_pred)))\n",
    "    print('\\tPrecision: {:.2f}'.format(precision_score(y_true, y_pred)))\n",
    "    print('\\tRecall: {:.2f}'.format(recall_score(y_true, y_pred)))\n",
    "    print('\\tF1: {:.2f}'.format(f1_score(y_true, y_pred)))\n",
    "    print('\\tROC_AUC: {:.2f}'.format(roc_auc_score(y_true, y_proba)))\n",
    "\n",
    "# обучим модель логистической регрессии и сделаем прогнозы\n",
    "lr_model = LogisticRegression(random_state=0)\n",
    "lr_model.fit(X_train_st, y_train)\n",
    "lr_predictions = lr_model.predict(X_test_st)\n",
    "lr_probabilities = lr_model.predict_proba(X_test_st)[:, 1]\n",
    "print_all_metrics(\n",
    "    y_test,\n",
    "    lr_predictions,\n",
    "    lr_probabilities,\n",
    "    title='Метрики для модели логистической регрессии:',\n",
    ")\n",
    "print('')\n",
    "\n",
    "# обучим модель на основе алгоритма случайного леса и сделаем прогнозы\n",
    "rf_model = RandomForestClassifier(n_estimators = 100, random_state = 0)\n",
    "rf_model.fit(X_train_st, y_train)\n",
    "rf_predictions = rf_model.predict(X_test_st)\n",
    "rf_probabilities = rf_model.predict_proba(X_test_st)[:, 1]\n",
    "print_all_metrics(\n",
    "    y_test,\n",
    "    rf_predictions,\n",
    "    rf_probabilities,\n",
    "    title='Метрики для модели случайного леса:'\n",
    ")"
   ]
  },
  {
   "cell_type": "markdown",
   "metadata": {
    "cellId": "u7847rwgrmqmf2jeuzr91k"
   },
   "source": [
    "Мы видим, что обе модели показали достаточно хорошие результаты. Доля правильных ответов (accuracy) одинакова и составляет 90%, точность предсказаний в целевом классе (precision) выше у алгоритма случайного леса, полнота обнаружения объектов целевого класса (recall) выше у логистической регрессии, сводные метрики F1-score и ROC_AUC также выше у модели логистической регрессии. В зависимости от целей можно использовать любой из алгоритмов: для удержания как можно большего числа клиентов модель регрессии подходит лучше, однако если компания опасается раздражать клиентов агрессивным маркетингом и ценит точность предсказаний, следует использовать случайный лес."
   ]
  },
  {
   "cell_type": "code",
   "execution_count": 12,
   "metadata": {},
   "outputs": [
    {
     "data": {
      "text/html": [
       "<div>\n",
       "<style scoped>\n",
       "    .dataframe tbody tr th:only-of-type {\n",
       "        vertical-align: middle;\n",
       "    }\n",
       "\n",
       "    .dataframe tbody tr th {\n",
       "        vertical-align: top;\n",
       "    }\n",
       "\n",
       "    .dataframe thead th {\n",
       "        text-align: right;\n",
       "    }\n",
       "</style>\n",
       "<table border=\"1\" class=\"dataframe\">\n",
       "  <thead>\n",
       "    <tr style=\"text-align: right;\">\n",
       "      <th></th>\n",
       "      <th>feature</th>\n",
       "      <th>coeff</th>\n",
       "    </tr>\n",
       "  </thead>\n",
       "  <tbody>\n",
       "    <tr>\n",
       "      <td>9</td>\n",
       "      <td>lifetime</td>\n",
       "      <td>3.922703</td>\n",
       "    </tr>\n",
       "    <tr>\n",
       "      <td>5</td>\n",
       "      <td>contract_period</td>\n",
       "      <td>1.340862</td>\n",
       "    </tr>\n",
       "    <tr>\n",
       "      <td>10</td>\n",
       "      <td>avg_class_frequency_current_month</td>\n",
       "      <td>1.326734</td>\n",
       "    </tr>\n",
       "    <tr>\n",
       "      <td>7</td>\n",
       "      <td>age</td>\n",
       "      <td>1.102478</td>\n",
       "    </tr>\n",
       "    <tr>\n",
       "      <td>8</td>\n",
       "      <td>avg_additional_charges_total</td>\n",
       "      <td>0.582020</td>\n",
       "    </tr>\n",
       "    <tr>\n",
       "      <td>6</td>\n",
       "      <td>group_visits</td>\n",
       "      <td>0.378909</td>\n",
       "    </tr>\n",
       "    <tr>\n",
       "      <td>3</td>\n",
       "      <td>promo_friends</td>\n",
       "      <td>0.244437</td>\n",
       "    </tr>\n",
       "    <tr>\n",
       "      <td>4</td>\n",
       "      <td>phone</td>\n",
       "      <td>0.088119</td>\n",
       "    </tr>\n",
       "    <tr>\n",
       "      <td>1</td>\n",
       "      <td>near_location</td>\n",
       "      <td>0.083076</td>\n",
       "    </tr>\n",
       "    <tr>\n",
       "      <td>2</td>\n",
       "      <td>partner</td>\n",
       "      <td>0.069225</td>\n",
       "    </tr>\n",
       "    <tr>\n",
       "      <td>0</td>\n",
       "      <td>gender</td>\n",
       "      <td>0.050670</td>\n",
       "    </tr>\n",
       "  </tbody>\n",
       "</table>\n",
       "</div>"
      ],
      "text/plain": [
       "                              feature     coeff\n",
       "9                            lifetime  3.922703\n",
       "5                     contract_period  1.340862\n",
       "10  avg_class_frequency_current_month  1.326734\n",
       "7                                 age  1.102478\n",
       "8        avg_additional_charges_total  0.582020\n",
       "6                        group_visits  0.378909\n",
       "3                       promo_friends  0.244437\n",
       "4                               phone  0.088119\n",
       "1                       near_location  0.083076\n",
       "2                             partner  0.069225\n",
       "0                              gender  0.050670"
      ]
     },
     "execution_count": 12,
     "metadata": {},
     "output_type": "execute_result"
    }
   ],
   "source": [
    "# создадим и выведем датафрейм с именами и весами признаков логистической регрессии\n",
    "lr_features = pd.DataFrame({'feature' : list(X_train.columns), 'coeff' : abs(lr_model.coef_[0])})\n",
    "lr_features.sort_values('coeff', ascending=False)"
   ]
  },
  {
   "cell_type": "markdown",
   "metadata": {},
   "source": [
    "Для модели логистической регрессии наиболее важными признаками, связанными с оттоком, являются \"срок жизни\" клиента, длительность абонемента, среднее количество посещений фитнес-центра в текущем месяце, возраст и сумма дополнительных расходов. Наименьшее влияние на отток, по логике данной модели, оказывают пол, корпоративные скидки и удобство расположения."
   ]
  },
  {
   "cell_type": "code",
   "execution_count": 13,
   "metadata": {},
   "outputs": [
    {
     "data": {
      "text/html": [
       "<div>\n",
       "<style scoped>\n",
       "    .dataframe tbody tr th:only-of-type {\n",
       "        vertical-align: middle;\n",
       "    }\n",
       "\n",
       "    .dataframe tbody tr th {\n",
       "        vertical-align: top;\n",
       "    }\n",
       "\n",
       "    .dataframe thead th {\n",
       "        text-align: right;\n",
       "    }\n",
       "</style>\n",
       "<table border=\"1\" class=\"dataframe\">\n",
       "  <thead>\n",
       "    <tr style=\"text-align: right;\">\n",
       "      <th></th>\n",
       "      <th>feature</th>\n",
       "      <th>importance</th>\n",
       "    </tr>\n",
       "  </thead>\n",
       "  <tbody>\n",
       "    <tr>\n",
       "      <td>9</td>\n",
       "      <td>lifetime</td>\n",
       "      <td>0.321261</td>\n",
       "    </tr>\n",
       "    <tr>\n",
       "      <td>10</td>\n",
       "      <td>avg_class_frequency_current_month</td>\n",
       "      <td>0.216309</td>\n",
       "    </tr>\n",
       "    <tr>\n",
       "      <td>7</td>\n",
       "      <td>age</td>\n",
       "      <td>0.138439</td>\n",
       "    </tr>\n",
       "    <tr>\n",
       "      <td>8</td>\n",
       "      <td>avg_additional_charges_total</td>\n",
       "      <td>0.123375</td>\n",
       "    </tr>\n",
       "    <tr>\n",
       "      <td>5</td>\n",
       "      <td>contract_period</td>\n",
       "      <td>0.110949</td>\n",
       "    </tr>\n",
       "    <tr>\n",
       "      <td>6</td>\n",
       "      <td>group_visits</td>\n",
       "      <td>0.020262</td>\n",
       "    </tr>\n",
       "    <tr>\n",
       "      <td>0</td>\n",
       "      <td>gender</td>\n",
       "      <td>0.016636</td>\n",
       "    </tr>\n",
       "    <tr>\n",
       "      <td>2</td>\n",
       "      <td>partner</td>\n",
       "      <td>0.016403</td>\n",
       "    </tr>\n",
       "    <tr>\n",
       "      <td>3</td>\n",
       "      <td>promo_friends</td>\n",
       "      <td>0.016031</td>\n",
       "    </tr>\n",
       "    <tr>\n",
       "      <td>1</td>\n",
       "      <td>near_location</td>\n",
       "      <td>0.012050</td>\n",
       "    </tr>\n",
       "    <tr>\n",
       "      <td>4</td>\n",
       "      <td>phone</td>\n",
       "      <td>0.008287</td>\n",
       "    </tr>\n",
       "  </tbody>\n",
       "</table>\n",
       "</div>"
      ],
      "text/plain": [
       "                              feature  importance\n",
       "9                            lifetime    0.321261\n",
       "10  avg_class_frequency_current_month    0.216309\n",
       "7                                 age    0.138439\n",
       "8        avg_additional_charges_total    0.123375\n",
       "5                     contract_period    0.110949\n",
       "6                        group_visits    0.020262\n",
       "0                              gender    0.016636\n",
       "2                             partner    0.016403\n",
       "3                       promo_friends    0.016031\n",
       "1                       near_location    0.012050\n",
       "4                               phone    0.008287"
      ]
     },
     "execution_count": 13,
     "metadata": {},
     "output_type": "execute_result"
    }
   ],
   "source": [
    "# создадим и выведем датафрейм с именами признаков и их важностью для модели случайного леса\n",
    "rf_features = pd.DataFrame(data={'feature': X.columns, 'importance': rf_model.feature_importances_})\n",
    "rf_features.sort_values('importance', ascending=False)"
   ]
  },
  {
   "cell_type": "markdown",
   "metadata": {},
   "source": [
    "Для модели случайного леса топ-5 самых важных признаков совпадает с предыдущим списком, но они расположились немного в иной последовательности: на первом месте \"срок жизни\" клиента, затем среднее количество посещений фитнес-центра в текущем месяце, возраст, сумма дополнительных расходов и длительность абонемента. Самое незначительное влияние на уход клиента, по логике данной модели, оказывают факт оставления контактного телефона, удобство расположения зала и участие в акции \"Приведи друга\". Как мы видим, в оценке самых важных факторов модели сходятся, что подтверждает возможность использования обеих из них."
   ]
  },
  {
   "cell_type": "markdown",
   "metadata": {
    "cellId": "3hfbsfja4pq781agg609a"
   },
   "source": [
    "## Кластеризация клиентов"
   ]
  },
  {
   "cell_type": "markdown",
   "metadata": {
    "cellId": "kn7surzxyj4m97z20h8fb"
   },
   "source": [
    "Чтобы лучше понять, как выстроить политику по удержанию клиентов, полезно понимать, в какие группы их можно объединить, чтобы использовать на них разные маркетинговые стратегии. Для этого применим кластеризацию."
   ]
  },
  {
   "cell_type": "code",
   "execution_count": 14,
   "metadata": {
    "cellId": "82qe04b90n80b1urk8qor6"
   },
   "outputs": [],
   "source": [
    "x_sc = scaler.fit_transform(df.drop(columns = ['churn'])) # обучим нормализатор и преобразуем набор данных"
   ]
  },
  {
   "cell_type": "code",
   "execution_count": 15,
   "metadata": {
    "cellId": "aq97ig9xq1wtc3dlecxquo"
   },
   "outputs": [
    {
     "data": {
      "image/png": "[encoded data removed]",
      "text/plain": [
       "<Figure size 1080x720 with 1 Axes>"
      ]
     },
     "metadata": {
      "needs_background": "light"
     },
     "output_type": "display_data"
    }
   ],
   "source": [
    "# построим матрицу расстояний на стандартизованной матрице признаков и нарисуем дендрограмму\n",
    "linked = linkage(x_sc, method = 'ward')\n",
    "plt.figure(figsize=(15, 10))  \n",
    "dendrogram(linked, orientation='top');"
   ]
  },
  {
   "cell_type": "markdown",
   "metadata": {
    "cellId": "xf6mqe90gzne0e3olnp7vr"
   },
   "source": [
    "Судя по дендрограмме, клиентов можно разделить на 5 кластеров. Сделаем это на основании алгоритма K-Means."
   ]
  },
  {
   "cell_type": "code",
   "execution_count": 16,
   "metadata": {
    "cellId": "po1xthrkhuu9jr0e9q5ae"
   },
   "outputs": [],
   "source": [
    "# обучим модель кластеризации и спрогнозируем кластеры клиентов\n",
    "km = KMeans(n_clusters = 5, random_state = 0)\n",
    "labels = km.fit_predict(x_sc)"
   ]
  },
  {
   "cell_type": "code",
   "execution_count": 17,
   "metadata": {
    "cellId": "2vm3wwk608d5q3r6ek34rv"
   },
   "outputs": [
    {
     "data": {
      "text/html": [
       "<style  type=\"text/css\" >\n",
       "    #T_217aacf0_6285_11ec_8492_02420a397d57row0_col0 {\n",
       "            background-color:  #f7fbff;\n",
       "            color:  #000000;\n",
       "        }    #T_217aacf0_6285_11ec_8492_02420a397d57row0_col1 {\n",
       "            background-color:  #f7fbff;\n",
       "            color:  #000000;\n",
       "        }    #T_217aacf0_6285_11ec_8492_02420a397d57row0_col2 {\n",
       "            background-color:  #08306b;\n",
       "            color:  #f1f1f1;\n",
       "        }    #T_217aacf0_6285_11ec_8492_02420a397d57row0_col3 {\n",
       "            background-color:  #f7fbff;\n",
       "            color:  #000000;\n",
       "        }    #T_217aacf0_6285_11ec_8492_02420a397d57row0_col4 {\n",
       "            background-color:  #ebf3fb;\n",
       "            color:  #000000;\n",
       "        }    #T_217aacf0_6285_11ec_8492_02420a397d57row0_col5 {\n",
       "            background-color:  #08306b;\n",
       "            color:  #f1f1f1;\n",
       "        }    #T_217aacf0_6285_11ec_8492_02420a397d57row0_col6 {\n",
       "            background-color:  #f7fbff;\n",
       "            color:  #000000;\n",
       "        }    #T_217aacf0_6285_11ec_8492_02420a397d57row0_col7 {\n",
       "            background-color:  #d0e1f2;\n",
       "            color:  #000000;\n",
       "        }    #T_217aacf0_6285_11ec_8492_02420a397d57row0_col8 {\n",
       "            background-color:  #f7fbff;\n",
       "            color:  #000000;\n",
       "        }    #T_217aacf0_6285_11ec_8492_02420a397d57row0_col9 {\n",
       "            background-color:  #f7fbff;\n",
       "            color:  #000000;\n",
       "        }    #T_217aacf0_6285_11ec_8492_02420a397d57row0_col10 {\n",
       "            background-color:  #f7fbff;\n",
       "            color:  #000000;\n",
       "        }    #T_217aacf0_6285_11ec_8492_02420a397d57row0_col11 {\n",
       "            background-color:  #f7fbff;\n",
       "            color:  #000000;\n",
       "        }    #T_217aacf0_6285_11ec_8492_02420a397d57row1_col0 {\n",
       "            background-color:  #c6dbef;\n",
       "            color:  #000000;\n",
       "        }    #T_217aacf0_6285_11ec_8492_02420a397d57row1_col1 {\n",
       "            background-color:  #d6e6f4;\n",
       "            color:  #000000;\n",
       "        }    #T_217aacf0_6285_11ec_8492_02420a397d57row1_col2 {\n",
       "            background-color:  #08306b;\n",
       "            color:  #f1f1f1;\n",
       "        }    #T_217aacf0_6285_11ec_8492_02420a397d57row1_col3 {\n",
       "            background-color:  #08306b;\n",
       "            color:  #f1f1f1;\n",
       "        }    #T_217aacf0_6285_11ec_8492_02420a397d57row1_col4 {\n",
       "            background-color:  #08306b;\n",
       "            color:  #f1f1f1;\n",
       "        }    #T_217aacf0_6285_11ec_8492_02420a397d57row1_col5 {\n",
       "            background-color:  #08306b;\n",
       "            color:  #f1f1f1;\n",
       "        }    #T_217aacf0_6285_11ec_8492_02420a397d57row1_col6 {\n",
       "            background-color:  #08306b;\n",
       "            color:  #f1f1f1;\n",
       "        }    #T_217aacf0_6285_11ec_8492_02420a397d57row1_col7 {\n",
       "            background-color:  #083877;\n",
       "            color:  #f1f1f1;\n",
       "        }    #T_217aacf0_6285_11ec_8492_02420a397d57row1_col8 {\n",
       "            background-color:  #3b8bc2;\n",
       "            color:  #000000;\n",
       "        }    #T_217aacf0_6285_11ec_8492_02420a397d57row1_col9 {\n",
       "            background-color:  #4f9bcb;\n",
       "            color:  #000000;\n",
       "        }    #T_217aacf0_6285_11ec_8492_02420a397d57row1_col10 {\n",
       "            background-color:  #3585bf;\n",
       "            color:  #000000;\n",
       "        }    #T_217aacf0_6285_11ec_8492_02420a397d57row1_col11 {\n",
       "            background-color:  #4090c5;\n",
       "            color:  #000000;\n",
       "        }    #T_217aacf0_6285_11ec_8492_02420a397d57row2_col0 {\n",
       "            background-color:  #6aaed6;\n",
       "            color:  #000000;\n",
       "        }    #T_217aacf0_6285_11ec_8492_02420a397d57row2_col1 {\n",
       "            background-color:  #6aaed6;\n",
       "            color:  #000000;\n",
       "        }    #T_217aacf0_6285_11ec_8492_02420a397d57row2_col2 {\n",
       "            background-color:  #0a549e;\n",
       "            color:  #f1f1f1;\n",
       "        }    #T_217aacf0_6285_11ec_8492_02420a397d57row2_col3 {\n",
       "            background-color:  #9fcae1;\n",
       "            color:  #000000;\n",
       "        }    #T_217aacf0_6285_11ec_8492_02420a397d57row2_col4 {\n",
       "            background-color:  #b5d4e9;\n",
       "            color:  #000000;\n",
       "        }    #T_217aacf0_6285_11ec_8492_02420a397d57row2_col5 {\n",
       "            background-color:  #f7fbff;\n",
       "            color:  #000000;\n",
       "        }    #T_217aacf0_6285_11ec_8492_02420a397d57row2_col6 {\n",
       "            background-color:  #56a0ce;\n",
       "            color:  #000000;\n",
       "        }    #T_217aacf0_6285_11ec_8492_02420a397d57row2_col7 {\n",
       "            background-color:  #3787c0;\n",
       "            color:  #000000;\n",
       "        }    #T_217aacf0_6285_11ec_8492_02420a397d57row2_col8 {\n",
       "            background-color:  #5ba3d0;\n",
       "            color:  #000000;\n",
       "        }    #T_217aacf0_6285_11ec_8492_02420a397d57row2_col9 {\n",
       "            background-color:  #85bcdc;\n",
       "            color:  #000000;\n",
       "        }    #T_217aacf0_6285_11ec_8492_02420a397d57row2_col10 {\n",
       "            background-color:  #529dcc;\n",
       "            color:  #000000;\n",
       "        }    #T_217aacf0_6285_11ec_8492_02420a397d57row2_col11 {\n",
       "            background-color:  #7ab6d9;\n",
       "            color:  #000000;\n",
       "        }    #T_217aacf0_6285_11ec_8492_02420a397d57row3_col0 {\n",
       "            background-color:  #2070b4;\n",
       "            color:  #f1f1f1;\n",
       "        }    #T_217aacf0_6285_11ec_8492_02420a397d57row3_col1 {\n",
       "            background-color:  #d6e6f4;\n",
       "            color:  #000000;\n",
       "        }    #T_217aacf0_6285_11ec_8492_02420a397d57row3_col2 {\n",
       "            background-color:  #f7fbff;\n",
       "            color:  #000000;\n",
       "        }    #T_217aacf0_6285_11ec_8492_02420a397d57row3_col3 {\n",
       "            background-color:  #92c4de;\n",
       "            color:  #000000;\n",
       "        }    #T_217aacf0_6285_11ec_8492_02420a397d57row3_col4 {\n",
       "            background-color:  #e9f2fa;\n",
       "            color:  #000000;\n",
       "        }    #T_217aacf0_6285_11ec_8492_02420a397d57row3_col5 {\n",
       "            background-color:  #08306b;\n",
       "            color:  #f1f1f1;\n",
       "        }    #T_217aacf0_6285_11ec_8492_02420a397d57row3_col6 {\n",
       "            background-color:  #d1e2f3;\n",
       "            color:  #000000;\n",
       "        }    #T_217aacf0_6285_11ec_8492_02420a397d57row3_col7 {\n",
       "            background-color:  #f7fbff;\n",
       "            color:  #000000;\n",
       "        }    #T_217aacf0_6285_11ec_8492_02420a397d57row3_col8 {\n",
       "            background-color:  #a9cfe5;\n",
       "            color:  #000000;\n",
       "        }    #T_217aacf0_6285_11ec_8492_02420a397d57row3_col9 {\n",
       "            background-color:  #afd1e7;\n",
       "            color:  #000000;\n",
       "        }    #T_217aacf0_6285_11ec_8492_02420a397d57row3_col10 {\n",
       "            background-color:  #b8d5ea;\n",
       "            color:  #000000;\n",
       "        }    #T_217aacf0_6285_11ec_8492_02420a397d57row3_col11 {\n",
       "            background-color:  #a4cce3;\n",
       "            color:  #000000;\n",
       "        }    #T_217aacf0_6285_11ec_8492_02420a397d57row4_col0 {\n",
       "            background-color:  #08306b;\n",
       "            color:  #f1f1f1;\n",
       "        }    #T_217aacf0_6285_11ec_8492_02420a397d57row4_col1 {\n",
       "            background-color:  #08306b;\n",
       "            color:  #f1f1f1;\n",
       "        }    #T_217aacf0_6285_11ec_8492_02420a397d57row4_col2 {\n",
       "            background-color:  #08306b;\n",
       "            color:  #f1f1f1;\n",
       "        }    #T_217aacf0_6285_11ec_8492_02420a397d57row4_col3 {\n",
       "            background-color:  #c8dcf0;\n",
       "            color:  #000000;\n",
       "        }    #T_217aacf0_6285_11ec_8492_02420a397d57row4_col4 {\n",
       "            background-color:  #f7fbff;\n",
       "            color:  #000000;\n",
       "        }    #T_217aacf0_6285_11ec_8492_02420a397d57row4_col5 {\n",
       "            background-color:  #08306b;\n",
       "            color:  #f1f1f1;\n",
       "        }    #T_217aacf0_6285_11ec_8492_02420a397d57row4_col6 {\n",
       "            background-color:  #0b559f;\n",
       "            color:  #f1f1f1;\n",
       "        }    #T_217aacf0_6285_11ec_8492_02420a397d57row4_col7 {\n",
       "            background-color:  #08306b;\n",
       "            color:  #f1f1f1;\n",
       "        }    #T_217aacf0_6285_11ec_8492_02420a397d57row4_col8 {\n",
       "            background-color:  #08306b;\n",
       "            color:  #f1f1f1;\n",
       "        }    #T_217aacf0_6285_11ec_8492_02420a397d57row4_col9 {\n",
       "            background-color:  #08306b;\n",
       "            color:  #f1f1f1;\n",
       "        }    #T_217aacf0_6285_11ec_8492_02420a397d57row4_col10 {\n",
       "            background-color:  #08306b;\n",
       "            color:  #f1f1f1;\n",
       "        }    #T_217aacf0_6285_11ec_8492_02420a397d57row4_col11 {\n",
       "            background-color:  #08306b;\n",
       "            color:  #f1f1f1;\n",
       "        }</style><table id=\"T_217aacf0_6285_11ec_8492_02420a397d57\" ><thead>    <tr>        <th class=\"blank level0\" ></th>        <th class=\"col_heading level0 col0\" >cluster_km</th>        <th class=\"col_heading level0 col1\" >gender</th>        <th class=\"col_heading level0 col2\" >near_location</th>        <th class=\"col_heading level0 col3\" >partner</th>        <th class=\"col_heading level0 col4\" >promo_friends</th>        <th class=\"col_heading level0 col5\" >phone</th>        <th class=\"col_heading level0 col6\" >contract_period</th>        <th class=\"col_heading level0 col7\" >group_visits</th>        <th class=\"col_heading level0 col8\" >age</th>        <th class=\"col_heading level0 col9\" >avg_additional_charges_total</th>        <th class=\"col_heading level0 col10\" >lifetime</th>        <th class=\"col_heading level0 col11\" >avg_class_frequency_current_month</th>    </tr></thead><tbody>\n",
       "                <tr>\n",
       "                        <th id=\"T_217aacf0_6285_11ec_8492_02420a397d57level0_row0\" class=\"row_heading level0 row0\" >0</th>\n",
       "                        <td id=\"T_217aacf0_6285_11ec_8492_02420a397d57row0_col0\" class=\"data row0 col0\" >0</td>\n",
       "                        <td id=\"T_217aacf0_6285_11ec_8492_02420a397d57row0_col1\" class=\"data row0 col1\" >0.49</td>\n",
       "                        <td id=\"T_217aacf0_6285_11ec_8492_02420a397d57row0_col2\" class=\"data row0 col2\" >1</td>\n",
       "                        <td id=\"T_217aacf0_6285_11ec_8492_02420a397d57row0_col3\" class=\"data row0 col3\" >0.22</td>\n",
       "                        <td id=\"T_217aacf0_6285_11ec_8492_02420a397d57row0_col4\" class=\"data row0 col4\" >0.07</td>\n",
       "                        <td id=\"T_217aacf0_6285_11ec_8492_02420a397d57row0_col5\" class=\"data row0 col5\" >1</td>\n",
       "                        <td id=\"T_217aacf0_6285_11ec_8492_02420a397d57row0_col6\" class=\"data row0 col6\" >2.04</td>\n",
       "                        <td id=\"T_217aacf0_6285_11ec_8492_02420a397d57row0_col7\" class=\"data row0 col7\" >0.29</td>\n",
       "                        <td id=\"T_217aacf0_6285_11ec_8492_02420a397d57row0_col8\" class=\"data row0 col8\" >27.67</td>\n",
       "                        <td id=\"T_217aacf0_6285_11ec_8492_02420a397d57row0_col9\" class=\"data row0 col9\" >117.18</td>\n",
       "                        <td id=\"T_217aacf0_6285_11ec_8492_02420a397d57row0_col10\" class=\"data row0 col10\" >1.95</td>\n",
       "                        <td id=\"T_217aacf0_6285_11ec_8492_02420a397d57row0_col11\" class=\"data row0 col11\" >1.18</td>\n",
       "            </tr>\n",
       "            <tr>\n",
       "                        <th id=\"T_217aacf0_6285_11ec_8492_02420a397d57level0_row1\" class=\"row_heading level0 row1\" >1</th>\n",
       "                        <td id=\"T_217aacf0_6285_11ec_8492_02420a397d57row1_col0\" class=\"data row1 col0\" >1</td>\n",
       "                        <td id=\"T_217aacf0_6285_11ec_8492_02420a397d57row1_col1\" class=\"data row1 col1\" >0.5</td>\n",
       "                        <td id=\"T_217aacf0_6285_11ec_8492_02420a397d57row1_col2\" class=\"data row1 col2\" >1</td>\n",
       "                        <td id=\"T_217aacf0_6285_11ec_8492_02420a397d57row1_col3\" class=\"data row1 col3\" >0.89</td>\n",
       "                        <td id=\"T_217aacf0_6285_11ec_8492_02420a397d57row1_col4\" class=\"data row1 col4\" >1</td>\n",
       "                        <td id=\"T_217aacf0_6285_11ec_8492_02420a397d57row1_col5\" class=\"data row1 col5\" >1</td>\n",
       "                        <td id=\"T_217aacf0_6285_11ec_8492_02420a397d57row1_col6\" class=\"data row1 col6\" >6.91</td>\n",
       "                        <td id=\"T_217aacf0_6285_11ec_8492_02420a397d57row1_col7\" class=\"data row1 col7\" >0.52</td>\n",
       "                        <td id=\"T_217aacf0_6285_11ec_8492_02420a397d57row1_col8\" class=\"data row1 col8\" >29.6</td>\n",
       "                        <td id=\"T_217aacf0_6285_11ec_8492_02420a397d57row1_col9\" class=\"data row1 col9\" >153.36</td>\n",
       "                        <td id=\"T_217aacf0_6285_11ec_8492_02420a397d57row1_col10\" class=\"data row1 col10\" >4.28</td>\n",
       "                        <td id=\"T_217aacf0_6285_11ec_8492_02420a397d57row1_col11\" class=\"data row1 col11\" >1.92</td>\n",
       "            </tr>\n",
       "            <tr>\n",
       "                        <th id=\"T_217aacf0_6285_11ec_8492_02420a397d57level0_row2\" class=\"row_heading level0 row2\" >2</th>\n",
       "                        <td id=\"T_217aacf0_6285_11ec_8492_02420a397d57row2_col0\" class=\"data row2 col0\" >2</td>\n",
       "                        <td id=\"T_217aacf0_6285_11ec_8492_02420a397d57row2_col1\" class=\"data row2 col1\" >0.52</td>\n",
       "                        <td id=\"T_217aacf0_6285_11ec_8492_02420a397d57row2_col2\" class=\"data row2 col2\" >0.86</td>\n",
       "                        <td id=\"T_217aacf0_6285_11ec_8492_02420a397d57row2_col3\" class=\"data row2 col3\" >0.47</td>\n",
       "                        <td id=\"T_217aacf0_6285_11ec_8492_02420a397d57row2_col4\" class=\"data row2 col4\" >0.31</td>\n",
       "                        <td id=\"T_217aacf0_6285_11ec_8492_02420a397d57row2_col5\" class=\"data row2 col5\" >0</td>\n",
       "                        <td id=\"T_217aacf0_6285_11ec_8492_02420a397d57row2_col6\" class=\"data row2 col6\" >4.78</td>\n",
       "                        <td id=\"T_217aacf0_6285_11ec_8492_02420a397d57row2_col7\" class=\"data row2 col7\" >0.43</td>\n",
       "                        <td id=\"T_217aacf0_6285_11ec_8492_02420a397d57row2_col8\" class=\"data row2 col8\" >29.3</td>\n",
       "                        <td id=\"T_217aacf0_6285_11ec_8492_02420a397d57row2_col9\" class=\"data row2 col9\" >144.21</td>\n",
       "                        <td id=\"T_217aacf0_6285_11ec_8492_02420a397d57row2_col10\" class=\"data row2 col10\" >3.94</td>\n",
       "                        <td id=\"T_217aacf0_6285_11ec_8492_02420a397d57row2_col11\" class=\"data row2 col11\" >1.72</td>\n",
       "            </tr>\n",
       "            <tr>\n",
       "                        <th id=\"T_217aacf0_6285_11ec_8492_02420a397d57level0_row3\" class=\"row_heading level0 row3\" >3</th>\n",
       "                        <td id=\"T_217aacf0_6285_11ec_8492_02420a397d57row3_col0\" class=\"data row3 col0\" >3</td>\n",
       "                        <td id=\"T_217aacf0_6285_11ec_8492_02420a397d57row3_col1\" class=\"data row3 col1\" >0.5</td>\n",
       "                        <td id=\"T_217aacf0_6285_11ec_8492_02420a397d57row3_col2\" class=\"data row3 col2\" >0</td>\n",
       "                        <td id=\"T_217aacf0_6285_11ec_8492_02420a397d57row3_col3\" class=\"data row3 col3\" >0.49</td>\n",
       "                        <td id=\"T_217aacf0_6285_11ec_8492_02420a397d57row3_col4\" class=\"data row3 col4\" >0.08</td>\n",
       "                        <td id=\"T_217aacf0_6285_11ec_8492_02420a397d57row3_col5\" class=\"data row3 col5\" >1</td>\n",
       "                        <td id=\"T_217aacf0_6285_11ec_8492_02420a397d57row3_col6\" class=\"data row3 col6\" >2.99</td>\n",
       "                        <td id=\"T_217aacf0_6285_11ec_8492_02420a397d57row3_col7\" class=\"data row3 col7\" >0.23</td>\n",
       "                        <td id=\"T_217aacf0_6285_11ec_8492_02420a397d57row3_col8\" class=\"data row3 col8\" >28.68</td>\n",
       "                        <td id=\"T_217aacf0_6285_11ec_8492_02420a397d57row3_col9\" class=\"data row3 col9\" >137.13</td>\n",
       "                        <td id=\"T_217aacf0_6285_11ec_8492_02420a397d57row3_col10\" class=\"data row3 col10\" >2.97</td>\n",
       "                        <td id=\"T_217aacf0_6285_11ec_8492_02420a397d57row3_col11\" class=\"data row3 col11\" >1.6</td>\n",
       "            </tr>\n",
       "            <tr>\n",
       "                        <th id=\"T_217aacf0_6285_11ec_8492_02420a397d57level0_row4\" class=\"row_heading level0 row4\" >4</th>\n",
       "                        <td id=\"T_217aacf0_6285_11ec_8492_02420a397d57row4_col0\" class=\"data row4 col0\" >4</td>\n",
       "                        <td id=\"T_217aacf0_6285_11ec_8492_02420a397d57row4_col1\" class=\"data row4 col1\" >0.55</td>\n",
       "                        <td id=\"T_217aacf0_6285_11ec_8492_02420a397d57row4_col2\" class=\"data row4 col2\" >1</td>\n",
       "                        <td id=\"T_217aacf0_6285_11ec_8492_02420a397d57row4_col3\" class=\"data row4 col3\" >0.38</td>\n",
       "                        <td id=\"T_217aacf0_6285_11ec_8492_02420a397d57row4_col4\" class=\"data row4 col4\" >0.01</td>\n",
       "                        <td id=\"T_217aacf0_6285_11ec_8492_02420a397d57row4_col5\" class=\"data row4 col5\" >1</td>\n",
       "                        <td id=\"T_217aacf0_6285_11ec_8492_02420a397d57row4_col6\" class=\"data row4 col6\" >6.21</td>\n",
       "                        <td id=\"T_217aacf0_6285_11ec_8492_02420a397d57row4_col7\" class=\"data row4 col7\" >0.53</td>\n",
       "                        <td id=\"T_217aacf0_6285_11ec_8492_02420a397d57row4_col8\" class=\"data row4 col8\" >30.63</td>\n",
       "                        <td id=\"T_217aacf0_6285_11ec_8492_02420a397d57row4_col9\" class=\"data row4 col9\" >179</td>\n",
       "                        <td id=\"T_217aacf0_6285_11ec_8492_02420a397d57row4_col10\" class=\"data row4 col10\" >5.41</td>\n",
       "                        <td id=\"T_217aacf0_6285_11ec_8492_02420a397d57row4_col11\" class=\"data row4 col11\" >2.35</td>\n",
       "            </tr>\n",
       "    </tbody></table>"
      ],
      "text/plain": [
       "<pandas.io.formats.style.Styler at 0x7fc0f9b83e90>"
      ]
     },
     "execution_count": 17,
     "metadata": {},
     "output_type": "execute_result"
    }
   ],
   "source": [
    "# посмотрим на средние значения признаков по кластерам\n",
    "df['cluster_km'] = labels\n",
    "round(df.drop(columns=['churn']).groupby(['cluster_km']).mean(), 2).reset_index().style.background_gradient('Blues')"
   ]
  },
  {
   "cell_type": "code",
   "execution_count": 18,
   "metadata": {
    "cellId": "kgd6hh5g6qwgi943dz96"
   },
   "outputs": [
    {
     "data": {
      "image/png": "[encoded data removed]",
      "text/plain": [
       "<Figure size 1080x720 with 6 Axes>"
      ]
     },
     "metadata": {
      "needs_background": "light"
     },
     "output_type": "display_data"
    }
   ],
   "source": [
    "# построим столбчатые диаграммы для бинарных признаков\n",
    "fig = plt.figure(figsize=(15, 10))\n",
    "for i, col in enumerate(['gender', 'near_location', 'partner', 'promo_friends', 'contract_period', 'group_visits']):\n",
    "    ax = fig.add_subplot(2, 3, i+1)\n",
    "    sns.countplot(x = df[col], hue='cluster_km', data=df)\n",
    "    ax.set_title('Распределение значений \\nв столбце {}'.format(col))\n",
    "    ax.set_xlabel('Значения признака')\n",
    "    ax.set_ylabel('Число клиентов')\n",
    "plt.subplots_adjust(wspace=0.3, hspace=0.3);"
   ]
  },
  {
   "cell_type": "code",
   "execution_count": 19,
   "metadata": {
    "cellId": "jjwspfimds83i9xd1i9cuk"
   },
   "outputs": [
    {
     "data": {
      "image/png": "[encoded data removed]",
      "text/plain": [
       "<Figure size 1080x720 with 4 Axes>"
      ]
     },
     "metadata": {
      "needs_background": "light"
     },
     "output_type": "display_data"
    }
   ],
   "source": [
    "# построим диаграммы размаха для численных признаков \n",
    "fig = plt.figure(figsize=(15, 10))\n",
    "for i, col in enumerate(['age', 'avg_additional_charges_total', 'lifetime', 'avg_class_frequency_current_month']):\n",
    "    ax = fig.add_subplot(2, 2, i+1)\n",
    "    sns.boxplot(x = 'cluster_km', y = df[col], data = df)\n",
    "    ax.set_title('Распределение значений \\nв столбце {}'.format(col))\n",
    "    ax.set_ylabel('Значения признака')\n",
    "    ax.set_xlabel('Номер кластера')\n",
    "plt.subplots_adjust(wspace=0.3, hspace=0.3);"
   ]
  },
  {
   "cell_type": "markdown",
   "metadata": {
    "cellId": "u3bgj3bv6r3ou89ylk0ps"
   },
   "source": [
    "По результатам кластеризации выделены следующие группы клиентов:\n",
    "1. В первый кластер входят самые молодые клиенты (средний возраст 28 лет), которые тратят меньше остальных денег на дополнительные услуги (117,18 у.е.), не очень охотно посещают групповые занятия (29%), берут краткосрочные абонементы (средний срок - 2 месяца), что соответствует их низкой лояльности сети (средний lifetime - около 2 месяцев, среднее количество тренировок в неделю - 1). В данном кластере самый низкий процент партнёрских клиентов, что объясняет короткий срок контракта: корпоративные абонементы обычно покупают на год. По реферальной программе пришли 7% пользователей.\n",
    "2. Средний возраст клиентов во втором кластере составляет 29 с половиной лет, у них самые долгие абонементы (средний срок больше полугода), 89% из них корпоративные, и 100% клиентов пришли по приглашению друзей. Они активно ходят на групповые занятия (52%) и стабильно посещают индивидуальные тренировки (среднее значение - 1,92 раза в неделю).\n",
    "3. Клиентов третьего кластера объединяет тот факт, что никто из них не оставил свой контактный телефон. Средний возраст группы достаточно высокий - 29 лет, 14% живут далеко от зала, 47% имеют корпоративный абонемент, 31% пришли по акции \"Приведи друга\", 43% ходят на групповые тренировки, средний lifetime около 4 месяцев.\n",
    "4. В четвёртый кластер попали клиенты, которые живут и работают далеко от фитнес-центра, поэтому редко ходят на тренировки, как групповые (23%), так и индивидуальные (1,6 раз в неделю), и быстро их бросают. Средний возраст этих клиентов - 28 с половиной лет. Средняя длительность абонемента соответствует \"сроку жизни\" клиента - 3 месяца.\n",
    "5. В пятый кластер входят клиенты с самым высоким средним возрастом (30 с половиной лет), которые часто ходят на групповые тренировки (52%), покупают долгосрочные абонементы (средний срок - полгода) и активно приобретают дополнительные услуги (каждый клиент дополнительно приносит в среднем 179 у.е.). Они также чаще остальных ходят в зал (2,35 тренировок в текущем месяце) и лояльны сети (средний lifetime - 5,4 месяцев). 38% имеют корпоративные абонементы, но только 1% пришёл по приглашению друзей.\n",
    "\n",
    "Вероятно, комбинация вышеуказанных факторов - возраст клиента, удобство расположения зала, наличие корпоративного абонемента, участие в реферальной программе - прямо влияет на посещение тренировок и удержание клиента в сети. Проверим уровень оттока по кластерам."
   ]
  },
  {
   "cell_type": "code",
   "execution_count": 20,
   "metadata": {
    "cellId": "tk1qng64di8fmyiewnhl9"
   },
   "outputs": [
    {
     "data": {
      "text/html": [
       "<style  type=\"text/css\" >\n",
       "    #T_22d3e74c_6285_11ec_8492_02420a397d57row0_col0 {\n",
       "            background-color:  #3b4cc0;\n",
       "            color:  #f1f1f1;\n",
       "        }    #T_22d3e74c_6285_11ec_8492_02420a397d57row0_col1 {\n",
       "            background-color:  #b40426;\n",
       "            color:  #f1f1f1;\n",
       "        }    #T_22d3e74c_6285_11ec_8492_02420a397d57row1_col0 {\n",
       "            background-color:  #8db0fe;\n",
       "            color:  #000000;\n",
       "        }    #T_22d3e74c_6285_11ec_8492_02420a397d57row1_col1 {\n",
       "            background-color:  #779af7;\n",
       "            color:  #000000;\n",
       "        }    #T_22d3e74c_6285_11ec_8492_02420a397d57row2_col0 {\n",
       "            background-color:  #dddcdc;\n",
       "            color:  #000000;\n",
       "        }    #T_22d3e74c_6285_11ec_8492_02420a397d57row2_col1 {\n",
       "            background-color:  #d3dbe7;\n",
       "            color:  #000000;\n",
       "        }    #T_22d3e74c_6285_11ec_8492_02420a397d57row3_col0 {\n",
       "            background-color:  #f4987a;\n",
       "            color:  #000000;\n",
       "        }    #T_22d3e74c_6285_11ec_8492_02420a397d57row3_col1 {\n",
       "            background-color:  #f7a889;\n",
       "            color:  #000000;\n",
       "        }    #T_22d3e74c_6285_11ec_8492_02420a397d57row4_col0 {\n",
       "            background-color:  #b40426;\n",
       "            color:  #f1f1f1;\n",
       "        }    #T_22d3e74c_6285_11ec_8492_02420a397d57row4_col1 {\n",
       "            background-color:  #3b4cc0;\n",
       "            color:  #f1f1f1;\n",
       "        }</style><table id=\"T_22d3e74c_6285_11ec_8492_02420a397d57\" ><thead>    <tr>        <th class=\"blank level0\" ></th>        <th class=\"col_heading level0 col0\" >cluster_km</th>        <th class=\"col_heading level0 col1\" >churn</th>    </tr></thead><tbody>\n",
       "                <tr>\n",
       "                        <th id=\"T_22d3e74c_6285_11ec_8492_02420a397d57level0_row0\" class=\"row_heading level0 row0\" >0</th>\n",
       "                        <td id=\"T_22d3e74c_6285_11ec_8492_02420a397d57row0_col0\" class=\"data row0 col0\" >0</td>\n",
       "                        <td id=\"T_22d3e74c_6285_11ec_8492_02420a397d57row0_col1\" class=\"data row0 col1\" >0.558879</td>\n",
       "            </tr>\n",
       "            <tr>\n",
       "                        <th id=\"T_22d3e74c_6285_11ec_8492_02420a397d57level0_row1\" class=\"row_heading level0 row1\" >1</th>\n",
       "                        <td id=\"T_22d3e74c_6285_11ec_8492_02420a397d57row1_col0\" class=\"data row1 col0\" >1</td>\n",
       "                        <td id=\"T_22d3e74c_6285_11ec_8492_02420a397d57row1_col1\" class=\"data row1 col1\" >0.119675</td>\n",
       "            </tr>\n",
       "            <tr>\n",
       "                        <th id=\"T_22d3e74c_6285_11ec_8492_02420a397d57level0_row2\" class=\"row_heading level0 row2\" >2</th>\n",
       "                        <td id=\"T_22d3e74c_6285_11ec_8492_02420a397d57row2_col0\" class=\"data row2 col0\" >2</td>\n",
       "                        <td id=\"T_22d3e74c_6285_11ec_8492_02420a397d57row2_col1\" class=\"data row2 col1\" >0.266839</td>\n",
       "            </tr>\n",
       "            <tr>\n",
       "                        <th id=\"T_22d3e74c_6285_11ec_8492_02420a397d57level0_row3\" class=\"row_heading level0 row3\" >3</th>\n",
       "                        <td id=\"T_22d3e74c_6285_11ec_8492_02420a397d57row3_col0\" class=\"data row3 col0\" >3</td>\n",
       "                        <td id=\"T_22d3e74c_6285_11ec_8492_02420a397d57row3_col1\" class=\"data row3 col1\" >0.403226</td>\n",
       "            </tr>\n",
       "            <tr>\n",
       "                        <th id=\"T_22d3e74c_6285_11ec_8492_02420a397d57level0_row4\" class=\"row_heading level0 row4\" >4</th>\n",
       "                        <td id=\"T_22d3e74c_6285_11ec_8492_02420a397d57row4_col0\" class=\"data row4 col0\" >4</td>\n",
       "                        <td id=\"T_22d3e74c_6285_11ec_8492_02420a397d57row4_col1\" class=\"data row4 col1\" >0.017</td>\n",
       "            </tr>\n",
       "    </tbody></table>"
      ],
      "text/plain": [
       "<pandas.io.formats.style.Styler at 0x7fc1789f84d0>"
      ]
     },
     "execution_count": 20,
     "metadata": {},
     "output_type": "execute_result"
    }
   ],
   "source": [
    "df.groupby('cluster_km').agg({'churn':'mean'}).reset_index().style.background_gradient('coolwarm')"
   ]
  },
  {
   "cell_type": "markdown",
   "metadata": {
    "cellId": "3d54ykyguye2p0hem7buf"
   },
   "source": [
    "Самый высокий отток во первом (56%) и четвёртом (40%) кластерах, т.е. среди молодых клиентов, которые редко посещают групповые занятия, покупают краткосрочные абонементы до 3 месяцев, не участвуют в программе \"Пригласи друга\" и либо далеко живут, либо не имеют корпоративных скидок, что снижает их мотивацию продолжать заниматься. Самый низкий уровень оттока (всего 2%) зафиксирован в пятом кластере (люди старше 30, которые живут или работают поблизости от зала, часто ходят на тренировки и покупают долгосрочные абонементы от полугода), также низкий отток (12%) во втором кластере пришедших по реферальной программе и имеющих партнёрский абонемент. В третьем кластере отток в 27%, возможно, вызван неудобством расположения зала, по остальным характеристикам этот кластер близок к двум самым лояльным. Подводя итог, портрет идеального клиента сети \"Культурист-датасаентист\": мужчина или женщина старше 29 лет, живущие или работающие неподалёку, пришедшие по приглашению друга или по программе корпоративного фитнеса, которые активно посещают групповые тренировки. Вероятность оттока при сочетании всех этих факторов будет крайне низкой."
   ]
  },
  {
   "cell_type": "markdown",
   "metadata": {
    "cellId": "39crmlvqqi5ts6f826qxyf"
   },
   "source": [
    "## Общий вывод"
   ]
  },
  {
   "cell_type": "markdown",
   "metadata": {
    "cellId": "0pgu6ajczpsmgqkvhnuqic"
   },
   "source": [
    "В данном исследовании мы проанализировали 4000 анкет клиентов сети фитнес-центров «Культурист-датасаентист» и выявили следующие особенности:\n",
    "1. Половая принадлежность клиентов не оказывает никакого влияния на факт оттока;\n",
    "2. Сильнее всего с оттоком связаны возраст клиента (чем он моложе, тем больше вероятность ухода), активность посещений в последний месяц (если человек внезапно перестал ходить, скорее всего, он уже не вернется) и длительность абонемента (контракт на 1 или 3 месяца после завершения часто не продляют).\n",
    "3. На отток также влияют наличие корпоративного абонемента, участие в программе \"Приведи друга\", удобство расположения зала и посещение групповых занятий.\n",
    "\n",
    "На основе данных мы создали две модели бинарной классификации для предсказания вероятности оттока клиента в следующем месяце. Протестировав их на валидационной выборке, получили такие значения метрик: \n",
    "- для модели логистической регрессии:\n",
    "    - Accuracy: 0.90, \n",
    "    - Precision: 0.79, \n",
    "    - Recall: 0.82, \n",
    "    - F1: 0.81, \n",
    "    - ROC_AUC: 0.96; \n",
    "- для модели случайного леса: \n",
    "    - Accuracy: 0.90, \n",
    "    - Precision: 0.81, \n",
    "    - Recall: 0.75, \n",
    "    - F1: 0.78, \n",
    "    - ROC_AUC: 0.95. \n",
    "\n",
    "Доля правильных ответов (accuracy) двух моделей одинакова, поэтому в зависимости от целей можно использовать любую из них: для удержания как можно большего числа клиентов модель логистической регрессии подходит лучше (выше полнота обнаружения объектов целевого класса (recall) и сводные метрики F1-score и ROC_AUC), однако если компания опасается раздражать клиентов агрессивным маркетингом и ценит точность предсказаний, следует использовать случайный лес (точность предсказаний в целевом классе (precision) у него выше).\n",
    "\n",
    "Мы также разбили клиентов на 5 кластеров с помощью алгоритма K-Means и получили несколько характерных групп:\n",
    "1. Клиенты с высоким средним возрастом (30 с половиной лет), которые часто ходят на групповые тренировки (52%), покупают долгосрочные абонементы (средний срок - полгода) и активно приобретают дополнительные услуги (каждый клиент дополнительно приносит в среднем 179 у.е.). Они также чаще остальных ходят в зал (2,36 тренировки в текущем месяце) и лояльны сети (средний lifetime - 5,4 месяцев). 38% имеют корпоративные абонементы. Среди них самый низкий уровень оттока - всего 2%.\n",
    "2. Самые молодые клиенты (средний возраст 28 лет), которые тратят мало денег на дополнительные услуги (117,18 у.е.), не очень охотно посещают групповые занятия (29%), берут краткосрочные абонементы (средний срок - 2 месяца), что соответствует их низкой лояльности сети (средний lifetime - около 2 месяцев, среднее количество тренировок в неделю - 1). В данном кластере самый низкий процент партнёрских абонементов и самый высокий уровень оттока - 56%.\n",
    "3. Клиенты, которые живут и работают далеко от фитнес-центра, поэтому редко ходят на тренировки, как групповые (23%), так и индивидуальные (1,6 раз в неделю), и быстро их бросают. Средний возраст этих клиентов - 28 с половиной лет. Средняя длительность абонемента соответствует \"сроку жизни\" клиента - 3 месяца, величина оттока - 40%.\n",
    "4. Клиенты, которые пришли по приглашению друзей, возрастом от 29 с половиной лет и старше с самыми долгими абонементами (средний срок больше полугода), 89% из которых корпоративные. Отток в данном кластере составляет 12%.\n",
    "5. Клиенты, которые отказались оставлять свой контактный телефон. Средний возраст группы достаточно высокий - 29 лет, 14% живут далеко от зала, 47% имеет корпоративный абонемент, 31% пришли по акции \"Приведи друга\", 43% ходят на групповые тренировки, средний lifetime около 4 месяцев. Отток в данном кластере составляет 27%.\n",
    "\n",
    "Данные по кластерам подтвердили предположение, что на отток сильно всего влияют возраст, длительность абонемента, участие в корпоративных программах или акции \"Приведи друга\" и удобство расположения зала. С учётом этого мы можем дать следующие рекомендации:\n",
    "1. Целевая группа клиентов - люди старше 30 лет, которые живут или работают неподалёку от центра, поэтому на них нужно делать упор в рекламной кампании;\n",
    "2. Более молодых клиентов можно привлекать через акцию \"Приведи друга\" и корпоративный фитнес, поэтому стоит расширить партнёрскую сеть среди работодателей и сделать привлекательными условия реферальной программы как для пригласившего, так и для приглашённого;\n",
    "3. Данные показывают, что факт посещения групповых тренировок положительно сказывается на удержании клиента, поэтому нужно составить удобное расписание занятий и активно рекламировать клиентам этот вид услуг;\n",
    "4. Также рекомендуем снизить цены долгих контрактов, чтобы мотивировать клиентов покупать абонементы сроком от полугода и выше: в долгосрочной перспективе их лояльность окупится."
   ]
  }
 ],
 "metadata": {
  "ExecuteTimeLog": [
   {
    "duration": 621,
    "start_time": "2021-12-10T17:32:45.891Z"
   },
   {
    "duration": 8107,
    "start_time": "2021-12-10T17:33:06.381Z"
   },
   {
    "duration": 1770,
    "start_time": "2021-12-10T17:33:18.691Z"
   },
   {
    "duration": 322,
    "start_time": "2021-12-10T17:33:20.466Z"
   },
   {
    "duration": 30,
    "start_time": "2021-12-10T17:33:20.791Z"
   },
   {
    "duration": 13,
    "start_time": "2021-12-10T17:33:22.106Z"
   },
   {
    "duration": 4,
    "start_time": "2021-12-10T17:33:23.537Z"
   },
   {
    "duration": 77,
    "start_time": "2021-12-10T17:33:25.523Z"
   },
   {
    "duration": 24,
    "start_time": "2021-12-10T17:33:27.284Z"
   },
   {
    "duration": 2437,
    "start_time": "2021-12-10T17:33:28.983Z"
   },
   {
    "duration": 2048,
    "start_time": "2021-12-10T17:33:34.998Z"
   },
   {
    "duration": 6,
    "start_time": "2021-12-10T17:33:40.932Z"
   },
   {
    "duration": 837,
    "start_time": "2021-12-10T17:33:43.917Z"
   },
   {
    "duration": 3,
    "start_time": "2021-12-10T17:33:48.569Z"
   },
   {
    "duration": 5,
    "start_time": "2021-12-10T17:33:56.916Z"
   },
   {
    "duration": 3,
    "start_time": "2021-12-10T17:34:26.639Z"
   },
   {
    "duration": 6,
    "start_time": "2021-12-10T17:34:38.409Z"
   },
   {
    "duration": 482,
    "start_time": "2021-12-10T17:40:14.378Z"
   },
   {
    "duration": 320,
    "start_time": "2021-12-10T17:40:22.308Z"
   },
   {
    "duration": 397,
    "start_time": "2021-12-10T17:41:38.996Z"
   },
   {
    "duration": 6,
    "start_time": "2021-12-10T17:42:11.856Z"
   },
   {
    "duration": 289,
    "start_time": "2021-12-10T17:45:51.966Z"
   },
   {
    "duration": 369,
    "start_time": "2021-12-10T17:45:59.569Z"
   },
   {
    "duration": 6,
    "start_time": "2021-12-10T17:46:30.472Z"
   },
   {
    "duration": 340,
    "start_time": "2021-12-10T17:46:53.473Z"
   },
   {
    "duration": 14,
    "start_time": "2021-12-10T17:47:06.474Z"
   },
   {
    "duration": 26,
    "start_time": "2021-12-10T17:52:02.919Z"
   },
   {
    "duration": 27,
    "start_time": "2021-12-10T17:59:04.431Z"
   },
   {
    "duration": 4,
    "start_time": "2021-12-10T18:10:33.970Z"
   },
   {
    "duration": 3626,
    "start_time": "2021-12-10T18:10:33.982Z"
   },
   {
    "duration": 1629,
    "start_time": "2021-12-10T18:10:37.611Z"
   },
   {
    "duration": 262,
    "start_time": "2021-12-10T18:10:39.244Z"
   },
   {
    "duration": 31,
    "start_time": "2021-12-10T18:10:39.508Z"
   },
   {
    "duration": 12,
    "start_time": "2021-12-10T18:10:39.541Z"
   },
   {
    "duration": 5,
    "start_time": "2021-12-10T18:10:39.555Z"
   },
   {
    "duration": 74,
    "start_time": "2021-12-10T18:10:39.567Z"
   },
   {
    "duration": 44,
    "start_time": "2021-12-10T18:10:39.644Z"
   },
   {
    "duration": 2266,
    "start_time": "2021-12-10T18:10:39.692Z"
   },
   {
    "duration": 2109,
    "start_time": "2021-12-10T18:10:41.967Z"
   },
   {
    "duration": 8,
    "start_time": "2021-12-10T18:10:44.079Z"
   },
   {
    "duration": 1123,
    "start_time": "2021-12-10T18:10:44.090Z"
   },
   {
    "duration": 15,
    "start_time": "2021-12-10T18:10:45.216Z"
   },
   {
    "duration": 50,
    "start_time": "2021-12-10T18:10:45.233Z"
   },
   {
    "duration": 9,
    "start_time": "2021-12-10T18:10:45.285Z"
   },
   {
    "duration": 147254,
    "start_time": "2021-12-10T18:10:45.297Z"
   },
   {
    "duration": 1917,
    "start_time": "2021-12-10T18:13:12.553Z"
   },
   {
    "duration": 966,
    "start_time": "2021-12-10T18:13:14.473Z"
   },
   {
    "duration": 1708,
    "start_time": "2021-12-10T18:13:15.441Z"
   },
   {
    "duration": 1963,
    "start_time": "2021-12-10T18:13:17.151Z"
   },
   {
    "duration": 28,
    "start_time": "2021-12-10T18:13:19.117Z"
   },
   {
    "duration": 4,
    "start_time": "2021-12-10T18:14:44.168Z"
   },
   {
    "duration": 3270,
    "start_time": "2021-12-10T18:14:44.176Z"
   },
   {
    "duration": 1687,
    "start_time": "2021-12-10T18:14:47.449Z"
   },
   {
    "duration": 275,
    "start_time": "2021-12-10T18:14:49.139Z"
   },
   {
    "duration": 29,
    "start_time": "2021-12-10T18:14:49.417Z"
   },
   {
    "duration": 11,
    "start_time": "2021-12-10T18:14:49.448Z"
   },
   {
    "duration": 4,
    "start_time": "2021-12-10T18:14:49.461Z"
   },
   {
    "duration": 81,
    "start_time": "2021-12-10T18:14:49.467Z"
   },
   {
    "duration": 46,
    "start_time": "2021-12-10T18:14:49.550Z"
   },
   {
    "duration": 2403,
    "start_time": "2021-12-10T18:14:49.602Z"
   },
   {
    "duration": 2090,
    "start_time": "2021-12-10T18:14:52.009Z"
   },
   {
    "duration": 6,
    "start_time": "2021-12-10T18:14:54.101Z"
   },
   {
    "duration": 877,
    "start_time": "2021-12-10T18:14:54.110Z"
   },
   {
    "duration": 13,
    "start_time": "2021-12-10T18:14:54.989Z"
   },
   {
    "duration": 29,
    "start_time": "2021-12-10T18:14:55.005Z"
   },
   {
    "duration": 31,
    "start_time": "2021-12-10T18:14:55.036Z"
   },
   {
    "duration": 142606,
    "start_time": "2021-12-10T18:14:55.069Z"
   },
   {
    "duration": 1689,
    "start_time": "2021-12-10T18:17:17.678Z"
   },
   {
    "duration": 716,
    "start_time": "2021-12-10T18:17:19.370Z"
   },
   {
    "duration": 1740,
    "start_time": "2021-12-10T18:17:20.089Z"
   },
   {
    "duration": 1848,
    "start_time": "2021-12-10T18:17:21.832Z"
   },
   {
    "duration": 26,
    "start_time": "2021-12-10T18:17:23.683Z"
   },
   {
    "duration": 54,
    "start_time": "2021-12-10T18:19:09.037Z"
   },
   {
    "duration": 4,
    "start_time": "2021-12-10T18:32:29.924Z"
   },
   {
    "duration": 3204,
    "start_time": "2021-12-10T18:32:29.935Z"
   },
   {
    "duration": 1649,
    "start_time": "2021-12-10T18:32:33.142Z"
   },
   {
    "duration": 296,
    "start_time": "2021-12-10T18:32:34.794Z"
   },
   {
    "duration": 34,
    "start_time": "2021-12-10T18:32:35.094Z"
   },
   {
    "duration": 35,
    "start_time": "2021-12-10T18:32:35.132Z"
   },
   {
    "duration": 5,
    "start_time": "2021-12-10T18:32:35.170Z"
   },
   {
    "duration": 93,
    "start_time": "2021-12-10T18:32:35.178Z"
   },
   {
    "duration": 24,
    "start_time": "2021-12-10T18:32:35.275Z"
   },
   {
    "duration": 2266,
    "start_time": "2021-12-10T18:32:35.302Z"
   },
   {
    "duration": 1940,
    "start_time": "2021-12-10T18:32:37.570Z"
   },
   {
    "duration": 5,
    "start_time": "2021-12-10T18:32:39.513Z"
   },
   {
    "duration": 900,
    "start_time": "2021-12-10T18:32:39.521Z"
   },
   {
    "duration": 16,
    "start_time": "2021-12-10T18:32:40.425Z"
   },
   {
    "duration": 44,
    "start_time": "2021-12-10T18:32:40.443Z"
   },
   {
    "duration": 9,
    "start_time": "2021-12-10T18:32:40.490Z"
   },
   {
    "duration": 149352,
    "start_time": "2021-12-10T18:32:40.501Z"
   },
   {
    "duration": 1916,
    "start_time": "2021-12-10T18:35:09.855Z"
   },
   {
    "duration": 1016,
    "start_time": "2021-12-10T18:35:11.774Z"
   },
   {
    "duration": 1843,
    "start_time": "2021-12-10T18:35:12.793Z"
   },
   {
    "duration": 1956,
    "start_time": "2021-12-10T18:35:14.640Z"
   },
   {
    "duration": 28,
    "start_time": "2021-12-10T18:35:16.599Z"
   },
   {
    "duration": 6952,
    "start_time": "2021-12-21T17:39:10.250Z"
   },
   {
    "duration": 551,
    "start_time": "2021-12-21T17:39:17.204Z"
   },
   {
    "duration": 18,
    "start_time": "2021-12-21T17:39:17.757Z"
   },
   {
    "duration": 8,
    "start_time": "2021-12-21T17:39:17.777Z"
   },
   {
    "duration": 2,
    "start_time": "2021-12-21T17:39:17.787Z"
   },
   {
    "duration": 47,
    "start_time": "2021-12-21T17:39:17.791Z"
   },
   {
    "duration": 15,
    "start_time": "2021-12-21T17:39:17.839Z"
   },
   {
    "duration": 1423,
    "start_time": "2021-12-21T17:39:17.856Z"
   },
   {
    "duration": 1253,
    "start_time": "2021-12-21T17:39:19.281Z"
   },
   {
    "duration": 4,
    "start_time": "2021-12-21T17:39:20.536Z"
   },
   {
    "duration": 614,
    "start_time": "2021-12-21T17:39:20.542Z"
   },
   {
    "duration": 9,
    "start_time": "2021-12-21T17:39:21.158Z"
   },
   {
    "duration": 21,
    "start_time": "2021-12-21T17:39:21.168Z"
   },
   {
    "duration": 21,
    "start_time": "2021-12-21T17:39:21.190Z"
   },
   {
    "duration": 84172,
    "start_time": "2021-12-21T17:39:21.213Z"
   },
   {
    "duration": 1328,
    "start_time": "2021-12-21T17:40:45.387Z"
   },
   {
    "duration": 640,
    "start_time": "2021-12-21T17:40:46.718Z"
   },
   {
    "duration": 1072,
    "start_time": "2021-12-21T17:40:47.360Z"
   },
   {
    "duration": 1159,
    "start_time": "2021-12-21T17:40:48.434Z"
   },
   {
    "duration": 21,
    "start_time": "2021-12-21T17:40:49.595Z"
   }
  ],
  "kernelspec": {
   "display_name": "Python 3",
   "language": "python",
   "name": "python3"
  },
  "language_info": {
   "codemirror_mode": {
    "name": "ipython",
    "version": 3
   },
   "file_extension": ".py",
   "mimetype": "text/x-python",
   "name": "python",
   "nbconvert_exporter": "python",
   "pygments_lexer": "ipython3",
   "version": "3.7.8"
  },
  "notebookId": "fb9a657f-36f9-4751-b4ac-12112642f34f",
  "notebookPath": "da-forecasts-predictions.ipynb",
  "toc": {
   "base_numbering": 1,
   "nav_menu": {},
   "number_sections": true,
   "sideBar": true,
   "skip_h1_title": true,
   "title_cell": "Table of Contents",
   "title_sidebar": "Contents",
   "toc_cell": false,
   "toc_position": {},
   "toc_section_display": true,
   "toc_window_display": false
  }
 },
 "nbformat": 4,
 "nbformat_minor": 4
}
