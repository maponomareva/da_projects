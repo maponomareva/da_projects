{
 "cells": [
  {
   "cell_type": "markdown",
   "metadata": {},
   "source": [
    "# Аналитика в авиакомпании"
   ]
  },
  {
   "cell_type": "markdown",
   "metadata": {},
   "source": [
    "Целью настоящего исследования является анализ спроса на рынке внутренних пассажирских авиаперевозок на основе данных о рейсах российской авиакомпании. Необходимо изучить базу данных и проанализировать спрос пассажиров на рейсы в города, где проходят крупнейшие фестивали. По используемым техническим средствам проект делится на три части: парсинг данных, изучение базы данных с помощью SQL-запросов и аналитика с помощью Python.\n",
    "\n",
    "Задачи исследования:\n",
    "1. Написать парсер для сбора с сайта данных о 11 крупнейших фестивалях 2018 года;\n",
    "2. Изучить базу данных и выгрузить данные о количестве рейсов во время фестивалей;\n",
    "3. Проанализировать полученные данные:\n",
    "    1. Выбрать топ-10 городов по количеству рейсов;\n",
    "    2. Изучить зависимости между количеством рейсов и следующими параметрами:\n",
    "        1. модели самолетов,\n",
    "        2. города прибытия."
   ]
  },
  {
   "cell_type": "markdown",
   "metadata": {
    "toc": true
   },
   "source": [
    "<h1>Оглавление<span class=\"tocSkip\"></span></h1>\n",
    "<div class=\"toc\"><ul class=\"toc-item\"><li><span><a href=\"#Парсинг-данных-о-11-крупнейших-фестивалях-2018-года\" data-toc-modified-id=\"Парсинг-данных-о-11-крупнейших-фестивалях-2018-года-1\"><span class=\"toc-item-num\">1&nbsp;&nbsp;</span>Парсинг данных о 11 крупнейших фестивалях 2018 года</a></span></li><li><span><a href=\"#Изучение-базы-данных-авиакомпании\" data-toc-modified-id=\"Изучение-базы-данных-авиакомпании-2\"><span class=\"toc-item-num\">2&nbsp;&nbsp;</span>Изучение базы данных авиакомпании</a></span></li><li><span><a href=\"#Аналитика-средствами-Python\" data-toc-modified-id=\"Аналитика-средствами-Python-3\"><span class=\"toc-item-num\">3&nbsp;&nbsp;</span>Аналитика средствами Python</a></span><ul class=\"toc-item\"><li><span><a href=\"#Изучение-и-предобработка-данных\" data-toc-modified-id=\"Изучение-и-предобработка-данных-3.1\"><span class=\"toc-item-num\">3.1&nbsp;&nbsp;</span>Изучение и предобработка данных</a></span><ul class=\"toc-item\"><li><span><a href=\"#Изучение-первой-таблицы\" data-toc-modified-id=\"Изучение-первой-таблицы-3.1.1\"><span class=\"toc-item-num\">3.1.1&nbsp;&nbsp;</span>Изучение первой таблицы</a></span></li><li><span><a href=\"#Изучение-второй-таблицы\" data-toc-modified-id=\"Изучение-второй-таблицы-3.1.2\"><span class=\"toc-item-num\">3.1.2&nbsp;&nbsp;</span>Изучение второй таблицы</a></span></li><li><span><a href=\"#Вывод\" data-toc-modified-id=\"Вывод-3.1.3\"><span class=\"toc-item-num\">3.1.3&nbsp;&nbsp;</span>Вывод</a></span></li></ul></li><li><span><a href=\"#Определение-топ-10-городов-по-количеству-рейсов\" data-toc-modified-id=\"Определение-топ-10-городов-по-количеству-рейсов-3.2\"><span class=\"toc-item-num\">3.2&nbsp;&nbsp;</span>Определение топ-10 городов по количеству рейсов</a></span></li><li><span><a href=\"#Визуальный-анализ-зависимостей\" data-toc-modified-id=\"Визуальный-анализ-зависимостей-3.3\"><span class=\"toc-item-num\">3.3&nbsp;&nbsp;</span>Визуальный анализ зависимостей</a></span><ul class=\"toc-item\"><li><span><a href=\"#Количество-рейсов-по-моделям-самолётов\" data-toc-modified-id=\"Количество-рейсов-по-моделям-самолётов-3.3.1\"><span class=\"toc-item-num\">3.3.1&nbsp;&nbsp;</span>Количество рейсов по моделям самолётов</a></span></li><li><span><a href=\"#Количество-рейсов-по-всем-городам\" data-toc-modified-id=\"Количество-рейсов-по-всем-городам-3.3.2\"><span class=\"toc-item-num\">3.3.2&nbsp;&nbsp;</span>Количество рейсов по всем городам</a></span></li><li><span><a href=\"#Количество-рейсов-по-городам-(топ-10)\" data-toc-modified-id=\"Количество-рейсов-по-городам-(топ-10)-3.3.3\"><span class=\"toc-item-num\">3.3.3&nbsp;&nbsp;</span>Количество рейсов по городам (топ-10)</a></span></li></ul></li><li><span><a href=\"#Общий-вывод\" data-toc-modified-id=\"Общий-вывод-3.4\"><span class=\"toc-item-num\">3.4&nbsp;&nbsp;</span>Общий вывод</a></span></li></ul></li></ul></div>"
   ]
  },
  {
   "cell_type": "markdown",
   "metadata": {},
   "source": [
    "## Парсинг данных о 11 крупнейших фестивалях 2018 года"
   ]
  },
  {
   "cell_type": "code",
   "execution_count": 1,
   "metadata": {},
   "outputs": [],
   "source": [
    "import requests\n",
    "from bs4 import BeautifulSoup\n",
    "import pandas as pd "
   ]
  },
  {
   "cell_type": "code",
   "execution_count": 2,
   "metadata": {},
   "outputs": [],
   "source": [
    "URL = 'https://code.s3.yandex.net/learning-materials/data-analyst/festival_news/index.html'"
   ]
  },
  {
   "cell_type": "code",
   "execution_count": 3,
   "metadata": {},
   "outputs": [],
   "source": [
    "req = requests.get(URL)"
   ]
  },
  {
   "cell_type": "code",
   "execution_count": 4,
   "metadata": {},
   "outputs": [],
   "source": [
    "data = BeautifulSoup(req.text, 'lxml')"
   ]
  },
  {
   "cell_type": "code",
   "execution_count": 5,
   "metadata": {},
   "outputs": [],
   "source": [
    "heading = []\n",
    "\n",
    "for row in data.find_all('th'):\n",
    "    heading.append(row.text)"
   ]
  },
  {
   "cell_type": "code",
   "execution_count": 6,
   "metadata": {},
   "outputs": [],
   "source": [
    "content = []\n",
    "\n",
    "for row in data.find_all('tr'):\n",
    "      if not row.find_all('th'): \n",
    "             content.append([element.text for element in row.find_all('td')])"
   ]
  },
  {
   "cell_type": "code",
   "execution_count": 7,
   "metadata": {},
   "outputs": [
    {
     "data": {
      "text/html": [
       "<div>\n",
       "<style scoped>\n",
       "    .dataframe tbody tr th:only-of-type {\n",
       "        vertical-align: middle;\n",
       "    }\n",
       "\n",
       "    .dataframe tbody tr th {\n",
       "        vertical-align: top;\n",
       "    }\n",
       "\n",
       "    .dataframe thead th {\n",
       "        text-align: right;\n",
       "    }\n",
       "</style>\n",
       "<table border=\"1\" class=\"dataframe\">\n",
       "  <thead>\n",
       "    <tr style=\"text-align: right;\">\n",
       "      <th></th>\n",
       "      <th>Название фестиваля</th>\n",
       "      <th>Место проведения</th>\n",
       "      <th>Дата проведения</th>\n",
       "    </tr>\n",
       "  </thead>\n",
       "  <tbody>\n",
       "    <tr>\n",
       "      <td>0</td>\n",
       "      <td>Музыкальный фестиваль «Усадьба Jazz»</td>\n",
       "      <td>Екатеринбург</td>\n",
       "      <td>01.07.2018</td>\n",
       "    </tr>\n",
       "    <tr>\n",
       "      <td>1</td>\n",
       "      <td>Фестиваль музыки и технологий Alfa Future People</td>\n",
       "      <td>Нижний Новгород</td>\n",
       "      <td>10.08.2018</td>\n",
       "    </tr>\n",
       "    <tr>\n",
       "      <td>2</td>\n",
       "      <td>Фестиваль еды «О, да! Еда!»</td>\n",
       "      <td>Санкт-Петербург</td>\n",
       "      <td>21.07.2018</td>\n",
       "    </tr>\n",
       "    <tr>\n",
       "      <td>3</td>\n",
       "      <td>Доброфест</td>\n",
       "      <td>Ярославль</td>\n",
       "      <td>29.07.2018</td>\n",
       "    </tr>\n",
       "    <tr>\n",
       "      <td>4</td>\n",
       "      <td>Park Live</td>\n",
       "      <td>Москва</td>\n",
       "      <td>28.07.2018</td>\n",
       "    </tr>\n",
       "    <tr>\n",
       "      <td>5</td>\n",
       "      <td>Пикник Афиши</td>\n",
       "      <td>Москва</td>\n",
       "      <td>04.08.2018</td>\n",
       "    </tr>\n",
       "    <tr>\n",
       "      <td>6</td>\n",
       "      <td>VK FEST</td>\n",
       "      <td>Санкт-Петербург</td>\n",
       "      <td>29.07.2018</td>\n",
       "    </tr>\n",
       "    <tr>\n",
       "      <td>7</td>\n",
       "      <td>Фестиваль «О, да! Еда!»</td>\n",
       "      <td>Иркутск</td>\n",
       "      <td>25.08.2018</td>\n",
       "    </tr>\n",
       "    <tr>\n",
       "      <td>8</td>\n",
       "      <td>Фестиваль «О, да! Еда!»</td>\n",
       "      <td>Владивосток</td>\n",
       "      <td>02.09.2018</td>\n",
       "    </tr>\n",
       "    <tr>\n",
       "      <td>9</td>\n",
       "      <td>Видфест</td>\n",
       "      <td>Москва</td>\n",
       "      <td>08.09.2018</td>\n",
       "    </tr>\n",
       "    <tr>\n",
       "      <td>10</td>\n",
       "      <td>«Нашествие 2018»</td>\n",
       "      <td>Тверь</td>\n",
       "      <td>05.08.2018</td>\n",
       "    </tr>\n",
       "  </tbody>\n",
       "</table>\n",
       "</div>"
      ],
      "text/plain": [
       "                                  Название фестиваля Место проведения  \\\n",
       "0               Музыкальный фестиваль «Усадьба Jazz»     Екатеринбург   \n",
       "1   Фестиваль музыки и технологий Alfa Future People  Нижний Новгород   \n",
       "2                        Фестиваль еды «О, да! Еда!»  Санкт-Петербург   \n",
       "3                                          Доброфест        Ярославль   \n",
       "4                                          Park Live           Москва   \n",
       "5                                       Пикник Афиши           Москва   \n",
       "6                                            VK FEST  Санкт-Петербург   \n",
       "7                            Фестиваль «О, да! Еда!»          Иркутск   \n",
       "8                            Фестиваль «О, да! Еда!»      Владивосток   \n",
       "9                                            Видфест           Москва   \n",
       "10                                  «Нашествие 2018»            Тверь   \n",
       "\n",
       "   Дата проведения  \n",
       "0       01.07.2018  \n",
       "1       10.08.2018  \n",
       "2       21.07.2018  \n",
       "3       29.07.2018  \n",
       "4       28.07.2018  \n",
       "5       04.08.2018  \n",
       "6       29.07.2018  \n",
       "7       25.08.2018  \n",
       "8       02.09.2018  \n",
       "9       08.09.2018  \n",
       "10      05.08.2018  "
      ]
     },
     "metadata": {},
     "output_type": "display_data"
    }
   ],
   "source": [
    "festivals = pd.DataFrame(content, columns=heading)\n",
    "display(festivals)"
   ]
  },
  {
   "cell_type": "markdown",
   "metadata": {},
   "source": [
    "## Изучение базы данных авиакомпании"
   ]
  },
  {
   "cell_type": "code",
   "execution_count": 8,
   "metadata": {},
   "outputs": [],
   "source": [
    "#SQL-запрос №1: Вывести список городов, в которых есть аэропорты\n",
    "query = '''\n",
    "SELECT\n",
    "    DISTINCT city\n",
    "FROM\n",
    "    airports\n",
    "'''"
   ]
  },
  {
   "cell_type": "code",
   "execution_count": 9,
   "metadata": {},
   "outputs": [],
   "source": [
    "#SQL-запрос №2: Посчитать количество вылетов из каждого аэропорта\n",
    "query = '''\n",
    "SELECT\n",
    "    departure_airport,\n",
    "    COUNT(flight_id) AS cnt_flights\n",
    "FROM\n",
    "    flights\n",
    "GROUP BY\n",
    "    departure_airport\n",
    "ORDER BY\n",
    "    cnt_flights DESC\n",
    "'''"
   ]
  },
  {
   "cell_type": "code",
   "execution_count": 10,
   "metadata": {},
   "outputs": [],
   "source": [
    "#SQL-запрос №3: Посчитать количество рейсов на каждой модели самолёта с вылетом в сентябре 2018 года\n",
    "query = '''\n",
    "SELECT\n",
    "    aircrafts.model AS model,\n",
    "    COUNT(flights.flight_id) AS flights_amount\n",
    "FROM\n",
    "    aircrafts\n",
    "    INNER JOIN flights ON aircrafts.aircraft_code = flights.aircraft_code\n",
    "WHERE\n",
    "    flights.departure_time::date BETWEEN '01.09.2018' AND '30.09.2018'\n",
    "GROUP BY\n",
    "    aircrafts.model\n",
    "'''"
   ]
  },
  {
   "cell_type": "code",
   "execution_count": 11,
   "metadata": {},
   "outputs": [],
   "source": [
    "#SQL-запрос №4: Посчитать количество рейсов по всем моделям самолётов Boeing, Airbus и остальным в сентябре 2018 года\n",
    "query = '''\n",
    "SELECT\n",
    "       CASE \n",
    "            WHEN aircrafts.model like 'Boeing%' \n",
    "            THEN 'Boeing'\n",
    "            WHEN aircrafts.model like 'Airbus%' \n",
    "            THEN 'Airbus'\n",
    "            ELSE 'other' \n",
    "        END AS type_aircraft,\n",
    "        COUNT(flights.flight_id) AS flights_amount\n",
    "FROM aircrafts\n",
    "JOIN flights ON aircrafts.aircraft_code = flights.aircraft_code\n",
    "WHERE flights.departure_time::date BETWEEN '01.09.2018' AND '30.09.2018'\n",
    "GROUP BY\n",
    "        CASE \n",
    "            WHEN model like 'Boeing%' \n",
    "            THEN 'Boeing'\n",
    "            WHEN model like 'Airbus%' \n",
    "            THEN 'Airbus'\n",
    "            ELSE 'other' \n",
    "        END\n",
    "'''"
   ]
  },
  {
   "cell_type": "code",
   "execution_count": 12,
   "metadata": {},
   "outputs": [],
   "source": [
    "#SQL-запрос №5: Посчитать среднее количество прибывающих рейсов в день для каждого города за август 2018 года\n",
    "query = '''\n",
    "SELECT subq.city AS city\n",
    "    , AVG(cnt) AS average_flights\n",
    "FROM\n",
    "(SELECT\n",
    "    COUNT(f.flight_id) AS cnt\n",
    "    , EXTRACT(DAY FROM f.arrival_time::date) AS arrival_day\n",
    "    , a.city AS city\n",
    " FROM flights AS f\n",
    " JOIN airports AS a ON f.arrival_airport = a.airport_code\n",
    " WHERE f.arrival_time::date BETWEEN '01.08.2018' AND '31.08.2018'\n",
    " GROUP BY arrival_day,\n",
    "     city) AS subq\n",
    "GROUP BY city\n",
    "'''"
   ]
  },
  {
   "cell_type": "code",
   "execution_count": 13,
   "metadata": {},
   "outputs": [],
   "source": [
    "#SQL-запрос №6: Выведите фестивали, которые проходили с 23 июля по 30 сентября 2018 года в Москве\n",
    "query = '''\n",
    "SELECT festival_name AS festival_name\n",
    "    , EXTRACT(week FROM festival_date::date) AS festival_week\n",
    "FROM festivals\n",
    "WHERE festival_city = 'Москва' \n",
    "AND festival_date::date BETWEEN '23.07.2018' AND '30.09.2018'\n",
    "'''"
   ]
  },
  {
   "cell_type": "code",
   "execution_count": 14,
   "metadata": {},
   "outputs": [],
   "source": [
    "#SQL-запрос №7: Для каждой недели с 23 июля по 30 сентября 2018 года посчитайте количество билетов, купленных на рейсы в Москву \n",
    "#Добавьте информацию о проходивших фестивалях из предыдущего запроса\n",
    "query = '''\n",
    "SELECT\n",
    "    EXTRACT(WEEK FROM f.arrival_time::date) AS week_number\n",
    "    , COUNT(tf.ticket_no) AS ticket_amount\n",
    "    , subq.festival_week AS festival_week\n",
    "    , subq.festival_name AS festival_name\n",
    "FROM flights AS f\n",
    "INNER JOIN ticket_flights AS tf ON tf.flight_id = f.flight_id\n",
    "INNER JOIN airports AS a on a.airport_code = f.arrival_airport\n",
    "LEFT JOIN\n",
    "(SELECT\n",
    "    festival_name as festival_name\n",
    "    , EXTRACT(WEEK FROM festival_date::date) AS festival_week\n",
    " FROM festivals\n",
    " WHERE festival_city = 'Москва' \n",
    " AND festival_date::date BETWEEN '23.07.2018' AND '30.09.2018') AS subq\n",
    "ON EXTRACT(WEEK FROM f.arrival_time::date) = subq.festival_week\n",
    "WHERE a.city = 'Москва' \n",
    "AND f.arrival_time::date BETWEEN '23.07.2018' AND '30.09.2018'\n",
    "GROUP BY week_number, festival_week, festival_name\n",
    "'''"
   ]
  },
  {
   "cell_type": "markdown",
   "metadata": {},
   "source": [
    "## Аналитика средствами Python"
   ]
  },
  {
   "cell_type": "markdown",
   "metadata": {},
   "source": [
    "Информации о влиянии музыкальных фестивалей недостаточно, чтобы провести качественную статистическую проверку гипотез, поэтому будем презюмировать, что проведение фестивалей не оказывает серьёзного влияния на спрос: из полученных данных следует, что количество проданных за неделю билетов всегда примерно одинаковое. Поэтому ограничимся изучением влияния других факторов.\n",
    "\n",
    "Задачи данного подраздела:\n",
    "1. Выбрать топ-10 городов по количеству рейсов; \n",
    "2. Изучить зависимости между количеством рейсов и следующими параметрами: \n",
    "    - i) модели самолетов, \n",
    "    - ii) города,\n",
    "    -iii) топ-10 городов.\n",
    "\n",
    "Результаты будут использованы для планирования расписания рейсов и маркетинговых целей."
   ]
  },
  {
   "cell_type": "markdown",
   "metadata": {},
   "source": [
    "### Изучение и предобработка данных"
   ]
  },
  {
   "cell_type": "code",
   "execution_count": 15,
   "metadata": {},
   "outputs": [],
   "source": [
    "#импорт библиотек для визуализации\n",
    "import matplotlib.pyplot as plt\n",
    "import seaborn as sns"
   ]
  },
  {
   "cell_type": "code",
   "execution_count": 16,
   "metadata": {},
   "outputs": [],
   "source": [
    "#чтение файлов\n",
    "models = pd.read_csv('/datasets/query_1.csv')\n",
    "cities = pd.read_csv('/datasets/query_3.csv')"
   ]
  },
  {
   "cell_type": "markdown",
   "metadata": {},
   "source": [
    "#### Изучение первой таблицы"
   ]
  },
  {
   "cell_type": "code",
   "execution_count": 17,
   "metadata": {},
   "outputs": [
    {
     "name": "stdout",
     "output_type": "stream",
     "text": [
      "<class 'pandas.core.frame.DataFrame'>\n",
      "RangeIndex: 8 entries, 0 to 7\n",
      "Data columns (total 2 columns):\n",
      "model             8 non-null object\n",
      "flights_amount    8 non-null int64\n",
      "dtypes: int64(1), object(1)\n",
      "memory usage: 256.0+ bytes\n"
     ]
    }
   ],
   "source": [
    "models.info() #выведем краткую сводку по таблице с моделями самолетов"
   ]
  },
  {
   "cell_type": "markdown",
   "metadata": {},
   "source": [
    "Поскольку первая таблица довольно короткая (8 строк), выведем её целиком."
   ]
  },
  {
   "cell_type": "code",
   "execution_count": 18,
   "metadata": {},
   "outputs": [
    {
     "data": {
      "text/html": [
       "<div>\n",
       "<style scoped>\n",
       "    .dataframe tbody tr th:only-of-type {\n",
       "        vertical-align: middle;\n",
       "    }\n",
       "\n",
       "    .dataframe tbody tr th {\n",
       "        vertical-align: top;\n",
       "    }\n",
       "\n",
       "    .dataframe thead th {\n",
       "        text-align: right;\n",
       "    }\n",
       "</style>\n",
       "<table border=\"1\" class=\"dataframe\">\n",
       "  <thead>\n",
       "    <tr style=\"text-align: right;\">\n",
       "      <th></th>\n",
       "      <th>model</th>\n",
       "      <th>flights_amount</th>\n",
       "    </tr>\n",
       "  </thead>\n",
       "  <tbody>\n",
       "    <tr>\n",
       "      <td>0</td>\n",
       "      <td>Airbus A319-100</td>\n",
       "      <td>607</td>\n",
       "    </tr>\n",
       "    <tr>\n",
       "      <td>1</td>\n",
       "      <td>Airbus A321-200</td>\n",
       "      <td>960</td>\n",
       "    </tr>\n",
       "    <tr>\n",
       "      <td>2</td>\n",
       "      <td>Boeing 737-300</td>\n",
       "      <td>630</td>\n",
       "    </tr>\n",
       "    <tr>\n",
       "      <td>3</td>\n",
       "      <td>Boeing 767-300</td>\n",
       "      <td>600</td>\n",
       "    </tr>\n",
       "    <tr>\n",
       "      <td>4</td>\n",
       "      <td>Boeing 777-300</td>\n",
       "      <td>300</td>\n",
       "    </tr>\n",
       "    <tr>\n",
       "      <td>5</td>\n",
       "      <td>Bombardier CRJ-200</td>\n",
       "      <td>4446</td>\n",
       "    </tr>\n",
       "    <tr>\n",
       "      <td>6</td>\n",
       "      <td>Cessna 208 Caravan</td>\n",
       "      <td>4557</td>\n",
       "    </tr>\n",
       "    <tr>\n",
       "      <td>7</td>\n",
       "      <td>Sukhoi SuperJet-100</td>\n",
       "      <td>4185</td>\n",
       "    </tr>\n",
       "  </tbody>\n",
       "</table>\n",
       "</div>"
      ],
      "text/plain": [
       "                 model  flights_amount\n",
       "0      Airbus A319-100             607\n",
       "1      Airbus A321-200             960\n",
       "2       Boeing 737-300             630\n",
       "3       Boeing 767-300             600\n",
       "4       Boeing 777-300             300\n",
       "5   Bombardier CRJ-200            4446\n",
       "6   Cessna 208 Caravan            4557\n",
       "7  Sukhoi SuperJet-100            4185"
      ]
     },
     "metadata": {},
     "output_type": "display_data"
    }
   ],
   "source": [
    "display(models)"
   ]
  },
  {
   "cell_type": "markdown",
   "metadata": {},
   "source": [
    "В таблице models содержатся данные о модели самолета и количестве рейсов для каждой модели, совершённых в сентябре 2018 года. Пропущенных значений в ней нет, типы данных - строковый для названия модели и int64 для количества рейсов - соответствуют имеющимся данным."
   ]
  },
  {
   "cell_type": "markdown",
   "metadata": {},
   "source": [
    "#### Изучение второй таблицы"
   ]
  },
  {
   "cell_type": "code",
   "execution_count": 19,
   "metadata": {},
   "outputs": [
    {
     "name": "stdout",
     "output_type": "stream",
     "text": [
      "<class 'pandas.core.frame.DataFrame'>\n",
      "RangeIndex: 101 entries, 0 to 100\n",
      "Data columns (total 2 columns):\n",
      "city               101 non-null object\n",
      "average_flights    101 non-null float64\n",
      "dtypes: float64(1), object(1)\n",
      "memory usage: 1.7+ KB\n"
     ]
    }
   ],
   "source": [
    "cities.info() #выведем краткую сводку по таблице с городами прилёта"
   ]
  },
  {
   "cell_type": "code",
   "execution_count": 20,
   "metadata": {},
   "outputs": [
    {
     "data": {
      "text/html": [
       "<div>\n",
       "<style scoped>\n",
       "    .dataframe tbody tr th:only-of-type {\n",
       "        vertical-align: middle;\n",
       "    }\n",
       "\n",
       "    .dataframe tbody tr th {\n",
       "        vertical-align: top;\n",
       "    }\n",
       "\n",
       "    .dataframe thead th {\n",
       "        text-align: right;\n",
       "    }\n",
       "</style>\n",
       "<table border=\"1\" class=\"dataframe\">\n",
       "  <thead>\n",
       "    <tr style=\"text-align: right;\">\n",
       "      <th></th>\n",
       "      <th>city</th>\n",
       "      <th>average_flights</th>\n",
       "    </tr>\n",
       "  </thead>\n",
       "  <tbody>\n",
       "    <tr>\n",
       "      <td>87</td>\n",
       "      <td>Усть-Илимск</td>\n",
       "      <td>2.870968</td>\n",
       "    </tr>\n",
       "    <tr>\n",
       "      <td>55</td>\n",
       "      <td>Новый Уренгой</td>\n",
       "      <td>8.290323</td>\n",
       "    </tr>\n",
       "    <tr>\n",
       "      <td>23</td>\n",
       "      <td>Иркутск</td>\n",
       "      <td>6.032258</td>\n",
       "    </tr>\n",
       "    <tr>\n",
       "      <td>20</td>\n",
       "      <td>Екатеринбург</td>\n",
       "      <td>11.322581</td>\n",
       "    </tr>\n",
       "    <tr>\n",
       "      <td>57</td>\n",
       "      <td>Ноябрьск</td>\n",
       "      <td>3.000000</td>\n",
       "    </tr>\n",
       "  </tbody>\n",
       "</table>\n",
       "</div>"
      ],
      "text/plain": [
       "             city  average_flights\n",
       "87    Усть-Илимск         2.870968\n",
       "55  Новый Уренгой         8.290323\n",
       "23        Иркутск         6.032258\n",
       "20   Екатеринбург        11.322581\n",
       "57       Ноябрьск         3.000000"
      ]
     },
     "execution_count": 20,
     "metadata": {},
     "output_type": "execute_result"
    }
   ],
   "source": [
    "cities.sample(5) #посмотрим на пять случайных строк"
   ]
  },
  {
   "cell_type": "markdown",
   "metadata": {},
   "source": [
    "В таблице cities содержатся данные о городах и среднем количестве рейсов, прибывающих в город за один день в августе 2018 года. Пропущенных значений во второй таблице также нет, типы данных - строковый для названий городов и float64 для среднего числа рейсов - соответствуют имеющимся данным. Проверим данные на наличие дубликатов и аномальных значений."
   ]
  },
  {
   "cell_type": "code",
   "execution_count": 21,
   "metadata": {},
   "outputs": [
    {
     "data": {
      "text/plain": [
       "0"
      ]
     },
     "execution_count": 21,
     "metadata": {},
     "output_type": "execute_result"
    }
   ],
   "source": [
    "cities.duplicated().sum() #проверка на дубли"
   ]
  },
  {
   "cell_type": "code",
   "execution_count": 22,
   "metadata": {},
   "outputs": [
    {
     "data": {
      "text/plain": [
       "<matplotlib.axes._subplots.AxesSubplot at 0x7fb9836c4250>"
      ]
     },
     "execution_count": 22,
     "metadata": {},
     "output_type": "execute_result"
    },
    {
     "data": {
      "image/png": "[encoded data removed]",
      "text/plain": [
       "<Figure size 432x288 with 1 Axes>"
      ]
     },
     "metadata": {
      "needs_background": "light"
     },
     "output_type": "display_data"
    }
   ],
   "source": [
    "sns.boxplot(x='average_flights', data = cities)"
   ]
  },
  {
   "cell_type": "markdown",
   "metadata": {},
   "source": [
    "Диаграмма размаха показывает, что в большинство городов из нашего датафрейма в день прилетает в среднем не больше пятнадцати рейсов, однако имеются единичные выбросы в районе 18, 30 и 130 рейсов в день. Проверим, какие это города."
   ]
  },
  {
   "cell_type": "code",
   "execution_count": 23,
   "metadata": {},
   "outputs": [
    {
     "data": {
      "text/html": [
       "<div>\n",
       "<style scoped>\n",
       "    .dataframe tbody tr th:only-of-type {\n",
       "        vertical-align: middle;\n",
       "    }\n",
       "\n",
       "    .dataframe tbody tr th {\n",
       "        vertical-align: top;\n",
       "    }\n",
       "\n",
       "    .dataframe thead th {\n",
       "        text-align: right;\n",
       "    }\n",
       "</style>\n",
       "<table border=\"1\" class=\"dataframe\">\n",
       "  <thead>\n",
       "    <tr style=\"text-align: right;\">\n",
       "      <th></th>\n",
       "      <th>city</th>\n",
       "      <th>average_flights</th>\n",
       "    </tr>\n",
       "  </thead>\n",
       "  <tbody>\n",
       "    <tr>\n",
       "      <td>43</td>\n",
       "      <td>Москва</td>\n",
       "      <td>129.774194</td>\n",
       "    </tr>\n",
       "    <tr>\n",
       "      <td>70</td>\n",
       "      <td>Санкт-Петербург</td>\n",
       "      <td>31.161290</td>\n",
       "    </tr>\n",
       "    <tr>\n",
       "      <td>54</td>\n",
       "      <td>Новосибирск</td>\n",
       "      <td>17.322581</td>\n",
       "    </tr>\n",
       "  </tbody>\n",
       "</table>\n",
       "</div>"
      ],
      "text/plain": [
       "               city  average_flights\n",
       "43           Москва       129.774194\n",
       "70  Санкт-Петербург        31.161290\n",
       "54      Новосибирск        17.322581"
      ]
     },
     "execution_count": 23,
     "metadata": {},
     "output_type": "execute_result"
    }
   ],
   "source": [
    "cities.query('average_flights > 15').sort_values(by='average_flights', ascending=False)"
   ]
  },
  {
   "cell_type": "markdown",
   "metadata": {},
   "source": [
    "Самые высокие значения среднего количества рейсов зафиксированы в крупных транспортных хабах (Москва, Санкт-Петербург, Новосибирск), что логично, поэтому нет оснований считать эти данные ошибочными. Таким образом, данные во второй таблице тоже готовы для анализа."
   ]
  },
  {
   "cell_type": "markdown",
   "metadata": {},
   "source": [
    "#### Вывод"
   ]
  },
  {
   "cell_type": "markdown",
   "metadata": {},
   "source": [
    "Мы изучили два набора данных: таблицу с моделями самолетов и количеством рейсов для каждой модели, совершённых в сентябре 2018 года, и таблицу с городами и средним количеством рейсов, прибывающих в город за один день в августе 2018 года. По результатам первичного анализа необходимости в предобработке данных не выявлено, можно переходить к глубокому изучению."
   ]
  },
  {
   "cell_type": "markdown",
   "metadata": {},
   "source": [
    "### Определение топ-10 городов по количеству рейсов"
   ]
  },
  {
   "cell_type": "code",
   "execution_count": 24,
   "metadata": {},
   "outputs": [
    {
     "data": {
      "text/plain": [
       "['Москва',\n",
       " 'Санкт-Петербург',\n",
       " 'Новосибирск',\n",
       " 'Красноярск',\n",
       " 'Екатеринбург',\n",
       " 'Ростов-на-Дону',\n",
       " 'Пермь',\n",
       " 'Брянск',\n",
       " 'Сочи',\n",
       " 'Ульяновск']"
      ]
     },
     "metadata": {},
     "output_type": "display_data"
    }
   ],
   "source": [
    "top10 = cities.sort_values(by='average_flights', ascending=False).head(10)['city'].tolist()\n",
    "display(top10)"
   ]
  },
  {
   "cell_type": "markdown",
   "metadata": {},
   "source": [
    "Больше всего рейсов прибывает в следующие города: Москва, Санкт-Петербург, Новосибирск, Красноярск, Екатеринбург, Ростов-на-Дону, Пермь, Брянск, Сочи и Ульяновск."
   ]
  },
  {
   "cell_type": "markdown",
   "metadata": {},
   "source": [
    "### Визуальный анализ зависимостей"
   ]
  },
  {
   "cell_type": "markdown",
   "metadata": {},
   "source": [
    "#### Количество рейсов по моделям самолётов"
   ]
  },
  {
   "cell_type": "code",
   "execution_count": 25,
   "metadata": {},
   "outputs": [
    {
     "data": {
      "image/png": "[encoded data removed]",
      "text/plain": [
       "<Figure size 648x216 with 1 Axes>"
      ]
     },
     "metadata": {
      "needs_background": "light"
     },
     "output_type": "display_data"
    }
   ],
   "source": [
    "models.sort_values(by='flights_amount').plot(kind='barh', x='model', grid=True, legend=False, figsize=(9,3))\n",
    "plt.title('Количество рейсов по моделям самолётов', fontsize=14)\n",
    "plt.xlabel('Количество рейсов (сентябрь 2018 г.)')\n",
    "plt.ylabel('Модель')\n",
    "plt.show()"
   ]
  },
  {
   "cell_type": "markdown",
   "metadata": {},
   "source": [
    "График показывает, что самые используемые модели самолётов - это Cessna 208 Caravan, Bombardier CRJ-200 и Sukhoi SuperJet-100. В сентябре 2018 года на каждой из них было совершено более 4000 внутренних рейсов, что намного больше, чем на двух моделях Airbus и трёх моделях Boeing. Вероятно, более просторные Airbus и Boeing активнее задействованы в международных перевозках, тогда как на внутренних рейсах используются самолёты поменьше, предназначенные для полётов на малые расстояния."
   ]
  },
  {
   "cell_type": "markdown",
   "metadata": {},
   "source": [
    "#### Количество рейсов по всем городам"
   ]
  },
  {
   "cell_type": "code",
   "execution_count": 26,
   "metadata": {},
   "outputs": [
    {
     "data": {
      "image/png": "[encoded data removed]",
      "text/plain": [
       "<Figure size 576x1584 with 1 Axes>"
      ]
     },
     "metadata": {
      "needs_background": "light"
     },
     "output_type": "display_data"
    }
   ],
   "source": [
    "fig, ax = plt.subplots(figsize=(8, 22))\n",
    "sns.barplot(y='city', x='average_flights', data=cities.sort_values(by='average_flights'))\n",
    "plt.title('Среднее количество рейсов по всем городам', fontsize=14)\n",
    "plt.xlabel('Среднее количество рейсов в день (август 2018 г.)')\n",
    "plt.ylabel('Город')\n",
    "plt.show()"
   ]
  },
  {
   "cell_type": "markdown",
   "metadata": {},
   "source": [
    "Мы видим, что явным лидером по количеству прибывающих за день самолётов является Москва: в Санкт-Петербург, находящийся на втором месте в рейтинге, прибывает в четыре раза меньше рейсов за день. В большинство городов прибывает в среднем по 5-10 рейсов, также есть двенадцать городов (Благовещенск, Анадырь, Комсомольск-на-Амуре, Стрежевой, Нефтеюганск, Петропавловск-Камчатский, Усть-Кут, Ижевск, Братск, Иваново, Нягань, Усинск), в которые в среднем прилетает всего один самолёт в день."
   ]
  },
  {
   "cell_type": "markdown",
   "metadata": {},
   "source": [
    "#### Количество рейсов по городам (топ-10)"
   ]
  },
  {
   "cell_type": "code",
   "execution_count": 27,
   "metadata": {},
   "outputs": [
    {
     "data": {
      "image/png": "[encoded data removed]",
      "text/plain": [
       "<Figure size 864x288 with 1 Axes>"
      ]
     },
     "metadata": {
      "needs_background": "light"
     },
     "output_type": "display_data"
    }
   ],
   "source": [
    "cities.query('city in @top10').sort_values(by='average_flights').plot(kind='barh', x='city', grid=True, legend=False, figsize=(12,4))\n",
    "plt.title('Среднее количество рейсов (топ-10 городов)', fontsize=14)\n",
    "plt.xlabel('Среднее количество рейсов в день (август 2018 г.)')\n",
    "plt.ylabel('Город')\n",
    "plt.show()"
   ]
  },
  {
   "cell_type": "markdown",
   "metadata": {},
   "source": [
    "Как было отмечено ранее, по количеству рейсов в день выделяется Москва (129.77), затем идёт Санкт-Петербург (31.16) и Новосибирск (17.32). Среднее число прибывающих рейсов в остальных городах первой десятки различается незначительно - 9-11 самолётов за день."
   ]
  },
  {
   "cell_type": "markdown",
   "metadata": {},
   "source": [
    "### Общий вывод"
   ]
  },
  {
   "cell_type": "markdown",
   "metadata": {},
   "source": [
    "По результатам изучения базы данных авиакомпании за август-сентябрь 2018 года можно сделать следующие выводы:\n",
    "1. Больше всего рейсов прибывает в Москву, Санкт-Петербург, Новосибирск, Красноярск, Екатеринбург, Ростов-на-Дону, Пермь, Брянск, Сочи и Ульяновск.\n",
    "2. Самые используемые модели самолётов - Cessna 208 Caravan, Bombardier CRJ-200 и Sukhoi SuperJet-100, небольшие и удобные для внутренних рейсов.\n",
    "3. Среднее число прибывающих рейсов в день наибольшее в Москве (129.77), затем идут Санкт-Петербург (31.16 - в четыре раза меньше, чем в Москве) и Новосибирск (17.32). В остальные города первой десятки совершается по 9-11 рейсов за день, есть двенадцать городов (Благовещенск, Анадырь, Комсомольск-на-Амуре, Стрежевой, Нефтеюганск, Петропавловск-Камчатский, Усть-Кут, Ижевск, Братск, Иваново, Нягань, Усинск), которые в день принимают всего по одному рейсу."
   ]
  }
 ],
 "metadata": {
  "ExecuteTimeLog": [
   {
    "duration": 1785,
    "start_time": "2021-09-12T14:04:58.630Z"
   },
   {
    "duration": 32,
    "start_time": "2021-09-12T14:06:35.580Z"
   },
   {
    "duration": 9,
    "start_time": "2021-09-12T14:07:02.593Z"
   },
   {
    "duration": 19,
    "start_time": "2021-09-12T14:07:26.911Z"
   },
   {
    "duration": 8,
    "start_time": "2021-09-12T14:07:58.020Z"
   },
   {
    "duration": 8,
    "start_time": "2021-09-12T14:08:43.842Z"
   },
   {
    "duration": 9,
    "start_time": "2021-09-12T14:10:22.716Z"
   },
   {
    "duration": 9,
    "start_time": "2021-09-12T14:12:44.206Z"
   },
   {
    "duration": 8,
    "start_time": "2021-09-12T14:13:48.265Z"
   },
   {
    "duration": 11,
    "start_time": "2021-09-12T14:14:51.481Z"
   },
   {
    "duration": 7,
    "start_time": "2021-09-12T14:22:00.948Z"
   },
   {
    "duration": 17,
    "start_time": "2021-09-12T14:22:36.276Z"
   },
   {
    "duration": 299,
    "start_time": "2021-09-12T14:22:48.536Z"
   },
   {
    "duration": 17,
    "start_time": "2021-09-12T14:23:31.846Z"
   },
   {
    "duration": 20,
    "start_time": "2021-09-12T14:23:48.051Z"
   },
   {
    "duration": 18,
    "start_time": "2021-09-12T14:24:00.019Z"
   },
   {
    "duration": 380,
    "start_time": "2021-09-12T14:24:59.715Z"
   },
   {
    "duration": 208,
    "start_time": "2021-09-12T14:26:27.065Z"
   },
   {
    "duration": 18,
    "start_time": "2021-09-12T14:29:52.071Z"
   },
   {
    "duration": 12,
    "start_time": "2021-09-12T14:30:03.270Z"
   },
   {
    "duration": 11,
    "start_time": "2021-09-12T14:30:11.841Z"
   },
   {
    "duration": 13,
    "start_time": "2021-09-12T14:30:39.065Z"
   },
   {
    "duration": 14,
    "start_time": "2021-09-12T14:43:25.629Z"
   },
   {
    "duration": 12,
    "start_time": "2021-09-12T14:43:36.279Z"
   },
   {
    "duration": 480,
    "start_time": "2021-09-12T14:43:52.599Z"
   },
   {
    "duration": 12,
    "start_time": "2021-09-12T14:44:01.696Z"
   },
   {
    "duration": 8,
    "start_time": "2021-09-12T14:44:23.414Z"
   },
   {
    "duration": 5,
    "start_time": "2021-09-12T14:44:47.699Z"
   },
   {
    "duration": 8,
    "start_time": "2021-09-12T14:44:53.323Z"
   },
   {
    "duration": 8,
    "start_time": "2021-09-12T14:45:06.275Z"
   },
   {
    "duration": 377,
    "start_time": "2021-09-12T14:55:01.684Z"
   },
   {
    "duration": 300,
    "start_time": "2021-09-12T14:55:19.050Z"
   },
   {
    "duration": 261,
    "start_time": "2021-09-12T14:57:01.879Z"
   },
   {
    "duration": 276,
    "start_time": "2021-09-12T14:57:34.501Z"
   },
   {
    "duration": 372,
    "start_time": "2021-09-12T14:58:19.412Z"
   },
   {
    "duration": 294,
    "start_time": "2021-09-12T14:58:37.375Z"
   },
   {
    "duration": 365,
    "start_time": "2021-09-12T14:58:51.271Z"
   },
   {
    "duration": 289,
    "start_time": "2021-09-12T14:59:03.232Z"
   },
   {
    "duration": 286,
    "start_time": "2021-09-12T14:59:17.600Z"
   },
   {
    "duration": 288,
    "start_time": "2021-09-12T14:59:47.950Z"
   },
   {
    "duration": 281,
    "start_time": "2021-09-12T15:00:44.677Z"
   },
   {
    "duration": 297,
    "start_time": "2021-09-12T15:00:57.026Z"
   },
   {
    "duration": 295,
    "start_time": "2021-09-12T15:02:03.077Z"
   },
   {
    "duration": 361,
    "start_time": "2021-09-12T15:08:05.882Z"
   },
   {
    "duration": 1637,
    "start_time": "2021-09-12T15:08:25.464Z"
   },
   {
    "duration": 1837,
    "start_time": "2021-09-12T15:09:26.323Z"
   },
   {
    "duration": 367,
    "start_time": "2021-09-12T15:11:23.217Z"
   },
   {
    "duration": 376,
    "start_time": "2021-09-12T15:12:02.039Z"
   },
   {
    "duration": 345,
    "start_time": "2021-09-12T15:21:36.432Z"
   },
   {
    "duration": 1654,
    "start_time": "2021-09-12T15:21:53.450Z"
   },
   {
    "duration": 1712,
    "start_time": "2021-09-12T15:22:01.492Z"
   },
   {
    "duration": 2353,
    "start_time": "2021-09-12T15:22:19.633Z"
   },
   {
    "duration": 2226,
    "start_time": "2021-09-12T15:22:51.769Z"
   },
   {
    "duration": 106,
    "start_time": "2021-09-12T15:23:15.446Z"
   },
   {
    "duration": 2218,
    "start_time": "2021-09-12T15:23:20.238Z"
   },
   {
    "duration": 2198,
    "start_time": "2021-09-12T15:23:37.183Z"
   },
   {
    "duration": 366,
    "start_time": "2021-09-12T15:25:30.130Z"
   },
   {
    "duration": 356,
    "start_time": "2021-09-12T15:25:45.972Z"
   },
   {
    "duration": 2781,
    "start_time": "2021-09-12T15:26:02.423Z"
   },
   {
    "duration": 2441,
    "start_time": "2021-09-12T15:27:00.876Z"
   },
   {
    "duration": 2710,
    "start_time": "2021-09-12T15:27:16.352Z"
   },
   {
    "duration": 2578,
    "start_time": "2021-09-12T15:27:27.071Z"
   },
   {
    "duration": 2562,
    "start_time": "2021-09-12T15:27:38.546Z"
   },
   {
    "duration": 796,
    "start_time": "2021-09-12T15:27:52.849Z"
   },
   {
    "duration": 2611,
    "start_time": "2021-09-12T15:28:26.672Z"
   },
   {
    "duration": 2497,
    "start_time": "2021-09-12T15:29:12.771Z"
   },
   {
    "duration": 2650,
    "start_time": "2021-09-12T15:29:29.361Z"
   },
   {
    "duration": 3057,
    "start_time": "2021-09-12T15:29:36.849Z"
   },
   {
    "duration": 2567,
    "start_time": "2021-09-12T15:29:42.166Z"
   },
   {
    "duration": 1055,
    "start_time": "2021-09-12T15:30:16.223Z"
   },
   {
    "duration": 2574,
    "start_time": "2021-09-12T15:30:31.041Z"
   },
   {
    "duration": 2788,
    "start_time": "2021-09-12T15:30:59.194Z"
   },
   {
    "duration": 2654,
    "start_time": "2021-09-12T15:32:24.957Z"
   },
   {
    "duration": 2605,
    "start_time": "2021-09-12T15:34:13.258Z"
   },
   {
    "duration": 5,
    "start_time": "2021-09-12T15:36:11.568Z"
   },
   {
    "duration": 14,
    "start_time": "2021-09-12T15:38:40.199Z"
   },
   {
    "duration": 16,
    "start_time": "2021-09-12T15:38:49.584Z"
   },
   {
    "duration": 12,
    "start_time": "2021-09-12T15:39:09.006Z"
   },
   {
    "duration": 345,
    "start_time": "2021-09-12T15:40:26.952Z"
   },
   {
    "duration": 32,
    "start_time": "2021-09-12T15:40:40.082Z"
   },
   {
    "duration": 383,
    "start_time": "2021-09-12T15:40:47.758Z"
   },
   {
    "duration": 12,
    "start_time": "2021-09-12T15:41:14.371Z"
   },
   {
    "duration": 14,
    "start_time": "2021-09-12T15:41:22.796Z"
   },
   {
    "duration": 13,
    "start_time": "2021-09-12T15:41:47.485Z"
   },
   {
    "duration": 13,
    "start_time": "2021-09-12T15:41:56.028Z"
   },
   {
    "duration": 13,
    "start_time": "2021-09-12T15:42:06.044Z"
   },
   {
    "duration": 12,
    "start_time": "2021-09-12T15:42:13.671Z"
   },
   {
    "duration": -1640,
    "start_time": "2021-09-12T15:42:43.835Z"
   },
   {
    "duration": 8,
    "start_time": "2021-09-12T15:42:48.389Z"
   },
   {
    "duration": 8457,
    "start_time": "2021-09-12T15:47:51.144Z"
   },
   {
    "duration": 305,
    "start_time": "2021-09-12T15:48:49.077Z"
   },
   {
    "duration": 3049,
    "start_time": "2021-09-12T15:49:05.772Z"
   },
   {
    "duration": 319,
    "start_time": "2021-09-12T15:49:39.742Z"
   },
   {
    "duration": 358,
    "start_time": "2021-09-12T15:50:24.927Z"
   },
   {
    "duration": 346,
    "start_time": "2021-09-12T15:50:34.877Z"
   },
   {
    "duration": 12,
    "start_time": "2021-09-12T15:51:37.134Z"
   },
   {
    "duration": 1453,
    "start_time": "2021-09-12T15:57:37.566Z"
   },
   {
    "duration": 32,
    "start_time": "2021-09-12T15:57:39.022Z"
   },
   {
    "duration": 19,
    "start_time": "2021-09-12T15:57:39.059Z"
   },
   {
    "duration": 22,
    "start_time": "2021-09-12T15:57:39.080Z"
   },
   {
    "duration": 12,
    "start_time": "2021-09-12T15:57:39.105Z"
   },
   {
    "duration": 20,
    "start_time": "2021-09-12T15:57:39.119Z"
   },
   {
    "duration": 21,
    "start_time": "2021-09-12T15:57:39.141Z"
   },
   {
    "duration": 240,
    "start_time": "2021-09-12T15:57:39.165Z"
   },
   {
    "duration": 15,
    "start_time": "2021-09-12T15:57:39.408Z"
   },
   {
    "duration": 31,
    "start_time": "2021-09-12T15:57:39.425Z"
   },
   {
    "duration": 307,
    "start_time": "2021-09-12T15:57:39.458Z"
   },
   {
    "duration": 2744,
    "start_time": "2021-09-12T15:57:39.767Z"
   },
   {
    "duration": 370,
    "start_time": "2021-09-12T15:57:42.513Z"
   },
   {
    "duration": 1954,
    "start_time": "2021-09-12T16:10:00.064Z"
   },
   {
    "duration": 33,
    "start_time": "2021-09-12T16:10:02.020Z"
   },
   {
    "duration": 34,
    "start_time": "2021-09-12T16:10:02.056Z"
   },
   {
    "duration": 44,
    "start_time": "2021-09-12T16:10:02.093Z"
   },
   {
    "duration": 45,
    "start_time": "2021-09-12T16:10:02.139Z"
   },
   {
    "duration": 42,
    "start_time": "2021-09-12T16:10:02.188Z"
   },
   {
    "duration": 18,
    "start_time": "2021-09-12T16:10:02.233Z"
   },
   {
    "duration": 220,
    "start_time": "2021-09-12T16:10:02.256Z"
   },
   {
    "duration": 17,
    "start_time": "2021-09-12T16:10:02.480Z"
   },
   {
    "duration": 24,
    "start_time": "2021-09-12T16:10:02.500Z"
   },
   {
    "duration": 310,
    "start_time": "2021-09-12T16:10:02.527Z"
   },
   {
    "duration": 2959,
    "start_time": "2021-09-12T16:10:02.840Z"
   },
   {
    "duration": 369,
    "start_time": "2021-09-12T16:10:05.802Z"
   },
   {
    "duration": 1530,
    "start_time": "2021-09-12T16:12:36.625Z"
   },
   {
    "duration": 32,
    "start_time": "2021-09-12T16:12:38.158Z"
   },
   {
    "duration": 14,
    "start_time": "2021-09-12T16:12:38.193Z"
   },
   {
    "duration": 22,
    "start_time": "2021-09-12T16:12:38.209Z"
   },
   {
    "duration": 8,
    "start_time": "2021-09-12T16:12:38.233Z"
   },
   {
    "duration": 17,
    "start_time": "2021-09-12T16:12:38.243Z"
   },
   {
    "duration": 21,
    "start_time": "2021-09-12T16:12:38.263Z"
   },
   {
    "duration": 219,
    "start_time": "2021-09-12T16:12:38.287Z"
   },
   {
    "duration": 17,
    "start_time": "2021-09-12T16:12:38.509Z"
   },
   {
    "duration": 7,
    "start_time": "2021-09-12T16:12:38.529Z"
   },
   {
    "duration": 310,
    "start_time": "2021-09-12T16:12:38.557Z"
   },
   {
    "duration": 2694,
    "start_time": "2021-09-12T16:12:38.870Z"
   },
   {
    "duration": 366,
    "start_time": "2021-09-12T16:12:41.566Z"
   },
   {
    "duration": 108,
    "start_time": "2021-09-12T21:00:32.745Z"
   },
   {
    "duration": 975,
    "start_time": "2021-09-14T15:24:56.613Z"
   },
   {
    "duration": 3,
    "start_time": "2021-09-14T15:25:07.217Z"
   },
   {
    "duration": 137,
    "start_time": "2021-09-14T15:25:14.721Z"
   },
   {
    "duration": 7,
    "start_time": "2021-09-14T15:25:28.634Z"
   },
   {
    "duration": 8,
    "start_time": "2021-09-14T15:25:55.538Z"
   },
   {
    "duration": 4,
    "start_time": "2021-09-14T15:26:17.786Z"
   },
   {
    "duration": 25,
    "start_time": "2021-09-14T15:26:23.610Z"
   },
   {
    "duration": 5,
    "start_time": "2021-09-14T15:26:44.782Z"
   },
   {
    "duration": 4,
    "start_time": "2021-09-14T15:27:01.908Z"
   },
   {
    "duration": 5,
    "start_time": "2021-09-14T15:27:02.686Z"
   },
   {
    "duration": 17,
    "start_time": "2021-09-14T15:27:23.214Z"
   },
   {
    "duration": 6,
    "start_time": "2021-09-14T15:36:03.919Z"
   },
   {
    "duration": 4,
    "start_time": "2021-09-14T15:36:21.468Z"
   },
   {
    "duration": 93,
    "start_time": "2021-09-14T15:43:45.813Z"
   },
   {
    "duration": 4,
    "start_time": "2021-09-14T15:43:49.069Z"
   },
   {
    "duration": 4,
    "start_time": "2021-09-14T15:46:16.281Z"
   },
   {
    "duration": 5,
    "start_time": "2021-09-14T15:49:30.327Z"
   },
   {
    "duration": 5,
    "start_time": "2021-09-14T15:49:33.963Z"
   },
   {
    "duration": 4,
    "start_time": "2021-09-14T15:49:45.178Z"
   },
   {
    "duration": 3,
    "start_time": "2021-09-14T15:49:52.290Z"
   },
   {
    "duration": 3,
    "start_time": "2021-09-14T15:49:52.962Z"
   },
   {
    "duration": 3,
    "start_time": "2021-09-14T15:53:33.728Z"
   },
   {
    "duration": 3,
    "start_time": "2021-09-14T15:57:09.092Z"
   },
   {
    "duration": 4,
    "start_time": "2021-09-14T16:03:03.925Z"
   },
   {
    "duration": 4,
    "start_time": "2021-09-14T16:06:00.338Z"
   },
   {
    "duration": 4,
    "start_time": "2021-09-14T16:16:13.412Z"
   },
   {
    "duration": 738,
    "start_time": "2021-09-14T16:45:28.994Z"
   },
   {
    "duration": 957,
    "start_time": "2021-09-14T16:47:46.147Z"
   },
   {
    "duration": 4,
    "start_time": "2021-09-14T16:47:47.106Z"
   },
   {
    "duration": 67,
    "start_time": "2021-09-14T16:47:47.113Z"
   },
   {
    "duration": 7,
    "start_time": "2021-09-14T16:47:47.183Z"
   },
   {
    "duration": 4,
    "start_time": "2021-09-14T16:47:47.192Z"
   },
   {
    "duration": 11,
    "start_time": "2021-09-14T16:47:47.198Z"
   },
   {
    "duration": 27,
    "start_time": "2021-09-14T16:47:47.211Z"
   },
   {
    "duration": 4,
    "start_time": "2021-09-14T16:47:47.241Z"
   },
   {
    "duration": 7,
    "start_time": "2021-09-14T16:47:47.248Z"
   },
   {
    "duration": 14,
    "start_time": "2021-09-14T16:47:47.257Z"
   },
   {
    "duration": 10,
    "start_time": "2021-09-14T16:47:47.273Z"
   },
   {
    "duration": 10,
    "start_time": "2021-09-14T16:47:47.285Z"
   },
   {
    "duration": 24,
    "start_time": "2021-09-14T16:47:47.297Z"
   },
   {
    "duration": 10,
    "start_time": "2021-09-14T16:47:47.324Z"
   },
   {
    "duration": 697,
    "start_time": "2021-09-14T16:47:47.336Z"
   },
   {
    "duration": 34,
    "start_time": "2021-09-14T16:47:48.035Z"
   },
   {
    "duration": 23,
    "start_time": "2021-09-14T16:47:48.072Z"
   },
   {
    "duration": 20,
    "start_time": "2021-09-14T16:47:48.098Z"
   },
   {
    "duration": 21,
    "start_time": "2021-09-14T16:47:48.120Z"
   },
   {
    "duration": 21,
    "start_time": "2021-09-14T16:47:48.143Z"
   },
   {
    "duration": 26,
    "start_time": "2021-09-14T16:47:48.166Z"
   },
   {
    "duration": 221,
    "start_time": "2021-09-14T16:47:48.195Z"
   },
   {
    "duration": 20,
    "start_time": "2021-09-14T16:47:48.421Z"
   },
   {
    "duration": 30,
    "start_time": "2021-09-14T16:47:48.443Z"
   },
   {
    "duration": 418,
    "start_time": "2021-09-14T16:47:48.475Z"
   },
   {
    "duration": 2836,
    "start_time": "2021-09-14T16:47:48.895Z"
   },
   {
    "duration": 361,
    "start_time": "2021-09-14T16:47:51.733Z"
   },
   {
    "duration": 979,
    "start_time": "2021-09-14T16:51:31.420Z"
   },
   {
    "duration": 4,
    "start_time": "2021-09-14T16:51:32.402Z"
   },
   {
    "duration": 66,
    "start_time": "2021-09-14T16:51:32.409Z"
   },
   {
    "duration": 7,
    "start_time": "2021-09-14T16:51:32.478Z"
   },
   {
    "duration": 7,
    "start_time": "2021-09-14T16:51:32.487Z"
   },
   {
    "duration": 13,
    "start_time": "2021-09-14T16:51:32.497Z"
   },
   {
    "duration": 28,
    "start_time": "2021-09-14T16:51:32.512Z"
   },
   {
    "duration": 9,
    "start_time": "2021-09-14T16:51:32.543Z"
   },
   {
    "duration": 6,
    "start_time": "2021-09-14T16:51:32.555Z"
   },
   {
    "duration": 13,
    "start_time": "2021-09-14T16:51:32.563Z"
   },
   {
    "duration": 15,
    "start_time": "2021-09-14T16:51:32.579Z"
   },
   {
    "duration": 8,
    "start_time": "2021-09-14T16:51:32.596Z"
   },
   {
    "duration": 20,
    "start_time": "2021-09-14T16:51:32.606Z"
   },
   {
    "duration": 15,
    "start_time": "2021-09-14T16:51:32.628Z"
   },
   {
    "duration": 1117,
    "start_time": "2021-09-14T16:51:32.646Z"
   },
   {
    "duration": 35,
    "start_time": "2021-09-14T16:51:33.817Z"
   },
   {
    "duration": 9,
    "start_time": "2021-09-14T16:51:33.855Z"
   },
   {
    "duration": 13,
    "start_time": "2021-09-14T16:51:33.867Z"
   },
   {
    "duration": 10,
    "start_time": "2021-09-14T16:51:33.882Z"
   },
   {
    "duration": 33,
    "start_time": "2021-09-14T16:51:33.894Z"
   },
   {
    "duration": 11,
    "start_time": "2021-09-14T16:51:33.929Z"
   },
   {
    "duration": 243,
    "start_time": "2021-09-14T16:51:33.943Z"
   },
   {
    "duration": 28,
    "start_time": "2021-09-14T16:51:34.190Z"
   },
   {
    "duration": 7,
    "start_time": "2021-09-14T16:51:34.222Z"
   },
   {
    "duration": 318,
    "start_time": "2021-09-14T16:51:34.232Z"
   },
   {
    "duration": 2956,
    "start_time": "2021-09-14T16:51:34.552Z"
   },
   {
    "duration": 370,
    "start_time": "2021-09-14T16:51:37.515Z"
   },
   {
    "duration": 1029,
    "start_time": "2021-09-14T16:52:39.780Z"
   },
   {
    "duration": 3,
    "start_time": "2021-09-14T16:52:40.812Z"
   },
   {
    "duration": 361,
    "start_time": "2021-09-14T16:52:40.819Z"
   },
   {
    "duration": 9,
    "start_time": "2021-09-14T16:52:41.184Z"
   },
   {
    "duration": 4,
    "start_time": "2021-09-14T16:52:41.196Z"
   },
   {
    "duration": 7,
    "start_time": "2021-09-14T16:52:41.202Z"
   },
   {
    "duration": 24,
    "start_time": "2021-09-14T16:52:41.211Z"
   },
   {
    "duration": 4,
    "start_time": "2021-09-14T16:52:41.239Z"
   },
   {
    "duration": 8,
    "start_time": "2021-09-14T16:52:41.246Z"
   },
   {
    "duration": 17,
    "start_time": "2021-09-14T16:52:41.256Z"
   },
   {
    "duration": 6,
    "start_time": "2021-09-14T16:52:41.275Z"
   },
   {
    "duration": 10,
    "start_time": "2021-09-14T16:52:41.284Z"
   },
   {
    "duration": 26,
    "start_time": "2021-09-14T16:52:41.297Z"
   },
   {
    "duration": 10,
    "start_time": "2021-09-14T16:52:41.326Z"
   },
   {
    "duration": 701,
    "start_time": "2021-09-14T16:52:41.339Z"
   },
   {
    "duration": 34,
    "start_time": "2021-09-14T16:52:42.042Z"
   },
   {
    "duration": 22,
    "start_time": "2021-09-14T16:52:42.079Z"
   },
   {
    "duration": 13,
    "start_time": "2021-09-14T16:52:42.104Z"
   },
   {
    "duration": 11,
    "start_time": "2021-09-14T16:52:42.120Z"
   },
   {
    "duration": 14,
    "start_time": "2021-09-14T16:52:42.133Z"
   },
   {
    "duration": 7,
    "start_time": "2021-09-14T16:52:42.150Z"
   },
   {
    "duration": 259,
    "start_time": "2021-09-14T16:52:42.160Z"
   },
   {
    "duration": 14,
    "start_time": "2021-09-14T16:52:42.423Z"
   },
   {
    "duration": 9,
    "start_time": "2021-09-14T16:52:42.440Z"
   },
   {
    "duration": 345,
    "start_time": "2021-09-14T16:52:42.452Z"
   },
   {
    "duration": 2843,
    "start_time": "2021-09-14T16:52:42.799Z"
   },
   {
    "duration": 385,
    "start_time": "2021-09-14T16:52:45.644Z"
   },
   {
    "duration": 121,
    "start_time": "2021-09-14T18:26:33.896Z"
   },
   {
    "duration": 131,
    "start_time": "2021-09-14T18:26:50.892Z"
   },
   {
    "duration": 4,
    "start_time": "2021-09-14T18:27:08.905Z"
   },
   {
    "duration": 1031,
    "start_time": "2021-09-15T07:45:12.836Z"
   },
   {
    "duration": 3,
    "start_time": "2021-09-15T07:45:13.870Z"
   },
   {
    "duration": 146,
    "start_time": "2021-09-15T07:45:13.877Z"
   },
   {
    "duration": 8,
    "start_time": "2021-09-15T07:45:14.026Z"
   },
   {
    "duration": 9,
    "start_time": "2021-09-15T07:45:14.036Z"
   },
   {
    "duration": 12,
    "start_time": "2021-09-15T07:45:14.048Z"
   },
   {
    "duration": 34,
    "start_time": "2021-09-15T07:45:14.064Z"
   },
   {
    "duration": 11,
    "start_time": "2021-09-15T07:45:14.102Z"
   },
   {
    "duration": 7,
    "start_time": "2021-09-15T07:45:14.116Z"
   },
   {
    "duration": 13,
    "start_time": "2021-09-15T07:45:14.126Z"
   },
   {
    "duration": 19,
    "start_time": "2021-09-15T07:45:14.142Z"
   },
   {
    "duration": 17,
    "start_time": "2021-09-15T07:45:14.164Z"
   },
   {
    "duration": 8,
    "start_time": "2021-09-15T07:45:14.184Z"
   },
   {
    "duration": 9,
    "start_time": "2021-09-15T07:45:14.194Z"
   },
   {
    "duration": 778,
    "start_time": "2021-09-15T07:45:14.205Z"
   },
   {
    "duration": 31,
    "start_time": "2021-09-15T07:45:14.985Z"
   },
   {
    "duration": 17,
    "start_time": "2021-09-15T07:45:15.018Z"
   },
   {
    "duration": 17,
    "start_time": "2021-09-15T07:45:15.037Z"
   },
   {
    "duration": 15,
    "start_time": "2021-09-15T07:45:15.058Z"
   },
   {
    "duration": 14,
    "start_time": "2021-09-15T07:45:15.075Z"
   },
   {
    "duration": 8,
    "start_time": "2021-09-15T07:45:15.092Z"
   },
   {
    "duration": 273,
    "start_time": "2021-09-15T07:45:15.102Z"
   },
   {
    "duration": 14,
    "start_time": "2021-09-15T07:45:15.380Z"
   },
   {
    "duration": 7,
    "start_time": "2021-09-15T07:45:15.397Z"
   },
   {
    "duration": 321,
    "start_time": "2021-09-15T07:45:15.406Z"
   },
   {
    "duration": 2929,
    "start_time": "2021-09-15T07:45:15.730Z"
   },
   {
    "duration": 407,
    "start_time": "2021-09-15T07:45:18.662Z"
   }
  ],
  "kernelspec": {
   "display_name": "Python 3",
   "language": "python",
   "name": "python3"
  },
  "language_info": {
   "codemirror_mode": {
    "name": "ipython",
    "version": 3
   },
   "file_extension": ".py",
   "mimetype": "text/x-python",
   "name": "python",
   "nbconvert_exporter": "python",
   "pygments_lexer": "ipython3",
   "version": "3.7.8"
  },
  "toc": {
   "base_numbering": 1,
   "nav_menu": {},
   "number_sections": true,
   "sideBar": true,
   "skip_h1_title": true,
   "title_cell": "Оглавление",
   "title_sidebar": "Contents",
   "toc_cell": true,
   "toc_position": {},
   "toc_section_display": true,
   "toc_window_display": false
  }
 },
 "nbformat": 4,
 "nbformat_minor": 2
}
