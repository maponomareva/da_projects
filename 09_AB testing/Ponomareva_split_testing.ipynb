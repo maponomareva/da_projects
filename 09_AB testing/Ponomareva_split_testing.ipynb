{
 "cells": [
  {
   "cell_type": "markdown",
   "metadata": {},
   "source": [
    "# A/B-тестирование в интернет-магазине"
   ]
  },
  {
   "cell_type": "markdown",
   "metadata": {},
   "source": [
    "Крупный интернет-магазин разрабатывает план расширения продаж. Совместно с отделом маркетинга мы подготовили список гипотез для увеличения выручки. Задачи настоящего исследования: \n",
    "1. Приоритизировать гипотезы с использованием фреймворков ICE и RICE;\n",
    "2. Провести A/B-тест и проанализировать результаты: сравнить выручку, средний чек, конверсию, изучить наличие статистически значимых различий между группами."
   ]
  },
  {
   "cell_type": "markdown",
   "metadata": {
    "toc": true
   },
   "source": [
    "<h1>Содержание<span class=\"tocSkip\"></span></h1>\n",
    "<div class=\"toc\"><ul class=\"toc-item\"><li><span><a href=\"#Приоритизация-гипотез\" data-toc-modified-id=\"Приоритизация-гипотез-1\"><span class=\"toc-item-num\">1&nbsp;&nbsp;</span>Приоритизация гипотез</a></span><ul class=\"toc-item\"><li><span><a href=\"#Вывод-по-разделу\" data-toc-modified-id=\"Вывод-по-разделу-1.1\"><span class=\"toc-item-num\">1.1&nbsp;&nbsp;</span>Вывод по разделу</a></span></li></ul></li><li><span><a href=\"#Анализ-A/B-теста\" data-toc-modified-id=\"Анализ-A/B-теста-2\"><span class=\"toc-item-num\">2&nbsp;&nbsp;</span>Анализ A/B-теста</a></span><ul class=\"toc-item\"><li><span><a href=\"#Изучение-и-предобработка-данных\" data-toc-modified-id=\"Изучение-и-предобработка-данных-2.1\"><span class=\"toc-item-num\">2.1&nbsp;&nbsp;</span>Изучение и предобработка данных</a></span></li><li><span><a href=\"#Кумулятивная-выручка-по-группам\" data-toc-modified-id=\"Кумулятивная-выручка-по-группам-2.2\"><span class=\"toc-item-num\">2.2&nbsp;&nbsp;</span>Кумулятивная выручка по группам</a></span></li><li><span><a href=\"#Кумулятивный-средний-чек-по-группам\" data-toc-modified-id=\"Кумулятивный-средний-чек-по-группам-2.3\"><span class=\"toc-item-num\">2.3&nbsp;&nbsp;</span>Кумулятивный средний чек по группам</a></span></li><li><span><a href=\"#Кумулятивная-конверсия-по-группам\" data-toc-modified-id=\"Кумулятивная-конверсия-по-группам-2.4\"><span class=\"toc-item-num\">2.4&nbsp;&nbsp;</span>Кумулятивная конверсия по группам</a></span></li><li><span><a href=\"#Анализ-выбросов-и-всплесков\" data-toc-modified-id=\"Анализ-выбросов-и-всплесков-2.5\"><span class=\"toc-item-num\">2.5&nbsp;&nbsp;</span>Анализ выбросов и всплесков</a></span></li><li><span><a href=\"#Статистический-анализ-«сырых»-данных\" data-toc-modified-id=\"Статистический-анализ-«сырых»-данных-2.6\"><span class=\"toc-item-num\">2.6&nbsp;&nbsp;</span>Статистический анализ «сырых» данных</a></span><ul class=\"toc-item\"><li><span><a href=\"#Различия-в-конверсии-между-группами\" data-toc-modified-id=\"Различия-в-конверсии-между-группами-2.6.1\"><span class=\"toc-item-num\">2.6.1&nbsp;&nbsp;</span>Различия в конверсии между группами</a></span></li><li><span><a href=\"#Различия-в-среднем-чеке-заказа-между-группами\" data-toc-modified-id=\"Различия-в-среднем-чеке-заказа-между-группами-2.6.2\"><span class=\"toc-item-num\">2.6.2&nbsp;&nbsp;</span>Различия в среднем чеке заказа между группами</a></span></li></ul></li><li><span><a href=\"#Статистический-анализ-«очищенных»-данных\" data-toc-modified-id=\"Статистический-анализ-«очищенных»-данных-2.7\"><span class=\"toc-item-num\">2.7&nbsp;&nbsp;</span>Статистический анализ «очищенных» данных</a></span><ul class=\"toc-item\"><li><span><a href=\"#Различия-в-конверсии-между-группами\" data-toc-modified-id=\"Различия-в-конверсии-между-группами-2.7.1\"><span class=\"toc-item-num\">2.7.1&nbsp;&nbsp;</span>Различия в конверсии между группами</a></span></li><li><span><a href=\"#Различия-в-среднем-чеке-заказа-между-группами\" data-toc-modified-id=\"Различия-в-среднем-чеке-заказа-между-группами-2.7.2\"><span class=\"toc-item-num\">2.7.2&nbsp;&nbsp;</span>Различия в среднем чеке заказа между группами</a></span></li></ul></li><li><span><a href=\"#Результат-A/B-теста\" data-toc-modified-id=\"Результат-A/B-теста-2.8\"><span class=\"toc-item-num\">2.8&nbsp;&nbsp;</span>Результат A/B-теста</a></span></li></ul></li><li><span><a href=\"#Общий-вывод\" data-toc-modified-id=\"Общий-вывод-3\"><span class=\"toc-item-num\">3&nbsp;&nbsp;</span>Общий вывод</a></span></li></ul></div>"
   ]
  },
  {
   "cell_type": "code",
   "execution_count": 1,
   "metadata": {},
   "outputs": [],
   "source": [
    "#импорт библиотек и настроек\n",
    "import pandas as pd\n",
    "import datetime as dt\n",
    "import numpy as np\n",
    "import scipy.stats as st\n",
    "import matplotlib.pyplot as plt\n",
    "pd.set_option('display.max_colwidth', -1)"
   ]
  },
  {
   "cell_type": "code",
   "execution_count": 2,
   "metadata": {},
   "outputs": [],
   "source": [
    "#загрузка файлов\n",
    "try:\n",
    "    hypo = pd.read_csv('/datasets/hypothesis.csv')\n",
    "    orders = pd.read_csv('/datasets/orders.csv')\n",
    "    visitors = pd.read_csv('/datasets/visitors.csv')\n",
    "except:\n",
    "    hypo = pd.read_csv('https://code.s3.yandex.net/datasets/hypothesis.csv')\n",
    "    orders = pd.read_csv('https://code.s3.yandex.net/datasets/orders.csv')\n",
    "    visitors = pd.read_csv('https://code.s3.yandex.net/datasets/visitors.csv')"
   ]
  },
  {
   "cell_type": "markdown",
   "metadata": {},
   "source": [
    "## Приоритизация гипотез"
   ]
  },
  {
   "cell_type": "code",
   "execution_count": 3,
   "metadata": {},
   "outputs": [
    {
     "name": "stdout",
     "output_type": "stream",
     "text": [
      "<class 'pandas.core.frame.DataFrame'>\n",
      "RangeIndex: 9 entries, 0 to 8\n",
      "Data columns (total 5 columns):\n",
      "Hypothesis    9 non-null object\n",
      "Reach         9 non-null int64\n",
      "Impact        9 non-null int64\n",
      "Confidence    9 non-null int64\n",
      "Efforts       9 non-null int64\n",
      "dtypes: int64(4), object(1)\n",
      "memory usage: 488.0+ bytes\n"
     ]
    },
    {
     "data": {
      "text/html": [
       "<div>\n",
       "<style scoped>\n",
       "    .dataframe tbody tr th:only-of-type {\n",
       "        vertical-align: middle;\n",
       "    }\n",
       "\n",
       "    .dataframe tbody tr th {\n",
       "        vertical-align: top;\n",
       "    }\n",
       "\n",
       "    .dataframe thead th {\n",
       "        text-align: right;\n",
       "    }\n",
       "</style>\n",
       "<table border=\"1\" class=\"dataframe\">\n",
       "  <thead>\n",
       "    <tr style=\"text-align: right;\">\n",
       "      <th></th>\n",
       "      <th>Hypothesis</th>\n",
       "      <th>Reach</th>\n",
       "      <th>Impact</th>\n",
       "      <th>Confidence</th>\n",
       "      <th>Efforts</th>\n",
       "    </tr>\n",
       "  </thead>\n",
       "  <tbody>\n",
       "    <tr>\n",
       "      <td>0</td>\n",
       "      <td>Добавить два новых канала привлечения трафика, что позволит привлекать на 30% больше пользователей</td>\n",
       "      <td>3</td>\n",
       "      <td>10</td>\n",
       "      <td>8</td>\n",
       "      <td>6</td>\n",
       "    </tr>\n",
       "    <tr>\n",
       "      <td>1</td>\n",
       "      <td>Запустить собственную службу доставки, что сократит срок доставки заказов</td>\n",
       "      <td>2</td>\n",
       "      <td>5</td>\n",
       "      <td>4</td>\n",
       "      <td>10</td>\n",
       "    </tr>\n",
       "    <tr>\n",
       "      <td>2</td>\n",
       "      <td>Добавить блоки рекомендаций товаров на сайт интернет магазина, чтобы повысить конверсию и средний чек заказа</td>\n",
       "      <td>8</td>\n",
       "      <td>3</td>\n",
       "      <td>7</td>\n",
       "      <td>3</td>\n",
       "    </tr>\n",
       "    <tr>\n",
       "      <td>3</td>\n",
       "      <td>Изменить структура категорий, что увеличит конверсию, т.к. пользователи быстрее найдут нужный товар</td>\n",
       "      <td>8</td>\n",
       "      <td>3</td>\n",
       "      <td>3</td>\n",
       "      <td>8</td>\n",
       "    </tr>\n",
       "    <tr>\n",
       "      <td>4</td>\n",
       "      <td>Изменить цвет фона главной страницы, чтобы увеличить вовлеченность пользователей</td>\n",
       "      <td>3</td>\n",
       "      <td>1</td>\n",
       "      <td>1</td>\n",
       "      <td>1</td>\n",
       "    </tr>\n",
       "    <tr>\n",
       "      <td>5</td>\n",
       "      <td>Добавить страницу отзывов клиентов о магазине, что позволит увеличить количество заказов</td>\n",
       "      <td>3</td>\n",
       "      <td>2</td>\n",
       "      <td>2</td>\n",
       "      <td>3</td>\n",
       "    </tr>\n",
       "    <tr>\n",
       "      <td>6</td>\n",
       "      <td>Показать на главной странице баннеры с актуальными акциями и распродажами, чтобы увеличить конверсию</td>\n",
       "      <td>5</td>\n",
       "      <td>3</td>\n",
       "      <td>8</td>\n",
       "      <td>3</td>\n",
       "    </tr>\n",
       "    <tr>\n",
       "      <td>7</td>\n",
       "      <td>Добавить форму подписки на все основные страницы, чтобы собрать базу клиентов для email-рассылок</td>\n",
       "      <td>10</td>\n",
       "      <td>7</td>\n",
       "      <td>8</td>\n",
       "      <td>5</td>\n",
       "    </tr>\n",
       "    <tr>\n",
       "      <td>8</td>\n",
       "      <td>Запустить акцию, дающую скидку на товар в день рождения</td>\n",
       "      <td>1</td>\n",
       "      <td>9</td>\n",
       "      <td>9</td>\n",
       "      <td>5</td>\n",
       "    </tr>\n",
       "  </tbody>\n",
       "</table>\n",
       "</div>"
      ],
      "text/plain": [
       "                                                                                                     Hypothesis  \\\n",
       "0  Добавить два новых канала привлечения трафика, что позволит привлекать на 30% больше пользователей             \n",
       "1  Запустить собственную службу доставки, что сократит срок доставки заказов                                      \n",
       "2  Добавить блоки рекомендаций товаров на сайт интернет магазина, чтобы повысить конверсию и средний чек заказа   \n",
       "3  Изменить структура категорий, что увеличит конверсию, т.к. пользователи быстрее найдут нужный товар            \n",
       "4  Изменить цвет фона главной страницы, чтобы увеличить вовлеченность пользователей                               \n",
       "5  Добавить страницу отзывов клиентов о магазине, что позволит увеличить количество заказов                       \n",
       "6  Показать на главной странице баннеры с актуальными акциями и распродажами, чтобы увеличить конверсию           \n",
       "7  Добавить форму подписки на все основные страницы, чтобы собрать базу клиентов для email-рассылок               \n",
       "8  Запустить акцию, дающую скидку на товар в день рождения                                                        \n",
       "\n",
       "   Reach  Impact  Confidence  Efforts  \n",
       "0  3      10      8           6        \n",
       "1  2      5       4           10       \n",
       "2  8      3       7           3        \n",
       "3  8      3       3           8        \n",
       "4  3      1       1           1        \n",
       "5  3      2       2           3        \n",
       "6  5      3       8           3        \n",
       "7  10     7       8           5        \n",
       "8  1      9       9           5        "
      ]
     },
     "metadata": {},
     "output_type": "display_data"
    }
   ],
   "source": [
    "#выведем краткую сводку по датасету с гипотезами и саму таблицу\n",
    "hypo.info()\n",
    "display(hypo)"
   ]
  },
  {
   "cell_type": "markdown",
   "metadata": {},
   "source": [
    "Таблица hypo содержит девять гипотез по увеличению выручки интернет-магазина. Для каждой гипотезы указаны параметры Reach (охват пользователей по 10-балльной шкале), Impact (влияние на пользователей по 10-балльной шкале), Confidence (уверенность в гипотезе по 10-балльной шкале) и Effort (затраты ресурсов на проверку гипотезы по 10-балльной шкале). Данные хранятся в оптимальных форматах, пропусков в таблице нет. Используем имеющуюся информацию для приоритизации гипотез."
   ]
  },
  {
   "cell_type": "code",
   "execution_count": 4,
   "metadata": {},
   "outputs": [],
   "source": [
    "#применим фреймворк ICE для приоритизации гипотез\n",
    "hypo['ICE'] = round(hypo['Impact'] * hypo['Confidence'] / hypo['Efforts'], 2)"
   ]
  },
  {
   "cell_type": "code",
   "execution_count": 5,
   "metadata": {},
   "outputs": [
    {
     "data": {
      "text/html": [
       "<div>\n",
       "<style scoped>\n",
       "    .dataframe tbody tr th:only-of-type {\n",
       "        vertical-align: middle;\n",
       "    }\n",
       "\n",
       "    .dataframe tbody tr th {\n",
       "        vertical-align: top;\n",
       "    }\n",
       "\n",
       "    .dataframe thead th {\n",
       "        text-align: right;\n",
       "    }\n",
       "</style>\n",
       "<table border=\"1\" class=\"dataframe\">\n",
       "  <thead>\n",
       "    <tr style=\"text-align: right;\">\n",
       "      <th></th>\n",
       "      <th>Hypothesis</th>\n",
       "      <th>ICE</th>\n",
       "    </tr>\n",
       "  </thead>\n",
       "  <tbody>\n",
       "    <tr>\n",
       "      <td>8</td>\n",
       "      <td>Запустить акцию, дающую скидку на товар в день рождения</td>\n",
       "      <td>16.20</td>\n",
       "    </tr>\n",
       "    <tr>\n",
       "      <td>0</td>\n",
       "      <td>Добавить два новых канала привлечения трафика, что позволит привлекать на 30% больше пользователей</td>\n",
       "      <td>13.33</td>\n",
       "    </tr>\n",
       "    <tr>\n",
       "      <td>7</td>\n",
       "      <td>Добавить форму подписки на все основные страницы, чтобы собрать базу клиентов для email-рассылок</td>\n",
       "      <td>11.20</td>\n",
       "    </tr>\n",
       "    <tr>\n",
       "      <td>6</td>\n",
       "      <td>Показать на главной странице баннеры с актуальными акциями и распродажами, чтобы увеличить конверсию</td>\n",
       "      <td>8.00</td>\n",
       "    </tr>\n",
       "    <tr>\n",
       "      <td>2</td>\n",
       "      <td>Добавить блоки рекомендаций товаров на сайт интернет магазина, чтобы повысить конверсию и средний чек заказа</td>\n",
       "      <td>7.00</td>\n",
       "    </tr>\n",
       "    <tr>\n",
       "      <td>1</td>\n",
       "      <td>Запустить собственную службу доставки, что сократит срок доставки заказов</td>\n",
       "      <td>2.00</td>\n",
       "    </tr>\n",
       "    <tr>\n",
       "      <td>5</td>\n",
       "      <td>Добавить страницу отзывов клиентов о магазине, что позволит увеличить количество заказов</td>\n",
       "      <td>1.33</td>\n",
       "    </tr>\n",
       "    <tr>\n",
       "      <td>3</td>\n",
       "      <td>Изменить структура категорий, что увеличит конверсию, т.к. пользователи быстрее найдут нужный товар</td>\n",
       "      <td>1.12</td>\n",
       "    </tr>\n",
       "    <tr>\n",
       "      <td>4</td>\n",
       "      <td>Изменить цвет фона главной страницы, чтобы увеличить вовлеченность пользователей</td>\n",
       "      <td>1.00</td>\n",
       "    </tr>\n",
       "  </tbody>\n",
       "</table>\n",
       "</div>"
      ],
      "text/plain": [
       "                                                                                                     Hypothesis  \\\n",
       "8  Запустить акцию, дающую скидку на товар в день рождения                                                        \n",
       "0  Добавить два новых канала привлечения трафика, что позволит привлекать на 30% больше пользователей             \n",
       "7  Добавить форму подписки на все основные страницы, чтобы собрать базу клиентов для email-рассылок               \n",
       "6  Показать на главной странице баннеры с актуальными акциями и распродажами, чтобы увеличить конверсию           \n",
       "2  Добавить блоки рекомендаций товаров на сайт интернет магазина, чтобы повысить конверсию и средний чек заказа   \n",
       "1  Запустить собственную службу доставки, что сократит срок доставки заказов                                      \n",
       "5  Добавить страницу отзывов клиентов о магазине, что позволит увеличить количество заказов                       \n",
       "3  Изменить структура категорий, что увеличит конверсию, т.к. пользователи быстрее найдут нужный товар            \n",
       "4  Изменить цвет фона главной страницы, чтобы увеличить вовлеченность пользователей                               \n",
       "\n",
       "     ICE  \n",
       "8  16.20  \n",
       "0  13.33  \n",
       "7  11.20  \n",
       "6  8.00   \n",
       "2  7.00   \n",
       "1  2.00   \n",
       "5  1.33   \n",
       "3  1.12   \n",
       "4  1.00   "
      ]
     },
     "execution_count": 5,
     "metadata": {},
     "output_type": "execute_result"
    }
   ],
   "source": [
    "#выведем результат, отсортировав гипотезы по убыванию приоритета\n",
    "hypo[['Hypothesis', 'ICE']].sort_values(by='ICE', ascending=False)"
   ]
  },
  {
   "cell_type": "markdown",
   "metadata": {},
   "source": [
    "Наиболее перспективная гипотеза по ICE - №9: \"Запустить акцию, дающую скидку на товар в день рождения\". На втором месте добавление двух новых каналов привлечения трафика, на третьем - сбор базы клиентов для email-рассылок через форму подписки. 8 баллов набрала идея показать на главной странице баннеры с актуальными акциями и распродажами, 7 баллов у добавления блоков рекомендаций товаров на сайт. Оставшиеся четыре гипотезы набрали не больше 2 баллов."
   ]
  },
  {
   "cell_type": "code",
   "execution_count": 6,
   "metadata": {},
   "outputs": [],
   "source": [
    "#применим фреймворк RICE для приоритизации гипотез\n",
    "hypo['RICE'] = (hypo['Reach'] * hypo['Impact'] * hypo['Confidence']) / hypo['Efforts']"
   ]
  },
  {
   "cell_type": "code",
   "execution_count": 7,
   "metadata": {},
   "outputs": [
    {
     "data": {
      "text/html": [
       "<div>\n",
       "<style scoped>\n",
       "    .dataframe tbody tr th:only-of-type {\n",
       "        vertical-align: middle;\n",
       "    }\n",
       "\n",
       "    .dataframe tbody tr th {\n",
       "        vertical-align: top;\n",
       "    }\n",
       "\n",
       "    .dataframe thead th {\n",
       "        text-align: right;\n",
       "    }\n",
       "</style>\n",
       "<table border=\"1\" class=\"dataframe\">\n",
       "  <thead>\n",
       "    <tr style=\"text-align: right;\">\n",
       "      <th></th>\n",
       "      <th>Hypothesis</th>\n",
       "      <th>RICE</th>\n",
       "    </tr>\n",
       "  </thead>\n",
       "  <tbody>\n",
       "    <tr>\n",
       "      <td>7</td>\n",
       "      <td>Добавить форму подписки на все основные страницы, чтобы собрать базу клиентов для email-рассылок</td>\n",
       "      <td>112.0</td>\n",
       "    </tr>\n",
       "    <tr>\n",
       "      <td>2</td>\n",
       "      <td>Добавить блоки рекомендаций товаров на сайт интернет магазина, чтобы повысить конверсию и средний чек заказа</td>\n",
       "      <td>56.0</td>\n",
       "    </tr>\n",
       "    <tr>\n",
       "      <td>0</td>\n",
       "      <td>Добавить два новых канала привлечения трафика, что позволит привлекать на 30% больше пользователей</td>\n",
       "      <td>40.0</td>\n",
       "    </tr>\n",
       "    <tr>\n",
       "      <td>6</td>\n",
       "      <td>Показать на главной странице баннеры с актуальными акциями и распродажами, чтобы увеличить конверсию</td>\n",
       "      <td>40.0</td>\n",
       "    </tr>\n",
       "    <tr>\n",
       "      <td>8</td>\n",
       "      <td>Запустить акцию, дающую скидку на товар в день рождения</td>\n",
       "      <td>16.2</td>\n",
       "    </tr>\n",
       "    <tr>\n",
       "      <td>3</td>\n",
       "      <td>Изменить структура категорий, что увеличит конверсию, т.к. пользователи быстрее найдут нужный товар</td>\n",
       "      <td>9.0</td>\n",
       "    </tr>\n",
       "    <tr>\n",
       "      <td>1</td>\n",
       "      <td>Запустить собственную службу доставки, что сократит срок доставки заказов</td>\n",
       "      <td>4.0</td>\n",
       "    </tr>\n",
       "    <tr>\n",
       "      <td>5</td>\n",
       "      <td>Добавить страницу отзывов клиентов о магазине, что позволит увеличить количество заказов</td>\n",
       "      <td>4.0</td>\n",
       "    </tr>\n",
       "    <tr>\n",
       "      <td>4</td>\n",
       "      <td>Изменить цвет фона главной страницы, чтобы увеличить вовлеченность пользователей</td>\n",
       "      <td>3.0</td>\n",
       "    </tr>\n",
       "  </tbody>\n",
       "</table>\n",
       "</div>"
      ],
      "text/plain": [
       "                                                                                                     Hypothesis  \\\n",
       "7  Добавить форму подписки на все основные страницы, чтобы собрать базу клиентов для email-рассылок               \n",
       "2  Добавить блоки рекомендаций товаров на сайт интернет магазина, чтобы повысить конверсию и средний чек заказа   \n",
       "0  Добавить два новых канала привлечения трафика, что позволит привлекать на 30% больше пользователей             \n",
       "6  Показать на главной странице баннеры с актуальными акциями и распродажами, чтобы увеличить конверсию           \n",
       "8  Запустить акцию, дающую скидку на товар в день рождения                                                        \n",
       "3  Изменить структура категорий, что увеличит конверсию, т.к. пользователи быстрее найдут нужный товар            \n",
       "1  Запустить собственную службу доставки, что сократит срок доставки заказов                                      \n",
       "5  Добавить страницу отзывов клиентов о магазине, что позволит увеличить количество заказов                       \n",
       "4  Изменить цвет фона главной страницы, чтобы увеличить вовлеченность пользователей                               \n",
       "\n",
       "    RICE  \n",
       "7  112.0  \n",
       "2  56.0   \n",
       "0  40.0   \n",
       "6  40.0   \n",
       "8  16.2   \n",
       "3  9.0    \n",
       "1  4.0    \n",
       "5  4.0    \n",
       "4  3.0    "
      ]
     },
     "execution_count": 7,
     "metadata": {},
     "output_type": "execute_result"
    }
   ],
   "source": [
    "#выведем результат, отсортировав гипотезы по убыванию приоритета\n",
    "hypo[['Hypothesis', 'RICE']].sort_values(by='RICE', ascending=False)"
   ]
  },
  {
   "cell_type": "markdown",
   "metadata": {},
   "source": [
    "1. В результатах приоритизации по RICE с большим отрывом лидирует гипотеза №8: \"Добавить форму подписки на все основные страницы, чтобы собрать базу клиентов для email-рассылок\", которая была на третьем месте при прошлом расчёте. Дело в том, что у этой гипотезы самый широкий охват пользователей - если добавить форму на все основные страницы, все посетители сайта так или иначе её заметят.\n",
    "2. На втором месте идея добавить блоки рекомендаций товаров на сайт: по ICE она была на пятом месте, но у этой гипотезы тоже хороший охват - 8 из 10.\n",
    "3. На третьем месте - добавление двух новых каналов привлечения трафика (вторая по перспективности гипотеза в фреймворке ICE, но охват у неё ограничен тридцатью процентами пользователей). \n",
    "4. Четвёртое место - баннеры с актуальными акциями и распродажами на главной странице сайта - в обоих фреймворках совпадает. \n",
    "5. На пятом месте по RICE скидка на товар в день рождения (самая перспективная гипотеза по ICE). У неё самый низкий охват аудитории, что неудивительно - день рождения, как известно, у каждого пользователя сайта бывает только раз в году. \n",
    "6. Ещё четыре гипотезы распределились на 6-9 местах немного в ином порядке по сравнению с прошлым расчётом (2,6,4,5 по ICE, 4,2,6,5 по RICE), но всё ещё остаются малоперспективными."
   ]
  },
  {
   "cell_type": "markdown",
   "metadata": {},
   "source": [
    "### Вывод по разделу"
   ]
  },
  {
   "cell_type": "markdown",
   "metadata": {},
   "source": [
    "Согласно фреймворку RICE, самой перспективной является гипотеза №8: добавить форму подписки на все основные страницы, чтобы собрать базу клиентов для email-рассылок. Её охват - 10/10, влияние на пользователей - 7/10, уверенность в гипотезе - 8/10,  затраты ресурсов на проверку гипотезы - 5/10."
   ]
  },
  {
   "cell_type": "markdown",
   "metadata": {},
   "source": [
    "## Анализ A/B-теста"
   ]
  },
  {
   "cell_type": "markdown",
   "metadata": {},
   "source": [
    "### Изучение и предобработка данных"
   ]
  },
  {
   "cell_type": "markdown",
   "metadata": {},
   "source": [
    "Мы получили данные по результатам проведенного тестирования."
   ]
  },
  {
   "cell_type": "code",
   "execution_count": 8,
   "metadata": {},
   "outputs": [
    {
     "name": "stdout",
     "output_type": "stream",
     "text": [
      "<class 'pandas.core.frame.DataFrame'>\n",
      "RangeIndex: 1197 entries, 0 to 1196\n",
      "Data columns (total 5 columns):\n",
      "transactionId    1197 non-null int64\n",
      "visitorId        1197 non-null int64\n",
      "date             1197 non-null object\n",
      "revenue          1197 non-null int64\n",
      "group            1197 non-null object\n",
      "dtypes: int64(3), object(2)\n",
      "memory usage: 46.9+ KB\n"
     ]
    },
    {
     "data": {
      "text/html": [
       "<div>\n",
       "<style scoped>\n",
       "    .dataframe tbody tr th:only-of-type {\n",
       "        vertical-align: middle;\n",
       "    }\n",
       "\n",
       "    .dataframe tbody tr th {\n",
       "        vertical-align: top;\n",
       "    }\n",
       "\n",
       "    .dataframe thead th {\n",
       "        text-align: right;\n",
       "    }\n",
       "</style>\n",
       "<table border=\"1\" class=\"dataframe\">\n",
       "  <thead>\n",
       "    <tr style=\"text-align: right;\">\n",
       "      <th></th>\n",
       "      <th>transactionId</th>\n",
       "      <th>visitorId</th>\n",
       "      <th>date</th>\n",
       "      <th>revenue</th>\n",
       "      <th>group</th>\n",
       "    </tr>\n",
       "  </thead>\n",
       "  <tbody>\n",
       "    <tr>\n",
       "      <td>23</td>\n",
       "      <td>4252514150</td>\n",
       "      <td>351125977</td>\n",
       "      <td>2019-08-15</td>\n",
       "      <td>15185</td>\n",
       "      <td>B</td>\n",
       "    </tr>\n",
       "    <tr>\n",
       "      <td>528</td>\n",
       "      <td>1543948528</td>\n",
       "      <td>492739583</td>\n",
       "      <td>2019-08-19</td>\n",
       "      <td>750</td>\n",
       "      <td>A</td>\n",
       "    </tr>\n",
       "    <tr>\n",
       "      <td>134</td>\n",
       "      <td>62794304</td>\n",
       "      <td>199603092</td>\n",
       "      <td>2019-08-22</td>\n",
       "      <td>6976</td>\n",
       "      <td>A</td>\n",
       "    </tr>\n",
       "    <tr>\n",
       "      <td>527</td>\n",
       "      <td>1570513684</td>\n",
       "      <td>2837914161</td>\n",
       "      <td>2019-08-19</td>\n",
       "      <td>33405</td>\n",
       "      <td>B</td>\n",
       "    </tr>\n",
       "    <tr>\n",
       "      <td>924</td>\n",
       "      <td>3778001764</td>\n",
       "      <td>47206413</td>\n",
       "      <td>2019-08-10</td>\n",
       "      <td>730</td>\n",
       "      <td>B</td>\n",
       "    </tr>\n",
       "  </tbody>\n",
       "</table>\n",
       "</div>"
      ],
      "text/plain": [
       "     transactionId   visitorId        date  revenue group\n",
       "23   4252514150     351125977   2019-08-15  15185    B   \n",
       "528  1543948528     492739583   2019-08-19  750      A   \n",
       "134  62794304       199603092   2019-08-22  6976     A   \n",
       "527  1570513684     2837914161  2019-08-19  33405    B   \n",
       "924  3778001764     47206413    2019-08-10  730      B   "
      ]
     },
     "execution_count": 8,
     "metadata": {},
     "output_type": "execute_result"
    }
   ],
   "source": [
    "#выведем краткую сводку и случайные 5 строк из первого датасета\n",
    "orders.info()\n",
    "orders.sample(5)"
   ]
  },
  {
   "cell_type": "markdown",
   "metadata": {},
   "source": [
    "В таблице orders содержится информация о заказах: transactionId - идентификатор заказа; visitorId - идентификатор пользователя, совершившего заказ; date - дата, когда был совершён заказ; revenue - выручка заказа; group - группа A/B-теста, в которую попал заказ."
   ]
  },
  {
   "cell_type": "code",
   "execution_count": 9,
   "metadata": {},
   "outputs": [
    {
     "data": {
      "text/plain": [
       "0"
      ]
     },
     "execution_count": 9,
     "metadata": {},
     "output_type": "execute_result"
    }
   ],
   "source": [
    "#проверим наличие дубликатов\n",
    "orders.duplicated().sum()"
   ]
  },
  {
   "cell_type": "code",
   "execution_count": 10,
   "metadata": {},
   "outputs": [],
   "source": [
    "#изменим формат в столбце с датами\n",
    "orders['date'] = pd.to_datetime(orders['date'], format='%Y-%m-%d')"
   ]
  },
  {
   "cell_type": "code",
   "execution_count": 11,
   "metadata": {},
   "outputs": [
    {
     "data": {
      "text/plain": [
       "min   2019-08-01\n",
       "max   2019-08-31\n",
       "Name: date, dtype: datetime64[ns]"
      ]
     },
     "execution_count": 11,
     "metadata": {},
     "output_type": "execute_result"
    }
   ],
   "source": [
    "#проверим временной период A/B-теста\n",
    "orders['date'].agg(['min', 'max'])"
   ]
  },
  {
   "cell_type": "markdown",
   "metadata": {},
   "source": [
    "Тестирование проводилось с 1 по 31 августа 2019 года."
   ]
  },
  {
   "cell_type": "code",
   "execution_count": 12,
   "metadata": {},
   "outputs": [
    {
     "data": {
      "text/html": [
       "<div>\n",
       "<style scoped>\n",
       "    .dataframe tbody tr th:only-of-type {\n",
       "        vertical-align: middle;\n",
       "    }\n",
       "\n",
       "    .dataframe tbody tr th {\n",
       "        vertical-align: top;\n",
       "    }\n",
       "\n",
       "    .dataframe thead th {\n",
       "        text-align: right;\n",
       "    }\n",
       "</style>\n",
       "<table border=\"1\" class=\"dataframe\">\n",
       "  <thead>\n",
       "    <tr style=\"text-align: right;\">\n",
       "      <th></th>\n",
       "      <th>visitorId</th>\n",
       "      <th>transactionId</th>\n",
       "    </tr>\n",
       "    <tr>\n",
       "      <th>group</th>\n",
       "      <th></th>\n",
       "      <th></th>\n",
       "    </tr>\n",
       "  </thead>\n",
       "  <tbody>\n",
       "    <tr>\n",
       "      <td>A</td>\n",
       "      <td>503</td>\n",
       "      <td>557</td>\n",
       "    </tr>\n",
       "    <tr>\n",
       "      <td>B</td>\n",
       "      <td>586</td>\n",
       "      <td>640</td>\n",
       "    </tr>\n",
       "  </tbody>\n",
       "</table>\n",
       "</div>"
      ],
      "text/plain": [
       "       visitorId  transactionId\n",
       "group                          \n",
       "A      503        557          \n",
       "B      586        640          "
      ]
     },
     "execution_count": 12,
     "metadata": {},
     "output_type": "execute_result"
    }
   ],
   "source": [
    "#проверим распределение данных по группам\n",
    "orders.groupby('group').agg({'visitorId':'nunique', 'transactionId':'nunique'})"
   ]
  },
  {
   "cell_type": "markdown",
   "metadata": {},
   "source": [
    "В группе Б и количество уникальных посетителей, и количество заказов выше - на первый взгляд, тестируемое нововведение дало эффект. Проверим выборку на корректность распределения пользователей по группам."
   ]
  },
  {
   "cell_type": "code",
   "execution_count": 13,
   "metadata": {},
   "outputs": [
    {
     "data": {
      "text/plain": [
       "1031"
      ]
     },
     "execution_count": 13,
     "metadata": {},
     "output_type": "execute_result"
    }
   ],
   "source": [
    "orders['visitorId'].nunique()"
   ]
  },
  {
   "cell_type": "markdown",
   "metadata": {},
   "source": [
    "Число уникальных посетителей во всей выборке (1031) меньше, чем суммарное число уникальных посетителей по группам (1089), то есть 58 человек одновременно попали в обе группы теста. Для достоверности результатов удалим заказы этих пользователей."
   ]
  },
  {
   "cell_type": "code",
   "execution_count": 14,
   "metadata": {},
   "outputs": [],
   "source": [
    "#создадим список visitorId, попавших в обе группы\n",
    "flickers = orders.groupby('visitorId')['group'].nunique().where(lambda x : x!=1).dropna().index"
   ]
  },
  {
   "cell_type": "code",
   "execution_count": 15,
   "metadata": {},
   "outputs": [],
   "source": [
    "#удалим эти visitorId из датафрейма\n",
    "orders = orders[np.logical_not(orders['visitorId'].isin(flickers))]"
   ]
  },
  {
   "cell_type": "code",
   "execution_count": 16,
   "metadata": {},
   "outputs": [
    {
     "data": {
      "text/plain": [
       "973"
      ]
     },
     "execution_count": 16,
     "metadata": {},
     "output_type": "execute_result"
    }
   ],
   "source": [
    "#проверим результат\n",
    "orders['visitorId'].nunique()"
   ]
  },
  {
   "cell_type": "code",
   "execution_count": 17,
   "metadata": {},
   "outputs": [
    {
     "data": {
      "text/html": [
       "<div>\n",
       "<style scoped>\n",
       "    .dataframe tbody tr th:only-of-type {\n",
       "        vertical-align: middle;\n",
       "    }\n",
       "\n",
       "    .dataframe tbody tr th {\n",
       "        vertical-align: top;\n",
       "    }\n",
       "\n",
       "    .dataframe thead th {\n",
       "        text-align: right;\n",
       "    }\n",
       "</style>\n",
       "<table border=\"1\" class=\"dataframe\">\n",
       "  <thead>\n",
       "    <tr style=\"text-align: right;\">\n",
       "      <th></th>\n",
       "      <th>visitorId</th>\n",
       "      <th>transactionId</th>\n",
       "    </tr>\n",
       "    <tr>\n",
       "      <th>group</th>\n",
       "      <th></th>\n",
       "      <th></th>\n",
       "    </tr>\n",
       "  </thead>\n",
       "  <tbody>\n",
       "    <tr>\n",
       "      <td>A</td>\n",
       "      <td>445</td>\n",
       "      <td>468</td>\n",
       "    </tr>\n",
       "    <tr>\n",
       "      <td>B</td>\n",
       "      <td>528</td>\n",
       "      <td>548</td>\n",
       "    </tr>\n",
       "  </tbody>\n",
       "</table>\n",
       "</div>"
      ],
      "text/plain": [
       "       visitorId  transactionId\n",
       "group                          \n",
       "A      445        468          \n",
       "B      528        548          "
      ]
     },
     "execution_count": 17,
     "metadata": {},
     "output_type": "execute_result"
    }
   ],
   "source": [
    "orders.groupby('group').agg({'visitorId':'nunique', 'transactionId':'nunique'})"
   ]
  },
  {
   "cell_type": "markdown",
   "metadata": {},
   "source": [
    "После удаления неуникальных посетителей группа B всё ещё показывает лучшие результаты, чем группа А. "
   ]
  },
  {
   "cell_type": "code",
   "execution_count": 18,
   "metadata": {},
   "outputs": [
    {
     "name": "stdout",
     "output_type": "stream",
     "text": [
      "<class 'pandas.core.frame.DataFrame'>\n",
      "RangeIndex: 62 entries, 0 to 61\n",
      "Data columns (total 3 columns):\n",
      "date        62 non-null object\n",
      "group       62 non-null object\n",
      "visitors    62 non-null int64\n",
      "dtypes: int64(1), object(2)\n",
      "memory usage: 1.6+ KB\n"
     ]
    },
    {
     "data": {
      "text/html": [
       "<div>\n",
       "<style scoped>\n",
       "    .dataframe tbody tr th:only-of-type {\n",
       "        vertical-align: middle;\n",
       "    }\n",
       "\n",
       "    .dataframe tbody tr th {\n",
       "        vertical-align: top;\n",
       "    }\n",
       "\n",
       "    .dataframe thead th {\n",
       "        text-align: right;\n",
       "    }\n",
       "</style>\n",
       "<table border=\"1\" class=\"dataframe\">\n",
       "  <thead>\n",
       "    <tr style=\"text-align: right;\">\n",
       "      <th></th>\n",
       "      <th>date</th>\n",
       "      <th>group</th>\n",
       "      <th>visitors</th>\n",
       "    </tr>\n",
       "  </thead>\n",
       "  <tbody>\n",
       "    <tr>\n",
       "      <td>10</td>\n",
       "      <td>2019-08-11</td>\n",
       "      <td>A</td>\n",
       "      <td>718</td>\n",
       "    </tr>\n",
       "    <tr>\n",
       "      <td>17</td>\n",
       "      <td>2019-08-18</td>\n",
       "      <td>A</td>\n",
       "      <td>668</td>\n",
       "    </tr>\n",
       "    <tr>\n",
       "      <td>25</td>\n",
       "      <td>2019-08-26</td>\n",
       "      <td>A</td>\n",
       "      <td>722</td>\n",
       "    </tr>\n",
       "    <tr>\n",
       "      <td>4</td>\n",
       "      <td>2019-08-05</td>\n",
       "      <td>A</td>\n",
       "      <td>756</td>\n",
       "    </tr>\n",
       "    <tr>\n",
       "      <td>3</td>\n",
       "      <td>2019-08-04</td>\n",
       "      <td>A</td>\n",
       "      <td>717</td>\n",
       "    </tr>\n",
       "  </tbody>\n",
       "</table>\n",
       "</div>"
      ],
      "text/plain": [
       "          date group  visitors\n",
       "10  2019-08-11  A     718     \n",
       "17  2019-08-18  A     668     \n",
       "25  2019-08-26  A     722     \n",
       "4   2019-08-05  A     756     \n",
       "3   2019-08-04  A     717     "
      ]
     },
     "execution_count": 18,
     "metadata": {},
     "output_type": "execute_result"
    }
   ],
   "source": [
    "#выведем краткую сводку и случайные 5 строк из второго датасета\n",
    "visitors.info()\n",
    "visitors.sample(5)"
   ]
  },
  {
   "cell_type": "markdown",
   "metadata": {},
   "source": [
    "Таблица visitors состоит из трёх колонок: дата; группа A/B-теста; количество пользователей в указанную дату в указанной группе A/B-теста."
   ]
  },
  {
   "cell_type": "code",
   "execution_count": 19,
   "metadata": {},
   "outputs": [
    {
     "data": {
      "text/plain": [
       "0"
      ]
     },
     "execution_count": 19,
     "metadata": {},
     "output_type": "execute_result"
    }
   ],
   "source": [
    "#проверим наличие дубликатов\n",
    "visitors.duplicated().sum()"
   ]
  },
  {
   "cell_type": "code",
   "execution_count": 20,
   "metadata": {},
   "outputs": [],
   "source": [
    "#изменим формат в столбце с датами\n",
    "visitors['date'] = pd.to_datetime(visitors['date'], format='%Y-%m-%d')"
   ]
  },
  {
   "cell_type": "code",
   "execution_count": 21,
   "metadata": {},
   "outputs": [
    {
     "data": {
      "text/plain": [
       "min   2019-08-01\n",
       "max   2019-08-31\n",
       "Name: date, dtype: datetime64[ns]"
      ]
     },
     "execution_count": 21,
     "metadata": {},
     "output_type": "execute_result"
    }
   ],
   "source": [
    "#проверим совпадение периодов в двух датасетах\n",
    "visitors['date'].agg(['min', 'max'])"
   ]
  },
  {
   "cell_type": "code",
   "execution_count": 22,
   "metadata": {},
   "outputs": [
    {
     "data": {
      "text/html": [
       "<div>\n",
       "<style scoped>\n",
       "    .dataframe tbody tr th:only-of-type {\n",
       "        vertical-align: middle;\n",
       "    }\n",
       "\n",
       "    .dataframe tbody tr th {\n",
       "        vertical-align: top;\n",
       "    }\n",
       "\n",
       "    .dataframe thead th {\n",
       "        text-align: right;\n",
       "    }\n",
       "</style>\n",
       "<table border=\"1\" class=\"dataframe\">\n",
       "  <thead>\n",
       "    <tr style=\"text-align: right;\">\n",
       "      <th></th>\n",
       "      <th>visitors</th>\n",
       "    </tr>\n",
       "    <tr>\n",
       "      <th>group</th>\n",
       "      <th></th>\n",
       "    </tr>\n",
       "  </thead>\n",
       "  <tbody>\n",
       "    <tr>\n",
       "      <td>A</td>\n",
       "      <td>31</td>\n",
       "    </tr>\n",
       "    <tr>\n",
       "      <td>B</td>\n",
       "      <td>31</td>\n",
       "    </tr>\n",
       "  </tbody>\n",
       "</table>\n",
       "</div>"
      ],
      "text/plain": [
       "       visitors\n",
       "group          \n",
       "A      31      \n",
       "B      31      "
      ]
     },
     "execution_count": 22,
     "metadata": {},
     "output_type": "execute_result"
    }
   ],
   "source": [
    "#проверим распределение данных по группам\n",
    "visitors.groupby('group').agg({'visitors':'count'})"
   ]
  },
  {
   "cell_type": "markdown",
   "metadata": {},
   "source": [
    "Данные готовы для анализа."
   ]
  },
  {
   "cell_type": "markdown",
   "metadata": {},
   "source": [
    "### Кумулятивная выручка по группам"
   ]
  },
  {
   "cell_type": "code",
   "execution_count": 23,
   "metadata": {},
   "outputs": [],
   "source": [
    "#создадим массив уникальных пар значений дат и групп теста\n",
    "datesGroups = orders[['date','group']].drop_duplicates()"
   ]
  },
  {
   "cell_type": "code",
   "execution_count": 24,
   "metadata": {},
   "outputs": [],
   "source": [
    "#получим агрегированные кумулятивные по дням данные о заказах \n",
    "ordersAggregated = datesGroups.apply(lambda x: orders[np.logical_and(\n",
    "        orders['date'] <= x['date'], orders['group'] == x['group'])]\n",
    "        .agg({'date' : 'max', \n",
    "        'group' : 'max', \n",
    "        'transactionId' : pd.Series.nunique, \n",
    "        'visitorId' : pd.Series.nunique, \n",
    "        'revenue' : 'sum'}), axis=1).sort_values(by=['date','group'])"
   ]
  },
  {
   "cell_type": "code",
   "execution_count": 25,
   "metadata": {},
   "outputs": [],
   "source": [
    "#получим агрегированные кумулятивные по дням данные о посетителях интернет-магазина \n",
    "visitorsAggregated = datesGroups.apply(lambda x: visitors[np.logical_and(\n",
    "        visitors['date'] <= x['date'], visitors['group'] == x['group'])]\n",
    "        .agg({'date' : 'max', \n",
    "        'group' : 'max', \n",
    "        'visitors' : 'sum'}), axis=1).sort_values(by=['date','group'])"
   ]
  },
  {
   "cell_type": "code",
   "execution_count": 26,
   "metadata": {},
   "outputs": [],
   "source": [
    "#объединим полученные данные в один датафрейм\n",
    "cumulativeData = ordersAggregated.merge(visitorsAggregated, \n",
    "                                  left_on=['date', 'group'], right_on=['date', 'group'])\n",
    "cumulativeData.columns = ['date', 'group', 'orders', 'buyers', 'revenue', 'visitors']\n",
    "cumulativeData['date'] = cumulativeData['date'].dt.strftime('%d')"
   ]
  },
  {
   "cell_type": "code",
   "execution_count": 27,
   "metadata": {},
   "outputs": [],
   "source": [
    "#выделим данные по выручке в группе А\n",
    "cumulativeRevenueA = cumulativeData[cumulativeData['group']=='A'][['date', 'revenue', 'orders']]"
   ]
  },
  {
   "cell_type": "code",
   "execution_count": 28,
   "metadata": {},
   "outputs": [],
   "source": [
    "#выделим данные по выручке в группе B\n",
    "cumulativeRevenueB = cumulativeData[cumulativeData['group']=='B'][['date','revenue', 'orders']]"
   ]
  },
  {
   "cell_type": "code",
   "execution_count": 29,
   "metadata": {},
   "outputs": [
    {
     "data": {
      "image/png": "[encoded data removed]",
      "text/plain": [
       "<Figure size 1152x288 with 1 Axes>"
      ]
     },
     "metadata": {
      "needs_background": "light"
     },
     "output_type": "display_data"
    }
   ],
   "source": [
    "#построим график\n",
    "plt.figure(figsize=(16, 4))\n",
    "plt.plot(cumulativeRevenueA['date'], cumulativeRevenueA['revenue'], label='A')\n",
    "plt.plot(cumulativeRevenueB['date'], cumulativeRevenueB['revenue'], label='B')\n",
    "plt.legend()\n",
    "plt.title('Кумулятивная выручка в группах A/B-теста', fontsize=16)\n",
    "plt.xlabel('День в августе 2019 года', fontsize=13)\n",
    "plt.ylabel('Сумма', fontsize=13);"
   ]
  },
  {
   "cell_type": "markdown",
   "metadata": {},
   "source": [
    "Начиная с пятого дня эксперимента, выручка в группе В немного опережает выручку группы А, но в целом график показывает более-менее равномерный темп роста выручки в обеих группах. Однако группа B резко вырывается вперёд 19 августа за счёт прибавки почти 143 тысяч у.е. к кумулятивной выручке: возможно, в этот день было сделано несколько очень дорогих заказов."
   ]
  },
  {
   "cell_type": "markdown",
   "metadata": {},
   "source": [
    "### Кумулятивный средний чек по группам"
   ]
  },
  {
   "cell_type": "code",
   "execution_count": 30,
   "metadata": {},
   "outputs": [
    {
     "data": {
      "image/png": "[encoded data removed]",
      "text/plain": [
       "<Figure size 1152x288 with 1 Axes>"
      ]
     },
     "metadata": {
      "needs_background": "light"
     },
     "output_type": "display_data"
    }
   ],
   "source": [
    "plt.figure(figsize=(16, 4))\n",
    "plt.plot(cumulativeRevenueA['date'], cumulativeRevenueA['revenue']/cumulativeRevenueA['orders'], label='A')\n",
    "plt.plot(cumulativeRevenueB['date'], cumulativeRevenueB['revenue']/cumulativeRevenueB['orders'], label='B')\n",
    "plt.legend()\n",
    "plt.title('Кумулятивный средний чек по группам A/B-теста', fontsize=16)\n",
    "plt.xlabel('День в августе 2019 года', fontsize=13)\n",
    "plt.ylabel('Сумма чека', fontsize=13);"
   ]
  },
  {
   "cell_type": "markdown",
   "metadata": {},
   "source": [
    "Величина среднего чека в группе А установилась на 14 день тестирования и составляет около 7 тыс. у.е., значения за весь месяц колебались от 4,5 до 7,3 тыс. у.е. График среднего чека по группе В флуктуирует намного сильнее: от 3,5 до 10,5 тыс. у.е., резкий всплеск отмечен 19 августа, как и на прошлом графике, что подтверждает предположение о наличии очень дорогих заказов в выборке. Построим график относительного различия для среднего чека."
   ]
  },
  {
   "cell_type": "code",
   "execution_count": 31,
   "metadata": {},
   "outputs": [
    {
     "data": {
      "image/png": "[encoded data removed]",
      "text/plain": [
       "<Figure size 1152x288 with 1 Axes>"
      ]
     },
     "metadata": {
      "needs_background": "light"
     },
     "output_type": "display_data"
    }
   ],
   "source": [
    "mergedRev = cumulativeRevenueA.merge(cumulativeRevenueB, left_on='date', right_on='date', \n",
    "                                                   how='left', suffixes=['A', 'B'])\n",
    "plt.figure(figsize=(16, 4))\n",
    "plt.plot(mergedRev['date'], \n",
    "        (mergedRev['revenueB']/mergedRev['ordersB'])/(mergedRev['revenueA']/mergedRev['ordersA'])-1)\n",
    "plt.axhline(y=0, color='black', linestyle='--')\n",
    "plt.title('Относительный кумулятивный средний чек группы B к группе A', fontsize=16)\n",
    "plt.xlabel('День в августе 2019 года', fontsize=13)\n",
    "plt.ylabel('Величина изменения', fontsize=13);"
   ]
  },
  {
   "cell_type": "markdown",
   "metadata": {},
   "source": [
    "Результаты теста значительно менялись 6, 13 и 19 августа. Очевидно, в эти даты были совершены аномальные заказы."
   ]
  },
  {
   "cell_type": "markdown",
   "metadata": {},
   "source": [
    "### Кумулятивная конверсия по группам"
   ]
  },
  {
   "cell_type": "code",
   "execution_count": 32,
   "metadata": {},
   "outputs": [],
   "source": [
    "#посчитаем кумулятивную конверсию\n",
    "cumulativeData['conversion'] = cumulativeData['orders']/cumulativeData['visitors']"
   ]
  },
  {
   "cell_type": "code",
   "execution_count": 33,
   "metadata": {},
   "outputs": [],
   "source": [
    "#выделим данные по группам\n",
    "cumulativeDataA = cumulativeData[cumulativeData['group']=='A']\n",
    "cumulativeDataB = cumulativeData[cumulativeData['group']=='B']"
   ]
  },
  {
   "cell_type": "code",
   "execution_count": 34,
   "metadata": {},
   "outputs": [
    {
     "data": {
      "image/png": "[encoded data removed]",
      "text/plain": [
       "<Figure size 1152x288 with 1 Axes>"
      ]
     },
     "metadata": {
      "needs_background": "light"
     },
     "output_type": "display_data"
    }
   ],
   "source": [
    "#построим график\n",
    "plt.figure(figsize=(16, 4))\n",
    "plt.plot(cumulativeDataA['date'], cumulativeDataA['conversion'], label='A')\n",
    "plt.plot(cumulativeDataB['date'], cumulativeDataB['conversion'], label='B')\n",
    "plt.legend()\n",
    "plt.axis(['01', '31', 0.01, 0.04])\n",
    "plt.title('Кумулятивная конверсия по группам A/B-теста', fontsize=16)\n",
    "plt.xlabel('День в августе 2019 года', fontsize=13)\n",
    "plt.ylabel('Величина конверсии', fontsize=13);"
   ]
  },
  {
   "cell_type": "markdown",
   "metadata": {},
   "source": [
    "До 5 августа конверсия в группе А была выше, 6 августа два графика сошлись в одной точке, затем группы поменялись местами: конверсия группы B вырвалась вперёд и зафиксировалась около 0.029, а конверсия группы А просела и также зафиксировалась около 0.025. Построим график относительного изменения кумулятивной конверсии группы B к группе A."
   ]
  },
  {
   "cell_type": "code",
   "execution_count": 35,
   "metadata": {},
   "outputs": [
    {
     "data": {
      "image/png": "[encoded data removed]",
      "text/plain": [
       "<Figure size 1152x288 with 1 Axes>"
      ]
     },
     "metadata": {
      "needs_background": "light"
     },
     "output_type": "display_data"
    }
   ],
   "source": [
    "mergedCon = cumulativeDataA[['date','conversion']].merge(cumulativeDataB[['date','conversion']], \n",
    "                            left_on='date', right_on='date', how='left', suffixes=['A', 'B'])\n",
    "\n",
    "plt.figure(figsize=(16, 4))\n",
    "plt.plot(mergedCon['date'], mergedCon['conversionB']/mergedCon['conversionA']-1)\n",
    "plt.axhline(y=0, color='black', linestyle='--')\n",
    "plt.axhline(y=0.15, color='grey', linestyle='--')\n",
    "plt.title('Относительный прирост конверсии группы B относительно группы A', fontsize=16)\n",
    "plt.xlabel('День в августе 2019 года', fontsize=13)\n",
    "plt.ylabel('Величина изменения', fontsize=13);"
   ]
  },
  {
   "cell_type": "markdown",
   "metadata": {},
   "source": [
    "График относительной конверсии демонстрирует ту же тенденцию, что и общий кумулятивный: до 6 августа группа B проигрывала группе A, затем вырвалась вперёд. В целом отношение конверсии установилось около 15% прироста, однако стоит проанализировать аномальные заказы перед тем, как делать выводы."
   ]
  },
  {
   "cell_type": "markdown",
   "metadata": {},
   "source": [
    "### Анализ выбросов и всплесков"
   ]
  },
  {
   "cell_type": "markdown",
   "metadata": {},
   "source": [
    "Проанализируем значения количества заказов на наличие аномалий."
   ]
  },
  {
   "cell_type": "code",
   "execution_count": 36,
   "metadata": {},
   "outputs": [],
   "source": [
    "#посчитаем количество заказов по пользователям\n",
    "ordersByUsers = (orders.drop(['group', 'revenue', 'date'], axis=1)\n",
    "                .groupby('visitorId', as_index=False)\n",
    "                .agg({'transactionId': pd.Series.nunique}))\n",
    "ordersByUsers.columns = ['visitorId', 'orders']"
   ]
  },
  {
   "cell_type": "code",
   "execution_count": 37,
   "metadata": {},
   "outputs": [
    {
     "data": {
      "image/png": "[encoded data removed]",
      "text/plain": [
       "<Figure size 432x288 with 1 Axes>"
      ]
     },
     "metadata": {
      "needs_background": "light"
     },
     "output_type": "display_data"
    }
   ],
   "source": [
    "#построим точечную диаграмму числа заказов на одного пользователя\n",
    "x_values = pd.Series(range(0,len(ordersByUsers)))\n",
    "plt.scatter(x_values, ordersByUsers['orders'])\n",
    "plt.title('Число заказов на одного пользователя', fontsize=14)\n",
    "plt.xlabel('ID пользователя')\n",
    "plt.ylabel('Количество заказов');"
   ]
  },
  {
   "cell_type": "markdown",
   "metadata": {},
   "source": [
    "Большинство пользователей сделали по одному заказу, есть также те, кто сделал два заказа. Три заказа сделали единичные посетители. Посчитаем выборочные перцентили количества заказов на одного пользователя."
   ]
  },
  {
   "cell_type": "code",
   "execution_count": 38,
   "metadata": {},
   "outputs": [
    {
     "data": {
      "text/plain": [
       "array([1., 2.])"
      ]
     },
     "execution_count": 38,
     "metadata": {},
     "output_type": "execute_result"
    }
   ],
   "source": [
    "np.percentile(ordersByUsers['orders'], [95, 99])"
   ]
  },
  {
   "cell_type": "markdown",
   "metadata": {},
   "source": [
    "95% пользователей оформили один заказ. Всего 1% пользователей сделали больше двух заказов. Примем число 2 за границу для определения аномальных пользователей."
   ]
  },
  {
   "cell_type": "markdown",
   "metadata": {},
   "source": [
    "Теперь проанализируем значения стоимости заказов на наличие аномалий."
   ]
  },
  {
   "cell_type": "code",
   "execution_count": 39,
   "metadata": {},
   "outputs": [
    {
     "data": {
      "image/png": "[encoded data removed]",
      "text/plain": [
       "<Figure size 1152x432 with 2 Axes>"
      ]
     },
     "metadata": {
      "needs_background": "light"
     },
     "output_type": "display_data"
    }
   ],
   "source": [
    "#построим точечную диаграмму стоимости заказов\n",
    "fig, axes = plt.subplots(1, 2, figsize=(16,6), constrained_layout=True)\n",
    "x_values = pd.Series(range(0,len(orders['revenue'])))\n",
    "\n",
    "axes[0].scatter(x_values, orders['revenue'])\n",
    "axes[0].set_title('Распределение заказов по стоимости', fontsize=14)\n",
    "axes[0].set_xlabel('ID пользователя', fontsize=12)\n",
    "axes[0].set_ylabel('Стоимость заказа', fontsize=12)\n",
    "\n",
    "#увеличим масштаб для наглядности\n",
    "axes[1].scatter(x_values, orders['revenue'])\n",
    "axes[1].set_title('Распределение заказов по стоимости (срез)', fontsize=14)\n",
    "axes[1].set_xlabel('ID пользователя', fontsize=12)\n",
    "axes[1].set_ylabel('Стоимость заказа', fontsize=12)\n",
    "axes[1].set_ylim(0, 100000);"
   ]
  },
  {
   "cell_type": "markdown",
   "metadata": {},
   "source": [
    "Стоимость большинства заказов не превышает 100 тыс. у.е. (при увеличении масштаба видно, что большая часть точек на диаграмме находится в пределах 20000). Выделяются две аномальные точки - заказ на 200 тыс. и дороже 1,2 млн. Посмотрим, что это за заказы."
   ]
  },
  {
   "cell_type": "code",
   "execution_count": 40,
   "metadata": {},
   "outputs": [
    {
     "data": {
      "text/html": [
       "<div>\n",
       "<style scoped>\n",
       "    .dataframe tbody tr th:only-of-type {\n",
       "        vertical-align: middle;\n",
       "    }\n",
       "\n",
       "    .dataframe tbody tr th {\n",
       "        vertical-align: top;\n",
       "    }\n",
       "\n",
       "    .dataframe thead th {\n",
       "        text-align: right;\n",
       "    }\n",
       "</style>\n",
       "<table border=\"1\" class=\"dataframe\">\n",
       "  <thead>\n",
       "    <tr style=\"text-align: right;\">\n",
       "      <th></th>\n",
       "      <th>transactionId</th>\n",
       "      <th>visitorId</th>\n",
       "      <th>date</th>\n",
       "      <th>revenue</th>\n",
       "      <th>group</th>\n",
       "    </tr>\n",
       "  </thead>\n",
       "  <tbody>\n",
       "    <tr>\n",
       "      <td>425</td>\n",
       "      <td>590470918</td>\n",
       "      <td>1920142716</td>\n",
       "      <td>2019-08-19</td>\n",
       "      <td>1294500</td>\n",
       "      <td>B</td>\n",
       "    </tr>\n",
       "    <tr>\n",
       "      <td>1196</td>\n",
       "      <td>3936777065</td>\n",
       "      <td>2108080724</td>\n",
       "      <td>2019-08-15</td>\n",
       "      <td>202740</td>\n",
       "      <td>B</td>\n",
       "    </tr>\n",
       "    <tr>\n",
       "      <td>1136</td>\n",
       "      <td>666610489</td>\n",
       "      <td>1307669133</td>\n",
       "      <td>2019-08-13</td>\n",
       "      <td>92550</td>\n",
       "      <td>A</td>\n",
       "    </tr>\n",
       "    <tr>\n",
       "      <td>744</td>\n",
       "      <td>3668308183</td>\n",
       "      <td>888512513</td>\n",
       "      <td>2019-08-27</td>\n",
       "      <td>86620</td>\n",
       "      <td>B</td>\n",
       "    </tr>\n",
       "    <tr>\n",
       "      <td>743</td>\n",
       "      <td>3603576309</td>\n",
       "      <td>4133034833</td>\n",
       "      <td>2019-08-09</td>\n",
       "      <td>67990</td>\n",
       "      <td>A</td>\n",
       "    </tr>\n",
       "  </tbody>\n",
       "</table>\n",
       "</div>"
      ],
      "text/plain": [
       "      transactionId   visitorId       date  revenue group\n",
       "425   590470918      1920142716 2019-08-19  1294500  B   \n",
       "1196  3936777065     2108080724 2019-08-15  202740   B   \n",
       "1136  666610489      1307669133 2019-08-13  92550    A   \n",
       "744   3668308183     888512513  2019-08-27  86620    B   \n",
       "743   3603576309     4133034833 2019-08-09  67990    A   "
      ]
     },
     "execution_count": 40,
     "metadata": {},
     "output_type": "execute_result"
    }
   ],
   "source": [
    "orders.sort_values('revenue', ascending=False).head()"
   ]
  },
  {
   "cell_type": "markdown",
   "metadata": {},
   "source": [
    "Оба заказа дороже 100 тыс. относятся к группе B. Самый дорогой заказ на 1294500 у.е. был совершён 19 августа - очевидно, это он вызвал резкий подъём на графиках кумулятивной выручки и среднего чека в группе B. Для точности расчётов стоит удалить его из выборки. Посчитаем границу стоимости аномальных заказов."
   ]
  },
  {
   "cell_type": "code",
   "execution_count": 41,
   "metadata": {},
   "outputs": [
    {
     "data": {
      "text/plain": [
       "array([26785., 53904.])"
      ]
     },
     "execution_count": 41,
     "metadata": {},
     "output_type": "execute_result"
    }
   ],
   "source": [
    "np.percentile(orders['revenue'], [95, 99])"
   ]
  },
  {
   "cell_type": "markdown",
   "metadata": {},
   "source": [
    "Стоимость 95% заказов не превышает 27 тыс., и всего 1% заказов стоил дороже 53904 у.е. Примем это значение в качестве границы аномальных заказов."
   ]
  },
  {
   "cell_type": "markdown",
   "metadata": {},
   "source": [
    "### Статистический анализ «сырых» данных"
   ]
  },
  {
   "cell_type": "markdown",
   "metadata": {},
   "source": [
    "Сначала посчитаем статистическую значимость различий в конверсии и среднем чеке между группами по «сырым» данным — без удаления аномальных пользователей. Подготовим данные для статистического анализа."
   ]
  },
  {
   "cell_type": "code",
   "execution_count": 42,
   "metadata": {},
   "outputs": [],
   "source": [
    "#посчитаем количество пользователей в выбранную дату в группе A\n",
    "visitorsADaily = visitors[visitors['group'] == 'A'][['date', 'visitors']]\n",
    "visitorsADaily.columns = ['date', 'visitorsPerDateA']"
   ]
  },
  {
   "cell_type": "code",
   "execution_count": 43,
   "metadata": {},
   "outputs": [],
   "source": [
    "#посчитаем количество пользователей до выбранной даты включительно в группе A\n",
    "visitorsACummulative = visitorsADaily.apply(\n",
    "    lambda x: visitorsADaily[visitorsADaily['date'] <= x['date']].agg(\n",
    "        {'date': 'max', 'visitorsPerDateA': 'sum'}), axis=1, )\n",
    "visitorsACummulative.columns = ['date', 'visitorsCummulativeA']"
   ]
  },
  {
   "cell_type": "code",
   "execution_count": 44,
   "metadata": {},
   "outputs": [],
   "source": [
    "#посчитаем количество пользователей в выбранную дату в группе В\n",
    "visitorsBDaily = visitors[visitors['group'] == 'B'][['date', 'visitors']]\n",
    "visitorsBDaily.columns = ['date', 'visitorsPerDateB']"
   ]
  },
  {
   "cell_type": "code",
   "execution_count": 45,
   "metadata": {},
   "outputs": [],
   "source": [
    "#посчитаем количество пользователей до выбранной даты включительно в группе В\n",
    "visitorsBCummulative = visitorsBDaily.apply(\n",
    "        lambda x: visitorsBDaily[visitorsBDaily['date'] <= x['date']].agg(\n",
    "            {'date': 'max', 'visitorsPerDateB': 'sum'}), axis=1, )\n",
    "visitorsBCummulative.columns = ['date', 'visitorsCummulativeB']"
   ]
  },
  {
   "cell_type": "code",
   "execution_count": 46,
   "metadata": {},
   "outputs": [],
   "source": [
    "#количество заказов и суммарная выручка в выбранную дату в группе A\n",
    "ordersADaily = (\n",
    "    orders[orders['group'] == 'A'][['date', 'transactionId', 'visitorId', 'revenue']]\n",
    "    .groupby('date', as_index=False)\n",
    "    .agg({'transactionId': pd.Series.nunique, 'revenue': 'sum'}))\n",
    "ordersADaily.columns = ['date', 'ordersPerDateA', 'revenuePerDateA']"
   ]
  },
  {
   "cell_type": "code",
   "execution_count": 47,
   "metadata": {},
   "outputs": [],
   "source": [
    "#суммарное число заказов и суммарная выручка до выбранной даты включительно в группе A\n",
    "ordersACummulative = ordersADaily.apply(\n",
    "    lambda x: ordersADaily[ordersADaily['date'] <= x['date']].agg(\n",
    "        {'date': 'max', 'ordersPerDateA': 'sum', 'revenuePerDateA': 'sum'}), axis=1, \n",
    "        ).sort_values(by=['date'])\n",
    "ordersACummulative.columns = ['date', 'ordersCummulativeA', 'revenueCummulativeA']"
   ]
  },
  {
   "cell_type": "code",
   "execution_count": 48,
   "metadata": {},
   "outputs": [],
   "source": [
    "#количество заказов и суммарная выручка в выбранную дату в группе В\n",
    "ordersBDaily = (\n",
    "    orders[orders['group'] == 'B'][['date', 'transactionId', 'visitorId', 'revenue']]\n",
    "    .groupby('date', as_index=False)\n",
    "    .agg({'transactionId': pd.Series.nunique, 'revenue': 'sum'}))\n",
    "ordersBDaily.columns = ['date', 'ordersPerDateB', 'revenuePerDateB']"
   ]
  },
  {
   "cell_type": "code",
   "execution_count": 49,
   "metadata": {},
   "outputs": [],
   "source": [
    "#суммарное число заказов и суммарная выручка до выбранной даты включительно в группе В\n",
    "ordersBCummulative = ordersBDaily.apply(\n",
    "    lambda x: ordersBDaily[ordersBDaily['date'] <= x['date']].agg(\n",
    "        {'date': 'max', 'ordersPerDateB': 'sum', 'revenuePerDateB': 'sum'}), axis=1,\n",
    "        ).sort_values(by=['date'])\n",
    "ordersBCummulative.columns = ['date', 'ordersCummulativeB', 'revenueCummulativeB']"
   ]
  },
  {
   "cell_type": "code",
   "execution_count": 50,
   "metadata": {},
   "outputs": [
    {
     "data": {
      "text/html": [
       "<div>\n",
       "<style scoped>\n",
       "    .dataframe tbody tr th:only-of-type {\n",
       "        vertical-align: middle;\n",
       "    }\n",
       "\n",
       "    .dataframe tbody tr th {\n",
       "        vertical-align: top;\n",
       "    }\n",
       "\n",
       "    .dataframe thead th {\n",
       "        text-align: right;\n",
       "    }\n",
       "</style>\n",
       "<table border=\"1\" class=\"dataframe\">\n",
       "  <thead>\n",
       "    <tr style=\"text-align: right;\">\n",
       "      <th></th>\n",
       "      <th>date</th>\n",
       "      <th>ordersPerDateA</th>\n",
       "      <th>revenuePerDateA</th>\n",
       "      <th>ordersPerDateB</th>\n",
       "      <th>revenuePerDateB</th>\n",
       "      <th>ordersCummulativeA</th>\n",
       "      <th>revenueCummulativeA</th>\n",
       "      <th>ordersCummulativeB</th>\n",
       "      <th>revenueCummulativeB</th>\n",
       "      <th>visitorsPerDateA</th>\n",
       "      <th>visitorsPerDateB</th>\n",
       "      <th>visitorsCummulativeA</th>\n",
       "      <th>visitorsCummulativeB</th>\n",
       "    </tr>\n",
       "  </thead>\n",
       "  <tbody>\n",
       "    <tr>\n",
       "      <td>0</td>\n",
       "      <td>2019-08-01</td>\n",
       "      <td>23</td>\n",
       "      <td>142779</td>\n",
       "      <td>17</td>\n",
       "      <td>59758</td>\n",
       "      <td>23</td>\n",
       "      <td>142779</td>\n",
       "      <td>17</td>\n",
       "      <td>59758</td>\n",
       "      <td>719</td>\n",
       "      <td>713</td>\n",
       "      <td>719</td>\n",
       "      <td>713</td>\n",
       "    </tr>\n",
       "    <tr>\n",
       "      <td>1</td>\n",
       "      <td>2019-08-02</td>\n",
       "      <td>19</td>\n",
       "      <td>91602</td>\n",
       "      <td>23</td>\n",
       "      <td>162043</td>\n",
       "      <td>42</td>\n",
       "      <td>234381</td>\n",
       "      <td>40</td>\n",
       "      <td>221801</td>\n",
       "      <td>619</td>\n",
       "      <td>581</td>\n",
       "      <td>1338</td>\n",
       "      <td>1294</td>\n",
       "    </tr>\n",
       "    <tr>\n",
       "      <td>2</td>\n",
       "      <td>2019-08-03</td>\n",
       "      <td>24</td>\n",
       "      <td>112473</td>\n",
       "      <td>14</td>\n",
       "      <td>67049</td>\n",
       "      <td>66</td>\n",
       "      <td>346854</td>\n",
       "      <td>54</td>\n",
       "      <td>288850</td>\n",
       "      <td>507</td>\n",
       "      <td>509</td>\n",
       "      <td>1845</td>\n",
       "      <td>1803</td>\n",
       "    </tr>\n",
       "    <tr>\n",
       "      <td>3</td>\n",
       "      <td>2019-08-04</td>\n",
       "      <td>11</td>\n",
       "      <td>41176</td>\n",
       "      <td>14</td>\n",
       "      <td>96890</td>\n",
       "      <td>77</td>\n",
       "      <td>388030</td>\n",
       "      <td>68</td>\n",
       "      <td>385740</td>\n",
       "      <td>717</td>\n",
       "      <td>770</td>\n",
       "      <td>2562</td>\n",
       "      <td>2573</td>\n",
       "    </tr>\n",
       "    <tr>\n",
       "      <td>4</td>\n",
       "      <td>2019-08-05</td>\n",
       "      <td>22</td>\n",
       "      <td>86383</td>\n",
       "      <td>21</td>\n",
       "      <td>89908</td>\n",
       "      <td>99</td>\n",
       "      <td>474413</td>\n",
       "      <td>89</td>\n",
       "      <td>475648</td>\n",
       "      <td>756</td>\n",
       "      <td>707</td>\n",
       "      <td>3318</td>\n",
       "      <td>3280</td>\n",
       "    </tr>\n",
       "  </tbody>\n",
       "</table>\n",
       "</div>"
      ],
      "text/plain": [
       "        date  ordersPerDateA  revenuePerDateA  ordersPerDateB  \\\n",
       "0 2019-08-01  23              142779           17               \n",
       "1 2019-08-02  19              91602            23               \n",
       "2 2019-08-03  24              112473           14               \n",
       "3 2019-08-04  11              41176            14               \n",
       "4 2019-08-05  22              86383            21               \n",
       "\n",
       "   revenuePerDateB  ordersCummulativeA  revenueCummulativeA  \\\n",
       "0  59758            23                  142779                \n",
       "1  162043           42                  234381                \n",
       "2  67049            66                  346854                \n",
       "3  96890            77                  388030                \n",
       "4  89908            99                  474413                \n",
       "\n",
       "   ordersCummulativeB  revenueCummulativeB  visitorsPerDateA  \\\n",
       "0  17                  59758                719                \n",
       "1  40                  221801               619                \n",
       "2  54                  288850               507                \n",
       "3  68                  385740               717                \n",
       "4  89                  475648               756                \n",
       "\n",
       "   visitorsPerDateB  visitorsCummulativeA  visitorsCummulativeB  \n",
       "0  713               719                   713                   \n",
       "1  581               1338                  1294                  \n",
       "2  509               1845                  1803                  \n",
       "3  770               2562                  2573                  \n",
       "4  707               3318                  3280                  "
      ]
     },
     "metadata": {},
     "output_type": "display_data"
    }
   ],
   "source": [
    "#объединим все полученные данные в датафрейм\n",
    "data = (ordersADaily.merge(ordersBDaily, left_on='date', right_on='date', how='left')\n",
    "    .merge(ordersACummulative, left_on='date', right_on='date', how='left')\n",
    "    .merge(ordersBCummulative, left_on='date', right_on='date', how='left')\n",
    "    .merge(visitorsADaily, left_on='date', right_on='date', how='left')\n",
    "    .merge(visitorsBDaily, left_on='date', right_on='date', how='left')\n",
    "    .merge(visitorsACummulative, left_on='date', right_on='date', how='left')\n",
    "    .merge(visitorsBCummulative, left_on='date', right_on='date', how='left')\n",
    ")\n",
    "\n",
    "display(data.head())"
   ]
  },
  {
   "cell_type": "markdown",
   "metadata": {},
   "source": [
    "Можно приступать к расчёту статистической значимости."
   ]
  },
  {
   "cell_type": "markdown",
   "metadata": {},
   "source": [
    "#### Различия в конверсии между группами"
   ]
  },
  {
   "cell_type": "code",
   "execution_count": 51,
   "metadata": {},
   "outputs": [],
   "source": [
    "#посчитаем число совершённых заказов для пользователей, которые заказывали хотя бы 1 раз\n",
    "ordersByUsersA = (orders[orders['group'] == 'A'].groupby('visitorId', as_index=False)\n",
    "    .agg({'transactionId': pd.Series.nunique}))\n",
    "ordersByUsersA.columns = ['visitorId', 'orders']\n",
    "\n",
    "ordersByUsersB = (orders[orders['group'] == 'B'].groupby('visitorId', as_index=False)\n",
    "    .agg({'transactionId': pd.Series.nunique}))\n",
    "ordersByUsersB.columns = ['visitorId', 'orders']"
   ]
  },
  {
   "cell_type": "code",
   "execution_count": 52,
   "metadata": {},
   "outputs": [],
   "source": [
    "#создадим список из заказов каждого пользователя из группы А (в том числе тех, кто ничего не заказал)\n",
    "sampleA = pd.concat([ordersByUsersA['orders'],\n",
    "                pd.Series(0, \n",
    "                index=np.arange(data['visitorsPerDateA'].sum() - len(ordersByUsersA['orders'])),\n",
    "                name='orders')], axis=0)"
   ]
  },
  {
   "cell_type": "code",
   "execution_count": 53,
   "metadata": {},
   "outputs": [],
   "source": [
    "#создадим список из заказов каждого пользователя из группы B (в том числе тех, кто ничего не заказал)\n",
    "sampleB = pd.concat([ordersByUsersB['orders'],\n",
    "                pd.Series(0, \n",
    "                index=np.arange(data['visitorsPerDateB'].sum() - len(ordersByUsersB['orders'])),\n",
    "                name='orders')], axis=0)"
   ]
  },
  {
   "cell_type": "markdown",
   "metadata": {},
   "source": [
    "Проверим различия в конверсии двух групп по критерию Манна-Уитни. Нулевая гипотеза: различий в конверсии между двумя выборками нет. Альтернативная гипотеза: конверсии двух выборок различаются. Дополнительно вычислим относительный прирост конверсии группы B по формуле \"конверсия группы B / конверсия группы A - 1\". "
   ]
  },
  {
   "cell_type": "code",
   "execution_count": 54,
   "metadata": {},
   "outputs": [],
   "source": [
    "alpha = 0.05 #зададим уровень статистической значимости"
   ]
  },
  {
   "cell_type": "code",
   "execution_count": 55,
   "metadata": {},
   "outputs": [
    {
     "data": {
      "text/plain": [
       "'P-value: 0.011'"
      ]
     },
     "metadata": {},
     "output_type": "display_data"
    },
    {
     "data": {
      "text/plain": [
       "'Относительный прирост конверсии группы B: 15.98%'"
      ]
     },
     "metadata": {},
     "output_type": "display_data"
    }
   ],
   "source": [
    "display('P-value: {0:.3f}'.format(st.mannwhitneyu(sampleA, sampleB, True, 'two-sided')[1]))\n",
    "display('Относительный прирост конверсии группы B: {0:.2%}'.format(sampleB.mean() / sampleA.mean() - 1))"
   ]
  },
  {
   "cell_type": "markdown",
   "metadata": {},
   "source": [
    "P-value по результатам теста Манна-Уитни намного ниже уровня статистической значимости, следовательно, отвергаем нулевую гипотезу: значимые различия в конверсии двух выборок есть. Относительный прирост конверсии группы B к конверсии группы А составляет почти 16%, то есть по «сырым» данным в группе В больше пользователей совершили хотя бы один заказ."
   ]
  },
  {
   "cell_type": "markdown",
   "metadata": {},
   "source": [
    "#### Различия в среднем чеке заказа между группами"
   ]
  },
  {
   "cell_type": "markdown",
   "metadata": {},
   "source": [
    "Посчитаем статистическую значимость различий в среднем чеке заказа между группами. Нулевая гипотеза для теста Манна-Уитни: величина среднего чека в двух выборках одинакова. Альтернативная гипотеза: величина среднего чека в двух выборках значимо отличается."
   ]
  },
  {
   "cell_type": "code",
   "execution_count": 56,
   "metadata": {},
   "outputs": [
    {
     "data": {
      "text/plain": [
       "'P-value: 0.829'"
      ]
     },
     "metadata": {},
     "output_type": "display_data"
    },
    {
     "data": {
      "text/plain": [
       "'Относительный прирост среднего чека группы B: 28.66%'"
      ]
     },
     "metadata": {},
     "output_type": "display_data"
    }
   ],
   "source": [
    "display('P-value: {0:.3f}'.format(st.mannwhitneyu(orders[orders['group']=='A']['revenue'], \n",
    "                                  orders[orders['group']=='B']['revenue'], True, 'two-sided')[1]))\n",
    "display('Относительный прирост среднего чека группы B: {0:.2%}'.format(\n",
    "    orders[orders['group']=='B']['revenue'].mean()/orders[orders['group']=='A']['revenue'].mean()-1))"
   ]
  },
  {
   "cell_type": "markdown",
   "metadata": {},
   "source": [
    "P-value значительно больше 0,05, следовательно, причин отвергать нулевую гипотезу и считать, что в среднем чеке есть различия, нет. Однако средний чек группы B значительно больше среднего чека группы A: относительный прирост по «сырым» данным составляет 28,66%. Это очевидное влияние выбросов, которые мы обнаружили ранее. Очистим данные от аномальных значений и проведём повторные тесты для сравнения."
   ]
  },
  {
   "cell_type": "markdown",
   "metadata": {},
   "source": [
    "### Статистический анализ «очищенных» данных"
   ]
  },
  {
   "cell_type": "markdown",
   "metadata": {},
   "source": [
    "За аномальных пользователей примем тех, кто совершил более 2 заказов или совершил заказ дороже 53904 у.е. Так мы уберём 1% пользователей с наибольшим числом заказов и 1% пользователей с дорогими заказами."
   ]
  },
  {
   "cell_type": "code",
   "execution_count": 57,
   "metadata": {},
   "outputs": [],
   "source": [
    "#получим список пользователей с наибольшим числом заказов\n",
    "usersWithManyOrders = pd.concat(\n",
    "            [ordersByUsersA[ordersByUsersA['orders'] > 2]['visitorId'], \n",
    "             ordersByUsersB[ordersByUsersB['orders'] > 2]['visitorId']], axis=0)"
   ]
  },
  {
   "cell_type": "code",
   "execution_count": 58,
   "metadata": {},
   "outputs": [],
   "source": [
    "#получим список пользователей с аномально дорогими заказами\n",
    "usersWithExpensiveOrders = orders[orders['revenue'] > 53904]['visitorId']"
   ]
  },
  {
   "cell_type": "code",
   "execution_count": 59,
   "metadata": {},
   "outputs": [],
   "source": [
    "#объединим их в таблице abnormalUsers\n",
    "abnormalUsers = (pd.concat([usersWithManyOrders, usersWithExpensiveOrders], axis=0\n",
    "                          ).drop_duplicates().sort_values())"
   ]
  },
  {
   "cell_type": "code",
   "execution_count": 60,
   "metadata": {},
   "outputs": [
    {
     "data": {
      "text/plain": [
       "16"
      ]
     },
     "execution_count": 60,
     "metadata": {},
     "output_type": "execute_result"
    }
   ],
   "source": [
    "#узнаем общее число аномальных пользователей\n",
    "abnormalUsers.shape[0]"
   ]
  },
  {
   "cell_type": "markdown",
   "metadata": {},
   "source": [
    "Всего 16 аномальных пользователей. Узнаем, как их действия повлияли на результаты теста."
   ]
  },
  {
   "cell_type": "markdown",
   "metadata": {},
   "source": [
    "#### Различия в конверсии между группами"
   ]
  },
  {
   "cell_type": "code",
   "execution_count": 61,
   "metadata": {},
   "outputs": [],
   "source": [
    "#удалим аномальных пользователей из группы А\n",
    "sampleAFiltered = pd.concat(\n",
    "        [ordersByUsersA[np.logical_not(ordersByUsersA['visitorId'].isin(abnormalUsers))]['orders'],\n",
    "        pd.Series(0, index=np.arange(data['visitorsPerDateA'].sum() - len(ordersByUsersA['orders'])\n",
    "        ), name='orders')], axis=0)"
   ]
  },
  {
   "cell_type": "code",
   "execution_count": 62,
   "metadata": {},
   "outputs": [],
   "source": [
    "#удалим аномальных пользователей из группы В\n",
    "sampleBFiltered = pd.concat(\n",
    "        [ordersByUsersB[np.logical_not(ordersByUsersB['visitorId'].isin(abnormalUsers))]['orders'],\n",
    "        pd.Series(0, index=np.arange(data['visitorsPerDateB'].sum() - len(ordersByUsersB['orders'])\n",
    "        ), name='orders')], axis=0)"
   ]
  },
  {
   "cell_type": "code",
   "execution_count": 63,
   "metadata": {},
   "outputs": [
    {
     "data": {
      "text/plain": [
       "'P-value: 0.007'"
      ]
     },
     "metadata": {},
     "output_type": "display_data"
    },
    {
     "data": {
      "text/plain": [
       "'Относительный прирост конверсии группы B: 18.92%'"
      ]
     },
     "metadata": {},
     "output_type": "display_data"
    }
   ],
   "source": [
    "display('P-value: {0:.3f}'.format(st.mannwhitneyu(sampleAFiltered, sampleBFiltered, True, 'two-sided')[1]))\n",
    "display('Относительный прирост конверсии группы B: {0:.2%}'\n",
    "        .format(sampleBFiltered.mean()/sampleAFiltered.mean()-1))"
   ]
  },
  {
   "cell_type": "markdown",
   "metadata": {},
   "source": [
    "P-value теста на «очищенных» данных снова намного ниже уровня статистической значимости. Можно уверенно говорить о наличии значимых различий в конверсии между двумя группами. Относительный прирост конверсии группы B к конверсии группы А после фильтрации аномалий немного увеличился и составляет 19%."
   ]
  },
  {
   "cell_type": "markdown",
   "metadata": {},
   "source": [
    "#### Различия в среднем чеке заказа между группами"
   ]
  },
  {
   "cell_type": "code",
   "execution_count": 64,
   "metadata": {},
   "outputs": [
    {
     "data": {
      "text/plain": [
       "'P-value: 0.788'"
      ]
     },
     "metadata": {},
     "output_type": "display_data"
    },
    {
     "data": {
      "text/plain": [
       "'Относительный прирост среднего чека группы B: -3.23%'"
      ]
     },
     "metadata": {},
     "output_type": "display_data"
    }
   ],
   "source": [
    "display('P-value: {0:.3f}'.format(st.mannwhitneyu(\n",
    "        orders[np.logical_and(orders['group'] == 'A', \n",
    "               np.logical_not(orders['visitorId'].isin(abnormalUsers)))]['revenue'],\n",
    "        orders[np.logical_and(orders['group'] == 'B',\n",
    "               np.logical_not(orders['visitorId'].isin(abnormalUsers)))]['revenue'], \n",
    "               True, 'two-sided')[1]))\n",
    "\n",
    "display('Относительный прирост среднего чека группы B: {0:.2%}'.format(\n",
    "        orders[np.logical_and(orders['group'] == 'B',\n",
    "               np.logical_not(orders['visitorId'].isin(abnormalUsers)))]['revenue'].mean() /\n",
    "        orders[np.logical_and(orders['group'] == 'A',\n",
    "               np.logical_not(orders['visitorId'].isin(abnormalUsers)))]['revenue'].mean() - 1 ))"
   ]
  },
  {
   "cell_type": "markdown",
   "metadata": {},
   "source": [
    "P-value снова значительно больше 0,05, следовательно, статистически значимого различия по среднему чеку между группами нет. Относительный прирост среднего чека группы B по данным после фильтрации аномалий стал отрицательным, в целом разница между группами небольшая - 3%."
   ]
  },
  {
   "cell_type": "markdown",
   "metadata": {},
   "source": [
    "### Результат A/B-теста"
   ]
  },
  {
   "cell_type": "markdown",
   "metadata": {},
   "source": [
    "По результатам проведенного теста выделим следующие факты:\n",
    "1. Как по «сырым», так и по данным после фильтрации аномалий тест Манна-Уитни показывает наличие статистически значимого различия по конверсии между группами.\n",
    "2. График различия конверсии показывает, что результаты группы B стабильно лучше группы А: в среднем на 15% с десятого дня эксперимента. Относительный прирост конверсии группы B после фильтрации аномалий составляет 19%.\n",
    "3. Нет статистически значимого различия по среднему чеку между группами ни по «сырым», ни по данным после фильтрации аномалий.\n",
    "\n",
    "Исходя из обнаруженных фактов, тест можно остановить, зафиксировав победу группы B. Тестируемое на этой группе пользователей нововведение позволило значительно увеличить конверсию, следовательно, и выручку интернет-магазина. Также в группе В было зафиксировано два самых дорогих заказа, которые тоже могут быть косвенно связаны с проводимым экспериментом."
   ]
  },
  {
   "cell_type": "markdown",
   "metadata": {},
   "source": [
    "## Общий вывод"
   ]
  },
  {
   "cell_type": "markdown",
   "metadata": {},
   "source": [
    "**Приоритизация гипотез**\n",
    "\n",
    "Перед проведением A/B-теста был подготовлен список из девяти гипотез по увеличению выручки интернет-магазина. Мы приоритизировали данные гипотезы с использованием фреймворков ICE и RICE и получили следующие результаты:\n",
    "1. Топ-3 гипотез по ICE:\n",
    "    - №9 \"Запустить акцию, дающую скидку на товар в день рождения\" (16,2 баллов); \n",
    "    - №1 \"Добавить два новых канала привлечения трафика, что позволит привлекать на 30% больше пользователей\" (13,3 баллов); и \n",
    "    - №8 \"Добавить форму подписки на все основные страницы, чтобы собрать базу клиентов для email-рассылок\" (11,2 баллов).\n",
    "2. Топ-3 гипотез по RICE:\n",
    "    - №8 \"Добавить форму подписки на все основные страницы, чтобы собрать базу клиентов для email-рассылок\" (112 баллов);\n",
    "    - №3 \"Добавить блоки рекомендаций товаров на сайт интернет магазина, чтобы повысить конверсию и средний чек заказа\" (56 баллов); и\n",
    "    - №1 \"Добавить два новых канала привлечения трафика, что позволит привлекать на 30% больше пользователей\" (40 баллов).\n",
    "3. Разница в результатах вызвана параметром Reach (охват пользователей по 10-балльной шкале). У гипотезы №8 он самый широкий - если добавить форму на все основные страницы, все посетители сайта её заметят. А вот день рождения у каждого пользователя сайта бывает только раз в год, поэтому охват аудитории у этой идеи самый низкий и в приоритизации по RICE она находится на пятом месте.\n",
    "\n",
    "**Анализ A/B-теста**\n",
    "\n",
    "По результатам проведенного A/B-теста мы получили информацию о заказах и пользователях, которые их совершали. Эксперимент проводился с 1 по 31 августа 2019 года, пользователи были поделены на две группы - А и В. Мы обнаружили 58 человек, которые одновременно попали в обе группы теста, и перед анализом результатов удалили этих пользователей из выборки. Изучение данных принесло следующие результаты:\n",
    "1. График кумулятивной выручки по группам показал равномерный темп роста выручки в обеих группах, за исключением резкого всплеска в группе В 19 августа 2019 года, когда был сделан аномально дорогой заказ на 1294500 у.е. \n",
    "2. По той же причине всплеск в группе В был зафиксирован на графике, показывающем кумулятивный средний чек по группам. Значения среднего чека в группе В колебались от 3,5 до 10,5 тыс. у.е., к концу периода наблюдается тенденция к снижению. Величина среднего чека в группе А с 14 августа установилась на значении около 7 тыс. у.е.\n",
    "3. Кумулятивная конверсия группы B зафиксировалась около 0.029, конверсия группы А - около 0.025. График относительного прироста конверсии показывает, что с десятого дня эксперимента результаты группы B лучше группы А в среднем на 15%. \n",
    "4. 95% пользователей оформили один заказ. 1% пользователей сделали больше двух заказов. За аномальных пользователей были приняты те, кто совершил более 2 заказов.\n",
    "5. Стоимость 95% заказов не превысила 27 тыс. у.е., 1% заказов стоил дороже 53904 у.е. За аномальных пользователей были приняты те, кто совершил заказ дороже 53904 у.е.\n",
    "6. Есть статистически значимое различие по конверсии между группами. Относительный прирост конверсии группы B к конверсии группы А по «сырым» данным составил 16%, после фильтрации аномалий - 19%.\n",
    "7. Нет статистически значимого различия по среднему чеку между группами ни по «сырым», ни по данным после фильтрации аномалий.\n",
    "8. Исходя из обнаруженных фактов, тест решено остановить, зафиксировав победу группы B. Тестируемое на группе В нововведение позволило значительно увеличить конверсию посещения в покупку, а значит, и выручку интернет-магазина."
   ]
  }
 ],
 "metadata": {
  "ExecuteTimeLog": [
   {
    "duration": 623,
    "start_time": "2021-10-10T12:31:45.210Z"
   },
   {
    "duration": 16,
    "start_time": "2021-10-10T12:42:39.272Z"
   },
   {
    "duration": 7,
    "start_time": "2021-10-10T12:42:52.462Z"
   },
   {
    "duration": 12,
    "start_time": "2021-10-10T12:43:12.077Z"
   },
   {
    "duration": 57,
    "start_time": "2021-10-10T12:47:23.944Z"
   },
   {
    "duration": 10,
    "start_time": "2021-10-10T12:47:55.026Z"
   },
   {
    "duration": 195,
    "start_time": "2021-10-10T12:54:18.002Z"
   },
   {
    "duration": 5,
    "start_time": "2021-10-10T12:54:32.548Z"
   },
   {
    "duration": 10,
    "start_time": "2021-10-10T12:54:58.814Z"
   },
   {
    "duration": 4,
    "start_time": "2021-10-10T12:57:05.225Z"
   },
   {
    "duration": 57,
    "start_time": "2021-10-10T12:57:06.332Z"
   },
   {
    "duration": 11,
    "start_time": "2021-10-10T12:57:08.852Z"
   },
   {
    "duration": 4,
    "start_time": "2021-10-10T12:57:22.224Z"
   },
   {
    "duration": 10,
    "start_time": "2021-10-10T12:57:23.308Z"
   },
   {
    "duration": 4,
    "start_time": "2021-10-10T13:01:09.227Z"
   },
   {
    "duration": 145,
    "start_time": "2021-10-10T13:01:38.755Z"
   },
   {
    "duration": 9,
    "start_time": "2021-10-10T13:02:00.045Z"
   },
   {
    "duration": 12,
    "start_time": "2021-10-10T14:29:27.018Z"
   },
   {
    "duration": 12,
    "start_time": "2021-10-10T14:30:07.569Z"
   },
   {
    "duration": 11,
    "start_time": "2021-10-10T14:31:29.733Z"
   },
   {
    "duration": 5,
    "start_time": "2021-10-10T15:43:56.261Z"
   },
   {
    "duration": 5,
    "start_time": "2021-10-10T15:44:02.637Z"
   },
   {
    "duration": 4,
    "start_time": "2021-10-10T15:44:08.935Z"
   },
   {
    "duration": 168,
    "start_time": "2021-10-10T15:44:23.072Z"
   },
   {
    "duration": 147,
    "start_time": "2021-10-10T15:44:31.052Z"
   },
   {
    "duration": 140,
    "start_time": "2021-10-10T15:44:37.594Z"
   },
   {
    "duration": 4,
    "start_time": "2021-10-10T15:44:43.351Z"
   },
   {
    "duration": 21366,
    "start_time": "2021-10-10T15:44:53.364Z"
   },
   {
    "duration": 4,
    "start_time": "2021-10-10T15:45:25.608Z"
   },
   {
    "duration": 6,
    "start_time": "2021-10-10T15:45:41.576Z"
   },
   {
    "duration": 5,
    "start_time": "2021-10-10T15:45:45.336Z"
   },
   {
    "duration": 4,
    "start_time": "2021-10-10T15:46:00.394Z"
   },
   {
    "duration": 4,
    "start_time": "2021-10-10T15:46:08.115Z"
   },
   {
    "duration": 19,
    "start_time": "2021-10-10T15:46:36.019Z"
   },
   {
    "duration": 6,
    "start_time": "2021-10-10T15:50:58.530Z"
   },
   {
    "duration": 5,
    "start_time": "2021-10-10T15:51:44.872Z"
   },
   {
    "duration": 18,
    "start_time": "2021-10-10T15:51:58.383Z"
   },
   {
    "duration": 22,
    "start_time": "2021-10-10T15:52:11.480Z"
   },
   {
    "duration": 193,
    "start_time": "2021-10-10T15:52:41.156Z"
   },
   {
    "duration": 191,
    "start_time": "2021-10-10T15:52:54.741Z"
   },
   {
    "duration": 7,
    "start_time": "2021-10-10T15:53:19.779Z"
   },
   {
    "duration": 4,
    "start_time": "2021-10-10T15:54:25.793Z"
   },
   {
    "duration": 5,
    "start_time": "2021-10-10T15:54:44.771Z"
   },
   {
    "duration": 180,
    "start_time": "2021-10-10T15:55:19.734Z"
   },
   {
    "duration": 11,
    "start_time": "2021-10-10T16:15:42.953Z"
   },
   {
    "duration": 6,
    "start_time": "2021-10-10T16:15:43.828Z"
   },
   {
    "duration": 4,
    "start_time": "2021-10-10T16:16:10.419Z"
   },
   {
    "duration": 7,
    "start_time": "2021-10-10T16:16:36.653Z"
   },
   {
    "duration": 1650,
    "start_time": "2021-10-10T16:17:29.023Z"
   },
   {
    "duration": 150,
    "start_time": "2021-10-10T16:17:38.435Z"
   },
   {
    "duration": 159,
    "start_time": "2021-10-10T16:18:43.949Z"
   },
   {
    "duration": 146,
    "start_time": "2021-10-10T16:19:11.305Z"
   },
   {
    "duration": 151,
    "start_time": "2021-10-10T16:19:30.292Z"
   },
   {
    "duration": 146,
    "start_time": "2021-10-10T16:19:36.952Z"
   },
   {
    "duration": 8,
    "start_time": "2021-10-10T16:19:53.928Z"
   },
   {
    "duration": 8,
    "start_time": "2021-10-10T16:21:19.857Z"
   },
   {
    "duration": 8,
    "start_time": "2021-10-10T16:21:28.108Z"
   },
   {
    "duration": 10,
    "start_time": "2021-10-10T16:21:59.860Z"
   },
   {
    "duration": 9,
    "start_time": "2021-10-10T16:22:07.285Z"
   },
   {
    "duration": 367,
    "start_time": "2021-10-10T16:23:01.504Z"
   },
   {
    "duration": 8,
    "start_time": "2021-10-10T16:23:18.061Z"
   },
   {
    "duration": 9,
    "start_time": "2021-10-10T16:23:38.640Z"
   },
   {
    "duration": 1113,
    "start_time": "2021-10-10T16:27:28.933Z"
   },
   {
    "duration": 7,
    "start_time": "2021-10-10T16:27:59.106Z"
   },
   {
    "duration": 9,
    "start_time": "2021-10-10T16:28:10.355Z"
   },
   {
    "duration": 623,
    "start_time": "2021-10-10T16:29:31.716Z"
   },
   {
    "duration": 84,
    "start_time": "2021-10-10T16:29:32.341Z"
   },
   {
    "duration": 14,
    "start_time": "2021-10-10T16:29:32.427Z"
   },
   {
    "duration": 11,
    "start_time": "2021-10-10T16:29:32.443Z"
   },
   {
    "duration": 14,
    "start_time": "2021-10-10T16:29:32.455Z"
   },
   {
    "duration": 9,
    "start_time": "2021-10-10T16:29:32.470Z"
   },
   {
    "duration": 12,
    "start_time": "2021-10-10T16:29:32.481Z"
   },
   {
    "duration": 19,
    "start_time": "2021-10-10T16:29:32.495Z"
   },
   {
    "duration": 6,
    "start_time": "2021-10-10T16:29:32.516Z"
   },
   {
    "duration": 5,
    "start_time": "2021-10-10T16:29:32.523Z"
   },
   {
    "duration": 16,
    "start_time": "2021-10-10T16:29:32.530Z"
   },
   {
    "duration": 9,
    "start_time": "2021-10-10T16:29:32.547Z"
   },
   {
    "duration": 9,
    "start_time": "2021-10-10T16:29:32.558Z"
   },
   {
    "duration": 12,
    "start_time": "2021-10-10T16:29:32.569Z"
   },
   {
    "duration": 7,
    "start_time": "2021-10-10T16:29:32.603Z"
   },
   {
    "duration": 10,
    "start_time": "2021-10-10T16:29:32.611Z"
   },
   {
    "duration": 12,
    "start_time": "2021-10-10T16:29:32.623Z"
   },
   {
    "duration": 5,
    "start_time": "2021-10-10T16:59:30.579Z"
   },
   {
    "duration": 4,
    "start_time": "2021-10-10T16:59:40.332Z"
   },
   {
    "duration": 7,
    "start_time": "2021-10-10T16:59:48.107Z"
   },
   {
    "duration": 5,
    "start_time": "2021-10-10T17:00:02.545Z"
   },
   {
    "duration": 10,
    "start_time": "2021-10-10T17:01:01.068Z"
   },
   {
    "duration": 9,
    "start_time": "2021-10-10T17:01:17.469Z"
   },
   {
    "duration": 9,
    "start_time": "2021-10-10T17:01:24.685Z"
   },
   {
    "duration": 12,
    "start_time": "2021-10-10T17:01:34.330Z"
   },
   {
    "duration": 5,
    "start_time": "2021-10-10T17:02:10.587Z"
   },
   {
    "duration": 9,
    "start_time": "2021-10-10T17:02:29.304Z"
   },
   {
    "duration": 4,
    "start_time": "2021-10-10T17:05:15.014Z"
   },
   {
    "duration": 424,
    "start_time": "2021-10-10T17:09:31.361Z"
   },
   {
    "duration": 9,
    "start_time": "2021-10-10T17:11:21.415Z"
   },
   {
    "duration": 9,
    "start_time": "2021-10-10T17:11:47.825Z"
   },
   {
    "duration": 255,
    "start_time": "2021-10-10T17:12:08.818Z"
   },
   {
    "duration": 10,
    "start_time": "2021-10-10T17:12:17.812Z"
   },
   {
    "duration": 164,
    "start_time": "2021-10-10T17:12:34.685Z"
   },
   {
    "duration": 7,
    "start_time": "2021-10-10T17:12:54.725Z"
   },
   {
    "duration": 8,
    "start_time": "2021-10-10T17:13:12.423Z"
   },
   {
    "duration": 8,
    "start_time": "2021-10-10T17:13:24.610Z"
   },
   {
    "duration": 142,
    "start_time": "2021-10-10T17:14:06.375Z"
   },
   {
    "duration": 8,
    "start_time": "2021-10-10T17:14:13.313Z"
   },
   {
    "duration": 8,
    "start_time": "2021-10-10T17:14:22.971Z"
   },
   {
    "duration": 139,
    "start_time": "2021-10-10T17:15:27.511Z"
   },
   {
    "duration": 7,
    "start_time": "2021-10-10T17:15:43.343Z"
   },
   {
    "duration": 8,
    "start_time": "2021-10-10T17:16:41.151Z"
   },
   {
    "duration": 8,
    "start_time": "2021-10-10T17:17:32.110Z"
   },
   {
    "duration": 8,
    "start_time": "2021-10-10T17:17:52.652Z"
   },
   {
    "duration": 6,
    "start_time": "2021-10-10T17:20:58.759Z"
   },
   {
    "duration": 4,
    "start_time": "2021-10-10T17:26:36.118Z"
   },
   {
    "duration": 4,
    "start_time": "2021-10-10T17:27:03.370Z"
   },
   {
    "duration": 4508,
    "start_time": "2021-10-10T17:32:17.925Z"
   },
   {
    "duration": 12,
    "start_time": "2021-10-10T17:33:10.995Z"
   },
   {
    "duration": 8,
    "start_time": "2021-10-10T17:33:41.976Z"
   },
   {
    "duration": 15,
    "start_time": "2021-10-10T17:34:36.551Z"
   },
   {
    "duration": 20,
    "start_time": "2021-10-10T17:35:21.593Z"
   },
   {
    "duration": 16,
    "start_time": "2021-10-10T17:36:11.654Z"
   },
   {
    "duration": 12,
    "start_time": "2021-10-10T17:36:21.722Z"
   },
   {
    "duration": 17,
    "start_time": "2021-10-10T17:36:35.510Z"
   },
   {
    "duration": 12,
    "start_time": "2021-10-10T17:37:02.511Z"
   },
   {
    "duration": 3516,
    "start_time": "2021-10-10T17:37:09.779Z"
   },
   {
    "duration": 11,
    "start_time": "2021-10-10T17:38:37.817Z"
   },
   {
    "duration": 3668,
    "start_time": "2021-10-10T17:38:38.851Z"
   },
   {
    "duration": 13,
    "start_time": "2021-10-10T17:39:01.157Z"
   },
   {
    "duration": 175,
    "start_time": "2021-10-10T17:39:51.553Z"
   },
   {
    "duration": 14,
    "start_time": "2021-10-10T17:39:59.919Z"
   },
   {
    "duration": 1015,
    "start_time": "2021-10-10T17:40:21.215Z"
   },
   {
    "duration": 78,
    "start_time": "2021-10-10T17:40:22.232Z"
   },
   {
    "duration": 16,
    "start_time": "2021-10-10T17:40:22.312Z"
   },
   {
    "duration": 6,
    "start_time": "2021-10-10T17:40:22.330Z"
   },
   {
    "duration": 10,
    "start_time": "2021-10-10T17:40:22.337Z"
   },
   {
    "duration": 4,
    "start_time": "2021-10-10T17:40:22.349Z"
   },
   {
    "duration": 11,
    "start_time": "2021-10-10T17:40:22.355Z"
   },
   {
    "duration": 37,
    "start_time": "2021-10-10T17:40:22.369Z"
   },
   {
    "duration": 9,
    "start_time": "2021-10-10T17:40:22.408Z"
   },
   {
    "duration": 4,
    "start_time": "2021-10-10T17:40:22.419Z"
   },
   {
    "duration": 7,
    "start_time": "2021-10-10T17:40:22.425Z"
   },
   {
    "duration": 11,
    "start_time": "2021-10-10T17:40:22.434Z"
   },
   {
    "duration": 5,
    "start_time": "2021-10-10T17:40:22.447Z"
   },
   {
    "duration": 59,
    "start_time": "2021-10-10T17:40:22.454Z"
   },
   {
    "duration": 2,
    "start_time": "2021-10-10T17:40:22.515Z"
   },
   {
    "duration": 13,
    "start_time": "2021-10-10T17:40:22.519Z"
   },
   {
    "duration": 5,
    "start_time": "2021-10-10T17:40:22.534Z"
   },
   {
    "duration": 5,
    "start_time": "2021-10-10T17:40:22.540Z"
   },
   {
    "duration": 10,
    "start_time": "2021-10-10T17:40:22.547Z"
   },
   {
    "duration": 10,
    "start_time": "2021-10-10T17:40:22.559Z"
   },
   {
    "duration": 16,
    "start_time": "2021-10-10T17:40:45.252Z"
   },
   {
    "duration": 10,
    "start_time": "2021-10-10T17:41:04.422Z"
   },
   {
    "duration": 9,
    "start_time": "2021-10-10T17:41:15.154Z"
   },
   {
    "duration": 7,
    "start_time": "2021-10-10T17:41:22.008Z"
   },
   {
    "duration": 14,
    "start_time": "2021-10-10T17:41:32.218Z"
   },
   {
    "duration": 5,
    "start_time": "2021-10-10T17:41:48.262Z"
   },
   {
    "duration": 5,
    "start_time": "2021-10-10T17:42:07.477Z"
   },
   {
    "duration": 4,
    "start_time": "2021-10-10T17:42:47.328Z"
   },
   {
    "duration": 9,
    "start_time": "2021-10-10T17:44:15.284Z"
   },
   {
    "duration": 9,
    "start_time": "2021-10-10T17:46:59.808Z"
   },
   {
    "duration": 4,
    "start_time": "2021-10-10T17:47:08.436Z"
   },
   {
    "duration": 5,
    "start_time": "2021-10-10T17:47:27.488Z"
   },
   {
    "duration": 10,
    "start_time": "2021-10-10T17:47:39.592Z"
   },
   {
    "duration": 930,
    "start_time": "2021-10-10T17:47:49.458Z"
   },
   {
    "duration": 67,
    "start_time": "2021-10-10T17:47:50.390Z"
   },
   {
    "duration": 13,
    "start_time": "2021-10-10T17:47:50.459Z"
   },
   {
    "duration": 5,
    "start_time": "2021-10-10T17:47:50.474Z"
   },
   {
    "duration": 10,
    "start_time": "2021-10-10T17:47:50.480Z"
   },
   {
    "duration": 7,
    "start_time": "2021-10-10T17:47:50.491Z"
   },
   {
    "duration": 11,
    "start_time": "2021-10-10T17:47:50.499Z"
   },
   {
    "duration": 10,
    "start_time": "2021-10-10T17:47:50.512Z"
   },
   {
    "duration": 7,
    "start_time": "2021-10-10T17:47:50.524Z"
   },
   {
    "duration": 5,
    "start_time": "2021-10-10T17:47:50.532Z"
   },
   {
    "duration": 8,
    "start_time": "2021-10-10T17:47:50.538Z"
   },
   {
    "duration": 9,
    "start_time": "2021-10-10T17:47:50.548Z"
   },
   {
    "duration": 3,
    "start_time": "2021-10-10T17:47:50.558Z"
   },
   {
    "duration": 39,
    "start_time": "2021-10-10T17:47:50.563Z"
   },
   {
    "duration": 3,
    "start_time": "2021-10-10T17:47:50.604Z"
   },
   {
    "duration": 6,
    "start_time": "2021-10-10T17:47:50.609Z"
   },
   {
    "duration": 8,
    "start_time": "2021-10-10T17:47:50.617Z"
   },
   {
    "duration": 17,
    "start_time": "2021-10-10T17:47:50.627Z"
   },
   {
    "duration": 5,
    "start_time": "2021-10-10T17:47:50.645Z"
   },
   {
    "duration": 4,
    "start_time": "2021-10-10T17:47:50.652Z"
   },
   {
    "duration": 8,
    "start_time": "2021-10-10T17:47:50.657Z"
   },
   {
    "duration": 36,
    "start_time": "2021-10-10T17:47:50.666Z"
   },
   {
    "duration": 1384,
    "start_time": "2021-10-11T06:31:54.012Z"
   },
   {
    "duration": 71,
    "start_time": "2021-10-11T06:31:55.399Z"
   },
   {
    "duration": 24,
    "start_time": "2021-10-11T06:31:55.473Z"
   },
   {
    "duration": 13,
    "start_time": "2021-10-11T06:31:55.501Z"
   },
   {
    "duration": 16,
    "start_time": "2021-10-11T06:31:55.517Z"
   },
   {
    "duration": 9,
    "start_time": "2021-10-11T06:31:55.536Z"
   },
   {
    "duration": 24,
    "start_time": "2021-10-11T06:31:55.547Z"
   },
   {
    "duration": 41,
    "start_time": "2021-10-11T06:31:55.574Z"
   },
   {
    "duration": 9,
    "start_time": "2021-10-11T06:31:55.625Z"
   },
   {
    "duration": 20,
    "start_time": "2021-10-11T06:31:55.638Z"
   },
   {
    "duration": 30,
    "start_time": "2021-10-11T06:31:55.661Z"
   },
   {
    "duration": 15,
    "start_time": "2021-10-11T06:31:55.693Z"
   },
   {
    "duration": 16,
    "start_time": "2021-10-11T06:31:55.722Z"
   },
   {
    "duration": 16,
    "start_time": "2021-10-11T06:31:55.740Z"
   },
   {
    "duration": 19,
    "start_time": "2021-10-11T06:31:55.758Z"
   },
   {
    "duration": 10,
    "start_time": "2021-10-11T06:31:55.779Z"
   },
   {
    "duration": 14,
    "start_time": "2021-10-11T06:31:55.791Z"
   },
   {
    "duration": 26,
    "start_time": "2021-10-11T06:31:55.807Z"
   },
   {
    "duration": 9,
    "start_time": "2021-10-11T06:31:55.836Z"
   },
   {
    "duration": 9,
    "start_time": "2021-10-11T06:31:55.848Z"
   },
   {
    "duration": 11,
    "start_time": "2021-10-11T06:31:55.860Z"
   },
   {
    "duration": 58,
    "start_time": "2021-10-11T06:31:55.874Z"
   },
   {
    "duration": 1146,
    "start_time": "2021-10-11T06:41:32.038Z"
   },
   {
    "duration": 8,
    "start_time": "2021-10-11T06:42:32.162Z"
   },
   {
    "duration": 84,
    "start_time": "2021-10-11T06:44:49.019Z"
   },
   {
    "duration": 350,
    "start_time": "2021-10-11T06:44:57.667Z"
   },
   {
    "duration": 16,
    "start_time": "2021-10-11T06:45:13.116Z"
   },
   {
    "duration": 257,
    "start_time": "2021-10-11T06:46:35.672Z"
   },
   {
    "duration": 10,
    "start_time": "2021-10-11T06:47:33.908Z"
   },
   {
    "duration": 10,
    "start_time": "2021-10-11T06:47:55.413Z"
   },
   {
    "duration": 8,
    "start_time": "2021-10-11T06:48:56.668Z"
   },
   {
    "duration": 7,
    "start_time": "2021-10-11T06:49:54.177Z"
   },
   {
    "duration": 329,
    "start_time": "2021-10-11T06:50:34.186Z"
   },
   {
    "duration": 9,
    "start_time": "2021-10-11T06:51:54.751Z"
   },
   {
    "duration": 11,
    "start_time": "2021-10-11T06:52:29.376Z"
   },
   {
    "duration": 7,
    "start_time": "2021-10-11T06:52:30.440Z"
   },
   {
    "duration": 7,
    "start_time": "2021-10-11T06:52:31.289Z"
   },
   {
    "duration": 546,
    "start_time": "2021-10-11T06:52:32.206Z"
   },
   {
    "duration": 511,
    "start_time": "2021-10-11T06:53:10.364Z"
   },
   {
    "duration": 513,
    "start_time": "2021-10-11T06:53:25.021Z"
   },
   {
    "duration": 12,
    "start_time": "2021-10-11T06:54:05.427Z"
   },
   {
    "duration": 8,
    "start_time": "2021-10-11T06:54:06.342Z"
   },
   {
    "duration": 7,
    "start_time": "2021-10-11T06:54:07.139Z"
   },
   {
    "duration": 451,
    "start_time": "2021-10-11T06:54:07.975Z"
   },
   {
    "duration": 423,
    "start_time": "2021-10-11T06:55:23.733Z"
   },
   {
    "duration": 644,
    "start_time": "2021-10-11T06:55:45.197Z"
   },
   {
    "duration": 558,
    "start_time": "2021-10-11T06:56:07.880Z"
   },
   {
    "duration": 538,
    "start_time": "2021-10-11T06:57:28.138Z"
   },
   {
    "duration": 588,
    "start_time": "2021-10-11T06:57:44.806Z"
   },
   {
    "duration": 455,
    "start_time": "2021-10-11T06:57:53.455Z"
   },
   {
    "duration": 493,
    "start_time": "2021-10-11T06:58:25.761Z"
   },
   {
    "duration": 477,
    "start_time": "2021-10-11T06:58:35.615Z"
   },
   {
    "duration": 453,
    "start_time": "2021-10-11T06:58:44.007Z"
   },
   {
    "duration": 13,
    "start_time": "2021-10-11T07:03:01.642Z"
   },
   {
    "duration": 5,
    "start_time": "2021-10-11T07:03:42.329Z"
   },
   {
    "duration": 374,
    "start_time": "2021-10-11T07:09:51.840Z"
   },
   {
    "duration": 481,
    "start_time": "2021-10-11T07:10:46.874Z"
   },
   {
    "duration": 12,
    "start_time": "2021-10-11T07:13:18.512Z"
   },
   {
    "duration": 8,
    "start_time": "2021-10-11T07:13:30.612Z"
   },
   {
    "duration": 7,
    "start_time": "2021-10-11T07:13:38.651Z"
   },
   {
    "duration": 6,
    "start_time": "2021-10-11T07:13:51.992Z"
   },
   {
    "duration": 6,
    "start_time": "2021-10-11T07:13:59.722Z"
   },
   {
    "duration": 6,
    "start_time": "2021-10-11T07:20:52.187Z"
   },
   {
    "duration": 6,
    "start_time": "2021-10-11T07:20:59.190Z"
   },
   {
    "duration": 458,
    "start_time": "2021-10-11T07:26:08.236Z"
   },
   {
    "duration": 549,
    "start_time": "2021-10-11T07:29:32.103Z"
   },
   {
    "duration": 564,
    "start_time": "2021-10-11T07:31:42.301Z"
   },
   {
    "duration": 758,
    "start_time": "2021-10-11T07:31:50.211Z"
   },
   {
    "duration": 5,
    "start_time": "2021-10-11T07:37:20.877Z"
   },
   {
    "duration": 7,
    "start_time": "2021-10-11T07:37:49.271Z"
   },
   {
    "duration": 281,
    "start_time": "2021-10-11T07:38:02.958Z"
   },
   {
    "duration": 294,
    "start_time": "2021-10-11T07:38:18.026Z"
   },
   {
    "duration": 378,
    "start_time": "2021-10-11T07:38:36.048Z"
   },
   {
    "duration": 496,
    "start_time": "2021-10-11T07:55:59.156Z"
   },
   {
    "duration": 476,
    "start_time": "2021-10-11T07:56:58.459Z"
   },
   {
    "duration": 9,
    "start_time": "2021-10-11T08:08:51.421Z"
   },
   {
    "duration": 8,
    "start_time": "2021-10-11T08:09:09.736Z"
   },
   {
    "duration": 6,
    "start_time": "2021-10-11T08:09:59.285Z"
   },
   {
    "duration": 529,
    "start_time": "2021-10-11T08:13:46.096Z"
   },
   {
    "duration": 556,
    "start_time": "2021-10-11T08:14:34.626Z"
   },
   {
    "duration": 568,
    "start_time": "2021-10-11T08:16:21.610Z"
   },
   {
    "duration": 569,
    "start_time": "2021-10-11T08:21:08.495Z"
   },
   {
    "duration": 576,
    "start_time": "2021-10-11T08:21:18.814Z"
   },
   {
    "duration": 571,
    "start_time": "2021-10-11T08:23:17.158Z"
   },
   {
    "duration": 472,
    "start_time": "2021-10-11T08:23:42.055Z"
   },
   {
    "duration": 536,
    "start_time": "2021-10-11T08:23:51.527Z"
   },
   {
    "duration": 472,
    "start_time": "2021-10-11T08:24:02.370Z"
   },
   {
    "duration": 537,
    "start_time": "2021-10-11T08:27:39.342Z"
   },
   {
    "duration": 558,
    "start_time": "2021-10-11T08:27:55.430Z"
   },
   {
    "duration": 12,
    "start_time": "2021-10-11T08:32:21.856Z"
   },
   {
    "duration": 190,
    "start_time": "2021-10-11T08:33:23.356Z"
   },
   {
    "duration": 201,
    "start_time": "2021-10-11T08:33:42.646Z"
   },
   {
    "duration": 303,
    "start_time": "2021-10-11T08:34:03.320Z"
   },
   {
    "duration": 383,
    "start_time": "2021-10-11T08:34:37.130Z"
   },
   {
    "duration": 408,
    "start_time": "2021-10-11T08:38:33.977Z"
   },
   {
    "duration": 432,
    "start_time": "2021-10-11T08:38:40.602Z"
   },
   {
    "duration": 451,
    "start_time": "2021-10-11T08:38:46.597Z"
   },
   {
    "duration": 8,
    "start_time": "2021-10-11T08:41:19.565Z"
   },
   {
    "duration": 6,
    "start_time": "2021-10-11T08:41:39.732Z"
   },
   {
    "duration": 7,
    "start_time": "2021-10-11T08:41:46.402Z"
   },
   {
    "duration": 271,
    "start_time": "2021-10-11T08:50:05.354Z"
   },
   {
    "duration": 511,
    "start_time": "2021-10-11T08:50:40.924Z"
   },
   {
    "duration": 443,
    "start_time": "2021-10-11T08:53:25.011Z"
   },
   {
    "duration": 32,
    "start_time": "2021-10-11T08:53:58.459Z"
   },
   {
    "duration": 13,
    "start_time": "2021-10-11T08:54:08.339Z"
   },
   {
    "duration": 585,
    "start_time": "2021-10-11T09:01:11.197Z"
   },
   {
    "duration": 7,
    "start_time": "2021-10-11T09:01:19.973Z"
   },
   {
    "duration": 3,
    "start_time": "2021-10-11T09:05:27.727Z"
   },
   {
    "duration": 1288,
    "start_time": "2021-10-11T09:10:29.215Z"
   },
   {
    "duration": 74,
    "start_time": "2021-10-11T09:10:30.506Z"
   },
   {
    "duration": 27,
    "start_time": "2021-10-11T09:10:30.584Z"
   },
   {
    "duration": 19,
    "start_time": "2021-10-11T09:10:30.615Z"
   },
   {
    "duration": 56,
    "start_time": "2021-10-11T09:10:30.637Z"
   },
   {
    "duration": 32,
    "start_time": "2021-10-11T09:10:30.696Z"
   },
   {
    "duration": 33,
    "start_time": "2021-10-11T09:10:30.731Z"
   },
   {
    "duration": 58,
    "start_time": "2021-10-11T09:10:30.768Z"
   },
   {
    "duration": 31,
    "start_time": "2021-10-11T09:10:30.829Z"
   },
   {
    "duration": 36,
    "start_time": "2021-10-11T09:10:30.862Z"
   },
   {
    "duration": 36,
    "start_time": "2021-10-11T09:10:30.901Z"
   },
   {
    "duration": 36,
    "start_time": "2021-10-11T09:10:30.940Z"
   },
   {
    "duration": 33,
    "start_time": "2021-10-11T09:10:30.978Z"
   },
   {
    "duration": 31,
    "start_time": "2021-10-11T09:10:31.014Z"
   },
   {
    "duration": 34,
    "start_time": "2021-10-11T09:10:31.048Z"
   },
   {
    "duration": 46,
    "start_time": "2021-10-11T09:10:31.084Z"
   },
   {
    "duration": 46,
    "start_time": "2021-10-11T09:10:31.133Z"
   },
   {
    "duration": 48,
    "start_time": "2021-10-11T09:10:31.182Z"
   },
   {
    "duration": 38,
    "start_time": "2021-10-11T09:10:31.233Z"
   },
   {
    "duration": 56,
    "start_time": "2021-10-11T09:10:31.274Z"
   },
   {
    "duration": 36,
    "start_time": "2021-10-11T09:10:31.332Z"
   },
   {
    "duration": 30,
    "start_time": "2021-10-11T09:10:31.371Z"
   },
   {
    "duration": 35,
    "start_time": "2021-10-11T09:10:31.408Z"
   },
   {
    "duration": 358,
    "start_time": "2021-10-11T09:10:31.445Z"
   },
   {
    "duration": 276,
    "start_time": "2021-10-11T09:10:31.805Z"
   },
   {
    "duration": 11,
    "start_time": "2021-10-11T09:10:32.083Z"
   },
   {
    "duration": 33,
    "start_time": "2021-10-11T09:10:32.096Z"
   },
   {
    "duration": 25,
    "start_time": "2021-10-11T09:10:32.132Z"
   },
   {
    "duration": 486,
    "start_time": "2021-10-11T09:10:32.159Z"
   },
   {
    "duration": 512,
    "start_time": "2021-10-11T09:10:32.648Z"
   },
   {
    "duration": 577,
    "start_time": "2021-10-11T09:10:33.162Z"
   },
   {
    "duration": 7,
    "start_time": "2021-10-11T09:10:33.741Z"
   },
   {
    "duration": 40,
    "start_time": "2021-10-11T09:10:33.750Z"
   },
   {
    "duration": 489,
    "start_time": "2021-10-11T09:10:33.793Z"
   },
   {
    "duration": 594,
    "start_time": "2021-10-11T09:10:34.285Z"
   },
   {
    "duration": 177,
    "start_time": "2021-10-11T09:10:34.882Z"
   },
   {
    "duration": 384,
    "start_time": "2021-10-11T09:10:35.061Z"
   },
   {
    "duration": 7,
    "start_time": "2021-10-11T09:10:35.447Z"
   },
   {
    "duration": 401,
    "start_time": "2021-10-11T09:10:35.457Z"
   },
   {
    "duration": 13,
    "start_time": "2021-10-11T09:10:35.861Z"
   },
   {
    "duration": 6,
    "start_time": "2021-10-11T09:10:35.876Z"
   },
   {
    "duration": 8,
    "start_time": "2021-10-11T09:18:59.960Z"
   },
   {
    "duration": 90,
    "start_time": "2021-10-11T09:20:03.629Z"
   },
   {
    "duration": 7,
    "start_time": "2021-10-11T09:20:37.870Z"
   },
   {
    "duration": 89,
    "start_time": "2021-10-11T09:21:03.472Z"
   },
   {
    "duration": 398,
    "start_time": "2021-10-11T09:22:27.791Z"
   },
   {
    "duration": 23,
    "start_time": "2021-10-11T09:23:21.616Z"
   },
   {
    "duration": 91,
    "start_time": "2021-10-11T09:24:53.317Z"
   },
   {
    "duration": 75,
    "start_time": "2021-10-11T09:24:57.375Z"
   },
   {
    "duration": 99,
    "start_time": "2021-10-11T09:25:14.284Z"
   },
   {
    "duration": 24,
    "start_time": "2021-10-11T09:25:25.070Z"
   },
   {
    "duration": 100,
    "start_time": "2021-10-11T09:25:34.958Z"
   },
   {
    "duration": 278,
    "start_time": "2021-10-11T09:26:07.978Z"
   },
   {
    "duration": 24,
    "start_time": "2021-10-11T09:27:03.470Z"
   },
   {
    "duration": 24,
    "start_time": "2021-10-11T09:27:06.025Z"
   },
   {
    "duration": 102,
    "start_time": "2021-10-11T09:28:08.044Z"
   },
   {
    "duration": 50,
    "start_time": "2021-10-11T09:29:20.834Z"
   },
   {
    "duration": 218,
    "start_time": "2021-10-11T09:37:36.734Z"
   },
   {
    "duration": 7,
    "start_time": "2021-10-11T09:42:13.092Z"
   },
   {
    "duration": 8,
    "start_time": "2021-10-11T09:42:20.943Z"
   },
   {
    "duration": 6,
    "start_time": "2021-10-11T09:44:31.037Z"
   },
   {
    "duration": 6,
    "start_time": "2021-10-11T09:44:41.217Z"
   },
   {
    "duration": 5,
    "start_time": "2021-10-11T09:44:42.207Z"
   },
   {
    "duration": 14,
    "start_time": "2021-10-11T09:45:59.315Z"
   },
   {
    "duration": 11,
    "start_time": "2021-10-11T09:51:27.523Z"
   },
   {
    "duration": 3,
    "start_time": "2021-10-11T09:52:34.842Z"
   },
   {
    "duration": 11,
    "start_time": "2021-10-11T09:52:36.019Z"
   },
   {
    "duration": 10,
    "start_time": "2021-10-11T09:52:50.793Z"
   },
   {
    "duration": 252,
    "start_time": "2021-10-11T09:53:06.208Z"
   },
   {
    "duration": 14,
    "start_time": "2021-10-11T09:53:11.811Z"
   },
   {
    "duration": 11,
    "start_time": "2021-10-11T09:53:23.756Z"
   },
   {
    "duration": 527,
    "start_time": "2021-10-11T10:00:30.335Z"
   },
   {
    "duration": 16,
    "start_time": "2021-10-11T10:00:37.973Z"
   },
   {
    "duration": 18,
    "start_time": "2021-10-11T10:02:27.115Z"
   },
   {
    "duration": 7,
    "start_time": "2021-10-11T10:08:51.027Z"
   },
   {
    "duration": 6,
    "start_time": "2021-10-11T10:09:34.196Z"
   },
   {
    "duration": 9,
    "start_time": "2021-10-11T10:10:46.436Z"
   },
   {
    "duration": 6,
    "start_time": "2021-10-11T10:11:04.270Z"
   },
   {
    "duration": 6,
    "start_time": "2021-10-11T10:11:22.582Z"
   },
   {
    "duration": 5,
    "start_time": "2021-10-11T10:11:34.323Z"
   },
   {
    "duration": 1377,
    "start_time": "2021-10-11T10:12:47.309Z"
   },
   {
    "duration": 70,
    "start_time": "2021-10-11T10:12:48.689Z"
   },
   {
    "duration": 47,
    "start_time": "2021-10-11T10:12:48.763Z"
   },
   {
    "duration": 34,
    "start_time": "2021-10-11T10:12:48.813Z"
   },
   {
    "duration": 32,
    "start_time": "2021-10-11T10:12:48.850Z"
   },
   {
    "duration": 42,
    "start_time": "2021-10-11T10:12:48.884Z"
   },
   {
    "duration": 48,
    "start_time": "2021-10-11T10:12:48.928Z"
   },
   {
    "duration": 43,
    "start_time": "2021-10-11T10:12:48.980Z"
   },
   {
    "duration": 33,
    "start_time": "2021-10-11T10:12:49.026Z"
   },
   {
    "duration": 39,
    "start_time": "2021-10-11T10:12:49.061Z"
   },
   {
    "duration": 42,
    "start_time": "2021-10-11T10:12:49.102Z"
   },
   {
    "duration": 47,
    "start_time": "2021-10-11T10:12:49.146Z"
   },
   {
    "duration": 26,
    "start_time": "2021-10-11T10:12:49.196Z"
   },
   {
    "duration": 36,
    "start_time": "2021-10-11T10:12:49.224Z"
   },
   {
    "duration": 48,
    "start_time": "2021-10-11T10:12:49.263Z"
   },
   {
    "duration": 30,
    "start_time": "2021-10-11T10:12:49.313Z"
   },
   {
    "duration": 39,
    "start_time": "2021-10-11T10:12:49.345Z"
   },
   {
    "duration": 61,
    "start_time": "2021-10-11T10:12:49.387Z"
   },
   {
    "duration": 34,
    "start_time": "2021-10-11T10:12:49.451Z"
   },
   {
    "duration": 30,
    "start_time": "2021-10-11T10:12:49.488Z"
   },
   {
    "duration": 27,
    "start_time": "2021-10-11T10:12:49.520Z"
   },
   {
    "duration": 39,
    "start_time": "2021-10-11T10:12:49.556Z"
   },
   {
    "duration": 25,
    "start_time": "2021-10-11T10:12:49.600Z"
   },
   {
    "duration": 350,
    "start_time": "2021-10-11T10:12:49.628Z"
   },
   {
    "duration": 289,
    "start_time": "2021-10-11T10:12:49.980Z"
   },
   {
    "duration": 11,
    "start_time": "2021-10-11T10:12:50.271Z"
   },
   {
    "duration": 43,
    "start_time": "2021-10-11T10:12:50.284Z"
   },
   {
    "duration": 31,
    "start_time": "2021-10-11T10:12:50.330Z"
   },
   {
    "duration": 483,
    "start_time": "2021-10-11T10:12:50.363Z"
   },
   {
    "duration": 580,
    "start_time": "2021-10-11T10:12:50.850Z"
   },
   {
    "duration": 555,
    "start_time": "2021-10-11T10:12:51.433Z"
   },
   {
    "duration": 6,
    "start_time": "2021-10-11T10:12:51.991Z"
   },
   {
    "duration": 41,
    "start_time": "2021-10-11T10:12:51.999Z"
   },
   {
    "duration": 473,
    "start_time": "2021-10-11T10:12:52.043Z"
   },
   {
    "duration": 593,
    "start_time": "2021-10-11T10:12:52.522Z"
   },
   {
    "duration": 204,
    "start_time": "2021-10-11T10:12:53.118Z"
   },
   {
    "duration": 444,
    "start_time": "2021-10-11T10:12:53.325Z"
   },
   {
    "duration": 7,
    "start_time": "2021-10-11T10:12:53.771Z"
   },
   {
    "duration": 441,
    "start_time": "2021-10-11T10:12:53.781Z"
   },
   {
    "duration": 15,
    "start_time": "2021-10-11T10:12:54.225Z"
   },
   {
    "duration": 21,
    "start_time": "2021-10-11T10:12:54.242Z"
   },
   {
    "duration": 24,
    "start_time": "2021-10-11T10:12:54.266Z"
   },
   {
    "duration": 151,
    "start_time": "2021-10-11T10:12:54.292Z"
   },
   {
    "duration": 62,
    "start_time": "2021-10-11T10:12:54.446Z"
   },
   {
    "duration": 149,
    "start_time": "2021-10-11T10:12:54.511Z"
   },
   {
    "duration": 57,
    "start_time": "2021-10-11T10:12:54.663Z"
   },
   {
    "duration": 132,
    "start_time": "2021-10-11T10:12:54.723Z"
   },
   {
    "duration": 107,
    "start_time": "2021-10-11T10:12:54.857Z"
   },
   {
    "duration": 115,
    "start_time": "2021-10-11T10:12:54.967Z"
   },
   {
    "duration": 64,
    "start_time": "2021-10-11T10:12:55.084Z"
   },
   {
    "duration": 315,
    "start_time": "2021-10-11T10:12:55.151Z"
   },
   {
    "duration": 6,
    "start_time": "2021-10-11T10:12:55.468Z"
   },
   {
    "duration": 40,
    "start_time": "2021-10-11T10:12:55.477Z"
   },
   {
    "duration": 27,
    "start_time": "2021-10-11T10:12:55.520Z"
   },
   {
    "duration": 34,
    "start_time": "2021-10-11T10:12:55.549Z"
   },
   {
    "duration": 37,
    "start_time": "2021-10-11T10:12:55.586Z"
   },
   {
    "duration": 12,
    "start_time": "2021-10-11T10:12:55.626Z"
   },
   {
    "duration": 21,
    "start_time": "2021-10-11T10:12:55.640Z"
   },
   {
    "duration": 31,
    "start_time": "2021-10-11T10:12:55.663Z"
   },
   {
    "duration": 24,
    "start_time": "2021-10-11T10:12:55.696Z"
   },
   {
    "duration": 8,
    "start_time": "2021-10-11T10:24:57.433Z"
   },
   {
    "duration": 8,
    "start_time": "2021-10-11T10:25:05.116Z"
   },
   {
    "duration": 338,
    "start_time": "2021-10-11T10:25:25.253Z"
   },
   {
    "duration": 10,
    "start_time": "2021-10-11T10:25:30.492Z"
   },
   {
    "duration": 11,
    "start_time": "2021-10-11T10:26:51.061Z"
   },
   {
    "duration": 11,
    "start_time": "2021-10-11T10:28:40.279Z"
   },
   {
    "duration": 11,
    "start_time": "2021-10-11T10:32:22.784Z"
   },
   {
    "duration": 452,
    "start_time": "2021-10-11T10:38:24.685Z"
   },
   {
    "duration": 13176,
    "start_time": "2021-10-11T10:38:58.150Z"
   },
   {
    "duration": 22,
    "start_time": "2021-10-11T10:39:24.377Z"
   },
   {
    "duration": 21,
    "start_time": "2021-10-11T10:39:40.852Z"
   },
   {
    "duration": 22,
    "start_time": "2021-10-11T10:39:50.066Z"
   },
   {
    "duration": 23,
    "start_time": "2021-10-11T10:39:56.487Z"
   },
   {
    "duration": 1397,
    "start_time": "2021-10-11T11:15:49.392Z"
   },
   {
    "duration": 69,
    "start_time": "2021-10-11T11:15:50.791Z"
   },
   {
    "duration": 21,
    "start_time": "2021-10-11T11:15:50.863Z"
   },
   {
    "duration": 18,
    "start_time": "2021-10-11T11:15:50.887Z"
   },
   {
    "duration": 28,
    "start_time": "2021-10-11T11:15:50.907Z"
   },
   {
    "duration": 22,
    "start_time": "2021-10-11T11:15:50.937Z"
   },
   {
    "duration": 39,
    "start_time": "2021-10-11T11:15:50.962Z"
   },
   {
    "duration": 27,
    "start_time": "2021-10-11T11:15:51.003Z"
   },
   {
    "duration": 13,
    "start_time": "2021-10-11T11:15:51.034Z"
   },
   {
    "duration": 21,
    "start_time": "2021-10-11T11:15:51.050Z"
   },
   {
    "duration": 29,
    "start_time": "2021-10-11T11:15:51.073Z"
   },
   {
    "duration": 42,
    "start_time": "2021-10-11T11:15:51.105Z"
   },
   {
    "duration": 17,
    "start_time": "2021-10-11T11:15:51.149Z"
   },
   {
    "duration": 30,
    "start_time": "2021-10-11T11:15:51.168Z"
   },
   {
    "duration": 22,
    "start_time": "2021-10-11T11:15:51.200Z"
   },
   {
    "duration": 24,
    "start_time": "2021-10-11T11:15:51.225Z"
   },
   {
    "duration": 32,
    "start_time": "2021-10-11T11:15:51.252Z"
   },
   {
    "duration": 25,
    "start_time": "2021-10-11T11:15:51.287Z"
   },
   {
    "duration": 24,
    "start_time": "2021-10-11T11:15:51.315Z"
   },
   {
    "duration": 31,
    "start_time": "2021-10-11T11:15:51.342Z"
   },
   {
    "duration": 25,
    "start_time": "2021-10-11T11:15:51.375Z"
   },
   {
    "duration": 30,
    "start_time": "2021-10-11T11:15:51.403Z"
   },
   {
    "duration": 24,
    "start_time": "2021-10-11T11:15:51.436Z"
   },
   {
    "duration": 346,
    "start_time": "2021-10-11T11:15:51.463Z"
   },
   {
    "duration": 287,
    "start_time": "2021-10-11T11:15:51.812Z"
   },
   {
    "duration": 21,
    "start_time": "2021-10-11T11:15:52.101Z"
   },
   {
    "duration": 15,
    "start_time": "2021-10-11T11:15:52.128Z"
   },
   {
    "duration": 37,
    "start_time": "2021-10-11T11:15:52.146Z"
   },
   {
    "duration": 625,
    "start_time": "2021-10-11T11:15:52.186Z"
   },
   {
    "duration": 497,
    "start_time": "2021-10-11T11:15:52.815Z"
   },
   {
    "duration": 570,
    "start_time": "2021-10-11T11:15:53.314Z"
   },
   {
    "duration": 5,
    "start_time": "2021-10-11T11:15:53.886Z"
   },
   {
    "duration": 41,
    "start_time": "2021-10-11T11:15:53.893Z"
   },
   {
    "duration": 517,
    "start_time": "2021-10-11T11:15:53.937Z"
   },
   {
    "duration": 554,
    "start_time": "2021-10-11T11:15:54.456Z"
   },
   {
    "duration": 241,
    "start_time": "2021-10-11T11:15:55.012Z"
   },
   {
    "duration": 404,
    "start_time": "2021-10-11T11:15:55.255Z"
   },
   {
    "duration": 6,
    "start_time": "2021-10-11T11:15:55.661Z"
   },
   {
    "duration": 440,
    "start_time": "2021-10-11T11:15:55.670Z"
   },
   {
    "duration": 17,
    "start_time": "2021-10-11T11:15:56.113Z"
   },
   {
    "duration": 24,
    "start_time": "2021-10-11T11:15:56.133Z"
   },
   {
    "duration": 22,
    "start_time": "2021-10-11T11:15:56.160Z"
   },
   {
    "duration": 100,
    "start_time": "2021-10-11T11:15:56.185Z"
   },
   {
    "duration": 34,
    "start_time": "2021-10-11T11:15:56.287Z"
   },
   {
    "duration": 101,
    "start_time": "2021-10-11T11:15:56.324Z"
   },
   {
    "duration": 44,
    "start_time": "2021-10-11T11:15:56.428Z"
   },
   {
    "duration": 109,
    "start_time": "2021-10-11T11:15:56.475Z"
   },
   {
    "duration": 63,
    "start_time": "2021-10-11T11:15:56.586Z"
   },
   {
    "duration": 117,
    "start_time": "2021-10-11T11:15:56.651Z"
   },
   {
    "duration": 87,
    "start_time": "2021-10-11T11:15:56.771Z"
   },
   {
    "duration": 203,
    "start_time": "2021-10-11T11:15:56.860Z"
   },
   {
    "duration": 5,
    "start_time": "2021-10-11T11:15:57.065Z"
   },
   {
    "duration": 39,
    "start_time": "2021-10-11T11:15:57.073Z"
   },
   {
    "duration": 34,
    "start_time": "2021-10-11T11:15:57.115Z"
   },
   {
    "duration": 34,
    "start_time": "2021-10-11T11:15:57.152Z"
   },
   {
    "duration": 34,
    "start_time": "2021-10-11T11:15:57.188Z"
   },
   {
    "duration": 19,
    "start_time": "2021-10-11T11:15:57.225Z"
   },
   {
    "duration": 29,
    "start_time": "2021-10-11T11:15:57.247Z"
   },
   {
    "duration": 27,
    "start_time": "2021-10-11T11:15:57.279Z"
   },
   {
    "duration": 56,
    "start_time": "2021-10-11T11:15:57.308Z"
   },
   {
    "duration": 29,
    "start_time": "2021-10-11T11:15:57.366Z"
   },
   {
    "duration": 31,
    "start_time": "2021-10-11T11:15:57.397Z"
   },
   {
    "duration": 33,
    "start_time": "2021-10-11T11:15:57.430Z"
   },
   {
    "duration": 29,
    "start_time": "2021-10-11T11:15:57.465Z"
   },
   {
    "duration": 13,
    "start_time": "2021-10-11T11:23:40.819Z"
   },
   {
    "duration": 13,
    "start_time": "2021-10-11T11:26:34.377Z"
   },
   {
    "duration": 15,
    "start_time": "2021-10-11T11:30:50.794Z"
   },
   {
    "duration": 1332,
    "start_time": "2021-10-11T12:10:04.961Z"
   },
   {
    "duration": 71,
    "start_time": "2021-10-11T12:10:06.296Z"
   },
   {
    "duration": 21,
    "start_time": "2021-10-11T12:10:06.370Z"
   },
   {
    "duration": 31,
    "start_time": "2021-10-11T12:10:06.393Z"
   },
   {
    "duration": 34,
    "start_time": "2021-10-11T12:10:06.427Z"
   },
   {
    "duration": 34,
    "start_time": "2021-10-11T12:10:06.463Z"
   },
   {
    "duration": 58,
    "start_time": "2021-10-11T12:10:06.499Z"
   },
   {
    "duration": 38,
    "start_time": "2021-10-11T12:10:06.561Z"
   },
   {
    "duration": 30,
    "start_time": "2021-10-11T12:10:06.602Z"
   },
   {
    "duration": 39,
    "start_time": "2021-10-11T12:10:06.634Z"
   },
   {
    "duration": 66,
    "start_time": "2021-10-11T12:10:06.676Z"
   },
   {
    "duration": 57,
    "start_time": "2021-10-11T12:10:06.744Z"
   },
   {
    "duration": 30,
    "start_time": "2021-10-11T12:10:06.803Z"
   },
   {
    "duration": 38,
    "start_time": "2021-10-11T12:10:06.836Z"
   },
   {
    "duration": 38,
    "start_time": "2021-10-11T12:10:06.876Z"
   },
   {
    "duration": 52,
    "start_time": "2021-10-11T12:10:06.917Z"
   },
   {
    "duration": 18,
    "start_time": "2021-10-11T12:10:06.972Z"
   },
   {
    "duration": 33,
    "start_time": "2021-10-11T12:10:06.992Z"
   },
   {
    "duration": 40,
    "start_time": "2021-10-11T12:10:07.027Z"
   },
   {
    "duration": 13,
    "start_time": "2021-10-11T12:10:07.069Z"
   },
   {
    "duration": 24,
    "start_time": "2021-10-11T12:10:07.085Z"
   },
   {
    "duration": 31,
    "start_time": "2021-10-11T12:10:07.111Z"
   },
   {
    "duration": 10,
    "start_time": "2021-10-11T12:10:07.148Z"
   },
   {
    "duration": 344,
    "start_time": "2021-10-11T12:10:07.161Z"
   },
   {
    "duration": 271,
    "start_time": "2021-10-11T12:10:07.508Z"
   },
   {
    "duration": 13,
    "start_time": "2021-10-11T12:10:07.782Z"
   },
   {
    "duration": 24,
    "start_time": "2021-10-11T12:10:07.797Z"
   },
   {
    "duration": 27,
    "start_time": "2021-10-11T12:10:07.823Z"
   },
   {
    "duration": 478,
    "start_time": "2021-10-11T12:10:07.852Z"
   },
   {
    "duration": 476,
    "start_time": "2021-10-11T12:10:08.333Z"
   },
   {
    "duration": 554,
    "start_time": "2021-10-11T12:10:08.811Z"
   },
   {
    "duration": 7,
    "start_time": "2021-10-11T12:10:09.368Z"
   },
   {
    "duration": 36,
    "start_time": "2021-10-11T12:10:09.378Z"
   },
   {
    "duration": 483,
    "start_time": "2021-10-11T12:10:09.417Z"
   },
   {
    "duration": 566,
    "start_time": "2021-10-11T12:10:09.903Z"
   },
   {
    "duration": 205,
    "start_time": "2021-10-11T12:10:10.472Z"
   },
   {
    "duration": 460,
    "start_time": "2021-10-11T12:10:10.679Z"
   },
   {
    "duration": 7,
    "start_time": "2021-10-11T12:10:11.141Z"
   },
   {
    "duration": 421,
    "start_time": "2021-10-11T12:10:11.151Z"
   },
   {
    "duration": 13,
    "start_time": "2021-10-11T12:10:11.575Z"
   },
   {
    "duration": 14,
    "start_time": "2021-10-11T12:10:11.590Z"
   },
   {
    "duration": 20,
    "start_time": "2021-10-11T12:10:11.607Z"
   },
   {
    "duration": 112,
    "start_time": "2021-10-11T12:10:11.629Z"
   },
   {
    "duration": 7,
    "start_time": "2021-10-11T12:10:11.743Z"
   },
   {
    "duration": 107,
    "start_time": "2021-10-11T12:10:11.753Z"
   },
   {
    "duration": 27,
    "start_time": "2021-10-11T12:10:11.863Z"
   },
   {
    "duration": 120,
    "start_time": "2021-10-11T12:10:11.892Z"
   },
   {
    "duration": 24,
    "start_time": "2021-10-11T12:10:12.014Z"
   },
   {
    "duration": 116,
    "start_time": "2021-10-11T12:10:12.040Z"
   },
   {
    "duration": 66,
    "start_time": "2021-10-11T12:10:12.158Z"
   },
   {
    "duration": 203,
    "start_time": "2021-10-11T12:10:12.226Z"
   },
   {
    "duration": 8,
    "start_time": "2021-10-11T12:10:12.432Z"
   },
   {
    "duration": 18,
    "start_time": "2021-10-11T12:10:12.443Z"
   },
   {
    "duration": 10,
    "start_time": "2021-10-11T12:10:12.464Z"
   },
   {
    "duration": 28,
    "start_time": "2021-10-11T12:10:12.477Z"
   },
   {
    "duration": 23,
    "start_time": "2021-10-11T12:10:12.524Z"
   },
   {
    "duration": 32,
    "start_time": "2021-10-11T12:10:12.550Z"
   },
   {
    "duration": 16,
    "start_time": "2021-10-11T12:10:12.585Z"
   },
   {
    "duration": 22,
    "start_time": "2021-10-11T12:10:12.604Z"
   },
   {
    "duration": 19,
    "start_time": "2021-10-11T12:10:12.629Z"
   },
   {
    "duration": 20,
    "start_time": "2021-10-11T12:10:12.651Z"
   },
   {
    "duration": 12,
    "start_time": "2021-10-11T12:10:12.674Z"
   },
   {
    "duration": 33,
    "start_time": "2021-10-11T12:10:12.689Z"
   },
   {
    "duration": 31,
    "start_time": "2021-10-11T12:10:12.725Z"
   },
   {
    "duration": 1551,
    "start_time": "2021-10-11T12:15:03.607Z"
   },
   {
    "duration": 77,
    "start_time": "2021-10-11T12:15:05.161Z"
   },
   {
    "duration": 30,
    "start_time": "2021-10-11T12:15:05.241Z"
   },
   {
    "duration": 20,
    "start_time": "2021-10-11T12:15:05.274Z"
   },
   {
    "duration": 25,
    "start_time": "2021-10-11T12:15:05.297Z"
   },
   {
    "duration": 23,
    "start_time": "2021-10-11T12:15:05.324Z"
   },
   {
    "duration": 33,
    "start_time": "2021-10-11T12:15:05.349Z"
   },
   {
    "duration": 49,
    "start_time": "2021-10-11T12:15:05.386Z"
   },
   {
    "duration": 50,
    "start_time": "2021-10-11T12:15:05.439Z"
   },
   {
    "duration": 18,
    "start_time": "2021-10-11T12:15:05.491Z"
   },
   {
    "duration": 14,
    "start_time": "2021-10-11T12:15:05.511Z"
   },
   {
    "duration": 24,
    "start_time": "2021-10-11T12:15:05.527Z"
   },
   {
    "duration": 8,
    "start_time": "2021-10-11T12:15:05.554Z"
   },
   {
    "duration": 21,
    "start_time": "2021-10-11T12:15:05.565Z"
   },
   {
    "duration": 24,
    "start_time": "2021-10-11T12:15:05.588Z"
   },
   {
    "duration": 18,
    "start_time": "2021-10-11T12:15:05.615Z"
   },
   {
    "duration": 23,
    "start_time": "2021-10-11T12:15:05.636Z"
   },
   {
    "duration": 26,
    "start_time": "2021-10-11T12:15:05.661Z"
   },
   {
    "duration": 39,
    "start_time": "2021-10-11T12:15:05.690Z"
   },
   {
    "duration": 23,
    "start_time": "2021-10-11T12:15:05.731Z"
   },
   {
    "duration": 25,
    "start_time": "2021-10-11T12:15:05.756Z"
   },
   {
    "duration": 20,
    "start_time": "2021-10-11T12:15:05.784Z"
   },
   {
    "duration": 19,
    "start_time": "2021-10-11T12:15:05.810Z"
   },
   {
    "duration": 356,
    "start_time": "2021-10-11T12:15:05.833Z"
   },
   {
    "duration": 341,
    "start_time": "2021-10-11T12:15:06.191Z"
   },
   {
    "duration": 16,
    "start_time": "2021-10-11T12:15:06.535Z"
   },
   {
    "duration": 52,
    "start_time": "2021-10-11T12:15:06.554Z"
   },
   {
    "duration": 26,
    "start_time": "2021-10-11T12:15:06.609Z"
   },
   {
    "duration": 492,
    "start_time": "2021-10-11T12:15:06.638Z"
   },
   {
    "duration": 493,
    "start_time": "2021-10-11T12:15:07.133Z"
   },
   {
    "duration": 636,
    "start_time": "2021-10-11T12:15:07.628Z"
   },
   {
    "duration": 5,
    "start_time": "2021-10-11T12:15:08.267Z"
   },
   {
    "duration": 24,
    "start_time": "2021-10-11T12:15:08.275Z"
   },
   {
    "duration": 510,
    "start_time": "2021-10-11T12:15:08.302Z"
   },
   {
    "duration": 692,
    "start_time": "2021-10-11T12:15:08.814Z"
   },
   {
    "duration": 248,
    "start_time": "2021-10-11T12:15:09.508Z"
   },
   {
    "duration": 412,
    "start_time": "2021-10-11T12:15:09.758Z"
   },
   {
    "duration": 6,
    "start_time": "2021-10-11T12:15:10.174Z"
   },
   {
    "duration": 459,
    "start_time": "2021-10-11T12:15:10.183Z"
   },
   {
    "duration": 15,
    "start_time": "2021-10-11T12:15:10.645Z"
   },
   {
    "duration": 18,
    "start_time": "2021-10-11T12:15:10.663Z"
   },
   {
    "duration": 19,
    "start_time": "2021-10-11T12:15:10.684Z"
   },
   {
    "duration": 122,
    "start_time": "2021-10-11T12:15:10.705Z"
   },
   {
    "duration": 10,
    "start_time": "2021-10-11T12:15:10.829Z"
   },
   {
    "duration": 111,
    "start_time": "2021-10-11T12:15:10.842Z"
   },
   {
    "duration": 29,
    "start_time": "2021-10-11T12:15:10.956Z"
   },
   {
    "duration": 142,
    "start_time": "2021-10-11T12:15:10.988Z"
   },
   {
    "duration": 34,
    "start_time": "2021-10-11T12:15:11.133Z"
   },
   {
    "duration": 109,
    "start_time": "2021-10-11T12:15:11.170Z"
   },
   {
    "duration": 86,
    "start_time": "2021-10-11T12:15:11.281Z"
   },
   {
    "duration": 302,
    "start_time": "2021-10-11T12:15:11.369Z"
   },
   {
    "duration": 7,
    "start_time": "2021-10-11T12:15:11.674Z"
   },
   {
    "duration": 29,
    "start_time": "2021-10-11T12:15:11.684Z"
   },
   {
    "duration": 15,
    "start_time": "2021-10-11T12:15:11.716Z"
   },
   {
    "duration": 39,
    "start_time": "2021-10-11T12:15:11.734Z"
   },
   {
    "duration": 21,
    "start_time": "2021-10-11T12:15:11.776Z"
   },
   {
    "duration": 14,
    "start_time": "2021-10-11T12:15:11.800Z"
   },
   {
    "duration": 14,
    "start_time": "2021-10-11T12:15:11.817Z"
   },
   {
    "duration": 20,
    "start_time": "2021-10-11T12:15:11.834Z"
   },
   {
    "duration": 44,
    "start_time": "2021-10-11T12:15:11.857Z"
   },
   {
    "duration": 28,
    "start_time": "2021-10-11T12:15:11.903Z"
   },
   {
    "duration": 13,
    "start_time": "2021-10-11T12:15:11.933Z"
   },
   {
    "duration": 18,
    "start_time": "2021-10-11T12:15:11.949Z"
   },
   {
    "duration": 23,
    "start_time": "2021-10-11T12:15:11.970Z"
   },
   {
    "duration": 1368,
    "start_time": "2021-10-11T14:07:41.414Z"
   },
   {
    "duration": 119,
    "start_time": "2021-10-11T14:07:42.784Z"
   },
   {
    "duration": 21,
    "start_time": "2021-10-11T14:07:42.906Z"
   },
   {
    "duration": 7,
    "start_time": "2021-10-11T14:07:42.930Z"
   },
   {
    "duration": 14,
    "start_time": "2021-10-11T14:07:42.939Z"
   },
   {
    "duration": 6,
    "start_time": "2021-10-11T14:07:42.955Z"
   },
   {
    "duration": 57,
    "start_time": "2021-10-11T14:07:42.964Z"
   },
   {
    "duration": 19,
    "start_time": "2021-10-11T14:07:43.026Z"
   },
   {
    "duration": 11,
    "start_time": "2021-10-11T14:07:43.049Z"
   },
   {
    "duration": 8,
    "start_time": "2021-10-11T14:07:43.102Z"
   },
   {
    "duration": 10,
    "start_time": "2021-10-11T14:07:43.112Z"
   },
   {
    "duration": 13,
    "start_time": "2021-10-11T14:07:43.124Z"
   },
   {
    "duration": 5,
    "start_time": "2021-10-11T14:07:43.140Z"
   },
   {
    "duration": 21,
    "start_time": "2021-10-11T14:07:43.147Z"
   },
   {
    "duration": 33,
    "start_time": "2021-10-11T14:07:43.170Z"
   },
   {
    "duration": 9,
    "start_time": "2021-10-11T14:07:43.206Z"
   },
   {
    "duration": 14,
    "start_time": "2021-10-11T14:07:43.217Z"
   },
   {
    "duration": 15,
    "start_time": "2021-10-11T14:07:43.234Z"
   },
   {
    "duration": 16,
    "start_time": "2021-10-11T14:07:43.252Z"
   },
   {
    "duration": 6,
    "start_time": "2021-10-11T14:07:43.301Z"
   },
   {
    "duration": 11,
    "start_time": "2021-10-11T14:07:43.310Z"
   },
   {
    "duration": 14,
    "start_time": "2021-10-11T14:07:43.323Z"
   },
   {
    "duration": 8,
    "start_time": "2021-10-11T14:07:43.343Z"
   },
   {
    "duration": 394,
    "start_time": "2021-10-11T14:07:43.355Z"
   },
   {
    "duration": 290,
    "start_time": "2021-10-11T14:07:43.751Z"
   },
   {
    "duration": 11,
    "start_time": "2021-10-11T14:07:44.044Z"
   },
   {
    "duration": 9,
    "start_time": "2021-10-11T14:07:44.058Z"
   },
   {
    "duration": 31,
    "start_time": "2021-10-11T14:07:44.070Z"
   },
   {
    "duration": 502,
    "start_time": "2021-10-11T14:07:44.103Z"
   },
   {
    "duration": 709,
    "start_time": "2021-10-11T14:07:44.607Z"
   },
   {
    "duration": 557,
    "start_time": "2021-10-11T14:07:45.318Z"
   },
   {
    "duration": 4,
    "start_time": "2021-10-11T14:07:45.878Z"
   },
   {
    "duration": 17,
    "start_time": "2021-10-11T14:07:45.884Z"
   },
   {
    "duration": 510,
    "start_time": "2021-10-11T14:07:45.903Z"
   },
   {
    "duration": 585,
    "start_time": "2021-10-11T14:07:46.415Z"
   },
   {
    "duration": 203,
    "start_time": "2021-10-11T14:07:47.003Z"
   },
   {
    "duration": 433,
    "start_time": "2021-10-11T14:07:47.208Z"
   },
   {
    "duration": 6,
    "start_time": "2021-10-11T14:07:47.643Z"
   },
   {
    "duration": 417,
    "start_time": "2021-10-11T14:07:47.651Z"
   },
   {
    "duration": 12,
    "start_time": "2021-10-11T14:07:48.071Z"
   },
   {
    "duration": 6,
    "start_time": "2021-10-11T14:07:48.101Z"
   },
   {
    "duration": 12,
    "start_time": "2021-10-11T14:07:48.109Z"
   },
   {
    "duration": 111,
    "start_time": "2021-10-11T14:07:48.124Z"
   },
   {
    "duration": 8,
    "start_time": "2021-10-11T14:07:48.238Z"
   },
   {
    "duration": 102,
    "start_time": "2021-10-11T14:07:48.248Z"
   },
   {
    "duration": 21,
    "start_time": "2021-10-11T14:07:48.353Z"
   },
   {
    "duration": 125,
    "start_time": "2021-10-11T14:07:48.376Z"
   },
   {
    "duration": 27,
    "start_time": "2021-10-11T14:07:48.503Z"
   },
   {
    "duration": 110,
    "start_time": "2021-10-11T14:07:48.532Z"
   },
   {
    "duration": 58,
    "start_time": "2021-10-11T14:07:48.645Z"
   },
   {
    "duration": 229,
    "start_time": "2021-10-11T14:07:48.706Z"
   },
   {
    "duration": 6,
    "start_time": "2021-10-11T14:07:48.938Z"
   },
   {
    "duration": 8,
    "start_time": "2021-10-11T14:07:48.946Z"
   },
   {
    "duration": 7,
    "start_time": "2021-10-11T14:07:48.957Z"
   },
   {
    "duration": 35,
    "start_time": "2021-10-11T14:07:48.967Z"
   },
   {
    "duration": 18,
    "start_time": "2021-10-11T14:07:49.004Z"
   },
   {
    "duration": 7,
    "start_time": "2021-10-11T14:07:49.024Z"
   },
   {
    "duration": 15,
    "start_time": "2021-10-11T14:07:49.033Z"
   },
   {
    "duration": 9,
    "start_time": "2021-10-11T14:07:49.051Z"
   },
   {
    "duration": 39,
    "start_time": "2021-10-11T14:07:49.063Z"
   },
   {
    "duration": 11,
    "start_time": "2021-10-11T14:07:49.105Z"
   },
   {
    "duration": 11,
    "start_time": "2021-10-11T14:07:49.118Z"
   },
   {
    "duration": 12,
    "start_time": "2021-10-11T14:07:49.131Z"
   },
   {
    "duration": 60,
    "start_time": "2021-10-11T14:07:49.145Z"
   },
   {
    "duration": 15,
    "start_time": "2021-10-11T14:21:18.925Z"
   },
   {
    "duration": 5,
    "start_time": "2021-10-11T14:24:38.346Z"
   },
   {
    "duration": 259,
    "start_time": "2021-10-11T17:30:31.565Z"
   },
   {
    "duration": 1024,
    "start_time": "2021-10-11T17:30:37.386Z"
   },
   {
    "duration": 65,
    "start_time": "2021-10-11T17:30:38.414Z"
   },
   {
    "duration": 15,
    "start_time": "2021-10-11T17:30:38.481Z"
   },
   {
    "duration": 10,
    "start_time": "2021-10-11T17:30:38.498Z"
   },
   {
    "duration": 9,
    "start_time": "2021-10-11T17:30:38.509Z"
   },
   {
    "duration": 5,
    "start_time": "2021-10-11T17:30:38.520Z"
   },
   {
    "duration": 11,
    "start_time": "2021-10-11T17:30:38.527Z"
   },
   {
    "duration": 21,
    "start_time": "2021-10-11T17:30:38.541Z"
   },
   {
    "duration": 6,
    "start_time": "2021-10-11T17:30:38.565Z"
   },
   {
    "duration": 6,
    "start_time": "2021-10-11T17:30:38.573Z"
   },
   {
    "duration": 13,
    "start_time": "2021-10-11T17:30:38.580Z"
   },
   {
    "duration": 15,
    "start_time": "2021-10-11T17:30:38.595Z"
   },
   {
    "duration": 5,
    "start_time": "2021-10-11T17:30:38.612Z"
   },
   {
    "duration": 43,
    "start_time": "2021-10-11T17:30:38.618Z"
   },
   {
    "duration": 4,
    "start_time": "2021-10-11T17:30:38.663Z"
   },
   {
    "duration": 7,
    "start_time": "2021-10-11T17:30:38.669Z"
   },
   {
    "duration": 12,
    "start_time": "2021-10-11T17:30:38.677Z"
   },
   {
    "duration": 13,
    "start_time": "2021-10-11T17:30:38.690Z"
   },
   {
    "duration": 13,
    "start_time": "2021-10-11T17:30:38.705Z"
   },
   {
    "duration": 8,
    "start_time": "2021-10-11T17:30:38.720Z"
   },
   {
    "duration": 11,
    "start_time": "2021-10-11T17:30:38.730Z"
   },
   {
    "duration": 22,
    "start_time": "2021-10-11T17:30:38.743Z"
   },
   {
    "duration": 12,
    "start_time": "2021-10-11T17:30:38.767Z"
   },
   {
    "duration": 204,
    "start_time": "2021-10-11T17:30:38.781Z"
   },
   {
    "duration": 182,
    "start_time": "2021-10-11T17:30:38.987Z"
   },
   {
    "duration": 8,
    "start_time": "2021-10-11T17:30:39.173Z"
   },
   {
    "duration": 6,
    "start_time": "2021-10-11T17:30:39.183Z"
   },
   {
    "duration": 7,
    "start_time": "2021-10-11T17:30:39.191Z"
   },
   {
    "duration": 302,
    "start_time": "2021-10-11T17:30:39.200Z"
   },
   {
    "duration": 297,
    "start_time": "2021-10-11T17:30:39.504Z"
   },
   {
    "duration": 410,
    "start_time": "2021-10-11T17:30:39.803Z"
   },
   {
    "duration": 4,
    "start_time": "2021-10-11T17:30:40.215Z"
   },
   {
    "duration": 9,
    "start_time": "2021-10-11T17:30:40.221Z"
   },
   {
    "duration": 304,
    "start_time": "2021-10-11T17:30:40.232Z"
   },
   {
    "duration": 432,
    "start_time": "2021-10-11T17:30:40.538Z"
   },
   {
    "duration": 129,
    "start_time": "2021-10-11T17:30:40.971Z"
   },
   {
    "duration": 308,
    "start_time": "2021-10-11T17:30:41.102Z"
   },
   {
    "duration": 4,
    "start_time": "2021-10-11T17:30:41.412Z"
   },
   {
    "duration": 331,
    "start_time": "2021-10-11T17:30:41.418Z"
   },
   {
    "duration": 11,
    "start_time": "2021-10-11T17:30:41.753Z"
   },
   {
    "duration": 10,
    "start_time": "2021-10-11T17:30:41.766Z"
   },
   {
    "duration": 9,
    "start_time": "2021-10-11T17:30:41.778Z"
   },
   {
    "duration": 75,
    "start_time": "2021-10-11T17:30:41.789Z"
   },
   {
    "duration": 5,
    "start_time": "2021-10-11T17:30:41.865Z"
   },
   {
    "duration": 57,
    "start_time": "2021-10-11T17:30:41.871Z"
   },
   {
    "duration": 30,
    "start_time": "2021-10-11T17:30:41.930Z"
   },
   {
    "duration": 60,
    "start_time": "2021-10-11T17:30:41.962Z"
   },
   {
    "duration": 27,
    "start_time": "2021-10-11T17:30:42.024Z"
   },
   {
    "duration": 65,
    "start_time": "2021-10-11T17:30:42.056Z"
   },
   {
    "duration": 51,
    "start_time": "2021-10-11T17:30:42.123Z"
   },
   {
    "duration": 109,
    "start_time": "2021-10-11T17:30:42.176Z"
   },
   {
    "duration": 4,
    "start_time": "2021-10-11T17:30:42.287Z"
   },
   {
    "duration": 11,
    "start_time": "2021-10-11T17:30:42.293Z"
   },
   {
    "duration": 5,
    "start_time": "2021-10-11T17:30:42.305Z"
   },
   {
    "duration": 15,
    "start_time": "2021-10-11T17:30:42.311Z"
   },
   {
    "duration": 28,
    "start_time": "2021-10-11T17:30:42.328Z"
   },
   {
    "duration": 5,
    "start_time": "2021-10-11T17:30:42.358Z"
   },
   {
    "duration": 6,
    "start_time": "2021-10-11T17:30:42.364Z"
   },
   {
    "duration": 9,
    "start_time": "2021-10-11T17:30:42.372Z"
   },
   {
    "duration": 10,
    "start_time": "2021-10-11T17:30:42.382Z"
   },
   {
    "duration": 10,
    "start_time": "2021-10-11T17:30:42.393Z"
   },
   {
    "duration": 17,
    "start_time": "2021-10-11T17:30:42.405Z"
   },
   {
    "duration": 17,
    "start_time": "2021-10-11T17:30:42.424Z"
   },
   {
    "duration": 28,
    "start_time": "2021-10-11T17:30:42.442Z"
   },
   {
    "duration": 287,
    "start_time": "2021-10-11T17:37:52.864Z"
   },
   {
    "duration": 358,
    "start_time": "2021-10-11T17:38:34.116Z"
   },
   {
    "duration": 298,
    "start_time": "2021-10-11T17:40:30.125Z"
   },
   {
    "duration": 749,
    "start_time": "2021-10-11T17:40:53.323Z"
   },
   {
    "duration": 867,
    "start_time": "2021-10-11T17:42:31.789Z"
   },
   {
    "duration": 803,
    "start_time": "2021-10-11T17:42:56.954Z"
   },
   {
    "duration": 737,
    "start_time": "2021-10-11T17:43:08.193Z"
   },
   {
    "duration": 734,
    "start_time": "2021-10-11T17:44:13.344Z"
   },
   {
    "duration": 910,
    "start_time": "2021-10-11T17:46:06.153Z"
   },
   {
    "duration": 839,
    "start_time": "2021-10-11T17:46:16.661Z"
   },
   {
    "duration": 946,
    "start_time": "2021-10-11T17:46:40.267Z"
   },
   {
    "duration": 897,
    "start_time": "2021-10-11T17:47:13.263Z"
   },
   {
    "duration": 958,
    "start_time": "2021-10-11T17:47:29.762Z"
   },
   {
    "duration": 9,
    "start_time": "2021-10-11T17:52:40.901Z"
   },
   {
    "duration": 8,
    "start_time": "2021-10-11T17:53:56.062Z"
   },
   {
    "duration": 10,
    "start_time": "2021-10-11T17:54:05.649Z"
   },
   {
    "duration": 15,
    "start_time": "2021-10-11T17:54:41.346Z"
   },
   {
    "duration": 15,
    "start_time": "2021-10-11T17:54:45.893Z"
   },
   {
    "duration": 11,
    "start_time": "2021-10-11T17:56:04.971Z"
   },
   {
    "duration": 22,
    "start_time": "2021-10-11T17:56:42.498Z"
   },
   {
    "duration": 14,
    "start_time": "2021-10-11T17:56:45.913Z"
   },
   {
    "duration": 18,
    "start_time": "2021-10-11T17:57:14.863Z"
   },
   {
    "duration": 1358,
    "start_time": "2021-10-11T17:58:53.951Z"
   },
   {
    "duration": 69,
    "start_time": "2021-10-11T17:58:55.312Z"
   },
   {
    "duration": 20,
    "start_time": "2021-10-11T17:58:55.384Z"
   },
   {
    "duration": 10,
    "start_time": "2021-10-11T17:58:55.407Z"
   },
   {
    "duration": 13,
    "start_time": "2021-10-11T17:58:55.419Z"
   },
   {
    "duration": 6,
    "start_time": "2021-10-11T17:58:55.435Z"
   },
   {
    "duration": 11,
    "start_time": "2021-10-11T17:58:55.443Z"
   },
   {
    "duration": 11,
    "start_time": "2021-10-11T17:58:55.456Z"
   },
   {
    "duration": 6,
    "start_time": "2021-10-11T17:58:55.469Z"
   },
   {
    "duration": 5,
    "start_time": "2021-10-11T17:58:55.476Z"
   },
   {
    "duration": 14,
    "start_time": "2021-10-11T17:58:55.482Z"
   },
   {
    "duration": 15,
    "start_time": "2021-10-11T17:58:55.497Z"
   },
   {
    "duration": 4,
    "start_time": "2021-10-11T17:58:55.513Z"
   },
   {
    "duration": 5,
    "start_time": "2021-10-11T17:58:55.550Z"
   },
   {
    "duration": 8,
    "start_time": "2021-10-11T17:58:55.557Z"
   },
   {
    "duration": 9,
    "start_time": "2021-10-11T17:58:55.567Z"
   },
   {
    "duration": 16,
    "start_time": "2021-10-11T17:58:55.578Z"
   },
   {
    "duration": 12,
    "start_time": "2021-10-11T17:58:55.597Z"
   },
   {
    "duration": 17,
    "start_time": "2021-10-11T17:58:55.612Z"
   },
   {
    "duration": 21,
    "start_time": "2021-10-11T17:58:55.631Z"
   },
   {
    "duration": 17,
    "start_time": "2021-10-11T17:58:55.655Z"
   },
   {
    "duration": 17,
    "start_time": "2021-10-11T17:58:55.674Z"
   },
   {
    "duration": 17,
    "start_time": "2021-10-11T17:58:55.696Z"
   },
   {
    "duration": 209,
    "start_time": "2021-10-11T17:58:55.715Z"
   },
   {
    "duration": 163,
    "start_time": "2021-10-11T17:58:55.926Z"
   },
   {
    "duration": 12,
    "start_time": "2021-10-11T17:58:56.091Z"
   },
   {
    "duration": 8,
    "start_time": "2021-10-11T17:58:56.105Z"
   },
   {
    "duration": 11,
    "start_time": "2021-10-11T17:58:56.114Z"
   },
   {
    "duration": 298,
    "start_time": "2021-10-11T17:58:56.127Z"
   },
   {
    "duration": 291,
    "start_time": "2021-10-11T17:58:56.426Z"
   },
   {
    "duration": 411,
    "start_time": "2021-10-11T17:58:56.718Z"
   },
   {
    "duration": 3,
    "start_time": "2021-10-11T17:58:57.131Z"
   },
   {
    "duration": 20,
    "start_time": "2021-10-11T17:58:57.136Z"
   },
   {
    "duration": 293,
    "start_time": "2021-10-11T17:58:57.158Z"
   },
   {
    "duration": 396,
    "start_time": "2021-10-11T17:58:57.453Z"
   },
   {
    "duration": 108,
    "start_time": "2021-10-11T17:58:57.850Z"
   },
   {
    "duration": 298,
    "start_time": "2021-10-11T17:58:57.960Z"
   },
   {
    "duration": 5,
    "start_time": "2021-10-11T17:58:58.259Z"
   },
   {
    "duration": 841,
    "start_time": "2021-10-11T17:58:58.266Z"
   },
   {
    "duration": 10,
    "start_time": "2021-10-11T17:58:59.108Z"
   },
   {
    "duration": 10,
    "start_time": "2021-10-11T17:58:59.119Z"
   },
   {
    "duration": 20,
    "start_time": "2021-10-11T17:58:59.130Z"
   },
   {
    "duration": 141,
    "start_time": "2021-10-11T17:58:59.152Z"
   },
   {
    "duration": 7,
    "start_time": "2021-10-11T17:58:59.295Z"
   },
   {
    "duration": 66,
    "start_time": "2021-10-11T17:58:59.303Z"
   },
   {
    "duration": 20,
    "start_time": "2021-10-11T17:58:59.371Z"
   },
   {
    "duration": 73,
    "start_time": "2021-10-11T17:58:59.392Z"
   },
   {
    "duration": 13,
    "start_time": "2021-10-11T17:58:59.467Z"
   },
   {
    "duration": 75,
    "start_time": "2021-10-11T17:58:59.481Z"
   },
   {
    "duration": 31,
    "start_time": "2021-10-11T17:58:59.558Z"
   },
   {
    "duration": 137,
    "start_time": "2021-10-11T17:58:59.591Z"
   },
   {
    "duration": 19,
    "start_time": "2021-10-11T17:58:59.730Z"
   },
   {
    "duration": 6,
    "start_time": "2021-10-11T17:58:59.751Z"
   },
   {
    "duration": 3,
    "start_time": "2021-10-11T17:58:59.759Z"
   },
   {
    "duration": 10,
    "start_time": "2021-10-11T17:58:59.764Z"
   },
   {
    "duration": 10,
    "start_time": "2021-10-11T17:58:59.776Z"
   },
   {
    "duration": 4,
    "start_time": "2021-10-11T17:58:59.788Z"
   },
   {
    "duration": 6,
    "start_time": "2021-10-11T17:58:59.794Z"
   },
   {
    "duration": 47,
    "start_time": "2021-10-11T17:58:59.802Z"
   },
   {
    "duration": 4,
    "start_time": "2021-10-11T17:58:59.851Z"
   },
   {
    "duration": 8,
    "start_time": "2021-10-11T17:58:59.856Z"
   },
   {
    "duration": 8,
    "start_time": "2021-10-11T17:58:59.865Z"
   },
   {
    "duration": 16,
    "start_time": "2021-10-11T17:58:59.875Z"
   },
   {
    "duration": 17,
    "start_time": "2021-10-11T17:58:59.893Z"
   },
   {
    "duration": 1119,
    "start_time": "2021-10-11T18:05:30.365Z"
   },
   {
    "duration": 65,
    "start_time": "2021-10-11T18:05:31.486Z"
   },
   {
    "duration": 14,
    "start_time": "2021-10-11T18:05:31.553Z"
   },
   {
    "duration": 13,
    "start_time": "2021-10-11T18:05:31.569Z"
   },
   {
    "duration": 14,
    "start_time": "2021-10-11T18:05:31.584Z"
   },
   {
    "duration": 34,
    "start_time": "2021-10-11T18:05:31.601Z"
   },
   {
    "duration": 26,
    "start_time": "2021-10-11T18:05:31.638Z"
   },
   {
    "duration": 18,
    "start_time": "2021-10-11T18:05:31.667Z"
   },
   {
    "duration": 12,
    "start_time": "2021-10-11T18:05:31.687Z"
   },
   {
    "duration": 7,
    "start_time": "2021-10-11T18:05:31.701Z"
   },
   {
    "duration": 16,
    "start_time": "2021-10-11T18:05:31.710Z"
   },
   {
    "duration": 19,
    "start_time": "2021-10-11T18:05:31.728Z"
   },
   {
    "duration": 5,
    "start_time": "2021-10-11T18:05:31.749Z"
   },
   {
    "duration": 9,
    "start_time": "2021-10-11T18:05:31.756Z"
   },
   {
    "duration": 14,
    "start_time": "2021-10-11T18:05:31.767Z"
   },
   {
    "duration": 12,
    "start_time": "2021-10-11T18:05:31.782Z"
   },
   {
    "duration": 13,
    "start_time": "2021-10-11T18:05:31.795Z"
   },
   {
    "duration": 12,
    "start_time": "2021-10-11T18:05:31.810Z"
   },
   {
    "duration": 28,
    "start_time": "2021-10-11T18:05:31.823Z"
   },
   {
    "duration": 13,
    "start_time": "2021-10-11T18:05:31.853Z"
   },
   {
    "duration": 11,
    "start_time": "2021-10-11T18:05:31.868Z"
   },
   {
    "duration": 18,
    "start_time": "2021-10-11T18:05:31.881Z"
   },
   {
    "duration": 9,
    "start_time": "2021-10-11T18:05:31.905Z"
   },
   {
    "duration": 221,
    "start_time": "2021-10-11T18:05:31.917Z"
   },
   {
    "duration": 152,
    "start_time": "2021-10-11T18:05:32.140Z"
   },
   {
    "duration": 9,
    "start_time": "2021-10-11T18:05:32.294Z"
   },
   {
    "duration": 8,
    "start_time": "2021-10-11T18:05:32.306Z"
   },
   {
    "duration": 14,
    "start_time": "2021-10-11T18:05:32.316Z"
   },
   {
    "duration": 313,
    "start_time": "2021-10-11T18:05:32.331Z"
   },
   {
    "duration": 349,
    "start_time": "2021-10-11T18:05:32.646Z"
   },
   {
    "duration": 452,
    "start_time": "2021-10-11T18:05:32.997Z"
   },
   {
    "duration": 5,
    "start_time": "2021-10-11T18:05:33.451Z"
   },
   {
    "duration": 9,
    "start_time": "2021-10-11T18:05:33.457Z"
   },
   {
    "duration": 330,
    "start_time": "2021-10-11T18:05:33.467Z"
   },
   {
    "duration": 380,
    "start_time": "2021-10-11T18:05:33.799Z"
   },
   {
    "duration": 101,
    "start_time": "2021-10-11T18:05:34.181Z"
   },
   {
    "duration": 280,
    "start_time": "2021-10-11T18:05:34.283Z"
   },
   {
    "duration": 5,
    "start_time": "2021-10-11T18:05:34.565Z"
   },
   {
    "duration": 914,
    "start_time": "2021-10-11T18:05:34.571Z"
   },
   {
    "duration": 9,
    "start_time": "2021-10-11T18:05:35.486Z"
   },
   {
    "duration": 22,
    "start_time": "2021-10-11T18:05:35.497Z"
   },
   {
    "duration": 8,
    "start_time": "2021-10-11T18:05:35.520Z"
   },
   {
    "duration": 144,
    "start_time": "2021-10-11T18:05:35.529Z"
   },
   {
    "duration": 30,
    "start_time": "2021-10-11T18:05:35.675Z"
   },
   {
    "duration": 58,
    "start_time": "2021-10-11T18:05:35.706Z"
   },
   {
    "duration": 30,
    "start_time": "2021-10-11T18:05:35.766Z"
   },
   {
    "duration": 72,
    "start_time": "2021-10-11T18:05:35.797Z"
   },
   {
    "duration": 21,
    "start_time": "2021-10-11T18:05:35.871Z"
   },
   {
    "duration": 73,
    "start_time": "2021-10-11T18:05:35.894Z"
   },
   {
    "duration": 57,
    "start_time": "2021-10-11T18:05:35.969Z"
   },
   {
    "duration": 109,
    "start_time": "2021-10-11T18:05:36.029Z"
   },
   {
    "duration": 8,
    "start_time": "2021-10-11T18:05:36.140Z"
   },
   {
    "duration": 24,
    "start_time": "2021-10-11T18:05:36.151Z"
   },
   {
    "duration": 14,
    "start_time": "2021-10-11T18:05:36.177Z"
   },
   {
    "duration": 21,
    "start_time": "2021-10-11T18:05:36.193Z"
   },
   {
    "duration": 31,
    "start_time": "2021-10-11T18:05:36.216Z"
   },
   {
    "duration": 21,
    "start_time": "2021-10-11T18:05:36.250Z"
   },
   {
    "duration": 19,
    "start_time": "2021-10-11T18:05:36.273Z"
   },
   {
    "duration": 25,
    "start_time": "2021-10-11T18:05:36.294Z"
   },
   {
    "duration": 22,
    "start_time": "2021-10-11T18:05:36.321Z"
   },
   {
    "duration": 26,
    "start_time": "2021-10-11T18:05:36.345Z"
   },
   {
    "duration": 7,
    "start_time": "2021-10-11T18:05:36.373Z"
   },
   {
    "duration": 24,
    "start_time": "2021-10-11T18:05:36.382Z"
   },
   {
    "duration": 37,
    "start_time": "2021-10-11T18:05:36.408Z"
   },
   {
    "duration": 1433,
    "start_time": "2021-10-12T03:38:06.350Z"
   },
   {
    "duration": 67,
    "start_time": "2021-10-12T03:38:07.786Z"
   },
   {
    "duration": 26,
    "start_time": "2021-10-12T03:38:07.856Z"
   },
   {
    "duration": 6,
    "start_time": "2021-10-12T03:38:07.885Z"
   },
   {
    "duration": 16,
    "start_time": "2021-10-12T03:38:07.893Z"
   },
   {
    "duration": 10,
    "start_time": "2021-10-12T03:38:07.911Z"
   },
   {
    "duration": 49,
    "start_time": "2021-10-12T03:38:07.924Z"
   },
   {
    "duration": 17,
    "start_time": "2021-10-12T03:38:07.977Z"
   },
   {
    "duration": 8,
    "start_time": "2021-10-12T03:38:07.997Z"
   },
   {
    "duration": 7,
    "start_time": "2021-10-12T03:38:08.007Z"
   },
   {
    "duration": 52,
    "start_time": "2021-10-12T03:38:08.016Z"
   },
   {
    "duration": 14,
    "start_time": "2021-10-12T03:38:08.071Z"
   },
   {
    "duration": 5,
    "start_time": "2021-10-12T03:38:08.088Z"
   },
   {
    "duration": 8,
    "start_time": "2021-10-12T03:38:08.096Z"
   },
   {
    "duration": 54,
    "start_time": "2021-10-12T03:38:08.106Z"
   },
   {
    "duration": 8,
    "start_time": "2021-10-12T03:38:08.163Z"
   },
   {
    "duration": 13,
    "start_time": "2021-10-12T03:38:08.173Z"
   },
   {
    "duration": 15,
    "start_time": "2021-10-12T03:38:08.188Z"
   },
   {
    "duration": 10,
    "start_time": "2021-10-12T03:38:08.206Z"
   },
   {
    "duration": 47,
    "start_time": "2021-10-12T03:38:08.218Z"
   },
   {
    "duration": 10,
    "start_time": "2021-10-12T03:38:08.270Z"
   },
   {
    "duration": 11,
    "start_time": "2021-10-12T03:38:08.282Z"
   },
   {
    "duration": 7,
    "start_time": "2021-10-12T03:38:08.300Z"
   },
   {
    "duration": 397,
    "start_time": "2021-10-12T03:38:08.310Z"
   },
   {
    "duration": 281,
    "start_time": "2021-10-12T03:38:08.710Z"
   },
   {
    "duration": 21,
    "start_time": "2021-10-12T03:38:08.993Z"
   },
   {
    "duration": 12,
    "start_time": "2021-10-12T03:38:09.016Z"
   },
   {
    "duration": 13,
    "start_time": "2021-10-12T03:38:09.030Z"
   },
   {
    "duration": 502,
    "start_time": "2021-10-12T03:38:09.045Z"
   },
   {
    "duration": 485,
    "start_time": "2021-10-12T03:38:09.549Z"
   },
   {
    "duration": 604,
    "start_time": "2021-10-12T03:38:10.036Z"
   },
   {
    "duration": 5,
    "start_time": "2021-10-12T03:38:10.642Z"
   },
   {
    "duration": 14,
    "start_time": "2021-10-12T03:38:10.649Z"
   },
   {
    "duration": 513,
    "start_time": "2021-10-12T03:38:10.666Z"
   },
   {
    "duration": 567,
    "start_time": "2021-10-12T03:38:11.182Z"
   },
   {
    "duration": 212,
    "start_time": "2021-10-12T03:38:11.751Z"
   },
   {
    "duration": 437,
    "start_time": "2021-10-12T03:38:11.966Z"
   },
   {
    "duration": 7,
    "start_time": "2021-10-12T03:38:12.406Z"
   },
   {
    "duration": 1451,
    "start_time": "2021-10-12T03:38:12.415Z"
   },
   {
    "duration": 15,
    "start_time": "2021-10-12T03:38:13.869Z"
   },
   {
    "duration": 6,
    "start_time": "2021-10-12T03:38:13.886Z"
   },
   {
    "duration": 8,
    "start_time": "2021-10-12T03:38:13.894Z"
   },
   {
    "duration": 202,
    "start_time": "2021-10-12T03:38:13.904Z"
   },
   {
    "duration": 6,
    "start_time": "2021-10-12T03:38:14.109Z"
   },
   {
    "duration": 107,
    "start_time": "2021-10-12T03:38:14.117Z"
   },
   {
    "duration": 38,
    "start_time": "2021-10-12T03:38:14.226Z"
   },
   {
    "duration": 117,
    "start_time": "2021-10-12T03:38:14.268Z"
   },
   {
    "duration": 24,
    "start_time": "2021-10-12T03:38:14.388Z"
   },
   {
    "duration": 128,
    "start_time": "2021-10-12T03:38:14.415Z"
   },
   {
    "duration": 60,
    "start_time": "2021-10-12T03:38:14.546Z"
   },
   {
    "duration": 238,
    "start_time": "2021-10-12T03:38:14.608Z"
   },
   {
    "duration": 5,
    "start_time": "2021-10-12T03:38:14.849Z"
   },
   {
    "duration": 14,
    "start_time": "2021-10-12T03:38:14.857Z"
   },
   {
    "duration": 4,
    "start_time": "2021-10-12T03:38:14.874Z"
   },
   {
    "duration": 13,
    "start_time": "2021-10-12T03:38:14.880Z"
   },
   {
    "duration": 15,
    "start_time": "2021-10-12T03:38:14.895Z"
   },
   {
    "duration": 6,
    "start_time": "2021-10-12T03:38:14.913Z"
   },
   {
    "duration": 43,
    "start_time": "2021-10-12T03:38:14.921Z"
   },
   {
    "duration": 13,
    "start_time": "2021-10-12T03:38:14.968Z"
   },
   {
    "duration": 10,
    "start_time": "2021-10-12T03:38:14.983Z"
   },
   {
    "duration": 11,
    "start_time": "2021-10-12T03:38:14.996Z"
   },
   {
    "duration": 15,
    "start_time": "2021-10-12T03:38:15.010Z"
   },
   {
    "duration": 51,
    "start_time": "2021-10-12T03:38:15.027Z"
   },
   {
    "duration": 26,
    "start_time": "2021-10-12T03:38:15.081Z"
   },
   {
    "duration": 1061,
    "start_time": "2021-10-12T06:18:10.523Z"
   },
   {
    "duration": 65,
    "start_time": "2021-10-12T06:18:11.588Z"
   },
   {
    "duration": 13,
    "start_time": "2021-10-12T06:18:11.655Z"
   },
   {
    "duration": 4,
    "start_time": "2021-10-12T06:18:11.670Z"
   },
   {
    "duration": 8,
    "start_time": "2021-10-12T06:18:11.676Z"
   },
   {
    "duration": 5,
    "start_time": "2021-10-12T06:18:11.686Z"
   },
   {
    "duration": 11,
    "start_time": "2021-10-12T06:18:11.693Z"
   },
   {
    "duration": 13,
    "start_time": "2021-10-12T06:18:11.706Z"
   },
   {
    "duration": 27,
    "start_time": "2021-10-12T06:18:11.720Z"
   },
   {
    "duration": 5,
    "start_time": "2021-10-12T06:18:11.748Z"
   },
   {
    "duration": 9,
    "start_time": "2021-10-12T06:18:11.754Z"
   },
   {
    "duration": 9,
    "start_time": "2021-10-12T06:18:11.765Z"
   },
   {
    "duration": 8,
    "start_time": "2021-10-12T06:18:11.776Z"
   },
   {
    "duration": 6,
    "start_time": "2021-10-12T06:18:11.786Z"
   },
   {
    "duration": 11,
    "start_time": "2021-10-12T06:18:11.794Z"
   },
   {
    "duration": 6,
    "start_time": "2021-10-12T06:18:11.807Z"
   },
   {
    "duration": 31,
    "start_time": "2021-10-12T06:18:11.814Z"
   },
   {
    "duration": 10,
    "start_time": "2021-10-12T06:18:11.847Z"
   },
   {
    "duration": 6,
    "start_time": "2021-10-12T06:18:11.858Z"
   },
   {
    "duration": 7,
    "start_time": "2021-10-12T06:18:11.866Z"
   },
   {
    "duration": 8,
    "start_time": "2021-10-12T06:18:11.874Z"
   },
   {
    "duration": 13,
    "start_time": "2021-10-12T06:18:11.885Z"
   },
   {
    "duration": 8,
    "start_time": "2021-10-12T06:18:11.901Z"
   },
   {
    "duration": 216,
    "start_time": "2021-10-12T06:18:11.911Z"
   },
   {
    "duration": 159,
    "start_time": "2021-10-12T06:18:12.128Z"
   },
   {
    "duration": 7,
    "start_time": "2021-10-12T06:18:12.289Z"
   },
   {
    "duration": 9,
    "start_time": "2021-10-12T06:18:12.298Z"
   },
   {
    "duration": 7,
    "start_time": "2021-10-12T06:18:12.308Z"
   },
   {
    "duration": 286,
    "start_time": "2021-10-12T06:18:12.316Z"
   },
   {
    "duration": 265,
    "start_time": "2021-10-12T06:18:12.603Z"
   },
   {
    "duration": 369,
    "start_time": "2021-10-12T06:18:12.870Z"
   },
   {
    "duration": 3,
    "start_time": "2021-10-12T06:18:13.245Z"
   },
   {
    "duration": 9,
    "start_time": "2021-10-12T06:18:13.250Z"
   },
   {
    "duration": 265,
    "start_time": "2021-10-12T06:18:13.261Z"
   },
   {
    "duration": 388,
    "start_time": "2021-10-12T06:18:13.528Z"
   },
   {
    "duration": 102,
    "start_time": "2021-10-12T06:18:13.917Z"
   },
   {
    "duration": 309,
    "start_time": "2021-10-12T06:18:14.021Z"
   },
   {
    "duration": 13,
    "start_time": "2021-10-12T06:18:14.332Z"
   },
   {
    "duration": 935,
    "start_time": "2021-10-12T06:18:14.347Z"
   },
   {
    "duration": 8,
    "start_time": "2021-10-12T06:18:15.284Z"
   },
   {
    "duration": 5,
    "start_time": "2021-10-12T06:18:15.294Z"
   },
   {
    "duration": 16,
    "start_time": "2021-10-12T06:18:15.301Z"
   },
   {
    "duration": 126,
    "start_time": "2021-10-12T06:18:15.318Z"
   },
   {
    "duration": 8,
    "start_time": "2021-10-12T06:18:15.446Z"
   },
   {
    "duration": 61,
    "start_time": "2021-10-12T06:18:15.455Z"
   },
   {
    "duration": 30,
    "start_time": "2021-10-12T06:18:15.517Z"
   },
   {
    "duration": 65,
    "start_time": "2021-10-12T06:18:15.549Z"
   },
   {
    "duration": 23,
    "start_time": "2021-10-12T06:18:15.616Z"
   },
   {
    "duration": 57,
    "start_time": "2021-10-12T06:18:15.641Z"
   },
   {
    "duration": 52,
    "start_time": "2021-10-12T06:18:15.699Z"
   },
   {
    "duration": 109,
    "start_time": "2021-10-12T06:18:15.753Z"
   },
   {
    "duration": 3,
    "start_time": "2021-10-12T06:18:15.864Z"
   },
   {
    "duration": 22,
    "start_time": "2021-10-12T06:18:15.869Z"
   },
   {
    "duration": 19,
    "start_time": "2021-10-12T06:18:15.893Z"
   },
   {
    "duration": 17,
    "start_time": "2021-10-12T06:18:15.914Z"
   },
   {
    "duration": 27,
    "start_time": "2021-10-12T06:18:15.933Z"
   },
   {
    "duration": 24,
    "start_time": "2021-10-12T06:18:15.961Z"
   },
   {
    "duration": 22,
    "start_time": "2021-10-12T06:18:15.986Z"
   },
   {
    "duration": 25,
    "start_time": "2021-10-12T06:18:16.009Z"
   },
   {
    "duration": 18,
    "start_time": "2021-10-12T06:18:16.036Z"
   },
   {
    "duration": 21,
    "start_time": "2021-10-12T06:18:16.055Z"
   },
   {
    "duration": 22,
    "start_time": "2021-10-12T06:18:16.077Z"
   },
   {
    "duration": 20,
    "start_time": "2021-10-12T06:18:16.100Z"
   },
   {
    "duration": 22,
    "start_time": "2021-10-12T06:18:16.122Z"
   }
  ],
  "kernelspec": {
   "display_name": "Python 3",
   "language": "python",
   "name": "python3"
  },
  "language_info": {
   "codemirror_mode": {
    "name": "ipython",
    "version": 3
   },
   "file_extension": ".py",
   "mimetype": "text/x-python",
   "name": "python",
   "nbconvert_exporter": "python",
   "pygments_lexer": "ipython3",
   "version": "3.8.8"
  },
  "toc": {
   "base_numbering": 1,
   "nav_menu": {},
   "number_sections": true,
   "sideBar": true,
   "skip_h1_title": true,
   "title_cell": "Содержание",
   "title_sidebar": "Contents",
   "toc_cell": true,
   "toc_position": {},
   "toc_section_display": true,
   "toc_window_display": true
  }
 },
 "nbformat": 4,
 "nbformat_minor": 2
}
